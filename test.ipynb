{
 "metadata": {
  "language_info": {
   "codemirror_mode": {
    "name": "ipython",
    "version": 3
   },
   "file_extension": ".py",
   "mimetype": "text/x-python",
   "name": "python",
   "nbconvert_exporter": "python",
   "pygments_lexer": "ipython3",
   "version": "3.7.6-final"
  },
  "orig_nbformat": 2,
  "kernelspec": {
   "name": "python3",
   "display_name": "Python 3.7.6 64-bit ('anaconda3': virtualenv)",
   "metadata": {
    "interpreter": {
     "hash": "8f456ff94fd53e0f817d4a737eee7ddd3fa1df976068730d0458d065112af259"
    }
   }
  }
 },
 "nbformat": 4,
 "nbformat_minor": 2,
 "cells": [
  {
   "cell_type": "code",
   "execution_count": 1,
   "metadata": {},
   "outputs": [],
   "source": [
    "import numpy as np\n",
    "import matplotlib.pyplot as plt\n",
    "\n",
    "\n",
    "from qiskit import QuantumRegister, ClassicalRegister, QuantumCircuit, Aer, execute\n",
    "from qiskit.finance.applications import GaussianConditionalIndependenceModel as GCI\n",
    "\n"
   ]
  },
  {
   "cell_type": "code",
   "execution_count": 24,
   "metadata": {},
   "outputs": [],
   "source": [
    "######################\n",
    "# Problem parameters #\n",
    "######################\n",
    "\n",
    "# Each asset mapped as [default probability, sensitivity o the PDF, loss given default (expressed in '0.000)]\n",
    "\n",
    "problem_size = 2\n",
    "\n",
    "mortgages = [[0.15, 0.1, 100000],\n",
    "             [0.25, 0.05, 200000],\n",
    "             [0.2, 0.07, 300000],\n",
    "             [0.02, 0.01, 400000],\n",
    "             [0.05, 0.05, 300000],\n",
    "             [0.2, 0.03, 390000],\n",
    "             [0.01, 0.01, 100000],\n",
    "             [0.03, 0.09, 120000]]\n",
    "\n",
    "# Get only a subset when making the problem smaller\n",
    "mortgages = mortgages[:problem_size]\n",
    "\n",
    "# Confidence level for VaR and CVaR. On BaselII around 99,9%\n",
    "alpha = 0.05\n",
    "\n",
    "# Mapping parameters\n",
    "# Loss Given Default multiplier (we can't map very big numbers, so we eliminate zeroes, from X00,000 -> X0)\n",
    "lgd_factor = 100000\n",
    "\n",
    "# Z represents our distribution, discretized with n qubits. The more qubits, the merrier. (I.e. the more values we will be able to approximate)\n",
    "n_z = 2\n",
    "z_max = 2\n",
    "z_values = np.linspace(-z_max, z_max, 2**n_z)\n",
    "\n",
    "K = len(mortgages)\n",
    "\n",
    "probability_default = []\n",
    "sensitivity_z = []\n",
    "loss_given_default = []\n",
    "for m in mortgages:\n",
    "    probability_default.append(m[0])\n",
    "    sensitivity_z.append(m[1])\n",
    "    loss_given_default.append(int(m[2] / lgd_factor))   # LGD is simplified, reduced proportionately and taken only the integer part\n"
   ]
  },
  {
   "cell_type": "code",
   "execution_count": 35,
   "metadata": {},
   "outputs": [],
   "source": [
    "uncertainty_model = GCI(n_z, z_max, probability_default, sensitivity_z) \n",
    "\n",
    "classical_expectations_qc = QuantumCircuit(uncertainty_model.num_qubits)\n",
    "classical_expectations_qc.append(uncertainty_model, range(uncertainty_model.num_qubits))\n",
    "classical_expectations_qc.measure_all()\n",
    "shots = 4000\n",
    "job = execute(classical_expectations_qc, backend=Aer.get_backend('qasm_simulator'), shots=shots)\n",
    "# analyze uncertainty circuit and determine exact solutions using Montecarlo over the circuit.\n",
    "# We could compare with a fully classical MC modeling the GCI, but it is too difficult and I'm lazy\n",
    "\n",
    "p_z = np.zeros(2**n_z)\n",
    "p_default = np.zeros(K)\n",
    "values = []\n",
    "probabilities = []\n",
    "num_qubits = uncertainty_model.num_qubits\n",
    "counts = job.result().get_counts()\n",
    "for i in counts:\n",
    "    prob = counts[i]/shots\n",
    "    # extract value of Z and corresponding probability    \n",
    "    # Note Z i mapped in the least significant n_z qubits. We add probabilities for each element in the distribution\n",
    "    i_normal = int(i[-n_z:], 2)\n",
    "    p_z[i_normal] += prob\n",
    "\n",
    "    # determine overall default probability for k \n",
    "    # Most significant qubits represent 1 for default of that asset.\n",
    "    loss = 0\n",
    "    for k in range(K):\n",
    "        if i[K - k - 1] == '1':\n",
    "            p_default[k] += prob\n",
    "            loss += loss_given_default[k]\n",
    "    values += [loss]\n",
    "    probabilities += [prob]   \n",
    "\n",
    "\n",
    "values = np.array(values)\n",
    "probabilities = np.array(probabilities)\n",
    "    \n",
    "# L = λ1*X1(Z) + λ2*X2(Z) + ... + λn*Xn(Z)\n",
    "expected_loss = np.dot(values, probabilities)\n",
    "\n",
    "losses = np.sort(np.unique(values))\n",
    "pdf = np.zeros(len(losses))\n",
    "for i, v in enumerate(losses):\n",
    "    pdf[i] += sum(probabilities[values == v])\n",
    "cdf = np.cumsum(pdf)\n",
    "\n",
    "i_var = np.argmax(cdf >= 1-alpha)\n",
    "exact_var = losses[i_var]\n",
    "exact_cvar = np.dot(pdf[(i_var+1):], losses[(i_var+1):])/sum(pdf[(i_var+1):])\n",
    "\n",
    "# Calculate P[L <= VaR[L]]\n",
    "alpha_point = np.where(values == exact_var)[0].min()\n",
    "p_l_less_than_var = cdf[exact_var]"
   ]
  },
  {
   "cell_type": "code",
   "execution_count": 36,
   "metadata": {},
   "outputs": [
    {
     "output_type": "execute_result",
     "data": {
      "text/plain": [
       "0.95775"
      ]
     },
     "metadata": {},
     "execution_count": 36
    }
   ],
   "source": [
    "cdf[exact_var]"
   ]
  },
  {
   "cell_type": "code",
   "execution_count": 29,
   "metadata": {},
   "outputs": [
    {
     "output_type": "stream",
     "name": "stdout",
     "text": [
      "LGD:  [1, 2]  Total Assets value: $      300,000\nAssets:  2\nAssets default Probabilities:  [0.15, 0.25]\nExpected Loss E[L]:                $       61,225\nValue at Risk VaR[L](0.05):        $      200,000\nP[L <= VaR[L]](0.05):              0.7680\nConditional Value at Risk CVaR[L]: $      300,000\n"
     ]
    }
   ],
   "source": [
    "\n",
    "print('LGD: ', loss_given_default, ' Total Assets value: $ {0:12,.0f}'.format(sum(loss_given_default)*lgd_factor))\n",
    "print('Assets: ', K)\n",
    "print('Assets default Probabilities: ', probability_default)\n",
    "print('Expected Loss E[L]:                $ {0:12,.0f}'.format(expected_loss*lgd_factor))\n",
    "print('Value at Risk VaR[L](%.2f):        $ {0:12,.0f}'.format((exact_var*lgd_factor)) % (alpha))\n",
    "print('P[L <= VaR[L]](%.2f):              %.4f' % (alpha, p_l_less_than_var))\n",
    "print('Conditional Value at Risk CVaR[L]: $ {0:12,.0f}'.format(exact_cvar*lgd_factor))\n"
   ]
  },
  {
   "cell_type": "code",
   "execution_count": 31,
   "metadata": {},
   "outputs": [
    {
     "output_type": "execute_result",
     "data": {
      "text/plain": [
       "0.9604999999999999"
      ]
     },
     "metadata": {},
     "execution_count": 31
    }
   ],
   "source": [
    "cdf[exact_var]"
   ]
  },
  {
   "cell_type": "code",
   "execution_count": 25,
   "metadata": {},
   "outputs": [],
   "source": [
    "uncertainty_model = GCI(n_z, z_max, probability_default, sensitivity_z) \n",
    "job = execute(uncertainty_model, backend=Aer.get_backend('statevector_simulator'))\n",
    "\n",
    "p_z = np.zeros(2**n_z)\n",
    "p_default = np.zeros(K)\n",
    "values = []\n",
    "probabilities = []\n",
    "num_qubits = uncertainty_model.num_qubits\n",
    "for i, a in enumerate(job.result().get_statevector()):\n",
    "    b = ('{0:0%sb}' % num_qubits).format(i)\n",
    "    prob = np.abs(a)**2\n",
    "    i_normal = int(b[-n_z:], 2)\n",
    "    p_z[i_normal] += prob\n",
    "\n",
    "    loss = 0\n",
    "    for k in range(K):\n",
    "        if b[K - k - 1] == '1':\n",
    "            p_default[k] += prob\n",
    "            loss += loss_given_default[k]\n",
    "    values += [loss]\n",
    "    probabilities += [prob]   \n",
    "\n",
    "values = np.array(values)\n",
    "probabilities = np.array(probabilities)\n",
    "    \n",
    "# L = λ1*X1(Z) + λ2*X2(Z) + ... + λn*Xn(Z)\n",
    "expected_loss = np.dot(values, probabilities)\n",
    "\n",
    "losses = np.sort(np.unique(values))\n",
    "pdf = np.zeros(len(losses))\n",
    "for i, v in enumerate(losses):\n",
    "    pdf[i] += sum(probabilities[values == v])\n",
    "cdf = np.cumsum(pdf)\n",
    "\n",
    "i_var = np.argmax(cdf >= 1-alpha)\n",
    "exact_var = losses[i_var]\n",
    "exact_cvar = np.dot(pdf[(i_var+1):], losses[(i_var+1):])/sum(pdf[(i_var+1):])\n",
    "\n",
    "# Calculate P[L <= VaR[L]]\n",
    "alpha_point = np.where(values == exact_var)[0].min()\n",
    "p_l_less_than_var = np.sum(probabilities[:alpha_point])"
   ]
  },
  {
   "cell_type": "code",
   "execution_count": 26,
   "metadata": {},
   "outputs": [
    {
     "output_type": "stream",
     "name": "stdout",
     "text": [
      "LGD:  [1, 2]  Total Assets value: $      300,000\nAssets:  2\nAssets default Probabilities:  [0.15, 0.25]\nExpected Loss E[L]:                $       64,087\nValue at Risk VaR[L](0.05):        $      200,000\nP[L <= VaR[L]](0.05):              0.7521\nConditional Value at Risk CVaR[L]: $      300,000\n"
     ]
    }
   ],
   "source": [
    "\n",
    "print('LGD: ', loss_given_default, ' Total Assets value: $ {0:12,.0f}'.format(sum(loss_given_default)*lgd_factor))\n",
    "print('Assets: ', K)\n",
    "print('Assets default Probabilities: ', probability_default)\n",
    "print('Expected Loss E[L]:                $ {0:12,.0f}'.format(expected_loss*lgd_factor))\n",
    "print('Value at Risk VaR[L](%.2f):        $ {0:12,.0f}'.format((exact_var*lgd_factor)) % (alpha))\n",
    "print('P[L <= VaR[L]](%.2f):              %.4f' % (alpha, p_l_less_than_var))\n",
    "print('Conditional Value at Risk CVaR[L]: $ {0:12,.0f}'.format(exact_cvar*lgd_factor))\n"
   ]
  },
  {
   "cell_type": "code",
   "execution_count": 27,
   "metadata": {},
   "outputs": [
    {
     "output_type": "execute_result",
     "data": {
      "text/plain": [
       "0.9590895808630026"
      ]
     },
     "metadata": {},
     "execution_count": 27
    }
   ],
   "source": [
    "cdf[exact_var]"
   ]
  },
  {
   "source": [
    "To this extent, an operator $\\mathcal{Q} = \\mathcal{A} \\mathcal{S}_0 \\mathcal{A}^\\dagger \\mathcal{S}_f,$ is defined where \n",
    "\n",
    "and $ \\mathcal{S}_0 = \\mathcal{I-2} |0\\rangle_{n+1}\n",
    "\\langle0|_{n+1} $"
   ],
   "cell_type": "markdown",
   "metadata": {}
  },
  {
   "source": [
    "$$ \\mathcal{S} \\psi_0 = \\mathcal{I-2} |\\psi_0\\rangle_n\\langle\\psi_0|_n |0\\rangle\\langle0|$$ "
   ],
   "cell_type": "markdown",
   "metadata": {}
  },
  {
   "cell_type": "code",
   "execution_count": null,
   "metadata": {},
   "outputs": [],
   "source": []
  }
 ]
}