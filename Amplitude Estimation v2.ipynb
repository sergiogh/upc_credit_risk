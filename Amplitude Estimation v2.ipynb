{
 "cells": [
  {
   "cell_type": "code",
   "execution_count": 17,
   "metadata": {},
   "outputs": [],
   "source": [
    "from qiskit import Aer, QuantumCircuit, QuantumRegister, ClassicalRegister, execute\n",
    "from qiskit.aqua.algorithms import AmplitudeEstimation\n",
    "from qiskit.circuit.library import QFT, GroverOperator\n",
    "\n",
    "from qiskit.aqua.algorithms.amplitude_estimators.q_factory import QFactory\n",
    "\n",
    "import math\n",
    "import numpy as np\n",
    "import matplotlib.pyplot as plt"
   ]
  },
  {
   "cell_type": "code",
   "execution_count": 20,
   "metadata": {},
   "outputs": [],
   "source": [
    "evaluation_qubits = 4\n",
    "\n",
    "probability = 0.3\n",
    "theta = 2 * np.arcsin(np.sqrt(probability))\n",
    "\n",
    "evaluation_registry = QuantumRegister(evaluation_qubits, 'evaluation')\n",
    "a_registry = QuantumRegister(1, 'q')"
   ]
  },
  {
   "cell_type": "markdown",
   "metadata": {},
   "source": [
    "## First with the Qiskit function"
   ]
  },
  {
   "cell_type": "code",
   "execution_count": 21,
   "metadata": {},
   "outputs": [
    {
     "output_type": "stream",
     "name": "stdout",
     "text": [
      "{'0': 0.7, '1': 0.3}\n"
     ]
    }
   ],
   "source": [
    "a_factory =  QuantumCircuit(a_registry)\n",
    "a_factory.ry(theta, a_registry[0])\n",
    "backend = Aer.get_backend('statevector_simulator')\n",
    "job = execute(a_factory, backend, shots=1024)\n",
    "counts = job.result().get_counts()\n",
    "print(counts)"
   ]
  },
  {
   "cell_type": "code",
   "execution_count": 22,
   "metadata": {},
   "outputs": [],
   "source": [
    "ae = AmplitudeEstimation(evaluation_qubits, a_factory)\n",
    "ae_result = ae.run(quantum_instance=Aer.get_backend('qasm_simulator'))"
   ]
  },
  {
   "cell_type": "code",
   "execution_count": 23,
   "metadata": {},
   "outputs": [
    {
     "output_type": "execute_result",
     "data": {
      "text/plain": [
       "{'a_estimation': 0.3086583, 'confidence_interval': [0.2966933947544602, 0.3209090685133366], 'estimation': 0.3086583, 'num_oracle_queries': 15360, 'ml_value': 0.317631083098058, 'mapped_a_samples': [0.1464466, 0.3086583, 0.5, 0.6913417, 0.8535534], 'probabilities': [0.0029296875, 0.9921875, 0.0029296875, 0.0009765625, 0.0009765625], 'shots': 1024, 'mle': 0.317631083098058, 'circuit_result': {'0010': 2, '0011': 1, '0100': 1, '0101': 1, '0111': 2, '1010': 1, '1011': 520, '1100': 496}, 'a_samples': [(0.1464466, 0.0029296875), (0.3086583, 0.9921875), (0.5, 0.0029296875), (0.6913417, 0.0009765625), (0.8535534, 0.0009765625)], 'y_measurements': [(2, 0.0009765625), (3, 0.484375), (4, 0.001953125), (5, 0.0009765625), (10, 0.0009765625), (12, 0.0009765625), (13, 0.5078125), (14, 0.001953125)], 'mapped_values': [0.1464466, 0.3086583, 0.5, 0.6913417, 0.8535534], 'max_probability': 0.9921875}"
      ]
     },
     "metadata": {},
     "execution_count": 23
    }
   ],
   "source": [
    "ae_result"
   ]
  },
  {
   "cell_type": "code",
   "execution_count": 24,
   "metadata": {},
   "outputs": [
    {
     "output_type": "display_data",
     "data": {
      "text/plain": "<Figure size 432x288 with 1 Axes>",
      "image/svg+xml": "<?xml version=\"1.0\" encoding=\"utf-8\" standalone=\"no\"?>\n<!DOCTYPE svg PUBLIC \"-//W3C//DTD SVG 1.1//EN\"\n  \"http://www.w3.org/Graphics/SVG/1.1/DTD/svg11.dtd\">\n<!-- Created with matplotlib (https://matplotlib.org/) -->\n<svg height=\"270.754844pt\" version=\"1.1\" viewBox=\"0 0 408.115625 270.754844\" width=\"408.115625pt\" xmlns=\"http://www.w3.org/2000/svg\" xmlns:xlink=\"http://www.w3.org/1999/xlink\">\n <metadata>\n  <rdf:RDF xmlns:cc=\"http://creativecommons.org/ns#\" xmlns:dc=\"http://purl.org/dc/elements/1.1/\" xmlns:rdf=\"http://www.w3.org/1999/02/22-rdf-syntax-ns#\">\n   <cc:Work>\n    <dc:type rdf:resource=\"http://purl.org/dc/dcmitype/StillImage\"/>\n    <dc:date>2021-02-09T20:26:09.098934</dc:date>\n    <dc:format>image/svg+xml</dc:format>\n    <dc:creator>\n     <cc:Agent>\n      <dc:title>Matplotlib v3.3.1, https://matplotlib.org/</dc:title>\n     </cc:Agent>\n    </dc:creator>\n   </cc:Work>\n  </rdf:RDF>\n </metadata>\n <defs>\n  <style type=\"text/css\">*{stroke-linecap:butt;stroke-linejoin:round;}</style>\n </defs>\n <g id=\"figure_1\">\n  <g id=\"patch_1\">\n   <path d=\"M 0 270.754844 \nL 408.115625 270.754844 \nL 408.115625 0 \nL 0 0 \nz\n\" style=\"fill:none;\"/>\n  </g>\n  <g id=\"axes_1\">\n   <g id=\"patch_2\">\n    <path d=\"M 66.115625 242.037656 \nL 400.915625 242.037656 \nL 400.915625 24.597656 \nL 66.115625 24.597656 \nz\n\" style=\"fill:#ffffff;\"/>\n   </g>\n   <g id=\"patch_3\">\n    <path clip-path=\"url(#p615695cc6c)\" d=\"M 81.333807 242.037656 \nL 119.044261 242.037656 \nL 119.044261 241.400625 \nL 81.333807 241.400625 \nz\n\" style=\"fill:#1f77b4;\"/>\n   </g>\n   <g id=\"patch_4\">\n    <path clip-path=\"url(#p615695cc6c)\" d=\"M 142.504575 242.037656 \nL 180.215029 242.037656 \nL 180.215029 26.296406 \nL 142.504575 26.296406 \nz\n\" style=\"fill:#1f77b4;\"/>\n   </g>\n   <g id=\"patch_5\">\n    <path clip-path=\"url(#p615695cc6c)\" d=\"M 214.660398 242.037656 \nL 252.370852 242.037656 \nL 252.370852 241.400625 \nL 214.660398 241.400625 \nz\n\" style=\"fill:#1f77b4;\"/>\n   </g>\n   <g id=\"patch_6\">\n    <path clip-path=\"url(#p615695cc6c)\" d=\"M 286.816221 242.037656 \nL 324.526675 242.037656 \nL 324.526675 241.825313 \nL 286.816221 241.825313 \nz\n\" style=\"fill:#1f77b4;\"/>\n   </g>\n   <g id=\"patch_7\">\n    <path clip-path=\"url(#p615695cc6c)\" d=\"M 347.986989 242.037656 \nL 385.697443 242.037656 \nL 385.697443 241.825313 \nL 347.986989 241.825313 \nz\n\" style=\"fill:#1f77b4;\"/>\n   </g>\n   <g id=\"matplotlib.axis_1\">\n    <g id=\"xtick_1\">\n     <g id=\"line2d_1\">\n      <path clip-path=\"url(#p615695cc6c)\" d=\"M 82.67381 242.037656 \nL 82.67381 24.597656 \n\" style=\"fill:none;stroke:#b0b0b0;stroke-linecap:square;stroke-width:0.8;\"/>\n     </g>\n     <g id=\"line2d_2\">\n      <defs>\n       <path d=\"M 0 0 \nL 0 3.5 \n\" id=\"m9a21551e57\" style=\"stroke:#000000;stroke-width:0.8;\"/>\n      </defs>\n      <g>\n       <use style=\"stroke:#000000;stroke-width:0.8;\" x=\"82.67381\" xlink:href=\"#m9a21551e57\" y=\"242.037656\"/>\n      </g>\n     </g>\n     <g id=\"text_1\">\n      <!-- 0.1 -->\n      <g transform=\"translate(70.746466 260.435313)scale(0.15 -0.15)\">\n       <defs>\n        <path d=\"M 31.78125 66.40625 \nQ 24.171875 66.40625 20.328125 58.90625 \nQ 16.5 51.421875 16.5 36.375 \nQ 16.5 21.390625 20.328125 13.890625 \nQ 24.171875 6.390625 31.78125 6.390625 \nQ 39.453125 6.390625 43.28125 13.890625 \nQ 47.125 21.390625 47.125 36.375 \nQ 47.125 51.421875 43.28125 58.90625 \nQ 39.453125 66.40625 31.78125 66.40625 \nz\nM 31.78125 74.21875 \nQ 44.046875 74.21875 50.515625 64.515625 \nQ 56.984375 54.828125 56.984375 36.375 \nQ 56.984375 17.96875 50.515625 8.265625 \nQ 44.046875 -1.421875 31.78125 -1.421875 \nQ 19.53125 -1.421875 13.0625 8.265625 \nQ 6.59375 17.96875 6.59375 36.375 \nQ 6.59375 54.828125 13.0625 64.515625 \nQ 19.53125 74.21875 31.78125 74.21875 \nz\n\" id=\"DejaVuSans-48\"/>\n        <path d=\"M 10.6875 12.40625 \nL 21 12.40625 \nL 21 0 \nL 10.6875 0 \nz\n\" id=\"DejaVuSans-46\"/>\n        <path d=\"M 12.40625 8.296875 \nL 28.515625 8.296875 \nL 28.515625 63.921875 \nL 10.984375 60.40625 \nL 10.984375 69.390625 \nL 28.421875 72.90625 \nL 38.28125 72.90625 \nL 38.28125 8.296875 \nL 54.390625 8.296875 \nL 54.390625 0 \nL 12.40625 0 \nz\n\" id=\"DejaVuSans-49\"/>\n       </defs>\n       <use xlink:href=\"#DejaVuSans-48\"/>\n       <use x=\"63.623047\" xlink:href=\"#DejaVuSans-46\"/>\n       <use x=\"95.410156\" xlink:href=\"#DejaVuSans-49\"/>\n      </g>\n     </g>\n    </g>\n    <g id=\"xtick_2\">\n     <g id=\"line2d_3\">\n      <path clip-path=\"url(#p615695cc6c)\" d=\"M 120.384264 242.037656 \nL 120.384264 24.597656 \n\" style=\"fill:none;stroke:#b0b0b0;stroke-linecap:square;stroke-width:0.8;\"/>\n     </g>\n     <g id=\"line2d_4\">\n      <g>\n       <use style=\"stroke:#000000;stroke-width:0.8;\" x=\"120.384264\" xlink:href=\"#m9a21551e57\" y=\"242.037656\"/>\n      </g>\n     </g>\n     <g id=\"text_2\">\n      <!-- 0.2 -->\n      <g transform=\"translate(108.45692 260.435313)scale(0.15 -0.15)\">\n       <defs>\n        <path d=\"M 19.1875 8.296875 \nL 53.609375 8.296875 \nL 53.609375 0 \nL 7.328125 0 \nL 7.328125 8.296875 \nQ 12.9375 14.109375 22.625 23.890625 \nQ 32.328125 33.6875 34.8125 36.53125 \nQ 39.546875 41.84375 41.421875 45.53125 \nQ 43.3125 49.21875 43.3125 52.78125 \nQ 43.3125 58.59375 39.234375 62.25 \nQ 35.15625 65.921875 28.609375 65.921875 \nQ 23.96875 65.921875 18.8125 64.3125 \nQ 13.671875 62.703125 7.8125 59.421875 \nL 7.8125 69.390625 \nQ 13.765625 71.78125 18.9375 73 \nQ 24.125 74.21875 28.421875 74.21875 \nQ 39.75 74.21875 46.484375 68.546875 \nQ 53.21875 62.890625 53.21875 53.421875 \nQ 53.21875 48.921875 51.53125 44.890625 \nQ 49.859375 40.875 45.40625 35.40625 \nQ 44.1875 33.984375 37.640625 27.21875 \nQ 31.109375 20.453125 19.1875 8.296875 \nz\n\" id=\"DejaVuSans-50\"/>\n       </defs>\n       <use xlink:href=\"#DejaVuSans-48\"/>\n       <use x=\"63.623047\" xlink:href=\"#DejaVuSans-46\"/>\n       <use x=\"95.410156\" xlink:href=\"#DejaVuSans-50\"/>\n      </g>\n     </g>\n    </g>\n    <g id=\"xtick_3\">\n     <g id=\"line2d_5\">\n      <path clip-path=\"url(#p615695cc6c)\" d=\"M 158.094718 242.037656 \nL 158.094718 24.597656 \n\" style=\"fill:none;stroke:#b0b0b0;stroke-linecap:square;stroke-width:0.8;\"/>\n     </g>\n     <g id=\"line2d_6\">\n      <g>\n       <use style=\"stroke:#000000;stroke-width:0.8;\" x=\"158.094718\" xlink:href=\"#m9a21551e57\" y=\"242.037656\"/>\n      </g>\n     </g>\n     <g id=\"text_3\">\n      <!-- 0.3 -->\n      <g transform=\"translate(146.167374 260.435313)scale(0.15 -0.15)\">\n       <defs>\n        <path d=\"M 40.578125 39.3125 \nQ 47.65625 37.796875 51.625 33 \nQ 55.609375 28.21875 55.609375 21.1875 \nQ 55.609375 10.40625 48.1875 4.484375 \nQ 40.765625 -1.421875 27.09375 -1.421875 \nQ 22.515625 -1.421875 17.65625 -0.515625 \nQ 12.796875 0.390625 7.625 2.203125 \nL 7.625 11.71875 \nQ 11.71875 9.328125 16.59375 8.109375 \nQ 21.484375 6.890625 26.8125 6.890625 \nQ 36.078125 6.890625 40.9375 10.546875 \nQ 45.796875 14.203125 45.796875 21.1875 \nQ 45.796875 27.640625 41.28125 31.265625 \nQ 36.765625 34.90625 28.71875 34.90625 \nL 20.21875 34.90625 \nL 20.21875 43.015625 \nL 29.109375 43.015625 \nQ 36.375 43.015625 40.234375 45.921875 \nQ 44.09375 48.828125 44.09375 54.296875 \nQ 44.09375 59.90625 40.109375 62.90625 \nQ 36.140625 65.921875 28.71875 65.921875 \nQ 24.65625 65.921875 20.015625 65.03125 \nQ 15.375 64.15625 9.8125 62.3125 \nL 9.8125 71.09375 \nQ 15.4375 72.65625 20.34375 73.4375 \nQ 25.25 74.21875 29.59375 74.21875 \nQ 40.828125 74.21875 47.359375 69.109375 \nQ 53.90625 64.015625 53.90625 55.328125 \nQ 53.90625 49.265625 50.4375 45.09375 \nQ 46.96875 40.921875 40.578125 39.3125 \nz\n\" id=\"DejaVuSans-51\"/>\n       </defs>\n       <use xlink:href=\"#DejaVuSans-48\"/>\n       <use x=\"63.623047\" xlink:href=\"#DejaVuSans-46\"/>\n       <use x=\"95.410156\" xlink:href=\"#DejaVuSans-51\"/>\n      </g>\n     </g>\n    </g>\n    <g id=\"xtick_4\">\n     <g id=\"line2d_7\">\n      <path clip-path=\"url(#p615695cc6c)\" d=\"M 195.805171 242.037656 \nL 195.805171 24.597656 \n\" style=\"fill:none;stroke:#b0b0b0;stroke-linecap:square;stroke-width:0.8;\"/>\n     </g>\n     <g id=\"line2d_8\">\n      <g>\n       <use style=\"stroke:#000000;stroke-width:0.8;\" x=\"195.805171\" xlink:href=\"#m9a21551e57\" y=\"242.037656\"/>\n      </g>\n     </g>\n     <g id=\"text_4\">\n      <!-- 0.4 -->\n      <g transform=\"translate(183.877828 260.435313)scale(0.15 -0.15)\">\n       <defs>\n        <path d=\"M 37.796875 64.3125 \nL 12.890625 25.390625 \nL 37.796875 25.390625 \nz\nM 35.203125 72.90625 \nL 47.609375 72.90625 \nL 47.609375 25.390625 \nL 58.015625 25.390625 \nL 58.015625 17.1875 \nL 47.609375 17.1875 \nL 47.609375 0 \nL 37.796875 0 \nL 37.796875 17.1875 \nL 4.890625 17.1875 \nL 4.890625 26.703125 \nz\n\" id=\"DejaVuSans-52\"/>\n       </defs>\n       <use xlink:href=\"#DejaVuSans-48\"/>\n       <use x=\"63.623047\" xlink:href=\"#DejaVuSans-46\"/>\n       <use x=\"95.410156\" xlink:href=\"#DejaVuSans-52\"/>\n      </g>\n     </g>\n    </g>\n    <g id=\"xtick_5\">\n     <g id=\"line2d_9\">\n      <path clip-path=\"url(#p615695cc6c)\" d=\"M 233.515625 242.037656 \nL 233.515625 24.597656 \n\" style=\"fill:none;stroke:#b0b0b0;stroke-linecap:square;stroke-width:0.8;\"/>\n     </g>\n     <g id=\"line2d_10\">\n      <g>\n       <use style=\"stroke:#000000;stroke-width:0.8;\" x=\"233.515625\" xlink:href=\"#m9a21551e57\" y=\"242.037656\"/>\n      </g>\n     </g>\n     <g id=\"text_5\">\n      <!-- 0.5 -->\n      <g transform=\"translate(221.588281 260.435313)scale(0.15 -0.15)\">\n       <defs>\n        <path d=\"M 10.796875 72.90625 \nL 49.515625 72.90625 \nL 49.515625 64.59375 \nL 19.828125 64.59375 \nL 19.828125 46.734375 \nQ 21.96875 47.46875 24.109375 47.828125 \nQ 26.265625 48.1875 28.421875 48.1875 \nQ 40.625 48.1875 47.75 41.5 \nQ 54.890625 34.8125 54.890625 23.390625 \nQ 54.890625 11.625 47.5625 5.09375 \nQ 40.234375 -1.421875 26.90625 -1.421875 \nQ 22.3125 -1.421875 17.546875 -0.640625 \nQ 12.796875 0.140625 7.71875 1.703125 \nL 7.71875 11.625 \nQ 12.109375 9.234375 16.796875 8.0625 \nQ 21.484375 6.890625 26.703125 6.890625 \nQ 35.15625 6.890625 40.078125 11.328125 \nQ 45.015625 15.765625 45.015625 23.390625 \nQ 45.015625 31 40.078125 35.4375 \nQ 35.15625 39.890625 26.703125 39.890625 \nQ 22.75 39.890625 18.8125 39.015625 \nQ 14.890625 38.140625 10.796875 36.28125 \nz\n\" id=\"DejaVuSans-53\"/>\n       </defs>\n       <use xlink:href=\"#DejaVuSans-48\"/>\n       <use x=\"63.623047\" xlink:href=\"#DejaVuSans-46\"/>\n       <use x=\"95.410156\" xlink:href=\"#DejaVuSans-53\"/>\n      </g>\n     </g>\n    </g>\n    <g id=\"xtick_6\">\n     <g id=\"line2d_11\">\n      <path clip-path=\"url(#p615695cc6c)\" d=\"M 271.226079 242.037656 \nL 271.226079 24.597656 \n\" style=\"fill:none;stroke:#b0b0b0;stroke-linecap:square;stroke-width:0.8;\"/>\n     </g>\n     <g id=\"line2d_12\">\n      <g>\n       <use style=\"stroke:#000000;stroke-width:0.8;\" x=\"271.226079\" xlink:href=\"#m9a21551e57\" y=\"242.037656\"/>\n      </g>\n     </g>\n     <g id=\"text_6\">\n      <!-- 0.6 -->\n      <g transform=\"translate(259.298735 260.435313)scale(0.15 -0.15)\">\n       <defs>\n        <path d=\"M 33.015625 40.375 \nQ 26.375 40.375 22.484375 35.828125 \nQ 18.609375 31.296875 18.609375 23.390625 \nQ 18.609375 15.53125 22.484375 10.953125 \nQ 26.375 6.390625 33.015625 6.390625 \nQ 39.65625 6.390625 43.53125 10.953125 \nQ 47.40625 15.53125 47.40625 23.390625 \nQ 47.40625 31.296875 43.53125 35.828125 \nQ 39.65625 40.375 33.015625 40.375 \nz\nM 52.59375 71.296875 \nL 52.59375 62.3125 \nQ 48.875 64.0625 45.09375 64.984375 \nQ 41.3125 65.921875 37.59375 65.921875 \nQ 27.828125 65.921875 22.671875 59.328125 \nQ 17.53125 52.734375 16.796875 39.40625 \nQ 19.671875 43.65625 24.015625 45.921875 \nQ 28.375 48.1875 33.59375 48.1875 \nQ 44.578125 48.1875 50.953125 41.515625 \nQ 57.328125 34.859375 57.328125 23.390625 \nQ 57.328125 12.15625 50.6875 5.359375 \nQ 44.046875 -1.421875 33.015625 -1.421875 \nQ 20.359375 -1.421875 13.671875 8.265625 \nQ 6.984375 17.96875 6.984375 36.375 \nQ 6.984375 53.65625 15.1875 63.9375 \nQ 23.390625 74.21875 37.203125 74.21875 \nQ 40.921875 74.21875 44.703125 73.484375 \nQ 48.484375 72.75 52.59375 71.296875 \nz\n\" id=\"DejaVuSans-54\"/>\n       </defs>\n       <use xlink:href=\"#DejaVuSans-48\"/>\n       <use x=\"63.623047\" xlink:href=\"#DejaVuSans-46\"/>\n       <use x=\"95.410156\" xlink:href=\"#DejaVuSans-54\"/>\n      </g>\n     </g>\n    </g>\n    <g id=\"xtick_7\">\n     <g id=\"line2d_13\">\n      <path clip-path=\"url(#p615695cc6c)\" d=\"M 308.936532 242.037656 \nL 308.936532 24.597656 \n\" style=\"fill:none;stroke:#b0b0b0;stroke-linecap:square;stroke-width:0.8;\"/>\n     </g>\n     <g id=\"line2d_14\">\n      <g>\n       <use style=\"stroke:#000000;stroke-width:0.8;\" x=\"308.936532\" xlink:href=\"#m9a21551e57\" y=\"242.037656\"/>\n      </g>\n     </g>\n     <g id=\"text_7\">\n      <!-- 0.7 -->\n      <g transform=\"translate(297.009189 260.435313)scale(0.15 -0.15)\">\n       <defs>\n        <path d=\"M 8.203125 72.90625 \nL 55.078125 72.90625 \nL 55.078125 68.703125 \nL 28.609375 0 \nL 18.3125 0 \nL 43.21875 64.59375 \nL 8.203125 64.59375 \nz\n\" id=\"DejaVuSans-55\"/>\n       </defs>\n       <use xlink:href=\"#DejaVuSans-48\"/>\n       <use x=\"63.623047\" xlink:href=\"#DejaVuSans-46\"/>\n       <use x=\"95.410156\" xlink:href=\"#DejaVuSans-55\"/>\n      </g>\n     </g>\n    </g>\n    <g id=\"xtick_8\">\n     <g id=\"line2d_15\">\n      <path clip-path=\"url(#p615695cc6c)\" d=\"M 346.646986 242.037656 \nL 346.646986 24.597656 \n\" style=\"fill:none;stroke:#b0b0b0;stroke-linecap:square;stroke-width:0.8;\"/>\n     </g>\n     <g id=\"line2d_16\">\n      <g>\n       <use style=\"stroke:#000000;stroke-width:0.8;\" x=\"346.646986\" xlink:href=\"#m9a21551e57\" y=\"242.037656\"/>\n      </g>\n     </g>\n     <g id=\"text_8\">\n      <!-- 0.8 -->\n      <g transform=\"translate(334.719642 260.435313)scale(0.15 -0.15)\">\n       <defs>\n        <path d=\"M 31.78125 34.625 \nQ 24.75 34.625 20.71875 30.859375 \nQ 16.703125 27.09375 16.703125 20.515625 \nQ 16.703125 13.921875 20.71875 10.15625 \nQ 24.75 6.390625 31.78125 6.390625 \nQ 38.8125 6.390625 42.859375 10.171875 \nQ 46.921875 13.96875 46.921875 20.515625 \nQ 46.921875 27.09375 42.890625 30.859375 \nQ 38.875 34.625 31.78125 34.625 \nz\nM 21.921875 38.8125 \nQ 15.578125 40.375 12.03125 44.71875 \nQ 8.5 49.078125 8.5 55.328125 \nQ 8.5 64.0625 14.71875 69.140625 \nQ 20.953125 74.21875 31.78125 74.21875 \nQ 42.671875 74.21875 48.875 69.140625 \nQ 55.078125 64.0625 55.078125 55.328125 \nQ 55.078125 49.078125 51.53125 44.71875 \nQ 48 40.375 41.703125 38.8125 \nQ 48.828125 37.15625 52.796875 32.3125 \nQ 56.78125 27.484375 56.78125 20.515625 \nQ 56.78125 9.90625 50.3125 4.234375 \nQ 43.84375 -1.421875 31.78125 -1.421875 \nQ 19.734375 -1.421875 13.25 4.234375 \nQ 6.78125 9.90625 6.78125 20.515625 \nQ 6.78125 27.484375 10.78125 32.3125 \nQ 14.796875 37.15625 21.921875 38.8125 \nz\nM 18.3125 54.390625 \nQ 18.3125 48.734375 21.84375 45.5625 \nQ 25.390625 42.390625 31.78125 42.390625 \nQ 38.140625 42.390625 41.71875 45.5625 \nQ 45.3125 48.734375 45.3125 54.390625 \nQ 45.3125 60.0625 41.71875 63.234375 \nQ 38.140625 66.40625 31.78125 66.40625 \nQ 25.390625 66.40625 21.84375 63.234375 \nQ 18.3125 60.0625 18.3125 54.390625 \nz\n\" id=\"DejaVuSans-56\"/>\n       </defs>\n       <use xlink:href=\"#DejaVuSans-48\"/>\n       <use x=\"63.623047\" xlink:href=\"#DejaVuSans-46\"/>\n       <use x=\"95.410156\" xlink:href=\"#DejaVuSans-56\"/>\n      </g>\n     </g>\n    </g>\n    <g id=\"xtick_9\">\n     <g id=\"line2d_17\">\n      <path clip-path=\"url(#p615695cc6c)\" d=\"M 384.35744 242.037656 \nL 384.35744 24.597656 \n\" style=\"fill:none;stroke:#b0b0b0;stroke-linecap:square;stroke-width:0.8;\"/>\n     </g>\n     <g id=\"line2d_18\">\n      <g>\n       <use style=\"stroke:#000000;stroke-width:0.8;\" x=\"384.35744\" xlink:href=\"#m9a21551e57\" y=\"242.037656\"/>\n      </g>\n     </g>\n     <g id=\"text_9\">\n      <!-- 0.9 -->\n      <g transform=\"translate(372.430096 260.435313)scale(0.15 -0.15)\">\n       <defs>\n        <path d=\"M 10.984375 1.515625 \nL 10.984375 10.5 \nQ 14.703125 8.734375 18.5 7.8125 \nQ 22.3125 6.890625 25.984375 6.890625 \nQ 35.75 6.890625 40.890625 13.453125 \nQ 46.046875 20.015625 46.78125 33.40625 \nQ 43.953125 29.203125 39.59375 26.953125 \nQ 35.25 24.703125 29.984375 24.703125 \nQ 19.046875 24.703125 12.671875 31.3125 \nQ 6.296875 37.9375 6.296875 49.421875 \nQ 6.296875 60.640625 12.9375 67.421875 \nQ 19.578125 74.21875 30.609375 74.21875 \nQ 43.265625 74.21875 49.921875 64.515625 \nQ 56.59375 54.828125 56.59375 36.375 \nQ 56.59375 19.140625 48.40625 8.859375 \nQ 40.234375 -1.421875 26.421875 -1.421875 \nQ 22.703125 -1.421875 18.890625 -0.6875 \nQ 15.09375 0.046875 10.984375 1.515625 \nz\nM 30.609375 32.421875 \nQ 37.25 32.421875 41.125 36.953125 \nQ 45.015625 41.5 45.015625 49.421875 \nQ 45.015625 57.28125 41.125 61.84375 \nQ 37.25 66.40625 30.609375 66.40625 \nQ 23.96875 66.40625 20.09375 61.84375 \nQ 16.21875 57.28125 16.21875 49.421875 \nQ 16.21875 41.5 20.09375 36.953125 \nQ 23.96875 32.421875 30.609375 32.421875 \nz\n\" id=\"DejaVuSans-57\"/>\n       </defs>\n       <use xlink:href=\"#DejaVuSans-48\"/>\n       <use x=\"63.623047\" xlink:href=\"#DejaVuSans-46\"/>\n       <use x=\"95.410156\" xlink:href=\"#DejaVuSans-57\"/>\n      </g>\n     </g>\n    </g>\n   </g>\n   <g id=\"matplotlib.axis_2\">\n    <g id=\"ytick_1\">\n     <g id=\"line2d_19\">\n      <path clip-path=\"url(#p615695cc6c)\" d=\"M 66.115625 242.037656 \nL 400.915625 242.037656 \n\" style=\"fill:none;stroke:#b0b0b0;stroke-linecap:square;stroke-width:0.8;\"/>\n     </g>\n     <g id=\"line2d_20\">\n      <defs>\n       <path d=\"M 0 0 \nL -3.5 0 \n\" id=\"maeec9bf866\" style=\"stroke:#000000;stroke-width:0.8;\"/>\n      </defs>\n      <g>\n       <use style=\"stroke:#000000;stroke-width:0.8;\" x=\"66.115625\" xlink:href=\"#maeec9bf866\" y=\"242.037656\"/>\n      </g>\n     </g>\n     <g id=\"text_10\">\n      <!-- 0.00 -->\n      <g transform=\"translate(25.717187 247.736484)scale(0.15 -0.15)\">\n       <use xlink:href=\"#DejaVuSans-48\"/>\n       <use x=\"63.623047\" xlink:href=\"#DejaVuSans-46\"/>\n       <use x=\"95.410156\" xlink:href=\"#DejaVuSans-48\"/>\n       <use x=\"159.033203\" xlink:href=\"#DejaVuSans-48\"/>\n      </g>\n     </g>\n    </g>\n    <g id=\"ytick_2\">\n     <g id=\"line2d_21\">\n      <path clip-path=\"url(#p615695cc6c)\" d=\"M 66.115625 187.677656 \nL 400.915625 187.677656 \n\" style=\"fill:none;stroke:#b0b0b0;stroke-linecap:square;stroke-width:0.8;\"/>\n     </g>\n     <g id=\"line2d_22\">\n      <g>\n       <use style=\"stroke:#000000;stroke-width:0.8;\" x=\"66.115625\" xlink:href=\"#maeec9bf866\" y=\"187.677656\"/>\n      </g>\n     </g>\n     <g id=\"text_11\">\n      <!-- 0.25 -->\n      <g transform=\"translate(25.717187 193.376484)scale(0.15 -0.15)\">\n       <use xlink:href=\"#DejaVuSans-48\"/>\n       <use x=\"63.623047\" xlink:href=\"#DejaVuSans-46\"/>\n       <use x=\"95.410156\" xlink:href=\"#DejaVuSans-50\"/>\n       <use x=\"159.033203\" xlink:href=\"#DejaVuSans-53\"/>\n      </g>\n     </g>\n    </g>\n    <g id=\"ytick_3\">\n     <g id=\"line2d_23\">\n      <path clip-path=\"url(#p615695cc6c)\" d=\"M 66.115625 133.317656 \nL 400.915625 133.317656 \n\" style=\"fill:none;stroke:#b0b0b0;stroke-linecap:square;stroke-width:0.8;\"/>\n     </g>\n     <g id=\"line2d_24\">\n      <g>\n       <use style=\"stroke:#000000;stroke-width:0.8;\" x=\"66.115625\" xlink:href=\"#maeec9bf866\" y=\"133.317656\"/>\n      </g>\n     </g>\n     <g id=\"text_12\">\n      <!-- 0.50 -->\n      <g transform=\"translate(25.717187 139.016484)scale(0.15 -0.15)\">\n       <use xlink:href=\"#DejaVuSans-48\"/>\n       <use x=\"63.623047\" xlink:href=\"#DejaVuSans-46\"/>\n       <use x=\"95.410156\" xlink:href=\"#DejaVuSans-53\"/>\n       <use x=\"159.033203\" xlink:href=\"#DejaVuSans-48\"/>\n      </g>\n     </g>\n    </g>\n    <g id=\"ytick_4\">\n     <g id=\"line2d_25\">\n      <path clip-path=\"url(#p615695cc6c)\" d=\"M 66.115625 78.957656 \nL 400.915625 78.957656 \n\" style=\"fill:none;stroke:#b0b0b0;stroke-linecap:square;stroke-width:0.8;\"/>\n     </g>\n     <g id=\"line2d_26\">\n      <g>\n       <use style=\"stroke:#000000;stroke-width:0.8;\" x=\"66.115625\" xlink:href=\"#maeec9bf866\" y=\"78.957656\"/>\n      </g>\n     </g>\n     <g id=\"text_13\">\n      <!-- 0.75 -->\n      <g transform=\"translate(25.717187 84.656484)scale(0.15 -0.15)\">\n       <use xlink:href=\"#DejaVuSans-48\"/>\n       <use x=\"63.623047\" xlink:href=\"#DejaVuSans-46\"/>\n       <use x=\"95.410156\" xlink:href=\"#DejaVuSans-55\"/>\n       <use x=\"159.033203\" xlink:href=\"#DejaVuSans-53\"/>\n      </g>\n     </g>\n    </g>\n    <g id=\"ytick_5\">\n     <g id=\"line2d_27\">\n      <path clip-path=\"url(#p615695cc6c)\" d=\"M 66.115625 24.597656 \nL 400.915625 24.597656 \n\" style=\"fill:none;stroke:#b0b0b0;stroke-linecap:square;stroke-width:0.8;\"/>\n     </g>\n     <g id=\"line2d_28\">\n      <g>\n       <use style=\"stroke:#000000;stroke-width:0.8;\" x=\"66.115625\" xlink:href=\"#maeec9bf866\" y=\"24.597656\"/>\n      </g>\n     </g>\n     <g id=\"text_14\">\n      <!-- 1.00 -->\n      <g transform=\"translate(25.717187 30.296484)scale(0.15 -0.15)\">\n       <use xlink:href=\"#DejaVuSans-49\"/>\n       <use x=\"63.623047\" xlink:href=\"#DejaVuSans-46\"/>\n       <use x=\"95.410156\" xlink:href=\"#DejaVuSans-48\"/>\n       <use x=\"159.033203\" xlink:href=\"#DejaVuSans-48\"/>\n      </g>\n     </g>\n    </g>\n    <g id=\"text_15\">\n     <!-- Probability -->\n     <g transform=\"translate(18.597656 172.961016)rotate(-90)scale(0.15 -0.15)\">\n      <defs>\n       <path d=\"M 19.671875 64.796875 \nL 19.671875 37.40625 \nL 32.078125 37.40625 \nQ 38.96875 37.40625 42.71875 40.96875 \nQ 46.484375 44.53125 46.484375 51.125 \nQ 46.484375 57.671875 42.71875 61.234375 \nQ 38.96875 64.796875 32.078125 64.796875 \nz\nM 9.8125 72.90625 \nL 32.078125 72.90625 \nQ 44.34375 72.90625 50.609375 67.359375 \nQ 56.890625 61.8125 56.890625 51.125 \nQ 56.890625 40.328125 50.609375 34.8125 \nQ 44.34375 29.296875 32.078125 29.296875 \nL 19.671875 29.296875 \nL 19.671875 0 \nL 9.8125 0 \nz\n\" id=\"DejaVuSans-80\"/>\n       <path d=\"M 41.109375 46.296875 \nQ 39.59375 47.171875 37.8125 47.578125 \nQ 36.03125 48 33.890625 48 \nQ 26.265625 48 22.1875 43.046875 \nQ 18.109375 38.09375 18.109375 28.8125 \nL 18.109375 0 \nL 9.078125 0 \nL 9.078125 54.6875 \nL 18.109375 54.6875 \nL 18.109375 46.1875 \nQ 20.953125 51.171875 25.484375 53.578125 \nQ 30.03125 56 36.53125 56 \nQ 37.453125 56 38.578125 55.875 \nQ 39.703125 55.765625 41.0625 55.515625 \nz\n\" id=\"DejaVuSans-114\"/>\n       <path d=\"M 30.609375 48.390625 \nQ 23.390625 48.390625 19.1875 42.75 \nQ 14.984375 37.109375 14.984375 27.296875 \nQ 14.984375 17.484375 19.15625 11.84375 \nQ 23.34375 6.203125 30.609375 6.203125 \nQ 37.796875 6.203125 41.984375 11.859375 \nQ 46.1875 17.53125 46.1875 27.296875 \nQ 46.1875 37.015625 41.984375 42.703125 \nQ 37.796875 48.390625 30.609375 48.390625 \nz\nM 30.609375 56 \nQ 42.328125 56 49.015625 48.375 \nQ 55.71875 40.765625 55.71875 27.296875 \nQ 55.71875 13.875 49.015625 6.21875 \nQ 42.328125 -1.421875 30.609375 -1.421875 \nQ 18.84375 -1.421875 12.171875 6.21875 \nQ 5.515625 13.875 5.515625 27.296875 \nQ 5.515625 40.765625 12.171875 48.375 \nQ 18.84375 56 30.609375 56 \nz\n\" id=\"DejaVuSans-111\"/>\n       <path d=\"M 48.6875 27.296875 \nQ 48.6875 37.203125 44.609375 42.84375 \nQ 40.53125 48.484375 33.40625 48.484375 \nQ 26.265625 48.484375 22.1875 42.84375 \nQ 18.109375 37.203125 18.109375 27.296875 \nQ 18.109375 17.390625 22.1875 11.75 \nQ 26.265625 6.109375 33.40625 6.109375 \nQ 40.53125 6.109375 44.609375 11.75 \nQ 48.6875 17.390625 48.6875 27.296875 \nz\nM 18.109375 46.390625 \nQ 20.953125 51.265625 25.265625 53.625 \nQ 29.59375 56 35.59375 56 \nQ 45.5625 56 51.78125 48.09375 \nQ 58.015625 40.1875 58.015625 27.296875 \nQ 58.015625 14.40625 51.78125 6.484375 \nQ 45.5625 -1.421875 35.59375 -1.421875 \nQ 29.59375 -1.421875 25.265625 0.953125 \nQ 20.953125 3.328125 18.109375 8.203125 \nL 18.109375 0 \nL 9.078125 0 \nL 9.078125 75.984375 \nL 18.109375 75.984375 \nz\n\" id=\"DejaVuSans-98\"/>\n       <path d=\"M 34.28125 27.484375 \nQ 23.390625 27.484375 19.1875 25 \nQ 14.984375 22.515625 14.984375 16.5 \nQ 14.984375 11.71875 18.140625 8.90625 \nQ 21.296875 6.109375 26.703125 6.109375 \nQ 34.1875 6.109375 38.703125 11.40625 \nQ 43.21875 16.703125 43.21875 25.484375 \nL 43.21875 27.484375 \nz\nM 52.203125 31.203125 \nL 52.203125 0 \nL 43.21875 0 \nL 43.21875 8.296875 \nQ 40.140625 3.328125 35.546875 0.953125 \nQ 30.953125 -1.421875 24.3125 -1.421875 \nQ 15.921875 -1.421875 10.953125 3.296875 \nQ 6 8.015625 6 15.921875 \nQ 6 25.140625 12.171875 29.828125 \nQ 18.359375 34.515625 30.609375 34.515625 \nL 43.21875 34.515625 \nL 43.21875 35.40625 \nQ 43.21875 41.609375 39.140625 45 \nQ 35.0625 48.390625 27.6875 48.390625 \nQ 23 48.390625 18.546875 47.265625 \nQ 14.109375 46.140625 10.015625 43.890625 \nL 10.015625 52.203125 \nQ 14.9375 54.109375 19.578125 55.046875 \nQ 24.21875 56 28.609375 56 \nQ 40.484375 56 46.34375 49.84375 \nQ 52.203125 43.703125 52.203125 31.203125 \nz\n\" id=\"DejaVuSans-97\"/>\n       <path d=\"M 9.421875 54.6875 \nL 18.40625 54.6875 \nL 18.40625 0 \nL 9.421875 0 \nz\nM 9.421875 75.984375 \nL 18.40625 75.984375 \nL 18.40625 64.59375 \nL 9.421875 64.59375 \nz\n\" id=\"DejaVuSans-105\"/>\n       <path d=\"M 9.421875 75.984375 \nL 18.40625 75.984375 \nL 18.40625 0 \nL 9.421875 0 \nz\n\" id=\"DejaVuSans-108\"/>\n       <path d=\"M 18.3125 70.21875 \nL 18.3125 54.6875 \nL 36.8125 54.6875 \nL 36.8125 47.703125 \nL 18.3125 47.703125 \nL 18.3125 18.015625 \nQ 18.3125 11.328125 20.140625 9.421875 \nQ 21.96875 7.515625 27.59375 7.515625 \nL 36.8125 7.515625 \nL 36.8125 0 \nL 27.59375 0 \nQ 17.1875 0 13.234375 3.875 \nQ 9.28125 7.765625 9.28125 18.015625 \nL 9.28125 47.703125 \nL 2.6875 47.703125 \nL 2.6875 54.6875 \nL 9.28125 54.6875 \nL 9.28125 70.21875 \nz\n\" id=\"DejaVuSans-116\"/>\n       <path d=\"M 32.171875 -5.078125 \nQ 28.375 -14.84375 24.75 -17.8125 \nQ 21.140625 -20.796875 15.09375 -20.796875 \nL 7.90625 -20.796875 \nL 7.90625 -13.28125 \nL 13.1875 -13.28125 \nQ 16.890625 -13.28125 18.9375 -11.515625 \nQ 21 -9.765625 23.484375 -3.21875 \nL 25.09375 0.875 \nL 2.984375 54.6875 \nL 12.5 54.6875 \nL 29.59375 11.921875 \nL 46.6875 54.6875 \nL 56.203125 54.6875 \nz\n\" id=\"DejaVuSans-121\"/>\n      </defs>\n      <use xlink:href=\"#DejaVuSans-80\"/>\n      <use x=\"58.552734\" xlink:href=\"#DejaVuSans-114\"/>\n      <use x=\"97.416016\" xlink:href=\"#DejaVuSans-111\"/>\n      <use x=\"158.597656\" xlink:href=\"#DejaVuSans-98\"/>\n      <use x=\"222.074219\" xlink:href=\"#DejaVuSans-97\"/>\n      <use x=\"283.353516\" xlink:href=\"#DejaVuSans-98\"/>\n      <use x=\"346.830078\" xlink:href=\"#DejaVuSans-105\"/>\n      <use x=\"374.613281\" xlink:href=\"#DejaVuSans-108\"/>\n      <use x=\"402.396484\" xlink:href=\"#DejaVuSans-105\"/>\n      <use x=\"430.179688\" xlink:href=\"#DejaVuSans-116\"/>\n      <use x=\"469.388672\" xlink:href=\"#DejaVuSans-121\"/>\n     </g>\n    </g>\n   </g>\n   <g id=\"line2d_29\">\n    <path clip-path=\"url(#p615695cc6c)\" d=\"M 158.094718 242.037656 \nL 158.094718 24.597656 \n\" style=\"fill:none;stroke:#ff0000;stroke-dasharray:7.4,3.2;stroke-dashoffset:0;stroke-width:2;\"/>\n   </g>\n   <g id=\"patch_8\">\n    <path d=\"M 66.115625 242.037656 \nL 66.115625 24.597656 \n\" style=\"fill:none;stroke:#000000;stroke-linecap:square;stroke-linejoin:miter;stroke-width:0.8;\"/>\n   </g>\n   <g id=\"patch_9\">\n    <path d=\"M 400.915625 242.037656 \nL 400.915625 24.597656 \n\" style=\"fill:none;stroke:#000000;stroke-linecap:square;stroke-linejoin:miter;stroke-width:0.8;\"/>\n   </g>\n   <g id=\"patch_10\">\n    <path d=\"M 66.115625 242.037656 \nL 400.915625 242.037656 \n\" style=\"fill:none;stroke:#000000;stroke-linecap:square;stroke-linejoin:miter;stroke-width:0.8;\"/>\n   </g>\n   <g id=\"patch_11\">\n    <path d=\"M 66.115625 24.597656 \nL 400.915625 24.597656 \n\" style=\"fill:none;stroke:#000000;stroke-linecap:square;stroke-linejoin:miter;stroke-width:0.8;\"/>\n   </g>\n   <g id=\"text_16\">\n    <!-- Estimated Values -->\n    <g transform=\"translate(168.740234 18.597656)scale(0.15 -0.15)\">\n     <defs>\n      <path d=\"M 9.8125 72.90625 \nL 55.90625 72.90625 \nL 55.90625 64.59375 \nL 19.671875 64.59375 \nL 19.671875 43.015625 \nL 54.390625 43.015625 \nL 54.390625 34.71875 \nL 19.671875 34.71875 \nL 19.671875 8.296875 \nL 56.78125 8.296875 \nL 56.78125 0 \nL 9.8125 0 \nz\n\" id=\"DejaVuSans-69\"/>\n      <path d=\"M 44.28125 53.078125 \nL 44.28125 44.578125 \nQ 40.484375 46.53125 36.375 47.5 \nQ 32.28125 48.484375 27.875 48.484375 \nQ 21.1875 48.484375 17.84375 46.4375 \nQ 14.5 44.390625 14.5 40.28125 \nQ 14.5 37.15625 16.890625 35.375 \nQ 19.28125 33.59375 26.515625 31.984375 \nL 29.59375 31.296875 \nQ 39.15625 29.25 43.1875 25.515625 \nQ 47.21875 21.78125 47.21875 15.09375 \nQ 47.21875 7.46875 41.1875 3.015625 \nQ 35.15625 -1.421875 24.609375 -1.421875 \nQ 20.21875 -1.421875 15.453125 -0.5625 \nQ 10.6875 0.296875 5.421875 2 \nL 5.421875 11.28125 \nQ 10.40625 8.6875 15.234375 7.390625 \nQ 20.0625 6.109375 24.8125 6.109375 \nQ 31.15625 6.109375 34.5625 8.28125 \nQ 37.984375 10.453125 37.984375 14.40625 \nQ 37.984375 18.0625 35.515625 20.015625 \nQ 33.0625 21.96875 24.703125 23.78125 \nL 21.578125 24.515625 \nQ 13.234375 26.265625 9.515625 29.90625 \nQ 5.8125 33.546875 5.8125 39.890625 \nQ 5.8125 47.609375 11.28125 51.796875 \nQ 16.75 56 26.8125 56 \nQ 31.78125 56 36.171875 55.265625 \nQ 40.578125 54.546875 44.28125 53.078125 \nz\n\" id=\"DejaVuSans-115\"/>\n      <path d=\"M 52 44.1875 \nQ 55.375 50.25 60.0625 53.125 \nQ 64.75 56 71.09375 56 \nQ 79.640625 56 84.28125 50.015625 \nQ 88.921875 44.046875 88.921875 33.015625 \nL 88.921875 0 \nL 79.890625 0 \nL 79.890625 32.71875 \nQ 79.890625 40.578125 77.09375 44.375 \nQ 74.3125 48.1875 68.609375 48.1875 \nQ 61.625 48.1875 57.5625 43.546875 \nQ 53.515625 38.921875 53.515625 30.90625 \nL 53.515625 0 \nL 44.484375 0 \nL 44.484375 32.71875 \nQ 44.484375 40.625 41.703125 44.40625 \nQ 38.921875 48.1875 33.109375 48.1875 \nQ 26.21875 48.1875 22.15625 43.53125 \nQ 18.109375 38.875 18.109375 30.90625 \nL 18.109375 0 \nL 9.078125 0 \nL 9.078125 54.6875 \nL 18.109375 54.6875 \nL 18.109375 46.1875 \nQ 21.1875 51.21875 25.484375 53.609375 \nQ 29.78125 56 35.6875 56 \nQ 41.65625 56 45.828125 52.96875 \nQ 50 49.953125 52 44.1875 \nz\n\" id=\"DejaVuSans-109\"/>\n      <path d=\"M 56.203125 29.59375 \nL 56.203125 25.203125 \nL 14.890625 25.203125 \nQ 15.484375 15.921875 20.484375 11.0625 \nQ 25.484375 6.203125 34.421875 6.203125 \nQ 39.59375 6.203125 44.453125 7.46875 \nQ 49.3125 8.734375 54.109375 11.28125 \nL 54.109375 2.78125 \nQ 49.265625 0.734375 44.1875 -0.34375 \nQ 39.109375 -1.421875 33.890625 -1.421875 \nQ 20.796875 -1.421875 13.15625 6.1875 \nQ 5.515625 13.8125 5.515625 26.8125 \nQ 5.515625 40.234375 12.765625 48.109375 \nQ 20.015625 56 32.328125 56 \nQ 43.359375 56 49.78125 48.890625 \nQ 56.203125 41.796875 56.203125 29.59375 \nz\nM 47.21875 32.234375 \nQ 47.125 39.59375 43.09375 43.984375 \nQ 39.0625 48.390625 32.421875 48.390625 \nQ 24.90625 48.390625 20.390625 44.140625 \nQ 15.875 39.890625 15.1875 32.171875 \nz\n\" id=\"DejaVuSans-101\"/>\n      <path d=\"M 45.40625 46.390625 \nL 45.40625 75.984375 \nL 54.390625 75.984375 \nL 54.390625 0 \nL 45.40625 0 \nL 45.40625 8.203125 \nQ 42.578125 3.328125 38.25 0.953125 \nQ 33.9375 -1.421875 27.875 -1.421875 \nQ 17.96875 -1.421875 11.734375 6.484375 \nQ 5.515625 14.40625 5.515625 27.296875 \nQ 5.515625 40.1875 11.734375 48.09375 \nQ 17.96875 56 27.875 56 \nQ 33.9375 56 38.25 53.625 \nQ 42.578125 51.265625 45.40625 46.390625 \nz\nM 14.796875 27.296875 \nQ 14.796875 17.390625 18.875 11.75 \nQ 22.953125 6.109375 30.078125 6.109375 \nQ 37.203125 6.109375 41.296875 11.75 \nQ 45.40625 17.390625 45.40625 27.296875 \nQ 45.40625 37.203125 41.296875 42.84375 \nQ 37.203125 48.484375 30.078125 48.484375 \nQ 22.953125 48.484375 18.875 42.84375 \nQ 14.796875 37.203125 14.796875 27.296875 \nz\n\" id=\"DejaVuSans-100\"/>\n      <path id=\"DejaVuSans-32\"/>\n      <path d=\"M 28.609375 0 \nL 0.78125 72.90625 \nL 11.078125 72.90625 \nL 34.1875 11.53125 \nL 57.328125 72.90625 \nL 67.578125 72.90625 \nL 39.796875 0 \nz\n\" id=\"DejaVuSans-86\"/>\n      <path d=\"M 8.5 21.578125 \nL 8.5 54.6875 \nL 17.484375 54.6875 \nL 17.484375 21.921875 \nQ 17.484375 14.15625 20.5 10.265625 \nQ 23.53125 6.390625 29.59375 6.390625 \nQ 36.859375 6.390625 41.078125 11.03125 \nQ 45.3125 15.671875 45.3125 23.6875 \nL 45.3125 54.6875 \nL 54.296875 54.6875 \nL 54.296875 0 \nL 45.3125 0 \nL 45.3125 8.40625 \nQ 42.046875 3.421875 37.71875 1 \nQ 33.40625 -1.421875 27.6875 -1.421875 \nQ 18.265625 -1.421875 13.375 4.4375 \nQ 8.5 10.296875 8.5 21.578125 \nz\nM 31.109375 56 \nz\n\" id=\"DejaVuSans-117\"/>\n     </defs>\n     <use xlink:href=\"#DejaVuSans-69\"/>\n     <use x=\"63.183594\" xlink:href=\"#DejaVuSans-115\"/>\n     <use x=\"115.283203\" xlink:href=\"#DejaVuSans-116\"/>\n     <use x=\"154.492188\" xlink:href=\"#DejaVuSans-105\"/>\n     <use x=\"182.275391\" xlink:href=\"#DejaVuSans-109\"/>\n     <use x=\"279.6875\" xlink:href=\"#DejaVuSans-97\"/>\n     <use x=\"340.966797\" xlink:href=\"#DejaVuSans-116\"/>\n     <use x=\"380.175781\" xlink:href=\"#DejaVuSans-101\"/>\n     <use x=\"441.699219\" xlink:href=\"#DejaVuSans-100\"/>\n     <use x=\"505.175781\" xlink:href=\"#DejaVuSans-32\"/>\n     <use x=\"536.962891\" xlink:href=\"#DejaVuSans-86\"/>\n     <use x=\"597.621094\" xlink:href=\"#DejaVuSans-97\"/>\n     <use x=\"658.900391\" xlink:href=\"#DejaVuSans-108\"/>\n     <use x=\"686.683594\" xlink:href=\"#DejaVuSans-117\"/>\n     <use x=\"750.0625\" xlink:href=\"#DejaVuSans-101\"/>\n     <use x=\"811.585938\" xlink:href=\"#DejaVuSans-115\"/>\n    </g>\n   </g>\n  </g>\n </g>\n <defs>\n  <clipPath id=\"p615695cc6c\">\n   <rect height=\"217.44\" width=\"334.8\" x=\"66.115625\" y=\"24.597656\"/>\n  </clipPath>\n </defs>\n</svg>\n",
      "image/png": "[encoded data removed]"
     },
     "metadata": {
      "needs_background": "light"
     }
    }
   ],
   "source": [
    "# plot estimated values\n",
    "plt.bar(ae_result['mapped_a_samples'], ae_result['probabilities'], width=0.5/len(ae_result['probabilities']))\n",
    "plt.plot([probability, probability], [0,1], 'r--', linewidth=2)\n",
    "plt.xticks(size=15)\n",
    "plt.yticks([0, 0.25, 0.5, 0.75, 1], size=15)\n",
    "plt.title('Estimated Values', size=15)\n",
    "plt.ylabel('Probability', size=15)\n",
    "plt.ylim((0,1))\n",
    "plt.grid()\n",
    "plt.show()"
   ]
  },
  {
   "cell_type": "code",
   "execution_count": 25,
   "metadata": {},
   "outputs": [
    {
     "output_type": "execute_result",
     "data": {
      "text/plain": [
       "<Figure size 960.115x385.28 with 1 Axes>"
      ],
      "image/svg+xml": "<?xml version=\"1.0\" encoding=\"utf-8\" standalone=\"no\"?>\n<!DOCTYPE svg PUBLIC \"-//W3C//DTD SVG 1.1//EN\"\n  \"http://www.w3.org/Graphics/SVG/1.1/DTD/svg11.dtd\">\n<!-- Created with matplotlib (https://matplotlib.org/) -->\n<svg height=\"305.2864pt\" version=\"1.1\" viewBox=\"0 0 739.286636 305.2864\" width=\"739.286636pt\" xmlns=\"http://www.w3.org/2000/svg\" xmlns:xlink=\"http://www.w3.org/1999/xlink\">\n <metadata>\n  <rdf:RDF xmlns:cc=\"http://creativecommons.org/ns#\" xmlns:dc=\"http://purl.org/dc/elements/1.1/\" xmlns:rdf=\"http://www.w3.org/1999/02/22-rdf-syntax-ns#\">\n   <cc:Work>\n    <dc:type rdf:resource=\"http://purl.org/dc/dcmitype/StillImage\"/>\n    <dc:date>2021-02-09T20:26:19.905126</dc:date>\n    <dc:format>image/svg+xml</dc:format>\n    <dc:creator>\n     <cc:Agent>\n      <dc:title>Matplotlib v3.3.1, https://matplotlib.org/</dc:title>\n     </cc:Agent>\n    </dc:creator>\n   </cc:Work>\n  </rdf:RDF>\n </metadata>\n <defs>\n  <style type=\"text/css\">*{stroke-linecap:butt;stroke-linejoin:round;}</style>\n </defs>\n <g id=\"figure_1\">\n  <g id=\"patch_1\">\n   <path d=\"M 0 305.2864 \nL 739.286636 305.2864 \nL 739.286636 0 \nL 0 0 \nz\n\" style=\"fill:#ffffff;\"/>\n  </g>\n  <g id=\"axes_1\">\n   <g id=\"patch_2\">\n    <path clip-path=\"url(#p3f191fd573)\" d=\"M 559.827346 260.475697 \nL 571.644606 260.475697 \nL 565.735976 268.99776 \nz\n\" style=\"fill:#778899;\"/>\n   </g>\n   <g id=\"patch_3\">\n    <path clip-path=\"url(#p3f191fd573)\" d=\"M 605.278346 260.475697 \nL 617.095606 260.475697 \nL 611.186976 268.99776 \nz\n\" style=\"fill:#778899;\"/>\n   </g>\n   <g id=\"patch_4\">\n    <path clip-path=\"url(#p3f191fd573)\" d=\"M 650.729346 260.475697 \nL 662.546606 260.475697 \nL 656.637976 268.99776 \nz\n\" style=\"fill:#778899;\"/>\n   </g>\n   <g id=\"patch_5\">\n    <path clip-path=\"url(#p3f191fd573)\" d=\"M 696.180346 260.475697 \nL 707.997606 260.475697 \nL 702.088976 268.99776 \nz\n\" style=\"fill:#778899;\"/>\n   </g>\n   <g id=\"line2d_1\">\n    <path clip-path=\"url(#p3f191fd573)\" d=\"M 86.682436 43.5608 \nL 727.541536 43.5608 \n\" style=\"fill:none;stroke:#000000;stroke-linecap:square;stroke-width:2;\"/>\n   </g>\n   <g id=\"line2d_2\">\n    <path clip-path=\"url(#p3f191fd573)\" d=\"M 86.682436 89.0118 \nL 727.541536 89.0118 \n\" style=\"fill:none;stroke:#000000;stroke-linecap:square;stroke-width:2;\"/>\n   </g>\n   <g id=\"line2d_3\">\n    <path clip-path=\"url(#p3f191fd573)\" d=\"M 86.682436 134.4628 \nL 727.541536 134.4628 \n\" style=\"fill:none;stroke:#000000;stroke-linecap:square;stroke-width:2;\"/>\n   </g>\n   <g id=\"line2d_4\">\n    <path clip-path=\"url(#p3f191fd573)\" d=\"M 86.682436 179.9138 \nL 727.541536 179.9138 \n\" style=\"fill:none;stroke:#000000;stroke-linecap:square;stroke-width:2;\"/>\n   </g>\n   <g id=\"line2d_5\">\n    <path clip-path=\"url(#p3f191fd573)\" d=\"M 86.682436 225.3648 \nL 727.541536 225.3648 \n\" style=\"fill:none;stroke:#000000;stroke-linecap:square;stroke-width:2;\"/>\n   </g>\n   <g id=\"line2d_6\">\n    <path clip-path=\"url(#p3f191fd573)\" d=\"M 86.682436 269.338642 \nL 727.541536 269.338642 \n\" style=\"fill:none;stroke:#778899;stroke-linecap:square;stroke-width:2;\"/>\n   </g>\n   <g id=\"line2d_7\">\n    <path clip-path=\"url(#p3f191fd573)\" d=\"M 86.682436 272.292957 \nL 727.541536 272.292957 \n\" style=\"fill:none;stroke:#778899;stroke-linecap:square;stroke-width:2;\"/>\n   </g>\n   <g id=\"line2d_8\">\n    <path clip-path=\"url(#p3f191fd573)\" d=\"M 567.213134 43.5608 \nL 567.213134 260.475697 \n\" style=\"fill:none;stroke:#778899;stroke-linecap:square;stroke-width:2;\"/>\n   </g>\n   <g id=\"line2d_9\">\n    <path clip-path=\"url(#p3f191fd573)\" d=\"M 564.258819 43.5608 \nL 564.258819 260.475697 \n\" style=\"fill:none;stroke:#778899;stroke-linecap:square;stroke-width:2;\"/>\n   </g>\n   <g id=\"line2d_10\">\n    <path clip-path=\"url(#p3f191fd573)\" d=\"M 612.664134 89.0118 \nL 612.664134 260.475697 \n\" style=\"fill:none;stroke:#778899;stroke-linecap:square;stroke-width:2;\"/>\n   </g>\n   <g id=\"line2d_11\">\n    <path clip-path=\"url(#p3f191fd573)\" d=\"M 609.709819 89.0118 \nL 609.709819 260.475697 \n\" style=\"fill:none;stroke:#778899;stroke-linecap:square;stroke-width:2;\"/>\n   </g>\n   <g id=\"line2d_12\">\n    <path clip-path=\"url(#p3f191fd573)\" d=\"M 658.115134 134.4628 \nL 658.115134 260.475697 \n\" style=\"fill:none;stroke:#778899;stroke-linecap:square;stroke-width:2;\"/>\n   </g>\n   <g id=\"line2d_13\">\n    <path clip-path=\"url(#p3f191fd573)\" d=\"M 655.160819 134.4628 \nL 655.160819 260.475697 \n\" style=\"fill:none;stroke:#778899;stroke-linecap:square;stroke-width:2;\"/>\n   </g>\n   <g id=\"line2d_14\">\n    <path clip-path=\"url(#p3f191fd573)\" d=\"M 703.566134 179.9138 \nL 703.566134 260.475697 \n\" style=\"fill:none;stroke:#778899;stroke-linecap:square;stroke-width:2;\"/>\n   </g>\n   <g id=\"line2d_15\">\n    <path clip-path=\"url(#p3f191fd573)\" d=\"M 700.611819 179.9138 \nL 700.611819 260.475697 \n\" style=\"fill:none;stroke:#778899;stroke-linecap:square;stroke-width:2;\"/>\n   </g>\n   <g id=\"line2d_16\">\n    <path clip-path=\"url(#p3f191fd573)\" d=\"M 95.772636 275.3609 \nL 100.317736 266.2707 \n\" style=\"fill:none;stroke:#778899;stroke-linecap:square;stroke-width:1.5;\"/>\n   </g>\n   <g id=\"patch_6\">\n    <path clip-path=\"url(#p3f191fd573)\" d=\"M 96.454401 240.136375 \nL 125.997551 240.136375 \nL 125.997551 210.593225 \nL 96.454401 210.593225 \nz\n\" style=\"fill:#bb8bff;stroke:#bb8bff;stroke-linejoin:miter;stroke-width:1.5;\"/>\n   </g>\n   <g id=\"patch_7\">\n    <path clip-path=\"url(#p3f191fd573)\" d=\"M 96.454401 58.332375 \nL 125.997551 58.332375 \nL 125.997551 28.789225 \nL 96.454401 28.789225 \nz\n\" style=\"fill:#6fa4ff;stroke:#6fa4ff;stroke-linejoin:miter;stroke-width:1.5;\"/>\n   </g>\n   <g id=\"patch_8\">\n    <path clip-path=\"url(#p3f191fd573)\" d=\"M 96.454401 103.783375 \nL 125.997551 103.783375 \nL 125.997551 74.240225 \nL 96.454401 74.240225 \nz\n\" style=\"fill:#6fa4ff;stroke:#6fa4ff;stroke-linejoin:miter;stroke-width:1.5;\"/>\n   </g>\n   <g id=\"patch_9\">\n    <path clip-path=\"url(#p3f191fd573)\" d=\"M 96.454401 149.234375 \nL 125.997551 149.234375 \nL 125.997551 119.691225 \nL 96.454401 119.691225 \nz\n\" style=\"fill:#6fa4ff;stroke:#6fa4ff;stroke-linejoin:miter;stroke-width:1.5;\"/>\n   </g>\n   <g id=\"patch_10\">\n    <path clip-path=\"url(#p3f191fd573)\" d=\"M 96.454401 194.685375 \nL 125.997551 194.685375 \nL 125.997551 165.142225 \nL 96.454401 165.142225 \nz\n\" style=\"fill:#6fa4ff;stroke:#6fa4ff;stroke-linejoin:miter;stroke-width:1.5;\"/>\n   </g>\n   <g id=\"patch_11\">\n    <path clip-path=\"url(#p3f191fd573)\" d=\"M 149.963864 240.136375 \nL 208.841089 240.136375 \nL 208.841089 28.789225 \nL 149.963864 28.789225 \nz\n\" style=\"fill:#bb8bff;stroke:#bb8bff;stroke-linejoin:miter;stroke-width:1.5;\"/>\n   </g>\n   <g id=\"patch_12\">\n    <path clip-path=\"url(#p3f191fd573)\" d=\"M 240.81814 240.136375 \nL 299.790812 240.136375 \nL 299.790812 74.240225 \nL 240.81814 74.240225 \nz\n\" style=\"fill:#bb8bff;stroke:#bb8bff;stroke-linejoin:miter;stroke-width:1.5;\"/>\n   </g>\n   <g id=\"patch_13\">\n    <path clip-path=\"url(#p3f191fd573)\" d=\"M 331.72014 240.136375 \nL 390.692812 240.136375 \nL 390.692812 119.691225 \nL 331.72014 119.691225 \nz\n\" style=\"fill:#bb8bff;stroke:#bb8bff;stroke-linejoin:miter;stroke-width:1.5;\"/>\n   </g>\n   <g id=\"patch_14\">\n    <path clip-path=\"url(#p3f191fd573)\" d=\"M 422.669864 240.136375 \nL 481.547089 240.136375 \nL 481.547089 165.142225 \nL 422.669864 165.142225 \nz\n\" style=\"fill:#bb8bff;stroke:#bb8bff;stroke-linejoin:miter;stroke-width:1.5;\"/>\n   </g>\n   <g id=\"patch_15\">\n    <path clip-path=\"url(#p3f191fd573)\" d=\"M 505.142976 194.685375 \nL 535.426977 194.685375 \nL 535.426977 28.789225 \nL 505.142976 28.789225 \nz\n\" style=\"fill:#bb8bff;stroke:#bb8bff;stroke-linejoin:miter;stroke-width:1.5;\"/>\n   </g>\n   <g id=\"patch_16\">\n    <path clip-path=\"url(#p3f191fd573)\" d=\"M 550.964401 58.332375 \nL 580.507551 58.332375 \nL 580.507551 28.789225 \nL 550.964401 28.789225 \nz\n\" style=\"stroke:#000000;stroke-linejoin:miter;stroke-width:1.5;\"/>\n   </g>\n   <g id=\"patch_17\">\n    <path clip-path=\"url(#p3f191fd573)\" d=\"M 576.076079 47.992272 \nC 576.076079 45.250959 574.985935 42.619118 573.047533 40.680716 \nC 571.109131 38.742314 568.47729 37.65217 565.735976 37.65217 \nC 562.994662 37.65217 560.362821 38.742314 558.42442 40.680716 \nC 556.486018 42.619118 555.395874 45.250959 555.395874 47.992272 \n\" style=\"fill:none;stroke:#ffffff;stroke-linejoin:miter;stroke-width:2;\"/>\n   </g>\n   <g id=\"patch_18\">\n    <path clip-path=\"url(#p3f191fd573)\" d=\"M 596.415401 103.783375 \nL 625.958551 103.783375 \nL 625.958551 74.240225 \nL 596.415401 74.240225 \nz\n\" style=\"stroke:#000000;stroke-linejoin:miter;stroke-width:1.5;\"/>\n   </g>\n   <g id=\"patch_19\">\n    <path clip-path=\"url(#p3f191fd573)\" d=\"M 621.527079 93.443272 \nC 621.527079 90.701959 620.436935 88.070118 618.498533 86.131716 \nC 616.560131 84.193314 613.92829 83.10317 611.186976 83.10317 \nC 608.445662 83.10317 605.813821 84.193314 603.87542 86.131716 \nC 601.937018 88.070118 600.846874 90.701959 600.846874 93.443272 \n\" style=\"fill:none;stroke:#ffffff;stroke-linejoin:miter;stroke-width:2;\"/>\n   </g>\n   <g id=\"patch_20\">\n    <path clip-path=\"url(#p3f191fd573)\" d=\"M 641.866401 149.234375 \nL 671.409551 149.234375 \nL 671.409551 119.691225 \nL 641.866401 119.691225 \nz\n\" style=\"stroke:#000000;stroke-linejoin:miter;stroke-width:1.5;\"/>\n   </g>\n   <g id=\"patch_21\">\n    <path clip-path=\"url(#p3f191fd573)\" d=\"M 666.978079 138.894272 \nC 666.978079 136.152959 665.887935 133.521118 663.949533 131.582716 \nC 662.011131 129.644314 659.37929 128.55417 656.637976 128.55417 \nC 653.896662 128.55417 651.264821 129.644314 649.32642 131.582716 \nC 647.388018 133.521118 646.297874 136.152959 646.297874 138.894272 \n\" style=\"fill:none;stroke:#ffffff;stroke-linejoin:miter;stroke-width:2;\"/>\n   </g>\n   <g id=\"patch_22\">\n    <path clip-path=\"url(#p3f191fd573)\" d=\"M 687.317401 194.685375 \nL 716.860551 194.685375 \nL 716.860551 165.142225 \nL 687.317401 165.142225 \nz\n\" style=\"stroke:#000000;stroke-linejoin:miter;stroke-width:1.5;\"/>\n   </g>\n   <g id=\"patch_23\">\n    <path clip-path=\"url(#p3f191fd573)\" d=\"M 712.429079 184.345272 \nC 712.429079 181.603959 711.338935 178.972118 709.400533 177.033716 \nC 707.462131 175.095314 704.83029 174.00517 702.088976 174.00517 \nC 699.347662 174.00517 696.715821 175.095314 694.77742 177.033716 \nC 692.839018 178.972118 691.748874 181.603959 691.748874 184.345272 \n\" style=\"fill:none;stroke:#ffffff;stroke-linejoin:miter;stroke-width:2;\"/>\n   </g>\n   <g id=\"line2d_17\">\n    <path clip-path=\"url(#p3f191fd573)\" d=\"M 565.735976 47.992272 \nL 576.076079 37.65217 \n\" style=\"fill:none;stroke:#ffffff;stroke-linecap:square;stroke-width:2;\"/>\n   </g>\n   <g id=\"line2d_18\">\n    <path clip-path=\"url(#p3f191fd573)\" d=\"M 611.186976 93.443272 \nL 621.527079 83.10317 \n\" style=\"fill:none;stroke:#ffffff;stroke-linecap:square;stroke-width:2;\"/>\n   </g>\n   <g id=\"line2d_19\">\n    <path clip-path=\"url(#p3f191fd573)\" d=\"M 656.637976 138.894272 \nL 666.978079 128.55417 \n\" style=\"fill:none;stroke:#ffffff;stroke-linecap:square;stroke-width:2;\"/>\n   </g>\n   <g id=\"line2d_20\">\n    <path clip-path=\"url(#p3f191fd573)\" d=\"M 702.088976 184.345272 \nL 712.429079 174.00517 \n\" style=\"fill:none;stroke:#ffffff;stroke-linecap:square;stroke-width:2;\"/>\n   </g>\n   <g id=\"text_1\">\n    <g clip-path=\"url(#p3f191fd573)\">\n     <!-- $\\mathrm{R}_\\mathrm{Y}$ -->\n     <g transform=\"translate(103.685976 224.520515)scale(0.13 -0.13)\">\n      <defs>\n       <path d=\"M 44.390625 34.1875 \nQ 47.5625 33.109375 50.5625 29.59375 \nQ 53.5625 26.078125 56.59375 19.921875 \nL 66.609375 0 \nL 56 0 \nL 46.6875 18.703125 \nQ 43.0625 26.03125 39.671875 28.421875 \nQ 36.28125 30.8125 30.421875 30.8125 \nL 19.671875 30.8125 \nL 19.671875 0 \nL 9.8125 0 \nL 9.8125 72.90625 \nL 32.078125 72.90625 \nQ 44.578125 72.90625 50.734375 67.671875 \nQ 56.890625 62.453125 56.890625 51.90625 \nQ 56.890625 45.015625 53.6875 40.46875 \nQ 50.484375 35.9375 44.390625 34.1875 \nz\nM 19.671875 64.796875 \nL 19.671875 38.921875 \nL 32.078125 38.921875 \nQ 39.203125 38.921875 42.84375 42.21875 \nQ 46.484375 45.515625 46.484375 51.90625 \nQ 46.484375 58.296875 42.84375 61.546875 \nQ 39.203125 64.796875 32.078125 64.796875 \nz\n\" id=\"DejaVuSans-82\"/>\n       <path d=\"M -0.203125 72.90625 \nL 10.40625 72.90625 \nL 30.609375 42.921875 \nL 50.6875 72.90625 \nL 61.28125 72.90625 \nL 35.5 34.71875 \nL 35.5 0 \nL 25.59375 0 \nL 25.59375 34.71875 \nz\n\" id=\"DejaVuSans-89\"/>\n      </defs>\n      <use transform=\"translate(0 0.09375)\" xlink:href=\"#DejaVuSans-82\"/>\n      <use transform=\"translate(70.439453 -16.3125)scale(0.7)\" xlink:href=\"#DejaVuSans-89\"/>\n     </g>\n    </g>\n   </g>\n   <g id=\"text_2\">\n    <g clip-path=\"url(#p3f191fd573)\">\n     <!-- 1.16 -->\n     <g transform=\"translate(102.319726 236.435245)scale(0.08 -0.08)\">\n      <defs>\n       <path d=\"M 12.40625 8.296875 \nL 28.515625 8.296875 \nL 28.515625 63.921875 \nL 10.984375 60.40625 \nL 10.984375 69.390625 \nL 28.421875 72.90625 \nL 38.28125 72.90625 \nL 38.28125 8.296875 \nL 54.390625 8.296875 \nL 54.390625 0 \nL 12.40625 0 \nz\n\" id=\"DejaVuSans-49\"/>\n       <path d=\"M 10.6875 12.40625 \nL 21 12.40625 \nL 21 0 \nL 10.6875 0 \nz\n\" id=\"DejaVuSans-46\"/>\n       <path d=\"M 33.015625 40.375 \nQ 26.375 40.375 22.484375 35.828125 \nQ 18.609375 31.296875 18.609375 23.390625 \nQ 18.609375 15.53125 22.484375 10.953125 \nQ 26.375 6.390625 33.015625 6.390625 \nQ 39.65625 6.390625 43.53125 10.953125 \nQ 47.40625 15.53125 47.40625 23.390625 \nQ 47.40625 31.296875 43.53125 35.828125 \nQ 39.65625 40.375 33.015625 40.375 \nz\nM 52.59375 71.296875 \nL 52.59375 62.3125 \nQ 48.875 64.0625 45.09375 64.984375 \nQ 41.3125 65.921875 37.59375 65.921875 \nQ 27.828125 65.921875 22.671875 59.328125 \nQ 17.53125 52.734375 16.796875 39.40625 \nQ 19.671875 43.65625 24.015625 45.921875 \nQ 28.375 48.1875 33.59375 48.1875 \nQ 44.578125 48.1875 50.953125 41.515625 \nQ 57.328125 34.859375 57.328125 23.390625 \nQ 57.328125 12.15625 50.6875 5.359375 \nQ 44.046875 -1.421875 33.015625 -1.421875 \nQ 20.359375 -1.421875 13.671875 8.265625 \nQ 6.984375 17.96875 6.984375 36.375 \nQ 6.984375 53.65625 15.1875 63.9375 \nQ 23.390625 74.21875 37.203125 74.21875 \nQ 40.921875 74.21875 44.703125 73.484375 \nQ 48.484375 72.75 52.59375 71.296875 \nz\n\" id=\"DejaVuSans-54\"/>\n      </defs>\n      <use xlink:href=\"#DejaVuSans-49\"/>\n      <use x=\"63.623047\" xlink:href=\"#DejaVuSans-46\"/>\n      <use x=\"95.410156\" xlink:href=\"#DejaVuSans-49\"/>\n      <use x=\"159.033203\" xlink:href=\"#DejaVuSans-54\"/>\n     </g>\n    </g>\n   </g>\n   <g id=\"text_3\">\n    <g clip-path=\"url(#p3f191fd573)\">\n     <!-- H -->\n     <g transform=\"translate(106.337773 47.147987)scale(0.13 -0.13)\">\n      <defs>\n       <path d=\"M 9.8125 72.90625 \nL 19.671875 72.90625 \nL 19.671875 43.015625 \nL 55.515625 43.015625 \nL 55.515625 72.90625 \nL 65.375 72.90625 \nL 65.375 0 \nL 55.515625 0 \nL 55.515625 34.71875 \nL 19.671875 34.71875 \nL 19.671875 0 \nL 9.8125 0 \nz\n\" id=\"DejaVuSans-72\"/>\n      </defs>\n      <use xlink:href=\"#DejaVuSans-72\"/>\n     </g>\n    </g>\n   </g>\n   <g id=\"text_4\">\n    <g clip-path=\"url(#p3f191fd573)\">\n     <!-- H -->\n     <g transform=\"translate(106.337773 92.598987)scale(0.13 -0.13)\">\n      <use xlink:href=\"#DejaVuSans-72\"/>\n     </g>\n    </g>\n   </g>\n   <g id=\"text_5\">\n    <g clip-path=\"url(#p3f191fd573)\">\n     <!-- H -->\n     <g transform=\"translate(106.337773 138.049987)scale(0.13 -0.13)\">\n      <use xlink:href=\"#DejaVuSans-72\"/>\n     </g>\n    </g>\n   </g>\n   <g id=\"text_6\">\n    <g clip-path=\"url(#p3f191fd573)\">\n     <!-- H -->\n     <g transform=\"translate(106.337773 183.500987)scale(0.13 -0.13)\">\n      <use xlink:href=\"#DejaVuSans-72\"/>\n     </g>\n    </g>\n   </g>\n   <g id=\"text_7\">\n    <g clip-path=\"url(#p3f191fd573)\">\n     <!-- 0 -->\n     <g transform=\"translate(153.145434 47.147987)scale(0.13 -0.13)\">\n      <defs>\n       <path d=\"M 31.78125 66.40625 \nQ 24.171875 66.40625 20.328125 58.90625 \nQ 16.5 51.421875 16.5 36.375 \nQ 16.5 21.390625 20.328125 13.890625 \nQ 24.171875 6.390625 31.78125 6.390625 \nQ 39.453125 6.390625 43.28125 13.890625 \nQ 47.125 21.390625 47.125 36.375 \nQ 47.125 51.421875 43.28125 58.90625 \nQ 39.453125 66.40625 31.78125 66.40625 \nz\nM 31.78125 74.21875 \nQ 44.046875 74.21875 50.515625 64.515625 \nQ 56.984375 54.828125 56.984375 36.375 \nQ 56.984375 17.96875 50.515625 8.265625 \nQ 44.046875 -1.421875 31.78125 -1.421875 \nQ 19.53125 -1.421875 13.0625 8.265625 \nQ 6.59375 17.96875 6.59375 36.375 \nQ 6.59375 54.828125 13.0625 64.515625 \nQ 19.53125 74.21875 31.78125 74.21875 \nz\n\" id=\"DejaVuSans-48\"/>\n      </defs>\n      <use xlink:href=\"#DejaVuSans-48\"/>\n     </g>\n    </g>\n   </g>\n   <g id=\"text_8\">\n    <g clip-path=\"url(#p3f191fd573)\">\n     <!-- 1 -->\n     <g transform=\"translate(153.145434 228.951987)scale(0.13 -0.13)\">\n      <use xlink:href=\"#DejaVuSans-49\"/>\n     </g>\n    </g>\n   </g>\n   <g id=\"text_9\">\n    <g clip-path=\"url(#p3f191fd573)\">\n     <!-- C_Q**1 -->\n     <g transform=\"translate(160.860914 137.754441)scale(0.13 -0.13)\">\n      <defs>\n       <path d=\"M 64.40625 67.28125 \nL 64.40625 56.890625 \nQ 59.421875 61.53125 53.78125 63.8125 \nQ 48.140625 66.109375 41.796875 66.109375 \nQ 29.296875 66.109375 22.65625 58.46875 \nQ 16.015625 50.828125 16.015625 36.375 \nQ 16.015625 21.96875 22.65625 14.328125 \nQ 29.296875 6.6875 41.796875 6.6875 \nQ 48.140625 6.6875 53.78125 8.984375 \nQ 59.421875 11.28125 64.40625 15.921875 \nL 64.40625 5.609375 \nQ 59.234375 2.09375 53.4375 0.328125 \nQ 47.65625 -1.421875 41.21875 -1.421875 \nQ 24.65625 -1.421875 15.125 8.703125 \nQ 5.609375 18.84375 5.609375 36.375 \nQ 5.609375 53.953125 15.125 64.078125 \nQ 24.65625 74.21875 41.21875 74.21875 \nQ 47.75 74.21875 53.53125 72.484375 \nQ 59.328125 70.75 64.40625 67.28125 \nz\n\" id=\"DejaVuSans-67\"/>\n       <path d=\"M 50.984375 -16.609375 \nL 50.984375 -23.578125 \nL -0.984375 -23.578125 \nL -0.984375 -16.609375 \nz\n\" id=\"DejaVuSans-95\"/>\n       <path d=\"M 39.40625 66.21875 \nQ 28.65625 66.21875 22.328125 58.203125 \nQ 16.015625 50.203125 16.015625 36.375 \nQ 16.015625 22.609375 22.328125 14.59375 \nQ 28.65625 6.59375 39.40625 6.59375 \nQ 50.140625 6.59375 56.421875 14.59375 \nQ 62.703125 22.609375 62.703125 36.375 \nQ 62.703125 50.203125 56.421875 58.203125 \nQ 50.140625 66.21875 39.40625 66.21875 \nz\nM 53.21875 1.3125 \nL 66.21875 -12.890625 \nL 54.296875 -12.890625 \nL 43.5 -1.21875 \nQ 41.890625 -1.3125 41.03125 -1.359375 \nQ 40.1875 -1.421875 39.40625 -1.421875 \nQ 24.03125 -1.421875 14.8125 8.859375 \nQ 5.609375 19.140625 5.609375 36.375 \nQ 5.609375 53.65625 14.8125 63.9375 \nQ 24.03125 74.21875 39.40625 74.21875 \nQ 54.734375 74.21875 63.90625 63.9375 \nQ 73.09375 53.65625 73.09375 36.375 \nQ 73.09375 23.6875 67.984375 14.640625 \nQ 62.890625 5.609375 53.21875 1.3125 \nz\n\" id=\"DejaVuSans-81\"/>\n       <path d=\"M 47.015625 60.890625 \nL 29.5 51.421875 \nL 47.015625 41.890625 \nL 44.1875 37.109375 \nL 27.78125 47.015625 \nL 27.78125 28.609375 \nL 22.21875 28.609375 \nL 22.21875 47.015625 \nL 5.8125 37.109375 \nL 2.984375 41.890625 \nL 20.515625 51.421875 \nL 2.984375 60.890625 \nL 5.8125 65.71875 \nL 22.21875 55.8125 \nL 22.21875 74.21875 \nL 27.78125 74.21875 \nL 27.78125 55.8125 \nL 44.1875 65.71875 \nz\n\" id=\"DejaVuSans-42\"/>\n      </defs>\n      <use xlink:href=\"#DejaVuSans-67\"/>\n      <use x=\"69.824219\" xlink:href=\"#DejaVuSans-95\"/>\n      <use x=\"119.824219\" xlink:href=\"#DejaVuSans-81\"/>\n      <use x=\"198.535156\" xlink:href=\"#DejaVuSans-42\"/>\n      <use x=\"248.535156\" xlink:href=\"#DejaVuSans-42\"/>\n      <use x=\"298.535156\" xlink:href=\"#DejaVuSans-49\"/>\n     </g>\n    </g>\n   </g>\n   <g id=\"text_10\">\n    <g clip-path=\"url(#p3f191fd573)\">\n     <!-- 0 -->\n     <g transform=\"translate(243.99971 92.598987)scale(0.13 -0.13)\">\n      <use xlink:href=\"#DejaVuSans-48\"/>\n     </g>\n    </g>\n   </g>\n   <g id=\"text_11\">\n    <g clip-path=\"url(#p3f191fd573)\">\n     <!-- 1 -->\n     <g transform=\"translate(243.99971 228.951987)scale(0.13 -0.13)\">\n      <use xlink:href=\"#DejaVuSans-49\"/>\n     </g>\n    </g>\n   </g>\n   <g id=\"text_12\">\n    <g clip-path=\"url(#p3f191fd573)\">\n     <!-- C_Q**2 -->\n     <g transform=\"translate(251.762914 160.479941)scale(0.13 -0.13)\">\n      <defs>\n       <path d=\"M 19.1875 8.296875 \nL 53.609375 8.296875 \nL 53.609375 0 \nL 7.328125 0 \nL 7.328125 8.296875 \nQ 12.9375 14.109375 22.625 23.890625 \nQ 32.328125 33.6875 34.8125 36.53125 \nQ 39.546875 41.84375 41.421875 45.53125 \nQ 43.3125 49.21875 43.3125 52.78125 \nQ 43.3125 58.59375 39.234375 62.25 \nQ 35.15625 65.921875 28.609375 65.921875 \nQ 23.96875 65.921875 18.8125 64.3125 \nQ 13.671875 62.703125 7.8125 59.421875 \nL 7.8125 69.390625 \nQ 13.765625 71.78125 18.9375 73 \nQ 24.125 74.21875 28.421875 74.21875 \nQ 39.75 74.21875 46.484375 68.546875 \nQ 53.21875 62.890625 53.21875 53.421875 \nQ 53.21875 48.921875 51.53125 44.890625 \nQ 49.859375 40.875 45.40625 35.40625 \nQ 44.1875 33.984375 37.640625 27.21875 \nQ 31.109375 20.453125 19.1875 8.296875 \nz\n\" id=\"DejaVuSans-50\"/>\n      </defs>\n      <use xlink:href=\"#DejaVuSans-67\"/>\n      <use x=\"69.824219\" xlink:href=\"#DejaVuSans-95\"/>\n      <use x=\"119.824219\" xlink:href=\"#DejaVuSans-81\"/>\n      <use x=\"198.535156\" xlink:href=\"#DejaVuSans-42\"/>\n      <use x=\"248.535156\" xlink:href=\"#DejaVuSans-42\"/>\n      <use x=\"298.535156\" xlink:href=\"#DejaVuSans-50\"/>\n     </g>\n    </g>\n   </g>\n   <g id=\"text_13\">\n    <g clip-path=\"url(#p3f191fd573)\">\n     <!-- 0 -->\n     <g transform=\"translate(334.90171 138.049987)scale(0.13 -0.13)\">\n      <use xlink:href=\"#DejaVuSans-48\"/>\n     </g>\n    </g>\n   </g>\n   <g id=\"text_14\">\n    <g clip-path=\"url(#p3f191fd573)\">\n     <!-- 1 -->\n     <g transform=\"translate(334.90171 228.951987)scale(0.13 -0.13)\">\n      <use xlink:href=\"#DejaVuSans-49\"/>\n     </g>\n    </g>\n   </g>\n   <g id=\"text_15\">\n    <g clip-path=\"url(#p3f191fd573)\">\n     <!-- C_Q**4 -->\n     <g transform=\"translate(342.664914 183.205441)scale(0.13 -0.13)\">\n      <defs>\n       <path d=\"M 37.796875 64.3125 \nL 12.890625 25.390625 \nL 37.796875 25.390625 \nz\nM 35.203125 72.90625 \nL 47.609375 72.90625 \nL 47.609375 25.390625 \nL 58.015625 25.390625 \nL 58.015625 17.1875 \nL 47.609375 17.1875 \nL 47.609375 0 \nL 37.796875 0 \nL 37.796875 17.1875 \nL 4.890625 17.1875 \nL 4.890625 26.703125 \nz\n\" id=\"DejaVuSans-52\"/>\n      </defs>\n      <use xlink:href=\"#DejaVuSans-67\"/>\n      <use x=\"69.824219\" xlink:href=\"#DejaVuSans-95\"/>\n      <use x=\"119.824219\" xlink:href=\"#DejaVuSans-81\"/>\n      <use x=\"198.535156\" xlink:href=\"#DejaVuSans-42\"/>\n      <use x=\"248.535156\" xlink:href=\"#DejaVuSans-42\"/>\n      <use x=\"298.535156\" xlink:href=\"#DejaVuSans-52\"/>\n     </g>\n    </g>\n   </g>\n   <g id=\"text_16\">\n    <g clip-path=\"url(#p3f191fd573)\">\n     <!-- 0 -->\n     <g transform=\"translate(425.851434 183.500987)scale(0.13 -0.13)\">\n      <use xlink:href=\"#DejaVuSans-48\"/>\n     </g>\n    </g>\n   </g>\n   <g id=\"text_17\">\n    <g clip-path=\"url(#p3f191fd573)\">\n     <!-- 1 -->\n     <g transform=\"translate(425.851434 228.951987)scale(0.13 -0.13)\">\n      <use xlink:href=\"#DejaVuSans-49\"/>\n     </g>\n    </g>\n   </g>\n   <g id=\"text_18\">\n    <g clip-path=\"url(#p3f191fd573)\">\n     <!-- C_Q**8 -->\n     <g transform=\"translate(433.566914 205.930941)scale(0.13 -0.13)\">\n      <defs>\n       <path d=\"M 31.78125 34.625 \nQ 24.75 34.625 20.71875 30.859375 \nQ 16.703125 27.09375 16.703125 20.515625 \nQ 16.703125 13.921875 20.71875 10.15625 \nQ 24.75 6.390625 31.78125 6.390625 \nQ 38.8125 6.390625 42.859375 10.171875 \nQ 46.921875 13.96875 46.921875 20.515625 \nQ 46.921875 27.09375 42.890625 30.859375 \nQ 38.875 34.625 31.78125 34.625 \nz\nM 21.921875 38.8125 \nQ 15.578125 40.375 12.03125 44.71875 \nQ 8.5 49.078125 8.5 55.328125 \nQ 8.5 64.0625 14.71875 69.140625 \nQ 20.953125 74.21875 31.78125 74.21875 \nQ 42.671875 74.21875 48.875 69.140625 \nQ 55.078125 64.0625 55.078125 55.328125 \nQ 55.078125 49.078125 51.53125 44.71875 \nQ 48 40.375 41.703125 38.8125 \nQ 48.828125 37.15625 52.796875 32.3125 \nQ 56.78125 27.484375 56.78125 20.515625 \nQ 56.78125 9.90625 50.3125 4.234375 \nQ 43.84375 -1.421875 31.78125 -1.421875 \nQ 19.734375 -1.421875 13.25 4.234375 \nQ 6.78125 9.90625 6.78125 20.515625 \nQ 6.78125 27.484375 10.78125 32.3125 \nQ 14.796875 37.15625 21.921875 38.8125 \nz\nM 18.3125 54.390625 \nQ 18.3125 48.734375 21.84375 45.5625 \nQ 25.390625 42.390625 31.78125 42.390625 \nQ 38.140625 42.390625 41.71875 45.5625 \nQ 45.3125 48.734375 45.3125 54.390625 \nQ 45.3125 60.0625 41.71875 63.234375 \nQ 38.140625 66.40625 31.78125 66.40625 \nQ 25.390625 66.40625 21.84375 63.234375 \nQ 18.3125 60.0625 18.3125 54.390625 \nz\n\" id=\"DejaVuSans-56\"/>\n      </defs>\n      <use xlink:href=\"#DejaVuSans-67\"/>\n      <use x=\"69.824219\" xlink:href=\"#DejaVuSans-95\"/>\n      <use x=\"119.824219\" xlink:href=\"#DejaVuSans-81\"/>\n      <use x=\"198.535156\" xlink:href=\"#DejaVuSans-42\"/>\n      <use x=\"248.535156\" xlink:href=\"#DejaVuSans-42\"/>\n      <use x=\"298.535156\" xlink:href=\"#DejaVuSans-56\"/>\n     </g>\n    </g>\n   </g>\n   <g id=\"text_19\">\n    <g clip-path=\"url(#p3f191fd573)\">\n     <!-- 0 -->\n     <g transform=\"translate(508.324546 47.147987)scale(0.13 -0.13)\">\n      <use xlink:href=\"#DejaVuSans-48\"/>\n     </g>\n    </g>\n   </g>\n   <g id=\"text_20\">\n    <g clip-path=\"url(#p3f191fd573)\">\n     <!-- 1 -->\n     <g transform=\"translate(508.324546 92.598987)scale(0.13 -0.13)\">\n      <use xlink:href=\"#DejaVuSans-49\"/>\n     </g>\n    </g>\n   </g>\n   <g id=\"text_21\">\n    <g clip-path=\"url(#p3f191fd573)\">\n     <!-- 2 -->\n     <g transform=\"translate(508.324546 138.049987)scale(0.13 -0.13)\">\n      <use xlink:href=\"#DejaVuSans-50\"/>\n     </g>\n    </g>\n   </g>\n   <g id=\"text_22\">\n    <g clip-path=\"url(#p3f191fd573)\">\n     <!-- 3 -->\n     <g transform=\"translate(508.324546 183.500987)scale(0.13 -0.13)\">\n      <defs>\n       <path d=\"M 40.578125 39.3125 \nQ 47.65625 37.796875 51.625 33 \nQ 55.609375 28.21875 55.609375 21.1875 \nQ 55.609375 10.40625 48.1875 4.484375 \nQ 40.765625 -1.421875 27.09375 -1.421875 \nQ 22.515625 -1.421875 17.65625 -0.515625 \nQ 12.796875 0.390625 7.625 2.203125 \nL 7.625 11.71875 \nQ 11.71875 9.328125 16.59375 8.109375 \nQ 21.484375 6.890625 26.8125 6.890625 \nQ 36.078125 6.890625 40.9375 10.546875 \nQ 45.796875 14.203125 45.796875 21.1875 \nQ 45.796875 27.640625 41.28125 31.265625 \nQ 36.765625 34.90625 28.71875 34.90625 \nL 20.21875 34.90625 \nL 20.21875 43.015625 \nL 29.109375 43.015625 \nQ 36.375 43.015625 40.234375 45.921875 \nQ 44.09375 48.828125 44.09375 54.296875 \nQ 44.09375 59.90625 40.109375 62.90625 \nQ 36.140625 65.921875 28.71875 65.921875 \nQ 24.65625 65.921875 20.015625 65.03125 \nQ 15.375 64.15625 9.8125 62.3125 \nL 9.8125 71.09375 \nQ 15.4375 72.65625 20.34375 73.4375 \nQ 25.25 74.21875 29.59375 74.21875 \nQ 40.828125 74.21875 47.359375 69.109375 \nQ 53.90625 64.015625 53.90625 55.328125 \nQ 53.90625 49.265625 50.4375 45.09375 \nQ 46.96875 40.921875 40.578125 39.3125 \nz\n\" id=\"DejaVuSans-51\"/>\n      </defs>\n      <use xlink:href=\"#DejaVuSans-51\"/>\n     </g>\n    </g>\n   </g>\n   <g id=\"text_23\">\n    <g clip-path=\"url(#p3f191fd573)\">\n     <!-- Qft -->\n     <g transform=\"translate(515.445211 115.324487)scale(0.13 -0.13)\">\n      <defs>\n       <path d=\"M 37.109375 75.984375 \nL 37.109375 68.5 \nL 28.515625 68.5 \nQ 23.6875 68.5 21.796875 66.546875 \nQ 19.921875 64.59375 19.921875 59.515625 \nL 19.921875 54.6875 \nL 34.71875 54.6875 \nL 34.71875 47.703125 \nL 19.921875 47.703125 \nL 19.921875 0 \nL 10.890625 0 \nL 10.890625 47.703125 \nL 2.296875 47.703125 \nL 2.296875 54.6875 \nL 10.890625 54.6875 \nL 10.890625 58.5 \nQ 10.890625 67.625 15.140625 71.796875 \nQ 19.390625 75.984375 28.609375 75.984375 \nz\n\" id=\"DejaVuSans-102\"/>\n       <path d=\"M 18.3125 70.21875 \nL 18.3125 54.6875 \nL 36.8125 54.6875 \nL 36.8125 47.703125 \nL 18.3125 47.703125 \nL 18.3125 18.015625 \nQ 18.3125 11.328125 20.140625 9.421875 \nQ 21.96875 7.515625 27.59375 7.515625 \nL 36.8125 7.515625 \nL 36.8125 0 \nL 27.59375 0 \nQ 17.1875 0 13.234375 3.875 \nQ 9.28125 7.765625 9.28125 18.015625 \nL 9.28125 47.703125 \nL 2.6875 47.703125 \nL 2.6875 54.6875 \nL 9.28125 54.6875 \nL 9.28125 70.21875 \nz\n\" id=\"DejaVuSans-116\"/>\n      </defs>\n      <use xlink:href=\"#DejaVuSans-81\"/>\n      <use x=\"78.710938\" xlink:href=\"#DejaVuSans-102\"/>\n      <use x=\"112.166016\" xlink:href=\"#DejaVuSans-116\"/>\n     </g>\n    </g>\n   </g>\n   <g id=\"text_24\">\n    <g clip-path=\"url(#p3f191fd573)\">\n     <!-- 0 -->\n     <g transform=\"translate(577.098726 264.107825)scale(0.104 -0.104)\">\n      <use xlink:href=\"#DejaVuSans-48\"/>\n     </g>\n    </g>\n   </g>\n   <g id=\"text_25\">\n    <g clip-path=\"url(#p3f191fd573)\">\n     <!-- 1 -->\n     <g transform=\"translate(622.549726 264.107825)scale(0.104 -0.104)\">\n      <use xlink:href=\"#DejaVuSans-49\"/>\n     </g>\n    </g>\n   </g>\n   <g id=\"text_26\">\n    <g clip-path=\"url(#p3f191fd573)\">\n     <!-- 2 -->\n     <g transform=\"translate(668.000726 264.107825)scale(0.104 -0.104)\">\n      <use xlink:href=\"#DejaVuSans-50\"/>\n     </g>\n    </g>\n   </g>\n   <g id=\"text_27\">\n    <g clip-path=\"url(#p3f191fd573)\">\n     <!-- 3 -->\n     <g transform=\"translate(713.451726 264.107825)scale(0.104 -0.104)\">\n      <use xlink:href=\"#DejaVuSans-51\"/>\n     </g>\n    </g>\n   </g>\n   <g id=\"text_28\">\n    <g clip-path=\"url(#p3f191fd573)\">\n     <!-- ${eval}_{0}$ -->\n     <g transform=\"translate(35.667236 48.044784)scale(0.1625 -0.1625)\">\n      <defs>\n       <path d=\"M 48.09375 32.234375 \nQ 48.25 33.015625 48.3125 33.84375 \nQ 48.390625 34.671875 48.390625 35.5 \nQ 48.390625 41.453125 44.890625 44.921875 \nQ 41.40625 48.390625 35.40625 48.390625 \nQ 28.71875 48.390625 23.578125 44.15625 \nQ 18.453125 39.9375 15.828125 32.171875 \nz\nM 55.90625 25.203125 \nL 14.109375 25.203125 \nQ 13.8125 23.34375 13.71875 22.265625 \nQ 13.625 21.1875 13.625 20.40625 \nQ 13.625 13.625 17.796875 9.90625 \nQ 21.96875 6.203125 29.59375 6.203125 \nQ 35.453125 6.203125 40.671875 7.515625 \nQ 45.90625 8.84375 50.390625 11.375 \nL 48.6875 2.484375 \nQ 43.84375 0.53125 38.6875 -0.4375 \nQ 33.546875 -1.421875 28.21875 -1.421875 \nQ 16.84375 -1.421875 10.71875 4.015625 \nQ 4.59375 9.46875 4.59375 19.484375 \nQ 4.59375 28.03125 7.640625 35.375 \nQ 10.6875 42.71875 16.609375 48.484375 \nQ 20.40625 52.09375 25.65625 54.046875 \nQ 30.90625 56 36.8125 56 \nQ 46.09375 56 51.578125 50.4375 \nQ 57.078125 44.875 57.078125 35.5 \nQ 57.078125 33.25 56.78125 30.6875 \nQ 56.5 28.125 55.90625 25.203125 \nz\n\" id=\"DejaVuSans-Oblique-101\"/>\n       <path d=\"M 7.171875 54.6875 \nL 16.703125 54.6875 \nL 24.703125 8.203125 \nL 50.875 54.6875 \nL 60.40625 54.6875 \nL 29.296875 0 \nL 17.1875 0 \nz\n\" id=\"DejaVuSans-Oblique-118\"/>\n       <path d=\"M 53.71875 31.203125 \nL 47.609375 0 \nL 38.625 0 \nL 40.28125 8.296875 \nQ 36.328125 3.421875 31.265625 1 \nQ 26.21875 -1.421875 20.015625 -1.421875 \nQ 13.03125 -1.421875 8.5625 2.84375 \nQ 4.109375 7.125 4.109375 13.8125 \nQ 4.109375 23.390625 11.75 28.953125 \nQ 19.390625 34.515625 32.8125 34.515625 \nL 45.3125 34.515625 \nL 45.796875 36.921875 \nQ 45.90625 37.3125 45.953125 37.765625 \nQ 46 38.234375 46 39.203125 \nQ 46 43.5625 42.453125 45.96875 \nQ 38.921875 48.390625 32.515625 48.390625 \nQ 28.125 48.390625 23.5 47.265625 \nQ 18.890625 46.140625 14.015625 43.890625 \nL 15.578125 52.203125 \nQ 20.65625 54.109375 25.515625 55.046875 \nQ 30.375 56 34.90625 56 \nQ 44.578125 56 49.625 51.796875 \nQ 54.6875 47.609375 54.6875 39.59375 \nQ 54.6875 37.984375 54.4375 35.8125 \nQ 54.203125 33.640625 53.71875 31.203125 \nz\nM 44 27.484375 \nL 35.015625 27.484375 \nQ 23.96875 27.484375 18.671875 24.53125 \nQ 13.375 21.578125 13.375 15.375 \nQ 13.375 11.078125 16.078125 8.640625 \nQ 18.796875 6.203125 23.578125 6.203125 \nQ 30.90625 6.203125 36.375 11.453125 \nQ 41.84375 16.703125 43.609375 25.484375 \nz\n\" id=\"DejaVuSans-Oblique-97\"/>\n       <path d=\"M 18.3125 75.984375 \nL 27.296875 75.984375 \nL 12.5 0 \nL 3.515625 0 \nz\n\" id=\"DejaVuSans-Oblique-108\"/>\n      </defs>\n      <use transform=\"translate(0 0.015625)\" xlink:href=\"#DejaVuSans-Oblique-101\"/>\n      <use transform=\"translate(61.523438 0.015625)\" xlink:href=\"#DejaVuSans-Oblique-118\"/>\n      <use transform=\"translate(120.703125 0.015625)\" xlink:href=\"#DejaVuSans-Oblique-97\"/>\n      <use transform=\"translate(181.982422 0.015625)\" xlink:href=\"#DejaVuSans-Oblique-108\"/>\n      <use transform=\"translate(209.765625 -16.390625)scale(0.7)\" xlink:href=\"#DejaVuSans-48\"/>\n     </g>\n    </g>\n   </g>\n   <g id=\"text_29\">\n    <g clip-path=\"url(#p3f191fd573)\">\n     <!-- ${eval}_{1}$ -->\n     <g transform=\"translate(35.667236 93.495784)scale(0.1625 -0.1625)\">\n      <use transform=\"translate(0 0.015625)\" xlink:href=\"#DejaVuSans-Oblique-101\"/>\n      <use transform=\"translate(61.523438 0.015625)\" xlink:href=\"#DejaVuSans-Oblique-118\"/>\n      <use transform=\"translate(120.703125 0.015625)\" xlink:href=\"#DejaVuSans-Oblique-97\"/>\n      <use transform=\"translate(181.982422 0.015625)\" xlink:href=\"#DejaVuSans-Oblique-108\"/>\n      <use transform=\"translate(209.765625 -16.390625)scale(0.7)\" xlink:href=\"#DejaVuSans-49\"/>\n     </g>\n    </g>\n   </g>\n   <g id=\"text_30\">\n    <g clip-path=\"url(#p3f191fd573)\">\n     <!-- ${eval}_{2}$ -->\n     <g transform=\"translate(35.667236 138.946784)scale(0.1625 -0.1625)\">\n      <use transform=\"translate(0 0.015625)\" xlink:href=\"#DejaVuSans-Oblique-101\"/>\n      <use transform=\"translate(61.523438 0.015625)\" xlink:href=\"#DejaVuSans-Oblique-118\"/>\n      <use transform=\"translate(120.703125 0.015625)\" xlink:href=\"#DejaVuSans-Oblique-97\"/>\n      <use transform=\"translate(181.982422 0.015625)\" xlink:href=\"#DejaVuSans-Oblique-108\"/>\n      <use transform=\"translate(209.765625 -16.390625)scale(0.7)\" xlink:href=\"#DejaVuSans-50\"/>\n     </g>\n    </g>\n   </g>\n   <g id=\"text_31\">\n    <g clip-path=\"url(#p3f191fd573)\">\n     <!-- ${eval}_{3}$ -->\n     <g transform=\"translate(35.667236 184.397784)scale(0.1625 -0.1625)\">\n      <use transform=\"translate(0 0.015625)\" xlink:href=\"#DejaVuSans-Oblique-101\"/>\n      <use transform=\"translate(61.523438 0.015625)\" xlink:href=\"#DejaVuSans-Oblique-118\"/>\n      <use transform=\"translate(120.703125 0.015625)\" xlink:href=\"#DejaVuSans-Oblique-97\"/>\n      <use transform=\"translate(181.982422 0.015625)\" xlink:href=\"#DejaVuSans-Oblique-108\"/>\n      <use transform=\"translate(209.765625 -16.390625)scale(0.7)\" xlink:href=\"#DejaVuSans-51\"/>\n     </g>\n    </g>\n   </g>\n   <g id=\"text_32\">\n    <g clip-path=\"url(#p3f191fd573)\">\n     <!-- ${q}_{0}$ -->\n     <g transform=\"translate(59.554736 229.815777)scale(0.1625 -0.1625)\">\n      <defs>\n       <path d=\"M 41.703125 8.203125 \nQ 38.09375 3.46875 33.171875 1.015625 \nQ 28.265625 -1.421875 22.3125 -1.421875 \nQ 14.015625 -1.421875 9.296875 4.171875 \nQ 4.59375 9.765625 4.59375 19.578125 \nQ 4.59375 27.484375 7.5 34.859375 \nQ 10.40625 42.234375 15.828125 48.09375 \nQ 19.34375 51.90625 23.90625 53.953125 \nQ 28.46875 56 33.5 56 \nQ 39.546875 56 43.453125 53.609375 \nQ 47.359375 51.21875 49.125 46.390625 \nL 50.6875 54.59375 \nL 59.71875 54.59375 \nL 45.125 -20.609375 \nL 36.078125 -20.609375 \nz\nM 13.921875 20.90625 \nQ 13.921875 13.671875 16.9375 9.890625 \nQ 19.96875 6.109375 25.6875 6.109375 \nQ 34.1875 6.109375 40.1875 14.234375 \nQ 46.1875 22.359375 46.1875 33.984375 \nQ 46.1875 41.015625 43.078125 44.75 \nQ 39.984375 48.484375 34.1875 48.484375 \nQ 29.9375 48.484375 26.3125 46.5 \nQ 22.703125 44.53125 20.015625 40.71875 \nQ 17.1875 36.71875 15.546875 31.34375 \nQ 13.921875 25.984375 13.921875 20.90625 \nz\n\" id=\"DejaVuSans-Oblique-113\"/>\n      </defs>\n      <use xlink:href=\"#DejaVuSans-Oblique-113\"/>\n      <use transform=\"translate(63.476562 -16.40625)scale(0.7)\" xlink:href=\"#DejaVuSans-48\"/>\n     </g>\n    </g>\n   </g>\n   <g id=\"text_33\">\n    <g clip-path=\"url(#p3f191fd573)\">\n     <!-- 4 -->\n     <g transform=\"translate(91.227536 264.107825)scale(0.104 -0.104)\">\n      <use xlink:href=\"#DejaVuSans-52\"/>\n     </g>\n    </g>\n   </g>\n   <g id=\"text_34\">\n    <g clip-path=\"url(#p3f191fd573)\">\n     <!-- c8 -->\n     <g transform=\"translate(58.318213 275.299784)scale(0.1625 -0.1625)\">\n      <defs>\n       <path d=\"M 48.78125 52.59375 \nL 48.78125 44.1875 \nQ 44.96875 46.296875 41.140625 47.34375 \nQ 37.3125 48.390625 33.40625 48.390625 \nQ 24.65625 48.390625 19.8125 42.84375 \nQ 14.984375 37.3125 14.984375 27.296875 \nQ 14.984375 17.28125 19.8125 11.734375 \nQ 24.65625 6.203125 33.40625 6.203125 \nQ 37.3125 6.203125 41.140625 7.25 \nQ 44.96875 8.296875 48.78125 10.40625 \nL 48.78125 2.09375 \nQ 45.015625 0.34375 40.984375 -0.53125 \nQ 36.96875 -1.421875 32.421875 -1.421875 \nQ 20.0625 -1.421875 12.78125 6.34375 \nQ 5.515625 14.109375 5.515625 27.296875 \nQ 5.515625 40.671875 12.859375 48.328125 \nQ 20.21875 56 33.015625 56 \nQ 37.15625 56 41.109375 55.140625 \nQ 45.0625 54.296875 48.78125 52.59375 \nz\n\" id=\"DejaVuSans-99\"/>\n      </defs>\n      <use xlink:href=\"#DejaVuSans-99\"/>\n      <use x=\"54.980469\" xlink:href=\"#DejaVuSans-56\"/>\n     </g>\n    </g>\n   </g>\n  </g>\n </g>\n <defs>\n  <clipPath id=\"p3f191fd573\">\n   <rect height=\"290.8864\" width=\"724.886636\" x=\"7.2\" y=\"7.2\"/>\n  </clipPath>\n </defs>\n</svg>\n",
      "image/png": "[encoded data removed]"
     },
     "metadata": {},
     "execution_count": 25
    }
   ],
   "source": [
    "ae._circuit.draw('mpl')"
   ]
  },
  {
   "cell_type": "markdown",
   "metadata": {},
   "source": [
    "Q Operator\n",
    "\n",
    "$$ \\mathcal{Q} = \\mathcal{A} \\mathcal{S}_0 \\mathcal{A}^\\dagger \\mathcal{S}_f, $$"
   ]
  },
  {
   "cell_type": "code",
   "execution_count": 26,
   "metadata": {},
   "outputs": [
    {
     "output_type": "execute_result",
     "data": {
      "text/plain": [
       "<Figure size 714.842x84.28 with 1 Axes>"
      ],
      "image/svg+xml": "<?xml version=\"1.0\" encoding=\"utf-8\" standalone=\"no\"?>\n<!DOCTYPE svg PUBLIC \"-//W3C//DTD SVG 1.1//EN\"\n  \"http://www.w3.org/Graphics/SVG/1.1/DTD/svg11.dtd\">\n<!-- Created with matplotlib (https://matplotlib.org/) -->\n<svg height=\"78.0314pt\" version=\"1.1\" viewBox=\"0 0 554.106081 78.0314\" width=\"554.106081pt\" xmlns=\"http://www.w3.org/2000/svg\" xmlns:xlink=\"http://www.w3.org/1999/xlink\">\n <metadata>\n  <rdf:RDF xmlns:cc=\"http://creativecommons.org/ns#\" xmlns:dc=\"http://purl.org/dc/elements/1.1/\" xmlns:rdf=\"http://www.w3.org/1999/02/22-rdf-syntax-ns#\">\n   <cc:Work>\n    <dc:type rdf:resource=\"http://purl.org/dc/dcmitype/StillImage\"/>\n    <dc:date>2021-02-09T20:26:24.092852</dc:date>\n    <dc:format>image/svg+xml</dc:format>\n    <dc:creator>\n     <cc:Agent>\n      <dc:title>Matplotlib v3.3.1, https://matplotlib.org/</dc:title>\n     </cc:Agent>\n    </dc:creator>\n   </cc:Work>\n  </rdf:RDF>\n </metadata>\n <defs>\n  <style type=\"text/css\">*{stroke-linecap:butt;stroke-linejoin:round;}</style>\n </defs>\n <g id=\"figure_1\">\n  <g id=\"patch_1\">\n   <path d=\"M 0 78.0314 \nL 554.106081 78.0314 \nL 554.106081 0 \nL 0 0 \nz\n\" style=\"fill:#ffffff;\"/>\n  </g>\n  <g id=\"axes_1\">\n   <g id=\"line2d_1\">\n    <path clip-path=\"url(#p6644098396)\" d=\"M 83.305881 43.5608 \nL 542.360981 43.5608 \n\" style=\"fill:none;stroke:#000000;stroke-linecap:square;stroke-width:2;\"/>\n   </g>\n   <g id=\"patch_2\">\n    <path clip-path=\"url(#p6644098396)\" d=\"M 93.077846 58.332375 \nL 122.620996 58.332375 \nL 122.620996 28.789225 \nL 93.077846 28.789225 \nz\n\" style=\"fill:#bb8bff;stroke:#bb8bff;stroke-linejoin:miter;stroke-width:1.5;\"/>\n   </g>\n   <g id=\"patch_3\">\n    <path clip-path=\"url(#p6644098396)\" d=\"M 138.528846 58.332375 \nL 168.071996 58.332375 \nL 168.071996 28.789225 \nL 138.528846 28.789225 \nz\n\" style=\"fill:#05bab6;stroke:#05bab6;stroke-linejoin:miter;stroke-width:1.5;\"/>\n   </g>\n   <g id=\"patch_4\">\n    <path clip-path=\"url(#p6644098396)\" d=\"M 183.979846 58.332375 \nL 213.522996 58.332375 \nL 213.522996 28.789225 \nL 183.979846 28.789225 \nz\n\" style=\"fill:#05bab6;stroke:#05bab6;stroke-linejoin:miter;stroke-width:1.5;\"/>\n   </g>\n   <g id=\"patch_5\">\n    <path clip-path=\"url(#p6644098396)\" d=\"M 229.430846 58.332375 \nL 258.973996 58.332375 \nL 258.973996 28.789225 \nL 229.430846 28.789225 \nz\n\" style=\"fill:#05bab6;stroke:#05bab6;stroke-linejoin:miter;stroke-width:1.5;\"/>\n   </g>\n   <g id=\"patch_6\">\n    <path clip-path=\"url(#p6644098396)\" d=\"M 274.881846 58.332375 \nL 304.424996 58.332375 \nL 304.424996 28.789225 \nL 274.881846 28.789225 \nz\n\" style=\"fill:#bb8bff;stroke:#bb8bff;stroke-linejoin:miter;stroke-width:1.5;\"/>\n   </g>\n   <g id=\"patch_7\">\n    <path clip-path=\"url(#p6644098396)\" d=\"M 320.332846 58.332375 \nL 349.875996 58.332375 \nL 349.875996 28.789225 \nL 320.332846 28.789225 \nz\n\" style=\"fill:#05bab6;stroke:#05bab6;stroke-linejoin:miter;stroke-width:1.5;\"/>\n   </g>\n   <g id=\"patch_8\">\n    <path clip-path=\"url(#p6644098396)\" d=\"M 365.783846 58.332375 \nL 395.326996 58.332375 \nL 395.326996 28.789225 \nL 365.783846 28.789225 \nz\n\" style=\"fill:#6fa4ff;stroke:#6fa4ff;stroke-linejoin:miter;stroke-width:1.5;\"/>\n   </g>\n   <g id=\"patch_9\">\n    <path clip-path=\"url(#p6644098396)\" d=\"M 411.234846 58.332375 \nL 440.777996 58.332375 \nL 440.777996 28.789225 \nL 411.234846 28.789225 \nz\n\" style=\"fill:#05bab6;stroke:#05bab6;stroke-linejoin:miter;stroke-width:1.5;\"/>\n   </g>\n   <g id=\"patch_10\">\n    <path clip-path=\"url(#p6644098396)\" d=\"M 456.685846 58.332375 \nL 486.228996 58.332375 \nL 486.228996 28.789225 \nL 456.685846 28.789225 \nz\n\" style=\"fill:#6fa4ff;stroke:#6fa4ff;stroke-linejoin:miter;stroke-width:1.5;\"/>\n   </g>\n   <g id=\"patch_11\">\n    <path clip-path=\"url(#p6644098396)\" d=\"M 502.136846 58.332375 \nL 531.679996 58.332375 \nL 531.679996 28.789225 \nL 502.136846 28.789225 \nz\n\" style=\"fill:#05bab6;stroke:#05bab6;stroke-linejoin:miter;stroke-width:1.5;\"/>\n   </g>\n   <g id=\"text_1\">\n    <g clip-path=\"url(#p6644098396)\">\n     <!-- $\\mathrm{R}_\\mathrm{Y}$ -->\n     <g transform=\"translate(100.309421 42.716515)scale(0.13 -0.13)\">\n      <defs>\n       <path d=\"M 44.390625 34.1875 \nQ 47.5625 33.109375 50.5625 29.59375 \nQ 53.5625 26.078125 56.59375 19.921875 \nL 66.609375 0 \nL 56 0 \nL 46.6875 18.703125 \nQ 43.0625 26.03125 39.671875 28.421875 \nQ 36.28125 30.8125 30.421875 30.8125 \nL 19.671875 30.8125 \nL 19.671875 0 \nL 9.8125 0 \nL 9.8125 72.90625 \nL 32.078125 72.90625 \nQ 44.578125 72.90625 50.734375 67.671875 \nQ 56.890625 62.453125 56.890625 51.90625 \nQ 56.890625 45.015625 53.6875 40.46875 \nQ 50.484375 35.9375 44.390625 34.1875 \nz\nM 19.671875 64.796875 \nL 19.671875 38.921875 \nL 32.078125 38.921875 \nQ 39.203125 38.921875 42.84375 42.21875 \nQ 46.484375 45.515625 46.484375 51.90625 \nQ 46.484375 58.296875 42.84375 61.546875 \nQ 39.203125 64.796875 32.078125 64.796875 \nz\n\" id=\"DejaVuSans-82\"/>\n       <path d=\"M -0.203125 72.90625 \nL 10.40625 72.90625 \nL 30.609375 42.921875 \nL 50.6875 72.90625 \nL 61.28125 72.90625 \nL 35.5 34.71875 \nL 35.5 0 \nL 25.59375 0 \nL 25.59375 34.71875 \nz\n\" id=\"DejaVuSans-89\"/>\n      </defs>\n      <use transform=\"translate(0 0.09375)\" xlink:href=\"#DejaVuSans-82\"/>\n      <use transform=\"translate(70.439453 -16.3125)scale(0.7)\" xlink:href=\"#DejaVuSans-89\"/>\n     </g>\n    </g>\n   </g>\n   <g id=\"text_2\">\n    <g clip-path=\"url(#p6644098396)\">\n     <!-- $-$1.16 -->\n     <g transform=\"translate(95.569421 54.631245)scale(0.08 -0.08)\">\n      <defs>\n       <path d=\"M 10.59375 35.5 \nL 73.1875 35.5 \nL 73.1875 27.203125 \nL 10.59375 27.203125 \nz\n\" id=\"DejaVuSans-8722\"/>\n       <path d=\"M 12.40625 8.296875 \nL 28.515625 8.296875 \nL 28.515625 63.921875 \nL 10.984375 60.40625 \nL 10.984375 69.390625 \nL 28.421875 72.90625 \nL 38.28125 72.90625 \nL 38.28125 8.296875 \nL 54.390625 8.296875 \nL 54.390625 0 \nL 12.40625 0 \nz\n\" id=\"DejaVuSans-49\"/>\n       <path d=\"M 10.6875 12.40625 \nL 21 12.40625 \nL 21 0 \nL 10.6875 0 \nz\n\" id=\"DejaVuSans-46\"/>\n       <path d=\"M 33.015625 40.375 \nQ 26.375 40.375 22.484375 35.828125 \nQ 18.609375 31.296875 18.609375 23.390625 \nQ 18.609375 15.53125 22.484375 10.953125 \nQ 26.375 6.390625 33.015625 6.390625 \nQ 39.65625 6.390625 43.53125 10.953125 \nQ 47.40625 15.53125 47.40625 23.390625 \nQ 47.40625 31.296875 43.53125 35.828125 \nQ 39.65625 40.375 33.015625 40.375 \nz\nM 52.59375 71.296875 \nL 52.59375 62.3125 \nQ 48.875 64.0625 45.09375 64.984375 \nQ 41.3125 65.921875 37.59375 65.921875 \nQ 27.828125 65.921875 22.671875 59.328125 \nQ 17.53125 52.734375 16.796875 39.40625 \nQ 19.671875 43.65625 24.015625 45.921875 \nQ 28.375 48.1875 33.59375 48.1875 \nQ 44.578125 48.1875 50.953125 41.515625 \nQ 57.328125 34.859375 57.328125 23.390625 \nQ 57.328125 12.15625 50.6875 5.359375 \nQ 44.046875 -1.421875 33.015625 -1.421875 \nQ 20.359375 -1.421875 13.671875 8.265625 \nQ 6.984375 17.96875 6.984375 36.375 \nQ 6.984375 53.65625 15.1875 63.9375 \nQ 23.390625 74.21875 37.203125 74.21875 \nQ 40.921875 74.21875 44.703125 73.484375 \nQ 48.484375 72.75 52.59375 71.296875 \nz\n\" id=\"DejaVuSans-54\"/>\n      </defs>\n      <use transform=\"translate(0 0.78125)\" xlink:href=\"#DejaVuSans-8722\"/>\n      <use transform=\"translate(83.789062 0.78125)\" xlink:href=\"#DejaVuSans-49\"/>\n      <use transform=\"translate(147.412109 0.78125)\" xlink:href=\"#DejaVuSans-46\"/>\n      <use transform=\"translate(179.199219 0.78125)\" xlink:href=\"#DejaVuSans-49\"/>\n      <use transform=\"translate(242.822266 0.78125)\" xlink:href=\"#DejaVuSans-54\"/>\n     </g>\n    </g>\n   </g>\n   <g id=\"text_3\">\n    <g clip-path=\"url(#p6644098396)\">\n     <!-- X -->\n     <g transform=\"translate(148.847921 47.147987)scale(0.13 -0.13)\">\n      <defs>\n       <path d=\"M 6.296875 72.90625 \nL 16.890625 72.90625 \nL 35.015625 45.796875 \nL 53.21875 72.90625 \nL 63.8125 72.90625 \nL 40.375 37.890625 \nL 65.375 0 \nL 54.78125 0 \nL 34.28125 31 \nL 13.625 0 \nL 2.984375 0 \nL 29 38.921875 \nz\n\" id=\"DejaVuSans-88\"/>\n      </defs>\n      <use xlink:href=\"#DejaVuSans-88\"/>\n     </g>\n    </g>\n   </g>\n   <g id=\"text_4\">\n    <g clip-path=\"url(#p6644098396)\">\n     <!-- Z -->\n     <g transform=\"translate(194.298921 47.147987)scale(0.13 -0.13)\">\n      <defs>\n       <path d=\"M 5.609375 72.90625 \nL 62.890625 72.90625 \nL 62.890625 65.375 \nL 16.796875 8.296875 \nL 64.015625 8.296875 \nL 64.015625 0 \nL 4.5 0 \nL 4.5 7.515625 \nL 50.59375 64.59375 \nL 5.609375 64.59375 \nz\n\" id=\"DejaVuSans-90\"/>\n      </defs>\n      <use xlink:href=\"#DejaVuSans-90\"/>\n     </g>\n    </g>\n   </g>\n   <g id=\"text_5\">\n    <g clip-path=\"url(#p6644098396)\">\n     <!-- X -->\n     <g transform=\"translate(239.749921 47.147987)scale(0.13 -0.13)\">\n      <use xlink:href=\"#DejaVuSans-88\"/>\n     </g>\n    </g>\n   </g>\n   <g id=\"text_6\">\n    <g clip-path=\"url(#p6644098396)\">\n     <!-- $\\mathrm{R}_\\mathrm{Y}$ -->\n     <g transform=\"translate(282.113421 42.716515)scale(0.13 -0.13)\">\n      <use transform=\"translate(0 0.09375)\" xlink:href=\"#DejaVuSans-82\"/>\n      <use transform=\"translate(70.439453 -16.3125)scale(0.7)\" xlink:href=\"#DejaVuSans-89\"/>\n     </g>\n    </g>\n   </g>\n   <g id=\"text_7\">\n    <g clip-path=\"url(#p6644098396)\">\n     <!-- 1.16 -->\n     <g transform=\"translate(280.747171 54.631245)scale(0.08 -0.08)\">\n      <use xlink:href=\"#DejaVuSans-49\"/>\n      <use x=\"63.623047\" xlink:href=\"#DejaVuSans-46\"/>\n      <use x=\"95.410156\" xlink:href=\"#DejaVuSans-49\"/>\n      <use x=\"159.033203\" xlink:href=\"#DejaVuSans-54\"/>\n     </g>\n    </g>\n   </g>\n   <g id=\"text_8\">\n    <g clip-path=\"url(#p6644098396)\">\n     <!-- X -->\n     <g transform=\"translate(330.651921 47.147987)scale(0.13 -0.13)\">\n      <use xlink:href=\"#DejaVuSans-88\"/>\n     </g>\n    </g>\n   </g>\n   <g id=\"text_9\">\n    <g clip-path=\"url(#p6644098396)\">\n     <!-- H -->\n     <g transform=\"translate(375.667218 47.147987)scale(0.13 -0.13)\">\n      <defs>\n       <path d=\"M 9.8125 72.90625 \nL 19.671875 72.90625 \nL 19.671875 43.015625 \nL 55.515625 43.015625 \nL 55.515625 72.90625 \nL 65.375 72.90625 \nL 65.375 0 \nL 55.515625 0 \nL 55.515625 34.71875 \nL 19.671875 34.71875 \nL 19.671875 0 \nL 9.8125 0 \nz\n\" id=\"DejaVuSans-72\"/>\n      </defs>\n      <use xlink:href=\"#DejaVuSans-72\"/>\n     </g>\n    </g>\n   </g>\n   <g id=\"text_10\">\n    <g clip-path=\"url(#p6644098396)\">\n     <!-- X -->\n     <g transform=\"translate(421.553921 47.147987)scale(0.13 -0.13)\">\n      <use xlink:href=\"#DejaVuSans-88\"/>\n     </g>\n    </g>\n   </g>\n   <g id=\"text_11\">\n    <g clip-path=\"url(#p6644098396)\">\n     <!-- H -->\n     <g transform=\"translate(466.569218 47.147987)scale(0.13 -0.13)\">\n      <use xlink:href=\"#DejaVuSans-72\"/>\n     </g>\n    </g>\n   </g>\n   <g id=\"text_12\">\n    <g clip-path=\"url(#p6644098396)\">\n     <!-- X -->\n     <g transform=\"translate(512.455921 47.147987)scale(0.13 -0.13)\">\n      <use xlink:href=\"#DejaVuSans-88\"/>\n     </g>\n    </g>\n   </g>\n   <g id=\"text_13\">\n    <g clip-path=\"url(#p6644098396)\">\n     <!-- state -->\n     <g transform=\"translate(33.0524 48.044784)scale(0.1625 -0.1625)\">\n      <defs>\n       <path d=\"M 44.28125 53.078125 \nL 44.28125 44.578125 \nQ 40.484375 46.53125 36.375 47.5 \nQ 32.28125 48.484375 27.875 48.484375 \nQ 21.1875 48.484375 17.84375 46.4375 \nQ 14.5 44.390625 14.5 40.28125 \nQ 14.5 37.15625 16.890625 35.375 \nQ 19.28125 33.59375 26.515625 31.984375 \nL 29.59375 31.296875 \nQ 39.15625 29.25 43.1875 25.515625 \nQ 47.21875 21.78125 47.21875 15.09375 \nQ 47.21875 7.46875 41.1875 3.015625 \nQ 35.15625 -1.421875 24.609375 -1.421875 \nQ 20.21875 -1.421875 15.453125 -0.5625 \nQ 10.6875 0.296875 5.421875 2 \nL 5.421875 11.28125 \nQ 10.40625 8.6875 15.234375 7.390625 \nQ 20.0625 6.109375 24.8125 6.109375 \nQ 31.15625 6.109375 34.5625 8.28125 \nQ 37.984375 10.453125 37.984375 14.40625 \nQ 37.984375 18.0625 35.515625 20.015625 \nQ 33.0625 21.96875 24.703125 23.78125 \nL 21.578125 24.515625 \nQ 13.234375 26.265625 9.515625 29.90625 \nQ 5.8125 33.546875 5.8125 39.890625 \nQ 5.8125 47.609375 11.28125 51.796875 \nQ 16.75 56 26.8125 56 \nQ 31.78125 56 36.171875 55.265625 \nQ 40.578125 54.546875 44.28125 53.078125 \nz\n\" id=\"DejaVuSans-115\"/>\n       <path d=\"M 18.3125 70.21875 \nL 18.3125 54.6875 \nL 36.8125 54.6875 \nL 36.8125 47.703125 \nL 18.3125 47.703125 \nL 18.3125 18.015625 \nQ 18.3125 11.328125 20.140625 9.421875 \nQ 21.96875 7.515625 27.59375 7.515625 \nL 36.8125 7.515625 \nL 36.8125 0 \nL 27.59375 0 \nQ 17.1875 0 13.234375 3.875 \nQ 9.28125 7.765625 9.28125 18.015625 \nL 9.28125 47.703125 \nL 2.6875 47.703125 \nL 2.6875 54.6875 \nL 9.28125 54.6875 \nL 9.28125 70.21875 \nz\n\" id=\"DejaVuSans-116\"/>\n       <path d=\"M 34.28125 27.484375 \nQ 23.390625 27.484375 19.1875 25 \nQ 14.984375 22.515625 14.984375 16.5 \nQ 14.984375 11.71875 18.140625 8.90625 \nQ 21.296875 6.109375 26.703125 6.109375 \nQ 34.1875 6.109375 38.703125 11.40625 \nQ 43.21875 16.703125 43.21875 25.484375 \nL 43.21875 27.484375 \nz\nM 52.203125 31.203125 \nL 52.203125 0 \nL 43.21875 0 \nL 43.21875 8.296875 \nQ 40.140625 3.328125 35.546875 0.953125 \nQ 30.953125 -1.421875 24.3125 -1.421875 \nQ 15.921875 -1.421875 10.953125 3.296875 \nQ 6 8.015625 6 15.921875 \nQ 6 25.140625 12.171875 29.828125 \nQ 18.359375 34.515625 30.609375 34.515625 \nL 43.21875 34.515625 \nL 43.21875 35.40625 \nQ 43.21875 41.609375 39.140625 45 \nQ 35.0625 48.390625 27.6875 48.390625 \nQ 23 48.390625 18.546875 47.265625 \nQ 14.109375 46.140625 10.015625 43.890625 \nL 10.015625 52.203125 \nQ 14.9375 54.109375 19.578125 55.046875 \nQ 24.21875 56 28.609375 56 \nQ 40.484375 56 46.34375 49.84375 \nQ 52.203125 43.703125 52.203125 31.203125 \nz\n\" id=\"DejaVuSans-97\"/>\n       <path d=\"M 56.203125 29.59375 \nL 56.203125 25.203125 \nL 14.890625 25.203125 \nQ 15.484375 15.921875 20.484375 11.0625 \nQ 25.484375 6.203125 34.421875 6.203125 \nQ 39.59375 6.203125 44.453125 7.46875 \nQ 49.3125 8.734375 54.109375 11.28125 \nL 54.109375 2.78125 \nQ 49.265625 0.734375 44.1875 -0.34375 \nQ 39.109375 -1.421875 33.890625 -1.421875 \nQ 20.796875 -1.421875 13.15625 6.1875 \nQ 5.515625 13.8125 5.515625 26.8125 \nQ 5.515625 40.234375 12.765625 48.109375 \nQ 20.015625 56 32.328125 56 \nQ 43.359375 56 49.78125 48.890625 \nQ 56.203125 41.796875 56.203125 29.59375 \nz\nM 47.21875 32.234375 \nQ 47.125 39.59375 43.09375 43.984375 \nQ 39.0625 48.390625 32.421875 48.390625 \nQ 24.90625 48.390625 20.390625 44.140625 \nQ 15.875 39.890625 15.1875 32.171875 \nz\n\" id=\"DejaVuSans-101\"/>\n      </defs>\n      <use xlink:href=\"#DejaVuSans-115\"/>\n      <use x=\"52.099609\" xlink:href=\"#DejaVuSans-116\"/>\n      <use x=\"91.308594\" xlink:href=\"#DejaVuSans-97\"/>\n      <use x=\"152.587891\" xlink:href=\"#DejaVuSans-116\"/>\n      <use x=\"191.796875\" xlink:href=\"#DejaVuSans-101\"/>\n     </g>\n    </g>\n   </g>\n  </g>\n </g>\n <defs>\n  <clipPath id=\"p6644098396\">\n   <rect height=\"63.6314\" width=\"539.706081\" x=\"7.2\" y=\"7.2\"/>\n  </clipPath>\n </defs>\n</svg>\n",
      "image/png": "[encoded data removed]"
     },
     "metadata": {},
     "execution_count": 26
    }
   ],
   "source": [
    "test_gate = ae.grover_operator.inverse().to_gate().control(1)\n",
    "ae.grover_operator.inverse().draw('mpl')"
   ]
  },
  {
   "cell_type": "code",
   "execution_count": 27,
   "metadata": {},
   "outputs": [
    {
     "output_type": "execute_result",
     "data": {
      "text/plain": [
       "<Figure size 133.526x84.28 with 1 Axes>"
      ],
      "image/svg+xml": "<?xml version=\"1.0\" encoding=\"utf-8\" standalone=\"no\"?>\n<!DOCTYPE svg PUBLIC \"-//W3C//DTD SVG 1.1//EN\"\n  \"http://www.w3.org/Graphics/SVG/1.1/DTD/svg11.dtd\">\n<!-- Created with matplotlib (https://matplotlib.org/) -->\n<svg height=\"78.0314pt\" version=\"1.1\" viewBox=\"0 0 115.212136 78.0314\" width=\"115.212136pt\" xmlns=\"http://www.w3.org/2000/svg\" xmlns:xlink=\"http://www.w3.org/1999/xlink\">\n <metadata>\n  <rdf:RDF xmlns:cc=\"http://creativecommons.org/ns#\" xmlns:dc=\"http://purl.org/dc/elements/1.1/\" xmlns:rdf=\"http://www.w3.org/1999/02/22-rdf-syntax-ns#\">\n   <cc:Work>\n    <dc:type rdf:resource=\"http://purl.org/dc/dcmitype/StillImage\"/>\n    <dc:date>2021-02-09T20:26:26.574990</dc:date>\n    <dc:format>image/svg+xml</dc:format>\n    <dc:creator>\n     <cc:Agent>\n      <dc:title>Matplotlib v3.3.1, https://matplotlib.org/</dc:title>\n     </cc:Agent>\n    </dc:creator>\n   </cc:Work>\n  </rdf:RDF>\n </metadata>\n <defs>\n  <style type=\"text/css\">*{stroke-linecap:butt;stroke-linejoin:round;}</style>\n </defs>\n <g id=\"figure_1\">\n  <g id=\"patch_1\">\n   <path d=\"M 0 78.0314 \nL 115.212136 78.0314 \nL 115.212136 0 \nL 0 0 \nz\n\" style=\"fill:#ffffff;\"/>\n  </g>\n  <g id=\"axes_1\">\n   <g id=\"line2d_1\">\n    <path clip-path=\"url(#pdb4f7e50f1)\" d=\"M 53.470936 43.5608 \nL 103.467036 43.5608 \n\" style=\"fill:none;stroke:#000000;stroke-linecap:square;stroke-width:2;\"/>\n   </g>\n   <g id=\"patch_2\">\n    <path clip-path=\"url(#pdb4f7e50f1)\" d=\"M 63.242901 58.332375 \nL 92.786051 58.332375 \nL 92.786051 28.789225 \nL 63.242901 28.789225 \nz\n\" style=\"fill:#bb8bff;stroke:#bb8bff;stroke-linejoin:miter;stroke-width:1.5;\"/>\n   </g>\n   <g id=\"text_1\">\n    <g clip-path=\"url(#pdb4f7e50f1)\">\n     <!-- $\\mathrm{R}_\\mathrm{Y}$ -->\n     <g transform=\"translate(70.474476 42.716515)scale(0.13 -0.13)\">\n      <defs>\n       <path d=\"M 44.390625 34.1875 \nQ 47.5625 33.109375 50.5625 29.59375 \nQ 53.5625 26.078125 56.59375 19.921875 \nL 66.609375 0 \nL 56 0 \nL 46.6875 18.703125 \nQ 43.0625 26.03125 39.671875 28.421875 \nQ 36.28125 30.8125 30.421875 30.8125 \nL 19.671875 30.8125 \nL 19.671875 0 \nL 9.8125 0 \nL 9.8125 72.90625 \nL 32.078125 72.90625 \nQ 44.578125 72.90625 50.734375 67.671875 \nQ 56.890625 62.453125 56.890625 51.90625 \nQ 56.890625 45.015625 53.6875 40.46875 \nQ 50.484375 35.9375 44.390625 34.1875 \nz\nM 19.671875 64.796875 \nL 19.671875 38.921875 \nL 32.078125 38.921875 \nQ 39.203125 38.921875 42.84375 42.21875 \nQ 46.484375 45.515625 46.484375 51.90625 \nQ 46.484375 58.296875 42.84375 61.546875 \nQ 39.203125 64.796875 32.078125 64.796875 \nz\n\" id=\"DejaVuSans-82\"/>\n       <path d=\"M -0.203125 72.90625 \nL 10.40625 72.90625 \nL 30.609375 42.921875 \nL 50.6875 72.90625 \nL 61.28125 72.90625 \nL 35.5 34.71875 \nL 35.5 0 \nL 25.59375 0 \nL 25.59375 34.71875 \nz\n\" id=\"DejaVuSans-89\"/>\n      </defs>\n      <use transform=\"translate(0 0.09375)\" xlink:href=\"#DejaVuSans-82\"/>\n      <use transform=\"translate(70.439453 -16.3125)scale(0.7)\" xlink:href=\"#DejaVuSans-89\"/>\n     </g>\n    </g>\n   </g>\n   <g id=\"text_2\">\n    <g clip-path=\"url(#pdb4f7e50f1)\">\n     <!-- 1.16 -->\n     <g transform=\"translate(69.108226 54.631245)scale(0.08 -0.08)\">\n      <defs>\n       <path d=\"M 12.40625 8.296875 \nL 28.515625 8.296875 \nL 28.515625 63.921875 \nL 10.984375 60.40625 \nL 10.984375 69.390625 \nL 28.421875 72.90625 \nL 38.28125 72.90625 \nL 38.28125 8.296875 \nL 54.390625 8.296875 \nL 54.390625 0 \nL 12.40625 0 \nz\n\" id=\"DejaVuSans-49\"/>\n       <path d=\"M 10.6875 12.40625 \nL 21 12.40625 \nL 21 0 \nL 10.6875 0 \nz\n\" id=\"DejaVuSans-46\"/>\n       <path d=\"M 33.015625 40.375 \nQ 26.375 40.375 22.484375 35.828125 \nQ 18.609375 31.296875 18.609375 23.390625 \nQ 18.609375 15.53125 22.484375 10.953125 \nQ 26.375 6.390625 33.015625 6.390625 \nQ 39.65625 6.390625 43.53125 10.953125 \nQ 47.40625 15.53125 47.40625 23.390625 \nQ 47.40625 31.296875 43.53125 35.828125 \nQ 39.65625 40.375 33.015625 40.375 \nz\nM 52.59375 71.296875 \nL 52.59375 62.3125 \nQ 48.875 64.0625 45.09375 64.984375 \nQ 41.3125 65.921875 37.59375 65.921875 \nQ 27.828125 65.921875 22.671875 59.328125 \nQ 17.53125 52.734375 16.796875 39.40625 \nQ 19.671875 43.65625 24.015625 45.921875 \nQ 28.375 48.1875 33.59375 48.1875 \nQ 44.578125 48.1875 50.953125 41.515625 \nQ 57.328125 34.859375 57.328125 23.390625 \nQ 57.328125 12.15625 50.6875 5.359375 \nQ 44.046875 -1.421875 33.015625 -1.421875 \nQ 20.359375 -1.421875 13.671875 8.265625 \nQ 6.984375 17.96875 6.984375 36.375 \nQ 6.984375 53.65625 15.1875 63.9375 \nQ 23.390625 74.21875 37.203125 74.21875 \nQ 40.921875 74.21875 44.703125 73.484375 \nQ 48.484375 72.75 52.59375 71.296875 \nz\n\" id=\"DejaVuSans-54\"/>\n      </defs>\n      <use xlink:href=\"#DejaVuSans-49\"/>\n      <use x=\"63.623047\" xlink:href=\"#DejaVuSans-46\"/>\n      <use x=\"95.410156\" xlink:href=\"#DejaVuSans-49\"/>\n      <use x=\"159.033203\" xlink:href=\"#DejaVuSans-54\"/>\n     </g>\n    </g>\n   </g>\n   <g id=\"text_3\">\n    <g clip-path=\"url(#pdb4f7e50f1)\">\n     <!-- q -->\n     <g transform=\"translate(34.064525 48.044784)scale(0.1625 -0.1625)\">\n      <defs>\n       <path d=\"M 14.796875 27.296875 \nQ 14.796875 17.390625 18.875 11.75 \nQ 22.953125 6.109375 30.078125 6.109375 \nQ 37.203125 6.109375 41.296875 11.75 \nQ 45.40625 17.390625 45.40625 27.296875 \nQ 45.40625 37.203125 41.296875 42.84375 \nQ 37.203125 48.484375 30.078125 48.484375 \nQ 22.953125 48.484375 18.875 42.84375 \nQ 14.796875 37.203125 14.796875 27.296875 \nz\nM 45.40625 8.203125 \nQ 42.578125 3.328125 38.25 0.953125 \nQ 33.9375 -1.421875 27.875 -1.421875 \nQ 17.96875 -1.421875 11.734375 6.484375 \nQ 5.515625 14.40625 5.515625 27.296875 \nQ 5.515625 40.1875 11.734375 48.09375 \nQ 17.96875 56 27.875 56 \nQ 33.9375 56 38.25 53.625 \nQ 42.578125 51.265625 45.40625 46.390625 \nL 45.40625 54.6875 \nL 54.390625 54.6875 \nL 54.390625 -20.796875 \nL 45.40625 -20.796875 \nz\n\" id=\"DejaVuSans-113\"/>\n      </defs>\n      <use xlink:href=\"#DejaVuSans-113\"/>\n     </g>\n    </g>\n   </g>\n  </g>\n </g>\n <defs>\n  <clipPath id=\"pdb4f7e50f1\">\n   <rect height=\"63.6314\" width=\"100.812136\" x=\"7.2\" y=\"7.2\"/>\n  </clipPath>\n </defs>\n</svg>\n",
      "image/png": "[encoded data removed]"
     },
     "metadata": {},
     "execution_count": 27
    }
   ],
   "source": [
    "ae.state_preparation.draw('mpl')"
   ]
  },
  {
   "cell_type": "code",
   "execution_count": 28,
   "metadata": {},
   "outputs": [
    {
     "output_type": "execute_result",
     "data": {
      "text/plain": [
       "<Figure size 327.252x144.48 with 1 Axes>"
      ],
      "image/svg+xml": "<?xml version=\"1.0\" encoding=\"utf-8\" standalone=\"no\"?>\n<!DOCTYPE svg PUBLIC \"-//W3C//DTD SVG 1.1//EN\"\n  \"http://www.w3.org/Graphics/SVG/1.1/DTD/svg11.dtd\">\n<!-- Created with matplotlib (https://matplotlib.org/) -->\n<svg height=\"123.4824pt\" version=\"1.1\" viewBox=\"0 0 261.475272 123.4824\" width=\"261.475272pt\" xmlns=\"http://www.w3.org/2000/svg\" xmlns:xlink=\"http://www.w3.org/1999/xlink\">\n <metadata>\n  <rdf:RDF xmlns:cc=\"http://creativecommons.org/ns#\" xmlns:dc=\"http://purl.org/dc/elements/1.1/\" xmlns:rdf=\"http://www.w3.org/1999/02/22-rdf-syntax-ns#\">\n   <cc:Work>\n    <dc:type rdf:resource=\"http://purl.org/dc/dcmitype/StillImage\"/>\n    <dc:date>2021-02-09T20:26:33.413759</dc:date>\n    <dc:format>image/svg+xml</dc:format>\n    <dc:creator>\n     <cc:Agent>\n      <dc:title>Matplotlib v3.3.1, https://matplotlib.org/</dc:title>\n     </cc:Agent>\n    </dc:creator>\n   </cc:Work>\n  </rdf:RDF>\n </metadata>\n <defs>\n  <style type=\"text/css\">*{stroke-linecap:butt;stroke-linejoin:round;}</style>\n </defs>\n <g id=\"figure_1\">\n  <g id=\"patch_1\">\n   <path d=\"M 0 123.4824 \nL 261.475272 123.4824 \nL 261.475272 0 \nL 0 0 \nz\n\" style=\"fill:#ffffff;\"/>\n  </g>\n  <g id=\"axes_1\">\n   <g id=\"line2d_1\">\n    <path clip-path=\"url(#pd1680c0a71)\" d=\"M 63.381072 43.5608 \nL 249.730172 43.5608 \n\" style=\"fill:none;stroke:#000000;stroke-linecap:square;stroke-width:2;\"/>\n   </g>\n   <g id=\"line2d_2\">\n    <path clip-path=\"url(#pd1680c0a71)\" d=\"M 63.381072 89.0118 \nL 249.730172 89.0118 \n\" style=\"fill:none;stroke:#000000;stroke-linecap:square;stroke-width:2;\"/>\n   </g>\n   <g id=\"line2d_3\">\n    <path clip-path=\"url(#pd1680c0a71)\" d=\"M 110.650112 89.0118 \nL 110.650112 43.5608 \n\" style=\"fill:none;stroke:#bb8bff;stroke-linecap:square;stroke-width:2;\"/>\n   </g>\n   <g id=\"patch_2\">\n    <path clip-path=\"url(#pd1680c0a71)\" d=\"M 110.650112 47.992273 \nC 111.825352 47.992273 112.952616 47.525345 113.783636 46.694324 \nC 114.614657 45.863304 115.081585 44.73604 115.081585 43.5608 \nC 115.081585 42.38556 114.614657 41.258296 113.783636 40.427276 \nC 112.952616 39.596255 111.825352 39.129328 110.650112 39.129328 \nC 109.474872 39.129328 108.347608 39.596255 107.516588 40.427276 \nC 106.685567 41.258296 106.21864 42.38556 106.21864 43.5608 \nC 106.21864 44.73604 106.685567 45.863304 107.516588 46.694324 \nC 108.347608 47.525345 109.474872 47.992273 110.650112 47.992273 \nz\n\" style=\"fill:#bb8bff;stroke:#bb8bff;stroke-linejoin:miter;stroke-width:1.5;\"/>\n   </g>\n   <g id=\"patch_3\">\n    <path clip-path=\"url(#pd1680c0a71)\" d=\"M 93.226471 103.783375 \nL 128.073753 103.783375 \nL 128.073753 74.240225 \nL 93.226471 74.240225 \nz\n\" style=\"fill:#bb8bff;stroke:#bb8bff;stroke-linejoin:miter;stroke-width:1.5;\"/>\n   </g>\n   <g id=\"patch_4\">\n    <path clip-path=\"url(#pd1680c0a71)\" d=\"M 164.536818 103.783375 \nL 238.567406 103.783375 \nL 238.567406 28.789225 \nL 164.536818 28.789225 \nz\n\" style=\"fill:#bb8bff;stroke:#bb8bff;stroke-linejoin:miter;stroke-width:1.5;\"/>\n   </g>\n   <g id=\"text_1\">\n    <g clip-path=\"url(#pd1680c0a71)\">\n     <!-- Q_dg -->\n     <g transform=\"translate(94.030425 92.418206)scale(0.13 -0.13)\">\n      <defs>\n       <path d=\"M 39.40625 66.21875 \nQ 28.65625 66.21875 22.328125 58.203125 \nQ 16.015625 50.203125 16.015625 36.375 \nQ 16.015625 22.609375 22.328125 14.59375 \nQ 28.65625 6.59375 39.40625 6.59375 \nQ 50.140625 6.59375 56.421875 14.59375 \nQ 62.703125 22.609375 62.703125 36.375 \nQ 62.703125 50.203125 56.421875 58.203125 \nQ 50.140625 66.21875 39.40625 66.21875 \nz\nM 53.21875 1.3125 \nL 66.21875 -12.890625 \nL 54.296875 -12.890625 \nL 43.5 -1.21875 \nQ 41.890625 -1.3125 41.03125 -1.359375 \nQ 40.1875 -1.421875 39.40625 -1.421875 \nQ 24.03125 -1.421875 14.8125 8.859375 \nQ 5.609375 19.140625 5.609375 36.375 \nQ 5.609375 53.65625 14.8125 63.9375 \nQ 24.03125 74.21875 39.40625 74.21875 \nQ 54.734375 74.21875 63.90625 63.9375 \nQ 73.09375 53.65625 73.09375 36.375 \nQ 73.09375 23.6875 67.984375 14.640625 \nQ 62.890625 5.609375 53.21875 1.3125 \nz\n\" id=\"DejaVuSans-81\"/>\n       <path d=\"M 50.984375 -16.609375 \nL 50.984375 -23.578125 \nL -0.984375 -23.578125 \nL -0.984375 -16.609375 \nz\n\" id=\"DejaVuSans-95\"/>\n       <path d=\"M 45.40625 46.390625 \nL 45.40625 75.984375 \nL 54.390625 75.984375 \nL 54.390625 0 \nL 45.40625 0 \nL 45.40625 8.203125 \nQ 42.578125 3.328125 38.25 0.953125 \nQ 33.9375 -1.421875 27.875 -1.421875 \nQ 17.96875 -1.421875 11.734375 6.484375 \nQ 5.515625 14.40625 5.515625 27.296875 \nQ 5.515625 40.1875 11.734375 48.09375 \nQ 17.96875 56 27.875 56 \nQ 33.9375 56 38.25 53.625 \nQ 42.578125 51.265625 45.40625 46.390625 \nz\nM 14.796875 27.296875 \nQ 14.796875 17.390625 18.875 11.75 \nQ 22.953125 6.109375 30.078125 6.109375 \nQ 37.203125 6.109375 41.296875 11.75 \nQ 45.40625 17.390625 45.40625 27.296875 \nQ 45.40625 37.203125 41.296875 42.84375 \nQ 37.203125 48.484375 30.078125 48.484375 \nQ 22.953125 48.484375 18.875 42.84375 \nQ 14.796875 37.203125 14.796875 27.296875 \nz\n\" id=\"DejaVuSans-100\"/>\n       <path d=\"M 45.40625 27.984375 \nQ 45.40625 37.75 41.375 43.109375 \nQ 37.359375 48.484375 30.078125 48.484375 \nQ 22.859375 48.484375 18.828125 43.109375 \nQ 14.796875 37.75 14.796875 27.984375 \nQ 14.796875 18.265625 18.828125 12.890625 \nQ 22.859375 7.515625 30.078125 7.515625 \nQ 37.359375 7.515625 41.375 12.890625 \nQ 45.40625 18.265625 45.40625 27.984375 \nz\nM 54.390625 6.78125 \nQ 54.390625 -7.171875 48.1875 -13.984375 \nQ 42 -20.796875 29.203125 -20.796875 \nQ 24.46875 -20.796875 20.265625 -20.09375 \nQ 16.0625 -19.390625 12.109375 -17.921875 \nL 12.109375 -9.1875 \nQ 16.0625 -11.328125 19.921875 -12.34375 \nQ 23.78125 -13.375 27.78125 -13.375 \nQ 36.625 -13.375 41.015625 -8.765625 \nQ 45.40625 -4.15625 45.40625 5.171875 \nL 45.40625 9.625 \nQ 42.625 4.78125 38.28125 2.390625 \nQ 33.9375 0 27.875 0 \nQ 17.828125 0 11.671875 7.65625 \nQ 5.515625 15.328125 5.515625 27.984375 \nQ 5.515625 40.671875 11.671875 48.328125 \nQ 17.828125 56 27.875 56 \nQ 33.9375 56 38.28125 53.609375 \nQ 42.625 51.21875 45.40625 46.390625 \nL 45.40625 54.6875 \nL 54.390625 54.6875 \nz\n\" id=\"DejaVuSans-103\"/>\n      </defs>\n      <use xlink:href=\"#DejaVuSans-81\"/>\n      <use x=\"78.710938\" xlink:href=\"#DejaVuSans-95\"/>\n      <use x=\"128.710938\" xlink:href=\"#DejaVuSans-100\"/>\n      <use x=\"192.1875\" xlink:href=\"#DejaVuSans-103\"/>\n     </g>\n    </g>\n   </g>\n   <g id=\"text_2\">\n    <g clip-path=\"url(#pd1680c0a71)\">\n     <!-- 0 -->\n     <g transform=\"translate(167.718388 47.147988)scale(0.13 -0.13)\">\n      <defs>\n       <path d=\"M 31.78125 66.40625 \nQ 24.171875 66.40625 20.328125 58.90625 \nQ 16.5 51.421875 16.5 36.375 \nQ 16.5 21.390625 20.328125 13.890625 \nQ 24.171875 6.390625 31.78125 6.390625 \nQ 39.453125 6.390625 43.28125 13.890625 \nQ 47.125 21.390625 47.125 36.375 \nQ 47.125 51.421875 43.28125 58.90625 \nQ 39.453125 66.40625 31.78125 66.40625 \nz\nM 31.78125 74.21875 \nQ 44.046875 74.21875 50.515625 64.515625 \nQ 56.984375 54.828125 56.984375 36.375 \nQ 56.984375 17.96875 50.515625 8.265625 \nQ 44.046875 -1.421875 31.78125 -1.421875 \nQ 19.53125 -1.421875 13.0625 8.265625 \nQ 6.59375 17.96875 6.59375 36.375 \nQ 6.59375 54.828125 13.0625 64.515625 \nQ 19.53125 74.21875 31.78125 74.21875 \nz\n\" id=\"DejaVuSans-48\"/>\n      </defs>\n      <use xlink:href=\"#DejaVuSans-48\"/>\n     </g>\n    </g>\n   </g>\n   <g id=\"text_3\">\n    <g clip-path=\"url(#pd1680c0a71)\">\n     <!-- 1 -->\n     <g transform=\"translate(167.718388 92.598988)scale(0.13 -0.13)\">\n      <defs>\n       <path d=\"M 12.40625 8.296875 \nL 28.515625 8.296875 \nL 28.515625 63.921875 \nL 10.984375 60.40625 \nL 10.984375 69.390625 \nL 28.421875 72.90625 \nL 38.28125 72.90625 \nL 38.28125 8.296875 \nL 54.390625 8.296875 \nL 54.390625 0 \nL 12.40625 0 \nz\n\" id=\"DejaVuSans-49\"/>\n      </defs>\n      <use xlink:href=\"#DejaVuSans-49\"/>\n     </g>\n    </g>\n   </g>\n   <g id=\"text_4\">\n    <g clip-path=\"url(#pd1680c0a71)\">\n     <!-- CQ_dg^2 -->\n     <g transform=\"translate(175.810785 69.692706)scale(0.13 -0.13)\">\n      <defs>\n       <path d=\"M 64.40625 67.28125 \nL 64.40625 56.890625 \nQ 59.421875 61.53125 53.78125 63.8125 \nQ 48.140625 66.109375 41.796875 66.109375 \nQ 29.296875 66.109375 22.65625 58.46875 \nQ 16.015625 50.828125 16.015625 36.375 \nQ 16.015625 21.96875 22.65625 14.328125 \nQ 29.296875 6.6875 41.796875 6.6875 \nQ 48.140625 6.6875 53.78125 8.984375 \nQ 59.421875 11.28125 64.40625 15.921875 \nL 64.40625 5.609375 \nQ 59.234375 2.09375 53.4375 0.328125 \nQ 47.65625 -1.421875 41.21875 -1.421875 \nQ 24.65625 -1.421875 15.125 8.703125 \nQ 5.609375 18.84375 5.609375 36.375 \nQ 5.609375 53.953125 15.125 64.078125 \nQ 24.65625 74.21875 41.21875 74.21875 \nQ 47.75 74.21875 53.53125 72.484375 \nQ 59.328125 70.75 64.40625 67.28125 \nz\n\" id=\"DejaVuSans-67\"/>\n       <path d=\"M 46.6875 72.90625 \nL 73.1875 45.703125 \nL 63.375 45.703125 \nL 41.890625 64.984375 \nL 20.40625 45.703125 \nL 10.59375 45.703125 \nL 37.109375 72.90625 \nz\n\" id=\"DejaVuSans-94\"/>\n       <path d=\"M 19.1875 8.296875 \nL 53.609375 8.296875 \nL 53.609375 0 \nL 7.328125 0 \nL 7.328125 8.296875 \nQ 12.9375 14.109375 22.625 23.890625 \nQ 32.328125 33.6875 34.8125 36.53125 \nQ 39.546875 41.84375 41.421875 45.53125 \nQ 43.3125 49.21875 43.3125 52.78125 \nQ 43.3125 58.59375 39.234375 62.25 \nQ 35.15625 65.921875 28.609375 65.921875 \nQ 23.96875 65.921875 18.8125 64.3125 \nQ 13.671875 62.703125 7.8125 59.421875 \nL 7.8125 69.390625 \nQ 13.765625 71.78125 18.9375 73 \nQ 24.125 74.21875 28.421875 74.21875 \nQ 39.75 74.21875 46.484375 68.546875 \nQ 53.21875 62.890625 53.21875 53.421875 \nQ 53.21875 48.921875 51.53125 44.890625 \nQ 49.859375 40.875 45.40625 35.40625 \nQ 44.1875 33.984375 37.640625 27.21875 \nQ 31.109375 20.453125 19.1875 8.296875 \nz\n\" id=\"DejaVuSans-50\"/>\n      </defs>\n      <use xlink:href=\"#DejaVuSans-67\"/>\n      <use x=\"69.824219\" xlink:href=\"#DejaVuSans-81\"/>\n      <use x=\"148.535156\" xlink:href=\"#DejaVuSans-95\"/>\n      <use x=\"198.535156\" xlink:href=\"#DejaVuSans-100\"/>\n      <use x=\"262.011719\" xlink:href=\"#DejaVuSans-103\"/>\n      <use x=\"325.488281\" xlink:href=\"#DejaVuSans-94\"/>\n      <use x=\"409.277344\" xlink:href=\"#DejaVuSans-50\"/>\n     </g>\n    </g>\n   </g>\n   <g id=\"text_5\">\n    <g clip-path=\"url(#pd1680c0a71)\">\n     <!-- ${q}_{0}$ -->\n     <g transform=\"translate(36.253372 48.011777)scale(0.1625 -0.1625)\">\n      <defs>\n       <path d=\"M 41.703125 8.203125 \nQ 38.09375 3.46875 33.171875 1.015625 \nQ 28.265625 -1.421875 22.3125 -1.421875 \nQ 14.015625 -1.421875 9.296875 4.171875 \nQ 4.59375 9.765625 4.59375 19.578125 \nQ 4.59375 27.484375 7.5 34.859375 \nQ 10.40625 42.234375 15.828125 48.09375 \nQ 19.34375 51.90625 23.90625 53.953125 \nQ 28.46875 56 33.5 56 \nQ 39.546875 56 43.453125 53.609375 \nQ 47.359375 51.21875 49.125 46.390625 \nL 50.6875 54.59375 \nL 59.71875 54.59375 \nL 45.125 -20.609375 \nL 36.078125 -20.609375 \nz\nM 13.921875 20.90625 \nQ 13.921875 13.671875 16.9375 9.890625 \nQ 19.96875 6.109375 25.6875 6.109375 \nQ 34.1875 6.109375 40.1875 14.234375 \nQ 46.1875 22.359375 46.1875 33.984375 \nQ 46.1875 41.015625 43.078125 44.75 \nQ 39.984375 48.484375 34.1875 48.484375 \nQ 29.9375 48.484375 26.3125 46.5 \nQ 22.703125 44.53125 20.015625 40.71875 \nQ 17.1875 36.71875 15.546875 31.34375 \nQ 13.921875 25.984375 13.921875 20.90625 \nz\n\" id=\"DejaVuSans-Oblique-113\"/>\n      </defs>\n      <use xlink:href=\"#DejaVuSans-Oblique-113\"/>\n      <use transform=\"translate(63.476562 -16.40625)scale(0.7)\" xlink:href=\"#DejaVuSans-48\"/>\n     </g>\n    </g>\n   </g>\n   <g id=\"text_6\">\n    <g clip-path=\"url(#pd1680c0a71)\">\n     <!-- ${q}_{1}$ -->\n     <g transform=\"translate(36.253372 93.462777)scale(0.1625 -0.1625)\">\n      <use xlink:href=\"#DejaVuSans-Oblique-113\"/>\n      <use transform=\"translate(63.476562 -16.40625)scale(0.7)\" xlink:href=\"#DejaVuSans-49\"/>\n     </g>\n    </g>\n   </g>\n  </g>\n </g>\n <defs>\n  <clipPath id=\"pd1680c0a71\">\n   <rect height=\"109.0824\" width=\"247.075272\" x=\"7.2\" y=\"7.2\"/>\n  </clipPath>\n </defs>\n</svg>\n",
      "image/png": "[encoded data removed]"
     },
     "metadata": {},
     "execution_count": 28
    }
   ],
   "source": [
    "q_test = QuantumCircuit(2)\n",
    "q_test.append(test_gate, [0,1])\n",
    "q_test.append(test_gate.power(2), [0,1])\n",
    "q_test.draw('mpl')"
   ]
  },
  {
   "cell_type": "markdown",
   "metadata": {},
   "source": [
    "## Design our own AE"
   ]
  },
  {
   "cell_type": "code",
   "execution_count": 29,
   "metadata": {},
   "outputs": [],
   "source": [
    "def qft_dagger(qc, n):\n",
    "    \"\"\"n-qubit QFTdagger the first n qubits in circ\"\"\"\n",
    "    # Don't forget the Swaps!\n",
    "    for qubit in range(n//2):\n",
    "        qc.swap(qubit, n-qubit-1)\n",
    "    for j in range(n):\n",
    "        for m in range(j):\n",
    "            qc.cp(-math.pi/float(2**(j-m)), m, j)\n",
    "        qc.h(j)\n",
    "\n"
   ]
  },
  {
   "cell_type": "code",
   "execution_count": 30,
   "metadata": {},
   "outputs": [
    {
     "output_type": "execute_result",
     "data": {
      "text/plain": [
       "<Figure size 1507.48x385.28 with 1 Axes>"
      ],
      "image/svg+xml": "<?xml version=\"1.0\" encoding=\"utf-8\" standalone=\"no\"?>\n<!DOCTYPE svg PUBLIC \"-//W3C//DTD SVG 1.1//EN\"\n  \"http://www.w3.org/Graphics/SVG/1.1/DTD/svg11.dtd\">\n<!-- Created with matplotlib (https://matplotlib.org/) -->\n<svg height=\"305.2864pt\" version=\"1.1\" viewBox=\"0 0 1152.549854 305.2864\" width=\"1152.549854pt\" xmlns=\"http://www.w3.org/2000/svg\" xmlns:xlink=\"http://www.w3.org/1999/xlink\">\n <metadata>\n  <rdf:RDF xmlns:cc=\"http://creativecommons.org/ns#\" xmlns:dc=\"http://purl.org/dc/elements/1.1/\" xmlns:rdf=\"http://www.w3.org/1999/02/22-rdf-syntax-ns#\">\n   <cc:Work>\n    <dc:type rdf:resource=\"http://purl.org/dc/dcmitype/StillImage\"/>\n    <dc:date>2021-02-09T20:26:38.022759</dc:date>\n    <dc:format>image/svg+xml</dc:format>\n    <dc:creator>\n     <cc:Agent>\n      <dc:title>Matplotlib v3.3.1, https://matplotlib.org/</dc:title>\n     </cc:Agent>\n    </dc:creator>\n   </cc:Work>\n  </rdf:RDF>\n </metadata>\n <defs>\n  <style type=\"text/css\">*{stroke-linecap:butt;stroke-linejoin:round;}</style>\n </defs>\n <g id=\"figure_1\">\n  <g id=\"patch_1\">\n   <path d=\"M -0 305.2864 \nL 1152.549854 305.2864 \nL 1152.549854 0 \nL -0 0 \nz\n\" style=\"fill:#ffffff;\"/>\n  </g>\n  <g id=\"axes_1\">\n   <g id=\"patch_2\">\n    <path clip-path=\"url(#p5549edb645)\" d=\"M 973.090564 260.475697 \nL 984.907824 260.475697 \nL 978.999194 268.99776 \nz\n\" style=\"fill:#778899;\"/>\n   </g>\n   <g id=\"patch_3\">\n    <path clip-path=\"url(#p5549edb645)\" d=\"M 1018.541564 260.475697 \nL 1030.358824 260.475697 \nL 1024.450194 268.99776 \nz\n\" style=\"fill:#778899;\"/>\n   </g>\n   <g id=\"patch_4\">\n    <path clip-path=\"url(#p5549edb645)\" d=\"M 1063.992564 260.475697 \nL 1075.809824 260.475697 \nL 1069.901194 268.99776 \nz\n\" style=\"fill:#778899;\"/>\n   </g>\n   <g id=\"patch_5\">\n    <path clip-path=\"url(#p5549edb645)\" d=\"M 1109.443564 260.475697 \nL 1121.260824 260.475697 \nL 1115.352194 268.99776 \nz\n\" style=\"fill:#778899;\"/>\n   </g>\n   <g id=\"line2d_1\">\n    <path clip-path=\"url(#p5549edb645)\" d=\"M 136.337654 43.5608 \nL 1140.804754 43.5608 \n\" style=\"fill:none;stroke:#000000;stroke-linecap:square;stroke-width:2;\"/>\n   </g>\n   <g id=\"line2d_2\">\n    <path clip-path=\"url(#p5549edb645)\" d=\"M 136.337654 89.0118 \nL 1140.804754 89.0118 \n\" style=\"fill:none;stroke:#000000;stroke-linecap:square;stroke-width:2;\"/>\n   </g>\n   <g id=\"line2d_3\">\n    <path clip-path=\"url(#p5549edb645)\" d=\"M 136.337654 134.4628 \nL 1140.804754 134.4628 \n\" style=\"fill:none;stroke:#000000;stroke-linecap:square;stroke-width:2;\"/>\n   </g>\n   <g id=\"line2d_4\">\n    <path clip-path=\"url(#p5549edb645)\" d=\"M 136.337654 179.9138 \nL 1140.804754 179.9138 \n\" style=\"fill:none;stroke:#000000;stroke-linecap:square;stroke-width:2;\"/>\n   </g>\n   <g id=\"line2d_5\">\n    <path clip-path=\"url(#p5549edb645)\" d=\"M 136.337654 225.3648 \nL 1140.804754 225.3648 \n\" style=\"fill:none;stroke:#000000;stroke-linecap:square;stroke-width:2;\"/>\n   </g>\n   <g id=\"line2d_6\">\n    <path clip-path=\"url(#p5549edb645)\" d=\"M 136.337654 269.338642 \nL 1140.804754 269.338642 \n\" style=\"fill:none;stroke:#778899;stroke-linecap:square;stroke-width:2;\"/>\n   </g>\n   <g id=\"line2d_7\">\n    <path clip-path=\"url(#p5549edb645)\" d=\"M 136.337654 272.292957 \nL 1140.804754 272.292957 \n\" style=\"fill:none;stroke:#778899;stroke-linecap:square;stroke-width:2;\"/>\n   </g>\n   <g id=\"patch_6\">\n    <path clip-path=\"url(#p5549edb645)\" d=\"M 197.469249 66.2863 \nL 215.195139 66.2863 \nL 215.195139 20.8353 \nL 197.469249 20.8353 \nz\n\" style=\"fill:#bdbdbd;opacity:0.6;\"/>\n   </g>\n   <g id=\"patch_7\">\n    <path clip-path=\"url(#p5549edb645)\" d=\"M 197.469249 111.7373 \nL 215.195139 111.7373 \nL 215.195139 66.2863 \nL 197.469249 66.2863 \nz\n\" style=\"fill:#bdbdbd;opacity:0.6;\"/>\n   </g>\n   <g id=\"patch_8\">\n    <path clip-path=\"url(#p5549edb645)\" d=\"M 197.469249 157.1883 \nL 215.195139 157.1883 \nL 215.195139 111.7373 \nL 197.469249 111.7373 \nz\n\" style=\"fill:#bdbdbd;opacity:0.6;\"/>\n   </g>\n   <g id=\"patch_9\">\n    <path clip-path=\"url(#p5549edb645)\" d=\"M 197.469249 202.6393 \nL 215.195139 202.6393 \nL 215.195139 157.1883 \nL 197.469249 157.1883 \nz\n\" style=\"fill:#bdbdbd;opacity:0.6;\"/>\n   </g>\n   <g id=\"patch_10\">\n    <path clip-path=\"url(#p5549edb645)\" d=\"M 197.469249 248.0903 \nL 215.195139 248.0903 \nL 215.195139 202.6393 \nL 197.469249 202.6393 \nz\n\" style=\"fill:#bdbdbd;opacity:0.6;\"/>\n   </g>\n   <g id=\"patch_11\">\n    <path clip-path=\"url(#p5549edb645)\" d=\"M 924.685249 66.2863 \nL 942.411139 66.2863 \nL 942.411139 20.8353 \nL 924.685249 20.8353 \nz\n\" style=\"fill:#bdbdbd;opacity:0.6;\"/>\n   </g>\n   <g id=\"patch_12\">\n    <path clip-path=\"url(#p5549edb645)\" d=\"M 924.685249 111.7373 \nL 942.411139 111.7373 \nL 942.411139 66.2863 \nL 924.685249 66.2863 \nz\n\" style=\"fill:#bdbdbd;opacity:0.6;\"/>\n   </g>\n   <g id=\"patch_13\">\n    <path clip-path=\"url(#p5549edb645)\" d=\"M 924.685249 157.1883 \nL 942.411139 157.1883 \nL 942.411139 111.7373 \nL 924.685249 111.7373 \nz\n\" style=\"fill:#bdbdbd;opacity:0.6;\"/>\n   </g>\n   <g id=\"patch_14\">\n    <path clip-path=\"url(#p5549edb645)\" d=\"M 924.685249 202.6393 \nL 942.411139 202.6393 \nL 942.411139 157.1883 \nL 924.685249 157.1883 \nz\n\" style=\"fill:#bdbdbd;opacity:0.6;\"/>\n   </g>\n   <g id=\"patch_15\">\n    <path clip-path=\"url(#p5549edb645)\" d=\"M 924.685249 248.0903 \nL 942.411139 248.0903 \nL 942.411139 202.6393 \nL 924.685249 202.6393 \nz\n\" style=\"fill:#bdbdbd;opacity:0.6;\"/>\n   </g>\n   <g id=\"line2d_8\">\n    <path clip-path=\"url(#p5549edb645)\" d=\"M 251.783194 225.3648 \nL 251.783194 43.5608 \n\" style=\"fill:none;stroke:#bb8bff;stroke-linecap:square;stroke-width:2;\"/>\n   </g>\n   <g id=\"line2d_9\">\n    <path clip-path=\"url(#p5549edb645)\" d=\"M 297.234194 225.3648 \nL 297.234194 89.0118 \n\" style=\"fill:none;stroke:#bb8bff;stroke-linecap:square;stroke-width:2;\"/>\n   </g>\n   <g id=\"line2d_10\">\n    <path clip-path=\"url(#p5549edb645)\" d=\"M 342.685194 225.3648 \nL 342.685194 134.4628 \n\" style=\"fill:none;stroke:#bb8bff;stroke-linecap:square;stroke-width:2;\"/>\n   </g>\n   <g id=\"line2d_11\">\n    <path clip-path=\"url(#p5549edb645)\" d=\"M 388.136194 225.3648 \nL 388.136194 179.9138 \n\" style=\"fill:none;stroke:#bb8bff;stroke-linecap:square;stroke-width:2;\"/>\n   </g>\n   <g id=\"line2d_12\">\n    <path clip-path=\"url(#p5549edb645)\" d=\"M 388.136194 134.4628 \nL 388.136194 89.0118 \n\" style=\"fill:none;stroke:#6fa4ff;stroke-linecap:square;stroke-width:2;\"/>\n   </g>\n   <g id=\"line2d_13\">\n    <path clip-path=\"url(#p5549edb645)\" d=\"M 433.587194 179.9138 \nL 433.587194 43.5608 \n\" style=\"fill:none;stroke:#6fa4ff;stroke-linecap:square;stroke-width:2;\"/>\n   </g>\n   <g id=\"line2d_14\">\n    <path clip-path=\"url(#p5549edb645)\" d=\"M 524.489194 89.0118 \nL 524.489194 43.5608 \n\" style=\"fill:none;stroke:#bb8bff;stroke-linecap:square;stroke-width:2;\"/>\n   </g>\n   <g id=\"line2d_15\">\n    <path clip-path=\"url(#p5549edb645)\" d=\"M 615.391194 134.4628 \nL 615.391194 43.5608 \n\" style=\"fill:none;stroke:#bb8bff;stroke-linecap:square;stroke-width:2;\"/>\n   </g>\n   <g id=\"line2d_16\">\n    <path clip-path=\"url(#p5549edb645)\" d=\"M 660.842194 134.4628 \nL 660.842194 89.0118 \n\" style=\"fill:none;stroke:#bb8bff;stroke-linecap:square;stroke-width:2;\"/>\n   </g>\n   <g id=\"line2d_17\">\n    <path clip-path=\"url(#p5549edb645)\" d=\"M 706.293194 179.9138 \nL 706.293194 43.5608 \n\" style=\"fill:none;stroke:#bb8bff;stroke-linecap:square;stroke-width:2;\"/>\n   </g>\n   <g id=\"line2d_18\">\n    <path clip-path=\"url(#p5549edb645)\" d=\"M 797.195194 179.9138 \nL 797.195194 89.0118 \n\" style=\"fill:none;stroke:#bb8bff;stroke-linecap:square;stroke-width:2;\"/>\n   </g>\n   <g id=\"line2d_19\">\n    <path clip-path=\"url(#p5549edb645)\" d=\"M 842.646194 179.9138 \nL 842.646194 134.4628 \n\" style=\"fill:none;stroke:#bb8bff;stroke-linecap:square;stroke-width:2;\"/>\n   </g>\n   <g id=\"line2d_20\">\n    <path clip-path=\"url(#p5549edb645)\" d=\"M 980.476351 43.5608 \nL 980.476351 260.475697 \n\" style=\"fill:none;stroke:#778899;stroke-linecap:square;stroke-width:2;\"/>\n   </g>\n   <g id=\"line2d_21\">\n    <path clip-path=\"url(#p5549edb645)\" d=\"M 977.522036 43.5608 \nL 977.522036 260.475697 \n\" style=\"fill:none;stroke:#778899;stroke-linecap:square;stroke-width:2;\"/>\n   </g>\n   <g id=\"line2d_22\">\n    <path clip-path=\"url(#p5549edb645)\" d=\"M 1025.927351 89.0118 \nL 1025.927351 260.475697 \n\" style=\"fill:none;stroke:#778899;stroke-linecap:square;stroke-width:2;\"/>\n   </g>\n   <g id=\"line2d_23\">\n    <path clip-path=\"url(#p5549edb645)\" d=\"M 1022.973036 89.0118 \nL 1022.973036 260.475697 \n\" style=\"fill:none;stroke:#778899;stroke-linecap:square;stroke-width:2;\"/>\n   </g>\n   <g id=\"line2d_24\">\n    <path clip-path=\"url(#p5549edb645)\" d=\"M 1071.378351 134.4628 \nL 1071.378351 260.475697 \n\" style=\"fill:none;stroke:#778899;stroke-linecap:square;stroke-width:2;\"/>\n   </g>\n   <g id=\"line2d_25\">\n    <path clip-path=\"url(#p5549edb645)\" d=\"M 1068.424036 134.4628 \nL 1068.424036 260.475697 \n\" style=\"fill:none;stroke:#778899;stroke-linecap:square;stroke-width:2;\"/>\n   </g>\n   <g id=\"line2d_26\">\n    <path clip-path=\"url(#p5549edb645)\" d=\"M 1116.829351 179.9138 \nL 1116.829351 260.475697 \n\" style=\"fill:none;stroke:#778899;stroke-linecap:square;stroke-width:2;\"/>\n   </g>\n   <g id=\"line2d_27\">\n    <path clip-path=\"url(#p5549edb645)\" d=\"M 1113.875036 179.9138 \nL 1113.875036 260.475697 \n\" style=\"fill:none;stroke:#778899;stroke-linecap:square;stroke-width:2;\"/>\n   </g>\n   <g id=\"line2d_28\">\n    <path clip-path=\"url(#p5549edb645)\" d=\"M 145.427854 275.3609 \nL 149.972954 266.2707 \n\" style=\"fill:none;stroke:#778899;stroke-linecap:square;stroke-width:1.5;\"/>\n   </g>\n   <g id=\"line2d_29\">\n    <path clip-path=\"url(#p5549edb645)\" d=\"M 382.227564 94.92043 \nL 394.044824 83.10317 \n\" style=\"fill:none;stroke:#6fa4ff;stroke-linecap:square;stroke-width:2;\"/>\n   </g>\n   <g id=\"line2d_30\">\n    <path clip-path=\"url(#p5549edb645)\" d=\"M 382.227564 83.10317 \nL 394.044824 94.92043 \n\" style=\"fill:none;stroke:#6fa4ff;stroke-linecap:square;stroke-width:2;\"/>\n   </g>\n   <g id=\"line2d_31\">\n    <path clip-path=\"url(#p5549edb645)\" d=\"M 382.227564 140.37143 \nL 394.044824 128.55417 \n\" style=\"fill:none;stroke:#6fa4ff;stroke-linecap:square;stroke-width:2;\"/>\n   </g>\n   <g id=\"line2d_32\">\n    <path clip-path=\"url(#p5549edb645)\" d=\"M 382.227564 128.55417 \nL 394.044824 140.37143 \n\" style=\"fill:none;stroke:#6fa4ff;stroke-linecap:square;stroke-width:2;\"/>\n   </g>\n   <g id=\"line2d_33\">\n    <path clip-path=\"url(#p5549edb645)\" d=\"M 427.678564 49.46943 \nL 439.495824 37.65217 \n\" style=\"fill:none;stroke:#6fa4ff;stroke-linecap:square;stroke-width:2;\"/>\n   </g>\n   <g id=\"line2d_34\">\n    <path clip-path=\"url(#p5549edb645)\" d=\"M 427.678564 37.65217 \nL 439.495824 49.46943 \n\" style=\"fill:none;stroke:#6fa4ff;stroke-linecap:square;stroke-width:2;\"/>\n   </g>\n   <g id=\"line2d_35\">\n    <path clip-path=\"url(#p5549edb645)\" d=\"M 427.678564 185.82243 \nL 439.495824 174.00517 \n\" style=\"fill:none;stroke:#6fa4ff;stroke-linecap:square;stroke-width:2;\"/>\n   </g>\n   <g id=\"line2d_36\">\n    <path clip-path=\"url(#p5549edb645)\" d=\"M 427.678564 174.00517 \nL 439.495824 185.82243 \n\" style=\"fill:none;stroke:#6fa4ff;stroke-linecap:square;stroke-width:2;\"/>\n   </g>\n   <g id=\"patch_16\">\n    <path clip-path=\"url(#p5549edb645)\" d=\"M 146.109619 240.136375 \nL 175.652769 240.136375 \nL 175.652769 210.593225 \nL 146.109619 210.593225 \nz\n\" style=\"fill:#bb8bff;stroke:#bb8bff;stroke-linejoin:miter;stroke-width:1.5;\"/>\n   </g>\n   <g id=\"patch_17\">\n    <path clip-path=\"url(#p5549edb645)\" d=\"M 146.109619 58.332375 \nL 175.652769 58.332375 \nL 175.652769 28.789225 \nL 146.109619 28.789225 \nz\n\" style=\"fill:#6fa4ff;stroke:#6fa4ff;stroke-linejoin:miter;stroke-width:1.5;\"/>\n   </g>\n   <g id=\"patch_18\">\n    <path clip-path=\"url(#p5549edb645)\" d=\"M 146.109619 103.783375 \nL 175.652769 103.783375 \nL 175.652769 74.240225 \nL 146.109619 74.240225 \nz\n\" style=\"fill:#6fa4ff;stroke:#6fa4ff;stroke-linejoin:miter;stroke-width:1.5;\"/>\n   </g>\n   <g id=\"patch_19\">\n    <path clip-path=\"url(#p5549edb645)\" d=\"M 146.109619 149.234375 \nL 175.652769 149.234375 \nL 175.652769 119.691225 \nL 146.109619 119.691225 \nz\n\" style=\"fill:#6fa4ff;stroke:#6fa4ff;stroke-linejoin:miter;stroke-width:1.5;\"/>\n   </g>\n   <g id=\"patch_20\">\n    <path clip-path=\"url(#p5549edb645)\" d=\"M 146.109619 194.685375 \nL 175.652769 194.685375 \nL 175.652769 165.142225 \nL 146.109619 165.142225 \nz\n\" style=\"fill:#6fa4ff;stroke:#6fa4ff;stroke-linejoin:miter;stroke-width:1.5;\"/>\n   </g>\n   <g id=\"patch_21\">\n    <path clip-path=\"url(#p5549edb645)\" d=\"M 251.783194 47.992272 \nC 252.958434 47.992272 254.085698 47.525345 254.916718 46.694324 \nC 255.747738 45.863304 256.214666 44.73604 256.214666 43.5608 \nC 256.214666 42.38556 255.747738 41.258296 254.916718 40.427276 \nC 254.085698 39.596255 252.958434 39.129327 251.783194 39.129327 \nC 250.607954 39.129327 249.48069 39.596255 248.649669 40.427276 \nC 247.818649 41.258296 247.351721 42.38556 247.351721 43.5608 \nC 247.351721 44.73604 247.818649 45.863304 248.649669 46.694324 \nC 249.48069 47.525345 250.607954 47.992272 251.783194 47.992272 \nz\n\" style=\"fill:#bb8bff;stroke:#bb8bff;stroke-linejoin:miter;stroke-width:1.5;\"/>\n   </g>\n   <g id=\"patch_22\">\n    <path clip-path=\"url(#p5549edb645)\" d=\"M 236.395758 240.136375 \nL 267.17063 240.136375 \nL 267.17063 210.593225 \nL 236.395758 210.593225 \nz\n\" style=\"fill:#bb8bff;stroke:#bb8bff;stroke-linejoin:miter;stroke-width:1.5;\"/>\n   </g>\n   <g id=\"patch_23\">\n    <path clip-path=\"url(#p5549edb645)\" d=\"M 297.234194 93.443272 \nC 298.409434 93.443272 299.536698 92.976345 300.367718 92.145324 \nC 301.198738 91.314304 301.665666 90.18704 301.665666 89.0118 \nC 301.665666 87.83656 301.198738 86.709296 300.367718 85.878276 \nC 299.536698 85.047255 298.409434 84.580327 297.234194 84.580327 \nC 296.058954 84.580327 294.93169 85.047255 294.100669 85.878276 \nC 293.269649 86.709296 292.802721 87.83656 292.802721 89.0118 \nC 292.802721 90.18704 293.269649 91.314304 294.100669 92.145324 \nC 294.93169 92.976345 296.058954 93.443272 297.234194 93.443272 \nz\n\" style=\"fill:#bb8bff;stroke:#bb8bff;stroke-linejoin:miter;stroke-width:1.5;\"/>\n   </g>\n   <g id=\"patch_24\">\n    <path clip-path=\"url(#p5549edb645)\" d=\"M 281.799034 240.136375 \nL 312.669353 240.136375 \nL 312.669353 210.593225 \nL 281.799034 210.593225 \nz\n\" style=\"fill:#bb8bff;stroke:#bb8bff;stroke-linejoin:miter;stroke-width:1.5;\"/>\n   </g>\n   <g id=\"patch_25\">\n    <path clip-path=\"url(#p5549edb645)\" d=\"M 342.685194 138.894272 \nC 343.860434 138.894272 344.987698 138.427345 345.818718 137.596324 \nC 346.649738 136.765304 347.116666 135.63804 347.116666 134.4628 \nC 347.116666 133.28756 346.649738 132.160296 345.818718 131.329276 \nC 344.987698 130.498255 343.860434 130.031327 342.685194 130.031327 \nC 341.509954 130.031327 340.38269 130.498255 339.551669 131.329276 \nC 338.720649 132.160296 338.253721 133.28756 338.253721 134.4628 \nC 338.253721 135.63804 338.720649 136.765304 339.551669 137.596324 \nC 340.38269 138.427345 341.509954 138.894272 342.685194 138.894272 \nz\n\" style=\"fill:#bb8bff;stroke:#bb8bff;stroke-linejoin:miter;stroke-width:1.5;\"/>\n   </g>\n   <g id=\"patch_26\">\n    <path clip-path=\"url(#p5549edb645)\" d=\"M 327.250034 240.136375 \nL 358.120353 240.136375 \nL 358.120353 210.593225 \nL 327.250034 210.593225 \nz\n\" style=\"fill:#bb8bff;stroke:#bb8bff;stroke-linejoin:miter;stroke-width:1.5;\"/>\n   </g>\n   <g id=\"patch_27\">\n    <path clip-path=\"url(#p5549edb645)\" d=\"M 388.136194 184.345272 \nC 389.311434 184.345272 390.438698 183.878345 391.269718 183.047324 \nC 392.100738 182.216304 392.567666 181.08904 392.567666 179.9138 \nC 392.567666 178.73856 392.100738 177.611296 391.269718 176.780276 \nC 390.438698 175.949255 389.311434 175.482327 388.136194 175.482327 \nC 386.960954 175.482327 385.83369 175.949255 385.002669 176.780276 \nC 384.171649 177.611296 383.704721 178.73856 383.704721 179.9138 \nC 383.704721 181.08904 384.171649 182.216304 385.002669 183.047324 \nC 385.83369 183.878345 386.960954 184.345272 388.136194 184.345272 \nz\n\" style=\"fill:#bb8bff;stroke:#bb8bff;stroke-linejoin:miter;stroke-width:1.5;\"/>\n   </g>\n   <g id=\"patch_28\">\n    <path clip-path=\"url(#p5549edb645)\" d=\"M 372.748758 240.136375 \nL 403.52363 240.136375 \nL 403.52363 210.593225 \nL 372.748758 210.593225 \nz\n\" style=\"fill:#bb8bff;stroke:#bb8bff;stroke-linejoin:miter;stroke-width:1.5;\"/>\n   </g>\n   <g id=\"patch_29\">\n    <path clip-path=\"url(#p5549edb645)\" d=\"M 464.266619 58.332375 \nL 493.809769 58.332375 \nL 493.809769 28.789225 \nL 464.266619 28.789225 \nz\n\" style=\"fill:#6fa4ff;stroke:#6fa4ff;stroke-linejoin:miter;stroke-width:1.5;\"/>\n   </g>\n   <g id=\"patch_30\">\n    <path clip-path=\"url(#p5549edb645)\" d=\"M 524.489194 47.992272 \nC 525.664434 47.992272 526.791698 47.525345 527.622718 46.694324 \nC 528.453738 45.863304 528.920666 44.73604 528.920666 43.5608 \nC 528.920666 42.38556 528.453738 41.258296 527.622718 40.427276 \nC 526.791698 39.596255 525.664434 39.129327 524.489194 39.129327 \nC 523.313954 39.129327 522.18669 39.596255 521.355669 40.427276 \nC 520.524649 41.258296 520.057721 42.38556 520.057721 43.5608 \nC 520.057721 44.73604 520.524649 45.863304 521.355669 46.694324 \nC 522.18669 47.525345 523.313954 47.992272 524.489194 47.992272 \nz\n\" style=\"fill:#bb8bff;stroke:#bb8bff;stroke-linejoin:miter;stroke-width:1.5;\"/>\n   </g>\n   <g id=\"patch_31\">\n    <path clip-path=\"url(#p5549edb645)\" d=\"M 509.717619 103.783375 \nL 539.260769 103.783375 \nL 539.260769 74.240225 \nL 509.717619 74.240225 \nz\n\" style=\"fill:#bb8bff;stroke:#bb8bff;stroke-linejoin:miter;stroke-width:1.5;\"/>\n   </g>\n   <g id=\"patch_32\">\n    <path clip-path=\"url(#p5549edb645)\" d=\"M 555.168619 103.783375 \nL 584.711769 103.783375 \nL 584.711769 74.240225 \nL 555.168619 74.240225 \nz\n\" style=\"fill:#6fa4ff;stroke:#6fa4ff;stroke-linejoin:miter;stroke-width:1.5;\"/>\n   </g>\n   <g id=\"patch_33\">\n    <path clip-path=\"url(#p5549edb645)\" d=\"M 615.391194 47.992272 \nC 616.566434 47.992272 617.693698 47.525345 618.524718 46.694324 \nC 619.355738 45.863304 619.822666 44.73604 619.822666 43.5608 \nC 619.822666 42.38556 619.355738 41.258296 618.524718 40.427276 \nC 617.693698 39.596255 616.566434 39.129327 615.391194 39.129327 \nC 614.215954 39.129327 613.08869 39.596255 612.257669 40.427276 \nC 611.426649 41.258296 610.959721 42.38556 610.959721 43.5608 \nC 610.959721 44.73604 611.426649 45.863304 612.257669 46.694324 \nC 613.08869 47.525345 614.215954 47.992272 615.391194 47.992272 \nz\n\" style=\"fill:#bb8bff;stroke:#bb8bff;stroke-linejoin:miter;stroke-width:1.5;\"/>\n   </g>\n   <g id=\"patch_34\">\n    <path clip-path=\"url(#p5549edb645)\" d=\"M 600.619619 149.234375 \nL 630.162769 149.234375 \nL 630.162769 119.691225 \nL 600.619619 119.691225 \nz\n\" style=\"fill:#bb8bff;stroke:#bb8bff;stroke-linejoin:miter;stroke-width:1.5;\"/>\n   </g>\n   <g id=\"patch_35\">\n    <path clip-path=\"url(#p5549edb645)\" d=\"M 660.842194 93.443272 \nC 662.017434 93.443272 663.144698 92.976345 663.975718 92.145324 \nC 664.806738 91.314304 665.273666 90.18704 665.273666 89.0118 \nC 665.273666 87.83656 664.806738 86.709296 663.975718 85.878276 \nC 663.144698 85.047255 662.017434 84.580327 660.842194 84.580327 \nC 659.666954 84.580327 658.53969 85.047255 657.708669 85.878276 \nC 656.877649 86.709296 656.410721 87.83656 656.410721 89.0118 \nC 656.410721 90.18704 656.877649 91.314304 657.708669 92.145324 \nC 658.53969 92.976345 659.666954 93.443272 660.842194 93.443272 \nz\n\" style=\"fill:#bb8bff;stroke:#bb8bff;stroke-linejoin:miter;stroke-width:1.5;\"/>\n   </g>\n   <g id=\"patch_36\">\n    <path clip-path=\"url(#p5549edb645)\" d=\"M 646.070619 149.234375 \nL 675.613769 149.234375 \nL 675.613769 119.691225 \nL 646.070619 119.691225 \nz\n\" style=\"fill:#bb8bff;stroke:#bb8bff;stroke-linejoin:miter;stroke-width:1.5;\"/>\n   </g>\n   <g id=\"patch_37\">\n    <path clip-path=\"url(#p5549edb645)\" d=\"M 706.293194 47.992272 \nC 707.468434 47.992272 708.595698 47.525345 709.426718 46.694324 \nC 710.257738 45.863304 710.724666 44.73604 710.724666 43.5608 \nC 710.724666 42.38556 710.257738 41.258296 709.426718 40.427276 \nC 708.595698 39.596255 707.468434 39.129327 706.293194 39.129327 \nC 705.117954 39.129327 703.99069 39.596255 703.159669 40.427276 \nC 702.328649 41.258296 701.861721 42.38556 701.861721 43.5608 \nC 701.861721 44.73604 702.328649 45.863304 703.159669 46.694324 \nC 703.99069 47.525345 705.117954 47.992272 706.293194 47.992272 \nz\n\" style=\"fill:#bb8bff;stroke:#bb8bff;stroke-linejoin:miter;stroke-width:1.5;\"/>\n   </g>\n   <g id=\"patch_38\">\n    <path clip-path=\"url(#p5549edb645)\" d=\"M 691.521619 194.685375 \nL 721.064769 194.685375 \nL 721.064769 165.142225 \nL 691.521619 165.142225 \nz\n\" style=\"fill:#bb8bff;stroke:#bb8bff;stroke-linejoin:miter;stroke-width:1.5;\"/>\n   </g>\n   <g id=\"patch_39\">\n    <path clip-path=\"url(#p5549edb645)\" d=\"M 736.972619 149.234375 \nL 766.515769 149.234375 \nL 766.515769 119.691225 \nL 736.972619 119.691225 \nz\n\" style=\"fill:#6fa4ff;stroke:#6fa4ff;stroke-linejoin:miter;stroke-width:1.5;\"/>\n   </g>\n   <g id=\"patch_40\">\n    <path clip-path=\"url(#p5549edb645)\" d=\"M 797.195194 93.443272 \nC 798.370434 93.443272 799.497698 92.976345 800.328718 92.145324 \nC 801.159738 91.314304 801.626666 90.18704 801.626666 89.0118 \nC 801.626666 87.83656 801.159738 86.709296 800.328718 85.878276 \nC 799.497698 85.047255 798.370434 84.580327 797.195194 84.580327 \nC 796.019954 84.580327 794.89269 85.047255 794.061669 85.878276 \nC 793.230649 86.709296 792.763721 87.83656 792.763721 89.0118 \nC 792.763721 90.18704 793.230649 91.314304 794.061669 92.145324 \nC 794.89269 92.976345 796.019954 93.443272 797.195194 93.443272 \nz\n\" style=\"fill:#bb8bff;stroke:#bb8bff;stroke-linejoin:miter;stroke-width:1.5;\"/>\n   </g>\n   <g id=\"patch_41\">\n    <path clip-path=\"url(#p5549edb645)\" d=\"M 782.423619 194.685375 \nL 811.966769 194.685375 \nL 811.966769 165.142225 \nL 782.423619 165.142225 \nz\n\" style=\"fill:#bb8bff;stroke:#bb8bff;stroke-linejoin:miter;stroke-width:1.5;\"/>\n   </g>\n   <g id=\"patch_42\">\n    <path clip-path=\"url(#p5549edb645)\" d=\"M 842.646194 138.894272 \nC 843.821434 138.894272 844.948698 138.427345 845.779718 137.596324 \nC 846.610738 136.765304 847.077666 135.63804 847.077666 134.4628 \nC 847.077666 133.28756 846.610738 132.160296 845.779718 131.329276 \nC 844.948698 130.498255 843.821434 130.031327 842.646194 130.031327 \nC 841.470954 130.031327 840.34369 130.498255 839.512669 131.329276 \nC 838.681649 132.160296 838.214721 133.28756 838.214721 134.4628 \nC 838.214721 135.63804 838.681649 136.765304 839.512669 137.596324 \nC 840.34369 138.427345 841.470954 138.894272 842.646194 138.894272 \nz\n\" style=\"fill:#bb8bff;stroke:#bb8bff;stroke-linejoin:miter;stroke-width:1.5;\"/>\n   </g>\n   <g id=\"patch_43\">\n    <path clip-path=\"url(#p5549edb645)\" d=\"M 827.874619 194.685375 \nL 857.417769 194.685375 \nL 857.417769 165.142225 \nL 827.874619 165.142225 \nz\n\" style=\"fill:#bb8bff;stroke:#bb8bff;stroke-linejoin:miter;stroke-width:1.5;\"/>\n   </g>\n   <g id=\"patch_44\">\n    <path clip-path=\"url(#p5549edb645)\" d=\"M 873.325619 194.685375 \nL 902.868769 194.685375 \nL 902.868769 165.142225 \nL 873.325619 165.142225 \nz\n\" style=\"fill:#6fa4ff;stroke:#6fa4ff;stroke-linejoin:miter;stroke-width:1.5;\"/>\n   </g>\n   <g id=\"patch_45\">\n    <path clip-path=\"url(#p5549edb645)\" d=\"M 964.227619 58.332375 \nL 993.770769 58.332375 \nL 993.770769 28.789225 \nL 964.227619 28.789225 \nz\n\" style=\"stroke:#000000;stroke-linejoin:miter;stroke-width:1.5;\"/>\n   </g>\n   <g id=\"patch_46\">\n    <path clip-path=\"url(#p5549edb645)\" d=\"M 989.339296 47.992272 \nC 989.339296 45.250959 988.249152 42.619118 986.31075 40.680716 \nC 984.372349 38.742314 981.740508 37.65217 978.999194 37.65217 \nC 976.25788 37.65217 973.626039 38.742314 971.687637 40.680716 \nC 969.749235 42.619118 968.659091 45.250959 968.659091 47.992272 \n\" style=\"fill:none;stroke:#ffffff;stroke-linejoin:miter;stroke-width:2;\"/>\n   </g>\n   <g id=\"patch_47\">\n    <path clip-path=\"url(#p5549edb645)\" d=\"M 1009.678619 103.783375 \nL 1039.221769 103.783375 \nL 1039.221769 74.240225 \nL 1009.678619 74.240225 \nz\n\" style=\"stroke:#000000;stroke-linejoin:miter;stroke-width:1.5;\"/>\n   </g>\n   <g id=\"patch_48\">\n    <path clip-path=\"url(#p5549edb645)\" d=\"M 1034.790296 93.443272 \nC 1034.790296 90.701959 1033.700152 88.070118 1031.76175 86.131716 \nC 1029.823349 84.193314 1027.191508 83.10317 1024.450194 83.10317 \nC 1021.70888 83.10317 1019.077039 84.193314 1017.138637 86.131716 \nC 1015.200235 88.070118 1014.110091 90.701959 1014.110091 93.443272 \n\" style=\"fill:none;stroke:#ffffff;stroke-linejoin:miter;stroke-width:2;\"/>\n   </g>\n   <g id=\"patch_49\">\n    <path clip-path=\"url(#p5549edb645)\" d=\"M 1055.129619 149.234375 \nL 1084.672769 149.234375 \nL 1084.672769 119.691225 \nL 1055.129619 119.691225 \nz\n\" style=\"stroke:#000000;stroke-linejoin:miter;stroke-width:1.5;\"/>\n   </g>\n   <g id=\"patch_50\">\n    <path clip-path=\"url(#p5549edb645)\" d=\"M 1080.241296 138.894272 \nC 1080.241296 136.152959 1079.151152 133.521118 1077.21275 131.582716 \nC 1075.274349 129.644314 1072.642508 128.55417 1069.901194 128.55417 \nC 1067.15988 128.55417 1064.528039 129.644314 1062.589637 131.582716 \nC 1060.651235 133.521118 1059.561091 136.152959 1059.561091 138.894272 \n\" style=\"fill:none;stroke:#ffffff;stroke-linejoin:miter;stroke-width:2;\"/>\n   </g>\n   <g id=\"patch_51\">\n    <path clip-path=\"url(#p5549edb645)\" d=\"M 1100.580619 194.685375 \nL 1130.123769 194.685375 \nL 1130.123769 165.142225 \nL 1100.580619 165.142225 \nz\n\" style=\"stroke:#000000;stroke-linejoin:miter;stroke-width:1.5;\"/>\n   </g>\n   <g id=\"patch_52\">\n    <path clip-path=\"url(#p5549edb645)\" d=\"M 1125.692296 184.345272 \nC 1125.692296 181.603959 1124.602152 178.972118 1122.66375 177.033716 \nC 1120.725349 175.095314 1118.093508 174.00517 1115.352194 174.00517 \nC 1112.61088 174.00517 1109.979039 175.095314 1108.040637 177.033716 \nC 1106.102235 178.972118 1105.012091 181.603959 1105.012091 184.345272 \n\" style=\"fill:none;stroke:#ffffff;stroke-linejoin:miter;stroke-width:2;\"/>\n   </g>\n   <g id=\"line2d_37\">\n    <path clip-path=\"url(#p5549edb645)\" d=\"M 978.999194 47.992272 \nL 989.339296 37.65217 \n\" style=\"fill:none;stroke:#ffffff;stroke-linecap:square;stroke-width:2;\"/>\n   </g>\n   <g id=\"line2d_38\">\n    <path clip-path=\"url(#p5549edb645)\" d=\"M 1024.450194 93.443272 \nL 1034.790296 83.10317 \n\" style=\"fill:none;stroke:#ffffff;stroke-linecap:square;stroke-width:2;\"/>\n   </g>\n   <g id=\"line2d_39\">\n    <path clip-path=\"url(#p5549edb645)\" d=\"M 1069.901194 138.894272 \nL 1080.241296 128.55417 \n\" style=\"fill:none;stroke:#ffffff;stroke-linecap:square;stroke-width:2;\"/>\n   </g>\n   <g id=\"line2d_40\">\n    <path clip-path=\"url(#p5549edb645)\" d=\"M 1115.352194 184.345272 \nL 1125.692296 174.00517 \n\" style=\"fill:none;stroke:#ffffff;stroke-linecap:square;stroke-width:2;\"/>\n   </g>\n   <g id=\"line2d_41\">\n    <path clip-path=\"url(#p5549edb645)\" d=\"M 206.332194 20.8353 \nL 206.332194 66.2863 \n\" style=\"fill:none;stroke:#000000;stroke-dasharray:3.7,1.6;stroke-dashoffset:0;\"/>\n   </g>\n   <g id=\"line2d_42\">\n    <path clip-path=\"url(#p5549edb645)\" d=\"M 206.332194 66.2863 \nL 206.332194 111.7373 \n\" style=\"fill:none;stroke:#000000;stroke-dasharray:3.7,1.6;stroke-dashoffset:0;\"/>\n   </g>\n   <g id=\"line2d_43\">\n    <path clip-path=\"url(#p5549edb645)\" d=\"M 206.332194 111.7373 \nL 206.332194 157.1883 \n\" style=\"fill:none;stroke:#000000;stroke-dasharray:3.7,1.6;stroke-dashoffset:0;\"/>\n   </g>\n   <g id=\"line2d_44\">\n    <path clip-path=\"url(#p5549edb645)\" d=\"M 206.332194 157.1883 \nL 206.332194 202.6393 \n\" style=\"fill:none;stroke:#000000;stroke-dasharray:3.7,1.6;stroke-dashoffset:0;\"/>\n   </g>\n   <g id=\"line2d_45\">\n    <path clip-path=\"url(#p5549edb645)\" d=\"M 206.332194 202.6393 \nL 206.332194 248.0903 \n\" style=\"fill:none;stroke:#000000;stroke-dasharray:3.7,1.6;stroke-dashoffset:0;\"/>\n   </g>\n   <g id=\"line2d_46\">\n    <path clip-path=\"url(#p5549edb645)\" d=\"M 933.548194 20.8353 \nL 933.548194 66.2863 \n\" style=\"fill:none;stroke:#000000;stroke-dasharray:3.7,1.6;stroke-dashoffset:0;\"/>\n   </g>\n   <g id=\"line2d_47\">\n    <path clip-path=\"url(#p5549edb645)\" d=\"M 933.548194 66.2863 \nL 933.548194 111.7373 \n\" style=\"fill:none;stroke:#000000;stroke-dasharray:3.7,1.6;stroke-dashoffset:0;\"/>\n   </g>\n   <g id=\"line2d_48\">\n    <path clip-path=\"url(#p5549edb645)\" d=\"M 933.548194 111.7373 \nL 933.548194 157.1883 \n\" style=\"fill:none;stroke:#000000;stroke-dasharray:3.7,1.6;stroke-dashoffset:0;\"/>\n   </g>\n   <g id=\"line2d_49\">\n    <path clip-path=\"url(#p5549edb645)\" d=\"M 933.548194 157.1883 \nL 933.548194 202.6393 \n\" style=\"fill:none;stroke:#000000;stroke-dasharray:3.7,1.6;stroke-dashoffset:0;\"/>\n   </g>\n   <g id=\"line2d_50\">\n    <path clip-path=\"url(#p5549edb645)\" d=\"M 933.548194 202.6393 \nL 933.548194 248.0903 \n\" style=\"fill:none;stroke:#000000;stroke-dasharray:3.7,1.6;stroke-dashoffset:0;\"/>\n   </g>\n   <g id=\"text_1\">\n    <g clip-path=\"url(#p5549edb645)\">\n     <!-- $\\mathrm{R}_\\mathrm{Y}$ -->\n     <g transform=\"translate(153.341194 224.520515)scale(0.13 -0.13)\">\n      <defs>\n       <path d=\"M 44.390625 34.1875 \nQ 47.5625 33.109375 50.5625 29.59375 \nQ 53.5625 26.078125 56.59375 19.921875 \nL 66.609375 0 \nL 56 0 \nL 46.6875 18.703125 \nQ 43.0625 26.03125 39.671875 28.421875 \nQ 36.28125 30.8125 30.421875 30.8125 \nL 19.671875 30.8125 \nL 19.671875 0 \nL 9.8125 0 \nL 9.8125 72.90625 \nL 32.078125 72.90625 \nQ 44.578125 72.90625 50.734375 67.671875 \nQ 56.890625 62.453125 56.890625 51.90625 \nQ 56.890625 45.015625 53.6875 40.46875 \nQ 50.484375 35.9375 44.390625 34.1875 \nz\nM 19.671875 64.796875 \nL 19.671875 38.921875 \nL 32.078125 38.921875 \nQ 39.203125 38.921875 42.84375 42.21875 \nQ 46.484375 45.515625 46.484375 51.90625 \nQ 46.484375 58.296875 42.84375 61.546875 \nQ 39.203125 64.796875 32.078125 64.796875 \nz\n\" id=\"DejaVuSans-82\"/>\n       <path d=\"M -0.203125 72.90625 \nL 10.40625 72.90625 \nL 30.609375 42.921875 \nL 50.6875 72.90625 \nL 61.28125 72.90625 \nL 35.5 34.71875 \nL 35.5 0 \nL 25.59375 0 \nL 25.59375 34.71875 \nz\n\" id=\"DejaVuSans-89\"/>\n      </defs>\n      <use transform=\"translate(0 0.09375)\" xlink:href=\"#DejaVuSans-82\"/>\n      <use transform=\"translate(70.439453 -16.3125)scale(0.7)\" xlink:href=\"#DejaVuSans-89\"/>\n     </g>\n    </g>\n   </g>\n   <g id=\"text_2\">\n    <g clip-path=\"url(#p5549edb645)\">\n     <!-- 1.16 -->\n     <g transform=\"translate(151.974944 236.435245)scale(0.08 -0.08)\">\n      <defs>\n       <path d=\"M 12.40625 8.296875 \nL 28.515625 8.296875 \nL 28.515625 63.921875 \nL 10.984375 60.40625 \nL 10.984375 69.390625 \nL 28.421875 72.90625 \nL 38.28125 72.90625 \nL 38.28125 8.296875 \nL 54.390625 8.296875 \nL 54.390625 0 \nL 12.40625 0 \nz\n\" id=\"DejaVuSans-49\"/>\n       <path d=\"M 10.6875 12.40625 \nL 21 12.40625 \nL 21 0 \nL 10.6875 0 \nz\n\" id=\"DejaVuSans-46\"/>\n       <path d=\"M 33.015625 40.375 \nQ 26.375 40.375 22.484375 35.828125 \nQ 18.609375 31.296875 18.609375 23.390625 \nQ 18.609375 15.53125 22.484375 10.953125 \nQ 26.375 6.390625 33.015625 6.390625 \nQ 39.65625 6.390625 43.53125 10.953125 \nQ 47.40625 15.53125 47.40625 23.390625 \nQ 47.40625 31.296875 43.53125 35.828125 \nQ 39.65625 40.375 33.015625 40.375 \nz\nM 52.59375 71.296875 \nL 52.59375 62.3125 \nQ 48.875 64.0625 45.09375 64.984375 \nQ 41.3125 65.921875 37.59375 65.921875 \nQ 27.828125 65.921875 22.671875 59.328125 \nQ 17.53125 52.734375 16.796875 39.40625 \nQ 19.671875 43.65625 24.015625 45.921875 \nQ 28.375 48.1875 33.59375 48.1875 \nQ 44.578125 48.1875 50.953125 41.515625 \nQ 57.328125 34.859375 57.328125 23.390625 \nQ 57.328125 12.15625 50.6875 5.359375 \nQ 44.046875 -1.421875 33.015625 -1.421875 \nQ 20.359375 -1.421875 13.671875 8.265625 \nQ 6.984375 17.96875 6.984375 36.375 \nQ 6.984375 53.65625 15.1875 63.9375 \nQ 23.390625 74.21875 37.203125 74.21875 \nQ 40.921875 74.21875 44.703125 73.484375 \nQ 48.484375 72.75 52.59375 71.296875 \nz\n\" id=\"DejaVuSans-54\"/>\n      </defs>\n      <use xlink:href=\"#DejaVuSans-49\"/>\n      <use x=\"63.623047\" xlink:href=\"#DejaVuSans-46\"/>\n      <use x=\"95.410156\" xlink:href=\"#DejaVuSans-49\"/>\n      <use x=\"159.033203\" xlink:href=\"#DejaVuSans-54\"/>\n     </g>\n    </g>\n   </g>\n   <g id=\"text_3\">\n    <g clip-path=\"url(#p5549edb645)\">\n     <!-- H -->\n     <g transform=\"translate(155.992991 47.147987)scale(0.13 -0.13)\">\n      <defs>\n       <path d=\"M 9.8125 72.90625 \nL 19.671875 72.90625 \nL 19.671875 43.015625 \nL 55.515625 43.015625 \nL 55.515625 72.90625 \nL 65.375 72.90625 \nL 65.375 0 \nL 55.515625 0 \nL 55.515625 34.71875 \nL 19.671875 34.71875 \nL 19.671875 0 \nL 9.8125 0 \nz\n\" id=\"DejaVuSans-72\"/>\n      </defs>\n      <use xlink:href=\"#DejaVuSans-72\"/>\n     </g>\n    </g>\n   </g>\n   <g id=\"text_4\">\n    <g clip-path=\"url(#p5549edb645)\">\n     <!-- H -->\n     <g transform=\"translate(155.992991 92.598987)scale(0.13 -0.13)\">\n      <use xlink:href=\"#DejaVuSans-72\"/>\n     </g>\n    </g>\n   </g>\n   <g id=\"text_5\">\n    <g clip-path=\"url(#p5549edb645)\">\n     <!-- H -->\n     <g transform=\"translate(155.992991 138.049987)scale(0.13 -0.13)\">\n      <use xlink:href=\"#DejaVuSans-72\"/>\n     </g>\n    </g>\n   </g>\n   <g id=\"text_6\">\n    <g clip-path=\"url(#p5549edb645)\">\n     <!-- H -->\n     <g transform=\"translate(155.992991 183.500987)scale(0.13 -0.13)\">\n      <use xlink:href=\"#DejaVuSans-72\"/>\n     </g>\n    </g>\n   </g>\n   <g id=\"text_7\">\n    <g clip-path=\"url(#p5549edb645)\">\n     <!-- Q^1 -->\n     <g transform=\"translate(237.084053 228.951987)scale(0.13 -0.13)\">\n      <defs>\n       <path d=\"M 39.40625 66.21875 \nQ 28.65625 66.21875 22.328125 58.203125 \nQ 16.015625 50.203125 16.015625 36.375 \nQ 16.015625 22.609375 22.328125 14.59375 \nQ 28.65625 6.59375 39.40625 6.59375 \nQ 50.140625 6.59375 56.421875 14.59375 \nQ 62.703125 22.609375 62.703125 36.375 \nQ 62.703125 50.203125 56.421875 58.203125 \nQ 50.140625 66.21875 39.40625 66.21875 \nz\nM 53.21875 1.3125 \nL 66.21875 -12.890625 \nL 54.296875 -12.890625 \nL 43.5 -1.21875 \nQ 41.890625 -1.3125 41.03125 -1.359375 \nQ 40.1875 -1.421875 39.40625 -1.421875 \nQ 24.03125 -1.421875 14.8125 8.859375 \nQ 5.609375 19.140625 5.609375 36.375 \nQ 5.609375 53.65625 14.8125 63.9375 \nQ 24.03125 74.21875 39.40625 74.21875 \nQ 54.734375 74.21875 63.90625 63.9375 \nQ 73.09375 53.65625 73.09375 36.375 \nQ 73.09375 23.6875 67.984375 14.640625 \nQ 62.890625 5.609375 53.21875 1.3125 \nz\n\" id=\"DejaVuSans-81\"/>\n       <path d=\"M 46.6875 72.90625 \nL 73.1875 45.703125 \nL 63.375 45.703125 \nL 41.890625 64.984375 \nL 20.40625 45.703125 \nL 10.59375 45.703125 \nL 37.109375 72.90625 \nz\n\" id=\"DejaVuSans-94\"/>\n      </defs>\n      <use xlink:href=\"#DejaVuSans-81\"/>\n      <use x=\"78.710938\" xlink:href=\"#DejaVuSans-94\"/>\n      <use x=\"162.5\" xlink:href=\"#DejaVuSans-49\"/>\n     </g>\n    </g>\n   </g>\n   <g id=\"text_8\">\n    <g clip-path=\"url(#p5549edb645)\">\n     <!-- Q^2 -->\n     <g transform=\"translate(282.535053 228.951987)scale(0.13 -0.13)\">\n      <defs>\n       <path d=\"M 19.1875 8.296875 \nL 53.609375 8.296875 \nL 53.609375 0 \nL 7.328125 0 \nL 7.328125 8.296875 \nQ 12.9375 14.109375 22.625 23.890625 \nQ 32.328125 33.6875 34.8125 36.53125 \nQ 39.546875 41.84375 41.421875 45.53125 \nQ 43.3125 49.21875 43.3125 52.78125 \nQ 43.3125 58.59375 39.234375 62.25 \nQ 35.15625 65.921875 28.609375 65.921875 \nQ 23.96875 65.921875 18.8125 64.3125 \nQ 13.671875 62.703125 7.8125 59.421875 \nL 7.8125 69.390625 \nQ 13.765625 71.78125 18.9375 73 \nQ 24.125 74.21875 28.421875 74.21875 \nQ 39.75 74.21875 46.484375 68.546875 \nQ 53.21875 62.890625 53.21875 53.421875 \nQ 53.21875 48.921875 51.53125 44.890625 \nQ 49.859375 40.875 45.40625 35.40625 \nQ 44.1875 33.984375 37.640625 27.21875 \nQ 31.109375 20.453125 19.1875 8.296875 \nz\n\" id=\"DejaVuSans-50\"/>\n      </defs>\n      <use xlink:href=\"#DejaVuSans-81\"/>\n      <use x=\"78.710938\" xlink:href=\"#DejaVuSans-94\"/>\n      <use x=\"162.5\" xlink:href=\"#DejaVuSans-50\"/>\n     </g>\n    </g>\n   </g>\n   <g id=\"text_9\">\n    <g clip-path=\"url(#p5549edb645)\">\n     <!-- Q^4 -->\n     <g transform=\"translate(327.986053 228.951987)scale(0.13 -0.13)\">\n      <defs>\n       <path d=\"M 37.796875 64.3125 \nL 12.890625 25.390625 \nL 37.796875 25.390625 \nz\nM 35.203125 72.90625 \nL 47.609375 72.90625 \nL 47.609375 25.390625 \nL 58.015625 25.390625 \nL 58.015625 17.1875 \nL 47.609375 17.1875 \nL 47.609375 0 \nL 37.796875 0 \nL 37.796875 17.1875 \nL 4.890625 17.1875 \nL 4.890625 26.703125 \nz\n\" id=\"DejaVuSans-52\"/>\n      </defs>\n      <use xlink:href=\"#DejaVuSans-81\"/>\n      <use x=\"78.710938\" xlink:href=\"#DejaVuSans-94\"/>\n      <use x=\"162.5\" xlink:href=\"#DejaVuSans-52\"/>\n     </g>\n    </g>\n   </g>\n   <g id=\"text_10\">\n    <g clip-path=\"url(#p5549edb645)\">\n     <!-- Q^8 -->\n     <g transform=\"translate(373.437053 228.951987)scale(0.13 -0.13)\">\n      <defs>\n       <path d=\"M 31.78125 34.625 \nQ 24.75 34.625 20.71875 30.859375 \nQ 16.703125 27.09375 16.703125 20.515625 \nQ 16.703125 13.921875 20.71875 10.15625 \nQ 24.75 6.390625 31.78125 6.390625 \nQ 38.8125 6.390625 42.859375 10.171875 \nQ 46.921875 13.96875 46.921875 20.515625 \nQ 46.921875 27.09375 42.890625 30.859375 \nQ 38.875 34.625 31.78125 34.625 \nz\nM 21.921875 38.8125 \nQ 15.578125 40.375 12.03125 44.71875 \nQ 8.5 49.078125 8.5 55.328125 \nQ 8.5 64.0625 14.71875 69.140625 \nQ 20.953125 74.21875 31.78125 74.21875 \nQ 42.671875 74.21875 48.875 69.140625 \nQ 55.078125 64.0625 55.078125 55.328125 \nQ 55.078125 49.078125 51.53125 44.71875 \nQ 48 40.375 41.703125 38.8125 \nQ 48.828125 37.15625 52.796875 32.3125 \nQ 56.78125 27.484375 56.78125 20.515625 \nQ 56.78125 9.90625 50.3125 4.234375 \nQ 43.84375 -1.421875 31.78125 -1.421875 \nQ 19.734375 -1.421875 13.25 4.234375 \nQ 6.78125 9.90625 6.78125 20.515625 \nQ 6.78125 27.484375 10.78125 32.3125 \nQ 14.796875 37.15625 21.921875 38.8125 \nz\nM 18.3125 54.390625 \nQ 18.3125 48.734375 21.84375 45.5625 \nQ 25.390625 42.390625 31.78125 42.390625 \nQ 38.140625 42.390625 41.71875 45.5625 \nQ 45.3125 48.734375 45.3125 54.390625 \nQ 45.3125 60.0625 41.71875 63.234375 \nQ 38.140625 66.40625 31.78125 66.40625 \nQ 25.390625 66.40625 21.84375 63.234375 \nQ 18.3125 60.0625 18.3125 54.390625 \nz\n\" id=\"DejaVuSans-56\"/>\n      </defs>\n      <use xlink:href=\"#DejaVuSans-81\"/>\n      <use x=\"78.710938\" xlink:href=\"#DejaVuSans-94\"/>\n      <use x=\"162.5\" xlink:href=\"#DejaVuSans-56\"/>\n     </g>\n    </g>\n   </g>\n   <g id=\"text_11\">\n    <g clip-path=\"url(#p5549edb645)\">\n     <!-- H -->\n     <g transform=\"translate(474.149991 47.147987)scale(0.13 -0.13)\">\n      <use xlink:href=\"#DejaVuSans-72\"/>\n     </g>\n    </g>\n   </g>\n   <g id=\"text_12\">\n    <g clip-path=\"url(#p5549edb645)\">\n     <!-- P -->\n     <g transform=\"translate(520.569897 88.167515)scale(0.13 -0.13)\">\n      <defs>\n       <path d=\"M 19.671875 64.796875 \nL 19.671875 37.40625 \nL 32.078125 37.40625 \nQ 38.96875 37.40625 42.71875 40.96875 \nQ 46.484375 44.53125 46.484375 51.125 \nQ 46.484375 57.671875 42.71875 61.234375 \nQ 38.96875 64.796875 32.078125 64.796875 \nz\nM 9.8125 72.90625 \nL 32.078125 72.90625 \nQ 44.34375 72.90625 50.609375 67.359375 \nQ 56.890625 61.8125 56.890625 51.125 \nQ 56.890625 40.328125 50.609375 34.8125 \nQ 44.34375 29.296875 32.078125 29.296875 \nL 19.671875 29.296875 \nL 19.671875 0 \nL 9.8125 0 \nz\n\" id=\"DejaVuSans-80\"/>\n      </defs>\n      <use xlink:href=\"#DejaVuSans-80\"/>\n     </g>\n    </g>\n   </g>\n   <g id=\"text_13\">\n    <g clip-path=\"url(#p5549edb645)\">\n     <!-- $-$$\\pi$/2 -->\n     <g transform=\"translate(514.969194 100.082245)scale(0.08 -0.08)\">\n      <defs>\n       <path d=\"M 10.59375 35.5 \nL 73.1875 35.5 \nL 73.1875 27.203125 \nL 10.59375 27.203125 \nz\n\" id=\"DejaVuSans-8722\"/>\n       <path d=\"M 9.125 54.6875 \nL 61.53125 54.6875 \nL 59.765625 45.703125 \nL 52.875 45.703125 \nL 46.34375 12.109375 \nQ 45.65625 8.59375 46.578125 7.03125 \nQ 47.46875 5.515625 50.140625 5.515625 \nQ 50.875 5.515625 51.953125 5.671875 \nQ 53.078125 5.765625 53.421875 5.8125 \nL 52.15625 -0.6875 \nQ 50.34375 -1.3125 48.484375 -1.609375 \nQ 46.578125 -1.90625 44.78125 -1.90625 \nQ 38.921875 -1.90625 37.3125 1.265625 \nQ 35.6875 4.5 37.359375 13.09375 \nL 43.703125 45.703125 \nL 23.53125 45.703125 \nL 14.65625 0 \nL 5.46875 0 \nL 14.359375 45.703125 \nL 7.375 45.703125 \nz\n\" id=\"DejaVuSans-Oblique-960\"/>\n       <path d=\"M 25.390625 72.90625 \nL 33.6875 72.90625 \nL 8.296875 -9.28125 \nL 0 -9.28125 \nz\n\" id=\"DejaVuSans-47\"/>\n      </defs>\n      <use transform=\"translate(0 0.78125)\" xlink:href=\"#DejaVuSans-8722\"/>\n      <use transform=\"translate(83.789062 0.78125)\" xlink:href=\"#DejaVuSans-Oblique-960\"/>\n      <use transform=\"translate(143.994141 0.78125)\" xlink:href=\"#DejaVuSans-47\"/>\n      <use transform=\"translate(174.060547 0.78125)\" xlink:href=\"#DejaVuSans-50\"/>\n     </g>\n    </g>\n   </g>\n   <g id=\"text_14\">\n    <g clip-path=\"url(#p5549edb645)\">\n     <!-- H -->\n     <g transform=\"translate(565.051991 92.598987)scale(0.13 -0.13)\">\n      <use xlink:href=\"#DejaVuSans-72\"/>\n     </g>\n    </g>\n   </g>\n   <g id=\"text_15\">\n    <g clip-path=\"url(#p5549edb645)\">\n     <!-- P -->\n     <g transform=\"translate(611.471897 133.618515)scale(0.13 -0.13)\">\n      <use xlink:href=\"#DejaVuSans-80\"/>\n     </g>\n    </g>\n   </g>\n   <g id=\"text_16\">\n    <g clip-path=\"url(#p5549edb645)\">\n     <!-- $-$$\\pi$/4 -->\n     <g transform=\"translate(605.711194 145.533245)scale(0.08 -0.08)\">\n      <use transform=\"translate(0 0.09375)\" xlink:href=\"#DejaVuSans-8722\"/>\n      <use transform=\"translate(83.789062 0.09375)\" xlink:href=\"#DejaVuSans-Oblique-960\"/>\n      <use transform=\"translate(143.994141 0.09375)\" xlink:href=\"#DejaVuSans-47\"/>\n      <use transform=\"translate(177.685547 0.09375)\" xlink:href=\"#DejaVuSans-52\"/>\n     </g>\n    </g>\n   </g>\n   <g id=\"text_17\">\n    <g clip-path=\"url(#p5549edb645)\">\n     <!-- P -->\n     <g transform=\"translate(656.922897 133.618515)scale(0.13 -0.13)\">\n      <use xlink:href=\"#DejaVuSans-80\"/>\n     </g>\n    </g>\n   </g>\n   <g id=\"text_18\">\n    <g clip-path=\"url(#p5549edb645)\">\n     <!-- $-$$\\pi$/2 -->\n     <g transform=\"translate(651.322194 145.533245)scale(0.08 -0.08)\">\n      <use transform=\"translate(0 0.78125)\" xlink:href=\"#DejaVuSans-8722\"/>\n      <use transform=\"translate(83.789062 0.78125)\" xlink:href=\"#DejaVuSans-Oblique-960\"/>\n      <use transform=\"translate(143.994141 0.78125)\" xlink:href=\"#DejaVuSans-47\"/>\n      <use transform=\"translate(174.060547 0.78125)\" xlink:href=\"#DejaVuSans-50\"/>\n     </g>\n    </g>\n   </g>\n   <g id=\"text_19\">\n    <g clip-path=\"url(#p5549edb645)\">\n     <!-- P -->\n     <g transform=\"translate(702.373897 179.069515)scale(0.13 -0.13)\">\n      <use xlink:href=\"#DejaVuSans-80\"/>\n     </g>\n    </g>\n   </g>\n   <g id=\"text_20\">\n    <g clip-path=\"url(#p5549edb645)\">\n     <!-- $-$$\\pi$/8 -->\n     <g transform=\"translate(696.813194 190.984245)scale(0.08 -0.08)\">\n      <use transform=\"translate(0 0.78125)\" xlink:href=\"#DejaVuSans-8722\"/>\n      <use transform=\"translate(83.789062 0.78125)\" xlink:href=\"#DejaVuSans-Oblique-960\"/>\n      <use transform=\"translate(143.994141 0.78125)\" xlink:href=\"#DejaVuSans-47\"/>\n      <use transform=\"translate(172.685547 0.78125)\" xlink:href=\"#DejaVuSans-56\"/>\n     </g>\n    </g>\n   </g>\n   <g id=\"text_21\">\n    <g clip-path=\"url(#p5549edb645)\">\n     <!-- H -->\n     <g transform=\"translate(746.855991 138.049987)scale(0.13 -0.13)\">\n      <use xlink:href=\"#DejaVuSans-72\"/>\n     </g>\n    </g>\n   </g>\n   <g id=\"text_22\">\n    <g clip-path=\"url(#p5549edb645)\">\n     <!-- P -->\n     <g transform=\"translate(793.275897 179.069515)scale(0.13 -0.13)\">\n      <use xlink:href=\"#DejaVuSans-80\"/>\n     </g>\n    </g>\n   </g>\n   <g id=\"text_23\">\n    <g clip-path=\"url(#p5549edb645)\">\n     <!-- $-$$\\pi$/4 -->\n     <g transform=\"translate(787.515194 190.984245)scale(0.08 -0.08)\">\n      <use transform=\"translate(0 0.09375)\" xlink:href=\"#DejaVuSans-8722\"/>\n      <use transform=\"translate(83.789062 0.09375)\" xlink:href=\"#DejaVuSans-Oblique-960\"/>\n      <use transform=\"translate(143.994141 0.09375)\" xlink:href=\"#DejaVuSans-47\"/>\n      <use transform=\"translate(177.685547 0.09375)\" xlink:href=\"#DejaVuSans-52\"/>\n     </g>\n    </g>\n   </g>\n   <g id=\"text_24\">\n    <g clip-path=\"url(#p5549edb645)\">\n     <!-- P -->\n     <g transform=\"translate(838.726897 179.069515)scale(0.13 -0.13)\">\n      <use xlink:href=\"#DejaVuSans-80\"/>\n     </g>\n    </g>\n   </g>\n   <g id=\"text_25\">\n    <g clip-path=\"url(#p5549edb645)\">\n     <!-- $-$$\\pi$/2 -->\n     <g transform=\"translate(833.126194 190.984245)scale(0.08 -0.08)\">\n      <use transform=\"translate(0 0.78125)\" xlink:href=\"#DejaVuSans-8722\"/>\n      <use transform=\"translate(83.789062 0.78125)\" xlink:href=\"#DejaVuSans-Oblique-960\"/>\n      <use transform=\"translate(143.994141 0.78125)\" xlink:href=\"#DejaVuSans-47\"/>\n      <use transform=\"translate(174.060547 0.78125)\" xlink:href=\"#DejaVuSans-50\"/>\n     </g>\n    </g>\n   </g>\n   <g id=\"text_26\">\n    <g clip-path=\"url(#p5549edb645)\">\n     <!-- H -->\n     <g transform=\"translate(883.208991 183.500987)scale(0.13 -0.13)\">\n      <use xlink:href=\"#DejaVuSans-72\"/>\n     </g>\n    </g>\n   </g>\n   <g id=\"text_27\">\n    <g clip-path=\"url(#p5549edb645)\">\n     <!-- 0 -->\n     <g transform=\"translate(990.361944 264.107825)scale(0.104 -0.104)\">\n      <defs>\n       <path d=\"M 31.78125 66.40625 \nQ 24.171875 66.40625 20.328125 58.90625 \nQ 16.5 51.421875 16.5 36.375 \nQ 16.5 21.390625 20.328125 13.890625 \nQ 24.171875 6.390625 31.78125 6.390625 \nQ 39.453125 6.390625 43.28125 13.890625 \nQ 47.125 21.390625 47.125 36.375 \nQ 47.125 51.421875 43.28125 58.90625 \nQ 39.453125 66.40625 31.78125 66.40625 \nz\nM 31.78125 74.21875 \nQ 44.046875 74.21875 50.515625 64.515625 \nQ 56.984375 54.828125 56.984375 36.375 \nQ 56.984375 17.96875 50.515625 8.265625 \nQ 44.046875 -1.421875 31.78125 -1.421875 \nQ 19.53125 -1.421875 13.0625 8.265625 \nQ 6.59375 17.96875 6.59375 36.375 \nQ 6.59375 54.828125 13.0625 64.515625 \nQ 19.53125 74.21875 31.78125 74.21875 \nz\n\" id=\"DejaVuSans-48\"/>\n      </defs>\n      <use xlink:href=\"#DejaVuSans-48\"/>\n     </g>\n    </g>\n   </g>\n   <g id=\"text_28\">\n    <g clip-path=\"url(#p5549edb645)\">\n     <!-- 1 -->\n     <g transform=\"translate(1035.812944 264.107825)scale(0.104 -0.104)\">\n      <use xlink:href=\"#DejaVuSans-49\"/>\n     </g>\n    </g>\n   </g>\n   <g id=\"text_29\">\n    <g clip-path=\"url(#p5549edb645)\">\n     <!-- 2 -->\n     <g transform=\"translate(1081.263944 264.107825)scale(0.104 -0.104)\">\n      <use xlink:href=\"#DejaVuSans-50\"/>\n     </g>\n    </g>\n   </g>\n   <g id=\"text_30\">\n    <g clip-path=\"url(#p5549edb645)\">\n     <!-- 3 -->\n     <g transform=\"translate(1126.714944 264.107825)scale(0.104 -0.104)\">\n      <defs>\n       <path d=\"M 40.578125 39.3125 \nQ 47.65625 37.796875 51.625 33 \nQ 55.609375 28.21875 55.609375 21.1875 \nQ 55.609375 10.40625 48.1875 4.484375 \nQ 40.765625 -1.421875 27.09375 -1.421875 \nQ 22.515625 -1.421875 17.65625 -0.515625 \nQ 12.796875 0.390625 7.625 2.203125 \nL 7.625 11.71875 \nQ 11.71875 9.328125 16.59375 8.109375 \nQ 21.484375 6.890625 26.8125 6.890625 \nQ 36.078125 6.890625 40.9375 10.546875 \nQ 45.796875 14.203125 45.796875 21.1875 \nQ 45.796875 27.640625 41.28125 31.265625 \nQ 36.765625 34.90625 28.71875 34.90625 \nL 20.21875 34.90625 \nL 20.21875 43.015625 \nL 29.109375 43.015625 \nQ 36.375 43.015625 40.234375 45.921875 \nQ 44.09375 48.828125 44.09375 54.296875 \nQ 44.09375 59.90625 40.109375 62.90625 \nQ 36.140625 65.921875 28.71875 65.921875 \nQ 24.65625 65.921875 20.015625 65.03125 \nQ 15.375 64.15625 9.8125 62.3125 \nL 9.8125 71.09375 \nQ 15.4375 72.65625 20.34375 73.4375 \nQ 25.25 74.21875 29.59375 74.21875 \nQ 40.828125 74.21875 47.359375 69.109375 \nQ 53.90625 64.015625 53.90625 55.328125 \nQ 53.90625 49.265625 50.4375 45.09375 \nQ 46.96875 40.921875 40.578125 39.3125 \nz\n\" id=\"DejaVuSans-51\"/>\n      </defs>\n      <use xlink:href=\"#DejaVuSans-51\"/>\n     </g>\n    </g>\n   </g>\n   <g id=\"text_31\">\n    <g clip-path=\"url(#p5549edb645)\">\n     <!-- ${evaluation}_{0}$ -->\n     <g transform=\"translate(33.972454 48.044784)scale(0.1625 -0.1625)\">\n      <defs>\n       <path d=\"M 48.09375 32.234375 \nQ 48.25 33.015625 48.3125 33.84375 \nQ 48.390625 34.671875 48.390625 35.5 \nQ 48.390625 41.453125 44.890625 44.921875 \nQ 41.40625 48.390625 35.40625 48.390625 \nQ 28.71875 48.390625 23.578125 44.15625 \nQ 18.453125 39.9375 15.828125 32.171875 \nz\nM 55.90625 25.203125 \nL 14.109375 25.203125 \nQ 13.8125 23.34375 13.71875 22.265625 \nQ 13.625 21.1875 13.625 20.40625 \nQ 13.625 13.625 17.796875 9.90625 \nQ 21.96875 6.203125 29.59375 6.203125 \nQ 35.453125 6.203125 40.671875 7.515625 \nQ 45.90625 8.84375 50.390625 11.375 \nL 48.6875 2.484375 \nQ 43.84375 0.53125 38.6875 -0.4375 \nQ 33.546875 -1.421875 28.21875 -1.421875 \nQ 16.84375 -1.421875 10.71875 4.015625 \nQ 4.59375 9.46875 4.59375 19.484375 \nQ 4.59375 28.03125 7.640625 35.375 \nQ 10.6875 42.71875 16.609375 48.484375 \nQ 20.40625 52.09375 25.65625 54.046875 \nQ 30.90625 56 36.8125 56 \nQ 46.09375 56 51.578125 50.4375 \nQ 57.078125 44.875 57.078125 35.5 \nQ 57.078125 33.25 56.78125 30.6875 \nQ 56.5 28.125 55.90625 25.203125 \nz\n\" id=\"DejaVuSans-Oblique-101\"/>\n       <path d=\"M 7.171875 54.6875 \nL 16.703125 54.6875 \nL 24.703125 8.203125 \nL 50.875 54.6875 \nL 60.40625 54.6875 \nL 29.296875 0 \nL 17.1875 0 \nz\n\" id=\"DejaVuSans-Oblique-118\"/>\n       <path d=\"M 53.71875 31.203125 \nL 47.609375 0 \nL 38.625 0 \nL 40.28125 8.296875 \nQ 36.328125 3.421875 31.265625 1 \nQ 26.21875 -1.421875 20.015625 -1.421875 \nQ 13.03125 -1.421875 8.5625 2.84375 \nQ 4.109375 7.125 4.109375 13.8125 \nQ 4.109375 23.390625 11.75 28.953125 \nQ 19.390625 34.515625 32.8125 34.515625 \nL 45.3125 34.515625 \nL 45.796875 36.921875 \nQ 45.90625 37.3125 45.953125 37.765625 \nQ 46 38.234375 46 39.203125 \nQ 46 43.5625 42.453125 45.96875 \nQ 38.921875 48.390625 32.515625 48.390625 \nQ 28.125 48.390625 23.5 47.265625 \nQ 18.890625 46.140625 14.015625 43.890625 \nL 15.578125 52.203125 \nQ 20.65625 54.109375 25.515625 55.046875 \nQ 30.375 56 34.90625 56 \nQ 44.578125 56 49.625 51.796875 \nQ 54.6875 47.609375 54.6875 39.59375 \nQ 54.6875 37.984375 54.4375 35.8125 \nQ 54.203125 33.640625 53.71875 31.203125 \nz\nM 44 27.484375 \nL 35.015625 27.484375 \nQ 23.96875 27.484375 18.671875 24.53125 \nQ 13.375 21.578125 13.375 15.375 \nQ 13.375 11.078125 16.078125 8.640625 \nQ 18.796875 6.203125 23.578125 6.203125 \nQ 30.90625 6.203125 36.375 11.453125 \nQ 41.84375 16.703125 43.609375 25.484375 \nz\n\" id=\"DejaVuSans-Oblique-97\"/>\n       <path d=\"M 18.3125 75.984375 \nL 27.296875 75.984375 \nL 12.5 0 \nL 3.515625 0 \nz\n\" id=\"DejaVuSans-Oblique-108\"/>\n       <path d=\"M 6.6875 21.6875 \nL 13.09375 54.6875 \nL 22.125 54.6875 \nL 15.71875 22.015625 \nQ 15.234375 19.625 15.015625 17.921875 \nQ 14.796875 16.21875 14.796875 15.09375 \nQ 14.796875 10.9375 17.328125 8.65625 \nQ 19.875 6.390625 24.515625 6.390625 \nQ 31.734375 6.390625 37 11.265625 \nQ 42.28125 16.15625 43.890625 24.421875 \nL 49.90625 54.6875 \nL 58.890625 54.6875 \nL 48.296875 0 \nL 39.3125 0 \nL 41.109375 8.59375 \nQ 37.3125 3.8125 32.0625 1.1875 \nQ 26.8125 -1.421875 20.90625 -1.421875 \nQ 13.71875 -1.421875 9.71875 2.515625 \nQ 5.71875 6.453125 5.71875 13.484375 \nQ 5.71875 14.9375 5.953125 17.140625 \nQ 6.203125 19.34375 6.6875 21.6875 \nz\n\" id=\"DejaVuSans-Oblique-117\"/>\n       <path d=\"M 42.28125 54.6875 \nL 40.921875 47.703125 \nL 23 47.703125 \nL 17.1875 18.015625 \nQ 16.890625 16.359375 16.75 15.234375 \nQ 16.609375 14.109375 16.609375 13.484375 \nQ 16.609375 10.359375 18.484375 8.9375 \nQ 20.359375 7.515625 24.515625 7.515625 \nL 33.59375 7.515625 \nL 32.078125 0 \nL 23.484375 0 \nQ 15.484375 0 11.546875 3.125 \nQ 7.625 6.25 7.625 12.59375 \nQ 7.625 13.71875 7.765625 15.0625 \nQ 7.90625 16.40625 8.203125 18.015625 \nL 14.015625 47.703125 \nL 6.390625 47.703125 \nL 7.8125 54.6875 \nL 15.28125 54.6875 \nL 18.3125 70.21875 \nL 27.296875 70.21875 \nL 24.3125 54.6875 \nz\n\" id=\"DejaVuSans-Oblique-116\"/>\n       <path d=\"M 18.3125 75.984375 \nL 27.296875 75.984375 \nL 25.09375 64.59375 \nL 16.109375 64.59375 \nz\nM 14.203125 54.6875 \nL 23.1875 54.6875 \nL 12.5 0 \nL 3.515625 0 \nz\n\" id=\"DejaVuSans-Oblique-105\"/>\n       <path d=\"M 25.390625 -1.421875 \nQ 15.765625 -1.421875 10.171875 4.515625 \nQ 4.59375 10.453125 4.59375 20.703125 \nQ 4.59375 26.65625 6.515625 32.828125 \nQ 8.453125 39.015625 11.53125 43.21875 \nQ 16.359375 49.75 22.3125 52.875 \nQ 28.265625 56 35.796875 56 \nQ 45.125 56 50.859375 50.1875 \nQ 56.59375 44.390625 56.59375 35.015625 \nQ 56.59375 28.515625 54.6875 22.0625 \nQ 52.78125 15.625 49.703125 11.375 \nQ 44.921875 4.828125 38.96875 1.703125 \nQ 33.015625 -1.421875 25.390625 -1.421875 \nz\nM 13.921875 21 \nQ 13.921875 13.578125 17.015625 9.890625 \nQ 20.125 6.203125 26.421875 6.203125 \nQ 35.453125 6.203125 41.375 14.078125 \nQ 47.3125 21.96875 47.3125 34.078125 \nQ 47.3125 41.15625 44.140625 44.765625 \nQ 40.96875 48.390625 34.8125 48.390625 \nQ 29.734375 48.390625 25.78125 46.015625 \nQ 21.828125 43.65625 18.703125 38.8125 \nQ 16.40625 35.203125 15.15625 30.5625 \nQ 13.921875 25.921875 13.921875 21 \nz\n\" id=\"DejaVuSans-Oblique-111\"/>\n       <path d=\"M 55.71875 33.015625 \nL 49.3125 0 \nL 40.28125 0 \nL 46.6875 32.671875 \nQ 47.125 34.96875 47.359375 36.71875 \nQ 47.609375 38.484375 47.609375 39.5 \nQ 47.609375 43.609375 45.015625 45.890625 \nQ 42.4375 48.1875 37.796875 48.1875 \nQ 30.5625 48.1875 25.34375 43.375 \nQ 20.125 38.578125 18.5 30.328125 \nL 12.5 0 \nL 3.515625 0 \nL 14.109375 54.6875 \nL 23.09375 54.6875 \nL 21.296875 46.09375 \nQ 25.046875 50.828125 30.3125 53.40625 \nQ 35.59375 56 41.40625 56 \nQ 48.640625 56 52.609375 52.09375 \nQ 56.59375 48.1875 56.59375 41.109375 \nQ 56.59375 39.359375 56.375 37.359375 \nQ 56.15625 35.359375 55.71875 33.015625 \nz\n\" id=\"DejaVuSans-Oblique-110\"/>\n      </defs>\n      <use transform=\"translate(0 0.015625)\" xlink:href=\"#DejaVuSans-Oblique-101\"/>\n      <use transform=\"translate(61.523438 0.015625)\" xlink:href=\"#DejaVuSans-Oblique-118\"/>\n      <use transform=\"translate(120.703125 0.015625)\" xlink:href=\"#DejaVuSans-Oblique-97\"/>\n      <use transform=\"translate(181.982422 0.015625)\" xlink:href=\"#DejaVuSans-Oblique-108\"/>\n      <use transform=\"translate(209.765625 0.015625)\" xlink:href=\"#DejaVuSans-Oblique-117\"/>\n      <use transform=\"translate(273.144531 0.015625)\" xlink:href=\"#DejaVuSans-Oblique-97\"/>\n      <use transform=\"translate(334.423828 0.015625)\" xlink:href=\"#DejaVuSans-Oblique-116\"/>\n      <use transform=\"translate(373.632812 0.015625)\" xlink:href=\"#DejaVuSans-Oblique-105\"/>\n      <use transform=\"translate(401.416016 0.015625)\" xlink:href=\"#DejaVuSans-Oblique-111\"/>\n      <use transform=\"translate(462.597656 0.015625)\" xlink:href=\"#DejaVuSans-Oblique-110\"/>\n      <use transform=\"translate(525.976562 -16.390625)scale(0.7)\" xlink:href=\"#DejaVuSans-48\"/>\n     </g>\n    </g>\n   </g>\n   <g id=\"text_32\">\n    <g clip-path=\"url(#p5549edb645)\">\n     <!-- ${evaluation}_{1}$ -->\n     <g transform=\"translate(33.972454 93.495784)scale(0.1625 -0.1625)\">\n      <use transform=\"translate(0 0.015625)\" xlink:href=\"#DejaVuSans-Oblique-101\"/>\n      <use transform=\"translate(61.523438 0.015625)\" xlink:href=\"#DejaVuSans-Oblique-118\"/>\n      <use transform=\"translate(120.703125 0.015625)\" xlink:href=\"#DejaVuSans-Oblique-97\"/>\n      <use transform=\"translate(181.982422 0.015625)\" xlink:href=\"#DejaVuSans-Oblique-108\"/>\n      <use transform=\"translate(209.765625 0.015625)\" xlink:href=\"#DejaVuSans-Oblique-117\"/>\n      <use transform=\"translate(273.144531 0.015625)\" xlink:href=\"#DejaVuSans-Oblique-97\"/>\n      <use transform=\"translate(334.423828 0.015625)\" xlink:href=\"#DejaVuSans-Oblique-116\"/>\n      <use transform=\"translate(373.632812 0.015625)\" xlink:href=\"#DejaVuSans-Oblique-105\"/>\n      <use transform=\"translate(401.416016 0.015625)\" xlink:href=\"#DejaVuSans-Oblique-111\"/>\n      <use transform=\"translate(462.597656 0.015625)\" xlink:href=\"#DejaVuSans-Oblique-110\"/>\n      <use transform=\"translate(525.976562 -16.390625)scale(0.7)\" xlink:href=\"#DejaVuSans-49\"/>\n     </g>\n    </g>\n   </g>\n   <g id=\"text_33\">\n    <g clip-path=\"url(#p5549edb645)\">\n     <!-- ${evaluation}_{2}$ -->\n     <g transform=\"translate(33.972454 138.946784)scale(0.1625 -0.1625)\">\n      <use transform=\"translate(0 0.015625)\" xlink:href=\"#DejaVuSans-Oblique-101\"/>\n      <use transform=\"translate(61.523438 0.015625)\" xlink:href=\"#DejaVuSans-Oblique-118\"/>\n      <use transform=\"translate(120.703125 0.015625)\" xlink:href=\"#DejaVuSans-Oblique-97\"/>\n      <use transform=\"translate(181.982422 0.015625)\" xlink:href=\"#DejaVuSans-Oblique-108\"/>\n      <use transform=\"translate(209.765625 0.015625)\" xlink:href=\"#DejaVuSans-Oblique-117\"/>\n      <use transform=\"translate(273.144531 0.015625)\" xlink:href=\"#DejaVuSans-Oblique-97\"/>\n      <use transform=\"translate(334.423828 0.015625)\" xlink:href=\"#DejaVuSans-Oblique-116\"/>\n      <use transform=\"translate(373.632812 0.015625)\" xlink:href=\"#DejaVuSans-Oblique-105\"/>\n      <use transform=\"translate(401.416016 0.015625)\" xlink:href=\"#DejaVuSans-Oblique-111\"/>\n      <use transform=\"translate(462.597656 0.015625)\" xlink:href=\"#DejaVuSans-Oblique-110\"/>\n      <use transform=\"translate(525.976562 -16.390625)scale(0.7)\" xlink:href=\"#DejaVuSans-50\"/>\n     </g>\n    </g>\n   </g>\n   <g id=\"text_34\">\n    <g clip-path=\"url(#p5549edb645)\">\n     <!-- ${evaluation}_{3}$ -->\n     <g transform=\"translate(33.972454 184.397784)scale(0.1625 -0.1625)\">\n      <use transform=\"translate(0 0.015625)\" xlink:href=\"#DejaVuSans-Oblique-101\"/>\n      <use transform=\"translate(61.523438 0.015625)\" xlink:href=\"#DejaVuSans-Oblique-118\"/>\n      <use transform=\"translate(120.703125 0.015625)\" xlink:href=\"#DejaVuSans-Oblique-97\"/>\n      <use transform=\"translate(181.982422 0.015625)\" xlink:href=\"#DejaVuSans-Oblique-108\"/>\n      <use transform=\"translate(209.765625 0.015625)\" xlink:href=\"#DejaVuSans-Oblique-117\"/>\n      <use transform=\"translate(273.144531 0.015625)\" xlink:href=\"#DejaVuSans-Oblique-97\"/>\n      <use transform=\"translate(334.423828 0.015625)\" xlink:href=\"#DejaVuSans-Oblique-116\"/>\n      <use transform=\"translate(373.632812 0.015625)\" xlink:href=\"#DejaVuSans-Oblique-105\"/>\n      <use transform=\"translate(401.416016 0.015625)\" xlink:href=\"#DejaVuSans-Oblique-111\"/>\n      <use transform=\"translate(462.597656 0.015625)\" xlink:href=\"#DejaVuSans-Oblique-110\"/>\n      <use transform=\"translate(525.976562 -16.390625)scale(0.7)\" xlink:href=\"#DejaVuSans-51\"/>\n     </g>\n    </g>\n   </g>\n   <g id=\"text_35\">\n    <g clip-path=\"url(#p5549edb645)\">\n     <!-- ${q}_{0}$ -->\n     <g transform=\"translate(109.209954 229.815777)scale(0.1625 -0.1625)\">\n      <defs>\n       <path d=\"M 41.703125 8.203125 \nQ 38.09375 3.46875 33.171875 1.015625 \nQ 28.265625 -1.421875 22.3125 -1.421875 \nQ 14.015625 -1.421875 9.296875 4.171875 \nQ 4.59375 9.765625 4.59375 19.578125 \nQ 4.59375 27.484375 7.5 34.859375 \nQ 10.40625 42.234375 15.828125 48.09375 \nQ 19.34375 51.90625 23.90625 53.953125 \nQ 28.46875 56 33.5 56 \nQ 39.546875 56 43.453125 53.609375 \nQ 47.359375 51.21875 49.125 46.390625 \nL 50.6875 54.59375 \nL 59.71875 54.59375 \nL 45.125 -20.609375 \nL 36.078125 -20.609375 \nz\nM 13.921875 20.90625 \nQ 13.921875 13.671875 16.9375 9.890625 \nQ 19.96875 6.109375 25.6875 6.109375 \nQ 34.1875 6.109375 40.1875 14.234375 \nQ 46.1875 22.359375 46.1875 33.984375 \nQ 46.1875 41.015625 43.078125 44.75 \nQ 39.984375 48.484375 34.1875 48.484375 \nQ 29.9375 48.484375 26.3125 46.5 \nQ 22.703125 44.53125 20.015625 40.71875 \nQ 17.1875 36.71875 15.546875 31.34375 \nQ 13.921875 25.984375 13.921875 20.90625 \nz\n\" id=\"DejaVuSans-Oblique-113\"/>\n      </defs>\n      <use xlink:href=\"#DejaVuSans-Oblique-113\"/>\n      <use transform=\"translate(63.476562 -16.40625)scale(0.7)\" xlink:href=\"#DejaVuSans-48\"/>\n     </g>\n    </g>\n   </g>\n   <g id=\"text_36\">\n    <g clip-path=\"url(#p5549edb645)\">\n     <!-- 4 -->\n     <g transform=\"translate(140.882754 264.107825)scale(0.104 -0.104)\">\n      <use xlink:href=\"#DejaVuSans-52\"/>\n     </g>\n    </g>\n   </g>\n   <g id=\"text_37\">\n    <g clip-path=\"url(#p5549edb645)\">\n     <!-- c9 -->\n     <g transform=\"translate(107.97343 275.299784)scale(0.1625 -0.1625)\">\n      <defs>\n       <path d=\"M 48.78125 52.59375 \nL 48.78125 44.1875 \nQ 44.96875 46.296875 41.140625 47.34375 \nQ 37.3125 48.390625 33.40625 48.390625 \nQ 24.65625 48.390625 19.8125 42.84375 \nQ 14.984375 37.3125 14.984375 27.296875 \nQ 14.984375 17.28125 19.8125 11.734375 \nQ 24.65625 6.203125 33.40625 6.203125 \nQ 37.3125 6.203125 41.140625 7.25 \nQ 44.96875 8.296875 48.78125 10.40625 \nL 48.78125 2.09375 \nQ 45.015625 0.34375 40.984375 -0.53125 \nQ 36.96875 -1.421875 32.421875 -1.421875 \nQ 20.0625 -1.421875 12.78125 6.34375 \nQ 5.515625 14.109375 5.515625 27.296875 \nQ 5.515625 40.671875 12.859375 48.328125 \nQ 20.21875 56 33.015625 56 \nQ 37.15625 56 41.109375 55.140625 \nQ 45.0625 54.296875 48.78125 52.59375 \nz\n\" id=\"DejaVuSans-99\"/>\n       <path d=\"M 10.984375 1.515625 \nL 10.984375 10.5 \nQ 14.703125 8.734375 18.5 7.8125 \nQ 22.3125 6.890625 25.984375 6.890625 \nQ 35.75 6.890625 40.890625 13.453125 \nQ 46.046875 20.015625 46.78125 33.40625 \nQ 43.953125 29.203125 39.59375 26.953125 \nQ 35.25 24.703125 29.984375 24.703125 \nQ 19.046875 24.703125 12.671875 31.3125 \nQ 6.296875 37.9375 6.296875 49.421875 \nQ 6.296875 60.640625 12.9375 67.421875 \nQ 19.578125 74.21875 30.609375 74.21875 \nQ 43.265625 74.21875 49.921875 64.515625 \nQ 56.59375 54.828125 56.59375 36.375 \nQ 56.59375 19.140625 48.40625 8.859375 \nQ 40.234375 -1.421875 26.421875 -1.421875 \nQ 22.703125 -1.421875 18.890625 -0.6875 \nQ 15.09375 0.046875 10.984375 1.515625 \nz\nM 30.609375 32.421875 \nQ 37.25 32.421875 41.125 36.953125 \nQ 45.015625 41.5 45.015625 49.421875 \nQ 45.015625 57.28125 41.125 61.84375 \nQ 37.25 66.40625 30.609375 66.40625 \nQ 23.96875 66.40625 20.09375 61.84375 \nQ 16.21875 57.28125 16.21875 49.421875 \nQ 16.21875 41.5 20.09375 36.953125 \nQ 23.96875 32.421875 30.609375 32.421875 \nz\n\" id=\"DejaVuSans-57\"/>\n      </defs>\n      <use xlink:href=\"#DejaVuSans-99\"/>\n      <use x=\"54.980469\" xlink:href=\"#DejaVuSans-57\"/>\n     </g>\n    </g>\n   </g>\n  </g>\n </g>\n <defs>\n  <clipPath id=\"p5549edb645\">\n   <rect height=\"290.8864\" width=\"1138.149854\" x=\"7.2\" y=\"7.2\"/>\n  </clipPath>\n </defs>\n</svg>\n",
      "image/png": "[encoded data removed]"
     },
     "metadata": {},
     "execution_count": 30
    }
   ],
   "source": [
    "cr = ClassicalRegister(evaluation_qubits)\n",
    "qc = QuantumCircuit(evaluation_registry, a_registry, cr)\n",
    "\n",
    "#qc.append(a_operator(), a_registry)\n",
    "\n",
    "# A\n",
    "qc.ry(theta, a_registry)\n",
    "\n",
    "qc.h(range(evaluation_qubits))\n",
    "qc.barrier()\n",
    "#Do the controlled-U operations:\n",
    "# 𝑄=𝐴𝑆0𝐴−1𝑆𝜓0\n",
    "repetitions = 1\n",
    "for counting_qubit in range(evaluation_qubits):\n",
    "    \n",
    "    q_op = QuantumCircuit(1)\n",
    "    \n",
    "    # Spsi\n",
    "    q_op.x(0)\n",
    "    q_op.z(0)\n",
    "    q_op.x(0)\n",
    "\n",
    "    # A\n",
    "    q_op.ry(-theta*repetitions, 0)\n",
    "    \n",
    "    # S0\n",
    "    q_op.x(0)\n",
    "    q_op.z(0)\n",
    "    q_op.x(0)\n",
    "    \n",
    "    # A\n",
    "    q_op.ry(theta*repetitions, 0)\n",
    "    \n",
    "    label = \"Q^\"+str(repetitions)\n",
    "    \n",
    "    qc.append(q_op.to_gate(label=label).control(1), [counting_qubit, evaluation_qubits])\n",
    "    repetitions *= 2\n",
    "    \n",
    "qft_dagger(qc, evaluation_qubits)\n",
    "#qc.append(QFT(evaluation_qubits, inverse=True, do_swaps=False), range(evaluation_qubits))\n",
    "qc.barrier()\n",
    "qc.measure(range(evaluation_qubits), cr)\n",
    "qc.draw('mpl')"
   ]
  },
  {
   "cell_type": "code",
   "execution_count": 32,
   "metadata": {},
   "outputs": [
    {
     "output_type": "execute_result",
     "data": {
      "text/plain": [
       "<Figure size 504x360 with 1 Axes>"
      ],
      "image/svg+xml": "<?xml version=\"1.0\" encoding=\"utf-8\" standalone=\"no\"?>\n<!DOCTYPE svg PUBLIC \"-//W3C//DTD SVG 1.1//EN\"\n  \"http://www.w3.org/Graphics/SVG/1.1/DTD/svg11.dtd\">\n<!-- Created with matplotlib (https://matplotlib.org/) -->\n<svg height=\"331.315407pt\" version=\"1.1\" viewBox=\"0 0 460.72125 331.315407\" width=\"460.72125pt\" xmlns=\"http://www.w3.org/2000/svg\" xmlns:xlink=\"http://www.w3.org/1999/xlink\">\n <metadata>\n  <rdf:RDF xmlns:cc=\"http://creativecommons.org/ns#\" xmlns:dc=\"http://purl.org/dc/elements/1.1/\" xmlns:rdf=\"http://www.w3.org/1999/02/22-rdf-syntax-ns#\">\n   <cc:Work>\n    <dc:type rdf:resource=\"http://purl.org/dc/dcmitype/StillImage\"/>\n    <dc:date>2021-02-09T20:26:58.044834</dc:date>\n    <dc:format>image/svg+xml</dc:format>\n    <dc:creator>\n     <cc:Agent>\n      <dc:title>Matplotlib v3.3.1, https://matplotlib.org/</dc:title>\n     </cc:Agent>\n    </dc:creator>\n   </cc:Work>\n  </rdf:RDF>\n </metadata>\n <defs>\n  <style type=\"text/css\">*{stroke-linecap:butt;stroke-linejoin:round;}</style>\n </defs>\n <g id=\"figure_1\">\n  <g id=\"patch_1\">\n   <path d=\"M 0 331.315407 \nL 460.72125 331.315407 \nL 460.72125 0 \nL 0 0 \nz\n\" style=\"fill:none;\"/>\n  </g>\n  <g id=\"axes_1\">\n   <g id=\"patch_2\">\n    <path d=\"M 62.92125 279 \nL 453.52125 279 \nL 453.52125 7.2 \nL 62.92125 7.2 \nz\n\" style=\"fill:#ffffff;\"/>\n   </g>\n   <g id=\"matplotlib.axis_1\">\n    <g id=\"xtick_1\">\n     <g id=\"line2d_1\">\n      <defs>\n       <path d=\"M 0 0 \nL 0 3.5 \n\" id=\"m3ce18183bc\" style=\"stroke:#000000;stroke-width:0.8;\"/>\n      </defs>\n      <g>\n       <use style=\"stroke:#000000;stroke-width:0.8;\" x=\"92.92031\" xlink:href=\"#m3ce18183bc\" y=\"279\"/>\n      </g>\n     </g>\n     <g id=\"text_1\">\n      <!-- 0010 -->\n      <g transform=\"translate(90.457371 323.119594)rotate(-70)scale(0.14 -0.14)\">\n       <defs>\n        <path d=\"M 31.78125 66.40625 \nQ 24.171875 66.40625 20.328125 58.90625 \nQ 16.5 51.421875 16.5 36.375 \nQ 16.5 21.390625 20.328125 13.890625 \nQ 24.171875 6.390625 31.78125 6.390625 \nQ 39.453125 6.390625 43.28125 13.890625 \nQ 47.125 21.390625 47.125 36.375 \nQ 47.125 51.421875 43.28125 58.90625 \nQ 39.453125 66.40625 31.78125 66.40625 \nz\nM 31.78125 74.21875 \nQ 44.046875 74.21875 50.515625 64.515625 \nQ 56.984375 54.828125 56.984375 36.375 \nQ 56.984375 17.96875 50.515625 8.265625 \nQ 44.046875 -1.421875 31.78125 -1.421875 \nQ 19.53125 -1.421875 13.0625 8.265625 \nQ 6.59375 17.96875 6.59375 36.375 \nQ 6.59375 54.828125 13.0625 64.515625 \nQ 19.53125 74.21875 31.78125 74.21875 \nz\n\" id=\"DejaVuSans-48\"/>\n        <path d=\"M 12.40625 8.296875 \nL 28.515625 8.296875 \nL 28.515625 63.921875 \nL 10.984375 60.40625 \nL 10.984375 69.390625 \nL 28.421875 72.90625 \nL 38.28125 72.90625 \nL 38.28125 8.296875 \nL 54.390625 8.296875 \nL 54.390625 0 \nL 12.40625 0 \nz\n\" id=\"DejaVuSans-49\"/>\n       </defs>\n       <use xlink:href=\"#DejaVuSans-48\"/>\n       <use x=\"63.623047\" xlink:href=\"#DejaVuSans-48\"/>\n       <use x=\"127.246094\" xlink:href=\"#DejaVuSans-49\"/>\n       <use x=\"190.869141\" xlink:href=\"#DejaVuSans-48\"/>\n      </g>\n     </g>\n    </g>\n    <g id=\"xtick_2\">\n     <g id=\"line2d_2\">\n      <g>\n       <use style=\"stroke:#000000;stroke-width:0.8;\" x=\"129.653852\" xlink:href=\"#m3ce18183bc\" y=\"279\"/>\n      </g>\n     </g>\n     <g id=\"text_2\">\n      <!-- 0011 -->\n      <g transform=\"translate(127.190913 323.119594)rotate(-70)scale(0.14 -0.14)\">\n       <use xlink:href=\"#DejaVuSans-48\"/>\n       <use x=\"63.623047\" xlink:href=\"#DejaVuSans-48\"/>\n       <use x=\"127.246094\" xlink:href=\"#DejaVuSans-49\"/>\n       <use x=\"190.869141\" xlink:href=\"#DejaVuSans-49\"/>\n      </g>\n     </g>\n    </g>\n    <g id=\"xtick_3\">\n     <g id=\"line2d_3\">\n      <g>\n       <use style=\"stroke:#000000;stroke-width:0.8;\" x=\"166.387394\" xlink:href=\"#m3ce18183bc\" y=\"279\"/>\n      </g>\n     </g>\n     <g id=\"text_3\">\n      <!-- 0100 -->\n      <g transform=\"translate(163.924455 323.119594)rotate(-70)scale(0.14 -0.14)\">\n       <use xlink:href=\"#DejaVuSans-48\"/>\n       <use x=\"63.623047\" xlink:href=\"#DejaVuSans-49\"/>\n       <use x=\"127.246094\" xlink:href=\"#DejaVuSans-48\"/>\n       <use x=\"190.869141\" xlink:href=\"#DejaVuSans-48\"/>\n      </g>\n     </g>\n    </g>\n    <g id=\"xtick_4\">\n     <g id=\"line2d_4\">\n      <g>\n       <use style=\"stroke:#000000;stroke-width:0.8;\" x=\"203.120937\" xlink:href=\"#m3ce18183bc\" y=\"279\"/>\n      </g>\n     </g>\n     <g id=\"text_4\">\n      <!-- 0101 -->\n      <g transform=\"translate(200.657998 323.119594)rotate(-70)scale(0.14 -0.14)\">\n       <use xlink:href=\"#DejaVuSans-48\"/>\n       <use x=\"63.623047\" xlink:href=\"#DejaVuSans-49\"/>\n       <use x=\"127.246094\" xlink:href=\"#DejaVuSans-48\"/>\n       <use x=\"190.869141\" xlink:href=\"#DejaVuSans-49\"/>\n      </g>\n     </g>\n    </g>\n    <g id=\"xtick_5\">\n     <g id=\"line2d_5\">\n      <g>\n       <use style=\"stroke:#000000;stroke-width:0.8;\" x=\"239.854479\" xlink:href=\"#m3ce18183bc\" y=\"279\"/>\n      </g>\n     </g>\n     <g id=\"text_5\">\n      <!-- 0111 -->\n      <g transform=\"translate(237.39154 323.119594)rotate(-70)scale(0.14 -0.14)\">\n       <use xlink:href=\"#DejaVuSans-48\"/>\n       <use x=\"63.623047\" xlink:href=\"#DejaVuSans-49\"/>\n       <use x=\"127.246094\" xlink:href=\"#DejaVuSans-49\"/>\n       <use x=\"190.869141\" xlink:href=\"#DejaVuSans-49\"/>\n      </g>\n     </g>\n    </g>\n    <g id=\"xtick_6\">\n     <g id=\"line2d_6\">\n      <g>\n       <use style=\"stroke:#000000;stroke-width:0.8;\" x=\"276.588021\" xlink:href=\"#m3ce18183bc\" y=\"279\"/>\n      </g>\n     </g>\n     <g id=\"text_6\">\n      <!-- 1010 -->\n      <g transform=\"translate(274.125082 323.119594)rotate(-70)scale(0.14 -0.14)\">\n       <use xlink:href=\"#DejaVuSans-49\"/>\n       <use x=\"63.623047\" xlink:href=\"#DejaVuSans-48\"/>\n       <use x=\"127.246094\" xlink:href=\"#DejaVuSans-49\"/>\n       <use x=\"190.869141\" xlink:href=\"#DejaVuSans-48\"/>\n      </g>\n     </g>\n    </g>\n    <g id=\"xtick_7\">\n     <g id=\"line2d_7\">\n      <g>\n       <use style=\"stroke:#000000;stroke-width:0.8;\" x=\"313.321563\" xlink:href=\"#m3ce18183bc\" y=\"279\"/>\n      </g>\n     </g>\n     <g id=\"text_7\">\n      <!-- 1011 -->\n      <g transform=\"translate(310.858625 323.119594)rotate(-70)scale(0.14 -0.14)\">\n       <use xlink:href=\"#DejaVuSans-49\"/>\n       <use x=\"63.623047\" xlink:href=\"#DejaVuSans-48\"/>\n       <use x=\"127.246094\" xlink:href=\"#DejaVuSans-49\"/>\n       <use x=\"190.869141\" xlink:href=\"#DejaVuSans-49\"/>\n      </g>\n     </g>\n    </g>\n    <g id=\"xtick_8\">\n     <g id=\"line2d_8\">\n      <g>\n       <use style=\"stroke:#000000;stroke-width:0.8;\" x=\"350.055106\" xlink:href=\"#m3ce18183bc\" y=\"279\"/>\n      </g>\n     </g>\n     <g id=\"text_8\">\n      <!-- 1100 -->\n      <g transform=\"translate(347.592167 323.119594)rotate(-70)scale(0.14 -0.14)\">\n       <use xlink:href=\"#DejaVuSans-49\"/>\n       <use x=\"63.623047\" xlink:href=\"#DejaVuSans-49\"/>\n       <use x=\"127.246094\" xlink:href=\"#DejaVuSans-48\"/>\n       <use x=\"190.869141\" xlink:href=\"#DejaVuSans-48\"/>\n      </g>\n     </g>\n    </g>\n    <g id=\"xtick_9\">\n     <g id=\"line2d_9\">\n      <g>\n       <use style=\"stroke:#000000;stroke-width:0.8;\" x=\"386.788648\" xlink:href=\"#m3ce18183bc\" y=\"279\"/>\n      </g>\n     </g>\n     <g id=\"text_9\">\n      <!-- 1101 -->\n      <g transform=\"translate(384.325709 323.119594)rotate(-70)scale(0.14 -0.14)\">\n       <use xlink:href=\"#DejaVuSans-49\"/>\n       <use x=\"63.623047\" xlink:href=\"#DejaVuSans-49\"/>\n       <use x=\"127.246094\" xlink:href=\"#DejaVuSans-48\"/>\n       <use x=\"190.869141\" xlink:href=\"#DejaVuSans-49\"/>\n      </g>\n     </g>\n    </g>\n    <g id=\"xtick_10\">\n     <g id=\"line2d_10\">\n      <g>\n       <use style=\"stroke:#000000;stroke-width:0.8;\" x=\"423.52219\" xlink:href=\"#m3ce18183bc\" y=\"279\"/>\n      </g>\n     </g>\n     <g id=\"text_10\">\n      <!-- 1110 -->\n      <g transform=\"translate(421.059252 323.119594)rotate(-70)scale(0.14 -0.14)\">\n       <use xlink:href=\"#DejaVuSans-49\"/>\n       <use x=\"63.623047\" xlink:href=\"#DejaVuSans-49\"/>\n       <use x=\"127.246094\" xlink:href=\"#DejaVuSans-49\"/>\n       <use x=\"190.869141\" xlink:href=\"#DejaVuSans-48\"/>\n      </g>\n     </g>\n    </g>\n   </g>\n   <g id=\"matplotlib.axis_2\">\n    <g id=\"ytick_1\">\n     <g id=\"line2d_11\">\n      <path clip-path=\"url(#p3fe7da2305)\" d=\"M 62.92125 279 \nL 453.52125 279 \n\" style=\"fill:none;stroke:#b0b0b0;stroke-dasharray:2.96,1.28;stroke-dashoffset:0;stroke-width:0.8;\"/>\n     </g>\n     <g id=\"line2d_12\">\n      <defs>\n       <path d=\"M 0 0 \nL -3.5 0 \n\" id=\"me7d254e873\" style=\"stroke:#000000;stroke-width:0.8;\"/>\n      </defs>\n      <g>\n       <use style=\"stroke:#000000;stroke-width:0.8;\" x=\"62.92125\" xlink:href=\"#me7d254e873\" y=\"279\"/>\n      </g>\n     </g>\n     <g id=\"text_11\">\n      <!-- 0.00 -->\n      <g transform=\"translate(24.749375 284.318906)scale(0.14 -0.14)\">\n       <defs>\n        <path d=\"M 10.6875 12.40625 \nL 21 12.40625 \nL 21 0 \nL 10.6875 0 \nz\n\" id=\"DejaVuSans-46\"/>\n       </defs>\n       <use xlink:href=\"#DejaVuSans-48\"/>\n       <use x=\"63.623047\" xlink:href=\"#DejaVuSans-46\"/>\n       <use x=\"95.410156\" xlink:href=\"#DejaVuSans-48\"/>\n       <use x=\"159.033203\" xlink:href=\"#DejaVuSans-48\"/>\n      </g>\n     </g>\n    </g>\n    <g id=\"ytick_2\">\n     <g id=\"line2d_13\">\n      <path clip-path=\"url(#p3fe7da2305)\" d=\"M 62.92125 212.732571 \nL 453.52125 212.732571 \n\" style=\"fill:none;stroke:#b0b0b0;stroke-dasharray:2.96,1.28;stroke-dashoffset:0;stroke-width:0.8;\"/>\n     </g>\n     <g id=\"line2d_14\">\n      <g>\n       <use style=\"stroke:#000000;stroke-width:0.8;\" x=\"62.92125\" xlink:href=\"#me7d254e873\" y=\"212.732571\"/>\n      </g>\n     </g>\n     <g id=\"text_12\">\n      <!-- 0.15 -->\n      <g transform=\"translate(24.749375 218.051478)scale(0.14 -0.14)\">\n       <defs>\n        <path d=\"M 10.796875 72.90625 \nL 49.515625 72.90625 \nL 49.515625 64.59375 \nL 19.828125 64.59375 \nL 19.828125 46.734375 \nQ 21.96875 47.46875 24.109375 47.828125 \nQ 26.265625 48.1875 28.421875 48.1875 \nQ 40.625 48.1875 47.75 41.5 \nQ 54.890625 34.8125 54.890625 23.390625 \nQ 54.890625 11.625 47.5625 5.09375 \nQ 40.234375 -1.421875 26.90625 -1.421875 \nQ 22.3125 -1.421875 17.546875 -0.640625 \nQ 12.796875 0.140625 7.71875 1.703125 \nL 7.71875 11.625 \nQ 12.109375 9.234375 16.796875 8.0625 \nQ 21.484375 6.890625 26.703125 6.890625 \nQ 35.15625 6.890625 40.078125 11.328125 \nQ 45.015625 15.765625 45.015625 23.390625 \nQ 45.015625 31 40.078125 35.4375 \nQ 35.15625 39.890625 26.703125 39.890625 \nQ 22.75 39.890625 18.8125 39.015625 \nQ 14.890625 38.140625 10.796875 36.28125 \nz\n\" id=\"DejaVuSans-53\"/>\n       </defs>\n       <use xlink:href=\"#DejaVuSans-48\"/>\n       <use x=\"63.623047\" xlink:href=\"#DejaVuSans-46\"/>\n       <use x=\"95.410156\" xlink:href=\"#DejaVuSans-49\"/>\n       <use x=\"159.033203\" xlink:href=\"#DejaVuSans-53\"/>\n      </g>\n     </g>\n    </g>\n    <g id=\"ytick_3\">\n     <g id=\"line2d_15\">\n      <path clip-path=\"url(#p3fe7da2305)\" d=\"M 62.92125 146.465143 \nL 453.52125 146.465143 \n\" style=\"fill:none;stroke:#b0b0b0;stroke-dasharray:2.96,1.28;stroke-dashoffset:0;stroke-width:0.8;\"/>\n     </g>\n     <g id=\"line2d_16\">\n      <g>\n       <use style=\"stroke:#000000;stroke-width:0.8;\" x=\"62.92125\" xlink:href=\"#me7d254e873\" y=\"146.465143\"/>\n      </g>\n     </g>\n     <g id=\"text_13\">\n      <!-- 0.30 -->\n      <g transform=\"translate(24.749375 151.784049)scale(0.14 -0.14)\">\n       <defs>\n        <path d=\"M 40.578125 39.3125 \nQ 47.65625 37.796875 51.625 33 \nQ 55.609375 28.21875 55.609375 21.1875 \nQ 55.609375 10.40625 48.1875 4.484375 \nQ 40.765625 -1.421875 27.09375 -1.421875 \nQ 22.515625 -1.421875 17.65625 -0.515625 \nQ 12.796875 0.390625 7.625 2.203125 \nL 7.625 11.71875 \nQ 11.71875 9.328125 16.59375 8.109375 \nQ 21.484375 6.890625 26.8125 6.890625 \nQ 36.078125 6.890625 40.9375 10.546875 \nQ 45.796875 14.203125 45.796875 21.1875 \nQ 45.796875 27.640625 41.28125 31.265625 \nQ 36.765625 34.90625 28.71875 34.90625 \nL 20.21875 34.90625 \nL 20.21875 43.015625 \nL 29.109375 43.015625 \nQ 36.375 43.015625 40.234375 45.921875 \nQ 44.09375 48.828125 44.09375 54.296875 \nQ 44.09375 59.90625 40.109375 62.90625 \nQ 36.140625 65.921875 28.71875 65.921875 \nQ 24.65625 65.921875 20.015625 65.03125 \nQ 15.375 64.15625 9.8125 62.3125 \nL 9.8125 71.09375 \nQ 15.4375 72.65625 20.34375 73.4375 \nQ 25.25 74.21875 29.59375 74.21875 \nQ 40.828125 74.21875 47.359375 69.109375 \nQ 53.90625 64.015625 53.90625 55.328125 \nQ 53.90625 49.265625 50.4375 45.09375 \nQ 46.96875 40.921875 40.578125 39.3125 \nz\n\" id=\"DejaVuSans-51\"/>\n       </defs>\n       <use xlink:href=\"#DejaVuSans-48\"/>\n       <use x=\"63.623047\" xlink:href=\"#DejaVuSans-46\"/>\n       <use x=\"95.410156\" xlink:href=\"#DejaVuSans-51\"/>\n       <use x=\"159.033203\" xlink:href=\"#DejaVuSans-48\"/>\n      </g>\n     </g>\n    </g>\n    <g id=\"ytick_4\">\n     <g id=\"line2d_17\">\n      <path clip-path=\"url(#p3fe7da2305)\" d=\"M 62.92125 80.197714 \nL 453.52125 80.197714 \n\" style=\"fill:none;stroke:#b0b0b0;stroke-dasharray:2.96,1.28;stroke-dashoffset:0;stroke-width:0.8;\"/>\n     </g>\n     <g id=\"line2d_18\">\n      <g>\n       <use style=\"stroke:#000000;stroke-width:0.8;\" x=\"62.92125\" xlink:href=\"#me7d254e873\" y=\"80.197714\"/>\n      </g>\n     </g>\n     <g id=\"text_14\">\n      <!-- 0.45 -->\n      <g transform=\"translate(24.749375 85.516621)scale(0.14 -0.14)\">\n       <defs>\n        <path d=\"M 37.796875 64.3125 \nL 12.890625 25.390625 \nL 37.796875 25.390625 \nz\nM 35.203125 72.90625 \nL 47.609375 72.90625 \nL 47.609375 25.390625 \nL 58.015625 25.390625 \nL 58.015625 17.1875 \nL 47.609375 17.1875 \nL 47.609375 0 \nL 37.796875 0 \nL 37.796875 17.1875 \nL 4.890625 17.1875 \nL 4.890625 26.703125 \nz\n\" id=\"DejaVuSans-52\"/>\n       </defs>\n       <use xlink:href=\"#DejaVuSans-48\"/>\n       <use x=\"63.623047\" xlink:href=\"#DejaVuSans-46\"/>\n       <use x=\"95.410156\" xlink:href=\"#DejaVuSans-52\"/>\n       <use x=\"159.033203\" xlink:href=\"#DejaVuSans-53\"/>\n      </g>\n     </g>\n    </g>\n    <g id=\"ytick_5\">\n     <g id=\"line2d_19\">\n      <path clip-path=\"url(#p3fe7da2305)\" d=\"M 62.92125 13.930286 \nL 453.52125 13.930286 \n\" style=\"fill:none;stroke:#b0b0b0;stroke-dasharray:2.96,1.28;stroke-dashoffset:0;stroke-width:0.8;\"/>\n     </g>\n     <g id=\"line2d_20\">\n      <g>\n       <use style=\"stroke:#000000;stroke-width:0.8;\" x=\"62.92125\" xlink:href=\"#me7d254e873\" y=\"13.930286\"/>\n      </g>\n     </g>\n     <g id=\"text_15\">\n      <!-- 0.60 -->\n      <g transform=\"translate(24.749375 19.249192)scale(0.14 -0.14)\">\n       <defs>\n        <path d=\"M 33.015625 40.375 \nQ 26.375 40.375 22.484375 35.828125 \nQ 18.609375 31.296875 18.609375 23.390625 \nQ 18.609375 15.53125 22.484375 10.953125 \nQ 26.375 6.390625 33.015625 6.390625 \nQ 39.65625 6.390625 43.53125 10.953125 \nQ 47.40625 15.53125 47.40625 23.390625 \nQ 47.40625 31.296875 43.53125 35.828125 \nQ 39.65625 40.375 33.015625 40.375 \nz\nM 52.59375 71.296875 \nL 52.59375 62.3125 \nQ 48.875 64.0625 45.09375 64.984375 \nQ 41.3125 65.921875 37.59375 65.921875 \nQ 27.828125 65.921875 22.671875 59.328125 \nQ 17.53125 52.734375 16.796875 39.40625 \nQ 19.671875 43.65625 24.015625 45.921875 \nQ 28.375 48.1875 33.59375 48.1875 \nQ 44.578125 48.1875 50.953125 41.515625 \nQ 57.328125 34.859375 57.328125 23.390625 \nQ 57.328125 12.15625 50.6875 5.359375 \nQ 44.046875 -1.421875 33.015625 -1.421875 \nQ 20.359375 -1.421875 13.671875 8.265625 \nQ 6.984375 17.96875 6.984375 36.375 \nQ 6.984375 53.65625 15.1875 63.9375 \nQ 23.390625 74.21875 37.203125 74.21875 \nQ 40.921875 74.21875 44.703125 73.484375 \nQ 48.484375 72.75 52.59375 71.296875 \nz\n\" id=\"DejaVuSans-54\"/>\n       </defs>\n       <use xlink:href=\"#DejaVuSans-48\"/>\n       <use x=\"63.623047\" xlink:href=\"#DejaVuSans-46\"/>\n       <use x=\"95.410156\" xlink:href=\"#DejaVuSans-54\"/>\n       <use x=\"159.033203\" xlink:href=\"#DejaVuSans-48\"/>\n      </g>\n     </g>\n    </g>\n    <g id=\"text_16\">\n     <!-- Probabilities -->\n     <g transform=\"translate(17.837813 185.855781)rotate(-90)scale(0.14 -0.14)\">\n      <defs>\n       <path d=\"M 19.671875 64.796875 \nL 19.671875 37.40625 \nL 32.078125 37.40625 \nQ 38.96875 37.40625 42.71875 40.96875 \nQ 46.484375 44.53125 46.484375 51.125 \nQ 46.484375 57.671875 42.71875 61.234375 \nQ 38.96875 64.796875 32.078125 64.796875 \nz\nM 9.8125 72.90625 \nL 32.078125 72.90625 \nQ 44.34375 72.90625 50.609375 67.359375 \nQ 56.890625 61.8125 56.890625 51.125 \nQ 56.890625 40.328125 50.609375 34.8125 \nQ 44.34375 29.296875 32.078125 29.296875 \nL 19.671875 29.296875 \nL 19.671875 0 \nL 9.8125 0 \nz\n\" id=\"DejaVuSans-80\"/>\n       <path d=\"M 41.109375 46.296875 \nQ 39.59375 47.171875 37.8125 47.578125 \nQ 36.03125 48 33.890625 48 \nQ 26.265625 48 22.1875 43.046875 \nQ 18.109375 38.09375 18.109375 28.8125 \nL 18.109375 0 \nL 9.078125 0 \nL 9.078125 54.6875 \nL 18.109375 54.6875 \nL 18.109375 46.1875 \nQ 20.953125 51.171875 25.484375 53.578125 \nQ 30.03125 56 36.53125 56 \nQ 37.453125 56 38.578125 55.875 \nQ 39.703125 55.765625 41.0625 55.515625 \nz\n\" id=\"DejaVuSans-114\"/>\n       <path d=\"M 30.609375 48.390625 \nQ 23.390625 48.390625 19.1875 42.75 \nQ 14.984375 37.109375 14.984375 27.296875 \nQ 14.984375 17.484375 19.15625 11.84375 \nQ 23.34375 6.203125 30.609375 6.203125 \nQ 37.796875 6.203125 41.984375 11.859375 \nQ 46.1875 17.53125 46.1875 27.296875 \nQ 46.1875 37.015625 41.984375 42.703125 \nQ 37.796875 48.390625 30.609375 48.390625 \nz\nM 30.609375 56 \nQ 42.328125 56 49.015625 48.375 \nQ 55.71875 40.765625 55.71875 27.296875 \nQ 55.71875 13.875 49.015625 6.21875 \nQ 42.328125 -1.421875 30.609375 -1.421875 \nQ 18.84375 -1.421875 12.171875 6.21875 \nQ 5.515625 13.875 5.515625 27.296875 \nQ 5.515625 40.765625 12.171875 48.375 \nQ 18.84375 56 30.609375 56 \nz\n\" id=\"DejaVuSans-111\"/>\n       <path d=\"M 48.6875 27.296875 \nQ 48.6875 37.203125 44.609375 42.84375 \nQ 40.53125 48.484375 33.40625 48.484375 \nQ 26.265625 48.484375 22.1875 42.84375 \nQ 18.109375 37.203125 18.109375 27.296875 \nQ 18.109375 17.390625 22.1875 11.75 \nQ 26.265625 6.109375 33.40625 6.109375 \nQ 40.53125 6.109375 44.609375 11.75 \nQ 48.6875 17.390625 48.6875 27.296875 \nz\nM 18.109375 46.390625 \nQ 20.953125 51.265625 25.265625 53.625 \nQ 29.59375 56 35.59375 56 \nQ 45.5625 56 51.78125 48.09375 \nQ 58.015625 40.1875 58.015625 27.296875 \nQ 58.015625 14.40625 51.78125 6.484375 \nQ 45.5625 -1.421875 35.59375 -1.421875 \nQ 29.59375 -1.421875 25.265625 0.953125 \nQ 20.953125 3.328125 18.109375 8.203125 \nL 18.109375 0 \nL 9.078125 0 \nL 9.078125 75.984375 \nL 18.109375 75.984375 \nz\n\" id=\"DejaVuSans-98\"/>\n       <path d=\"M 34.28125 27.484375 \nQ 23.390625 27.484375 19.1875 25 \nQ 14.984375 22.515625 14.984375 16.5 \nQ 14.984375 11.71875 18.140625 8.90625 \nQ 21.296875 6.109375 26.703125 6.109375 \nQ 34.1875 6.109375 38.703125 11.40625 \nQ 43.21875 16.703125 43.21875 25.484375 \nL 43.21875 27.484375 \nz\nM 52.203125 31.203125 \nL 52.203125 0 \nL 43.21875 0 \nL 43.21875 8.296875 \nQ 40.140625 3.328125 35.546875 0.953125 \nQ 30.953125 -1.421875 24.3125 -1.421875 \nQ 15.921875 -1.421875 10.953125 3.296875 \nQ 6 8.015625 6 15.921875 \nQ 6 25.140625 12.171875 29.828125 \nQ 18.359375 34.515625 30.609375 34.515625 \nL 43.21875 34.515625 \nL 43.21875 35.40625 \nQ 43.21875 41.609375 39.140625 45 \nQ 35.0625 48.390625 27.6875 48.390625 \nQ 23 48.390625 18.546875 47.265625 \nQ 14.109375 46.140625 10.015625 43.890625 \nL 10.015625 52.203125 \nQ 14.9375 54.109375 19.578125 55.046875 \nQ 24.21875 56 28.609375 56 \nQ 40.484375 56 46.34375 49.84375 \nQ 52.203125 43.703125 52.203125 31.203125 \nz\n\" id=\"DejaVuSans-97\"/>\n       <path d=\"M 9.421875 54.6875 \nL 18.40625 54.6875 \nL 18.40625 0 \nL 9.421875 0 \nz\nM 9.421875 75.984375 \nL 18.40625 75.984375 \nL 18.40625 64.59375 \nL 9.421875 64.59375 \nz\n\" id=\"DejaVuSans-105\"/>\n       <path d=\"M 9.421875 75.984375 \nL 18.40625 75.984375 \nL 18.40625 0 \nL 9.421875 0 \nz\n\" id=\"DejaVuSans-108\"/>\n       <path d=\"M 18.3125 70.21875 \nL 18.3125 54.6875 \nL 36.8125 54.6875 \nL 36.8125 47.703125 \nL 18.3125 47.703125 \nL 18.3125 18.015625 \nQ 18.3125 11.328125 20.140625 9.421875 \nQ 21.96875 7.515625 27.59375 7.515625 \nL 36.8125 7.515625 \nL 36.8125 0 \nL 27.59375 0 \nQ 17.1875 0 13.234375 3.875 \nQ 9.28125 7.765625 9.28125 18.015625 \nL 9.28125 47.703125 \nL 2.6875 47.703125 \nL 2.6875 54.6875 \nL 9.28125 54.6875 \nL 9.28125 70.21875 \nz\n\" id=\"DejaVuSans-116\"/>\n       <path d=\"M 56.203125 29.59375 \nL 56.203125 25.203125 \nL 14.890625 25.203125 \nQ 15.484375 15.921875 20.484375 11.0625 \nQ 25.484375 6.203125 34.421875 6.203125 \nQ 39.59375 6.203125 44.453125 7.46875 \nQ 49.3125 8.734375 54.109375 11.28125 \nL 54.109375 2.78125 \nQ 49.265625 0.734375 44.1875 -0.34375 \nQ 39.109375 -1.421875 33.890625 -1.421875 \nQ 20.796875 -1.421875 13.15625 6.1875 \nQ 5.515625 13.8125 5.515625 26.8125 \nQ 5.515625 40.234375 12.765625 48.109375 \nQ 20.015625 56 32.328125 56 \nQ 43.359375 56 49.78125 48.890625 \nQ 56.203125 41.796875 56.203125 29.59375 \nz\nM 47.21875 32.234375 \nQ 47.125 39.59375 43.09375 43.984375 \nQ 39.0625 48.390625 32.421875 48.390625 \nQ 24.90625 48.390625 20.390625 44.140625 \nQ 15.875 39.890625 15.1875 32.171875 \nz\n\" id=\"DejaVuSans-101\"/>\n       <path d=\"M 44.28125 53.078125 \nL 44.28125 44.578125 \nQ 40.484375 46.53125 36.375 47.5 \nQ 32.28125 48.484375 27.875 48.484375 \nQ 21.1875 48.484375 17.84375 46.4375 \nQ 14.5 44.390625 14.5 40.28125 \nQ 14.5 37.15625 16.890625 35.375 \nQ 19.28125 33.59375 26.515625 31.984375 \nL 29.59375 31.296875 \nQ 39.15625 29.25 43.1875 25.515625 \nQ 47.21875 21.78125 47.21875 15.09375 \nQ 47.21875 7.46875 41.1875 3.015625 \nQ 35.15625 -1.421875 24.609375 -1.421875 \nQ 20.21875 -1.421875 15.453125 -0.5625 \nQ 10.6875 0.296875 5.421875 2 \nL 5.421875 11.28125 \nQ 10.40625 8.6875 15.234375 7.390625 \nQ 20.0625 6.109375 24.8125 6.109375 \nQ 31.15625 6.109375 34.5625 8.28125 \nQ 37.984375 10.453125 37.984375 14.40625 \nQ 37.984375 18.0625 35.515625 20.015625 \nQ 33.0625 21.96875 24.703125 23.78125 \nL 21.578125 24.515625 \nQ 13.234375 26.265625 9.515625 29.90625 \nQ 5.8125 33.546875 5.8125 39.890625 \nQ 5.8125 47.609375 11.28125 51.796875 \nQ 16.75 56 26.8125 56 \nQ 31.78125 56 36.171875 55.265625 \nQ 40.578125 54.546875 44.28125 53.078125 \nz\n\" id=\"DejaVuSans-115\"/>\n      </defs>\n      <use xlink:href=\"#DejaVuSans-80\"/>\n      <use x=\"58.552734\" xlink:href=\"#DejaVuSans-114\"/>\n      <use x=\"97.416016\" xlink:href=\"#DejaVuSans-111\"/>\n      <use x=\"158.597656\" xlink:href=\"#DejaVuSans-98\"/>\n      <use x=\"222.074219\" xlink:href=\"#DejaVuSans-97\"/>\n      <use x=\"283.353516\" xlink:href=\"#DejaVuSans-98\"/>\n      <use x=\"346.830078\" xlink:href=\"#DejaVuSans-105\"/>\n      <use x=\"374.613281\" xlink:href=\"#DejaVuSans-108\"/>\n      <use x=\"402.396484\" xlink:href=\"#DejaVuSans-105\"/>\n      <use x=\"430.179688\" xlink:href=\"#DejaVuSans-116\"/>\n      <use x=\"469.388672\" xlink:href=\"#DejaVuSans-105\"/>\n      <use x=\"497.171875\" xlink:href=\"#DejaVuSans-101\"/>\n      <use x=\"558.695312\" xlink:href=\"#DejaVuSans-115\"/>\n     </g>\n    </g>\n   </g>\n   <g id=\"patch_3\">\n    <path clip-path=\"url(#p3fe7da2305)\" d=\"M 80.675795 279 \nL 92.92031 279 \nL 92.92031 279 \nL 80.675795 279 \nz\n\" style=\"fill:#648fff;\"/>\n   </g>\n   <g id=\"patch_4\">\n    <path clip-path=\"url(#p3fe7da2305)\" d=\"M 117.409338 279 \nL 129.653852 279 \nL 129.653852 52.5 \nL 117.409338 52.5 \nz\n\" style=\"fill:#648fff;\"/>\n   </g>\n   <g id=\"patch_5\">\n    <path clip-path=\"url(#p3fe7da2305)\" d=\"M 154.14288 279 \nL 166.387394 279 \nL 166.387394 278.137143 \nL 154.14288 278.137143 \nz\n\" style=\"fill:#648fff;\"/>\n   </g>\n   <g id=\"patch_6\">\n    <path clip-path=\"url(#p3fe7da2305)\" d=\"M 190.876422 279 \nL 203.120937 279 \nL 203.120937 279 \nL 190.876422 279 \nz\n\" style=\"fill:#648fff;\"/>\n   </g>\n   <g id=\"patch_7\">\n    <path clip-path=\"url(#p3fe7da2305)\" d=\"M 227.609965 279 \nL 239.854479 279 \nL 239.854479 279 \nL 227.609965 279 \nz\n\" style=\"fill:#648fff;\"/>\n   </g>\n   <g id=\"patch_8\">\n    <path clip-path=\"url(#p3fe7da2305)\" d=\"M 264.343507 279 \nL 276.588021 279 \nL 276.588021 279 \nL 264.343507 279 \nz\n\" style=\"fill:#648fff;\"/>\n   </g>\n   <g id=\"patch_9\">\n    <path clip-path=\"url(#p3fe7da2305)\" d=\"M 301.077049 279 \nL 313.321563 279 \nL 313.321563 279 \nL 301.077049 279 \nz\n\" style=\"fill:#648fff;\"/>\n   </g>\n   <g id=\"patch_10\">\n    <path clip-path=\"url(#p3fe7da2305)\" d=\"M 337.810592 279 \nL 350.055106 279 \nL 350.055106 278.137143 \nL 337.810592 278.137143 \nz\n\" style=\"fill:#648fff;\"/>\n   </g>\n   <g id=\"patch_11\">\n    <path clip-path=\"url(#p3fe7da2305)\" d=\"M 374.544134 279 \nL 386.788648 279 \nL 386.788648 65.874286 \nL 374.544134 65.874286 \nz\n\" style=\"fill:#648fff;\"/>\n   </g>\n   <g id=\"patch_12\">\n    <path clip-path=\"url(#p3fe7da2305)\" d=\"M 411.277676 279 \nL 423.52219 279 \nL 423.52219 278.568571 \nL 411.277676 278.568571 \nz\n\" style=\"fill:#648fff;\"/>\n   </g>\n   <g id=\"patch_13\">\n    <path clip-path=\"url(#p3fe7da2305)\" d=\"M 92.92031 279 \nL 105.164824 279 \nL 105.164824 278.137143 \nL 92.92031 278.137143 \nz\n\" style=\"fill:#dc267f;\"/>\n   </g>\n   <g id=\"patch_14\">\n    <path clip-path=\"url(#p3fe7da2305)\" d=\"M 129.653852 279 \nL 141.898366 279 \nL 141.898366 278.568571 \nL 129.653852 278.568571 \nz\n\" style=\"fill:#dc267f;\"/>\n   </g>\n   <g id=\"patch_15\">\n    <path clip-path=\"url(#p3fe7da2305)\" d=\"M 166.387394 279 \nL 178.631908 279 \nL 178.631908 278.568571 \nL 166.387394 278.568571 \nz\n\" style=\"fill:#dc267f;\"/>\n   </g>\n   <g id=\"patch_16\">\n    <path clip-path=\"url(#p3fe7da2305)\" d=\"M 203.120937 279 \nL 215.365451 279 \nL 215.365451 278.568571 \nL 203.120937 278.568571 \nz\n\" style=\"fill:#dc267f;\"/>\n   </g>\n   <g id=\"patch_17\">\n    <path clip-path=\"url(#p3fe7da2305)\" d=\"M 239.854479 279 \nL 252.098993 279 \nL 252.098993 278.137143 \nL 239.854479 278.137143 \nz\n\" style=\"fill:#dc267f;\"/>\n   </g>\n   <g id=\"patch_18\">\n    <path clip-path=\"url(#p3fe7da2305)\" d=\"M 276.588021 279 \nL 288.832535 279 \nL 288.832535 278.568571 \nL 276.588021 278.568571 \nz\n\" style=\"fill:#dc267f;\"/>\n   </g>\n   <g id=\"patch_19\">\n    <path clip-path=\"url(#p3fe7da2305)\" d=\"M 313.321563 279 \nL 325.566078 279 \nL 325.566078 54.657143 \nL 313.321563 54.657143 \nz\n\" style=\"fill:#dc267f;\"/>\n   </g>\n   <g id=\"patch_20\">\n    <path clip-path=\"url(#p3fe7da2305)\" d=\"M 350.055106 279 \nL 362.29962 279 \nL 362.29962 65.011429 \nL 350.055106 65.011429 \nz\n\" style=\"fill:#dc267f;\"/>\n   </g>\n   <g id=\"patch_21\">\n    <path clip-path=\"url(#p3fe7da2305)\" d=\"M 386.788648 279 \nL 399.033162 279 \nL 399.033162 279 \nL 386.788648 279 \nz\n\" style=\"fill:#dc267f;\"/>\n   </g>\n   <g id=\"patch_22\">\n    <path clip-path=\"url(#p3fe7da2305)\" d=\"M 423.52219 279 \nL 435.766705 279 \nL 435.766705 279 \nL 423.52219 279 \nz\n\" style=\"fill:#dc267f;\"/>\n   </g>\n   <g id=\"patch_23\">\n    <path d=\"M 62.92125 279 \nL 62.92125 7.2 \n\" style=\"fill:none;stroke:#000000;stroke-linecap:square;stroke-linejoin:miter;stroke-width:0.8;\"/>\n   </g>\n   <g id=\"patch_24\">\n    <path d=\"M 453.52125 279 \nL 453.52125 7.2 \n\" style=\"fill:none;stroke:#000000;stroke-linecap:square;stroke-linejoin:miter;stroke-width:0.8;\"/>\n   </g>\n   <g id=\"patch_25\">\n    <path d=\"M 62.92125 279 \nL 453.52125 279 \n\" style=\"fill:none;stroke:#000000;stroke-linecap:square;stroke-linejoin:miter;stroke-width:0.8;\"/>\n   </g>\n   <g id=\"patch_26\">\n    <path d=\"M 62.92125 7.2 \nL 453.52125 7.2 \n\" style=\"fill:none;stroke:#000000;stroke-linecap:square;stroke-linejoin:miter;stroke-width:0.8;\"/>\n   </g>\n   <g id=\"text_17\">\n    <!-- 0 -->\n    <g transform=\"translate(83.616803 276.920313)scale(0.1 -0.1)\">\n     <use xlink:href=\"#DejaVuSans-48\"/>\n    </g>\n   </g>\n   <g id=\"text_18\">\n    <!-- 0.513 -->\n    <g transform=\"translate(109.217532 39.095313)scale(0.1 -0.1)\">\n     <use xlink:href=\"#DejaVuSans-48\"/>\n     <use x=\"63.623047\" xlink:href=\"#DejaVuSans-46\"/>\n     <use x=\"95.410156\" xlink:href=\"#DejaVuSans-53\"/>\n     <use x=\"159.033203\" xlink:href=\"#DejaVuSans-49\"/>\n     <use x=\"222.65625\" xlink:href=\"#DejaVuSans-51\"/>\n    </g>\n   </g>\n   <g id=\"text_19\">\n    <!-- 0.002 -->\n    <g transform=\"translate(145.951075 276.014313)scale(0.1 -0.1)\">\n     <defs>\n      <path d=\"M 19.1875 8.296875 \nL 53.609375 8.296875 \nL 53.609375 0 \nL 7.328125 0 \nL 7.328125 8.296875 \nQ 12.9375 14.109375 22.625 23.890625 \nQ 32.328125 33.6875 34.8125 36.53125 \nQ 39.546875 41.84375 41.421875 45.53125 \nQ 43.3125 49.21875 43.3125 52.78125 \nQ 43.3125 58.59375 39.234375 62.25 \nQ 35.15625 65.921875 28.609375 65.921875 \nQ 23.96875 65.921875 18.8125 64.3125 \nQ 13.671875 62.703125 7.8125 59.421875 \nL 7.8125 69.390625 \nQ 13.765625 71.78125 18.9375 73 \nQ 24.125 74.21875 28.421875 74.21875 \nQ 39.75 74.21875 46.484375 68.546875 \nQ 53.21875 62.890625 53.21875 53.421875 \nQ 53.21875 48.921875 51.53125 44.890625 \nQ 49.859375 40.875 45.40625 35.40625 \nQ 44.1875 33.984375 37.640625 27.21875 \nQ 31.109375 20.453125 19.1875 8.296875 \nz\n\" id=\"DejaVuSans-50\"/>\n     </defs>\n     <use xlink:href=\"#DejaVuSans-48\"/>\n     <use x=\"63.623047\" xlink:href=\"#DejaVuSans-46\"/>\n     <use x=\"95.410156\" xlink:href=\"#DejaVuSans-48\"/>\n     <use x=\"159.033203\" xlink:href=\"#DejaVuSans-48\"/>\n     <use x=\"222.65625\" xlink:href=\"#DejaVuSans-50\"/>\n    </g>\n   </g>\n   <g id=\"text_20\">\n    <!-- 0 -->\n    <g transform=\"translate(193.817429 276.920313)scale(0.1 -0.1)\">\n     <use xlink:href=\"#DejaVuSans-48\"/>\n    </g>\n   </g>\n   <g id=\"text_21\">\n    <!-- 0 -->\n    <g transform=\"translate(230.550972 276.920313)scale(0.1 -0.1)\">\n     <use xlink:href=\"#DejaVuSans-48\"/>\n    </g>\n   </g>\n   <g id=\"text_22\">\n    <!-- 0 -->\n    <g transform=\"translate(267.284514 276.920313)scale(0.1 -0.1)\">\n     <use xlink:href=\"#DejaVuSans-48\"/>\n    </g>\n   </g>\n   <g id=\"text_23\">\n    <!-- 0 -->\n    <g transform=\"translate(304.018056 276.920313)scale(0.1 -0.1)\">\n     <use xlink:href=\"#DejaVuSans-48\"/>\n    </g>\n   </g>\n   <g id=\"text_24\">\n    <!-- 0.002 -->\n    <g transform=\"translate(329.618786 276.014313)scale(0.1 -0.1)\">\n     <use xlink:href=\"#DejaVuSans-48\"/>\n     <use x=\"63.623047\" xlink:href=\"#DejaVuSans-46\"/>\n     <use x=\"95.410156\" xlink:href=\"#DejaVuSans-48\"/>\n     <use x=\"159.033203\" xlink:href=\"#DejaVuSans-48\"/>\n     <use x=\"222.65625\" xlink:href=\"#DejaVuSans-50\"/>\n    </g>\n   </g>\n   <g id=\"text_25\">\n    <!-- 0.482 -->\n    <g transform=\"translate(366.352329 53.138313)scale(0.1 -0.1)\">\n     <defs>\n      <path d=\"M 31.78125 34.625 \nQ 24.75 34.625 20.71875 30.859375 \nQ 16.703125 27.09375 16.703125 20.515625 \nQ 16.703125 13.921875 20.71875 10.15625 \nQ 24.75 6.390625 31.78125 6.390625 \nQ 38.8125 6.390625 42.859375 10.171875 \nQ 46.921875 13.96875 46.921875 20.515625 \nQ 46.921875 27.09375 42.890625 30.859375 \nQ 38.875 34.625 31.78125 34.625 \nz\nM 21.921875 38.8125 \nQ 15.578125 40.375 12.03125 44.71875 \nQ 8.5 49.078125 8.5 55.328125 \nQ 8.5 64.0625 14.71875 69.140625 \nQ 20.953125 74.21875 31.78125 74.21875 \nQ 42.671875 74.21875 48.875 69.140625 \nQ 55.078125 64.0625 55.078125 55.328125 \nQ 55.078125 49.078125 51.53125 44.71875 \nQ 48 40.375 41.703125 38.8125 \nQ 48.828125 37.15625 52.796875 32.3125 \nQ 56.78125 27.484375 56.78125 20.515625 \nQ 56.78125 9.90625 50.3125 4.234375 \nQ 43.84375 -1.421875 31.78125 -1.421875 \nQ 19.734375 -1.421875 13.25 4.234375 \nQ 6.78125 9.90625 6.78125 20.515625 \nQ 6.78125 27.484375 10.78125 32.3125 \nQ 14.796875 37.15625 21.921875 38.8125 \nz\nM 18.3125 54.390625 \nQ 18.3125 48.734375 21.84375 45.5625 \nQ 25.390625 42.390625 31.78125 42.390625 \nQ 38.140625 42.390625 41.71875 45.5625 \nQ 45.3125 48.734375 45.3125 54.390625 \nQ 45.3125 60.0625 41.71875 63.234375 \nQ 38.140625 66.40625 31.78125 66.40625 \nQ 25.390625 66.40625 21.84375 63.234375 \nQ 18.3125 60.0625 18.3125 54.390625 \nz\n\" id=\"DejaVuSans-56\"/>\n     </defs>\n     <use xlink:href=\"#DejaVuSans-48\"/>\n     <use x=\"63.623047\" xlink:href=\"#DejaVuSans-46\"/>\n     <use x=\"95.410156\" xlink:href=\"#DejaVuSans-52\"/>\n     <use x=\"159.033203\" xlink:href=\"#DejaVuSans-56\"/>\n     <use x=\"222.65625\" xlink:href=\"#DejaVuSans-50\"/>\n    </g>\n   </g>\n   <g id=\"text_26\">\n    <!-- 0 -->\n    <g transform=\"translate(414.218683 276.467313)scale(0.1 -0.1)\">\n     <use xlink:href=\"#DejaVuSans-48\"/>\n    </g>\n   </g>\n   <g id=\"text_27\">\n    <!-- 0 -->\n    <g transform=\"translate(83.616803 276.920313)scale(0.1 -0.1)\">\n     <use xlink:href=\"#DejaVuSans-48\"/>\n    </g>\n   </g>\n   <g id=\"text_28\">\n    <!-- 0.513 -->\n    <g transform=\"translate(109.217532 39.095313)scale(0.1 -0.1)\">\n     <use xlink:href=\"#DejaVuSans-48\"/>\n     <use x=\"63.623047\" xlink:href=\"#DejaVuSans-46\"/>\n     <use x=\"95.410156\" xlink:href=\"#DejaVuSans-53\"/>\n     <use x=\"159.033203\" xlink:href=\"#DejaVuSans-49\"/>\n     <use x=\"222.65625\" xlink:href=\"#DejaVuSans-51\"/>\n    </g>\n   </g>\n   <g id=\"text_29\">\n    <!-- 0.002 -->\n    <g transform=\"translate(145.951075 276.014313)scale(0.1 -0.1)\">\n     <use xlink:href=\"#DejaVuSans-48\"/>\n     <use x=\"63.623047\" xlink:href=\"#DejaVuSans-46\"/>\n     <use x=\"95.410156\" xlink:href=\"#DejaVuSans-48\"/>\n     <use x=\"159.033203\" xlink:href=\"#DejaVuSans-48\"/>\n     <use x=\"222.65625\" xlink:href=\"#DejaVuSans-50\"/>\n    </g>\n   </g>\n   <g id=\"text_30\">\n    <!-- 0 -->\n    <g transform=\"translate(193.817429 276.920313)scale(0.1 -0.1)\">\n     <use xlink:href=\"#DejaVuSans-48\"/>\n    </g>\n   </g>\n   <g id=\"text_31\">\n    <!-- 0 -->\n    <g transform=\"translate(230.550972 276.920313)scale(0.1 -0.1)\">\n     <use xlink:href=\"#DejaVuSans-48\"/>\n    </g>\n   </g>\n   <g id=\"text_32\">\n    <!-- 0 -->\n    <g transform=\"translate(267.284514 276.920313)scale(0.1 -0.1)\">\n     <use xlink:href=\"#DejaVuSans-48\"/>\n    </g>\n   </g>\n   <g id=\"text_33\">\n    <!-- 0 -->\n    <g transform=\"translate(304.018056 276.920313)scale(0.1 -0.1)\">\n     <use xlink:href=\"#DejaVuSans-48\"/>\n    </g>\n   </g>\n   <g id=\"text_34\">\n    <!-- 0.002 -->\n    <g transform=\"translate(329.618786 276.014313)scale(0.1 -0.1)\">\n     <use xlink:href=\"#DejaVuSans-48\"/>\n     <use x=\"63.623047\" xlink:href=\"#DejaVuSans-46\"/>\n     <use x=\"95.410156\" xlink:href=\"#DejaVuSans-48\"/>\n     <use x=\"159.033203\" xlink:href=\"#DejaVuSans-48\"/>\n     <use x=\"222.65625\" xlink:href=\"#DejaVuSans-50\"/>\n    </g>\n   </g>\n   <g id=\"text_35\">\n    <!-- 0.482 -->\n    <g transform=\"translate(366.352329 53.138313)scale(0.1 -0.1)\">\n     <use xlink:href=\"#DejaVuSans-48\"/>\n     <use x=\"63.623047\" xlink:href=\"#DejaVuSans-46\"/>\n     <use x=\"95.410156\" xlink:href=\"#DejaVuSans-52\"/>\n     <use x=\"159.033203\" xlink:href=\"#DejaVuSans-56\"/>\n     <use x=\"222.65625\" xlink:href=\"#DejaVuSans-50\"/>\n    </g>\n   </g>\n   <g id=\"text_36\">\n    <!-- 0 -->\n    <g transform=\"translate(414.218683 276.467313)scale(0.1 -0.1)\">\n     <use xlink:href=\"#DejaVuSans-48\"/>\n    </g>\n   </g>\n   <g id=\"text_37\">\n    <!-- 0.002 -->\n    <g transform=\"translate(84.728504 276.014313)scale(0.1 -0.1)\">\n     <use xlink:href=\"#DejaVuSans-48\"/>\n     <use x=\"63.623047\" xlink:href=\"#DejaVuSans-46\"/>\n     <use x=\"95.410156\" xlink:href=\"#DejaVuSans-48\"/>\n     <use x=\"159.033203\" xlink:href=\"#DejaVuSans-48\"/>\n     <use x=\"222.65625\" xlink:href=\"#DejaVuSans-50\"/>\n    </g>\n   </g>\n   <g id=\"text_38\">\n    <!-- 0 -->\n    <g transform=\"translate(132.594859 276.467313)scale(0.1 -0.1)\">\n     <use xlink:href=\"#DejaVuSans-48\"/>\n    </g>\n   </g>\n   <g id=\"text_39\">\n    <!-- 0 -->\n    <g transform=\"translate(169.328401 276.467313)scale(0.1 -0.1)\">\n     <use xlink:href=\"#DejaVuSans-48\"/>\n    </g>\n   </g>\n   <g id=\"text_40\">\n    <!-- 0 -->\n    <g transform=\"translate(206.061944 276.467313)scale(0.1 -0.1)\">\n     <use xlink:href=\"#DejaVuSans-48\"/>\n    </g>\n   </g>\n   <g id=\"text_41\">\n    <!-- 0.002 -->\n    <g transform=\"translate(231.662673 276.014313)scale(0.1 -0.1)\">\n     <use xlink:href=\"#DejaVuSans-48\"/>\n     <use x=\"63.623047\" xlink:href=\"#DejaVuSans-46\"/>\n     <use x=\"95.410156\" xlink:href=\"#DejaVuSans-48\"/>\n     <use x=\"159.033203\" xlink:href=\"#DejaVuSans-48\"/>\n     <use x=\"222.65625\" xlink:href=\"#DejaVuSans-50\"/>\n    </g>\n   </g>\n   <g id=\"text_42\">\n    <!-- 0 -->\n    <g transform=\"translate(279.529028 276.467313)scale(0.1 -0.1)\">\n     <use xlink:href=\"#DejaVuSans-48\"/>\n    </g>\n   </g>\n   <g id=\"text_43\">\n    <!-- 0.508 -->\n    <g transform=\"translate(305.129758 41.360313)scale(0.1 -0.1)\">\n     <use xlink:href=\"#DejaVuSans-48\"/>\n     <use x=\"63.623047\" xlink:href=\"#DejaVuSans-46\"/>\n     <use x=\"95.410156\" xlink:href=\"#DejaVuSans-53\"/>\n     <use x=\"159.033203\" xlink:href=\"#DejaVuSans-48\"/>\n     <use x=\"222.65625\" xlink:href=\"#DejaVuSans-56\"/>\n    </g>\n   </g>\n   <g id=\"text_44\">\n    <!-- 0.484 -->\n    <g transform=\"translate(341.8633 52.232313)scale(0.1 -0.1)\">\n     <use xlink:href=\"#DejaVuSans-48\"/>\n     <use x=\"63.623047\" xlink:href=\"#DejaVuSans-46\"/>\n     <use x=\"95.410156\" xlink:href=\"#DejaVuSans-52\"/>\n     <use x=\"159.033203\" xlink:href=\"#DejaVuSans-56\"/>\n     <use x=\"222.65625\" xlink:href=\"#DejaVuSans-52\"/>\n    </g>\n   </g>\n   <g id=\"text_45\">\n    <!-- 0 -->\n    <g transform=\"translate(389.729655 276.920313)scale(0.1 -0.1)\">\n     <use xlink:href=\"#DejaVuSans-48\"/>\n    </g>\n   </g>\n   <g id=\"text_46\">\n    <!-- 0 -->\n    <g transform=\"translate(426.463197 276.920313)scale(0.1 -0.1)\">\n     <use xlink:href=\"#DejaVuSans-48\"/>\n    </g>\n   </g>\n  </g>\n </g>\n <defs>\n  <clipPath id=\"p3fe7da2305\">\n   <rect height=\"271.8\" width=\"390.6\" x=\"62.92125\" y=\"7.2\"/>\n  </clipPath>\n </defs>\n</svg>\n",
      "image/png": "[encoded data removed]"
     },
     "metadata": {},
     "execution_count": 32
    }
   ],
   "source": [
    "from qiskit.visualization import plot_histogram\n",
    "\n",
    "backend = Aer.get_backend('qasm_simulator')\n",
    "results = execute(qc, backend=backend, shots=1024).result()\n",
    "counts = results.get_counts()\n",
    "\n",
    "plot_histogram([counts, ae_result['circuit_result']])"
   ]
  },
  {
   "cell_type": "code",
   "execution_count": 437,
   "metadata": {},
   "outputs": [
    {
     "name": "stderr",
     "output_type": "stream",
     "text": [
      "/Users/sergiogago/opt/anaconda3/lib/python3.7/site-packages/qiskit/providers/ibmq/ibmqfactory.py:192: UserWarning:\n",
      "\n",
      "Timestamps in IBMQ backend properties, jobs, and job results are all now in local time instead of UTC.\n",
      "\n",
      "ibmqfactory.load_account:WARNING:2021-01-31 19:38:40,531: Credentials are already in use. The existing account in the session will be replaced.\n"
     ]
    },
    {
     "name": "stdout",
     "output_type": "stream",
     "text": [
      "Job Status: job has successfully run\n"
     ]
    }
   ],
   "source": [
    "from qiskit import IBMQ\n",
    "from qiskit.providers.ibmq import least_busy\n",
    "from qiskit.tools.monitor import job_monitor\n",
    "IBMQ.load_account()\n",
    "provider = IBMQ.get_provider()\n",
    "backend_real = least_busy(provider.backends(filters=lambda x: x.configuration().n_qubits > evaluation_qubits+1 and not x.configuration().simulator ))\n",
    "backend_real.name()\n",
    "\n",
    "job_real = execute(qc, backend=backend, shots=1024)\n",
    "job_monitor(job_real)\n",
    "results_real = job_real.result()\n"
   ]
  },
  {
   "cell_type": "code",
   "execution_count": 440,
   "metadata": {},
   "outputs": [],
   "source": [
    "results_real = job_real.result()\n",
    "counts_real = results_real.get_counts()"
   ]
  },
  {
   "cell_type": "code",
   "execution_count": 444,
   "metadata": {},
   "outputs": [
    {
     "data": {
      "application/vnd.plotly.v1+json": {
       "config": {
        "displayModeBar": false,
        "editable": false,
        "plotlyServerURL": "https://plot.ly"
       },
       "data": [
        {
         "hoverinfo": "text",
         "hovertext": [
          "<b>0000000</b><br>P = 0.0",
          "<b>0000001</b><br>P = 0.0",
          "<b>0000010</b><br>P = 0.008",
          "<b>0000011</b><br>P = 0.007",
          "<b>0000100</b><br>P = 0.0",
          "<b>0000101</b><br>P = 0.0",
          "<b>0000110</b><br>P = 0.0",
          "<b>0000111</b><br>P = 0.0",
          "<b>0001000</b><br>P = 0.0",
          "<b>0001001</b><br>P = 0.0",
          "<b>0001010</b><br>P = 0.0",
          "<b>0001011</b><br>P = 0.0",
          "<b>0001100</b><br>P = 0.0",
          "<b>0001101</b><br>P = 0.0",
          "<b>0001110</b><br>P = 0.0",
          "<b>0001111</b><br>P = 0.0",
          "<b>0010000</b><br>P = 0.0",
          "<b>0010001</b><br>P = 0.0",
          "<b>0010010</b><br>P = 0.0",
          "<b>0010011</b><br>P = 0.002",
          "<b>0010100</b><br>P = 0.0",
          "<b>0010101</b><br>P = 0.0",
          "<b>0010110</b><br>P = 0.0",
          "<b>0010111</b><br>P = 0.0",
          "<b>0011000</b><br>P = 0.0",
          "<b>0011001</b><br>P = 0.0",
          "<b>0011010</b><br>P = 0.0",
          "<b>0011011</b><br>P = 0.0",
          "<b>0011100</b><br>P = 0.006",
          "<b>0011101</b><br>P = 0.001",
          "<b>0011110</b><br>P = 0.0",
          "<b>0011111</b><br>P = 0.0",
          "<b>0100000</b><br>P = 0.0",
          "<b>0100001</b><br>P = 0.0",
          "<b>0100010</b><br>P = 0.004",
          "<b>0100011</b><br>P = 0.437",
          "<b>0100100</b><br>P = 0.0",
          "<b>0100101</b><br>P = 0.0",
          "<b>0100110</b><br>P = 0.0",
          "<b>0100111</b><br>P = 0.0",
          "<b>0101000</b><br>P = 0.0",
          "<b>0101001</b><br>P = 0.0",
          "<b>0101010</b><br>P = 0.001",
          "<b>0101011</b><br>P = 0.002",
          "<b>0101100</b><br>P = 0.002",
          "<b>0101101</b><br>P = 0.001",
          "<b>0101110</b><br>P = 0.0",
          "<b>0101111</b><br>P = 0.0",
          "<b>0110000</b><br>P = 0.0",
          "<b>0110001</b><br>P = 0.0",
          "<b>0110010</b><br>P = 0.0",
          "<b>0110011</b><br>P = 0.003",
          "<b>0110100</b><br>P = 0.002",
          "<b>0110101</b><br>P = 0.0",
          "<b>0110110</b><br>P = 0.0",
          "<b>0110111</b><br>P = 0.0",
          "<b>0111000</b><br>P = 0.0",
          "<b>0111001</b><br>P = 0.0",
          "<b>0111010</b><br>P = 0.0",
          "<b>0111011</b><br>P = 0.0",
          "<b>0111100</b><br>P = 0.404",
          "<b>0111101</b><br>P = 0.001",
          "<b>0111110</b><br>P = 0.0",
          "<b>0111111</b><br>P = 0.0",
          "<b>1000000</b><br>P = 0.0",
          "<b>1000001</b><br>P = 0.0",
          "<b>1000010</b><br>P = 0.003",
          "<b>1000011</b><br>P = 0.042",
          "<b>1000100</b><br>P = 0.0",
          "<b>1000101</b><br>P = 0.0",
          "<b>1000110</b><br>P = 0.0",
          "<b>1000111</b><br>P = 0.0",
          "<b>1001000</b><br>P = 0.0",
          "<b>1001001</b><br>P = 0.0",
          "<b>1001010</b><br>P = 0.0",
          "<b>1001011</b><br>P = 0.001",
          "<b>1001100</b><br>P = 0.001",
          "<b>1001101</b><br>P = 0.0",
          "<b>1001110</b><br>P = 0.0",
          "<b>1001111</b><br>P = 0.0",
          "<b>1010000</b><br>P = 0.0",
          "<b>1010001</b><br>P = 0.0",
          "<b>1010010</b><br>P = 0.0",
          "<b>1010011</b><br>P = 0.002",
          "<b>1010100</b><br>P = 0.0",
          "<b>1010101</b><br>P = 0.0",
          "<b>1010110</b><br>P = 0.0",
          "<b>1010111</b><br>P = 0.0",
          "<b>1011000</b><br>P = 0.0",
          "<b>1011001</b><br>P = 0.0",
          "<b>1011010</b><br>P = 0.0",
          "<b>1011011</b><br>P = 0.001",
          "<b>1011100</b><br>P = 0.015",
          "<b>1011101</b><br>P = 0.001",
          "<b>1011110</b><br>P = 0.0",
          "<b>1011111</b><br>P = 0.0",
          "<b>1100000</b><br>P = 0.0",
          "<b>1100001</b><br>P = 0.0",
          "<b>1100010</b><br>P = 0.0",
          "<b>1100011</b><br>P = 0.014",
          "<b>1100100</b><br>P = 0.0",
          "<b>1100101</b><br>P = 0.001",
          "<b>1100110</b><br>P = 0.0",
          "<b>1100111</b><br>P = 0.001",
          "<b>1101000</b><br>P = 0.0",
          "<b>1101001</b><br>P = 0.0",
          "<b>1101010</b><br>P = 0.001",
          "<b>1101011</b><br>P = 0.0",
          "<b>1101100</b><br>P = 0.002",
          "<b>1101101</b><br>P = 0.001",
          "<b>1101110</b><br>P = 0.0",
          "<b>1101111</b><br>P = 0.0",
          "<b>1110000</b><br>P = 0.0",
          "<b>1110001</b><br>P = 0.0",
          "<b>1110010</b><br>P = 0.001",
          "<b>1110011</b><br>P = 0.002",
          "<b>1110100</b><br>P = 0.0",
          "<b>1110101</b><br>P = 0.0",
          "<b>1110110</b><br>P = 0.0",
          "<b>1110111</b><br>P = 0.0",
          "<b>1111000</b><br>P = 0.0",
          "<b>1111001</b><br>P = 0.0",
          "<b>1111010</b><br>P = 0.0",
          "<b>1111011</b><br>P = 0.0",
          "<b>1111100</b><br>P = 0.031",
          "<b>1111101</b><br>P = 0.001",
          "<b>1111110</b><br>P = 0.0",
          "<b>1111111</b><br>P = 0.0"
         ],
         "marker": {
          "color": "#1b9e77"
         },
         "name": "Sim Manual",
         "text": [
          0,
          0,
          0.008,
          0.007,
          0,
          0,
          0,
          0,
          0,
          0,
          0,
          0,
          0,
          0,
          0,
          0,
          0,
          0,
          0,
          0.002,
          0,
          0,
          0,
          0,
          0,
          0,
          0,
          0,
          0.006,
          0.001,
          0,
          0,
          0,
          0,
          0.004,
          0.437,
          0,
          0,
          0,
          0,
          0,
          0,
          0.001,
          0.002,
          0.002,
          0.001,
          0,
          0,
          0,
          0,
          0,
          0.003,
          0.002,
          0,
          0,
          0,
          0,
          0,
          0,
          0,
          0.404,
          0.001,
          0,
          0,
          0,
          0,
          0.003,
          0.042,
          0,
          0,
          0,
          0,
          0,
          0,
          0,
          0.001,
          0.001,
          0,
          0,
          0,
          0,
          0,
          0,
          0.002,
          0,
          0,
          0,
          0,
          0,
          0,
          0,
          0.001,
          0.015,
          0.001,
          0,
          0,
          0,
          0,
          0,
          0.014,
          0,
          0.001,
          0,
          0.001,
          0,
          0,
          0.001,
          0,
          0.002,
          0.001,
          0,
          0,
          0,
          0,
          0.001,
          0.002,
          0,
          0,
          0,
          0,
          0,
          0,
          0,
          0,
          0.031,
          0.001,
          0,
          0
         ],
         "textposition": "auto",
         "type": "bar",
         "width": 0.25,
         "x": [
          0,
          1,
          2,
          3,
          4,
          5,
          6,
          7,
          8,
          9,
          10,
          11,
          12,
          13,
          14,
          15,
          16,
          17,
          18,
          19,
          20,
          21,
          22,
          23,
          24,
          25,
          26,
          27,
          28,
          29,
          30,
          31,
          32,
          33,
          34,
          35,
          36,
          37,
          38,
          39,
          40,
          41,
          42,
          43,
          44,
          45,
          46,
          47,
          48,
          49,
          50,
          51,
          52,
          53,
          54,
          55,
          56,
          57,
          58,
          59,
          60,
          61,
          62,
          63,
          64,
          65,
          66,
          67,
          68,
          69,
          70,
          71,
          72,
          73,
          74,
          75,
          76,
          77,
          78,
          79,
          80,
          81,
          82,
          83,
          84,
          85,
          86,
          87,
          88,
          89,
          90,
          91,
          92,
          93,
          94,
          95,
          96,
          97,
          98,
          99,
          100,
          101,
          102,
          103,
          104,
          105,
          106,
          107,
          108,
          109,
          110,
          111,
          112,
          113,
          114,
          115,
          116,
          117,
          118,
          119,
          120,
          121,
          122,
          123,
          124,
          125,
          126,
          127
         ],
         "y": [
          0,
          0,
          0.0078125,
          0.0068359375,
          0,
          0,
          0,
          0,
          0,
          0,
          0,
          0,
          0,
          0,
          0,
          0,
          0,
          0,
          0,
          0.001953125,
          0,
          0,
          0,
          0,
          0,
          0,
          0,
          0,
          0.005859375,
          0.0009765625,
          0,
          0,
          0,
          0,
          0.00390625,
          0.4365234375,
          0,
          0,
          0,
          0,
          0,
          0,
          0.0009765625,
          0.001953125,
          0.001953125,
          0.0009765625,
          0,
          0,
          0,
          0,
          0,
          0.0029296875,
          0.001953125,
          0,
          0,
          0,
          0,
          0,
          0,
          0,
          0.404296875,
          0.0009765625,
          0,
          0,
          0,
          0,
          0.0029296875,
          0.0419921875,
          0,
          0,
          0,
          0,
          0,
          0,
          0,
          0.0009765625,
          0.0009765625,
          0,
          0,
          0,
          0,
          0,
          0,
          0.001953125,
          0,
          0,
          0,
          0,
          0,
          0,
          0,
          0.0009765625,
          0.0146484375,
          0.0009765625,
          0,
          0,
          0,
          0,
          0,
          0.013671875,
          0,
          0.0009765625,
          0,
          0.0009765625,
          0,
          0,
          0.0009765625,
          0,
          0.001953125,
          0.0009765625,
          0,
          0,
          0,
          0,
          0.0009765625,
          0.001953125,
          0,
          0,
          0,
          0,
          0,
          0,
          0,
          0,
          0.03125,
          0.0009765625,
          0,
          0
         ]
        },
        {
         "hoverinfo": "text",
         "hovertext": [
          "<b>0000000</b><br>P = 0.0",
          "<b>0000001</b><br>P = 0.0",
          "<b>0000010</b><br>P = 0.006",
          "<b>0000011</b><br>P = 0.006",
          "<b>0000100</b><br>P = 0.001",
          "<b>0000101</b><br>P = 0.0",
          "<b>0000110</b><br>P = 0.0",
          "<b>0000111</b><br>P = 0.0",
          "<b>0001000</b><br>P = 0.0",
          "<b>0001001</b><br>P = 0.0",
          "<b>0001010</b><br>P = 0.0",
          "<b>0001011</b><br>P = 0.002",
          "<b>0001100</b><br>P = 0.0",
          "<b>0001101</b><br>P = 0.0",
          "<b>0001110</b><br>P = 0.0",
          "<b>0001111</b><br>P = 0.0",
          "<b>0010000</b><br>P = 0.0",
          "<b>0010001</b><br>P = 0.0",
          "<b>0010010</b><br>P = 0.001",
          "<b>0010011</b><br>P = 0.005",
          "<b>0010100</b><br>P = 0.001",
          "<b>0010101</b><br>P = 0.0",
          "<b>0010110</b><br>P = 0.001",
          "<b>0010111</b><br>P = 0.0",
          "<b>0011000</b><br>P = 0.0",
          "<b>0011001</b><br>P = 0.0",
          "<b>0011010</b><br>P = 0.0",
          "<b>0011011</b><br>P = 0.001",
          "<b>0011100</b><br>P = 0.005",
          "<b>0011101</b><br>P = 0.001",
          "<b>0011110</b><br>P = 0.0",
          "<b>0011111</b><br>P = 0.0",
          "<b>0100000</b><br>P = 0.0",
          "<b>0100001</b><br>P = 0.0",
          "<b>0100010</b><br>P = 0.003",
          "<b>0100011</b><br>P = 0.406",
          "<b>0100100</b><br>P = 0.0",
          "<b>0100101</b><br>P = 0.0",
          "<b>0100110</b><br>P = 0.0",
          "<b>0100111</b><br>P = 0.0",
          "<b>0101000</b><br>P = 0.0",
          "<b>0101001</b><br>P = 0.0",
          "<b>0101010</b><br>P = 0.0",
          "<b>0101011</b><br>P = 0.001",
          "<b>0101100</b><br>P = 0.003",
          "<b>0101101</b><br>P = 0.0",
          "<b>0101110</b><br>P = 0.0",
          "<b>0101111</b><br>P = 0.0",
          "<b>0110000</b><br>P = 0.0",
          "<b>0110001</b><br>P = 0.0",
          "<b>0110010</b><br>P = 0.001",
          "<b>0110011</b><br>P = 0.003",
          "<b>0110100</b><br>P = 0.001",
          "<b>0110101</b><br>P = 0.0",
          "<b>0110110</b><br>P = 0.0",
          "<b>0110111</b><br>P = 0.0",
          "<b>0111000</b><br>P = 0.0",
          "<b>0111001</b><br>P = 0.0",
          "<b>0111010</b><br>P = 0.001",
          "<b>0111011</b><br>P = 0.0",
          "<b>0111100</b><br>P = 0.415",
          "<b>0111101</b><br>P = 0.001",
          "<b>0111110</b><br>P = 0.0",
          "<b>0111111</b><br>P = 0.0",
          "<b>1000000</b><br>P = 0.0",
          "<b>1000001</b><br>P = 0.0",
          "<b>1000010</b><br>P = 0.005",
          "<b>1000011</b><br>P = 0.038",
          "<b>1000100</b><br>P = 0.0",
          "<b>1000101</b><br>P = 0.0",
          "<b>1000110</b><br>P = 0.0",
          "<b>1000111</b><br>P = 0.001",
          "<b>1001000</b><br>P = 0.0",
          "<b>1001001</b><br>P = 0.0",
          "<b>1001010</b><br>P = 0.0",
          "<b>1001011</b><br>P = 0.002",
          "<b>1001100</b><br>P = 0.001",
          "<b>1001101</b><br>P = 0.0",
          "<b>1001110</b><br>P = 0.0",
          "<b>1001111</b><br>P = 0.0",
          "<b>1010000</b><br>P = 0.0",
          "<b>1010001</b><br>P = 0.0",
          "<b>1010010</b><br>P = 0.0",
          "<b>1010011</b><br>P = 0.001",
          "<b>1010100</b><br>P = 0.0",
          "<b>1010101</b><br>P = 0.0",
          "<b>1010110</b><br>P = 0.0",
          "<b>1010111</b><br>P = 0.0",
          "<b>1011000</b><br>P = 0.0",
          "<b>1011001</b><br>P = 0.0",
          "<b>1011010</b><br>P = 0.0",
          "<b>1011011</b><br>P = 0.0",
          "<b>1011100</b><br>P = 0.021",
          "<b>1011101</b><br>P = 0.002",
          "<b>1011110</b><br>P = 0.0",
          "<b>1011111</b><br>P = 0.0",
          "<b>1100000</b><br>P = 0.0",
          "<b>1100001</b><br>P = 0.0",
          "<b>1100010</b><br>P = 0.002",
          "<b>1100011</b><br>P = 0.012",
          "<b>1100100</b><br>P = 0.0",
          "<b>1100101</b><br>P = 0.0",
          "<b>1100110</b><br>P = 0.0",
          "<b>1100111</b><br>P = 0.0",
          "<b>1101000</b><br>P = 0.0",
          "<b>1101001</b><br>P = 0.0",
          "<b>1101010</b><br>P = 0.0",
          "<b>1101011</b><br>P = 0.0",
          "<b>1101100</b><br>P = 0.003",
          "<b>1101101</b><br>P = 0.002",
          "<b>1101110</b><br>P = 0.0",
          "<b>1101111</b><br>P = 0.0",
          "<b>1110000</b><br>P = 0.0",
          "<b>1110001</b><br>P = 0.0",
          "<b>1110010</b><br>P = 0.0",
          "<b>1110011</b><br>P = 0.0",
          "<b>1110100</b><br>P = 0.0",
          "<b>1110101</b><br>P = 0.0",
          "<b>1110110</b><br>P = 0.0",
          "<b>1110111</b><br>P = 0.0",
          "<b>1111000</b><br>P = 0.0",
          "<b>1111001</b><br>P = 0.0",
          "<b>1111010</b><br>P = 0.0",
          "<b>1111011</b><br>P = 0.0",
          "<b>1111100</b><br>P = 0.045",
          "<b>1111101</b><br>P = 0.002",
          "<b>1111110</b><br>P = 0.0",
          "<b>1111111</b><br>P = 0.0"
         ],
         "marker": {
          "color": "#d95f02"
         },
         "name": "Sim Qiskit Aqua",
         "text": [
          0,
          0,
          0.006,
          0.006,
          0.001,
          0,
          0,
          0,
          0,
          0,
          0,
          0.002,
          0,
          0,
          0,
          0,
          0,
          0,
          0.001,
          0.005,
          0.001,
          0,
          0.001,
          0,
          0,
          0,
          0,
          0.001,
          0.005,
          0.001,
          0,
          0,
          0,
          0,
          0.003,
          0.406,
          0,
          0,
          0,
          0,
          0,
          0,
          0,
          0.001,
          0.003,
          0,
          0,
          0,
          0,
          0,
          0.001,
          0.003,
          0.001,
          0,
          0,
          0,
          0,
          0,
          0.001,
          0,
          0.415,
          0.001,
          0,
          0,
          0,
          0,
          0.005,
          0.038,
          0,
          0,
          0,
          0.001,
          0,
          0,
          0,
          0.002,
          0.001,
          0,
          0,
          0,
          0,
          0,
          0,
          0.001,
          0,
          0,
          0,
          0,
          0,
          0,
          0,
          0,
          0.021,
          0.002,
          0,
          0,
          0,
          0,
          0.002,
          0.012,
          0,
          0,
          0,
          0,
          0,
          0,
          0,
          0,
          0.003,
          0.002,
          0,
          0,
          0,
          0,
          0,
          0,
          0,
          0,
          0,
          0,
          0,
          0,
          0,
          0,
          0.045,
          0.002,
          0,
          0
         ],
         "textposition": "auto",
         "type": "bar",
         "width": 0.25,
         "x": [
          0.25,
          1.25,
          2.25,
          3.25,
          4.25,
          5.25,
          6.25,
          7.25,
          8.25,
          9.25,
          10.25,
          11.25,
          12.25,
          13.25,
          14.25,
          15.25,
          16.25,
          17.25,
          18.25,
          19.25,
          20.25,
          21.25,
          22.25,
          23.25,
          24.25,
          25.25,
          26.25,
          27.25,
          28.25,
          29.25,
          30.25,
          31.25,
          32.25,
          33.25,
          34.25,
          35.25,
          36.25,
          37.25,
          38.25,
          39.25,
          40.25,
          41.25,
          42.25,
          43.25,
          44.25,
          45.25,
          46.25,
          47.25,
          48.25,
          49.25,
          50.25,
          51.25,
          52.25,
          53.25,
          54.25,
          55.25,
          56.25,
          57.25,
          58.25,
          59.25,
          60.25,
          61.25,
          62.25,
          63.25,
          64.25,
          65.25,
          66.25,
          67.25,
          68.25,
          69.25,
          70.25,
          71.25,
          72.25,
          73.25,
          74.25,
          75.25,
          76.25,
          77.25,
          78.25,
          79.25,
          80.25,
          81.25,
          82.25,
          83.25,
          84.25,
          85.25,
          86.25,
          87.25,
          88.25,
          89.25,
          90.25,
          91.25,
          92.25,
          93.25,
          94.25,
          95.25,
          96.25,
          97.25,
          98.25,
          99.25,
          100.25,
          101.25,
          102.25,
          103.25,
          104.25,
          105.25,
          106.25,
          107.25,
          108.25,
          109.25,
          110.25,
          111.25,
          112.25,
          113.25,
          114.25,
          115.25,
          116.25,
          117.25,
          118.25,
          119.25,
          120.25,
          121.25,
          122.25,
          123.25,
          124.25,
          125.25,
          126.25,
          127.25
         ],
         "y": [
          0,
          0,
          0.005859375,
          0.005859375,
          0.0009765625,
          0,
          0,
          0,
          0,
          0,
          0,
          0.001953125,
          0,
          0,
          0,
          0,
          0,
          0,
          0.0009765625,
          0.0048828125,
          0.0009765625,
          0,
          0.0009765625,
          0,
          0,
          0,
          0,
          0.0009765625,
          0.0048828125,
          0.0009765625,
          0,
          0,
          0,
          0,
          0.0029296875,
          0.40625,
          0,
          0,
          0,
          0,
          0,
          0,
          0,
          0.0009765625,
          0.0029296875,
          0,
          0,
          0,
          0,
          0,
          0.0009765625,
          0.0029296875,
          0.0009765625,
          0,
          0,
          0,
          0,
          0,
          0.0009765625,
          0,
          0.4150390625,
          0.0009765625,
          0,
          0,
          0,
          0,
          0.0048828125,
          0.0380859375,
          0,
          0,
          0,
          0.0009765625,
          0,
          0,
          0,
          0.001953125,
          0.0009765625,
          0,
          0,
          0,
          0,
          0,
          0,
          0.0009765625,
          0,
          0,
          0,
          0,
          0,
          0,
          0,
          0,
          0.0205078125,
          0.001953125,
          0,
          0,
          0,
          0,
          0.001953125,
          0.01171875,
          0,
          0,
          0,
          0,
          0,
          0,
          0,
          0,
          0.0029296875,
          0.001953125,
          0,
          0,
          0,
          0,
          0,
          0,
          0,
          0,
          0,
          0,
          0,
          0,
          0,
          0,
          0.044921875,
          0.001953125,
          0,
          0
         ]
        },
        {
         "hoverinfo": "text",
         "hovertext": [
          "<b>0000000</b><br>P = 0.017",
          "<b>0000001</b><br>P = 0.017",
          "<b>0000010</b><br>P = 0.02",
          "<b>0000011</b><br>P = 0.013",
          "<b>0000100</b><br>P = 0.012",
          "<b>0000101</b><br>P = 0.018",
          "<b>0000110</b><br>P = 0.019",
          "<b>0000111</b><br>P = 0.011",
          "<b>0001000</b><br>P = 0.015",
          "<b>0001001</b><br>P = 0.012",
          "<b>0001010</b><br>P = 0.015",
          "<b>0001011</b><br>P = 0.016",
          "<b>0001100</b><br>P = 0.015",
          "<b>0001101</b><br>P = 0.018",
          "<b>0001110</b><br>P = 0.008",
          "<b>0001111</b><br>P = 0.009",
          "<b>0010000</b><br>P = 0.014",
          "<b>0010001</b><br>P = 0.017",
          "<b>0010010</b><br>P = 0.012",
          "<b>0010011</b><br>P = 0.012",
          "<b>0010100</b><br>P = 0.016",
          "<b>0010101</b><br>P = 0.012",
          "<b>0010110</b><br>P = 0.012",
          "<b>0010111</b><br>P = 0.011",
          "<b>0011000</b><br>P = 0.021",
          "<b>0011001</b><br>P = 0.012",
          "<b>0011010</b><br>P = 0.013",
          "<b>0011011</b><br>P = 0.011",
          "<b>0011100</b><br>P = 0.012",
          "<b>0011101</b><br>P = 0.013",
          "<b>0011110</b><br>P = 0.009",
          "<b>0011111</b><br>P = 0.011",
          "<b>0100000</b><br>P = 0.01",
          "<b>0100001</b><br>P = 0.011",
          "<b>0100010</b><br>P = 0.007",
          "<b>0100011</b><br>P = 0.004",
          "<b>0100100</b><br>P = 0.011",
          "<b>0100101</b><br>P = 0.008",
          "<b>0100110</b><br>P = 0.006",
          "<b>0100111</b><br>P = 0.012",
          "<b>0101000</b><br>P = 0.01",
          "<b>0101001</b><br>P = 0.006",
          "<b>0101010</b><br>P = 0.007",
          "<b>0101011</b><br>P = 0.008",
          "<b>0101100</b><br>P = 0.005",
          "<b>0101101</b><br>P = 0.009",
          "<b>0101110</b><br>P = 0.005",
          "<b>0101111</b><br>P = 0.005",
          "<b>0110000</b><br>P = 0.01",
          "<b>0110001</b><br>P = 0.009",
          "<b>0110010</b><br>P = 0.01",
          "<b>0110011</b><br>P = 0.006",
          "<b>0110100</b><br>P = 0.006",
          "<b>0110101</b><br>P = 0.009",
          "<b>0110110</b><br>P = 0.005",
          "<b>0110111</b><br>P = 0.004",
          "<b>0111000</b><br>P = 0.007",
          "<b>0111001</b><br>P = 0.012",
          "<b>0111010</b><br>P = 0.005",
          "<b>0111011</b><br>P = 0.008",
          "<b>0111100</b><br>P = 0.008",
          "<b>0111101</b><br>P = 0.004",
          "<b>0111110</b><br>P = 0.005",
          "<b>0111111</b><br>P = 0.01",
          "<b>1000000</b><br>P = 0.004",
          "<b>1000001</b><br>P = 0.01",
          "<b>1000010</b><br>P = 0.008",
          "<b>1000011</b><br>P = 0.009",
          "<b>1000100</b><br>P = 0.007",
          "<b>1000101</b><br>P = 0.006",
          "<b>1000110</b><br>P = 0.008",
          "<b>1000111</b><br>P = 0.014",
          "<b>1001000</b><br>P = 0.007",
          "<b>1001001</b><br>P = 0.005",
          "<b>1001010</b><br>P = 0.01",
          "<b>1001011</b><br>P = 0.01",
          "<b>1001100</b><br>P = 0.008",
          "<b>1001101</b><br>P = 0.004",
          "<b>1001110</b><br>P = 0.007",
          "<b>1001111</b><br>P = 0.011",
          "<b>1010000</b><br>P = 0.004",
          "<b>1010001</b><br>P = 0.009",
          "<b>1010010</b><br>P = 0.01",
          "<b>1010011</b><br>P = 0.008",
          "<b>1010100</b><br>P = 0.005",
          "<b>1010101</b><br>P = 0.004",
          "<b>1010110</b><br>P = 0.007",
          "<b>1010111</b><br>P = 0.005",
          "<b>1011000</b><br>P = 0.008",
          "<b>1011001</b><br>P = 0.006",
          "<b>1011010</b><br>P = 0.006",
          "<b>1011011</b><br>P = 0.003",
          "<b>1011100</b><br>P = 0.005",
          "<b>1011101</b><br>P = 0.004",
          "<b>1011110</b><br>P = 0.007",
          "<b>1011111</b><br>P = 0.007",
          "<b>1100000</b><br>P = 0.003",
          "<b>1100001</b><br>P = 0.008",
          "<b>1100010</b><br>P = 0.004",
          "<b>1100011</b><br>P = 0.011",
          "<b>1100100</b><br>P = 0.003",
          "<b>1100101</b><br>P = 0.004",
          "<b>1100110</b><br>P = 0.002",
          "<b>1100111</b><br>P = 0.002",
          "<b>1101000</b><br>P = 0.004",
          "<b>1101001</b><br>P = 0.001",
          "<b>1101010</b><br>P = 0.003",
          "<b>1101011</b><br>P = 0.001",
          "<b>1101100</b><br>P = 0.003",
          "<b>1101101</b><br>P = 0.004",
          "<b>1101110</b><br>P = 0.002",
          "<b>1101111</b><br>P = 0.005",
          "<b>1110000</b><br>P = 0.004",
          "<b>1110001</b><br>P = 0.004",
          "<b>1110010</b><br>P = 0.006",
          "<b>1110011</b><br>P = 0.004",
          "<b>1110100</b><br>P = 0.005",
          "<b>1110101</b><br>P = 0.005",
          "<b>1110110</b><br>P = 0.002",
          "<b>1110111</b><br>P = 0.005",
          "<b>1111000</b><br>P = 0.001",
          "<b>1111001</b><br>P = 0.004",
          "<b>1111010</b><br>P = 0.001",
          "<b>1111011</b><br>P = 0.002",
          "<b>1111100</b><br>P = 0.002",
          "<b>1111101</b><br>P = 0.003",
          "<b>1111110</b><br>P = 0.003",
          "<b>1111111</b><br>P = 0.001"
         ],
         "marker": {
          "color": "#7570b3"
         },
         "name": "Melbourne16",
         "text": [
          0.017,
          0.017,
          0.02,
          0.013,
          0.012,
          0.018,
          0.019,
          0.011,
          0.015,
          0.012,
          0.015,
          0.016,
          0.015,
          0.018,
          0.008,
          0.009,
          0.014,
          0.017,
          0.012,
          0.012,
          0.016,
          0.012,
          0.012,
          0.011,
          0.021,
          0.012,
          0.013,
          0.011,
          0.012,
          0.013,
          0.009,
          0.011,
          0.01,
          0.011,
          0.007,
          0.004,
          0.011,
          0.008,
          0.006,
          0.012,
          0.01,
          0.006,
          0.007,
          0.008,
          0.005,
          0.009,
          0.005,
          0.005,
          0.01,
          0.009,
          0.01,
          0.006,
          0.006,
          0.009,
          0.005,
          0.004,
          0.007,
          0.012,
          0.005,
          0.008,
          0.008,
          0.004,
          0.005,
          0.01,
          0.004,
          0.01,
          0.008,
          0.009,
          0.007,
          0.006,
          0.008,
          0.014,
          0.007,
          0.005,
          0.01,
          0.01,
          0.008,
          0.004,
          0.007,
          0.011,
          0.004,
          0.009,
          0.01,
          0.008,
          0.005,
          0.004,
          0.007,
          0.005,
          0.008,
          0.006,
          0.006,
          0.003,
          0.005,
          0.004,
          0.007,
          0.007,
          0.003,
          0.008,
          0.004,
          0.011,
          0.003,
          0.004,
          0.002,
          0.002,
          0.004,
          0.001,
          0.003,
          0.001,
          0.003,
          0.004,
          0.002,
          0.005,
          0.004,
          0.004,
          0.006,
          0.004,
          0.005,
          0.005,
          0.002,
          0.005,
          0.001,
          0.004,
          0.001,
          0.002,
          0.002,
          0.003,
          0.003,
          0.001
         ],
         "textposition": "auto",
         "type": "bar",
         "width": 0.25,
         "x": [
          0.5,
          1.5,
          2.5,
          3.5,
          4.5,
          5.5,
          6.5,
          7.5,
          8.5,
          9.5,
          10.5,
          11.5,
          12.5,
          13.5,
          14.5,
          15.5,
          16.5,
          17.5,
          18.5,
          19.5,
          20.5,
          21.5,
          22.5,
          23.5,
          24.5,
          25.5,
          26.5,
          27.5,
          28.5,
          29.5,
          30.5,
          31.5,
          32.5,
          33.5,
          34.5,
          35.5,
          36.5,
          37.5,
          38.5,
          39.5,
          40.5,
          41.5,
          42.5,
          43.5,
          44.5,
          45.5,
          46.5,
          47.5,
          48.5,
          49.5,
          50.5,
          51.5,
          52.5,
          53.5,
          54.5,
          55.5,
          56.5,
          57.5,
          58.5,
          59.5,
          60.5,
          61.5,
          62.5,
          63.5,
          64.5,
          65.5,
          66.5,
          67.5,
          68.5,
          69.5,
          70.5,
          71.5,
          72.5,
          73.5,
          74.5,
          75.5,
          76.5,
          77.5,
          78.5,
          79.5,
          80.5,
          81.5,
          82.5,
          83.5,
          84.5,
          85.5,
          86.5,
          87.5,
          88.5,
          89.5,
          90.5,
          91.5,
          92.5,
          93.5,
          94.5,
          95.5,
          96.5,
          97.5,
          98.5,
          99.5,
          100.5,
          101.5,
          102.5,
          103.5,
          104.5,
          105.5,
          106.5,
          107.5,
          108.5,
          109.5,
          110.5,
          111.5,
          112.5,
          113.5,
          114.5,
          115.5,
          116.5,
          117.5,
          118.5,
          119.5,
          120.5,
          121.5,
          122.5,
          123.5,
          124.5,
          125.5,
          126.5,
          127.5
         ],
         "y": [
          0.0166015625,
          0.0166015625,
          0.01953125,
          0.0126953125,
          0.01171875,
          0.017578125,
          0.0185546875,
          0.0107421875,
          0.0146484375,
          0.01171875,
          0.0146484375,
          0.015625,
          0.0146484375,
          0.017578125,
          0.0078125,
          0.0087890625,
          0.013671875,
          0.0166015625,
          0.01171875,
          0.01171875,
          0.015625,
          0.01171875,
          0.01171875,
          0.0107421875,
          0.021484375,
          0.01171875,
          0.0126953125,
          0.0107421875,
          0.01171875,
          0.0126953125,
          0.0087890625,
          0.0107421875,
          0.009765625,
          0.0107421875,
          0.0068359375,
          0.00390625,
          0.0107421875,
          0.0078125,
          0.005859375,
          0.01171875,
          0.009765625,
          0.005859375,
          0.0068359375,
          0.0078125,
          0.0048828125,
          0.0087890625,
          0.0048828125,
          0.0048828125,
          0.009765625,
          0.0087890625,
          0.009765625,
          0.005859375,
          0.005859375,
          0.0087890625,
          0.0048828125,
          0.00390625,
          0.0068359375,
          0.01171875,
          0.0048828125,
          0.0078125,
          0.0078125,
          0.00390625,
          0.0048828125,
          0.009765625,
          0.00390625,
          0.009765625,
          0.0078125,
          0.0087890625,
          0.0068359375,
          0.005859375,
          0.0078125,
          0.013671875,
          0.0068359375,
          0.0048828125,
          0.009765625,
          0.009765625,
          0.0078125,
          0.00390625,
          0.0068359375,
          0.0107421875,
          0.00390625,
          0.0087890625,
          0.009765625,
          0.0078125,
          0.0048828125,
          0.00390625,
          0.0068359375,
          0.0048828125,
          0.0078125,
          0.005859375,
          0.005859375,
          0.0029296875,
          0.0048828125,
          0.00390625,
          0.0068359375,
          0.0068359375,
          0.0029296875,
          0.0078125,
          0.00390625,
          0.0107421875,
          0.0029296875,
          0.00390625,
          0.001953125,
          0.001953125,
          0.00390625,
          0.0009765625,
          0.0029296875,
          0.0009765625,
          0.0029296875,
          0.00390625,
          0.001953125,
          0.0048828125,
          0.00390625,
          0.00390625,
          0.005859375,
          0.00390625,
          0.0048828125,
          0.0048828125,
          0.001953125,
          0.0048828125,
          0.0009765625,
          0.00390625,
          0.0009765625,
          0.001953125,
          0.001953125,
          0.0029296875,
          0.0029296875,
          0.0009765625
         ]
        }
       ],
       "layout": {
        "font": {
         "color": "black"
        },
        "height": 600,
        "margin": {
         "b": 10,
         "l": 50,
         "r": 10,
         "t": 40
        },
        "paper_bgcolor": "white",
        "showlegend": true,
        "template": {
         "data": {
          "bar": [
           {
            "error_x": {
             "color": "#2a3f5f"
            },
            "error_y": {
             "color": "#2a3f5f"
            },
            "marker": {
             "line": {
              "color": "#E5ECF6",
              "width": 0.5
             }
            },
            "type": "bar"
           }
          ],
          "barpolar": [
           {
            "marker": {
             "line": {
              "color": "#E5ECF6",
              "width": 0.5
             }
            },
            "type": "barpolar"
           }
          ],
          "carpet": [
           {
            "aaxis": {
             "endlinecolor": "#2a3f5f",
             "gridcolor": "white",
             "linecolor": "white",
             "minorgridcolor": "white",
             "startlinecolor": "#2a3f5f"
            },
            "baxis": {
             "endlinecolor": "#2a3f5f",
             "gridcolor": "white",
             "linecolor": "white",
             "minorgridcolor": "white",
             "startlinecolor": "#2a3f5f"
            },
            "type": "carpet"
           }
          ],
          "choropleth": [
           {
            "colorbar": {
             "outlinewidth": 0,
             "ticks": ""
            },
            "type": "choropleth"
           }
          ],
          "contour": [
           {
            "colorbar": {
             "outlinewidth": 0,
             "ticks": ""
            },
            "colorscale": [
             [
              0,
              "#0d0887"
             ],
             [
              0.1111111111111111,
              "#46039f"
             ],
             [
              0.2222222222222222,
              "#7201a8"
             ],
             [
              0.3333333333333333,
              "#9c179e"
             ],
             [
              0.4444444444444444,
              "#bd3786"
             ],
             [
              0.5555555555555556,
              "#d8576b"
             ],
             [
              0.6666666666666666,
              "#ed7953"
             ],
             [
              0.7777777777777778,
              "#fb9f3a"
             ],
             [
              0.8888888888888888,
              "#fdca26"
             ],
             [
              1,
              "#f0f921"
             ]
            ],
            "type": "contour"
           }
          ],
          "contourcarpet": [
           {
            "colorbar": {
             "outlinewidth": 0,
             "ticks": ""
            },
            "type": "contourcarpet"
           }
          ],
          "heatmap": [
           {
            "colorbar": {
             "outlinewidth": 0,
             "ticks": ""
            },
            "colorscale": [
             [
              0,
              "#0d0887"
             ],
             [
              0.1111111111111111,
              "#46039f"
             ],
             [
              0.2222222222222222,
              "#7201a8"
             ],
             [
              0.3333333333333333,
              "#9c179e"
             ],
             [
              0.4444444444444444,
              "#bd3786"
             ],
             [
              0.5555555555555556,
              "#d8576b"
             ],
             [
              0.6666666666666666,
              "#ed7953"
             ],
             [
              0.7777777777777778,
              "#fb9f3a"
             ],
             [
              0.8888888888888888,
              "#fdca26"
             ],
             [
              1,
              "#f0f921"
             ]
            ],
            "type": "heatmap"
           }
          ],
          "heatmapgl": [
           {
            "colorbar": {
             "outlinewidth": 0,
             "ticks": ""
            },
            "colorscale": [
             [
              0,
              "#0d0887"
             ],
             [
              0.1111111111111111,
              "#46039f"
             ],
             [
              0.2222222222222222,
              "#7201a8"
             ],
             [
              0.3333333333333333,
              "#9c179e"
             ],
             [
              0.4444444444444444,
              "#bd3786"
             ],
             [
              0.5555555555555556,
              "#d8576b"
             ],
             [
              0.6666666666666666,
              "#ed7953"
             ],
             [
              0.7777777777777778,
              "#fb9f3a"
             ],
             [
              0.8888888888888888,
              "#fdca26"
             ],
             [
              1,
              "#f0f921"
             ]
            ],
            "type": "heatmapgl"
           }
          ],
          "histogram": [
           {
            "marker": {
             "colorbar": {
              "outlinewidth": 0,
              "ticks": ""
             }
            },
            "type": "histogram"
           }
          ],
          "histogram2d": [
           {
            "colorbar": {
             "outlinewidth": 0,
             "ticks": ""
            },
            "colorscale": [
             [
              0,
              "#0d0887"
             ],
             [
              0.1111111111111111,
              "#46039f"
             ],
             [
              0.2222222222222222,
              "#7201a8"
             ],
             [
              0.3333333333333333,
              "#9c179e"
             ],
             [
              0.4444444444444444,
              "#bd3786"
             ],
             [
              0.5555555555555556,
              "#d8576b"
             ],
             [
              0.6666666666666666,
              "#ed7953"
             ],
             [
              0.7777777777777778,
              "#fb9f3a"
             ],
             [
              0.8888888888888888,
              "#fdca26"
             ],
             [
              1,
              "#f0f921"
             ]
            ],
            "type": "histogram2d"
           }
          ],
          "histogram2dcontour": [
           {
            "colorbar": {
             "outlinewidth": 0,
             "ticks": ""
            },
            "colorscale": [
             [
              0,
              "#0d0887"
             ],
             [
              0.1111111111111111,
              "#46039f"
             ],
             [
              0.2222222222222222,
              "#7201a8"
             ],
             [
              0.3333333333333333,
              "#9c179e"
             ],
             [
              0.4444444444444444,
              "#bd3786"
             ],
             [
              0.5555555555555556,
              "#d8576b"
             ],
             [
              0.6666666666666666,
              "#ed7953"
             ],
             [
              0.7777777777777778,
              "#fb9f3a"
             ],
             [
              0.8888888888888888,
              "#fdca26"
             ],
             [
              1,
              "#f0f921"
             ]
            ],
            "type": "histogram2dcontour"
           }
          ],
          "mesh3d": [
           {
            "colorbar": {
             "outlinewidth": 0,
             "ticks": ""
            },
            "type": "mesh3d"
           }
          ],
          "parcoords": [
           {
            "line": {
             "colorbar": {
              "outlinewidth": 0,
              "ticks": ""
             }
            },
            "type": "parcoords"
           }
          ],
          "pie": [
           {
            "automargin": true,
            "type": "pie"
           }
          ],
          "scatter": [
           {
            "marker": {
             "colorbar": {
              "outlinewidth": 0,
              "ticks": ""
             }
            },
            "type": "scatter"
           }
          ],
          "scatter3d": [
           {
            "line": {
             "colorbar": {
              "outlinewidth": 0,
              "ticks": ""
             }
            },
            "marker": {
             "colorbar": {
              "outlinewidth": 0,
              "ticks": ""
             }
            },
            "type": "scatter3d"
           }
          ],
          "scattercarpet": [
           {
            "marker": {
             "colorbar": {
              "outlinewidth": 0,
              "ticks": ""
             }
            },
            "type": "scattercarpet"
           }
          ],
          "scattergeo": [
           {
            "marker": {
             "colorbar": {
              "outlinewidth": 0,
              "ticks": ""
             }
            },
            "type": "scattergeo"
           }
          ],
          "scattergl": [
           {
            "marker": {
             "colorbar": {
              "outlinewidth": 0,
              "ticks": ""
             }
            },
            "type": "scattergl"
           }
          ],
          "scattermapbox": [
           {
            "marker": {
             "colorbar": {
              "outlinewidth": 0,
              "ticks": ""
             }
            },
            "type": "scattermapbox"
           }
          ],
          "scatterpolar": [
           {
            "marker": {
             "colorbar": {
              "outlinewidth": 0,
              "ticks": ""
             }
            },
            "type": "scatterpolar"
           }
          ],
          "scatterpolargl": [
           {
            "marker": {
             "colorbar": {
              "outlinewidth": 0,
              "ticks": ""
             }
            },
            "type": "scatterpolargl"
           }
          ],
          "scatterternary": [
           {
            "marker": {
             "colorbar": {
              "outlinewidth": 0,
              "ticks": ""
             }
            },
            "type": "scatterternary"
           }
          ],
          "surface": [
           {
            "colorbar": {
             "outlinewidth": 0,
             "ticks": ""
            },
            "colorscale": [
             [
              0,
              "#0d0887"
             ],
             [
              0.1111111111111111,
              "#46039f"
             ],
             [
              0.2222222222222222,
              "#7201a8"
             ],
             [
              0.3333333333333333,
              "#9c179e"
             ],
             [
              0.4444444444444444,
              "#bd3786"
             ],
             [
              0.5555555555555556,
              "#d8576b"
             ],
             [
              0.6666666666666666,
              "#ed7953"
             ],
             [
              0.7777777777777778,
              "#fb9f3a"
             ],
             [
              0.8888888888888888,
              "#fdca26"
             ],
             [
              1,
              "#f0f921"
             ]
            ],
            "type": "surface"
           }
          ],
          "table": [
           {
            "cells": {
             "fill": {
              "color": "#EBF0F8"
             },
             "line": {
              "color": "white"
             }
            },
            "header": {
             "fill": {
              "color": "#C8D4E3"
             },
             "line": {
              "color": "white"
             }
            },
            "type": "table"
           }
          ]
         },
         "layout": {
          "annotationdefaults": {
           "arrowcolor": "#2a3f5f",
           "arrowhead": 0,
           "arrowwidth": 1
          },
          "coloraxis": {
           "colorbar": {
            "outlinewidth": 0,
            "ticks": ""
           }
          },
          "colorscale": {
           "diverging": [
            [
             0,
             "#8e0152"
            ],
            [
             0.1,
             "#c51b7d"
            ],
            [
             0.2,
             "#de77ae"
            ],
            [
             0.3,
             "#f1b6da"
            ],
            [
             0.4,
             "#fde0ef"
            ],
            [
             0.5,
             "#f7f7f7"
            ],
            [
             0.6,
             "#e6f5d0"
            ],
            [
             0.7,
             "#b8e186"
            ],
            [
             0.8,
             "#7fbc41"
            ],
            [
             0.9,
             "#4d9221"
            ],
            [
             1,
             "#276419"
            ]
           ],
           "sequential": [
            [
             0,
             "#0d0887"
            ],
            [
             0.1111111111111111,
             "#46039f"
            ],
            [
             0.2222222222222222,
             "#7201a8"
            ],
            [
             0.3333333333333333,
             "#9c179e"
            ],
            [
             0.4444444444444444,
             "#bd3786"
            ],
            [
             0.5555555555555556,
             "#d8576b"
            ],
            [
             0.6666666666666666,
             "#ed7953"
            ],
            [
             0.7777777777777778,
             "#fb9f3a"
            ],
            [
             0.8888888888888888,
             "#fdca26"
            ],
            [
             1,
             "#f0f921"
            ]
           ],
           "sequentialminus": [
            [
             0,
             "#0d0887"
            ],
            [
             0.1111111111111111,
             "#46039f"
            ],
            [
             0.2222222222222222,
             "#7201a8"
            ],
            [
             0.3333333333333333,
             "#9c179e"
            ],
            [
             0.4444444444444444,
             "#bd3786"
            ],
            [
             0.5555555555555556,
             "#d8576b"
            ],
            [
             0.6666666666666666,
             "#ed7953"
            ],
            [
             0.7777777777777778,
             "#fb9f3a"
            ],
            [
             0.8888888888888888,
             "#fdca26"
            ],
            [
             1,
             "#f0f921"
            ]
           ]
          },
          "colorway": [
           "#636efa",
           "#EF553B",
           "#00cc96",
           "#ab63fa",
           "#FFA15A",
           "#19d3f3",
           "#FF6692",
           "#B6E880",
           "#FF97FF",
           "#FECB52"
          ],
          "font": {
           "color": "#2a3f5f"
          },
          "geo": {
           "bgcolor": "white",
           "lakecolor": "white",
           "landcolor": "#E5ECF6",
           "showlakes": true,
           "showland": true,
           "subunitcolor": "white"
          },
          "hoverlabel": {
           "align": "left"
          },
          "hovermode": "closest",
          "mapbox": {
           "style": "light"
          },
          "paper_bgcolor": "white",
          "plot_bgcolor": "#E5ECF6",
          "polar": {
           "angularaxis": {
            "gridcolor": "white",
            "linecolor": "white",
            "ticks": ""
           },
           "bgcolor": "#E5ECF6",
           "radialaxis": {
            "gridcolor": "white",
            "linecolor": "white",
            "ticks": ""
           }
          },
          "scene": {
           "xaxis": {
            "backgroundcolor": "#E5ECF6",
            "gridcolor": "white",
            "gridwidth": 2,
            "linecolor": "white",
            "showbackground": true,
            "ticks": "",
            "zerolinecolor": "white"
           },
           "yaxis": {
            "backgroundcolor": "#E5ECF6",
            "gridcolor": "white",
            "gridwidth": 2,
            "linecolor": "white",
            "showbackground": true,
            "ticks": "",
            "zerolinecolor": "white"
           },
           "zaxis": {
            "backgroundcolor": "#E5ECF6",
            "gridcolor": "white",
            "gridwidth": 2,
            "linecolor": "white",
            "showbackground": true,
            "ticks": "",
            "zerolinecolor": "white"
           }
          },
          "shapedefaults": {
           "line": {
            "color": "#2a3f5f"
           }
          },
          "ternary": {
           "aaxis": {
            "gridcolor": "white",
            "linecolor": "white",
            "ticks": ""
           },
           "baxis": {
            "gridcolor": "white",
            "linecolor": "white",
            "ticks": ""
           },
           "bgcolor": "#E5ECF6",
           "caxis": {
            "gridcolor": "white",
            "linecolor": "white",
            "ticks": ""
           }
          },
          "title": {
           "x": 0.05
          },
          "xaxis": {
           "automargin": true,
           "gridcolor": "white",
           "linecolor": "white",
           "ticks": "",
           "title": {
            "standoff": 15
           },
           "zerolinecolor": "white",
           "zerolinewidth": 2
          },
          "yaxis": {
           "automargin": true,
           "gridcolor": "white",
           "linecolor": "white",
           "ticks": "",
           "title": {
            "standoff": 15
           },
           "zerolinecolor": "white",
           "zerolinewidth": 2
          }
         }
        },
        "title": {
         "font": {
          "size": 20
         },
         "x": 0.5
        },
        "width": 1024,
        "xaxis": {
         "linewidth": 1,
         "showline": true,
         "tickangle": -70,
         "tickfont": {
          "size": 14
         },
         "ticktext": [
          "0000000",
          "0000001",
          "0000010",
          "0000011",
          "0000100",
          "0000101",
          "0000110",
          "0000111",
          "0001000",
          "0001001",
          "0001010",
          "0001011",
          "0001100",
          "0001101",
          "0001110",
          "0001111",
          "0010000",
          "0010001",
          "0010010",
          "0010011",
          "0010100",
          "0010101",
          "0010110",
          "0010111",
          "0011000",
          "0011001",
          "0011010",
          "0011011",
          "0011100",
          "0011101",
          "0011110",
          "0011111",
          "0100000",
          "0100001",
          "0100010",
          "0100011",
          "0100100",
          "0100101",
          "0100110",
          "0100111",
          "0101000",
          "0101001",
          "0101010",
          "0101011",
          "0101100",
          "0101101",
          "0101110",
          "0101111",
          "0110000",
          "0110001",
          "0110010",
          "0110011",
          "0110100",
          "0110101",
          "0110110",
          "0110111",
          "0111000",
          "0111001",
          "0111010",
          "0111011",
          "0111100",
          "0111101",
          "0111110",
          "0111111",
          "1000000",
          "1000001",
          "1000010",
          "1000011",
          "1000100",
          "1000101",
          "1000110",
          "1000111",
          "1001000",
          "1001001",
          "1001010",
          "1001011",
          "1001100",
          "1001101",
          "1001110",
          "1001111",
          "1010000",
          "1010001",
          "1010010",
          "1010011",
          "1010100",
          "1010101",
          "1010110",
          "1010111",
          "1011000",
          "1011001",
          "1011010",
          "1011011",
          "1011100",
          "1011101",
          "1011110",
          "1011111",
          "1100000",
          "1100001",
          "1100010",
          "1100011",
          "1100100",
          "1100101",
          "1100110",
          "1100111",
          "1101000",
          "1101001",
          "1101010",
          "1101011",
          "1101100",
          "1101101",
          "1101110",
          "1101111",
          "1110000",
          "1110001",
          "1110010",
          "1110011",
          "1110100",
          "1110101",
          "1110110",
          "1110111",
          "1111000",
          "1111001",
          "1111010",
          "1111011",
          "1111100",
          "1111101",
          "1111110",
          "1111111"
         ],
         "tickvals": [
          0,
          1,
          2,
          3,
          4,
          5,
          6,
          7,
          8,
          9,
          10,
          11,
          12,
          13,
          14,
          15,
          16,
          17,
          18,
          19,
          20,
          21,
          22,
          23,
          24,
          25,
          26,
          27,
          28,
          29,
          30,
          31,
          32,
          33,
          34,
          35,
          36,
          37,
          38,
          39,
          40,
          41,
          42,
          43,
          44,
          45,
          46,
          47,
          48,
          49,
          50,
          51,
          52,
          53,
          54,
          55,
          56,
          57,
          58,
          59,
          60,
          61,
          62,
          63,
          64,
          65,
          66,
          67,
          68,
          69,
          70,
          71,
          72,
          73,
          74,
          75,
          76,
          77,
          78,
          79,
          80,
          81,
          82,
          83,
          84,
          85,
          86,
          87,
          88,
          89,
          90,
          91,
          92,
          93,
          94,
          95,
          96,
          97,
          98,
          99,
          100,
          101,
          102,
          103,
          104,
          105,
          106,
          107,
          108,
          109,
          110,
          111,
          112,
          113,
          114,
          115,
          116,
          117,
          118,
          119,
          120,
          121,
          122,
          123,
          124,
          125,
          126,
          127
         ]
        },
        "yaxis": {
         "linewidth": 1,
         "showline": true,
         "tickfont": {
          "size": 14
         },
         "title": {
          "font": {
           "size": 18
          },
          "text": "Probability"
         }
        }
       }
      },
      "text/html": [
       "<div>                            <div id=\"90e15c8e-f765-4c5a-93aa-885ee6ed1dbc\" class=\"plotly-graph-div\" style=\"height:600px; width:1024px;\"></div>            <script type=\"text/javascript\">                require([\"plotly\"], function(Plotly) {                    window.PLOTLYENV=window.PLOTLYENV || {};                                    if (document.getElementById(\"90e15c8e-f765-4c5a-93aa-885ee6ed1dbc\")) {                    Plotly.newPlot(                        \"90e15c8e-f765-4c5a-93aa-885ee6ed1dbc\",                        [{\"hoverinfo\": \"text\", \"hovertext\": [\"<b>0000000</b><br>P = 0.0\", \"<b>0000001</b><br>P = 0.0\", \"<b>0000010</b><br>P = 0.008\", \"<b>0000011</b><br>P = 0.007\", \"<b>0000100</b><br>P = 0.0\", \"<b>0000101</b><br>P = 0.0\", \"<b>0000110</b><br>P = 0.0\", \"<b>0000111</b><br>P = 0.0\", \"<b>0001000</b><br>P = 0.0\", \"<b>0001001</b><br>P = 0.0\", \"<b>0001010</b><br>P = 0.0\", \"<b>0001011</b><br>P = 0.0\", \"<b>0001100</b><br>P = 0.0\", \"<b>0001101</b><br>P = 0.0\", \"<b>0001110</b><br>P = 0.0\", \"<b>0001111</b><br>P = 0.0\", \"<b>0010000</b><br>P = 0.0\", \"<b>0010001</b><br>P = 0.0\", \"<b>0010010</b><br>P = 0.0\", \"<b>0010011</b><br>P = 0.002\", \"<b>0010100</b><br>P = 0.0\", \"<b>0010101</b><br>P = 0.0\", \"<b>0010110</b><br>P = 0.0\", \"<b>0010111</b><br>P = 0.0\", \"<b>0011000</b><br>P = 0.0\", \"<b>0011001</b><br>P = 0.0\", \"<b>0011010</b><br>P = 0.0\", \"<b>0011011</b><br>P = 0.0\", \"<b>0011100</b><br>P = 0.006\", \"<b>0011101</b><br>P = 0.001\", \"<b>0011110</b><br>P = 0.0\", \"<b>0011111</b><br>P = 0.0\", \"<b>0100000</b><br>P = 0.0\", \"<b>0100001</b><br>P = 0.0\", \"<b>0100010</b><br>P = 0.004\", \"<b>0100011</b><br>P = 0.437\", \"<b>0100100</b><br>P = 0.0\", \"<b>0100101</b><br>P = 0.0\", \"<b>0100110</b><br>P = 0.0\", \"<b>0100111</b><br>P = 0.0\", \"<b>0101000</b><br>P = 0.0\", \"<b>0101001</b><br>P = 0.0\", \"<b>0101010</b><br>P = 0.001\", \"<b>0101011</b><br>P = 0.002\", \"<b>0101100</b><br>P = 0.002\", \"<b>0101101</b><br>P = 0.001\", \"<b>0101110</b><br>P = 0.0\", \"<b>0101111</b><br>P = 0.0\", \"<b>0110000</b><br>P = 0.0\", \"<b>0110001</b><br>P = 0.0\", \"<b>0110010</b><br>P = 0.0\", \"<b>0110011</b><br>P = 0.003\", \"<b>0110100</b><br>P = 0.002\", \"<b>0110101</b><br>P = 0.0\", \"<b>0110110</b><br>P = 0.0\", \"<b>0110111</b><br>P = 0.0\", \"<b>0111000</b><br>P = 0.0\", \"<b>0111001</b><br>P = 0.0\", \"<b>0111010</b><br>P = 0.0\", \"<b>0111011</b><br>P = 0.0\", \"<b>0111100</b><br>P = 0.404\", \"<b>0111101</b><br>P = 0.001\", \"<b>0111110</b><br>P = 0.0\", \"<b>0111111</b><br>P = 0.0\", \"<b>1000000</b><br>P = 0.0\", \"<b>1000001</b><br>P = 0.0\", \"<b>1000010</b><br>P = 0.003\", \"<b>1000011</b><br>P = 0.042\", \"<b>1000100</b><br>P = 0.0\", \"<b>1000101</b><br>P = 0.0\", \"<b>1000110</b><br>P = 0.0\", \"<b>1000111</b><br>P = 0.0\", \"<b>1001000</b><br>P = 0.0\", \"<b>1001001</b><br>P = 0.0\", \"<b>1001010</b><br>P = 0.0\", \"<b>1001011</b><br>P = 0.001\", \"<b>1001100</b><br>P = 0.001\", \"<b>1001101</b><br>P = 0.0\", \"<b>1001110</b><br>P = 0.0\", \"<b>1001111</b><br>P = 0.0\", \"<b>1010000</b><br>P = 0.0\", \"<b>1010001</b><br>P = 0.0\", \"<b>1010010</b><br>P = 0.0\", \"<b>1010011</b><br>P = 0.002\", \"<b>1010100</b><br>P = 0.0\", \"<b>1010101</b><br>P = 0.0\", \"<b>1010110</b><br>P = 0.0\", \"<b>1010111</b><br>P = 0.0\", \"<b>1011000</b><br>P = 0.0\", \"<b>1011001</b><br>P = 0.0\", \"<b>1011010</b><br>P = 0.0\", \"<b>1011011</b><br>P = 0.001\", \"<b>1011100</b><br>P = 0.015\", \"<b>1011101</b><br>P = 0.001\", \"<b>1011110</b><br>P = 0.0\", \"<b>1011111</b><br>P = 0.0\", \"<b>1100000</b><br>P = 0.0\", \"<b>1100001</b><br>P = 0.0\", \"<b>1100010</b><br>P = 0.0\", \"<b>1100011</b><br>P = 0.014\", \"<b>1100100</b><br>P = 0.0\", \"<b>1100101</b><br>P = 0.001\", \"<b>1100110</b><br>P = 0.0\", \"<b>1100111</b><br>P = 0.001\", \"<b>1101000</b><br>P = 0.0\", \"<b>1101001</b><br>P = 0.0\", \"<b>1101010</b><br>P = 0.001\", \"<b>1101011</b><br>P = 0.0\", \"<b>1101100</b><br>P = 0.002\", \"<b>1101101</b><br>P = 0.001\", \"<b>1101110</b><br>P = 0.0\", \"<b>1101111</b><br>P = 0.0\", \"<b>1110000</b><br>P = 0.0\", \"<b>1110001</b><br>P = 0.0\", \"<b>1110010</b><br>P = 0.001\", \"<b>1110011</b><br>P = 0.002\", \"<b>1110100</b><br>P = 0.0\", \"<b>1110101</b><br>P = 0.0\", \"<b>1110110</b><br>P = 0.0\", \"<b>1110111</b><br>P = 0.0\", \"<b>1111000</b><br>P = 0.0\", \"<b>1111001</b><br>P = 0.0\", \"<b>1111010</b><br>P = 0.0\", \"<b>1111011</b><br>P = 0.0\", \"<b>1111100</b><br>P = 0.031\", \"<b>1111101</b><br>P = 0.001\", \"<b>1111110</b><br>P = 0.0\", \"<b>1111111</b><br>P = 0.0\"], \"marker\": {\"color\": \"#1b9e77\"}, \"name\": \"Sim Manual\", \"text\": [0.0, 0.0, 0.008, 0.007, 0.0, 0.0, 0.0, 0.0, 0.0, 0.0, 0.0, 0.0, 0.0, 0.0, 0.0, 0.0, 0.0, 0.0, 0.0, 0.002, 0.0, 0.0, 0.0, 0.0, 0.0, 0.0, 0.0, 0.0, 0.006, 0.001, 0.0, 0.0, 0.0, 0.0, 0.004, 0.437, 0.0, 0.0, 0.0, 0.0, 0.0, 0.0, 0.001, 0.002, 0.002, 0.001, 0.0, 0.0, 0.0, 0.0, 0.0, 0.003, 0.002, 0.0, 0.0, 0.0, 0.0, 0.0, 0.0, 0.0, 0.404, 0.001, 0.0, 0.0, 0.0, 0.0, 0.003, 0.042, 0.0, 0.0, 0.0, 0.0, 0.0, 0.0, 0.0, 0.001, 0.001, 0.0, 0.0, 0.0, 0.0, 0.0, 0.0, 0.002, 0.0, 0.0, 0.0, 0.0, 0.0, 0.0, 0.0, 0.001, 0.015, 0.001, 0.0, 0.0, 0.0, 0.0, 0.0, 0.014, 0.0, 0.001, 0.0, 0.001, 0.0, 0.0, 0.001, 0.0, 0.002, 0.001, 0.0, 0.0, 0.0, 0.0, 0.001, 0.002, 0.0, 0.0, 0.0, 0.0, 0.0, 0.0, 0.0, 0.0, 0.031, 0.001, 0.0, 0.0], \"textposition\": \"auto\", \"type\": \"bar\", \"width\": 0.25, \"x\": [0.0, 1.0, 2.0, 3.0, 4.0, 5.0, 6.0, 7.0, 8.0, 9.0, 10.0, 11.0, 12.0, 13.0, 14.0, 15.0, 16.0, 17.0, 18.0, 19.0, 20.0, 21.0, 22.0, 23.0, 24.0, 25.0, 26.0, 27.0, 28.0, 29.0, 30.0, 31.0, 32.0, 33.0, 34.0, 35.0, 36.0, 37.0, 38.0, 39.0, 40.0, 41.0, 42.0, 43.0, 44.0, 45.0, 46.0, 47.0, 48.0, 49.0, 50.0, 51.0, 52.0, 53.0, 54.0, 55.0, 56.0, 57.0, 58.0, 59.0, 60.0, 61.0, 62.0, 63.0, 64.0, 65.0, 66.0, 67.0, 68.0, 69.0, 70.0, 71.0, 72.0, 73.0, 74.0, 75.0, 76.0, 77.0, 78.0, 79.0, 80.0, 81.0, 82.0, 83.0, 84.0, 85.0, 86.0, 87.0, 88.0, 89.0, 90.0, 91.0, 92.0, 93.0, 94.0, 95.0, 96.0, 97.0, 98.0, 99.0, 100.0, 101.0, 102.0, 103.0, 104.0, 105.0, 106.0, 107.0, 108.0, 109.0, 110.0, 111.0, 112.0, 113.0, 114.0, 115.0, 116.0, 117.0, 118.0, 119.0, 120.0, 121.0, 122.0, 123.0, 124.0, 125.0, 126.0, 127.0], \"y\": [0.0, 0.0, 0.0078125, 0.0068359375, 0.0, 0.0, 0.0, 0.0, 0.0, 0.0, 0.0, 0.0, 0.0, 0.0, 0.0, 0.0, 0.0, 0.0, 0.0, 0.001953125, 0.0, 0.0, 0.0, 0.0, 0.0, 0.0, 0.0, 0.0, 0.005859375, 0.0009765625, 0.0, 0.0, 0.0, 0.0, 0.00390625, 0.4365234375, 0.0, 0.0, 0.0, 0.0, 0.0, 0.0, 0.0009765625, 0.001953125, 0.001953125, 0.0009765625, 0.0, 0.0, 0.0, 0.0, 0.0, 0.0029296875, 0.001953125, 0.0, 0.0, 0.0, 0.0, 0.0, 0.0, 0.0, 0.404296875, 0.0009765625, 0.0, 0.0, 0.0, 0.0, 0.0029296875, 0.0419921875, 0.0, 0.0, 0.0, 0.0, 0.0, 0.0, 0.0, 0.0009765625, 0.0009765625, 0.0, 0.0, 0.0, 0.0, 0.0, 0.0, 0.001953125, 0.0, 0.0, 0.0, 0.0, 0.0, 0.0, 0.0, 0.0009765625, 0.0146484375, 0.0009765625, 0.0, 0.0, 0.0, 0.0, 0.0, 0.013671875, 0.0, 0.0009765625, 0.0, 0.0009765625, 0.0, 0.0, 0.0009765625, 0.0, 0.001953125, 0.0009765625, 0.0, 0.0, 0.0, 0.0, 0.0009765625, 0.001953125, 0.0, 0.0, 0.0, 0.0, 0.0, 0.0, 0.0, 0.0, 0.03125, 0.0009765625, 0.0, 0.0]}, {\"hoverinfo\": \"text\", \"hovertext\": [\"<b>0000000</b><br>P = 0.0\", \"<b>0000001</b><br>P = 0.0\", \"<b>0000010</b><br>P = 0.006\", \"<b>0000011</b><br>P = 0.006\", \"<b>0000100</b><br>P = 0.001\", \"<b>0000101</b><br>P = 0.0\", \"<b>0000110</b><br>P = 0.0\", \"<b>0000111</b><br>P = 0.0\", \"<b>0001000</b><br>P = 0.0\", \"<b>0001001</b><br>P = 0.0\", \"<b>0001010</b><br>P = 0.0\", \"<b>0001011</b><br>P = 0.002\", \"<b>0001100</b><br>P = 0.0\", \"<b>0001101</b><br>P = 0.0\", \"<b>0001110</b><br>P = 0.0\", \"<b>0001111</b><br>P = 0.0\", \"<b>0010000</b><br>P = 0.0\", \"<b>0010001</b><br>P = 0.0\", \"<b>0010010</b><br>P = 0.001\", \"<b>0010011</b><br>P = 0.005\", \"<b>0010100</b><br>P = 0.001\", \"<b>0010101</b><br>P = 0.0\", \"<b>0010110</b><br>P = 0.001\", \"<b>0010111</b><br>P = 0.0\", \"<b>0011000</b><br>P = 0.0\", \"<b>0011001</b><br>P = 0.0\", \"<b>0011010</b><br>P = 0.0\", \"<b>0011011</b><br>P = 0.001\", \"<b>0011100</b><br>P = 0.005\", \"<b>0011101</b><br>P = 0.001\", \"<b>0011110</b><br>P = 0.0\", \"<b>0011111</b><br>P = 0.0\", \"<b>0100000</b><br>P = 0.0\", \"<b>0100001</b><br>P = 0.0\", \"<b>0100010</b><br>P = 0.003\", \"<b>0100011</b><br>P = 0.406\", \"<b>0100100</b><br>P = 0.0\", \"<b>0100101</b><br>P = 0.0\", \"<b>0100110</b><br>P = 0.0\", \"<b>0100111</b><br>P = 0.0\", \"<b>0101000</b><br>P = 0.0\", \"<b>0101001</b><br>P = 0.0\", \"<b>0101010</b><br>P = 0.0\", \"<b>0101011</b><br>P = 0.001\", \"<b>0101100</b><br>P = 0.003\", \"<b>0101101</b><br>P = 0.0\", \"<b>0101110</b><br>P = 0.0\", \"<b>0101111</b><br>P = 0.0\", \"<b>0110000</b><br>P = 0.0\", \"<b>0110001</b><br>P = 0.0\", \"<b>0110010</b><br>P = 0.001\", \"<b>0110011</b><br>P = 0.003\", \"<b>0110100</b><br>P = 0.001\", \"<b>0110101</b><br>P = 0.0\", \"<b>0110110</b><br>P = 0.0\", \"<b>0110111</b><br>P = 0.0\", \"<b>0111000</b><br>P = 0.0\", \"<b>0111001</b><br>P = 0.0\", \"<b>0111010</b><br>P = 0.001\", \"<b>0111011</b><br>P = 0.0\", \"<b>0111100</b><br>P = 0.415\", \"<b>0111101</b><br>P = 0.001\", \"<b>0111110</b><br>P = 0.0\", \"<b>0111111</b><br>P = 0.0\", \"<b>1000000</b><br>P = 0.0\", \"<b>1000001</b><br>P = 0.0\", \"<b>1000010</b><br>P = 0.005\", \"<b>1000011</b><br>P = 0.038\", \"<b>1000100</b><br>P = 0.0\", \"<b>1000101</b><br>P = 0.0\", \"<b>1000110</b><br>P = 0.0\", \"<b>1000111</b><br>P = 0.001\", \"<b>1001000</b><br>P = 0.0\", \"<b>1001001</b><br>P = 0.0\", \"<b>1001010</b><br>P = 0.0\", \"<b>1001011</b><br>P = 0.002\", \"<b>1001100</b><br>P = 0.001\", \"<b>1001101</b><br>P = 0.0\", \"<b>1001110</b><br>P = 0.0\", \"<b>1001111</b><br>P = 0.0\", \"<b>1010000</b><br>P = 0.0\", \"<b>1010001</b><br>P = 0.0\", \"<b>1010010</b><br>P = 0.0\", \"<b>1010011</b><br>P = 0.001\", \"<b>1010100</b><br>P = 0.0\", \"<b>1010101</b><br>P = 0.0\", \"<b>1010110</b><br>P = 0.0\", \"<b>1010111</b><br>P = 0.0\", \"<b>1011000</b><br>P = 0.0\", \"<b>1011001</b><br>P = 0.0\", \"<b>1011010</b><br>P = 0.0\", \"<b>1011011</b><br>P = 0.0\", \"<b>1011100</b><br>P = 0.021\", \"<b>1011101</b><br>P = 0.002\", \"<b>1011110</b><br>P = 0.0\", \"<b>1011111</b><br>P = 0.0\", \"<b>1100000</b><br>P = 0.0\", \"<b>1100001</b><br>P = 0.0\", \"<b>1100010</b><br>P = 0.002\", \"<b>1100011</b><br>P = 0.012\", \"<b>1100100</b><br>P = 0.0\", \"<b>1100101</b><br>P = 0.0\", \"<b>1100110</b><br>P = 0.0\", \"<b>1100111</b><br>P = 0.0\", \"<b>1101000</b><br>P = 0.0\", \"<b>1101001</b><br>P = 0.0\", \"<b>1101010</b><br>P = 0.0\", \"<b>1101011</b><br>P = 0.0\", \"<b>1101100</b><br>P = 0.003\", \"<b>1101101</b><br>P = 0.002\", \"<b>1101110</b><br>P = 0.0\", \"<b>1101111</b><br>P = 0.0\", \"<b>1110000</b><br>P = 0.0\", \"<b>1110001</b><br>P = 0.0\", \"<b>1110010</b><br>P = 0.0\", \"<b>1110011</b><br>P = 0.0\", \"<b>1110100</b><br>P = 0.0\", \"<b>1110101</b><br>P = 0.0\", \"<b>1110110</b><br>P = 0.0\", \"<b>1110111</b><br>P = 0.0\", \"<b>1111000</b><br>P = 0.0\", \"<b>1111001</b><br>P = 0.0\", \"<b>1111010</b><br>P = 0.0\", \"<b>1111011</b><br>P = 0.0\", \"<b>1111100</b><br>P = 0.045\", \"<b>1111101</b><br>P = 0.002\", \"<b>1111110</b><br>P = 0.0\", \"<b>1111111</b><br>P = 0.0\"], \"marker\": {\"color\": \"#d95f02\"}, \"name\": \"Sim Qiskit Aqua\", \"text\": [0.0, 0.0, 0.006, 0.006, 0.001, 0.0, 0.0, 0.0, 0.0, 0.0, 0.0, 0.002, 0.0, 0.0, 0.0, 0.0, 0.0, 0.0, 0.001, 0.005, 0.001, 0.0, 0.001, 0.0, 0.0, 0.0, 0.0, 0.001, 0.005, 0.001, 0.0, 0.0, 0.0, 0.0, 0.003, 0.406, 0.0, 0.0, 0.0, 0.0, 0.0, 0.0, 0.0, 0.001, 0.003, 0.0, 0.0, 0.0, 0.0, 0.0, 0.001, 0.003, 0.001, 0.0, 0.0, 0.0, 0.0, 0.0, 0.001, 0.0, 0.415, 0.001, 0.0, 0.0, 0.0, 0.0, 0.005, 0.038, 0.0, 0.0, 0.0, 0.001, 0.0, 0.0, 0.0, 0.002, 0.001, 0.0, 0.0, 0.0, 0.0, 0.0, 0.0, 0.001, 0.0, 0.0, 0.0, 0.0, 0.0, 0.0, 0.0, 0.0, 0.021, 0.002, 0.0, 0.0, 0.0, 0.0, 0.002, 0.012, 0.0, 0.0, 0.0, 0.0, 0.0, 0.0, 0.0, 0.0, 0.003, 0.002, 0.0, 0.0, 0.0, 0.0, 0.0, 0.0, 0.0, 0.0, 0.0, 0.0, 0.0, 0.0, 0.0, 0.0, 0.045, 0.002, 0.0, 0.0], \"textposition\": \"auto\", \"type\": \"bar\", \"width\": 0.25, \"x\": [0.25, 1.25, 2.25, 3.25, 4.25, 5.25, 6.25, 7.25, 8.25, 9.25, 10.25, 11.25, 12.25, 13.25, 14.25, 15.25, 16.25, 17.25, 18.25, 19.25, 20.25, 21.25, 22.25, 23.25, 24.25, 25.25, 26.25, 27.25, 28.25, 29.25, 30.25, 31.25, 32.25, 33.25, 34.25, 35.25, 36.25, 37.25, 38.25, 39.25, 40.25, 41.25, 42.25, 43.25, 44.25, 45.25, 46.25, 47.25, 48.25, 49.25, 50.25, 51.25, 52.25, 53.25, 54.25, 55.25, 56.25, 57.25, 58.25, 59.25, 60.25, 61.25, 62.25, 63.25, 64.25, 65.25, 66.25, 67.25, 68.25, 69.25, 70.25, 71.25, 72.25, 73.25, 74.25, 75.25, 76.25, 77.25, 78.25, 79.25, 80.25, 81.25, 82.25, 83.25, 84.25, 85.25, 86.25, 87.25, 88.25, 89.25, 90.25, 91.25, 92.25, 93.25, 94.25, 95.25, 96.25, 97.25, 98.25, 99.25, 100.25, 101.25, 102.25, 103.25, 104.25, 105.25, 106.25, 107.25, 108.25, 109.25, 110.25, 111.25, 112.25, 113.25, 114.25, 115.25, 116.25, 117.25, 118.25, 119.25, 120.25, 121.25, 122.25, 123.25, 124.25, 125.25, 126.25, 127.25], \"y\": [0.0, 0.0, 0.005859375, 0.005859375, 0.0009765625, 0.0, 0.0, 0.0, 0.0, 0.0, 0.0, 0.001953125, 0.0, 0.0, 0.0, 0.0, 0.0, 0.0, 0.0009765625, 0.0048828125, 0.0009765625, 0.0, 0.0009765625, 0.0, 0.0, 0.0, 0.0, 0.0009765625, 0.0048828125, 0.0009765625, 0.0, 0.0, 0.0, 0.0, 0.0029296875, 0.40625, 0.0, 0.0, 0.0, 0.0, 0.0, 0.0, 0.0, 0.0009765625, 0.0029296875, 0.0, 0.0, 0.0, 0.0, 0.0, 0.0009765625, 0.0029296875, 0.0009765625, 0.0, 0.0, 0.0, 0.0, 0.0, 0.0009765625, 0.0, 0.4150390625, 0.0009765625, 0.0, 0.0, 0.0, 0.0, 0.0048828125, 0.0380859375, 0.0, 0.0, 0.0, 0.0009765625, 0.0, 0.0, 0.0, 0.001953125, 0.0009765625, 0.0, 0.0, 0.0, 0.0, 0.0, 0.0, 0.0009765625, 0.0, 0.0, 0.0, 0.0, 0.0, 0.0, 0.0, 0.0, 0.0205078125, 0.001953125, 0.0, 0.0, 0.0, 0.0, 0.001953125, 0.01171875, 0.0, 0.0, 0.0, 0.0, 0.0, 0.0, 0.0, 0.0, 0.0029296875, 0.001953125, 0.0, 0.0, 0.0, 0.0, 0.0, 0.0, 0.0, 0.0, 0.0, 0.0, 0.0, 0.0, 0.0, 0.0, 0.044921875, 0.001953125, 0.0, 0.0]}, {\"hoverinfo\": \"text\", \"hovertext\": [\"<b>0000000</b><br>P = 0.017\", \"<b>0000001</b><br>P = 0.017\", \"<b>0000010</b><br>P = 0.02\", \"<b>0000011</b><br>P = 0.013\", \"<b>0000100</b><br>P = 0.012\", \"<b>0000101</b><br>P = 0.018\", \"<b>0000110</b><br>P = 0.019\", \"<b>0000111</b><br>P = 0.011\", \"<b>0001000</b><br>P = 0.015\", \"<b>0001001</b><br>P = 0.012\", \"<b>0001010</b><br>P = 0.015\", \"<b>0001011</b><br>P = 0.016\", \"<b>0001100</b><br>P = 0.015\", \"<b>0001101</b><br>P = 0.018\", \"<b>0001110</b><br>P = 0.008\", \"<b>0001111</b><br>P = 0.009\", \"<b>0010000</b><br>P = 0.014\", \"<b>0010001</b><br>P = 0.017\", \"<b>0010010</b><br>P = 0.012\", \"<b>0010011</b><br>P = 0.012\", \"<b>0010100</b><br>P = 0.016\", \"<b>0010101</b><br>P = 0.012\", \"<b>0010110</b><br>P = 0.012\", \"<b>0010111</b><br>P = 0.011\", \"<b>0011000</b><br>P = 0.021\", \"<b>0011001</b><br>P = 0.012\", \"<b>0011010</b><br>P = 0.013\", \"<b>0011011</b><br>P = 0.011\", \"<b>0011100</b><br>P = 0.012\", \"<b>0011101</b><br>P = 0.013\", \"<b>0011110</b><br>P = 0.009\", \"<b>0011111</b><br>P = 0.011\", \"<b>0100000</b><br>P = 0.01\", \"<b>0100001</b><br>P = 0.011\", \"<b>0100010</b><br>P = 0.007\", \"<b>0100011</b><br>P = 0.004\", \"<b>0100100</b><br>P = 0.011\", \"<b>0100101</b><br>P = 0.008\", \"<b>0100110</b><br>P = 0.006\", \"<b>0100111</b><br>P = 0.012\", \"<b>0101000</b><br>P = 0.01\", \"<b>0101001</b><br>P = 0.006\", \"<b>0101010</b><br>P = 0.007\", \"<b>0101011</b><br>P = 0.008\", \"<b>0101100</b><br>P = 0.005\", \"<b>0101101</b><br>P = 0.009\", \"<b>0101110</b><br>P = 0.005\", \"<b>0101111</b><br>P = 0.005\", \"<b>0110000</b><br>P = 0.01\", \"<b>0110001</b><br>P = 0.009\", \"<b>0110010</b><br>P = 0.01\", \"<b>0110011</b><br>P = 0.006\", \"<b>0110100</b><br>P = 0.006\", \"<b>0110101</b><br>P = 0.009\", \"<b>0110110</b><br>P = 0.005\", \"<b>0110111</b><br>P = 0.004\", \"<b>0111000</b><br>P = 0.007\", \"<b>0111001</b><br>P = 0.012\", \"<b>0111010</b><br>P = 0.005\", \"<b>0111011</b><br>P = 0.008\", \"<b>0111100</b><br>P = 0.008\", \"<b>0111101</b><br>P = 0.004\", \"<b>0111110</b><br>P = 0.005\", \"<b>0111111</b><br>P = 0.01\", \"<b>1000000</b><br>P = 0.004\", \"<b>1000001</b><br>P = 0.01\", \"<b>1000010</b><br>P = 0.008\", \"<b>1000011</b><br>P = 0.009\", \"<b>1000100</b><br>P = 0.007\", \"<b>1000101</b><br>P = 0.006\", \"<b>1000110</b><br>P = 0.008\", \"<b>1000111</b><br>P = 0.014\", \"<b>1001000</b><br>P = 0.007\", \"<b>1001001</b><br>P = 0.005\", \"<b>1001010</b><br>P = 0.01\", \"<b>1001011</b><br>P = 0.01\", \"<b>1001100</b><br>P = 0.008\", \"<b>1001101</b><br>P = 0.004\", \"<b>1001110</b><br>P = 0.007\", \"<b>1001111</b><br>P = 0.011\", \"<b>1010000</b><br>P = 0.004\", \"<b>1010001</b><br>P = 0.009\", \"<b>1010010</b><br>P = 0.01\", \"<b>1010011</b><br>P = 0.008\", \"<b>1010100</b><br>P = 0.005\", \"<b>1010101</b><br>P = 0.004\", \"<b>1010110</b><br>P = 0.007\", \"<b>1010111</b><br>P = 0.005\", \"<b>1011000</b><br>P = 0.008\", \"<b>1011001</b><br>P = 0.006\", \"<b>1011010</b><br>P = 0.006\", \"<b>1011011</b><br>P = 0.003\", \"<b>1011100</b><br>P = 0.005\", \"<b>1011101</b><br>P = 0.004\", \"<b>1011110</b><br>P = 0.007\", \"<b>1011111</b><br>P = 0.007\", \"<b>1100000</b><br>P = 0.003\", \"<b>1100001</b><br>P = 0.008\", \"<b>1100010</b><br>P = 0.004\", \"<b>1100011</b><br>P = 0.011\", \"<b>1100100</b><br>P = 0.003\", \"<b>1100101</b><br>P = 0.004\", \"<b>1100110</b><br>P = 0.002\", \"<b>1100111</b><br>P = 0.002\", \"<b>1101000</b><br>P = 0.004\", \"<b>1101001</b><br>P = 0.001\", \"<b>1101010</b><br>P = 0.003\", \"<b>1101011</b><br>P = 0.001\", \"<b>1101100</b><br>P = 0.003\", \"<b>1101101</b><br>P = 0.004\", \"<b>1101110</b><br>P = 0.002\", \"<b>1101111</b><br>P = 0.005\", \"<b>1110000</b><br>P = 0.004\", \"<b>1110001</b><br>P = 0.004\", \"<b>1110010</b><br>P = 0.006\", \"<b>1110011</b><br>P = 0.004\", \"<b>1110100</b><br>P = 0.005\", \"<b>1110101</b><br>P = 0.005\", \"<b>1110110</b><br>P = 0.002\", \"<b>1110111</b><br>P = 0.005\", \"<b>1111000</b><br>P = 0.001\", \"<b>1111001</b><br>P = 0.004\", \"<b>1111010</b><br>P = 0.001\", \"<b>1111011</b><br>P = 0.002\", \"<b>1111100</b><br>P = 0.002\", \"<b>1111101</b><br>P = 0.003\", \"<b>1111110</b><br>P = 0.003\", \"<b>1111111</b><br>P = 0.001\"], \"marker\": {\"color\": \"#7570b3\"}, \"name\": \"Melbourne16\", \"text\": [0.017, 0.017, 0.02, 0.013, 0.012, 0.018, 0.019, 0.011, 0.015, 0.012, 0.015, 0.016, 0.015, 0.018, 0.008, 0.009, 0.014, 0.017, 0.012, 0.012, 0.016, 0.012, 0.012, 0.011, 0.021, 0.012, 0.013, 0.011, 0.012, 0.013, 0.009, 0.011, 0.01, 0.011, 0.007, 0.004, 0.011, 0.008, 0.006, 0.012, 0.01, 0.006, 0.007, 0.008, 0.005, 0.009, 0.005, 0.005, 0.01, 0.009, 0.01, 0.006, 0.006, 0.009, 0.005, 0.004, 0.007, 0.012, 0.005, 0.008, 0.008, 0.004, 0.005, 0.01, 0.004, 0.01, 0.008, 0.009, 0.007, 0.006, 0.008, 0.014, 0.007, 0.005, 0.01, 0.01, 0.008, 0.004, 0.007, 0.011, 0.004, 0.009, 0.01, 0.008, 0.005, 0.004, 0.007, 0.005, 0.008, 0.006, 0.006, 0.003, 0.005, 0.004, 0.007, 0.007, 0.003, 0.008, 0.004, 0.011, 0.003, 0.004, 0.002, 0.002, 0.004, 0.001, 0.003, 0.001, 0.003, 0.004, 0.002, 0.005, 0.004, 0.004, 0.006, 0.004, 0.005, 0.005, 0.002, 0.005, 0.001, 0.004, 0.001, 0.002, 0.002, 0.003, 0.003, 0.001], \"textposition\": \"auto\", \"type\": \"bar\", \"width\": 0.25, \"x\": [0.5, 1.5, 2.5, 3.5, 4.5, 5.5, 6.5, 7.5, 8.5, 9.5, 10.5, 11.5, 12.5, 13.5, 14.5, 15.5, 16.5, 17.5, 18.5, 19.5, 20.5, 21.5, 22.5, 23.5, 24.5, 25.5, 26.5, 27.5, 28.5, 29.5, 30.5, 31.5, 32.5, 33.5, 34.5, 35.5, 36.5, 37.5, 38.5, 39.5, 40.5, 41.5, 42.5, 43.5, 44.5, 45.5, 46.5, 47.5, 48.5, 49.5, 50.5, 51.5, 52.5, 53.5, 54.5, 55.5, 56.5, 57.5, 58.5, 59.5, 60.5, 61.5, 62.5, 63.5, 64.5, 65.5, 66.5, 67.5, 68.5, 69.5, 70.5, 71.5, 72.5, 73.5, 74.5, 75.5, 76.5, 77.5, 78.5, 79.5, 80.5, 81.5, 82.5, 83.5, 84.5, 85.5, 86.5, 87.5, 88.5, 89.5, 90.5, 91.5, 92.5, 93.5, 94.5, 95.5, 96.5, 97.5, 98.5, 99.5, 100.5, 101.5, 102.5, 103.5, 104.5, 105.5, 106.5, 107.5, 108.5, 109.5, 110.5, 111.5, 112.5, 113.5, 114.5, 115.5, 116.5, 117.5, 118.5, 119.5, 120.5, 121.5, 122.5, 123.5, 124.5, 125.5, 126.5, 127.5], \"y\": [0.0166015625, 0.0166015625, 0.01953125, 0.0126953125, 0.01171875, 0.017578125, 0.0185546875, 0.0107421875, 0.0146484375, 0.01171875, 0.0146484375, 0.015625, 0.0146484375, 0.017578125, 0.0078125, 0.0087890625, 0.013671875, 0.0166015625, 0.01171875, 0.01171875, 0.015625, 0.01171875, 0.01171875, 0.0107421875, 0.021484375, 0.01171875, 0.0126953125, 0.0107421875, 0.01171875, 0.0126953125, 0.0087890625, 0.0107421875, 0.009765625, 0.0107421875, 0.0068359375, 0.00390625, 0.0107421875, 0.0078125, 0.005859375, 0.01171875, 0.009765625, 0.005859375, 0.0068359375, 0.0078125, 0.0048828125, 0.0087890625, 0.0048828125, 0.0048828125, 0.009765625, 0.0087890625, 0.009765625, 0.005859375, 0.005859375, 0.0087890625, 0.0048828125, 0.00390625, 0.0068359375, 0.01171875, 0.0048828125, 0.0078125, 0.0078125, 0.00390625, 0.0048828125, 0.009765625, 0.00390625, 0.009765625, 0.0078125, 0.0087890625, 0.0068359375, 0.005859375, 0.0078125, 0.013671875, 0.0068359375, 0.0048828125, 0.009765625, 0.009765625, 0.0078125, 0.00390625, 0.0068359375, 0.0107421875, 0.00390625, 0.0087890625, 0.009765625, 0.0078125, 0.0048828125, 0.00390625, 0.0068359375, 0.0048828125, 0.0078125, 0.005859375, 0.005859375, 0.0029296875, 0.0048828125, 0.00390625, 0.0068359375, 0.0068359375, 0.0029296875, 0.0078125, 0.00390625, 0.0107421875, 0.0029296875, 0.00390625, 0.001953125, 0.001953125, 0.00390625, 0.0009765625, 0.0029296875, 0.0009765625, 0.0029296875, 0.00390625, 0.001953125, 0.0048828125, 0.00390625, 0.00390625, 0.005859375, 0.00390625, 0.0048828125, 0.0048828125, 0.001953125, 0.0048828125, 0.0009765625, 0.00390625, 0.0009765625, 0.001953125, 0.001953125, 0.0029296875, 0.0029296875, 0.0009765625]}],                        {\"font\": {\"color\": \"black\"}, \"height\": 600, \"margin\": {\"b\": 10, \"l\": 50, \"r\": 10, \"t\": 40}, \"paper_bgcolor\": \"white\", \"showlegend\": true, \"template\": {\"data\": {\"bar\": [{\"error_x\": {\"color\": \"#2a3f5f\"}, \"error_y\": {\"color\": \"#2a3f5f\"}, \"marker\": {\"line\": {\"color\": \"#E5ECF6\", \"width\": 0.5}}, \"type\": \"bar\"}], \"barpolar\": [{\"marker\": {\"line\": {\"color\": \"#E5ECF6\", \"width\": 0.5}}, \"type\": \"barpolar\"}], \"carpet\": [{\"aaxis\": {\"endlinecolor\": \"#2a3f5f\", \"gridcolor\": \"white\", \"linecolor\": \"white\", \"minorgridcolor\": \"white\", \"startlinecolor\": \"#2a3f5f\"}, \"baxis\": {\"endlinecolor\": \"#2a3f5f\", \"gridcolor\": \"white\", \"linecolor\": \"white\", \"minorgridcolor\": \"white\", \"startlinecolor\": \"#2a3f5f\"}, \"type\": \"carpet\"}], \"choropleth\": [{\"colorbar\": {\"outlinewidth\": 0, \"ticks\": \"\"}, \"type\": \"choropleth\"}], \"contour\": [{\"colorbar\": {\"outlinewidth\": 0, \"ticks\": \"\"}, \"colorscale\": [[0.0, \"#0d0887\"], [0.1111111111111111, \"#46039f\"], [0.2222222222222222, \"#7201a8\"], [0.3333333333333333, \"#9c179e\"], [0.4444444444444444, \"#bd3786\"], [0.5555555555555556, \"#d8576b\"], [0.6666666666666666, \"#ed7953\"], [0.7777777777777778, \"#fb9f3a\"], [0.8888888888888888, \"#fdca26\"], [1.0, \"#f0f921\"]], \"type\": \"contour\"}], \"contourcarpet\": [{\"colorbar\": {\"outlinewidth\": 0, \"ticks\": \"\"}, \"type\": \"contourcarpet\"}], \"heatmap\": [{\"colorbar\": {\"outlinewidth\": 0, \"ticks\": \"\"}, \"colorscale\": [[0.0, \"#0d0887\"], [0.1111111111111111, \"#46039f\"], [0.2222222222222222, \"#7201a8\"], [0.3333333333333333, \"#9c179e\"], [0.4444444444444444, \"#bd3786\"], [0.5555555555555556, \"#d8576b\"], [0.6666666666666666, \"#ed7953\"], [0.7777777777777778, \"#fb9f3a\"], [0.8888888888888888, \"#fdca26\"], [1.0, \"#f0f921\"]], \"type\": \"heatmap\"}], \"heatmapgl\": [{\"colorbar\": {\"outlinewidth\": 0, \"ticks\": \"\"}, \"colorscale\": [[0.0, \"#0d0887\"], [0.1111111111111111, \"#46039f\"], [0.2222222222222222, \"#7201a8\"], [0.3333333333333333, \"#9c179e\"], [0.4444444444444444, \"#bd3786\"], [0.5555555555555556, \"#d8576b\"], [0.6666666666666666, \"#ed7953\"], [0.7777777777777778, \"#fb9f3a\"], [0.8888888888888888, \"#fdca26\"], [1.0, \"#f0f921\"]], \"type\": \"heatmapgl\"}], \"histogram\": [{\"marker\": {\"colorbar\": {\"outlinewidth\": 0, \"ticks\": \"\"}}, \"type\": \"histogram\"}], \"histogram2d\": [{\"colorbar\": {\"outlinewidth\": 0, \"ticks\": \"\"}, \"colorscale\": [[0.0, \"#0d0887\"], [0.1111111111111111, \"#46039f\"], [0.2222222222222222, \"#7201a8\"], [0.3333333333333333, \"#9c179e\"], [0.4444444444444444, \"#bd3786\"], [0.5555555555555556, \"#d8576b\"], [0.6666666666666666, \"#ed7953\"], [0.7777777777777778, \"#fb9f3a\"], [0.8888888888888888, \"#fdca26\"], [1.0, \"#f0f921\"]], \"type\": \"histogram2d\"}], \"histogram2dcontour\": [{\"colorbar\": {\"outlinewidth\": 0, \"ticks\": \"\"}, \"colorscale\": [[0.0, \"#0d0887\"], [0.1111111111111111, \"#46039f\"], [0.2222222222222222, \"#7201a8\"], [0.3333333333333333, \"#9c179e\"], [0.4444444444444444, \"#bd3786\"], [0.5555555555555556, \"#d8576b\"], [0.6666666666666666, \"#ed7953\"], [0.7777777777777778, \"#fb9f3a\"], [0.8888888888888888, \"#fdca26\"], [1.0, \"#f0f921\"]], \"type\": \"histogram2dcontour\"}], \"mesh3d\": [{\"colorbar\": {\"outlinewidth\": 0, \"ticks\": \"\"}, \"type\": \"mesh3d\"}], \"parcoords\": [{\"line\": {\"colorbar\": {\"outlinewidth\": 0, \"ticks\": \"\"}}, \"type\": \"parcoords\"}], \"pie\": [{\"automargin\": true, \"type\": \"pie\"}], \"scatter\": [{\"marker\": {\"colorbar\": {\"outlinewidth\": 0, \"ticks\": \"\"}}, \"type\": \"scatter\"}], \"scatter3d\": [{\"line\": {\"colorbar\": {\"outlinewidth\": 0, \"ticks\": \"\"}}, \"marker\": {\"colorbar\": {\"outlinewidth\": 0, \"ticks\": \"\"}}, \"type\": \"scatter3d\"}], \"scattercarpet\": [{\"marker\": {\"colorbar\": {\"outlinewidth\": 0, \"ticks\": \"\"}}, \"type\": \"scattercarpet\"}], \"scattergeo\": [{\"marker\": {\"colorbar\": {\"outlinewidth\": 0, \"ticks\": \"\"}}, \"type\": \"scattergeo\"}], \"scattergl\": [{\"marker\": {\"colorbar\": {\"outlinewidth\": 0, \"ticks\": \"\"}}, \"type\": \"scattergl\"}], \"scattermapbox\": [{\"marker\": {\"colorbar\": {\"outlinewidth\": 0, \"ticks\": \"\"}}, \"type\": \"scattermapbox\"}], \"scatterpolar\": [{\"marker\": {\"colorbar\": {\"outlinewidth\": 0, \"ticks\": \"\"}}, \"type\": \"scatterpolar\"}], \"scatterpolargl\": [{\"marker\": {\"colorbar\": {\"outlinewidth\": 0, \"ticks\": \"\"}}, \"type\": \"scatterpolargl\"}], \"scatterternary\": [{\"marker\": {\"colorbar\": {\"outlinewidth\": 0, \"ticks\": \"\"}}, \"type\": \"scatterternary\"}], \"surface\": [{\"colorbar\": {\"outlinewidth\": 0, \"ticks\": \"\"}, \"colorscale\": [[0.0, \"#0d0887\"], [0.1111111111111111, \"#46039f\"], [0.2222222222222222, \"#7201a8\"], [0.3333333333333333, \"#9c179e\"], [0.4444444444444444, \"#bd3786\"], [0.5555555555555556, \"#d8576b\"], [0.6666666666666666, \"#ed7953\"], [0.7777777777777778, \"#fb9f3a\"], [0.8888888888888888, \"#fdca26\"], [1.0, \"#f0f921\"]], \"type\": \"surface\"}], \"table\": [{\"cells\": {\"fill\": {\"color\": \"#EBF0F8\"}, \"line\": {\"color\": \"white\"}}, \"header\": {\"fill\": {\"color\": \"#C8D4E3\"}, \"line\": {\"color\": \"white\"}}, \"type\": \"table\"}]}, \"layout\": {\"annotationdefaults\": {\"arrowcolor\": \"#2a3f5f\", \"arrowhead\": 0, \"arrowwidth\": 1}, \"coloraxis\": {\"colorbar\": {\"outlinewidth\": 0, \"ticks\": \"\"}}, \"colorscale\": {\"diverging\": [[0, \"#8e0152\"], [0.1, \"#c51b7d\"], [0.2, \"#de77ae\"], [0.3, \"#f1b6da\"], [0.4, \"#fde0ef\"], [0.5, \"#f7f7f7\"], [0.6, \"#e6f5d0\"], [0.7, \"#b8e186\"], [0.8, \"#7fbc41\"], [0.9, \"#4d9221\"], [1, \"#276419\"]], \"sequential\": [[0.0, \"#0d0887\"], [0.1111111111111111, \"#46039f\"], [0.2222222222222222, \"#7201a8\"], [0.3333333333333333, \"#9c179e\"], [0.4444444444444444, \"#bd3786\"], [0.5555555555555556, \"#d8576b\"], [0.6666666666666666, \"#ed7953\"], [0.7777777777777778, \"#fb9f3a\"], [0.8888888888888888, \"#fdca26\"], [1.0, \"#f0f921\"]], \"sequentialminus\": [[0.0, \"#0d0887\"], [0.1111111111111111, \"#46039f\"], [0.2222222222222222, \"#7201a8\"], [0.3333333333333333, \"#9c179e\"], [0.4444444444444444, \"#bd3786\"], [0.5555555555555556, \"#d8576b\"], [0.6666666666666666, \"#ed7953\"], [0.7777777777777778, \"#fb9f3a\"], [0.8888888888888888, \"#fdca26\"], [1.0, \"#f0f921\"]]}, \"colorway\": [\"#636efa\", \"#EF553B\", \"#00cc96\", \"#ab63fa\", \"#FFA15A\", \"#19d3f3\", \"#FF6692\", \"#B6E880\", \"#FF97FF\", \"#FECB52\"], \"font\": {\"color\": \"#2a3f5f\"}, \"geo\": {\"bgcolor\": \"white\", \"lakecolor\": \"white\", \"landcolor\": \"#E5ECF6\", \"showlakes\": true, \"showland\": true, \"subunitcolor\": \"white\"}, \"hoverlabel\": {\"align\": \"left\"}, \"hovermode\": \"closest\", \"mapbox\": {\"style\": \"light\"}, \"paper_bgcolor\": \"white\", \"plot_bgcolor\": \"#E5ECF6\", \"polar\": {\"angularaxis\": {\"gridcolor\": \"white\", \"linecolor\": \"white\", \"ticks\": \"\"}, \"bgcolor\": \"#E5ECF6\", \"radialaxis\": {\"gridcolor\": \"white\", \"linecolor\": \"white\", \"ticks\": \"\"}}, \"scene\": {\"xaxis\": {\"backgroundcolor\": \"#E5ECF6\", \"gridcolor\": \"white\", \"gridwidth\": 2, \"linecolor\": \"white\", \"showbackground\": true, \"ticks\": \"\", \"zerolinecolor\": \"white\"}, \"yaxis\": {\"backgroundcolor\": \"#E5ECF6\", \"gridcolor\": \"white\", \"gridwidth\": 2, \"linecolor\": \"white\", \"showbackground\": true, \"ticks\": \"\", \"zerolinecolor\": \"white\"}, \"zaxis\": {\"backgroundcolor\": \"#E5ECF6\", \"gridcolor\": \"white\", \"gridwidth\": 2, \"linecolor\": \"white\", \"showbackground\": true, \"ticks\": \"\", \"zerolinecolor\": \"white\"}}, \"shapedefaults\": {\"line\": {\"color\": \"#2a3f5f\"}}, \"ternary\": {\"aaxis\": {\"gridcolor\": \"white\", \"linecolor\": \"white\", \"ticks\": \"\"}, \"baxis\": {\"gridcolor\": \"white\", \"linecolor\": \"white\", \"ticks\": \"\"}, \"bgcolor\": \"#E5ECF6\", \"caxis\": {\"gridcolor\": \"white\", \"linecolor\": \"white\", \"ticks\": \"\"}}, \"title\": {\"x\": 0.05}, \"xaxis\": {\"automargin\": true, \"gridcolor\": \"white\", \"linecolor\": \"white\", \"ticks\": \"\", \"title\": {\"standoff\": 15}, \"zerolinecolor\": \"white\", \"zerolinewidth\": 2}, \"yaxis\": {\"automargin\": true, \"gridcolor\": \"white\", \"linecolor\": \"white\", \"ticks\": \"\", \"title\": {\"standoff\": 15}, \"zerolinecolor\": \"white\", \"zerolinewidth\": 2}}}, \"title\": {\"font\": {\"size\": 20}, \"x\": 0.5}, \"width\": 1024, \"xaxis\": {\"linewidth\": 1, \"showline\": true, \"tickangle\": -70, \"tickfont\": {\"size\": 14}, \"ticktext\": [\"0000000\", \"0000001\", \"0000010\", \"0000011\", \"0000100\", \"0000101\", \"0000110\", \"0000111\", \"0001000\", \"0001001\", \"0001010\", \"0001011\", \"0001100\", \"0001101\", \"0001110\", \"0001111\", \"0010000\", \"0010001\", \"0010010\", \"0010011\", \"0010100\", \"0010101\", \"0010110\", \"0010111\", \"0011000\", \"0011001\", \"0011010\", \"0011011\", \"0011100\", \"0011101\", \"0011110\", \"0011111\", \"0100000\", \"0100001\", \"0100010\", \"0100011\", \"0100100\", \"0100101\", \"0100110\", \"0100111\", \"0101000\", \"0101001\", \"0101010\", \"0101011\", \"0101100\", \"0101101\", \"0101110\", \"0101111\", \"0110000\", \"0110001\", \"0110010\", \"0110011\", \"0110100\", \"0110101\", \"0110110\", \"0110111\", \"0111000\", \"0111001\", \"0111010\", \"0111011\", \"0111100\", \"0111101\", \"0111110\", \"0111111\", \"1000000\", \"1000001\", \"1000010\", \"1000011\", \"1000100\", \"1000101\", \"1000110\", \"1000111\", \"1001000\", \"1001001\", \"1001010\", \"1001011\", \"1001100\", \"1001101\", \"1001110\", \"1001111\", \"1010000\", \"1010001\", \"1010010\", \"1010011\", \"1010100\", \"1010101\", \"1010110\", \"1010111\", \"1011000\", \"1011001\", \"1011010\", \"1011011\", \"1011100\", \"1011101\", \"1011110\", \"1011111\", \"1100000\", \"1100001\", \"1100010\", \"1100011\", \"1100100\", \"1100101\", \"1100110\", \"1100111\", \"1101000\", \"1101001\", \"1101010\", \"1101011\", \"1101100\", \"1101101\", \"1101110\", \"1101111\", \"1110000\", \"1110001\", \"1110010\", \"1110011\", \"1110100\", \"1110101\", \"1110110\", \"1110111\", \"1111000\", \"1111001\", \"1111010\", \"1111011\", \"1111100\", \"1111101\", \"1111110\", \"1111111\"], \"tickvals\": [0, 1, 2, 3, 4, 5, 6, 7, 8, 9, 10, 11, 12, 13, 14, 15, 16, 17, 18, 19, 20, 21, 22, 23, 24, 25, 26, 27, 28, 29, 30, 31, 32, 33, 34, 35, 36, 37, 38, 39, 40, 41, 42, 43, 44, 45, 46, 47, 48, 49, 50, 51, 52, 53, 54, 55, 56, 57, 58, 59, 60, 61, 62, 63, 64, 65, 66, 67, 68, 69, 70, 71, 72, 73, 74, 75, 76, 77, 78, 79, 80, 81, 82, 83, 84, 85, 86, 87, 88, 89, 90, 91, 92, 93, 94, 95, 96, 97, 98, 99, 100, 101, 102, 103, 104, 105, 106, 107, 108, 109, 110, 111, 112, 113, 114, 115, 116, 117, 118, 119, 120, 121, 122, 123, 124, 125, 126, 127]}, \"yaxis\": {\"linewidth\": 1, \"showline\": true, \"tickfont\": {\"size\": 14}, \"title\": {\"font\": {\"size\": 18}, \"text\": \"Probability\"}}},                        {\"displayModeBar\": false, \"editable\": false, \"responsive\": true}                    ).then(function(){\n",
       "                            \n",
       "var gd = document.getElementById('90e15c8e-f765-4c5a-93aa-885ee6ed1dbc');\n",
       "var x = new MutationObserver(function (mutations, observer) {{\n",
       "        var display = window.getComputedStyle(gd).display;\n",
       "        if (!display || display === 'none') {{\n",
       "            console.log([gd, 'removed!']);\n",
       "            Plotly.purge(gd);\n",
       "            observer.disconnect();\n",
       "        }}\n",
       "}});\n",
       "\n",
       "// Listen for the removal of the full notebook cells\n",
       "var notebookContainer = gd.closest('#notebook-container');\n",
       "if (notebookContainer) {{\n",
       "    x.observe(notebookContainer, {childList: true});\n",
       "}}\n",
       "\n",
       "// Listen for the clearing of the current output cell\n",
       "var outputEl = gd.closest('.output');\n",
       "if (outputEl) {{\n",
       "    x.observe(outputEl, {childList: true});\n",
       "}}\n",
       "\n",
       "                        })                };                });            </script>        </div>"
      ]
     },
     "metadata": {},
     "output_type": "display_data"
    }
   ],
   "source": [
    "from kaleidoscope import probability_distribution\n",
    "\n",
    "probability_distribution([counts, ae_result['circuit_result'], counts_real], legend=['Sim Manual', 'Sim Qiskit Aqua', 'Melbourne16'], figsize=(1024,600))"
   ]
  },
  {
   "cell_type": "code",
   "execution_count": 443,
   "metadata": {},
   "outputs": [
    {
     "data": {
      "image/png": "[encoded data removed]",
      "text/plain": [
       "<Figure size 504x360 with 1 Axes>"
      ]
     },
     "execution_count": 443,
     "metadata": {},
     "output_type": "execute_result"
    }
   ],
   "source": [
    "from qiskit.visualization import plot_histogram\n",
    "\n",
    "plot_histogram([counts,counts_real])"
   ]
  },
  {
   "cell_type": "code",
   "execution_count": 416,
   "metadata": {},
   "outputs": [
    {
     "name": "stdout",
     "output_type": "stream",
     "text": [
      "{'0010010': 1, '0010011': 5, '0010100': 1, '0010110': 1, '0011011': 1, '0011100': 5, '0011101': 1, '0000010': 6, '0100010': 3, '0100011': 416, '0101011': 1, '0101100': 3, '0000011': 6, '0110010': 1, '0110011': 3, '0110100': 1, '0111010': 1, '0111100': 425, '0111101': 1, '0000100': 1, '1000010': 5, '1000011': 39, '1000111': 1, '1001011': 2, '1001100': 1, '1010011': 1, '1011100': 21, '1011101': 2, '1100010': 2, '1100011': 12, '1101100': 3, '1101101': 2, '1111100': 46, '1111101': 2, '0001011': 2}\n",
      "{'0010011': 2, '0011100': 6, '0011101': 1, '0000010': 8, '0100010': 4, '0100011': 447, '0101010': 1, '0101011': 2, '0101100': 2, '0101101': 1, '0000011': 7, '0110011': 3, '0110100': 2, '0111100': 414, '0111101': 1, '1000010': 3, '1000011': 43, '1001011': 1, '1001100': 1, '1010011': 2, '1011011': 1, '1011100': 15, '1011101': 1, '1100011': 14, '1100101': 1, '1100111': 1, '1101010': 1, '1101100': 2, '1101101': 1, '1110010': 1, '1110011': 2, '1111100': 32, '1111101': 1}\n"
     ]
    }
   ],
   "source": [
    "print(ae_result['circuit_result'])\n",
    "print(counts)"
   ]
  },
  {
   "cell_type": "code",
   "execution_count": 451,
   "metadata": {},
   "outputs": [],
   "source": [
    "# REason for decoherence and noise?\n",
    "#transpiled_circuit = qc.transpiled_circuit\n",
    "from qiskit import transpile\n",
    "qc_transpiled = transpile(qc, backend_real , optimization_level=3)"
   ]
  },
  {
   "cell_type": "code",
   "execution_count": 450,
   "metadata": {},
   "outputs": [
    {
     "name": "stdout",
     "output_type": "stream",
     "text": [
      "322\n",
      "733\n"
     ]
    }
   ],
   "source": [
    "print(qc_transpiled.depth())\n",
    "print(qc_transpiled.size())"
   ]
  },
  {
   "cell_type": "code",
   "execution_count": 417,
   "metadata": {},
   "outputs": [
    {
     "data": {
      "image/png": "[encoded data removed]",
      "text/plain": [
       "<Figure size 432x288 with 1 Axes>"
      ]
     },
     "metadata": {
      "needs_background": "light"
     },
     "output_type": "display_data"
    }
   ],
   "source": [
    "# TODO: Wrong calculation\n",
    "plt.plot(counts.values())\n",
    "# Real (Red)\n",
    "plt.plot([probability * 2**evaluation_qubits, probability * 2**evaluation_qubits], [0,max(counts.values())], 'r--', linewidth=2)\n",
    "# Calculated (Green)\n",
    "plt.plot([int(max(counts, key=counts.get),2), int(max(counts, key=counts.get),2)], [0,max(counts.values())], 'g--', linewidth=2)\n",
    "plt.show()"
   ]
  },
  {
   "cell_type": "code",
   "execution_count": 422,
   "metadata": {},
   "outputs": [
    {
     "name": "stdout",
     "output_type": "stream",
     "text": [
      "Most probably state:  0100011 --  35\n",
      "Estimated Probability: theta = state / 2^n : 0.2734375\n",
      "Real Probability:  0.4567\n",
      "Error:  -0.1832625\n",
      "1.484087716205598\n",
      "0.01857584264531015\n"
     ]
    }
   ],
   "source": [
    "# TODO: This is not correct\n",
    "\n",
    "print(\"Most probably state: \", max(counts, key=counts.get), \"-- \", int(max(counts, key=counts.get),2))\n",
    "estimated_probability = int(max(counts, key=counts.get),2) / 2**evaluatioan_qubits\n",
    "print(\"Estimated Probability: theta = state / 2^n :\", estimated_probability)\n",
    "print(\"Real Probability: \", probability)\n",
    "print(\"Error: \", estimated_probability - probability)\n",
    "\n",
    "#theta = 2 * np.arcsin(np.sqrt(probability))\n",
    "\n",
    "# a = sin2 (θ) (approx)\n",
    "print(theta)\n",
    "print((np.sin(estimated_probability/2))**2)"
   ]
  },
  {
   "cell_type": "code",
   "execution_count": 284,
   "metadata": {},
   "outputs": [
    {
     "name": "stdout",
     "output_type": "stream",
     "text": [
      "010000  :  2  -  0.25\n",
      "010011  :  2  -  0.296875\n",
      "010100  :  5  -  0.3125\n",
      "010101  :  1  -  0.328125\n",
      "010111  :  2  -  0.359375\n",
      "011000  :  1  -  0.375\n",
      "011010  :  1  -  0.40625\n",
      "011011  :  2  -  0.421875\n",
      "011100  :  5  -  0.4375\n",
      "011101  :  1  -  0.453125\n",
      "100010  :  2  -  0.53125\n",
      "100011  :  3  -  0.546875\n",
      "100100  :  5  -  0.5625\n",
      "101001  :  1  -  0.640625\n",
      "101011  :  29  -  0.671875\n",
      "101100  :  21  -  0.6875\n",
      "000011  :  1  -  0.046875\n",
      "110010  :  1  -  0.78125\n",
      "110011  :  8  -  0.796875\n",
      "110100  :  25  -  0.8125\n",
      "110111  :  1  -  0.859375\n",
      "111001  :  1  -  0.890625\n",
      "111100  :  2  -  0.9375\n",
      "000101  :  2  -  0.078125\n",
      "000111  :  1  -  0.109375\n",
      "001000  :  2  -  0.125\n",
      "001010  :  1  -  0.15625\n",
      "001011  :  426  -  0.171875\n",
      "001100  :  470  -  0.1875\n"
     ]
    }
   ],
   "source": [
    "for i in counts:\n",
    "    estimated_probability = int(i,2) / 2**evaluation_qubits\n",
    "    print(i, \" : \", counts[i], \" - \", estimated_probability)"
   ]
  },
  {
   "cell_type": "markdown",
   "metadata": {},
   "source": [
    "Grover operator examples"
   ]
  },
  {
   "cell_type": "code",
   "execution_count": 143,
   "metadata": {},
   "outputs": [
    {
     "data": {
      "image/png": "[encoded data removed]",
      "text/plain": [
       "<Figure size 788.314x264.88 with 1 Axes>"
      ]
     },
     "execution_count": 143,
     "metadata": {},
     "output_type": "execute_result"
    }
   ],
   "source": [
    "oracle = QuantumCircuit(4)\n",
    "oracle.z(3)\n",
    "reflection_qubits = [0, 3]\n",
    "state_preparation = QuantumCircuit(4)\n",
    "state_preparation.ry(0.3, 3)\n",
    "grover_op = GroverOperator(oracle, state_preparation, reflection_qubits=reflection_qubits, insert_barriers=True)\n",
    "grover_op.draw('mpl')"
   ]
  },
  {
   "cell_type": "code",
   "execution_count": 156,
   "metadata": {},
   "outputs": [
    {
     "data": {
      "image/png": "[encoded data removed]",
      "text/plain": [
       "<Figure size 607.714x204.68 with 1 Axes>"
      ]
     },
     "execution_count": 156,
     "metadata": {},
     "output_type": "execute_result"
    }
   ],
   "source": [
    "state_preparation = QuantumCircuit(3)\n",
    "\n",
    "oracle = QuantumCircuit(3)\n",
    "oracle.x([2,0])\n",
    "oracle.h(2)\n",
    "oracle.mcx([2],0)\n",
    "oracle.h(2)\n",
    "oracle.x([2,0])\n",
    "\n",
    "zero_reflection = QuantumCircuit(3)\n",
    "zero_reflection.cry(0.3, 0, 2)\n",
    "\n",
    "state_preparation.ry(0.3, 2)\n",
    "grover_op = GroverOperator(oracle, state_preparation, reflection_qubits=[0,3], zero_reflection=zero_reflection)\n",
    "grover_op.draw('mpl')"
   ]
  },
  {
   "cell_type": "code",
   "execution_count": 340,
   "metadata": {},
   "outputs": [
    {
     "data": {
      "text/html": [
       "<pre style=\"word-wrap: normal;white-space: pre;background: #fff0;line-height: 1.1;font-family: &quot;Courier New&quot;,Courier,monospace\">         ┌───┐                                        ┌───┐                   \n",
       "state_0: ┤ X ├─────────────────────────────────────■──┤ X ├───────────────────\n",
       "         ├───┤                                     │  ├───┤                   \n",
       "state_1: ┤ X ├─────────────────────────────────────■──┤ X ├───────────────────\n",
       "         ├───┤                                     │  ├───┤                   \n",
       "state_2: ┤ X ├─────────────────────────────────────■──┤ X ├───────────────────\n",
       "         ├───┤                                     │  ├───┤                   \n",
       "state_3: ┤ X ├─────────────────────────────────────■──┤ X ├───────────────────\n",
       "         ├───┤                                     │  ├───┤                   \n",
       "state_4: ┤ X ├─────────────────────────────────────■──┤ X ├───────────────────\n",
       "         ├───┤                                     │  ├───┤                   \n",
       "state_5: ┤ X ├─────────────────────────────────────■──┤ X ├───────────────────\n",
       "         ├───┤┌───┐┌───┐┌─────────────┐┌───┐┌───┐┌─┴─┐├───┤┌───┐┌────────────┐\n",
       "state_6: ┤ X ├┤ Z ├┤ X ├┤ RY(-1.1593) ├┤ X ├┤ H ├┤ X ├┤ H ├┤ X ├┤ RY(1.1593) ├\n",
       "         └───┘└───┘└───┘└─────────────┘└───┘└───┘└───┘└───┘└───┘└────────────┘</pre>"
      ],
      "text/plain": [
       "         ┌───┐                                        ┌───┐                   \n",
       "state_0: ┤ X ├─────────────────────────────────────■──┤ X ├───────────────────\n",
       "         ├───┤                                     │  ├───┤                   \n",
       "state_1: ┤ X ├─────────────────────────────────────■──┤ X ├───────────────────\n",
       "         ├───┤                                     │  ├───┤                   \n",
       "state_2: ┤ X ├─────────────────────────────────────■──┤ X ├───────────────────\n",
       "         ├───┤                                     │  ├───┤                   \n",
       "state_3: ┤ X ├─────────────────────────────────────■──┤ X ├───────────────────\n",
       "         ├───┤                                     │  ├───┤                   \n",
       "state_4: ┤ X ├─────────────────────────────────────■──┤ X ├───────────────────\n",
       "         ├───┤                                     │  ├───┤                   \n",
       "state_5: ┤ X ├─────────────────────────────────────■──┤ X ├───────────────────\n",
       "         ├───┤┌───┐┌───┐┌─────────────┐┌───┐┌───┐┌─┴─┐├───┤┌───┐┌────────────┐\n",
       "state_6: ┤ X ├┤ Z ├┤ X ├┤ RY(-1.1593) ├┤ X ├┤ H ├┤ X ├┤ H ├┤ X ├┤ RY(1.1593) ├\n",
       "         └───┘└───┘└───┘└─────────────┘└───┘└───┘└───┘└───┘└───┘└────────────┘"
      ]
     },
     "execution_count": 340,
     "metadata": {},
     "output_type": "execute_result"
    }
   ],
   "source": [
    "    state_preparation = QuantumCircuit(evaluation_qubits+1)\n",
    "    oracle = QuantumCircuit(evaluation_qubits+1)\n",
    "    oracle.x(evaluation_qubits)\n",
    "    oracle.z(evaluation_qubits)\n",
    "    oracle.x(evaluation_qubits)\n",
    "    state_preparation.ry(theta*repetitions, evaluation_qubits)\n",
    "    grover_op = GroverOperator(oracle, state_preparation)\n",
    "    grover_op.draw()"
   ]
  },
  {
   "cell_type": "markdown",
   "metadata": {},
   "source": [
    "## Next steps\n",
    "\n",
    "Clearly with \"standard\" QAE out of the box, even if we could optimize the circuit, we won't go far on current NISQ computers. Circuit depth is too big to get any decent result.\n",
    "\n",
    "Let's try with IAE"
   ]
  },
  {
   "cell_type": "code",
   "execution_count": 452,
   "metadata": {},
   "outputs": [],
   "source": [
    "from qiskit.aqua.algorithms import IterativeAmplitudeEstimation\n",
    "\n",
    "epsilon = 0.01\n",
    "alpha = 0.05\n",
    "\n",
    "# construct amplitude estimation\n",
    "iae = IterativeAmplitudeEstimation(state_preparation=a_factory,\n",
    "                                  epsilon=epsilon, alpha=alpha)\n",
    "iae_result = iae.run(quantum_instance=Aer.get_backend('qasm_simulator'), shots=1000)"
   ]
  },
  {
   "cell_type": "code",
   "execution_count": 455,
   "metadata": {},
   "outputs": [
    {
     "name": "stdout",
     "output_type": "stream",
     "text": [
      "{'confidence_interval': [0.44893614670412985, 0.4612015100056504], 'estimation': 0.45506882835489015, 'num_oracle_queries': 3000, 'value_confidence_interval': [0.44893614670412985, 0.4612015100056504], 'alpha': 0.05, 'actual_epsilon': 0.00613268165076028, 'a_intervals': [[0.0, 1.0], [0.40950228711760434, 0.49499970895692635], [0.44893614670412985, 0.4612015100056504]], 'theta_intervals': [[0, 0.25], [0.11051701958126316, 0.12420416569777154], [0.11685874097138474, 0.11881881479784526]], 'powers': [0, 0, 3], 'ratios': [1.0, 7.0]}\n",
      "Estimation:  0.45506882835489015\n",
      "Real probability:  0.4567\n"
     ]
    }
   ],
   "source": [
    "print(iae_result)\n",
    "\n",
    "print(\"Estimation: \", iae_result['estimation'])\n",
    "print(\"Real probability: \", probability)"
   ]
  },
  {
   "cell_type": "code",
   "execution_count": 471,
   "metadata": {},
   "outputs": [
    {
     "name": "stderr",
     "output_type": "stream",
     "text": [
      "ibmqfactory.load_account:WARNING:2021-02-01 16:27:26,568: Credentials are already in use. The existing account in the session will be replaced.\n"
     ]
    }
   ],
   "source": [
    "## Run IAE on a real device\n",
    "\n",
    "IBMQ.load_account()\n",
    "provider = IBMQ.get_provider()\n",
    "backend_real = least_busy(provider.backends(filters=lambda x: x.configuration().n_qubits > 1 and not x.configuration().simulator ))\n",
    "backend_real.name()\n",
    "iae_real_result = iae.run(quantum_instance=backend_real, shots=1000)\n"
   ]
  },
  {
   "cell_type": "code",
   "execution_count": 472,
   "metadata": {},
   "outputs": [
    {
     "data": {
      "text/plain": [
       "{'confidence_interval': [0.4597835537942955, 0.46761565644121006], 'estimation': 0.46369960511775277, 'num_oracle_queries': 5000, 'value_confidence_interval': [0.4597835537942955, 0.46761565644121006], 'alpha': 0.05, 'actual_epsilon': 0.0039160513234572925, 'a_intervals': [[0.0, 1.0], [0.4759868915286301, 0.5618144137132131], [0.4597835537942955, 0.46761565644121006]], 'theta_intervals': [[0, 0.25], [0.12117672438411523, 0.1348633044317983], [0.11859243217958598, 0.11984226124417345]], 'powers': [0, 0, 5], 'ratios': [1.0, 11.0]}"
      ]
     },
     "execution_count": 472,
     "metadata": {},
     "output_type": "execute_result"
    }
   ],
   "source": [
    "iae_real_result"
   ]
  },
  {
   "cell_type": "code",
   "execution_count": null,
   "metadata": {},
   "outputs": [],
   "source": []
  }
 ],
 "metadata": {
  "kernelspec": {
   "display_name": "Python 3",
   "language": "python",
   "name": "python3"
  },
  "language_info": {
   "codemirror_mode": {
    "name": "ipython",
    "version": 3
   },
   "file_extension": ".py",
   "mimetype": "text/x-python",
   "name": "python",
   "nbconvert_exporter": "python",
   "pygments_lexer": "ipython3",
   "version": "3.7.6-final"
  }
 },
 "nbformat": 4,
 "nbformat_minor": 4
}