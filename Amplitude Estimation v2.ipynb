{
 "cells": [
  {
   "cell_type": "code",
   "execution_count": 1,
   "metadata": {},
   "outputs": [],
   "source": [
    "from qiskit import Aer, QuantumCircuit, QuantumRegister, ClassicalRegister, execute\n",
    "from qiskit.aqua.algorithms import AmplitudeEstimation\n",
    "from qiskit.circuit.library import QFT, GroverOperator\n",
    "\n",
    "from qiskit.aqua.algorithms.amplitude_estimators.q_factory import QFactory\n",
    "\n",
    "import math\n",
    "import numpy as np\n",
    "import matplotlib.pyplot as plt"
   ]
  },
  {
   "cell_type": "code",
   "execution_count": 2,
   "metadata": {},
   "outputs": [],
   "source": [
    "evaluation_qubits = 4\n",
    "\n",
    "probability = 0.3\n",
    "theta = 2 * np.arcsin(np.sqrt(probability))\n",
    "\n",
    "evaluation_registry = QuantumRegister(evaluation_qubits, 'evaluation')\n",
    "a_registry = QuantumRegister(1, 'q')"
   ]
  },
  {
   "cell_type": "markdown",
   "metadata": {},
   "source": [
    "## First with the Qiskit function"
   ]
  },
  {
   "cell_type": "code",
   "execution_count": 3,
   "metadata": {},
   "outputs": [
    {
     "name": "stdout",
     "output_type": "stream",
     "text": [
      "{'0': 0.7, '1': 0.3}\n"
     ]
    }
   ],
   "source": [
    "a_factory =  QuantumCircuit(a_registry)\n",
    "a_factory.ry(theta, a_registry[0])\n",
    "backend = Aer.get_backend('statevector_simulator')\n",
    "job = execute(a_factory, backend, shots=1024)\n",
    "counts = job.result().get_counts()\n",
    "print(counts)"
   ]
  },
  {
   "cell_type": "code",
   "execution_count": 4,
   "metadata": {},
   "outputs": [],
   "source": [
    "ae = AmplitudeEstimation(evaluation_qubits, a_factory)\n",
    "ae_result = ae.run(quantum_instance=Aer.get_backend('qasm_simulator'))"
   ]
  },
  {
   "cell_type": "code",
   "execution_count": 5,
   "metadata": {},
   "outputs": [
    {
     "data": {
      "text/plain": [
       "{'a_estimation': 0.3086583, 'confidence_interval': [0.29753558077027575, 0.3203806747402484], 'estimation': 0.3086583, 'num_oracle_queries': 15360, 'ml_value': 0.3170880793520352, 'mapped_a_samples': [0.0, 0.1464466, 0.3086583, 0.5, 0.8535534], 'probabilities': [0.0009765625, 0.0009765625, 0.9931640625, 0.0029296875, 0.001953125], 'shots': 1024, 'mle': 0.3170880793520352, 'circuit_result': {'0000': 1, '0011': 3, '0101': 1, '0110': 1, '0111': 1, '1011': 526, '1100': 491}, 'a_samples': [(0.0, 0.0009765625), (0.1464466, 0.0009765625), (0.3086583, 0.9931640625), (0.5, 0.0029296875), (0.8535534, 0.001953125)], 'y_measurements': [(0, 0.0009765625), (3, 0.4794921875), (6, 0.0009765625), (10, 0.0009765625), (12, 0.0029296875), (13, 0.513671875), (14, 0.0009765625)], 'mapped_values': [0.0, 0.1464466, 0.3086583, 0.5, 0.8535534], 'max_probability': 0.9931640625}"
      ]
     },
     "execution_count": 5,
     "metadata": {},
     "output_type": "execute_result"
    }
   ],
   "source": [
    "ae_result"
   ]
  },
  {
   "cell_type": "code",
   "execution_count": 6,
   "metadata": {},
   "outputs": [
    {
     "data": {
      "image/png": "[encoded data removed]",
      "text/plain": [
       "<Figure size 432x288 with 1 Axes>"
      ]
     },
     "metadata": {
      "needs_background": "light"
     },
     "output_type": "display_data"
    }
   ],
   "source": [
    "# plot estimated values\n",
    "plt.bar(ae_result['mapped_a_samples'], ae_result['probabilities'], width=0.5/len(ae_result['probabilities']))\n",
    "plt.plot([probability, probability], [0,1], 'r--', linewidth=2)\n",
    "plt.xticks(size=15)\n",
    "plt.yticks([0, 0.25, 0.5, 0.75, 1], size=15)\n",
    "plt.title('Estimated Values', size=15)\n",
    "plt.ylabel('Probability', size=15)\n",
    "plt.ylim((0,1))\n",
    "plt.grid()\n",
    "plt.show()"
   ]
  },
  {
   "cell_type": "code",
   "execution_count": 7,
   "metadata": {},
   "outputs": [
    {
     "data": {
      "text/html": [
       "<pre style=\"word-wrap: normal;white-space: pre;background: #fff0;line-height: 1.1;font-family: &quot;Courier New&quot;,Courier,monospace\">            ┌───┐     ┌─────────┐                                 ┌──────┐┌─┐»\n",
       "eval_0: ────┤ H ├─────┤0        ├─────────────────────────────────┤0     ├┤M├»\n",
       "            ├───┤     │         │┌─────────┐                      │      │└╥┘»\n",
       "eval_1: ────┤ H ├─────┤         ├┤0        ├──────────────────────┤1     ├─╫─»\n",
       "            ├───┤     │         ││         │┌─────────┐           │  qft │ ║ »\n",
       "eval_2: ────┤ H ├─────┤  c_Q**1 ├┤         ├┤0        ├───────────┤2     ├─╫─»\n",
       "            ├───┤     │         ││  c_Q**2 ││         │┌─────────┐│      │ ║ »\n",
       "eval_3: ────┤ H ├─────┤         ├┤         ├┤  c_Q**4 ├┤0        ├┤3     ├─╫─»\n",
       "        ┌───┴───┴────┐│         ││         ││         ││  c_Q**8 │└──────┘ ║ »\n",
       "   q_0: ┤ RY(1.1593) ├┤1        ├┤1        ├┤1        ├┤1        ├─────────╫─»\n",
       "        └────────────┘└─────────┘└─────────┘└─────────┘└─────────┘         ║ »\n",
       "  c0: 4/═══════════════════════════════════════════════════════════════════╩═»\n",
       "                                                                           0 »\n",
       "«                 \n",
       "«eval_0: ─────────\n",
       "«        ┌─┐      \n",
       "«eval_1: ┤M├──────\n",
       "«        └╥┘┌─┐   \n",
       "«eval_2: ─╫─┤M├───\n",
       "«         ║ └╥┘┌─┐\n",
       "«eval_3: ─╫──╫─┤M├\n",
       "«         ║  ║ └╥┘\n",
       "«   q_0: ─╫──╫──╫─\n",
       "«         ║  ║  ║ \n",
       "«  c0: 4/═╩══╩══╩═\n",
       "«         1  2  3 </pre>"
      ],
      "text/plain": [
       "            ┌───┐     ┌─────────┐                                 ┌──────┐┌─┐»\n",
       "eval_0: ────┤ H ├─────┤0        ├─────────────────────────────────┤0     ├┤M├»\n",
       "            ├───┤     │         │┌─────────┐                      │      │└╥┘»\n",
       "eval_1: ────┤ H ├─────┤         ├┤0        ├──────────────────────┤1     ├─╫─»\n",
       "            ├───┤     │         ││         │┌─────────┐           │  qft │ ║ »\n",
       "eval_2: ────┤ H ├─────┤  c_Q**1 ├┤         ├┤0        ├───────────┤2     ├─╫─»\n",
       "            ├───┤     │         ││  c_Q**2 ││         │┌─────────┐│      │ ║ »\n",
       "eval_3: ────┤ H ├─────┤         ├┤         ├┤  c_Q**4 ├┤0        ├┤3     ├─╫─»\n",
       "        ┌───┴───┴────┐│         ││         ││         ││  c_Q**8 │└──────┘ ║ »\n",
       "   q_0: ┤ RY(1.1593) ├┤1        ├┤1        ├┤1        ├┤1        ├─────────╫─»\n",
       "        └────────────┘└─────────┘└─────────┘└─────────┘└─────────┘         ║ »\n",
       "  c0: 4/═══════════════════════════════════════════════════════════════════╩═»\n",
       "                                                                           0 »\n",
       "«                 \n",
       "«eval_0: ─────────\n",
       "«        ┌─┐      \n",
       "«eval_1: ┤M├──────\n",
       "«        └╥┘┌─┐   \n",
       "«eval_2: ─╫─┤M├───\n",
       "«         ║ └╥┘┌─┐\n",
       "«eval_3: ─╫──╫─┤M├\n",
       "«         ║  ║ └╥┘\n",
       "«   q_0: ─╫──╫──╫─\n",
       "«         ║  ║  ║ \n",
       "«  c0: 4/═╩══╩══╩═\n",
       "«         1  2  3 "
      ]
     },
     "execution_count": 7,
     "metadata": {},
     "output_type": "execute_result"
    }
   ],
   "source": [
    "ae._circuit.draw()"
   ]
  },
  {
   "cell_type": "markdown",
   "metadata": {},
   "source": [
    "Q Operator\n",
    "\n",
    "$$ \\mathcal{Q} = \\mathcal{A} \\mathcal{S}_0 \\mathcal{A}^\\dagger \\mathcal{S}_f, $$"
   ]
  },
  {
   "cell_type": "code",
   "execution_count": 8,
   "metadata": {},
   "outputs": [
    {
     "data": {
      "image/png": "[encoded data removed]",
      "text/plain": [
       "<Figure size 594.442x84.28 with 1 Axes>"
      ]
     },
     "execution_count": 8,
     "metadata": {},
     "output_type": "execute_result"
    }
   ],
   "source": [
    "test_gate = ae.grover_operator.inverse().to_gate().control(1)\n",
    "ae.grover_operator.inverse().draw('mpl')"
   ]
  },
  {
   "cell_type": "code",
   "execution_count": 9,
   "metadata": {},
   "outputs": [
    {
     "data": {
      "image/png": "[encoded data removed]",
      "text/plain": [
       "<Figure size 133.526x84.28 with 1 Axes>"
      ]
     },
     "execution_count": 9,
     "metadata": {},
     "output_type": "execute_result"
    }
   ],
   "source": [
    "ae.state_preparation.draw('mpl')"
   ]
  },
  {
   "cell_type": "code",
   "execution_count": 10,
   "metadata": {},
   "outputs": [
    {
     "data": {
      "image/png": "[encoded data removed]",
      "text/plain": [
       "<Figure size 327.252x144.48 with 1 Axes>"
      ]
     },
     "execution_count": 10,
     "metadata": {},
     "output_type": "execute_result"
    }
   ],
   "source": [
    "q_test = QuantumCircuit(2)\n",
    "q_test.append(test_gate, [0,1])\n",
    "q_test.append(test_gate.power(2), [0,1])\n",
    "q_test.draw('mpl')"
   ]
  },
  {
   "cell_type": "markdown",
   "metadata": {},
   "source": [
    "## Design our own AE"
   ]
  },
  {
   "cell_type": "code",
   "execution_count": 11,
   "metadata": {},
   "outputs": [],
   "source": [
    "def qft_dagger(qc, n):\n",
    "    \"\"\"n-qubit QFTdagger the first n qubits in circ\"\"\"\n",
    "    # Don't forget the Swaps!\n",
    "    for qubit in range(n//2):\n",
    "        qc.swap(qubit, n-qubit-1)\n",
    "    for j in range(n):\n",
    "        for m in range(j):\n",
    "            qc.cp(-math.pi/float(2**(j-m)), m, j)\n",
    "        qc.h(j)\n",
    "\n"
   ]
  },
  {
   "cell_type": "code",
   "execution_count": 12,
   "metadata": {},
   "outputs": [
    {
     "data": {
      "image/png": "[encoded data removed]",
      "text/plain": [
       "<Figure size 1507.48x385.28 with 1 Axes>"
      ]
     },
     "execution_count": 12,
     "metadata": {},
     "output_type": "execute_result"
    }
   ],
   "source": [
    "cr = ClassicalRegister(evaluation_qubits)\n",
    "qc = QuantumCircuit(evaluation_registry, a_registry, cr)\n",
    "\n",
    "#qc.append(a_operator(), a_registry)\n",
    "\n",
    "# A\n",
    "qc.ry(theta, a_registry)\n",
    "\n",
    "qc.h(range(evaluation_qubits))\n",
    "qc.barrier()\n",
    "#Do the controlled-U operations:\n",
    "# 𝑄=𝐴𝑆0𝐴−1𝑆𝜓0\n",
    "repetitions = 1\n",
    "for counting_qubit in range(evaluation_qubits):\n",
    "    \n",
    "    q_op = QuantumCircuit(1)\n",
    "    \n",
    "    # Spsi\n",
    "    q_op.x(0)\n",
    "    q_op.z(0)\n",
    "    q_op.x(0)\n",
    "\n",
    "    # A\n",
    "    q_op.ry(-theta*repetitions, 0)\n",
    "    \n",
    "    # S0\n",
    "    q_op.x(0)\n",
    "    q_op.z(0)\n",
    "    q_op.x(0)\n",
    "    \n",
    "    # A\n",
    "    q_op.ry(theta*repetitions, 0)\n",
    "    \n",
    "    label = \"Q^\"+str(repetitions)\n",
    "    \n",
    "    qc.append(q_op.to_gate(label=label).control(1), [counting_qubit, evaluation_qubits])\n",
    "    repetitions *= 2\n",
    "    \n",
    "qft_dagger(qc, evaluation_qubits)\n",
    "#qc.append(QFT(evaluation_qubits, inverse=True, do_swaps=False), range(evaluation_qubits))\n",
    "qc.barrier()\n",
    "qc.measure(range(evaluation_qubits), cr)\n",
    "qc.draw('mpl')"
   ]
  },
  {
   "cell_type": "code",
   "execution_count": 13,
   "metadata": {},
   "outputs": [
    {
     "data": {
      "image/png": "[encoded data removed]",
      "text/plain": [
       "<Figure size 504x360 with 1 Axes>"
      ]
     },
     "execution_count": 13,
     "metadata": {},
     "output_type": "execute_result"
    }
   ],
   "source": [
    "from qiskit.visualization import plot_histogram\n",
    "\n",
    "backend = Aer.get_backend('qasm_simulator')\n",
    "results = execute(qc, backend=backend, shots=1024).result()\n",
    "counts = results.get_counts()\n",
    "\n",
    "plot_histogram([counts, ae_result['circuit_result']])"
   ]
  },
  {
   "cell_type": "code",
   "execution_count": 15,
   "metadata": {},
   "outputs": [
    {
     "name": "stderr",
     "output_type": "stream",
     "text": [
      "ibmqfactory.load_account:WARNING:2022-02-17 11:36:27,303: Credentials are already in use. The existing account in the session will be replaced.\n"
     ]
    },
    {
     "ename": "AttributeError",
     "evalue": "'str' object has no attribute 'properties'",
     "output_type": "error",
     "traceback": [
      "\u001b[0;31m---------------------------------------------------------------------------\u001b[0m",
      "\u001b[0;31mAttributeError\u001b[0m                            Traceback (most recent call last)",
      "\u001b[0;32m<ipython-input-15-2318d2c6ed52>\u001b[0m in \u001b[0;36m<module>\u001b[0;34m\u001b[0m\n\u001b[1;32m      8\u001b[0m \u001b[0mbackend_real\u001b[0m \u001b[0;34m=\u001b[0m \u001b[0;34m\"ibmq_manila\"\u001b[0m\u001b[0;34m\u001b[0m\u001b[0;34m\u001b[0m\u001b[0m\n\u001b[1;32m      9\u001b[0m \u001b[0;34m\u001b[0m\u001b[0m\n\u001b[0;32m---> 10\u001b[0;31m \u001b[0mjob_real\u001b[0m \u001b[0;34m=\u001b[0m \u001b[0mexecute\u001b[0m\u001b[0;34m(\u001b[0m\u001b[0mqc\u001b[0m\u001b[0;34m,\u001b[0m \u001b[0mbackend\u001b[0m\u001b[0;34m=\u001b[0m\u001b[0mbackend_real\u001b[0m\u001b[0;34m,\u001b[0m \u001b[0mshots\u001b[0m\u001b[0;34m=\u001b[0m\u001b[0;36m1024\u001b[0m\u001b[0;34m)\u001b[0m\u001b[0;34m\u001b[0m\u001b[0;34m\u001b[0m\u001b[0m\n\u001b[0m\u001b[1;32m     11\u001b[0m \u001b[0mjob_monitor\u001b[0m\u001b[0;34m(\u001b[0m\u001b[0mjob_real\u001b[0m\u001b[0;34m)\u001b[0m\u001b[0;34m\u001b[0m\u001b[0;34m\u001b[0m\u001b[0m\n\u001b[1;32m     12\u001b[0m \u001b[0mresults_real\u001b[0m \u001b[0;34m=\u001b[0m \u001b[0mjob_real\u001b[0m\u001b[0;34m.\u001b[0m\u001b[0mresult\u001b[0m\u001b[0;34m(\u001b[0m\u001b[0;34m)\u001b[0m\u001b[0;34m\u001b[0m\u001b[0;34m\u001b[0m\u001b[0m\n",
      "\u001b[0;32m~/opt/anaconda3/envs/qiskit24/lib/python3.8/site-packages/qiskit/execute.py\u001b[0m in \u001b[0;36mexecute\u001b[0;34m(experiments, backend, basis_gates, coupling_map, backend_properties, initial_layout, seed_transpiler, optimization_level, pass_manager, qobj_id, qobj_header, shots, memory, max_credits, seed_simulator, default_qubit_los, default_meas_los, schedule_los, meas_level, meas_return, memory_slots, memory_slot_size, rep_time, rep_delay, parameter_binds, schedule_circuit, inst_map, meas_map, scheduling_method, init_qubits, **run_config)\u001b[0m\n\u001b[1;32m    250\u001b[0m     \u001b[0;32melse\u001b[0m\u001b[0;34m:\u001b[0m\u001b[0;34m\u001b[0m\u001b[0;34m\u001b[0m\u001b[0m\n\u001b[1;32m    251\u001b[0m         \u001b[0;31m# transpiling the circuits using given transpile options\u001b[0m\u001b[0;34m\u001b[0m\u001b[0;34m\u001b[0m\u001b[0;34m\u001b[0m\u001b[0m\n\u001b[0;32m--> 252\u001b[0;31m         experiments = transpile(experiments,\n\u001b[0m\u001b[1;32m    253\u001b[0m                                 \u001b[0mbasis_gates\u001b[0m\u001b[0;34m=\u001b[0m\u001b[0mbasis_gates\u001b[0m\u001b[0;34m,\u001b[0m\u001b[0;34m\u001b[0m\u001b[0;34m\u001b[0m\u001b[0m\n\u001b[1;32m    254\u001b[0m                                 \u001b[0mcoupling_map\u001b[0m\u001b[0;34m=\u001b[0m\u001b[0mcoupling_map\u001b[0m\u001b[0;34m,\u001b[0m\u001b[0;34m\u001b[0m\u001b[0;34m\u001b[0m\u001b[0m\n",
      "\u001b[0;32m~/opt/anaconda3/envs/qiskit24/lib/python3.8/site-packages/qiskit/compiler/transpile.py\u001b[0m in \u001b[0;36mtranspile\u001b[0;34m(circuits, backend, basis_gates, coupling_map, backend_properties, initial_layout, layout_method, routing_method, translation_method, scheduling_method, instruction_durations, dt, seed_transpiler, optimization_level, pass_manager, callback, output_name)\u001b[0m\n\u001b[1;32m    231\u001b[0m \u001b[0;34m\u001b[0m\u001b[0m\n\u001b[1;32m    232\u001b[0m     \u001b[0;31m# Get transpile_args to configure the circuit transpilation job(s)\u001b[0m\u001b[0;34m\u001b[0m\u001b[0;34m\u001b[0m\u001b[0;34m\u001b[0m\u001b[0m\n\u001b[0;32m--> 233\u001b[0;31m     transpile_args = _parse_transpile_args(circuits, backend, basis_gates, coupling_map,\n\u001b[0m\u001b[1;32m    234\u001b[0m                                            \u001b[0mbackend_properties\u001b[0m\u001b[0;34m,\u001b[0m \u001b[0minitial_layout\u001b[0m\u001b[0;34m,\u001b[0m\u001b[0;34m\u001b[0m\u001b[0;34m\u001b[0m\u001b[0m\n\u001b[1;32m    235\u001b[0m                                            \u001b[0mlayout_method\u001b[0m\u001b[0;34m,\u001b[0m \u001b[0mrouting_method\u001b[0m\u001b[0;34m,\u001b[0m \u001b[0mtranslation_method\u001b[0m\u001b[0;34m,\u001b[0m\u001b[0;34m\u001b[0m\u001b[0;34m\u001b[0m\u001b[0m\n",
      "\u001b[0;32m~/opt/anaconda3/envs/qiskit24/lib/python3.8/site-packages/qiskit/compiler/transpile.py\u001b[0m in \u001b[0;36m_parse_transpile_args\u001b[0;34m(circuits, backend, basis_gates, coupling_map, backend_properties, initial_layout, layout_method, routing_method, translation_method, scheduling_method, instruction_durations, dt, seed_transpiler, optimization_level, callback, output_name)\u001b[0m\n\u001b[1;32m    413\u001b[0m \u001b[0;34m\u001b[0m\u001b[0m\n\u001b[1;32m    414\u001b[0m     \u001b[0mbasis_gates\u001b[0m \u001b[0;34m=\u001b[0m \u001b[0m_parse_basis_gates\u001b[0m\u001b[0;34m(\u001b[0m\u001b[0mbasis_gates\u001b[0m\u001b[0;34m,\u001b[0m \u001b[0mbackend\u001b[0m\u001b[0;34m,\u001b[0m \u001b[0mcircuits\u001b[0m\u001b[0;34m)\u001b[0m\u001b[0;34m\u001b[0m\u001b[0;34m\u001b[0m\u001b[0m\n\u001b[0;32m--> 415\u001b[0;31m     \u001b[0mfaulty_qubits_map\u001b[0m \u001b[0;34m=\u001b[0m \u001b[0m_parse_faulty_qubits_map\u001b[0m\u001b[0;34m(\u001b[0m\u001b[0mbackend\u001b[0m\u001b[0;34m,\u001b[0m \u001b[0mnum_circuits\u001b[0m\u001b[0;34m)\u001b[0m\u001b[0;34m\u001b[0m\u001b[0;34m\u001b[0m\u001b[0m\n\u001b[0m\u001b[1;32m    416\u001b[0m     \u001b[0mcoupling_map\u001b[0m \u001b[0;34m=\u001b[0m \u001b[0m_parse_coupling_map\u001b[0m\u001b[0;34m(\u001b[0m\u001b[0mcoupling_map\u001b[0m\u001b[0;34m,\u001b[0m \u001b[0mbackend\u001b[0m\u001b[0;34m,\u001b[0m \u001b[0mnum_circuits\u001b[0m\u001b[0;34m)\u001b[0m\u001b[0;34m\u001b[0m\u001b[0;34m\u001b[0m\u001b[0m\n\u001b[1;32m    417\u001b[0m     \u001b[0mbackend_properties\u001b[0m \u001b[0;34m=\u001b[0m \u001b[0m_parse_backend_properties\u001b[0m\u001b[0;34m(\u001b[0m\u001b[0mbackend_properties\u001b[0m\u001b[0;34m,\u001b[0m \u001b[0mbackend\u001b[0m\u001b[0;34m,\u001b[0m \u001b[0mnum_circuits\u001b[0m\u001b[0;34m)\u001b[0m\u001b[0;34m\u001b[0m\u001b[0;34m\u001b[0m\u001b[0m\n",
      "\u001b[0;32m~/opt/anaconda3/envs/qiskit24/lib/python3.8/site-packages/qiskit/compiler/transpile.py\u001b[0m in \u001b[0;36m_parse_faulty_qubits_map\u001b[0;34m(backend, num_circuits)\u001b[0m\n\u001b[1;32m    686\u001b[0m         \u001b[0;32mreturn\u001b[0m \u001b[0;34m[\u001b[0m\u001b[0;32mNone\u001b[0m\u001b[0;34m]\u001b[0m \u001b[0;34m*\u001b[0m \u001b[0mnum_circuits\u001b[0m\u001b[0;34m\u001b[0m\u001b[0;34m\u001b[0m\u001b[0m\n\u001b[1;32m    687\u001b[0m     \u001b[0;32mif\u001b[0m \u001b[0;32mnot\u001b[0m \u001b[0misinstance\u001b[0m\u001b[0;34m(\u001b[0m\u001b[0mbackend\u001b[0m\u001b[0;34m,\u001b[0m \u001b[0mlist\u001b[0m\u001b[0;34m)\u001b[0m\u001b[0;34m:\u001b[0m\u001b[0;34m\u001b[0m\u001b[0;34m\u001b[0m\u001b[0m\n\u001b[0;32m--> 688\u001b[0;31m         \u001b[0;32mreturn\u001b[0m \u001b[0;34m[\u001b[0m\u001b[0m_create_faulty_qubits_map\u001b[0m\u001b[0;34m(\u001b[0m\u001b[0mbackend\u001b[0m\u001b[0;34m)\u001b[0m\u001b[0;34m]\u001b[0m \u001b[0;34m*\u001b[0m \u001b[0mnum_circuits\u001b[0m\u001b[0;34m\u001b[0m\u001b[0;34m\u001b[0m\u001b[0m\n\u001b[0m\u001b[1;32m    689\u001b[0m     \u001b[0mfaulty_qubits_map\u001b[0m \u001b[0;34m=\u001b[0m \u001b[0;34m[\u001b[0m\u001b[0;34m]\u001b[0m\u001b[0;34m\u001b[0m\u001b[0;34m\u001b[0m\u001b[0m\n\u001b[1;32m    690\u001b[0m     \u001b[0;32mfor\u001b[0m \u001b[0ma_backend\u001b[0m \u001b[0;32min\u001b[0m \u001b[0mbackend\u001b[0m\u001b[0;34m:\u001b[0m\u001b[0;34m\u001b[0m\u001b[0;34m\u001b[0m\u001b[0m\n",
      "\u001b[0;32m~/opt/anaconda3/envs/qiskit24/lib/python3.8/site-packages/qiskit/compiler/transpile.py\u001b[0m in \u001b[0;36m_create_faulty_qubits_map\u001b[0;34m(backend)\u001b[0m\n\u001b[1;32m    458\u001b[0m     \u001b[0mfaulty_qubits_map\u001b[0m \u001b[0;34m=\u001b[0m \u001b[0;32mNone\u001b[0m\u001b[0;34m\u001b[0m\u001b[0;34m\u001b[0m\u001b[0m\n\u001b[1;32m    459\u001b[0m     \u001b[0;32mif\u001b[0m \u001b[0mbackend\u001b[0m \u001b[0;32mis\u001b[0m \u001b[0;32mnot\u001b[0m \u001b[0;32mNone\u001b[0m\u001b[0;34m:\u001b[0m\u001b[0;34m\u001b[0m\u001b[0;34m\u001b[0m\u001b[0m\n\u001b[0;32m--> 460\u001b[0;31m         \u001b[0;32mif\u001b[0m \u001b[0mbackend\u001b[0m\u001b[0;34m.\u001b[0m\u001b[0mproperties\u001b[0m\u001b[0;34m(\u001b[0m\u001b[0;34m)\u001b[0m\u001b[0;34m:\u001b[0m\u001b[0;34m\u001b[0m\u001b[0;34m\u001b[0m\u001b[0m\n\u001b[0m\u001b[1;32m    461\u001b[0m             \u001b[0mfaulty_qubits\u001b[0m \u001b[0;34m=\u001b[0m \u001b[0mbackend\u001b[0m\u001b[0;34m.\u001b[0m\u001b[0mproperties\u001b[0m\u001b[0;34m(\u001b[0m\u001b[0;34m)\u001b[0m\u001b[0;34m.\u001b[0m\u001b[0mfaulty_qubits\u001b[0m\u001b[0;34m(\u001b[0m\u001b[0;34m)\u001b[0m\u001b[0;34m\u001b[0m\u001b[0;34m\u001b[0m\u001b[0m\n\u001b[1;32m    462\u001b[0m             \u001b[0mfaulty_edges\u001b[0m \u001b[0;34m=\u001b[0m \u001b[0;34m[\u001b[0m\u001b[0mgates\u001b[0m\u001b[0;34m.\u001b[0m\u001b[0mqubits\u001b[0m \u001b[0;32mfor\u001b[0m \u001b[0mgates\u001b[0m \u001b[0;32min\u001b[0m \u001b[0mbackend\u001b[0m\u001b[0;34m.\u001b[0m\u001b[0mproperties\u001b[0m\u001b[0;34m(\u001b[0m\u001b[0;34m)\u001b[0m\u001b[0;34m.\u001b[0m\u001b[0mfaulty_gates\u001b[0m\u001b[0;34m(\u001b[0m\u001b[0;34m)\u001b[0m\u001b[0;34m]\u001b[0m\u001b[0;34m\u001b[0m\u001b[0;34m\u001b[0m\u001b[0m\n",
      "\u001b[0;31mAttributeError\u001b[0m: 'str' object has no attribute 'properties'"
     ]
    }
   ],
   "source": [
    "from qiskit import IBMQ\n",
    "from qiskit.providers.ibmq import least_busy\n",
    "from qiskit.tools.monitor import job_monitor\n",
    "IBMQ.load_account()\n",
    "provider = IBMQ.get_provider()\n",
    "#backend_real = least_busy(provider.backends(filters=lambda x: x.configuration().n_qubits > evaluation_qubits+1 and not x.configuration().simulator ))\n",
    "#backend_real.name()\n",
    "backend_real = \"ibmq_manila\"\n",
    "\n",
    "job_real = execute(qc, backend=backend_real, shots=1024)\n",
    "job_monitor(job_real)\n",
    "results_real = job_real.result()"
   ]
  },
  {
   "cell_type": "code",
   "execution_count": null,
   "metadata": {},
   "outputs": [],
   "source": [
    "backend_real.name()"
   ]
  },
  {
   "cell_type": "code",
   "execution_count": null,
   "metadata": {},
   "outputs": [],
   "source": [
    "results_real = job_real.result()\n",
    "counts_real = results_real.get_counts()"
   ]
  },
  {
   "cell_type": "code",
   "execution_count": null,
   "metadata": {},
   "outputs": [],
   "source": [
    "from kaleidoscope import probability_distribution\n",
    "\n",
    "probability_distribution([counts, ae_result['circuit_result'], counts_real], legend=['Sim Manual', 'Sim Qiskit Aqua', backend_real.name()], figsize=(1024,600))"
   ]
  },
  {
   "cell_type": "code",
   "execution_count": null,
   "metadata": {},
   "outputs": [],
   "source": [
    "from qiskit.visualization import plot_histogram\n",
    "\n",
    "plot_histogram([counts,counts_real])"
   ]
  },
  {
   "cell_type": "code",
   "execution_count": null,
   "metadata": {},
   "outputs": [],
   "source": [
    "print(ae_result['circuit_result'])\n",
    "print(counts)"
   ]
  },
  {
   "cell_type": "code",
   "execution_count": null,
   "metadata": {},
   "outputs": [],
   "source": [
    "# REason for decoherence and noise?\n",
    "#transpiled_circuit = qc.transpiled_circuit\n",
    "from qiskit import transpile\n",
    "qc_transpiled = transpile(qc, backend_real , optimization_level=3)"
   ]
  },
  {
   "cell_type": "code",
   "execution_count": null,
   "metadata": {},
   "outputs": [],
   "source": [
    "print(qc_transpiled.depth())\n",
    "print(qc_transpiled.size())"
   ]
  },
  {
   "cell_type": "code",
   "execution_count": null,
   "metadata": {},
   "outputs": [],
   "source": [
    "# TODO: Wrong calculation\n",
    "plt.plot(counts.values())\n",
    "# Real (Red)\n",
    "plt.plot([probability * 2**evaluation_qubits, probability * 2**evaluation_qubits], [0,max(counts.values())], 'r--', linewidth=2)\n",
    "# Calculated (Green)\n",
    "plt.plot([int(max(counts, key=counts.get),2), int(max(counts, key=counts.get),2)], [0,max(counts.values())], 'g--', linewidth=2)\n",
    "plt.show()"
   ]
  },
  {
   "cell_type": "code",
   "execution_count": null,
   "metadata": {},
   "outputs": [],
   "source": [
    "# TODO: This is not correct\n",
    "\n",
    "print(\"Most probably state: \", max(counts, key=counts.get), \"-- \", int(max(counts, key=counts.get),2))\n",
    "estimated_probability = int(max(counts, key=counts.get),2) / 2**evaluation_qubits\n",
    "print(\"Estimated Probability: theta = state / 2^n :\", estimated_probability)\n",
    "print(\"Real Probability: \", probability)\n",
    "print(\"Error: \", estimated_probability - probability)\n",
    "\n",
    "#theta = 2 * np.arcsin(np.sqrt(probability))\n",
    "\n",
    "# a = sin2 (θ) (approx)\n",
    "print(theta)\n",
    "print((np.sin(estimated_probability/2))**2)"
   ]
  },
  {
   "cell_type": "code",
   "execution_count": null,
   "metadata": {},
   "outputs": [],
   "source": [
    "for i in counts:\n",
    "    estimated_probability = int(i,2) / 2**evaluation_qubits\n",
    "    print(i, \" : \", counts[i], \" - \", estimated_probability)"
   ]
  },
  {
   "cell_type": "markdown",
   "metadata": {},
   "source": [
    "Grover operator examples"
   ]
  },
  {
   "cell_type": "code",
   "execution_count": null,
   "metadata": {},
   "outputs": [],
   "source": [
    "oracle = QuantumCircuit(4)\n",
    "oracle.z(3)\n",
    "reflection_qubits = [0, 3]\n",
    "state_preparation = QuantumCircuit(4)\n",
    "state_preparation.ry(0.3, 3)\n",
    "grover_op = GroverOperator(oracle, state_preparation, reflection_qubits=reflection_qubits, insert_barriers=True)\n",
    "grover_op.draw('mpl')"
   ]
  },
  {
   "cell_type": "code",
   "execution_count": null,
   "metadata": {},
   "outputs": [],
   "source": [
    "state_preparation = QuantumCircuit(3)\n",
    "\n",
    "oracle = QuantumCircuit(3)\n",
    "oracle.x([2,0])\n",
    "oracle.h(2)\n",
    "oracle.mcx([2],0)\n",
    "oracle.h(2)\n",
    "oracle.x([2,0])\n",
    "\n",
    "zero_reflection = QuantumCircuit(3)\n",
    "zero_reflection.cry(0.3, 0, 2)\n",
    "\n",
    "state_preparation.ry(0.3, 2)\n",
    "grover_op = GroverOperator(oracle, state_preparation, reflection_qubits=[0,3], zero_reflection=zero_reflection)\n",
    "grover_op.draw('mpl')"
   ]
  },
  {
   "cell_type": "code",
   "execution_count": null,
   "metadata": {},
   "outputs": [],
   "source": [
    "    state_preparation = QuantumCircuit(evaluation_qubits+1)\n",
    "    oracle = QuantumCircuit(evaluation_qubits+1)\n",
    "    oracle.x(evaluation_qubits)\n",
    "    oracle.z(evaluation_qubits)\n",
    "    oracle.x(evaluation_qubits)\n",
    "    state_preparation.ry(theta*repetitions, evaluation_qubits)\n",
    "    grover_op = GroverOperator(oracle, state_preparation)\n",
    "    grover_op.draw()"
   ]
  },
  {
   "cell_type": "markdown",
   "metadata": {},
   "source": [
    "## Next steps\n",
    "\n",
    "Clearly with \"standard\" QAE out of the box, even if we could optimize the circuit, we won't go far on current NISQ computers. Circuit depth is too big to get any decent result.\n",
    "\n",
    "Let's try with IAE"
   ]
  },
  {
   "cell_type": "code",
   "execution_count": null,
   "metadata": {},
   "outputs": [],
   "source": [
    "from qiskit.aqua.algorithms import IterativeAmplitudeEstimation\n",
    "\n",
    "epsilon = 0.01\n",
    "alpha = 0.05\n",
    "\n",
    "# construct amplitude estimation\n",
    "iae = IterativeAmplitudeEstimation(state_preparation=a_factory,\n",
    "                                  epsilon=epsilon, alpha=alpha)\n",
    "iae_result = iae.run(quantum_instance=Aer.get_backend('qasm_simulator'), shots=1000)"
   ]
  },
  {
   "cell_type": "code",
   "execution_count": null,
   "metadata": {},
   "outputs": [],
   "source": [
    "print(iae_result)\n",
    "\n",
    "print(\"Estimation: \", iae_result['estimation'])\n",
    "print(\"Real probability: \", probability)"
   ]
  },
  {
   "cell_type": "code",
   "execution_count": null,
   "metadata": {},
   "outputs": [],
   "source": [
    "## Run IAE on a real device\n",
    "\n",
    "IBMQ.load_account()\n",
    "provider = IBMQ.get_provider()\n",
    "backend_real = least_busy(provider.backends(filters=lambda x: x.configuration().n_qubits > 1 and not x.configuration().simulator ))\n",
    "backend_real.name()\n",
    "iae_real_result = iae.run(quantum_instance=backend_real, shots=1000)\n"
   ]
  },
  {
   "cell_type": "code",
   "execution_count": null,
   "metadata": {},
   "outputs": [],
   "source": [
    "iae_real_result"
   ]
  },
  {
   "cell_type": "code",
   "execution_count": null,
   "metadata": {},
   "outputs": [],
   "source": []
  }
 ],
 "metadata": {
  "kernelspec": {
   "display_name": "Python 3.8.8 64-bit ('qiskit24': conda)",
   "language": "python",
   "name": "python388jvsc74a57bd01e18502cbe4e9a957e25854f40bca2fddafc6b06b306f48e68b76192cd062114"
  },
  "language_info": {
   "codemirror_mode": {
    "name": "ipython",
    "version": 3
   },
   "file_extension": ".py",
   "mimetype": "text/x-python",
   "name": "python",
   "nbconvert_exporter": "python",
   "pygments_lexer": "ipython3",
   "version": "3.8.8"
  },
  "metadata": {
   "interpreter": {
    "hash": "8f456ff94fd53e0f817d4a737eee7ddd3fa1df976068730d0458d065112af259"
   }
  }
 },
 "nbformat": 4,
 "nbformat_minor": 4
}
