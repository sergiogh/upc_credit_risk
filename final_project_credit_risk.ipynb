{
 "cells": [
  {
   "cell_type": "markdown",
   "metadata": {
    "slideshow": {
     "slide_type": "slide"
    }
   },
   "source": [
    "# Credit Risk Analysis - The Quantum Way\n",
    "\n",
    "### _Sergio Gago Huerta_\n",
    "\n",
    "### Can Quantum Computers help financial institutions make more moneys?\n",
    "\n",
    "![](imgs/cat_money.jpg)"
   ]
  },
  {
   "cell_type": "markdown",
   "metadata": {
    "slideshow": {
     "slide_type": "subslide"
    }
   },
   "source": [
    "### Agenda\n",
    "* Why do we need credit risk analysis - Basel II and Basel III\n",
    "* The Montecarlo methods, where they fall. Their complexity\n",
    "* Enter QAE - A quick and non rigourous analysis on Brassard, Grover and others work\n",
    "* QAE for Credit risk - mapping probability distributions\n",
    "\n",
    "\n",
    "Work based on the following papers:\n",
    "\n",
    "- <a href=\"https://arxiv.org/abs/1412.1183\">Regulatory Capital Modelling for Credit Risk. Marek Rutkowski, Silvio Tarca</a>\n",
    "- <a href=\"https://www.nature.com/articles/s41534-019-0130-6\">Quantum Risk Analysis. Stefan Woerner, Daniel J. Egger.</a> [Woerner2019]\n",
    "- <a href=\"https://arxiv.org/abs/1907.03044\">Credit Risk Analysis using Quantum Computers. Egger et al. (2019)</a> [Egger2019]\n",
    "- <a href=\"http://arxiv.org/abs/quant-ph/0005055\">Quantum Amplitude Amplification and Estimation. Gilles Brassard et al.</a>\n",
    "- And many others, check the references and bibliography and have a blast\n",
    "\n",
    "- Scripts, tests, experiments, papers and memorabilia in the repo: https://github.com/sergiogh/upc_credit_risk\n",
    "\n",
    "- Basel II and all its financial jaron, here: https://www.bis.org/publ/bcbsca05.pdf"
   ]
  },
  {
   "cell_type": "markdown",
   "metadata": {
    "slideshow": {
     "slide_type": "slide"
    }
   },
   "source": [
    "### Problem Definition\n",
    "\n",
    "Basel II with the IRB process (Internal Ratings Based aproach) need a way to evaluate risk properly. For that they have adopted the One-Factor Gaussian Copula method, as estated in the regulatory capital methods paper.\n",
    "\n",
    "Basically we want to analyze the credit risk of a portfolio of $K$ assets.\n",
    "The default probability of every asset $k$ follows a *Gaussian Conditional Independence* model, i.e., given a value $z$ sampled from a latent random variable $Z$ following a standard normal distribution, the default probability of asset $k$ is given by\n",
    "\n",
    "$$p_k(z) = F\\left( \\frac{F^{-1}(p_k^0) - \\sqrt{\\rho_k}z}{\\sqrt{1 - \\rho_k}} \\right) $$\n",
    "\n",
    "where $F$ denotes the cumulative distribution function of $Z$, $p_k^0$ is the default probability of asset $k$ for $z=0$ and $\\rho_k$ is the sensitivity of the default probability of asset $k$ with respect to $Z$. Thus, given a concrete realization of $Z$ the individual default events are assumed to be independent from each other.\n",
    "\n",
    "We are interested in analyzing risk measures of the total loss\n",
    "\n",
    "$$ L = \\sum_{k=1}^K \\lambda_k X_k(Z) $$\n",
    "\n",
    "where $\\lambda_k$ denotes the _loss given default_ of asset $k$, and given $Z$, $X_k(Z)$ denotes a Bernoulli variable representing the default event of asset $k$. More precisely, we are interested in the expected value $\\mathbb{E}[L]$, the Value at Risk (VaR) of $L$ and the Conditional Value at Risk of $L$ (also called Expected Shortfall). Where VaR and CVaR are defined as\n",
    "\n",
    "$$ \\text{VaR}_{\\alpha}(L) = \\inf \\{ x \\mid \\mathbb{P}[L <= x] \\geq 1 - \\alpha \\}$$\n",
    "\n",
    "with confidence level $\\alpha \\in [0, 1]$, and\n",
    "\n",
    "$$ \\text{CVaR}_{\\alpha}(L) = \\mathbb{E}[ L \\mid L \\geq \\text{VaR}_{\\alpha}(L) ].$$\n",
    "\n",
    "For more details on the considered model, see, e.g.,<br>\n",
    "<a href=\"https://arxiv.org/abs/1412.1183\">Regulatory Capital Modeling for Credit Risk. Marek Rutkowski, Silvio Tarca</a>\n",
    "\n",
    "\n",
    "\n",
    ".\n"
   ]
  },
  {
   "cell_type": "markdown",
   "metadata": {
    "slideshow": {
     "slide_type": "subslide"
    }
   },
   "source": [
    "![](./imgs/wat.jpg)"
   ]
  },
  {
   "cell_type": "markdown",
   "metadata": {
    "slideshow": {
     "slide_type": "subslide"
    }
   },
   "source": [
    "### So I read the paper 3 more times"
   ]
  },
  {
   "cell_type": "markdown",
   "metadata": {
    "slideshow": {
     "slide_type": "subslide"
    }
   },
   "source": [
    "![](imgs/watwatwat.jpg)"
   ]
  },
  {
   "cell_type": "markdown",
   "metadata": {
    "slideshow": {
     "slide_type": "subslide"
    }
   },
   "source": [
    "## Credit Risk\n",
    "* Banks and financial institutions lend money to people so we mortals can buy houses.\n",
    "* Banks tend to lend more money than the one they have (greedy bastards). Kind of overbooking plane seats. They rely on you not going to the ATM to get all your money at once\n",
    "* Then 2008 happened and a financial crisis destroyed employment, money, killed cats and made babies cry. So Europe (and others started to think very deep).\n",
    "* We should ask the banks to actually HAVE some of the money the lend. Brilliant! Everyone congratulated themselves and went out for beers.\n",
    "\n",
    "### But hey, how much? Enter VaR"
   ]
  },
  {
   "cell_type": "markdown",
   "metadata": {
    "slideshow": {
     "slide_type": "subslide"
    }
   },
   "source": [
    "![](imgs/var_football.jpg)"
   ]
  },
  {
   "cell_type": "markdown",
   "metadata": {
    "slideshow": {
     "slide_type": "subslide"
    }
   },
   "source": [
    "### Not that VaR\n",
    "\n",
    "This VaR\n",
    "\n",
    "![](imgs/var.png)\n",
    "\n",
    "The Value at Risk si a measurement of how much \"money\" you can lose for a given level of risk and a function that models the uncertainty of such assets (i.e. subprime mortages in an empoverished country). It is a measure for what the maximum expected loss is, given some 1 — α% probability and some time horizon T.\n",
    "\n",
    "In short\n",
    "> \"with 95% probability, the investor will not lose more than VaR(α = 0.95)\".\n",
    "\n",
    "But this Value At Risk does not fully evaluate what happens in the tail (i.e. a big financial crisis, black swans or other stuff that happens because we are greedy humans)\n",
    "\n",
    "Enter Expected Shortfall (or Conditional Value at Risk among friends)\n",
    "![](imgs/cvar.png)\n",
    "\n",
    "Since Basel II\n",
    "_“Unlike VaR, ES measures the riskiness of an instrument by considering both the size and likelihood of losses above a certain threshold … In this way, ES accounts for tail risk in a more comprehensive manner”_\n",
    "\n",
    "So, the European Union imposes some Capital Requirements so they don't have to rescue them again and they don't get incentives to make risky bets with everybody's money. For that they calculate the expected loss, VaR and CVaR of all their assets\n",
    "![](imgs/expected_loss.png)\n",
    "\n",
    "They get something like this\n",
    "![](imgs/expected_loss_var.png)\n",
    "\n",
    "et voilà! Now they know how many subprime loans they can give without going bankrupt.\n",
    "\n",
    "So, is your money safe?"
   ]
  },
  {
   "cell_type": "markdown",
   "metadata": {
    "slideshow": {
     "slide_type": "slide"
    }
   },
   "source": [
    "## The Classical Way: Markov Chain Monte Carlo Methods\n",
    "_And the Metropolis Algorithm_"
   ]
  },
  {
   "cell_type": "code",
   "execution_count": 1,
   "metadata": {
    "slideshow": {
     "slide_type": "subslide"
    }
   },
   "outputs": [
    {
     "data": {
      "image/png": "[encoded data removed]",
      "text/plain": [
       "<Figure size 576x576 with 1 Axes>"
      ]
     },
     "metadata": {
      "needs_background": "light"
     },
     "output_type": "display_data"
    }
   ],
   "source": [
    "### The classical way\n",
    "from scipy import stats\n",
    "import numpy as np\n",
    "import matplotlib.pyplot as plt\n",
    "\n",
    "# Metropolis-Hastings MCMC\n",
    "def metropolis(func, steps=10000):\n",
    "\n",
    "    samples = np.zeros(steps)\n",
    "    old_x = func.mean()\n",
    "    old_prob = func.pdf(old_x)\n",
    "    \n",
    "    for i in range(steps):\n",
    "        new_x = old_x + np.random.normal(0, 0.5)\n",
    "        new_prob = func.pdf(new_x)\n",
    "        acceptance = new_prob / old_prob\n",
    "        if acceptance >= np.random.random():\n",
    "            samples[i] = new_x\n",
    "            old_x = new_x\n",
    "            old_prob = new_prob\n",
    "        else:\n",
    "            samples[i] = old_x\n",
    "    \n",
    "    return samples\n",
    "\n",
    "# distribución normal\n",
    "func = stats.norm(0.4, 2)\n",
    "samples = metropolis(func=func, steps=10000)\n",
    "x = np.linspace(-6, 10, 100)\n",
    "y = func.pdf(x)\n",
    "plt.figure(figsize=(8,8))\n",
    "plt.xlim(-6, 6)\n",
    "plt.plot(x, y, 'r-', lw=3, label='Distribution')\n",
    "plt.hist(samples, bins=30, density=True, label='MCMC estimation')\n",
    "plt.xlabel('$x$', fontsize=14)\n",
    "plt.ylabel('$pdf(x)$', fontsize=14)\n",
    "plt.legend(fontsize=14)\n",
    "plt.show()"
   ]
  },
  {
   "cell_type": "markdown",
   "metadata": {
    "slideshow": {
     "slide_type": "slide"
    }
   },
   "source": [
    "# Enter QAE\n",
    "### The Quantm Way\n",
    "\n",
    "![QAE Circuit](imgs/QAE.png)"
   ]
  },
  {
   "cell_type": "markdown",
   "metadata": {
    "slideshow": {
     "slide_type": "slide"
    }
   },
   "source": [
    "# Looks familiar?\n",
    "\n",
    "### Shor Circuit\n",
    "\n",
    "![Shor](imgs/shor_circuit.png)\n",
    "### QPE Circuit\n",
    "![QPE](imgs/qpe_circuit.png)\n",
    "\n",
    "\n",
    "_Need a refresher on QPE? Look at this_\n",
    "[QPE Demo!](https://algassert.com/quirk#circuit=%7B%22cols%22%3A%5B%5B%22H%22%2C%22H%22%2C%22H%22%2C%22H%22%2C%22X%22%5D%2C%5B%22%E2%80%A2%22%2C1%2C1%2C1%2C%7B%22id%22%3A%22Z%5Eft%22%2C%22arg%22%3A%22t%22%7D%5D%2C%5B1%2C%22%E2%80%A2%22%2C1%2C1%2C%7B%22id%22%3A%22Z%5Eft%22%2C%22arg%22%3A%22t*2%22%7D%5D%2C%5B1%2C1%2C%22%E2%80%A2%22%2C1%2C%7B%22id%22%3A%22Z%5Eft%22%2C%22arg%22%3A%22t*4%22%7D%5D%2C%5B1%2C1%2C1%2C%22%E2%80%A2%22%2C%7B%22id%22%3A%22Z%5Eft%22%2C%22arg%22%3A%22t*8%22%7D%5D%2C%5B%22QFT%E2%80%A04%22%5D%2C%5B%22Chance4%22%5D%5D%7D)"
   ]
  },
  {
   "cell_type": "markdown",
   "metadata": {
    "slideshow": {
     "slide_type": "slide"
    }
   },
   "source": [
    "## QAE\n",
    "Quantum Amplitude Estimation (QAE) is a fundamental quantum algorithm with the potential to achieve a quadratic speedup for many applications that are classically solved through Monte Carlo (MC) simulation.\n",
    "While the estimation error of classical MC simulation scales as $O(1/\\sqrt{M})$, where M denotes the number of (classical) samples, QAE achieves a scaling of $O(1/M)$ for M (quantum) samples, which implies such quadratic speedup.\n",
    "\n",
    "The canonical version of QAE is a combination of Quantum Phase Estimation (QPE) and Grover’s Algorithm. Since other QPE-based algorithms are believed to achieve exponential speedup, most prominently Shor’s Algorithm for factoring, it has been speculated as to whether QAE can be simplified such that it uses only Grover iterations without a QPE-dependency. Removing the QPE-dependency would help to reduce the resource requirements of QAE in terms of qubits and circuit depth and lower the bar for practial applications of QAE.\n",
    "\n",
    "To apply QAE we map the problem in a quantum operator $\\mathcal{A}$\n",
    "$$ \\mathcal{A} |0\\rangle_{n+1} = \\sqrt{1 - a} |\\psi_0\\rangle_n |0\\rangle + \\sqrt{a} |\\psi_1\\rangle_n |1\\rangle $$\n",
    "\n",
    "where $a ∈ [0, 1]$ is the unknown probability of measuring |1>, and $|\\psi_0\\rangle_n$ and $|\\psi_1\\rangle_n$ are two normalized states, not necessarily orthogonal. QAE allows to estimate a with high probability such that the estimation error scales as O(1/M), where M corresponds to the number of applications of $ \\mathcal{A} $. \n",
    "\n",
    "To this extent, an operator $\\mathcal{Q} = \\mathcal{A} \\mathcal{S}_0 \\mathcal{A}^\\dagger \\mathcal{S}_f,$ is defined where \n",
    "$ \\mathcal{S} \\psi_0 = \\mathcal{I-2}|\\psi_0\\rangle_n\\langle\\psi_0|_n |0\\rangle\\langle0|$\n",
    "and $ \\mathcal{S}_0 = \\mathcal{I-2}|0\\rangle_{n+1}\n",
    "\\langle0|_{n+1} $\n",
    "\n",
    "The canonical QAE follows the form of QPE: it uses m ancilla qubits – initialized in equal superposition – to represent the final result, it defines the number of quantum samples as $M = 2m$ and applies geometrically increasing powers of Q controlled by the ancillas. Eventually, it performs a QFT on the ancilla qubits before they are measured. The measured integer $ y ∈ {0,...,M − 1} $ is mapped to an angle $\\theta ̃_a = yπ/M$. Thereafter, the resulting estimate of a is defined as $a ̃ = sin^2 (\\theta ̃a )$\n",
    "\n",
    "\n",
    "### In short: You need a hell lot of qubits, and a very deep circuit that does a QFT in the end\n"
   ]
  },
  {
   "cell_type": "markdown",
   "metadata": {
    "slideshow": {
     "slide_type": "slide"
    }
   },
   "source": [
    "### The problem is defined by the following parameters:\n",
    "- Number of qubits used to represent the gaussian probabiltiy $Z$, denoted by $n_z$\n",
    "- Limits for $Z$, denoted by $z_{\\text{max}}$, i.e., Z is assumed to take $2^{n_z}$ equidistant values in $\\{-z_{max}, ..., +z_{max}\\}$ \n",
    "- Base default probabilities for each asset $p_0^k \\in (0, 1)$, $k=1, ..., K$\n",
    "- Sensitivities of the default probabilities with respect to $Z$, denoted by $\\rho_k \\in [0, 1]$\n",
    "- Loss given default for asset $k$, denoted by $\\lambda_k$ (how much you lose if the loan defaults)\n",
    "- Confidence level for VaR / CVaR $\\alpha \\in [0, 1]$."
   ]
  },
  {
   "cell_type": "code",
   "execution_count": 2,
   "metadata": {
    "slideshow": {
     "slide_type": "slide"
    }
   },
   "outputs": [
    {
     "name": "stderr",
     "output_type": "stream",
     "text": [
      "/Users/sergiogago/opt/anaconda3/lib/python3.8/site-packages/qiskit/finance/__init__.py:50: DeprecationWarning: The package qiskit.finance is deprecated. It was moved/refactored to qiskit_finance (pip install qiskit-finance). For more information see <https://github.com/Qiskit/qiskit-aqua/blob/master/README.md#migration-guide>\n",
      "  warn_package('finance', 'qiskit_finance', 'qiskit-finance')\n"
     ]
    }
   ],
   "source": [
    "\n",
    "from qiskit import QuantumRegister, ClassicalRegister, QuantumCircuit, Aer, execute, IBMQ\n",
    "from qiskit.circuit.library import IntegerComparator, LinearAmplitudeFunction, WeightedAdder\n",
    "from qiskit.aqua.algorithms import IterativeAmplitudeEstimation, AmplitudeEstimation\n",
    "\n",
    "from qiskit.finance.applications import GaussianConditionalIndependenceModel as GCI\n",
    "\n",
    "from kaleidoscope import probability_distribution\n"
   ]
  },
  {
   "cell_type": "code",
   "execution_count": 3,
   "metadata": {
    "scrolled": false,
    "slideshow": {
     "slide_type": "slide"
    }
   },
   "outputs": [],
   "source": [
    "######################\n",
    "# Problem parameters #\n",
    "######################\n",
    "\n",
    "# Each asset mapped as [default probability, sensitivity o the PDF, loss given default (expressed in '0.000)]\n",
    "\n",
    "problem_size = 4\n",
    "\n",
    "total_mortgages = [[0.15, 0.1, 100000],\n",
    "                    [0.25, 0.05, 200000],\n",
    "                    [0.2, 0.07, 300000],\n",
    "                    [0.02, 0.01, 400000],\n",
    "                    [0.05, 0.05, 300000],\n",
    "                    [0.2, 0.03, 390000],\n",
    "                    [0.01, 0.01, 100000],\n",
    "                    [0.03, 0.09, 120000],\n",
    "                    [0.2, 0.07, 300000],\n",
    "                    [0.02, 0.01, 400000],\n",
    "                    [0.05, 0.05, 300000],\n",
    "                    [0.25, 0.05, 310000],\n",
    "                    [0.01, 0.01, 600000],\n",
    "                    [0.05, 0.01, 800000],\n",
    "                    [0.04, 0.01, 300000],\n",
    "                    [0.2, 0.4, 560000],\n",
    "                    [0.7, 0.10, 100000],\n",
    "                    [0.04, 0.01, 100000],\n",
    "                    [0.2, 0.07, 300000],\n",
    "                    [0.02, 0.01, 400000],\n",
    "                    [0.05, 0.05, 300000],\n",
    "                    [0.02, 0.03, 390000],\n",
    "                    [0.1, 0.01, 200000],\n",
    "                    [0.04, 0.01, 600000],\n",
    "                    [0.03, 0.01, 700000]]\n",
    "\n",
    "# Get only a subset when making the problem smaller\n",
    "mortgages = total_mortgages[:problem_size]\n",
    "\n",
    "# Confidence level for VaR and CVaR. On BaselII around 99,9%\n",
    "alpha = 0.1\n",
    "\n",
    "#IBMQ.load_account()\n",
    "#provider = IBMQ.get_provider()\n",
    "#backend = provider.get_backend('ibmq_qasm_simulator')\n",
    "backend = Aer.get_backend('qasm_simulator')"
   ]
  },
  {
   "cell_type": "code",
   "execution_count": 4,
   "metadata": {
    "scrolled": false,
    "slideshow": {
     "slide_type": "skip"
    }
   },
   "outputs": [
    {
     "data": {
      "text/plain": [
       "[[0.15, 0.1, 100000],\n",
       " [0.25, 0.05, 200000],\n",
       " [0.2, 0.07, 300000],\n",
       " [0.02, 0.01, 400000]]"
      ]
     },
     "execution_count": 4,
     "metadata": {},
     "output_type": "execute_result"
    }
   ],
   "source": [
    "mortgages"
   ]
  },
  {
   "cell_type": "code",
   "execution_count": 5,
   "metadata": {
    "scrolled": false,
    "slideshow": {
     "slide_type": "slide"
    }
   },
   "outputs": [],
   "source": [
    "# Mapping parameters\n",
    "# Loss Given Default multiplier (we can't map very big numbers, so we eliminate zeroes, from X00,000 -> X0)\n",
    "lgd_factor = 100000\n",
    "\n",
    "# Z represents our distribution, discretized with n qubits. The more qubits, the merrier. (I.e. the more values we will be able to approximate)\n",
    "n_z = 3\n",
    "z_max = 2\n",
    "z_values = np.linspace(-z_max, z_max, 2**n_z)\n",
    "\n",
    "K = len(mortgages)\n",
    "\n",
    "probability_default = []\n",
    "sensitivity_z = []\n",
    "loss_given_default = []\n",
    "for m in mortgages:\n",
    "    probability_default.append(m[0])\n",
    "    sensitivity_z.append(m[1])\n",
    "    loss_given_default.append(int(m[2] / lgd_factor))   # LGD is simplified, reduced proportionately and taken only the integer part\n"
   ]
  },
  {
   "cell_type": "code",
   "execution_count": 6,
   "metadata": {
    "scrolled": false,
    "slideshow": {
     "slide_type": "skip"
    }
   },
   "outputs": [],
   "source": [
    "# TEST removing all sensitivity, making ALL assets losses independent.\n",
    "#sensitivity_z = np.zeros(K)\n",
    "#print(sensitivity_z)"
   ]
  },
  {
   "cell_type": "code",
   "execution_count": 7,
   "metadata": {
    "scrolled": false,
    "slideshow": {
     "slide_type": "slide"
    }
   },
   "outputs": [
    {
     "data": {
      "image/png": "[encoded data removed]",
      "text/plain": [
       "<Figure size 432x288 with 1 Axes>"
      ]
     },
     "metadata": {
      "needs_background": "light"
     },
     "output_type": "display_data"
    },
    {
     "data": {
      "image/png": "[encoded data removed]",
      "text/plain": [
       "<Figure size 432x288 with 1 Axes>"
      ]
     },
     "metadata": {
      "needs_background": "light"
     },
     "output_type": "display_data"
    }
   ],
   "source": [
    "# plot results for default probabilities\n",
    "plt.bar(range(K), probability_default)\n",
    "plt.xlabel('Asset', size=15)\n",
    "plt.ylabel('probability (%)', size=15)\n",
    "plt.title('Individual Default Probabilities', size=20)\n",
    "plt.xticks(range(K), size=15)\n",
    "plt.yticks(size=15)\n",
    "plt.grid()\n",
    "plt.show()\n",
    "\n",
    "# plot Loss Given Defaults\n",
    "plt.bar(range(K), loss_given_default)\n",
    "plt.xlabel('Asset', size=15)\n",
    "plt.ylabel('Loss ($)', size=15)\n",
    "plt.title('Loss Given Default \\*'+str(lgd_factor) +'$', size=20)\n",
    "plt.xticks(range(K), size=15)\n",
    "plt.yticks(size=15)\n",
    "plt.grid()\n",
    "plt.show()"
   ]
  },
  {
   "cell_type": "markdown",
   "metadata": {
    "slideshow": {
     "slide_type": "slide"
    }
   },
   "source": [
    "# Part 1 - Build the model and test classically\n",
    "_Start slow and easy_"
   ]
  },
  {
   "cell_type": "markdown",
   "metadata": {
    "slideshow": {
     "slide_type": "subslide"
    }
   },
   "source": [
    "### Uncertainty Model\n",
    "\n",
    "We now construct a circuit that loads the uncertainty model. This can be achieved by creating a quantum state in a register of $n_z$ qubits that represents $Z$ following a standard normal distribution. This state is then used to control single qubit Y-rotations on a second qubit register of $K$ qubits, where a $|1\\rangle$ state of qubit $k$ represents the default event of asset $k$. The resulting quantum state can be written as\n",
    "\n",
    "$$ |\\Psi\\rangle = \\sum_{i=0}^{2^{n_z}-1} \\sqrt{p_z^i} |z_i \\rangle \\bigotimes_{k=1}^K \\left( \\sqrt{1 - p_k(z_i)}|0\\rangle + \\sqrt{p_k(z_i)}|1\\rangle\\right),$$\n",
    "\n",
    "Where we denote by $z_i$ the $i$-th value of the discretized and truncated $Z$ [Egger2019]."
   ]
  },
  {
   "cell_type": "markdown",
   "metadata": {
    "slideshow": {
     "slide_type": "subslide"
    }
   },
   "source": [
    "Yes\n",
    "\n",
    "$$p_k(z) = F\\left( \\frac{F^{-1}(p_k^0) - \\sqrt{\\rho_k}z}{\\sqrt{1 - \\rho_k}} \\right) $$\n",
    "\n",
    "is the same as \n",
    "\n",
    "$$ |\\Psi\\rangle = \\sum_{i=0}^{2^{n_z}-1} \\sqrt{p_z^i} |z_i \\rangle \\bigotimes_{k=1}^K \\left( \\sqrt{1 - p_k(z_i)}|0\\rangle + \\sqrt{p_k(z_i)}|1\\rangle\\right),$$\n",
    "\n",
    "![](imgs/cat.jpg)"
   ]
  },
  {
   "cell_type": "code",
   "execution_count": 43,
   "metadata": {
    "scrolled": false,
    "slideshow": {
     "slide_type": "slide"
    }
   },
   "outputs": [
    {
     "name": "stderr",
     "output_type": "stream",
     "text": [
      "/Users/sergiogago/opt/anaconda3/lib/python3.8/site-packages/qiskit/finance/applications/gaussian_conditional_independence_model.py:83: DeprecationWarning:\n",
      "\n",
      "`NormalDistribution` is deprecated as of version 0.17.0 and will be removed no earlier than 3 months after the release date. It moved to qiskit_finance.circuit.library.NormalDistribution.\n",
      "\n"
     ]
    },
    {
     "data": {
      "application/vnd.plotly.v1+json": {
       "config": {
        "displayModeBar": false,
        "editable": false,
        "plotlyServerURL": "https://plot.ly"
       },
       "data": [
        {
         "hoverinfo": "text",
         "hovertext": [
          "<b>0000000</b><br>P = 0.008",
          "<b>0000001</b><br>P = 0.027",
          "<b>0000010</b><br>P = 0.064",
          "<b>0000011</b><br>P = 0.106",
          "<b>0000100</b><br>P = 0.125",
          "<b>0000101</b><br>P = 0.103",
          "<b>0000110</b><br>P = 0.06",
          "<b>0000111</b><br>P = 0.025",
          "<b>0001000</b><br>P = 0.004",
          "<b>0001001</b><br>P = 0.009",
          "<b>0001010</b><br>P = 0.017",
          "<b>0001011</b><br>P = 0.02",
          "<b>0001100</b><br>P = 0.017",
          "<b>0001101</b><br>P = 0.009",
          "<b>0001110</b><br>P = 0.003",
          "<b>0001111</b><br>P = 0.001",
          "<b>0010000</b><br>P = 0.005",
          "<b>0010001</b><br>P = 0.015",
          "<b>0010010</b><br>P = 0.029",
          "<b>0010011</b><br>P = 0.038",
          "<b>0010100</b><br>P = 0.036",
          "<b>0010101</b><br>P = 0.023",
          "<b>0010110</b><br>P = 0.011",
          "<b>0010111</b><br>P = 0.003",
          "<b>0011000</b><br>P = 0.002",
          "<b>0011001</b><br>P = 0.005",
          "<b>0011010</b><br>P = 0.007",
          "<b>0011011</b><br>P = 0.007",
          "<b>0011100</b><br>P = 0.005",
          "<b>0011101</b><br>P = 0.002",
          "<b>0011110</b><br>P = 0.001",
          "<b>0011111</b><br>P = 0.0",
          "<b>0100000</b><br>P = 0.005",
          "<b>0100001</b><br>P = 0.012",
          "<b>0100010</b><br>P = 0.022",
          "<b>0100011</b><br>P = 0.029",
          "<b>0100100</b><br>P = 0.026",
          "<b>0100101</b><br>P = 0.016",
          "<b>0100110</b><br>P = 0.006",
          "<b>0100111</b><br>P = 0.002",
          "<b>0101000</b><br>P = 0.002",
          "<b>0101001</b><br>P = 0.004",
          "<b>0101010</b><br>P = 0.006",
          "<b>0101011</b><br>P = 0.005",
          "<b>0101100</b><br>P = 0.003",
          "<b>0101101</b><br>P = 0.001",
          "<b>0101110</b><br>P = 0.0",
          "<b>0101111</b><br>P = 0.0",
          "<b>0110000</b><br>P = 0.003",
          "<b>0110001</b><br>P = 0.007",
          "<b>0110010</b><br>P = 0.01",
          "<b>0110011</b><br>P = 0.01",
          "<b>0110100</b><br>P = 0.007",
          "<b>0110101</b><br>P = 0.004",
          "<b>0110110</b><br>P = 0.001",
          "<b>0110111</b><br>P = 0.0",
          "<b>0111000</b><br>P = 0.001",
          "<b>0111001</b><br>P = 0.002",
          "<b>0111010</b><br>P = 0.003",
          "<b>0111011</b><br>P = 0.002",
          "<b>0111100</b><br>P = 0.001",
          "<b>0111101</b><br>P = 0.0",
          "<b>0111110</b><br>P = 0.0",
          "<b>0111111</b><br>P = 0.0",
          "<b>1000000</b><br>P = 0.0",
          "<b>1000001</b><br>P = 0.001",
          "<b>1000010</b><br>P = 0.002",
          "<b>1000011</b><br>P = 0.002",
          "<b>1000100</b><br>P = 0.002",
          "<b>1000101</b><br>P = 0.002",
          "<b>1000110</b><br>P = 0.001",
          "<b>1000111</b><br>P = 0.0",
          "<b>1001000</b><br>P = 0.0",
          "<b>1001001</b><br>P = 0.0",
          "<b>1001010</b><br>P = 0.0",
          "<b>1001011</b><br>P = 0.0",
          "<b>1001100</b><br>P = 0.0",
          "<b>1001101</b><br>P = 0.0",
          "<b>1001110</b><br>P = 0.0",
          "<b>1001111</b><br>P = 0.0",
          "<b>1010000</b><br>P = 0.0",
          "<b>1010001</b><br>P = 0.0",
          "<b>1010010</b><br>P = 0.001",
          "<b>1010011</b><br>P = 0.001",
          "<b>1010100</b><br>P = 0.001",
          "<b>1010101</b><br>P = 0.0",
          "<b>1010110</b><br>P = 0.0",
          "<b>1010111</b><br>P = 0.0",
          "<b>1011000</b><br>P = 0.0",
          "<b>1011001</b><br>P = 0.0",
          "<b>1011010</b><br>P = 0.0",
          "<b>1011011</b><br>P = 0.0",
          "<b>1011100</b><br>P = 0.0",
          "<b>1011101</b><br>P = 0.0",
          "<b>1011110</b><br>P = 0.0",
          "<b>1011111</b><br>P = 0.0",
          "<b>1100000</b><br>P = 0.0",
          "<b>1100001</b><br>P = 0.0",
          "<b>1100010</b><br>P = 0.001",
          "<b>1100011</b><br>P = 0.001",
          "<b>1100100</b><br>P = 0.0",
          "<b>1100101</b><br>P = 0.0",
          "<b>1100110</b><br>P = 0.0",
          "<b>1100111</b><br>P = 0.0",
          "<b>1101000</b><br>P = 0.0",
          "<b>1101001</b><br>P = 0.0",
          "<b>1101010</b><br>P = 0.0",
          "<b>1101011</b><br>P = 0.0",
          "<b>1101100</b><br>P = 0.0",
          "<b>1101101</b><br>P = 0.0",
          "<b>1101110</b><br>P = 0.0",
          "<b>1101111</b><br>P = 0.0",
          "<b>1110000</b><br>P = 0.0",
          "<b>1110001</b><br>P = 0.0",
          "<b>1110010</b><br>P = 0.0",
          "<b>1110011</b><br>P = 0.0",
          "<b>1110100</b><br>P = 0.0",
          "<b>1110101</b><br>P = 0.0",
          "<b>1110110</b><br>P = 0.0",
          "<b>1110111</b><br>P = 0.0",
          "<b>1111000</b><br>P = 0.0",
          "<b>1111001</b><br>P = 0.0",
          "<b>1111010</b><br>P = 0.0",
          "<b>1111011</b><br>P = 0.0",
          "<b>1111100</b><br>P = 0.0",
          "<b>1111101</b><br>P = 0.0",
          "<b>1111110</b><br>P = 0.0",
          "<b>1111111</b><br>P = 0.0"
         ],
         "marker": {
          "color": "#6929c4"
         },
         "name": "",
         "text": [
          0.008,
          0.027,
          0.064,
          0.106,
          0.125,
          0.103,
          0.06,
          0.025,
          0.004,
          0.009,
          0.017,
          0.02,
          0.017,
          0.009,
          0.003,
          0.001,
          0.005,
          0.015,
          0.029,
          0.038,
          0.036,
          0.023,
          0.011,
          0.003,
          0.002,
          0.005,
          0.007,
          0.007,
          0.005,
          0.002,
          0.001,
          0,
          0.005,
          0.012,
          0.022,
          0.029,
          0.026,
          0.016,
          0.006,
          0.002,
          0.002,
          0.004,
          0.006,
          0.005,
          0.003,
          0.001,
          0,
          0,
          0.003,
          0.007,
          0.01,
          0.01,
          0.007,
          0.004,
          0.001,
          0,
          0.001,
          0.002,
          0.003,
          0.002,
          0.001,
          0,
          0,
          0,
          0,
          0.001,
          0.002,
          0.002,
          0.002,
          0.002,
          0.001,
          0,
          0,
          0,
          0,
          0,
          0,
          0,
          0,
          0,
          0,
          0,
          0.001,
          0.001,
          0.001,
          0,
          0,
          0,
          0,
          0,
          0,
          0,
          0,
          0,
          0,
          0,
          0,
          0,
          0.001,
          0.001,
          0,
          0,
          0,
          0,
          0,
          0,
          0,
          0,
          0,
          0,
          0,
          0,
          0,
          0,
          0,
          0,
          0,
          0,
          0,
          0,
          0,
          0,
          0,
          0,
          0,
          0,
          0,
          0
         ],
         "textposition": "auto",
         "type": "bar",
         "width": 0.5,
         "x": [
          0,
          1,
          2,
          3,
          4,
          5,
          6,
          7,
          8,
          9,
          10,
          11,
          12,
          13,
          14,
          15,
          16,
          17,
          18,
          19,
          20,
          21,
          22,
          23,
          24,
          25,
          26,
          27,
          28,
          29,
          30,
          31,
          32,
          33,
          34,
          35,
          36,
          37,
          38,
          39,
          40,
          41,
          42,
          43,
          44,
          45,
          46,
          47,
          48,
          49,
          50,
          51,
          52,
          53,
          54,
          55,
          56,
          57,
          58,
          59,
          60,
          61,
          62,
          63,
          64,
          65,
          66,
          67,
          68,
          69,
          70,
          71,
          72,
          73,
          74,
          75,
          76,
          77,
          78,
          79,
          80,
          81,
          82,
          83,
          84,
          85,
          86,
          87,
          88,
          89,
          90,
          91,
          92,
          93,
          94,
          95,
          96,
          97,
          98,
          99,
          100,
          101,
          102,
          103,
          104,
          105,
          106,
          107,
          108,
          109,
          110,
          111,
          112,
          113,
          114,
          115,
          116,
          117,
          118,
          119,
          120,
          121,
          122,
          123,
          124,
          125,
          126,
          127
         ],
         "y": [
          0.008079886775367992,
          0.02712058958849397,
          0.06399978715169594,
          0.10635794718218088,
          0.12464443468433387,
          0.10312907519109289,
          0.06029742454072393,
          0.024931740687845972,
          0.003659004212385996,
          0.00937700559929599,
          0.016577153311986982,
          0.02009058266915998,
          0.016527068855172983,
          0.009078732043992989,
          0.0032360506052399964,
          0.0007073054677899992,
          0.005388311483416994,
          0.014841137227335984,
          0.028569733337431968,
          0.03841205011833196,
          0.036017981446461955,
          0.02349748654917397,
          0.010626415077459988,
          0.0033131786435369967,
          0.0024401151852249973,
          0.005131356987153994,
          0.007400100386187992,
          0.007255879685909992,
          0.004775758026401995,
          0.002068547436229998,
          0.0005702999291409993,
          0.0000939938129339999,
          0.004533936107858995,
          0.012085093202827987,
          0.022406502999692976,
          0.028823382744350968,
          0.02562108363437197,
          0.015638752586111984,
          0.006490937153943993,
          0.0018031898352389982,
          0.0020532083899889976,
          0.004178448490625996,
          0.005803707355009994,
          0.005444619505849994,
          0.0033971947038129962,
          0.0013767217825679985,
          0.0003483565221169996,
          0.00005115591590199995,
          0.0030235893984959963,
          0.006613297474343993,
          0.01000234288605199,
          0.010409802481984988,
          0.007403617476528992,
          0.003563218014484996,
          0.0011439193790599986,
          0.00023962586997699974,
          0.0013692427447559985,
          0.0022865626591339976,
          0.002590795671055997,
          0.001966369254717998,
          0.000981673157905999,
          0.0003136797407319997,
          0.00006139202506799993,
          0.000006798108891999992,
          0.0002513014397159997,
          0.0007493806821949992,
          0.0015600819794129982,
          0.0022690694748109972,
          0.0023062616539979972,
          0.0016376337173419982,
          0.0008117471157439992,
          0.0002804719273299997,
          0.00011380271185299988,
          0.00025910007708399973,
          0.0004040906900309996,
          0.0004286179742419995,
          0.00030579580428299967,
          0.00014416533531799985,
          0.000043564957627999954,
          0.000007956898406999991,
          0.0001675877980799998,
          0.0004100818495729996,
          0.0006964261620229993,
          0.0008194931615139991,
          0.0006664307931179992,
          0.00037312732781099954,
          0.00014305688601999985,
          0.00003727191018799996,
          0.00007589270446099992,
          0.00014178673317799984,
          0.0001803875258359998,
          0.00015479891765899983,
          0.0000883645357529999,
          0.00003284741011399996,
          0.00000767759694699999,
          0.0000010573921089999988,
          0.00014101493042699984,
          0.0003339284110759996,
          0.0005461890282329994,
          0.0006149259145999994,
          0.00047405985569699946,
          0.00024833489958799975,
          0.00008738349196999991,
          0.000020285151155999975,
          0.00006385909094899993,
          0.00011545650842899988,
          0.00014147327141699983,
          0.00011615699860699987,
          0.00006285735818399993,
          0.000021861594378999977,
          0.000004689709456999995,
          5.754832169999994e-7,
          0.00009403997730099989,
          0.00018273486852899982,
          0.00024382073101999972,
          0.00022208556742999976,
          0.00013698709557499983,
          0.00005658196732499994,
          0.000015399882559999982,
          0.000002695693430999997,
          0.000042586323625999956,
          0.00006318099685099993,
          0.00006315417314099994,
          0.00004195105838599995,
          0.00001816362813599998,
          0.000004981063961999994,
          8.26483048999999e-7,
          7.647595599999992e-8
         ]
        }
       ],
       "layout": {
        "font": {
         "color": "#000000"
        },
        "paper_bgcolor": "#ffffff",
        "plot_bgcolor": "#e5e0df",
        "showlegend": false,
        "template": {
         "data": {
          "bar": [
           {
            "error_x": {
             "color": "#2a3f5f"
            },
            "error_y": {
             "color": "#2a3f5f"
            },
            "marker": {
             "line": {
              "color": "#E5ECF6",
              "width": 0.5
             }
            },
            "type": "bar"
           }
          ],
          "barpolar": [
           {
            "marker": {
             "line": {
              "color": "#E5ECF6",
              "width": 0.5
             }
            },
            "type": "barpolar"
           }
          ],
          "carpet": [
           {
            "aaxis": {
             "endlinecolor": "#2a3f5f",
             "gridcolor": "white",
             "linecolor": "white",
             "minorgridcolor": "white",
             "startlinecolor": "#2a3f5f"
            },
            "baxis": {
             "endlinecolor": "#2a3f5f",
             "gridcolor": "white",
             "linecolor": "white",
             "minorgridcolor": "white",
             "startlinecolor": "#2a3f5f"
            },
            "type": "carpet"
           }
          ],
          "choropleth": [
           {
            "colorbar": {
             "outlinewidth": 0,
             "ticks": ""
            },
            "type": "choropleth"
           }
          ],
          "contour": [
           {
            "colorbar": {
             "outlinewidth": 0,
             "ticks": ""
            },
            "colorscale": [
             [
              0,
              "#0d0887"
             ],
             [
              0.1111111111111111,
              "#46039f"
             ],
             [
              0.2222222222222222,
              "#7201a8"
             ],
             [
              0.3333333333333333,
              "#9c179e"
             ],
             [
              0.4444444444444444,
              "#bd3786"
             ],
             [
              0.5555555555555556,
              "#d8576b"
             ],
             [
              0.6666666666666666,
              "#ed7953"
             ],
             [
              0.7777777777777778,
              "#fb9f3a"
             ],
             [
              0.8888888888888888,
              "#fdca26"
             ],
             [
              1,
              "#f0f921"
             ]
            ],
            "type": "contour"
           }
          ],
          "contourcarpet": [
           {
            "colorbar": {
             "outlinewidth": 0,
             "ticks": ""
            },
            "type": "contourcarpet"
           }
          ],
          "heatmap": [
           {
            "colorbar": {
             "outlinewidth": 0,
             "ticks": ""
            },
            "colorscale": [
             [
              0,
              "#0d0887"
             ],
             [
              0.1111111111111111,
              "#46039f"
             ],
             [
              0.2222222222222222,
              "#7201a8"
             ],
             [
              0.3333333333333333,
              "#9c179e"
             ],
             [
              0.4444444444444444,
              "#bd3786"
             ],
             [
              0.5555555555555556,
              "#d8576b"
             ],
             [
              0.6666666666666666,
              "#ed7953"
             ],
             [
              0.7777777777777778,
              "#fb9f3a"
             ],
             [
              0.8888888888888888,
              "#fdca26"
             ],
             [
              1,
              "#f0f921"
             ]
            ],
            "type": "heatmap"
           }
          ],
          "heatmapgl": [
           {
            "colorbar": {
             "outlinewidth": 0,
             "ticks": ""
            },
            "colorscale": [
             [
              0,
              "#0d0887"
             ],
             [
              0.1111111111111111,
              "#46039f"
             ],
             [
              0.2222222222222222,
              "#7201a8"
             ],
             [
              0.3333333333333333,
              "#9c179e"
             ],
             [
              0.4444444444444444,
              "#bd3786"
             ],
             [
              0.5555555555555556,
              "#d8576b"
             ],
             [
              0.6666666666666666,
              "#ed7953"
             ],
             [
              0.7777777777777778,
              "#fb9f3a"
             ],
             [
              0.8888888888888888,
              "#fdca26"
             ],
             [
              1,
              "#f0f921"
             ]
            ],
            "type": "heatmapgl"
           }
          ],
          "histogram": [
           {
            "marker": {
             "colorbar": {
              "outlinewidth": 0,
              "ticks": ""
             }
            },
            "type": "histogram"
           }
          ],
          "histogram2d": [
           {
            "colorbar": {
             "outlinewidth": 0,
             "ticks": ""
            },
            "colorscale": [
             [
              0,
              "#0d0887"
             ],
             [
              0.1111111111111111,
              "#46039f"
             ],
             [
              0.2222222222222222,
              "#7201a8"
             ],
             [
              0.3333333333333333,
              "#9c179e"
             ],
             [
              0.4444444444444444,
              "#bd3786"
             ],
             [
              0.5555555555555556,
              "#d8576b"
             ],
             [
              0.6666666666666666,
              "#ed7953"
             ],
             [
              0.7777777777777778,
              "#fb9f3a"
             ],
             [
              0.8888888888888888,
              "#fdca26"
             ],
             [
              1,
              "#f0f921"
             ]
            ],
            "type": "histogram2d"
           }
          ],
          "histogram2dcontour": [
           {
            "colorbar": {
             "outlinewidth": 0,
             "ticks": ""
            },
            "colorscale": [
             [
              0,
              "#0d0887"
             ],
             [
              0.1111111111111111,
              "#46039f"
             ],
             [
              0.2222222222222222,
              "#7201a8"
             ],
             [
              0.3333333333333333,
              "#9c179e"
             ],
             [
              0.4444444444444444,
              "#bd3786"
             ],
             [
              0.5555555555555556,
              "#d8576b"
             ],
             [
              0.6666666666666666,
              "#ed7953"
             ],
             [
              0.7777777777777778,
              "#fb9f3a"
             ],
             [
              0.8888888888888888,
              "#fdca26"
             ],
             [
              1,
              "#f0f921"
             ]
            ],
            "type": "histogram2dcontour"
           }
          ],
          "mesh3d": [
           {
            "colorbar": {
             "outlinewidth": 0,
             "ticks": ""
            },
            "type": "mesh3d"
           }
          ],
          "parcoords": [
           {
            "line": {
             "colorbar": {
              "outlinewidth": 0,
              "ticks": ""
             }
            },
            "type": "parcoords"
           }
          ],
          "pie": [
           {
            "automargin": true,
            "type": "pie"
           }
          ],
          "scatter": [
           {
            "marker": {
             "colorbar": {
              "outlinewidth": 0,
              "ticks": ""
             }
            },
            "type": "scatter"
           }
          ],
          "scatter3d": [
           {
            "line": {
             "colorbar": {
              "outlinewidth": 0,
              "ticks": ""
             }
            },
            "marker": {
             "colorbar": {
              "outlinewidth": 0,
              "ticks": ""
             }
            },
            "type": "scatter3d"
           }
          ],
          "scattercarpet": [
           {
            "marker": {
             "colorbar": {
              "outlinewidth": 0,
              "ticks": ""
             }
            },
            "type": "scattercarpet"
           }
          ],
          "scattergeo": [
           {
            "marker": {
             "colorbar": {
              "outlinewidth": 0,
              "ticks": ""
             }
            },
            "type": "scattergeo"
           }
          ],
          "scattergl": [
           {
            "marker": {
             "colorbar": {
              "outlinewidth": 0,
              "ticks": ""
             }
            },
            "type": "scattergl"
           }
          ],
          "scattermapbox": [
           {
            "marker": {
             "colorbar": {
              "outlinewidth": 0,
              "ticks": ""
             }
            },
            "type": "scattermapbox"
           }
          ],
          "scatterpolar": [
           {
            "marker": {
             "colorbar": {
              "outlinewidth": 0,
              "ticks": ""
             }
            },
            "type": "scatterpolar"
           }
          ],
          "scatterpolargl": [
           {
            "marker": {
             "colorbar": {
              "outlinewidth": 0,
              "ticks": ""
             }
            },
            "type": "scatterpolargl"
           }
          ],
          "scatterternary": [
           {
            "marker": {
             "colorbar": {
              "outlinewidth": 0,
              "ticks": ""
             }
            },
            "type": "scatterternary"
           }
          ],
          "surface": [
           {
            "colorbar": {
             "outlinewidth": 0,
             "ticks": ""
            },
            "colorscale": [
             [
              0,
              "#0d0887"
             ],
             [
              0.1111111111111111,
              "#46039f"
             ],
             [
              0.2222222222222222,
              "#7201a8"
             ],
             [
              0.3333333333333333,
              "#9c179e"
             ],
             [
              0.4444444444444444,
              "#bd3786"
             ],
             [
              0.5555555555555556,
              "#d8576b"
             ],
             [
              0.6666666666666666,
              "#ed7953"
             ],
             [
              0.7777777777777778,
              "#fb9f3a"
             ],
             [
              0.8888888888888888,
              "#fdca26"
             ],
             [
              1,
              "#f0f921"
             ]
            ],
            "type": "surface"
           }
          ],
          "table": [
           {
            "cells": {
             "fill": {
              "color": "#EBF0F8"
             },
             "line": {
              "color": "white"
             }
            },
            "header": {
             "fill": {
              "color": "#C8D4E3"
             },
             "line": {
              "color": "white"
             }
            },
            "type": "table"
           }
          ]
         },
         "layout": {
          "annotationdefaults": {
           "arrowcolor": "#2a3f5f",
           "arrowhead": 0,
           "arrowwidth": 1
          },
          "autotypenumbers": "strict",
          "coloraxis": {
           "colorbar": {
            "outlinewidth": 0,
            "ticks": ""
           }
          },
          "colorscale": {
           "diverging": [
            [
             0,
             "#8e0152"
            ],
            [
             0.1,
             "#c51b7d"
            ],
            [
             0.2,
             "#de77ae"
            ],
            [
             0.3,
             "#f1b6da"
            ],
            [
             0.4,
             "#fde0ef"
            ],
            [
             0.5,
             "#f7f7f7"
            ],
            [
             0.6,
             "#e6f5d0"
            ],
            [
             0.7,
             "#b8e186"
            ],
            [
             0.8,
             "#7fbc41"
            ],
            [
             0.9,
             "#4d9221"
            ],
            [
             1,
             "#276419"
            ]
           ],
           "sequential": [
            [
             0,
             "#0d0887"
            ],
            [
             0.1111111111111111,
             "#46039f"
            ],
            [
             0.2222222222222222,
             "#7201a8"
            ],
            [
             0.3333333333333333,
             "#9c179e"
            ],
            [
             0.4444444444444444,
             "#bd3786"
            ],
            [
             0.5555555555555556,
             "#d8576b"
            ],
            [
             0.6666666666666666,
             "#ed7953"
            ],
            [
             0.7777777777777778,
             "#fb9f3a"
            ],
            [
             0.8888888888888888,
             "#fdca26"
            ],
            [
             1,
             "#f0f921"
            ]
           ],
           "sequentialminus": [
            [
             0,
             "#0d0887"
            ],
            [
             0.1111111111111111,
             "#46039f"
            ],
            [
             0.2222222222222222,
             "#7201a8"
            ],
            [
             0.3333333333333333,
             "#9c179e"
            ],
            [
             0.4444444444444444,
             "#bd3786"
            ],
            [
             0.5555555555555556,
             "#d8576b"
            ],
            [
             0.6666666666666666,
             "#ed7953"
            ],
            [
             0.7777777777777778,
             "#fb9f3a"
            ],
            [
             0.8888888888888888,
             "#fdca26"
            ],
            [
             1,
             "#f0f921"
            ]
           ]
          },
          "colorway": [
           "#636efa",
           "#EF553B",
           "#00cc96",
           "#ab63fa",
           "#FFA15A",
           "#19d3f3",
           "#FF6692",
           "#B6E880",
           "#FF97FF",
           "#FECB52"
          ],
          "font": {
           "color": "#2a3f5f"
          },
          "geo": {
           "bgcolor": "white",
           "lakecolor": "white",
           "landcolor": "#E5ECF6",
           "showlakes": true,
           "showland": true,
           "subunitcolor": "white"
          },
          "hoverlabel": {
           "align": "left"
          },
          "hovermode": "closest",
          "mapbox": {
           "style": "light"
          },
          "paper_bgcolor": "white",
          "plot_bgcolor": "#E5ECF6",
          "polar": {
           "angularaxis": {
            "gridcolor": "white",
            "linecolor": "white",
            "ticks": ""
           },
           "bgcolor": "#E5ECF6",
           "radialaxis": {
            "gridcolor": "white",
            "linecolor": "white",
            "ticks": ""
           }
          },
          "scene": {
           "xaxis": {
            "backgroundcolor": "#E5ECF6",
            "gridcolor": "white",
            "gridwidth": 2,
            "linecolor": "white",
            "showbackground": true,
            "ticks": "",
            "zerolinecolor": "white"
           },
           "yaxis": {
            "backgroundcolor": "#E5ECF6",
            "gridcolor": "white",
            "gridwidth": 2,
            "linecolor": "white",
            "showbackground": true,
            "ticks": "",
            "zerolinecolor": "white"
           },
           "zaxis": {
            "backgroundcolor": "#E5ECF6",
            "gridcolor": "white",
            "gridwidth": 2,
            "linecolor": "white",
            "showbackground": true,
            "ticks": "",
            "zerolinecolor": "white"
           }
          },
          "shapedefaults": {
           "line": {
            "color": "#2a3f5f"
           }
          },
          "ternary": {
           "aaxis": {
            "gridcolor": "white",
            "linecolor": "white",
            "ticks": ""
           },
           "baxis": {
            "gridcolor": "white",
            "linecolor": "white",
            "ticks": ""
           },
           "bgcolor": "#E5ECF6",
           "caxis": {
            "gridcolor": "white",
            "linecolor": "white",
            "ticks": ""
           }
          },
          "title": {
           "x": 0.05
          },
          "xaxis": {
           "automargin": true,
           "gridcolor": "white",
           "linecolor": "white",
           "ticks": "",
           "title": {
            "standoff": 15
           },
           "zerolinecolor": "white",
           "zerolinewidth": 2
          },
          "yaxis": {
           "automargin": true,
           "gridcolor": "white",
           "linecolor": "white",
           "ticks": "",
           "title": {
            "standoff": 15
           },
           "zerolinecolor": "white",
           "zerolinewidth": 2
          }
         }
        },
        "title": {
         "font": {
          "size": 18
         },
         "x": 0.5
        },
        "xaxis": {
         "linewidth": 1,
         "showline": true,
         "tickangle": -70,
         "tickfont": {
          "size": 14
         },
         "ticktext": [
          "0000000",
          "0000001",
          "0000010",
          "0000011",
          "0000100",
          "0000101",
          "0000110",
          "0000111",
          "0001000",
          "0001001",
          "0001010",
          "0001011",
          "0001100",
          "0001101",
          "0001110",
          "0001111",
          "0010000",
          "0010001",
          "0010010",
          "0010011",
          "0010100",
          "0010101",
          "0010110",
          "0010111",
          "0011000",
          "0011001",
          "0011010",
          "0011011",
          "0011100",
          "0011101",
          "0011110",
          "0011111",
          "0100000",
          "0100001",
          "0100010",
          "0100011",
          "0100100",
          "0100101",
          "0100110",
          "0100111",
          "0101000",
          "0101001",
          "0101010",
          "0101011",
          "0101100",
          "0101101",
          "0101110",
          "0101111",
          "0110000",
          "0110001",
          "0110010",
          "0110011",
          "0110100",
          "0110101",
          "0110110",
          "0110111",
          "0111000",
          "0111001",
          "0111010",
          "0111011",
          "0111100",
          "0111101",
          "0111110",
          "0111111",
          "1000000",
          "1000001",
          "1000010",
          "1000011",
          "1000100",
          "1000101",
          "1000110",
          "1000111",
          "1001000",
          "1001001",
          "1001010",
          "1001011",
          "1001100",
          "1001101",
          "1001110",
          "1001111",
          "1010000",
          "1010001",
          "1010010",
          "1010011",
          "1010100",
          "1010101",
          "1010110",
          "1010111",
          "1011000",
          "1011001",
          "1011010",
          "1011011",
          "1011100",
          "1011101",
          "1011110",
          "1011111",
          "1100000",
          "1100001",
          "1100010",
          "1100011",
          "1100100",
          "1100101",
          "1100110",
          "1100111",
          "1101000",
          "1101001",
          "1101010",
          "1101011",
          "1101100",
          "1101101",
          "1101110",
          "1101111",
          "1110000",
          "1110001",
          "1110010",
          "1110011",
          "1110100",
          "1110101",
          "1110110",
          "1110111",
          "1111000",
          "1111001",
          "1111010",
          "1111011",
          "1111100",
          "1111101",
          "1111110",
          "1111111"
         ],
         "tickvals": [
          0,
          1,
          2,
          3,
          4,
          5,
          6,
          7,
          8,
          9,
          10,
          11,
          12,
          13,
          14,
          15,
          16,
          17,
          18,
          19,
          20,
          21,
          22,
          23,
          24,
          25,
          26,
          27,
          28,
          29,
          30,
          31,
          32,
          33,
          34,
          35,
          36,
          37,
          38,
          39,
          40,
          41,
          42,
          43,
          44,
          45,
          46,
          47,
          48,
          49,
          50,
          51,
          52,
          53,
          54,
          55,
          56,
          57,
          58,
          59,
          60,
          61,
          62,
          63,
          64,
          65,
          66,
          67,
          68,
          69,
          70,
          71,
          72,
          73,
          74,
          75,
          76,
          77,
          78,
          79,
          80,
          81,
          82,
          83,
          84,
          85,
          86,
          87,
          88,
          89,
          90,
          91,
          92,
          93,
          94,
          95,
          96,
          97,
          98,
          99,
          100,
          101,
          102,
          103,
          104,
          105,
          106,
          107,
          108,
          109,
          110,
          111,
          112,
          113,
          114,
          115,
          116,
          117,
          118,
          119,
          120,
          121,
          122,
          123,
          124,
          125,
          126,
          127
         ],
         "title": {
          "font": {
           "size": 16
          },
          "text": "Basis state"
         }
        },
        "yaxis": {
         "linewidth": 1,
         "showline": true,
         "tickfont": {
          "size": 14
         },
         "title": {
          "font": {
           "size": 16
          },
          "text": "Probability"
         }
        }
       }
      }
     },
     "metadata": {},
     "output_type": "display_data"
    }
   ],
   "source": [
    "uncertainty_model = GCI(n_z, z_max, probability_default, sensitivity_z) \n",
    "job = execute(uncertainty_model, backend=Aer.get_backend('statevector_simulator'))\n",
    "probability_distribution(job.result().get_counts())"
   ]
  },
  {
   "cell_type": "code",
   "execution_count": 48,
   "metadata": {},
   "outputs": [
    {
     "data": {
      "application/vnd.plotly.v1+json": {
       "config": {
        "displayModeBar": false,
        "editable": false,
        "plotlyServerURL": "https://plot.ly"
       },
       "data": [
        {
         "hoverinfo": "text",
         "hovertext": [
          "<b>0000000</b><br>P = 0.008",
          "<b>0000001</b><br>P = 0.027",
          "<b>0000010</b><br>P = 0.064",
          "<b>0000011</b><br>P = 0.106",
          "<b>0000100</b><br>P = 0.125",
          "<b>0000101</b><br>P = 0.103",
          "<b>0000110</b><br>P = 0.06",
          "<b>0000111</b><br>P = 0.025",
          "<b>0001000</b><br>P = 0.004",
          "<b>0001001</b><br>P = 0.009",
          "<b>0001010</b><br>P = 0.017",
          "<b>0001011</b><br>P = 0.02",
          "<b>0001100</b><br>P = 0.017",
          "<b>0001101</b><br>P = 0.009",
          "<b>0001110</b><br>P = 0.003",
          "<b>0001111</b><br>P = 0.001",
          "<b>0010000</b><br>P = 0.005",
          "<b>0010001</b><br>P = 0.015",
          "<b>0010010</b><br>P = 0.029",
          "<b>0010011</b><br>P = 0.038",
          "<b>0010100</b><br>P = 0.036",
          "<b>0010101</b><br>P = 0.023",
          "<b>0010110</b><br>P = 0.011",
          "<b>0010111</b><br>P = 0.003",
          "<b>0011000</b><br>P = 0.002",
          "<b>0011001</b><br>P = 0.005",
          "<b>0011010</b><br>P = 0.007",
          "<b>0011011</b><br>P = 0.007",
          "<b>0011100</b><br>P = 0.005",
          "<b>0011101</b><br>P = 0.002",
          "<b>0011110</b><br>P = 0.001",
          "<b>0011111</b><br>P = 0.0",
          "<b>0100000</b><br>P = 0.005",
          "<b>0100001</b><br>P = 0.012",
          "<b>0100010</b><br>P = 0.022",
          "<b>0100011</b><br>P = 0.029",
          "<b>0100100</b><br>P = 0.026",
          "<b>0100101</b><br>P = 0.016",
          "<b>0100110</b><br>P = 0.006",
          "<b>0100111</b><br>P = 0.002",
          "<b>0101000</b><br>P = 0.002",
          "<b>0101001</b><br>P = 0.004",
          "<b>0101010</b><br>P = 0.006",
          "<b>0101011</b><br>P = 0.005",
          "<b>0101100</b><br>P = 0.003",
          "<b>0101101</b><br>P = 0.001",
          "<b>0101110</b><br>P = 0.0",
          "<b>0101111</b><br>P = 0.0",
          "<b>0110000</b><br>P = 0.003",
          "<b>0110001</b><br>P = 0.007",
          "<b>0110010</b><br>P = 0.01",
          "<b>0110011</b><br>P = 0.01",
          "<b>0110100</b><br>P = 0.007",
          "<b>0110101</b><br>P = 0.004",
          "<b>0110110</b><br>P = 0.001",
          "<b>0110111</b><br>P = 0.0",
          "<b>0111000</b><br>P = 0.001",
          "<b>0111001</b><br>P = 0.002",
          "<b>0111010</b><br>P = 0.003",
          "<b>0111011</b><br>P = 0.002",
          "<b>0111100</b><br>P = 0.001",
          "<b>0111101</b><br>P = 0.0",
          "<b>0111110</b><br>P = 0.0",
          "<b>0111111</b><br>P = 0.0",
          "<b>1000000</b><br>P = 0.0",
          "<b>1000001</b><br>P = 0.001",
          "<b>1000010</b><br>P = 0.002",
          "<b>1000011</b><br>P = 0.002",
          "<b>1000100</b><br>P = 0.002",
          "<b>1000101</b><br>P = 0.002",
          "<b>1000110</b><br>P = 0.001",
          "<b>1000111</b><br>P = 0.0",
          "<b>1001000</b><br>P = 0.0",
          "<b>1001001</b><br>P = 0.0",
          "<b>1001010</b><br>P = 0.0",
          "<b>1001011</b><br>P = 0.0",
          "<b>1001100</b><br>P = 0.0",
          "<b>1001101</b><br>P = 0.0",
          "<b>1001110</b><br>P = 0.0",
          "<b>1001111</b><br>P = 0.0",
          "<b>1010000</b><br>P = 0.0",
          "<b>1010001</b><br>P = 0.0",
          "<b>1010010</b><br>P = 0.001",
          "<b>1010011</b><br>P = 0.001",
          "<b>1010100</b><br>P = 0.001",
          "<b>1010101</b><br>P = 0.0",
          "<b>1010110</b><br>P = 0.0",
          "<b>1010111</b><br>P = 0.0",
          "<b>1011000</b><br>P = 0.0",
          "<b>1011001</b><br>P = 0.0",
          "<b>1011010</b><br>P = 0.0",
          "<b>1011011</b><br>P = 0.0",
          "<b>1011100</b><br>P = 0.0",
          "<b>1011101</b><br>P = 0.0",
          "<b>1011110</b><br>P = 0.0",
          "<b>1011111</b><br>P = 0.0",
          "<b>1100000</b><br>P = 0.0",
          "<b>1100001</b><br>P = 0.0",
          "<b>1100010</b><br>P = 0.001",
          "<b>1100011</b><br>P = 0.001",
          "<b>1100100</b><br>P = 0.0",
          "<b>1100101</b><br>P = 0.0",
          "<b>1100110</b><br>P = 0.0",
          "<b>1100111</b><br>P = 0.0",
          "<b>1101000</b><br>P = 0.0",
          "<b>1101001</b><br>P = 0.0",
          "<b>1101010</b><br>P = 0.0",
          "<b>1101011</b><br>P = 0.0",
          "<b>1101100</b><br>P = 0.0",
          "<b>1101101</b><br>P = 0.0",
          "<b>1101110</b><br>P = 0.0",
          "<b>1101111</b><br>P = 0.0",
          "<b>1110000</b><br>P = 0.0",
          "<b>1110001</b><br>P = 0.0",
          "<b>1110010</b><br>P = 0.0",
          "<b>1110011</b><br>P = 0.0",
          "<b>1110100</b><br>P = 0.0",
          "<b>1110101</b><br>P = 0.0",
          "<b>1110110</b><br>P = 0.0",
          "<b>1110111</b><br>P = 0.0",
          "<b>1111000</b><br>P = 0.0",
          "<b>1111001</b><br>P = 0.0",
          "<b>1111010</b><br>P = 0.0",
          "<b>1111011</b><br>P = 0.0",
          "<b>1111100</b><br>P = 0.0",
          "<b>1111101</b><br>P = 0.0",
          "<b>1111110</b><br>P = 0.0",
          "<b>1111111</b><br>P = 0.0"
         ],
         "marker": {
          "color": "#6929c4"
         },
         "name": "",
         "text": [
          0.008,
          0.027,
          0.064,
          0.106,
          0.125,
          0.103,
          0.06,
          0.025,
          0.004,
          0.009,
          0.017,
          0.02,
          0.017,
          0.009,
          0.003,
          0.001,
          0.005,
          0.015,
          0.029,
          0.038,
          0.036,
          0.023,
          0.011,
          0.003,
          0.002,
          0.005,
          0.007,
          0.007,
          0.005,
          0.002,
          0.001,
          0,
          0.005,
          0.012,
          0.022,
          0.029,
          0.026,
          0.016,
          0.006,
          0.002,
          0.002,
          0.004,
          0.006,
          0.005,
          0.003,
          0.001,
          0,
          0,
          0.003,
          0.007,
          0.01,
          0.01,
          0.007,
          0.004,
          0.001,
          0,
          0.001,
          0.002,
          0.003,
          0.002,
          0.001,
          0,
          0,
          0,
          0,
          0.001,
          0.002,
          0.002,
          0.002,
          0.002,
          0.001,
          0,
          0,
          0,
          0,
          0,
          0,
          0,
          0,
          0,
          0,
          0,
          0.001,
          0.001,
          0.001,
          0,
          0,
          0,
          0,
          0,
          0,
          0,
          0,
          0,
          0,
          0,
          0,
          0,
          0.001,
          0.001,
          0,
          0,
          0,
          0,
          0,
          0,
          0,
          0,
          0,
          0,
          0,
          0,
          0,
          0,
          0,
          0,
          0,
          0,
          0,
          0,
          0,
          0,
          0,
          0,
          0,
          0,
          0,
          0
         ],
         "textposition": "auto",
         "type": "bar",
         "width": 0.5,
         "x": [
          0,
          1,
          2,
          3,
          4,
          5,
          6,
          7,
          8,
          9,
          10,
          11,
          12,
          13,
          14,
          15,
          16,
          17,
          18,
          19,
          20,
          21,
          22,
          23,
          24,
          25,
          26,
          27,
          28,
          29,
          30,
          31,
          32,
          33,
          34,
          35,
          36,
          37,
          38,
          39,
          40,
          41,
          42,
          43,
          44,
          45,
          46,
          47,
          48,
          49,
          50,
          51,
          52,
          53,
          54,
          55,
          56,
          57,
          58,
          59,
          60,
          61,
          62,
          63,
          64,
          65,
          66,
          67,
          68,
          69,
          70,
          71,
          72,
          73,
          74,
          75,
          76,
          77,
          78,
          79,
          80,
          81,
          82,
          83,
          84,
          85,
          86,
          87,
          88,
          89,
          90,
          91,
          92,
          93,
          94,
          95,
          96,
          97,
          98,
          99,
          100,
          101,
          102,
          103,
          104,
          105,
          106,
          107,
          108,
          109,
          110,
          111,
          112,
          113,
          114,
          115,
          116,
          117,
          118,
          119,
          120,
          121,
          122,
          123,
          124,
          125,
          126,
          127
         ],
         "y": [
          0.008079886775367992,
          0.02712058958849397,
          0.06399978715169594,
          0.10635794718218088,
          0.12464443468433387,
          0.10312907519109289,
          0.06029742454072393,
          0.024931740687845972,
          0.003659004212385996,
          0.00937700559929599,
          0.016577153311986982,
          0.02009058266915998,
          0.016527068855172983,
          0.009078732043992989,
          0.0032360506052399964,
          0.0007073054677899992,
          0.005388311483416994,
          0.014841137227335984,
          0.028569733337431968,
          0.03841205011833196,
          0.036017981446461955,
          0.02349748654917397,
          0.010626415077459988,
          0.0033131786435369967,
          0.0024401151852249973,
          0.005131356987153994,
          0.007400100386187992,
          0.007255879685909992,
          0.004775758026401995,
          0.002068547436229998,
          0.0005702999291409993,
          0.0000939938129339999,
          0.004533936107858995,
          0.012085093202827987,
          0.022406502999692976,
          0.028823382744350968,
          0.02562108363437197,
          0.015638752586111984,
          0.006490937153943993,
          0.0018031898352389982,
          0.0020532083899889976,
          0.004178448490625996,
          0.005803707355009994,
          0.005444619505849994,
          0.0033971947038129962,
          0.0013767217825679985,
          0.0003483565221169996,
          0.00005115591590199995,
          0.0030235893984959963,
          0.006613297474343993,
          0.01000234288605199,
          0.010409802481984988,
          0.007403617476528992,
          0.003563218014484996,
          0.0011439193790599986,
          0.00023962586997699974,
          0.0013692427447559985,
          0.0022865626591339976,
          0.002590795671055997,
          0.001966369254717998,
          0.000981673157905999,
          0.0003136797407319997,
          0.00006139202506799993,
          0.000006798108891999992,
          0.0002513014397159997,
          0.0007493806821949992,
          0.0015600819794129982,
          0.0022690694748109972,
          0.0023062616539979972,
          0.0016376337173419982,
          0.0008117471157439992,
          0.0002804719273299997,
          0.00011380271185299988,
          0.00025910007708399973,
          0.0004040906900309996,
          0.0004286179742419995,
          0.00030579580428299967,
          0.00014416533531799985,
          0.000043564957627999954,
          0.000007956898406999991,
          0.0001675877980799998,
          0.0004100818495729996,
          0.0006964261620229993,
          0.0008194931615139991,
          0.0006664307931179992,
          0.00037312732781099954,
          0.00014305688601999985,
          0.00003727191018799996,
          0.00007589270446099992,
          0.00014178673317799984,
          0.0001803875258359998,
          0.00015479891765899983,
          0.0000883645357529999,
          0.00003284741011399996,
          0.00000767759694699999,
          0.0000010573921089999988,
          0.00014101493042699984,
          0.0003339284110759996,
          0.0005461890282329994,
          0.0006149259145999994,
          0.00047405985569699946,
          0.00024833489958799975,
          0.00008738349196999991,
          0.000020285151155999975,
          0.00006385909094899993,
          0.00011545650842899988,
          0.00014147327141699983,
          0.00011615699860699987,
          0.00006285735818399993,
          0.000021861594378999977,
          0.000004689709456999995,
          5.754832169999994e-7,
          0.00009403997730099989,
          0.00018273486852899982,
          0.00024382073101999972,
          0.00022208556742999976,
          0.00013698709557499983,
          0.00005658196732499994,
          0.000015399882559999982,
          0.000002695693430999997,
          0.000042586323625999956,
          0.00006318099685099993,
          0.00006315417314099994,
          0.00004195105838599995,
          0.00001816362813599998,
          0.000004981063961999994,
          8.26483048999999e-7,
          7.647595599999992e-8
         ]
        }
       ],
       "layout": {
        "font": {
         "color": "#000000"
        },
        "paper_bgcolor": "#ffffff",
        "plot_bgcolor": "#e5e0df",
        "showlegend": false,
        "template": {
         "data": {
          "bar": [
           {
            "error_x": {
             "color": "#2a3f5f"
            },
            "error_y": {
             "color": "#2a3f5f"
            },
            "marker": {
             "line": {
              "color": "#E5ECF6",
              "width": 0.5
             }
            },
            "type": "bar"
           }
          ],
          "barpolar": [
           {
            "marker": {
             "line": {
              "color": "#E5ECF6",
              "width": 0.5
             }
            },
            "type": "barpolar"
           }
          ],
          "carpet": [
           {
            "aaxis": {
             "endlinecolor": "#2a3f5f",
             "gridcolor": "white",
             "linecolor": "white",
             "minorgridcolor": "white",
             "startlinecolor": "#2a3f5f"
            },
            "baxis": {
             "endlinecolor": "#2a3f5f",
             "gridcolor": "white",
             "linecolor": "white",
             "minorgridcolor": "white",
             "startlinecolor": "#2a3f5f"
            },
            "type": "carpet"
           }
          ],
          "choropleth": [
           {
            "colorbar": {
             "outlinewidth": 0,
             "ticks": ""
            },
            "type": "choropleth"
           }
          ],
          "contour": [
           {
            "colorbar": {
             "outlinewidth": 0,
             "ticks": ""
            },
            "colorscale": [
             [
              0,
              "#0d0887"
             ],
             [
              0.1111111111111111,
              "#46039f"
             ],
             [
              0.2222222222222222,
              "#7201a8"
             ],
             [
              0.3333333333333333,
              "#9c179e"
             ],
             [
              0.4444444444444444,
              "#bd3786"
             ],
             [
              0.5555555555555556,
              "#d8576b"
             ],
             [
              0.6666666666666666,
              "#ed7953"
             ],
             [
              0.7777777777777778,
              "#fb9f3a"
             ],
             [
              0.8888888888888888,
              "#fdca26"
             ],
             [
              1,
              "#f0f921"
             ]
            ],
            "type": "contour"
           }
          ],
          "contourcarpet": [
           {
            "colorbar": {
             "outlinewidth": 0,
             "ticks": ""
            },
            "type": "contourcarpet"
           }
          ],
          "heatmap": [
           {
            "colorbar": {
             "outlinewidth": 0,
             "ticks": ""
            },
            "colorscale": [
             [
              0,
              "#0d0887"
             ],
             [
              0.1111111111111111,
              "#46039f"
             ],
             [
              0.2222222222222222,
              "#7201a8"
             ],
             [
              0.3333333333333333,
              "#9c179e"
             ],
             [
              0.4444444444444444,
              "#bd3786"
             ],
             [
              0.5555555555555556,
              "#d8576b"
             ],
             [
              0.6666666666666666,
              "#ed7953"
             ],
             [
              0.7777777777777778,
              "#fb9f3a"
             ],
             [
              0.8888888888888888,
              "#fdca26"
             ],
             [
              1,
              "#f0f921"
             ]
            ],
            "type": "heatmap"
           }
          ],
          "heatmapgl": [
           {
            "colorbar": {
             "outlinewidth": 0,
             "ticks": ""
            },
            "colorscale": [
             [
              0,
              "#0d0887"
             ],
             [
              0.1111111111111111,
              "#46039f"
             ],
             [
              0.2222222222222222,
              "#7201a8"
             ],
             [
              0.3333333333333333,
              "#9c179e"
             ],
             [
              0.4444444444444444,
              "#bd3786"
             ],
             [
              0.5555555555555556,
              "#d8576b"
             ],
             [
              0.6666666666666666,
              "#ed7953"
             ],
             [
              0.7777777777777778,
              "#fb9f3a"
             ],
             [
              0.8888888888888888,
              "#fdca26"
             ],
             [
              1,
              "#f0f921"
             ]
            ],
            "type": "heatmapgl"
           }
          ],
          "histogram": [
           {
            "marker": {
             "colorbar": {
              "outlinewidth": 0,
              "ticks": ""
             }
            },
            "type": "histogram"
           }
          ],
          "histogram2d": [
           {
            "colorbar": {
             "outlinewidth": 0,
             "ticks": ""
            },
            "colorscale": [
             [
              0,
              "#0d0887"
             ],
             [
              0.1111111111111111,
              "#46039f"
             ],
             [
              0.2222222222222222,
              "#7201a8"
             ],
             [
              0.3333333333333333,
              "#9c179e"
             ],
             [
              0.4444444444444444,
              "#bd3786"
             ],
             [
              0.5555555555555556,
              "#d8576b"
             ],
             [
              0.6666666666666666,
              "#ed7953"
             ],
             [
              0.7777777777777778,
              "#fb9f3a"
             ],
             [
              0.8888888888888888,
              "#fdca26"
             ],
             [
              1,
              "#f0f921"
             ]
            ],
            "type": "histogram2d"
           }
          ],
          "histogram2dcontour": [
           {
            "colorbar": {
             "outlinewidth": 0,
             "ticks": ""
            },
            "colorscale": [
             [
              0,
              "#0d0887"
             ],
             [
              0.1111111111111111,
              "#46039f"
             ],
             [
              0.2222222222222222,
              "#7201a8"
             ],
             [
              0.3333333333333333,
              "#9c179e"
             ],
             [
              0.4444444444444444,
              "#bd3786"
             ],
             [
              0.5555555555555556,
              "#d8576b"
             ],
             [
              0.6666666666666666,
              "#ed7953"
             ],
             [
              0.7777777777777778,
              "#fb9f3a"
             ],
             [
              0.8888888888888888,
              "#fdca26"
             ],
             [
              1,
              "#f0f921"
             ]
            ],
            "type": "histogram2dcontour"
           }
          ],
          "mesh3d": [
           {
            "colorbar": {
             "outlinewidth": 0,
             "ticks": ""
            },
            "type": "mesh3d"
           }
          ],
          "parcoords": [
           {
            "line": {
             "colorbar": {
              "outlinewidth": 0,
              "ticks": ""
             }
            },
            "type": "parcoords"
           }
          ],
          "pie": [
           {
            "automargin": true,
            "type": "pie"
           }
          ],
          "scatter": [
           {
            "marker": {
             "colorbar": {
              "outlinewidth": 0,
              "ticks": ""
             }
            },
            "type": "scatter"
           }
          ],
          "scatter3d": [
           {
            "line": {
             "colorbar": {
              "outlinewidth": 0,
              "ticks": ""
             }
            },
            "marker": {
             "colorbar": {
              "outlinewidth": 0,
              "ticks": ""
             }
            },
            "type": "scatter3d"
           }
          ],
          "scattercarpet": [
           {
            "marker": {
             "colorbar": {
              "outlinewidth": 0,
              "ticks": ""
             }
            },
            "type": "scattercarpet"
           }
          ],
          "scattergeo": [
           {
            "marker": {
             "colorbar": {
              "outlinewidth": 0,
              "ticks": ""
             }
            },
            "type": "scattergeo"
           }
          ],
          "scattergl": [
           {
            "marker": {
             "colorbar": {
              "outlinewidth": 0,
              "ticks": ""
             }
            },
            "type": "scattergl"
           }
          ],
          "scattermapbox": [
           {
            "marker": {
             "colorbar": {
              "outlinewidth": 0,
              "ticks": ""
             }
            },
            "type": "scattermapbox"
           }
          ],
          "scatterpolar": [
           {
            "marker": {
             "colorbar": {
              "outlinewidth": 0,
              "ticks": ""
             }
            },
            "type": "scatterpolar"
           }
          ],
          "scatterpolargl": [
           {
            "marker": {
             "colorbar": {
              "outlinewidth": 0,
              "ticks": ""
             }
            },
            "type": "scatterpolargl"
           }
          ],
          "scatterternary": [
           {
            "marker": {
             "colorbar": {
              "outlinewidth": 0,
              "ticks": ""
             }
            },
            "type": "scatterternary"
           }
          ],
          "surface": [
           {
            "colorbar": {
             "outlinewidth": 0,
             "ticks": ""
            },
            "colorscale": [
             [
              0,
              "#0d0887"
             ],
             [
              0.1111111111111111,
              "#46039f"
             ],
             [
              0.2222222222222222,
              "#7201a8"
             ],
             [
              0.3333333333333333,
              "#9c179e"
             ],
             [
              0.4444444444444444,
              "#bd3786"
             ],
             [
              0.5555555555555556,
              "#d8576b"
             ],
             [
              0.6666666666666666,
              "#ed7953"
             ],
             [
              0.7777777777777778,
              "#fb9f3a"
             ],
             [
              0.8888888888888888,
              "#fdca26"
             ],
             [
              1,
              "#f0f921"
             ]
            ],
            "type": "surface"
           }
          ],
          "table": [
           {
            "cells": {
             "fill": {
              "color": "#EBF0F8"
             },
             "line": {
              "color": "white"
             }
            },
            "header": {
             "fill": {
              "color": "#C8D4E3"
             },
             "line": {
              "color": "white"
             }
            },
            "type": "table"
           }
          ]
         },
         "layout": {
          "annotationdefaults": {
           "arrowcolor": "#2a3f5f",
           "arrowhead": 0,
           "arrowwidth": 1
          },
          "autotypenumbers": "strict",
          "coloraxis": {
           "colorbar": {
            "outlinewidth": 0,
            "ticks": ""
           }
          },
          "colorscale": {
           "diverging": [
            [
             0,
             "#8e0152"
            ],
            [
             0.1,
             "#c51b7d"
            ],
            [
             0.2,
             "#de77ae"
            ],
            [
             0.3,
             "#f1b6da"
            ],
            [
             0.4,
             "#fde0ef"
            ],
            [
             0.5,
             "#f7f7f7"
            ],
            [
             0.6,
             "#e6f5d0"
            ],
            [
             0.7,
             "#b8e186"
            ],
            [
             0.8,
             "#7fbc41"
            ],
            [
             0.9,
             "#4d9221"
            ],
            [
             1,
             "#276419"
            ]
           ],
           "sequential": [
            [
             0,
             "#0d0887"
            ],
            [
             0.1111111111111111,
             "#46039f"
            ],
            [
             0.2222222222222222,
             "#7201a8"
            ],
            [
             0.3333333333333333,
             "#9c179e"
            ],
            [
             0.4444444444444444,
             "#bd3786"
            ],
            [
             0.5555555555555556,
             "#d8576b"
            ],
            [
             0.6666666666666666,
             "#ed7953"
            ],
            [
             0.7777777777777778,
             "#fb9f3a"
            ],
            [
             0.8888888888888888,
             "#fdca26"
            ],
            [
             1,
             "#f0f921"
            ]
           ],
           "sequentialminus": [
            [
             0,
             "#0d0887"
            ],
            [
             0.1111111111111111,
             "#46039f"
            ],
            [
             0.2222222222222222,
             "#7201a8"
            ],
            [
             0.3333333333333333,
             "#9c179e"
            ],
            [
             0.4444444444444444,
             "#bd3786"
            ],
            [
             0.5555555555555556,
             "#d8576b"
            ],
            [
             0.6666666666666666,
             "#ed7953"
            ],
            [
             0.7777777777777778,
             "#fb9f3a"
            ],
            [
             0.8888888888888888,
             "#fdca26"
            ],
            [
             1,
             "#f0f921"
            ]
           ]
          },
          "colorway": [
           "#636efa",
           "#EF553B",
           "#00cc96",
           "#ab63fa",
           "#FFA15A",
           "#19d3f3",
           "#FF6692",
           "#B6E880",
           "#FF97FF",
           "#FECB52"
          ],
          "font": {
           "color": "#2a3f5f"
          },
          "geo": {
           "bgcolor": "white",
           "lakecolor": "white",
           "landcolor": "#E5ECF6",
           "showlakes": true,
           "showland": true,
           "subunitcolor": "white"
          },
          "hoverlabel": {
           "align": "left"
          },
          "hovermode": "closest",
          "mapbox": {
           "style": "light"
          },
          "paper_bgcolor": "white",
          "plot_bgcolor": "#E5ECF6",
          "polar": {
           "angularaxis": {
            "gridcolor": "white",
            "linecolor": "white",
            "ticks": ""
           },
           "bgcolor": "#E5ECF6",
           "radialaxis": {
            "gridcolor": "white",
            "linecolor": "white",
            "ticks": ""
           }
          },
          "scene": {
           "xaxis": {
            "backgroundcolor": "#E5ECF6",
            "gridcolor": "white",
            "gridwidth": 2,
            "linecolor": "white",
            "showbackground": true,
            "ticks": "",
            "zerolinecolor": "white"
           },
           "yaxis": {
            "backgroundcolor": "#E5ECF6",
            "gridcolor": "white",
            "gridwidth": 2,
            "linecolor": "white",
            "showbackground": true,
            "ticks": "",
            "zerolinecolor": "white"
           },
           "zaxis": {
            "backgroundcolor": "#E5ECF6",
            "gridcolor": "white",
            "gridwidth": 2,
            "linecolor": "white",
            "showbackground": true,
            "ticks": "",
            "zerolinecolor": "white"
           }
          },
          "shapedefaults": {
           "line": {
            "color": "#2a3f5f"
           }
          },
          "ternary": {
           "aaxis": {
            "gridcolor": "white",
            "linecolor": "white",
            "ticks": ""
           },
           "baxis": {
            "gridcolor": "white",
            "linecolor": "white",
            "ticks": ""
           },
           "bgcolor": "#E5ECF6",
           "caxis": {
            "gridcolor": "white",
            "linecolor": "white",
            "ticks": ""
           }
          },
          "title": {
           "x": 0.05
          },
          "xaxis": {
           "automargin": true,
           "gridcolor": "white",
           "linecolor": "white",
           "ticks": "",
           "title": {
            "standoff": 15
           },
           "zerolinecolor": "white",
           "zerolinewidth": 2
          },
          "yaxis": {
           "automargin": true,
           "gridcolor": "white",
           "linecolor": "white",
           "ticks": "",
           "title": {
            "standoff": 15
           },
           "zerolinecolor": "white",
           "zerolinewidth": 2
          }
         }
        },
        "title": {
         "font": {
          "size": 18
         },
         "x": 0.5
        },
        "xaxis": {
         "linewidth": 1,
         "showline": true,
         "tickangle": -70,
         "tickfont": {
          "size": 14
         },
         "ticktext": [
          "0000000",
          "0000001",
          "0000010",
          "0000011",
          "0000100",
          "0000101",
          "0000110",
          "0000111",
          "0001000",
          "0001001",
          "0001010",
          "0001011",
          "0001100",
          "0001101",
          "0001110",
          "0001111",
          "0010000",
          "0010001",
          "0010010",
          "0010011",
          "0010100",
          "0010101",
          "0010110",
          "0010111",
          "0011000",
          "0011001",
          "0011010",
          "0011011",
          "0011100",
          "0011101",
          "0011110",
          "0011111",
          "0100000",
          "0100001",
          "0100010",
          "0100011",
          "0100100",
          "0100101",
          "0100110",
          "0100111",
          "0101000",
          "0101001",
          "0101010",
          "0101011",
          "0101100",
          "0101101",
          "0101110",
          "0101111",
          "0110000",
          "0110001",
          "0110010",
          "0110011",
          "0110100",
          "0110101",
          "0110110",
          "0110111",
          "0111000",
          "0111001",
          "0111010",
          "0111011",
          "0111100",
          "0111101",
          "0111110",
          "0111111",
          "1000000",
          "1000001",
          "1000010",
          "1000011",
          "1000100",
          "1000101",
          "1000110",
          "1000111",
          "1001000",
          "1001001",
          "1001010",
          "1001011",
          "1001100",
          "1001101",
          "1001110",
          "1001111",
          "1010000",
          "1010001",
          "1010010",
          "1010011",
          "1010100",
          "1010101",
          "1010110",
          "1010111",
          "1011000",
          "1011001",
          "1011010",
          "1011011",
          "1011100",
          "1011101",
          "1011110",
          "1011111",
          "1100000",
          "1100001",
          "1100010",
          "1100011",
          "1100100",
          "1100101",
          "1100110",
          "1100111",
          "1101000",
          "1101001",
          "1101010",
          "1101011",
          "1101100",
          "1101101",
          "1101110",
          "1101111",
          "1110000",
          "1110001",
          "1110010",
          "1110011",
          "1110100",
          "1110101",
          "1110110",
          "1110111",
          "1111000",
          "1111001",
          "1111010",
          "1111011",
          "1111100",
          "1111101",
          "1111110",
          "1111111"
         ],
         "tickvals": [
          0,
          1,
          2,
          3,
          4,
          5,
          6,
          7,
          8,
          9,
          10,
          11,
          12,
          13,
          14,
          15,
          16,
          17,
          18,
          19,
          20,
          21,
          22,
          23,
          24,
          25,
          26,
          27,
          28,
          29,
          30,
          31,
          32,
          33,
          34,
          35,
          36,
          37,
          38,
          39,
          40,
          41,
          42,
          43,
          44,
          45,
          46,
          47,
          48,
          49,
          50,
          51,
          52,
          53,
          54,
          55,
          56,
          57,
          58,
          59,
          60,
          61,
          62,
          63,
          64,
          65,
          66,
          67,
          68,
          69,
          70,
          71,
          72,
          73,
          74,
          75,
          76,
          77,
          78,
          79,
          80,
          81,
          82,
          83,
          84,
          85,
          86,
          87,
          88,
          89,
          90,
          91,
          92,
          93,
          94,
          95,
          96,
          97,
          98,
          99,
          100,
          101,
          102,
          103,
          104,
          105,
          106,
          107,
          108,
          109,
          110,
          111,
          112,
          113,
          114,
          115,
          116,
          117,
          118,
          119,
          120,
          121,
          122,
          123,
          124,
          125,
          126,
          127
         ],
         "title": {
          "font": {
           "size": 16
          },
          "text": "Basis state"
         }
        },
        "yaxis": {
         "linewidth": 1,
         "showline": true,
         "tickfont": {
          "size": 14
         },
         "title": {
          "font": {
           "size": 16
          },
          "text": "Probability"
         }
        }
       }
      }
     },
     "metadata": {},
     "output_type": "display_data"
    }
   ],
   "source": [
    "probability_distribution(job.result().get_counts())"
   ]
  },
  {
   "cell_type": "code",
   "execution_count": 9,
   "metadata": {
    "slideshow": {
     "slide_type": "subslide"
    }
   },
   "outputs": [
    {
     "data": {
      "image/png": "[encoded data removed]",
      "text/plain": [
       "<Figure size 628.397x445.48 with 1 Axes>"
      ]
     },
     "execution_count": 9,
     "metadata": {},
     "output_type": "execute_result"
    }
   ],
   "source": [
    "uncertainty_model.draw('mpl')"
   ]
  },
  {
   "cell_type": "markdown",
   "metadata": {
    "slideshow": {
     "slide_type": "subslide"
    }
   },
   "source": [
    "### Quantum Probability Distributions\n",
    "\n",
    "Here you can see some more details on how to create Probability distributions with Qiskit and Quantum Circuits\n",
    "\n",
    "https://github.com/sergiogh/upc_credit_risk/blob/main/Probability%20Distributions%20and%20AE.ipynb"
   ]
  },
  {
   "cell_type": "code",
   "execution_count": 10,
   "metadata": {
    "scrolled": false,
    "slideshow": {
     "slide_type": "slide"
    }
   },
   "outputs": [
    {
     "name": "stderr",
     "output_type": "stream",
     "text": [
      "/Users/sergiogago/opt/anaconda3/lib/python3.8/site-packages/qiskit/finance/applications/gaussian_conditional_independence_model.py:83: DeprecationWarning:\n",
      "\n",
      "`NormalDistribution` is deprecated as of version 0.17.0 and will be removed no earlier than 3 months after the release date. It moved to qiskit_finance.circuit.library.NormalDistribution.\n",
      "\n"
     ]
    }
   ],
   "source": [
    "## Sample all results and evaluate probabilities. Effectively this is like \n",
    "# running a MC method but we are too lazy to build the PF clasically :) \n",
    "\n",
    "uncertainty_model = GCI(n_z, z_max, probability_default, sensitivity_z) \n",
    "job = execute(uncertainty_model, backend=Aer.get_backend('statevector_simulator'))\n",
    "\n",
    "p_z = np.zeros(2**n_z)\n",
    "p_default = np.zeros(K)\n",
    "values = []\n",
    "probabilities = []\n",
    "num_qubits = uncertainty_model.num_qubits\n",
    "for i, a in enumerate(job.result().get_statevector()):\n",
    "    # get binary representation\n",
    "    b = ('{0:0%sb}' % num_qubits).format(i)\n",
    "    prob = np.abs(a)**2\n",
    "    # extract value of Z and corresponding probability    \n",
    "    # Note Z i mapped in the least significant n_z qubits. We add probabilities for each element in the distribution\n",
    "    i_normal = int(b[-n_z:], 2)\n",
    "    p_z[i_normal] += prob\n",
    "\n",
    "    # determine overall default probability for k \n",
    "    # Most significant qubits represent 1 for default of that asset.\n",
    "    loss = 0\n",
    "    for k in range(K):\n",
    "        if b[K - k - 1] == '1':\n",
    "            p_default[k] += prob\n",
    "            loss += loss_given_default[k]\n",
    "    values += [loss]\n",
    "    probabilities += [prob]   \n",
    "\n",
    "values = np.array(values)\n",
    "probabilities = np.array(probabilities)\n",
    "    \n",
    "# L = λ1*X1(Z) + λ2*X2(Z) + ... + λn*Xn(Z)\n",
    "expected_loss = np.dot(values, probabilities)\n",
    "\n",
    "losses = np.sort(np.unique(values))\n",
    "pdf = np.zeros(len(losses))\n",
    "for i, v in enumerate(losses):\n",
    "    pdf[i] += sum(probabilities[values == v])\n",
    "cdf = np.cumsum(pdf)\n",
    "\n",
    "i_var = np.argmax(cdf >= 1-alpha)\n",
    "exact_var = losses[i_var]\n",
    "exact_cvar = np.dot(pdf[(i_var+1):], losses[(i_var+1):])/sum(pdf[(i_var+1):])\n",
    "\n",
    "# Calculate P[L <= VaR[L]]\n",
    "alpha_point = np.where(values == exact_var)[0].min()\n",
    "p_l_less_than_var = cdf[exact_var]"
   ]
  },
  {
   "cell_type": "code",
   "execution_count": 11,
   "metadata": {
    "scrolled": false,
    "slideshow": {
     "slide_type": "slide"
    }
   },
   "outputs": [
    {
     "data": {
      "image/png": "[encoded data removed]",
      "text/plain": [
       "<Figure size 432x288 with 1 Axes>"
      ]
     },
     "metadata": {
      "needs_background": "light"
     },
     "output_type": "display_data"
    }
   ],
   "source": [
    "plt.bar(losses, pdf, width=1)\n",
    "plt.xlabel('Expected Loss', size=15)\n",
    "plt.ylabel('Probability', size=15)\n",
    "plt.title('Expected Loss probability distribution', size=20)\n",
    "plt.xticks(values, size=10, rotation=90)\n",
    "plt.yticks(size=15)\n",
    "plt.grid()\n",
    "plt.show()"
   ]
  },
  {
   "cell_type": "code",
   "execution_count": 12,
   "metadata": {
    "scrolled": false,
    "slideshow": {
     "slide_type": "slide"
    }
   },
   "outputs": [
    {
     "data": {
      "image/png": "[encoded data removed]",
      "text/plain": [
       "<Figure size 432x288 with 1 Axes>"
      ]
     },
     "metadata": {
      "needs_background": "light"
     },
     "output_type": "display_data"
    }
   ],
   "source": [
    "plt.plot(np.unique(values), cdf, label=\"CDF\")\n",
    "plt.plot(np.unique(values), pdf, label=\"PDF\")\n",
    "plt.xlabel('Expected Loss (L) ($ \\'000)', size=15)\n",
    "plt.ylabel('Probability (%)', size=15)\n",
    "plt.title('Expected Loss Probabilities', size=20)\n",
    "plt.xticks(values, size=10, rotation=90)\n",
    "plt.yticks(size=15)\n",
    "plt.axvline(expected_loss, color='green', linestyle='--', label='E[L]')\n",
    "plt.axvline(exact_var, color='orange', linestyle='--', label='VaR(L)')\n",
    "plt.axvline(exact_cvar, color='red', linestyle='--', label='CVaR(L)')\n",
    "plt.legend()\n",
    "plt.grid()\n",
    "plt.show()\n"
   ]
  },
  {
   "cell_type": "code",
   "execution_count": 13,
   "metadata": {
    "scrolled": false,
    "slideshow": {
     "slide_type": "slide"
    }
   },
   "outputs": [
    {
     "data": {
      "image/png": "[encoded data removed]",
      "text/plain": [
       "<Figure size 432x288 with 1 Axes>"
      ]
     },
     "metadata": {
      "needs_background": "light"
     },
     "output_type": "display_data"
    }
   ],
   "source": [
    "# plot results for Z\n",
    "plt.plot(z_values, p_z, 'o-', linewidth=3, markersize=8)\n",
    "plt.grid()\n",
    "plt.xlabel('Z value', size=15)\n",
    "plt.ylabel('probability (%)', size=15)\n",
    "plt.title('Z Distribution', size=20)\n",
    "plt.xticks(size=15)\n",
    "plt.yticks(size=15)\n",
    "plt.show()"
   ]
  },
  {
   "cell_type": "code",
   "execution_count": 14,
   "metadata": {
    "scrolled": false,
    "slideshow": {
     "slide_type": "slide"
    },
    "tags": []
   },
   "outputs": [
    {
     "name": "stdout",
     "output_type": "stream",
     "text": [
      "LGD:  [1, 2, 3, 4]  Total Assets value: $    1,000,000\n",
      "Assets:  4\n",
      "Assets default Probabilities:  [0.15, 0.25, 0.2, 0.02]\n",
      "Expected Loss E[L]:                $      130,715\n",
      "Value at Risk VaR[L](0.10):        $      300,000\n",
      "P[L <= VaR[L]](0.10):              0.9056\n",
      "Conditional Value at Risk CVaR[L]: $      492,839\n"
     ]
    }
   ],
   "source": [
    "\n",
    "print('LGD: ', loss_given_default, ' Total Assets value: $ {0:12,.0f}'.format(sum(loss_given_default)*lgd_factor))\n",
    "print('Assets: ', K)\n",
    "print('Assets default Probabilities: ', probability_default)\n",
    "print('Expected Loss E[L]:                $ {0:12,.0f}'.format(expected_loss*lgd_factor))\n",
    "print('Value at Risk VaR[L](%.2f):        $ {0:12,.0f}'.format((exact_var*lgd_factor)) % (alpha))\n",
    "print('P[L <= VaR[L]](%.2f):              %.4f' % (alpha, p_l_less_than_var))\n",
    "print('Conditional Value at Risk CVaR[L]: $ {0:12,.0f}'.format(exact_cvar*lgd_factor))\n"
   ]
  },
  {
   "cell_type": "markdown",
   "metadata": {
    "slideshow": {
     "slide_type": "slide"
    }
   },
   "source": [
    "# Part 2 - Expected Loss with Quantum and QAE\n",
    "_Bring it on_"
   ]
  },
  {
   "cell_type": "markdown",
   "metadata": {
    "slideshow": {
     "slide_type": "slide"
    }
   },
   "source": [
    "## Iterative Quantum Amplitude Estimation\n",
    "\n",
    "\n",
    "QAE is very expensive, requires many ancillas to obtain a proper estimation of the value and several powers of Q. However we can realize that (from Woerner's IQAE paper) the probability of measuring |1⟩ in the last qubit is given by\n",
    "$P[|1⟩] = sin^2((2k + 1)θ_a)$\n",
    "\n",
    "We can then estimate for the last Qubit $Q^k\\mathcal{A}|0\\rangle_n |0\\rangle$ with some confidence interval... and success!\n",
    "\n",
    "We do that by iteratively take samples ok K using a bisection search (i.e. running the whole algorithm several times) until we reach the confidence level). See below how the magic happens.\n",
    "\n",
    "With that we are able to run this problem in noisy computers and increase the problem size (from 4-5 assets to almost 20, peanuts, but bigger peanuts!)\n",
    "\n",
    "\n"
   ]
  },
  {
   "cell_type": "markdown",
   "metadata": {
    "slideshow": {
     "slide_type": "slide"
    }
   },
   "source": [
    "![](imgs/iqae_algorithm.png)"
   ]
  },
  {
   "cell_type": "markdown",
   "metadata": {
    "slideshow": {
     "slide_type": "subslide"
    }
   },
   "source": [
    "## More on QAE\n",
    "\n",
    "You will not believe what happens if you create your own QAE circuit by yourself and run it in a noisy device. The answer will surprise you:\n",
    "https://github.com/sergiogh/upc_credit_risk/blob/main/Amplitude%20Estimation%20v2.ipynb"
   ]
  },
  {
   "cell_type": "markdown",
   "metadata": {
    "slideshow": {
     "slide_type": "slide"
    }
   },
   "source": [
    "## Expected Loss\n",
    "\n",
    "To estimate the expected loss, we first apply a weighted sum operator to sum up individual losses to total loss:\n",
    "\n",
    "$$ \\mathcal{S}: |x_1, ..., x_K \\rangle_K |0\\rangle_{n_S} \\mapsto |x_1, ..., x_K \\rangle_K |\\lambda_1x_1 + ... + \\lambda_K x_K\\rangle_{n_S}. $$\n",
    "\n",
    "The required number of qubits to represent the result is given by\n",
    "\n",
    "$$ n_s = \\lfloor \\log_2( \\lambda_1 + ... + \\lambda_K ) \\rfloor + 1. $$\n",
    "\n",
    "Once we have the total loss distribution in a quantum register, we can use the techniques described in [Woerner2019] to map a total loss $L \\in \\{0, ..., 2^{n_s}-1\\}$ to the amplitude of an objective qubit by an operator\n",
    "\n",
    "$$ | L \\rangle_{n_s}|0\\rangle \\mapsto | L \\rangle_{n_s} \\left( \\sqrt{1 - L/(2^{n_s}-1)}|0\\rangle + \\sqrt{L/(2^{n_s}-1)}|1\\rangle \\right),$$\n",
    "\n",
    "which allows to run amplitude estimation to evaluate the expected loss.\n",
    "\n",
    "\n",
    "Weighted Adder operator:\n",
    "\n",
    "$$|q_0 \\ldots q_{n-1}\\rangle |0\\rangle_s \\mapsto |q_0 \\ldots q_{n-1}\\rangle |\\sum_{j=0}^{n-1} \\lambda_j q_j\\rangle_s$$\n",
    "\n",
    "\n",
    "\n",
    "                   ┌────────┐\n",
    "          state_0: ┤0       ├ | state_0 * weights[0]\n",
    "                   │        │ |\n",
    "          state_1: ┤1       ├ | + state_1 * weights[1]\n",
    "                   │        │ |\n",
    "          state_2: ┤2       ├ | + state_2 * weights[2]\n",
    "                   │        │ |\n",
    "          state_3: ┤3       ├ | + state_3 * weights[3]\n",
    "                   │        │\n",
    "            sum_0: ┤4       ├ |\n",
    "                   │  Adder │ |\n",
    "            sum_1: ┤5       ├ | = sum_0 * 2^0 + sum_1 * 2^1 + sum_2 * 2^2\n",
    "                   │        │ |\n",
    "            sum_2: ┤6       ├ |\n",
    "                   │        │\n",
    "          carry_0: ┤7       ├\n",
    "                   │        │\n",
    "          carry_1: ┤8       ├\n",
    "                   │        │\n",
    "        control_0: ┤9       ├\n",
    "                   └────────┘"
   ]
  },
  {
   "cell_type": "code",
   "execution_count": 15,
   "metadata": {
    "scrolled": false,
    "slideshow": {
     "slide_type": "slide"
    }
   },
   "outputs": [],
   "source": [
    "# add Z qubits with weight/loss 0\n",
    "\n",
    "# ```WeightedAdder(num_state_qubits=None, weights=None, name='adder') ````\n",
    "\n",
    "# We need as many state qubits as our definition of Z + number of assets: |x1,...xk>|0>ns\n",
    "# We only add weights to the lgd elements of the sum and add 0 to the Z (not really adding them)\n",
    "\n",
    "weighted_adder = WeightedAdder(n_z + K, [0]*n_z + loss_given_default)\n",
    "\n"
   ]
  },
  {
   "cell_type": "code",
   "execution_count": 16,
   "metadata": {
    "scrolled": false,
    "slideshow": {
     "slide_type": "subslide"
    }
   },
   "outputs": [
    {
     "name": "stdout",
     "output_type": "stream",
     "text": [
      "15\n"
     ]
    }
   ],
   "source": [
    "#weighted_adder.draw()\n",
    "print(weighted_adder.num_qubits)"
   ]
  },
  {
   "cell_type": "code",
   "execution_count": 17,
   "metadata": {
    "scrolled": false,
    "slideshow": {
     "slide_type": "subslide"
    }
   },
   "outputs": [
    {
     "data": {
      "image/png": "[encoded data removed]",
      "text/plain": [
       "<Figure size 545.149x565.88 with 1 Axes>"
      ]
     },
     "execution_count": 17,
     "metadata": {},
     "output_type": "execute_result"
    }
   ],
   "source": [
    "# Test Aggregator - Just to make sure we understand what it odes and why\n",
    "# Lets do a quick test to validate the WeightedAdder Qiskit function\n",
    "\n",
    "test_adder = WeightedAdder(4, [0,0,1,1])    # Adds only the last two state qubits\n",
    "\n",
    "\n",
    "state_registry = QuantumRegister(test_adder.num_state_qubits, 'state')\n",
    "sum_registry = QuantumRegister(test_adder.num_sum_qubits, 'sum')\n",
    "carry_registry = QuantumRegister(test_adder.num_carry_qubits, 'carry')\n",
    "sum_result = ClassicalRegister(test_adder.num_sum_qubits, 'sum_result')\n",
    "carry_result = ClassicalRegister(test_adder.num_carry_qubits, 'carry_result')\n",
    "\n",
    "if test_adder.num_control_qubits > 0:\n",
    "    control_registry = QuantumRegister(test_adder.num_control_qubits, 'control')\n",
    "    test_adder_circuit = QuantumCircuit(state_registry, sum_registry, carry_registry, control_registry, sum_result, carry_result)\n",
    "else:\n",
    "    test_adder_circuit = QuantumCircuit(state_registry, sum_registry, carry_registry, sum_result, carry_result)\n",
    "\n",
    "test_adder_circuit.x(state_registry[0])\n",
    "test_adder_circuit.x(state_registry[1])\n",
    "test_adder_circuit.x(state_registry[2])\n",
    "#test_adder_circuit.x(state_registry[3])\n",
    "\n",
    "test_adder_circuit.append(test_adder, range(test_adder.num_qubits))\n",
    "test_adder_circuit.measure(sum_registry, sum_result)\n",
    "test_adder_circuit.measure(carry_registry, carry_result)\n",
    "test_adder_circuit.draw('mpl')\n",
    "\n"
   ]
  },
  {
   "cell_type": "code",
   "execution_count": 18,
   "metadata": {
    "scrolled": false,
    "slideshow": {
     "slide_type": "subslide"
    }
   },
   "outputs": [
    {
     "data": {
      "application/vnd.plotly.v1+json": {
       "config": {
        "displayModeBar": false,
        "editable": false,
        "plotlyServerURL": "https://plot.ly"
       },
       "data": [
        {
         "hoverinfo": "text",
         "hovertext": [
          "<b>0 01</b><br>P = 1.0"
         ],
         "marker": {
          "color": "#6929c4"
         },
         "name": "",
         "text": [
          1
         ],
         "textposition": "auto",
         "type": "bar",
         "width": 0.5,
         "x": [
          0
         ],
         "y": [
          1
         ]
        }
       ],
       "layout": {
        "font": {
         "color": "#000000"
        },
        "paper_bgcolor": "#ffffff",
        "plot_bgcolor": "#e5e0df",
        "showlegend": false,
        "template": {
         "data": {
          "bar": [
           {
            "error_x": {
             "color": "#2a3f5f"
            },
            "error_y": {
             "color": "#2a3f5f"
            },
            "marker": {
             "line": {
              "color": "#E5ECF6",
              "width": 0.5
             }
            },
            "type": "bar"
           }
          ],
          "barpolar": [
           {
            "marker": {
             "line": {
              "color": "#E5ECF6",
              "width": 0.5
             }
            },
            "type": "barpolar"
           }
          ],
          "carpet": [
           {
            "aaxis": {
             "endlinecolor": "#2a3f5f",
             "gridcolor": "white",
             "linecolor": "white",
             "minorgridcolor": "white",
             "startlinecolor": "#2a3f5f"
            },
            "baxis": {
             "endlinecolor": "#2a3f5f",
             "gridcolor": "white",
             "linecolor": "white",
             "minorgridcolor": "white",
             "startlinecolor": "#2a3f5f"
            },
            "type": "carpet"
           }
          ],
          "choropleth": [
           {
            "colorbar": {
             "outlinewidth": 0,
             "ticks": ""
            },
            "type": "choropleth"
           }
          ],
          "contour": [
           {
            "colorbar": {
             "outlinewidth": 0,
             "ticks": ""
            },
            "colorscale": [
             [
              0,
              "#0d0887"
             ],
             [
              0.1111111111111111,
              "#46039f"
             ],
             [
              0.2222222222222222,
              "#7201a8"
             ],
             [
              0.3333333333333333,
              "#9c179e"
             ],
             [
              0.4444444444444444,
              "#bd3786"
             ],
             [
              0.5555555555555556,
              "#d8576b"
             ],
             [
              0.6666666666666666,
              "#ed7953"
             ],
             [
              0.7777777777777778,
              "#fb9f3a"
             ],
             [
              0.8888888888888888,
              "#fdca26"
             ],
             [
              1,
              "#f0f921"
             ]
            ],
            "type": "contour"
           }
          ],
          "contourcarpet": [
           {
            "colorbar": {
             "outlinewidth": 0,
             "ticks": ""
            },
            "type": "contourcarpet"
           }
          ],
          "heatmap": [
           {
            "colorbar": {
             "outlinewidth": 0,
             "ticks": ""
            },
            "colorscale": [
             [
              0,
              "#0d0887"
             ],
             [
              0.1111111111111111,
              "#46039f"
             ],
             [
              0.2222222222222222,
              "#7201a8"
             ],
             [
              0.3333333333333333,
              "#9c179e"
             ],
             [
              0.4444444444444444,
              "#bd3786"
             ],
             [
              0.5555555555555556,
              "#d8576b"
             ],
             [
              0.6666666666666666,
              "#ed7953"
             ],
             [
              0.7777777777777778,
              "#fb9f3a"
             ],
             [
              0.8888888888888888,
              "#fdca26"
             ],
             [
              1,
              "#f0f921"
             ]
            ],
            "type": "heatmap"
           }
          ],
          "heatmapgl": [
           {
            "colorbar": {
             "outlinewidth": 0,
             "ticks": ""
            },
            "colorscale": [
             [
              0,
              "#0d0887"
             ],
             [
              0.1111111111111111,
              "#46039f"
             ],
             [
              0.2222222222222222,
              "#7201a8"
             ],
             [
              0.3333333333333333,
              "#9c179e"
             ],
             [
              0.4444444444444444,
              "#bd3786"
             ],
             [
              0.5555555555555556,
              "#d8576b"
             ],
             [
              0.6666666666666666,
              "#ed7953"
             ],
             [
              0.7777777777777778,
              "#fb9f3a"
             ],
             [
              0.8888888888888888,
              "#fdca26"
             ],
             [
              1,
              "#f0f921"
             ]
            ],
            "type": "heatmapgl"
           }
          ],
          "histogram": [
           {
            "marker": {
             "colorbar": {
              "outlinewidth": 0,
              "ticks": ""
             }
            },
            "type": "histogram"
           }
          ],
          "histogram2d": [
           {
            "colorbar": {
             "outlinewidth": 0,
             "ticks": ""
            },
            "colorscale": [
             [
              0,
              "#0d0887"
             ],
             [
              0.1111111111111111,
              "#46039f"
             ],
             [
              0.2222222222222222,
              "#7201a8"
             ],
             [
              0.3333333333333333,
              "#9c179e"
             ],
             [
              0.4444444444444444,
              "#bd3786"
             ],
             [
              0.5555555555555556,
              "#d8576b"
             ],
             [
              0.6666666666666666,
              "#ed7953"
             ],
             [
              0.7777777777777778,
              "#fb9f3a"
             ],
             [
              0.8888888888888888,
              "#fdca26"
             ],
             [
              1,
              "#f0f921"
             ]
            ],
            "type": "histogram2d"
           }
          ],
          "histogram2dcontour": [
           {
            "colorbar": {
             "outlinewidth": 0,
             "ticks": ""
            },
            "colorscale": [
             [
              0,
              "#0d0887"
             ],
             [
              0.1111111111111111,
              "#46039f"
             ],
             [
              0.2222222222222222,
              "#7201a8"
             ],
             [
              0.3333333333333333,
              "#9c179e"
             ],
             [
              0.4444444444444444,
              "#bd3786"
             ],
             [
              0.5555555555555556,
              "#d8576b"
             ],
             [
              0.6666666666666666,
              "#ed7953"
             ],
             [
              0.7777777777777778,
              "#fb9f3a"
             ],
             [
              0.8888888888888888,
              "#fdca26"
             ],
             [
              1,
              "#f0f921"
             ]
            ],
            "type": "histogram2dcontour"
           }
          ],
          "mesh3d": [
           {
            "colorbar": {
             "outlinewidth": 0,
             "ticks": ""
            },
            "type": "mesh3d"
           }
          ],
          "parcoords": [
           {
            "line": {
             "colorbar": {
              "outlinewidth": 0,
              "ticks": ""
             }
            },
            "type": "parcoords"
           }
          ],
          "pie": [
           {
            "automargin": true,
            "type": "pie"
           }
          ],
          "scatter": [
           {
            "marker": {
             "colorbar": {
              "outlinewidth": 0,
              "ticks": ""
             }
            },
            "type": "scatter"
           }
          ],
          "scatter3d": [
           {
            "line": {
             "colorbar": {
              "outlinewidth": 0,
              "ticks": ""
             }
            },
            "marker": {
             "colorbar": {
              "outlinewidth": 0,
              "ticks": ""
             }
            },
            "type": "scatter3d"
           }
          ],
          "scattercarpet": [
           {
            "marker": {
             "colorbar": {
              "outlinewidth": 0,
              "ticks": ""
             }
            },
            "type": "scattercarpet"
           }
          ],
          "scattergeo": [
           {
            "marker": {
             "colorbar": {
              "outlinewidth": 0,
              "ticks": ""
             }
            },
            "type": "scattergeo"
           }
          ],
          "scattergl": [
           {
            "marker": {
             "colorbar": {
              "outlinewidth": 0,
              "ticks": ""
             }
            },
            "type": "scattergl"
           }
          ],
          "scattermapbox": [
           {
            "marker": {
             "colorbar": {
              "outlinewidth": 0,
              "ticks": ""
             }
            },
            "type": "scattermapbox"
           }
          ],
          "scatterpolar": [
           {
            "marker": {
             "colorbar": {
              "outlinewidth": 0,
              "ticks": ""
             }
            },
            "type": "scatterpolar"
           }
          ],
          "scatterpolargl": [
           {
            "marker": {
             "colorbar": {
              "outlinewidth": 0,
              "ticks": ""
             }
            },
            "type": "scatterpolargl"
           }
          ],
          "scatterternary": [
           {
            "marker": {
             "colorbar": {
              "outlinewidth": 0,
              "ticks": ""
             }
            },
            "type": "scatterternary"
           }
          ],
          "surface": [
           {
            "colorbar": {
             "outlinewidth": 0,
             "ticks": ""
            },
            "colorscale": [
             [
              0,
              "#0d0887"
             ],
             [
              0.1111111111111111,
              "#46039f"
             ],
             [
              0.2222222222222222,
              "#7201a8"
             ],
             [
              0.3333333333333333,
              "#9c179e"
             ],
             [
              0.4444444444444444,
              "#bd3786"
             ],
             [
              0.5555555555555556,
              "#d8576b"
             ],
             [
              0.6666666666666666,
              "#ed7953"
             ],
             [
              0.7777777777777778,
              "#fb9f3a"
             ],
             [
              0.8888888888888888,
              "#fdca26"
             ],
             [
              1,
              "#f0f921"
             ]
            ],
            "type": "surface"
           }
          ],
          "table": [
           {
            "cells": {
             "fill": {
              "color": "#EBF0F8"
             },
             "line": {
              "color": "white"
             }
            },
            "header": {
             "fill": {
              "color": "#C8D4E3"
             },
             "line": {
              "color": "white"
             }
            },
            "type": "table"
           }
          ]
         },
         "layout": {
          "annotationdefaults": {
           "arrowcolor": "#2a3f5f",
           "arrowhead": 0,
           "arrowwidth": 1
          },
          "autotypenumbers": "strict",
          "coloraxis": {
           "colorbar": {
            "outlinewidth": 0,
            "ticks": ""
           }
          },
          "colorscale": {
           "diverging": [
            [
             0,
             "#8e0152"
            ],
            [
             0.1,
             "#c51b7d"
            ],
            [
             0.2,
             "#de77ae"
            ],
            [
             0.3,
             "#f1b6da"
            ],
            [
             0.4,
             "#fde0ef"
            ],
            [
             0.5,
             "#f7f7f7"
            ],
            [
             0.6,
             "#e6f5d0"
            ],
            [
             0.7,
             "#b8e186"
            ],
            [
             0.8,
             "#7fbc41"
            ],
            [
             0.9,
             "#4d9221"
            ],
            [
             1,
             "#276419"
            ]
           ],
           "sequential": [
            [
             0,
             "#0d0887"
            ],
            [
             0.1111111111111111,
             "#46039f"
            ],
            [
             0.2222222222222222,
             "#7201a8"
            ],
            [
             0.3333333333333333,
             "#9c179e"
            ],
            [
             0.4444444444444444,
             "#bd3786"
            ],
            [
             0.5555555555555556,
             "#d8576b"
            ],
            [
             0.6666666666666666,
             "#ed7953"
            ],
            [
             0.7777777777777778,
             "#fb9f3a"
            ],
            [
             0.8888888888888888,
             "#fdca26"
            ],
            [
             1,
             "#f0f921"
            ]
           ],
           "sequentialminus": [
            [
             0,
             "#0d0887"
            ],
            [
             0.1111111111111111,
             "#46039f"
            ],
            [
             0.2222222222222222,
             "#7201a8"
            ],
            [
             0.3333333333333333,
             "#9c179e"
            ],
            [
             0.4444444444444444,
             "#bd3786"
            ],
            [
             0.5555555555555556,
             "#d8576b"
            ],
            [
             0.6666666666666666,
             "#ed7953"
            ],
            [
             0.7777777777777778,
             "#fb9f3a"
            ],
            [
             0.8888888888888888,
             "#fdca26"
            ],
            [
             1,
             "#f0f921"
            ]
           ]
          },
          "colorway": [
           "#636efa",
           "#EF553B",
           "#00cc96",
           "#ab63fa",
           "#FFA15A",
           "#19d3f3",
           "#FF6692",
           "#B6E880",
           "#FF97FF",
           "#FECB52"
          ],
          "font": {
           "color": "#2a3f5f"
          },
          "geo": {
           "bgcolor": "white",
           "lakecolor": "white",
           "landcolor": "#E5ECF6",
           "showlakes": true,
           "showland": true,
           "subunitcolor": "white"
          },
          "hoverlabel": {
           "align": "left"
          },
          "hovermode": "closest",
          "mapbox": {
           "style": "light"
          },
          "paper_bgcolor": "white",
          "plot_bgcolor": "#E5ECF6",
          "polar": {
           "angularaxis": {
            "gridcolor": "white",
            "linecolor": "white",
            "ticks": ""
           },
           "bgcolor": "#E5ECF6",
           "radialaxis": {
            "gridcolor": "white",
            "linecolor": "white",
            "ticks": ""
           }
          },
          "scene": {
           "xaxis": {
            "backgroundcolor": "#E5ECF6",
            "gridcolor": "white",
            "gridwidth": 2,
            "linecolor": "white",
            "showbackground": true,
            "ticks": "",
            "zerolinecolor": "white"
           },
           "yaxis": {
            "backgroundcolor": "#E5ECF6",
            "gridcolor": "white",
            "gridwidth": 2,
            "linecolor": "white",
            "showbackground": true,
            "ticks": "",
            "zerolinecolor": "white"
           },
           "zaxis": {
            "backgroundcolor": "#E5ECF6",
            "gridcolor": "white",
            "gridwidth": 2,
            "linecolor": "white",
            "showbackground": true,
            "ticks": "",
            "zerolinecolor": "white"
           }
          },
          "shapedefaults": {
           "line": {
            "color": "#2a3f5f"
           }
          },
          "ternary": {
           "aaxis": {
            "gridcolor": "white",
            "linecolor": "white",
            "ticks": ""
           },
           "baxis": {
            "gridcolor": "white",
            "linecolor": "white",
            "ticks": ""
           },
           "bgcolor": "#E5ECF6",
           "caxis": {
            "gridcolor": "white",
            "linecolor": "white",
            "ticks": ""
           }
          },
          "title": {
           "x": 0.05
          },
          "xaxis": {
           "automargin": true,
           "gridcolor": "white",
           "linecolor": "white",
           "ticks": "",
           "title": {
            "standoff": 15
           },
           "zerolinecolor": "white",
           "zerolinewidth": 2
          },
          "yaxis": {
           "automargin": true,
           "gridcolor": "white",
           "linecolor": "white",
           "ticks": "",
           "title": {
            "standoff": 15
           },
           "zerolinecolor": "white",
           "zerolinewidth": 2
          }
         }
        },
        "title": {
         "font": {
          "size": 18
         },
         "x": 0.5
        },
        "xaxis": {
         "linewidth": 1,
         "showline": true,
         "tickangle": -70,
         "tickfont": {
          "size": 14
         },
         "ticktext": [
          "0 01"
         ],
         "tickvals": [
          0
         ],
         "title": {
          "font": {
           "size": 16
          },
          "text": "Basis state"
         }
        },
        "yaxis": {
         "linewidth": 1,
         "showline": true,
         "tickfont": {
          "size": 14
         },
         "title": {
          "font": {
           "size": 16
          },
          "text": "Probability"
         }
        }
       }
      }
     },
     "metadata": {},
     "output_type": "display_data"
    }
   ],
   "source": [
    "job = execute(test_adder_circuit, backend=Aer.get_backend('statevector_simulator'))\n",
    "probability_distribution(job.result().get_counts())"
   ]
  },
  {
   "cell_type": "markdown",
   "metadata": {
    "slideshow": {
     "slide_type": "slide"
    }
   },
   "source": [
    "### Linear Amplitude Function \n",
    "\n",
    "~~~\n",
    "CLASSLinearAmplitudeFunction(num_state_qubits, slope, offset, domain, image, rescaling_factor=1, breakpoints=None, name='F')\n",
    "~~~\n",
    "\n",
    "\n",
    "A circuit implementing a (piecewise) linear function on qubit amplitudes.\n",
    "\n",
    "An amplitude function 𝐹 of a function 𝑓 is a mapping\n",
    "$$F|x\\rangle|0\\rangle = \\sqrt{1 - \\hat{f}(x)} |x\\rangle|0\\rangle + \\sqrt{\\hat{f}(x)} |x\\rangle|1\\rangle.$$\n",
    "\n",
    "for a function $ \\hat{f}: \\{0, ..., 2^n - 1\\} \\rightarrow [0, 1] $, where |𝑥⟩ is a $n$ qubit state.\n",
    "\n",
    "This circuit implements F for piecewise linear functions $\\hat{f}$. In this case, the mapping F can be approximately implemented using a Taylor expansion and linearly controlled Pauli-Y rotations. This approximation uses a rescaling_factor to determine the accuracy of the Taylor expansion.\n",
    "\n",
    "In general, the function of interest f is defined from some interval $[a,b]$, 'domain' to $ [c,d]$, the 'image', instead of $ \\{1, ..., N\\} $ to $[0, 1]$. Usng an affine transformation we can rescale $f$ to $ \\hat{f} $ :\n",
    "\n",
    "$$\\hat{f(x)} = \\frac{f(\\phi(x)) - c}{d - c}$$\n",
    "\n",
    "with\n",
    "\n",
    "$$\\phi(x) = a + \\frac{b - a}{2^n - 1} x $$\n",
    "\n",
    "If $ f $ is a piecewise linear function on 'm' intervals $ [p_{i-1}, p_i], i \\in \\{1, ..., m\\} $ with slopes $ \\alpha_i $ and offsets $ \\beta_i $ it can be written as\n",
    "\n",
    "$$f(x) = \\sum_{i=1}^m 1_{[p_{i-1}, p_i}(x) (\\alpha_i x + \\beta_i)$$\n",
    "\n",
    "where $ 1_[a, b] $ is an indication function that is 1 if the argument is in the interval $ [a, b] $ and otherwise 0. The breakpoints $ p_i $ can be specified by the 'breakpoints' argument."
   ]
  },
  {
   "cell_type": "code",
   "execution_count": 19,
   "metadata": {
    "scrolled": false,
    "slideshow": {
     "slide_type": "subslide"
    }
   },
   "outputs": [],
   "source": [
    "\n",
    "# define linear objective function\n",
    "breakpoints = [0]\n",
    "slopes = [1]\n",
    "offsets = [0]\n",
    "f_min = 0\n",
    "f_max = sum(loss_given_default)\n",
    "c_approx = 0.25\n",
    "\n",
    "objective = LinearAmplitudeFunction(\n",
    "    weighted_adder.num_sum_qubits,\n",
    "    slope=slopes, \n",
    "    offset=offsets, \n",
    "    # max value that can be reached by the qubit register (will not always be reached)\n",
    "    domain=(0, 2**weighted_adder.num_sum_qubits-1),  \n",
    "    image=(f_min, f_max),\n",
    "    rescaling_factor=c_approx,\n",
    "    breakpoints=breakpoints,\n",
    "    name=\"F\"\n",
    ")"
   ]
  },
  {
   "cell_type": "code",
   "execution_count": 50,
   "metadata": {
    "scrolled": false,
    "slideshow": {
     "slide_type": "subslide"
    }
   },
   "outputs": [
    {
     "data": {
      "image/png": "[encoded data removed]",
      "text/plain": [
       "<Figure size 413.849x325.08 with 1 Axes>"
      ]
     },
     "execution_count": 50,
     "metadata": {},
     "output_type": "execute_result"
    }
   ],
   "source": [
    "objective.decompose().draw('mpl')"
   ]
  },
  {
   "cell_type": "code",
   "execution_count": 51,
   "metadata": {
    "scrolled": false,
    "slideshow": {
     "slide_type": "subslide"
    }
   },
   "outputs": [
    {
     "data": {
      "application/vnd.plotly.v1+json": {
       "config": {
        "displayModeBar": false,
        "editable": false,
        "plotlyServerURL": "https://plot.ly"
       },
       "data": [
        {
         "hoverinfo": "text",
         "hovertext": [
          "<b>00000</b><br>P = 0.691",
          "<b>10000</b><br>P = 0.309"
         ],
         "marker": {
          "color": "#6929c4"
         },
         "name": "",
         "text": [
          0.691,
          0.309
         ],
         "textposition": "auto",
         "type": "bar",
         "width": 0.5,
         "x": [
          0,
          1
         ],
         "y": [
          0.691341716182545,
          0.308658283817455
         ]
        }
       ],
       "layout": {
        "font": {
         "color": "#000000"
        },
        "paper_bgcolor": "#ffffff",
        "plot_bgcolor": "#e5e0df",
        "showlegend": false,
        "template": {
         "data": {
          "bar": [
           {
            "error_x": {
             "color": "#2a3f5f"
            },
            "error_y": {
             "color": "#2a3f5f"
            },
            "marker": {
             "line": {
              "color": "#E5ECF6",
              "width": 0.5
             }
            },
            "type": "bar"
           }
          ],
          "barpolar": [
           {
            "marker": {
             "line": {
              "color": "#E5ECF6",
              "width": 0.5
             }
            },
            "type": "barpolar"
           }
          ],
          "carpet": [
           {
            "aaxis": {
             "endlinecolor": "#2a3f5f",
             "gridcolor": "white",
             "linecolor": "white",
             "minorgridcolor": "white",
             "startlinecolor": "#2a3f5f"
            },
            "baxis": {
             "endlinecolor": "#2a3f5f",
             "gridcolor": "white",
             "linecolor": "white",
             "minorgridcolor": "white",
             "startlinecolor": "#2a3f5f"
            },
            "type": "carpet"
           }
          ],
          "choropleth": [
           {
            "colorbar": {
             "outlinewidth": 0,
             "ticks": ""
            },
            "type": "choropleth"
           }
          ],
          "contour": [
           {
            "colorbar": {
             "outlinewidth": 0,
             "ticks": ""
            },
            "colorscale": [
             [
              0,
              "#0d0887"
             ],
             [
              0.1111111111111111,
              "#46039f"
             ],
             [
              0.2222222222222222,
              "#7201a8"
             ],
             [
              0.3333333333333333,
              "#9c179e"
             ],
             [
              0.4444444444444444,
              "#bd3786"
             ],
             [
              0.5555555555555556,
              "#d8576b"
             ],
             [
              0.6666666666666666,
              "#ed7953"
             ],
             [
              0.7777777777777778,
              "#fb9f3a"
             ],
             [
              0.8888888888888888,
              "#fdca26"
             ],
             [
              1,
              "#f0f921"
             ]
            ],
            "type": "contour"
           }
          ],
          "contourcarpet": [
           {
            "colorbar": {
             "outlinewidth": 0,
             "ticks": ""
            },
            "type": "contourcarpet"
           }
          ],
          "heatmap": [
           {
            "colorbar": {
             "outlinewidth": 0,
             "ticks": ""
            },
            "colorscale": [
             [
              0,
              "#0d0887"
             ],
             [
              0.1111111111111111,
              "#46039f"
             ],
             [
              0.2222222222222222,
              "#7201a8"
             ],
             [
              0.3333333333333333,
              "#9c179e"
             ],
             [
              0.4444444444444444,
              "#bd3786"
             ],
             [
              0.5555555555555556,
              "#d8576b"
             ],
             [
              0.6666666666666666,
              "#ed7953"
             ],
             [
              0.7777777777777778,
              "#fb9f3a"
             ],
             [
              0.8888888888888888,
              "#fdca26"
             ],
             [
              1,
              "#f0f921"
             ]
            ],
            "type": "heatmap"
           }
          ],
          "heatmapgl": [
           {
            "colorbar": {
             "outlinewidth": 0,
             "ticks": ""
            },
            "colorscale": [
             [
              0,
              "#0d0887"
             ],
             [
              0.1111111111111111,
              "#46039f"
             ],
             [
              0.2222222222222222,
              "#7201a8"
             ],
             [
              0.3333333333333333,
              "#9c179e"
             ],
             [
              0.4444444444444444,
              "#bd3786"
             ],
             [
              0.5555555555555556,
              "#d8576b"
             ],
             [
              0.6666666666666666,
              "#ed7953"
             ],
             [
              0.7777777777777778,
              "#fb9f3a"
             ],
             [
              0.8888888888888888,
              "#fdca26"
             ],
             [
              1,
              "#f0f921"
             ]
            ],
            "type": "heatmapgl"
           }
          ],
          "histogram": [
           {
            "marker": {
             "colorbar": {
              "outlinewidth": 0,
              "ticks": ""
             }
            },
            "type": "histogram"
           }
          ],
          "histogram2d": [
           {
            "colorbar": {
             "outlinewidth": 0,
             "ticks": ""
            },
            "colorscale": [
             [
              0,
              "#0d0887"
             ],
             [
              0.1111111111111111,
              "#46039f"
             ],
             [
              0.2222222222222222,
              "#7201a8"
             ],
             [
              0.3333333333333333,
              "#9c179e"
             ],
             [
              0.4444444444444444,
              "#bd3786"
             ],
             [
              0.5555555555555556,
              "#d8576b"
             ],
             [
              0.6666666666666666,
              "#ed7953"
             ],
             [
              0.7777777777777778,
              "#fb9f3a"
             ],
             [
              0.8888888888888888,
              "#fdca26"
             ],
             [
              1,
              "#f0f921"
             ]
            ],
            "type": "histogram2d"
           }
          ],
          "histogram2dcontour": [
           {
            "colorbar": {
             "outlinewidth": 0,
             "ticks": ""
            },
            "colorscale": [
             [
              0,
              "#0d0887"
             ],
             [
              0.1111111111111111,
              "#46039f"
             ],
             [
              0.2222222222222222,
              "#7201a8"
             ],
             [
              0.3333333333333333,
              "#9c179e"
             ],
             [
              0.4444444444444444,
              "#bd3786"
             ],
             [
              0.5555555555555556,
              "#d8576b"
             ],
             [
              0.6666666666666666,
              "#ed7953"
             ],
             [
              0.7777777777777778,
              "#fb9f3a"
             ],
             [
              0.8888888888888888,
              "#fdca26"
             ],
             [
              1,
              "#f0f921"
             ]
            ],
            "type": "histogram2dcontour"
           }
          ],
          "mesh3d": [
           {
            "colorbar": {
             "outlinewidth": 0,
             "ticks": ""
            },
            "type": "mesh3d"
           }
          ],
          "parcoords": [
           {
            "line": {
             "colorbar": {
              "outlinewidth": 0,
              "ticks": ""
             }
            },
            "type": "parcoords"
           }
          ],
          "pie": [
           {
            "automargin": true,
            "type": "pie"
           }
          ],
          "scatter": [
           {
            "marker": {
             "colorbar": {
              "outlinewidth": 0,
              "ticks": ""
             }
            },
            "type": "scatter"
           }
          ],
          "scatter3d": [
           {
            "line": {
             "colorbar": {
              "outlinewidth": 0,
              "ticks": ""
             }
            },
            "marker": {
             "colorbar": {
              "outlinewidth": 0,
              "ticks": ""
             }
            },
            "type": "scatter3d"
           }
          ],
          "scattercarpet": [
           {
            "marker": {
             "colorbar": {
              "outlinewidth": 0,
              "ticks": ""
             }
            },
            "type": "scattercarpet"
           }
          ],
          "scattergeo": [
           {
            "marker": {
             "colorbar": {
              "outlinewidth": 0,
              "ticks": ""
             }
            },
            "type": "scattergeo"
           }
          ],
          "scattergl": [
           {
            "marker": {
             "colorbar": {
              "outlinewidth": 0,
              "ticks": ""
             }
            },
            "type": "scattergl"
           }
          ],
          "scattermapbox": [
           {
            "marker": {
             "colorbar": {
              "outlinewidth": 0,
              "ticks": ""
             }
            },
            "type": "scattermapbox"
           }
          ],
          "scatterpolar": [
           {
            "marker": {
             "colorbar": {
              "outlinewidth": 0,
              "ticks": ""
             }
            },
            "type": "scatterpolar"
           }
          ],
          "scatterpolargl": [
           {
            "marker": {
             "colorbar": {
              "outlinewidth": 0,
              "ticks": ""
             }
            },
            "type": "scatterpolargl"
           }
          ],
          "scatterternary": [
           {
            "marker": {
             "colorbar": {
              "outlinewidth": 0,
              "ticks": ""
             }
            },
            "type": "scatterternary"
           }
          ],
          "surface": [
           {
            "colorbar": {
             "outlinewidth": 0,
             "ticks": ""
            },
            "colorscale": [
             [
              0,
              "#0d0887"
             ],
             [
              0.1111111111111111,
              "#46039f"
             ],
             [
              0.2222222222222222,
              "#7201a8"
             ],
             [
              0.3333333333333333,
              "#9c179e"
             ],
             [
              0.4444444444444444,
              "#bd3786"
             ],
             [
              0.5555555555555556,
              "#d8576b"
             ],
             [
              0.6666666666666666,
              "#ed7953"
             ],
             [
              0.7777777777777778,
              "#fb9f3a"
             ],
             [
              0.8888888888888888,
              "#fdca26"
             ],
             [
              1,
              "#f0f921"
             ]
            ],
            "type": "surface"
           }
          ],
          "table": [
           {
            "cells": {
             "fill": {
              "color": "#EBF0F8"
             },
             "line": {
              "color": "white"
             }
            },
            "header": {
             "fill": {
              "color": "#C8D4E3"
             },
             "line": {
              "color": "white"
             }
            },
            "type": "table"
           }
          ]
         },
         "layout": {
          "annotationdefaults": {
           "arrowcolor": "#2a3f5f",
           "arrowhead": 0,
           "arrowwidth": 1
          },
          "autotypenumbers": "strict",
          "coloraxis": {
           "colorbar": {
            "outlinewidth": 0,
            "ticks": ""
           }
          },
          "colorscale": {
           "diverging": [
            [
             0,
             "#8e0152"
            ],
            [
             0.1,
             "#c51b7d"
            ],
            [
             0.2,
             "#de77ae"
            ],
            [
             0.3,
             "#f1b6da"
            ],
            [
             0.4,
             "#fde0ef"
            ],
            [
             0.5,
             "#f7f7f7"
            ],
            [
             0.6,
             "#e6f5d0"
            ],
            [
             0.7,
             "#b8e186"
            ],
            [
             0.8,
             "#7fbc41"
            ],
            [
             0.9,
             "#4d9221"
            ],
            [
             1,
             "#276419"
            ]
           ],
           "sequential": [
            [
             0,
             "#0d0887"
            ],
            [
             0.1111111111111111,
             "#46039f"
            ],
            [
             0.2222222222222222,
             "#7201a8"
            ],
            [
             0.3333333333333333,
             "#9c179e"
            ],
            [
             0.4444444444444444,
             "#bd3786"
            ],
            [
             0.5555555555555556,
             "#d8576b"
            ],
            [
             0.6666666666666666,
             "#ed7953"
            ],
            [
             0.7777777777777778,
             "#fb9f3a"
            ],
            [
             0.8888888888888888,
             "#fdca26"
            ],
            [
             1,
             "#f0f921"
            ]
           ],
           "sequentialminus": [
            [
             0,
             "#0d0887"
            ],
            [
             0.1111111111111111,
             "#46039f"
            ],
            [
             0.2222222222222222,
             "#7201a8"
            ],
            [
             0.3333333333333333,
             "#9c179e"
            ],
            [
             0.4444444444444444,
             "#bd3786"
            ],
            [
             0.5555555555555556,
             "#d8576b"
            ],
            [
             0.6666666666666666,
             "#ed7953"
            ],
            [
             0.7777777777777778,
             "#fb9f3a"
            ],
            [
             0.8888888888888888,
             "#fdca26"
            ],
            [
             1,
             "#f0f921"
            ]
           ]
          },
          "colorway": [
           "#636efa",
           "#EF553B",
           "#00cc96",
           "#ab63fa",
           "#FFA15A",
           "#19d3f3",
           "#FF6692",
           "#B6E880",
           "#FF97FF",
           "#FECB52"
          ],
          "font": {
           "color": "#2a3f5f"
          },
          "geo": {
           "bgcolor": "white",
           "lakecolor": "white",
           "landcolor": "#E5ECF6",
           "showlakes": true,
           "showland": true,
           "subunitcolor": "white"
          },
          "hoverlabel": {
           "align": "left"
          },
          "hovermode": "closest",
          "mapbox": {
           "style": "light"
          },
          "paper_bgcolor": "white",
          "plot_bgcolor": "#E5ECF6",
          "polar": {
           "angularaxis": {
            "gridcolor": "white",
            "linecolor": "white",
            "ticks": ""
           },
           "bgcolor": "#E5ECF6",
           "radialaxis": {
            "gridcolor": "white",
            "linecolor": "white",
            "ticks": ""
           }
          },
          "scene": {
           "xaxis": {
            "backgroundcolor": "#E5ECF6",
            "gridcolor": "white",
            "gridwidth": 2,
            "linecolor": "white",
            "showbackground": true,
            "ticks": "",
            "zerolinecolor": "white"
           },
           "yaxis": {
            "backgroundcolor": "#E5ECF6",
            "gridcolor": "white",
            "gridwidth": 2,
            "linecolor": "white",
            "showbackground": true,
            "ticks": "",
            "zerolinecolor": "white"
           },
           "zaxis": {
            "backgroundcolor": "#E5ECF6",
            "gridcolor": "white",
            "gridwidth": 2,
            "linecolor": "white",
            "showbackground": true,
            "ticks": "",
            "zerolinecolor": "white"
           }
          },
          "shapedefaults": {
           "line": {
            "color": "#2a3f5f"
           }
          },
          "ternary": {
           "aaxis": {
            "gridcolor": "white",
            "linecolor": "white",
            "ticks": ""
           },
           "baxis": {
            "gridcolor": "white",
            "linecolor": "white",
            "ticks": ""
           },
           "bgcolor": "#E5ECF6",
           "caxis": {
            "gridcolor": "white",
            "linecolor": "white",
            "ticks": ""
           }
          },
          "title": {
           "x": 0.05
          },
          "xaxis": {
           "automargin": true,
           "gridcolor": "white",
           "linecolor": "white",
           "ticks": "",
           "title": {
            "standoff": 15
           },
           "zerolinecolor": "white",
           "zerolinewidth": 2
          },
          "yaxis": {
           "automargin": true,
           "gridcolor": "white",
           "linecolor": "white",
           "ticks": "",
           "title": {
            "standoff": 15
           },
           "zerolinecolor": "white",
           "zerolinewidth": 2
          }
         }
        },
        "title": {
         "font": {
          "size": 18
         },
         "x": 0.5
        },
        "xaxis": {
         "linewidth": 1,
         "showline": true,
         "tickangle": -70,
         "tickfont": {
          "size": 14
         },
         "ticktext": [
          "00000",
          "10000"
         ],
         "tickvals": [
          0,
          1
         ],
         "title": {
          "font": {
           "size": 16
          },
          "text": "Basis state"
         }
        },
        "yaxis": {
         "linewidth": 1,
         "showline": true,
         "tickfont": {
          "size": 14
         },
         "title": {
          "font": {
           "size": 16
          },
          "text": "Probability"
         }
        }
       }
      }
     },
     "metadata": {},
     "output_type": "display_data"
    }
   ],
   "source": [
    "job = execute(objective, backend=Aer.get_backend('statevector_simulator'))\n",
    "probability_distribution(job.result().get_counts())"
   ]
  },
  {
   "cell_type": "markdown",
   "metadata": {
    "slideshow": {
     "slide_type": "slide"
    }
   },
   "source": [
    "## Put everything together for the state preparation"
   ]
  },
  {
   "cell_type": "code",
   "execution_count": 22,
   "metadata": {
    "scrolled": false,
    "slideshow": {
     "slide_type": "subslide"
    }
   },
   "outputs": [
    {
     "data": {
      "image/png": "[encoded data removed]",
      "text/plain": [
       "<Figure size 529.572x987.28 with 1 Axes>"
      ]
     },
     "execution_count": 22,
     "metadata": {},
     "output_type": "execute_result"
    }
   ],
   "source": [
    "# define the registers for convenience and readability\n",
    "qr_state = QuantumRegister(uncertainty_model.num_qubits, 'state')\n",
    "qr_sum = QuantumRegister(weighted_adder.num_sum_qubits, 'sum')\n",
    "qr_carry = QuantumRegister(weighted_adder.num_carry_qubits, 'carry')\n",
    "qr_obj = QuantumRegister(1, 'objective')\n",
    "qr_control = QuantumRegister(1, 'control')\n",
    "\n",
    "\n",
    "# define the circuit\n",
    "if weighted_adder.num_control_qubits > 0:\n",
    "    state_preparation = QuantumCircuit(qr_state, qr_obj, qr_sum, qr_carry, qr_control, name='A')\n",
    "    state_preparation.append(uncertainty_model.to_gate(), qr_state)\n",
    "    state_preparation.append(weighted_adder.to_gate(), qr_state[:] + qr_sum[:] + qr_carry[:] + qr_control[:])\n",
    "    state_preparation.append(objective.to_gate(), qr_sum[:] + qr_obj[:])\n",
    "    state_preparation.append(weighted_adder.to_gate().inverse(), qr_state[:] + qr_sum[:] + qr_carry[:] + qr_control[:])\n",
    "else: \n",
    "    state_preparation = QuantumCircuit(qr_state, qr_obj, qr_sum, qr_carry, name='A')\n",
    "    state_preparation.append(uncertainty_model.to_gate(), qr_state)\n",
    "    state_preparation.append(weighted_adder.to_gate(), qr_state[:] + qr_sum[:] + qr_carry[:])\n",
    "    state_preparation.append(objective.to_gate(), qr_sum[:] + qr_obj[:])\n",
    "    state_preparation.append(weighted_adder.to_gate().inverse(), qr_state[:] + qr_sum[:] + qr_carry[:])\n",
    "\n",
    "\n",
    "# draw the circuit\n",
    "state_preparation.draw('mpl')"
   ]
  },
  {
   "cell_type": "code",
   "execution_count": 23,
   "metadata": {
    "scrolled": false,
    "slideshow": {
     "slide_type": "slide"
    }
   },
   "outputs": [
    {
     "name": "stdout",
     "output_type": "stream",
     "text": [
      "Required Qubits:  16\n",
      "No Optimization\n",
      "gates =  OrderedDict([('cx', 252), ('h', 128), ('t', 128), ('tdg', 128), ('ccx', 64), ('x', 64), ('u3', 32), ('ry', 12)])\n",
      "depth =  629\n",
      "High Optimization\n",
      "gates =  OrderedDict([('cx', 616), ('tdg', 187), ('u1', 150), ('t', 139), ('u2', 126), ('u3', 36), ('h', 36), ('x', 30), ('ry', 7)])\n",
      "depth =  925\n"
     ]
    }
   ],
   "source": [
    "from qiskit import transpile\n",
    "print(\"Required Qubits: \", state_preparation.decompose().num_qubits)\n",
    "\n",
    "backend = Aer.get_backend('qasm_simulator')\n",
    "optimized_0 = transpile(state_preparation, backend=backend, seed_transpiler=11, optimization_level=0)\n",
    "print(\"No Optimization\")\n",
    "print('gates = ', optimized_0.count_ops())\n",
    "print('depth = ', optimized_0.depth())\n",
    "\n",
    "optimized_3 = transpile(state_preparation, backend=backend, seed_transpiler=11, optimization_level=3)\n",
    "print(\"High Optimization\")\n",
    "print('gates = ', optimized_3.count_ops())\n",
    "print('depth = ', optimized_3.depth())"
   ]
  },
  {
   "cell_type": "code",
   "execution_count": 24,
   "metadata": {
    "scrolled": false,
    "slideshow": {
     "slide_type": "slide"
    }
   },
   "outputs": [
    {
     "data": {
      "application/vnd.plotly.v1+json": {
       "config": {
        "displayModeBar": false,
        "editable": false,
        "plotlyServerURL": "https://plot.ly"
       },
       "data": [
        {
         "hoverinfo": "text",
         "hovertext": [
          "<b>0000000000000000</b><br>P = 0.006",
          "<b>0000000000000001</b><br>P = 0.019",
          "<b>0000000000000010</b><br>P = 0.044",
          "<b>0000000000000011</b><br>P = 0.074",
          "<b>0000000000000100</b><br>P = 0.086",
          "<b>0000000000000101</b><br>P = 0.071",
          "<b>0000000000000110</b><br>P = 0.042",
          "<b>0000000000000111</b><br>P = 0.017",
          "<b>0000000000001000</b><br>P = 0.002",
          "<b>0000000000001001</b><br>P = 0.006",
          "<b>0000000000001010</b><br>P = 0.011",
          "<b>0000000000001011</b><br>P = 0.013",
          "<b>0000000000001100</b><br>P = 0.011",
          "<b>0000000000001101</b><br>P = 0.006",
          "<b>0000000000001110</b><br>P = 0.002",
          "<b>0000000000001111</b><br>P = 0.0",
          "<b>0000000000010000</b><br>P = 0.003",
          "<b>0000000000010001</b><br>P = 0.009",
          "<b>0000000000010010</b><br>P = 0.018",
          "<b>0000000000010011</b><br>P = 0.024",
          "<b>0000000000010100</b><br>P = 0.022",
          "<b>0000000000010101</b><br>P = 0.014",
          "<b>0000000000010110</b><br>P = 0.007",
          "<b>0000000000010111</b><br>P = 0.002",
          "<b>0000000000011000</b><br>P = 0.001",
          "<b>0000000000011001</b><br>P = 0.003",
          "<b>0000000000011010</b><br>P = 0.004",
          "<b>0000000000011011</b><br>P = 0.004",
          "<b>0000000000011100</b><br>P = 0.003",
          "<b>0000000000011101</b><br>P = 0.001",
          "<b>0000000000011110</b><br>P = 0.0",
          "<b>0000000000011111</b><br>P = 0.0",
          "<b>0000000000100000</b><br>P = 0.003",
          "<b>0000000000100001</b><br>P = 0.007",
          "<b>0000000000100010</b><br>P = 0.013",
          "<b>0000000000100011</b><br>P = 0.017",
          "<b>0000000000100100</b><br>P = 0.015",
          "<b>0000000000100101</b><br>P = 0.009",
          "<b>0000000000100110</b><br>P = 0.004",
          "<b>0000000000100111</b><br>P = 0.001",
          "<b>0000000000101000</b><br>P = 0.001",
          "<b>0000000000101001</b><br>P = 0.002",
          "<b>0000000000101010</b><br>P = 0.003",
          "<b>0000000000101011</b><br>P = 0.003",
          "<b>0000000000101100</b><br>P = 0.002",
          "<b>0000000000101101</b><br>P = 0.001",
          "<b>0000000000101110</b><br>P = 0.0",
          "<b>0000000000101111</b><br>P = 0.0",
          "<b>0000000000110000</b><br>P = 0.002",
          "<b>0000000000110001</b><br>P = 0.003",
          "<b>0000000000110010</b><br>P = 0.005",
          "<b>0000000000110011</b><br>P = 0.005",
          "<b>0000000000110100</b><br>P = 0.004",
          "<b>0000000000110101</b><br>P = 0.002",
          "<b>0000000000110110</b><br>P = 0.001",
          "<b>0000000000110111</b><br>P = 0.0",
          "<b>0000000000111000</b><br>P = 0.001",
          "<b>0000000000111001</b><br>P = 0.001",
          "<b>0000000000111010</b><br>P = 0.001",
          "<b>0000000000111011</b><br>P = 0.001",
          "<b>0000000000111100</b><br>P = 0.0",
          "<b>0000000000111101</b><br>P = 0.0",
          "<b>0000000000111110</b><br>P = 0.0",
          "<b>0000000000111111</b><br>P = 0.0",
          "<b>0000000001000000</b><br>P = 0.0",
          "<b>0000000001000001</b><br>P = 0.0",
          "<b>0000000001000010</b><br>P = 0.001",
          "<b>0000000001000011</b><br>P = 0.001",
          "<b>0000000001000100</b><br>P = 0.001",
          "<b>0000000001000101</b><br>P = 0.001",
          "<b>0000000001000110</b><br>P = 0.0",
          "<b>0000000001000111</b><br>P = 0.0",
          "<b>0000000001001000</b><br>P = 0.0",
          "<b>0000000001001001</b><br>P = 0.0",
          "<b>0000000001001010</b><br>P = 0.0",
          "<b>0000000001001011</b><br>P = 0.0",
          "<b>0000000001001100</b><br>P = 0.0",
          "<b>0000000001001101</b><br>P = 0.0",
          "<b>0000000001001110</b><br>P = 0.0",
          "<b>0000000001001111</b><br>P = 0.0",
          "<b>0000000001010000</b><br>P = 0.0",
          "<b>0000000001010001</b><br>P = 0.0",
          "<b>0000000001010010</b><br>P = 0.0",
          "<b>0000000001010011</b><br>P = 0.0",
          "<b>0000000001010100</b><br>P = 0.0",
          "<b>0000000001010101</b><br>P = 0.0",
          "<b>0000000001010110</b><br>P = 0.0",
          "<b>0000000001010111</b><br>P = 0.0",
          "<b>0000000001011000</b><br>P = 0.0",
          "<b>0000000001011001</b><br>P = 0.0",
          "<b>0000000001011010</b><br>P = 0.0",
          "<b>0000000001011011</b><br>P = 0.0",
          "<b>0000000001011100</b><br>P = 0.0",
          "<b>0000000001011101</b><br>P = 0.0",
          "<b>0000000001011110</b><br>P = 0.0",
          "<b>0000000001011111</b><br>P = 0.0",
          "<b>0000000001100000</b><br>P = 0.0",
          "<b>0000000001100001</b><br>P = 0.0",
          "<b>0000000001100010</b><br>P = 0.0",
          "<b>0000000001100011</b><br>P = 0.0",
          "<b>0000000001100100</b><br>P = 0.0",
          "<b>0000000001100101</b><br>P = 0.0",
          "<b>0000000001100110</b><br>P = 0.0",
          "<b>0000000001100111</b><br>P = 0.0",
          "<b>0000000001101000</b><br>P = 0.0",
          "<b>0000000001101001</b><br>P = 0.0",
          "<b>0000000001101010</b><br>P = 0.0",
          "<b>0000000001101011</b><br>P = 0.0",
          "<b>0000000001101100</b><br>P = 0.0",
          "<b>0000000001101101</b><br>P = 0.0",
          "<b>0000000001101110</b><br>P = 0.0",
          "<b>0000000001101111</b><br>P = 0.0",
          "<b>0000000001110000</b><br>P = 0.0",
          "<b>0000000001110001</b><br>P = 0.0",
          "<b>0000000001110010</b><br>P = 0.0",
          "<b>0000000001110011</b><br>P = 0.0",
          "<b>0000000001110100</b><br>P = 0.0",
          "<b>0000000001110101</b><br>P = 0.0",
          "<b>0000000001110110</b><br>P = 0.0",
          "<b>0000000001110111</b><br>P = 0.0",
          "<b>0000000001111000</b><br>P = 0.0",
          "<b>0000000001111001</b><br>P = 0.0",
          "<b>0000000001111010</b><br>P = 0.0",
          "<b>0000000001111011</b><br>P = 0.0",
          "<b>0000000001111100</b><br>P = 0.0",
          "<b>0000000001111101</b><br>P = 0.0",
          "<b>0000000001111110</b><br>P = 0.0",
          "<b>0000000001111111</b><br>P = 0.0",
          "<b>0000000010000000</b><br>P = 0.002",
          "<b>0000000010000001</b><br>P = 0.008",
          "<b>0000000010000010</b><br>P = 0.02",
          "<b>0000000010000011</b><br>P = 0.033",
          "<b>0000000010000100</b><br>P = 0.038",
          "<b>0000000010000101</b><br>P = 0.032",
          "<b>0000000010000110</b><br>P = 0.019",
          "<b>0000000010000111</b><br>P = 0.008",
          "<b>0000000010001000</b><br>P = 0.001",
          "<b>0000000010001001</b><br>P = 0.003",
          "<b>0000000010001010</b><br>P = 0.006",
          "<b>0000000010001011</b><br>P = 0.007",
          "<b>0000000010001100</b><br>P = 0.006",
          "<b>0000000010001101</b><br>P = 0.003",
          "<b>0000000010001110</b><br>P = 0.001",
          "<b>0000000010001111</b><br>P = 0.0",
          "<b>0000000010010000</b><br>P = 0.002",
          "<b>0000000010010001</b><br>P = 0.006",
          "<b>0000000010010010</b><br>P = 0.011",
          "<b>0000000010010011</b><br>P = 0.015",
          "<b>0000000010010100</b><br>P = 0.014",
          "<b>0000000010010101</b><br>P = 0.009",
          "<b>0000000010010110</b><br>P = 0.004",
          "<b>0000000010010111</b><br>P = 0.001",
          "<b>0000000010011000</b><br>P = 0.001",
          "<b>0000000010011001</b><br>P = 0.002",
          "<b>0000000010011010</b><br>P = 0.003",
          "<b>0000000010011011</b><br>P = 0.003",
          "<b>0000000010011100</b><br>P = 0.002",
          "<b>0000000010011101</b><br>P = 0.001",
          "<b>0000000010011110</b><br>P = 0.0",
          "<b>0000000010011111</b><br>P = 0.0",
          "<b>0000000010100000</b><br>P = 0.002",
          "<b>0000000010100001</b><br>P = 0.005",
          "<b>0000000010100010</b><br>P = 0.009",
          "<b>0000000010100011</b><br>P = 0.012",
          "<b>0000000010100100</b><br>P = 0.011",
          "<b>0000000010100101</b><br>P = 0.007",
          "<b>0000000010100110</b><br>P = 0.003",
          "<b>0000000010100111</b><br>P = 0.001",
          "<b>0000000010101000</b><br>P = 0.001",
          "<b>0000000010101001</b><br>P = 0.002",
          "<b>0000000010101010</b><br>P = 0.003",
          "<b>0000000010101011</b><br>P = 0.003",
          "<b>0000000010101100</b><br>P = 0.002",
          "<b>0000000010101101</b><br>P = 0.001",
          "<b>0000000010101110</b><br>P = 0.0",
          "<b>0000000010101111</b><br>P = 0.0",
          "<b>0000000010110000</b><br>P = 0.002",
          "<b>0000000010110001</b><br>P = 0.003",
          "<b>0000000010110010</b><br>P = 0.005",
          "<b>0000000010110011</b><br>P = 0.005",
          "<b>0000000010110100</b><br>P = 0.004",
          "<b>0000000010110101</b><br>P = 0.002",
          "<b>0000000010110110</b><br>P = 0.001",
          "<b>0000000010110111</b><br>P = 0.0",
          "<b>0000000010111000</b><br>P = 0.001",
          "<b>0000000010111001</b><br>P = 0.001",
          "<b>0000000010111010</b><br>P = 0.001",
          "<b>0000000010111011</b><br>P = 0.001",
          "<b>0000000010111100</b><br>P = 0.001",
          "<b>0000000010111101</b><br>P = 0.0",
          "<b>0000000010111110</b><br>P = 0.0",
          "<b>0000000010111111</b><br>P = 0.0",
          "<b>0000000011000000</b><br>P = 0.0",
          "<b>0000000011000001</b><br>P = 0.0",
          "<b>0000000011000010</b><br>P = 0.001",
          "<b>0000000011000011</b><br>P = 0.001",
          "<b>0000000011000100</b><br>P = 0.001",
          "<b>0000000011000101</b><br>P = 0.001",
          "<b>0000000011000110</b><br>P = 0.0",
          "<b>0000000011000111</b><br>P = 0.0",
          "<b>0000000011001000</b><br>P = 0.0",
          "<b>0000000011001001</b><br>P = 0.0",
          "<b>0000000011001010</b><br>P = 0.0",
          "<b>0000000011001011</b><br>P = 0.0",
          "<b>0000000011001100</b><br>P = 0.0",
          "<b>0000000011001101</b><br>P = 0.0",
          "<b>0000000011001110</b><br>P = 0.0",
          "<b>0000000011001111</b><br>P = 0.0",
          "<b>0000000011010000</b><br>P = 0.0",
          "<b>0000000011010001</b><br>P = 0.0",
          "<b>0000000011010010</b><br>P = 0.0",
          "<b>0000000011010011</b><br>P = 0.0",
          "<b>0000000011010100</b><br>P = 0.0",
          "<b>0000000011010101</b><br>P = 0.0",
          "<b>0000000011010110</b><br>P = 0.0",
          "<b>0000000011010111</b><br>P = 0.0",
          "<b>0000000011011000</b><br>P = 0.0",
          "<b>0000000011011001</b><br>P = 0.0",
          "<b>0000000011011010</b><br>P = 0.0",
          "<b>0000000011011011</b><br>P = 0.0",
          "<b>0000000011011100</b><br>P = 0.0",
          "<b>0000000011011101</b><br>P = 0.0",
          "<b>0000000011011110</b><br>P = 0.0",
          "<b>0000000011011111</b><br>P = 0.0",
          "<b>0000000011100000</b><br>P = 0.0",
          "<b>0000000011100001</b><br>P = 0.0",
          "<b>0000000011100010</b><br>P = 0.0",
          "<b>0000000011100011</b><br>P = 0.0",
          "<b>0000000011100100</b><br>P = 0.0",
          "<b>0000000011100101</b><br>P = 0.0",
          "<b>0000000011100110</b><br>P = 0.0",
          "<b>0000000011100111</b><br>P = 0.0",
          "<b>0000000011101000</b><br>P = 0.0",
          "<b>0000000011101001</b><br>P = 0.0",
          "<b>0000000011101010</b><br>P = 0.0",
          "<b>0000000011101011</b><br>P = 0.0",
          "<b>0000000011101100</b><br>P = 0.0",
          "<b>0000000011101101</b><br>P = 0.0",
          "<b>0000000011101110</b><br>P = 0.0",
          "<b>0000000011101111</b><br>P = 0.0",
          "<b>0000000011110000</b><br>P = 0.0",
          "<b>0000000011110001</b><br>P = 0.0",
          "<b>0000000011110010</b><br>P = 0.0",
          "<b>0000000011110011</b><br>P = 0.0",
          "<b>0000000011110100</b><br>P = 0.0",
          "<b>0000000011110101</b><br>P = 0.0",
          "<b>0000000011110110</b><br>P = 0.0",
          "<b>0000000011110111</b><br>P = 0.0",
          "<b>0000000011111000</b><br>P = 0.0",
          "<b>0000000011111001</b><br>P = 0.0",
          "<b>0000000011111010</b><br>P = 0.0",
          "<b>0000000011111011</b><br>P = 0.0",
          "<b>0000000011111100</b><br>P = 0.0",
          "<b>0000000011111101</b><br>P = 0.0",
          "<b>0000000011111110</b><br>P = 0.0",
          "<b>0000000011111111</b><br>P = 0.0"
         ],
         "marker": {
          "color": "#6929c4"
         },
         "name": "",
         "text": [
          0.006,
          0.019,
          0.044,
          0.074,
          0.086,
          0.071,
          0.042,
          0.017,
          0.002,
          0.006,
          0.011,
          0.013,
          0.011,
          0.006,
          0.002,
          0,
          0.003,
          0.009,
          0.018,
          0.024,
          0.022,
          0.014,
          0.007,
          0.002,
          0.001,
          0.003,
          0.004,
          0.004,
          0.003,
          0.001,
          0,
          0,
          0.003,
          0.007,
          0.013,
          0.017,
          0.015,
          0.009,
          0.004,
          0.001,
          0.001,
          0.002,
          0.003,
          0.003,
          0.002,
          0.001,
          0,
          0,
          0.002,
          0.003,
          0.005,
          0.005,
          0.004,
          0.002,
          0.001,
          0,
          0.001,
          0.001,
          0.001,
          0.001,
          0,
          0,
          0,
          0,
          0,
          0,
          0.001,
          0.001,
          0.001,
          0.001,
          0,
          0,
          0,
          0,
          0,
          0,
          0,
          0,
          0,
          0,
          0,
          0,
          0,
          0,
          0,
          0,
          0,
          0,
          0,
          0,
          0,
          0,
          0,
          0,
          0,
          0,
          0,
          0,
          0,
          0,
          0,
          0,
          0,
          0,
          0,
          0,
          0,
          0,
          0,
          0,
          0,
          0,
          0,
          0,
          0,
          0,
          0,
          0,
          0,
          0,
          0,
          0,
          0,
          0,
          0,
          0,
          0,
          0,
          0.002,
          0.008,
          0.02,
          0.033,
          0.038,
          0.032,
          0.019,
          0.008,
          0.001,
          0.003,
          0.006,
          0.007,
          0.006,
          0.003,
          0.001,
          0,
          0.002,
          0.006,
          0.011,
          0.015,
          0.014,
          0.009,
          0.004,
          0.001,
          0.001,
          0.002,
          0.003,
          0.003,
          0.002,
          0.001,
          0,
          0,
          0.002,
          0.005,
          0.009,
          0.012,
          0.011,
          0.007,
          0.003,
          0.001,
          0.001,
          0.002,
          0.003,
          0.003,
          0.002,
          0.001,
          0,
          0,
          0.002,
          0.003,
          0.005,
          0.005,
          0.004,
          0.002,
          0.001,
          0,
          0.001,
          0.001,
          0.001,
          0.001,
          0.001,
          0,
          0,
          0,
          0,
          0,
          0.001,
          0.001,
          0.001,
          0.001,
          0,
          0,
          0,
          0,
          0,
          0,
          0,
          0,
          0,
          0,
          0,
          0,
          0,
          0,
          0,
          0,
          0,
          0,
          0,
          0,
          0,
          0,
          0,
          0,
          0,
          0,
          0,
          0,
          0,
          0,
          0,
          0,
          0,
          0,
          0,
          0,
          0,
          0,
          0,
          0,
          0,
          0,
          0,
          0,
          0,
          0,
          0,
          0,
          0,
          0,
          0,
          0,
          0,
          0,
          0,
          0,
          0,
          0
         ],
         "textposition": "auto",
         "type": "bar",
         "width": 0.5,
         "x": [
          0,
          1,
          2,
          3,
          4,
          5,
          6,
          7,
          8,
          9,
          10,
          11,
          12,
          13,
          14,
          15,
          16,
          17,
          18,
          19,
          20,
          21,
          22,
          23,
          24,
          25,
          26,
          27,
          28,
          29,
          30,
          31,
          32,
          33,
          34,
          35,
          36,
          37,
          38,
          39,
          40,
          41,
          42,
          43,
          44,
          45,
          46,
          47,
          48,
          49,
          50,
          51,
          52,
          53,
          54,
          55,
          56,
          57,
          58,
          59,
          60,
          61,
          62,
          63,
          64,
          65,
          66,
          67,
          68,
          69,
          70,
          71,
          72,
          73,
          74,
          75,
          76,
          77,
          78,
          79,
          80,
          81,
          82,
          83,
          84,
          85,
          86,
          87,
          88,
          89,
          90,
          91,
          92,
          93,
          94,
          95,
          96,
          97,
          98,
          99,
          100,
          101,
          102,
          103,
          104,
          105,
          106,
          107,
          108,
          109,
          110,
          111,
          112,
          113,
          114,
          115,
          116,
          117,
          118,
          119,
          120,
          121,
          122,
          123,
          124,
          125,
          126,
          127,
          128,
          129,
          130,
          131,
          132,
          133,
          134,
          135,
          136,
          137,
          138,
          139,
          140,
          141,
          142,
          143,
          144,
          145,
          146,
          147,
          148,
          149,
          150,
          151,
          152,
          153,
          154,
          155,
          156,
          157,
          158,
          159,
          160,
          161,
          162,
          163,
          164,
          165,
          166,
          167,
          168,
          169,
          170,
          171,
          172,
          173,
          174,
          175,
          176,
          177,
          178,
          179,
          180,
          181,
          182,
          183,
          184,
          185,
          186,
          187,
          188,
          189,
          190,
          191,
          192,
          193,
          194,
          195,
          196,
          197,
          198,
          199,
          200,
          201,
          202,
          203,
          204,
          205,
          206,
          207,
          208,
          209,
          210,
          211,
          212,
          213,
          214,
          215,
          216,
          217,
          218,
          219,
          220,
          221,
          222,
          223,
          224,
          225,
          226,
          227,
          228,
          229,
          230,
          231,
          232,
          233,
          234,
          235,
          236,
          237,
          238,
          239,
          240,
          241,
          242,
          243,
          244,
          245,
          246,
          247,
          248,
          249,
          250,
          251,
          252,
          253,
          254,
          255
         ],
         "y": [
          0.005585962789844085,
          0.018749594949992284,
          0.04424572268477067,
          0.07352968573458213,
          0.08617189738727131,
          0.07129743183092908,
          0.04168612496337163,
          0.017236352394554264,
          0.0023948493482510366,
          0.006137329842914094,
          0.010849887701875165,
          0.0131494570704122,
          0.010817106999313165,
          0.00594210726648209,
          0.002118022618458032,
          0.00046293743877500707,
          0.0033230939091160507,
          0.009152865953703139,
          0.01761960256582727,
          0.023689582567328362,
          0.022213106115293337,
          0.01449143292317322,
          0.0065535512058510995,
          0.0020433124187480313,
          0.0014109166494310215,
          0.0029670390361850453,
          0.004278865565672065,
          0.004195474671486064,
          0.002761425589212042,
          0.0011960697739130182,
          0.00032975724673400505,
          0.00005434884238900083,
          0.00262159998870904,
          0.0069878091464871065,
          0.012955826154936198,
          0.016666176602307254,
          0.014814552073233225,
          0.009042596240409137,
          0.0037531717176160573,
          0.0010426354362400158,
          0.001107150631804017,
          0.002253142890373034,
          0.003129530492977048,
          0.0029358997144300447,
          0.0018318677641430278,
          0.0007423690643480113,
          0.00018784412991600284,
          0.00002758478140300042,
          0.0015117946992480229,
          0.00330664873717205,
          0.005001171443026076,
          0.005204901240992079,
          0.0037018087382650563,
          0.001781609007242027,
          0.0005719596895300086,
          0.00011981293498800181,
          0.0006309065985850097,
          0.001053580510286016,
          0.0011937620927450182,
          0.0009060448505630137,
          0.0004523259848180069,
          0.0001445343559630022,
          0.000028287631148000432,
          0.0000031323677080000475,
          0.00013550916171600207,
          0.0004040882064380061,
          0.0008412423003890128,
          0.0012235493069740187,
          0.001243604428941019,
          0.0008830604889690135,
          0.00043771803020200667,
          0.0001512387505630023,
          0.00005690135592600087,
          0.00012955003854200198,
          0.00020204534501600305,
          0.00021430898712100326,
          0.00015289790214100232,
          0.0000720826676590011,
          0.000021782478814000333,
          0.00000397844920300006,
          0.00007721950549400118,
          0.00018895359924100288,
          0.00032089259755500486,
          0.00037759823455300575,
          0.0003070716178620047,
          0.0001719260475400026,
          0.000065916386053001,
          0.00001717379490900026,
          0.000032010234919000485,
          0.00005980320071200091,
          0.00007608434986600115,
          0.00006529151589300099,
          0.000037270638437000566,
          0.00001385447154200021,
          0.0000032382780880000492,
          4.459897700000068e-7,
          0.000059477667612000906,
          0.00014084524936400214,
          0.0002303731198950035,
          0.00025936515405500395,
          0.00019995027788700305,
          0.0001047433812100016,
          0.00003685685107500056,
          0.00000855592719300013,
          0.000024475741113000374,
          0.00004425186090500067,
          0.000054223496048000824,
          0.00004452034290100068,
          0.000024091799666000366,
          0.000008379053262000127,
          0.0000017974592630000274,
          2.2056966400000336e-7,
          0.00003249001308200049,
          0.00006313334434400097,
          0.00008423799077700128,
          0.00007672867644400117,
          0.000047327877516000716,
          0.000019548588923000298,
          0.000005320528569000081,
          9.313391750000142e-7,
          0.0000131446215650002,
          0.0000195013380580003,
          0.0000194930586980003,
          0.000012948541686000197,
          0.000005606354288000085,
          0.0000015374466540000232,
          2.5510083900000384e-7,
          2.360493700000036e-8,
          0.0024939239855250378,
          0.008370994638502126,
          0.019754064466925302,
          0.0328282614475995,
          0.03847253729706358,
          0.03183164336016449,
          0.018611299577352285,
          0.007695388293292117,
          0.0012641548641350194,
          0.0032396757563820495,
          0.005727265610112086,
          0.006941125598747106,
          0.005709961855860086,
          0.003136624777511048,
          0.001118027986782017,
          0.0002443680290140037,
          0.002065217574301031,
          0.0056882712736320866,
          0.010950130771604167,
          0.014722467551003223,
          0.01380487533116921,
          0.009006053626001136,
          0.004072863871609061,
          0.0012698662247880193,
          0.0010291985357940155,
          0.002164317950969033,
          0.0031212348205150475,
          0.0030604050144240466,
          0.002014332437190031,
          0.0008724776623160132,
          0.00024054268240700366,
          0.000039644970545000604,
          0.001912336119150029,
          0.005097284056341077,
          0.009450676844757144,
          0.012157206142044186,
          0.010806531561139164,
          0.0065961563457041005,
          0.0027377654363290416,
          0.0007605543989990115,
          0.0009460577581850144,
          0.0019253056002530293,
          0.002674176862034041,
          0.0025087197914190383,
          0.0015653269396700238,
          0.0006343527182190097,
          0.00016051239220000245,
          0.00002357113450000036,
          0.0015117946992480229,
          0.00330664873717205,
          0.005001171443026076,
          0.005204901240992079,
          0.0037018087382650563,
          0.001781609007242027,
          0.0005719596895300086,
          0.00011981293498800181,
          0.0007383361461710113,
          0.0012329821488470186,
          0.0013970335783120213,
          0.001060324404155016,
          0.000529347173088008,
          0.00016914538476900257,
          0.0000331043939200005,
          0.0000036657411840000557,
          0.00011579227800100177,
          0.00034529247575700527,
          0.000718839679023011,
          0.0010455201678370159,
          0.0010626572250570163,
          0.0007545732283730115,
          0.0003740290855410057,
          0.00012923317676700197,
          0.00005690135592600087,
          0.00012955003854200198,
          0.00020204534501600305,
          0.00021430898712100326,
          0.00015289790214100232,
          0.0000720826676590011,
          0.000021782478814000333,
          0.00000397844920300006,
          0.00009036829258600137,
          0.00022112825033300336,
          0.0003755335644680057,
          0.0004418949269610067,
          0.00035935917525600547,
          0.00020120128027100307,
          0.00007714049996700117,
          0.000020098115279000304,
          0.00004388246954200066,
          0.00008198353246600124,
          0.00010430317597000158,
          0.00008950740176600135,
          0.00005109389731600078,
          0.00001899293857200029,
          0.000004439318859000068,
          6.114023390000093e-7,
          0.00008153726281600125,
          0.00019308316171200293,
          0.00031581590833700484,
          0.00035556076054500544,
          0.0002741095778100042,
          0.00014359151837800219,
          0.00005052664089500076,
          0.000011729223963000178,
          0.000039383349835000594,
          0.00007120464752400108,
          0.00008724977536900132,
          0.00007163665570600108,
          0.00003876555851800059,
          0.000013482541117000204,
          0.0000028922501940000442,
          3.549135530000054e-7,
          0.00006154996421900094,
          0.00011960152418500181,
          0.00015958274024300244,
          0.00014535689098600223,
          0.00008965921805900137,
          0.00003703337840200056,
          0.000010079353991000153,
          0.000001764354256000027,
          0.00002944170206200045,
          0.00004367965879300066,
          0.000043661114443000663,
          0.00002900251670000044,
          0.000012557273848000191,
          0.0000034436173080000526,
          5.713822090000087e-7,
          5.287101900000081e-8
         ]
        }
       ],
       "layout": {
        "font": {
         "color": "#000000"
        },
        "paper_bgcolor": "#ffffff",
        "plot_bgcolor": "#e5e0df",
        "showlegend": false,
        "template": {
         "data": {
          "bar": [
           {
            "error_x": {
             "color": "#2a3f5f"
            },
            "error_y": {
             "color": "#2a3f5f"
            },
            "marker": {
             "line": {
              "color": "#E5ECF6",
              "width": 0.5
             }
            },
            "type": "bar"
           }
          ],
          "barpolar": [
           {
            "marker": {
             "line": {
              "color": "#E5ECF6",
              "width": 0.5
             }
            },
            "type": "barpolar"
           }
          ],
          "carpet": [
           {
            "aaxis": {
             "endlinecolor": "#2a3f5f",
             "gridcolor": "white",
             "linecolor": "white",
             "minorgridcolor": "white",
             "startlinecolor": "#2a3f5f"
            },
            "baxis": {
             "endlinecolor": "#2a3f5f",
             "gridcolor": "white",
             "linecolor": "white",
             "minorgridcolor": "white",
             "startlinecolor": "#2a3f5f"
            },
            "type": "carpet"
           }
          ],
          "choropleth": [
           {
            "colorbar": {
             "outlinewidth": 0,
             "ticks": ""
            },
            "type": "choropleth"
           }
          ],
          "contour": [
           {
            "colorbar": {
             "outlinewidth": 0,
             "ticks": ""
            },
            "colorscale": [
             [
              0,
              "#0d0887"
             ],
             [
              0.1111111111111111,
              "#46039f"
             ],
             [
              0.2222222222222222,
              "#7201a8"
             ],
             [
              0.3333333333333333,
              "#9c179e"
             ],
             [
              0.4444444444444444,
              "#bd3786"
             ],
             [
              0.5555555555555556,
              "#d8576b"
             ],
             [
              0.6666666666666666,
              "#ed7953"
             ],
             [
              0.7777777777777778,
              "#fb9f3a"
             ],
             [
              0.8888888888888888,
              "#fdca26"
             ],
             [
              1,
              "#f0f921"
             ]
            ],
            "type": "contour"
           }
          ],
          "contourcarpet": [
           {
            "colorbar": {
             "outlinewidth": 0,
             "ticks": ""
            },
            "type": "contourcarpet"
           }
          ],
          "heatmap": [
           {
            "colorbar": {
             "outlinewidth": 0,
             "ticks": ""
            },
            "colorscale": [
             [
              0,
              "#0d0887"
             ],
             [
              0.1111111111111111,
              "#46039f"
             ],
             [
              0.2222222222222222,
              "#7201a8"
             ],
             [
              0.3333333333333333,
              "#9c179e"
             ],
             [
              0.4444444444444444,
              "#bd3786"
             ],
             [
              0.5555555555555556,
              "#d8576b"
             ],
             [
              0.6666666666666666,
              "#ed7953"
             ],
             [
              0.7777777777777778,
              "#fb9f3a"
             ],
             [
              0.8888888888888888,
              "#fdca26"
             ],
             [
              1,
              "#f0f921"
             ]
            ],
            "type": "heatmap"
           }
          ],
          "heatmapgl": [
           {
            "colorbar": {
             "outlinewidth": 0,
             "ticks": ""
            },
            "colorscale": [
             [
              0,
              "#0d0887"
             ],
             [
              0.1111111111111111,
              "#46039f"
             ],
             [
              0.2222222222222222,
              "#7201a8"
             ],
             [
              0.3333333333333333,
              "#9c179e"
             ],
             [
              0.4444444444444444,
              "#bd3786"
             ],
             [
              0.5555555555555556,
              "#d8576b"
             ],
             [
              0.6666666666666666,
              "#ed7953"
             ],
             [
              0.7777777777777778,
              "#fb9f3a"
             ],
             [
              0.8888888888888888,
              "#fdca26"
             ],
             [
              1,
              "#f0f921"
             ]
            ],
            "type": "heatmapgl"
           }
          ],
          "histogram": [
           {
            "marker": {
             "colorbar": {
              "outlinewidth": 0,
              "ticks": ""
             }
            },
            "type": "histogram"
           }
          ],
          "histogram2d": [
           {
            "colorbar": {
             "outlinewidth": 0,
             "ticks": ""
            },
            "colorscale": [
             [
              0,
              "#0d0887"
             ],
             [
              0.1111111111111111,
              "#46039f"
             ],
             [
              0.2222222222222222,
              "#7201a8"
             ],
             [
              0.3333333333333333,
              "#9c179e"
             ],
             [
              0.4444444444444444,
              "#bd3786"
             ],
             [
              0.5555555555555556,
              "#d8576b"
             ],
             [
              0.6666666666666666,
              "#ed7953"
             ],
             [
              0.7777777777777778,
              "#fb9f3a"
             ],
             [
              0.8888888888888888,
              "#fdca26"
             ],
             [
              1,
              "#f0f921"
             ]
            ],
            "type": "histogram2d"
           }
          ],
          "histogram2dcontour": [
           {
            "colorbar": {
             "outlinewidth": 0,
             "ticks": ""
            },
            "colorscale": [
             [
              0,
              "#0d0887"
             ],
             [
              0.1111111111111111,
              "#46039f"
             ],
             [
              0.2222222222222222,
              "#7201a8"
             ],
             [
              0.3333333333333333,
              "#9c179e"
             ],
             [
              0.4444444444444444,
              "#bd3786"
             ],
             [
              0.5555555555555556,
              "#d8576b"
             ],
             [
              0.6666666666666666,
              "#ed7953"
             ],
             [
              0.7777777777777778,
              "#fb9f3a"
             ],
             [
              0.8888888888888888,
              "#fdca26"
             ],
             [
              1,
              "#f0f921"
             ]
            ],
            "type": "histogram2dcontour"
           }
          ],
          "mesh3d": [
           {
            "colorbar": {
             "outlinewidth": 0,
             "ticks": ""
            },
            "type": "mesh3d"
           }
          ],
          "parcoords": [
           {
            "line": {
             "colorbar": {
              "outlinewidth": 0,
              "ticks": ""
             }
            },
            "type": "parcoords"
           }
          ],
          "pie": [
           {
            "automargin": true,
            "type": "pie"
           }
          ],
          "scatter": [
           {
            "marker": {
             "colorbar": {
              "outlinewidth": 0,
              "ticks": ""
             }
            },
            "type": "scatter"
           }
          ],
          "scatter3d": [
           {
            "line": {
             "colorbar": {
              "outlinewidth": 0,
              "ticks": ""
             }
            },
            "marker": {
             "colorbar": {
              "outlinewidth": 0,
              "ticks": ""
             }
            },
            "type": "scatter3d"
           }
          ],
          "scattercarpet": [
           {
            "marker": {
             "colorbar": {
              "outlinewidth": 0,
              "ticks": ""
             }
            },
            "type": "scattercarpet"
           }
          ],
          "scattergeo": [
           {
            "marker": {
             "colorbar": {
              "outlinewidth": 0,
              "ticks": ""
             }
            },
            "type": "scattergeo"
           }
          ],
          "scattergl": [
           {
            "marker": {
             "colorbar": {
              "outlinewidth": 0,
              "ticks": ""
             }
            },
            "type": "scattergl"
           }
          ],
          "scattermapbox": [
           {
            "marker": {
             "colorbar": {
              "outlinewidth": 0,
              "ticks": ""
             }
            },
            "type": "scattermapbox"
           }
          ],
          "scatterpolar": [
           {
            "marker": {
             "colorbar": {
              "outlinewidth": 0,
              "ticks": ""
             }
            },
            "type": "scatterpolar"
           }
          ],
          "scatterpolargl": [
           {
            "marker": {
             "colorbar": {
              "outlinewidth": 0,
              "ticks": ""
             }
            },
            "type": "scatterpolargl"
           }
          ],
          "scatterternary": [
           {
            "marker": {
             "colorbar": {
              "outlinewidth": 0,
              "ticks": ""
             }
            },
            "type": "scatterternary"
           }
          ],
          "surface": [
           {
            "colorbar": {
             "outlinewidth": 0,
             "ticks": ""
            },
            "colorscale": [
             [
              0,
              "#0d0887"
             ],
             [
              0.1111111111111111,
              "#46039f"
             ],
             [
              0.2222222222222222,
              "#7201a8"
             ],
             [
              0.3333333333333333,
              "#9c179e"
             ],
             [
              0.4444444444444444,
              "#bd3786"
             ],
             [
              0.5555555555555556,
              "#d8576b"
             ],
             [
              0.6666666666666666,
              "#ed7953"
             ],
             [
              0.7777777777777778,
              "#fb9f3a"
             ],
             [
              0.8888888888888888,
              "#fdca26"
             ],
             [
              1,
              "#f0f921"
             ]
            ],
            "type": "surface"
           }
          ],
          "table": [
           {
            "cells": {
             "fill": {
              "color": "#EBF0F8"
             },
             "line": {
              "color": "white"
             }
            },
            "header": {
             "fill": {
              "color": "#C8D4E3"
             },
             "line": {
              "color": "white"
             }
            },
            "type": "table"
           }
          ]
         },
         "layout": {
          "annotationdefaults": {
           "arrowcolor": "#2a3f5f",
           "arrowhead": 0,
           "arrowwidth": 1
          },
          "autotypenumbers": "strict",
          "coloraxis": {
           "colorbar": {
            "outlinewidth": 0,
            "ticks": ""
           }
          },
          "colorscale": {
           "diverging": [
            [
             0,
             "#8e0152"
            ],
            [
             0.1,
             "#c51b7d"
            ],
            [
             0.2,
             "#de77ae"
            ],
            [
             0.3,
             "#f1b6da"
            ],
            [
             0.4,
             "#fde0ef"
            ],
            [
             0.5,
             "#f7f7f7"
            ],
            [
             0.6,
             "#e6f5d0"
            ],
            [
             0.7,
             "#b8e186"
            ],
            [
             0.8,
             "#7fbc41"
            ],
            [
             0.9,
             "#4d9221"
            ],
            [
             1,
             "#276419"
            ]
           ],
           "sequential": [
            [
             0,
             "#0d0887"
            ],
            [
             0.1111111111111111,
             "#46039f"
            ],
            [
             0.2222222222222222,
             "#7201a8"
            ],
            [
             0.3333333333333333,
             "#9c179e"
            ],
            [
             0.4444444444444444,
             "#bd3786"
            ],
            [
             0.5555555555555556,
             "#d8576b"
            ],
            [
             0.6666666666666666,
             "#ed7953"
            ],
            [
             0.7777777777777778,
             "#fb9f3a"
            ],
            [
             0.8888888888888888,
             "#fdca26"
            ],
            [
             1,
             "#f0f921"
            ]
           ],
           "sequentialminus": [
            [
             0,
             "#0d0887"
            ],
            [
             0.1111111111111111,
             "#46039f"
            ],
            [
             0.2222222222222222,
             "#7201a8"
            ],
            [
             0.3333333333333333,
             "#9c179e"
            ],
            [
             0.4444444444444444,
             "#bd3786"
            ],
            [
             0.5555555555555556,
             "#d8576b"
            ],
            [
             0.6666666666666666,
             "#ed7953"
            ],
            [
             0.7777777777777778,
             "#fb9f3a"
            ],
            [
             0.8888888888888888,
             "#fdca26"
            ],
            [
             1,
             "#f0f921"
            ]
           ]
          },
          "colorway": [
           "#636efa",
           "#EF553B",
           "#00cc96",
           "#ab63fa",
           "#FFA15A",
           "#19d3f3",
           "#FF6692",
           "#B6E880",
           "#FF97FF",
           "#FECB52"
          ],
          "font": {
           "color": "#2a3f5f"
          },
          "geo": {
           "bgcolor": "white",
           "lakecolor": "white",
           "landcolor": "#E5ECF6",
           "showlakes": true,
           "showland": true,
           "subunitcolor": "white"
          },
          "hoverlabel": {
           "align": "left"
          },
          "hovermode": "closest",
          "mapbox": {
           "style": "light"
          },
          "paper_bgcolor": "white",
          "plot_bgcolor": "#E5ECF6",
          "polar": {
           "angularaxis": {
            "gridcolor": "white",
            "linecolor": "white",
            "ticks": ""
           },
           "bgcolor": "#E5ECF6",
           "radialaxis": {
            "gridcolor": "white",
            "linecolor": "white",
            "ticks": ""
           }
          },
          "scene": {
           "xaxis": {
            "backgroundcolor": "#E5ECF6",
            "gridcolor": "white",
            "gridwidth": 2,
            "linecolor": "white",
            "showbackground": true,
            "ticks": "",
            "zerolinecolor": "white"
           },
           "yaxis": {
            "backgroundcolor": "#E5ECF6",
            "gridcolor": "white",
            "gridwidth": 2,
            "linecolor": "white",
            "showbackground": true,
            "ticks": "",
            "zerolinecolor": "white"
           },
           "zaxis": {
            "backgroundcolor": "#E5ECF6",
            "gridcolor": "white",
            "gridwidth": 2,
            "linecolor": "white",
            "showbackground": true,
            "ticks": "",
            "zerolinecolor": "white"
           }
          },
          "shapedefaults": {
           "line": {
            "color": "#2a3f5f"
           }
          },
          "ternary": {
           "aaxis": {
            "gridcolor": "white",
            "linecolor": "white",
            "ticks": ""
           },
           "baxis": {
            "gridcolor": "white",
            "linecolor": "white",
            "ticks": ""
           },
           "bgcolor": "#E5ECF6",
           "caxis": {
            "gridcolor": "white",
            "linecolor": "white",
            "ticks": ""
           }
          },
          "title": {
           "x": 0.05
          },
          "xaxis": {
           "automargin": true,
           "gridcolor": "white",
           "linecolor": "white",
           "ticks": "",
           "title": {
            "standoff": 15
           },
           "zerolinecolor": "white",
           "zerolinewidth": 2
          },
          "yaxis": {
           "automargin": true,
           "gridcolor": "white",
           "linecolor": "white",
           "ticks": "",
           "title": {
            "standoff": 15
           },
           "zerolinecolor": "white",
           "zerolinewidth": 2
          }
         }
        },
        "title": {
         "font": {
          "size": 18
         },
         "x": 0.5
        },
        "xaxis": {
         "linewidth": 1,
         "showline": true,
         "tickangle": -70,
         "tickfont": {
          "size": 14
         },
         "ticktext": [
          "0000000000000000",
          "0000000000000001",
          "0000000000000010",
          "0000000000000011",
          "0000000000000100",
          "0000000000000101",
          "0000000000000110",
          "0000000000000111",
          "0000000000001000",
          "0000000000001001",
          "0000000000001010",
          "0000000000001011",
          "0000000000001100",
          "0000000000001101",
          "0000000000001110",
          "0000000000001111",
          "0000000000010000",
          "0000000000010001",
          "0000000000010010",
          "0000000000010011",
          "0000000000010100",
          "0000000000010101",
          "0000000000010110",
          "0000000000010111",
          "0000000000011000",
          "0000000000011001",
          "0000000000011010",
          "0000000000011011",
          "0000000000011100",
          "0000000000011101",
          "0000000000011110",
          "0000000000011111",
          "0000000000100000",
          "0000000000100001",
          "0000000000100010",
          "0000000000100011",
          "0000000000100100",
          "0000000000100101",
          "0000000000100110",
          "0000000000100111",
          "0000000000101000",
          "0000000000101001",
          "0000000000101010",
          "0000000000101011",
          "0000000000101100",
          "0000000000101101",
          "0000000000101110",
          "0000000000101111",
          "0000000000110000",
          "0000000000110001",
          "0000000000110010",
          "0000000000110011",
          "0000000000110100",
          "0000000000110101",
          "0000000000110110",
          "0000000000110111",
          "0000000000111000",
          "0000000000111001",
          "0000000000111010",
          "0000000000111011",
          "0000000000111100",
          "0000000000111101",
          "0000000000111110",
          "0000000000111111",
          "0000000001000000",
          "0000000001000001",
          "0000000001000010",
          "0000000001000011",
          "0000000001000100",
          "0000000001000101",
          "0000000001000110",
          "0000000001000111",
          "0000000001001000",
          "0000000001001001",
          "0000000001001010",
          "0000000001001011",
          "0000000001001100",
          "0000000001001101",
          "0000000001001110",
          "0000000001001111",
          "0000000001010000",
          "0000000001010001",
          "0000000001010010",
          "0000000001010011",
          "0000000001010100",
          "0000000001010101",
          "0000000001010110",
          "0000000001010111",
          "0000000001011000",
          "0000000001011001",
          "0000000001011010",
          "0000000001011011",
          "0000000001011100",
          "0000000001011101",
          "0000000001011110",
          "0000000001011111",
          "0000000001100000",
          "0000000001100001",
          "0000000001100010",
          "0000000001100011",
          "0000000001100100",
          "0000000001100101",
          "0000000001100110",
          "0000000001100111",
          "0000000001101000",
          "0000000001101001",
          "0000000001101010",
          "0000000001101011",
          "0000000001101100",
          "0000000001101101",
          "0000000001101110",
          "0000000001101111",
          "0000000001110000",
          "0000000001110001",
          "0000000001110010",
          "0000000001110011",
          "0000000001110100",
          "0000000001110101",
          "0000000001110110",
          "0000000001110111",
          "0000000001111000",
          "0000000001111001",
          "0000000001111010",
          "0000000001111011",
          "0000000001111100",
          "0000000001111101",
          "0000000001111110",
          "0000000001111111",
          "0000000010000000",
          "0000000010000001",
          "0000000010000010",
          "0000000010000011",
          "0000000010000100",
          "0000000010000101",
          "0000000010000110",
          "0000000010000111",
          "0000000010001000",
          "0000000010001001",
          "0000000010001010",
          "0000000010001011",
          "0000000010001100",
          "0000000010001101",
          "0000000010001110",
          "0000000010001111",
          "0000000010010000",
          "0000000010010001",
          "0000000010010010",
          "0000000010010011",
          "0000000010010100",
          "0000000010010101",
          "0000000010010110",
          "0000000010010111",
          "0000000010011000",
          "0000000010011001",
          "0000000010011010",
          "0000000010011011",
          "0000000010011100",
          "0000000010011101",
          "0000000010011110",
          "0000000010011111",
          "0000000010100000",
          "0000000010100001",
          "0000000010100010",
          "0000000010100011",
          "0000000010100100",
          "0000000010100101",
          "0000000010100110",
          "0000000010100111",
          "0000000010101000",
          "0000000010101001",
          "0000000010101010",
          "0000000010101011",
          "0000000010101100",
          "0000000010101101",
          "0000000010101110",
          "0000000010101111",
          "0000000010110000",
          "0000000010110001",
          "0000000010110010",
          "0000000010110011",
          "0000000010110100",
          "0000000010110101",
          "0000000010110110",
          "0000000010110111",
          "0000000010111000",
          "0000000010111001",
          "0000000010111010",
          "0000000010111011",
          "0000000010111100",
          "0000000010111101",
          "0000000010111110",
          "0000000010111111",
          "0000000011000000",
          "0000000011000001",
          "0000000011000010",
          "0000000011000011",
          "0000000011000100",
          "0000000011000101",
          "0000000011000110",
          "0000000011000111",
          "0000000011001000",
          "0000000011001001",
          "0000000011001010",
          "0000000011001011",
          "0000000011001100",
          "0000000011001101",
          "0000000011001110",
          "0000000011001111",
          "0000000011010000",
          "0000000011010001",
          "0000000011010010",
          "0000000011010011",
          "0000000011010100",
          "0000000011010101",
          "0000000011010110",
          "0000000011010111",
          "0000000011011000",
          "0000000011011001",
          "0000000011011010",
          "0000000011011011",
          "0000000011011100",
          "0000000011011101",
          "0000000011011110",
          "0000000011011111",
          "0000000011100000",
          "0000000011100001",
          "0000000011100010",
          "0000000011100011",
          "0000000011100100",
          "0000000011100101",
          "0000000011100110",
          "0000000011100111",
          "0000000011101000",
          "0000000011101001",
          "0000000011101010",
          "0000000011101011",
          "0000000011101100",
          "0000000011101101",
          "0000000011101110",
          "0000000011101111",
          "0000000011110000",
          "0000000011110001",
          "0000000011110010",
          "0000000011110011",
          "0000000011110100",
          "0000000011110101",
          "0000000011110110",
          "0000000011110111",
          "0000000011111000",
          "0000000011111001",
          "0000000011111010",
          "0000000011111011",
          "0000000011111100",
          "0000000011111101",
          "0000000011111110",
          "0000000011111111"
         ],
         "tickvals": [
          0,
          1,
          2,
          3,
          4,
          5,
          6,
          7,
          8,
          9,
          10,
          11,
          12,
          13,
          14,
          15,
          16,
          17,
          18,
          19,
          20,
          21,
          22,
          23,
          24,
          25,
          26,
          27,
          28,
          29,
          30,
          31,
          32,
          33,
          34,
          35,
          36,
          37,
          38,
          39,
          40,
          41,
          42,
          43,
          44,
          45,
          46,
          47,
          48,
          49,
          50,
          51,
          52,
          53,
          54,
          55,
          56,
          57,
          58,
          59,
          60,
          61,
          62,
          63,
          64,
          65,
          66,
          67,
          68,
          69,
          70,
          71,
          72,
          73,
          74,
          75,
          76,
          77,
          78,
          79,
          80,
          81,
          82,
          83,
          84,
          85,
          86,
          87,
          88,
          89,
          90,
          91,
          92,
          93,
          94,
          95,
          96,
          97,
          98,
          99,
          100,
          101,
          102,
          103,
          104,
          105,
          106,
          107,
          108,
          109,
          110,
          111,
          112,
          113,
          114,
          115,
          116,
          117,
          118,
          119,
          120,
          121,
          122,
          123,
          124,
          125,
          126,
          127,
          128,
          129,
          130,
          131,
          132,
          133,
          134,
          135,
          136,
          137,
          138,
          139,
          140,
          141,
          142,
          143,
          144,
          145,
          146,
          147,
          148,
          149,
          150,
          151,
          152,
          153,
          154,
          155,
          156,
          157,
          158,
          159,
          160,
          161,
          162,
          163,
          164,
          165,
          166,
          167,
          168,
          169,
          170,
          171,
          172,
          173,
          174,
          175,
          176,
          177,
          178,
          179,
          180,
          181,
          182,
          183,
          184,
          185,
          186,
          187,
          188,
          189,
          190,
          191,
          192,
          193,
          194,
          195,
          196,
          197,
          198,
          199,
          200,
          201,
          202,
          203,
          204,
          205,
          206,
          207,
          208,
          209,
          210,
          211,
          212,
          213,
          214,
          215,
          216,
          217,
          218,
          219,
          220,
          221,
          222,
          223,
          224,
          225,
          226,
          227,
          228,
          229,
          230,
          231,
          232,
          233,
          234,
          235,
          236,
          237,
          238,
          239,
          240,
          241,
          242,
          243,
          244,
          245,
          246,
          247,
          248,
          249,
          250,
          251,
          252,
          253,
          254,
          255
         ],
         "title": {
          "font": {
           "size": 16
          },
          "text": "Basis state"
         }
        },
        "yaxis": {
         "linewidth": 1,
         "showline": true,
         "tickfont": {
          "size": 14
         },
         "title": {
          "font": {
           "size": 16
          },
          "text": "Probability"
         }
        }
       }
      }
     },
     "metadata": {},
     "output_type": "display_data"
    }
   ],
   "source": [
    "job = execute(state_preparation, backend=Aer.get_backend('statevector_simulator'))\n",
    "probability_distribution(job.result().get_counts())"
   ]
  },
  {
   "cell_type": "markdown",
   "metadata": {
    "slideshow": {
     "slide_type": "slide"
    }
   },
   "source": [
    "## Test clasically\n",
    "\n",
    "\n",
    "We evaluate going through the samples the probability of finding |1>\n",
    "In principle the QAE or IQAE should approximate such value. _(This might take a while to run... you are going through all samples my friend)_"
   ]
  },
  {
   "cell_type": "code",
   "execution_count": 25,
   "metadata": {
    "scrolled": false,
    "slideshow": {
     "slide_type": "subslide"
    }
   },
   "outputs": [],
   "source": [
    "# evaluate resulting statevector\n",
    "value = 0\n",
    "for i, a in enumerate(job.result().get_statevector()):\n",
    "    b = ('{0:0%sb}' % (len(qr_state) + 1)).format(i)[-(len(qr_state) + 1):]\n",
    "    am = np.round(np.real(a), decimals=4)\n",
    "    if np.abs(am) > 1e-6 and b[0] == '1':\n",
    "        value += am**2"
   ]
  },
  {
   "cell_type": "code",
   "execution_count": 26,
   "metadata": {
    "scrolled": false,
    "slideshow": {
     "slide_type": "subslide"
    }
   },
   "outputs": [
    {
     "name": "stdout",
     "output_type": "stream",
     "text": [
      "Exact Expected Loss:   $      130,715\n",
      "Exact Operator Value (probability):  0.3579\n",
      "Mapped Operator value: $      138,257\n"
     ]
    }
   ],
   "source": [
    "\n",
    "print('Exact Expected Loss:   $ {0:12,.0f}'.format(expected_loss*lgd_factor))\n",
    "print('Exact Operator Value (probability):  %.4f' % value)\n",
    "print('Mapped Operator value: $ {0:12,.0f}'.format(objective.post_processing(value)*lgd_factor))"
   ]
  },
  {
   "cell_type": "code",
   "execution_count": 27,
   "metadata": {
    "scrolled": false,
    "slideshow": {
     "slide_type": "subslide"
    }
   },
   "outputs": [
    {
     "data": {
      "text/plain": [
       "16"
      ]
     },
     "execution_count": 27,
     "metadata": {},
     "output_type": "execute_result"
    }
   ],
   "source": [
    "state_preparation.num_qubits"
   ]
  },
  {
   "cell_type": "code",
   "execution_count": 28,
   "metadata": {
    "scrolled": false,
    "slideshow": {
     "slide_type": "slide"
    }
   },
   "outputs": [
    {
     "name": "stderr",
     "output_type": "stream",
     "text": [
      "/Users/sergiogago/opt/anaconda3/lib/python3.8/site-packages/qiskit/aqua/algorithms/amplitude_estimators/ae_algorithm.py:91: DeprecationWarning:\n",
      "\n",
      "The package qiskit.aqua.algorithms.amplitude_estimators is deprecated. It was moved/refactored to qiskit.algorithms.amplitude_estimators (pip install qiskit-terra). For more information see <https://github.com/Qiskit/qiskit-aqua/blob/master/README.md#migration-guide>\n",
      "\n",
      "/Users/sergiogago/opt/anaconda3/lib/python3.8/site-packages/qiskit/aqua/quantum_instance.py:135: DeprecationWarning:\n",
      "\n",
      "The class qiskit.aqua.QuantumInstance is deprecated. It was moved/refactored to qiskit.utils.QuantumInstance (pip install qiskit-terra). For more information see <https://github.com/Qiskit/qiskit-aqua/blob/master/README.md#migration-guide>\n",
      "\n"
     ]
    }
   ],
   "source": [
    "# Now, pure quantum estimation\n",
    "#backend = provider.get_backend('ibmq_qasm_simulator')\n",
    "backend = Aer.get_backend('qasm_simulator')\n",
    "\n",
    "# set target precision and confidence level\n",
    "epsilon_iae = 0.01\n",
    "alpha_iae = 0.05\n",
    "\n",
    "# construct amplitude estimation \n",
    "iae = IterativeAmplitudeEstimation(state_preparation=state_preparation,\n",
    "                                  epsilon=epsilon_iae, alpha=alpha_iae,\n",
    "                                  objective_qubits=[len(qr_state)],\n",
    "                                  post_processing=objective.post_processing)\n",
    "result = iae.run(quantum_instance=backend, shots=100)\n"
   ]
  },
  {
   "cell_type": "code",
   "execution_count": 29,
   "metadata": {
    "scrolled": false,
    "slideshow": {
     "slide_type": "subslide"
    }
   },
   "outputs": [
    {
     "name": "stdout",
     "output_type": "stream",
     "text": [
      "Exact value:   $   130,715\n",
      "Estimated value: $   140,854\n",
      "Confidence interval: \t[134711, 146997]\n"
     ]
    }
   ],
   "source": [
    "conf_int = np.array(result['confidence_interval'])\n",
    "print('Exact value:   $ {0:9,.0f}'.format(expected_loss*lgd_factor))\n",
    "print('Estimated value: $ {0:9,.0f}'.format(result['estimation']*lgd_factor))\n",
    "print('Confidence interval: \\t[%.0f, %.0f]' % (tuple(conf_int*lgd_factor)))"
   ]
  },
  {
   "cell_type": "code",
   "execution_count": 54,
   "metadata": {
    "scrolled": false,
    "slideshow": {
     "slide_type": "slide"
    }
   },
   "outputs": [],
   "source": [
    "# Try with \"standard\" QAE and see what happens\n",
    "\n",
    "# AmplitudeEstimation(num_eval_qubits, state_preparation=None, grover_operator=None, objective_qubits=None, post_processing=None, phase_estimation_circuit=None, iqft=None, quantum_instance=None, a_factory=None, q_factory=None, i_objective=None)\n",
    "\n",
    "evaluation_qubits = 3\n",
    "ae = AmplitudeEstimation(evaluation_qubits, state_preparation=state_preparation)\n",
    "ae_result = ae.run(quantum_instance=backend, shots=1000)"
   ]
  },
  {
   "cell_type": "code",
   "execution_count": 55,
   "metadata": {
    "scrolled": false,
    "slideshow": {
     "slide_type": "skip"
    }
   },
   "outputs": [
    {
     "name": "stdout",
     "output_type": "stream",
     "text": [
      "Exact value:   $   130,715\n",
      "Estimated value: $         0\n",
      "Confidence interval: \t[0, 9]\n"
     ]
    }
   ],
   "source": [
    "conf_int = np.array(ae_result['confidence_interval'])\n",
    "print('Exact value:   $ {0:9,.0f}'.format(expected_loss*lgd_factor))\n",
    "print('Estimated value: $ {0:9,.0f}'.format(ae_result['estimation']*lgd_factor))\n",
    "print('Confidence interval: \\t[%.0f, %.0f]' % (tuple(conf_int*lgd_factor)))"
   ]
  },
  {
   "cell_type": "markdown",
   "metadata": {
    "slideshow": {
     "slide_type": "slide"
    }
   },
   "source": [
    "## Great, now what?\n",
    "\n",
    "The expected loss is fine, but this is very easy to calculate even with an excel spreadsheet. However estimating the *Cumulative Distribution Function* is another story. Classically we would need a very expensive Montecarlo that grows exponentially with the size of the problem.\n",
    "\n",
    "![CDF Calculation using the Unitary, the weighted adder and the comparator](imgs/CDF_calculation_quantum_risk.png)\n",
    "\n",
    "To estimate the CDF, i.e., the probability $ \\mathbb{P} [L  \\leq  x] $ , we compute the total loss the same way as before and then apply a comparator.\n",
    "\n",
    "$$ \\begin{split} \\mathcal{C}: |L\\rangle_n|0> \\mapsto \\begin{cases} |L\\rangle_n|1> & \\text{if}\\quad L \\leq x \\\\ |L\\rangle_n|0> & \\text{if}\\quad L > x. \\end{cases}\\end{split} $$\n",
    "\n",
    "The CDF(𝑥) equals the probability of measuring |1⟩ in the objective qubit. So we appliy IQAE et voilà!\n",
    "\n"
   ]
  },
  {
   "cell_type": "code",
   "execution_count": 32,
   "metadata": {
    "scrolled": false,
    "slideshow": {
     "slide_type": "slide"
    }
   },
   "outputs": [
    {
     "data": {
      "image/png": "[encoded data removed]",
      "text/plain": [
       "<Figure size 947.656x505.68 with 1 Axes>"
      ]
     },
     "execution_count": 32,
     "metadata": {},
     "output_type": "execute_result"
    }
   ],
   "source": [
    "# We use an IntegerComparator\n",
    "# IntegerComparator(num_state_qubits=None, value=None, geq=True, name='cmp')\n",
    "# Operator compares basis states |𝑖⟩𝑛 against a classically given integer 𝐿 of fixed value and flips a target qubit if 𝑖≥𝐿 (or < depending on the parameter geq):\n",
    "\n",
    "# So basically we compare the sum from before with value that has L on the objective_qubit.\n",
    "\n",
    "comparator_value = 2\n",
    "\n",
    "comparator = IntegerComparator(weighted_adder.num_sum_qubits, comparator_value + 1, geq=False)\n",
    "comparator.draw('mpl')"
   ]
  },
  {
   "cell_type": "code",
   "execution_count": 33,
   "metadata": {
    "scrolled": false,
    "slideshow": {
     "slide_type": "slide"
    }
   },
   "outputs": [
    {
     "data": {
      "image/png": "[encoded data removed]",
      "text/plain": [
       "<Figure size 529.572x987.28 with 1 Axes>"
      ]
     },
     "execution_count": 33,
     "metadata": {},
     "output_type": "execute_result"
    }
   ],
   "source": [
    "def build_cdf_state_preparation(comparator_value, uncertainty_model, weighted_adder):\n",
    "    cdf_qr_state = QuantumRegister(uncertainty_model.num_qubits, 'state')\n",
    "    cdf_qr_sum = QuantumRegister(weighted_adder.num_sum_qubits, 'sum')\n",
    "    cdf_qr_carry = QuantumRegister(weighted_adder.num_carry_qubits, 'carry')\n",
    "    cdf_qr_obj = QuantumRegister(1, 'objective')\n",
    "    \n",
    "    comparator = IntegerComparator(weighted_adder.num_sum_qubits, comparator_value + 1, geq=False)\n",
    "\n",
    "    if weighted_adder.num_control_qubits > 0:\n",
    "        cdf_qr_control = QuantumRegister(weighted_adder.num_control_qubits, 'control')\n",
    "        cdf_state_preparation = QuantumCircuit(cdf_qr_state, cdf_qr_obj, cdf_qr_sum, cdf_qr_carry, cdf_qr_control, name='A')\n",
    "        cdf_state_preparation.append(uncertainty_model, cdf_qr_state)\n",
    "        cdf_state_preparation.append(weighted_adder, cdf_qr_state[:] + cdf_qr_sum[:] + cdf_qr_carry[:] + cdf_qr_control[:])\n",
    "        cdf_state_preparation.append(comparator, cdf_qr_sum[:] + cdf_qr_obj[:] + cdf_qr_carry[:])\n",
    "        cdf_state_preparation.append(weighted_adder.inverse(), cdf_qr_state[:] + cdf_qr_sum[:] + cdf_qr_carry[:] + cdf_qr_control[:])\n",
    "    else:\n",
    "        cdf_state_preparation = QuantumCircuit(cdf_qr_state, cdf_qr_obj, cdf_qr_sum, cdf_qr_carry, name='A')\n",
    "        cdf_state_preparation.append(uncertainty_model, cdf_qr_state)\n",
    "        cdf_state_preparation.append(weighted_adder, cdf_qr_state[:] + cdf_qr_sum[:] + cdf_qr_carry[:])\n",
    "        cdf_state_preparation.append(comparator, cdf_qr_sum[:] + cdf_qr_obj[:] + cdf_qr_carry[:])\n",
    "        cdf_state_preparation.append(weighted_adder.inverse(), cdf_qr_state[:] + cdf_qr_sum[:] + cdf_qr_carry[:])\n",
    "    \n",
    "    return cdf_state_preparation\n",
    "\n",
    "weighted_adder = WeightedAdder(n_z + K, [0]*n_z + loss_given_default)\n",
    "comparator_value = 2\n",
    "cdf_state_preparation = build_cdf_state_preparation(comparator_value, uncertainty_model, weighted_adder)\n",
    "cdf_state_preparation.draw('mpl')\n"
   ]
  },
  {
   "cell_type": "code",
   "execution_count": 34,
   "metadata": {
    "scrolled": false,
    "slideshow": {
     "slide_type": "slide"
    }
   },
   "outputs": [
    {
     "name": "stdout",
     "output_type": "stream",
     "text": [
      "Test for a single test comparison value:  2\n",
      "Exact value:    \t0.7585\n",
      "Estimated value:\t0.7576\n",
      "Confidence interval: \t[0.7524, 0.7627]\n"
     ]
    }
   ],
   "source": [
    "# Test for a single value on the CDF\n",
    "# set target precision and confidence level\n",
    "epsilon_iae = 0.01\n",
    "alpha_iae = 0.05\n",
    "\n",
    "# construct amplitude estimation\n",
    "iae_cdf = IterativeAmplitudeEstimation(state_preparation=cdf_state_preparation,\n",
    "                                      epsilon=epsilon_iae, alpha=alpha_iae,\n",
    "                                      objective_qubits=[len(qr_state)])\n",
    "iae_result_cdf = iae_cdf.run(quantum_instance=Aer.get_backend('qasm_simulator'), shots=100)\n",
    "\n",
    "# print results\n",
    "cdf_conf_int = np.array(iae_result_cdf['confidence_interval'])\n",
    "print(\"Test for a single test comparison value: \", comparator_value)\n",
    "print('Exact value:    \\t%.4f' % cdf[comparator_value])\n",
    "print('Estimated value:\\t%.4f' % iae_result_cdf['estimation'])\n",
    "print('Confidence interval: \\t[%.4f, %.4f]' % tuple(cdf_conf_int))"
   ]
  },
  {
   "cell_type": "markdown",
   "metadata": {
    "slideshow": {
     "slide_type": "slide"
    }
   },
   "source": [
    "Once we have the CDF properly estimated, we can go ahead and get the VaR and CVaR using the Bisection search"
   ]
  },
  {
   "cell_type": "code",
   "execution_count": 35,
   "metadata": {
    "scrolled": false,
    "slideshow": {
     "slide_type": "subslide"
    }
   },
   "outputs": [
    {
     "name": "stdout",
     "output_type": "stream",
     "text": [
      "--------------------------------------------------------------------\n",
      "start bisection search for target value 0.900\n",
      "--------------------------------------------------------------------\n",
      "low_level    low_value    level    value    high_level    high_value\n",
      "--------------------------------------------------------------------\n",
      "-1           0.000         4       0.938    10            1.000\n",
      "-1           0.000         2       0.761     4            0.938\n",
      " 2           0.761         3       0.905     4            0.938\n",
      "--------------------------------------------------------------------\n",
      "finished bisection search\n",
      "--------------------------------------------------------------------\n",
      "VaR:  3\n"
     ]
    }
   ],
   "source": [
    "target_value = 1 - alpha\n",
    "low_level = min(losses) - 1\n",
    "high_level = max(losses)\n",
    "low_value = 0\n",
    "high_value = 1\n",
    "\n",
    "# check whether low and high values are given and evaluated them otherwise\n",
    "print('--------------------------------------------------------------------')\n",
    "print('start bisection search for target value %.3f' % target_value)\n",
    "print('--------------------------------------------------------------------')\n",
    "num_eval = 0\n",
    "\n",
    "# check if low_value already satisfies the condition\n",
    "if low_value > target_value:\n",
    "    level = low_level\n",
    "    value = low_value\n",
    "    print(\"Low value found\")\n",
    "elif low_value == target_value:\n",
    "    level = low_level\n",
    "    value = low_value\n",
    "    print(\"Convergence found\")\n",
    "\n",
    "# check if high_value is above target\n",
    "if high_value < target_value:\n",
    "    level = high_level\n",
    "    value = high_value\n",
    "    print(\"Low value found\")\n",
    "elif high_value == target_value:\n",
    "    level = high_level\n",
    "    value = high_value\n",
    "    print(\"Convergende found\")\n",
    "\n",
    "# perform bisection search until\n",
    "print('low_level    low_value    level    value    high_level    high_value')\n",
    "print('--------------------------------------------------------------------')\n",
    "while high_level - low_level > 1:\n",
    "\n",
    "    level = int(np.round((high_level + low_level) / 2.0))\n",
    "    num_eval += 1\n",
    "\n",
    "    cdf_state_pareparation = build_cdf_state_preparation(level, uncertainty_model, weighted_adder)\n",
    "    iae_var = IterativeAmplitudeEstimation(state_preparation=cdf_state_pareparation, epsilon=0.01, alpha=0.05, objective_qubits = [uncertainty_model.num_qubits])\n",
    "    value = iae_var.run(quantum_instance=backend, shots=100)['estimation']\n",
    "\n",
    "    print('%2d           %.3f        %2d       %.3f    %2d            %.3f' % (low_level, low_value, level, value, high_level, high_value))\n",
    "\n",
    "    if value >= target_value:\n",
    "        high_level = level\n",
    "        high_value = value\n",
    "    else:\n",
    "        low_level = level\n",
    "        low_value = value\n",
    "\n",
    "\n",
    "# return high value after bisection search\n",
    "print('--------------------------------------------------------------------')\n",
    "print('finished bisection search')\n",
    "print('--------------------------------------------------------------------')\n",
    "print('VaR: ', level)\n",
    "var = level\n",
    "estimated_probability = value\n"
   ]
  },
  {
   "cell_type": "markdown",
   "metadata": {
    "slideshow": {
     "slide_type": "slide"
    }
   },
   "source": [
    "## The Circuit\n",
    "\n",
    "We are building our uncertainty model, the adders and the comparator with different levels in order to run the IAE. Each iteration of the bisection search runs the model once with a different level to compare, converging eventually to our desired VaR"
   ]
  },
  {
   "cell_type": "code",
   "execution_count": 36,
   "metadata": {
    "scrolled": false,
    "slideshow": {
     "slide_type": "subslide"
    }
   },
   "outputs": [
    {
     "data": {
      "image/png": "[encoded data removed]",
      "text/plain": [
       "<Figure size 529.572x987.28 with 1 Axes>"
      ]
     },
     "execution_count": 36,
     "metadata": {},
     "output_type": "execute_result"
    }
   ],
   "source": [
    "cdf_state_preparation.draw('mpl')"
   ]
  },
  {
   "cell_type": "code",
   "execution_count": 37,
   "metadata": {
    "scrolled": false,
    "slideshow": {
     "slide_type": "slide"
    }
   },
   "outputs": [
    {
     "name": "stdout",
     "output_type": "stream",
     "text": [
      "Estimated Value at Risk: $   300,000\n",
      "Exact Value at Risk: $   300,000\n",
      "Estimated Probability:    0.905\n",
      "Exact Probability:        0.906\n"
     ]
    }
   ],
   "source": [
    "print('Estimated Value at Risk: $ {0:9,.0f}'.format(var * lgd_factor))\n",
    "print('Exact Value at Risk: $ {0:9,.0f}'.format(exact_var * lgd_factor))\n",
    "\n",
    "print('Estimated Probability:    %.3f' % estimated_probability)\n",
    "print('Exact Probability:        %.3f' % cdf[exact_var])"
   ]
  },
  {
   "cell_type": "markdown",
   "metadata": {
    "slideshow": {
     "slide_type": "slide"
    }
   },
   "source": [
    "# Lastly, get CVaR\n",
    "\n",
    "Expected value of the loss conditional to it being larger than or equal to the VaR. To do so, we evaluate a piecewise linear objective function 𝑓(𝐿), dependent on the total loss 𝐿\n",
    "\n",
    "$$ \\begin{split} f(L) = \\begin{cases} 0 & \\text{if}\\quad L \\leq VaR \\\\L & \\text{if}\\quad L > VaR. \\end{cases}\\end{split} $$\n",
    "\n",
    "To normalize, we have to divide the resulting expected value by the VaR-probabilit\n"
   ]
  },
  {
   "cell_type": "code",
   "execution_count": 38,
   "metadata": {
    "scrolled": false,
    "slideshow": {
     "slide_type": "slide"
    }
   },
   "outputs": [
    {
     "data": {
      "image/png": "[encoded data removed]",
      "text/plain": [
       "<Figure size 561.083x565.88 with 1 Axes>"
      ]
     },
     "execution_count": 38,
     "metadata": {},
     "output_type": "execute_result"
    }
   ],
   "source": [
    "breakpoints = [0, var]\n",
    "slopes = [0, 1]\n",
    "offsets = [0, 0]\n",
    "f_min = 0\n",
    "f_max = sum(loss_given_default) - var\n",
    "c_approx = 0.25\n",
    "\n",
    "cvar_objective = LinearAmplitudeFunction(\n",
    "    weighted_adder.num_sum_qubits,\n",
    "    slopes,\n",
    "    offsets,\n",
    "    domain=(0, 2**weighted_adder.num_sum_qubits - 1),\n",
    "    image=(f_min, f_max),\n",
    "    rescaling_factor=c_approx,\n",
    "    breakpoints=breakpoints\n",
    ")\n",
    "\n",
    "cvar_objective.draw('mpl')"
   ]
  },
  {
   "cell_type": "code",
   "execution_count": 39,
   "metadata": {
    "scrolled": false,
    "slideshow": {
     "slide_type": "slide"
    }
   },
   "outputs": [
    {
     "data": {
      "image/png": "[encoded data removed]",
      "text/plain": [
       "<Figure size 529.572x1047.48 with 1 Axes>"
      ]
     },
     "execution_count": 39,
     "metadata": {},
     "output_type": "execute_result"
    }
   ],
   "source": [
    "# define the registers for convenience and readability\n",
    "cvar_qr_state = QuantumRegister(uncertainty_model.num_qubits, 'state')\n",
    "cvar_qr_sum = QuantumRegister(weighted_adder.num_sum_qubits, 'sum')\n",
    "cvar_qr_carry = QuantumRegister(weighted_adder.num_carry_qubits, 'carry')\n",
    "cvar_qr_obj = QuantumRegister(1, 'objective')\n",
    "cvar_qr_work = QuantumRegister(cvar_objective.num_ancillas - len(cvar_qr_carry), 'work')\n",
    "\n",
    "if weighted_adder.num_control_qubits > 0:\n",
    "    cvar_qr_control = QuantumRegister(weighted_adder.num_control_qubits, 'control')\n",
    "    cvar_state_preparation = QuantumCircuit(cvar_qr_state, cvar_qr_obj, cvar_qr_sum, cvar_qr_carry, cvar_qr_control, cvar_qr_work, name='A')\n",
    "    cvar_state_preparation.append(uncertainty_model, cvar_qr_state)\n",
    "    cvar_state_preparation.append(weighted_adder, cvar_qr_state[:] + cvar_qr_sum[:] + cvar_qr_carry[:] + cvar_qr_control[:])\n",
    "    cvar_state_preparation.append(cvar_objective, cvar_qr_sum[:] + cvar_qr_obj[:] + cvar_qr_carry[:] + cvar_qr_work[:])\n",
    "    cvar_state_preparation.append(weighted_adder.inverse(), cvar_qr_state[:] + cvar_qr_sum[:] + cvar_qr_carry[:] + cvar_qr_control[:])\n",
    "else:\n",
    "    cvar_state_preparation = QuantumCircuit(cvar_qr_state, cvar_qr_obj, cvar_qr_sum, cvar_qr_carry, cvar_qr_work, name='A')\n",
    "    cvar_state_preparation.append(uncertainty_model, cvar_qr_state)\n",
    "    cvar_state_preparation.append(weighted_adder, cvar_qr_state[:] + cvar_qr_sum[:] + cvar_qr_carry[:])\n",
    "    cvar_state_preparation.append(cvar_objective, cvar_qr_sum[:] + cvar_qr_obj[:] + cvar_qr_carry[:] + cvar_qr_work[:])\n",
    "    cvar_state_preparation.append(weighted_adder.inverse(), cvar_qr_state[:] + cvar_qr_sum[:] + cvar_qr_carry[:])\n",
    "\n",
    "cvar_state_preparation.draw('mpl')\n"
   ]
  },
  {
   "cell_type": "code",
   "execution_count": 40,
   "metadata": {
    "scrolled": false,
    "slideshow": {
     "slide_type": "slide"
    }
   },
   "outputs": [
    {
     "name": "stdout",
     "output_type": "stream",
     "text": [
      "Estimated CVaR: $   578,333\n",
      "Exact CVaR: $   492,839\n"
     ]
    }
   ],
   "source": [
    "job = execute(cvar_state_preparation, backend=Aer.get_backend('statevector_simulator'))\n",
    "value = 0\n",
    "for i, a in enumerate(job.result().get_statevector()):\n",
    "    b = ('{0:0%sb}' % (len(cvar_qr_state) + 1)).format(i)[-(len(cvar_qr_state) + 1):]\n",
    "    am = np.round(np.real(a), decimals=4)\n",
    "    if np.abs(am) > 1e-6 and b[0] == '1':\n",
    "        value += am**2\n",
    "\n",
    "# normalize and add VaR to estimate\n",
    "value = cvar_objective.post_processing(value)\n",
    "d = (1.0 - estimated_probability)\n",
    "v = value / d if d != 0 else 0\n",
    "normalized_cvar = v + var\n",
    "print('Estimated CVaR: $ {0:9,.0f}'.format(normalized_cvar * lgd_factor))\n",
    "print('Exact CVaR: $ {0:9,.0f}'.format(exact_cvar * lgd_factor))"
   ]
  },
  {
   "cell_type": "code",
   "execution_count": 41,
   "metadata": {
    "scrolled": false,
    "slideshow": {
     "slide_type": "slide"
    }
   },
   "outputs": [],
   "source": [
    "# set target precision and confidence level\n",
    "epsilon_iae = 0.01\n",
    "alpha_iae = 0.05\n",
    "\n",
    "# construct amplitude estimation\n",
    "ae_cvar = IterativeAmplitudeEstimation(state_preparation=cvar_state_preparation,\n",
    "                                       epsilon=epsilon_iae, alpha=alpha_iae,\n",
    "                                       objective_qubits=[len(cvar_qr_state)],\n",
    "                                       post_processing=cvar_objective.post_processing)\n",
    "result_cvar = ae_cvar.run(quantum_instance=Aer.get_backend('qasm_simulator'), shots=100)"
   ]
  },
  {
   "cell_type": "code",
   "execution_count": 42,
   "metadata": {
    "scrolled": false,
    "slideshow": {
     "slide_type": "slide"
    }
   },
   "outputs": [
    {
     "name": "stdout",
     "output_type": "stream",
     "text": [
      "Estimated CVaR: $   593,552\n",
      "Exact CVaR: $   492,839\n",
      "Error:  0.16967810439161268\n"
     ]
    }
   ],
   "source": [
    "# print results\n",
    "d = (1.0 - estimated_probability)\n",
    "v = result_cvar['estimation'] / d if d != 0 else 0\n",
    "print('Estimated CVaR: $ {0:9,.0f}'.format((v + var) * lgd_factor))\n",
    "print('Exact CVaR: $ {0:9,.0f}'.format(exact_cvar * lgd_factor))\n",
    "print('Error: ', 1-(exact_cvar) / (v+var))"
   ]
  },
  {
   "cell_type": "markdown",
   "metadata": {},
   "source": [
    "### Lots of errors in your CVaR calculation right?\n",
    "\n",
    "You are a smart cookie. And the answer is yes. Neither QAE or IQAE provide an accurate estimation of the Expected Shortfall due to the discretization of the probability distribution. In the case of QAE the number of evaluation qubits affects as well, while on the IQAE the hyperparameters for fine tunning the angle. \n",
    "\n",
    "In our experiments we've found the optimal amount of qubits for Z in 5, but that grows the qubit count linearly and becomes impossible to simulate. So 3 is \"good enough\"\n",
    "\n",
    "![](imgs/cvar_errors_by_z.png)\n",
    "\n"
   ]
  },
  {
   "cell_type": "markdown",
   "metadata": {},
   "source": [
    "## The Bloody Noise\n",
    "\n",
    "As you know, our current qubits are noisy little buggers. Depending on the device, the circuit depth and the gates you use, you have high chances of hitting decoherence, bit flips, phase flips and all kinds of weird errors that will destroy your calculations.\n",
    "\n",
    "For our circuit, we could not use a real device since IBM won't let us use their 50 qubit thing, and the 16 Qubit Melbourne is too small. However we can use its noise model and add it to our simulation (just because!). This is the result.\n",
    "\n",
    "![](imgs/qae_simplified_noise.png)\n",
    "\n"
   ]
  },
  {
   "cell_type": "markdown",
   "metadata": {
    "slideshow": {
     "slide_type": "slide"
    }
   },
   "source": [
    "## Some Conclusions\n",
    "\n",
    "* QAE, or any other QPE / QFT based algorithms are too long and too qubit intensive to be able to solve any problem at all (in our example 3 assets maximum)\n",
    "* The current circuit is not efficient at all. Our weighted adder skips many qubits. It is likely there are better ways to build the comparator. And the number of qubits grows linearly with K and with the total loss. (the sum). So in order to play with \"real\" amounts we have to simplify.\n",
    "* The paper used $\\lambda = [1,2]$ where we have tried to use real numbers on the morgages and apply reductions. It can't even be considered a toy model.\n",
    "\n",
    "* We have been able to solve up to 16 assets with 20% divergence on CVaR from the classical calculated one.\n",
    "* Our classical MC is unfair for the classical computer, since we are \"handicapping\" it on the discretization (i.e. assuming the classical would be able to discretize Z only with the amount of qubits we use on the QC). However as we have seen larger numbers of qubits for Z do not necessary reflect higher precission.\n",
    "\n",
    "* This approach can be used to model any probability distribution function representing a financial model. I.e. option pricing, stock dividends, portfolio risk, or even try to predict financial crashes. Provided that you trust your uncertainty model. Looks cool uh? Well, wait until we get some more qubits!\n",
    "\n",
    "* Finally. The classical method is fundamentally flawed since it relies on handpicked sensitivity data. Real quants don't use Expected Shortfall as an absolute term but as an evolutionary parameter to control its portfolio. Even with that it is a highly stochastic process that relies on many random parameters. So we are realizing an order of magnitude improvement over a system that does not work in any case\n",
    "\n",
    "\n",
    "# Other Papers\n",
    "* https://www.researchgate.net/publication/341342061_Comparison_of_Amplitude_Estimation_Algorithms_by_Implementation - Comparison of Amplitude Estimation Algorithms by Implementation. Kwangmin Yu, Hyunkyung Lim, Pooja Rao, Dasol Jin\n",
    "* Option Pricing using Quantum Computers\n",
    "Nikitas Stamatopoulos1, Daniel J. Egger2, Yue Sun1, Christa Zoufal2,3, Raban Iten2,3, Ning Shen1, and Stefan Woerner2\n",
    "* https://arxiv.org/abs/2103.05475 - A Quantum Algorithm for the Sensitivity Analysis of Business Risks\n",
    "M. C. Braun, T. Decker, N. Hegemann, S. F. Kerstan, C. Schäfer"
   ]
  },
  {
   "cell_type": "markdown",
   "metadata": {
    "slideshow": {
     "slide_type": "slide"
    }
   },
   "source": [
    "# That's all folks!\n",
    "![](imgs/foreclosure.jpg)"
   ]
  }
 ],
 "metadata": {
  "celltoolbar": "Slideshow",
  "kernelspec": {
   "display_name": "Python 3.8.5 64-bit ('base': conda)",
   "language": "python",
   "name": "python385jvsc74a57bd08f456ff94fd53e0f817d4a737eee7ddd3fa1df976068730d0458d065112af259"
  },
  "language_info": {
   "codemirror_mode": {
    "name": "ipython",
    "version": 3
   },
   "file_extension": ".py",
   "mimetype": "text/x-python",
   "name": "python",
   "nbconvert_exporter": "python",
   "pygments_lexer": "ipython3",
   "version": "3.8.5"
  },
  "metadata": {
   "interpreter": {
    "hash": "8f456ff94fd53e0f817d4a737eee7ddd3fa1df976068730d0458d065112af259"
   }
  }
 },
 "nbformat": 4,
 "nbformat_minor": 2
}