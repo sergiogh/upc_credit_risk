{
 "metadata": {
  "language_info": {
   "codemirror_mode": {
    "name": "ipython",
    "version": 3
   },
   "file_extension": ".py",
   "mimetype": "text/x-python",
   "name": "python",
   "nbconvert_exporter": "python",
   "pygments_lexer": "ipython3",
   "version": "3.7.6-final"
  },
  "orig_nbformat": 2,
  "kernelspec": {
   "name": "python3",
   "display_name": "Python 3.7.6 64-bit ('base': conda)",
   "metadata": {
    "interpreter": {
     "hash": "8f456ff94fd53e0f817d4a737eee7ddd3fa1df976068730d0458d065112af259"
    }
   }
  }
 },
 "nbformat": 4,
 "nbformat_minor": 2,
 "cells": [
  {
   "source": [
    "# Credit Risk Analysis - The Quantum Way"
   ],
   "cell_type": "markdown",
   "metadata": {}
  },
  {
   "source": [
    "* Why do we need credit risk analysis - Basel II and Basel III\n",
    "* The Montecarlo methods, where they fall. Their complexity\n",
    "* Enter QAE - A quick and non rigourous analysis on Brassard, Grover and others work\n",
    "* QAE for Credit risk - mapping probability distributions\n",
    "\n",
    "\n",
    "Work based on the following papers:\n",
    "\n",
    "- <a href=\"https://www.nature.com/articles/s41534-019-0130-6\">Quantum Risk Analysis. Stefan Woerner, Daniel J. Egger.</a> [Woerner2019]\n",
    "- <a href=\"https://arxiv.org/abs/1907.03044\">Credit Risk Analysis using Quantum Computers. Egger et al. (2019)</a> [Egger2019]\n",
    "- <a href=\"http://arxiv.org/abs/quant-ph/0005055\">Quantum Amplitude Amplification and Estimation. Gilles Brassard et al.</a>\n",
    "- And many others, check the references and bibliography and have a blast"
   ],
   "cell_type": "markdown",
   "metadata": {}
  },
  {
   "source": [
    "### Problem Definition\n",
    "\n",
    "In this tutorial we want to analyze the credit risk of a portfolio of $K$ assets.\n",
    "The default probability of every asset $k$ follows a *Gaussian Conditional Independence* model, i.e., given a value $z$ sampled from a latent random variable $Z$ following a standard normal distribution, the default probability of asset $k$ is given by\n",
    "\n",
    "$$p_k(z) = F\\left( \\frac{F^{-1}(p_k^0) - \\sqrt{\\rho_k}z}{\\sqrt{1 - \\rho_k}} \\right) $$\n",
    "\n",
    "where $F$ denotes the cumulative distribution function of $Z$, $p_k^0$ is the default probability of asset $k$ for $z=0$ and $\\rho_k$ is the sensitivity of the default probability of asset $k$ with respect to $Z$. Thus, given a concrete realization of $Z$ the individual default events are assumed to be independent from each other.\n",
    "\n",
    "We are interested in analyzing risk measures of the total loss\n",
    "\n",
    "$$ L = \\sum_{k=1}^K \\lambda_k X_k(Z) $$\n",
    "\n",
    "where $\\lambda_k$ denotes the _loss given default_ of asset $k$, and given $Z$, $X_k(Z)$ denotes a Bernoulli variable representing the default event of asset $k$. More precisely, we are interested in the expected value $\\mathbb{E}[L]$, the Value at Risk (VaR) of $L$ and the Conditional Value at Risk of $L$ (also called Expected Shortfall). Where VaR and CVaR are defined as\n",
    "\n",
    "$$ \\text{VaR}_{\\alpha}(L) = \\inf \\{ x \\mid \\mathbb{P}[L <= x] \\geq 1 - \\alpha \\}$$\n",
    "\n",
    "with confidence level $\\alpha \\in [0, 1]$, and\n",
    "\n",
    "$$ \\text{CVaR}_{\\alpha}(L) = \\mathbb{E}[ L \\mid L \\geq \\text{VaR}_{\\alpha}(L) ].$$\n",
    "\n",
    "For more details on the considered model, see, e.g.,<br>\n",
    "<a href=\"https://arxiv.org/abs/1412.1183\">Regulatory Capital Modeling for Credit Risk. Marek Rutkowski, Silvio Tarca</a>\n",
    "\n",
    "\n",
    "\n",
    "The problem is defined by the following parameters:\n",
    "- number of qubits used to represent $Z$, denoted by $n_z$\n",
    "- truncation value for $Z$, denoted by $z_{\\text{max}}$, i.e., Z is assumed to take $2^{n_z}$ equidistant values in $\\{-z_{max}, ..., +z_{max}\\}$ \n",
    "- the base default probabilities for each asset $p_0^k \\in (0, 1)$, $k=1, ..., K$\n",
    "- sensitivities of the default probabilities with respect to $Z$, denoted by $\\rho_k \\in [0, 1)$\n",
    "- loss given default for asset $k$, denoted by $\\lambda_k$\n",
    "- confidence level for VaR / CVaR $\\alpha \\in [0, 1]$."
   ],
   "cell_type": "markdown",
   "metadata": {}
  },
  {
   "cell_type": "code",
   "execution_count": 2,
   "metadata": {},
   "outputs": [],
   "source": [
    "import numpy as np\n",
    "import matplotlib.pyplot as plt\n",
    "\n",
    "\n",
    "from qiskit import QuantumRegister, QuantumCircuit, Aer, execute\n",
    "from qiskit.circuit.library import IntegerComparator\n",
    "from qiskit.aqua.algorithms import IterativeAmplitudeEstimation\n",
    "\n",
    "from qiskit.finance.applications import GaussianConditionalIndependenceModel as GCI\n",
    "\n",
    "from kaleidoscope import probability_distribution\n"
   ]
  },
  {
   "cell_type": "code",
   "execution_count": 3,
   "metadata": {},
   "outputs": [],
   "source": [
    "# Z represents our distribution, discretized with n qubits. The more qubits, the merrier. (I.e. the more values we will be able to approximate)\n",
    "n_z = 3\n",
    "z_max = 3\n",
    "z_values = np.linspace(-z_max, z_max, 2**n_z)\n",
    "\n",
    "# Probabilities of Default for each of our assets (p0k)\n",
    "p_zeros = [0.15, 0.25]\n",
    "K = len(p_zeros)\n",
    "# Sensitivities respecto to Z, rhok\n",
    "rhos = [0.1, 0.05]\n",
    "\n",
    "# Loss given default. How much we lose based on the asset price\n",
    "lgd = [1, 2]\n",
    "\n",
    "# Confidence level for VaR and CVaR. On BaselII around 99,9%\n",
    "alpha = 0.05"
   ]
  },
  {
   "source": [
    "### Expected Loss\n",
    "\n",
    "To estimate the expected loss, we first apply a weighted sum operator to sum up individual losses to total loss:\n",
    "\n",
    "$$ \\mathcal{S}: |x_1, ..., x_K \\rangle_K |0\\rangle_{n_S} \\mapsto |x_1, ..., x_K \\rangle_K |\\lambda_1x_1 + ... + \\lambda_K x_K\\rangle_{n_S}. $$\n",
    "\n",
    "The required number of qubits to represent the result is given by\n",
    "\n",
    "$$ n_s = \\lfloor \\log_2( \\lambda_1 + ... + \\lambda_K ) \\rfloor + 1. $$\n",
    "\n",
    "Once we have the total loss distribution in a quantum register, we can use the techniques described in [Woerner2019] to map a total loss $L \\in \\{0, ..., 2^{n_s}-1\\}$ to the amplitude of an objective qubit by an operator\n",
    "\n",
    "$$ | L \\rangle_{n_s}|0\\rangle \\mapsto | L \\rangle_{n_s} \\left( \\sqrt{1 - L/(2^{n_s}-1)}|0\\rangle + \\sqrt{L/(2^{n_s}-1)}|1\\rangle \\right),$$\n",
    "\n",
    "which allows to run amplitude estimation to evaluate the expected loss."
   ],
   "cell_type": "markdown",
   "metadata": {}
  },
  {
   "cell_type": "code",
   "execution_count": 5,
   "metadata": {},
   "outputs": [],
   "source": [
    "# add Z qubits with weight/loss 0\n",
    "from qiskit.circuit.library import WeightedAdder\n",
    "# WeightedAdder(num_state_qubits=None, weights=None, name='adder')[\n",
    "agg = WeightedAdder(n_z + K, [0]*n_z + lgd)"
   ]
  },
  {
   "cell_type": "code",
   "execution_count": null,
   "metadata": {},
   "outputs": [],
   "source": []
  }
 ]
}