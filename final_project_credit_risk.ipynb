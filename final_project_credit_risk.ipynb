{
 "metadata": {
  "language_info": {
   "codemirror_mode": {
    "name": "ipython",
    "version": 3
   },
   "file_extension": ".py",
   "mimetype": "text/x-python",
   "name": "python",
   "nbconvert_exporter": "python",
   "pygments_lexer": "ipython3",
   "version": "3.7.6-final"
  },
  "orig_nbformat": 2,
  "kernelspec": {
   "name": "python3",
   "display_name": "Python 3.7.6 64-bit ('anaconda3': virtualenv)",
   "metadata": {
    "interpreter": {
     "hash": "8f456ff94fd53e0f817d4a737eee7ddd3fa1df976068730d0458d065112af259"
    }
   }
  }
 },
 "nbformat": 4,
 "nbformat_minor": 2,
 "cells": [
  {
   "source": [
    "# Credit Risk Analysis - The Quantum Way"
   ],
   "cell_type": "markdown",
   "metadata": {}
  },
  {
   "source": [
    "* Why do we need credit risk analysis - Basel II and Basel III\n",
    "* The Montecarlo methods, where they fall. Their complexity\n",
    "* Enter QAE - A quick and non rigourous analysis on Brassard, Grover and others work\n",
    "* QAE for Credit risk - mapping probability distributions\n",
    "\n",
    "\n",
    "Work based on the following papers:\n",
    "\n",
    "- <a href=\"https://www.nature.com/articles/s41534-019-0130-6\">Quantum Risk Analysis. Stefan Woerner, Daniel J. Egger.</a> [Woerner2019]\n",
    "- <a href=\"https://arxiv.org/abs/1907.03044\">Credit Risk Analysis using Quantum Computers. Egger et al. (2019)</a> [Egger2019]\n",
    "- <a href=\"http://arxiv.org/abs/quant-ph/0005055\">Quantum Amplitude Amplification and Estimation. Gilles Brassard et al.</a>\n",
    "- And many others, check the references and bibliography and have a blast"
   ],
   "cell_type": "markdown",
   "metadata": {}
  },
  {
   "source": [
    "### Problem Definition\n",
    "\n",
    "In this tutorial we want to analyze the credit risk of a portfolio of $K$ assets.\n",
    "The default probability of every asset $k$ follows a *Gaussian Conditional Independence* model, i.e., given a value $z$ sampled from a latent random variable $Z$ following a standard normal distribution, the default probability of asset $k$ is given by\n",
    "\n",
    "$$p_k(z) = F\\left( \\frac{F^{-1}(p_k^0) - \\sqrt{\\rho_k}z}{\\sqrt{1 - \\rho_k}} \\right) $$\n",
    "\n",
    "where $F$ denotes the cumulative distribution function of $Z$, $p_k^0$ is the default probability of asset $k$ for $z=0$ and $\\rho_k$ is the sensitivity of the default probability of asset $k$ with respect to $Z$. Thus, given a concrete realization of $Z$ the individual default events are assumed to be independent from each other.\n",
    "\n",
    "We are interested in analyzing risk measures of the total loss\n",
    "\n",
    "$$ L = \\sum_{k=1}^K \\lambda_k X_k(Z) $$\n",
    "\n",
    "where $\\lambda_k$ denotes the _loss given default_ of asset $k$, and given $Z$, $X_k(Z)$ denotes a Bernoulli variable representing the default event of asset $k$. More precisely, we are interested in the expected value $\\mathbb{E}[L]$, the Value at Risk (VaR) of $L$ and the Conditional Value at Risk of $L$ (also called Expected Shortfall). Where VaR and CVaR are defined as\n",
    "\n",
    "$$ \\text{VaR}_{\\alpha}(L) = \\inf \\{ x \\mid \\mathbb{P}[L <= x] \\geq 1 - \\alpha \\}$$\n",
    "\n",
    "with confidence level $\\alpha \\in [0, 1]$, and\n",
    "\n",
    "$$ \\text{CVaR}_{\\alpha}(L) = \\mathbb{E}[ L \\mid L \\geq \\text{VaR}_{\\alpha}(L) ].$$\n",
    "\n",
    "For more details on the considered model, see, e.g.,<br>\n",
    "<a href=\"https://arxiv.org/abs/1412.1183\">Regulatory Capital Modeling for Credit Risk. Marek Rutkowski, Silvio Tarca</a>\n",
    "\n",
    "\n",
    "\n",
    "The problem is defined by the following parameters:\n",
    "- number of qubits used to represent $Z$, denoted by $n_z$\n",
    "- truncation value for $Z$, denoted by $z_{\\text{max}}$, i.e., Z is assumed to take $2^{n_z}$ equidistant values in $\\{-z_{max}, ..., +z_{max}\\}$ \n",
    "- the base default probabilities for each asset $p_0^k \\in (0, 1)$, $k=1, ..., K$\n",
    "- sensitivities of the default probabilities with respect to $Z$, denoted by $\\rho_k \\in [0, 1]$\n",
    "- loss given default for asset $k$, denoted by $\\lambda_k$\n",
    "- confidence level for VaR / CVaR $\\alpha \\in [0, 1]$."
   ],
   "cell_type": "markdown",
   "metadata": {}
  },
  {
   "cell_type": "code",
   "execution_count": 1018,
   "metadata": {},
   "outputs": [
    {
     "output_type": "stream",
     "name": "stderr",
     "text": [
      "ibmqfactory.load_account:WARNING:2021-02-21 10:17:58,801: Credentials are already in use. The existing account in the session will be replaced.\n"
     ]
    }
   ],
   "source": [
    "import numpy as np\n",
    "import matplotlib.pyplot as plt\n",
    "\n",
    "\n",
    "from qiskit import QuantumRegister, ClassicalRegister, QuantumCircuit, Aer, execute, IBMQ\n",
    "from qiskit.circuit.library import IntegerComparator, LinearAmplitudeFunction, WeightedAdder\n",
    "from qiskit.aqua.algorithms import IterativeAmplitudeEstimation, AmplitudeEstimation\n",
    "\n",
    "from qiskit.finance.applications import GaussianConditionalIndependenceModel as GCI\n",
    "\n",
    "from kaleidoscope import probability_distribution\n",
    "\n",
    "IBMQ.load_account()\n",
    "provider = IBMQ.get_provider()\n"
   ]
  },
  {
   "cell_type": "code",
   "execution_count": 1019,
   "metadata": {},
   "outputs": [],
   "source": [
    "######################\n",
    "# Problem parameters #\n",
    "######################\n",
    "\n",
    "# Each asset mapped as [default probability, sensitivity o the PDF, loss given default (expressed in '0.000)]\n",
    "\n",
    "problem_size = 3\n",
    "\n",
    "mortgages = [[0.15, 0.1, 100000],\n",
    "             [0.25, 0.05, 200000],\n",
    "             [0.2, 0.07, 300000],\n",
    "             [0.02, 0.01, 400000],\n",
    "             [0.05, 0.05, 300000],\n",
    "             [0.2, 0.03, 390000],\n",
    "             [0.01, 0.01, 100000],\n",
    "             [0.03, 0.09, 120000]]\n",
    "\n",
    "# Get only a subset when making the problem smaller\n",
    "mortgages = mortgages[:problem_size]\n",
    "\n",
    "# Confidence level for VaR and CVaR. On BaselII around 99,9%\n",
    "alpha = 0.05"
   ]
  },
  {
   "cell_type": "code",
   "execution_count": 1020,
   "metadata": {},
   "outputs": [
    {
     "output_type": "execute_result",
     "data": {
      "text/plain": [
       "[[0.15, 0.1, 100000], [0.25, 0.05, 200000], [0.2, 0.07, 300000]]"
      ]
     },
     "metadata": {},
     "execution_count": 1020
    }
   ],
   "source": [
    "mortgages"
   ]
  },
  {
   "cell_type": "code",
   "execution_count": 1021,
   "metadata": {},
   "outputs": [],
   "source": [
    "# Mapping parameters\n",
    "# Loss Given Default multiplier (we can't map very big numbers, so we eliminate zeroes, from X00,000 -> X0)\n",
    "lgd_factor = 100000\n",
    "\n",
    "# Z represents our distribution, discretized with n qubits. The more qubits, the merrier. (I.e. the more values we will be able to approximate)\n",
    "n_z = 5\n",
    "z_max = 2\n",
    "z_values = np.linspace(-z_max, z_max, 2**n_z)\n",
    "\n",
    "K = len(mortgages)\n",
    "\n",
    "probability_default = []\n",
    "sensitivity_z = []\n",
    "loss_given_default = []\n",
    "for m in mortgages:\n",
    "    probability_default.append(m[0])\n",
    "    sensitivity_z.append(m[1])\n",
    "    loss_given_default.append(int(m[2] / lgd_factor))   # LGD is simplified, reduced proportionately and taken only the integer part\n"
   ]
  },
  {
   "cell_type": "code",
   "execution_count": 1022,
   "metadata": {},
   "outputs": [],
   "source": [
    "# TEST removing all sensitivity, making ALL assets losses independent.\n",
    "#sensitivity_z = np.zeros(K)\n",
    "#print(sensitivity_z)"
   ]
  },
  {
   "cell_type": "code",
   "execution_count": 1023,
   "metadata": {},
   "outputs": [
    {
     "output_type": "display_data",
     "data": {
      "text/plain": "<Figure size 432x288 with 1 Axes>",
      "image/svg+xml": "<?xml version=\"1.0\" encoding=\"utf-8\" standalone=\"no\"?>\n<!DOCTYPE svg PUBLIC \"-//W3C//DTD SVG 1.1//EN\"\n  \"http://www.w3.org/Graphics/SVG/1.1/DTD/svg11.dtd\">\n<!-- Created with matplotlib (https://matplotlib.org/) -->\n<svg height=\"293.07125pt\" version=\"1.1\" viewBox=\"0 0 408.115625 293.07125\" width=\"408.115625pt\" xmlns=\"http://www.w3.org/2000/svg\" xmlns:xlink=\"http://www.w3.org/1999/xlink\">\n <metadata>\n  <rdf:RDF xmlns:cc=\"http://creativecommons.org/ns#\" xmlns:dc=\"http://purl.org/dc/elements/1.1/\" xmlns:rdf=\"http://www.w3.org/1999/02/22-rdf-syntax-ns#\">\n   <cc:Work>\n    <dc:type rdf:resource=\"http://purl.org/dc/dcmitype/StillImage\"/>\n    <dc:date>2021-02-21T10:18:02.998541</dc:date>\n    <dc:format>image/svg+xml</dc:format>\n    <dc:creator>\n     <cc:Agent>\n      <dc:title>Matplotlib v3.3.1, https://matplotlib.org/</dc:title>\n     </cc:Agent>\n    </dc:creator>\n   </cc:Work>\n  </rdf:RDF>\n </metadata>\n <defs>\n  <style type=\"text/css\">*{stroke-linecap:butt;stroke-linejoin:round;}</style>\n </defs>\n <g id=\"figure_1\">\n  <g id=\"patch_1\">\n   <path d=\"M 0 293.07125 \nL 408.115625 293.07125 \nL 408.115625 0 \nL 0 0 \nz\n\" style=\"fill:none;\"/>\n  </g>\n  <g id=\"axes_1\">\n   <g id=\"patch_2\">\n    <path d=\"M 66.115625 245.836875 \nL 400.915625 245.836875 \nL 400.915625 28.396875 \nL 66.115625 28.396875 \nz\n\" style=\"fill:#ffffff;\"/>\n   </g>\n   <g id=\"patch_3\">\n    <path clip-path=\"url(#pc3386d7d03)\" d=\"M 81.333807 245.836875 \nL 168.294846 245.836875 \nL 168.294846 121.585446 \nL 81.333807 121.585446 \nz\n\" style=\"fill:#1f77b4;\"/>\n   </g>\n   <g id=\"patch_4\">\n    <path clip-path=\"url(#pc3386d7d03)\" d=\"M 190.035106 245.836875 \nL 276.996144 245.836875 \nL 276.996144 38.751161 \nL 190.035106 38.751161 \nz\n\" style=\"fill:#1f77b4;\"/>\n   </g>\n   <g id=\"patch_5\">\n    <path clip-path=\"url(#pc3386d7d03)\" d=\"M 298.736404 245.836875 \nL 385.697443 245.836875 \nL 385.697443 80.168304 \nL 298.736404 80.168304 \nz\n\" style=\"fill:#1f77b4;\"/>\n   </g>\n   <g id=\"matplotlib.axis_1\">\n    <g id=\"xtick_1\">\n     <g id=\"line2d_1\">\n      <path clip-path=\"url(#pc3386d7d03)\" d=\"M 124.814326 245.836875 \nL 124.814326 28.396875 \n\" style=\"fill:none;stroke:#b0b0b0;stroke-linecap:square;stroke-width:0.8;\"/>\n     </g>\n     <g id=\"line2d_2\">\n      <defs>\n       <path d=\"M 0 0 \nL 0 3.5 \n\" id=\"m18220ae405\" style=\"stroke:#000000;stroke-width:0.8;\"/>\n      </defs>\n      <g>\n       <use style=\"stroke:#000000;stroke-width:0.8;\" x=\"124.814326\" xlink:href=\"#m18220ae405\" y=\"245.836875\"/>\n      </g>\n     </g>\n     <g id=\"text_1\">\n      <!-- 0 -->\n      <g transform=\"translate(120.042451 264.234531)scale(0.15 -0.15)\">\n       <defs>\n        <path d=\"M 31.78125 66.40625 \nQ 24.171875 66.40625 20.328125 58.90625 \nQ 16.5 51.421875 16.5 36.375 \nQ 16.5 21.390625 20.328125 13.890625 \nQ 24.171875 6.390625 31.78125 6.390625 \nQ 39.453125 6.390625 43.28125 13.890625 \nQ 47.125 21.390625 47.125 36.375 \nQ 47.125 51.421875 43.28125 58.90625 \nQ 39.453125 66.40625 31.78125 66.40625 \nz\nM 31.78125 74.21875 \nQ 44.046875 74.21875 50.515625 64.515625 \nQ 56.984375 54.828125 56.984375 36.375 \nQ 56.984375 17.96875 50.515625 8.265625 \nQ 44.046875 -1.421875 31.78125 -1.421875 \nQ 19.53125 -1.421875 13.0625 8.265625 \nQ 6.59375 17.96875 6.59375 36.375 \nQ 6.59375 54.828125 13.0625 64.515625 \nQ 19.53125 74.21875 31.78125 74.21875 \nz\n\" id=\"DejaVuSans-48\"/>\n       </defs>\n       <use xlink:href=\"#DejaVuSans-48\"/>\n      </g>\n     </g>\n    </g>\n    <g id=\"xtick_2\">\n     <g id=\"line2d_3\">\n      <path clip-path=\"url(#pc3386d7d03)\" d=\"M 233.515625 245.836875 \nL 233.515625 28.396875 \n\" style=\"fill:none;stroke:#b0b0b0;stroke-linecap:square;stroke-width:0.8;\"/>\n     </g>\n     <g id=\"line2d_4\">\n      <g>\n       <use style=\"stroke:#000000;stroke-width:0.8;\" x=\"233.515625\" xlink:href=\"#m18220ae405\" y=\"245.836875\"/>\n      </g>\n     </g>\n     <g id=\"text_2\">\n      <!-- 1 -->\n      <g transform=\"translate(228.74375 264.234531)scale(0.15 -0.15)\">\n       <defs>\n        <path d=\"M 12.40625 8.296875 \nL 28.515625 8.296875 \nL 28.515625 63.921875 \nL 10.984375 60.40625 \nL 10.984375 69.390625 \nL 28.421875 72.90625 \nL 38.28125 72.90625 \nL 38.28125 8.296875 \nL 54.390625 8.296875 \nL 54.390625 0 \nL 12.40625 0 \nz\n\" id=\"DejaVuSans-49\"/>\n       </defs>\n       <use xlink:href=\"#DejaVuSans-49\"/>\n      </g>\n     </g>\n    </g>\n    <g id=\"xtick_3\">\n     <g id=\"line2d_5\">\n      <path clip-path=\"url(#pc3386d7d03)\" d=\"M 342.216924 245.836875 \nL 342.216924 28.396875 \n\" style=\"fill:none;stroke:#b0b0b0;stroke-linecap:square;stroke-width:0.8;\"/>\n     </g>\n     <g id=\"line2d_6\">\n      <g>\n       <use style=\"stroke:#000000;stroke-width:0.8;\" x=\"342.216924\" xlink:href=\"#m18220ae405\" y=\"245.836875\"/>\n      </g>\n     </g>\n     <g id=\"text_3\">\n      <!-- 2 -->\n      <g transform=\"translate(337.445049 264.234531)scale(0.15 -0.15)\">\n       <defs>\n        <path d=\"M 19.1875 8.296875 \nL 53.609375 8.296875 \nL 53.609375 0 \nL 7.328125 0 \nL 7.328125 8.296875 \nQ 12.9375 14.109375 22.625 23.890625 \nQ 32.328125 33.6875 34.8125 36.53125 \nQ 39.546875 41.84375 41.421875 45.53125 \nQ 43.3125 49.21875 43.3125 52.78125 \nQ 43.3125 58.59375 39.234375 62.25 \nQ 35.15625 65.921875 28.609375 65.921875 \nQ 23.96875 65.921875 18.8125 64.3125 \nQ 13.671875 62.703125 7.8125 59.421875 \nL 7.8125 69.390625 \nQ 13.765625 71.78125 18.9375 73 \nQ 24.125 74.21875 28.421875 74.21875 \nQ 39.75 74.21875 46.484375 68.546875 \nQ 53.21875 62.890625 53.21875 53.421875 \nQ 53.21875 48.921875 51.53125 44.890625 \nQ 49.859375 40.875 45.40625 35.40625 \nQ 44.1875 33.984375 37.640625 27.21875 \nQ 31.109375 20.453125 19.1875 8.296875 \nz\n\" id=\"DejaVuSans-50\"/>\n       </defs>\n       <use xlink:href=\"#DejaVuSans-50\"/>\n      </g>\n     </g>\n    </g>\n    <g id=\"text_4\">\n     <!-- Asset -->\n     <g transform=\"translate(213.016016 282.751719)scale(0.15 -0.15)\">\n      <defs>\n       <path d=\"M 34.1875 63.1875 \nL 20.796875 26.90625 \nL 47.609375 26.90625 \nz\nM 28.609375 72.90625 \nL 39.796875 72.90625 \nL 67.578125 0 \nL 57.328125 0 \nL 50.6875 18.703125 \nL 17.828125 18.703125 \nL 11.1875 0 \nL 0.78125 0 \nz\n\" id=\"DejaVuSans-65\"/>\n       <path d=\"M 44.28125 53.078125 \nL 44.28125 44.578125 \nQ 40.484375 46.53125 36.375 47.5 \nQ 32.28125 48.484375 27.875 48.484375 \nQ 21.1875 48.484375 17.84375 46.4375 \nQ 14.5 44.390625 14.5 40.28125 \nQ 14.5 37.15625 16.890625 35.375 \nQ 19.28125 33.59375 26.515625 31.984375 \nL 29.59375 31.296875 \nQ 39.15625 29.25 43.1875 25.515625 \nQ 47.21875 21.78125 47.21875 15.09375 \nQ 47.21875 7.46875 41.1875 3.015625 \nQ 35.15625 -1.421875 24.609375 -1.421875 \nQ 20.21875 -1.421875 15.453125 -0.5625 \nQ 10.6875 0.296875 5.421875 2 \nL 5.421875 11.28125 \nQ 10.40625 8.6875 15.234375 7.390625 \nQ 20.0625 6.109375 24.8125 6.109375 \nQ 31.15625 6.109375 34.5625 8.28125 \nQ 37.984375 10.453125 37.984375 14.40625 \nQ 37.984375 18.0625 35.515625 20.015625 \nQ 33.0625 21.96875 24.703125 23.78125 \nL 21.578125 24.515625 \nQ 13.234375 26.265625 9.515625 29.90625 \nQ 5.8125 33.546875 5.8125 39.890625 \nQ 5.8125 47.609375 11.28125 51.796875 \nQ 16.75 56 26.8125 56 \nQ 31.78125 56 36.171875 55.265625 \nQ 40.578125 54.546875 44.28125 53.078125 \nz\n\" id=\"DejaVuSans-115\"/>\n       <path d=\"M 56.203125 29.59375 \nL 56.203125 25.203125 \nL 14.890625 25.203125 \nQ 15.484375 15.921875 20.484375 11.0625 \nQ 25.484375 6.203125 34.421875 6.203125 \nQ 39.59375 6.203125 44.453125 7.46875 \nQ 49.3125 8.734375 54.109375 11.28125 \nL 54.109375 2.78125 \nQ 49.265625 0.734375 44.1875 -0.34375 \nQ 39.109375 -1.421875 33.890625 -1.421875 \nQ 20.796875 -1.421875 13.15625 6.1875 \nQ 5.515625 13.8125 5.515625 26.8125 \nQ 5.515625 40.234375 12.765625 48.109375 \nQ 20.015625 56 32.328125 56 \nQ 43.359375 56 49.78125 48.890625 \nQ 56.203125 41.796875 56.203125 29.59375 \nz\nM 47.21875 32.234375 \nQ 47.125 39.59375 43.09375 43.984375 \nQ 39.0625 48.390625 32.421875 48.390625 \nQ 24.90625 48.390625 20.390625 44.140625 \nQ 15.875 39.890625 15.1875 32.171875 \nz\n\" id=\"DejaVuSans-101\"/>\n       <path d=\"M 18.3125 70.21875 \nL 18.3125 54.6875 \nL 36.8125 54.6875 \nL 36.8125 47.703125 \nL 18.3125 47.703125 \nL 18.3125 18.015625 \nQ 18.3125 11.328125 20.140625 9.421875 \nQ 21.96875 7.515625 27.59375 7.515625 \nL 36.8125 7.515625 \nL 36.8125 0 \nL 27.59375 0 \nQ 17.1875 0 13.234375 3.875 \nQ 9.28125 7.765625 9.28125 18.015625 \nL 9.28125 47.703125 \nL 2.6875 47.703125 \nL 2.6875 54.6875 \nL 9.28125 54.6875 \nL 9.28125 70.21875 \nz\n\" id=\"DejaVuSans-116\"/>\n      </defs>\n      <use xlink:href=\"#DejaVuSans-65\"/>\n      <use x=\"68.408203\" xlink:href=\"#DejaVuSans-115\"/>\n      <use x=\"120.507812\" xlink:href=\"#DejaVuSans-115\"/>\n      <use x=\"172.607422\" xlink:href=\"#DejaVuSans-101\"/>\n      <use x=\"234.130859\" xlink:href=\"#DejaVuSans-116\"/>\n     </g>\n    </g>\n   </g>\n   <g id=\"matplotlib.axis_2\">\n    <g id=\"ytick_1\">\n     <g id=\"line2d_7\">\n      <path clip-path=\"url(#pc3386d7d03)\" d=\"M 66.115625 245.836875 \nL 400.915625 245.836875 \n\" style=\"fill:none;stroke:#b0b0b0;stroke-linecap:square;stroke-width:0.8;\"/>\n     </g>\n     <g id=\"line2d_8\">\n      <defs>\n       <path d=\"M 0 0 \nL -3.5 0 \n\" id=\"m59ccdb6099\" style=\"stroke:#000000;stroke-width:0.8;\"/>\n      </defs>\n      <g>\n       <use style=\"stroke:#000000;stroke-width:0.8;\" x=\"66.115625\" xlink:href=\"#m59ccdb6099\" y=\"245.836875\"/>\n      </g>\n     </g>\n     <g id=\"text_5\">\n      <!-- 0.00 -->\n      <g transform=\"translate(25.717187 251.535703)scale(0.15 -0.15)\">\n       <defs>\n        <path d=\"M 10.6875 12.40625 \nL 21 12.40625 \nL 21 0 \nL 10.6875 0 \nz\n\" id=\"DejaVuSans-46\"/>\n       </defs>\n       <use xlink:href=\"#DejaVuSans-48\"/>\n       <use x=\"63.623047\" xlink:href=\"#DejaVuSans-46\"/>\n       <use x=\"95.410156\" xlink:href=\"#DejaVuSans-48\"/>\n       <use x=\"159.033203\" xlink:href=\"#DejaVuSans-48\"/>\n      </g>\n     </g>\n    </g>\n    <g id=\"ytick_2\">\n     <g id=\"line2d_9\">\n      <path clip-path=\"url(#pc3386d7d03)\" d=\"M 66.115625 204.419732 \nL 400.915625 204.419732 \n\" style=\"fill:none;stroke:#b0b0b0;stroke-linecap:square;stroke-width:0.8;\"/>\n     </g>\n     <g id=\"line2d_10\">\n      <g>\n       <use style=\"stroke:#000000;stroke-width:0.8;\" x=\"66.115625\" xlink:href=\"#m59ccdb6099\" y=\"204.419732\"/>\n      </g>\n     </g>\n     <g id=\"text_6\">\n      <!-- 0.05 -->\n      <g transform=\"translate(25.717187 210.11856)scale(0.15 -0.15)\">\n       <defs>\n        <path d=\"M 10.796875 72.90625 \nL 49.515625 72.90625 \nL 49.515625 64.59375 \nL 19.828125 64.59375 \nL 19.828125 46.734375 \nQ 21.96875 47.46875 24.109375 47.828125 \nQ 26.265625 48.1875 28.421875 48.1875 \nQ 40.625 48.1875 47.75 41.5 \nQ 54.890625 34.8125 54.890625 23.390625 \nQ 54.890625 11.625 47.5625 5.09375 \nQ 40.234375 -1.421875 26.90625 -1.421875 \nQ 22.3125 -1.421875 17.546875 -0.640625 \nQ 12.796875 0.140625 7.71875 1.703125 \nL 7.71875 11.625 \nQ 12.109375 9.234375 16.796875 8.0625 \nQ 21.484375 6.890625 26.703125 6.890625 \nQ 35.15625 6.890625 40.078125 11.328125 \nQ 45.015625 15.765625 45.015625 23.390625 \nQ 45.015625 31 40.078125 35.4375 \nQ 35.15625 39.890625 26.703125 39.890625 \nQ 22.75 39.890625 18.8125 39.015625 \nQ 14.890625 38.140625 10.796875 36.28125 \nz\n\" id=\"DejaVuSans-53\"/>\n       </defs>\n       <use xlink:href=\"#DejaVuSans-48\"/>\n       <use x=\"63.623047\" xlink:href=\"#DejaVuSans-46\"/>\n       <use x=\"95.410156\" xlink:href=\"#DejaVuSans-48\"/>\n       <use x=\"159.033203\" xlink:href=\"#DejaVuSans-53\"/>\n      </g>\n     </g>\n    </g>\n    <g id=\"ytick_3\">\n     <g id=\"line2d_11\">\n      <path clip-path=\"url(#pc3386d7d03)\" d=\"M 66.115625 163.002589 \nL 400.915625 163.002589 \n\" style=\"fill:none;stroke:#b0b0b0;stroke-linecap:square;stroke-width:0.8;\"/>\n     </g>\n     <g id=\"line2d_12\">\n      <g>\n       <use style=\"stroke:#000000;stroke-width:0.8;\" x=\"66.115625\" xlink:href=\"#m59ccdb6099\" y=\"163.002589\"/>\n      </g>\n     </g>\n     <g id=\"text_7\">\n      <!-- 0.10 -->\n      <g transform=\"translate(25.717187 168.701417)scale(0.15 -0.15)\">\n       <use xlink:href=\"#DejaVuSans-48\"/>\n       <use x=\"63.623047\" xlink:href=\"#DejaVuSans-46\"/>\n       <use x=\"95.410156\" xlink:href=\"#DejaVuSans-49\"/>\n       <use x=\"159.033203\" xlink:href=\"#DejaVuSans-48\"/>\n      </g>\n     </g>\n    </g>\n    <g id=\"ytick_4\">\n     <g id=\"line2d_13\">\n      <path clip-path=\"url(#pc3386d7d03)\" d=\"M 66.115625 121.585446 \nL 400.915625 121.585446 \n\" style=\"fill:none;stroke:#b0b0b0;stroke-linecap:square;stroke-width:0.8;\"/>\n     </g>\n     <g id=\"line2d_14\">\n      <g>\n       <use style=\"stroke:#000000;stroke-width:0.8;\" x=\"66.115625\" xlink:href=\"#m59ccdb6099\" y=\"121.585446\"/>\n      </g>\n     </g>\n     <g id=\"text_8\">\n      <!-- 0.15 -->\n      <g transform=\"translate(25.717187 127.284275)scale(0.15 -0.15)\">\n       <use xlink:href=\"#DejaVuSans-48\"/>\n       <use x=\"63.623047\" xlink:href=\"#DejaVuSans-46\"/>\n       <use x=\"95.410156\" xlink:href=\"#DejaVuSans-49\"/>\n       <use x=\"159.033203\" xlink:href=\"#DejaVuSans-53\"/>\n      </g>\n     </g>\n    </g>\n    <g id=\"ytick_5\">\n     <g id=\"line2d_15\">\n      <path clip-path=\"url(#pc3386d7d03)\" d=\"M 66.115625 80.168304 \nL 400.915625 80.168304 \n\" style=\"fill:none;stroke:#b0b0b0;stroke-linecap:square;stroke-width:0.8;\"/>\n     </g>\n     <g id=\"line2d_16\">\n      <g>\n       <use style=\"stroke:#000000;stroke-width:0.8;\" x=\"66.115625\" xlink:href=\"#m59ccdb6099\" y=\"80.168304\"/>\n      </g>\n     </g>\n     <g id=\"text_9\">\n      <!-- 0.20 -->\n      <g transform=\"translate(25.717187 85.867132)scale(0.15 -0.15)\">\n       <use xlink:href=\"#DejaVuSans-48\"/>\n       <use x=\"63.623047\" xlink:href=\"#DejaVuSans-46\"/>\n       <use x=\"95.410156\" xlink:href=\"#DejaVuSans-50\"/>\n       <use x=\"159.033203\" xlink:href=\"#DejaVuSans-48\"/>\n      </g>\n     </g>\n    </g>\n    <g id=\"ytick_6\">\n     <g id=\"line2d_17\">\n      <path clip-path=\"url(#pc3386d7d03)\" d=\"M 66.115625 38.751161 \nL 400.915625 38.751161 \n\" style=\"fill:none;stroke:#b0b0b0;stroke-linecap:square;stroke-width:0.8;\"/>\n     </g>\n     <g id=\"line2d_18\">\n      <g>\n       <use style=\"stroke:#000000;stroke-width:0.8;\" x=\"66.115625\" xlink:href=\"#m59ccdb6099\" y=\"38.751161\"/>\n      </g>\n     </g>\n     <g id=\"text_10\">\n      <!-- 0.25 -->\n      <g transform=\"translate(25.717187 44.449989)scale(0.15 -0.15)\">\n       <use xlink:href=\"#DejaVuSans-48\"/>\n       <use x=\"63.623047\" xlink:href=\"#DejaVuSans-46\"/>\n       <use x=\"95.410156\" xlink:href=\"#DejaVuSans-50\"/>\n       <use x=\"159.033203\" xlink:href=\"#DejaVuSans-53\"/>\n      </g>\n     </g>\n    </g>\n    <g id=\"text_11\">\n     <!-- probability (%) -->\n     <g transform=\"translate(18.597656 192.492656)rotate(-90)scale(0.15 -0.15)\">\n      <defs>\n       <path d=\"M 18.109375 8.203125 \nL 18.109375 -20.796875 \nL 9.078125 -20.796875 \nL 9.078125 54.6875 \nL 18.109375 54.6875 \nL 18.109375 46.390625 \nQ 20.953125 51.265625 25.265625 53.625 \nQ 29.59375 56 35.59375 56 \nQ 45.5625 56 51.78125 48.09375 \nQ 58.015625 40.1875 58.015625 27.296875 \nQ 58.015625 14.40625 51.78125 6.484375 \nQ 45.5625 -1.421875 35.59375 -1.421875 \nQ 29.59375 -1.421875 25.265625 0.953125 \nQ 20.953125 3.328125 18.109375 8.203125 \nz\nM 48.6875 27.296875 \nQ 48.6875 37.203125 44.609375 42.84375 \nQ 40.53125 48.484375 33.40625 48.484375 \nQ 26.265625 48.484375 22.1875 42.84375 \nQ 18.109375 37.203125 18.109375 27.296875 \nQ 18.109375 17.390625 22.1875 11.75 \nQ 26.265625 6.109375 33.40625 6.109375 \nQ 40.53125 6.109375 44.609375 11.75 \nQ 48.6875 17.390625 48.6875 27.296875 \nz\n\" id=\"DejaVuSans-112\"/>\n       <path d=\"M 41.109375 46.296875 \nQ 39.59375 47.171875 37.8125 47.578125 \nQ 36.03125 48 33.890625 48 \nQ 26.265625 48 22.1875 43.046875 \nQ 18.109375 38.09375 18.109375 28.8125 \nL 18.109375 0 \nL 9.078125 0 \nL 9.078125 54.6875 \nL 18.109375 54.6875 \nL 18.109375 46.1875 \nQ 20.953125 51.171875 25.484375 53.578125 \nQ 30.03125 56 36.53125 56 \nQ 37.453125 56 38.578125 55.875 \nQ 39.703125 55.765625 41.0625 55.515625 \nz\n\" id=\"DejaVuSans-114\"/>\n       <path d=\"M 30.609375 48.390625 \nQ 23.390625 48.390625 19.1875 42.75 \nQ 14.984375 37.109375 14.984375 27.296875 \nQ 14.984375 17.484375 19.15625 11.84375 \nQ 23.34375 6.203125 30.609375 6.203125 \nQ 37.796875 6.203125 41.984375 11.859375 \nQ 46.1875 17.53125 46.1875 27.296875 \nQ 46.1875 37.015625 41.984375 42.703125 \nQ 37.796875 48.390625 30.609375 48.390625 \nz\nM 30.609375 56 \nQ 42.328125 56 49.015625 48.375 \nQ 55.71875 40.765625 55.71875 27.296875 \nQ 55.71875 13.875 49.015625 6.21875 \nQ 42.328125 -1.421875 30.609375 -1.421875 \nQ 18.84375 -1.421875 12.171875 6.21875 \nQ 5.515625 13.875 5.515625 27.296875 \nQ 5.515625 40.765625 12.171875 48.375 \nQ 18.84375 56 30.609375 56 \nz\n\" id=\"DejaVuSans-111\"/>\n       <path d=\"M 48.6875 27.296875 \nQ 48.6875 37.203125 44.609375 42.84375 \nQ 40.53125 48.484375 33.40625 48.484375 \nQ 26.265625 48.484375 22.1875 42.84375 \nQ 18.109375 37.203125 18.109375 27.296875 \nQ 18.109375 17.390625 22.1875 11.75 \nQ 26.265625 6.109375 33.40625 6.109375 \nQ 40.53125 6.109375 44.609375 11.75 \nQ 48.6875 17.390625 48.6875 27.296875 \nz\nM 18.109375 46.390625 \nQ 20.953125 51.265625 25.265625 53.625 \nQ 29.59375 56 35.59375 56 \nQ 45.5625 56 51.78125 48.09375 \nQ 58.015625 40.1875 58.015625 27.296875 \nQ 58.015625 14.40625 51.78125 6.484375 \nQ 45.5625 -1.421875 35.59375 -1.421875 \nQ 29.59375 -1.421875 25.265625 0.953125 \nQ 20.953125 3.328125 18.109375 8.203125 \nL 18.109375 0 \nL 9.078125 0 \nL 9.078125 75.984375 \nL 18.109375 75.984375 \nz\n\" id=\"DejaVuSans-98\"/>\n       <path d=\"M 34.28125 27.484375 \nQ 23.390625 27.484375 19.1875 25 \nQ 14.984375 22.515625 14.984375 16.5 \nQ 14.984375 11.71875 18.140625 8.90625 \nQ 21.296875 6.109375 26.703125 6.109375 \nQ 34.1875 6.109375 38.703125 11.40625 \nQ 43.21875 16.703125 43.21875 25.484375 \nL 43.21875 27.484375 \nz\nM 52.203125 31.203125 \nL 52.203125 0 \nL 43.21875 0 \nL 43.21875 8.296875 \nQ 40.140625 3.328125 35.546875 0.953125 \nQ 30.953125 -1.421875 24.3125 -1.421875 \nQ 15.921875 -1.421875 10.953125 3.296875 \nQ 6 8.015625 6 15.921875 \nQ 6 25.140625 12.171875 29.828125 \nQ 18.359375 34.515625 30.609375 34.515625 \nL 43.21875 34.515625 \nL 43.21875 35.40625 \nQ 43.21875 41.609375 39.140625 45 \nQ 35.0625 48.390625 27.6875 48.390625 \nQ 23 48.390625 18.546875 47.265625 \nQ 14.109375 46.140625 10.015625 43.890625 \nL 10.015625 52.203125 \nQ 14.9375 54.109375 19.578125 55.046875 \nQ 24.21875 56 28.609375 56 \nQ 40.484375 56 46.34375 49.84375 \nQ 52.203125 43.703125 52.203125 31.203125 \nz\n\" id=\"DejaVuSans-97\"/>\n       <path d=\"M 9.421875 54.6875 \nL 18.40625 54.6875 \nL 18.40625 0 \nL 9.421875 0 \nz\nM 9.421875 75.984375 \nL 18.40625 75.984375 \nL 18.40625 64.59375 \nL 9.421875 64.59375 \nz\n\" id=\"DejaVuSans-105\"/>\n       <path d=\"M 9.421875 75.984375 \nL 18.40625 75.984375 \nL 18.40625 0 \nL 9.421875 0 \nz\n\" id=\"DejaVuSans-108\"/>\n       <path d=\"M 32.171875 -5.078125 \nQ 28.375 -14.84375 24.75 -17.8125 \nQ 21.140625 -20.796875 15.09375 -20.796875 \nL 7.90625 -20.796875 \nL 7.90625 -13.28125 \nL 13.1875 -13.28125 \nQ 16.890625 -13.28125 18.9375 -11.515625 \nQ 21 -9.765625 23.484375 -3.21875 \nL 25.09375 0.875 \nL 2.984375 54.6875 \nL 12.5 54.6875 \nL 29.59375 11.921875 \nL 46.6875 54.6875 \nL 56.203125 54.6875 \nz\n\" id=\"DejaVuSans-121\"/>\n       <path id=\"DejaVuSans-32\"/>\n       <path d=\"M 31 75.875 \nQ 24.46875 64.65625 21.28125 53.65625 \nQ 18.109375 42.671875 18.109375 31.390625 \nQ 18.109375 20.125 21.3125 9.0625 \nQ 24.515625 -2 31 -13.1875 \nL 23.1875 -13.1875 \nQ 15.875 -1.703125 12.234375 9.375 \nQ 8.59375 20.453125 8.59375 31.390625 \nQ 8.59375 42.28125 12.203125 53.3125 \nQ 15.828125 64.359375 23.1875 75.875 \nz\n\" id=\"DejaVuSans-40\"/>\n       <path d=\"M 72.703125 32.078125 \nQ 68.453125 32.078125 66.03125 28.46875 \nQ 63.625 24.859375 63.625 18.40625 \nQ 63.625 12.0625 66.03125 8.421875 \nQ 68.453125 4.78125 72.703125 4.78125 \nQ 76.859375 4.78125 79.265625 8.421875 \nQ 81.6875 12.0625 81.6875 18.40625 \nQ 81.6875 24.8125 79.265625 28.4375 \nQ 76.859375 32.078125 72.703125 32.078125 \nz\nM 72.703125 38.28125 \nQ 80.421875 38.28125 84.953125 32.90625 \nQ 89.5 27.546875 89.5 18.40625 \nQ 89.5 9.28125 84.9375 3.921875 \nQ 80.375 -1.421875 72.703125 -1.421875 \nQ 64.890625 -1.421875 60.34375 3.921875 \nQ 55.8125 9.28125 55.8125 18.40625 \nQ 55.8125 27.59375 60.375 32.9375 \nQ 64.9375 38.28125 72.703125 38.28125 \nz\nM 22.3125 68.015625 \nQ 18.109375 68.015625 15.6875 64.375 \nQ 13.28125 60.75 13.28125 54.390625 \nQ 13.28125 47.953125 15.671875 44.328125 \nQ 18.0625 40.71875 22.3125 40.71875 \nQ 26.5625 40.71875 28.96875 44.328125 \nQ 31.390625 47.953125 31.390625 54.390625 \nQ 31.390625 60.6875 28.953125 64.34375 \nQ 26.515625 68.015625 22.3125 68.015625 \nz\nM 66.40625 74.21875 \nL 74.21875 74.21875 \nL 28.609375 -1.421875 \nL 20.796875 -1.421875 \nz\nM 22.3125 74.21875 \nQ 30.03125 74.21875 34.609375 68.875 \nQ 39.203125 63.53125 39.203125 54.390625 \nQ 39.203125 45.171875 34.640625 39.84375 \nQ 30.078125 34.515625 22.3125 34.515625 \nQ 14.546875 34.515625 10.03125 39.859375 \nQ 5.515625 45.21875 5.515625 54.390625 \nQ 5.515625 63.484375 10.046875 68.84375 \nQ 14.59375 74.21875 22.3125 74.21875 \nz\n\" id=\"DejaVuSans-37\"/>\n       <path d=\"M 8.015625 75.875 \nL 15.828125 75.875 \nQ 23.140625 64.359375 26.78125 53.3125 \nQ 30.421875 42.28125 30.421875 31.390625 \nQ 30.421875 20.453125 26.78125 9.375 \nQ 23.140625 -1.703125 15.828125 -13.1875 \nL 8.015625 -13.1875 \nQ 14.5 -2 17.703125 9.0625 \nQ 20.90625 20.125 20.90625 31.390625 \nQ 20.90625 42.671875 17.703125 53.65625 \nQ 14.5 64.65625 8.015625 75.875 \nz\n\" id=\"DejaVuSans-41\"/>\n      </defs>\n      <use xlink:href=\"#DejaVuSans-112\"/>\n      <use x=\"63.476562\" xlink:href=\"#DejaVuSans-114\"/>\n      <use x=\"102.339844\" xlink:href=\"#DejaVuSans-111\"/>\n      <use x=\"163.521484\" xlink:href=\"#DejaVuSans-98\"/>\n      <use x=\"226.998047\" xlink:href=\"#DejaVuSans-97\"/>\n      <use x=\"288.277344\" xlink:href=\"#DejaVuSans-98\"/>\n      <use x=\"351.753906\" xlink:href=\"#DejaVuSans-105\"/>\n      <use x=\"379.537109\" xlink:href=\"#DejaVuSans-108\"/>\n      <use x=\"407.320312\" xlink:href=\"#DejaVuSans-105\"/>\n      <use x=\"435.103516\" xlink:href=\"#DejaVuSans-116\"/>\n      <use x=\"474.3125\" xlink:href=\"#DejaVuSans-121\"/>\n      <use x=\"533.492188\" xlink:href=\"#DejaVuSans-32\"/>\n      <use x=\"565.279297\" xlink:href=\"#DejaVuSans-40\"/>\n      <use x=\"604.292969\" xlink:href=\"#DejaVuSans-37\"/>\n      <use x=\"699.3125\" xlink:href=\"#DejaVuSans-41\"/>\n     </g>\n    </g>\n   </g>\n   <g id=\"patch_6\">\n    <path d=\"M 66.115625 245.836875 \nL 66.115625 28.396875 \n\" style=\"fill:none;stroke:#000000;stroke-linecap:square;stroke-linejoin:miter;stroke-width:0.8;\"/>\n   </g>\n   <g id=\"patch_7\">\n    <path d=\"M 400.915625 245.836875 \nL 400.915625 28.396875 \n\" style=\"fill:none;stroke:#000000;stroke-linecap:square;stroke-linejoin:miter;stroke-width:0.8;\"/>\n   </g>\n   <g id=\"patch_8\">\n    <path d=\"M 66.115625 245.836875 \nL 400.915625 245.836875 \n\" style=\"fill:none;stroke:#000000;stroke-linecap:square;stroke-linejoin:miter;stroke-width:0.8;\"/>\n   </g>\n   <g id=\"patch_9\">\n    <path d=\"M 66.115625 28.396875 \nL 400.915625 28.396875 \n\" style=\"fill:none;stroke:#000000;stroke-linecap:square;stroke-linejoin:miter;stroke-width:0.8;\"/>\n   </g>\n   <g id=\"text_12\">\n    <!-- Individual Default Probabilities -->\n    <g transform=\"translate(80.839063 22.396875)scale(0.2 -0.2)\">\n     <defs>\n      <path d=\"M 9.8125 72.90625 \nL 19.671875 72.90625 \nL 19.671875 0 \nL 9.8125 0 \nz\n\" id=\"DejaVuSans-73\"/>\n      <path d=\"M 54.890625 33.015625 \nL 54.890625 0 \nL 45.90625 0 \nL 45.90625 32.71875 \nQ 45.90625 40.484375 42.875 44.328125 \nQ 39.84375 48.1875 33.796875 48.1875 \nQ 26.515625 48.1875 22.3125 43.546875 \nQ 18.109375 38.921875 18.109375 30.90625 \nL 18.109375 0 \nL 9.078125 0 \nL 9.078125 54.6875 \nL 18.109375 54.6875 \nL 18.109375 46.1875 \nQ 21.34375 51.125 25.703125 53.5625 \nQ 30.078125 56 35.796875 56 \nQ 45.21875 56 50.046875 50.171875 \nQ 54.890625 44.34375 54.890625 33.015625 \nz\n\" id=\"DejaVuSans-110\"/>\n      <path d=\"M 45.40625 46.390625 \nL 45.40625 75.984375 \nL 54.390625 75.984375 \nL 54.390625 0 \nL 45.40625 0 \nL 45.40625 8.203125 \nQ 42.578125 3.328125 38.25 0.953125 \nQ 33.9375 -1.421875 27.875 -1.421875 \nQ 17.96875 -1.421875 11.734375 6.484375 \nQ 5.515625 14.40625 5.515625 27.296875 \nQ 5.515625 40.1875 11.734375 48.09375 \nQ 17.96875 56 27.875 56 \nQ 33.9375 56 38.25 53.625 \nQ 42.578125 51.265625 45.40625 46.390625 \nz\nM 14.796875 27.296875 \nQ 14.796875 17.390625 18.875 11.75 \nQ 22.953125 6.109375 30.078125 6.109375 \nQ 37.203125 6.109375 41.296875 11.75 \nQ 45.40625 17.390625 45.40625 27.296875 \nQ 45.40625 37.203125 41.296875 42.84375 \nQ 37.203125 48.484375 30.078125 48.484375 \nQ 22.953125 48.484375 18.875 42.84375 \nQ 14.796875 37.203125 14.796875 27.296875 \nz\n\" id=\"DejaVuSans-100\"/>\n      <path d=\"M 2.984375 54.6875 \nL 12.5 54.6875 \nL 29.59375 8.796875 \nL 46.6875 54.6875 \nL 56.203125 54.6875 \nL 35.6875 0 \nL 23.484375 0 \nz\n\" id=\"DejaVuSans-118\"/>\n      <path d=\"M 8.5 21.578125 \nL 8.5 54.6875 \nL 17.484375 54.6875 \nL 17.484375 21.921875 \nQ 17.484375 14.15625 20.5 10.265625 \nQ 23.53125 6.390625 29.59375 6.390625 \nQ 36.859375 6.390625 41.078125 11.03125 \nQ 45.3125 15.671875 45.3125 23.6875 \nL 45.3125 54.6875 \nL 54.296875 54.6875 \nL 54.296875 0 \nL 45.3125 0 \nL 45.3125 8.40625 \nQ 42.046875 3.421875 37.71875 1 \nQ 33.40625 -1.421875 27.6875 -1.421875 \nQ 18.265625 -1.421875 13.375 4.4375 \nQ 8.5 10.296875 8.5 21.578125 \nz\nM 31.109375 56 \nz\n\" id=\"DejaVuSans-117\"/>\n      <path d=\"M 19.671875 64.796875 \nL 19.671875 8.109375 \nL 31.59375 8.109375 \nQ 46.6875 8.109375 53.6875 14.9375 \nQ 60.6875 21.78125 60.6875 36.53125 \nQ 60.6875 51.171875 53.6875 57.984375 \nQ 46.6875 64.796875 31.59375 64.796875 \nz\nM 9.8125 72.90625 \nL 30.078125 72.90625 \nQ 51.265625 72.90625 61.171875 64.09375 \nQ 71.09375 55.28125 71.09375 36.53125 \nQ 71.09375 17.671875 61.125 8.828125 \nQ 51.171875 0 30.078125 0 \nL 9.8125 0 \nz\n\" id=\"DejaVuSans-68\"/>\n      <path d=\"M 37.109375 75.984375 \nL 37.109375 68.5 \nL 28.515625 68.5 \nQ 23.6875 68.5 21.796875 66.546875 \nQ 19.921875 64.59375 19.921875 59.515625 \nL 19.921875 54.6875 \nL 34.71875 54.6875 \nL 34.71875 47.703125 \nL 19.921875 47.703125 \nL 19.921875 0 \nL 10.890625 0 \nL 10.890625 47.703125 \nL 2.296875 47.703125 \nL 2.296875 54.6875 \nL 10.890625 54.6875 \nL 10.890625 58.5 \nQ 10.890625 67.625 15.140625 71.796875 \nQ 19.390625 75.984375 28.609375 75.984375 \nz\n\" id=\"DejaVuSans-102\"/>\n      <path d=\"M 19.671875 64.796875 \nL 19.671875 37.40625 \nL 32.078125 37.40625 \nQ 38.96875 37.40625 42.71875 40.96875 \nQ 46.484375 44.53125 46.484375 51.125 \nQ 46.484375 57.671875 42.71875 61.234375 \nQ 38.96875 64.796875 32.078125 64.796875 \nz\nM 9.8125 72.90625 \nL 32.078125 72.90625 \nQ 44.34375 72.90625 50.609375 67.359375 \nQ 56.890625 61.8125 56.890625 51.125 \nQ 56.890625 40.328125 50.609375 34.8125 \nQ 44.34375 29.296875 32.078125 29.296875 \nL 19.671875 29.296875 \nL 19.671875 0 \nL 9.8125 0 \nz\n\" id=\"DejaVuSans-80\"/>\n     </defs>\n     <use xlink:href=\"#DejaVuSans-73\"/>\n     <use x=\"29.492188\" xlink:href=\"#DejaVuSans-110\"/>\n     <use x=\"92.871094\" xlink:href=\"#DejaVuSans-100\"/>\n     <use x=\"156.347656\" xlink:href=\"#DejaVuSans-105\"/>\n     <use x=\"184.130859\" xlink:href=\"#DejaVuSans-118\"/>\n     <use x=\"243.310547\" xlink:href=\"#DejaVuSans-105\"/>\n     <use x=\"271.09375\" xlink:href=\"#DejaVuSans-100\"/>\n     <use x=\"334.570312\" xlink:href=\"#DejaVuSans-117\"/>\n     <use x=\"397.949219\" xlink:href=\"#DejaVuSans-97\"/>\n     <use x=\"459.228516\" xlink:href=\"#DejaVuSans-108\"/>\n     <use x=\"487.011719\" xlink:href=\"#DejaVuSans-32\"/>\n     <use x=\"518.798828\" xlink:href=\"#DejaVuSans-68\"/>\n     <use x=\"595.800781\" xlink:href=\"#DejaVuSans-101\"/>\n     <use x=\"657.324219\" xlink:href=\"#DejaVuSans-102\"/>\n     <use x=\"692.529297\" xlink:href=\"#DejaVuSans-97\"/>\n     <use x=\"753.808594\" xlink:href=\"#DejaVuSans-117\"/>\n     <use x=\"817.1875\" xlink:href=\"#DejaVuSans-108\"/>\n     <use x=\"844.970703\" xlink:href=\"#DejaVuSans-116\"/>\n     <use x=\"884.179688\" xlink:href=\"#DejaVuSans-32\"/>\n     <use x=\"915.966797\" xlink:href=\"#DejaVuSans-80\"/>\n     <use x=\"974.519531\" xlink:href=\"#DejaVuSans-114\"/>\n     <use x=\"1013.382812\" xlink:href=\"#DejaVuSans-111\"/>\n     <use x=\"1074.564453\" xlink:href=\"#DejaVuSans-98\"/>\n     <use x=\"1138.041016\" xlink:href=\"#DejaVuSans-97\"/>\n     <use x=\"1199.320312\" xlink:href=\"#DejaVuSans-98\"/>\n     <use x=\"1262.796875\" xlink:href=\"#DejaVuSans-105\"/>\n     <use x=\"1290.580078\" xlink:href=\"#DejaVuSans-108\"/>\n     <use x=\"1318.363281\" xlink:href=\"#DejaVuSans-105\"/>\n     <use x=\"1346.146484\" xlink:href=\"#DejaVuSans-116\"/>\n     <use x=\"1385.355469\" xlink:href=\"#DejaVuSans-105\"/>\n     <use x=\"1413.138672\" xlink:href=\"#DejaVuSans-101\"/>\n     <use x=\"1474.662109\" xlink:href=\"#DejaVuSans-115\"/>\n    </g>\n   </g>\n  </g>\n </g>\n <defs>\n  <clipPath id=\"pc3386d7d03\">\n   <rect height=\"217.44\" width=\"334.8\" x=\"66.115625\" y=\"28.396875\"/>\n  </clipPath>\n </defs>\n</svg>\n",
      "image/png": "[encoded data removed]"
     },
     "metadata": {
      "needs_background": "light"
     }
    },
    {
     "output_type": "display_data",
     "data": {
      "text/plain": "<Figure size 432x288 with 1 Axes>",
      "image/svg+xml": "<?xml version=\"1.0\" encoding=\"utf-8\" standalone=\"no\"?>\n<!DOCTYPE svg PUBLIC \"-//W3C//DTD SVG 1.1//EN\"\n  \"http://www.w3.org/Graphics/SVG/1.1/DTD/svg11.dtd\">\n<!-- Created with matplotlib (https://matplotlib.org/) -->\n<svg height=\"293.07125pt\" version=\"1.1\" viewBox=\"0 0 398.571875 293.07125\" width=\"398.571875pt\" xmlns=\"http://www.w3.org/2000/svg\" xmlns:xlink=\"http://www.w3.org/1999/xlink\">\n <metadata>\n  <rdf:RDF xmlns:cc=\"http://creativecommons.org/ns#\" xmlns:dc=\"http://purl.org/dc/elements/1.1/\" xmlns:rdf=\"http://www.w3.org/1999/02/22-rdf-syntax-ns#\">\n   <cc:Work>\n    <dc:type rdf:resource=\"http://purl.org/dc/dcmitype/StillImage\"/>\n    <dc:date>2021-02-21T10:18:03.307241</dc:date>\n    <dc:format>image/svg+xml</dc:format>\n    <dc:creator>\n     <cc:Agent>\n      <dc:title>Matplotlib v3.3.1, https://matplotlib.org/</dc:title>\n     </cc:Agent>\n    </dc:creator>\n   </cc:Work>\n  </rdf:RDF>\n </metadata>\n <defs>\n  <style type=\"text/css\">*{stroke-linecap:butt;stroke-linejoin:round;}</style>\n </defs>\n <g id=\"figure_1\">\n  <g id=\"patch_1\">\n   <path d=\"M 0 293.07125 \nL 398.571875 293.07125 \nL 398.571875 0 \nL 0 0 \nz\n\" style=\"fill:none;\"/>\n  </g>\n  <g id=\"axes_1\">\n   <g id=\"patch_2\">\n    <path d=\"M 56.571875 245.836875 \nL 391.371875 245.836875 \nL 391.371875 28.396875 \nL 56.571875 28.396875 \nz\n\" style=\"fill:#ffffff;\"/>\n   </g>\n   <g id=\"patch_3\">\n    <path clip-path=\"url(#p3dfe3fac5a)\" d=\"M 71.790057 245.836875 \nL 158.751096 245.836875 \nL 158.751096 176.808304 \nL 71.790057 176.808304 \nz\n\" style=\"fill:#1f77b4;\"/>\n   </g>\n   <g id=\"patch_4\">\n    <path clip-path=\"url(#p3dfe3fac5a)\" d=\"M 180.491356 245.836875 \nL 267.452394 245.836875 \nL 267.452394 107.779732 \nL 180.491356 107.779732 \nz\n\" style=\"fill:#1f77b4;\"/>\n   </g>\n   <g id=\"patch_5\">\n    <path clip-path=\"url(#p3dfe3fac5a)\" d=\"M 289.192654 245.836875 \nL 376.153693 245.836875 \nL 376.153693 38.751161 \nL 289.192654 38.751161 \nz\n\" style=\"fill:#1f77b4;\"/>\n   </g>\n   <g id=\"matplotlib.axis_1\">\n    <g id=\"xtick_1\">\n     <g id=\"line2d_1\">\n      <path clip-path=\"url(#p3dfe3fac5a)\" d=\"M 115.270576 245.836875 \nL 115.270576 28.396875 \n\" style=\"fill:none;stroke:#b0b0b0;stroke-linecap:square;stroke-width:0.8;\"/>\n     </g>\n     <g id=\"line2d_2\">\n      <defs>\n       <path d=\"M 0 0 \nL 0 3.5 \n\" id=\"mfdf7db0356\" style=\"stroke:#000000;stroke-width:0.8;\"/>\n      </defs>\n      <g>\n       <use style=\"stroke:#000000;stroke-width:0.8;\" x=\"115.270576\" xlink:href=\"#mfdf7db0356\" y=\"245.836875\"/>\n      </g>\n     </g>\n     <g id=\"text_1\">\n      <!-- 0 -->\n      <g transform=\"translate(110.498701 264.234531)scale(0.15 -0.15)\">\n       <defs>\n        <path d=\"M 31.78125 66.40625 \nQ 24.171875 66.40625 20.328125 58.90625 \nQ 16.5 51.421875 16.5 36.375 \nQ 16.5 21.390625 20.328125 13.890625 \nQ 24.171875 6.390625 31.78125 6.390625 \nQ 39.453125 6.390625 43.28125 13.890625 \nQ 47.125 21.390625 47.125 36.375 \nQ 47.125 51.421875 43.28125 58.90625 \nQ 39.453125 66.40625 31.78125 66.40625 \nz\nM 31.78125 74.21875 \nQ 44.046875 74.21875 50.515625 64.515625 \nQ 56.984375 54.828125 56.984375 36.375 \nQ 56.984375 17.96875 50.515625 8.265625 \nQ 44.046875 -1.421875 31.78125 -1.421875 \nQ 19.53125 -1.421875 13.0625 8.265625 \nQ 6.59375 17.96875 6.59375 36.375 \nQ 6.59375 54.828125 13.0625 64.515625 \nQ 19.53125 74.21875 31.78125 74.21875 \nz\n\" id=\"DejaVuSans-48\"/>\n       </defs>\n       <use xlink:href=\"#DejaVuSans-48\"/>\n      </g>\n     </g>\n    </g>\n    <g id=\"xtick_2\">\n     <g id=\"line2d_3\">\n      <path clip-path=\"url(#p3dfe3fac5a)\" d=\"M 223.971875 245.836875 \nL 223.971875 28.396875 \n\" style=\"fill:none;stroke:#b0b0b0;stroke-linecap:square;stroke-width:0.8;\"/>\n     </g>\n     <g id=\"line2d_4\">\n      <g>\n       <use style=\"stroke:#000000;stroke-width:0.8;\" x=\"223.971875\" xlink:href=\"#mfdf7db0356\" y=\"245.836875\"/>\n      </g>\n     </g>\n     <g id=\"text_2\">\n      <!-- 1 -->\n      <g transform=\"translate(219.2 264.234531)scale(0.15 -0.15)\">\n       <defs>\n        <path d=\"M 12.40625 8.296875 \nL 28.515625 8.296875 \nL 28.515625 63.921875 \nL 10.984375 60.40625 \nL 10.984375 69.390625 \nL 28.421875 72.90625 \nL 38.28125 72.90625 \nL 38.28125 8.296875 \nL 54.390625 8.296875 \nL 54.390625 0 \nL 12.40625 0 \nz\n\" id=\"DejaVuSans-49\"/>\n       </defs>\n       <use xlink:href=\"#DejaVuSans-49\"/>\n      </g>\n     </g>\n    </g>\n    <g id=\"xtick_3\">\n     <g id=\"line2d_5\">\n      <path clip-path=\"url(#p3dfe3fac5a)\" d=\"M 332.673174 245.836875 \nL 332.673174 28.396875 \n\" style=\"fill:none;stroke:#b0b0b0;stroke-linecap:square;stroke-width:0.8;\"/>\n     </g>\n     <g id=\"line2d_6\">\n      <g>\n       <use style=\"stroke:#000000;stroke-width:0.8;\" x=\"332.673174\" xlink:href=\"#mfdf7db0356\" y=\"245.836875\"/>\n      </g>\n     </g>\n     <g id=\"text_3\">\n      <!-- 2 -->\n      <g transform=\"translate(327.901299 264.234531)scale(0.15 -0.15)\">\n       <defs>\n        <path d=\"M 19.1875 8.296875 \nL 53.609375 8.296875 \nL 53.609375 0 \nL 7.328125 0 \nL 7.328125 8.296875 \nQ 12.9375 14.109375 22.625 23.890625 \nQ 32.328125 33.6875 34.8125 36.53125 \nQ 39.546875 41.84375 41.421875 45.53125 \nQ 43.3125 49.21875 43.3125 52.78125 \nQ 43.3125 58.59375 39.234375 62.25 \nQ 35.15625 65.921875 28.609375 65.921875 \nQ 23.96875 65.921875 18.8125 64.3125 \nQ 13.671875 62.703125 7.8125 59.421875 \nL 7.8125 69.390625 \nQ 13.765625 71.78125 18.9375 73 \nQ 24.125 74.21875 28.421875 74.21875 \nQ 39.75 74.21875 46.484375 68.546875 \nQ 53.21875 62.890625 53.21875 53.421875 \nQ 53.21875 48.921875 51.53125 44.890625 \nQ 49.859375 40.875 45.40625 35.40625 \nQ 44.1875 33.984375 37.640625 27.21875 \nQ 31.109375 20.453125 19.1875 8.296875 \nz\n\" id=\"DejaVuSans-50\"/>\n       </defs>\n       <use xlink:href=\"#DejaVuSans-50\"/>\n      </g>\n     </g>\n    </g>\n    <g id=\"text_4\">\n     <!-- Asset -->\n     <g transform=\"translate(203.472266 282.751719)scale(0.15 -0.15)\">\n      <defs>\n       <path d=\"M 34.1875 63.1875 \nL 20.796875 26.90625 \nL 47.609375 26.90625 \nz\nM 28.609375 72.90625 \nL 39.796875 72.90625 \nL 67.578125 0 \nL 57.328125 0 \nL 50.6875 18.703125 \nL 17.828125 18.703125 \nL 11.1875 0 \nL 0.78125 0 \nz\n\" id=\"DejaVuSans-65\"/>\n       <path d=\"M 44.28125 53.078125 \nL 44.28125 44.578125 \nQ 40.484375 46.53125 36.375 47.5 \nQ 32.28125 48.484375 27.875 48.484375 \nQ 21.1875 48.484375 17.84375 46.4375 \nQ 14.5 44.390625 14.5 40.28125 \nQ 14.5 37.15625 16.890625 35.375 \nQ 19.28125 33.59375 26.515625 31.984375 \nL 29.59375 31.296875 \nQ 39.15625 29.25 43.1875 25.515625 \nQ 47.21875 21.78125 47.21875 15.09375 \nQ 47.21875 7.46875 41.1875 3.015625 \nQ 35.15625 -1.421875 24.609375 -1.421875 \nQ 20.21875 -1.421875 15.453125 -0.5625 \nQ 10.6875 0.296875 5.421875 2 \nL 5.421875 11.28125 \nQ 10.40625 8.6875 15.234375 7.390625 \nQ 20.0625 6.109375 24.8125 6.109375 \nQ 31.15625 6.109375 34.5625 8.28125 \nQ 37.984375 10.453125 37.984375 14.40625 \nQ 37.984375 18.0625 35.515625 20.015625 \nQ 33.0625 21.96875 24.703125 23.78125 \nL 21.578125 24.515625 \nQ 13.234375 26.265625 9.515625 29.90625 \nQ 5.8125 33.546875 5.8125 39.890625 \nQ 5.8125 47.609375 11.28125 51.796875 \nQ 16.75 56 26.8125 56 \nQ 31.78125 56 36.171875 55.265625 \nQ 40.578125 54.546875 44.28125 53.078125 \nz\n\" id=\"DejaVuSans-115\"/>\n       <path d=\"M 56.203125 29.59375 \nL 56.203125 25.203125 \nL 14.890625 25.203125 \nQ 15.484375 15.921875 20.484375 11.0625 \nQ 25.484375 6.203125 34.421875 6.203125 \nQ 39.59375 6.203125 44.453125 7.46875 \nQ 49.3125 8.734375 54.109375 11.28125 \nL 54.109375 2.78125 \nQ 49.265625 0.734375 44.1875 -0.34375 \nQ 39.109375 -1.421875 33.890625 -1.421875 \nQ 20.796875 -1.421875 13.15625 6.1875 \nQ 5.515625 13.8125 5.515625 26.8125 \nQ 5.515625 40.234375 12.765625 48.109375 \nQ 20.015625 56 32.328125 56 \nQ 43.359375 56 49.78125 48.890625 \nQ 56.203125 41.796875 56.203125 29.59375 \nz\nM 47.21875 32.234375 \nQ 47.125 39.59375 43.09375 43.984375 \nQ 39.0625 48.390625 32.421875 48.390625 \nQ 24.90625 48.390625 20.390625 44.140625 \nQ 15.875 39.890625 15.1875 32.171875 \nz\n\" id=\"DejaVuSans-101\"/>\n       <path d=\"M 18.3125 70.21875 \nL 18.3125 54.6875 \nL 36.8125 54.6875 \nL 36.8125 47.703125 \nL 18.3125 47.703125 \nL 18.3125 18.015625 \nQ 18.3125 11.328125 20.140625 9.421875 \nQ 21.96875 7.515625 27.59375 7.515625 \nL 36.8125 7.515625 \nL 36.8125 0 \nL 27.59375 0 \nQ 17.1875 0 13.234375 3.875 \nQ 9.28125 7.765625 9.28125 18.015625 \nL 9.28125 47.703125 \nL 2.6875 47.703125 \nL 2.6875 54.6875 \nL 9.28125 54.6875 \nL 9.28125 70.21875 \nz\n\" id=\"DejaVuSans-116\"/>\n      </defs>\n      <use xlink:href=\"#DejaVuSans-65\"/>\n      <use x=\"68.408203\" xlink:href=\"#DejaVuSans-115\"/>\n      <use x=\"120.507812\" xlink:href=\"#DejaVuSans-115\"/>\n      <use x=\"172.607422\" xlink:href=\"#DejaVuSans-101\"/>\n      <use x=\"234.130859\" xlink:href=\"#DejaVuSans-116\"/>\n     </g>\n    </g>\n   </g>\n   <g id=\"matplotlib.axis_2\">\n    <g id=\"ytick_1\">\n     <g id=\"line2d_7\">\n      <path clip-path=\"url(#p3dfe3fac5a)\" d=\"M 56.571875 245.836875 \nL 391.371875 245.836875 \n\" style=\"fill:none;stroke:#b0b0b0;stroke-linecap:square;stroke-width:0.8;\"/>\n     </g>\n     <g id=\"line2d_8\">\n      <defs>\n       <path d=\"M 0 0 \nL -3.5 0 \n\" id=\"m02935d4006\" style=\"stroke:#000000;stroke-width:0.8;\"/>\n      </defs>\n      <g>\n       <use style=\"stroke:#000000;stroke-width:0.8;\" x=\"56.571875\" xlink:href=\"#m02935d4006\" y=\"245.836875\"/>\n      </g>\n     </g>\n     <g id=\"text_5\">\n      <!-- 0.0 -->\n      <g transform=\"translate(25.717187 251.535703)scale(0.15 -0.15)\">\n       <defs>\n        <path d=\"M 10.6875 12.40625 \nL 21 12.40625 \nL 21 0 \nL 10.6875 0 \nz\n\" id=\"DejaVuSans-46\"/>\n       </defs>\n       <use xlink:href=\"#DejaVuSans-48\"/>\n       <use x=\"63.623047\" xlink:href=\"#DejaVuSans-46\"/>\n       <use x=\"95.410156\" xlink:href=\"#DejaVuSans-48\"/>\n      </g>\n     </g>\n    </g>\n    <g id=\"ytick_2\">\n     <g id=\"line2d_9\">\n      <path clip-path=\"url(#p3dfe3fac5a)\" d=\"M 56.571875 211.322589 \nL 391.371875 211.322589 \n\" style=\"fill:none;stroke:#b0b0b0;stroke-linecap:square;stroke-width:0.8;\"/>\n     </g>\n     <g id=\"line2d_10\">\n      <g>\n       <use style=\"stroke:#000000;stroke-width:0.8;\" x=\"56.571875\" xlink:href=\"#m02935d4006\" y=\"211.322589\"/>\n      </g>\n     </g>\n     <g id=\"text_6\">\n      <!-- 0.5 -->\n      <g transform=\"translate(25.717187 217.021417)scale(0.15 -0.15)\">\n       <defs>\n        <path d=\"M 10.796875 72.90625 \nL 49.515625 72.90625 \nL 49.515625 64.59375 \nL 19.828125 64.59375 \nL 19.828125 46.734375 \nQ 21.96875 47.46875 24.109375 47.828125 \nQ 26.265625 48.1875 28.421875 48.1875 \nQ 40.625 48.1875 47.75 41.5 \nQ 54.890625 34.8125 54.890625 23.390625 \nQ 54.890625 11.625 47.5625 5.09375 \nQ 40.234375 -1.421875 26.90625 -1.421875 \nQ 22.3125 -1.421875 17.546875 -0.640625 \nQ 12.796875 0.140625 7.71875 1.703125 \nL 7.71875 11.625 \nQ 12.109375 9.234375 16.796875 8.0625 \nQ 21.484375 6.890625 26.703125 6.890625 \nQ 35.15625 6.890625 40.078125 11.328125 \nQ 45.015625 15.765625 45.015625 23.390625 \nQ 45.015625 31 40.078125 35.4375 \nQ 35.15625 39.890625 26.703125 39.890625 \nQ 22.75 39.890625 18.8125 39.015625 \nQ 14.890625 38.140625 10.796875 36.28125 \nz\n\" id=\"DejaVuSans-53\"/>\n       </defs>\n       <use xlink:href=\"#DejaVuSans-48\"/>\n       <use x=\"63.623047\" xlink:href=\"#DejaVuSans-46\"/>\n       <use x=\"95.410156\" xlink:href=\"#DejaVuSans-53\"/>\n      </g>\n     </g>\n    </g>\n    <g id=\"ytick_3\">\n     <g id=\"line2d_11\">\n      <path clip-path=\"url(#p3dfe3fac5a)\" d=\"M 56.571875 176.808304 \nL 391.371875 176.808304 \n\" style=\"fill:none;stroke:#b0b0b0;stroke-linecap:square;stroke-width:0.8;\"/>\n     </g>\n     <g id=\"line2d_12\">\n      <g>\n       <use style=\"stroke:#000000;stroke-width:0.8;\" x=\"56.571875\" xlink:href=\"#m02935d4006\" y=\"176.808304\"/>\n      </g>\n     </g>\n     <g id=\"text_7\">\n      <!-- 1.0 -->\n      <g transform=\"translate(25.717187 182.507132)scale(0.15 -0.15)\">\n       <use xlink:href=\"#DejaVuSans-49\"/>\n       <use x=\"63.623047\" xlink:href=\"#DejaVuSans-46\"/>\n       <use x=\"95.410156\" xlink:href=\"#DejaVuSans-48\"/>\n      </g>\n     </g>\n    </g>\n    <g id=\"ytick_4\">\n     <g id=\"line2d_13\">\n      <path clip-path=\"url(#p3dfe3fac5a)\" d=\"M 56.571875 142.294018 \nL 391.371875 142.294018 \n\" style=\"fill:none;stroke:#b0b0b0;stroke-linecap:square;stroke-width:0.8;\"/>\n     </g>\n     <g id=\"line2d_14\">\n      <g>\n       <use style=\"stroke:#000000;stroke-width:0.8;\" x=\"56.571875\" xlink:href=\"#m02935d4006\" y=\"142.294018\"/>\n      </g>\n     </g>\n     <g id=\"text_8\">\n      <!-- 1.5 -->\n      <g transform=\"translate(25.717187 147.992846)scale(0.15 -0.15)\">\n       <use xlink:href=\"#DejaVuSans-49\"/>\n       <use x=\"63.623047\" xlink:href=\"#DejaVuSans-46\"/>\n       <use x=\"95.410156\" xlink:href=\"#DejaVuSans-53\"/>\n      </g>\n     </g>\n    </g>\n    <g id=\"ytick_5\">\n     <g id=\"line2d_15\">\n      <path clip-path=\"url(#p3dfe3fac5a)\" d=\"M 56.571875 107.779732 \nL 391.371875 107.779732 \n\" style=\"fill:none;stroke:#b0b0b0;stroke-linecap:square;stroke-width:0.8;\"/>\n     </g>\n     <g id=\"line2d_16\">\n      <g>\n       <use style=\"stroke:#000000;stroke-width:0.8;\" x=\"56.571875\" xlink:href=\"#m02935d4006\" y=\"107.779732\"/>\n      </g>\n     </g>\n     <g id=\"text_9\">\n      <!-- 2.0 -->\n      <g transform=\"translate(25.717187 113.47856)scale(0.15 -0.15)\">\n       <use xlink:href=\"#DejaVuSans-50\"/>\n       <use x=\"63.623047\" xlink:href=\"#DejaVuSans-46\"/>\n       <use x=\"95.410156\" xlink:href=\"#DejaVuSans-48\"/>\n      </g>\n     </g>\n    </g>\n    <g id=\"ytick_6\">\n     <g id=\"line2d_17\">\n      <path clip-path=\"url(#p3dfe3fac5a)\" d=\"M 56.571875 73.265446 \nL 391.371875 73.265446 \n\" style=\"fill:none;stroke:#b0b0b0;stroke-linecap:square;stroke-width:0.8;\"/>\n     </g>\n     <g id=\"line2d_18\">\n      <g>\n       <use style=\"stroke:#000000;stroke-width:0.8;\" x=\"56.571875\" xlink:href=\"#m02935d4006\" y=\"73.265446\"/>\n      </g>\n     </g>\n     <g id=\"text_10\">\n      <!-- 2.5 -->\n      <g transform=\"translate(25.717187 78.964275)scale(0.15 -0.15)\">\n       <use xlink:href=\"#DejaVuSans-50\"/>\n       <use x=\"63.623047\" xlink:href=\"#DejaVuSans-46\"/>\n       <use x=\"95.410156\" xlink:href=\"#DejaVuSans-53\"/>\n      </g>\n     </g>\n    </g>\n    <g id=\"ytick_7\">\n     <g id=\"line2d_19\">\n      <path clip-path=\"url(#p3dfe3fac5a)\" d=\"M 56.571875 38.751161 \nL 391.371875 38.751161 \n\" style=\"fill:none;stroke:#b0b0b0;stroke-linecap:square;stroke-width:0.8;\"/>\n     </g>\n     <g id=\"line2d_20\">\n      <g>\n       <use style=\"stroke:#000000;stroke-width:0.8;\" x=\"56.571875\" xlink:href=\"#m02935d4006\" y=\"38.751161\"/>\n      </g>\n     </g>\n     <g id=\"text_11\">\n      <!-- 3.0 -->\n      <g transform=\"translate(25.717187 44.449989)scale(0.15 -0.15)\">\n       <defs>\n        <path d=\"M 40.578125 39.3125 \nQ 47.65625 37.796875 51.625 33 \nQ 55.609375 28.21875 55.609375 21.1875 \nQ 55.609375 10.40625 48.1875 4.484375 \nQ 40.765625 -1.421875 27.09375 -1.421875 \nQ 22.515625 -1.421875 17.65625 -0.515625 \nQ 12.796875 0.390625 7.625 2.203125 \nL 7.625 11.71875 \nQ 11.71875 9.328125 16.59375 8.109375 \nQ 21.484375 6.890625 26.8125 6.890625 \nQ 36.078125 6.890625 40.9375 10.546875 \nQ 45.796875 14.203125 45.796875 21.1875 \nQ 45.796875 27.640625 41.28125 31.265625 \nQ 36.765625 34.90625 28.71875 34.90625 \nL 20.21875 34.90625 \nL 20.21875 43.015625 \nL 29.109375 43.015625 \nQ 36.375 43.015625 40.234375 45.921875 \nQ 44.09375 48.828125 44.09375 54.296875 \nQ 44.09375 59.90625 40.109375 62.90625 \nQ 36.140625 65.921875 28.71875 65.921875 \nQ 24.65625 65.921875 20.015625 65.03125 \nQ 15.375 64.15625 9.8125 62.3125 \nL 9.8125 71.09375 \nQ 15.4375 72.65625 20.34375 73.4375 \nQ 25.25 74.21875 29.59375 74.21875 \nQ 40.828125 74.21875 47.359375 69.109375 \nQ 53.90625 64.015625 53.90625 55.328125 \nQ 53.90625 49.265625 50.4375 45.09375 \nQ 46.96875 40.921875 40.578125 39.3125 \nz\n\" id=\"DejaVuSans-51\"/>\n       </defs>\n       <use xlink:href=\"#DejaVuSans-51\"/>\n       <use x=\"63.623047\" xlink:href=\"#DejaVuSans-46\"/>\n       <use x=\"95.410156\" xlink:href=\"#DejaVuSans-48\"/>\n      </g>\n     </g>\n    </g>\n    <g id=\"text_12\">\n     <!-- Loss ($) -->\n     <g transform=\"translate(18.597656 166.575469)rotate(-90)scale(0.15 -0.15)\">\n      <defs>\n       <path d=\"M 9.8125 72.90625 \nL 19.671875 72.90625 \nL 19.671875 8.296875 \nL 55.171875 8.296875 \nL 55.171875 0 \nL 9.8125 0 \nz\n\" id=\"DejaVuSans-76\"/>\n       <path d=\"M 30.609375 48.390625 \nQ 23.390625 48.390625 19.1875 42.75 \nQ 14.984375 37.109375 14.984375 27.296875 \nQ 14.984375 17.484375 19.15625 11.84375 \nQ 23.34375 6.203125 30.609375 6.203125 \nQ 37.796875 6.203125 41.984375 11.859375 \nQ 46.1875 17.53125 46.1875 27.296875 \nQ 46.1875 37.015625 41.984375 42.703125 \nQ 37.796875 48.390625 30.609375 48.390625 \nz\nM 30.609375 56 \nQ 42.328125 56 49.015625 48.375 \nQ 55.71875 40.765625 55.71875 27.296875 \nQ 55.71875 13.875 49.015625 6.21875 \nQ 42.328125 -1.421875 30.609375 -1.421875 \nQ 18.84375 -1.421875 12.171875 6.21875 \nQ 5.515625 13.875 5.515625 27.296875 \nQ 5.515625 40.765625 12.171875 48.375 \nQ 18.84375 56 30.609375 56 \nz\n\" id=\"DejaVuSans-111\"/>\n       <path id=\"DejaVuSans-32\"/>\n       <path d=\"M 31 75.875 \nQ 24.46875 64.65625 21.28125 53.65625 \nQ 18.109375 42.671875 18.109375 31.390625 \nQ 18.109375 20.125 21.3125 9.0625 \nQ 24.515625 -2 31 -13.1875 \nL 23.1875 -13.1875 \nQ 15.875 -1.703125 12.234375 9.375 \nQ 8.59375 20.453125 8.59375 31.390625 \nQ 8.59375 42.28125 12.203125 53.3125 \nQ 15.828125 64.359375 23.1875 75.875 \nz\n\" id=\"DejaVuSans-40\"/>\n       <path d=\"M 33.796875 -14.703125 \nL 28.90625 -14.703125 \nL 28.859375 0 \nQ 23.734375 0.09375 18.609375 1.1875 \nQ 13.484375 2.296875 8.296875 4.5 \nL 8.296875 13.28125 \nQ 13.28125 10.15625 18.375 8.5625 \nQ 23.484375 6.984375 28.90625 6.9375 \nL 28.90625 29.203125 \nQ 18.109375 30.953125 13.203125 35.15625 \nQ 8.296875 39.359375 8.296875 46.6875 \nQ 8.296875 54.640625 13.625 59.21875 \nQ 18.953125 63.8125 28.90625 64.5 \nL 28.90625 75.984375 \nL 33.796875 75.984375 \nL 33.796875 64.65625 \nQ 38.328125 64.453125 42.578125 63.6875 \nQ 46.828125 62.9375 50.875 61.625 \nL 50.875 53.078125 \nQ 46.828125 55.125 42.546875 56.25 \nQ 38.28125 57.375 33.796875 57.5625 \nL 33.796875 36.71875 \nQ 44.875 35.015625 50.09375 30.609375 \nQ 55.328125 26.21875 55.328125 18.609375 \nQ 55.328125 10.359375 49.78125 5.59375 \nQ 44.234375 0.828125 33.796875 0.09375 \nz\nM 28.90625 37.59375 \nL 28.90625 57.625 \nQ 23.25 56.984375 20.265625 54.390625 \nQ 17.28125 51.8125 17.28125 47.515625 \nQ 17.28125 43.3125 20.03125 40.96875 \nQ 22.796875 38.625 28.90625 37.59375 \nz\nM 33.796875 28.21875 \nL 33.796875 7.078125 \nQ 39.984375 7.90625 43.140625 10.59375 \nQ 46.296875 13.28125 46.296875 17.671875 \nQ 46.296875 21.96875 43.28125 24.5 \nQ 40.28125 27.046875 33.796875 28.21875 \nz\n\" id=\"DejaVuSans-36\"/>\n       <path d=\"M 8.015625 75.875 \nL 15.828125 75.875 \nQ 23.140625 64.359375 26.78125 53.3125 \nQ 30.421875 42.28125 30.421875 31.390625 \nQ 30.421875 20.453125 26.78125 9.375 \nQ 23.140625 -1.703125 15.828125 -13.1875 \nL 8.015625 -13.1875 \nQ 14.5 -2 17.703125 9.0625 \nQ 20.90625 20.125 20.90625 31.390625 \nQ 20.90625 42.671875 17.703125 53.65625 \nQ 14.5 64.65625 8.015625 75.875 \nz\n\" id=\"DejaVuSans-41\"/>\n      </defs>\n      <use xlink:href=\"#DejaVuSans-76\"/>\n      <use x=\"53.962891\" xlink:href=\"#DejaVuSans-111\"/>\n      <use x=\"115.144531\" xlink:href=\"#DejaVuSans-115\"/>\n      <use x=\"167.244141\" xlink:href=\"#DejaVuSans-115\"/>\n      <use x=\"219.34375\" xlink:href=\"#DejaVuSans-32\"/>\n      <use x=\"251.130859\" xlink:href=\"#DejaVuSans-40\"/>\n      <use x=\"290.144531\" xlink:href=\"#DejaVuSans-36\"/>\n      <use x=\"353.767578\" xlink:href=\"#DejaVuSans-41\"/>\n     </g>\n    </g>\n   </g>\n   <g id=\"patch_6\">\n    <path d=\"M 56.571875 245.836875 \nL 56.571875 28.396875 \n\" style=\"fill:none;stroke:#000000;stroke-linecap:square;stroke-linejoin:miter;stroke-width:0.8;\"/>\n   </g>\n   <g id=\"patch_7\">\n    <path d=\"M 391.371875 245.836875 \nL 391.371875 28.396875 \n\" style=\"fill:none;stroke:#000000;stroke-linecap:square;stroke-linejoin:miter;stroke-width:0.8;\"/>\n   </g>\n   <g id=\"patch_8\">\n    <path d=\"M 56.571875 245.836875 \nL 391.371875 245.836875 \n\" style=\"fill:none;stroke:#000000;stroke-linecap:square;stroke-linejoin:miter;stroke-width:0.8;\"/>\n   </g>\n   <g id=\"patch_9\">\n    <path d=\"M 56.571875 28.396875 \nL 391.371875 28.396875 \n\" style=\"fill:none;stroke:#000000;stroke-linecap:square;stroke-linejoin:miter;stroke-width:0.8;\"/>\n   </g>\n   <g id=\"text_13\">\n    <!-- Loss Given Default \\*100000$ -->\n    <g transform=\"translate(74.123437 22.396875)scale(0.2 -0.2)\">\n     <defs>\n      <path d=\"M 59.515625 10.40625 \nL 59.515625 29.984375 \nL 43.40625 29.984375 \nL 43.40625 38.09375 \nL 69.28125 38.09375 \nL 69.28125 6.78125 \nQ 63.578125 2.734375 56.6875 0.65625 \nQ 49.8125 -1.421875 42 -1.421875 \nQ 24.90625 -1.421875 15.25 8.5625 \nQ 5.609375 18.5625 5.609375 36.375 \nQ 5.609375 54.25 15.25 64.234375 \nQ 24.90625 74.21875 42 74.21875 \nQ 49.125 74.21875 55.546875 72.453125 \nQ 61.96875 70.703125 67.390625 67.28125 \nL 67.390625 56.78125 \nQ 61.921875 61.421875 55.765625 63.765625 \nQ 49.609375 66.109375 42.828125 66.109375 \nQ 29.4375 66.109375 22.71875 58.640625 \nQ 16.015625 51.171875 16.015625 36.375 \nQ 16.015625 21.625 22.71875 14.15625 \nQ 29.4375 6.6875 42.828125 6.6875 \nQ 48.046875 6.6875 52.140625 7.59375 \nQ 56.25 8.5 59.515625 10.40625 \nz\n\" id=\"DejaVuSans-71\"/>\n      <path d=\"M 9.421875 54.6875 \nL 18.40625 54.6875 \nL 18.40625 0 \nL 9.421875 0 \nz\nM 9.421875 75.984375 \nL 18.40625 75.984375 \nL 18.40625 64.59375 \nL 9.421875 64.59375 \nz\n\" id=\"DejaVuSans-105\"/>\n      <path d=\"M 2.984375 54.6875 \nL 12.5 54.6875 \nL 29.59375 8.796875 \nL 46.6875 54.6875 \nL 56.203125 54.6875 \nL 35.6875 0 \nL 23.484375 0 \nz\n\" id=\"DejaVuSans-118\"/>\n      <path d=\"M 54.890625 33.015625 \nL 54.890625 0 \nL 45.90625 0 \nL 45.90625 32.71875 \nQ 45.90625 40.484375 42.875 44.328125 \nQ 39.84375 48.1875 33.796875 48.1875 \nQ 26.515625 48.1875 22.3125 43.546875 \nQ 18.109375 38.921875 18.109375 30.90625 \nL 18.109375 0 \nL 9.078125 0 \nL 9.078125 54.6875 \nL 18.109375 54.6875 \nL 18.109375 46.1875 \nQ 21.34375 51.125 25.703125 53.5625 \nQ 30.078125 56 35.796875 56 \nQ 45.21875 56 50.046875 50.171875 \nQ 54.890625 44.34375 54.890625 33.015625 \nz\n\" id=\"DejaVuSans-110\"/>\n      <path d=\"M 19.671875 64.796875 \nL 19.671875 8.109375 \nL 31.59375 8.109375 \nQ 46.6875 8.109375 53.6875 14.9375 \nQ 60.6875 21.78125 60.6875 36.53125 \nQ 60.6875 51.171875 53.6875 57.984375 \nQ 46.6875 64.796875 31.59375 64.796875 \nz\nM 9.8125 72.90625 \nL 30.078125 72.90625 \nQ 51.265625 72.90625 61.171875 64.09375 \nQ 71.09375 55.28125 71.09375 36.53125 \nQ 71.09375 17.671875 61.125 8.828125 \nQ 51.171875 0 30.078125 0 \nL 9.8125 0 \nz\n\" id=\"DejaVuSans-68\"/>\n      <path d=\"M 37.109375 75.984375 \nL 37.109375 68.5 \nL 28.515625 68.5 \nQ 23.6875 68.5 21.796875 66.546875 \nQ 19.921875 64.59375 19.921875 59.515625 \nL 19.921875 54.6875 \nL 34.71875 54.6875 \nL 34.71875 47.703125 \nL 19.921875 47.703125 \nL 19.921875 0 \nL 10.890625 0 \nL 10.890625 47.703125 \nL 2.296875 47.703125 \nL 2.296875 54.6875 \nL 10.890625 54.6875 \nL 10.890625 58.5 \nQ 10.890625 67.625 15.140625 71.796875 \nQ 19.390625 75.984375 28.609375 75.984375 \nz\n\" id=\"DejaVuSans-102\"/>\n      <path d=\"M 34.28125 27.484375 \nQ 23.390625 27.484375 19.1875 25 \nQ 14.984375 22.515625 14.984375 16.5 \nQ 14.984375 11.71875 18.140625 8.90625 \nQ 21.296875 6.109375 26.703125 6.109375 \nQ 34.1875 6.109375 38.703125 11.40625 \nQ 43.21875 16.703125 43.21875 25.484375 \nL 43.21875 27.484375 \nz\nM 52.203125 31.203125 \nL 52.203125 0 \nL 43.21875 0 \nL 43.21875 8.296875 \nQ 40.140625 3.328125 35.546875 0.953125 \nQ 30.953125 -1.421875 24.3125 -1.421875 \nQ 15.921875 -1.421875 10.953125 3.296875 \nQ 6 8.015625 6 15.921875 \nQ 6 25.140625 12.171875 29.828125 \nQ 18.359375 34.515625 30.609375 34.515625 \nL 43.21875 34.515625 \nL 43.21875 35.40625 \nQ 43.21875 41.609375 39.140625 45 \nQ 35.0625 48.390625 27.6875 48.390625 \nQ 23 48.390625 18.546875 47.265625 \nQ 14.109375 46.140625 10.015625 43.890625 \nL 10.015625 52.203125 \nQ 14.9375 54.109375 19.578125 55.046875 \nQ 24.21875 56 28.609375 56 \nQ 40.484375 56 46.34375 49.84375 \nQ 52.203125 43.703125 52.203125 31.203125 \nz\n\" id=\"DejaVuSans-97\"/>\n      <path d=\"M 8.5 21.578125 \nL 8.5 54.6875 \nL 17.484375 54.6875 \nL 17.484375 21.921875 \nQ 17.484375 14.15625 20.5 10.265625 \nQ 23.53125 6.390625 29.59375 6.390625 \nQ 36.859375 6.390625 41.078125 11.03125 \nQ 45.3125 15.671875 45.3125 23.6875 \nL 45.3125 54.6875 \nL 54.296875 54.6875 \nL 54.296875 0 \nL 45.3125 0 \nL 45.3125 8.40625 \nQ 42.046875 3.421875 37.71875 1 \nQ 33.40625 -1.421875 27.6875 -1.421875 \nQ 18.265625 -1.421875 13.375 4.4375 \nQ 8.5 10.296875 8.5 21.578125 \nz\nM 31.109375 56 \nz\n\" id=\"DejaVuSans-117\"/>\n      <path d=\"M 9.421875 75.984375 \nL 18.40625 75.984375 \nL 18.40625 0 \nL 9.421875 0 \nz\n\" id=\"DejaVuSans-108\"/>\n      <path d=\"M 8.296875 72.90625 \nL 33.6875 -9.28125 \nL 25.390625 -9.28125 \nL 0 72.90625 \nz\n\" id=\"DejaVuSans-92\"/>\n      <path d=\"M 47.015625 60.890625 \nL 29.5 51.421875 \nL 47.015625 41.890625 \nL 44.1875 37.109375 \nL 27.78125 47.015625 \nL 27.78125 28.609375 \nL 22.21875 28.609375 \nL 22.21875 47.015625 \nL 5.8125 37.109375 \nL 2.984375 41.890625 \nL 20.515625 51.421875 \nL 2.984375 60.890625 \nL 5.8125 65.71875 \nL 22.21875 55.8125 \nL 22.21875 74.21875 \nL 27.78125 74.21875 \nL 27.78125 55.8125 \nL 44.1875 65.71875 \nz\n\" id=\"DejaVuSans-42\"/>\n     </defs>\n     <use xlink:href=\"#DejaVuSans-76\"/>\n     <use x=\"53.962891\" xlink:href=\"#DejaVuSans-111\"/>\n     <use x=\"115.144531\" xlink:href=\"#DejaVuSans-115\"/>\n     <use x=\"167.244141\" xlink:href=\"#DejaVuSans-115\"/>\n     <use x=\"219.34375\" xlink:href=\"#DejaVuSans-32\"/>\n     <use x=\"251.130859\" xlink:href=\"#DejaVuSans-71\"/>\n     <use x=\"328.621094\" xlink:href=\"#DejaVuSans-105\"/>\n     <use x=\"356.404297\" xlink:href=\"#DejaVuSans-118\"/>\n     <use x=\"415.583984\" xlink:href=\"#DejaVuSans-101\"/>\n     <use x=\"477.107422\" xlink:href=\"#DejaVuSans-110\"/>\n     <use x=\"540.486328\" xlink:href=\"#DejaVuSans-32\"/>\n     <use x=\"572.273438\" xlink:href=\"#DejaVuSans-68\"/>\n     <use x=\"649.275391\" xlink:href=\"#DejaVuSans-101\"/>\n     <use x=\"710.798828\" xlink:href=\"#DejaVuSans-102\"/>\n     <use x=\"746.003906\" xlink:href=\"#DejaVuSans-97\"/>\n     <use x=\"807.283203\" xlink:href=\"#DejaVuSans-117\"/>\n     <use x=\"870.662109\" xlink:href=\"#DejaVuSans-108\"/>\n     <use x=\"898.445312\" xlink:href=\"#DejaVuSans-116\"/>\n     <use x=\"937.654297\" xlink:href=\"#DejaVuSans-32\"/>\n     <use x=\"969.441406\" xlink:href=\"#DejaVuSans-92\"/>\n     <use x=\"1003.132812\" xlink:href=\"#DejaVuSans-42\"/>\n     <use x=\"1053.132812\" xlink:href=\"#DejaVuSans-49\"/>\n     <use x=\"1116.755859\" xlink:href=\"#DejaVuSans-48\"/>\n     <use x=\"1180.378906\" xlink:href=\"#DejaVuSans-48\"/>\n     <use x=\"1244.001953\" xlink:href=\"#DejaVuSans-48\"/>\n     <use x=\"1307.625\" xlink:href=\"#DejaVuSans-48\"/>\n     <use x=\"1371.248047\" xlink:href=\"#DejaVuSans-48\"/>\n     <use x=\"1434.871094\" xlink:href=\"#DejaVuSans-36\"/>\n    </g>\n   </g>\n  </g>\n </g>\n <defs>\n  <clipPath id=\"p3dfe3fac5a\">\n   <rect height=\"217.44\" width=\"334.8\" x=\"56.571875\" y=\"28.396875\"/>\n  </clipPath>\n </defs>\n</svg>\n",
      "image/png": "[encoded data removed]"
     },
     "metadata": {
      "needs_background": "light"
     }
    }
   ],
   "source": [
    "# plot results for default probabilities\n",
    "plt.bar(range(K), probability_default)\n",
    "plt.xlabel('Asset', size=15)\n",
    "plt.ylabel('probability (%)', size=15)\n",
    "plt.title('Individual Default Probabilities', size=20)\n",
    "plt.xticks(range(K), size=15)\n",
    "plt.yticks(size=15)\n",
    "plt.grid()\n",
    "plt.show()\n",
    "\n",
    "# plot Loss Given Defaults\n",
    "plt.bar(range(K), loss_given_default)\n",
    "plt.xlabel('Asset', size=15)\n",
    "plt.ylabel('Loss ($)', size=15)\n",
    "plt.title('Loss Given Default \\*'+str(lgd_factor) +'$', size=20)\n",
    "plt.xticks(range(K), size=15)\n",
    "plt.yticks(size=15)\n",
    "plt.grid()\n",
    "plt.show()"
   ]
  },
  {
   "source": [
    "# Part 1 - Build the model and test classically\n",
    "_Start slow and easy_"
   ],
   "cell_type": "markdown",
   "metadata": {}
  },
  {
   "source": [
    "### Uncertainty Model\n",
    "\n",
    "We now construct a circuit that loads the uncertainty model. This can be achieved by creating a quantum state in a register of $n_z$ qubits that represents $Z$ following a standard normal distribution. This state is then used to control single qubit Y-rotations on a second qubit register of $K$ qubits, where a $|1\\rangle$ state of qubit $k$ represents the default event of asset $k$. The resulting quantum state can be written as\n",
    "\n",
    "$$ |\\Psi\\rangle = \\sum_{i=0}^{2^{n_z}-1} \\sqrt{p_z^i} |z_i \\rangle \\bigotimes_{k=1}^K \\left( \\sqrt{1 - p_k(z_i)}|0\\rangle + \\sqrt{p_k(z_i)}|1\\rangle\\right),$$\n",
    "\n",
    "Where we denote by $z_i$ the $i$-th value of the discretized and truncated $Z$ [Egger2019]."
   ],
   "cell_type": "markdown",
   "metadata": {}
  },
  {
   "cell_type": "code",
   "execution_count": 1024,
   "metadata": {},
   "outputs": [],
   "source": [
    "uncertainty_model = GCI(n_z, z_max, probability_default, sensitivity_z) "
   ]
  },
  {
   "cell_type": "code",
   "execution_count": 1025,
   "metadata": {},
   "outputs": [
    {
     "output_type": "display_data",
     "data": {
      "application/vnd.plotly.v1+json": {
       "config": {
        "displayModeBar": false,
        "editable": false,
        "plotlyServerURL": "https://plot.ly"
       },
       "data": [
        {
         "hoverinfo": "text",
         "hovertext": [
          "<b>00000000</b><br>P = 0.002",
          "<b>00000001</b><br>P = 0.003",
          "<b>00000010</b><br>P = 0.003",
          "<b>00000011</b><br>P = 0.005",
          "<b>00000100</b><br>P = 0.006",
          "<b>00000101</b><br>P = 0.007",
          "<b>00000110</b><br>P = 0.009",
          "<b>00000111</b><br>P = 0.011",
          "<b>00001000</b><br>P = 0.013",
          "<b>00001001</b><br>P = 0.015",
          "<b>00001010</b><br>P = 0.018",
          "<b>00001011</b><br>P = 0.02",
          "<b>00001100</b><br>P = 0.022",
          "<b>00001101</b><br>P = 0.024",
          "<b>00001110</b><br>P = 0.026",
          "<b>00001111</b><br>P = 0.028",
          "<b>00010000</b><br>P = 0.029",
          "<b>00010001</b><br>P = 0.029",
          "<b>00010010</b><br>P = 0.029",
          "<b>00010011</b><br>P = 0.029",
          "<b>00010100</b><br>P = 0.028",
          "<b>00010101</b><br>P = 0.026",
          "<b>00010110</b><br>P = 0.024",
          "<b>00010111</b><br>P = 0.022",
          "<b>00011000</b><br>P = 0.02",
          "<b>00011001</b><br>P = 0.018",
          "<b>00011010</b><br>P = 0.015",
          "<b>00011011</b><br>P = 0.013",
          "<b>00011100</b><br>P = 0.011",
          "<b>00011101</b><br>P = 0.009",
          "<b>00011110</b><br>P = 0.007",
          "<b>00011111</b><br>P = 0.006",
          "<b>00100000</b><br>P = 0.001",
          "<b>00100001</b><br>P = 0.001",
          "<b>00100010</b><br>P = 0.001",
          "<b>00100011</b><br>P = 0.002",
          "<b>00100100</b><br>P = 0.002",
          "<b>00100101</b><br>P = 0.002",
          "<b>00100110</b><br>P = 0.003",
          "<b>00100111</b><br>P = 0.003",
          "<b>00101000</b><br>P = 0.004",
          "<b>00101001</b><br>P = 0.004",
          "<b>00101010</b><br>P = 0.004",
          "<b>00101011</b><br>P = 0.004",
          "<b>00101100</b><br>P = 0.005",
          "<b>00101101</b><br>P = 0.005",
          "<b>00101110</b><br>P = 0.005",
          "<b>00101111</b><br>P = 0.005",
          "<b>00110000</b><br>P = 0.004",
          "<b>00110001</b><br>P = 0.004",
          "<b>00110010</b><br>P = 0.004",
          "<b>00110011</b><br>P = 0.003",
          "<b>00110100</b><br>P = 0.003",
          "<b>00110101</b><br>P = 0.003",
          "<b>00110110</b><br>P = 0.002",
          "<b>00110111</b><br>P = 0.002",
          "<b>00111000</b><br>P = 0.001",
          "<b>00111001</b><br>P = 0.001",
          "<b>00111010</b><br>P = 0.001",
          "<b>00111011</b><br>P = 0.001",
          "<b>00111100</b><br>P = 0.0",
          "<b>00111101</b><br>P = 0.0",
          "<b>00111110</b><br>P = 0.0",
          "<b>00111111</b><br>P = 0.0",
          "<b>01000000</b><br>P = 0.001",
          "<b>01000001</b><br>P = 0.002",
          "<b>01000010</b><br>P = 0.002",
          "<b>01000011</b><br>P = 0.003",
          "<b>01000100</b><br>P = 0.003",
          "<b>01000101</b><br>P = 0.004",
          "<b>01000110</b><br>P = 0.005",
          "<b>01000111</b><br>P = 0.005",
          "<b>01001000</b><br>P = 0.006",
          "<b>01001001</b><br>P = 0.007",
          "<b>01001010</b><br>P = 0.008",
          "<b>01001011</b><br>P = 0.008",
          "<b>01001100</b><br>P = 0.009",
          "<b>01001101</b><br>P = 0.009",
          "<b>01001110</b><br>P = 0.009",
          "<b>01001111</b><br>P = 0.009",
          "<b>01010000</b><br>P = 0.009",
          "<b>01010001</b><br>P = 0.009",
          "<b>01010010</b><br>P = 0.008",
          "<b>01010011</b><br>P = 0.008",
          "<b>01010100</b><br>P = 0.007",
          "<b>01010101</b><br>P = 0.006",
          "<b>01010110</b><br>P = 0.006",
          "<b>01010111</b><br>P = 0.005",
          "<b>01011000</b><br>P = 0.004",
          "<b>01011001</b><br>P = 0.003",
          "<b>01011010</b><br>P = 0.003",
          "<b>01011011</b><br>P = 0.002",
          "<b>01011100</b><br>P = 0.002",
          "<b>01011101</b><br>P = 0.001",
          "<b>01011110</b><br>P = 0.001",
          "<b>01011111</b><br>P = 0.001",
          "<b>01100000</b><br>P = 0.001",
          "<b>01100001</b><br>P = 0.001",
          "<b>01100010</b><br>P = 0.001",
          "<b>01100011</b><br>P = 0.001",
          "<b>01100100</b><br>P = 0.001",
          "<b>01100101</b><br>P = 0.001",
          "<b>01100110</b><br>P = 0.001",
          "<b>01100111</b><br>P = 0.002",
          "<b>01101000</b><br>P = 0.002",
          "<b>01101001</b><br>P = 0.002",
          "<b>01101010</b><br>P = 0.002",
          "<b>01101011</b><br>P = 0.002",
          "<b>01101100</b><br>P = 0.002",
          "<b>01101101</b><br>P = 0.002",
          "<b>01101110</b><br>P = 0.002",
          "<b>01101111</b><br>P = 0.002",
          "<b>01110000</b><br>P = 0.001",
          "<b>01110001</b><br>P = 0.001",
          "<b>01110010</b><br>P = 0.001",
          "<b>01110011</b><br>P = 0.001",
          "<b>01110100</b><br>P = 0.001",
          "<b>01110101</b><br>P = 0.001",
          "<b>01110110</b><br>P = 0.001",
          "<b>01110111</b><br>P = 0.0",
          "<b>01111000</b><br>P = 0.0",
          "<b>01111001</b><br>P = 0.0",
          "<b>01111010</b><br>P = 0.0",
          "<b>01111011</b><br>P = 0.0",
          "<b>01111100</b><br>P = 0.0",
          "<b>01111101</b><br>P = 0.0",
          "<b>01111110</b><br>P = 0.0",
          "<b>01111111</b><br>P = 0.0",
          "<b>10000000</b><br>P = 0.001",
          "<b>10000001</b><br>P = 0.001",
          "<b>10000010</b><br>P = 0.002",
          "<b>10000011</b><br>P = 0.002",
          "<b>10000100</b><br>P = 0.003",
          "<b>10000101</b><br>P = 0.003",
          "<b>10000110</b><br>P = 0.004",
          "<b>10000111</b><br>P = 0.004",
          "<b>10001000</b><br>P = 0.005",
          "<b>10001001</b><br>P = 0.005",
          "<b>10001010</b><br>P = 0.006",
          "<b>10001011</b><br>P = 0.006",
          "<b>10001100</b><br>P = 0.007",
          "<b>10001101</b><br>P = 0.007",
          "<b>10001110</b><br>P = 0.007",
          "<b>10001111</b><br>P = 0.007",
          "<b>10010000</b><br>P = 0.007",
          "<b>10010001</b><br>P = 0.006",
          "<b>10010010</b><br>P = 0.006",
          "<b>10010011</b><br>P = 0.005",
          "<b>10010100</b><br>P = 0.005",
          "<b>10010101</b><br>P = 0.004",
          "<b>10010110</b><br>P = 0.004",
          "<b>10010111</b><br>P = 0.003",
          "<b>10011000</b><br>P = 0.003",
          "<b>10011001</b><br>P = 0.002",
          "<b>10011010</b><br>P = 0.002",
          "<b>10011011</b><br>P = 0.001",
          "<b>10011100</b><br>P = 0.001",
          "<b>10011101</b><br>P = 0.001",
          "<b>10011110</b><br>P = 0.001",
          "<b>10011111</b><br>P = 0.0",
          "<b>10100000</b><br>P = 0.0",
          "<b>10100001</b><br>P = 0.001",
          "<b>10100010</b><br>P = 0.001",
          "<b>10100011</b><br>P = 0.001",
          "<b>10100100</b><br>P = 0.001",
          "<b>10100101</b><br>P = 0.001",
          "<b>10100110</b><br>P = 0.001",
          "<b>10100111</b><br>P = 0.001",
          "<b>10101000</b><br>P = 0.001",
          "<b>10101001</b><br>P = 0.001",
          "<b>10101010</b><br>P = 0.001",
          "<b>10101011</b><br>P = 0.001",
          "<b>10101100</b><br>P = 0.001",
          "<b>10101101</b><br>P = 0.001",
          "<b>10101110</b><br>P = 0.001",
          "<b>10101111</b><br>P = 0.001",
          "<b>10110000</b><br>P = 0.001",
          "<b>10110001</b><br>P = 0.001",
          "<b>10110010</b><br>P = 0.001",
          "<b>10110011</b><br>P = 0.001",
          "<b>10110100</b><br>P = 0.001",
          "<b>10110101</b><br>P = 0.0",
          "<b>10110110</b><br>P = 0.0",
          "<b>10110111</b><br>P = 0.0",
          "<b>10111000</b><br>P = 0.0",
          "<b>10111001</b><br>P = 0.0",
          "<b>10111010</b><br>P = 0.0",
          "<b>10111011</b><br>P = 0.0",
          "<b>10111100</b><br>P = 0.0",
          "<b>10111101</b><br>P = 0.0",
          "<b>10111110</b><br>P = 0.0",
          "<b>10111111</b><br>P = 0.0",
          "<b>11000000</b><br>P = 0.001",
          "<b>11000001</b><br>P = 0.001",
          "<b>11000010</b><br>P = 0.001",
          "<b>11000011</b><br>P = 0.001",
          "<b>11000100</b><br>P = 0.001",
          "<b>11000101</b><br>P = 0.002",
          "<b>11000110</b><br>P = 0.002",
          "<b>11000111</b><br>P = 0.002",
          "<b>11001000</b><br>P = 0.002",
          "<b>11001001</b><br>P = 0.002",
          "<b>11001010</b><br>P = 0.002",
          "<b>11001011</b><br>P = 0.003",
          "<b>11001100</b><br>P = 0.003",
          "<b>11001101</b><br>P = 0.002",
          "<b>11001110</b><br>P = 0.002",
          "<b>11001111</b><br>P = 0.002",
          "<b>11010000</b><br>P = 0.002",
          "<b>11010001</b><br>P = 0.002",
          "<b>11010010</b><br>P = 0.002",
          "<b>11010011</b><br>P = 0.001",
          "<b>11010100</b><br>P = 0.001",
          "<b>11010101</b><br>P = 0.001",
          "<b>11010110</b><br>P = 0.001",
          "<b>11010111</b><br>P = 0.001",
          "<b>11011000</b><br>P = 0.001",
          "<b>11011001</b><br>P = 0.0",
          "<b>11011010</b><br>P = 0.0",
          "<b>11011011</b><br>P = 0.0",
          "<b>11011100</b><br>P = 0.0",
          "<b>11011101</b><br>P = 0.0",
          "<b>11011110</b><br>P = 0.0",
          "<b>11011111</b><br>P = 0.0",
          "<b>11100000</b><br>P = 0.0",
          "<b>11100001</b><br>P = 0.0",
          "<b>11100010</b><br>P = 0.0",
          "<b>11100011</b><br>P = 0.0",
          "<b>11100100</b><br>P = 0.001",
          "<b>11100101</b><br>P = 0.001",
          "<b>11100110</b><br>P = 0.001",
          "<b>11100111</b><br>P = 0.001",
          "<b>11101000</b><br>P = 0.001",
          "<b>11101001</b><br>P = 0.001",
          "<b>11101010</b><br>P = 0.001",
          "<b>11101011</b><br>P = 0.001",
          "<b>11101100</b><br>P = 0.001",
          "<b>11101101</b><br>P = 0.0",
          "<b>11101110</b><br>P = 0.0",
          "<b>11101111</b><br>P = 0.0",
          "<b>11110000</b><br>P = 0.0",
          "<b>11110001</b><br>P = 0.0",
          "<b>11110010</b><br>P = 0.0",
          "<b>11110011</b><br>P = 0.0",
          "<b>11110100</b><br>P = 0.0",
          "<b>11110101</b><br>P = 0.0",
          "<b>11110110</b><br>P = 0.0",
          "<b>11110111</b><br>P = 0.0",
          "<b>11111000</b><br>P = 0.0",
          "<b>11111001</b><br>P = 0.0",
          "<b>11111010</b><br>P = 0.0",
          "<b>11111011</b><br>P = 0.0",
          "<b>11111100</b><br>P = 0.0",
          "<b>11111101</b><br>P = 0.0",
          "<b>11111110</b><br>P = 0.0",
          "<b>11111111</b><br>P = 0.0"
         ],
         "marker": {
          "color": "#1b9e77"
         },
         "name": "",
         "text": [
          0.002,
          0.003,
          0.003,
          0.005,
          0.006,
          0.007,
          0.009,
          0.011,
          0.013,
          0.015,
          0.018,
          0.02,
          0.022,
          0.024,
          0.026,
          0.028,
          0.029,
          0.029,
          0.029,
          0.029,
          0.028,
          0.026,
          0.024,
          0.022,
          0.02,
          0.018,
          0.015,
          0.013,
          0.011,
          0.009,
          0.007,
          0.006,
          0.001,
          0.001,
          0.001,
          0.002,
          0.002,
          0.002,
          0.003,
          0.003,
          0.004,
          0.004,
          0.004,
          0.004,
          0.005,
          0.005,
          0.005,
          0.005,
          0.004,
          0.004,
          0.004,
          0.003,
          0.003,
          0.003,
          0.002,
          0.002,
          0.001,
          0.001,
          0.001,
          0.001,
          0,
          0,
          0,
          0,
          0.001,
          0.002,
          0.002,
          0.003,
          0.003,
          0.004,
          0.005,
          0.005,
          0.006,
          0.007,
          0.008,
          0.008,
          0.009,
          0.009,
          0.009,
          0.009,
          0.009,
          0.009,
          0.008,
          0.008,
          0.007,
          0.006,
          0.006,
          0.005,
          0.004,
          0.003,
          0.003,
          0.002,
          0.002,
          0.001,
          0.001,
          0.001,
          0.001,
          0.001,
          0.001,
          0.001,
          0.001,
          0.001,
          0.001,
          0.002,
          0.002,
          0.002,
          0.002,
          0.002,
          0.002,
          0.002,
          0.002,
          0.002,
          0.001,
          0.001,
          0.001,
          0.001,
          0.001,
          0.001,
          0.001,
          0,
          0,
          0,
          0,
          0,
          0,
          0,
          0,
          0,
          0.001,
          0.001,
          0.002,
          0.002,
          0.003,
          0.003,
          0.004,
          0.004,
          0.005,
          0.005,
          0.006,
          0.006,
          0.007,
          0.007,
          0.007,
          0.007,
          0.007,
          0.006,
          0.006,
          0.005,
          0.005,
          0.004,
          0.004,
          0.003,
          0.003,
          0.002,
          0.002,
          0.001,
          0.001,
          0.001,
          0.001,
          0,
          0,
          0.001,
          0.001,
          0.001,
          0.001,
          0.001,
          0.001,
          0.001,
          0.001,
          0.001,
          0.001,
          0.001,
          0.001,
          0.001,
          0.001,
          0.001,
          0.001,
          0.001,
          0.001,
          0.001,
          0.001,
          0,
          0,
          0,
          0,
          0,
          0,
          0,
          0,
          0,
          0,
          0,
          0.001,
          0.001,
          0.001,
          0.001,
          0.001,
          0.002,
          0.002,
          0.002,
          0.002,
          0.002,
          0.002,
          0.003,
          0.003,
          0.002,
          0.002,
          0.002,
          0.002,
          0.002,
          0.002,
          0.001,
          0.001,
          0.001,
          0.001,
          0.001,
          0.001,
          0,
          0,
          0,
          0,
          0,
          0,
          0,
          0,
          0,
          0,
          0,
          0.001,
          0.001,
          0.001,
          0.001,
          0.001,
          0.001,
          0.001,
          0.001,
          0.001,
          0,
          0,
          0,
          0,
          0,
          0,
          0,
          0,
          0,
          0,
          0,
          0,
          0,
          0,
          0,
          0,
          0,
          0,
          0
         ],
         "textposition": "auto",
         "type": "bar",
         "width": 0.5,
         "x": [
          0,
          1,
          2,
          3,
          4,
          5,
          6,
          7,
          8,
          9,
          10,
          11,
          12,
          13,
          14,
          15,
          16,
          17,
          18,
          19,
          20,
          21,
          22,
          23,
          24,
          25,
          26,
          27,
          28,
          29,
          30,
          31,
          32,
          33,
          34,
          35,
          36,
          37,
          38,
          39,
          40,
          41,
          42,
          43,
          44,
          45,
          46,
          47,
          48,
          49,
          50,
          51,
          52,
          53,
          54,
          55,
          56,
          57,
          58,
          59,
          60,
          61,
          62,
          63,
          64,
          65,
          66,
          67,
          68,
          69,
          70,
          71,
          72,
          73,
          74,
          75,
          76,
          77,
          78,
          79,
          80,
          81,
          82,
          83,
          84,
          85,
          86,
          87,
          88,
          89,
          90,
          91,
          92,
          93,
          94,
          95,
          96,
          97,
          98,
          99,
          100,
          101,
          102,
          103,
          104,
          105,
          106,
          107,
          108,
          109,
          110,
          111,
          112,
          113,
          114,
          115,
          116,
          117,
          118,
          119,
          120,
          121,
          122,
          123,
          124,
          125,
          126,
          127,
          128,
          129,
          130,
          131,
          132,
          133,
          134,
          135,
          136,
          137,
          138,
          139,
          140,
          141,
          142,
          143,
          144,
          145,
          146,
          147,
          148,
          149,
          150,
          151,
          152,
          153,
          154,
          155,
          156,
          157,
          158,
          159,
          160,
          161,
          162,
          163,
          164,
          165,
          166,
          167,
          168,
          169,
          170,
          171,
          172,
          173,
          174,
          175,
          176,
          177,
          178,
          179,
          180,
          181,
          182,
          183,
          184,
          185,
          186,
          187,
          188,
          189,
          190,
          191,
          192,
          193,
          194,
          195,
          196,
          197,
          198,
          199,
          200,
          201,
          202,
          203,
          204,
          205,
          206,
          207,
          208,
          209,
          210,
          211,
          212,
          213,
          214,
          215,
          216,
          217,
          218,
          219,
          220,
          221,
          222,
          223,
          224,
          225,
          226,
          227,
          228,
          229,
          230,
          231,
          232,
          233,
          234,
          235,
          236,
          237,
          238,
          239,
          240,
          241,
          242,
          243,
          244,
          245,
          246,
          247,
          248,
          249,
          250,
          251,
          252,
          253,
          254,
          255
         ],
         "y": [
          0.0019171371507080042,
          0.0025970651088830054,
          0.0034552672483800072,
          0.00451502353239401,
          0.0057946596181090125,
          0.0073045744838940154,
          0.00904419937655002,
          0.010999230261217022,
          0.013139528922147028,
          0.015418092677652033,
          0.017771436914524038,
          0.02012161464392104,
          0.022379920778585048,
          0.024452115634240053,
          0.026244782185042056,
          0.02767224038385906,
          0.02866331414465306,
          0.02916720933439706,
          0.029157827425396063,
          0.02863600490236106,
          0.02762941101223206,
          0.026190119750264057,
          0.02439015228715605,
          0.02231552021473405,
          0.020059453601239043,
          0.01771555133046304,
          0.015371542743751033,
          0.013104214387201028,
          0.010975861777228023,
          0.00903240829326602,
          0.007303126113493015,
          0.005801725781275012,
          0.0008681820804160019,
          0.0011080393498090024,
          0.001387889521601003,
          0.0017060526371620037,
          0.002058013213978004,
          0.0024361286649320054,
          0.002829595015226006,
          0.003224729652830007,
          0.003605598159554008,
          0.003954968826154009,
          0.004255530031487009,
          0.00449126003880201,
          0.00464880437337101,
          0.004718700199855009,
          0.00469629468769701,
          0.0045822359083520095,
          0.00438246652950301,
          0.004107714632787009,
          0.0037725419585140077,
          0.0033940667881250074,
          0.0029905171750290063,
          0.0025797844941970057,
          0.0021781360486280046,
          0.001799212134277004,
          0.001453384620305003,
          0.0011474998974120023,
          0.0008849782343060018,
          0.0006662017317500014,
          0.0004890988349300011,
          0.00034982603279700076,
          0.0002434551129200005,
          0.00016459309516700035,
          0.0012784996141210025,
          0.0016569678633000034,
          0.002108639350065004,
          0.0026349090151750057,
          0.003232984945118007,
          0.003895071289793008,
          0.0046078571274090095,
          0.005352441299579011,
          0.006104791259864013,
          0.006836780179461014,
          0.0075177760674250155,
          0.008116678760533017,
          0.008604227502674018,
          0.00895534647867002,
          0.00915126937162902,
          0.009181193830291019,
          0.009043263677238018,
          0.00874475508849202,
          0.008301441232585017,
          0.007736212517933017,
          0.007077120293894015,
          0.006355076468795013,
          0.005601470852905012,
          0.00484595940843401,
          0.0041146339646860085,
          0.003428716777424007,
          0.002803844275329006,
          0.0022499267318410046,
          0.0017715058130840036,
          0.0013684876554930028,
          0.0010371084525890022,
          0.0007709912514670016,
          0.0005789728994550012,
          0.0007069463093650016,
          0.0008469846898710017,
          0.0009956301316640021,
          0.0011482168369050024,
          0.001299034576476003,
          0.001441627834123003,
          0.0015692167327970032,
          0.0016752064903890035,
          0.0017537352412100038,
          0.0018001989360120038,
          0.001811689350486004,
          0.0017872882947010038,
          0.0017281774653270037,
          0.0016375467486320035,
          0.0015203104435030032,
          0.001382666365200003,
          0.0012315528038800026,
          0.0010740695768980022,
          0.000916930349136002,
          0.0007660043777000016,
          0.0006259890328860013,
          0.0005002332681820011,
          0.0003907105407340008,
          0.0002981210675690007,
          0.00022209030229700046,
          0.00016142434090100035,
          0.00011438343732600025,
          0.00007894062870300017,
          0.00005300165713400011,
          0.00003457277767200007,
          0.000021872773931000046,
          0.0010757795985230022,
          0.0013844252152900027,
          0.0017490787069690038,
          0.002169385599791005,
          0.0026414627117450056,
          0.0031573604626290064,
          0.0037048121631870078,
          0.004267363780460009,
          0.00482494436430701,
          0.005354887868957011,
          0.005833357156519012,
          0.006237059213619013,
          0.006545087456536014,
          0.006740692649549014,
          0.0068127762712540145,
          0.006756922767618014,
          0.006575838322205014,
          0.006279136481606013,
          0.005882493907582012,
          0.0054062792920980115,
          0.0048738221843070105,
          0.004309526291628008,
          0.003737038766432008,
          0.0031776637641070067,
          0.0026491610511680057,
          0.0021650082565430047,
          0.0017341396688110038,
          0.0013611157777500028,
          0.0010466339855660022,
          0.0007882663579500016,
          0.0005813053488850012,
          0.00041961021039900085,
          0.000487170450778001,
          0.0005906658289630012,
          0.0007025586837010016,
          0.0008197268512540018,
          0.000938133647749002,
          0.0010530026554580023,
          0.0011590985108620023,
          0.0012510961399530027,
          0.0013240056491350028,
          0.0013736079443840029,
          0.001396849713580003,
          0.001392147464380003,
          0.0013595593788320029,
          0.0013007998256010028,
          0.0012190920383940026,
          0.0011188763073120024,
          0.0010054103026970022,
          0.0008843115743800018,
          0.0007610976895940017,
          0.0006407762903800013,
          0.000527526589103001,
          0.00042449783393500094,
          0.0003337321865170007,
          0.00025620246124800054,
          0.00019194191452200042,
          0.0001402353619110003,
          0.00009983876620100022,
          0.00006919740943300015,
          0.000046639386804000104,
          0.000030529631061000065,
          0.000019378243940000042,
          0.000011904206765000026,
          0.0007174154447330015,
          0.0008832847829010019,
          0.001067406924777002,
          0.0012660252229620026,
          0.001473737845356003,
          0.0016836222447490035,
          0.001887535250065004,
          0.0020765829604820043,
          0.0022417301532710048,
          0.0023744954717250053,
          0.002467660495600005,
          0.002515911716988005,
          0.0025163369458760052,
          0.002468712281828005,
          0.0023755407984460053,
          0.002241835744604005,
          0.0020746742524770045,
          0.001882576768635004,
          0.0016747879312950034,
          0.0014605433152280031,
          0.0012484025039160027,
          0.0010457137801860022,
          0.0008582526865720018,
          0.0006900502191450014,
          0.0005434010445020011,
          0.00041902168292700086,
          0.00031631552304600067,
          0.0002336966324730005,
          0.00016892688949900035,
          0.00011942914282300026,
          0.00008255049707400018,
          0.00005576199452400012,
          0.0003248840246510007,
          0.0003768539699660008,
          0.0004287491472270009,
          0.000478381929762001,
          0.0005234081308590011,
          0.0005615002517110012,
          0.0005905398711680012,
          0.0006088079338460013,
          0.0006151497639480013,
          0.0006090932104800013,
          0.0005909034478780012,
          0.0005615659555970011,
          0.0005226988207240011,
          0.00047640512223600106,
          0.0004250841006600009,
          0.0003712247402830008,
          0.00031720653184800064,
          0.0002651295175760005,
          0.00021668993544100046,
          0.00017311009603900035,
          0.0001351230081470003,
          0.00010300511113400022,
          0.00007664532363100017,
          0.00005563601993600012,
          0.00003937149717200008,
          0.00002714153961100006,
          0.000018211077296000037,
          0.000011880842045000026,
          0.000007527604348000016,
          0.00000462550206700001,
          0.000002751881903000006,
          0.0000015819498570000033
         ]
        }
       ],
       "layout": {
        "font": {
         "color": "black"
        },
        "margin": {
         "b": 10,
         "l": 50,
         "r": 10,
         "t": 40
        },
        "paper_bgcolor": "white",
        "showlegend": false,
        "template": {
         "data": {
          "bar": [
           {
            "error_x": {
             "color": "#2a3f5f"
            },
            "error_y": {
             "color": "#2a3f5f"
            },
            "marker": {
             "line": {
              "color": "#E5ECF6",
              "width": 0.5
             }
            },
            "type": "bar"
           }
          ],
          "barpolar": [
           {
            "marker": {
             "line": {
              "color": "#E5ECF6",
              "width": 0.5
             }
            },
            "type": "barpolar"
           }
          ],
          "carpet": [
           {
            "aaxis": {
             "endlinecolor": "#2a3f5f",
             "gridcolor": "white",
             "linecolor": "white",
             "minorgridcolor": "white",
             "startlinecolor": "#2a3f5f"
            },
            "baxis": {
             "endlinecolor": "#2a3f5f",
             "gridcolor": "white",
             "linecolor": "white",
             "minorgridcolor": "white",
             "startlinecolor": "#2a3f5f"
            },
            "type": "carpet"
           }
          ],
          "choropleth": [
           {
            "colorbar": {
             "outlinewidth": 0,
             "ticks": ""
            },
            "type": "choropleth"
           }
          ],
          "contour": [
           {
            "colorbar": {
             "outlinewidth": 0,
             "ticks": ""
            },
            "colorscale": [
             [
              0,
              "#0d0887"
             ],
             [
              0.1111111111111111,
              "#46039f"
             ],
             [
              0.2222222222222222,
              "#7201a8"
             ],
             [
              0.3333333333333333,
              "#9c179e"
             ],
             [
              0.4444444444444444,
              "#bd3786"
             ],
             [
              0.5555555555555556,
              "#d8576b"
             ],
             [
              0.6666666666666666,
              "#ed7953"
             ],
             [
              0.7777777777777778,
              "#fb9f3a"
             ],
             [
              0.8888888888888888,
              "#fdca26"
             ],
             [
              1,
              "#f0f921"
             ]
            ],
            "type": "contour"
           }
          ],
          "contourcarpet": [
           {
            "colorbar": {
             "outlinewidth": 0,
             "ticks": ""
            },
            "type": "contourcarpet"
           }
          ],
          "heatmap": [
           {
            "colorbar": {
             "outlinewidth": 0,
             "ticks": ""
            },
            "colorscale": [
             [
              0,
              "#0d0887"
             ],
             [
              0.1111111111111111,
              "#46039f"
             ],
             [
              0.2222222222222222,
              "#7201a8"
             ],
             [
              0.3333333333333333,
              "#9c179e"
             ],
             [
              0.4444444444444444,
              "#bd3786"
             ],
             [
              0.5555555555555556,
              "#d8576b"
             ],
             [
              0.6666666666666666,
              "#ed7953"
             ],
             [
              0.7777777777777778,
              "#fb9f3a"
             ],
             [
              0.8888888888888888,
              "#fdca26"
             ],
             [
              1,
              "#f0f921"
             ]
            ],
            "type": "heatmap"
           }
          ],
          "heatmapgl": [
           {
            "colorbar": {
             "outlinewidth": 0,
             "ticks": ""
            },
            "colorscale": [
             [
              0,
              "#0d0887"
             ],
             [
              0.1111111111111111,
              "#46039f"
             ],
             [
              0.2222222222222222,
              "#7201a8"
             ],
             [
              0.3333333333333333,
              "#9c179e"
             ],
             [
              0.4444444444444444,
              "#bd3786"
             ],
             [
              0.5555555555555556,
              "#d8576b"
             ],
             [
              0.6666666666666666,
              "#ed7953"
             ],
             [
              0.7777777777777778,
              "#fb9f3a"
             ],
             [
              0.8888888888888888,
              "#fdca26"
             ],
             [
              1,
              "#f0f921"
             ]
            ],
            "type": "heatmapgl"
           }
          ],
          "histogram": [
           {
            "marker": {
             "colorbar": {
              "outlinewidth": 0,
              "ticks": ""
             }
            },
            "type": "histogram"
           }
          ],
          "histogram2d": [
           {
            "colorbar": {
             "outlinewidth": 0,
             "ticks": ""
            },
            "colorscale": [
             [
              0,
              "#0d0887"
             ],
             [
              0.1111111111111111,
              "#46039f"
             ],
             [
              0.2222222222222222,
              "#7201a8"
             ],
             [
              0.3333333333333333,
              "#9c179e"
             ],
             [
              0.4444444444444444,
              "#bd3786"
             ],
             [
              0.5555555555555556,
              "#d8576b"
             ],
             [
              0.6666666666666666,
              "#ed7953"
             ],
             [
              0.7777777777777778,
              "#fb9f3a"
             ],
             [
              0.8888888888888888,
              "#fdca26"
             ],
             [
              1,
              "#f0f921"
             ]
            ],
            "type": "histogram2d"
           }
          ],
          "histogram2dcontour": [
           {
            "colorbar": {
             "outlinewidth": 0,
             "ticks": ""
            },
            "colorscale": [
             [
              0,
              "#0d0887"
             ],
             [
              0.1111111111111111,
              "#46039f"
             ],
             [
              0.2222222222222222,
              "#7201a8"
             ],
             [
              0.3333333333333333,
              "#9c179e"
             ],
             [
              0.4444444444444444,
              "#bd3786"
             ],
             [
              0.5555555555555556,
              "#d8576b"
             ],
             [
              0.6666666666666666,
              "#ed7953"
             ],
             [
              0.7777777777777778,
              "#fb9f3a"
             ],
             [
              0.8888888888888888,
              "#fdca26"
             ],
             [
              1,
              "#f0f921"
             ]
            ],
            "type": "histogram2dcontour"
           }
          ],
          "mesh3d": [
           {
            "colorbar": {
             "outlinewidth": 0,
             "ticks": ""
            },
            "type": "mesh3d"
           }
          ],
          "parcoords": [
           {
            "line": {
             "colorbar": {
              "outlinewidth": 0,
              "ticks": ""
             }
            },
            "type": "parcoords"
           }
          ],
          "pie": [
           {
            "automargin": true,
            "type": "pie"
           }
          ],
          "scatter": [
           {
            "marker": {
             "colorbar": {
              "outlinewidth": 0,
              "ticks": ""
             }
            },
            "type": "scatter"
           }
          ],
          "scatter3d": [
           {
            "line": {
             "colorbar": {
              "outlinewidth": 0,
              "ticks": ""
             }
            },
            "marker": {
             "colorbar": {
              "outlinewidth": 0,
              "ticks": ""
             }
            },
            "type": "scatter3d"
           }
          ],
          "scattercarpet": [
           {
            "marker": {
             "colorbar": {
              "outlinewidth": 0,
              "ticks": ""
             }
            },
            "type": "scattercarpet"
           }
          ],
          "scattergeo": [
           {
            "marker": {
             "colorbar": {
              "outlinewidth": 0,
              "ticks": ""
             }
            },
            "type": "scattergeo"
           }
          ],
          "scattergl": [
           {
            "marker": {
             "colorbar": {
              "outlinewidth": 0,
              "ticks": ""
             }
            },
            "type": "scattergl"
           }
          ],
          "scattermapbox": [
           {
            "marker": {
             "colorbar": {
              "outlinewidth": 0,
              "ticks": ""
             }
            },
            "type": "scattermapbox"
           }
          ],
          "scatterpolar": [
           {
            "marker": {
             "colorbar": {
              "outlinewidth": 0,
              "ticks": ""
             }
            },
            "type": "scatterpolar"
           }
          ],
          "scatterpolargl": [
           {
            "marker": {
             "colorbar": {
              "outlinewidth": 0,
              "ticks": ""
             }
            },
            "type": "scatterpolargl"
           }
          ],
          "scatterternary": [
           {
            "marker": {
             "colorbar": {
              "outlinewidth": 0,
              "ticks": ""
             }
            },
            "type": "scatterternary"
           }
          ],
          "surface": [
           {
            "colorbar": {
             "outlinewidth": 0,
             "ticks": ""
            },
            "colorscale": [
             [
              0,
              "#0d0887"
             ],
             [
              0.1111111111111111,
              "#46039f"
             ],
             [
              0.2222222222222222,
              "#7201a8"
             ],
             [
              0.3333333333333333,
              "#9c179e"
             ],
             [
              0.4444444444444444,
              "#bd3786"
             ],
             [
              0.5555555555555556,
              "#d8576b"
             ],
             [
              0.6666666666666666,
              "#ed7953"
             ],
             [
              0.7777777777777778,
              "#fb9f3a"
             ],
             [
              0.8888888888888888,
              "#fdca26"
             ],
             [
              1,
              "#f0f921"
             ]
            ],
            "type": "surface"
           }
          ],
          "table": [
           {
            "cells": {
             "fill": {
              "color": "#EBF0F8"
             },
             "line": {
              "color": "white"
             }
            },
            "header": {
             "fill": {
              "color": "#C8D4E3"
             },
             "line": {
              "color": "white"
             }
            },
            "type": "table"
           }
          ]
         },
         "layout": {
          "annotationdefaults": {
           "arrowcolor": "#2a3f5f",
           "arrowhead": 0,
           "arrowwidth": 1
          },
          "coloraxis": {
           "colorbar": {
            "outlinewidth": 0,
            "ticks": ""
           }
          },
          "colorscale": {
           "diverging": [
            [
             0,
             "#8e0152"
            ],
            [
             0.1,
             "#c51b7d"
            ],
            [
             0.2,
             "#de77ae"
            ],
            [
             0.3,
             "#f1b6da"
            ],
            [
             0.4,
             "#fde0ef"
            ],
            [
             0.5,
             "#f7f7f7"
            ],
            [
             0.6,
             "#e6f5d0"
            ],
            [
             0.7,
             "#b8e186"
            ],
            [
             0.8,
             "#7fbc41"
            ],
            [
             0.9,
             "#4d9221"
            ],
            [
             1,
             "#276419"
            ]
           ],
           "sequential": [
            [
             0,
             "#0d0887"
            ],
            [
             0.1111111111111111,
             "#46039f"
            ],
            [
             0.2222222222222222,
             "#7201a8"
            ],
            [
             0.3333333333333333,
             "#9c179e"
            ],
            [
             0.4444444444444444,
             "#bd3786"
            ],
            [
             0.5555555555555556,
             "#d8576b"
            ],
            [
             0.6666666666666666,
             "#ed7953"
            ],
            [
             0.7777777777777778,
             "#fb9f3a"
            ],
            [
             0.8888888888888888,
             "#fdca26"
            ],
            [
             1,
             "#f0f921"
            ]
           ],
           "sequentialminus": [
            [
             0,
             "#0d0887"
            ],
            [
             0.1111111111111111,
             "#46039f"
            ],
            [
             0.2222222222222222,
             "#7201a8"
            ],
            [
             0.3333333333333333,
             "#9c179e"
            ],
            [
             0.4444444444444444,
             "#bd3786"
            ],
            [
             0.5555555555555556,
             "#d8576b"
            ],
            [
             0.6666666666666666,
             "#ed7953"
            ],
            [
             0.7777777777777778,
             "#fb9f3a"
            ],
            [
             0.8888888888888888,
             "#fdca26"
            ],
            [
             1,
             "#f0f921"
            ]
           ]
          },
          "colorway": [
           "#636efa",
           "#EF553B",
           "#00cc96",
           "#ab63fa",
           "#FFA15A",
           "#19d3f3",
           "#FF6692",
           "#B6E880",
           "#FF97FF",
           "#FECB52"
          ],
          "font": {
           "color": "#2a3f5f"
          },
          "geo": {
           "bgcolor": "white",
           "lakecolor": "white",
           "landcolor": "#E5ECF6",
           "showlakes": true,
           "showland": true,
           "subunitcolor": "white"
          },
          "hoverlabel": {
           "align": "left"
          },
          "hovermode": "closest",
          "mapbox": {
           "style": "light"
          },
          "paper_bgcolor": "white",
          "plot_bgcolor": "#E5ECF6",
          "polar": {
           "angularaxis": {
            "gridcolor": "white",
            "linecolor": "white",
            "ticks": ""
           },
           "bgcolor": "#E5ECF6",
           "radialaxis": {
            "gridcolor": "white",
            "linecolor": "white",
            "ticks": ""
           }
          },
          "scene": {
           "xaxis": {
            "backgroundcolor": "#E5ECF6",
            "gridcolor": "white",
            "gridwidth": 2,
            "linecolor": "white",
            "showbackground": true,
            "ticks": "",
            "zerolinecolor": "white"
           },
           "yaxis": {
            "backgroundcolor": "#E5ECF6",
            "gridcolor": "white",
            "gridwidth": 2,
            "linecolor": "white",
            "showbackground": true,
            "ticks": "",
            "zerolinecolor": "white"
           },
           "zaxis": {
            "backgroundcolor": "#E5ECF6",
            "gridcolor": "white",
            "gridwidth": 2,
            "linecolor": "white",
            "showbackground": true,
            "ticks": "",
            "zerolinecolor": "white"
           }
          },
          "shapedefaults": {
           "line": {
            "color": "#2a3f5f"
           }
          },
          "ternary": {
           "aaxis": {
            "gridcolor": "white",
            "linecolor": "white",
            "ticks": ""
           },
           "baxis": {
            "gridcolor": "white",
            "linecolor": "white",
            "ticks": ""
           },
           "bgcolor": "#E5ECF6",
           "caxis": {
            "gridcolor": "white",
            "linecolor": "white",
            "ticks": ""
           }
          },
          "title": {
           "x": 0.05
          },
          "xaxis": {
           "automargin": true,
           "gridcolor": "white",
           "linecolor": "white",
           "ticks": "",
           "title": {
            "standoff": 15
           },
           "zerolinecolor": "white",
           "zerolinewidth": 2
          },
          "yaxis": {
           "automargin": true,
           "gridcolor": "white",
           "linecolor": "white",
           "ticks": "",
           "title": {
            "standoff": 15
           },
           "zerolinecolor": "white",
           "zerolinewidth": 2
          }
         }
        },
        "title": {
         "font": {
          "size": 20
         },
         "x": 0.5
        },
        "xaxis": {
         "linewidth": 1,
         "showline": true,
         "tickangle": -70,
         "tickfont": {
          "size": 14
         },
         "ticktext": [
          "00000000",
          "00000001",
          "00000010",
          "00000011",
          "00000100",
          "00000101",
          "00000110",
          "00000111",
          "00001000",
          "00001001",
          "00001010",
          "00001011",
          "00001100",
          "00001101",
          "00001110",
          "00001111",
          "00010000",
          "00010001",
          "00010010",
          "00010011",
          "00010100",
          "00010101",
          "00010110",
          "00010111",
          "00011000",
          "00011001",
          "00011010",
          "00011011",
          "00011100",
          "00011101",
          "00011110",
          "00011111",
          "00100000",
          "00100001",
          "00100010",
          "00100011",
          "00100100",
          "00100101",
          "00100110",
          "00100111",
          "00101000",
          "00101001",
          "00101010",
          "00101011",
          "00101100",
          "00101101",
          "00101110",
          "00101111",
          "00110000",
          "00110001",
          "00110010",
          "00110011",
          "00110100",
          "00110101",
          "00110110",
          "00110111",
          "00111000",
          "00111001",
          "00111010",
          "00111011",
          "00111100",
          "00111101",
          "00111110",
          "00111111",
          "01000000",
          "01000001",
          "01000010",
          "01000011",
          "01000100",
          "01000101",
          "01000110",
          "01000111",
          "01001000",
          "01001001",
          "01001010",
          "01001011",
          "01001100",
          "01001101",
          "01001110",
          "01001111",
          "01010000",
          "01010001",
          "01010010",
          "01010011",
          "01010100",
          "01010101",
          "01010110",
          "01010111",
          "01011000",
          "01011001",
          "01011010",
          "01011011",
          "01011100",
          "01011101",
          "01011110",
          "01011111",
          "01100000",
          "01100001",
          "01100010",
          "01100011",
          "01100100",
          "01100101",
          "01100110",
          "01100111",
          "01101000",
          "01101001",
          "01101010",
          "01101011",
          "01101100",
          "01101101",
          "01101110",
          "01101111",
          "01110000",
          "01110001",
          "01110010",
          "01110011",
          "01110100",
          "01110101",
          "01110110",
          "01110111",
          "01111000",
          "01111001",
          "01111010",
          "01111011",
          "01111100",
          "01111101",
          "01111110",
          "01111111",
          "10000000",
          "10000001",
          "10000010",
          "10000011",
          "10000100",
          "10000101",
          "10000110",
          "10000111",
          "10001000",
          "10001001",
          "10001010",
          "10001011",
          "10001100",
          "10001101",
          "10001110",
          "10001111",
          "10010000",
          "10010001",
          "10010010",
          "10010011",
          "10010100",
          "10010101",
          "10010110",
          "10010111",
          "10011000",
          "10011001",
          "10011010",
          "10011011",
          "10011100",
          "10011101",
          "10011110",
          "10011111",
          "10100000",
          "10100001",
          "10100010",
          "10100011",
          "10100100",
          "10100101",
          "10100110",
          "10100111",
          "10101000",
          "10101001",
          "10101010",
          "10101011",
          "10101100",
          "10101101",
          "10101110",
          "10101111",
          "10110000",
          "10110001",
          "10110010",
          "10110011",
          "10110100",
          "10110101",
          "10110110",
          "10110111",
          "10111000",
          "10111001",
          "10111010",
          "10111011",
          "10111100",
          "10111101",
          "10111110",
          "10111111",
          "11000000",
          "11000001",
          "11000010",
          "11000011",
          "11000100",
          "11000101",
          "11000110",
          "11000111",
          "11001000",
          "11001001",
          "11001010",
          "11001011",
          "11001100",
          "11001101",
          "11001110",
          "11001111",
          "11010000",
          "11010001",
          "11010010",
          "11010011",
          "11010100",
          "11010101",
          "11010110",
          "11010111",
          "11011000",
          "11011001",
          "11011010",
          "11011011",
          "11011100",
          "11011101",
          "11011110",
          "11011111",
          "11100000",
          "11100001",
          "11100010",
          "11100011",
          "11100100",
          "11100101",
          "11100110",
          "11100111",
          "11101000",
          "11101001",
          "11101010",
          "11101011",
          "11101100",
          "11101101",
          "11101110",
          "11101111",
          "11110000",
          "11110001",
          "11110010",
          "11110011",
          "11110100",
          "11110101",
          "11110110",
          "11110111",
          "11111000",
          "11111001",
          "11111010",
          "11111011",
          "11111100",
          "11111101",
          "11111110",
          "11111111"
         ],
         "tickvals": [
          0,
          1,
          2,
          3,
          4,
          5,
          6,
          7,
          8,
          9,
          10,
          11,
          12,
          13,
          14,
          15,
          16,
          17,
          18,
          19,
          20,
          21,
          22,
          23,
          24,
          25,
          26,
          27,
          28,
          29,
          30,
          31,
          32,
          33,
          34,
          35,
          36,
          37,
          38,
          39,
          40,
          41,
          42,
          43,
          44,
          45,
          46,
          47,
          48,
          49,
          50,
          51,
          52,
          53,
          54,
          55,
          56,
          57,
          58,
          59,
          60,
          61,
          62,
          63,
          64,
          65,
          66,
          67,
          68,
          69,
          70,
          71,
          72,
          73,
          74,
          75,
          76,
          77,
          78,
          79,
          80,
          81,
          82,
          83,
          84,
          85,
          86,
          87,
          88,
          89,
          90,
          91,
          92,
          93,
          94,
          95,
          96,
          97,
          98,
          99,
          100,
          101,
          102,
          103,
          104,
          105,
          106,
          107,
          108,
          109,
          110,
          111,
          112,
          113,
          114,
          115,
          116,
          117,
          118,
          119,
          120,
          121,
          122,
          123,
          124,
          125,
          126,
          127,
          128,
          129,
          130,
          131,
          132,
          133,
          134,
          135,
          136,
          137,
          138,
          139,
          140,
          141,
          142,
          143,
          144,
          145,
          146,
          147,
          148,
          149,
          150,
          151,
          152,
          153,
          154,
          155,
          156,
          157,
          158,
          159,
          160,
          161,
          162,
          163,
          164,
          165,
          166,
          167,
          168,
          169,
          170,
          171,
          172,
          173,
          174,
          175,
          176,
          177,
          178,
          179,
          180,
          181,
          182,
          183,
          184,
          185,
          186,
          187,
          188,
          189,
          190,
          191,
          192,
          193,
          194,
          195,
          196,
          197,
          198,
          199,
          200,
          201,
          202,
          203,
          204,
          205,
          206,
          207,
          208,
          209,
          210,
          211,
          212,
          213,
          214,
          215,
          216,
          217,
          218,
          219,
          220,
          221,
          222,
          223,
          224,
          225,
          226,
          227,
          228,
          229,
          230,
          231,
          232,
          233,
          234,
          235,
          236,
          237,
          238,
          239,
          240,
          241,
          242,
          243,
          244,
          245,
          246,
          247,
          248,
          249,
          250,
          251,
          252,
          253,
          254,
          255
         ]
        },
        "yaxis": {
         "linewidth": 1,
         "showline": true,
         "tickfont": {
          "size": 14
         },
         "title": {
          "font": {
           "size": 18
          },
          "text": "Probability"
         }
        }
       }
      }
     },
     "metadata": {}
    }
   ],
   "source": [
    "job = execute(uncertainty_model, backend=Aer.get_backend('statevector_simulator'))\n",
    "probability_distribution(job.result().get_counts())"
   ]
  },
  {
   "cell_type": "code",
   "execution_count": 1026,
   "metadata": {},
   "outputs": [],
   "source": [
    "# analyze uncertainty circuit and determine exact solutions using Montecarlo over the circuit.\n",
    "# We could compare with a fully classical MC modeling the GCI, but it is too difficult and I'm lazy\n",
    "\n",
    "p_z = np.zeros(2**n_z)\n",
    "p_default = np.zeros(K)\n",
    "values = []\n",
    "probabilities = []\n",
    "num_qubits = uncertainty_model.num_qubits\n",
    "for i, a in enumerate(job.result().get_statevector()):\n",
    "    # get binary representation\n",
    "    b = ('{0:0%sb}' % num_qubits).format(i)\n",
    "    prob = np.abs(a)**2\n",
    "\n",
    "    # extract value of Z and corresponding probability    \n",
    "    # Note Z i mapped in the least significant n_z qubits. We add probabilities for each element in the distribution\n",
    "    i_normal = int(b[-n_z:], 2)\n",
    "    p_z[i_normal] += prob\n",
    "\n",
    "    # determine overall default probability for k \n",
    "    # Most significant qubits represent 1 for default of that asset.\n",
    "    loss = 0\n",
    "    for k in range(K):\n",
    "        if b[K - k - 1] == '1':\n",
    "            p_default[k] += prob\n",
    "            loss += loss_given_default[k]\n",
    "    values += [loss]\n",
    "    probabilities += [prob]   \n",
    "\n",
    "values = np.array(values)\n",
    "probabilities = np.array(probabilities)\n",
    "    \n",
    "# L = λ1*X1(Z) + λ2*X2(Z) + ... + λn*Xn(Z)\n",
    "expected_loss = np.dot(values, probabilities)\n",
    "\n",
    "losses = np.sort(np.unique(values))\n",
    "pdf = np.zeros(len(losses))\n",
    "for i, v in enumerate(losses):\n",
    "    pdf[i] += sum(probabilities[values == v])\n",
    "cdf = np.cumsum(pdf)\n",
    "\n",
    "i_var = np.argmax(cdf >= 1-alpha)\n",
    "exact_var = losses[i_var]\n",
    "exact_cvar = np.dot(pdf[(i_var+1):], losses[(i_var+1):])/sum(pdf[(i_var+1):])\n",
    "\n",
    "# Calculate P[L <= VaR[L]]\n",
    "alpha_point = np.where(values == exact_var)[0].min()\n",
    "p_l_less_than_var = np.sum(probabilities[:alpha_point])"
   ]
  },
  {
   "cell_type": "code",
   "execution_count": 1027,
   "metadata": {},
   "outputs": [
    {
     "output_type": "display_data",
     "data": {
      "text/plain": "<Figure size 432x288 with 1 Axes>",
      "image/svg+xml": "<?xml version=\"1.0\" encoding=\"utf-8\" standalone=\"no\"?>\n<!DOCTYPE svg PUBLIC \"-//W3C//DTD SVG 1.1//EN\"\n  \"http://www.w3.org/Graphics/SVG/1.1/DTD/svg11.dtd\">\n<!-- Created with matplotlib (https://matplotlib.org/) -->\n<svg height=\"284.916562pt\" version=\"1.1\" viewBox=\"0 0 419.6375 284.916562\" width=\"419.6375pt\" xmlns=\"http://www.w3.org/2000/svg\" xmlns:xlink=\"http://www.w3.org/1999/xlink\">\n <metadata>\n  <rdf:RDF xmlns:cc=\"http://creativecommons.org/ns#\" xmlns:dc=\"http://purl.org/dc/elements/1.1/\" xmlns:rdf=\"http://www.w3.org/1999/02/22-rdf-syntax-ns#\">\n   <cc:Work>\n    <dc:type rdf:resource=\"http://purl.org/dc/dcmitype/StillImage\"/>\n    <dc:date>2021-02-21T10:18:08.725208</dc:date>\n    <dc:format>image/svg+xml</dc:format>\n    <dc:creator>\n     <cc:Agent>\n      <dc:title>Matplotlib v3.3.1, https://matplotlib.org/</dc:title>\n     </cc:Agent>\n    </dc:creator>\n   </cc:Work>\n  </rdf:RDF>\n </metadata>\n <defs>\n  <style type=\"text/css\">*{stroke-linecap:butt;stroke-linejoin:round;}</style>\n </defs>\n <g id=\"figure_1\">\n  <g id=\"patch_1\">\n   <path d=\"M 0 284.916562 \nL 419.6375 284.916562 \nL 419.6375 0 \nL 0 0 \nz\n\" style=\"fill:none;\"/>\n  </g>\n  <g id=\"axes_1\">\n   <g id=\"patch_2\">\n    <path d=\"M 56.571875 245.836875 \nL 391.371875 245.836875 \nL 391.371875 28.396875 \nL 56.571875 28.396875 \nz\n\" style=\"fill:#ffffff;\"/>\n   </g>\n   <g id=\"patch_3\">\n    <path clip-path=\"url(#pc9f2e193b3)\" d=\"M 71.790057 245.836875 \nL 115.270576 245.836875 \nL 115.270576 38.751161 \nL 71.790057 38.751161 \nz\n\" style=\"fill:#1f77b4;\"/>\n   </g>\n   <g id=\"patch_4\">\n    <path clip-path=\"url(#pc9f2e193b3)\" d=\"M 115.270576 245.836875 \nL 158.751096 245.836875 \nL 158.751096 214.01972 \nL 115.270576 214.01972 \nz\n\" style=\"fill:#1f77b4;\"/>\n   </g>\n   <g id=\"patch_5\">\n    <path clip-path=\"url(#pc9f2e193b3)\" d=\"M 158.751096 245.836875 \nL 202.231615 245.836875 \nL 202.231615 181.36576 \nL 158.751096 181.36576 \nz\n\" style=\"fill:#1f77b4;\"/>\n   </g>\n   <g id=\"patch_6\">\n    <path clip-path=\"url(#pc9f2e193b3)\" d=\"M 202.231615 245.836875 \nL 245.712135 245.836875 \nL 245.712135 186.880635 \nL 202.231615 186.880635 \nz\n\" style=\"fill:#1f77b4;\"/>\n   </g>\n   <g id=\"patch_7\">\n    <path clip-path=\"url(#pc9f2e193b3)\" d=\"M 245.712135 245.836875 \nL 289.192654 245.836875 \nL 289.192654 236.849496 \nL 245.712135 236.849496 \nz\n\" style=\"fill:#1f77b4;\"/>\n   </g>\n   <g id=\"patch_8\">\n    <path clip-path=\"url(#pc9f2e193b3)\" d=\"M 289.192654 245.836875 \nL 332.673174 245.836875 \nL 332.673174 228.931089 \nL 289.192654 228.931089 \nz\n\" style=\"fill:#1f77b4;\"/>\n   </g>\n   <g id=\"patch_9\">\n    <path clip-path=\"url(#pc9f2e193b3)\" d=\"M 332.673174 245.836875 \nL 376.153693 245.836875 \nL 376.153693 242.105114 \nL 332.673174 242.105114 \nz\n\" style=\"fill:#1f77b4;\"/>\n   </g>\n   <g id=\"matplotlib.axis_1\">\n    <g id=\"xtick_1\">\n     <g id=\"line2d_1\">\n      <path clip-path=\"url(#pc9f2e193b3)\" d=\"M 93.530317 245.836875 \nL 93.530317 28.396875 \n\" style=\"fill:none;stroke:#b0b0b0;stroke-linecap:square;stroke-width:0.8;\"/>\n     </g>\n     <g id=\"line2d_2\">\n      <defs>\n       <path d=\"M 0 0 \nL 0 3.5 \n\" id=\"mc9771deb23\" style=\"stroke:#000000;stroke-width:0.8;\"/>\n      </defs>\n      <g>\n       <use style=\"stroke:#000000;stroke-width:0.8;\" x=\"93.530317\" xlink:href=\"#mc9771deb23\" y=\"245.836875\"/>\n      </g>\n     </g>\n     <g id=\"text_1\">\n      <!-- 0 -->\n      <g transform=\"translate(96.289692 259.199375)rotate(-90)scale(0.1 -0.1)\">\n       <defs>\n        <path d=\"M 31.78125 66.40625 \nQ 24.171875 66.40625 20.328125 58.90625 \nQ 16.5 51.421875 16.5 36.375 \nQ 16.5 21.390625 20.328125 13.890625 \nQ 24.171875 6.390625 31.78125 6.390625 \nQ 39.453125 6.390625 43.28125 13.890625 \nQ 47.125 21.390625 47.125 36.375 \nQ 47.125 51.421875 43.28125 58.90625 \nQ 39.453125 66.40625 31.78125 66.40625 \nz\nM 31.78125 74.21875 \nQ 44.046875 74.21875 50.515625 64.515625 \nQ 56.984375 54.828125 56.984375 36.375 \nQ 56.984375 17.96875 50.515625 8.265625 \nQ 44.046875 -1.421875 31.78125 -1.421875 \nQ 19.53125 -1.421875 13.0625 8.265625 \nQ 6.59375 17.96875 6.59375 36.375 \nQ 6.59375 54.828125 13.0625 64.515625 \nQ 19.53125 74.21875 31.78125 74.21875 \nz\n\" id=\"DejaVuSans-48\"/>\n       </defs>\n       <use xlink:href=\"#DejaVuSans-48\"/>\n      </g>\n     </g>\n    </g>\n    <g id=\"xtick_2\">\n     <g id=\"line2d_3\">\n      <path clip-path=\"url(#pc9f2e193b3)\" d=\"M 93.530317 245.836875 \nL 93.530317 28.396875 \n\" style=\"fill:none;stroke:#b0b0b0;stroke-linecap:square;stroke-width:0.8;\"/>\n     </g>\n     <g id=\"line2d_4\">\n      <g>\n       <use style=\"stroke:#000000;stroke-width:0.8;\" x=\"93.530317\" xlink:href=\"#mc9771deb23\" y=\"245.836875\"/>\n      </g>\n     </g>\n     <g id=\"text_2\">\n      <!-- 0 -->\n      <g transform=\"translate(96.289692 259.199375)rotate(-90)scale(0.1 -0.1)\">\n       <use xlink:href=\"#DejaVuSans-48\"/>\n      </g>\n     </g>\n    </g>\n    <g id=\"xtick_3\">\n     <g id=\"line2d_5\">\n      <path clip-path=\"url(#pc9f2e193b3)\" d=\"M 93.530317 245.836875 \nL 93.530317 28.396875 \n\" style=\"fill:none;stroke:#b0b0b0;stroke-linecap:square;stroke-width:0.8;\"/>\n     </g>\n     <g id=\"line2d_6\">\n      <g>\n       <use style=\"stroke:#000000;stroke-width:0.8;\" x=\"93.530317\" xlink:href=\"#mc9771deb23\" y=\"245.836875\"/>\n      </g>\n     </g>\n     <g id=\"text_3\">\n      <!-- 0 -->\n      <g transform=\"translate(96.289692 259.199375)rotate(-90)scale(0.1 -0.1)\">\n       <use xlink:href=\"#DejaVuSans-48\"/>\n      </g>\n     </g>\n    </g>\n    <g id=\"xtick_4\">\n     <g id=\"line2d_7\">\n      <path clip-path=\"url(#pc9f2e193b3)\" d=\"M 93.530317 245.836875 \nL 93.530317 28.396875 \n\" style=\"fill:none;stroke:#b0b0b0;stroke-linecap:square;stroke-width:0.8;\"/>\n     </g>\n     <g id=\"line2d_8\">\n      <g>\n       <use style=\"stroke:#000000;stroke-width:0.8;\" x=\"93.530317\" xlink:href=\"#mc9771deb23\" y=\"245.836875\"/>\n      </g>\n     </g>\n     <g id=\"text_4\">\n      <!-- 0 -->\n      <g transform=\"translate(96.289692 259.199375)rotate(-90)scale(0.1 -0.1)\">\n       <use xlink:href=\"#DejaVuSans-48\"/>\n      </g>\n     </g>\n    </g>\n    <g id=\"xtick_5\">\n     <g id=\"line2d_9\">\n      <path clip-path=\"url(#pc9f2e193b3)\" d=\"M 93.530317 245.836875 \nL 93.530317 28.396875 \n\" style=\"fill:none;stroke:#b0b0b0;stroke-linecap:square;stroke-width:0.8;\"/>\n     </g>\n     <g id=\"line2d_10\">\n      <g>\n       <use style=\"stroke:#000000;stroke-width:0.8;\" x=\"93.530317\" xlink:href=\"#mc9771deb23\" y=\"245.836875\"/>\n      </g>\n     </g>\n     <g id=\"text_5\">\n      <!-- 0 -->\n      <g transform=\"translate(96.289692 259.199375)rotate(-90)scale(0.1 -0.1)\">\n       <use xlink:href=\"#DejaVuSans-48\"/>\n      </g>\n     </g>\n    </g>\n    <g id=\"xtick_6\">\n     <g id=\"line2d_11\">\n      <path clip-path=\"url(#pc9f2e193b3)\" d=\"M 93.530317 245.836875 \nL 93.530317 28.396875 \n\" style=\"fill:none;stroke:#b0b0b0;stroke-linecap:square;stroke-width:0.8;\"/>\n     </g>\n     <g id=\"line2d_12\">\n      <g>\n       <use style=\"stroke:#000000;stroke-width:0.8;\" x=\"93.530317\" xlink:href=\"#mc9771deb23\" y=\"245.836875\"/>\n      </g>\n     </g>\n     <g id=\"text_6\">\n      <!-- 0 -->\n      <g transform=\"translate(96.289692 259.199375)rotate(-90)scale(0.1 -0.1)\">\n       <use xlink:href=\"#DejaVuSans-48\"/>\n      </g>\n     </g>\n    </g>\n    <g id=\"xtick_7\">\n     <g id=\"line2d_13\">\n      <path clip-path=\"url(#pc9f2e193b3)\" d=\"M 93.530317 245.836875 \nL 93.530317 28.396875 \n\" style=\"fill:none;stroke:#b0b0b0;stroke-linecap:square;stroke-width:0.8;\"/>\n     </g>\n     <g id=\"line2d_14\">\n      <g>\n       <use style=\"stroke:#000000;stroke-width:0.8;\" x=\"93.530317\" xlink:href=\"#mc9771deb23\" y=\"245.836875\"/>\n      </g>\n     </g>\n     <g id=\"text_7\">\n      <!-- 0 -->\n      <g transform=\"translate(96.289692 259.199375)rotate(-90)scale(0.1 -0.1)\">\n       <use xlink:href=\"#DejaVuSans-48\"/>\n      </g>\n     </g>\n    </g>\n    <g id=\"xtick_8\">\n     <g id=\"line2d_15\">\n      <path clip-path=\"url(#pc9f2e193b3)\" d=\"M 93.530317 245.836875 \nL 93.530317 28.396875 \n\" style=\"fill:none;stroke:#b0b0b0;stroke-linecap:square;stroke-width:0.8;\"/>\n     </g>\n     <g id=\"line2d_16\">\n      <g>\n       <use style=\"stroke:#000000;stroke-width:0.8;\" x=\"93.530317\" xlink:href=\"#mc9771deb23\" y=\"245.836875\"/>\n      </g>\n     </g>\n     <g id=\"text_8\">\n      <!-- 0 -->\n      <g transform=\"translate(96.289692 259.199375)rotate(-90)scale(0.1 -0.1)\">\n       <use xlink:href=\"#DejaVuSans-48\"/>\n      </g>\n     </g>\n    </g>\n    <g id=\"xtick_9\">\n     <g id=\"line2d_17\">\n      <path clip-path=\"url(#pc9f2e193b3)\" d=\"M 93.530317 245.836875 \nL 93.530317 28.396875 \n\" style=\"fill:none;stroke:#b0b0b0;stroke-linecap:square;stroke-width:0.8;\"/>\n     </g>\n     <g id=\"line2d_18\">\n      <g>\n       <use style=\"stroke:#000000;stroke-width:0.8;\" x=\"93.530317\" xlink:href=\"#mc9771deb23\" y=\"245.836875\"/>\n      </g>\n     </g>\n     <g id=\"text_9\">\n      <!-- 0 -->\n      <g transform=\"translate(96.289692 259.199375)rotate(-90)scale(0.1 -0.1)\">\n       <use xlink:href=\"#DejaVuSans-48\"/>\n      </g>\n     </g>\n    </g>\n    <g id=\"xtick_10\">\n     <g id=\"line2d_19\">\n      <path clip-path=\"url(#pc9f2e193b3)\" d=\"M 93.530317 245.836875 \nL 93.530317 28.396875 \n\" style=\"fill:none;stroke:#b0b0b0;stroke-linecap:square;stroke-width:0.8;\"/>\n     </g>\n     <g id=\"line2d_20\">\n      <g>\n       <use style=\"stroke:#000000;stroke-width:0.8;\" x=\"93.530317\" xlink:href=\"#mc9771deb23\" y=\"245.836875\"/>\n      </g>\n     </g>\n     <g id=\"text_10\">\n      <!-- 0 -->\n      <g transform=\"translate(96.289692 259.199375)rotate(-90)scale(0.1 -0.1)\">\n       <use xlink:href=\"#DejaVuSans-48\"/>\n      </g>\n     </g>\n    </g>\n    <g id=\"xtick_11\">\n     <g id=\"line2d_21\">\n      <path clip-path=\"url(#pc9f2e193b3)\" d=\"M 93.530317 245.836875 \nL 93.530317 28.396875 \n\" style=\"fill:none;stroke:#b0b0b0;stroke-linecap:square;stroke-width:0.8;\"/>\n     </g>\n     <g id=\"line2d_22\">\n      <g>\n       <use style=\"stroke:#000000;stroke-width:0.8;\" x=\"93.530317\" xlink:href=\"#mc9771deb23\" y=\"245.836875\"/>\n      </g>\n     </g>\n     <g id=\"text_11\">\n      <!-- 0 -->\n      <g transform=\"translate(96.289692 259.199375)rotate(-90)scale(0.1 -0.1)\">\n       <use xlink:href=\"#DejaVuSans-48\"/>\n      </g>\n     </g>\n    </g>\n    <g id=\"xtick_12\">\n     <g id=\"line2d_23\">\n      <path clip-path=\"url(#pc9f2e193b3)\" d=\"M 93.530317 245.836875 \nL 93.530317 28.396875 \n\" style=\"fill:none;stroke:#b0b0b0;stroke-linecap:square;stroke-width:0.8;\"/>\n     </g>\n     <g id=\"line2d_24\">\n      <g>\n       <use style=\"stroke:#000000;stroke-width:0.8;\" x=\"93.530317\" xlink:href=\"#mc9771deb23\" y=\"245.836875\"/>\n      </g>\n     </g>\n     <g id=\"text_12\">\n      <!-- 0 -->\n      <g transform=\"translate(96.289692 259.199375)rotate(-90)scale(0.1 -0.1)\">\n       <use xlink:href=\"#DejaVuSans-48\"/>\n      </g>\n     </g>\n    </g>\n    <g id=\"xtick_13\">\n     <g id=\"line2d_25\">\n      <path clip-path=\"url(#pc9f2e193b3)\" d=\"M 93.530317 245.836875 \nL 93.530317 28.396875 \n\" style=\"fill:none;stroke:#b0b0b0;stroke-linecap:square;stroke-width:0.8;\"/>\n     </g>\n     <g id=\"line2d_26\">\n      <g>\n       <use style=\"stroke:#000000;stroke-width:0.8;\" x=\"93.530317\" xlink:href=\"#mc9771deb23\" y=\"245.836875\"/>\n      </g>\n     </g>\n     <g id=\"text_13\">\n      <!-- 0 -->\n      <g transform=\"translate(96.289692 259.199375)rotate(-90)scale(0.1 -0.1)\">\n       <use xlink:href=\"#DejaVuSans-48\"/>\n      </g>\n     </g>\n    </g>\n    <g id=\"xtick_14\">\n     <g id=\"line2d_27\">\n      <path clip-path=\"url(#pc9f2e193b3)\" d=\"M 93.530317 245.836875 \nL 93.530317 28.396875 \n\" style=\"fill:none;stroke:#b0b0b0;stroke-linecap:square;stroke-width:0.8;\"/>\n     </g>\n     <g id=\"line2d_28\">\n      <g>\n       <use style=\"stroke:#000000;stroke-width:0.8;\" x=\"93.530317\" xlink:href=\"#mc9771deb23\" y=\"245.836875\"/>\n      </g>\n     </g>\n     <g id=\"text_14\">\n      <!-- 0 -->\n      <g transform=\"translate(96.289692 259.199375)rotate(-90)scale(0.1 -0.1)\">\n       <use xlink:href=\"#DejaVuSans-48\"/>\n      </g>\n     </g>\n    </g>\n    <g id=\"xtick_15\">\n     <g id=\"line2d_29\">\n      <path clip-path=\"url(#pc9f2e193b3)\" d=\"M 93.530317 245.836875 \nL 93.530317 28.396875 \n\" style=\"fill:none;stroke:#b0b0b0;stroke-linecap:square;stroke-width:0.8;\"/>\n     </g>\n     <g id=\"line2d_30\">\n      <g>\n       <use style=\"stroke:#000000;stroke-width:0.8;\" x=\"93.530317\" xlink:href=\"#mc9771deb23\" y=\"245.836875\"/>\n      </g>\n     </g>\n     <g id=\"text_15\">\n      <!-- 0 -->\n      <g transform=\"translate(96.289692 259.199375)rotate(-90)scale(0.1 -0.1)\">\n       <use xlink:href=\"#DejaVuSans-48\"/>\n      </g>\n     </g>\n    </g>\n    <g id=\"xtick_16\">\n     <g id=\"line2d_31\">\n      <path clip-path=\"url(#pc9f2e193b3)\" d=\"M 93.530317 245.836875 \nL 93.530317 28.396875 \n\" style=\"fill:none;stroke:#b0b0b0;stroke-linecap:square;stroke-width:0.8;\"/>\n     </g>\n     <g id=\"line2d_32\">\n      <g>\n       <use style=\"stroke:#000000;stroke-width:0.8;\" x=\"93.530317\" xlink:href=\"#mc9771deb23\" y=\"245.836875\"/>\n      </g>\n     </g>\n     <g id=\"text_16\">\n      <!-- 0 -->\n      <g transform=\"translate(96.289692 259.199375)rotate(-90)scale(0.1 -0.1)\">\n       <use xlink:href=\"#DejaVuSans-48\"/>\n      </g>\n     </g>\n    </g>\n    <g id=\"xtick_17\">\n     <g id=\"line2d_33\">\n      <path clip-path=\"url(#pc9f2e193b3)\" d=\"M 93.530317 245.836875 \nL 93.530317 28.396875 \n\" style=\"fill:none;stroke:#b0b0b0;stroke-linecap:square;stroke-width:0.8;\"/>\n     </g>\n     <g id=\"line2d_34\">\n      <g>\n       <use style=\"stroke:#000000;stroke-width:0.8;\" x=\"93.530317\" xlink:href=\"#mc9771deb23\" y=\"245.836875\"/>\n      </g>\n     </g>\n     <g id=\"text_17\">\n      <!-- 0 -->\n      <g transform=\"translate(96.289692 259.199375)rotate(-90)scale(0.1 -0.1)\">\n       <use xlink:href=\"#DejaVuSans-48\"/>\n      </g>\n     </g>\n    </g>\n    <g id=\"xtick_18\">\n     <g id=\"line2d_35\">\n      <path clip-path=\"url(#pc9f2e193b3)\" d=\"M 93.530317 245.836875 \nL 93.530317 28.396875 \n\" style=\"fill:none;stroke:#b0b0b0;stroke-linecap:square;stroke-width:0.8;\"/>\n     </g>\n     <g id=\"line2d_36\">\n      <g>\n       <use style=\"stroke:#000000;stroke-width:0.8;\" x=\"93.530317\" xlink:href=\"#mc9771deb23\" y=\"245.836875\"/>\n      </g>\n     </g>\n     <g id=\"text_18\">\n      <!-- 0 -->\n      <g transform=\"translate(96.289692 259.199375)rotate(-90)scale(0.1 -0.1)\">\n       <use xlink:href=\"#DejaVuSans-48\"/>\n      </g>\n     </g>\n    </g>\n    <g id=\"xtick_19\">\n     <g id=\"line2d_37\">\n      <path clip-path=\"url(#pc9f2e193b3)\" d=\"M 93.530317 245.836875 \nL 93.530317 28.396875 \n\" style=\"fill:none;stroke:#b0b0b0;stroke-linecap:square;stroke-width:0.8;\"/>\n     </g>\n     <g id=\"line2d_38\">\n      <g>\n       <use style=\"stroke:#000000;stroke-width:0.8;\" x=\"93.530317\" xlink:href=\"#mc9771deb23\" y=\"245.836875\"/>\n      </g>\n     </g>\n     <g id=\"text_19\">\n      <!-- 0 -->\n      <g transform=\"translate(96.289692 259.199375)rotate(-90)scale(0.1 -0.1)\">\n       <use xlink:href=\"#DejaVuSans-48\"/>\n      </g>\n     </g>\n    </g>\n    <g id=\"xtick_20\">\n     <g id=\"line2d_39\">\n      <path clip-path=\"url(#pc9f2e193b3)\" d=\"M 93.530317 245.836875 \nL 93.530317 28.396875 \n\" style=\"fill:none;stroke:#b0b0b0;stroke-linecap:square;stroke-width:0.8;\"/>\n     </g>\n     <g id=\"line2d_40\">\n      <g>\n       <use style=\"stroke:#000000;stroke-width:0.8;\" x=\"93.530317\" xlink:href=\"#mc9771deb23\" y=\"245.836875\"/>\n      </g>\n     </g>\n     <g id=\"text_20\">\n      <!-- 0 -->\n      <g transform=\"translate(96.289692 259.199375)rotate(-90)scale(0.1 -0.1)\">\n       <use xlink:href=\"#DejaVuSans-48\"/>\n      </g>\n     </g>\n    </g>\n    <g id=\"xtick_21\">\n     <g id=\"line2d_41\">\n      <path clip-path=\"url(#pc9f2e193b3)\" d=\"M 93.530317 245.836875 \nL 93.530317 28.396875 \n\" style=\"fill:none;stroke:#b0b0b0;stroke-linecap:square;stroke-width:0.8;\"/>\n     </g>\n     <g id=\"line2d_42\">\n      <g>\n       <use style=\"stroke:#000000;stroke-width:0.8;\" x=\"93.530317\" xlink:href=\"#mc9771deb23\" y=\"245.836875\"/>\n      </g>\n     </g>\n     <g id=\"text_21\">\n      <!-- 0 -->\n      <g transform=\"translate(96.289692 259.199375)rotate(-90)scale(0.1 -0.1)\">\n       <use xlink:href=\"#DejaVuSans-48\"/>\n      </g>\n     </g>\n    </g>\n    <g id=\"xtick_22\">\n     <g id=\"line2d_43\">\n      <path clip-path=\"url(#pc9f2e193b3)\" d=\"M 93.530317 245.836875 \nL 93.530317 28.396875 \n\" style=\"fill:none;stroke:#b0b0b0;stroke-linecap:square;stroke-width:0.8;\"/>\n     </g>\n     <g id=\"line2d_44\">\n      <g>\n       <use style=\"stroke:#000000;stroke-width:0.8;\" x=\"93.530317\" xlink:href=\"#mc9771deb23\" y=\"245.836875\"/>\n      </g>\n     </g>\n     <g id=\"text_22\">\n      <!-- 0 -->\n      <g transform=\"translate(96.289692 259.199375)rotate(-90)scale(0.1 -0.1)\">\n       <use xlink:href=\"#DejaVuSans-48\"/>\n      </g>\n     </g>\n    </g>\n    <g id=\"xtick_23\">\n     <g id=\"line2d_45\">\n      <path clip-path=\"url(#pc9f2e193b3)\" d=\"M 93.530317 245.836875 \nL 93.530317 28.396875 \n\" style=\"fill:none;stroke:#b0b0b0;stroke-linecap:square;stroke-width:0.8;\"/>\n     </g>\n     <g id=\"line2d_46\">\n      <g>\n       <use style=\"stroke:#000000;stroke-width:0.8;\" x=\"93.530317\" xlink:href=\"#mc9771deb23\" y=\"245.836875\"/>\n      </g>\n     </g>\n     <g id=\"text_23\">\n      <!-- 0 -->\n      <g transform=\"translate(96.289692 259.199375)rotate(-90)scale(0.1 -0.1)\">\n       <use xlink:href=\"#DejaVuSans-48\"/>\n      </g>\n     </g>\n    </g>\n    <g id=\"xtick_24\">\n     <g id=\"line2d_47\">\n      <path clip-path=\"url(#pc9f2e193b3)\" d=\"M 93.530317 245.836875 \nL 93.530317 28.396875 \n\" style=\"fill:none;stroke:#b0b0b0;stroke-linecap:square;stroke-width:0.8;\"/>\n     </g>\n     <g id=\"line2d_48\">\n      <g>\n       <use style=\"stroke:#000000;stroke-width:0.8;\" x=\"93.530317\" xlink:href=\"#mc9771deb23\" y=\"245.836875\"/>\n      </g>\n     </g>\n     <g id=\"text_24\">\n      <!-- 0 -->\n      <g transform=\"translate(96.289692 259.199375)rotate(-90)scale(0.1 -0.1)\">\n       <use xlink:href=\"#DejaVuSans-48\"/>\n      </g>\n     </g>\n    </g>\n    <g id=\"xtick_25\">\n     <g id=\"line2d_49\">\n      <path clip-path=\"url(#pc9f2e193b3)\" d=\"M 93.530317 245.836875 \nL 93.530317 28.396875 \n\" style=\"fill:none;stroke:#b0b0b0;stroke-linecap:square;stroke-width:0.8;\"/>\n     </g>\n     <g id=\"line2d_50\">\n      <g>\n       <use style=\"stroke:#000000;stroke-width:0.8;\" x=\"93.530317\" xlink:href=\"#mc9771deb23\" y=\"245.836875\"/>\n      </g>\n     </g>\n     <g id=\"text_25\">\n      <!-- 0 -->\n      <g transform=\"translate(96.289692 259.199375)rotate(-90)scale(0.1 -0.1)\">\n       <use xlink:href=\"#DejaVuSans-48\"/>\n      </g>\n     </g>\n    </g>\n    <g id=\"xtick_26\">\n     <g id=\"line2d_51\">\n      <path clip-path=\"url(#pc9f2e193b3)\" d=\"M 93.530317 245.836875 \nL 93.530317 28.396875 \n\" style=\"fill:none;stroke:#b0b0b0;stroke-linecap:square;stroke-width:0.8;\"/>\n     </g>\n     <g id=\"line2d_52\">\n      <g>\n       <use style=\"stroke:#000000;stroke-width:0.8;\" x=\"93.530317\" xlink:href=\"#mc9771deb23\" y=\"245.836875\"/>\n      </g>\n     </g>\n     <g id=\"text_26\">\n      <!-- 0 -->\n      <g transform=\"translate(96.289692 259.199375)rotate(-90)scale(0.1 -0.1)\">\n       <use xlink:href=\"#DejaVuSans-48\"/>\n      </g>\n     </g>\n    </g>\n    <g id=\"xtick_27\">\n     <g id=\"line2d_53\">\n      <path clip-path=\"url(#pc9f2e193b3)\" d=\"M 93.530317 245.836875 \nL 93.530317 28.396875 \n\" style=\"fill:none;stroke:#b0b0b0;stroke-linecap:square;stroke-width:0.8;\"/>\n     </g>\n     <g id=\"line2d_54\">\n      <g>\n       <use style=\"stroke:#000000;stroke-width:0.8;\" x=\"93.530317\" xlink:href=\"#mc9771deb23\" y=\"245.836875\"/>\n      </g>\n     </g>\n     <g id=\"text_27\">\n      <!-- 0 -->\n      <g transform=\"translate(96.289692 259.199375)rotate(-90)scale(0.1 -0.1)\">\n       <use xlink:href=\"#DejaVuSans-48\"/>\n      </g>\n     </g>\n    </g>\n    <g id=\"xtick_28\">\n     <g id=\"line2d_55\">\n      <path clip-path=\"url(#pc9f2e193b3)\" d=\"M 93.530317 245.836875 \nL 93.530317 28.396875 \n\" style=\"fill:none;stroke:#b0b0b0;stroke-linecap:square;stroke-width:0.8;\"/>\n     </g>\n     <g id=\"line2d_56\">\n      <g>\n       <use style=\"stroke:#000000;stroke-width:0.8;\" x=\"93.530317\" xlink:href=\"#mc9771deb23\" y=\"245.836875\"/>\n      </g>\n     </g>\n     <g id=\"text_28\">\n      <!-- 0 -->\n      <g transform=\"translate(96.289692 259.199375)rotate(-90)scale(0.1 -0.1)\">\n       <use xlink:href=\"#DejaVuSans-48\"/>\n      </g>\n     </g>\n    </g>\n    <g id=\"xtick_29\">\n     <g id=\"line2d_57\">\n      <path clip-path=\"url(#pc9f2e193b3)\" d=\"M 93.530317 245.836875 \nL 93.530317 28.396875 \n\" style=\"fill:none;stroke:#b0b0b0;stroke-linecap:square;stroke-width:0.8;\"/>\n     </g>\n     <g id=\"line2d_58\">\n      <g>\n       <use style=\"stroke:#000000;stroke-width:0.8;\" x=\"93.530317\" xlink:href=\"#mc9771deb23\" y=\"245.836875\"/>\n      </g>\n     </g>\n     <g id=\"text_29\">\n      <!-- 0 -->\n      <g transform=\"translate(96.289692 259.199375)rotate(-90)scale(0.1 -0.1)\">\n       <use xlink:href=\"#DejaVuSans-48\"/>\n      </g>\n     </g>\n    </g>\n    <g id=\"xtick_30\">\n     <g id=\"line2d_59\">\n      <path clip-path=\"url(#pc9f2e193b3)\" d=\"M 93.530317 245.836875 \nL 93.530317 28.396875 \n\" style=\"fill:none;stroke:#b0b0b0;stroke-linecap:square;stroke-width:0.8;\"/>\n     </g>\n     <g id=\"line2d_60\">\n      <g>\n       <use style=\"stroke:#000000;stroke-width:0.8;\" x=\"93.530317\" xlink:href=\"#mc9771deb23\" y=\"245.836875\"/>\n      </g>\n     </g>\n     <g id=\"text_30\">\n      <!-- 0 -->\n      <g transform=\"translate(96.289692 259.199375)rotate(-90)scale(0.1 -0.1)\">\n       <use xlink:href=\"#DejaVuSans-48\"/>\n      </g>\n     </g>\n    </g>\n    <g id=\"xtick_31\">\n     <g id=\"line2d_61\">\n      <path clip-path=\"url(#pc9f2e193b3)\" d=\"M 93.530317 245.836875 \nL 93.530317 28.396875 \n\" style=\"fill:none;stroke:#b0b0b0;stroke-linecap:square;stroke-width:0.8;\"/>\n     </g>\n     <g id=\"line2d_62\">\n      <g>\n       <use style=\"stroke:#000000;stroke-width:0.8;\" x=\"93.530317\" xlink:href=\"#mc9771deb23\" y=\"245.836875\"/>\n      </g>\n     </g>\n     <g id=\"text_31\">\n      <!-- 0 -->\n      <g transform=\"translate(96.289692 259.199375)rotate(-90)scale(0.1 -0.1)\">\n       <use xlink:href=\"#DejaVuSans-48\"/>\n      </g>\n     </g>\n    </g>\n    <g id=\"xtick_32\">\n     <g id=\"line2d_63\">\n      <path clip-path=\"url(#pc9f2e193b3)\" d=\"M 93.530317 245.836875 \nL 93.530317 28.396875 \n\" style=\"fill:none;stroke:#b0b0b0;stroke-linecap:square;stroke-width:0.8;\"/>\n     </g>\n     <g id=\"line2d_64\">\n      <g>\n       <use style=\"stroke:#000000;stroke-width:0.8;\" x=\"93.530317\" xlink:href=\"#mc9771deb23\" y=\"245.836875\"/>\n      </g>\n     </g>\n     <g id=\"text_32\">\n      <!-- 0 -->\n      <g transform=\"translate(96.289692 259.199375)rotate(-90)scale(0.1 -0.1)\">\n       <use xlink:href=\"#DejaVuSans-48\"/>\n      </g>\n     </g>\n    </g>\n    <g id=\"xtick_33\">\n     <g id=\"line2d_65\">\n      <path clip-path=\"url(#pc9f2e193b3)\" d=\"M 137.010836 245.836875 \nL 137.010836 28.396875 \n\" style=\"fill:none;stroke:#b0b0b0;stroke-linecap:square;stroke-width:0.8;\"/>\n     </g>\n     <g id=\"line2d_66\">\n      <g>\n       <use style=\"stroke:#000000;stroke-width:0.8;\" x=\"137.010836\" xlink:href=\"#mc9771deb23\" y=\"245.836875\"/>\n      </g>\n     </g>\n     <g id=\"text_33\">\n      <!-- 1 -->\n      <g transform=\"translate(139.770211 259.199375)rotate(-90)scale(0.1 -0.1)\">\n       <defs>\n        <path d=\"M 12.40625 8.296875 \nL 28.515625 8.296875 \nL 28.515625 63.921875 \nL 10.984375 60.40625 \nL 10.984375 69.390625 \nL 28.421875 72.90625 \nL 38.28125 72.90625 \nL 38.28125 8.296875 \nL 54.390625 8.296875 \nL 54.390625 0 \nL 12.40625 0 \nz\n\" id=\"DejaVuSans-49\"/>\n       </defs>\n       <use xlink:href=\"#DejaVuSans-49\"/>\n      </g>\n     </g>\n    </g>\n    <g id=\"xtick_34\">\n     <g id=\"line2d_67\">\n      <path clip-path=\"url(#pc9f2e193b3)\" d=\"M 137.010836 245.836875 \nL 137.010836 28.396875 \n\" style=\"fill:none;stroke:#b0b0b0;stroke-linecap:square;stroke-width:0.8;\"/>\n     </g>\n     <g id=\"line2d_68\">\n      <g>\n       <use style=\"stroke:#000000;stroke-width:0.8;\" x=\"137.010836\" xlink:href=\"#mc9771deb23\" y=\"245.836875\"/>\n      </g>\n     </g>\n     <g id=\"text_34\">\n      <!-- 1 -->\n      <g transform=\"translate(139.770211 259.199375)rotate(-90)scale(0.1 -0.1)\">\n       <use xlink:href=\"#DejaVuSans-49\"/>\n      </g>\n     </g>\n    </g>\n    <g id=\"xtick_35\">\n     <g id=\"line2d_69\">\n      <path clip-path=\"url(#pc9f2e193b3)\" d=\"M 137.010836 245.836875 \nL 137.010836 28.396875 \n\" style=\"fill:none;stroke:#b0b0b0;stroke-linecap:square;stroke-width:0.8;\"/>\n     </g>\n     <g id=\"line2d_70\">\n      <g>\n       <use style=\"stroke:#000000;stroke-width:0.8;\" x=\"137.010836\" xlink:href=\"#mc9771deb23\" y=\"245.836875\"/>\n      </g>\n     </g>\n     <g id=\"text_35\">\n      <!-- 1 -->\n      <g transform=\"translate(139.770211 259.199375)rotate(-90)scale(0.1 -0.1)\">\n       <use xlink:href=\"#DejaVuSans-49\"/>\n      </g>\n     </g>\n    </g>\n    <g id=\"xtick_36\">\n     <g id=\"line2d_71\">\n      <path clip-path=\"url(#pc9f2e193b3)\" d=\"M 137.010836 245.836875 \nL 137.010836 28.396875 \n\" style=\"fill:none;stroke:#b0b0b0;stroke-linecap:square;stroke-width:0.8;\"/>\n     </g>\n     <g id=\"line2d_72\">\n      <g>\n       <use style=\"stroke:#000000;stroke-width:0.8;\" x=\"137.010836\" xlink:href=\"#mc9771deb23\" y=\"245.836875\"/>\n      </g>\n     </g>\n     <g id=\"text_36\">\n      <!-- 1 -->\n      <g transform=\"translate(139.770211 259.199375)rotate(-90)scale(0.1 -0.1)\">\n       <use xlink:href=\"#DejaVuSans-49\"/>\n      </g>\n     </g>\n    </g>\n    <g id=\"xtick_37\">\n     <g id=\"line2d_73\">\n      <path clip-path=\"url(#pc9f2e193b3)\" d=\"M 137.010836 245.836875 \nL 137.010836 28.396875 \n\" style=\"fill:none;stroke:#b0b0b0;stroke-linecap:square;stroke-width:0.8;\"/>\n     </g>\n     <g id=\"line2d_74\">\n      <g>\n       <use style=\"stroke:#000000;stroke-width:0.8;\" x=\"137.010836\" xlink:href=\"#mc9771deb23\" y=\"245.836875\"/>\n      </g>\n     </g>\n     <g id=\"text_37\">\n      <!-- 1 -->\n      <g transform=\"translate(139.770211 259.199375)rotate(-90)scale(0.1 -0.1)\">\n       <use xlink:href=\"#DejaVuSans-49\"/>\n      </g>\n     </g>\n    </g>\n    <g id=\"xtick_38\">\n     <g id=\"line2d_75\">\n      <path clip-path=\"url(#pc9f2e193b3)\" d=\"M 137.010836 245.836875 \nL 137.010836 28.396875 \n\" style=\"fill:none;stroke:#b0b0b0;stroke-linecap:square;stroke-width:0.8;\"/>\n     </g>\n     <g id=\"line2d_76\">\n      <g>\n       <use style=\"stroke:#000000;stroke-width:0.8;\" x=\"137.010836\" xlink:href=\"#mc9771deb23\" y=\"245.836875\"/>\n      </g>\n     </g>\n     <g id=\"text_38\">\n      <!-- 1 -->\n      <g transform=\"translate(139.770211 259.199375)rotate(-90)scale(0.1 -0.1)\">\n       <use xlink:href=\"#DejaVuSans-49\"/>\n      </g>\n     </g>\n    </g>\n    <g id=\"xtick_39\">\n     <g id=\"line2d_77\">\n      <path clip-path=\"url(#pc9f2e193b3)\" d=\"M 137.010836 245.836875 \nL 137.010836 28.396875 \n\" style=\"fill:none;stroke:#b0b0b0;stroke-linecap:square;stroke-width:0.8;\"/>\n     </g>\n     <g id=\"line2d_78\">\n      <g>\n       <use style=\"stroke:#000000;stroke-width:0.8;\" x=\"137.010836\" xlink:href=\"#mc9771deb23\" y=\"245.836875\"/>\n      </g>\n     </g>\n     <g id=\"text_39\">\n      <!-- 1 -->\n      <g transform=\"translate(139.770211 259.199375)rotate(-90)scale(0.1 -0.1)\">\n       <use xlink:href=\"#DejaVuSans-49\"/>\n      </g>\n     </g>\n    </g>\n    <g id=\"xtick_40\">\n     <g id=\"line2d_79\">\n      <path clip-path=\"url(#pc9f2e193b3)\" d=\"M 137.010836 245.836875 \nL 137.010836 28.396875 \n\" style=\"fill:none;stroke:#b0b0b0;stroke-linecap:square;stroke-width:0.8;\"/>\n     </g>\n     <g id=\"line2d_80\">\n      <g>\n       <use style=\"stroke:#000000;stroke-width:0.8;\" x=\"137.010836\" xlink:href=\"#mc9771deb23\" y=\"245.836875\"/>\n      </g>\n     </g>\n     <g id=\"text_40\">\n      <!-- 1 -->\n      <g transform=\"translate(139.770211 259.199375)rotate(-90)scale(0.1 -0.1)\">\n       <use xlink:href=\"#DejaVuSans-49\"/>\n      </g>\n     </g>\n    </g>\n    <g id=\"xtick_41\">\n     <g id=\"line2d_81\">\n      <path clip-path=\"url(#pc9f2e193b3)\" d=\"M 137.010836 245.836875 \nL 137.010836 28.396875 \n\" style=\"fill:none;stroke:#b0b0b0;stroke-linecap:square;stroke-width:0.8;\"/>\n     </g>\n     <g id=\"line2d_82\">\n      <g>\n       <use style=\"stroke:#000000;stroke-width:0.8;\" x=\"137.010836\" xlink:href=\"#mc9771deb23\" y=\"245.836875\"/>\n      </g>\n     </g>\n     <g id=\"text_41\">\n      <!-- 1 -->\n      <g transform=\"translate(139.770211 259.199375)rotate(-90)scale(0.1 -0.1)\">\n       <use xlink:href=\"#DejaVuSans-49\"/>\n      </g>\n     </g>\n    </g>\n    <g id=\"xtick_42\">\n     <g id=\"line2d_83\">\n      <path clip-path=\"url(#pc9f2e193b3)\" d=\"M 137.010836 245.836875 \nL 137.010836 28.396875 \n\" style=\"fill:none;stroke:#b0b0b0;stroke-linecap:square;stroke-width:0.8;\"/>\n     </g>\n     <g id=\"line2d_84\">\n      <g>\n       <use style=\"stroke:#000000;stroke-width:0.8;\" x=\"137.010836\" xlink:href=\"#mc9771deb23\" y=\"245.836875\"/>\n      </g>\n     </g>\n     <g id=\"text_42\">\n      <!-- 1 -->\n      <g transform=\"translate(139.770211 259.199375)rotate(-90)scale(0.1 -0.1)\">\n       <use xlink:href=\"#DejaVuSans-49\"/>\n      </g>\n     </g>\n    </g>\n    <g id=\"xtick_43\">\n     <g id=\"line2d_85\">\n      <path clip-path=\"url(#pc9f2e193b3)\" d=\"M 137.010836 245.836875 \nL 137.010836 28.396875 \n\" style=\"fill:none;stroke:#b0b0b0;stroke-linecap:square;stroke-width:0.8;\"/>\n     </g>\n     <g id=\"line2d_86\">\n      <g>\n       <use style=\"stroke:#000000;stroke-width:0.8;\" x=\"137.010836\" xlink:href=\"#mc9771deb23\" y=\"245.836875\"/>\n      </g>\n     </g>\n     <g id=\"text_43\">\n      <!-- 1 -->\n      <g transform=\"translate(139.770211 259.199375)rotate(-90)scale(0.1 -0.1)\">\n       <use xlink:href=\"#DejaVuSans-49\"/>\n      </g>\n     </g>\n    </g>\n    <g id=\"xtick_44\">\n     <g id=\"line2d_87\">\n      <path clip-path=\"url(#pc9f2e193b3)\" d=\"M 137.010836 245.836875 \nL 137.010836 28.396875 \n\" style=\"fill:none;stroke:#b0b0b0;stroke-linecap:square;stroke-width:0.8;\"/>\n     </g>\n     <g id=\"line2d_88\">\n      <g>\n       <use style=\"stroke:#000000;stroke-width:0.8;\" x=\"137.010836\" xlink:href=\"#mc9771deb23\" y=\"245.836875\"/>\n      </g>\n     </g>\n     <g id=\"text_44\">\n      <!-- 1 -->\n      <g transform=\"translate(139.770211 259.199375)rotate(-90)scale(0.1 -0.1)\">\n       <use xlink:href=\"#DejaVuSans-49\"/>\n      </g>\n     </g>\n    </g>\n    <g id=\"xtick_45\">\n     <g id=\"line2d_89\">\n      <path clip-path=\"url(#pc9f2e193b3)\" d=\"M 137.010836 245.836875 \nL 137.010836 28.396875 \n\" style=\"fill:none;stroke:#b0b0b0;stroke-linecap:square;stroke-width:0.8;\"/>\n     </g>\n     <g id=\"line2d_90\">\n      <g>\n       <use style=\"stroke:#000000;stroke-width:0.8;\" x=\"137.010836\" xlink:href=\"#mc9771deb23\" y=\"245.836875\"/>\n      </g>\n     </g>\n     <g id=\"text_45\">\n      <!-- 1 -->\n      <g transform=\"translate(139.770211 259.199375)rotate(-90)scale(0.1 -0.1)\">\n       <use xlink:href=\"#DejaVuSans-49\"/>\n      </g>\n     </g>\n    </g>\n    <g id=\"xtick_46\">\n     <g id=\"line2d_91\">\n      <path clip-path=\"url(#pc9f2e193b3)\" d=\"M 137.010836 245.836875 \nL 137.010836 28.396875 \n\" style=\"fill:none;stroke:#b0b0b0;stroke-linecap:square;stroke-width:0.8;\"/>\n     </g>\n     <g id=\"line2d_92\">\n      <g>\n       <use style=\"stroke:#000000;stroke-width:0.8;\" x=\"137.010836\" xlink:href=\"#mc9771deb23\" y=\"245.836875\"/>\n      </g>\n     </g>\n     <g id=\"text_46\">\n      <!-- 1 -->\n      <g transform=\"translate(139.770211 259.199375)rotate(-90)scale(0.1 -0.1)\">\n       <use xlink:href=\"#DejaVuSans-49\"/>\n      </g>\n     </g>\n    </g>\n    <g id=\"xtick_47\">\n     <g id=\"line2d_93\">\n      <path clip-path=\"url(#pc9f2e193b3)\" d=\"M 137.010836 245.836875 \nL 137.010836 28.396875 \n\" style=\"fill:none;stroke:#b0b0b0;stroke-linecap:square;stroke-width:0.8;\"/>\n     </g>\n     <g id=\"line2d_94\">\n      <g>\n       <use style=\"stroke:#000000;stroke-width:0.8;\" x=\"137.010836\" xlink:href=\"#mc9771deb23\" y=\"245.836875\"/>\n      </g>\n     </g>\n     <g id=\"text_47\">\n      <!-- 1 -->\n      <g transform=\"translate(139.770211 259.199375)rotate(-90)scale(0.1 -0.1)\">\n       <use xlink:href=\"#DejaVuSans-49\"/>\n      </g>\n     </g>\n    </g>\n    <g id=\"xtick_48\">\n     <g id=\"line2d_95\">\n      <path clip-path=\"url(#pc9f2e193b3)\" d=\"M 137.010836 245.836875 \nL 137.010836 28.396875 \n\" style=\"fill:none;stroke:#b0b0b0;stroke-linecap:square;stroke-width:0.8;\"/>\n     </g>\n     <g id=\"line2d_96\">\n      <g>\n       <use style=\"stroke:#000000;stroke-width:0.8;\" x=\"137.010836\" xlink:href=\"#mc9771deb23\" y=\"245.836875\"/>\n      </g>\n     </g>\n     <g id=\"text_48\">\n      <!-- 1 -->\n      <g transform=\"translate(139.770211 259.199375)rotate(-90)scale(0.1 -0.1)\">\n       <use xlink:href=\"#DejaVuSans-49\"/>\n      </g>\n     </g>\n    </g>\n    <g id=\"xtick_49\">\n     <g id=\"line2d_97\">\n      <path clip-path=\"url(#pc9f2e193b3)\" d=\"M 137.010836 245.836875 \nL 137.010836 28.396875 \n\" style=\"fill:none;stroke:#b0b0b0;stroke-linecap:square;stroke-width:0.8;\"/>\n     </g>\n     <g id=\"line2d_98\">\n      <g>\n       <use style=\"stroke:#000000;stroke-width:0.8;\" x=\"137.010836\" xlink:href=\"#mc9771deb23\" y=\"245.836875\"/>\n      </g>\n     </g>\n     <g id=\"text_49\">\n      <!-- 1 -->\n      <g transform=\"translate(139.770211 259.199375)rotate(-90)scale(0.1 -0.1)\">\n       <use xlink:href=\"#DejaVuSans-49\"/>\n      </g>\n     </g>\n    </g>\n    <g id=\"xtick_50\">\n     <g id=\"line2d_99\">\n      <path clip-path=\"url(#pc9f2e193b3)\" d=\"M 137.010836 245.836875 \nL 137.010836 28.396875 \n\" style=\"fill:none;stroke:#b0b0b0;stroke-linecap:square;stroke-width:0.8;\"/>\n     </g>\n     <g id=\"line2d_100\">\n      <g>\n       <use style=\"stroke:#000000;stroke-width:0.8;\" x=\"137.010836\" xlink:href=\"#mc9771deb23\" y=\"245.836875\"/>\n      </g>\n     </g>\n     <g id=\"text_50\">\n      <!-- 1 -->\n      <g transform=\"translate(139.770211 259.199375)rotate(-90)scale(0.1 -0.1)\">\n       <use xlink:href=\"#DejaVuSans-49\"/>\n      </g>\n     </g>\n    </g>\n    <g id=\"xtick_51\">\n     <g id=\"line2d_101\">\n      <path clip-path=\"url(#pc9f2e193b3)\" d=\"M 137.010836 245.836875 \nL 137.010836 28.396875 \n\" style=\"fill:none;stroke:#b0b0b0;stroke-linecap:square;stroke-width:0.8;\"/>\n     </g>\n     <g id=\"line2d_102\">\n      <g>\n       <use style=\"stroke:#000000;stroke-width:0.8;\" x=\"137.010836\" xlink:href=\"#mc9771deb23\" y=\"245.836875\"/>\n      </g>\n     </g>\n     <g id=\"text_51\">\n      <!-- 1 -->\n      <g transform=\"translate(139.770211 259.199375)rotate(-90)scale(0.1 -0.1)\">\n       <use xlink:href=\"#DejaVuSans-49\"/>\n      </g>\n     </g>\n    </g>\n    <g id=\"xtick_52\">\n     <g id=\"line2d_103\">\n      <path clip-path=\"url(#pc9f2e193b3)\" d=\"M 137.010836 245.836875 \nL 137.010836 28.396875 \n\" style=\"fill:none;stroke:#b0b0b0;stroke-linecap:square;stroke-width:0.8;\"/>\n     </g>\n     <g id=\"line2d_104\">\n      <g>\n       <use style=\"stroke:#000000;stroke-width:0.8;\" x=\"137.010836\" xlink:href=\"#mc9771deb23\" y=\"245.836875\"/>\n      </g>\n     </g>\n     <g id=\"text_52\">\n      <!-- 1 -->\n      <g transform=\"translate(139.770211 259.199375)rotate(-90)scale(0.1 -0.1)\">\n       <use xlink:href=\"#DejaVuSans-49\"/>\n      </g>\n     </g>\n    </g>\n    <g id=\"xtick_53\">\n     <g id=\"line2d_105\">\n      <path clip-path=\"url(#pc9f2e193b3)\" d=\"M 137.010836 245.836875 \nL 137.010836 28.396875 \n\" style=\"fill:none;stroke:#b0b0b0;stroke-linecap:square;stroke-width:0.8;\"/>\n     </g>\n     <g id=\"line2d_106\">\n      <g>\n       <use style=\"stroke:#000000;stroke-width:0.8;\" x=\"137.010836\" xlink:href=\"#mc9771deb23\" y=\"245.836875\"/>\n      </g>\n     </g>\n     <g id=\"text_53\">\n      <!-- 1 -->\n      <g transform=\"translate(139.770211 259.199375)rotate(-90)scale(0.1 -0.1)\">\n       <use xlink:href=\"#DejaVuSans-49\"/>\n      </g>\n     </g>\n    </g>\n    <g id=\"xtick_54\">\n     <g id=\"line2d_107\">\n      <path clip-path=\"url(#pc9f2e193b3)\" d=\"M 137.010836 245.836875 \nL 137.010836 28.396875 \n\" style=\"fill:none;stroke:#b0b0b0;stroke-linecap:square;stroke-width:0.8;\"/>\n     </g>\n     <g id=\"line2d_108\">\n      <g>\n       <use style=\"stroke:#000000;stroke-width:0.8;\" x=\"137.010836\" xlink:href=\"#mc9771deb23\" y=\"245.836875\"/>\n      </g>\n     </g>\n     <g id=\"text_54\">\n      <!-- 1 -->\n      <g transform=\"translate(139.770211 259.199375)rotate(-90)scale(0.1 -0.1)\">\n       <use xlink:href=\"#DejaVuSans-49\"/>\n      </g>\n     </g>\n    </g>\n    <g id=\"xtick_55\">\n     <g id=\"line2d_109\">\n      <path clip-path=\"url(#pc9f2e193b3)\" d=\"M 137.010836 245.836875 \nL 137.010836 28.396875 \n\" style=\"fill:none;stroke:#b0b0b0;stroke-linecap:square;stroke-width:0.8;\"/>\n     </g>\n     <g id=\"line2d_110\">\n      <g>\n       <use style=\"stroke:#000000;stroke-width:0.8;\" x=\"137.010836\" xlink:href=\"#mc9771deb23\" y=\"245.836875\"/>\n      </g>\n     </g>\n     <g id=\"text_55\">\n      <!-- 1 -->\n      <g transform=\"translate(139.770211 259.199375)rotate(-90)scale(0.1 -0.1)\">\n       <use xlink:href=\"#DejaVuSans-49\"/>\n      </g>\n     </g>\n    </g>\n    <g id=\"xtick_56\">\n     <g id=\"line2d_111\">\n      <path clip-path=\"url(#pc9f2e193b3)\" d=\"M 137.010836 245.836875 \nL 137.010836 28.396875 \n\" style=\"fill:none;stroke:#b0b0b0;stroke-linecap:square;stroke-width:0.8;\"/>\n     </g>\n     <g id=\"line2d_112\">\n      <g>\n       <use style=\"stroke:#000000;stroke-width:0.8;\" x=\"137.010836\" xlink:href=\"#mc9771deb23\" y=\"245.836875\"/>\n      </g>\n     </g>\n     <g id=\"text_56\">\n      <!-- 1 -->\n      <g transform=\"translate(139.770211 259.199375)rotate(-90)scale(0.1 -0.1)\">\n       <use xlink:href=\"#DejaVuSans-49\"/>\n      </g>\n     </g>\n    </g>\n    <g id=\"xtick_57\">\n     <g id=\"line2d_113\">\n      <path clip-path=\"url(#pc9f2e193b3)\" d=\"M 137.010836 245.836875 \nL 137.010836 28.396875 \n\" style=\"fill:none;stroke:#b0b0b0;stroke-linecap:square;stroke-width:0.8;\"/>\n     </g>\n     <g id=\"line2d_114\">\n      <g>\n       <use style=\"stroke:#000000;stroke-width:0.8;\" x=\"137.010836\" xlink:href=\"#mc9771deb23\" y=\"245.836875\"/>\n      </g>\n     </g>\n     <g id=\"text_57\">\n      <!-- 1 -->\n      <g transform=\"translate(139.770211 259.199375)rotate(-90)scale(0.1 -0.1)\">\n       <use xlink:href=\"#DejaVuSans-49\"/>\n      </g>\n     </g>\n    </g>\n    <g id=\"xtick_58\">\n     <g id=\"line2d_115\">\n      <path clip-path=\"url(#pc9f2e193b3)\" d=\"M 137.010836 245.836875 \nL 137.010836 28.396875 \n\" style=\"fill:none;stroke:#b0b0b0;stroke-linecap:square;stroke-width:0.8;\"/>\n     </g>\n     <g id=\"line2d_116\">\n      <g>\n       <use style=\"stroke:#000000;stroke-width:0.8;\" x=\"137.010836\" xlink:href=\"#mc9771deb23\" y=\"245.836875\"/>\n      </g>\n     </g>\n     <g id=\"text_58\">\n      <!-- 1 -->\n      <g transform=\"translate(139.770211 259.199375)rotate(-90)scale(0.1 -0.1)\">\n       <use xlink:href=\"#DejaVuSans-49\"/>\n      </g>\n     </g>\n    </g>\n    <g id=\"xtick_59\">\n     <g id=\"line2d_117\">\n      <path clip-path=\"url(#pc9f2e193b3)\" d=\"M 137.010836 245.836875 \nL 137.010836 28.396875 \n\" style=\"fill:none;stroke:#b0b0b0;stroke-linecap:square;stroke-width:0.8;\"/>\n     </g>\n     <g id=\"line2d_118\">\n      <g>\n       <use style=\"stroke:#000000;stroke-width:0.8;\" x=\"137.010836\" xlink:href=\"#mc9771deb23\" y=\"245.836875\"/>\n      </g>\n     </g>\n     <g id=\"text_59\">\n      <!-- 1 -->\n      <g transform=\"translate(139.770211 259.199375)rotate(-90)scale(0.1 -0.1)\">\n       <use xlink:href=\"#DejaVuSans-49\"/>\n      </g>\n     </g>\n    </g>\n    <g id=\"xtick_60\">\n     <g id=\"line2d_119\">\n      <path clip-path=\"url(#pc9f2e193b3)\" d=\"M 137.010836 245.836875 \nL 137.010836 28.396875 \n\" style=\"fill:none;stroke:#b0b0b0;stroke-linecap:square;stroke-width:0.8;\"/>\n     </g>\n     <g id=\"line2d_120\">\n      <g>\n       <use style=\"stroke:#000000;stroke-width:0.8;\" x=\"137.010836\" xlink:href=\"#mc9771deb23\" y=\"245.836875\"/>\n      </g>\n     </g>\n     <g id=\"text_60\">\n      <!-- 1 -->\n      <g transform=\"translate(139.770211 259.199375)rotate(-90)scale(0.1 -0.1)\">\n       <use xlink:href=\"#DejaVuSans-49\"/>\n      </g>\n     </g>\n    </g>\n    <g id=\"xtick_61\">\n     <g id=\"line2d_121\">\n      <path clip-path=\"url(#pc9f2e193b3)\" d=\"M 137.010836 245.836875 \nL 137.010836 28.396875 \n\" style=\"fill:none;stroke:#b0b0b0;stroke-linecap:square;stroke-width:0.8;\"/>\n     </g>\n     <g id=\"line2d_122\">\n      <g>\n       <use style=\"stroke:#000000;stroke-width:0.8;\" x=\"137.010836\" xlink:href=\"#mc9771deb23\" y=\"245.836875\"/>\n      </g>\n     </g>\n     <g id=\"text_61\">\n      <!-- 1 -->\n      <g transform=\"translate(139.770211 259.199375)rotate(-90)scale(0.1 -0.1)\">\n       <use xlink:href=\"#DejaVuSans-49\"/>\n      </g>\n     </g>\n    </g>\n    <g id=\"xtick_62\">\n     <g id=\"line2d_123\">\n      <path clip-path=\"url(#pc9f2e193b3)\" d=\"M 137.010836 245.836875 \nL 137.010836 28.396875 \n\" style=\"fill:none;stroke:#b0b0b0;stroke-linecap:square;stroke-width:0.8;\"/>\n     </g>\n     <g id=\"line2d_124\">\n      <g>\n       <use style=\"stroke:#000000;stroke-width:0.8;\" x=\"137.010836\" xlink:href=\"#mc9771deb23\" y=\"245.836875\"/>\n      </g>\n     </g>\n     <g id=\"text_62\">\n      <!-- 1 -->\n      <g transform=\"translate(139.770211 259.199375)rotate(-90)scale(0.1 -0.1)\">\n       <use xlink:href=\"#DejaVuSans-49\"/>\n      </g>\n     </g>\n    </g>\n    <g id=\"xtick_63\">\n     <g id=\"line2d_125\">\n      <path clip-path=\"url(#pc9f2e193b3)\" d=\"M 137.010836 245.836875 \nL 137.010836 28.396875 \n\" style=\"fill:none;stroke:#b0b0b0;stroke-linecap:square;stroke-width:0.8;\"/>\n     </g>\n     <g id=\"line2d_126\">\n      <g>\n       <use style=\"stroke:#000000;stroke-width:0.8;\" x=\"137.010836\" xlink:href=\"#mc9771deb23\" y=\"245.836875\"/>\n      </g>\n     </g>\n     <g id=\"text_63\">\n      <!-- 1 -->\n      <g transform=\"translate(139.770211 259.199375)rotate(-90)scale(0.1 -0.1)\">\n       <use xlink:href=\"#DejaVuSans-49\"/>\n      </g>\n     </g>\n    </g>\n    <g id=\"xtick_64\">\n     <g id=\"line2d_127\">\n      <path clip-path=\"url(#pc9f2e193b3)\" d=\"M 137.010836 245.836875 \nL 137.010836 28.396875 \n\" style=\"fill:none;stroke:#b0b0b0;stroke-linecap:square;stroke-width:0.8;\"/>\n     </g>\n     <g id=\"line2d_128\">\n      <g>\n       <use style=\"stroke:#000000;stroke-width:0.8;\" x=\"137.010836\" xlink:href=\"#mc9771deb23\" y=\"245.836875\"/>\n      </g>\n     </g>\n     <g id=\"text_64\">\n      <!-- 1 -->\n      <g transform=\"translate(139.770211 259.199375)rotate(-90)scale(0.1 -0.1)\">\n       <use xlink:href=\"#DejaVuSans-49\"/>\n      </g>\n     </g>\n    </g>\n    <g id=\"xtick_65\">\n     <g id=\"line2d_129\">\n      <path clip-path=\"url(#pc9f2e193b3)\" d=\"M 180.491356 245.836875 \nL 180.491356 28.396875 \n\" style=\"fill:none;stroke:#b0b0b0;stroke-linecap:square;stroke-width:0.8;\"/>\n     </g>\n     <g id=\"line2d_130\">\n      <g>\n       <use style=\"stroke:#000000;stroke-width:0.8;\" x=\"180.491356\" xlink:href=\"#mc9771deb23\" y=\"245.836875\"/>\n      </g>\n     </g>\n     <g id=\"text_65\">\n      <!-- 2 -->\n      <g transform=\"translate(183.250731 259.199375)rotate(-90)scale(0.1 -0.1)\">\n       <defs>\n        <path d=\"M 19.1875 8.296875 \nL 53.609375 8.296875 \nL 53.609375 0 \nL 7.328125 0 \nL 7.328125 8.296875 \nQ 12.9375 14.109375 22.625 23.890625 \nQ 32.328125 33.6875 34.8125 36.53125 \nQ 39.546875 41.84375 41.421875 45.53125 \nQ 43.3125 49.21875 43.3125 52.78125 \nQ 43.3125 58.59375 39.234375 62.25 \nQ 35.15625 65.921875 28.609375 65.921875 \nQ 23.96875 65.921875 18.8125 64.3125 \nQ 13.671875 62.703125 7.8125 59.421875 \nL 7.8125 69.390625 \nQ 13.765625 71.78125 18.9375 73 \nQ 24.125 74.21875 28.421875 74.21875 \nQ 39.75 74.21875 46.484375 68.546875 \nQ 53.21875 62.890625 53.21875 53.421875 \nQ 53.21875 48.921875 51.53125 44.890625 \nQ 49.859375 40.875 45.40625 35.40625 \nQ 44.1875 33.984375 37.640625 27.21875 \nQ 31.109375 20.453125 19.1875 8.296875 \nz\n\" id=\"DejaVuSans-50\"/>\n       </defs>\n       <use xlink:href=\"#DejaVuSans-50\"/>\n      </g>\n     </g>\n    </g>\n    <g id=\"xtick_66\">\n     <g id=\"line2d_131\">\n      <path clip-path=\"url(#pc9f2e193b3)\" d=\"M 180.491356 245.836875 \nL 180.491356 28.396875 \n\" style=\"fill:none;stroke:#b0b0b0;stroke-linecap:square;stroke-width:0.8;\"/>\n     </g>\n     <g id=\"line2d_132\">\n      <g>\n       <use style=\"stroke:#000000;stroke-width:0.8;\" x=\"180.491356\" xlink:href=\"#mc9771deb23\" y=\"245.836875\"/>\n      </g>\n     </g>\n     <g id=\"text_66\">\n      <!-- 2 -->\n      <g transform=\"translate(183.250731 259.199375)rotate(-90)scale(0.1 -0.1)\">\n       <use xlink:href=\"#DejaVuSans-50\"/>\n      </g>\n     </g>\n    </g>\n    <g id=\"xtick_67\">\n     <g id=\"line2d_133\">\n      <path clip-path=\"url(#pc9f2e193b3)\" d=\"M 180.491356 245.836875 \nL 180.491356 28.396875 \n\" style=\"fill:none;stroke:#b0b0b0;stroke-linecap:square;stroke-width:0.8;\"/>\n     </g>\n     <g id=\"line2d_134\">\n      <g>\n       <use style=\"stroke:#000000;stroke-width:0.8;\" x=\"180.491356\" xlink:href=\"#mc9771deb23\" y=\"245.836875\"/>\n      </g>\n     </g>\n     <g id=\"text_67\">\n      <!-- 2 -->\n      <g transform=\"translate(183.250731 259.199375)rotate(-90)scale(0.1 -0.1)\">\n       <use xlink:href=\"#DejaVuSans-50\"/>\n      </g>\n     </g>\n    </g>\n    <g id=\"xtick_68\">\n     <g id=\"line2d_135\">\n      <path clip-path=\"url(#pc9f2e193b3)\" d=\"M 180.491356 245.836875 \nL 180.491356 28.396875 \n\" style=\"fill:none;stroke:#b0b0b0;stroke-linecap:square;stroke-width:0.8;\"/>\n     </g>\n     <g id=\"line2d_136\">\n      <g>\n       <use style=\"stroke:#000000;stroke-width:0.8;\" x=\"180.491356\" xlink:href=\"#mc9771deb23\" y=\"245.836875\"/>\n      </g>\n     </g>\n     <g id=\"text_68\">\n      <!-- 2 -->\n      <g transform=\"translate(183.250731 259.199375)rotate(-90)scale(0.1 -0.1)\">\n       <use xlink:href=\"#DejaVuSans-50\"/>\n      </g>\n     </g>\n    </g>\n    <g id=\"xtick_69\">\n     <g id=\"line2d_137\">\n      <path clip-path=\"url(#pc9f2e193b3)\" d=\"M 180.491356 245.836875 \nL 180.491356 28.396875 \n\" style=\"fill:none;stroke:#b0b0b0;stroke-linecap:square;stroke-width:0.8;\"/>\n     </g>\n     <g id=\"line2d_138\">\n      <g>\n       <use style=\"stroke:#000000;stroke-width:0.8;\" x=\"180.491356\" xlink:href=\"#mc9771deb23\" y=\"245.836875\"/>\n      </g>\n     </g>\n     <g id=\"text_69\">\n      <!-- 2 -->\n      <g transform=\"translate(183.250731 259.199375)rotate(-90)scale(0.1 -0.1)\">\n       <use xlink:href=\"#DejaVuSans-50\"/>\n      </g>\n     </g>\n    </g>\n    <g id=\"xtick_70\">\n     <g id=\"line2d_139\">\n      <path clip-path=\"url(#pc9f2e193b3)\" d=\"M 180.491356 245.836875 \nL 180.491356 28.396875 \n\" style=\"fill:none;stroke:#b0b0b0;stroke-linecap:square;stroke-width:0.8;\"/>\n     </g>\n     <g id=\"line2d_140\">\n      <g>\n       <use style=\"stroke:#000000;stroke-width:0.8;\" x=\"180.491356\" xlink:href=\"#mc9771deb23\" y=\"245.836875\"/>\n      </g>\n     </g>\n     <g id=\"text_70\">\n      <!-- 2 -->\n      <g transform=\"translate(183.250731 259.199375)rotate(-90)scale(0.1 -0.1)\">\n       <use xlink:href=\"#DejaVuSans-50\"/>\n      </g>\n     </g>\n    </g>\n    <g id=\"xtick_71\">\n     <g id=\"line2d_141\">\n      <path clip-path=\"url(#pc9f2e193b3)\" d=\"M 180.491356 245.836875 \nL 180.491356 28.396875 \n\" style=\"fill:none;stroke:#b0b0b0;stroke-linecap:square;stroke-width:0.8;\"/>\n     </g>\n     <g id=\"line2d_142\">\n      <g>\n       <use style=\"stroke:#000000;stroke-width:0.8;\" x=\"180.491356\" xlink:href=\"#mc9771deb23\" y=\"245.836875\"/>\n      </g>\n     </g>\n     <g id=\"text_71\">\n      <!-- 2 -->\n      <g transform=\"translate(183.250731 259.199375)rotate(-90)scale(0.1 -0.1)\">\n       <use xlink:href=\"#DejaVuSans-50\"/>\n      </g>\n     </g>\n    </g>\n    <g id=\"xtick_72\">\n     <g id=\"line2d_143\">\n      <path clip-path=\"url(#pc9f2e193b3)\" d=\"M 180.491356 245.836875 \nL 180.491356 28.396875 \n\" style=\"fill:none;stroke:#b0b0b0;stroke-linecap:square;stroke-width:0.8;\"/>\n     </g>\n     <g id=\"line2d_144\">\n      <g>\n       <use style=\"stroke:#000000;stroke-width:0.8;\" x=\"180.491356\" xlink:href=\"#mc9771deb23\" y=\"245.836875\"/>\n      </g>\n     </g>\n     <g id=\"text_72\">\n      <!-- 2 -->\n      <g transform=\"translate(183.250731 259.199375)rotate(-90)scale(0.1 -0.1)\">\n       <use xlink:href=\"#DejaVuSans-50\"/>\n      </g>\n     </g>\n    </g>\n    <g id=\"xtick_73\">\n     <g id=\"line2d_145\">\n      <path clip-path=\"url(#pc9f2e193b3)\" d=\"M 180.491356 245.836875 \nL 180.491356 28.396875 \n\" style=\"fill:none;stroke:#b0b0b0;stroke-linecap:square;stroke-width:0.8;\"/>\n     </g>\n     <g id=\"line2d_146\">\n      <g>\n       <use style=\"stroke:#000000;stroke-width:0.8;\" x=\"180.491356\" xlink:href=\"#mc9771deb23\" y=\"245.836875\"/>\n      </g>\n     </g>\n     <g id=\"text_73\">\n      <!-- 2 -->\n      <g transform=\"translate(183.250731 259.199375)rotate(-90)scale(0.1 -0.1)\">\n       <use xlink:href=\"#DejaVuSans-50\"/>\n      </g>\n     </g>\n    </g>\n    <g id=\"xtick_74\">\n     <g id=\"line2d_147\">\n      <path clip-path=\"url(#pc9f2e193b3)\" d=\"M 180.491356 245.836875 \nL 180.491356 28.396875 \n\" style=\"fill:none;stroke:#b0b0b0;stroke-linecap:square;stroke-width:0.8;\"/>\n     </g>\n     <g id=\"line2d_148\">\n      <g>\n       <use style=\"stroke:#000000;stroke-width:0.8;\" x=\"180.491356\" xlink:href=\"#mc9771deb23\" y=\"245.836875\"/>\n      </g>\n     </g>\n     <g id=\"text_74\">\n      <!-- 2 -->\n      <g transform=\"translate(183.250731 259.199375)rotate(-90)scale(0.1 -0.1)\">\n       <use xlink:href=\"#DejaVuSans-50\"/>\n      </g>\n     </g>\n    </g>\n    <g id=\"xtick_75\">\n     <g id=\"line2d_149\">\n      <path clip-path=\"url(#pc9f2e193b3)\" d=\"M 180.491356 245.836875 \nL 180.491356 28.396875 \n\" style=\"fill:none;stroke:#b0b0b0;stroke-linecap:square;stroke-width:0.8;\"/>\n     </g>\n     <g id=\"line2d_150\">\n      <g>\n       <use style=\"stroke:#000000;stroke-width:0.8;\" x=\"180.491356\" xlink:href=\"#mc9771deb23\" y=\"245.836875\"/>\n      </g>\n     </g>\n     <g id=\"text_75\">\n      <!-- 2 -->\n      <g transform=\"translate(183.250731 259.199375)rotate(-90)scale(0.1 -0.1)\">\n       <use xlink:href=\"#DejaVuSans-50\"/>\n      </g>\n     </g>\n    </g>\n    <g id=\"xtick_76\">\n     <g id=\"line2d_151\">\n      <path clip-path=\"url(#pc9f2e193b3)\" d=\"M 180.491356 245.836875 \nL 180.491356 28.396875 \n\" style=\"fill:none;stroke:#b0b0b0;stroke-linecap:square;stroke-width:0.8;\"/>\n     </g>\n     <g id=\"line2d_152\">\n      <g>\n       <use style=\"stroke:#000000;stroke-width:0.8;\" x=\"180.491356\" xlink:href=\"#mc9771deb23\" y=\"245.836875\"/>\n      </g>\n     </g>\n     <g id=\"text_76\">\n      <!-- 2 -->\n      <g transform=\"translate(183.250731 259.199375)rotate(-90)scale(0.1 -0.1)\">\n       <use xlink:href=\"#DejaVuSans-50\"/>\n      </g>\n     </g>\n    </g>\n    <g id=\"xtick_77\">\n     <g id=\"line2d_153\">\n      <path clip-path=\"url(#pc9f2e193b3)\" d=\"M 180.491356 245.836875 \nL 180.491356 28.396875 \n\" style=\"fill:none;stroke:#b0b0b0;stroke-linecap:square;stroke-width:0.8;\"/>\n     </g>\n     <g id=\"line2d_154\">\n      <g>\n       <use style=\"stroke:#000000;stroke-width:0.8;\" x=\"180.491356\" xlink:href=\"#mc9771deb23\" y=\"245.836875\"/>\n      </g>\n     </g>\n     <g id=\"text_77\">\n      <!-- 2 -->\n      <g transform=\"translate(183.250731 259.199375)rotate(-90)scale(0.1 -0.1)\">\n       <use xlink:href=\"#DejaVuSans-50\"/>\n      </g>\n     </g>\n    </g>\n    <g id=\"xtick_78\">\n     <g id=\"line2d_155\">\n      <path clip-path=\"url(#pc9f2e193b3)\" d=\"M 180.491356 245.836875 \nL 180.491356 28.396875 \n\" style=\"fill:none;stroke:#b0b0b0;stroke-linecap:square;stroke-width:0.8;\"/>\n     </g>\n     <g id=\"line2d_156\">\n      <g>\n       <use style=\"stroke:#000000;stroke-width:0.8;\" x=\"180.491356\" xlink:href=\"#mc9771deb23\" y=\"245.836875\"/>\n      </g>\n     </g>\n     <g id=\"text_78\">\n      <!-- 2 -->\n      <g transform=\"translate(183.250731 259.199375)rotate(-90)scale(0.1 -0.1)\">\n       <use xlink:href=\"#DejaVuSans-50\"/>\n      </g>\n     </g>\n    </g>\n    <g id=\"xtick_79\">\n     <g id=\"line2d_157\">\n      <path clip-path=\"url(#pc9f2e193b3)\" d=\"M 180.491356 245.836875 \nL 180.491356 28.396875 \n\" style=\"fill:none;stroke:#b0b0b0;stroke-linecap:square;stroke-width:0.8;\"/>\n     </g>\n     <g id=\"line2d_158\">\n      <g>\n       <use style=\"stroke:#000000;stroke-width:0.8;\" x=\"180.491356\" xlink:href=\"#mc9771deb23\" y=\"245.836875\"/>\n      </g>\n     </g>\n     <g id=\"text_79\">\n      <!-- 2 -->\n      <g transform=\"translate(183.250731 259.199375)rotate(-90)scale(0.1 -0.1)\">\n       <use xlink:href=\"#DejaVuSans-50\"/>\n      </g>\n     </g>\n    </g>\n    <g id=\"xtick_80\">\n     <g id=\"line2d_159\">\n      <path clip-path=\"url(#pc9f2e193b3)\" d=\"M 180.491356 245.836875 \nL 180.491356 28.396875 \n\" style=\"fill:none;stroke:#b0b0b0;stroke-linecap:square;stroke-width:0.8;\"/>\n     </g>\n     <g id=\"line2d_160\">\n      <g>\n       <use style=\"stroke:#000000;stroke-width:0.8;\" x=\"180.491356\" xlink:href=\"#mc9771deb23\" y=\"245.836875\"/>\n      </g>\n     </g>\n     <g id=\"text_80\">\n      <!-- 2 -->\n      <g transform=\"translate(183.250731 259.199375)rotate(-90)scale(0.1 -0.1)\">\n       <use xlink:href=\"#DejaVuSans-50\"/>\n      </g>\n     </g>\n    </g>\n    <g id=\"xtick_81\">\n     <g id=\"line2d_161\">\n      <path clip-path=\"url(#pc9f2e193b3)\" d=\"M 180.491356 245.836875 \nL 180.491356 28.396875 \n\" style=\"fill:none;stroke:#b0b0b0;stroke-linecap:square;stroke-width:0.8;\"/>\n     </g>\n     <g id=\"line2d_162\">\n      <g>\n       <use style=\"stroke:#000000;stroke-width:0.8;\" x=\"180.491356\" xlink:href=\"#mc9771deb23\" y=\"245.836875\"/>\n      </g>\n     </g>\n     <g id=\"text_81\">\n      <!-- 2 -->\n      <g transform=\"translate(183.250731 259.199375)rotate(-90)scale(0.1 -0.1)\">\n       <use xlink:href=\"#DejaVuSans-50\"/>\n      </g>\n     </g>\n    </g>\n    <g id=\"xtick_82\">\n     <g id=\"line2d_163\">\n      <path clip-path=\"url(#pc9f2e193b3)\" d=\"M 180.491356 245.836875 \nL 180.491356 28.396875 \n\" style=\"fill:none;stroke:#b0b0b0;stroke-linecap:square;stroke-width:0.8;\"/>\n     </g>\n     <g id=\"line2d_164\">\n      <g>\n       <use style=\"stroke:#000000;stroke-width:0.8;\" x=\"180.491356\" xlink:href=\"#mc9771deb23\" y=\"245.836875\"/>\n      </g>\n     </g>\n     <g id=\"text_82\">\n      <!-- 2 -->\n      <g transform=\"translate(183.250731 259.199375)rotate(-90)scale(0.1 -0.1)\">\n       <use xlink:href=\"#DejaVuSans-50\"/>\n      </g>\n     </g>\n    </g>\n    <g id=\"xtick_83\">\n     <g id=\"line2d_165\">\n      <path clip-path=\"url(#pc9f2e193b3)\" d=\"M 180.491356 245.836875 \nL 180.491356 28.396875 \n\" style=\"fill:none;stroke:#b0b0b0;stroke-linecap:square;stroke-width:0.8;\"/>\n     </g>\n     <g id=\"line2d_166\">\n      <g>\n       <use style=\"stroke:#000000;stroke-width:0.8;\" x=\"180.491356\" xlink:href=\"#mc9771deb23\" y=\"245.836875\"/>\n      </g>\n     </g>\n     <g id=\"text_83\">\n      <!-- 2 -->\n      <g transform=\"translate(183.250731 259.199375)rotate(-90)scale(0.1 -0.1)\">\n       <use xlink:href=\"#DejaVuSans-50\"/>\n      </g>\n     </g>\n    </g>\n    <g id=\"xtick_84\">\n     <g id=\"line2d_167\">\n      <path clip-path=\"url(#pc9f2e193b3)\" d=\"M 180.491356 245.836875 \nL 180.491356 28.396875 \n\" style=\"fill:none;stroke:#b0b0b0;stroke-linecap:square;stroke-width:0.8;\"/>\n     </g>\n     <g id=\"line2d_168\">\n      <g>\n       <use style=\"stroke:#000000;stroke-width:0.8;\" x=\"180.491356\" xlink:href=\"#mc9771deb23\" y=\"245.836875\"/>\n      </g>\n     </g>\n     <g id=\"text_84\">\n      <!-- 2 -->\n      <g transform=\"translate(183.250731 259.199375)rotate(-90)scale(0.1 -0.1)\">\n       <use xlink:href=\"#DejaVuSans-50\"/>\n      </g>\n     </g>\n    </g>\n    <g id=\"xtick_85\">\n     <g id=\"line2d_169\">\n      <path clip-path=\"url(#pc9f2e193b3)\" d=\"M 180.491356 245.836875 \nL 180.491356 28.396875 \n\" style=\"fill:none;stroke:#b0b0b0;stroke-linecap:square;stroke-width:0.8;\"/>\n     </g>\n     <g id=\"line2d_170\">\n      <g>\n       <use style=\"stroke:#000000;stroke-width:0.8;\" x=\"180.491356\" xlink:href=\"#mc9771deb23\" y=\"245.836875\"/>\n      </g>\n     </g>\n     <g id=\"text_85\">\n      <!-- 2 -->\n      <g transform=\"translate(183.250731 259.199375)rotate(-90)scale(0.1 -0.1)\">\n       <use xlink:href=\"#DejaVuSans-50\"/>\n      </g>\n     </g>\n    </g>\n    <g id=\"xtick_86\">\n     <g id=\"line2d_171\">\n      <path clip-path=\"url(#pc9f2e193b3)\" d=\"M 180.491356 245.836875 \nL 180.491356 28.396875 \n\" style=\"fill:none;stroke:#b0b0b0;stroke-linecap:square;stroke-width:0.8;\"/>\n     </g>\n     <g id=\"line2d_172\">\n      <g>\n       <use style=\"stroke:#000000;stroke-width:0.8;\" x=\"180.491356\" xlink:href=\"#mc9771deb23\" y=\"245.836875\"/>\n      </g>\n     </g>\n     <g id=\"text_86\">\n      <!-- 2 -->\n      <g transform=\"translate(183.250731 259.199375)rotate(-90)scale(0.1 -0.1)\">\n       <use xlink:href=\"#DejaVuSans-50\"/>\n      </g>\n     </g>\n    </g>\n    <g id=\"xtick_87\">\n     <g id=\"line2d_173\">\n      <path clip-path=\"url(#pc9f2e193b3)\" d=\"M 180.491356 245.836875 \nL 180.491356 28.396875 \n\" style=\"fill:none;stroke:#b0b0b0;stroke-linecap:square;stroke-width:0.8;\"/>\n     </g>\n     <g id=\"line2d_174\">\n      <g>\n       <use style=\"stroke:#000000;stroke-width:0.8;\" x=\"180.491356\" xlink:href=\"#mc9771deb23\" y=\"245.836875\"/>\n      </g>\n     </g>\n     <g id=\"text_87\">\n      <!-- 2 -->\n      <g transform=\"translate(183.250731 259.199375)rotate(-90)scale(0.1 -0.1)\">\n       <use xlink:href=\"#DejaVuSans-50\"/>\n      </g>\n     </g>\n    </g>\n    <g id=\"xtick_88\">\n     <g id=\"line2d_175\">\n      <path clip-path=\"url(#pc9f2e193b3)\" d=\"M 180.491356 245.836875 \nL 180.491356 28.396875 \n\" style=\"fill:none;stroke:#b0b0b0;stroke-linecap:square;stroke-width:0.8;\"/>\n     </g>\n     <g id=\"line2d_176\">\n      <g>\n       <use style=\"stroke:#000000;stroke-width:0.8;\" x=\"180.491356\" xlink:href=\"#mc9771deb23\" y=\"245.836875\"/>\n      </g>\n     </g>\n     <g id=\"text_88\">\n      <!-- 2 -->\n      <g transform=\"translate(183.250731 259.199375)rotate(-90)scale(0.1 -0.1)\">\n       <use xlink:href=\"#DejaVuSans-50\"/>\n      </g>\n     </g>\n    </g>\n    <g id=\"xtick_89\">\n     <g id=\"line2d_177\">\n      <path clip-path=\"url(#pc9f2e193b3)\" d=\"M 180.491356 245.836875 \nL 180.491356 28.396875 \n\" style=\"fill:none;stroke:#b0b0b0;stroke-linecap:square;stroke-width:0.8;\"/>\n     </g>\n     <g id=\"line2d_178\">\n      <g>\n       <use style=\"stroke:#000000;stroke-width:0.8;\" x=\"180.491356\" xlink:href=\"#mc9771deb23\" y=\"245.836875\"/>\n      </g>\n     </g>\n     <g id=\"text_89\">\n      <!-- 2 -->\n      <g transform=\"translate(183.250731 259.199375)rotate(-90)scale(0.1 -0.1)\">\n       <use xlink:href=\"#DejaVuSans-50\"/>\n      </g>\n     </g>\n    </g>\n    <g id=\"xtick_90\">\n     <g id=\"line2d_179\">\n      <path clip-path=\"url(#pc9f2e193b3)\" d=\"M 180.491356 245.836875 \nL 180.491356 28.396875 \n\" style=\"fill:none;stroke:#b0b0b0;stroke-linecap:square;stroke-width:0.8;\"/>\n     </g>\n     <g id=\"line2d_180\">\n      <g>\n       <use style=\"stroke:#000000;stroke-width:0.8;\" x=\"180.491356\" xlink:href=\"#mc9771deb23\" y=\"245.836875\"/>\n      </g>\n     </g>\n     <g id=\"text_90\">\n      <!-- 2 -->\n      <g transform=\"translate(183.250731 259.199375)rotate(-90)scale(0.1 -0.1)\">\n       <use xlink:href=\"#DejaVuSans-50\"/>\n      </g>\n     </g>\n    </g>\n    <g id=\"xtick_91\">\n     <g id=\"line2d_181\">\n      <path clip-path=\"url(#pc9f2e193b3)\" d=\"M 180.491356 245.836875 \nL 180.491356 28.396875 \n\" style=\"fill:none;stroke:#b0b0b0;stroke-linecap:square;stroke-width:0.8;\"/>\n     </g>\n     <g id=\"line2d_182\">\n      <g>\n       <use style=\"stroke:#000000;stroke-width:0.8;\" x=\"180.491356\" xlink:href=\"#mc9771deb23\" y=\"245.836875\"/>\n      </g>\n     </g>\n     <g id=\"text_91\">\n      <!-- 2 -->\n      <g transform=\"translate(183.250731 259.199375)rotate(-90)scale(0.1 -0.1)\">\n       <use xlink:href=\"#DejaVuSans-50\"/>\n      </g>\n     </g>\n    </g>\n    <g id=\"xtick_92\">\n     <g id=\"line2d_183\">\n      <path clip-path=\"url(#pc9f2e193b3)\" d=\"M 180.491356 245.836875 \nL 180.491356 28.396875 \n\" style=\"fill:none;stroke:#b0b0b0;stroke-linecap:square;stroke-width:0.8;\"/>\n     </g>\n     <g id=\"line2d_184\">\n      <g>\n       <use style=\"stroke:#000000;stroke-width:0.8;\" x=\"180.491356\" xlink:href=\"#mc9771deb23\" y=\"245.836875\"/>\n      </g>\n     </g>\n     <g id=\"text_92\">\n      <!-- 2 -->\n      <g transform=\"translate(183.250731 259.199375)rotate(-90)scale(0.1 -0.1)\">\n       <use xlink:href=\"#DejaVuSans-50\"/>\n      </g>\n     </g>\n    </g>\n    <g id=\"xtick_93\">\n     <g id=\"line2d_185\">\n      <path clip-path=\"url(#pc9f2e193b3)\" d=\"M 180.491356 245.836875 \nL 180.491356 28.396875 \n\" style=\"fill:none;stroke:#b0b0b0;stroke-linecap:square;stroke-width:0.8;\"/>\n     </g>\n     <g id=\"line2d_186\">\n      <g>\n       <use style=\"stroke:#000000;stroke-width:0.8;\" x=\"180.491356\" xlink:href=\"#mc9771deb23\" y=\"245.836875\"/>\n      </g>\n     </g>\n     <g id=\"text_93\">\n      <!-- 2 -->\n      <g transform=\"translate(183.250731 259.199375)rotate(-90)scale(0.1 -0.1)\">\n       <use xlink:href=\"#DejaVuSans-50\"/>\n      </g>\n     </g>\n    </g>\n    <g id=\"xtick_94\">\n     <g id=\"line2d_187\">\n      <path clip-path=\"url(#pc9f2e193b3)\" d=\"M 180.491356 245.836875 \nL 180.491356 28.396875 \n\" style=\"fill:none;stroke:#b0b0b0;stroke-linecap:square;stroke-width:0.8;\"/>\n     </g>\n     <g id=\"line2d_188\">\n      <g>\n       <use style=\"stroke:#000000;stroke-width:0.8;\" x=\"180.491356\" xlink:href=\"#mc9771deb23\" y=\"245.836875\"/>\n      </g>\n     </g>\n     <g id=\"text_94\">\n      <!-- 2 -->\n      <g transform=\"translate(183.250731 259.199375)rotate(-90)scale(0.1 -0.1)\">\n       <use xlink:href=\"#DejaVuSans-50\"/>\n      </g>\n     </g>\n    </g>\n    <g id=\"xtick_95\">\n     <g id=\"line2d_189\">\n      <path clip-path=\"url(#pc9f2e193b3)\" d=\"M 180.491356 245.836875 \nL 180.491356 28.396875 \n\" style=\"fill:none;stroke:#b0b0b0;stroke-linecap:square;stroke-width:0.8;\"/>\n     </g>\n     <g id=\"line2d_190\">\n      <g>\n       <use style=\"stroke:#000000;stroke-width:0.8;\" x=\"180.491356\" xlink:href=\"#mc9771deb23\" y=\"245.836875\"/>\n      </g>\n     </g>\n     <g id=\"text_95\">\n      <!-- 2 -->\n      <g transform=\"translate(183.250731 259.199375)rotate(-90)scale(0.1 -0.1)\">\n       <use xlink:href=\"#DejaVuSans-50\"/>\n      </g>\n     </g>\n    </g>\n    <g id=\"xtick_96\">\n     <g id=\"line2d_191\">\n      <path clip-path=\"url(#pc9f2e193b3)\" d=\"M 180.491356 245.836875 \nL 180.491356 28.396875 \n\" style=\"fill:none;stroke:#b0b0b0;stroke-linecap:square;stroke-width:0.8;\"/>\n     </g>\n     <g id=\"line2d_192\">\n      <g>\n       <use style=\"stroke:#000000;stroke-width:0.8;\" x=\"180.491356\" xlink:href=\"#mc9771deb23\" y=\"245.836875\"/>\n      </g>\n     </g>\n     <g id=\"text_96\">\n      <!-- 2 -->\n      <g transform=\"translate(183.250731 259.199375)rotate(-90)scale(0.1 -0.1)\">\n       <use xlink:href=\"#DejaVuSans-50\"/>\n      </g>\n     </g>\n    </g>\n    <g id=\"xtick_97\">\n     <g id=\"line2d_193\">\n      <path clip-path=\"url(#pc9f2e193b3)\" d=\"M 223.971875 245.836875 \nL 223.971875 28.396875 \n\" style=\"fill:none;stroke:#b0b0b0;stroke-linecap:square;stroke-width:0.8;\"/>\n     </g>\n     <g id=\"line2d_194\">\n      <g>\n       <use style=\"stroke:#000000;stroke-width:0.8;\" x=\"223.971875\" xlink:href=\"#mc9771deb23\" y=\"245.836875\"/>\n      </g>\n     </g>\n     <g id=\"text_97\">\n      <!-- 3 -->\n      <g transform=\"translate(226.73125 259.199375)rotate(-90)scale(0.1 -0.1)\">\n       <defs>\n        <path d=\"M 40.578125 39.3125 \nQ 47.65625 37.796875 51.625 33 \nQ 55.609375 28.21875 55.609375 21.1875 \nQ 55.609375 10.40625 48.1875 4.484375 \nQ 40.765625 -1.421875 27.09375 -1.421875 \nQ 22.515625 -1.421875 17.65625 -0.515625 \nQ 12.796875 0.390625 7.625 2.203125 \nL 7.625 11.71875 \nQ 11.71875 9.328125 16.59375 8.109375 \nQ 21.484375 6.890625 26.8125 6.890625 \nQ 36.078125 6.890625 40.9375 10.546875 \nQ 45.796875 14.203125 45.796875 21.1875 \nQ 45.796875 27.640625 41.28125 31.265625 \nQ 36.765625 34.90625 28.71875 34.90625 \nL 20.21875 34.90625 \nL 20.21875 43.015625 \nL 29.109375 43.015625 \nQ 36.375 43.015625 40.234375 45.921875 \nQ 44.09375 48.828125 44.09375 54.296875 \nQ 44.09375 59.90625 40.109375 62.90625 \nQ 36.140625 65.921875 28.71875 65.921875 \nQ 24.65625 65.921875 20.015625 65.03125 \nQ 15.375 64.15625 9.8125 62.3125 \nL 9.8125 71.09375 \nQ 15.4375 72.65625 20.34375 73.4375 \nQ 25.25 74.21875 29.59375 74.21875 \nQ 40.828125 74.21875 47.359375 69.109375 \nQ 53.90625 64.015625 53.90625 55.328125 \nQ 53.90625 49.265625 50.4375 45.09375 \nQ 46.96875 40.921875 40.578125 39.3125 \nz\n\" id=\"DejaVuSans-51\"/>\n       </defs>\n       <use xlink:href=\"#DejaVuSans-51\"/>\n      </g>\n     </g>\n    </g>\n    <g id=\"xtick_98\">\n     <g id=\"line2d_195\">\n      <path clip-path=\"url(#pc9f2e193b3)\" d=\"M 223.971875 245.836875 \nL 223.971875 28.396875 \n\" style=\"fill:none;stroke:#b0b0b0;stroke-linecap:square;stroke-width:0.8;\"/>\n     </g>\n     <g id=\"line2d_196\">\n      <g>\n       <use style=\"stroke:#000000;stroke-width:0.8;\" x=\"223.971875\" xlink:href=\"#mc9771deb23\" y=\"245.836875\"/>\n      </g>\n     </g>\n     <g id=\"text_98\">\n      <!-- 3 -->\n      <g transform=\"translate(226.73125 259.199375)rotate(-90)scale(0.1 -0.1)\">\n       <use xlink:href=\"#DejaVuSans-51\"/>\n      </g>\n     </g>\n    </g>\n    <g id=\"xtick_99\">\n     <g id=\"line2d_197\">\n      <path clip-path=\"url(#pc9f2e193b3)\" d=\"M 223.971875 245.836875 \nL 223.971875 28.396875 \n\" style=\"fill:none;stroke:#b0b0b0;stroke-linecap:square;stroke-width:0.8;\"/>\n     </g>\n     <g id=\"line2d_198\">\n      <g>\n       <use style=\"stroke:#000000;stroke-width:0.8;\" x=\"223.971875\" xlink:href=\"#mc9771deb23\" y=\"245.836875\"/>\n      </g>\n     </g>\n     <g id=\"text_99\">\n      <!-- 3 -->\n      <g transform=\"translate(226.73125 259.199375)rotate(-90)scale(0.1 -0.1)\">\n       <use xlink:href=\"#DejaVuSans-51\"/>\n      </g>\n     </g>\n    </g>\n    <g id=\"xtick_100\">\n     <g id=\"line2d_199\">\n      <path clip-path=\"url(#pc9f2e193b3)\" d=\"M 223.971875 245.836875 \nL 223.971875 28.396875 \n\" style=\"fill:none;stroke:#b0b0b0;stroke-linecap:square;stroke-width:0.8;\"/>\n     </g>\n     <g id=\"line2d_200\">\n      <g>\n       <use style=\"stroke:#000000;stroke-width:0.8;\" x=\"223.971875\" xlink:href=\"#mc9771deb23\" y=\"245.836875\"/>\n      </g>\n     </g>\n     <g id=\"text_100\">\n      <!-- 3 -->\n      <g transform=\"translate(226.73125 259.199375)rotate(-90)scale(0.1 -0.1)\">\n       <use xlink:href=\"#DejaVuSans-51\"/>\n      </g>\n     </g>\n    </g>\n    <g id=\"xtick_101\">\n     <g id=\"line2d_201\">\n      <path clip-path=\"url(#pc9f2e193b3)\" d=\"M 223.971875 245.836875 \nL 223.971875 28.396875 \n\" style=\"fill:none;stroke:#b0b0b0;stroke-linecap:square;stroke-width:0.8;\"/>\n     </g>\n     <g id=\"line2d_202\">\n      <g>\n       <use style=\"stroke:#000000;stroke-width:0.8;\" x=\"223.971875\" xlink:href=\"#mc9771deb23\" y=\"245.836875\"/>\n      </g>\n     </g>\n     <g id=\"text_101\">\n      <!-- 3 -->\n      <g transform=\"translate(226.73125 259.199375)rotate(-90)scale(0.1 -0.1)\">\n       <use xlink:href=\"#DejaVuSans-51\"/>\n      </g>\n     </g>\n    </g>\n    <g id=\"xtick_102\">\n     <g id=\"line2d_203\">\n      <path clip-path=\"url(#pc9f2e193b3)\" d=\"M 223.971875 245.836875 \nL 223.971875 28.396875 \n\" style=\"fill:none;stroke:#b0b0b0;stroke-linecap:square;stroke-width:0.8;\"/>\n     </g>\n     <g id=\"line2d_204\">\n      <g>\n       <use style=\"stroke:#000000;stroke-width:0.8;\" x=\"223.971875\" xlink:href=\"#mc9771deb23\" y=\"245.836875\"/>\n      </g>\n     </g>\n     <g id=\"text_102\">\n      <!-- 3 -->\n      <g transform=\"translate(226.73125 259.199375)rotate(-90)scale(0.1 -0.1)\">\n       <use xlink:href=\"#DejaVuSans-51\"/>\n      </g>\n     </g>\n    </g>\n    <g id=\"xtick_103\">\n     <g id=\"line2d_205\">\n      <path clip-path=\"url(#pc9f2e193b3)\" d=\"M 223.971875 245.836875 \nL 223.971875 28.396875 \n\" style=\"fill:none;stroke:#b0b0b0;stroke-linecap:square;stroke-width:0.8;\"/>\n     </g>\n     <g id=\"line2d_206\">\n      <g>\n       <use style=\"stroke:#000000;stroke-width:0.8;\" x=\"223.971875\" xlink:href=\"#mc9771deb23\" y=\"245.836875\"/>\n      </g>\n     </g>\n     <g id=\"text_103\">\n      <!-- 3 -->\n      <g transform=\"translate(226.73125 259.199375)rotate(-90)scale(0.1 -0.1)\">\n       <use xlink:href=\"#DejaVuSans-51\"/>\n      </g>\n     </g>\n    </g>\n    <g id=\"xtick_104\">\n     <g id=\"line2d_207\">\n      <path clip-path=\"url(#pc9f2e193b3)\" d=\"M 223.971875 245.836875 \nL 223.971875 28.396875 \n\" style=\"fill:none;stroke:#b0b0b0;stroke-linecap:square;stroke-width:0.8;\"/>\n     </g>\n     <g id=\"line2d_208\">\n      <g>\n       <use style=\"stroke:#000000;stroke-width:0.8;\" x=\"223.971875\" xlink:href=\"#mc9771deb23\" y=\"245.836875\"/>\n      </g>\n     </g>\n     <g id=\"text_104\">\n      <!-- 3 -->\n      <g transform=\"translate(226.73125 259.199375)rotate(-90)scale(0.1 -0.1)\">\n       <use xlink:href=\"#DejaVuSans-51\"/>\n      </g>\n     </g>\n    </g>\n    <g id=\"xtick_105\">\n     <g id=\"line2d_209\">\n      <path clip-path=\"url(#pc9f2e193b3)\" d=\"M 223.971875 245.836875 \nL 223.971875 28.396875 \n\" style=\"fill:none;stroke:#b0b0b0;stroke-linecap:square;stroke-width:0.8;\"/>\n     </g>\n     <g id=\"line2d_210\">\n      <g>\n       <use style=\"stroke:#000000;stroke-width:0.8;\" x=\"223.971875\" xlink:href=\"#mc9771deb23\" y=\"245.836875\"/>\n      </g>\n     </g>\n     <g id=\"text_105\">\n      <!-- 3 -->\n      <g transform=\"translate(226.73125 259.199375)rotate(-90)scale(0.1 -0.1)\">\n       <use xlink:href=\"#DejaVuSans-51\"/>\n      </g>\n     </g>\n    </g>\n    <g id=\"xtick_106\">\n     <g id=\"line2d_211\">\n      <path clip-path=\"url(#pc9f2e193b3)\" d=\"M 223.971875 245.836875 \nL 223.971875 28.396875 \n\" style=\"fill:none;stroke:#b0b0b0;stroke-linecap:square;stroke-width:0.8;\"/>\n     </g>\n     <g id=\"line2d_212\">\n      <g>\n       <use style=\"stroke:#000000;stroke-width:0.8;\" x=\"223.971875\" xlink:href=\"#mc9771deb23\" y=\"245.836875\"/>\n      </g>\n     </g>\n     <g id=\"text_106\">\n      <!-- 3 -->\n      <g transform=\"translate(226.73125 259.199375)rotate(-90)scale(0.1 -0.1)\">\n       <use xlink:href=\"#DejaVuSans-51\"/>\n      </g>\n     </g>\n    </g>\n    <g id=\"xtick_107\">\n     <g id=\"line2d_213\">\n      <path clip-path=\"url(#pc9f2e193b3)\" d=\"M 223.971875 245.836875 \nL 223.971875 28.396875 \n\" style=\"fill:none;stroke:#b0b0b0;stroke-linecap:square;stroke-width:0.8;\"/>\n     </g>\n     <g id=\"line2d_214\">\n      <g>\n       <use style=\"stroke:#000000;stroke-width:0.8;\" x=\"223.971875\" xlink:href=\"#mc9771deb23\" y=\"245.836875\"/>\n      </g>\n     </g>\n     <g id=\"text_107\">\n      <!-- 3 -->\n      <g transform=\"translate(226.73125 259.199375)rotate(-90)scale(0.1 -0.1)\">\n       <use xlink:href=\"#DejaVuSans-51\"/>\n      </g>\n     </g>\n    </g>\n    <g id=\"xtick_108\">\n     <g id=\"line2d_215\">\n      <path clip-path=\"url(#pc9f2e193b3)\" d=\"M 223.971875 245.836875 \nL 223.971875 28.396875 \n\" style=\"fill:none;stroke:#b0b0b0;stroke-linecap:square;stroke-width:0.8;\"/>\n     </g>\n     <g id=\"line2d_216\">\n      <g>\n       <use style=\"stroke:#000000;stroke-width:0.8;\" x=\"223.971875\" xlink:href=\"#mc9771deb23\" y=\"245.836875\"/>\n      </g>\n     </g>\n     <g id=\"text_108\">\n      <!-- 3 -->\n      <g transform=\"translate(226.73125 259.199375)rotate(-90)scale(0.1 -0.1)\">\n       <use xlink:href=\"#DejaVuSans-51\"/>\n      </g>\n     </g>\n    </g>\n    <g id=\"xtick_109\">\n     <g id=\"line2d_217\">\n      <path clip-path=\"url(#pc9f2e193b3)\" d=\"M 223.971875 245.836875 \nL 223.971875 28.396875 \n\" style=\"fill:none;stroke:#b0b0b0;stroke-linecap:square;stroke-width:0.8;\"/>\n     </g>\n     <g id=\"line2d_218\">\n      <g>\n       <use style=\"stroke:#000000;stroke-width:0.8;\" x=\"223.971875\" xlink:href=\"#mc9771deb23\" y=\"245.836875\"/>\n      </g>\n     </g>\n     <g id=\"text_109\">\n      <!-- 3 -->\n      <g transform=\"translate(226.73125 259.199375)rotate(-90)scale(0.1 -0.1)\">\n       <use xlink:href=\"#DejaVuSans-51\"/>\n      </g>\n     </g>\n    </g>\n    <g id=\"xtick_110\">\n     <g id=\"line2d_219\">\n      <path clip-path=\"url(#pc9f2e193b3)\" d=\"M 223.971875 245.836875 \nL 223.971875 28.396875 \n\" style=\"fill:none;stroke:#b0b0b0;stroke-linecap:square;stroke-width:0.8;\"/>\n     </g>\n     <g id=\"line2d_220\">\n      <g>\n       <use style=\"stroke:#000000;stroke-width:0.8;\" x=\"223.971875\" xlink:href=\"#mc9771deb23\" y=\"245.836875\"/>\n      </g>\n     </g>\n     <g id=\"text_110\">\n      <!-- 3 -->\n      <g transform=\"translate(226.73125 259.199375)rotate(-90)scale(0.1 -0.1)\">\n       <use xlink:href=\"#DejaVuSans-51\"/>\n      </g>\n     </g>\n    </g>\n    <g id=\"xtick_111\">\n     <g id=\"line2d_221\">\n      <path clip-path=\"url(#pc9f2e193b3)\" d=\"M 223.971875 245.836875 \nL 223.971875 28.396875 \n\" style=\"fill:none;stroke:#b0b0b0;stroke-linecap:square;stroke-width:0.8;\"/>\n     </g>\n     <g id=\"line2d_222\">\n      <g>\n       <use style=\"stroke:#000000;stroke-width:0.8;\" x=\"223.971875\" xlink:href=\"#mc9771deb23\" y=\"245.836875\"/>\n      </g>\n     </g>\n     <g id=\"text_111\">\n      <!-- 3 -->\n      <g transform=\"translate(226.73125 259.199375)rotate(-90)scale(0.1 -0.1)\">\n       <use xlink:href=\"#DejaVuSans-51\"/>\n      </g>\n     </g>\n    </g>\n    <g id=\"xtick_112\">\n     <g id=\"line2d_223\">\n      <path clip-path=\"url(#pc9f2e193b3)\" d=\"M 223.971875 245.836875 \nL 223.971875 28.396875 \n\" style=\"fill:none;stroke:#b0b0b0;stroke-linecap:square;stroke-width:0.8;\"/>\n     </g>\n     <g id=\"line2d_224\">\n      <g>\n       <use style=\"stroke:#000000;stroke-width:0.8;\" x=\"223.971875\" xlink:href=\"#mc9771deb23\" y=\"245.836875\"/>\n      </g>\n     </g>\n     <g id=\"text_112\">\n      <!-- 3 -->\n      <g transform=\"translate(226.73125 259.199375)rotate(-90)scale(0.1 -0.1)\">\n       <use xlink:href=\"#DejaVuSans-51\"/>\n      </g>\n     </g>\n    </g>\n    <g id=\"xtick_113\">\n     <g id=\"line2d_225\">\n      <path clip-path=\"url(#pc9f2e193b3)\" d=\"M 223.971875 245.836875 \nL 223.971875 28.396875 \n\" style=\"fill:none;stroke:#b0b0b0;stroke-linecap:square;stroke-width:0.8;\"/>\n     </g>\n     <g id=\"line2d_226\">\n      <g>\n       <use style=\"stroke:#000000;stroke-width:0.8;\" x=\"223.971875\" xlink:href=\"#mc9771deb23\" y=\"245.836875\"/>\n      </g>\n     </g>\n     <g id=\"text_113\">\n      <!-- 3 -->\n      <g transform=\"translate(226.73125 259.199375)rotate(-90)scale(0.1 -0.1)\">\n       <use xlink:href=\"#DejaVuSans-51\"/>\n      </g>\n     </g>\n    </g>\n    <g id=\"xtick_114\">\n     <g id=\"line2d_227\">\n      <path clip-path=\"url(#pc9f2e193b3)\" d=\"M 223.971875 245.836875 \nL 223.971875 28.396875 \n\" style=\"fill:none;stroke:#b0b0b0;stroke-linecap:square;stroke-width:0.8;\"/>\n     </g>\n     <g id=\"line2d_228\">\n      <g>\n       <use style=\"stroke:#000000;stroke-width:0.8;\" x=\"223.971875\" xlink:href=\"#mc9771deb23\" y=\"245.836875\"/>\n      </g>\n     </g>\n     <g id=\"text_114\">\n      <!-- 3 -->\n      <g transform=\"translate(226.73125 259.199375)rotate(-90)scale(0.1 -0.1)\">\n       <use xlink:href=\"#DejaVuSans-51\"/>\n      </g>\n     </g>\n    </g>\n    <g id=\"xtick_115\">\n     <g id=\"line2d_229\">\n      <path clip-path=\"url(#pc9f2e193b3)\" d=\"M 223.971875 245.836875 \nL 223.971875 28.396875 \n\" style=\"fill:none;stroke:#b0b0b0;stroke-linecap:square;stroke-width:0.8;\"/>\n     </g>\n     <g id=\"line2d_230\">\n      <g>\n       <use style=\"stroke:#000000;stroke-width:0.8;\" x=\"223.971875\" xlink:href=\"#mc9771deb23\" y=\"245.836875\"/>\n      </g>\n     </g>\n     <g id=\"text_115\">\n      <!-- 3 -->\n      <g transform=\"translate(226.73125 259.199375)rotate(-90)scale(0.1 -0.1)\">\n       <use xlink:href=\"#DejaVuSans-51\"/>\n      </g>\n     </g>\n    </g>\n    <g id=\"xtick_116\">\n     <g id=\"line2d_231\">\n      <path clip-path=\"url(#pc9f2e193b3)\" d=\"M 223.971875 245.836875 \nL 223.971875 28.396875 \n\" style=\"fill:none;stroke:#b0b0b0;stroke-linecap:square;stroke-width:0.8;\"/>\n     </g>\n     <g id=\"line2d_232\">\n      <g>\n       <use style=\"stroke:#000000;stroke-width:0.8;\" x=\"223.971875\" xlink:href=\"#mc9771deb23\" y=\"245.836875\"/>\n      </g>\n     </g>\n     <g id=\"text_116\">\n      <!-- 3 -->\n      <g transform=\"translate(226.73125 259.199375)rotate(-90)scale(0.1 -0.1)\">\n       <use xlink:href=\"#DejaVuSans-51\"/>\n      </g>\n     </g>\n    </g>\n    <g id=\"xtick_117\">\n     <g id=\"line2d_233\">\n      <path clip-path=\"url(#pc9f2e193b3)\" d=\"M 223.971875 245.836875 \nL 223.971875 28.396875 \n\" style=\"fill:none;stroke:#b0b0b0;stroke-linecap:square;stroke-width:0.8;\"/>\n     </g>\n     <g id=\"line2d_234\">\n      <g>\n       <use style=\"stroke:#000000;stroke-width:0.8;\" x=\"223.971875\" xlink:href=\"#mc9771deb23\" y=\"245.836875\"/>\n      </g>\n     </g>\n     <g id=\"text_117\">\n      <!-- 3 -->\n      <g transform=\"translate(226.73125 259.199375)rotate(-90)scale(0.1 -0.1)\">\n       <use xlink:href=\"#DejaVuSans-51\"/>\n      </g>\n     </g>\n    </g>\n    <g id=\"xtick_118\">\n     <g id=\"line2d_235\">\n      <path clip-path=\"url(#pc9f2e193b3)\" d=\"M 223.971875 245.836875 \nL 223.971875 28.396875 \n\" style=\"fill:none;stroke:#b0b0b0;stroke-linecap:square;stroke-width:0.8;\"/>\n     </g>\n     <g id=\"line2d_236\">\n      <g>\n       <use style=\"stroke:#000000;stroke-width:0.8;\" x=\"223.971875\" xlink:href=\"#mc9771deb23\" y=\"245.836875\"/>\n      </g>\n     </g>\n     <g id=\"text_118\">\n      <!-- 3 -->\n      <g transform=\"translate(226.73125 259.199375)rotate(-90)scale(0.1 -0.1)\">\n       <use xlink:href=\"#DejaVuSans-51\"/>\n      </g>\n     </g>\n    </g>\n    <g id=\"xtick_119\">\n     <g id=\"line2d_237\">\n      <path clip-path=\"url(#pc9f2e193b3)\" d=\"M 223.971875 245.836875 \nL 223.971875 28.396875 \n\" style=\"fill:none;stroke:#b0b0b0;stroke-linecap:square;stroke-width:0.8;\"/>\n     </g>\n     <g id=\"line2d_238\">\n      <g>\n       <use style=\"stroke:#000000;stroke-width:0.8;\" x=\"223.971875\" xlink:href=\"#mc9771deb23\" y=\"245.836875\"/>\n      </g>\n     </g>\n     <g id=\"text_119\">\n      <!-- 3 -->\n      <g transform=\"translate(226.73125 259.199375)rotate(-90)scale(0.1 -0.1)\">\n       <use xlink:href=\"#DejaVuSans-51\"/>\n      </g>\n     </g>\n    </g>\n    <g id=\"xtick_120\">\n     <g id=\"line2d_239\">\n      <path clip-path=\"url(#pc9f2e193b3)\" d=\"M 223.971875 245.836875 \nL 223.971875 28.396875 \n\" style=\"fill:none;stroke:#b0b0b0;stroke-linecap:square;stroke-width:0.8;\"/>\n     </g>\n     <g id=\"line2d_240\">\n      <g>\n       <use style=\"stroke:#000000;stroke-width:0.8;\" x=\"223.971875\" xlink:href=\"#mc9771deb23\" y=\"245.836875\"/>\n      </g>\n     </g>\n     <g id=\"text_120\">\n      <!-- 3 -->\n      <g transform=\"translate(226.73125 259.199375)rotate(-90)scale(0.1 -0.1)\">\n       <use xlink:href=\"#DejaVuSans-51\"/>\n      </g>\n     </g>\n    </g>\n    <g id=\"xtick_121\">\n     <g id=\"line2d_241\">\n      <path clip-path=\"url(#pc9f2e193b3)\" d=\"M 223.971875 245.836875 \nL 223.971875 28.396875 \n\" style=\"fill:none;stroke:#b0b0b0;stroke-linecap:square;stroke-width:0.8;\"/>\n     </g>\n     <g id=\"line2d_242\">\n      <g>\n       <use style=\"stroke:#000000;stroke-width:0.8;\" x=\"223.971875\" xlink:href=\"#mc9771deb23\" y=\"245.836875\"/>\n      </g>\n     </g>\n     <g id=\"text_121\">\n      <!-- 3 -->\n      <g transform=\"translate(226.73125 259.199375)rotate(-90)scale(0.1 -0.1)\">\n       <use xlink:href=\"#DejaVuSans-51\"/>\n      </g>\n     </g>\n    </g>\n    <g id=\"xtick_122\">\n     <g id=\"line2d_243\">\n      <path clip-path=\"url(#pc9f2e193b3)\" d=\"M 223.971875 245.836875 \nL 223.971875 28.396875 \n\" style=\"fill:none;stroke:#b0b0b0;stroke-linecap:square;stroke-width:0.8;\"/>\n     </g>\n     <g id=\"line2d_244\">\n      <g>\n       <use style=\"stroke:#000000;stroke-width:0.8;\" x=\"223.971875\" xlink:href=\"#mc9771deb23\" y=\"245.836875\"/>\n      </g>\n     </g>\n     <g id=\"text_122\">\n      <!-- 3 -->\n      <g transform=\"translate(226.73125 259.199375)rotate(-90)scale(0.1 -0.1)\">\n       <use xlink:href=\"#DejaVuSans-51\"/>\n      </g>\n     </g>\n    </g>\n    <g id=\"xtick_123\">\n     <g id=\"line2d_245\">\n      <path clip-path=\"url(#pc9f2e193b3)\" d=\"M 223.971875 245.836875 \nL 223.971875 28.396875 \n\" style=\"fill:none;stroke:#b0b0b0;stroke-linecap:square;stroke-width:0.8;\"/>\n     </g>\n     <g id=\"line2d_246\">\n      <g>\n       <use style=\"stroke:#000000;stroke-width:0.8;\" x=\"223.971875\" xlink:href=\"#mc9771deb23\" y=\"245.836875\"/>\n      </g>\n     </g>\n     <g id=\"text_123\">\n      <!-- 3 -->\n      <g transform=\"translate(226.73125 259.199375)rotate(-90)scale(0.1 -0.1)\">\n       <use xlink:href=\"#DejaVuSans-51\"/>\n      </g>\n     </g>\n    </g>\n    <g id=\"xtick_124\">\n     <g id=\"line2d_247\">\n      <path clip-path=\"url(#pc9f2e193b3)\" d=\"M 223.971875 245.836875 \nL 223.971875 28.396875 \n\" style=\"fill:none;stroke:#b0b0b0;stroke-linecap:square;stroke-width:0.8;\"/>\n     </g>\n     <g id=\"line2d_248\">\n      <g>\n       <use style=\"stroke:#000000;stroke-width:0.8;\" x=\"223.971875\" xlink:href=\"#mc9771deb23\" y=\"245.836875\"/>\n      </g>\n     </g>\n     <g id=\"text_124\">\n      <!-- 3 -->\n      <g transform=\"translate(226.73125 259.199375)rotate(-90)scale(0.1 -0.1)\">\n       <use xlink:href=\"#DejaVuSans-51\"/>\n      </g>\n     </g>\n    </g>\n    <g id=\"xtick_125\">\n     <g id=\"line2d_249\">\n      <path clip-path=\"url(#pc9f2e193b3)\" d=\"M 223.971875 245.836875 \nL 223.971875 28.396875 \n\" style=\"fill:none;stroke:#b0b0b0;stroke-linecap:square;stroke-width:0.8;\"/>\n     </g>\n     <g id=\"line2d_250\">\n      <g>\n       <use style=\"stroke:#000000;stroke-width:0.8;\" x=\"223.971875\" xlink:href=\"#mc9771deb23\" y=\"245.836875\"/>\n      </g>\n     </g>\n     <g id=\"text_125\">\n      <!-- 3 -->\n      <g transform=\"translate(226.73125 259.199375)rotate(-90)scale(0.1 -0.1)\">\n       <use xlink:href=\"#DejaVuSans-51\"/>\n      </g>\n     </g>\n    </g>\n    <g id=\"xtick_126\">\n     <g id=\"line2d_251\">\n      <path clip-path=\"url(#pc9f2e193b3)\" d=\"M 223.971875 245.836875 \nL 223.971875 28.396875 \n\" style=\"fill:none;stroke:#b0b0b0;stroke-linecap:square;stroke-width:0.8;\"/>\n     </g>\n     <g id=\"line2d_252\">\n      <g>\n       <use style=\"stroke:#000000;stroke-width:0.8;\" x=\"223.971875\" xlink:href=\"#mc9771deb23\" y=\"245.836875\"/>\n      </g>\n     </g>\n     <g id=\"text_126\">\n      <!-- 3 -->\n      <g transform=\"translate(226.73125 259.199375)rotate(-90)scale(0.1 -0.1)\">\n       <use xlink:href=\"#DejaVuSans-51\"/>\n      </g>\n     </g>\n    </g>\n    <g id=\"xtick_127\">\n     <g id=\"line2d_253\">\n      <path clip-path=\"url(#pc9f2e193b3)\" d=\"M 223.971875 245.836875 \nL 223.971875 28.396875 \n\" style=\"fill:none;stroke:#b0b0b0;stroke-linecap:square;stroke-width:0.8;\"/>\n     </g>\n     <g id=\"line2d_254\">\n      <g>\n       <use style=\"stroke:#000000;stroke-width:0.8;\" x=\"223.971875\" xlink:href=\"#mc9771deb23\" y=\"245.836875\"/>\n      </g>\n     </g>\n     <g id=\"text_127\">\n      <!-- 3 -->\n      <g transform=\"translate(226.73125 259.199375)rotate(-90)scale(0.1 -0.1)\">\n       <use xlink:href=\"#DejaVuSans-51\"/>\n      </g>\n     </g>\n    </g>\n    <g id=\"xtick_128\">\n     <g id=\"line2d_255\">\n      <path clip-path=\"url(#pc9f2e193b3)\" d=\"M 223.971875 245.836875 \nL 223.971875 28.396875 \n\" style=\"fill:none;stroke:#b0b0b0;stroke-linecap:square;stroke-width:0.8;\"/>\n     </g>\n     <g id=\"line2d_256\">\n      <g>\n       <use style=\"stroke:#000000;stroke-width:0.8;\" x=\"223.971875\" xlink:href=\"#mc9771deb23\" y=\"245.836875\"/>\n      </g>\n     </g>\n     <g id=\"text_128\">\n      <!-- 3 -->\n      <g transform=\"translate(226.73125 259.199375)rotate(-90)scale(0.1 -0.1)\">\n       <use xlink:href=\"#DejaVuSans-51\"/>\n      </g>\n     </g>\n    </g>\n    <g id=\"xtick_129\">\n     <g id=\"line2d_257\">\n      <path clip-path=\"url(#pc9f2e193b3)\" d=\"M 223.971875 245.836875 \nL 223.971875 28.396875 \n\" style=\"fill:none;stroke:#b0b0b0;stroke-linecap:square;stroke-width:0.8;\"/>\n     </g>\n     <g id=\"line2d_258\">\n      <g>\n       <use style=\"stroke:#000000;stroke-width:0.8;\" x=\"223.971875\" xlink:href=\"#mc9771deb23\" y=\"245.836875\"/>\n      </g>\n     </g>\n     <g id=\"text_129\">\n      <!-- 3 -->\n      <g transform=\"translate(226.73125 259.199375)rotate(-90)scale(0.1 -0.1)\">\n       <use xlink:href=\"#DejaVuSans-51\"/>\n      </g>\n     </g>\n    </g>\n    <g id=\"xtick_130\">\n     <g id=\"line2d_259\">\n      <path clip-path=\"url(#pc9f2e193b3)\" d=\"M 223.971875 245.836875 \nL 223.971875 28.396875 \n\" style=\"fill:none;stroke:#b0b0b0;stroke-linecap:square;stroke-width:0.8;\"/>\n     </g>\n     <g id=\"line2d_260\">\n      <g>\n       <use style=\"stroke:#000000;stroke-width:0.8;\" x=\"223.971875\" xlink:href=\"#mc9771deb23\" y=\"245.836875\"/>\n      </g>\n     </g>\n     <g id=\"text_130\">\n      <!-- 3 -->\n      <g transform=\"translate(226.73125 259.199375)rotate(-90)scale(0.1 -0.1)\">\n       <use xlink:href=\"#DejaVuSans-51\"/>\n      </g>\n     </g>\n    </g>\n    <g id=\"xtick_131\">\n     <g id=\"line2d_261\">\n      <path clip-path=\"url(#pc9f2e193b3)\" d=\"M 223.971875 245.836875 \nL 223.971875 28.396875 \n\" style=\"fill:none;stroke:#b0b0b0;stroke-linecap:square;stroke-width:0.8;\"/>\n     </g>\n     <g id=\"line2d_262\">\n      <g>\n       <use style=\"stroke:#000000;stroke-width:0.8;\" x=\"223.971875\" xlink:href=\"#mc9771deb23\" y=\"245.836875\"/>\n      </g>\n     </g>\n     <g id=\"text_131\">\n      <!-- 3 -->\n      <g transform=\"translate(226.73125 259.199375)rotate(-90)scale(0.1 -0.1)\">\n       <use xlink:href=\"#DejaVuSans-51\"/>\n      </g>\n     </g>\n    </g>\n    <g id=\"xtick_132\">\n     <g id=\"line2d_263\">\n      <path clip-path=\"url(#pc9f2e193b3)\" d=\"M 223.971875 245.836875 \nL 223.971875 28.396875 \n\" style=\"fill:none;stroke:#b0b0b0;stroke-linecap:square;stroke-width:0.8;\"/>\n     </g>\n     <g id=\"line2d_264\">\n      <g>\n       <use style=\"stroke:#000000;stroke-width:0.8;\" x=\"223.971875\" xlink:href=\"#mc9771deb23\" y=\"245.836875\"/>\n      </g>\n     </g>\n     <g id=\"text_132\">\n      <!-- 3 -->\n      <g transform=\"translate(226.73125 259.199375)rotate(-90)scale(0.1 -0.1)\">\n       <use xlink:href=\"#DejaVuSans-51\"/>\n      </g>\n     </g>\n    </g>\n    <g id=\"xtick_133\">\n     <g id=\"line2d_265\">\n      <path clip-path=\"url(#pc9f2e193b3)\" d=\"M 223.971875 245.836875 \nL 223.971875 28.396875 \n\" style=\"fill:none;stroke:#b0b0b0;stroke-linecap:square;stroke-width:0.8;\"/>\n     </g>\n     <g id=\"line2d_266\">\n      <g>\n       <use style=\"stroke:#000000;stroke-width:0.8;\" x=\"223.971875\" xlink:href=\"#mc9771deb23\" y=\"245.836875\"/>\n      </g>\n     </g>\n     <g id=\"text_133\">\n      <!-- 3 -->\n      <g transform=\"translate(226.73125 259.199375)rotate(-90)scale(0.1 -0.1)\">\n       <use xlink:href=\"#DejaVuSans-51\"/>\n      </g>\n     </g>\n    </g>\n    <g id=\"xtick_134\">\n     <g id=\"line2d_267\">\n      <path clip-path=\"url(#pc9f2e193b3)\" d=\"M 223.971875 245.836875 \nL 223.971875 28.396875 \n\" style=\"fill:none;stroke:#b0b0b0;stroke-linecap:square;stroke-width:0.8;\"/>\n     </g>\n     <g id=\"line2d_268\">\n      <g>\n       <use style=\"stroke:#000000;stroke-width:0.8;\" x=\"223.971875\" xlink:href=\"#mc9771deb23\" y=\"245.836875\"/>\n      </g>\n     </g>\n     <g id=\"text_134\">\n      <!-- 3 -->\n      <g transform=\"translate(226.73125 259.199375)rotate(-90)scale(0.1 -0.1)\">\n       <use xlink:href=\"#DejaVuSans-51\"/>\n      </g>\n     </g>\n    </g>\n    <g id=\"xtick_135\">\n     <g id=\"line2d_269\">\n      <path clip-path=\"url(#pc9f2e193b3)\" d=\"M 223.971875 245.836875 \nL 223.971875 28.396875 \n\" style=\"fill:none;stroke:#b0b0b0;stroke-linecap:square;stroke-width:0.8;\"/>\n     </g>\n     <g id=\"line2d_270\">\n      <g>\n       <use style=\"stroke:#000000;stroke-width:0.8;\" x=\"223.971875\" xlink:href=\"#mc9771deb23\" y=\"245.836875\"/>\n      </g>\n     </g>\n     <g id=\"text_135\">\n      <!-- 3 -->\n      <g transform=\"translate(226.73125 259.199375)rotate(-90)scale(0.1 -0.1)\">\n       <use xlink:href=\"#DejaVuSans-51\"/>\n      </g>\n     </g>\n    </g>\n    <g id=\"xtick_136\">\n     <g id=\"line2d_271\">\n      <path clip-path=\"url(#pc9f2e193b3)\" d=\"M 223.971875 245.836875 \nL 223.971875 28.396875 \n\" style=\"fill:none;stroke:#b0b0b0;stroke-linecap:square;stroke-width:0.8;\"/>\n     </g>\n     <g id=\"line2d_272\">\n      <g>\n       <use style=\"stroke:#000000;stroke-width:0.8;\" x=\"223.971875\" xlink:href=\"#mc9771deb23\" y=\"245.836875\"/>\n      </g>\n     </g>\n     <g id=\"text_136\">\n      <!-- 3 -->\n      <g transform=\"translate(226.73125 259.199375)rotate(-90)scale(0.1 -0.1)\">\n       <use xlink:href=\"#DejaVuSans-51\"/>\n      </g>\n     </g>\n    </g>\n    <g id=\"xtick_137\">\n     <g id=\"line2d_273\">\n      <path clip-path=\"url(#pc9f2e193b3)\" d=\"M 223.971875 245.836875 \nL 223.971875 28.396875 \n\" style=\"fill:none;stroke:#b0b0b0;stroke-linecap:square;stroke-width:0.8;\"/>\n     </g>\n     <g id=\"line2d_274\">\n      <g>\n       <use style=\"stroke:#000000;stroke-width:0.8;\" x=\"223.971875\" xlink:href=\"#mc9771deb23\" y=\"245.836875\"/>\n      </g>\n     </g>\n     <g id=\"text_137\">\n      <!-- 3 -->\n      <g transform=\"translate(226.73125 259.199375)rotate(-90)scale(0.1 -0.1)\">\n       <use xlink:href=\"#DejaVuSans-51\"/>\n      </g>\n     </g>\n    </g>\n    <g id=\"xtick_138\">\n     <g id=\"line2d_275\">\n      <path clip-path=\"url(#pc9f2e193b3)\" d=\"M 223.971875 245.836875 \nL 223.971875 28.396875 \n\" style=\"fill:none;stroke:#b0b0b0;stroke-linecap:square;stroke-width:0.8;\"/>\n     </g>\n     <g id=\"line2d_276\">\n      <g>\n       <use style=\"stroke:#000000;stroke-width:0.8;\" x=\"223.971875\" xlink:href=\"#mc9771deb23\" y=\"245.836875\"/>\n      </g>\n     </g>\n     <g id=\"text_138\">\n      <!-- 3 -->\n      <g transform=\"translate(226.73125 259.199375)rotate(-90)scale(0.1 -0.1)\">\n       <use xlink:href=\"#DejaVuSans-51\"/>\n      </g>\n     </g>\n    </g>\n    <g id=\"xtick_139\">\n     <g id=\"line2d_277\">\n      <path clip-path=\"url(#pc9f2e193b3)\" d=\"M 223.971875 245.836875 \nL 223.971875 28.396875 \n\" style=\"fill:none;stroke:#b0b0b0;stroke-linecap:square;stroke-width:0.8;\"/>\n     </g>\n     <g id=\"line2d_278\">\n      <g>\n       <use style=\"stroke:#000000;stroke-width:0.8;\" x=\"223.971875\" xlink:href=\"#mc9771deb23\" y=\"245.836875\"/>\n      </g>\n     </g>\n     <g id=\"text_139\">\n      <!-- 3 -->\n      <g transform=\"translate(226.73125 259.199375)rotate(-90)scale(0.1 -0.1)\">\n       <use xlink:href=\"#DejaVuSans-51\"/>\n      </g>\n     </g>\n    </g>\n    <g id=\"xtick_140\">\n     <g id=\"line2d_279\">\n      <path clip-path=\"url(#pc9f2e193b3)\" d=\"M 223.971875 245.836875 \nL 223.971875 28.396875 \n\" style=\"fill:none;stroke:#b0b0b0;stroke-linecap:square;stroke-width:0.8;\"/>\n     </g>\n     <g id=\"line2d_280\">\n      <g>\n       <use style=\"stroke:#000000;stroke-width:0.8;\" x=\"223.971875\" xlink:href=\"#mc9771deb23\" y=\"245.836875\"/>\n      </g>\n     </g>\n     <g id=\"text_140\">\n      <!-- 3 -->\n      <g transform=\"translate(226.73125 259.199375)rotate(-90)scale(0.1 -0.1)\">\n       <use xlink:href=\"#DejaVuSans-51\"/>\n      </g>\n     </g>\n    </g>\n    <g id=\"xtick_141\">\n     <g id=\"line2d_281\">\n      <path clip-path=\"url(#pc9f2e193b3)\" d=\"M 223.971875 245.836875 \nL 223.971875 28.396875 \n\" style=\"fill:none;stroke:#b0b0b0;stroke-linecap:square;stroke-width:0.8;\"/>\n     </g>\n     <g id=\"line2d_282\">\n      <g>\n       <use style=\"stroke:#000000;stroke-width:0.8;\" x=\"223.971875\" xlink:href=\"#mc9771deb23\" y=\"245.836875\"/>\n      </g>\n     </g>\n     <g id=\"text_141\">\n      <!-- 3 -->\n      <g transform=\"translate(226.73125 259.199375)rotate(-90)scale(0.1 -0.1)\">\n       <use xlink:href=\"#DejaVuSans-51\"/>\n      </g>\n     </g>\n    </g>\n    <g id=\"xtick_142\">\n     <g id=\"line2d_283\">\n      <path clip-path=\"url(#pc9f2e193b3)\" d=\"M 223.971875 245.836875 \nL 223.971875 28.396875 \n\" style=\"fill:none;stroke:#b0b0b0;stroke-linecap:square;stroke-width:0.8;\"/>\n     </g>\n     <g id=\"line2d_284\">\n      <g>\n       <use style=\"stroke:#000000;stroke-width:0.8;\" x=\"223.971875\" xlink:href=\"#mc9771deb23\" y=\"245.836875\"/>\n      </g>\n     </g>\n     <g id=\"text_142\">\n      <!-- 3 -->\n      <g transform=\"translate(226.73125 259.199375)rotate(-90)scale(0.1 -0.1)\">\n       <use xlink:href=\"#DejaVuSans-51\"/>\n      </g>\n     </g>\n    </g>\n    <g id=\"xtick_143\">\n     <g id=\"line2d_285\">\n      <path clip-path=\"url(#pc9f2e193b3)\" d=\"M 223.971875 245.836875 \nL 223.971875 28.396875 \n\" style=\"fill:none;stroke:#b0b0b0;stroke-linecap:square;stroke-width:0.8;\"/>\n     </g>\n     <g id=\"line2d_286\">\n      <g>\n       <use style=\"stroke:#000000;stroke-width:0.8;\" x=\"223.971875\" xlink:href=\"#mc9771deb23\" y=\"245.836875\"/>\n      </g>\n     </g>\n     <g id=\"text_143\">\n      <!-- 3 -->\n      <g transform=\"translate(226.73125 259.199375)rotate(-90)scale(0.1 -0.1)\">\n       <use xlink:href=\"#DejaVuSans-51\"/>\n      </g>\n     </g>\n    </g>\n    <g id=\"xtick_144\">\n     <g id=\"line2d_287\">\n      <path clip-path=\"url(#pc9f2e193b3)\" d=\"M 223.971875 245.836875 \nL 223.971875 28.396875 \n\" style=\"fill:none;stroke:#b0b0b0;stroke-linecap:square;stroke-width:0.8;\"/>\n     </g>\n     <g id=\"line2d_288\">\n      <g>\n       <use style=\"stroke:#000000;stroke-width:0.8;\" x=\"223.971875\" xlink:href=\"#mc9771deb23\" y=\"245.836875\"/>\n      </g>\n     </g>\n     <g id=\"text_144\">\n      <!-- 3 -->\n      <g transform=\"translate(226.73125 259.199375)rotate(-90)scale(0.1 -0.1)\">\n       <use xlink:href=\"#DejaVuSans-51\"/>\n      </g>\n     </g>\n    </g>\n    <g id=\"xtick_145\">\n     <g id=\"line2d_289\">\n      <path clip-path=\"url(#pc9f2e193b3)\" d=\"M 223.971875 245.836875 \nL 223.971875 28.396875 \n\" style=\"fill:none;stroke:#b0b0b0;stroke-linecap:square;stroke-width:0.8;\"/>\n     </g>\n     <g id=\"line2d_290\">\n      <g>\n       <use style=\"stroke:#000000;stroke-width:0.8;\" x=\"223.971875\" xlink:href=\"#mc9771deb23\" y=\"245.836875\"/>\n      </g>\n     </g>\n     <g id=\"text_145\">\n      <!-- 3 -->\n      <g transform=\"translate(226.73125 259.199375)rotate(-90)scale(0.1 -0.1)\">\n       <use xlink:href=\"#DejaVuSans-51\"/>\n      </g>\n     </g>\n    </g>\n    <g id=\"xtick_146\">\n     <g id=\"line2d_291\">\n      <path clip-path=\"url(#pc9f2e193b3)\" d=\"M 223.971875 245.836875 \nL 223.971875 28.396875 \n\" style=\"fill:none;stroke:#b0b0b0;stroke-linecap:square;stroke-width:0.8;\"/>\n     </g>\n     <g id=\"line2d_292\">\n      <g>\n       <use style=\"stroke:#000000;stroke-width:0.8;\" x=\"223.971875\" xlink:href=\"#mc9771deb23\" y=\"245.836875\"/>\n      </g>\n     </g>\n     <g id=\"text_146\">\n      <!-- 3 -->\n      <g transform=\"translate(226.73125 259.199375)rotate(-90)scale(0.1 -0.1)\">\n       <use xlink:href=\"#DejaVuSans-51\"/>\n      </g>\n     </g>\n    </g>\n    <g id=\"xtick_147\">\n     <g id=\"line2d_293\">\n      <path clip-path=\"url(#pc9f2e193b3)\" d=\"M 223.971875 245.836875 \nL 223.971875 28.396875 \n\" style=\"fill:none;stroke:#b0b0b0;stroke-linecap:square;stroke-width:0.8;\"/>\n     </g>\n     <g id=\"line2d_294\">\n      <g>\n       <use style=\"stroke:#000000;stroke-width:0.8;\" x=\"223.971875\" xlink:href=\"#mc9771deb23\" y=\"245.836875\"/>\n      </g>\n     </g>\n     <g id=\"text_147\">\n      <!-- 3 -->\n      <g transform=\"translate(226.73125 259.199375)rotate(-90)scale(0.1 -0.1)\">\n       <use xlink:href=\"#DejaVuSans-51\"/>\n      </g>\n     </g>\n    </g>\n    <g id=\"xtick_148\">\n     <g id=\"line2d_295\">\n      <path clip-path=\"url(#pc9f2e193b3)\" d=\"M 223.971875 245.836875 \nL 223.971875 28.396875 \n\" style=\"fill:none;stroke:#b0b0b0;stroke-linecap:square;stroke-width:0.8;\"/>\n     </g>\n     <g id=\"line2d_296\">\n      <g>\n       <use style=\"stroke:#000000;stroke-width:0.8;\" x=\"223.971875\" xlink:href=\"#mc9771deb23\" y=\"245.836875\"/>\n      </g>\n     </g>\n     <g id=\"text_148\">\n      <!-- 3 -->\n      <g transform=\"translate(226.73125 259.199375)rotate(-90)scale(0.1 -0.1)\">\n       <use xlink:href=\"#DejaVuSans-51\"/>\n      </g>\n     </g>\n    </g>\n    <g id=\"xtick_149\">\n     <g id=\"line2d_297\">\n      <path clip-path=\"url(#pc9f2e193b3)\" d=\"M 223.971875 245.836875 \nL 223.971875 28.396875 \n\" style=\"fill:none;stroke:#b0b0b0;stroke-linecap:square;stroke-width:0.8;\"/>\n     </g>\n     <g id=\"line2d_298\">\n      <g>\n       <use style=\"stroke:#000000;stroke-width:0.8;\" x=\"223.971875\" xlink:href=\"#mc9771deb23\" y=\"245.836875\"/>\n      </g>\n     </g>\n     <g id=\"text_149\">\n      <!-- 3 -->\n      <g transform=\"translate(226.73125 259.199375)rotate(-90)scale(0.1 -0.1)\">\n       <use xlink:href=\"#DejaVuSans-51\"/>\n      </g>\n     </g>\n    </g>\n    <g id=\"xtick_150\">\n     <g id=\"line2d_299\">\n      <path clip-path=\"url(#pc9f2e193b3)\" d=\"M 223.971875 245.836875 \nL 223.971875 28.396875 \n\" style=\"fill:none;stroke:#b0b0b0;stroke-linecap:square;stroke-width:0.8;\"/>\n     </g>\n     <g id=\"line2d_300\">\n      <g>\n       <use style=\"stroke:#000000;stroke-width:0.8;\" x=\"223.971875\" xlink:href=\"#mc9771deb23\" y=\"245.836875\"/>\n      </g>\n     </g>\n     <g id=\"text_150\">\n      <!-- 3 -->\n      <g transform=\"translate(226.73125 259.199375)rotate(-90)scale(0.1 -0.1)\">\n       <use xlink:href=\"#DejaVuSans-51\"/>\n      </g>\n     </g>\n    </g>\n    <g id=\"xtick_151\">\n     <g id=\"line2d_301\">\n      <path clip-path=\"url(#pc9f2e193b3)\" d=\"M 223.971875 245.836875 \nL 223.971875 28.396875 \n\" style=\"fill:none;stroke:#b0b0b0;stroke-linecap:square;stroke-width:0.8;\"/>\n     </g>\n     <g id=\"line2d_302\">\n      <g>\n       <use style=\"stroke:#000000;stroke-width:0.8;\" x=\"223.971875\" xlink:href=\"#mc9771deb23\" y=\"245.836875\"/>\n      </g>\n     </g>\n     <g id=\"text_151\">\n      <!-- 3 -->\n      <g transform=\"translate(226.73125 259.199375)rotate(-90)scale(0.1 -0.1)\">\n       <use xlink:href=\"#DejaVuSans-51\"/>\n      </g>\n     </g>\n    </g>\n    <g id=\"xtick_152\">\n     <g id=\"line2d_303\">\n      <path clip-path=\"url(#pc9f2e193b3)\" d=\"M 223.971875 245.836875 \nL 223.971875 28.396875 \n\" style=\"fill:none;stroke:#b0b0b0;stroke-linecap:square;stroke-width:0.8;\"/>\n     </g>\n     <g id=\"line2d_304\">\n      <g>\n       <use style=\"stroke:#000000;stroke-width:0.8;\" x=\"223.971875\" xlink:href=\"#mc9771deb23\" y=\"245.836875\"/>\n      </g>\n     </g>\n     <g id=\"text_152\">\n      <!-- 3 -->\n      <g transform=\"translate(226.73125 259.199375)rotate(-90)scale(0.1 -0.1)\">\n       <use xlink:href=\"#DejaVuSans-51\"/>\n      </g>\n     </g>\n    </g>\n    <g id=\"xtick_153\">\n     <g id=\"line2d_305\">\n      <path clip-path=\"url(#pc9f2e193b3)\" d=\"M 223.971875 245.836875 \nL 223.971875 28.396875 \n\" style=\"fill:none;stroke:#b0b0b0;stroke-linecap:square;stroke-width:0.8;\"/>\n     </g>\n     <g id=\"line2d_306\">\n      <g>\n       <use style=\"stroke:#000000;stroke-width:0.8;\" x=\"223.971875\" xlink:href=\"#mc9771deb23\" y=\"245.836875\"/>\n      </g>\n     </g>\n     <g id=\"text_153\">\n      <!-- 3 -->\n      <g transform=\"translate(226.73125 259.199375)rotate(-90)scale(0.1 -0.1)\">\n       <use xlink:href=\"#DejaVuSans-51\"/>\n      </g>\n     </g>\n    </g>\n    <g id=\"xtick_154\">\n     <g id=\"line2d_307\">\n      <path clip-path=\"url(#pc9f2e193b3)\" d=\"M 223.971875 245.836875 \nL 223.971875 28.396875 \n\" style=\"fill:none;stroke:#b0b0b0;stroke-linecap:square;stroke-width:0.8;\"/>\n     </g>\n     <g id=\"line2d_308\">\n      <g>\n       <use style=\"stroke:#000000;stroke-width:0.8;\" x=\"223.971875\" xlink:href=\"#mc9771deb23\" y=\"245.836875\"/>\n      </g>\n     </g>\n     <g id=\"text_154\">\n      <!-- 3 -->\n      <g transform=\"translate(226.73125 259.199375)rotate(-90)scale(0.1 -0.1)\">\n       <use xlink:href=\"#DejaVuSans-51\"/>\n      </g>\n     </g>\n    </g>\n    <g id=\"xtick_155\">\n     <g id=\"line2d_309\">\n      <path clip-path=\"url(#pc9f2e193b3)\" d=\"M 223.971875 245.836875 \nL 223.971875 28.396875 \n\" style=\"fill:none;stroke:#b0b0b0;stroke-linecap:square;stroke-width:0.8;\"/>\n     </g>\n     <g id=\"line2d_310\">\n      <g>\n       <use style=\"stroke:#000000;stroke-width:0.8;\" x=\"223.971875\" xlink:href=\"#mc9771deb23\" y=\"245.836875\"/>\n      </g>\n     </g>\n     <g id=\"text_155\">\n      <!-- 3 -->\n      <g transform=\"translate(226.73125 259.199375)rotate(-90)scale(0.1 -0.1)\">\n       <use xlink:href=\"#DejaVuSans-51\"/>\n      </g>\n     </g>\n    </g>\n    <g id=\"xtick_156\">\n     <g id=\"line2d_311\">\n      <path clip-path=\"url(#pc9f2e193b3)\" d=\"M 223.971875 245.836875 \nL 223.971875 28.396875 \n\" style=\"fill:none;stroke:#b0b0b0;stroke-linecap:square;stroke-width:0.8;\"/>\n     </g>\n     <g id=\"line2d_312\">\n      <g>\n       <use style=\"stroke:#000000;stroke-width:0.8;\" x=\"223.971875\" xlink:href=\"#mc9771deb23\" y=\"245.836875\"/>\n      </g>\n     </g>\n     <g id=\"text_156\">\n      <!-- 3 -->\n      <g transform=\"translate(226.73125 259.199375)rotate(-90)scale(0.1 -0.1)\">\n       <use xlink:href=\"#DejaVuSans-51\"/>\n      </g>\n     </g>\n    </g>\n    <g id=\"xtick_157\">\n     <g id=\"line2d_313\">\n      <path clip-path=\"url(#pc9f2e193b3)\" d=\"M 223.971875 245.836875 \nL 223.971875 28.396875 \n\" style=\"fill:none;stroke:#b0b0b0;stroke-linecap:square;stroke-width:0.8;\"/>\n     </g>\n     <g id=\"line2d_314\">\n      <g>\n       <use style=\"stroke:#000000;stroke-width:0.8;\" x=\"223.971875\" xlink:href=\"#mc9771deb23\" y=\"245.836875\"/>\n      </g>\n     </g>\n     <g id=\"text_157\">\n      <!-- 3 -->\n      <g transform=\"translate(226.73125 259.199375)rotate(-90)scale(0.1 -0.1)\">\n       <use xlink:href=\"#DejaVuSans-51\"/>\n      </g>\n     </g>\n    </g>\n    <g id=\"xtick_158\">\n     <g id=\"line2d_315\">\n      <path clip-path=\"url(#pc9f2e193b3)\" d=\"M 223.971875 245.836875 \nL 223.971875 28.396875 \n\" style=\"fill:none;stroke:#b0b0b0;stroke-linecap:square;stroke-width:0.8;\"/>\n     </g>\n     <g id=\"line2d_316\">\n      <g>\n       <use style=\"stroke:#000000;stroke-width:0.8;\" x=\"223.971875\" xlink:href=\"#mc9771deb23\" y=\"245.836875\"/>\n      </g>\n     </g>\n     <g id=\"text_158\">\n      <!-- 3 -->\n      <g transform=\"translate(226.73125 259.199375)rotate(-90)scale(0.1 -0.1)\">\n       <use xlink:href=\"#DejaVuSans-51\"/>\n      </g>\n     </g>\n    </g>\n    <g id=\"xtick_159\">\n     <g id=\"line2d_317\">\n      <path clip-path=\"url(#pc9f2e193b3)\" d=\"M 223.971875 245.836875 \nL 223.971875 28.396875 \n\" style=\"fill:none;stroke:#b0b0b0;stroke-linecap:square;stroke-width:0.8;\"/>\n     </g>\n     <g id=\"line2d_318\">\n      <g>\n       <use style=\"stroke:#000000;stroke-width:0.8;\" x=\"223.971875\" xlink:href=\"#mc9771deb23\" y=\"245.836875\"/>\n      </g>\n     </g>\n     <g id=\"text_159\">\n      <!-- 3 -->\n      <g transform=\"translate(226.73125 259.199375)rotate(-90)scale(0.1 -0.1)\">\n       <use xlink:href=\"#DejaVuSans-51\"/>\n      </g>\n     </g>\n    </g>\n    <g id=\"xtick_160\">\n     <g id=\"line2d_319\">\n      <path clip-path=\"url(#pc9f2e193b3)\" d=\"M 223.971875 245.836875 \nL 223.971875 28.396875 \n\" style=\"fill:none;stroke:#b0b0b0;stroke-linecap:square;stroke-width:0.8;\"/>\n     </g>\n     <g id=\"line2d_320\">\n      <g>\n       <use style=\"stroke:#000000;stroke-width:0.8;\" x=\"223.971875\" xlink:href=\"#mc9771deb23\" y=\"245.836875\"/>\n      </g>\n     </g>\n     <g id=\"text_160\">\n      <!-- 3 -->\n      <g transform=\"translate(226.73125 259.199375)rotate(-90)scale(0.1 -0.1)\">\n       <use xlink:href=\"#DejaVuSans-51\"/>\n      </g>\n     </g>\n    </g>\n    <g id=\"xtick_161\">\n     <g id=\"line2d_321\">\n      <path clip-path=\"url(#pc9f2e193b3)\" d=\"M 267.452394 245.836875 \nL 267.452394 28.396875 \n\" style=\"fill:none;stroke:#b0b0b0;stroke-linecap:square;stroke-width:0.8;\"/>\n     </g>\n     <g id=\"line2d_322\">\n      <g>\n       <use style=\"stroke:#000000;stroke-width:0.8;\" x=\"267.452394\" xlink:href=\"#mc9771deb23\" y=\"245.836875\"/>\n      </g>\n     </g>\n     <g id=\"text_161\">\n      <!-- 4 -->\n      <g transform=\"translate(270.211769 259.199375)rotate(-90)scale(0.1 -0.1)\">\n       <defs>\n        <path d=\"M 37.796875 64.3125 \nL 12.890625 25.390625 \nL 37.796875 25.390625 \nz\nM 35.203125 72.90625 \nL 47.609375 72.90625 \nL 47.609375 25.390625 \nL 58.015625 25.390625 \nL 58.015625 17.1875 \nL 47.609375 17.1875 \nL 47.609375 0 \nL 37.796875 0 \nL 37.796875 17.1875 \nL 4.890625 17.1875 \nL 4.890625 26.703125 \nz\n\" id=\"DejaVuSans-52\"/>\n       </defs>\n       <use xlink:href=\"#DejaVuSans-52\"/>\n      </g>\n     </g>\n    </g>\n    <g id=\"xtick_162\">\n     <g id=\"line2d_323\">\n      <path clip-path=\"url(#pc9f2e193b3)\" d=\"M 267.452394 245.836875 \nL 267.452394 28.396875 \n\" style=\"fill:none;stroke:#b0b0b0;stroke-linecap:square;stroke-width:0.8;\"/>\n     </g>\n     <g id=\"line2d_324\">\n      <g>\n       <use style=\"stroke:#000000;stroke-width:0.8;\" x=\"267.452394\" xlink:href=\"#mc9771deb23\" y=\"245.836875\"/>\n      </g>\n     </g>\n     <g id=\"text_162\">\n      <!-- 4 -->\n      <g transform=\"translate(270.211769 259.199375)rotate(-90)scale(0.1 -0.1)\">\n       <use xlink:href=\"#DejaVuSans-52\"/>\n      </g>\n     </g>\n    </g>\n    <g id=\"xtick_163\">\n     <g id=\"line2d_325\">\n      <path clip-path=\"url(#pc9f2e193b3)\" d=\"M 267.452394 245.836875 \nL 267.452394 28.396875 \n\" style=\"fill:none;stroke:#b0b0b0;stroke-linecap:square;stroke-width:0.8;\"/>\n     </g>\n     <g id=\"line2d_326\">\n      <g>\n       <use style=\"stroke:#000000;stroke-width:0.8;\" x=\"267.452394\" xlink:href=\"#mc9771deb23\" y=\"245.836875\"/>\n      </g>\n     </g>\n     <g id=\"text_163\">\n      <!-- 4 -->\n      <g transform=\"translate(270.211769 259.199375)rotate(-90)scale(0.1 -0.1)\">\n       <use xlink:href=\"#DejaVuSans-52\"/>\n      </g>\n     </g>\n    </g>\n    <g id=\"xtick_164\">\n     <g id=\"line2d_327\">\n      <path clip-path=\"url(#pc9f2e193b3)\" d=\"M 267.452394 245.836875 \nL 267.452394 28.396875 \n\" style=\"fill:none;stroke:#b0b0b0;stroke-linecap:square;stroke-width:0.8;\"/>\n     </g>\n     <g id=\"line2d_328\">\n      <g>\n       <use style=\"stroke:#000000;stroke-width:0.8;\" x=\"267.452394\" xlink:href=\"#mc9771deb23\" y=\"245.836875\"/>\n      </g>\n     </g>\n     <g id=\"text_164\">\n      <!-- 4 -->\n      <g transform=\"translate(270.211769 259.199375)rotate(-90)scale(0.1 -0.1)\">\n       <use xlink:href=\"#DejaVuSans-52\"/>\n      </g>\n     </g>\n    </g>\n    <g id=\"xtick_165\">\n     <g id=\"line2d_329\">\n      <path clip-path=\"url(#pc9f2e193b3)\" d=\"M 267.452394 245.836875 \nL 267.452394 28.396875 \n\" style=\"fill:none;stroke:#b0b0b0;stroke-linecap:square;stroke-width:0.8;\"/>\n     </g>\n     <g id=\"line2d_330\">\n      <g>\n       <use style=\"stroke:#000000;stroke-width:0.8;\" x=\"267.452394\" xlink:href=\"#mc9771deb23\" y=\"245.836875\"/>\n      </g>\n     </g>\n     <g id=\"text_165\">\n      <!-- 4 -->\n      <g transform=\"translate(270.211769 259.199375)rotate(-90)scale(0.1 -0.1)\">\n       <use xlink:href=\"#DejaVuSans-52\"/>\n      </g>\n     </g>\n    </g>\n    <g id=\"xtick_166\">\n     <g id=\"line2d_331\">\n      <path clip-path=\"url(#pc9f2e193b3)\" d=\"M 267.452394 245.836875 \nL 267.452394 28.396875 \n\" style=\"fill:none;stroke:#b0b0b0;stroke-linecap:square;stroke-width:0.8;\"/>\n     </g>\n     <g id=\"line2d_332\">\n      <g>\n       <use style=\"stroke:#000000;stroke-width:0.8;\" x=\"267.452394\" xlink:href=\"#mc9771deb23\" y=\"245.836875\"/>\n      </g>\n     </g>\n     <g id=\"text_166\">\n      <!-- 4 -->\n      <g transform=\"translate(270.211769 259.199375)rotate(-90)scale(0.1 -0.1)\">\n       <use xlink:href=\"#DejaVuSans-52\"/>\n      </g>\n     </g>\n    </g>\n    <g id=\"xtick_167\">\n     <g id=\"line2d_333\">\n      <path clip-path=\"url(#pc9f2e193b3)\" d=\"M 267.452394 245.836875 \nL 267.452394 28.396875 \n\" style=\"fill:none;stroke:#b0b0b0;stroke-linecap:square;stroke-width:0.8;\"/>\n     </g>\n     <g id=\"line2d_334\">\n      <g>\n       <use style=\"stroke:#000000;stroke-width:0.8;\" x=\"267.452394\" xlink:href=\"#mc9771deb23\" y=\"245.836875\"/>\n      </g>\n     </g>\n     <g id=\"text_167\">\n      <!-- 4 -->\n      <g transform=\"translate(270.211769 259.199375)rotate(-90)scale(0.1 -0.1)\">\n       <use xlink:href=\"#DejaVuSans-52\"/>\n      </g>\n     </g>\n    </g>\n    <g id=\"xtick_168\">\n     <g id=\"line2d_335\">\n      <path clip-path=\"url(#pc9f2e193b3)\" d=\"M 267.452394 245.836875 \nL 267.452394 28.396875 \n\" style=\"fill:none;stroke:#b0b0b0;stroke-linecap:square;stroke-width:0.8;\"/>\n     </g>\n     <g id=\"line2d_336\">\n      <g>\n       <use style=\"stroke:#000000;stroke-width:0.8;\" x=\"267.452394\" xlink:href=\"#mc9771deb23\" y=\"245.836875\"/>\n      </g>\n     </g>\n     <g id=\"text_168\">\n      <!-- 4 -->\n      <g transform=\"translate(270.211769 259.199375)rotate(-90)scale(0.1 -0.1)\">\n       <use xlink:href=\"#DejaVuSans-52\"/>\n      </g>\n     </g>\n    </g>\n    <g id=\"xtick_169\">\n     <g id=\"line2d_337\">\n      <path clip-path=\"url(#pc9f2e193b3)\" d=\"M 267.452394 245.836875 \nL 267.452394 28.396875 \n\" style=\"fill:none;stroke:#b0b0b0;stroke-linecap:square;stroke-width:0.8;\"/>\n     </g>\n     <g id=\"line2d_338\">\n      <g>\n       <use style=\"stroke:#000000;stroke-width:0.8;\" x=\"267.452394\" xlink:href=\"#mc9771deb23\" y=\"245.836875\"/>\n      </g>\n     </g>\n     <g id=\"text_169\">\n      <!-- 4 -->\n      <g transform=\"translate(270.211769 259.199375)rotate(-90)scale(0.1 -0.1)\">\n       <use xlink:href=\"#DejaVuSans-52\"/>\n      </g>\n     </g>\n    </g>\n    <g id=\"xtick_170\">\n     <g id=\"line2d_339\">\n      <path clip-path=\"url(#pc9f2e193b3)\" d=\"M 267.452394 245.836875 \nL 267.452394 28.396875 \n\" style=\"fill:none;stroke:#b0b0b0;stroke-linecap:square;stroke-width:0.8;\"/>\n     </g>\n     <g id=\"line2d_340\">\n      <g>\n       <use style=\"stroke:#000000;stroke-width:0.8;\" x=\"267.452394\" xlink:href=\"#mc9771deb23\" y=\"245.836875\"/>\n      </g>\n     </g>\n     <g id=\"text_170\">\n      <!-- 4 -->\n      <g transform=\"translate(270.211769 259.199375)rotate(-90)scale(0.1 -0.1)\">\n       <use xlink:href=\"#DejaVuSans-52\"/>\n      </g>\n     </g>\n    </g>\n    <g id=\"xtick_171\">\n     <g id=\"line2d_341\">\n      <path clip-path=\"url(#pc9f2e193b3)\" d=\"M 267.452394 245.836875 \nL 267.452394 28.396875 \n\" style=\"fill:none;stroke:#b0b0b0;stroke-linecap:square;stroke-width:0.8;\"/>\n     </g>\n     <g id=\"line2d_342\">\n      <g>\n       <use style=\"stroke:#000000;stroke-width:0.8;\" x=\"267.452394\" xlink:href=\"#mc9771deb23\" y=\"245.836875\"/>\n      </g>\n     </g>\n     <g id=\"text_171\">\n      <!-- 4 -->\n      <g transform=\"translate(270.211769 259.199375)rotate(-90)scale(0.1 -0.1)\">\n       <use xlink:href=\"#DejaVuSans-52\"/>\n      </g>\n     </g>\n    </g>\n    <g id=\"xtick_172\">\n     <g id=\"line2d_343\">\n      <path clip-path=\"url(#pc9f2e193b3)\" d=\"M 267.452394 245.836875 \nL 267.452394 28.396875 \n\" style=\"fill:none;stroke:#b0b0b0;stroke-linecap:square;stroke-width:0.8;\"/>\n     </g>\n     <g id=\"line2d_344\">\n      <g>\n       <use style=\"stroke:#000000;stroke-width:0.8;\" x=\"267.452394\" xlink:href=\"#mc9771deb23\" y=\"245.836875\"/>\n      </g>\n     </g>\n     <g id=\"text_172\">\n      <!-- 4 -->\n      <g transform=\"translate(270.211769 259.199375)rotate(-90)scale(0.1 -0.1)\">\n       <use xlink:href=\"#DejaVuSans-52\"/>\n      </g>\n     </g>\n    </g>\n    <g id=\"xtick_173\">\n     <g id=\"line2d_345\">\n      <path clip-path=\"url(#pc9f2e193b3)\" d=\"M 267.452394 245.836875 \nL 267.452394 28.396875 \n\" style=\"fill:none;stroke:#b0b0b0;stroke-linecap:square;stroke-width:0.8;\"/>\n     </g>\n     <g id=\"line2d_346\">\n      <g>\n       <use style=\"stroke:#000000;stroke-width:0.8;\" x=\"267.452394\" xlink:href=\"#mc9771deb23\" y=\"245.836875\"/>\n      </g>\n     </g>\n     <g id=\"text_173\">\n      <!-- 4 -->\n      <g transform=\"translate(270.211769 259.199375)rotate(-90)scale(0.1 -0.1)\">\n       <use xlink:href=\"#DejaVuSans-52\"/>\n      </g>\n     </g>\n    </g>\n    <g id=\"xtick_174\">\n     <g id=\"line2d_347\">\n      <path clip-path=\"url(#pc9f2e193b3)\" d=\"M 267.452394 245.836875 \nL 267.452394 28.396875 \n\" style=\"fill:none;stroke:#b0b0b0;stroke-linecap:square;stroke-width:0.8;\"/>\n     </g>\n     <g id=\"line2d_348\">\n      <g>\n       <use style=\"stroke:#000000;stroke-width:0.8;\" x=\"267.452394\" xlink:href=\"#mc9771deb23\" y=\"245.836875\"/>\n      </g>\n     </g>\n     <g id=\"text_174\">\n      <!-- 4 -->\n      <g transform=\"translate(270.211769 259.199375)rotate(-90)scale(0.1 -0.1)\">\n       <use xlink:href=\"#DejaVuSans-52\"/>\n      </g>\n     </g>\n    </g>\n    <g id=\"xtick_175\">\n     <g id=\"line2d_349\">\n      <path clip-path=\"url(#pc9f2e193b3)\" d=\"M 267.452394 245.836875 \nL 267.452394 28.396875 \n\" style=\"fill:none;stroke:#b0b0b0;stroke-linecap:square;stroke-width:0.8;\"/>\n     </g>\n     <g id=\"line2d_350\">\n      <g>\n       <use style=\"stroke:#000000;stroke-width:0.8;\" x=\"267.452394\" xlink:href=\"#mc9771deb23\" y=\"245.836875\"/>\n      </g>\n     </g>\n     <g id=\"text_175\">\n      <!-- 4 -->\n      <g transform=\"translate(270.211769 259.199375)rotate(-90)scale(0.1 -0.1)\">\n       <use xlink:href=\"#DejaVuSans-52\"/>\n      </g>\n     </g>\n    </g>\n    <g id=\"xtick_176\">\n     <g id=\"line2d_351\">\n      <path clip-path=\"url(#pc9f2e193b3)\" d=\"M 267.452394 245.836875 \nL 267.452394 28.396875 \n\" style=\"fill:none;stroke:#b0b0b0;stroke-linecap:square;stroke-width:0.8;\"/>\n     </g>\n     <g id=\"line2d_352\">\n      <g>\n       <use style=\"stroke:#000000;stroke-width:0.8;\" x=\"267.452394\" xlink:href=\"#mc9771deb23\" y=\"245.836875\"/>\n      </g>\n     </g>\n     <g id=\"text_176\">\n      <!-- 4 -->\n      <g transform=\"translate(270.211769 259.199375)rotate(-90)scale(0.1 -0.1)\">\n       <use xlink:href=\"#DejaVuSans-52\"/>\n      </g>\n     </g>\n    </g>\n    <g id=\"xtick_177\">\n     <g id=\"line2d_353\">\n      <path clip-path=\"url(#pc9f2e193b3)\" d=\"M 267.452394 245.836875 \nL 267.452394 28.396875 \n\" style=\"fill:none;stroke:#b0b0b0;stroke-linecap:square;stroke-width:0.8;\"/>\n     </g>\n     <g id=\"line2d_354\">\n      <g>\n       <use style=\"stroke:#000000;stroke-width:0.8;\" x=\"267.452394\" xlink:href=\"#mc9771deb23\" y=\"245.836875\"/>\n      </g>\n     </g>\n     <g id=\"text_177\">\n      <!-- 4 -->\n      <g transform=\"translate(270.211769 259.199375)rotate(-90)scale(0.1 -0.1)\">\n       <use xlink:href=\"#DejaVuSans-52\"/>\n      </g>\n     </g>\n    </g>\n    <g id=\"xtick_178\">\n     <g id=\"line2d_355\">\n      <path clip-path=\"url(#pc9f2e193b3)\" d=\"M 267.452394 245.836875 \nL 267.452394 28.396875 \n\" style=\"fill:none;stroke:#b0b0b0;stroke-linecap:square;stroke-width:0.8;\"/>\n     </g>\n     <g id=\"line2d_356\">\n      <g>\n       <use style=\"stroke:#000000;stroke-width:0.8;\" x=\"267.452394\" xlink:href=\"#mc9771deb23\" y=\"245.836875\"/>\n      </g>\n     </g>\n     <g id=\"text_178\">\n      <!-- 4 -->\n      <g transform=\"translate(270.211769 259.199375)rotate(-90)scale(0.1 -0.1)\">\n       <use xlink:href=\"#DejaVuSans-52\"/>\n      </g>\n     </g>\n    </g>\n    <g id=\"xtick_179\">\n     <g id=\"line2d_357\">\n      <path clip-path=\"url(#pc9f2e193b3)\" d=\"M 267.452394 245.836875 \nL 267.452394 28.396875 \n\" style=\"fill:none;stroke:#b0b0b0;stroke-linecap:square;stroke-width:0.8;\"/>\n     </g>\n     <g id=\"line2d_358\">\n      <g>\n       <use style=\"stroke:#000000;stroke-width:0.8;\" x=\"267.452394\" xlink:href=\"#mc9771deb23\" y=\"245.836875\"/>\n      </g>\n     </g>\n     <g id=\"text_179\">\n      <!-- 4 -->\n      <g transform=\"translate(270.211769 259.199375)rotate(-90)scale(0.1 -0.1)\">\n       <use xlink:href=\"#DejaVuSans-52\"/>\n      </g>\n     </g>\n    </g>\n    <g id=\"xtick_180\">\n     <g id=\"line2d_359\">\n      <path clip-path=\"url(#pc9f2e193b3)\" d=\"M 267.452394 245.836875 \nL 267.452394 28.396875 \n\" style=\"fill:none;stroke:#b0b0b0;stroke-linecap:square;stroke-width:0.8;\"/>\n     </g>\n     <g id=\"line2d_360\">\n      <g>\n       <use style=\"stroke:#000000;stroke-width:0.8;\" x=\"267.452394\" xlink:href=\"#mc9771deb23\" y=\"245.836875\"/>\n      </g>\n     </g>\n     <g id=\"text_180\">\n      <!-- 4 -->\n      <g transform=\"translate(270.211769 259.199375)rotate(-90)scale(0.1 -0.1)\">\n       <use xlink:href=\"#DejaVuSans-52\"/>\n      </g>\n     </g>\n    </g>\n    <g id=\"xtick_181\">\n     <g id=\"line2d_361\">\n      <path clip-path=\"url(#pc9f2e193b3)\" d=\"M 267.452394 245.836875 \nL 267.452394 28.396875 \n\" style=\"fill:none;stroke:#b0b0b0;stroke-linecap:square;stroke-width:0.8;\"/>\n     </g>\n     <g id=\"line2d_362\">\n      <g>\n       <use style=\"stroke:#000000;stroke-width:0.8;\" x=\"267.452394\" xlink:href=\"#mc9771deb23\" y=\"245.836875\"/>\n      </g>\n     </g>\n     <g id=\"text_181\">\n      <!-- 4 -->\n      <g transform=\"translate(270.211769 259.199375)rotate(-90)scale(0.1 -0.1)\">\n       <use xlink:href=\"#DejaVuSans-52\"/>\n      </g>\n     </g>\n    </g>\n    <g id=\"xtick_182\">\n     <g id=\"line2d_363\">\n      <path clip-path=\"url(#pc9f2e193b3)\" d=\"M 267.452394 245.836875 \nL 267.452394 28.396875 \n\" style=\"fill:none;stroke:#b0b0b0;stroke-linecap:square;stroke-width:0.8;\"/>\n     </g>\n     <g id=\"line2d_364\">\n      <g>\n       <use style=\"stroke:#000000;stroke-width:0.8;\" x=\"267.452394\" xlink:href=\"#mc9771deb23\" y=\"245.836875\"/>\n      </g>\n     </g>\n     <g id=\"text_182\">\n      <!-- 4 -->\n      <g transform=\"translate(270.211769 259.199375)rotate(-90)scale(0.1 -0.1)\">\n       <use xlink:href=\"#DejaVuSans-52\"/>\n      </g>\n     </g>\n    </g>\n    <g id=\"xtick_183\">\n     <g id=\"line2d_365\">\n      <path clip-path=\"url(#pc9f2e193b3)\" d=\"M 267.452394 245.836875 \nL 267.452394 28.396875 \n\" style=\"fill:none;stroke:#b0b0b0;stroke-linecap:square;stroke-width:0.8;\"/>\n     </g>\n     <g id=\"line2d_366\">\n      <g>\n       <use style=\"stroke:#000000;stroke-width:0.8;\" x=\"267.452394\" xlink:href=\"#mc9771deb23\" y=\"245.836875\"/>\n      </g>\n     </g>\n     <g id=\"text_183\">\n      <!-- 4 -->\n      <g transform=\"translate(270.211769 259.199375)rotate(-90)scale(0.1 -0.1)\">\n       <use xlink:href=\"#DejaVuSans-52\"/>\n      </g>\n     </g>\n    </g>\n    <g id=\"xtick_184\">\n     <g id=\"line2d_367\">\n      <path clip-path=\"url(#pc9f2e193b3)\" d=\"M 267.452394 245.836875 \nL 267.452394 28.396875 \n\" style=\"fill:none;stroke:#b0b0b0;stroke-linecap:square;stroke-width:0.8;\"/>\n     </g>\n     <g id=\"line2d_368\">\n      <g>\n       <use style=\"stroke:#000000;stroke-width:0.8;\" x=\"267.452394\" xlink:href=\"#mc9771deb23\" y=\"245.836875\"/>\n      </g>\n     </g>\n     <g id=\"text_184\">\n      <!-- 4 -->\n      <g transform=\"translate(270.211769 259.199375)rotate(-90)scale(0.1 -0.1)\">\n       <use xlink:href=\"#DejaVuSans-52\"/>\n      </g>\n     </g>\n    </g>\n    <g id=\"xtick_185\">\n     <g id=\"line2d_369\">\n      <path clip-path=\"url(#pc9f2e193b3)\" d=\"M 267.452394 245.836875 \nL 267.452394 28.396875 \n\" style=\"fill:none;stroke:#b0b0b0;stroke-linecap:square;stroke-width:0.8;\"/>\n     </g>\n     <g id=\"line2d_370\">\n      <g>\n       <use style=\"stroke:#000000;stroke-width:0.8;\" x=\"267.452394\" xlink:href=\"#mc9771deb23\" y=\"245.836875\"/>\n      </g>\n     </g>\n     <g id=\"text_185\">\n      <!-- 4 -->\n      <g transform=\"translate(270.211769 259.199375)rotate(-90)scale(0.1 -0.1)\">\n       <use xlink:href=\"#DejaVuSans-52\"/>\n      </g>\n     </g>\n    </g>\n    <g id=\"xtick_186\">\n     <g id=\"line2d_371\">\n      <path clip-path=\"url(#pc9f2e193b3)\" d=\"M 267.452394 245.836875 \nL 267.452394 28.396875 \n\" style=\"fill:none;stroke:#b0b0b0;stroke-linecap:square;stroke-width:0.8;\"/>\n     </g>\n     <g id=\"line2d_372\">\n      <g>\n       <use style=\"stroke:#000000;stroke-width:0.8;\" x=\"267.452394\" xlink:href=\"#mc9771deb23\" y=\"245.836875\"/>\n      </g>\n     </g>\n     <g id=\"text_186\">\n      <!-- 4 -->\n      <g transform=\"translate(270.211769 259.199375)rotate(-90)scale(0.1 -0.1)\">\n       <use xlink:href=\"#DejaVuSans-52\"/>\n      </g>\n     </g>\n    </g>\n    <g id=\"xtick_187\">\n     <g id=\"line2d_373\">\n      <path clip-path=\"url(#pc9f2e193b3)\" d=\"M 267.452394 245.836875 \nL 267.452394 28.396875 \n\" style=\"fill:none;stroke:#b0b0b0;stroke-linecap:square;stroke-width:0.8;\"/>\n     </g>\n     <g id=\"line2d_374\">\n      <g>\n       <use style=\"stroke:#000000;stroke-width:0.8;\" x=\"267.452394\" xlink:href=\"#mc9771deb23\" y=\"245.836875\"/>\n      </g>\n     </g>\n     <g id=\"text_187\">\n      <!-- 4 -->\n      <g transform=\"translate(270.211769 259.199375)rotate(-90)scale(0.1 -0.1)\">\n       <use xlink:href=\"#DejaVuSans-52\"/>\n      </g>\n     </g>\n    </g>\n    <g id=\"xtick_188\">\n     <g id=\"line2d_375\">\n      <path clip-path=\"url(#pc9f2e193b3)\" d=\"M 267.452394 245.836875 \nL 267.452394 28.396875 \n\" style=\"fill:none;stroke:#b0b0b0;stroke-linecap:square;stroke-width:0.8;\"/>\n     </g>\n     <g id=\"line2d_376\">\n      <g>\n       <use style=\"stroke:#000000;stroke-width:0.8;\" x=\"267.452394\" xlink:href=\"#mc9771deb23\" y=\"245.836875\"/>\n      </g>\n     </g>\n     <g id=\"text_188\">\n      <!-- 4 -->\n      <g transform=\"translate(270.211769 259.199375)rotate(-90)scale(0.1 -0.1)\">\n       <use xlink:href=\"#DejaVuSans-52\"/>\n      </g>\n     </g>\n    </g>\n    <g id=\"xtick_189\">\n     <g id=\"line2d_377\">\n      <path clip-path=\"url(#pc9f2e193b3)\" d=\"M 267.452394 245.836875 \nL 267.452394 28.396875 \n\" style=\"fill:none;stroke:#b0b0b0;stroke-linecap:square;stroke-width:0.8;\"/>\n     </g>\n     <g id=\"line2d_378\">\n      <g>\n       <use style=\"stroke:#000000;stroke-width:0.8;\" x=\"267.452394\" xlink:href=\"#mc9771deb23\" y=\"245.836875\"/>\n      </g>\n     </g>\n     <g id=\"text_189\">\n      <!-- 4 -->\n      <g transform=\"translate(270.211769 259.199375)rotate(-90)scale(0.1 -0.1)\">\n       <use xlink:href=\"#DejaVuSans-52\"/>\n      </g>\n     </g>\n    </g>\n    <g id=\"xtick_190\">\n     <g id=\"line2d_379\">\n      <path clip-path=\"url(#pc9f2e193b3)\" d=\"M 267.452394 245.836875 \nL 267.452394 28.396875 \n\" style=\"fill:none;stroke:#b0b0b0;stroke-linecap:square;stroke-width:0.8;\"/>\n     </g>\n     <g id=\"line2d_380\">\n      <g>\n       <use style=\"stroke:#000000;stroke-width:0.8;\" x=\"267.452394\" xlink:href=\"#mc9771deb23\" y=\"245.836875\"/>\n      </g>\n     </g>\n     <g id=\"text_190\">\n      <!-- 4 -->\n      <g transform=\"translate(270.211769 259.199375)rotate(-90)scale(0.1 -0.1)\">\n       <use xlink:href=\"#DejaVuSans-52\"/>\n      </g>\n     </g>\n    </g>\n    <g id=\"xtick_191\">\n     <g id=\"line2d_381\">\n      <path clip-path=\"url(#pc9f2e193b3)\" d=\"M 267.452394 245.836875 \nL 267.452394 28.396875 \n\" style=\"fill:none;stroke:#b0b0b0;stroke-linecap:square;stroke-width:0.8;\"/>\n     </g>\n     <g id=\"line2d_382\">\n      <g>\n       <use style=\"stroke:#000000;stroke-width:0.8;\" x=\"267.452394\" xlink:href=\"#mc9771deb23\" y=\"245.836875\"/>\n      </g>\n     </g>\n     <g id=\"text_191\">\n      <!-- 4 -->\n      <g transform=\"translate(270.211769 259.199375)rotate(-90)scale(0.1 -0.1)\">\n       <use xlink:href=\"#DejaVuSans-52\"/>\n      </g>\n     </g>\n    </g>\n    <g id=\"xtick_192\">\n     <g id=\"line2d_383\">\n      <path clip-path=\"url(#pc9f2e193b3)\" d=\"M 267.452394 245.836875 \nL 267.452394 28.396875 \n\" style=\"fill:none;stroke:#b0b0b0;stroke-linecap:square;stroke-width:0.8;\"/>\n     </g>\n     <g id=\"line2d_384\">\n      <g>\n       <use style=\"stroke:#000000;stroke-width:0.8;\" x=\"267.452394\" xlink:href=\"#mc9771deb23\" y=\"245.836875\"/>\n      </g>\n     </g>\n     <g id=\"text_192\">\n      <!-- 4 -->\n      <g transform=\"translate(270.211769 259.199375)rotate(-90)scale(0.1 -0.1)\">\n       <use xlink:href=\"#DejaVuSans-52\"/>\n      </g>\n     </g>\n    </g>\n    <g id=\"xtick_193\">\n     <g id=\"line2d_385\">\n      <path clip-path=\"url(#pc9f2e193b3)\" d=\"M 310.932914 245.836875 \nL 310.932914 28.396875 \n\" style=\"fill:none;stroke:#b0b0b0;stroke-linecap:square;stroke-width:0.8;\"/>\n     </g>\n     <g id=\"line2d_386\">\n      <g>\n       <use style=\"stroke:#000000;stroke-width:0.8;\" x=\"310.932914\" xlink:href=\"#mc9771deb23\" y=\"245.836875\"/>\n      </g>\n     </g>\n     <g id=\"text_193\">\n      <!-- 5 -->\n      <g transform=\"translate(313.692289 259.199375)rotate(-90)scale(0.1 -0.1)\">\n       <defs>\n        <path d=\"M 10.796875 72.90625 \nL 49.515625 72.90625 \nL 49.515625 64.59375 \nL 19.828125 64.59375 \nL 19.828125 46.734375 \nQ 21.96875 47.46875 24.109375 47.828125 \nQ 26.265625 48.1875 28.421875 48.1875 \nQ 40.625 48.1875 47.75 41.5 \nQ 54.890625 34.8125 54.890625 23.390625 \nQ 54.890625 11.625 47.5625 5.09375 \nQ 40.234375 -1.421875 26.90625 -1.421875 \nQ 22.3125 -1.421875 17.546875 -0.640625 \nQ 12.796875 0.140625 7.71875 1.703125 \nL 7.71875 11.625 \nQ 12.109375 9.234375 16.796875 8.0625 \nQ 21.484375 6.890625 26.703125 6.890625 \nQ 35.15625 6.890625 40.078125 11.328125 \nQ 45.015625 15.765625 45.015625 23.390625 \nQ 45.015625 31 40.078125 35.4375 \nQ 35.15625 39.890625 26.703125 39.890625 \nQ 22.75 39.890625 18.8125 39.015625 \nQ 14.890625 38.140625 10.796875 36.28125 \nz\n\" id=\"DejaVuSans-53\"/>\n       </defs>\n       <use xlink:href=\"#DejaVuSans-53\"/>\n      </g>\n     </g>\n    </g>\n    <g id=\"xtick_194\">\n     <g id=\"line2d_387\">\n      <path clip-path=\"url(#pc9f2e193b3)\" d=\"M 310.932914 245.836875 \nL 310.932914 28.396875 \n\" style=\"fill:none;stroke:#b0b0b0;stroke-linecap:square;stroke-width:0.8;\"/>\n     </g>\n     <g id=\"line2d_388\">\n      <g>\n       <use style=\"stroke:#000000;stroke-width:0.8;\" x=\"310.932914\" xlink:href=\"#mc9771deb23\" y=\"245.836875\"/>\n      </g>\n     </g>\n     <g id=\"text_194\">\n      <!-- 5 -->\n      <g transform=\"translate(313.692289 259.199375)rotate(-90)scale(0.1 -0.1)\">\n       <use xlink:href=\"#DejaVuSans-53\"/>\n      </g>\n     </g>\n    </g>\n    <g id=\"xtick_195\">\n     <g id=\"line2d_389\">\n      <path clip-path=\"url(#pc9f2e193b3)\" d=\"M 310.932914 245.836875 \nL 310.932914 28.396875 \n\" style=\"fill:none;stroke:#b0b0b0;stroke-linecap:square;stroke-width:0.8;\"/>\n     </g>\n     <g id=\"line2d_390\">\n      <g>\n       <use style=\"stroke:#000000;stroke-width:0.8;\" x=\"310.932914\" xlink:href=\"#mc9771deb23\" y=\"245.836875\"/>\n      </g>\n     </g>\n     <g id=\"text_195\">\n      <!-- 5 -->\n      <g transform=\"translate(313.692289 259.199375)rotate(-90)scale(0.1 -0.1)\">\n       <use xlink:href=\"#DejaVuSans-53\"/>\n      </g>\n     </g>\n    </g>\n    <g id=\"xtick_196\">\n     <g id=\"line2d_391\">\n      <path clip-path=\"url(#pc9f2e193b3)\" d=\"M 310.932914 245.836875 \nL 310.932914 28.396875 \n\" style=\"fill:none;stroke:#b0b0b0;stroke-linecap:square;stroke-width:0.8;\"/>\n     </g>\n     <g id=\"line2d_392\">\n      <g>\n       <use style=\"stroke:#000000;stroke-width:0.8;\" x=\"310.932914\" xlink:href=\"#mc9771deb23\" y=\"245.836875\"/>\n      </g>\n     </g>\n     <g id=\"text_196\">\n      <!-- 5 -->\n      <g transform=\"translate(313.692289 259.199375)rotate(-90)scale(0.1 -0.1)\">\n       <use xlink:href=\"#DejaVuSans-53\"/>\n      </g>\n     </g>\n    </g>\n    <g id=\"xtick_197\">\n     <g id=\"line2d_393\">\n      <path clip-path=\"url(#pc9f2e193b3)\" d=\"M 310.932914 245.836875 \nL 310.932914 28.396875 \n\" style=\"fill:none;stroke:#b0b0b0;stroke-linecap:square;stroke-width:0.8;\"/>\n     </g>\n     <g id=\"line2d_394\">\n      <g>\n       <use style=\"stroke:#000000;stroke-width:0.8;\" x=\"310.932914\" xlink:href=\"#mc9771deb23\" y=\"245.836875\"/>\n      </g>\n     </g>\n     <g id=\"text_197\">\n      <!-- 5 -->\n      <g transform=\"translate(313.692289 259.199375)rotate(-90)scale(0.1 -0.1)\">\n       <use xlink:href=\"#DejaVuSans-53\"/>\n      </g>\n     </g>\n    </g>\n    <g id=\"xtick_198\">\n     <g id=\"line2d_395\">\n      <path clip-path=\"url(#pc9f2e193b3)\" d=\"M 310.932914 245.836875 \nL 310.932914 28.396875 \n\" style=\"fill:none;stroke:#b0b0b0;stroke-linecap:square;stroke-width:0.8;\"/>\n     </g>\n     <g id=\"line2d_396\">\n      <g>\n       <use style=\"stroke:#000000;stroke-width:0.8;\" x=\"310.932914\" xlink:href=\"#mc9771deb23\" y=\"245.836875\"/>\n      </g>\n     </g>\n     <g id=\"text_198\">\n      <!-- 5 -->\n      <g transform=\"translate(313.692289 259.199375)rotate(-90)scale(0.1 -0.1)\">\n       <use xlink:href=\"#DejaVuSans-53\"/>\n      </g>\n     </g>\n    </g>\n    <g id=\"xtick_199\">\n     <g id=\"line2d_397\">\n      <path clip-path=\"url(#pc9f2e193b3)\" d=\"M 310.932914 245.836875 \nL 310.932914 28.396875 \n\" style=\"fill:none;stroke:#b0b0b0;stroke-linecap:square;stroke-width:0.8;\"/>\n     </g>\n     <g id=\"line2d_398\">\n      <g>\n       <use style=\"stroke:#000000;stroke-width:0.8;\" x=\"310.932914\" xlink:href=\"#mc9771deb23\" y=\"245.836875\"/>\n      </g>\n     </g>\n     <g id=\"text_199\">\n      <!-- 5 -->\n      <g transform=\"translate(313.692289 259.199375)rotate(-90)scale(0.1 -0.1)\">\n       <use xlink:href=\"#DejaVuSans-53\"/>\n      </g>\n     </g>\n    </g>\n    <g id=\"xtick_200\">\n     <g id=\"line2d_399\">\n      <path clip-path=\"url(#pc9f2e193b3)\" d=\"M 310.932914 245.836875 \nL 310.932914 28.396875 \n\" style=\"fill:none;stroke:#b0b0b0;stroke-linecap:square;stroke-width:0.8;\"/>\n     </g>\n     <g id=\"line2d_400\">\n      <g>\n       <use style=\"stroke:#000000;stroke-width:0.8;\" x=\"310.932914\" xlink:href=\"#mc9771deb23\" y=\"245.836875\"/>\n      </g>\n     </g>\n     <g id=\"text_200\">\n      <!-- 5 -->\n      <g transform=\"translate(313.692289 259.199375)rotate(-90)scale(0.1 -0.1)\">\n       <use xlink:href=\"#DejaVuSans-53\"/>\n      </g>\n     </g>\n    </g>\n    <g id=\"xtick_201\">\n     <g id=\"line2d_401\">\n      <path clip-path=\"url(#pc9f2e193b3)\" d=\"M 310.932914 245.836875 \nL 310.932914 28.396875 \n\" style=\"fill:none;stroke:#b0b0b0;stroke-linecap:square;stroke-width:0.8;\"/>\n     </g>\n     <g id=\"line2d_402\">\n      <g>\n       <use style=\"stroke:#000000;stroke-width:0.8;\" x=\"310.932914\" xlink:href=\"#mc9771deb23\" y=\"245.836875\"/>\n      </g>\n     </g>\n     <g id=\"text_201\">\n      <!-- 5 -->\n      <g transform=\"translate(313.692289 259.199375)rotate(-90)scale(0.1 -0.1)\">\n       <use xlink:href=\"#DejaVuSans-53\"/>\n      </g>\n     </g>\n    </g>\n    <g id=\"xtick_202\">\n     <g id=\"line2d_403\">\n      <path clip-path=\"url(#pc9f2e193b3)\" d=\"M 310.932914 245.836875 \nL 310.932914 28.396875 \n\" style=\"fill:none;stroke:#b0b0b0;stroke-linecap:square;stroke-width:0.8;\"/>\n     </g>\n     <g id=\"line2d_404\">\n      <g>\n       <use style=\"stroke:#000000;stroke-width:0.8;\" x=\"310.932914\" xlink:href=\"#mc9771deb23\" y=\"245.836875\"/>\n      </g>\n     </g>\n     <g id=\"text_202\">\n      <!-- 5 -->\n      <g transform=\"translate(313.692289 259.199375)rotate(-90)scale(0.1 -0.1)\">\n       <use xlink:href=\"#DejaVuSans-53\"/>\n      </g>\n     </g>\n    </g>\n    <g id=\"xtick_203\">\n     <g id=\"line2d_405\">\n      <path clip-path=\"url(#pc9f2e193b3)\" d=\"M 310.932914 245.836875 \nL 310.932914 28.396875 \n\" style=\"fill:none;stroke:#b0b0b0;stroke-linecap:square;stroke-width:0.8;\"/>\n     </g>\n     <g id=\"line2d_406\">\n      <g>\n       <use style=\"stroke:#000000;stroke-width:0.8;\" x=\"310.932914\" xlink:href=\"#mc9771deb23\" y=\"245.836875\"/>\n      </g>\n     </g>\n     <g id=\"text_203\">\n      <!-- 5 -->\n      <g transform=\"translate(313.692289 259.199375)rotate(-90)scale(0.1 -0.1)\">\n       <use xlink:href=\"#DejaVuSans-53\"/>\n      </g>\n     </g>\n    </g>\n    <g id=\"xtick_204\">\n     <g id=\"line2d_407\">\n      <path clip-path=\"url(#pc9f2e193b3)\" d=\"M 310.932914 245.836875 \nL 310.932914 28.396875 \n\" style=\"fill:none;stroke:#b0b0b0;stroke-linecap:square;stroke-width:0.8;\"/>\n     </g>\n     <g id=\"line2d_408\">\n      <g>\n       <use style=\"stroke:#000000;stroke-width:0.8;\" x=\"310.932914\" xlink:href=\"#mc9771deb23\" y=\"245.836875\"/>\n      </g>\n     </g>\n     <g id=\"text_204\">\n      <!-- 5 -->\n      <g transform=\"translate(313.692289 259.199375)rotate(-90)scale(0.1 -0.1)\">\n       <use xlink:href=\"#DejaVuSans-53\"/>\n      </g>\n     </g>\n    </g>\n    <g id=\"xtick_205\">\n     <g id=\"line2d_409\">\n      <path clip-path=\"url(#pc9f2e193b3)\" d=\"M 310.932914 245.836875 \nL 310.932914 28.396875 \n\" style=\"fill:none;stroke:#b0b0b0;stroke-linecap:square;stroke-width:0.8;\"/>\n     </g>\n     <g id=\"line2d_410\">\n      <g>\n       <use style=\"stroke:#000000;stroke-width:0.8;\" x=\"310.932914\" xlink:href=\"#mc9771deb23\" y=\"245.836875\"/>\n      </g>\n     </g>\n     <g id=\"text_205\">\n      <!-- 5 -->\n      <g transform=\"translate(313.692289 259.199375)rotate(-90)scale(0.1 -0.1)\">\n       <use xlink:href=\"#DejaVuSans-53\"/>\n      </g>\n     </g>\n    </g>\n    <g id=\"xtick_206\">\n     <g id=\"line2d_411\">\n      <path clip-path=\"url(#pc9f2e193b3)\" d=\"M 310.932914 245.836875 \nL 310.932914 28.396875 \n\" style=\"fill:none;stroke:#b0b0b0;stroke-linecap:square;stroke-width:0.8;\"/>\n     </g>\n     <g id=\"line2d_412\">\n      <g>\n       <use style=\"stroke:#000000;stroke-width:0.8;\" x=\"310.932914\" xlink:href=\"#mc9771deb23\" y=\"245.836875\"/>\n      </g>\n     </g>\n     <g id=\"text_206\">\n      <!-- 5 -->\n      <g transform=\"translate(313.692289 259.199375)rotate(-90)scale(0.1 -0.1)\">\n       <use xlink:href=\"#DejaVuSans-53\"/>\n      </g>\n     </g>\n    </g>\n    <g id=\"xtick_207\">\n     <g id=\"line2d_413\">\n      <path clip-path=\"url(#pc9f2e193b3)\" d=\"M 310.932914 245.836875 \nL 310.932914 28.396875 \n\" style=\"fill:none;stroke:#b0b0b0;stroke-linecap:square;stroke-width:0.8;\"/>\n     </g>\n     <g id=\"line2d_414\">\n      <g>\n       <use style=\"stroke:#000000;stroke-width:0.8;\" x=\"310.932914\" xlink:href=\"#mc9771deb23\" y=\"245.836875\"/>\n      </g>\n     </g>\n     <g id=\"text_207\">\n      <!-- 5 -->\n      <g transform=\"translate(313.692289 259.199375)rotate(-90)scale(0.1 -0.1)\">\n       <use xlink:href=\"#DejaVuSans-53\"/>\n      </g>\n     </g>\n    </g>\n    <g id=\"xtick_208\">\n     <g id=\"line2d_415\">\n      <path clip-path=\"url(#pc9f2e193b3)\" d=\"M 310.932914 245.836875 \nL 310.932914 28.396875 \n\" style=\"fill:none;stroke:#b0b0b0;stroke-linecap:square;stroke-width:0.8;\"/>\n     </g>\n     <g id=\"line2d_416\">\n      <g>\n       <use style=\"stroke:#000000;stroke-width:0.8;\" x=\"310.932914\" xlink:href=\"#mc9771deb23\" y=\"245.836875\"/>\n      </g>\n     </g>\n     <g id=\"text_208\">\n      <!-- 5 -->\n      <g transform=\"translate(313.692289 259.199375)rotate(-90)scale(0.1 -0.1)\">\n       <use xlink:href=\"#DejaVuSans-53\"/>\n      </g>\n     </g>\n    </g>\n    <g id=\"xtick_209\">\n     <g id=\"line2d_417\">\n      <path clip-path=\"url(#pc9f2e193b3)\" d=\"M 310.932914 245.836875 \nL 310.932914 28.396875 \n\" style=\"fill:none;stroke:#b0b0b0;stroke-linecap:square;stroke-width:0.8;\"/>\n     </g>\n     <g id=\"line2d_418\">\n      <g>\n       <use style=\"stroke:#000000;stroke-width:0.8;\" x=\"310.932914\" xlink:href=\"#mc9771deb23\" y=\"245.836875\"/>\n      </g>\n     </g>\n     <g id=\"text_209\">\n      <!-- 5 -->\n      <g transform=\"translate(313.692289 259.199375)rotate(-90)scale(0.1 -0.1)\">\n       <use xlink:href=\"#DejaVuSans-53\"/>\n      </g>\n     </g>\n    </g>\n    <g id=\"xtick_210\">\n     <g id=\"line2d_419\">\n      <path clip-path=\"url(#pc9f2e193b3)\" d=\"M 310.932914 245.836875 \nL 310.932914 28.396875 \n\" style=\"fill:none;stroke:#b0b0b0;stroke-linecap:square;stroke-width:0.8;\"/>\n     </g>\n     <g id=\"line2d_420\">\n      <g>\n       <use style=\"stroke:#000000;stroke-width:0.8;\" x=\"310.932914\" xlink:href=\"#mc9771deb23\" y=\"245.836875\"/>\n      </g>\n     </g>\n     <g id=\"text_210\">\n      <!-- 5 -->\n      <g transform=\"translate(313.692289 259.199375)rotate(-90)scale(0.1 -0.1)\">\n       <use xlink:href=\"#DejaVuSans-53\"/>\n      </g>\n     </g>\n    </g>\n    <g id=\"xtick_211\">\n     <g id=\"line2d_421\">\n      <path clip-path=\"url(#pc9f2e193b3)\" d=\"M 310.932914 245.836875 \nL 310.932914 28.396875 \n\" style=\"fill:none;stroke:#b0b0b0;stroke-linecap:square;stroke-width:0.8;\"/>\n     </g>\n     <g id=\"line2d_422\">\n      <g>\n       <use style=\"stroke:#000000;stroke-width:0.8;\" x=\"310.932914\" xlink:href=\"#mc9771deb23\" y=\"245.836875\"/>\n      </g>\n     </g>\n     <g id=\"text_211\">\n      <!-- 5 -->\n      <g transform=\"translate(313.692289 259.199375)rotate(-90)scale(0.1 -0.1)\">\n       <use xlink:href=\"#DejaVuSans-53\"/>\n      </g>\n     </g>\n    </g>\n    <g id=\"xtick_212\">\n     <g id=\"line2d_423\">\n      <path clip-path=\"url(#pc9f2e193b3)\" d=\"M 310.932914 245.836875 \nL 310.932914 28.396875 \n\" style=\"fill:none;stroke:#b0b0b0;stroke-linecap:square;stroke-width:0.8;\"/>\n     </g>\n     <g id=\"line2d_424\">\n      <g>\n       <use style=\"stroke:#000000;stroke-width:0.8;\" x=\"310.932914\" xlink:href=\"#mc9771deb23\" y=\"245.836875\"/>\n      </g>\n     </g>\n     <g id=\"text_212\">\n      <!-- 5 -->\n      <g transform=\"translate(313.692289 259.199375)rotate(-90)scale(0.1 -0.1)\">\n       <use xlink:href=\"#DejaVuSans-53\"/>\n      </g>\n     </g>\n    </g>\n    <g id=\"xtick_213\">\n     <g id=\"line2d_425\">\n      <path clip-path=\"url(#pc9f2e193b3)\" d=\"M 310.932914 245.836875 \nL 310.932914 28.396875 \n\" style=\"fill:none;stroke:#b0b0b0;stroke-linecap:square;stroke-width:0.8;\"/>\n     </g>\n     <g id=\"line2d_426\">\n      <g>\n       <use style=\"stroke:#000000;stroke-width:0.8;\" x=\"310.932914\" xlink:href=\"#mc9771deb23\" y=\"245.836875\"/>\n      </g>\n     </g>\n     <g id=\"text_213\">\n      <!-- 5 -->\n      <g transform=\"translate(313.692289 259.199375)rotate(-90)scale(0.1 -0.1)\">\n       <use xlink:href=\"#DejaVuSans-53\"/>\n      </g>\n     </g>\n    </g>\n    <g id=\"xtick_214\">\n     <g id=\"line2d_427\">\n      <path clip-path=\"url(#pc9f2e193b3)\" d=\"M 310.932914 245.836875 \nL 310.932914 28.396875 \n\" style=\"fill:none;stroke:#b0b0b0;stroke-linecap:square;stroke-width:0.8;\"/>\n     </g>\n     <g id=\"line2d_428\">\n      <g>\n       <use style=\"stroke:#000000;stroke-width:0.8;\" x=\"310.932914\" xlink:href=\"#mc9771deb23\" y=\"245.836875\"/>\n      </g>\n     </g>\n     <g id=\"text_214\">\n      <!-- 5 -->\n      <g transform=\"translate(313.692289 259.199375)rotate(-90)scale(0.1 -0.1)\">\n       <use xlink:href=\"#DejaVuSans-53\"/>\n      </g>\n     </g>\n    </g>\n    <g id=\"xtick_215\">\n     <g id=\"line2d_429\">\n      <path clip-path=\"url(#pc9f2e193b3)\" d=\"M 310.932914 245.836875 \nL 310.932914 28.396875 \n\" style=\"fill:none;stroke:#b0b0b0;stroke-linecap:square;stroke-width:0.8;\"/>\n     </g>\n     <g id=\"line2d_430\">\n      <g>\n       <use style=\"stroke:#000000;stroke-width:0.8;\" x=\"310.932914\" xlink:href=\"#mc9771deb23\" y=\"245.836875\"/>\n      </g>\n     </g>\n     <g id=\"text_215\">\n      <!-- 5 -->\n      <g transform=\"translate(313.692289 259.199375)rotate(-90)scale(0.1 -0.1)\">\n       <use xlink:href=\"#DejaVuSans-53\"/>\n      </g>\n     </g>\n    </g>\n    <g id=\"xtick_216\">\n     <g id=\"line2d_431\">\n      <path clip-path=\"url(#pc9f2e193b3)\" d=\"M 310.932914 245.836875 \nL 310.932914 28.396875 \n\" style=\"fill:none;stroke:#b0b0b0;stroke-linecap:square;stroke-width:0.8;\"/>\n     </g>\n     <g id=\"line2d_432\">\n      <g>\n       <use style=\"stroke:#000000;stroke-width:0.8;\" x=\"310.932914\" xlink:href=\"#mc9771deb23\" y=\"245.836875\"/>\n      </g>\n     </g>\n     <g id=\"text_216\">\n      <!-- 5 -->\n      <g transform=\"translate(313.692289 259.199375)rotate(-90)scale(0.1 -0.1)\">\n       <use xlink:href=\"#DejaVuSans-53\"/>\n      </g>\n     </g>\n    </g>\n    <g id=\"xtick_217\">\n     <g id=\"line2d_433\">\n      <path clip-path=\"url(#pc9f2e193b3)\" d=\"M 310.932914 245.836875 \nL 310.932914 28.396875 \n\" style=\"fill:none;stroke:#b0b0b0;stroke-linecap:square;stroke-width:0.8;\"/>\n     </g>\n     <g id=\"line2d_434\">\n      <g>\n       <use style=\"stroke:#000000;stroke-width:0.8;\" x=\"310.932914\" xlink:href=\"#mc9771deb23\" y=\"245.836875\"/>\n      </g>\n     </g>\n     <g id=\"text_217\">\n      <!-- 5 -->\n      <g transform=\"translate(313.692289 259.199375)rotate(-90)scale(0.1 -0.1)\">\n       <use xlink:href=\"#DejaVuSans-53\"/>\n      </g>\n     </g>\n    </g>\n    <g id=\"xtick_218\">\n     <g id=\"line2d_435\">\n      <path clip-path=\"url(#pc9f2e193b3)\" d=\"M 310.932914 245.836875 \nL 310.932914 28.396875 \n\" style=\"fill:none;stroke:#b0b0b0;stroke-linecap:square;stroke-width:0.8;\"/>\n     </g>\n     <g id=\"line2d_436\">\n      <g>\n       <use style=\"stroke:#000000;stroke-width:0.8;\" x=\"310.932914\" xlink:href=\"#mc9771deb23\" y=\"245.836875\"/>\n      </g>\n     </g>\n     <g id=\"text_218\">\n      <!-- 5 -->\n      <g transform=\"translate(313.692289 259.199375)rotate(-90)scale(0.1 -0.1)\">\n       <use xlink:href=\"#DejaVuSans-53\"/>\n      </g>\n     </g>\n    </g>\n    <g id=\"xtick_219\">\n     <g id=\"line2d_437\">\n      <path clip-path=\"url(#pc9f2e193b3)\" d=\"M 310.932914 245.836875 \nL 310.932914 28.396875 \n\" style=\"fill:none;stroke:#b0b0b0;stroke-linecap:square;stroke-width:0.8;\"/>\n     </g>\n     <g id=\"line2d_438\">\n      <g>\n       <use style=\"stroke:#000000;stroke-width:0.8;\" x=\"310.932914\" xlink:href=\"#mc9771deb23\" y=\"245.836875\"/>\n      </g>\n     </g>\n     <g id=\"text_219\">\n      <!-- 5 -->\n      <g transform=\"translate(313.692289 259.199375)rotate(-90)scale(0.1 -0.1)\">\n       <use xlink:href=\"#DejaVuSans-53\"/>\n      </g>\n     </g>\n    </g>\n    <g id=\"xtick_220\">\n     <g id=\"line2d_439\">\n      <path clip-path=\"url(#pc9f2e193b3)\" d=\"M 310.932914 245.836875 \nL 310.932914 28.396875 \n\" style=\"fill:none;stroke:#b0b0b0;stroke-linecap:square;stroke-width:0.8;\"/>\n     </g>\n     <g id=\"line2d_440\">\n      <g>\n       <use style=\"stroke:#000000;stroke-width:0.8;\" x=\"310.932914\" xlink:href=\"#mc9771deb23\" y=\"245.836875\"/>\n      </g>\n     </g>\n     <g id=\"text_220\">\n      <!-- 5 -->\n      <g transform=\"translate(313.692289 259.199375)rotate(-90)scale(0.1 -0.1)\">\n       <use xlink:href=\"#DejaVuSans-53\"/>\n      </g>\n     </g>\n    </g>\n    <g id=\"xtick_221\">\n     <g id=\"line2d_441\">\n      <path clip-path=\"url(#pc9f2e193b3)\" d=\"M 310.932914 245.836875 \nL 310.932914 28.396875 \n\" style=\"fill:none;stroke:#b0b0b0;stroke-linecap:square;stroke-width:0.8;\"/>\n     </g>\n     <g id=\"line2d_442\">\n      <g>\n       <use style=\"stroke:#000000;stroke-width:0.8;\" x=\"310.932914\" xlink:href=\"#mc9771deb23\" y=\"245.836875\"/>\n      </g>\n     </g>\n     <g id=\"text_221\">\n      <!-- 5 -->\n      <g transform=\"translate(313.692289 259.199375)rotate(-90)scale(0.1 -0.1)\">\n       <use xlink:href=\"#DejaVuSans-53\"/>\n      </g>\n     </g>\n    </g>\n    <g id=\"xtick_222\">\n     <g id=\"line2d_443\">\n      <path clip-path=\"url(#pc9f2e193b3)\" d=\"M 310.932914 245.836875 \nL 310.932914 28.396875 \n\" style=\"fill:none;stroke:#b0b0b0;stroke-linecap:square;stroke-width:0.8;\"/>\n     </g>\n     <g id=\"line2d_444\">\n      <g>\n       <use style=\"stroke:#000000;stroke-width:0.8;\" x=\"310.932914\" xlink:href=\"#mc9771deb23\" y=\"245.836875\"/>\n      </g>\n     </g>\n     <g id=\"text_222\">\n      <!-- 5 -->\n      <g transform=\"translate(313.692289 259.199375)rotate(-90)scale(0.1 -0.1)\">\n       <use xlink:href=\"#DejaVuSans-53\"/>\n      </g>\n     </g>\n    </g>\n    <g id=\"xtick_223\">\n     <g id=\"line2d_445\">\n      <path clip-path=\"url(#pc9f2e193b3)\" d=\"M 310.932914 245.836875 \nL 310.932914 28.396875 \n\" style=\"fill:none;stroke:#b0b0b0;stroke-linecap:square;stroke-width:0.8;\"/>\n     </g>\n     <g id=\"line2d_446\">\n      <g>\n       <use style=\"stroke:#000000;stroke-width:0.8;\" x=\"310.932914\" xlink:href=\"#mc9771deb23\" y=\"245.836875\"/>\n      </g>\n     </g>\n     <g id=\"text_223\">\n      <!-- 5 -->\n      <g transform=\"translate(313.692289 259.199375)rotate(-90)scale(0.1 -0.1)\">\n       <use xlink:href=\"#DejaVuSans-53\"/>\n      </g>\n     </g>\n    </g>\n    <g id=\"xtick_224\">\n     <g id=\"line2d_447\">\n      <path clip-path=\"url(#pc9f2e193b3)\" d=\"M 310.932914 245.836875 \nL 310.932914 28.396875 \n\" style=\"fill:none;stroke:#b0b0b0;stroke-linecap:square;stroke-width:0.8;\"/>\n     </g>\n     <g id=\"line2d_448\">\n      <g>\n       <use style=\"stroke:#000000;stroke-width:0.8;\" x=\"310.932914\" xlink:href=\"#mc9771deb23\" y=\"245.836875\"/>\n      </g>\n     </g>\n     <g id=\"text_224\">\n      <!-- 5 -->\n      <g transform=\"translate(313.692289 259.199375)rotate(-90)scale(0.1 -0.1)\">\n       <use xlink:href=\"#DejaVuSans-53\"/>\n      </g>\n     </g>\n    </g>\n    <g id=\"xtick_225\">\n     <g id=\"line2d_449\">\n      <path clip-path=\"url(#pc9f2e193b3)\" d=\"M 354.413433 245.836875 \nL 354.413433 28.396875 \n\" style=\"fill:none;stroke:#b0b0b0;stroke-linecap:square;stroke-width:0.8;\"/>\n     </g>\n     <g id=\"line2d_450\">\n      <g>\n       <use style=\"stroke:#000000;stroke-width:0.8;\" x=\"354.413433\" xlink:href=\"#mc9771deb23\" y=\"245.836875\"/>\n      </g>\n     </g>\n     <g id=\"text_225\">\n      <!-- 6 -->\n      <g transform=\"translate(357.172808 259.199375)rotate(-90)scale(0.1 -0.1)\">\n       <defs>\n        <path d=\"M 33.015625 40.375 \nQ 26.375 40.375 22.484375 35.828125 \nQ 18.609375 31.296875 18.609375 23.390625 \nQ 18.609375 15.53125 22.484375 10.953125 \nQ 26.375 6.390625 33.015625 6.390625 \nQ 39.65625 6.390625 43.53125 10.953125 \nQ 47.40625 15.53125 47.40625 23.390625 \nQ 47.40625 31.296875 43.53125 35.828125 \nQ 39.65625 40.375 33.015625 40.375 \nz\nM 52.59375 71.296875 \nL 52.59375 62.3125 \nQ 48.875 64.0625 45.09375 64.984375 \nQ 41.3125 65.921875 37.59375 65.921875 \nQ 27.828125 65.921875 22.671875 59.328125 \nQ 17.53125 52.734375 16.796875 39.40625 \nQ 19.671875 43.65625 24.015625 45.921875 \nQ 28.375 48.1875 33.59375 48.1875 \nQ 44.578125 48.1875 50.953125 41.515625 \nQ 57.328125 34.859375 57.328125 23.390625 \nQ 57.328125 12.15625 50.6875 5.359375 \nQ 44.046875 -1.421875 33.015625 -1.421875 \nQ 20.359375 -1.421875 13.671875 8.265625 \nQ 6.984375 17.96875 6.984375 36.375 \nQ 6.984375 53.65625 15.1875 63.9375 \nQ 23.390625 74.21875 37.203125 74.21875 \nQ 40.921875 74.21875 44.703125 73.484375 \nQ 48.484375 72.75 52.59375 71.296875 \nz\n\" id=\"DejaVuSans-54\"/>\n       </defs>\n       <use xlink:href=\"#DejaVuSans-54\"/>\n      </g>\n     </g>\n    </g>\n    <g id=\"xtick_226\">\n     <g id=\"line2d_451\">\n      <path clip-path=\"url(#pc9f2e193b3)\" d=\"M 354.413433 245.836875 \nL 354.413433 28.396875 \n\" style=\"fill:none;stroke:#b0b0b0;stroke-linecap:square;stroke-width:0.8;\"/>\n     </g>\n     <g id=\"line2d_452\">\n      <g>\n       <use style=\"stroke:#000000;stroke-width:0.8;\" x=\"354.413433\" xlink:href=\"#mc9771deb23\" y=\"245.836875\"/>\n      </g>\n     </g>\n     <g id=\"text_226\">\n      <!-- 6 -->\n      <g transform=\"translate(357.172808 259.199375)rotate(-90)scale(0.1 -0.1)\">\n       <use xlink:href=\"#DejaVuSans-54\"/>\n      </g>\n     </g>\n    </g>\n    <g id=\"xtick_227\">\n     <g id=\"line2d_453\">\n      <path clip-path=\"url(#pc9f2e193b3)\" d=\"M 354.413433 245.836875 \nL 354.413433 28.396875 \n\" style=\"fill:none;stroke:#b0b0b0;stroke-linecap:square;stroke-width:0.8;\"/>\n     </g>\n     <g id=\"line2d_454\">\n      <g>\n       <use style=\"stroke:#000000;stroke-width:0.8;\" x=\"354.413433\" xlink:href=\"#mc9771deb23\" y=\"245.836875\"/>\n      </g>\n     </g>\n     <g id=\"text_227\">\n      <!-- 6 -->\n      <g transform=\"translate(357.172808 259.199375)rotate(-90)scale(0.1 -0.1)\">\n       <use xlink:href=\"#DejaVuSans-54\"/>\n      </g>\n     </g>\n    </g>\n    <g id=\"xtick_228\">\n     <g id=\"line2d_455\">\n      <path clip-path=\"url(#pc9f2e193b3)\" d=\"M 354.413433 245.836875 \nL 354.413433 28.396875 \n\" style=\"fill:none;stroke:#b0b0b0;stroke-linecap:square;stroke-width:0.8;\"/>\n     </g>\n     <g id=\"line2d_456\">\n      <g>\n       <use style=\"stroke:#000000;stroke-width:0.8;\" x=\"354.413433\" xlink:href=\"#mc9771deb23\" y=\"245.836875\"/>\n      </g>\n     </g>\n     <g id=\"text_228\">\n      <!-- 6 -->\n      <g transform=\"translate(357.172808 259.199375)rotate(-90)scale(0.1 -0.1)\">\n       <use xlink:href=\"#DejaVuSans-54\"/>\n      </g>\n     </g>\n    </g>\n    <g id=\"xtick_229\">\n     <g id=\"line2d_457\">\n      <path clip-path=\"url(#pc9f2e193b3)\" d=\"M 354.413433 245.836875 \nL 354.413433 28.396875 \n\" style=\"fill:none;stroke:#b0b0b0;stroke-linecap:square;stroke-width:0.8;\"/>\n     </g>\n     <g id=\"line2d_458\">\n      <g>\n       <use style=\"stroke:#000000;stroke-width:0.8;\" x=\"354.413433\" xlink:href=\"#mc9771deb23\" y=\"245.836875\"/>\n      </g>\n     </g>\n     <g id=\"text_229\">\n      <!-- 6 -->\n      <g transform=\"translate(357.172808 259.199375)rotate(-90)scale(0.1 -0.1)\">\n       <use xlink:href=\"#DejaVuSans-54\"/>\n      </g>\n     </g>\n    </g>\n    <g id=\"xtick_230\">\n     <g id=\"line2d_459\">\n      <path clip-path=\"url(#pc9f2e193b3)\" d=\"M 354.413433 245.836875 \nL 354.413433 28.396875 \n\" style=\"fill:none;stroke:#b0b0b0;stroke-linecap:square;stroke-width:0.8;\"/>\n     </g>\n     <g id=\"line2d_460\">\n      <g>\n       <use style=\"stroke:#000000;stroke-width:0.8;\" x=\"354.413433\" xlink:href=\"#mc9771deb23\" y=\"245.836875\"/>\n      </g>\n     </g>\n     <g id=\"text_230\">\n      <!-- 6 -->\n      <g transform=\"translate(357.172808 259.199375)rotate(-90)scale(0.1 -0.1)\">\n       <use xlink:href=\"#DejaVuSans-54\"/>\n      </g>\n     </g>\n    </g>\n    <g id=\"xtick_231\">\n     <g id=\"line2d_461\">\n      <path clip-path=\"url(#pc9f2e193b3)\" d=\"M 354.413433 245.836875 \nL 354.413433 28.396875 \n\" style=\"fill:none;stroke:#b0b0b0;stroke-linecap:square;stroke-width:0.8;\"/>\n     </g>\n     <g id=\"line2d_462\">\n      <g>\n       <use style=\"stroke:#000000;stroke-width:0.8;\" x=\"354.413433\" xlink:href=\"#mc9771deb23\" y=\"245.836875\"/>\n      </g>\n     </g>\n     <g id=\"text_231\">\n      <!-- 6 -->\n      <g transform=\"translate(357.172808 259.199375)rotate(-90)scale(0.1 -0.1)\">\n       <use xlink:href=\"#DejaVuSans-54\"/>\n      </g>\n     </g>\n    </g>\n    <g id=\"xtick_232\">\n     <g id=\"line2d_463\">\n      <path clip-path=\"url(#pc9f2e193b3)\" d=\"M 354.413433 245.836875 \nL 354.413433 28.396875 \n\" style=\"fill:none;stroke:#b0b0b0;stroke-linecap:square;stroke-width:0.8;\"/>\n     </g>\n     <g id=\"line2d_464\">\n      <g>\n       <use style=\"stroke:#000000;stroke-width:0.8;\" x=\"354.413433\" xlink:href=\"#mc9771deb23\" y=\"245.836875\"/>\n      </g>\n     </g>\n     <g id=\"text_232\">\n      <!-- 6 -->\n      <g transform=\"translate(357.172808 259.199375)rotate(-90)scale(0.1 -0.1)\">\n       <use xlink:href=\"#DejaVuSans-54\"/>\n      </g>\n     </g>\n    </g>\n    <g id=\"xtick_233\">\n     <g id=\"line2d_465\">\n      <path clip-path=\"url(#pc9f2e193b3)\" d=\"M 354.413433 245.836875 \nL 354.413433 28.396875 \n\" style=\"fill:none;stroke:#b0b0b0;stroke-linecap:square;stroke-width:0.8;\"/>\n     </g>\n     <g id=\"line2d_466\">\n      <g>\n       <use style=\"stroke:#000000;stroke-width:0.8;\" x=\"354.413433\" xlink:href=\"#mc9771deb23\" y=\"245.836875\"/>\n      </g>\n     </g>\n     <g id=\"text_233\">\n      <!-- 6 -->\n      <g transform=\"translate(357.172808 259.199375)rotate(-90)scale(0.1 -0.1)\">\n       <use xlink:href=\"#DejaVuSans-54\"/>\n      </g>\n     </g>\n    </g>\n    <g id=\"xtick_234\">\n     <g id=\"line2d_467\">\n      <path clip-path=\"url(#pc9f2e193b3)\" d=\"M 354.413433 245.836875 \nL 354.413433 28.396875 \n\" style=\"fill:none;stroke:#b0b0b0;stroke-linecap:square;stroke-width:0.8;\"/>\n     </g>\n     <g id=\"line2d_468\">\n      <g>\n       <use style=\"stroke:#000000;stroke-width:0.8;\" x=\"354.413433\" xlink:href=\"#mc9771deb23\" y=\"245.836875\"/>\n      </g>\n     </g>\n     <g id=\"text_234\">\n      <!-- 6 -->\n      <g transform=\"translate(357.172808 259.199375)rotate(-90)scale(0.1 -0.1)\">\n       <use xlink:href=\"#DejaVuSans-54\"/>\n      </g>\n     </g>\n    </g>\n    <g id=\"xtick_235\">\n     <g id=\"line2d_469\">\n      <path clip-path=\"url(#pc9f2e193b3)\" d=\"M 354.413433 245.836875 \nL 354.413433 28.396875 \n\" style=\"fill:none;stroke:#b0b0b0;stroke-linecap:square;stroke-width:0.8;\"/>\n     </g>\n     <g id=\"line2d_470\">\n      <g>\n       <use style=\"stroke:#000000;stroke-width:0.8;\" x=\"354.413433\" xlink:href=\"#mc9771deb23\" y=\"245.836875\"/>\n      </g>\n     </g>\n     <g id=\"text_235\">\n      <!-- 6 -->\n      <g transform=\"translate(357.172808 259.199375)rotate(-90)scale(0.1 -0.1)\">\n       <use xlink:href=\"#DejaVuSans-54\"/>\n      </g>\n     </g>\n    </g>\n    <g id=\"xtick_236\">\n     <g id=\"line2d_471\">\n      <path clip-path=\"url(#pc9f2e193b3)\" d=\"M 354.413433 245.836875 \nL 354.413433 28.396875 \n\" style=\"fill:none;stroke:#b0b0b0;stroke-linecap:square;stroke-width:0.8;\"/>\n     </g>\n     <g id=\"line2d_472\">\n      <g>\n       <use style=\"stroke:#000000;stroke-width:0.8;\" x=\"354.413433\" xlink:href=\"#mc9771deb23\" y=\"245.836875\"/>\n      </g>\n     </g>\n     <g id=\"text_236\">\n      <!-- 6 -->\n      <g transform=\"translate(357.172808 259.199375)rotate(-90)scale(0.1 -0.1)\">\n       <use xlink:href=\"#DejaVuSans-54\"/>\n      </g>\n     </g>\n    </g>\n    <g id=\"xtick_237\">\n     <g id=\"line2d_473\">\n      <path clip-path=\"url(#pc9f2e193b3)\" d=\"M 354.413433 245.836875 \nL 354.413433 28.396875 \n\" style=\"fill:none;stroke:#b0b0b0;stroke-linecap:square;stroke-width:0.8;\"/>\n     </g>\n     <g id=\"line2d_474\">\n      <g>\n       <use style=\"stroke:#000000;stroke-width:0.8;\" x=\"354.413433\" xlink:href=\"#mc9771deb23\" y=\"245.836875\"/>\n      </g>\n     </g>\n     <g id=\"text_237\">\n      <!-- 6 -->\n      <g transform=\"translate(357.172808 259.199375)rotate(-90)scale(0.1 -0.1)\">\n       <use xlink:href=\"#DejaVuSans-54\"/>\n      </g>\n     </g>\n    </g>\n    <g id=\"xtick_238\">\n     <g id=\"line2d_475\">\n      <path clip-path=\"url(#pc9f2e193b3)\" d=\"M 354.413433 245.836875 \nL 354.413433 28.396875 \n\" style=\"fill:none;stroke:#b0b0b0;stroke-linecap:square;stroke-width:0.8;\"/>\n     </g>\n     <g id=\"line2d_476\">\n      <g>\n       <use style=\"stroke:#000000;stroke-width:0.8;\" x=\"354.413433\" xlink:href=\"#mc9771deb23\" y=\"245.836875\"/>\n      </g>\n     </g>\n     <g id=\"text_238\">\n      <!-- 6 -->\n      <g transform=\"translate(357.172808 259.199375)rotate(-90)scale(0.1 -0.1)\">\n       <use xlink:href=\"#DejaVuSans-54\"/>\n      </g>\n     </g>\n    </g>\n    <g id=\"xtick_239\">\n     <g id=\"line2d_477\">\n      <path clip-path=\"url(#pc9f2e193b3)\" d=\"M 354.413433 245.836875 \nL 354.413433 28.396875 \n\" style=\"fill:none;stroke:#b0b0b0;stroke-linecap:square;stroke-width:0.8;\"/>\n     </g>\n     <g id=\"line2d_478\">\n      <g>\n       <use style=\"stroke:#000000;stroke-width:0.8;\" x=\"354.413433\" xlink:href=\"#mc9771deb23\" y=\"245.836875\"/>\n      </g>\n     </g>\n     <g id=\"text_239\">\n      <!-- 6 -->\n      <g transform=\"translate(357.172808 259.199375)rotate(-90)scale(0.1 -0.1)\">\n       <use xlink:href=\"#DejaVuSans-54\"/>\n      </g>\n     </g>\n    </g>\n    <g id=\"xtick_240\">\n     <g id=\"line2d_479\">\n      <path clip-path=\"url(#pc9f2e193b3)\" d=\"M 354.413433 245.836875 \nL 354.413433 28.396875 \n\" style=\"fill:none;stroke:#b0b0b0;stroke-linecap:square;stroke-width:0.8;\"/>\n     </g>\n     <g id=\"line2d_480\">\n      <g>\n       <use style=\"stroke:#000000;stroke-width:0.8;\" x=\"354.413433\" xlink:href=\"#mc9771deb23\" y=\"245.836875\"/>\n      </g>\n     </g>\n     <g id=\"text_240\">\n      <!-- 6 -->\n      <g transform=\"translate(357.172808 259.199375)rotate(-90)scale(0.1 -0.1)\">\n       <use xlink:href=\"#DejaVuSans-54\"/>\n      </g>\n     </g>\n    </g>\n    <g id=\"xtick_241\">\n     <g id=\"line2d_481\">\n      <path clip-path=\"url(#pc9f2e193b3)\" d=\"M 354.413433 245.836875 \nL 354.413433 28.396875 \n\" style=\"fill:none;stroke:#b0b0b0;stroke-linecap:square;stroke-width:0.8;\"/>\n     </g>\n     <g id=\"line2d_482\">\n      <g>\n       <use style=\"stroke:#000000;stroke-width:0.8;\" x=\"354.413433\" xlink:href=\"#mc9771deb23\" y=\"245.836875\"/>\n      </g>\n     </g>\n     <g id=\"text_241\">\n      <!-- 6 -->\n      <g transform=\"translate(357.172808 259.199375)rotate(-90)scale(0.1 -0.1)\">\n       <use xlink:href=\"#DejaVuSans-54\"/>\n      </g>\n     </g>\n    </g>\n    <g id=\"xtick_242\">\n     <g id=\"line2d_483\">\n      <path clip-path=\"url(#pc9f2e193b3)\" d=\"M 354.413433 245.836875 \nL 354.413433 28.396875 \n\" style=\"fill:none;stroke:#b0b0b0;stroke-linecap:square;stroke-width:0.8;\"/>\n     </g>\n     <g id=\"line2d_484\">\n      <g>\n       <use style=\"stroke:#000000;stroke-width:0.8;\" x=\"354.413433\" xlink:href=\"#mc9771deb23\" y=\"245.836875\"/>\n      </g>\n     </g>\n     <g id=\"text_242\">\n      <!-- 6 -->\n      <g transform=\"translate(357.172808 259.199375)rotate(-90)scale(0.1 -0.1)\">\n       <use xlink:href=\"#DejaVuSans-54\"/>\n      </g>\n     </g>\n    </g>\n    <g id=\"xtick_243\">\n     <g id=\"line2d_485\">\n      <path clip-path=\"url(#pc9f2e193b3)\" d=\"M 354.413433 245.836875 \nL 354.413433 28.396875 \n\" style=\"fill:none;stroke:#b0b0b0;stroke-linecap:square;stroke-width:0.8;\"/>\n     </g>\n     <g id=\"line2d_486\">\n      <g>\n       <use style=\"stroke:#000000;stroke-width:0.8;\" x=\"354.413433\" xlink:href=\"#mc9771deb23\" y=\"245.836875\"/>\n      </g>\n     </g>\n     <g id=\"text_243\">\n      <!-- 6 -->\n      <g transform=\"translate(357.172808 259.199375)rotate(-90)scale(0.1 -0.1)\">\n       <use xlink:href=\"#DejaVuSans-54\"/>\n      </g>\n     </g>\n    </g>\n    <g id=\"xtick_244\">\n     <g id=\"line2d_487\">\n      <path clip-path=\"url(#pc9f2e193b3)\" d=\"M 354.413433 245.836875 \nL 354.413433 28.396875 \n\" style=\"fill:none;stroke:#b0b0b0;stroke-linecap:square;stroke-width:0.8;\"/>\n     </g>\n     <g id=\"line2d_488\">\n      <g>\n       <use style=\"stroke:#000000;stroke-width:0.8;\" x=\"354.413433\" xlink:href=\"#mc9771deb23\" y=\"245.836875\"/>\n      </g>\n     </g>\n     <g id=\"text_244\">\n      <!-- 6 -->\n      <g transform=\"translate(357.172808 259.199375)rotate(-90)scale(0.1 -0.1)\">\n       <use xlink:href=\"#DejaVuSans-54\"/>\n      </g>\n     </g>\n    </g>\n    <g id=\"xtick_245\">\n     <g id=\"line2d_489\">\n      <path clip-path=\"url(#pc9f2e193b3)\" d=\"M 354.413433 245.836875 \nL 354.413433 28.396875 \n\" style=\"fill:none;stroke:#b0b0b0;stroke-linecap:square;stroke-width:0.8;\"/>\n     </g>\n     <g id=\"line2d_490\">\n      <g>\n       <use style=\"stroke:#000000;stroke-width:0.8;\" x=\"354.413433\" xlink:href=\"#mc9771deb23\" y=\"245.836875\"/>\n      </g>\n     </g>\n     <g id=\"text_245\">\n      <!-- 6 -->\n      <g transform=\"translate(357.172808 259.199375)rotate(-90)scale(0.1 -0.1)\">\n       <use xlink:href=\"#DejaVuSans-54\"/>\n      </g>\n     </g>\n    </g>\n    <g id=\"xtick_246\">\n     <g id=\"line2d_491\">\n      <path clip-path=\"url(#pc9f2e193b3)\" d=\"M 354.413433 245.836875 \nL 354.413433 28.396875 \n\" style=\"fill:none;stroke:#b0b0b0;stroke-linecap:square;stroke-width:0.8;\"/>\n     </g>\n     <g id=\"line2d_492\">\n      <g>\n       <use style=\"stroke:#000000;stroke-width:0.8;\" x=\"354.413433\" xlink:href=\"#mc9771deb23\" y=\"245.836875\"/>\n      </g>\n     </g>\n     <g id=\"text_246\">\n      <!-- 6 -->\n      <g transform=\"translate(357.172808 259.199375)rotate(-90)scale(0.1 -0.1)\">\n       <use xlink:href=\"#DejaVuSans-54\"/>\n      </g>\n     </g>\n    </g>\n    <g id=\"xtick_247\">\n     <g id=\"line2d_493\">\n      <path clip-path=\"url(#pc9f2e193b3)\" d=\"M 354.413433 245.836875 \nL 354.413433 28.396875 \n\" style=\"fill:none;stroke:#b0b0b0;stroke-linecap:square;stroke-width:0.8;\"/>\n     </g>\n     <g id=\"line2d_494\">\n      <g>\n       <use style=\"stroke:#000000;stroke-width:0.8;\" x=\"354.413433\" xlink:href=\"#mc9771deb23\" y=\"245.836875\"/>\n      </g>\n     </g>\n     <g id=\"text_247\">\n      <!-- 6 -->\n      <g transform=\"translate(357.172808 259.199375)rotate(-90)scale(0.1 -0.1)\">\n       <use xlink:href=\"#DejaVuSans-54\"/>\n      </g>\n     </g>\n    </g>\n    <g id=\"xtick_248\">\n     <g id=\"line2d_495\">\n      <path clip-path=\"url(#pc9f2e193b3)\" d=\"M 354.413433 245.836875 \nL 354.413433 28.396875 \n\" style=\"fill:none;stroke:#b0b0b0;stroke-linecap:square;stroke-width:0.8;\"/>\n     </g>\n     <g id=\"line2d_496\">\n      <g>\n       <use style=\"stroke:#000000;stroke-width:0.8;\" x=\"354.413433\" xlink:href=\"#mc9771deb23\" y=\"245.836875\"/>\n      </g>\n     </g>\n     <g id=\"text_248\">\n      <!-- 6 -->\n      <g transform=\"translate(357.172808 259.199375)rotate(-90)scale(0.1 -0.1)\">\n       <use xlink:href=\"#DejaVuSans-54\"/>\n      </g>\n     </g>\n    </g>\n    <g id=\"xtick_249\">\n     <g id=\"line2d_497\">\n      <path clip-path=\"url(#pc9f2e193b3)\" d=\"M 354.413433 245.836875 \nL 354.413433 28.396875 \n\" style=\"fill:none;stroke:#b0b0b0;stroke-linecap:square;stroke-width:0.8;\"/>\n     </g>\n     <g id=\"line2d_498\">\n      <g>\n       <use style=\"stroke:#000000;stroke-width:0.8;\" x=\"354.413433\" xlink:href=\"#mc9771deb23\" y=\"245.836875\"/>\n      </g>\n     </g>\n     <g id=\"text_249\">\n      <!-- 6 -->\n      <g transform=\"translate(357.172808 259.199375)rotate(-90)scale(0.1 -0.1)\">\n       <use xlink:href=\"#DejaVuSans-54\"/>\n      </g>\n     </g>\n    </g>\n    <g id=\"xtick_250\">\n     <g id=\"line2d_499\">\n      <path clip-path=\"url(#pc9f2e193b3)\" d=\"M 354.413433 245.836875 \nL 354.413433 28.396875 \n\" style=\"fill:none;stroke:#b0b0b0;stroke-linecap:square;stroke-width:0.8;\"/>\n     </g>\n     <g id=\"line2d_500\">\n      <g>\n       <use style=\"stroke:#000000;stroke-width:0.8;\" x=\"354.413433\" xlink:href=\"#mc9771deb23\" y=\"245.836875\"/>\n      </g>\n     </g>\n     <g id=\"text_250\">\n      <!-- 6 -->\n      <g transform=\"translate(357.172808 259.199375)rotate(-90)scale(0.1 -0.1)\">\n       <use xlink:href=\"#DejaVuSans-54\"/>\n      </g>\n     </g>\n    </g>\n    <g id=\"xtick_251\">\n     <g id=\"line2d_501\">\n      <path clip-path=\"url(#pc9f2e193b3)\" d=\"M 354.413433 245.836875 \nL 354.413433 28.396875 \n\" style=\"fill:none;stroke:#b0b0b0;stroke-linecap:square;stroke-width:0.8;\"/>\n     </g>\n     <g id=\"line2d_502\">\n      <g>\n       <use style=\"stroke:#000000;stroke-width:0.8;\" x=\"354.413433\" xlink:href=\"#mc9771deb23\" y=\"245.836875\"/>\n      </g>\n     </g>\n     <g id=\"text_251\">\n      <!-- 6 -->\n      <g transform=\"translate(357.172808 259.199375)rotate(-90)scale(0.1 -0.1)\">\n       <use xlink:href=\"#DejaVuSans-54\"/>\n      </g>\n     </g>\n    </g>\n    <g id=\"xtick_252\">\n     <g id=\"line2d_503\">\n      <path clip-path=\"url(#pc9f2e193b3)\" d=\"M 354.413433 245.836875 \nL 354.413433 28.396875 \n\" style=\"fill:none;stroke:#b0b0b0;stroke-linecap:square;stroke-width:0.8;\"/>\n     </g>\n     <g id=\"line2d_504\">\n      <g>\n       <use style=\"stroke:#000000;stroke-width:0.8;\" x=\"354.413433\" xlink:href=\"#mc9771deb23\" y=\"245.836875\"/>\n      </g>\n     </g>\n     <g id=\"text_252\">\n      <!-- 6 -->\n      <g transform=\"translate(357.172808 259.199375)rotate(-90)scale(0.1 -0.1)\">\n       <use xlink:href=\"#DejaVuSans-54\"/>\n      </g>\n     </g>\n    </g>\n    <g id=\"xtick_253\">\n     <g id=\"line2d_505\">\n      <path clip-path=\"url(#pc9f2e193b3)\" d=\"M 354.413433 245.836875 \nL 354.413433 28.396875 \n\" style=\"fill:none;stroke:#b0b0b0;stroke-linecap:square;stroke-width:0.8;\"/>\n     </g>\n     <g id=\"line2d_506\">\n      <g>\n       <use style=\"stroke:#000000;stroke-width:0.8;\" x=\"354.413433\" xlink:href=\"#mc9771deb23\" y=\"245.836875\"/>\n      </g>\n     </g>\n     <g id=\"text_253\">\n      <!-- 6 -->\n      <g transform=\"translate(357.172808 259.199375)rotate(-90)scale(0.1 -0.1)\">\n       <use xlink:href=\"#DejaVuSans-54\"/>\n      </g>\n     </g>\n    </g>\n    <g id=\"xtick_254\">\n     <g id=\"line2d_507\">\n      <path clip-path=\"url(#pc9f2e193b3)\" d=\"M 354.413433 245.836875 \nL 354.413433 28.396875 \n\" style=\"fill:none;stroke:#b0b0b0;stroke-linecap:square;stroke-width:0.8;\"/>\n     </g>\n     <g id=\"line2d_508\">\n      <g>\n       <use style=\"stroke:#000000;stroke-width:0.8;\" x=\"354.413433\" xlink:href=\"#mc9771deb23\" y=\"245.836875\"/>\n      </g>\n     </g>\n     <g id=\"text_254\">\n      <!-- 6 -->\n      <g transform=\"translate(357.172808 259.199375)rotate(-90)scale(0.1 -0.1)\">\n       <use xlink:href=\"#DejaVuSans-54\"/>\n      </g>\n     </g>\n    </g>\n    <g id=\"xtick_255\">\n     <g id=\"line2d_509\">\n      <path clip-path=\"url(#pc9f2e193b3)\" d=\"M 354.413433 245.836875 \nL 354.413433 28.396875 \n\" style=\"fill:none;stroke:#b0b0b0;stroke-linecap:square;stroke-width:0.8;\"/>\n     </g>\n     <g id=\"line2d_510\">\n      <g>\n       <use style=\"stroke:#000000;stroke-width:0.8;\" x=\"354.413433\" xlink:href=\"#mc9771deb23\" y=\"245.836875\"/>\n      </g>\n     </g>\n     <g id=\"text_255\">\n      <!-- 6 -->\n      <g transform=\"translate(357.172808 259.199375)rotate(-90)scale(0.1 -0.1)\">\n       <use xlink:href=\"#DejaVuSans-54\"/>\n      </g>\n     </g>\n    </g>\n    <g id=\"xtick_256\">\n     <g id=\"line2d_511\">\n      <path clip-path=\"url(#pc9f2e193b3)\" d=\"M 354.413433 245.836875 \nL 354.413433 28.396875 \n\" style=\"fill:none;stroke:#b0b0b0;stroke-linecap:square;stroke-width:0.8;\"/>\n     </g>\n     <g id=\"line2d_512\">\n      <g>\n       <use style=\"stroke:#000000;stroke-width:0.8;\" x=\"354.413433\" xlink:href=\"#mc9771deb23\" y=\"245.836875\"/>\n      </g>\n     </g>\n     <g id=\"text_256\">\n      <!-- 6 -->\n      <g transform=\"translate(357.172808 259.199375)rotate(-90)scale(0.1 -0.1)\">\n       <use xlink:href=\"#DejaVuSans-54\"/>\n      </g>\n     </g>\n    </g>\n    <g id=\"text_257\">\n     <!-- Expected Loss -->\n     <g transform=\"translate(170.142969 274.597031)scale(0.15 -0.15)\">\n      <defs>\n       <path d=\"M 9.8125 72.90625 \nL 55.90625 72.90625 \nL 55.90625 64.59375 \nL 19.671875 64.59375 \nL 19.671875 43.015625 \nL 54.390625 43.015625 \nL 54.390625 34.71875 \nL 19.671875 34.71875 \nL 19.671875 8.296875 \nL 56.78125 8.296875 \nL 56.78125 0 \nL 9.8125 0 \nz\n\" id=\"DejaVuSans-69\"/>\n       <path d=\"M 54.890625 54.6875 \nL 35.109375 28.078125 \nL 55.90625 0 \nL 45.3125 0 \nL 29.390625 21.484375 \nL 13.484375 0 \nL 2.875 0 \nL 24.125 28.609375 \nL 4.6875 54.6875 \nL 15.28125 54.6875 \nL 29.78125 35.203125 \nL 44.28125 54.6875 \nz\n\" id=\"DejaVuSans-120\"/>\n       <path d=\"M 18.109375 8.203125 \nL 18.109375 -20.796875 \nL 9.078125 -20.796875 \nL 9.078125 54.6875 \nL 18.109375 54.6875 \nL 18.109375 46.390625 \nQ 20.953125 51.265625 25.265625 53.625 \nQ 29.59375 56 35.59375 56 \nQ 45.5625 56 51.78125 48.09375 \nQ 58.015625 40.1875 58.015625 27.296875 \nQ 58.015625 14.40625 51.78125 6.484375 \nQ 45.5625 -1.421875 35.59375 -1.421875 \nQ 29.59375 -1.421875 25.265625 0.953125 \nQ 20.953125 3.328125 18.109375 8.203125 \nz\nM 48.6875 27.296875 \nQ 48.6875 37.203125 44.609375 42.84375 \nQ 40.53125 48.484375 33.40625 48.484375 \nQ 26.265625 48.484375 22.1875 42.84375 \nQ 18.109375 37.203125 18.109375 27.296875 \nQ 18.109375 17.390625 22.1875 11.75 \nQ 26.265625 6.109375 33.40625 6.109375 \nQ 40.53125 6.109375 44.609375 11.75 \nQ 48.6875 17.390625 48.6875 27.296875 \nz\n\" id=\"DejaVuSans-112\"/>\n       <path d=\"M 56.203125 29.59375 \nL 56.203125 25.203125 \nL 14.890625 25.203125 \nQ 15.484375 15.921875 20.484375 11.0625 \nQ 25.484375 6.203125 34.421875 6.203125 \nQ 39.59375 6.203125 44.453125 7.46875 \nQ 49.3125 8.734375 54.109375 11.28125 \nL 54.109375 2.78125 \nQ 49.265625 0.734375 44.1875 -0.34375 \nQ 39.109375 -1.421875 33.890625 -1.421875 \nQ 20.796875 -1.421875 13.15625 6.1875 \nQ 5.515625 13.8125 5.515625 26.8125 \nQ 5.515625 40.234375 12.765625 48.109375 \nQ 20.015625 56 32.328125 56 \nQ 43.359375 56 49.78125 48.890625 \nQ 56.203125 41.796875 56.203125 29.59375 \nz\nM 47.21875 32.234375 \nQ 47.125 39.59375 43.09375 43.984375 \nQ 39.0625 48.390625 32.421875 48.390625 \nQ 24.90625 48.390625 20.390625 44.140625 \nQ 15.875 39.890625 15.1875 32.171875 \nz\n\" id=\"DejaVuSans-101\"/>\n       <path d=\"M 48.78125 52.59375 \nL 48.78125 44.1875 \nQ 44.96875 46.296875 41.140625 47.34375 \nQ 37.3125 48.390625 33.40625 48.390625 \nQ 24.65625 48.390625 19.8125 42.84375 \nQ 14.984375 37.3125 14.984375 27.296875 \nQ 14.984375 17.28125 19.8125 11.734375 \nQ 24.65625 6.203125 33.40625 6.203125 \nQ 37.3125 6.203125 41.140625 7.25 \nQ 44.96875 8.296875 48.78125 10.40625 \nL 48.78125 2.09375 \nQ 45.015625 0.34375 40.984375 -0.53125 \nQ 36.96875 -1.421875 32.421875 -1.421875 \nQ 20.0625 -1.421875 12.78125 6.34375 \nQ 5.515625 14.109375 5.515625 27.296875 \nQ 5.515625 40.671875 12.859375 48.328125 \nQ 20.21875 56 33.015625 56 \nQ 37.15625 56 41.109375 55.140625 \nQ 45.0625 54.296875 48.78125 52.59375 \nz\n\" id=\"DejaVuSans-99\"/>\n       <path d=\"M 18.3125 70.21875 \nL 18.3125 54.6875 \nL 36.8125 54.6875 \nL 36.8125 47.703125 \nL 18.3125 47.703125 \nL 18.3125 18.015625 \nQ 18.3125 11.328125 20.140625 9.421875 \nQ 21.96875 7.515625 27.59375 7.515625 \nL 36.8125 7.515625 \nL 36.8125 0 \nL 27.59375 0 \nQ 17.1875 0 13.234375 3.875 \nQ 9.28125 7.765625 9.28125 18.015625 \nL 9.28125 47.703125 \nL 2.6875 47.703125 \nL 2.6875 54.6875 \nL 9.28125 54.6875 \nL 9.28125 70.21875 \nz\n\" id=\"DejaVuSans-116\"/>\n       <path d=\"M 45.40625 46.390625 \nL 45.40625 75.984375 \nL 54.390625 75.984375 \nL 54.390625 0 \nL 45.40625 0 \nL 45.40625 8.203125 \nQ 42.578125 3.328125 38.25 0.953125 \nQ 33.9375 -1.421875 27.875 -1.421875 \nQ 17.96875 -1.421875 11.734375 6.484375 \nQ 5.515625 14.40625 5.515625 27.296875 \nQ 5.515625 40.1875 11.734375 48.09375 \nQ 17.96875 56 27.875 56 \nQ 33.9375 56 38.25 53.625 \nQ 42.578125 51.265625 45.40625 46.390625 \nz\nM 14.796875 27.296875 \nQ 14.796875 17.390625 18.875 11.75 \nQ 22.953125 6.109375 30.078125 6.109375 \nQ 37.203125 6.109375 41.296875 11.75 \nQ 45.40625 17.390625 45.40625 27.296875 \nQ 45.40625 37.203125 41.296875 42.84375 \nQ 37.203125 48.484375 30.078125 48.484375 \nQ 22.953125 48.484375 18.875 42.84375 \nQ 14.796875 37.203125 14.796875 27.296875 \nz\n\" id=\"DejaVuSans-100\"/>\n       <path id=\"DejaVuSans-32\"/>\n       <path d=\"M 9.8125 72.90625 \nL 19.671875 72.90625 \nL 19.671875 8.296875 \nL 55.171875 8.296875 \nL 55.171875 0 \nL 9.8125 0 \nz\n\" id=\"DejaVuSans-76\"/>\n       <path d=\"M 30.609375 48.390625 \nQ 23.390625 48.390625 19.1875 42.75 \nQ 14.984375 37.109375 14.984375 27.296875 \nQ 14.984375 17.484375 19.15625 11.84375 \nQ 23.34375 6.203125 30.609375 6.203125 \nQ 37.796875 6.203125 41.984375 11.859375 \nQ 46.1875 17.53125 46.1875 27.296875 \nQ 46.1875 37.015625 41.984375 42.703125 \nQ 37.796875 48.390625 30.609375 48.390625 \nz\nM 30.609375 56 \nQ 42.328125 56 49.015625 48.375 \nQ 55.71875 40.765625 55.71875 27.296875 \nQ 55.71875 13.875 49.015625 6.21875 \nQ 42.328125 -1.421875 30.609375 -1.421875 \nQ 18.84375 -1.421875 12.171875 6.21875 \nQ 5.515625 13.875 5.515625 27.296875 \nQ 5.515625 40.765625 12.171875 48.375 \nQ 18.84375 56 30.609375 56 \nz\n\" id=\"DejaVuSans-111\"/>\n       <path d=\"M 44.28125 53.078125 \nL 44.28125 44.578125 \nQ 40.484375 46.53125 36.375 47.5 \nQ 32.28125 48.484375 27.875 48.484375 \nQ 21.1875 48.484375 17.84375 46.4375 \nQ 14.5 44.390625 14.5 40.28125 \nQ 14.5 37.15625 16.890625 35.375 \nQ 19.28125 33.59375 26.515625 31.984375 \nL 29.59375 31.296875 \nQ 39.15625 29.25 43.1875 25.515625 \nQ 47.21875 21.78125 47.21875 15.09375 \nQ 47.21875 7.46875 41.1875 3.015625 \nQ 35.15625 -1.421875 24.609375 -1.421875 \nQ 20.21875 -1.421875 15.453125 -0.5625 \nQ 10.6875 0.296875 5.421875 2 \nL 5.421875 11.28125 \nQ 10.40625 8.6875 15.234375 7.390625 \nQ 20.0625 6.109375 24.8125 6.109375 \nQ 31.15625 6.109375 34.5625 8.28125 \nQ 37.984375 10.453125 37.984375 14.40625 \nQ 37.984375 18.0625 35.515625 20.015625 \nQ 33.0625 21.96875 24.703125 23.78125 \nL 21.578125 24.515625 \nQ 13.234375 26.265625 9.515625 29.90625 \nQ 5.8125 33.546875 5.8125 39.890625 \nQ 5.8125 47.609375 11.28125 51.796875 \nQ 16.75 56 26.8125 56 \nQ 31.78125 56 36.171875 55.265625 \nQ 40.578125 54.546875 44.28125 53.078125 \nz\n\" id=\"DejaVuSans-115\"/>\n      </defs>\n      <use xlink:href=\"#DejaVuSans-69\"/>\n      <use x=\"63.183594\" xlink:href=\"#DejaVuSans-120\"/>\n      <use x=\"122.363281\" xlink:href=\"#DejaVuSans-112\"/>\n      <use x=\"185.839844\" xlink:href=\"#DejaVuSans-101\"/>\n      <use x=\"247.363281\" xlink:href=\"#DejaVuSans-99\"/>\n      <use x=\"302.34375\" xlink:href=\"#DejaVuSans-116\"/>\n      <use x=\"341.552734\" xlink:href=\"#DejaVuSans-101\"/>\n      <use x=\"403.076172\" xlink:href=\"#DejaVuSans-100\"/>\n      <use x=\"466.552734\" xlink:href=\"#DejaVuSans-32\"/>\n      <use x=\"498.339844\" xlink:href=\"#DejaVuSans-76\"/>\n      <use x=\"552.302734\" xlink:href=\"#DejaVuSans-111\"/>\n      <use x=\"613.484375\" xlink:href=\"#DejaVuSans-115\"/>\n      <use x=\"665.583984\" xlink:href=\"#DejaVuSans-115\"/>\n     </g>\n    </g>\n   </g>\n   <g id=\"matplotlib.axis_2\">\n    <g id=\"ytick_1\">\n     <g id=\"line2d_513\">\n      <path clip-path=\"url(#pc9f2e193b3)\" d=\"M 56.571875 245.836875 \nL 391.371875 245.836875 \n\" style=\"fill:none;stroke:#b0b0b0;stroke-linecap:square;stroke-width:0.8;\"/>\n     </g>\n     <g id=\"line2d_514\">\n      <defs>\n       <path d=\"M 0 0 \nL -3.5 0 \n\" id=\"mf83ea7df5f\" style=\"stroke:#000000;stroke-width:0.8;\"/>\n      </defs>\n      <g>\n       <use style=\"stroke:#000000;stroke-width:0.8;\" x=\"56.571875\" xlink:href=\"#mf83ea7df5f\" y=\"245.836875\"/>\n      </g>\n     </g>\n     <g id=\"text_258\">\n      <!-- 0.0 -->\n      <g transform=\"translate(25.717187 251.535703)scale(0.15 -0.15)\">\n       <defs>\n        <path d=\"M 10.6875 12.40625 \nL 21 12.40625 \nL 21 0 \nL 10.6875 0 \nz\n\" id=\"DejaVuSans-46\"/>\n       </defs>\n       <use xlink:href=\"#DejaVuSans-48\"/>\n       <use x=\"63.623047\" xlink:href=\"#DejaVuSans-46\"/>\n       <use x=\"95.410156\" xlink:href=\"#DejaVuSans-48\"/>\n      </g>\n     </g>\n    </g>\n    <g id=\"ytick_2\">\n     <g id=\"line2d_515\">\n      <path clip-path=\"url(#pc9f2e193b3)\" d=\"M 56.571875 206.64136 \nL 391.371875 206.64136 \n\" style=\"fill:none;stroke:#b0b0b0;stroke-linecap:square;stroke-width:0.8;\"/>\n     </g>\n     <g id=\"line2d_516\">\n      <g>\n       <use style=\"stroke:#000000;stroke-width:0.8;\" x=\"56.571875\" xlink:href=\"#mf83ea7df5f\" y=\"206.64136\"/>\n      </g>\n     </g>\n     <g id=\"text_259\">\n      <!-- 0.1 -->\n      <g transform=\"translate(25.717187 212.340188)scale(0.15 -0.15)\">\n       <use xlink:href=\"#DejaVuSans-48\"/>\n       <use x=\"63.623047\" xlink:href=\"#DejaVuSans-46\"/>\n       <use x=\"95.410156\" xlink:href=\"#DejaVuSans-49\"/>\n      </g>\n     </g>\n    </g>\n    <g id=\"ytick_3\">\n     <g id=\"line2d_517\">\n      <path clip-path=\"url(#pc9f2e193b3)\" d=\"M 56.571875 167.445845 \nL 391.371875 167.445845 \n\" style=\"fill:none;stroke:#b0b0b0;stroke-linecap:square;stroke-width:0.8;\"/>\n     </g>\n     <g id=\"line2d_518\">\n      <g>\n       <use style=\"stroke:#000000;stroke-width:0.8;\" x=\"56.571875\" xlink:href=\"#mf83ea7df5f\" y=\"167.445845\"/>\n      </g>\n     </g>\n     <g id=\"text_260\">\n      <!-- 0.2 -->\n      <g transform=\"translate(25.717187 173.144673)scale(0.15 -0.15)\">\n       <use xlink:href=\"#DejaVuSans-48\"/>\n       <use x=\"63.623047\" xlink:href=\"#DejaVuSans-46\"/>\n       <use x=\"95.410156\" xlink:href=\"#DejaVuSans-50\"/>\n      </g>\n     </g>\n    </g>\n    <g id=\"ytick_4\">\n     <g id=\"line2d_519\">\n      <path clip-path=\"url(#pc9f2e193b3)\" d=\"M 56.571875 128.25033 \nL 391.371875 128.25033 \n\" style=\"fill:none;stroke:#b0b0b0;stroke-linecap:square;stroke-width:0.8;\"/>\n     </g>\n     <g id=\"line2d_520\">\n      <g>\n       <use style=\"stroke:#000000;stroke-width:0.8;\" x=\"56.571875\" xlink:href=\"#mf83ea7df5f\" y=\"128.25033\"/>\n      </g>\n     </g>\n     <g id=\"text_261\">\n      <!-- 0.3 -->\n      <g transform=\"translate(25.717187 133.949158)scale(0.15 -0.15)\">\n       <use xlink:href=\"#DejaVuSans-48\"/>\n       <use x=\"63.623047\" xlink:href=\"#DejaVuSans-46\"/>\n       <use x=\"95.410156\" xlink:href=\"#DejaVuSans-51\"/>\n      </g>\n     </g>\n    </g>\n    <g id=\"ytick_5\">\n     <g id=\"line2d_521\">\n      <path clip-path=\"url(#pc9f2e193b3)\" d=\"M 56.571875 89.054815 \nL 391.371875 89.054815 \n\" style=\"fill:none;stroke:#b0b0b0;stroke-linecap:square;stroke-width:0.8;\"/>\n     </g>\n     <g id=\"line2d_522\">\n      <g>\n       <use style=\"stroke:#000000;stroke-width:0.8;\" x=\"56.571875\" xlink:href=\"#mf83ea7df5f\" y=\"89.054815\"/>\n      </g>\n     </g>\n     <g id=\"text_262\">\n      <!-- 0.4 -->\n      <g transform=\"translate(25.717187 94.753643)scale(0.15 -0.15)\">\n       <use xlink:href=\"#DejaVuSans-48\"/>\n       <use x=\"63.623047\" xlink:href=\"#DejaVuSans-46\"/>\n       <use x=\"95.410156\" xlink:href=\"#DejaVuSans-52\"/>\n      </g>\n     </g>\n    </g>\n    <g id=\"ytick_6\">\n     <g id=\"line2d_523\">\n      <path clip-path=\"url(#pc9f2e193b3)\" d=\"M 56.571875 49.8593 \nL 391.371875 49.8593 \n\" style=\"fill:none;stroke:#b0b0b0;stroke-linecap:square;stroke-width:0.8;\"/>\n     </g>\n     <g id=\"line2d_524\">\n      <g>\n       <use style=\"stroke:#000000;stroke-width:0.8;\" x=\"56.571875\" xlink:href=\"#mf83ea7df5f\" y=\"49.8593\"/>\n      </g>\n     </g>\n     <g id=\"text_263\">\n      <!-- 0.5 -->\n      <g transform=\"translate(25.717187 55.558128)scale(0.15 -0.15)\">\n       <use xlink:href=\"#DejaVuSans-48\"/>\n       <use x=\"63.623047\" xlink:href=\"#DejaVuSans-46\"/>\n       <use x=\"95.410156\" xlink:href=\"#DejaVuSans-53\"/>\n      </g>\n     </g>\n    </g>\n    <g id=\"text_264\">\n     <!-- Probability -->\n     <g transform=\"translate(18.597656 176.760234)rotate(-90)scale(0.15 -0.15)\">\n      <defs>\n       <path d=\"M 19.671875 64.796875 \nL 19.671875 37.40625 \nL 32.078125 37.40625 \nQ 38.96875 37.40625 42.71875 40.96875 \nQ 46.484375 44.53125 46.484375 51.125 \nQ 46.484375 57.671875 42.71875 61.234375 \nQ 38.96875 64.796875 32.078125 64.796875 \nz\nM 9.8125 72.90625 \nL 32.078125 72.90625 \nQ 44.34375 72.90625 50.609375 67.359375 \nQ 56.890625 61.8125 56.890625 51.125 \nQ 56.890625 40.328125 50.609375 34.8125 \nQ 44.34375 29.296875 32.078125 29.296875 \nL 19.671875 29.296875 \nL 19.671875 0 \nL 9.8125 0 \nz\n\" id=\"DejaVuSans-80\"/>\n       <path d=\"M 41.109375 46.296875 \nQ 39.59375 47.171875 37.8125 47.578125 \nQ 36.03125 48 33.890625 48 \nQ 26.265625 48 22.1875 43.046875 \nQ 18.109375 38.09375 18.109375 28.8125 \nL 18.109375 0 \nL 9.078125 0 \nL 9.078125 54.6875 \nL 18.109375 54.6875 \nL 18.109375 46.1875 \nQ 20.953125 51.171875 25.484375 53.578125 \nQ 30.03125 56 36.53125 56 \nQ 37.453125 56 38.578125 55.875 \nQ 39.703125 55.765625 41.0625 55.515625 \nz\n\" id=\"DejaVuSans-114\"/>\n       <path d=\"M 48.6875 27.296875 \nQ 48.6875 37.203125 44.609375 42.84375 \nQ 40.53125 48.484375 33.40625 48.484375 \nQ 26.265625 48.484375 22.1875 42.84375 \nQ 18.109375 37.203125 18.109375 27.296875 \nQ 18.109375 17.390625 22.1875 11.75 \nQ 26.265625 6.109375 33.40625 6.109375 \nQ 40.53125 6.109375 44.609375 11.75 \nQ 48.6875 17.390625 48.6875 27.296875 \nz\nM 18.109375 46.390625 \nQ 20.953125 51.265625 25.265625 53.625 \nQ 29.59375 56 35.59375 56 \nQ 45.5625 56 51.78125 48.09375 \nQ 58.015625 40.1875 58.015625 27.296875 \nQ 58.015625 14.40625 51.78125 6.484375 \nQ 45.5625 -1.421875 35.59375 -1.421875 \nQ 29.59375 -1.421875 25.265625 0.953125 \nQ 20.953125 3.328125 18.109375 8.203125 \nL 18.109375 0 \nL 9.078125 0 \nL 9.078125 75.984375 \nL 18.109375 75.984375 \nz\n\" id=\"DejaVuSans-98\"/>\n       <path d=\"M 34.28125 27.484375 \nQ 23.390625 27.484375 19.1875 25 \nQ 14.984375 22.515625 14.984375 16.5 \nQ 14.984375 11.71875 18.140625 8.90625 \nQ 21.296875 6.109375 26.703125 6.109375 \nQ 34.1875 6.109375 38.703125 11.40625 \nQ 43.21875 16.703125 43.21875 25.484375 \nL 43.21875 27.484375 \nz\nM 52.203125 31.203125 \nL 52.203125 0 \nL 43.21875 0 \nL 43.21875 8.296875 \nQ 40.140625 3.328125 35.546875 0.953125 \nQ 30.953125 -1.421875 24.3125 -1.421875 \nQ 15.921875 -1.421875 10.953125 3.296875 \nQ 6 8.015625 6 15.921875 \nQ 6 25.140625 12.171875 29.828125 \nQ 18.359375 34.515625 30.609375 34.515625 \nL 43.21875 34.515625 \nL 43.21875 35.40625 \nQ 43.21875 41.609375 39.140625 45 \nQ 35.0625 48.390625 27.6875 48.390625 \nQ 23 48.390625 18.546875 47.265625 \nQ 14.109375 46.140625 10.015625 43.890625 \nL 10.015625 52.203125 \nQ 14.9375 54.109375 19.578125 55.046875 \nQ 24.21875 56 28.609375 56 \nQ 40.484375 56 46.34375 49.84375 \nQ 52.203125 43.703125 52.203125 31.203125 \nz\n\" id=\"DejaVuSans-97\"/>\n       <path d=\"M 9.421875 54.6875 \nL 18.40625 54.6875 \nL 18.40625 0 \nL 9.421875 0 \nz\nM 9.421875 75.984375 \nL 18.40625 75.984375 \nL 18.40625 64.59375 \nL 9.421875 64.59375 \nz\n\" id=\"DejaVuSans-105\"/>\n       <path d=\"M 9.421875 75.984375 \nL 18.40625 75.984375 \nL 18.40625 0 \nL 9.421875 0 \nz\n\" id=\"DejaVuSans-108\"/>\n       <path d=\"M 32.171875 -5.078125 \nQ 28.375 -14.84375 24.75 -17.8125 \nQ 21.140625 -20.796875 15.09375 -20.796875 \nL 7.90625 -20.796875 \nL 7.90625 -13.28125 \nL 13.1875 -13.28125 \nQ 16.890625 -13.28125 18.9375 -11.515625 \nQ 21 -9.765625 23.484375 -3.21875 \nL 25.09375 0.875 \nL 2.984375 54.6875 \nL 12.5 54.6875 \nL 29.59375 11.921875 \nL 46.6875 54.6875 \nL 56.203125 54.6875 \nz\n\" id=\"DejaVuSans-121\"/>\n      </defs>\n      <use xlink:href=\"#DejaVuSans-80\"/>\n      <use x=\"58.552734\" xlink:href=\"#DejaVuSans-114\"/>\n      <use x=\"97.416016\" xlink:href=\"#DejaVuSans-111\"/>\n      <use x=\"158.597656\" xlink:href=\"#DejaVuSans-98\"/>\n      <use x=\"222.074219\" xlink:href=\"#DejaVuSans-97\"/>\n      <use x=\"283.353516\" xlink:href=\"#DejaVuSans-98\"/>\n      <use x=\"346.830078\" xlink:href=\"#DejaVuSans-105\"/>\n      <use x=\"374.613281\" xlink:href=\"#DejaVuSans-108\"/>\n      <use x=\"402.396484\" xlink:href=\"#DejaVuSans-105\"/>\n      <use x=\"430.179688\" xlink:href=\"#DejaVuSans-116\"/>\n      <use x=\"469.388672\" xlink:href=\"#DejaVuSans-121\"/>\n     </g>\n    </g>\n   </g>\n   <g id=\"patch_10\">\n    <path d=\"M 56.571875 245.836875 \nL 56.571875 28.396875 \n\" style=\"fill:none;stroke:#000000;stroke-linecap:square;stroke-linejoin:miter;stroke-width:0.8;\"/>\n   </g>\n   <g id=\"patch_11\">\n    <path d=\"M 391.371875 245.836875 \nL 391.371875 28.396875 \n\" style=\"fill:none;stroke:#000000;stroke-linecap:square;stroke-linejoin:miter;stroke-width:0.8;\"/>\n   </g>\n   <g id=\"patch_12\">\n    <path d=\"M 56.571875 245.836875 \nL 391.371875 245.836875 \n\" style=\"fill:none;stroke:#000000;stroke-linecap:square;stroke-linejoin:miter;stroke-width:0.8;\"/>\n   </g>\n   <g id=\"patch_13\">\n    <path d=\"M 56.571875 28.396875 \nL 391.371875 28.396875 \n\" style=\"fill:none;stroke:#000000;stroke-linecap:square;stroke-linejoin:miter;stroke-width:0.8;\"/>\n   </g>\n   <g id=\"text_265\">\n    <!-- Expected Loss probability distribution -->\n    <g transform=\"translate(35.50625 22.396875)scale(0.2 -0.2)\">\n     <defs>\n      <path d=\"M 8.5 21.578125 \nL 8.5 54.6875 \nL 17.484375 54.6875 \nL 17.484375 21.921875 \nQ 17.484375 14.15625 20.5 10.265625 \nQ 23.53125 6.390625 29.59375 6.390625 \nQ 36.859375 6.390625 41.078125 11.03125 \nQ 45.3125 15.671875 45.3125 23.6875 \nL 45.3125 54.6875 \nL 54.296875 54.6875 \nL 54.296875 0 \nL 45.3125 0 \nL 45.3125 8.40625 \nQ 42.046875 3.421875 37.71875 1 \nQ 33.40625 -1.421875 27.6875 -1.421875 \nQ 18.265625 -1.421875 13.375 4.4375 \nQ 8.5 10.296875 8.5 21.578125 \nz\nM 31.109375 56 \nz\n\" id=\"DejaVuSans-117\"/>\n      <path d=\"M 54.890625 33.015625 \nL 54.890625 0 \nL 45.90625 0 \nL 45.90625 32.71875 \nQ 45.90625 40.484375 42.875 44.328125 \nQ 39.84375 48.1875 33.796875 48.1875 \nQ 26.515625 48.1875 22.3125 43.546875 \nQ 18.109375 38.921875 18.109375 30.90625 \nL 18.109375 0 \nL 9.078125 0 \nL 9.078125 54.6875 \nL 18.109375 54.6875 \nL 18.109375 46.1875 \nQ 21.34375 51.125 25.703125 53.5625 \nQ 30.078125 56 35.796875 56 \nQ 45.21875 56 50.046875 50.171875 \nQ 54.890625 44.34375 54.890625 33.015625 \nz\n\" id=\"DejaVuSans-110\"/>\n     </defs>\n     <use xlink:href=\"#DejaVuSans-69\"/>\n     <use x=\"63.183594\" xlink:href=\"#DejaVuSans-120\"/>\n     <use x=\"122.363281\" xlink:href=\"#DejaVuSans-112\"/>\n     <use x=\"185.839844\" xlink:href=\"#DejaVuSans-101\"/>\n     <use x=\"247.363281\" xlink:href=\"#DejaVuSans-99\"/>\n     <use x=\"302.34375\" xlink:href=\"#DejaVuSans-116\"/>\n     <use x=\"341.552734\" xlink:href=\"#DejaVuSans-101\"/>\n     <use x=\"403.076172\" xlink:href=\"#DejaVuSans-100\"/>\n     <use x=\"466.552734\" xlink:href=\"#DejaVuSans-32\"/>\n     <use x=\"498.339844\" xlink:href=\"#DejaVuSans-76\"/>\n     <use x=\"552.302734\" xlink:href=\"#DejaVuSans-111\"/>\n     <use x=\"613.484375\" xlink:href=\"#DejaVuSans-115\"/>\n     <use x=\"665.583984\" xlink:href=\"#DejaVuSans-115\"/>\n     <use x=\"717.683594\" xlink:href=\"#DejaVuSans-32\"/>\n     <use x=\"749.470703\" xlink:href=\"#DejaVuSans-112\"/>\n     <use x=\"812.947266\" xlink:href=\"#DejaVuSans-114\"/>\n     <use x=\"851.810547\" xlink:href=\"#DejaVuSans-111\"/>\n     <use x=\"912.992188\" xlink:href=\"#DejaVuSans-98\"/>\n     <use x=\"976.46875\" xlink:href=\"#DejaVuSans-97\"/>\n     <use x=\"1037.748047\" xlink:href=\"#DejaVuSans-98\"/>\n     <use x=\"1101.224609\" xlink:href=\"#DejaVuSans-105\"/>\n     <use x=\"1129.007812\" xlink:href=\"#DejaVuSans-108\"/>\n     <use x=\"1156.791016\" xlink:href=\"#DejaVuSans-105\"/>\n     <use x=\"1184.574219\" xlink:href=\"#DejaVuSans-116\"/>\n     <use x=\"1223.783203\" xlink:href=\"#DejaVuSans-121\"/>\n     <use x=\"1282.962891\" xlink:href=\"#DejaVuSans-32\"/>\n     <use x=\"1314.75\" xlink:href=\"#DejaVuSans-100\"/>\n     <use x=\"1378.226562\" xlink:href=\"#DejaVuSans-105\"/>\n     <use x=\"1406.009766\" xlink:href=\"#DejaVuSans-115\"/>\n     <use x=\"1458.109375\" xlink:href=\"#DejaVuSans-116\"/>\n     <use x=\"1497.318359\" xlink:href=\"#DejaVuSans-114\"/>\n     <use x=\"1538.431641\" xlink:href=\"#DejaVuSans-105\"/>\n     <use x=\"1566.214844\" xlink:href=\"#DejaVuSans-98\"/>\n     <use x=\"1629.691406\" xlink:href=\"#DejaVuSans-117\"/>\n     <use x=\"1693.070312\" xlink:href=\"#DejaVuSans-116\"/>\n     <use x=\"1732.279297\" xlink:href=\"#DejaVuSans-105\"/>\n     <use x=\"1760.0625\" xlink:href=\"#DejaVuSans-111\"/>\n     <use x=\"1821.244141\" xlink:href=\"#DejaVuSans-110\"/>\n    </g>\n   </g>\n  </g>\n </g>\n <defs>\n  <clipPath id=\"pc9f2e193b3\">\n   <rect height=\"217.44\" width=\"334.8\" x=\"56.571875\" y=\"28.396875\"/>\n  </clipPath>\n </defs>\n</svg>\n",
      "image/png": "[encoded data removed]"
     },
     "metadata": {
      "needs_background": "light"
     }
    }
   ],
   "source": [
    "plt.bar(losses, pdf, width=1)\n",
    "plt.xlabel('Expected Loss', size=15)\n",
    "plt.ylabel('Probability', size=15)\n",
    "plt.title('Expected Loss probability distribution', size=20)\n",
    "plt.xticks(values, size=10, rotation=90)\n",
    "plt.yticks(size=15)\n",
    "plt.grid()\n",
    "plt.show()"
   ]
  },
  {
   "cell_type": "code",
   "execution_count": 1028,
   "metadata": {},
   "outputs": [
    {
     "output_type": "display_data",
     "data": {
      "text/plain": "<Figure size 432x288 with 1 Axes>",
      "image/svg+xml": "<?xml version=\"1.0\" encoding=\"utf-8\" standalone=\"no\"?>\n<!DOCTYPE svg PUBLIC \"-//W3C//DTD SVG 1.1//EN\"\n  \"http://www.w3.org/Graphics/SVG/1.1/DTD/svg11.dtd\">\n<!-- Created with matplotlib (https://matplotlib.org/) -->\n<svg height=\"284.916562pt\" version=\"1.1\" viewBox=\"0 0 398.571875 284.916562\" width=\"398.571875pt\" xmlns=\"http://www.w3.org/2000/svg\" xmlns:xlink=\"http://www.w3.org/1999/xlink\">\n <metadata>\n  <rdf:RDF xmlns:cc=\"http://creativecommons.org/ns#\" xmlns:dc=\"http://purl.org/dc/elements/1.1/\" xmlns:rdf=\"http://www.w3.org/1999/02/22-rdf-syntax-ns#\">\n   <cc:Work>\n    <dc:type rdf:resource=\"http://purl.org/dc/dcmitype/StillImage\"/>\n    <dc:date>2021-02-21T10:18:11.327038</dc:date>\n    <dc:format>image/svg+xml</dc:format>\n    <dc:creator>\n     <cc:Agent>\n      <dc:title>Matplotlib v3.3.1, https://matplotlib.org/</dc:title>\n     </cc:Agent>\n    </dc:creator>\n   </cc:Work>\n  </rdf:RDF>\n </metadata>\n <defs>\n  <style type=\"text/css\">*{stroke-linecap:butt;stroke-linejoin:round;}</style>\n </defs>\n <g id=\"figure_1\">\n  <g id=\"patch_1\">\n   <path d=\"M 0 284.916562 \nL 398.571875 284.916562 \nL 398.571875 0 \nL 0 0 \nz\n\" style=\"fill:none;\"/>\n  </g>\n  <g id=\"axes_1\">\n   <g id=\"patch_2\">\n    <path d=\"M 56.571875 245.836875 \nL 391.371875 245.836875 \nL 391.371875 28.396875 \nL 56.571875 28.396875 \nz\n\" style=\"fill:#ffffff;\"/>\n   </g>\n   <g id=\"matplotlib.axis_1\">\n    <g id=\"xtick_1\">\n     <g id=\"line2d_1\">\n      <path clip-path=\"url(#pff55622139)\" d=\"M 71.790057 245.836875 \nL 71.790057 28.396875 \n\" style=\"fill:none;stroke:#b0b0b0;stroke-linecap:square;stroke-width:0.8;\"/>\n     </g>\n     <g id=\"line2d_2\">\n      <defs>\n       <path d=\"M 0 0 \nL 0 3.5 \n\" id=\"m3e725a0727\" style=\"stroke:#000000;stroke-width:0.8;\"/>\n      </defs>\n      <g>\n       <use style=\"stroke:#000000;stroke-width:0.8;\" x=\"71.790057\" xlink:href=\"#m3e725a0727\" y=\"245.836875\"/>\n      </g>\n     </g>\n     <g id=\"text_1\">\n      <!-- 0 -->\n      <g transform=\"translate(74.549432 259.199375)rotate(-90)scale(0.1 -0.1)\">\n       <defs>\n        <path d=\"M 31.78125 66.40625 \nQ 24.171875 66.40625 20.328125 58.90625 \nQ 16.5 51.421875 16.5 36.375 \nQ 16.5 21.390625 20.328125 13.890625 \nQ 24.171875 6.390625 31.78125 6.390625 \nQ 39.453125 6.390625 43.28125 13.890625 \nQ 47.125 21.390625 47.125 36.375 \nQ 47.125 51.421875 43.28125 58.90625 \nQ 39.453125 66.40625 31.78125 66.40625 \nz\nM 31.78125 74.21875 \nQ 44.046875 74.21875 50.515625 64.515625 \nQ 56.984375 54.828125 56.984375 36.375 \nQ 56.984375 17.96875 50.515625 8.265625 \nQ 44.046875 -1.421875 31.78125 -1.421875 \nQ 19.53125 -1.421875 13.0625 8.265625 \nQ 6.59375 17.96875 6.59375 36.375 \nQ 6.59375 54.828125 13.0625 64.515625 \nQ 19.53125 74.21875 31.78125 74.21875 \nz\n\" id=\"DejaVuSans-48\"/>\n       </defs>\n       <use xlink:href=\"#DejaVuSans-48\"/>\n      </g>\n     </g>\n    </g>\n    <g id=\"xtick_2\">\n     <g id=\"line2d_3\">\n      <path clip-path=\"url(#pff55622139)\" d=\"M 71.790057 245.836875 \nL 71.790057 28.396875 \n\" style=\"fill:none;stroke:#b0b0b0;stroke-linecap:square;stroke-width:0.8;\"/>\n     </g>\n     <g id=\"line2d_4\">\n      <g>\n       <use style=\"stroke:#000000;stroke-width:0.8;\" x=\"71.790057\" xlink:href=\"#m3e725a0727\" y=\"245.836875\"/>\n      </g>\n     </g>\n     <g id=\"text_2\">\n      <!-- 0 -->\n      <g transform=\"translate(74.549432 259.199375)rotate(-90)scale(0.1 -0.1)\">\n       <use xlink:href=\"#DejaVuSans-48\"/>\n      </g>\n     </g>\n    </g>\n    <g id=\"xtick_3\">\n     <g id=\"line2d_5\">\n      <path clip-path=\"url(#pff55622139)\" d=\"M 71.790057 245.836875 \nL 71.790057 28.396875 \n\" style=\"fill:none;stroke:#b0b0b0;stroke-linecap:square;stroke-width:0.8;\"/>\n     </g>\n     <g id=\"line2d_6\">\n      <g>\n       <use style=\"stroke:#000000;stroke-width:0.8;\" x=\"71.790057\" xlink:href=\"#m3e725a0727\" y=\"245.836875\"/>\n      </g>\n     </g>\n     <g id=\"text_3\">\n      <!-- 0 -->\n      <g transform=\"translate(74.549432 259.199375)rotate(-90)scale(0.1 -0.1)\">\n       <use xlink:href=\"#DejaVuSans-48\"/>\n      </g>\n     </g>\n    </g>\n    <g id=\"xtick_4\">\n     <g id=\"line2d_7\">\n      <path clip-path=\"url(#pff55622139)\" d=\"M 71.790057 245.836875 \nL 71.790057 28.396875 \n\" style=\"fill:none;stroke:#b0b0b0;stroke-linecap:square;stroke-width:0.8;\"/>\n     </g>\n     <g id=\"line2d_8\">\n      <g>\n       <use style=\"stroke:#000000;stroke-width:0.8;\" x=\"71.790057\" xlink:href=\"#m3e725a0727\" y=\"245.836875\"/>\n      </g>\n     </g>\n     <g id=\"text_4\">\n      <!-- 0 -->\n      <g transform=\"translate(74.549432 259.199375)rotate(-90)scale(0.1 -0.1)\">\n       <use xlink:href=\"#DejaVuSans-48\"/>\n      </g>\n     </g>\n    </g>\n    <g id=\"xtick_5\">\n     <g id=\"line2d_9\">\n      <path clip-path=\"url(#pff55622139)\" d=\"M 71.790057 245.836875 \nL 71.790057 28.396875 \n\" style=\"fill:none;stroke:#b0b0b0;stroke-linecap:square;stroke-width:0.8;\"/>\n     </g>\n     <g id=\"line2d_10\">\n      <g>\n       <use style=\"stroke:#000000;stroke-width:0.8;\" x=\"71.790057\" xlink:href=\"#m3e725a0727\" y=\"245.836875\"/>\n      </g>\n     </g>\n     <g id=\"text_5\">\n      <!-- 0 -->\n      <g transform=\"translate(74.549432 259.199375)rotate(-90)scale(0.1 -0.1)\">\n       <use xlink:href=\"#DejaVuSans-48\"/>\n      </g>\n     </g>\n    </g>\n    <g id=\"xtick_6\">\n     <g id=\"line2d_11\">\n      <path clip-path=\"url(#pff55622139)\" d=\"M 71.790057 245.836875 \nL 71.790057 28.396875 \n\" style=\"fill:none;stroke:#b0b0b0;stroke-linecap:square;stroke-width:0.8;\"/>\n     </g>\n     <g id=\"line2d_12\">\n      <g>\n       <use style=\"stroke:#000000;stroke-width:0.8;\" x=\"71.790057\" xlink:href=\"#m3e725a0727\" y=\"245.836875\"/>\n      </g>\n     </g>\n     <g id=\"text_6\">\n      <!-- 0 -->\n      <g transform=\"translate(74.549432 259.199375)rotate(-90)scale(0.1 -0.1)\">\n       <use xlink:href=\"#DejaVuSans-48\"/>\n      </g>\n     </g>\n    </g>\n    <g id=\"xtick_7\">\n     <g id=\"line2d_13\">\n      <path clip-path=\"url(#pff55622139)\" d=\"M 71.790057 245.836875 \nL 71.790057 28.396875 \n\" style=\"fill:none;stroke:#b0b0b0;stroke-linecap:square;stroke-width:0.8;\"/>\n     </g>\n     <g id=\"line2d_14\">\n      <g>\n       <use style=\"stroke:#000000;stroke-width:0.8;\" x=\"71.790057\" xlink:href=\"#m3e725a0727\" y=\"245.836875\"/>\n      </g>\n     </g>\n     <g id=\"text_7\">\n      <!-- 0 -->\n      <g transform=\"translate(74.549432 259.199375)rotate(-90)scale(0.1 -0.1)\">\n       <use xlink:href=\"#DejaVuSans-48\"/>\n      </g>\n     </g>\n    </g>\n    <g id=\"xtick_8\">\n     <g id=\"line2d_15\">\n      <path clip-path=\"url(#pff55622139)\" d=\"M 71.790057 245.836875 \nL 71.790057 28.396875 \n\" style=\"fill:none;stroke:#b0b0b0;stroke-linecap:square;stroke-width:0.8;\"/>\n     </g>\n     <g id=\"line2d_16\">\n      <g>\n       <use style=\"stroke:#000000;stroke-width:0.8;\" x=\"71.790057\" xlink:href=\"#m3e725a0727\" y=\"245.836875\"/>\n      </g>\n     </g>\n     <g id=\"text_8\">\n      <!-- 0 -->\n      <g transform=\"translate(74.549432 259.199375)rotate(-90)scale(0.1 -0.1)\">\n       <use xlink:href=\"#DejaVuSans-48\"/>\n      </g>\n     </g>\n    </g>\n    <g id=\"xtick_9\">\n     <g id=\"line2d_17\">\n      <path clip-path=\"url(#pff55622139)\" d=\"M 71.790057 245.836875 \nL 71.790057 28.396875 \n\" style=\"fill:none;stroke:#b0b0b0;stroke-linecap:square;stroke-width:0.8;\"/>\n     </g>\n     <g id=\"line2d_18\">\n      <g>\n       <use style=\"stroke:#000000;stroke-width:0.8;\" x=\"71.790057\" xlink:href=\"#m3e725a0727\" y=\"245.836875\"/>\n      </g>\n     </g>\n     <g id=\"text_9\">\n      <!-- 0 -->\n      <g transform=\"translate(74.549432 259.199375)rotate(-90)scale(0.1 -0.1)\">\n       <use xlink:href=\"#DejaVuSans-48\"/>\n      </g>\n     </g>\n    </g>\n    <g id=\"xtick_10\">\n     <g id=\"line2d_19\">\n      <path clip-path=\"url(#pff55622139)\" d=\"M 71.790057 245.836875 \nL 71.790057 28.396875 \n\" style=\"fill:none;stroke:#b0b0b0;stroke-linecap:square;stroke-width:0.8;\"/>\n     </g>\n     <g id=\"line2d_20\">\n      <g>\n       <use style=\"stroke:#000000;stroke-width:0.8;\" x=\"71.790057\" xlink:href=\"#m3e725a0727\" y=\"245.836875\"/>\n      </g>\n     </g>\n     <g id=\"text_10\">\n      <!-- 0 -->\n      <g transform=\"translate(74.549432 259.199375)rotate(-90)scale(0.1 -0.1)\">\n       <use xlink:href=\"#DejaVuSans-48\"/>\n      </g>\n     </g>\n    </g>\n    <g id=\"xtick_11\">\n     <g id=\"line2d_21\">\n      <path clip-path=\"url(#pff55622139)\" d=\"M 71.790057 245.836875 \nL 71.790057 28.396875 \n\" style=\"fill:none;stroke:#b0b0b0;stroke-linecap:square;stroke-width:0.8;\"/>\n     </g>\n     <g id=\"line2d_22\">\n      <g>\n       <use style=\"stroke:#000000;stroke-width:0.8;\" x=\"71.790057\" xlink:href=\"#m3e725a0727\" y=\"245.836875\"/>\n      </g>\n     </g>\n     <g id=\"text_11\">\n      <!-- 0 -->\n      <g transform=\"translate(74.549432 259.199375)rotate(-90)scale(0.1 -0.1)\">\n       <use xlink:href=\"#DejaVuSans-48\"/>\n      </g>\n     </g>\n    </g>\n    <g id=\"xtick_12\">\n     <g id=\"line2d_23\">\n      <path clip-path=\"url(#pff55622139)\" d=\"M 71.790057 245.836875 \nL 71.790057 28.396875 \n\" style=\"fill:none;stroke:#b0b0b0;stroke-linecap:square;stroke-width:0.8;\"/>\n     </g>\n     <g id=\"line2d_24\">\n      <g>\n       <use style=\"stroke:#000000;stroke-width:0.8;\" x=\"71.790057\" xlink:href=\"#m3e725a0727\" y=\"245.836875\"/>\n      </g>\n     </g>\n     <g id=\"text_12\">\n      <!-- 0 -->\n      <g transform=\"translate(74.549432 259.199375)rotate(-90)scale(0.1 -0.1)\">\n       <use xlink:href=\"#DejaVuSans-48\"/>\n      </g>\n     </g>\n    </g>\n    <g id=\"xtick_13\">\n     <g id=\"line2d_25\">\n      <path clip-path=\"url(#pff55622139)\" d=\"M 71.790057 245.836875 \nL 71.790057 28.396875 \n\" style=\"fill:none;stroke:#b0b0b0;stroke-linecap:square;stroke-width:0.8;\"/>\n     </g>\n     <g id=\"line2d_26\">\n      <g>\n       <use style=\"stroke:#000000;stroke-width:0.8;\" x=\"71.790057\" xlink:href=\"#m3e725a0727\" y=\"245.836875\"/>\n      </g>\n     </g>\n     <g id=\"text_13\">\n      <!-- 0 -->\n      <g transform=\"translate(74.549432 259.199375)rotate(-90)scale(0.1 -0.1)\">\n       <use xlink:href=\"#DejaVuSans-48\"/>\n      </g>\n     </g>\n    </g>\n    <g id=\"xtick_14\">\n     <g id=\"line2d_27\">\n      <path clip-path=\"url(#pff55622139)\" d=\"M 71.790057 245.836875 \nL 71.790057 28.396875 \n\" style=\"fill:none;stroke:#b0b0b0;stroke-linecap:square;stroke-width:0.8;\"/>\n     </g>\n     <g id=\"line2d_28\">\n      <g>\n       <use style=\"stroke:#000000;stroke-width:0.8;\" x=\"71.790057\" xlink:href=\"#m3e725a0727\" y=\"245.836875\"/>\n      </g>\n     </g>\n     <g id=\"text_14\">\n      <!-- 0 -->\n      <g transform=\"translate(74.549432 259.199375)rotate(-90)scale(0.1 -0.1)\">\n       <use xlink:href=\"#DejaVuSans-48\"/>\n      </g>\n     </g>\n    </g>\n    <g id=\"xtick_15\">\n     <g id=\"line2d_29\">\n      <path clip-path=\"url(#pff55622139)\" d=\"M 71.790057 245.836875 \nL 71.790057 28.396875 \n\" style=\"fill:none;stroke:#b0b0b0;stroke-linecap:square;stroke-width:0.8;\"/>\n     </g>\n     <g id=\"line2d_30\">\n      <g>\n       <use style=\"stroke:#000000;stroke-width:0.8;\" x=\"71.790057\" xlink:href=\"#m3e725a0727\" y=\"245.836875\"/>\n      </g>\n     </g>\n     <g id=\"text_15\">\n      <!-- 0 -->\n      <g transform=\"translate(74.549432 259.199375)rotate(-90)scale(0.1 -0.1)\">\n       <use xlink:href=\"#DejaVuSans-48\"/>\n      </g>\n     </g>\n    </g>\n    <g id=\"xtick_16\">\n     <g id=\"line2d_31\">\n      <path clip-path=\"url(#pff55622139)\" d=\"M 71.790057 245.836875 \nL 71.790057 28.396875 \n\" style=\"fill:none;stroke:#b0b0b0;stroke-linecap:square;stroke-width:0.8;\"/>\n     </g>\n     <g id=\"line2d_32\">\n      <g>\n       <use style=\"stroke:#000000;stroke-width:0.8;\" x=\"71.790057\" xlink:href=\"#m3e725a0727\" y=\"245.836875\"/>\n      </g>\n     </g>\n     <g id=\"text_16\">\n      <!-- 0 -->\n      <g transform=\"translate(74.549432 259.199375)rotate(-90)scale(0.1 -0.1)\">\n       <use xlink:href=\"#DejaVuSans-48\"/>\n      </g>\n     </g>\n    </g>\n    <g id=\"xtick_17\">\n     <g id=\"line2d_33\">\n      <path clip-path=\"url(#pff55622139)\" d=\"M 71.790057 245.836875 \nL 71.790057 28.396875 \n\" style=\"fill:none;stroke:#b0b0b0;stroke-linecap:square;stroke-width:0.8;\"/>\n     </g>\n     <g id=\"line2d_34\">\n      <g>\n       <use style=\"stroke:#000000;stroke-width:0.8;\" x=\"71.790057\" xlink:href=\"#m3e725a0727\" y=\"245.836875\"/>\n      </g>\n     </g>\n     <g id=\"text_17\">\n      <!-- 0 -->\n      <g transform=\"translate(74.549432 259.199375)rotate(-90)scale(0.1 -0.1)\">\n       <use xlink:href=\"#DejaVuSans-48\"/>\n      </g>\n     </g>\n    </g>\n    <g id=\"xtick_18\">\n     <g id=\"line2d_35\">\n      <path clip-path=\"url(#pff55622139)\" d=\"M 71.790057 245.836875 \nL 71.790057 28.396875 \n\" style=\"fill:none;stroke:#b0b0b0;stroke-linecap:square;stroke-width:0.8;\"/>\n     </g>\n     <g id=\"line2d_36\">\n      <g>\n       <use style=\"stroke:#000000;stroke-width:0.8;\" x=\"71.790057\" xlink:href=\"#m3e725a0727\" y=\"245.836875\"/>\n      </g>\n     </g>\n     <g id=\"text_18\">\n      <!-- 0 -->\n      <g transform=\"translate(74.549432 259.199375)rotate(-90)scale(0.1 -0.1)\">\n       <use xlink:href=\"#DejaVuSans-48\"/>\n      </g>\n     </g>\n    </g>\n    <g id=\"xtick_19\">\n     <g id=\"line2d_37\">\n      <path clip-path=\"url(#pff55622139)\" d=\"M 71.790057 245.836875 \nL 71.790057 28.396875 \n\" style=\"fill:none;stroke:#b0b0b0;stroke-linecap:square;stroke-width:0.8;\"/>\n     </g>\n     <g id=\"line2d_38\">\n      <g>\n       <use style=\"stroke:#000000;stroke-width:0.8;\" x=\"71.790057\" xlink:href=\"#m3e725a0727\" y=\"245.836875\"/>\n      </g>\n     </g>\n     <g id=\"text_19\">\n      <!-- 0 -->\n      <g transform=\"translate(74.549432 259.199375)rotate(-90)scale(0.1 -0.1)\">\n       <use xlink:href=\"#DejaVuSans-48\"/>\n      </g>\n     </g>\n    </g>\n    <g id=\"xtick_20\">\n     <g id=\"line2d_39\">\n      <path clip-path=\"url(#pff55622139)\" d=\"M 71.790057 245.836875 \nL 71.790057 28.396875 \n\" style=\"fill:none;stroke:#b0b0b0;stroke-linecap:square;stroke-width:0.8;\"/>\n     </g>\n     <g id=\"line2d_40\">\n      <g>\n       <use style=\"stroke:#000000;stroke-width:0.8;\" x=\"71.790057\" xlink:href=\"#m3e725a0727\" y=\"245.836875\"/>\n      </g>\n     </g>\n     <g id=\"text_20\">\n      <!-- 0 -->\n      <g transform=\"translate(74.549432 259.199375)rotate(-90)scale(0.1 -0.1)\">\n       <use xlink:href=\"#DejaVuSans-48\"/>\n      </g>\n     </g>\n    </g>\n    <g id=\"xtick_21\">\n     <g id=\"line2d_41\">\n      <path clip-path=\"url(#pff55622139)\" d=\"M 71.790057 245.836875 \nL 71.790057 28.396875 \n\" style=\"fill:none;stroke:#b0b0b0;stroke-linecap:square;stroke-width:0.8;\"/>\n     </g>\n     <g id=\"line2d_42\">\n      <g>\n       <use style=\"stroke:#000000;stroke-width:0.8;\" x=\"71.790057\" xlink:href=\"#m3e725a0727\" y=\"245.836875\"/>\n      </g>\n     </g>\n     <g id=\"text_21\">\n      <!-- 0 -->\n      <g transform=\"translate(74.549432 259.199375)rotate(-90)scale(0.1 -0.1)\">\n       <use xlink:href=\"#DejaVuSans-48\"/>\n      </g>\n     </g>\n    </g>\n    <g id=\"xtick_22\">\n     <g id=\"line2d_43\">\n      <path clip-path=\"url(#pff55622139)\" d=\"M 71.790057 245.836875 \nL 71.790057 28.396875 \n\" style=\"fill:none;stroke:#b0b0b0;stroke-linecap:square;stroke-width:0.8;\"/>\n     </g>\n     <g id=\"line2d_44\">\n      <g>\n       <use style=\"stroke:#000000;stroke-width:0.8;\" x=\"71.790057\" xlink:href=\"#m3e725a0727\" y=\"245.836875\"/>\n      </g>\n     </g>\n     <g id=\"text_22\">\n      <!-- 0 -->\n      <g transform=\"translate(74.549432 259.199375)rotate(-90)scale(0.1 -0.1)\">\n       <use xlink:href=\"#DejaVuSans-48\"/>\n      </g>\n     </g>\n    </g>\n    <g id=\"xtick_23\">\n     <g id=\"line2d_45\">\n      <path clip-path=\"url(#pff55622139)\" d=\"M 71.790057 245.836875 \nL 71.790057 28.396875 \n\" style=\"fill:none;stroke:#b0b0b0;stroke-linecap:square;stroke-width:0.8;\"/>\n     </g>\n     <g id=\"line2d_46\">\n      <g>\n       <use style=\"stroke:#000000;stroke-width:0.8;\" x=\"71.790057\" xlink:href=\"#m3e725a0727\" y=\"245.836875\"/>\n      </g>\n     </g>\n     <g id=\"text_23\">\n      <!-- 0 -->\n      <g transform=\"translate(74.549432 259.199375)rotate(-90)scale(0.1 -0.1)\">\n       <use xlink:href=\"#DejaVuSans-48\"/>\n      </g>\n     </g>\n    </g>\n    <g id=\"xtick_24\">\n     <g id=\"line2d_47\">\n      <path clip-path=\"url(#pff55622139)\" d=\"M 71.790057 245.836875 \nL 71.790057 28.396875 \n\" style=\"fill:none;stroke:#b0b0b0;stroke-linecap:square;stroke-width:0.8;\"/>\n     </g>\n     <g id=\"line2d_48\">\n      <g>\n       <use style=\"stroke:#000000;stroke-width:0.8;\" x=\"71.790057\" xlink:href=\"#m3e725a0727\" y=\"245.836875\"/>\n      </g>\n     </g>\n     <g id=\"text_24\">\n      <!-- 0 -->\n      <g transform=\"translate(74.549432 259.199375)rotate(-90)scale(0.1 -0.1)\">\n       <use xlink:href=\"#DejaVuSans-48\"/>\n      </g>\n     </g>\n    </g>\n    <g id=\"xtick_25\">\n     <g id=\"line2d_49\">\n      <path clip-path=\"url(#pff55622139)\" d=\"M 71.790057 245.836875 \nL 71.790057 28.396875 \n\" style=\"fill:none;stroke:#b0b0b0;stroke-linecap:square;stroke-width:0.8;\"/>\n     </g>\n     <g id=\"line2d_50\">\n      <g>\n       <use style=\"stroke:#000000;stroke-width:0.8;\" x=\"71.790057\" xlink:href=\"#m3e725a0727\" y=\"245.836875\"/>\n      </g>\n     </g>\n     <g id=\"text_25\">\n      <!-- 0 -->\n      <g transform=\"translate(74.549432 259.199375)rotate(-90)scale(0.1 -0.1)\">\n       <use xlink:href=\"#DejaVuSans-48\"/>\n      </g>\n     </g>\n    </g>\n    <g id=\"xtick_26\">\n     <g id=\"line2d_51\">\n      <path clip-path=\"url(#pff55622139)\" d=\"M 71.790057 245.836875 \nL 71.790057 28.396875 \n\" style=\"fill:none;stroke:#b0b0b0;stroke-linecap:square;stroke-width:0.8;\"/>\n     </g>\n     <g id=\"line2d_52\">\n      <g>\n       <use style=\"stroke:#000000;stroke-width:0.8;\" x=\"71.790057\" xlink:href=\"#m3e725a0727\" y=\"245.836875\"/>\n      </g>\n     </g>\n     <g id=\"text_26\">\n      <!-- 0 -->\n      <g transform=\"translate(74.549432 259.199375)rotate(-90)scale(0.1 -0.1)\">\n       <use xlink:href=\"#DejaVuSans-48\"/>\n      </g>\n     </g>\n    </g>\n    <g id=\"xtick_27\">\n     <g id=\"line2d_53\">\n      <path clip-path=\"url(#pff55622139)\" d=\"M 71.790057 245.836875 \nL 71.790057 28.396875 \n\" style=\"fill:none;stroke:#b0b0b0;stroke-linecap:square;stroke-width:0.8;\"/>\n     </g>\n     <g id=\"line2d_54\">\n      <g>\n       <use style=\"stroke:#000000;stroke-width:0.8;\" x=\"71.790057\" xlink:href=\"#m3e725a0727\" y=\"245.836875\"/>\n      </g>\n     </g>\n     <g id=\"text_27\">\n      <!-- 0 -->\n      <g transform=\"translate(74.549432 259.199375)rotate(-90)scale(0.1 -0.1)\">\n       <use xlink:href=\"#DejaVuSans-48\"/>\n      </g>\n     </g>\n    </g>\n    <g id=\"xtick_28\">\n     <g id=\"line2d_55\">\n      <path clip-path=\"url(#pff55622139)\" d=\"M 71.790057 245.836875 \nL 71.790057 28.396875 \n\" style=\"fill:none;stroke:#b0b0b0;stroke-linecap:square;stroke-width:0.8;\"/>\n     </g>\n     <g id=\"line2d_56\">\n      <g>\n       <use style=\"stroke:#000000;stroke-width:0.8;\" x=\"71.790057\" xlink:href=\"#m3e725a0727\" y=\"245.836875\"/>\n      </g>\n     </g>\n     <g id=\"text_28\">\n      <!-- 0 -->\n      <g transform=\"translate(74.549432 259.199375)rotate(-90)scale(0.1 -0.1)\">\n       <use xlink:href=\"#DejaVuSans-48\"/>\n      </g>\n     </g>\n    </g>\n    <g id=\"xtick_29\">\n     <g id=\"line2d_57\">\n      <path clip-path=\"url(#pff55622139)\" d=\"M 71.790057 245.836875 \nL 71.790057 28.396875 \n\" style=\"fill:none;stroke:#b0b0b0;stroke-linecap:square;stroke-width:0.8;\"/>\n     </g>\n     <g id=\"line2d_58\">\n      <g>\n       <use style=\"stroke:#000000;stroke-width:0.8;\" x=\"71.790057\" xlink:href=\"#m3e725a0727\" y=\"245.836875\"/>\n      </g>\n     </g>\n     <g id=\"text_29\">\n      <!-- 0 -->\n      <g transform=\"translate(74.549432 259.199375)rotate(-90)scale(0.1 -0.1)\">\n       <use xlink:href=\"#DejaVuSans-48\"/>\n      </g>\n     </g>\n    </g>\n    <g id=\"xtick_30\">\n     <g id=\"line2d_59\">\n      <path clip-path=\"url(#pff55622139)\" d=\"M 71.790057 245.836875 \nL 71.790057 28.396875 \n\" style=\"fill:none;stroke:#b0b0b0;stroke-linecap:square;stroke-width:0.8;\"/>\n     </g>\n     <g id=\"line2d_60\">\n      <g>\n       <use style=\"stroke:#000000;stroke-width:0.8;\" x=\"71.790057\" xlink:href=\"#m3e725a0727\" y=\"245.836875\"/>\n      </g>\n     </g>\n     <g id=\"text_30\">\n      <!-- 0 -->\n      <g transform=\"translate(74.549432 259.199375)rotate(-90)scale(0.1 -0.1)\">\n       <use xlink:href=\"#DejaVuSans-48\"/>\n      </g>\n     </g>\n    </g>\n    <g id=\"xtick_31\">\n     <g id=\"line2d_61\">\n      <path clip-path=\"url(#pff55622139)\" d=\"M 71.790057 245.836875 \nL 71.790057 28.396875 \n\" style=\"fill:none;stroke:#b0b0b0;stroke-linecap:square;stroke-width:0.8;\"/>\n     </g>\n     <g id=\"line2d_62\">\n      <g>\n       <use style=\"stroke:#000000;stroke-width:0.8;\" x=\"71.790057\" xlink:href=\"#m3e725a0727\" y=\"245.836875\"/>\n      </g>\n     </g>\n     <g id=\"text_31\">\n      <!-- 0 -->\n      <g transform=\"translate(74.549432 259.199375)rotate(-90)scale(0.1 -0.1)\">\n       <use xlink:href=\"#DejaVuSans-48\"/>\n      </g>\n     </g>\n    </g>\n    <g id=\"xtick_32\">\n     <g id=\"line2d_63\">\n      <path clip-path=\"url(#pff55622139)\" d=\"M 71.790057 245.836875 \nL 71.790057 28.396875 \n\" style=\"fill:none;stroke:#b0b0b0;stroke-linecap:square;stroke-width:0.8;\"/>\n     </g>\n     <g id=\"line2d_64\">\n      <g>\n       <use style=\"stroke:#000000;stroke-width:0.8;\" x=\"71.790057\" xlink:href=\"#m3e725a0727\" y=\"245.836875\"/>\n      </g>\n     </g>\n     <g id=\"text_32\">\n      <!-- 0 -->\n      <g transform=\"translate(74.549432 259.199375)rotate(-90)scale(0.1 -0.1)\">\n       <use xlink:href=\"#DejaVuSans-48\"/>\n      </g>\n     </g>\n    </g>\n    <g id=\"xtick_33\">\n     <g id=\"line2d_65\">\n      <path clip-path=\"url(#pff55622139)\" d=\"M 122.51733 245.836875 \nL 122.51733 28.396875 \n\" style=\"fill:none;stroke:#b0b0b0;stroke-linecap:square;stroke-width:0.8;\"/>\n     </g>\n     <g id=\"line2d_66\">\n      <g>\n       <use style=\"stroke:#000000;stroke-width:0.8;\" x=\"122.51733\" xlink:href=\"#m3e725a0727\" y=\"245.836875\"/>\n      </g>\n     </g>\n     <g id=\"text_33\">\n      <!-- 1 -->\n      <g transform=\"translate(125.276705 259.199375)rotate(-90)scale(0.1 -0.1)\">\n       <defs>\n        <path d=\"M 12.40625 8.296875 \nL 28.515625 8.296875 \nL 28.515625 63.921875 \nL 10.984375 60.40625 \nL 10.984375 69.390625 \nL 28.421875 72.90625 \nL 38.28125 72.90625 \nL 38.28125 8.296875 \nL 54.390625 8.296875 \nL 54.390625 0 \nL 12.40625 0 \nz\n\" id=\"DejaVuSans-49\"/>\n       </defs>\n       <use xlink:href=\"#DejaVuSans-49\"/>\n      </g>\n     </g>\n    </g>\n    <g id=\"xtick_34\">\n     <g id=\"line2d_67\">\n      <path clip-path=\"url(#pff55622139)\" d=\"M 122.51733 245.836875 \nL 122.51733 28.396875 \n\" style=\"fill:none;stroke:#b0b0b0;stroke-linecap:square;stroke-width:0.8;\"/>\n     </g>\n     <g id=\"line2d_68\">\n      <g>\n       <use style=\"stroke:#000000;stroke-width:0.8;\" x=\"122.51733\" xlink:href=\"#m3e725a0727\" y=\"245.836875\"/>\n      </g>\n     </g>\n     <g id=\"text_34\">\n      <!-- 1 -->\n      <g transform=\"translate(125.276705 259.199375)rotate(-90)scale(0.1 -0.1)\">\n       <use xlink:href=\"#DejaVuSans-49\"/>\n      </g>\n     </g>\n    </g>\n    <g id=\"xtick_35\">\n     <g id=\"line2d_69\">\n      <path clip-path=\"url(#pff55622139)\" d=\"M 122.51733 245.836875 \nL 122.51733 28.396875 \n\" style=\"fill:none;stroke:#b0b0b0;stroke-linecap:square;stroke-width:0.8;\"/>\n     </g>\n     <g id=\"line2d_70\">\n      <g>\n       <use style=\"stroke:#000000;stroke-width:0.8;\" x=\"122.51733\" xlink:href=\"#m3e725a0727\" y=\"245.836875\"/>\n      </g>\n     </g>\n     <g id=\"text_35\">\n      <!-- 1 -->\n      <g transform=\"translate(125.276705 259.199375)rotate(-90)scale(0.1 -0.1)\">\n       <use xlink:href=\"#DejaVuSans-49\"/>\n      </g>\n     </g>\n    </g>\n    <g id=\"xtick_36\">\n     <g id=\"line2d_71\">\n      <path clip-path=\"url(#pff55622139)\" d=\"M 122.51733 245.836875 \nL 122.51733 28.396875 \n\" style=\"fill:none;stroke:#b0b0b0;stroke-linecap:square;stroke-width:0.8;\"/>\n     </g>\n     <g id=\"line2d_72\">\n      <g>\n       <use style=\"stroke:#000000;stroke-width:0.8;\" x=\"122.51733\" xlink:href=\"#m3e725a0727\" y=\"245.836875\"/>\n      </g>\n     </g>\n     <g id=\"text_36\">\n      <!-- 1 -->\n      <g transform=\"translate(125.276705 259.199375)rotate(-90)scale(0.1 -0.1)\">\n       <use xlink:href=\"#DejaVuSans-49\"/>\n      </g>\n     </g>\n    </g>\n    <g id=\"xtick_37\">\n     <g id=\"line2d_73\">\n      <path clip-path=\"url(#pff55622139)\" d=\"M 122.51733 245.836875 \nL 122.51733 28.396875 \n\" style=\"fill:none;stroke:#b0b0b0;stroke-linecap:square;stroke-width:0.8;\"/>\n     </g>\n     <g id=\"line2d_74\">\n      <g>\n       <use style=\"stroke:#000000;stroke-width:0.8;\" x=\"122.51733\" xlink:href=\"#m3e725a0727\" y=\"245.836875\"/>\n      </g>\n     </g>\n     <g id=\"text_37\">\n      <!-- 1 -->\n      <g transform=\"translate(125.276705 259.199375)rotate(-90)scale(0.1 -0.1)\">\n       <use xlink:href=\"#DejaVuSans-49\"/>\n      </g>\n     </g>\n    </g>\n    <g id=\"xtick_38\">\n     <g id=\"line2d_75\">\n      <path clip-path=\"url(#pff55622139)\" d=\"M 122.51733 245.836875 \nL 122.51733 28.396875 \n\" style=\"fill:none;stroke:#b0b0b0;stroke-linecap:square;stroke-width:0.8;\"/>\n     </g>\n     <g id=\"line2d_76\">\n      <g>\n       <use style=\"stroke:#000000;stroke-width:0.8;\" x=\"122.51733\" xlink:href=\"#m3e725a0727\" y=\"245.836875\"/>\n      </g>\n     </g>\n     <g id=\"text_38\">\n      <!-- 1 -->\n      <g transform=\"translate(125.276705 259.199375)rotate(-90)scale(0.1 -0.1)\">\n       <use xlink:href=\"#DejaVuSans-49\"/>\n      </g>\n     </g>\n    </g>\n    <g id=\"xtick_39\">\n     <g id=\"line2d_77\">\n      <path clip-path=\"url(#pff55622139)\" d=\"M 122.51733 245.836875 \nL 122.51733 28.396875 \n\" style=\"fill:none;stroke:#b0b0b0;stroke-linecap:square;stroke-width:0.8;\"/>\n     </g>\n     <g id=\"line2d_78\">\n      <g>\n       <use style=\"stroke:#000000;stroke-width:0.8;\" x=\"122.51733\" xlink:href=\"#m3e725a0727\" y=\"245.836875\"/>\n      </g>\n     </g>\n     <g id=\"text_39\">\n      <!-- 1 -->\n      <g transform=\"translate(125.276705 259.199375)rotate(-90)scale(0.1 -0.1)\">\n       <use xlink:href=\"#DejaVuSans-49\"/>\n      </g>\n     </g>\n    </g>\n    <g id=\"xtick_40\">\n     <g id=\"line2d_79\">\n      <path clip-path=\"url(#pff55622139)\" d=\"M 122.51733 245.836875 \nL 122.51733 28.396875 \n\" style=\"fill:none;stroke:#b0b0b0;stroke-linecap:square;stroke-width:0.8;\"/>\n     </g>\n     <g id=\"line2d_80\">\n      <g>\n       <use style=\"stroke:#000000;stroke-width:0.8;\" x=\"122.51733\" xlink:href=\"#m3e725a0727\" y=\"245.836875\"/>\n      </g>\n     </g>\n     <g id=\"text_40\">\n      <!-- 1 -->\n      <g transform=\"translate(125.276705 259.199375)rotate(-90)scale(0.1 -0.1)\">\n       <use xlink:href=\"#DejaVuSans-49\"/>\n      </g>\n     </g>\n    </g>\n    <g id=\"xtick_41\">\n     <g id=\"line2d_81\">\n      <path clip-path=\"url(#pff55622139)\" d=\"M 122.51733 245.836875 \nL 122.51733 28.396875 \n\" style=\"fill:none;stroke:#b0b0b0;stroke-linecap:square;stroke-width:0.8;\"/>\n     </g>\n     <g id=\"line2d_82\">\n      <g>\n       <use style=\"stroke:#000000;stroke-width:0.8;\" x=\"122.51733\" xlink:href=\"#m3e725a0727\" y=\"245.836875\"/>\n      </g>\n     </g>\n     <g id=\"text_41\">\n      <!-- 1 -->\n      <g transform=\"translate(125.276705 259.199375)rotate(-90)scale(0.1 -0.1)\">\n       <use xlink:href=\"#DejaVuSans-49\"/>\n      </g>\n     </g>\n    </g>\n    <g id=\"xtick_42\">\n     <g id=\"line2d_83\">\n      <path clip-path=\"url(#pff55622139)\" d=\"M 122.51733 245.836875 \nL 122.51733 28.396875 \n\" style=\"fill:none;stroke:#b0b0b0;stroke-linecap:square;stroke-width:0.8;\"/>\n     </g>\n     <g id=\"line2d_84\">\n      <g>\n       <use style=\"stroke:#000000;stroke-width:0.8;\" x=\"122.51733\" xlink:href=\"#m3e725a0727\" y=\"245.836875\"/>\n      </g>\n     </g>\n     <g id=\"text_42\">\n      <!-- 1 -->\n      <g transform=\"translate(125.276705 259.199375)rotate(-90)scale(0.1 -0.1)\">\n       <use xlink:href=\"#DejaVuSans-49\"/>\n      </g>\n     </g>\n    </g>\n    <g id=\"xtick_43\">\n     <g id=\"line2d_85\">\n      <path clip-path=\"url(#pff55622139)\" d=\"M 122.51733 245.836875 \nL 122.51733 28.396875 \n\" style=\"fill:none;stroke:#b0b0b0;stroke-linecap:square;stroke-width:0.8;\"/>\n     </g>\n     <g id=\"line2d_86\">\n      <g>\n       <use style=\"stroke:#000000;stroke-width:0.8;\" x=\"122.51733\" xlink:href=\"#m3e725a0727\" y=\"245.836875\"/>\n      </g>\n     </g>\n     <g id=\"text_43\">\n      <!-- 1 -->\n      <g transform=\"translate(125.276705 259.199375)rotate(-90)scale(0.1 -0.1)\">\n       <use xlink:href=\"#DejaVuSans-49\"/>\n      </g>\n     </g>\n    </g>\n    <g id=\"xtick_44\">\n     <g id=\"line2d_87\">\n      <path clip-path=\"url(#pff55622139)\" d=\"M 122.51733 245.836875 \nL 122.51733 28.396875 \n\" style=\"fill:none;stroke:#b0b0b0;stroke-linecap:square;stroke-width:0.8;\"/>\n     </g>\n     <g id=\"line2d_88\">\n      <g>\n       <use style=\"stroke:#000000;stroke-width:0.8;\" x=\"122.51733\" xlink:href=\"#m3e725a0727\" y=\"245.836875\"/>\n      </g>\n     </g>\n     <g id=\"text_44\">\n      <!-- 1 -->\n      <g transform=\"translate(125.276705 259.199375)rotate(-90)scale(0.1 -0.1)\">\n       <use xlink:href=\"#DejaVuSans-49\"/>\n      </g>\n     </g>\n    </g>\n    <g id=\"xtick_45\">\n     <g id=\"line2d_89\">\n      <path clip-path=\"url(#pff55622139)\" d=\"M 122.51733 245.836875 \nL 122.51733 28.396875 \n\" style=\"fill:none;stroke:#b0b0b0;stroke-linecap:square;stroke-width:0.8;\"/>\n     </g>\n     <g id=\"line2d_90\">\n      <g>\n       <use style=\"stroke:#000000;stroke-width:0.8;\" x=\"122.51733\" xlink:href=\"#m3e725a0727\" y=\"245.836875\"/>\n      </g>\n     </g>\n     <g id=\"text_45\">\n      <!-- 1 -->\n      <g transform=\"translate(125.276705 259.199375)rotate(-90)scale(0.1 -0.1)\">\n       <use xlink:href=\"#DejaVuSans-49\"/>\n      </g>\n     </g>\n    </g>\n    <g id=\"xtick_46\">\n     <g id=\"line2d_91\">\n      <path clip-path=\"url(#pff55622139)\" d=\"M 122.51733 245.836875 \nL 122.51733 28.396875 \n\" style=\"fill:none;stroke:#b0b0b0;stroke-linecap:square;stroke-width:0.8;\"/>\n     </g>\n     <g id=\"line2d_92\">\n      <g>\n       <use style=\"stroke:#000000;stroke-width:0.8;\" x=\"122.51733\" xlink:href=\"#m3e725a0727\" y=\"245.836875\"/>\n      </g>\n     </g>\n     <g id=\"text_46\">\n      <!-- 1 -->\n      <g transform=\"translate(125.276705 259.199375)rotate(-90)scale(0.1 -0.1)\">\n       <use xlink:href=\"#DejaVuSans-49\"/>\n      </g>\n     </g>\n    </g>\n    <g id=\"xtick_47\">\n     <g id=\"line2d_93\">\n      <path clip-path=\"url(#pff55622139)\" d=\"M 122.51733 245.836875 \nL 122.51733 28.396875 \n\" style=\"fill:none;stroke:#b0b0b0;stroke-linecap:square;stroke-width:0.8;\"/>\n     </g>\n     <g id=\"line2d_94\">\n      <g>\n       <use style=\"stroke:#000000;stroke-width:0.8;\" x=\"122.51733\" xlink:href=\"#m3e725a0727\" y=\"245.836875\"/>\n      </g>\n     </g>\n     <g id=\"text_47\">\n      <!-- 1 -->\n      <g transform=\"translate(125.276705 259.199375)rotate(-90)scale(0.1 -0.1)\">\n       <use xlink:href=\"#DejaVuSans-49\"/>\n      </g>\n     </g>\n    </g>\n    <g id=\"xtick_48\">\n     <g id=\"line2d_95\">\n      <path clip-path=\"url(#pff55622139)\" d=\"M 122.51733 245.836875 \nL 122.51733 28.396875 \n\" style=\"fill:none;stroke:#b0b0b0;stroke-linecap:square;stroke-width:0.8;\"/>\n     </g>\n     <g id=\"line2d_96\">\n      <g>\n       <use style=\"stroke:#000000;stroke-width:0.8;\" x=\"122.51733\" xlink:href=\"#m3e725a0727\" y=\"245.836875\"/>\n      </g>\n     </g>\n     <g id=\"text_48\">\n      <!-- 1 -->\n      <g transform=\"translate(125.276705 259.199375)rotate(-90)scale(0.1 -0.1)\">\n       <use xlink:href=\"#DejaVuSans-49\"/>\n      </g>\n     </g>\n    </g>\n    <g id=\"xtick_49\">\n     <g id=\"line2d_97\">\n      <path clip-path=\"url(#pff55622139)\" d=\"M 122.51733 245.836875 \nL 122.51733 28.396875 \n\" style=\"fill:none;stroke:#b0b0b0;stroke-linecap:square;stroke-width:0.8;\"/>\n     </g>\n     <g id=\"line2d_98\">\n      <g>\n       <use style=\"stroke:#000000;stroke-width:0.8;\" x=\"122.51733\" xlink:href=\"#m3e725a0727\" y=\"245.836875\"/>\n      </g>\n     </g>\n     <g id=\"text_49\">\n      <!-- 1 -->\n      <g transform=\"translate(125.276705 259.199375)rotate(-90)scale(0.1 -0.1)\">\n       <use xlink:href=\"#DejaVuSans-49\"/>\n      </g>\n     </g>\n    </g>\n    <g id=\"xtick_50\">\n     <g id=\"line2d_99\">\n      <path clip-path=\"url(#pff55622139)\" d=\"M 122.51733 245.836875 \nL 122.51733 28.396875 \n\" style=\"fill:none;stroke:#b0b0b0;stroke-linecap:square;stroke-width:0.8;\"/>\n     </g>\n     <g id=\"line2d_100\">\n      <g>\n       <use style=\"stroke:#000000;stroke-width:0.8;\" x=\"122.51733\" xlink:href=\"#m3e725a0727\" y=\"245.836875\"/>\n      </g>\n     </g>\n     <g id=\"text_50\">\n      <!-- 1 -->\n      <g transform=\"translate(125.276705 259.199375)rotate(-90)scale(0.1 -0.1)\">\n       <use xlink:href=\"#DejaVuSans-49\"/>\n      </g>\n     </g>\n    </g>\n    <g id=\"xtick_51\">\n     <g id=\"line2d_101\">\n      <path clip-path=\"url(#pff55622139)\" d=\"M 122.51733 245.836875 \nL 122.51733 28.396875 \n\" style=\"fill:none;stroke:#b0b0b0;stroke-linecap:square;stroke-width:0.8;\"/>\n     </g>\n     <g id=\"line2d_102\">\n      <g>\n       <use style=\"stroke:#000000;stroke-width:0.8;\" x=\"122.51733\" xlink:href=\"#m3e725a0727\" y=\"245.836875\"/>\n      </g>\n     </g>\n     <g id=\"text_51\">\n      <!-- 1 -->\n      <g transform=\"translate(125.276705 259.199375)rotate(-90)scale(0.1 -0.1)\">\n       <use xlink:href=\"#DejaVuSans-49\"/>\n      </g>\n     </g>\n    </g>\n    <g id=\"xtick_52\">\n     <g id=\"line2d_103\">\n      <path clip-path=\"url(#pff55622139)\" d=\"M 122.51733 245.836875 \nL 122.51733 28.396875 \n\" style=\"fill:none;stroke:#b0b0b0;stroke-linecap:square;stroke-width:0.8;\"/>\n     </g>\n     <g id=\"line2d_104\">\n      <g>\n       <use style=\"stroke:#000000;stroke-width:0.8;\" x=\"122.51733\" xlink:href=\"#m3e725a0727\" y=\"245.836875\"/>\n      </g>\n     </g>\n     <g id=\"text_52\">\n      <!-- 1 -->\n      <g transform=\"translate(125.276705 259.199375)rotate(-90)scale(0.1 -0.1)\">\n       <use xlink:href=\"#DejaVuSans-49\"/>\n      </g>\n     </g>\n    </g>\n    <g id=\"xtick_53\">\n     <g id=\"line2d_105\">\n      <path clip-path=\"url(#pff55622139)\" d=\"M 122.51733 245.836875 \nL 122.51733 28.396875 \n\" style=\"fill:none;stroke:#b0b0b0;stroke-linecap:square;stroke-width:0.8;\"/>\n     </g>\n     <g id=\"line2d_106\">\n      <g>\n       <use style=\"stroke:#000000;stroke-width:0.8;\" x=\"122.51733\" xlink:href=\"#m3e725a0727\" y=\"245.836875\"/>\n      </g>\n     </g>\n     <g id=\"text_53\">\n      <!-- 1 -->\n      <g transform=\"translate(125.276705 259.199375)rotate(-90)scale(0.1 -0.1)\">\n       <use xlink:href=\"#DejaVuSans-49\"/>\n      </g>\n     </g>\n    </g>\n    <g id=\"xtick_54\">\n     <g id=\"line2d_107\">\n      <path clip-path=\"url(#pff55622139)\" d=\"M 122.51733 245.836875 \nL 122.51733 28.396875 \n\" style=\"fill:none;stroke:#b0b0b0;stroke-linecap:square;stroke-width:0.8;\"/>\n     </g>\n     <g id=\"line2d_108\">\n      <g>\n       <use style=\"stroke:#000000;stroke-width:0.8;\" x=\"122.51733\" xlink:href=\"#m3e725a0727\" y=\"245.836875\"/>\n      </g>\n     </g>\n     <g id=\"text_54\">\n      <!-- 1 -->\n      <g transform=\"translate(125.276705 259.199375)rotate(-90)scale(0.1 -0.1)\">\n       <use xlink:href=\"#DejaVuSans-49\"/>\n      </g>\n     </g>\n    </g>\n    <g id=\"xtick_55\">\n     <g id=\"line2d_109\">\n      <path clip-path=\"url(#pff55622139)\" d=\"M 122.51733 245.836875 \nL 122.51733 28.396875 \n\" style=\"fill:none;stroke:#b0b0b0;stroke-linecap:square;stroke-width:0.8;\"/>\n     </g>\n     <g id=\"line2d_110\">\n      <g>\n       <use style=\"stroke:#000000;stroke-width:0.8;\" x=\"122.51733\" xlink:href=\"#m3e725a0727\" y=\"245.836875\"/>\n      </g>\n     </g>\n     <g id=\"text_55\">\n      <!-- 1 -->\n      <g transform=\"translate(125.276705 259.199375)rotate(-90)scale(0.1 -0.1)\">\n       <use xlink:href=\"#DejaVuSans-49\"/>\n      </g>\n     </g>\n    </g>\n    <g id=\"xtick_56\">\n     <g id=\"line2d_111\">\n      <path clip-path=\"url(#pff55622139)\" d=\"M 122.51733 245.836875 \nL 122.51733 28.396875 \n\" style=\"fill:none;stroke:#b0b0b0;stroke-linecap:square;stroke-width:0.8;\"/>\n     </g>\n     <g id=\"line2d_112\">\n      <g>\n       <use style=\"stroke:#000000;stroke-width:0.8;\" x=\"122.51733\" xlink:href=\"#m3e725a0727\" y=\"245.836875\"/>\n      </g>\n     </g>\n     <g id=\"text_56\">\n      <!-- 1 -->\n      <g transform=\"translate(125.276705 259.199375)rotate(-90)scale(0.1 -0.1)\">\n       <use xlink:href=\"#DejaVuSans-49\"/>\n      </g>\n     </g>\n    </g>\n    <g id=\"xtick_57\">\n     <g id=\"line2d_113\">\n      <path clip-path=\"url(#pff55622139)\" d=\"M 122.51733 245.836875 \nL 122.51733 28.396875 \n\" style=\"fill:none;stroke:#b0b0b0;stroke-linecap:square;stroke-width:0.8;\"/>\n     </g>\n     <g id=\"line2d_114\">\n      <g>\n       <use style=\"stroke:#000000;stroke-width:0.8;\" x=\"122.51733\" xlink:href=\"#m3e725a0727\" y=\"245.836875\"/>\n      </g>\n     </g>\n     <g id=\"text_57\">\n      <!-- 1 -->\n      <g transform=\"translate(125.276705 259.199375)rotate(-90)scale(0.1 -0.1)\">\n       <use xlink:href=\"#DejaVuSans-49\"/>\n      </g>\n     </g>\n    </g>\n    <g id=\"xtick_58\">\n     <g id=\"line2d_115\">\n      <path clip-path=\"url(#pff55622139)\" d=\"M 122.51733 245.836875 \nL 122.51733 28.396875 \n\" style=\"fill:none;stroke:#b0b0b0;stroke-linecap:square;stroke-width:0.8;\"/>\n     </g>\n     <g id=\"line2d_116\">\n      <g>\n       <use style=\"stroke:#000000;stroke-width:0.8;\" x=\"122.51733\" xlink:href=\"#m3e725a0727\" y=\"245.836875\"/>\n      </g>\n     </g>\n     <g id=\"text_58\">\n      <!-- 1 -->\n      <g transform=\"translate(125.276705 259.199375)rotate(-90)scale(0.1 -0.1)\">\n       <use xlink:href=\"#DejaVuSans-49\"/>\n      </g>\n     </g>\n    </g>\n    <g id=\"xtick_59\">\n     <g id=\"line2d_117\">\n      <path clip-path=\"url(#pff55622139)\" d=\"M 122.51733 245.836875 \nL 122.51733 28.396875 \n\" style=\"fill:none;stroke:#b0b0b0;stroke-linecap:square;stroke-width:0.8;\"/>\n     </g>\n     <g id=\"line2d_118\">\n      <g>\n       <use style=\"stroke:#000000;stroke-width:0.8;\" x=\"122.51733\" xlink:href=\"#m3e725a0727\" y=\"245.836875\"/>\n      </g>\n     </g>\n     <g id=\"text_59\">\n      <!-- 1 -->\n      <g transform=\"translate(125.276705 259.199375)rotate(-90)scale(0.1 -0.1)\">\n       <use xlink:href=\"#DejaVuSans-49\"/>\n      </g>\n     </g>\n    </g>\n    <g id=\"xtick_60\">\n     <g id=\"line2d_119\">\n      <path clip-path=\"url(#pff55622139)\" d=\"M 122.51733 245.836875 \nL 122.51733 28.396875 \n\" style=\"fill:none;stroke:#b0b0b0;stroke-linecap:square;stroke-width:0.8;\"/>\n     </g>\n     <g id=\"line2d_120\">\n      <g>\n       <use style=\"stroke:#000000;stroke-width:0.8;\" x=\"122.51733\" xlink:href=\"#m3e725a0727\" y=\"245.836875\"/>\n      </g>\n     </g>\n     <g id=\"text_60\">\n      <!-- 1 -->\n      <g transform=\"translate(125.276705 259.199375)rotate(-90)scale(0.1 -0.1)\">\n       <use xlink:href=\"#DejaVuSans-49\"/>\n      </g>\n     </g>\n    </g>\n    <g id=\"xtick_61\">\n     <g id=\"line2d_121\">\n      <path clip-path=\"url(#pff55622139)\" d=\"M 122.51733 245.836875 \nL 122.51733 28.396875 \n\" style=\"fill:none;stroke:#b0b0b0;stroke-linecap:square;stroke-width:0.8;\"/>\n     </g>\n     <g id=\"line2d_122\">\n      <g>\n       <use style=\"stroke:#000000;stroke-width:0.8;\" x=\"122.51733\" xlink:href=\"#m3e725a0727\" y=\"245.836875\"/>\n      </g>\n     </g>\n     <g id=\"text_61\">\n      <!-- 1 -->\n      <g transform=\"translate(125.276705 259.199375)rotate(-90)scale(0.1 -0.1)\">\n       <use xlink:href=\"#DejaVuSans-49\"/>\n      </g>\n     </g>\n    </g>\n    <g id=\"xtick_62\">\n     <g id=\"line2d_123\">\n      <path clip-path=\"url(#pff55622139)\" d=\"M 122.51733 245.836875 \nL 122.51733 28.396875 \n\" style=\"fill:none;stroke:#b0b0b0;stroke-linecap:square;stroke-width:0.8;\"/>\n     </g>\n     <g id=\"line2d_124\">\n      <g>\n       <use style=\"stroke:#000000;stroke-width:0.8;\" x=\"122.51733\" xlink:href=\"#m3e725a0727\" y=\"245.836875\"/>\n      </g>\n     </g>\n     <g id=\"text_62\">\n      <!-- 1 -->\n      <g transform=\"translate(125.276705 259.199375)rotate(-90)scale(0.1 -0.1)\">\n       <use xlink:href=\"#DejaVuSans-49\"/>\n      </g>\n     </g>\n    </g>\n    <g id=\"xtick_63\">\n     <g id=\"line2d_125\">\n      <path clip-path=\"url(#pff55622139)\" d=\"M 122.51733 245.836875 \nL 122.51733 28.396875 \n\" style=\"fill:none;stroke:#b0b0b0;stroke-linecap:square;stroke-width:0.8;\"/>\n     </g>\n     <g id=\"line2d_126\">\n      <g>\n       <use style=\"stroke:#000000;stroke-width:0.8;\" x=\"122.51733\" xlink:href=\"#m3e725a0727\" y=\"245.836875\"/>\n      </g>\n     </g>\n     <g id=\"text_63\">\n      <!-- 1 -->\n      <g transform=\"translate(125.276705 259.199375)rotate(-90)scale(0.1 -0.1)\">\n       <use xlink:href=\"#DejaVuSans-49\"/>\n      </g>\n     </g>\n    </g>\n    <g id=\"xtick_64\">\n     <g id=\"line2d_127\">\n      <path clip-path=\"url(#pff55622139)\" d=\"M 122.51733 245.836875 \nL 122.51733 28.396875 \n\" style=\"fill:none;stroke:#b0b0b0;stroke-linecap:square;stroke-width:0.8;\"/>\n     </g>\n     <g id=\"line2d_128\">\n      <g>\n       <use style=\"stroke:#000000;stroke-width:0.8;\" x=\"122.51733\" xlink:href=\"#m3e725a0727\" y=\"245.836875\"/>\n      </g>\n     </g>\n     <g id=\"text_64\">\n      <!-- 1 -->\n      <g transform=\"translate(125.276705 259.199375)rotate(-90)scale(0.1 -0.1)\">\n       <use xlink:href=\"#DejaVuSans-49\"/>\n      </g>\n     </g>\n    </g>\n    <g id=\"xtick_65\">\n     <g id=\"line2d_129\">\n      <path clip-path=\"url(#pff55622139)\" d=\"M 173.244602 245.836875 \nL 173.244602 28.396875 \n\" style=\"fill:none;stroke:#b0b0b0;stroke-linecap:square;stroke-width:0.8;\"/>\n     </g>\n     <g id=\"line2d_130\">\n      <g>\n       <use style=\"stroke:#000000;stroke-width:0.8;\" x=\"173.244602\" xlink:href=\"#m3e725a0727\" y=\"245.836875\"/>\n      </g>\n     </g>\n     <g id=\"text_65\">\n      <!-- 2 -->\n      <g transform=\"translate(176.003977 259.199375)rotate(-90)scale(0.1 -0.1)\">\n       <defs>\n        <path d=\"M 19.1875 8.296875 \nL 53.609375 8.296875 \nL 53.609375 0 \nL 7.328125 0 \nL 7.328125 8.296875 \nQ 12.9375 14.109375 22.625 23.890625 \nQ 32.328125 33.6875 34.8125 36.53125 \nQ 39.546875 41.84375 41.421875 45.53125 \nQ 43.3125 49.21875 43.3125 52.78125 \nQ 43.3125 58.59375 39.234375 62.25 \nQ 35.15625 65.921875 28.609375 65.921875 \nQ 23.96875 65.921875 18.8125 64.3125 \nQ 13.671875 62.703125 7.8125 59.421875 \nL 7.8125 69.390625 \nQ 13.765625 71.78125 18.9375 73 \nQ 24.125 74.21875 28.421875 74.21875 \nQ 39.75 74.21875 46.484375 68.546875 \nQ 53.21875 62.890625 53.21875 53.421875 \nQ 53.21875 48.921875 51.53125 44.890625 \nQ 49.859375 40.875 45.40625 35.40625 \nQ 44.1875 33.984375 37.640625 27.21875 \nQ 31.109375 20.453125 19.1875 8.296875 \nz\n\" id=\"DejaVuSans-50\"/>\n       </defs>\n       <use xlink:href=\"#DejaVuSans-50\"/>\n      </g>\n     </g>\n    </g>\n    <g id=\"xtick_66\">\n     <g id=\"line2d_131\">\n      <path clip-path=\"url(#pff55622139)\" d=\"M 173.244602 245.836875 \nL 173.244602 28.396875 \n\" style=\"fill:none;stroke:#b0b0b0;stroke-linecap:square;stroke-width:0.8;\"/>\n     </g>\n     <g id=\"line2d_132\">\n      <g>\n       <use style=\"stroke:#000000;stroke-width:0.8;\" x=\"173.244602\" xlink:href=\"#m3e725a0727\" y=\"245.836875\"/>\n      </g>\n     </g>\n     <g id=\"text_66\">\n      <!-- 2 -->\n      <g transform=\"translate(176.003977 259.199375)rotate(-90)scale(0.1 -0.1)\">\n       <use xlink:href=\"#DejaVuSans-50\"/>\n      </g>\n     </g>\n    </g>\n    <g id=\"xtick_67\">\n     <g id=\"line2d_133\">\n      <path clip-path=\"url(#pff55622139)\" d=\"M 173.244602 245.836875 \nL 173.244602 28.396875 \n\" style=\"fill:none;stroke:#b0b0b0;stroke-linecap:square;stroke-width:0.8;\"/>\n     </g>\n     <g id=\"line2d_134\">\n      <g>\n       <use style=\"stroke:#000000;stroke-width:0.8;\" x=\"173.244602\" xlink:href=\"#m3e725a0727\" y=\"245.836875\"/>\n      </g>\n     </g>\n     <g id=\"text_67\">\n      <!-- 2 -->\n      <g transform=\"translate(176.003977 259.199375)rotate(-90)scale(0.1 -0.1)\">\n       <use xlink:href=\"#DejaVuSans-50\"/>\n      </g>\n     </g>\n    </g>\n    <g id=\"xtick_68\">\n     <g id=\"line2d_135\">\n      <path clip-path=\"url(#pff55622139)\" d=\"M 173.244602 245.836875 \nL 173.244602 28.396875 \n\" style=\"fill:none;stroke:#b0b0b0;stroke-linecap:square;stroke-width:0.8;\"/>\n     </g>\n     <g id=\"line2d_136\">\n      <g>\n       <use style=\"stroke:#000000;stroke-width:0.8;\" x=\"173.244602\" xlink:href=\"#m3e725a0727\" y=\"245.836875\"/>\n      </g>\n     </g>\n     <g id=\"text_68\">\n      <!-- 2 -->\n      <g transform=\"translate(176.003977 259.199375)rotate(-90)scale(0.1 -0.1)\">\n       <use xlink:href=\"#DejaVuSans-50\"/>\n      </g>\n     </g>\n    </g>\n    <g id=\"xtick_69\">\n     <g id=\"line2d_137\">\n      <path clip-path=\"url(#pff55622139)\" d=\"M 173.244602 245.836875 \nL 173.244602 28.396875 \n\" style=\"fill:none;stroke:#b0b0b0;stroke-linecap:square;stroke-width:0.8;\"/>\n     </g>\n     <g id=\"line2d_138\">\n      <g>\n       <use style=\"stroke:#000000;stroke-width:0.8;\" x=\"173.244602\" xlink:href=\"#m3e725a0727\" y=\"245.836875\"/>\n      </g>\n     </g>\n     <g id=\"text_69\">\n      <!-- 2 -->\n      <g transform=\"translate(176.003977 259.199375)rotate(-90)scale(0.1 -0.1)\">\n       <use xlink:href=\"#DejaVuSans-50\"/>\n      </g>\n     </g>\n    </g>\n    <g id=\"xtick_70\">\n     <g id=\"line2d_139\">\n      <path clip-path=\"url(#pff55622139)\" d=\"M 173.244602 245.836875 \nL 173.244602 28.396875 \n\" style=\"fill:none;stroke:#b0b0b0;stroke-linecap:square;stroke-width:0.8;\"/>\n     </g>\n     <g id=\"line2d_140\">\n      <g>\n       <use style=\"stroke:#000000;stroke-width:0.8;\" x=\"173.244602\" xlink:href=\"#m3e725a0727\" y=\"245.836875\"/>\n      </g>\n     </g>\n     <g id=\"text_70\">\n      <!-- 2 -->\n      <g transform=\"translate(176.003977 259.199375)rotate(-90)scale(0.1 -0.1)\">\n       <use xlink:href=\"#DejaVuSans-50\"/>\n      </g>\n     </g>\n    </g>\n    <g id=\"xtick_71\">\n     <g id=\"line2d_141\">\n      <path clip-path=\"url(#pff55622139)\" d=\"M 173.244602 245.836875 \nL 173.244602 28.396875 \n\" style=\"fill:none;stroke:#b0b0b0;stroke-linecap:square;stroke-width:0.8;\"/>\n     </g>\n     <g id=\"line2d_142\">\n      <g>\n       <use style=\"stroke:#000000;stroke-width:0.8;\" x=\"173.244602\" xlink:href=\"#m3e725a0727\" y=\"245.836875\"/>\n      </g>\n     </g>\n     <g id=\"text_71\">\n      <!-- 2 -->\n      <g transform=\"translate(176.003977 259.199375)rotate(-90)scale(0.1 -0.1)\">\n       <use xlink:href=\"#DejaVuSans-50\"/>\n      </g>\n     </g>\n    </g>\n    <g id=\"xtick_72\">\n     <g id=\"line2d_143\">\n      <path clip-path=\"url(#pff55622139)\" d=\"M 173.244602 245.836875 \nL 173.244602 28.396875 \n\" style=\"fill:none;stroke:#b0b0b0;stroke-linecap:square;stroke-width:0.8;\"/>\n     </g>\n     <g id=\"line2d_144\">\n      <g>\n       <use style=\"stroke:#000000;stroke-width:0.8;\" x=\"173.244602\" xlink:href=\"#m3e725a0727\" y=\"245.836875\"/>\n      </g>\n     </g>\n     <g id=\"text_72\">\n      <!-- 2 -->\n      <g transform=\"translate(176.003977 259.199375)rotate(-90)scale(0.1 -0.1)\">\n       <use xlink:href=\"#DejaVuSans-50\"/>\n      </g>\n     </g>\n    </g>\n    <g id=\"xtick_73\">\n     <g id=\"line2d_145\">\n      <path clip-path=\"url(#pff55622139)\" d=\"M 173.244602 245.836875 \nL 173.244602 28.396875 \n\" style=\"fill:none;stroke:#b0b0b0;stroke-linecap:square;stroke-width:0.8;\"/>\n     </g>\n     <g id=\"line2d_146\">\n      <g>\n       <use style=\"stroke:#000000;stroke-width:0.8;\" x=\"173.244602\" xlink:href=\"#m3e725a0727\" y=\"245.836875\"/>\n      </g>\n     </g>\n     <g id=\"text_73\">\n      <!-- 2 -->\n      <g transform=\"translate(176.003977 259.199375)rotate(-90)scale(0.1 -0.1)\">\n       <use xlink:href=\"#DejaVuSans-50\"/>\n      </g>\n     </g>\n    </g>\n    <g id=\"xtick_74\">\n     <g id=\"line2d_147\">\n      <path clip-path=\"url(#pff55622139)\" d=\"M 173.244602 245.836875 \nL 173.244602 28.396875 \n\" style=\"fill:none;stroke:#b0b0b0;stroke-linecap:square;stroke-width:0.8;\"/>\n     </g>\n     <g id=\"line2d_148\">\n      <g>\n       <use style=\"stroke:#000000;stroke-width:0.8;\" x=\"173.244602\" xlink:href=\"#m3e725a0727\" y=\"245.836875\"/>\n      </g>\n     </g>\n     <g id=\"text_74\">\n      <!-- 2 -->\n      <g transform=\"translate(176.003977 259.199375)rotate(-90)scale(0.1 -0.1)\">\n       <use xlink:href=\"#DejaVuSans-50\"/>\n      </g>\n     </g>\n    </g>\n    <g id=\"xtick_75\">\n     <g id=\"line2d_149\">\n      <path clip-path=\"url(#pff55622139)\" d=\"M 173.244602 245.836875 \nL 173.244602 28.396875 \n\" style=\"fill:none;stroke:#b0b0b0;stroke-linecap:square;stroke-width:0.8;\"/>\n     </g>\n     <g id=\"line2d_150\">\n      <g>\n       <use style=\"stroke:#000000;stroke-width:0.8;\" x=\"173.244602\" xlink:href=\"#m3e725a0727\" y=\"245.836875\"/>\n      </g>\n     </g>\n     <g id=\"text_75\">\n      <!-- 2 -->\n      <g transform=\"translate(176.003977 259.199375)rotate(-90)scale(0.1 -0.1)\">\n       <use xlink:href=\"#DejaVuSans-50\"/>\n      </g>\n     </g>\n    </g>\n    <g id=\"xtick_76\">\n     <g id=\"line2d_151\">\n      <path clip-path=\"url(#pff55622139)\" d=\"M 173.244602 245.836875 \nL 173.244602 28.396875 \n\" style=\"fill:none;stroke:#b0b0b0;stroke-linecap:square;stroke-width:0.8;\"/>\n     </g>\n     <g id=\"line2d_152\">\n      <g>\n       <use style=\"stroke:#000000;stroke-width:0.8;\" x=\"173.244602\" xlink:href=\"#m3e725a0727\" y=\"245.836875\"/>\n      </g>\n     </g>\n     <g id=\"text_76\">\n      <!-- 2 -->\n      <g transform=\"translate(176.003977 259.199375)rotate(-90)scale(0.1 -0.1)\">\n       <use xlink:href=\"#DejaVuSans-50\"/>\n      </g>\n     </g>\n    </g>\n    <g id=\"xtick_77\">\n     <g id=\"line2d_153\">\n      <path clip-path=\"url(#pff55622139)\" d=\"M 173.244602 245.836875 \nL 173.244602 28.396875 \n\" style=\"fill:none;stroke:#b0b0b0;stroke-linecap:square;stroke-width:0.8;\"/>\n     </g>\n     <g id=\"line2d_154\">\n      <g>\n       <use style=\"stroke:#000000;stroke-width:0.8;\" x=\"173.244602\" xlink:href=\"#m3e725a0727\" y=\"245.836875\"/>\n      </g>\n     </g>\n     <g id=\"text_77\">\n      <!-- 2 -->\n      <g transform=\"translate(176.003977 259.199375)rotate(-90)scale(0.1 -0.1)\">\n       <use xlink:href=\"#DejaVuSans-50\"/>\n      </g>\n     </g>\n    </g>\n    <g id=\"xtick_78\">\n     <g id=\"line2d_155\">\n      <path clip-path=\"url(#pff55622139)\" d=\"M 173.244602 245.836875 \nL 173.244602 28.396875 \n\" style=\"fill:none;stroke:#b0b0b0;stroke-linecap:square;stroke-width:0.8;\"/>\n     </g>\n     <g id=\"line2d_156\">\n      <g>\n       <use style=\"stroke:#000000;stroke-width:0.8;\" x=\"173.244602\" xlink:href=\"#m3e725a0727\" y=\"245.836875\"/>\n      </g>\n     </g>\n     <g id=\"text_78\">\n      <!-- 2 -->\n      <g transform=\"translate(176.003977 259.199375)rotate(-90)scale(0.1 -0.1)\">\n       <use xlink:href=\"#DejaVuSans-50\"/>\n      </g>\n     </g>\n    </g>\n    <g id=\"xtick_79\">\n     <g id=\"line2d_157\">\n      <path clip-path=\"url(#pff55622139)\" d=\"M 173.244602 245.836875 \nL 173.244602 28.396875 \n\" style=\"fill:none;stroke:#b0b0b0;stroke-linecap:square;stroke-width:0.8;\"/>\n     </g>\n     <g id=\"line2d_158\">\n      <g>\n       <use style=\"stroke:#000000;stroke-width:0.8;\" x=\"173.244602\" xlink:href=\"#m3e725a0727\" y=\"245.836875\"/>\n      </g>\n     </g>\n     <g id=\"text_79\">\n      <!-- 2 -->\n      <g transform=\"translate(176.003977 259.199375)rotate(-90)scale(0.1 -0.1)\">\n       <use xlink:href=\"#DejaVuSans-50\"/>\n      </g>\n     </g>\n    </g>\n    <g id=\"xtick_80\">\n     <g id=\"line2d_159\">\n      <path clip-path=\"url(#pff55622139)\" d=\"M 173.244602 245.836875 \nL 173.244602 28.396875 \n\" style=\"fill:none;stroke:#b0b0b0;stroke-linecap:square;stroke-width:0.8;\"/>\n     </g>\n     <g id=\"line2d_160\">\n      <g>\n       <use style=\"stroke:#000000;stroke-width:0.8;\" x=\"173.244602\" xlink:href=\"#m3e725a0727\" y=\"245.836875\"/>\n      </g>\n     </g>\n     <g id=\"text_80\">\n      <!-- 2 -->\n      <g transform=\"translate(176.003977 259.199375)rotate(-90)scale(0.1 -0.1)\">\n       <use xlink:href=\"#DejaVuSans-50\"/>\n      </g>\n     </g>\n    </g>\n    <g id=\"xtick_81\">\n     <g id=\"line2d_161\">\n      <path clip-path=\"url(#pff55622139)\" d=\"M 173.244602 245.836875 \nL 173.244602 28.396875 \n\" style=\"fill:none;stroke:#b0b0b0;stroke-linecap:square;stroke-width:0.8;\"/>\n     </g>\n     <g id=\"line2d_162\">\n      <g>\n       <use style=\"stroke:#000000;stroke-width:0.8;\" x=\"173.244602\" xlink:href=\"#m3e725a0727\" y=\"245.836875\"/>\n      </g>\n     </g>\n     <g id=\"text_81\">\n      <!-- 2 -->\n      <g transform=\"translate(176.003977 259.199375)rotate(-90)scale(0.1 -0.1)\">\n       <use xlink:href=\"#DejaVuSans-50\"/>\n      </g>\n     </g>\n    </g>\n    <g id=\"xtick_82\">\n     <g id=\"line2d_163\">\n      <path clip-path=\"url(#pff55622139)\" d=\"M 173.244602 245.836875 \nL 173.244602 28.396875 \n\" style=\"fill:none;stroke:#b0b0b0;stroke-linecap:square;stroke-width:0.8;\"/>\n     </g>\n     <g id=\"line2d_164\">\n      <g>\n       <use style=\"stroke:#000000;stroke-width:0.8;\" x=\"173.244602\" xlink:href=\"#m3e725a0727\" y=\"245.836875\"/>\n      </g>\n     </g>\n     <g id=\"text_82\">\n      <!-- 2 -->\n      <g transform=\"translate(176.003977 259.199375)rotate(-90)scale(0.1 -0.1)\">\n       <use xlink:href=\"#DejaVuSans-50\"/>\n      </g>\n     </g>\n    </g>\n    <g id=\"xtick_83\">\n     <g id=\"line2d_165\">\n      <path clip-path=\"url(#pff55622139)\" d=\"M 173.244602 245.836875 \nL 173.244602 28.396875 \n\" style=\"fill:none;stroke:#b0b0b0;stroke-linecap:square;stroke-width:0.8;\"/>\n     </g>\n     <g id=\"line2d_166\">\n      <g>\n       <use style=\"stroke:#000000;stroke-width:0.8;\" x=\"173.244602\" xlink:href=\"#m3e725a0727\" y=\"245.836875\"/>\n      </g>\n     </g>\n     <g id=\"text_83\">\n      <!-- 2 -->\n      <g transform=\"translate(176.003977 259.199375)rotate(-90)scale(0.1 -0.1)\">\n       <use xlink:href=\"#DejaVuSans-50\"/>\n      </g>\n     </g>\n    </g>\n    <g id=\"xtick_84\">\n     <g id=\"line2d_167\">\n      <path clip-path=\"url(#pff55622139)\" d=\"M 173.244602 245.836875 \nL 173.244602 28.396875 \n\" style=\"fill:none;stroke:#b0b0b0;stroke-linecap:square;stroke-width:0.8;\"/>\n     </g>\n     <g id=\"line2d_168\">\n      <g>\n       <use style=\"stroke:#000000;stroke-width:0.8;\" x=\"173.244602\" xlink:href=\"#m3e725a0727\" y=\"245.836875\"/>\n      </g>\n     </g>\n     <g id=\"text_84\">\n      <!-- 2 -->\n      <g transform=\"translate(176.003977 259.199375)rotate(-90)scale(0.1 -0.1)\">\n       <use xlink:href=\"#DejaVuSans-50\"/>\n      </g>\n     </g>\n    </g>\n    <g id=\"xtick_85\">\n     <g id=\"line2d_169\">\n      <path clip-path=\"url(#pff55622139)\" d=\"M 173.244602 245.836875 \nL 173.244602 28.396875 \n\" style=\"fill:none;stroke:#b0b0b0;stroke-linecap:square;stroke-width:0.8;\"/>\n     </g>\n     <g id=\"line2d_170\">\n      <g>\n       <use style=\"stroke:#000000;stroke-width:0.8;\" x=\"173.244602\" xlink:href=\"#m3e725a0727\" y=\"245.836875\"/>\n      </g>\n     </g>\n     <g id=\"text_85\">\n      <!-- 2 -->\n      <g transform=\"translate(176.003977 259.199375)rotate(-90)scale(0.1 -0.1)\">\n       <use xlink:href=\"#DejaVuSans-50\"/>\n      </g>\n     </g>\n    </g>\n    <g id=\"xtick_86\">\n     <g id=\"line2d_171\">\n      <path clip-path=\"url(#pff55622139)\" d=\"M 173.244602 245.836875 \nL 173.244602 28.396875 \n\" style=\"fill:none;stroke:#b0b0b0;stroke-linecap:square;stroke-width:0.8;\"/>\n     </g>\n     <g id=\"line2d_172\">\n      <g>\n       <use style=\"stroke:#000000;stroke-width:0.8;\" x=\"173.244602\" xlink:href=\"#m3e725a0727\" y=\"245.836875\"/>\n      </g>\n     </g>\n     <g id=\"text_86\">\n      <!-- 2 -->\n      <g transform=\"translate(176.003977 259.199375)rotate(-90)scale(0.1 -0.1)\">\n       <use xlink:href=\"#DejaVuSans-50\"/>\n      </g>\n     </g>\n    </g>\n    <g id=\"xtick_87\">\n     <g id=\"line2d_173\">\n      <path clip-path=\"url(#pff55622139)\" d=\"M 173.244602 245.836875 \nL 173.244602 28.396875 \n\" style=\"fill:none;stroke:#b0b0b0;stroke-linecap:square;stroke-width:0.8;\"/>\n     </g>\n     <g id=\"line2d_174\">\n      <g>\n       <use style=\"stroke:#000000;stroke-width:0.8;\" x=\"173.244602\" xlink:href=\"#m3e725a0727\" y=\"245.836875\"/>\n      </g>\n     </g>\n     <g id=\"text_87\">\n      <!-- 2 -->\n      <g transform=\"translate(176.003977 259.199375)rotate(-90)scale(0.1 -0.1)\">\n       <use xlink:href=\"#DejaVuSans-50\"/>\n      </g>\n     </g>\n    </g>\n    <g id=\"xtick_88\">\n     <g id=\"line2d_175\">\n      <path clip-path=\"url(#pff55622139)\" d=\"M 173.244602 245.836875 \nL 173.244602 28.396875 \n\" style=\"fill:none;stroke:#b0b0b0;stroke-linecap:square;stroke-width:0.8;\"/>\n     </g>\n     <g id=\"line2d_176\">\n      <g>\n       <use style=\"stroke:#000000;stroke-width:0.8;\" x=\"173.244602\" xlink:href=\"#m3e725a0727\" y=\"245.836875\"/>\n      </g>\n     </g>\n     <g id=\"text_88\">\n      <!-- 2 -->\n      <g transform=\"translate(176.003977 259.199375)rotate(-90)scale(0.1 -0.1)\">\n       <use xlink:href=\"#DejaVuSans-50\"/>\n      </g>\n     </g>\n    </g>\n    <g id=\"xtick_89\">\n     <g id=\"line2d_177\">\n      <path clip-path=\"url(#pff55622139)\" d=\"M 173.244602 245.836875 \nL 173.244602 28.396875 \n\" style=\"fill:none;stroke:#b0b0b0;stroke-linecap:square;stroke-width:0.8;\"/>\n     </g>\n     <g id=\"line2d_178\">\n      <g>\n       <use style=\"stroke:#000000;stroke-width:0.8;\" x=\"173.244602\" xlink:href=\"#m3e725a0727\" y=\"245.836875\"/>\n      </g>\n     </g>\n     <g id=\"text_89\">\n      <!-- 2 -->\n      <g transform=\"translate(176.003977 259.199375)rotate(-90)scale(0.1 -0.1)\">\n       <use xlink:href=\"#DejaVuSans-50\"/>\n      </g>\n     </g>\n    </g>\n    <g id=\"xtick_90\">\n     <g id=\"line2d_179\">\n      <path clip-path=\"url(#pff55622139)\" d=\"M 173.244602 245.836875 \nL 173.244602 28.396875 \n\" style=\"fill:none;stroke:#b0b0b0;stroke-linecap:square;stroke-width:0.8;\"/>\n     </g>\n     <g id=\"line2d_180\">\n      <g>\n       <use style=\"stroke:#000000;stroke-width:0.8;\" x=\"173.244602\" xlink:href=\"#m3e725a0727\" y=\"245.836875\"/>\n      </g>\n     </g>\n     <g id=\"text_90\">\n      <!-- 2 -->\n      <g transform=\"translate(176.003977 259.199375)rotate(-90)scale(0.1 -0.1)\">\n       <use xlink:href=\"#DejaVuSans-50\"/>\n      </g>\n     </g>\n    </g>\n    <g id=\"xtick_91\">\n     <g id=\"line2d_181\">\n      <path clip-path=\"url(#pff55622139)\" d=\"M 173.244602 245.836875 \nL 173.244602 28.396875 \n\" style=\"fill:none;stroke:#b0b0b0;stroke-linecap:square;stroke-width:0.8;\"/>\n     </g>\n     <g id=\"line2d_182\">\n      <g>\n       <use style=\"stroke:#000000;stroke-width:0.8;\" x=\"173.244602\" xlink:href=\"#m3e725a0727\" y=\"245.836875\"/>\n      </g>\n     </g>\n     <g id=\"text_91\">\n      <!-- 2 -->\n      <g transform=\"translate(176.003977 259.199375)rotate(-90)scale(0.1 -0.1)\">\n       <use xlink:href=\"#DejaVuSans-50\"/>\n      </g>\n     </g>\n    </g>\n    <g id=\"xtick_92\">\n     <g id=\"line2d_183\">\n      <path clip-path=\"url(#pff55622139)\" d=\"M 173.244602 245.836875 \nL 173.244602 28.396875 \n\" style=\"fill:none;stroke:#b0b0b0;stroke-linecap:square;stroke-width:0.8;\"/>\n     </g>\n     <g id=\"line2d_184\">\n      <g>\n       <use style=\"stroke:#000000;stroke-width:0.8;\" x=\"173.244602\" xlink:href=\"#m3e725a0727\" y=\"245.836875\"/>\n      </g>\n     </g>\n     <g id=\"text_92\">\n      <!-- 2 -->\n      <g transform=\"translate(176.003977 259.199375)rotate(-90)scale(0.1 -0.1)\">\n       <use xlink:href=\"#DejaVuSans-50\"/>\n      </g>\n     </g>\n    </g>\n    <g id=\"xtick_93\">\n     <g id=\"line2d_185\">\n      <path clip-path=\"url(#pff55622139)\" d=\"M 173.244602 245.836875 \nL 173.244602 28.396875 \n\" style=\"fill:none;stroke:#b0b0b0;stroke-linecap:square;stroke-width:0.8;\"/>\n     </g>\n     <g id=\"line2d_186\">\n      <g>\n       <use style=\"stroke:#000000;stroke-width:0.8;\" x=\"173.244602\" xlink:href=\"#m3e725a0727\" y=\"245.836875\"/>\n      </g>\n     </g>\n     <g id=\"text_93\">\n      <!-- 2 -->\n      <g transform=\"translate(176.003977 259.199375)rotate(-90)scale(0.1 -0.1)\">\n       <use xlink:href=\"#DejaVuSans-50\"/>\n      </g>\n     </g>\n    </g>\n    <g id=\"xtick_94\">\n     <g id=\"line2d_187\">\n      <path clip-path=\"url(#pff55622139)\" d=\"M 173.244602 245.836875 \nL 173.244602 28.396875 \n\" style=\"fill:none;stroke:#b0b0b0;stroke-linecap:square;stroke-width:0.8;\"/>\n     </g>\n     <g id=\"line2d_188\">\n      <g>\n       <use style=\"stroke:#000000;stroke-width:0.8;\" x=\"173.244602\" xlink:href=\"#m3e725a0727\" y=\"245.836875\"/>\n      </g>\n     </g>\n     <g id=\"text_94\">\n      <!-- 2 -->\n      <g transform=\"translate(176.003977 259.199375)rotate(-90)scale(0.1 -0.1)\">\n       <use xlink:href=\"#DejaVuSans-50\"/>\n      </g>\n     </g>\n    </g>\n    <g id=\"xtick_95\">\n     <g id=\"line2d_189\">\n      <path clip-path=\"url(#pff55622139)\" d=\"M 173.244602 245.836875 \nL 173.244602 28.396875 \n\" style=\"fill:none;stroke:#b0b0b0;stroke-linecap:square;stroke-width:0.8;\"/>\n     </g>\n     <g id=\"line2d_190\">\n      <g>\n       <use style=\"stroke:#000000;stroke-width:0.8;\" x=\"173.244602\" xlink:href=\"#m3e725a0727\" y=\"245.836875\"/>\n      </g>\n     </g>\n     <g id=\"text_95\">\n      <!-- 2 -->\n      <g transform=\"translate(176.003977 259.199375)rotate(-90)scale(0.1 -0.1)\">\n       <use xlink:href=\"#DejaVuSans-50\"/>\n      </g>\n     </g>\n    </g>\n    <g id=\"xtick_96\">\n     <g id=\"line2d_191\">\n      <path clip-path=\"url(#pff55622139)\" d=\"M 173.244602 245.836875 \nL 173.244602 28.396875 \n\" style=\"fill:none;stroke:#b0b0b0;stroke-linecap:square;stroke-width:0.8;\"/>\n     </g>\n     <g id=\"line2d_192\">\n      <g>\n       <use style=\"stroke:#000000;stroke-width:0.8;\" x=\"173.244602\" xlink:href=\"#m3e725a0727\" y=\"245.836875\"/>\n      </g>\n     </g>\n     <g id=\"text_96\">\n      <!-- 2 -->\n      <g transform=\"translate(176.003977 259.199375)rotate(-90)scale(0.1 -0.1)\">\n       <use xlink:href=\"#DejaVuSans-50\"/>\n      </g>\n     </g>\n    </g>\n    <g id=\"xtick_97\">\n     <g id=\"line2d_193\">\n      <path clip-path=\"url(#pff55622139)\" d=\"M 223.971875 245.836875 \nL 223.971875 28.396875 \n\" style=\"fill:none;stroke:#b0b0b0;stroke-linecap:square;stroke-width:0.8;\"/>\n     </g>\n     <g id=\"line2d_194\">\n      <g>\n       <use style=\"stroke:#000000;stroke-width:0.8;\" x=\"223.971875\" xlink:href=\"#m3e725a0727\" y=\"245.836875\"/>\n      </g>\n     </g>\n     <g id=\"text_97\">\n      <!-- 3 -->\n      <g transform=\"translate(226.73125 259.199375)rotate(-90)scale(0.1 -0.1)\">\n       <defs>\n        <path d=\"M 40.578125 39.3125 \nQ 47.65625 37.796875 51.625 33 \nQ 55.609375 28.21875 55.609375 21.1875 \nQ 55.609375 10.40625 48.1875 4.484375 \nQ 40.765625 -1.421875 27.09375 -1.421875 \nQ 22.515625 -1.421875 17.65625 -0.515625 \nQ 12.796875 0.390625 7.625 2.203125 \nL 7.625 11.71875 \nQ 11.71875 9.328125 16.59375 8.109375 \nQ 21.484375 6.890625 26.8125 6.890625 \nQ 36.078125 6.890625 40.9375 10.546875 \nQ 45.796875 14.203125 45.796875 21.1875 \nQ 45.796875 27.640625 41.28125 31.265625 \nQ 36.765625 34.90625 28.71875 34.90625 \nL 20.21875 34.90625 \nL 20.21875 43.015625 \nL 29.109375 43.015625 \nQ 36.375 43.015625 40.234375 45.921875 \nQ 44.09375 48.828125 44.09375 54.296875 \nQ 44.09375 59.90625 40.109375 62.90625 \nQ 36.140625 65.921875 28.71875 65.921875 \nQ 24.65625 65.921875 20.015625 65.03125 \nQ 15.375 64.15625 9.8125 62.3125 \nL 9.8125 71.09375 \nQ 15.4375 72.65625 20.34375 73.4375 \nQ 25.25 74.21875 29.59375 74.21875 \nQ 40.828125 74.21875 47.359375 69.109375 \nQ 53.90625 64.015625 53.90625 55.328125 \nQ 53.90625 49.265625 50.4375 45.09375 \nQ 46.96875 40.921875 40.578125 39.3125 \nz\n\" id=\"DejaVuSans-51\"/>\n       </defs>\n       <use xlink:href=\"#DejaVuSans-51\"/>\n      </g>\n     </g>\n    </g>\n    <g id=\"xtick_98\">\n     <g id=\"line2d_195\">\n      <path clip-path=\"url(#pff55622139)\" d=\"M 223.971875 245.836875 \nL 223.971875 28.396875 \n\" style=\"fill:none;stroke:#b0b0b0;stroke-linecap:square;stroke-width:0.8;\"/>\n     </g>\n     <g id=\"line2d_196\">\n      <g>\n       <use style=\"stroke:#000000;stroke-width:0.8;\" x=\"223.971875\" xlink:href=\"#m3e725a0727\" y=\"245.836875\"/>\n      </g>\n     </g>\n     <g id=\"text_98\">\n      <!-- 3 -->\n      <g transform=\"translate(226.73125 259.199375)rotate(-90)scale(0.1 -0.1)\">\n       <use xlink:href=\"#DejaVuSans-51\"/>\n      </g>\n     </g>\n    </g>\n    <g id=\"xtick_99\">\n     <g id=\"line2d_197\">\n      <path clip-path=\"url(#pff55622139)\" d=\"M 223.971875 245.836875 \nL 223.971875 28.396875 \n\" style=\"fill:none;stroke:#b0b0b0;stroke-linecap:square;stroke-width:0.8;\"/>\n     </g>\n     <g id=\"line2d_198\">\n      <g>\n       <use style=\"stroke:#000000;stroke-width:0.8;\" x=\"223.971875\" xlink:href=\"#m3e725a0727\" y=\"245.836875\"/>\n      </g>\n     </g>\n     <g id=\"text_99\">\n      <!-- 3 -->\n      <g transform=\"translate(226.73125 259.199375)rotate(-90)scale(0.1 -0.1)\">\n       <use xlink:href=\"#DejaVuSans-51\"/>\n      </g>\n     </g>\n    </g>\n    <g id=\"xtick_100\">\n     <g id=\"line2d_199\">\n      <path clip-path=\"url(#pff55622139)\" d=\"M 223.971875 245.836875 \nL 223.971875 28.396875 \n\" style=\"fill:none;stroke:#b0b0b0;stroke-linecap:square;stroke-width:0.8;\"/>\n     </g>\n     <g id=\"line2d_200\">\n      <g>\n       <use style=\"stroke:#000000;stroke-width:0.8;\" x=\"223.971875\" xlink:href=\"#m3e725a0727\" y=\"245.836875\"/>\n      </g>\n     </g>\n     <g id=\"text_100\">\n      <!-- 3 -->\n      <g transform=\"translate(226.73125 259.199375)rotate(-90)scale(0.1 -0.1)\">\n       <use xlink:href=\"#DejaVuSans-51\"/>\n      </g>\n     </g>\n    </g>\n    <g id=\"xtick_101\">\n     <g id=\"line2d_201\">\n      <path clip-path=\"url(#pff55622139)\" d=\"M 223.971875 245.836875 \nL 223.971875 28.396875 \n\" style=\"fill:none;stroke:#b0b0b0;stroke-linecap:square;stroke-width:0.8;\"/>\n     </g>\n     <g id=\"line2d_202\">\n      <g>\n       <use style=\"stroke:#000000;stroke-width:0.8;\" x=\"223.971875\" xlink:href=\"#m3e725a0727\" y=\"245.836875\"/>\n      </g>\n     </g>\n     <g id=\"text_101\">\n      <!-- 3 -->\n      <g transform=\"translate(226.73125 259.199375)rotate(-90)scale(0.1 -0.1)\">\n       <use xlink:href=\"#DejaVuSans-51\"/>\n      </g>\n     </g>\n    </g>\n    <g id=\"xtick_102\">\n     <g id=\"line2d_203\">\n      <path clip-path=\"url(#pff55622139)\" d=\"M 223.971875 245.836875 \nL 223.971875 28.396875 \n\" style=\"fill:none;stroke:#b0b0b0;stroke-linecap:square;stroke-width:0.8;\"/>\n     </g>\n     <g id=\"line2d_204\">\n      <g>\n       <use style=\"stroke:#000000;stroke-width:0.8;\" x=\"223.971875\" xlink:href=\"#m3e725a0727\" y=\"245.836875\"/>\n      </g>\n     </g>\n     <g id=\"text_102\">\n      <!-- 3 -->\n      <g transform=\"translate(226.73125 259.199375)rotate(-90)scale(0.1 -0.1)\">\n       <use xlink:href=\"#DejaVuSans-51\"/>\n      </g>\n     </g>\n    </g>\n    <g id=\"xtick_103\">\n     <g id=\"line2d_205\">\n      <path clip-path=\"url(#pff55622139)\" d=\"M 223.971875 245.836875 \nL 223.971875 28.396875 \n\" style=\"fill:none;stroke:#b0b0b0;stroke-linecap:square;stroke-width:0.8;\"/>\n     </g>\n     <g id=\"line2d_206\">\n      <g>\n       <use style=\"stroke:#000000;stroke-width:0.8;\" x=\"223.971875\" xlink:href=\"#m3e725a0727\" y=\"245.836875\"/>\n      </g>\n     </g>\n     <g id=\"text_103\">\n      <!-- 3 -->\n      <g transform=\"translate(226.73125 259.199375)rotate(-90)scale(0.1 -0.1)\">\n       <use xlink:href=\"#DejaVuSans-51\"/>\n      </g>\n     </g>\n    </g>\n    <g id=\"xtick_104\">\n     <g id=\"line2d_207\">\n      <path clip-path=\"url(#pff55622139)\" d=\"M 223.971875 245.836875 \nL 223.971875 28.396875 \n\" style=\"fill:none;stroke:#b0b0b0;stroke-linecap:square;stroke-width:0.8;\"/>\n     </g>\n     <g id=\"line2d_208\">\n      <g>\n       <use style=\"stroke:#000000;stroke-width:0.8;\" x=\"223.971875\" xlink:href=\"#m3e725a0727\" y=\"245.836875\"/>\n      </g>\n     </g>\n     <g id=\"text_104\">\n      <!-- 3 -->\n      <g transform=\"translate(226.73125 259.199375)rotate(-90)scale(0.1 -0.1)\">\n       <use xlink:href=\"#DejaVuSans-51\"/>\n      </g>\n     </g>\n    </g>\n    <g id=\"xtick_105\">\n     <g id=\"line2d_209\">\n      <path clip-path=\"url(#pff55622139)\" d=\"M 223.971875 245.836875 \nL 223.971875 28.396875 \n\" style=\"fill:none;stroke:#b0b0b0;stroke-linecap:square;stroke-width:0.8;\"/>\n     </g>\n     <g id=\"line2d_210\">\n      <g>\n       <use style=\"stroke:#000000;stroke-width:0.8;\" x=\"223.971875\" xlink:href=\"#m3e725a0727\" y=\"245.836875\"/>\n      </g>\n     </g>\n     <g id=\"text_105\">\n      <!-- 3 -->\n      <g transform=\"translate(226.73125 259.199375)rotate(-90)scale(0.1 -0.1)\">\n       <use xlink:href=\"#DejaVuSans-51\"/>\n      </g>\n     </g>\n    </g>\n    <g id=\"xtick_106\">\n     <g id=\"line2d_211\">\n      <path clip-path=\"url(#pff55622139)\" d=\"M 223.971875 245.836875 \nL 223.971875 28.396875 \n\" style=\"fill:none;stroke:#b0b0b0;stroke-linecap:square;stroke-width:0.8;\"/>\n     </g>\n     <g id=\"line2d_212\">\n      <g>\n       <use style=\"stroke:#000000;stroke-width:0.8;\" x=\"223.971875\" xlink:href=\"#m3e725a0727\" y=\"245.836875\"/>\n      </g>\n     </g>\n     <g id=\"text_106\">\n      <!-- 3 -->\n      <g transform=\"translate(226.73125 259.199375)rotate(-90)scale(0.1 -0.1)\">\n       <use xlink:href=\"#DejaVuSans-51\"/>\n      </g>\n     </g>\n    </g>\n    <g id=\"xtick_107\">\n     <g id=\"line2d_213\">\n      <path clip-path=\"url(#pff55622139)\" d=\"M 223.971875 245.836875 \nL 223.971875 28.396875 \n\" style=\"fill:none;stroke:#b0b0b0;stroke-linecap:square;stroke-width:0.8;\"/>\n     </g>\n     <g id=\"line2d_214\">\n      <g>\n       <use style=\"stroke:#000000;stroke-width:0.8;\" x=\"223.971875\" xlink:href=\"#m3e725a0727\" y=\"245.836875\"/>\n      </g>\n     </g>\n     <g id=\"text_107\">\n      <!-- 3 -->\n      <g transform=\"translate(226.73125 259.199375)rotate(-90)scale(0.1 -0.1)\">\n       <use xlink:href=\"#DejaVuSans-51\"/>\n      </g>\n     </g>\n    </g>\n    <g id=\"xtick_108\">\n     <g id=\"line2d_215\">\n      <path clip-path=\"url(#pff55622139)\" d=\"M 223.971875 245.836875 \nL 223.971875 28.396875 \n\" style=\"fill:none;stroke:#b0b0b0;stroke-linecap:square;stroke-width:0.8;\"/>\n     </g>\n     <g id=\"line2d_216\">\n      <g>\n       <use style=\"stroke:#000000;stroke-width:0.8;\" x=\"223.971875\" xlink:href=\"#m3e725a0727\" y=\"245.836875\"/>\n      </g>\n     </g>\n     <g id=\"text_108\">\n      <!-- 3 -->\n      <g transform=\"translate(226.73125 259.199375)rotate(-90)scale(0.1 -0.1)\">\n       <use xlink:href=\"#DejaVuSans-51\"/>\n      </g>\n     </g>\n    </g>\n    <g id=\"xtick_109\">\n     <g id=\"line2d_217\">\n      <path clip-path=\"url(#pff55622139)\" d=\"M 223.971875 245.836875 \nL 223.971875 28.396875 \n\" style=\"fill:none;stroke:#b0b0b0;stroke-linecap:square;stroke-width:0.8;\"/>\n     </g>\n     <g id=\"line2d_218\">\n      <g>\n       <use style=\"stroke:#000000;stroke-width:0.8;\" x=\"223.971875\" xlink:href=\"#m3e725a0727\" y=\"245.836875\"/>\n      </g>\n     </g>\n     <g id=\"text_109\">\n      <!-- 3 -->\n      <g transform=\"translate(226.73125 259.199375)rotate(-90)scale(0.1 -0.1)\">\n       <use xlink:href=\"#DejaVuSans-51\"/>\n      </g>\n     </g>\n    </g>\n    <g id=\"xtick_110\">\n     <g id=\"line2d_219\">\n      <path clip-path=\"url(#pff55622139)\" d=\"M 223.971875 245.836875 \nL 223.971875 28.396875 \n\" style=\"fill:none;stroke:#b0b0b0;stroke-linecap:square;stroke-width:0.8;\"/>\n     </g>\n     <g id=\"line2d_220\">\n      <g>\n       <use style=\"stroke:#000000;stroke-width:0.8;\" x=\"223.971875\" xlink:href=\"#m3e725a0727\" y=\"245.836875\"/>\n      </g>\n     </g>\n     <g id=\"text_110\">\n      <!-- 3 -->\n      <g transform=\"translate(226.73125 259.199375)rotate(-90)scale(0.1 -0.1)\">\n       <use xlink:href=\"#DejaVuSans-51\"/>\n      </g>\n     </g>\n    </g>\n    <g id=\"xtick_111\">\n     <g id=\"line2d_221\">\n      <path clip-path=\"url(#pff55622139)\" d=\"M 223.971875 245.836875 \nL 223.971875 28.396875 \n\" style=\"fill:none;stroke:#b0b0b0;stroke-linecap:square;stroke-width:0.8;\"/>\n     </g>\n     <g id=\"line2d_222\">\n      <g>\n       <use style=\"stroke:#000000;stroke-width:0.8;\" x=\"223.971875\" xlink:href=\"#m3e725a0727\" y=\"245.836875\"/>\n      </g>\n     </g>\n     <g id=\"text_111\">\n      <!-- 3 -->\n      <g transform=\"translate(226.73125 259.199375)rotate(-90)scale(0.1 -0.1)\">\n       <use xlink:href=\"#DejaVuSans-51\"/>\n      </g>\n     </g>\n    </g>\n    <g id=\"xtick_112\">\n     <g id=\"line2d_223\">\n      <path clip-path=\"url(#pff55622139)\" d=\"M 223.971875 245.836875 \nL 223.971875 28.396875 \n\" style=\"fill:none;stroke:#b0b0b0;stroke-linecap:square;stroke-width:0.8;\"/>\n     </g>\n     <g id=\"line2d_224\">\n      <g>\n       <use style=\"stroke:#000000;stroke-width:0.8;\" x=\"223.971875\" xlink:href=\"#m3e725a0727\" y=\"245.836875\"/>\n      </g>\n     </g>\n     <g id=\"text_112\">\n      <!-- 3 -->\n      <g transform=\"translate(226.73125 259.199375)rotate(-90)scale(0.1 -0.1)\">\n       <use xlink:href=\"#DejaVuSans-51\"/>\n      </g>\n     </g>\n    </g>\n    <g id=\"xtick_113\">\n     <g id=\"line2d_225\">\n      <path clip-path=\"url(#pff55622139)\" d=\"M 223.971875 245.836875 \nL 223.971875 28.396875 \n\" style=\"fill:none;stroke:#b0b0b0;stroke-linecap:square;stroke-width:0.8;\"/>\n     </g>\n     <g id=\"line2d_226\">\n      <g>\n       <use style=\"stroke:#000000;stroke-width:0.8;\" x=\"223.971875\" xlink:href=\"#m3e725a0727\" y=\"245.836875\"/>\n      </g>\n     </g>\n     <g id=\"text_113\">\n      <!-- 3 -->\n      <g transform=\"translate(226.73125 259.199375)rotate(-90)scale(0.1 -0.1)\">\n       <use xlink:href=\"#DejaVuSans-51\"/>\n      </g>\n     </g>\n    </g>\n    <g id=\"xtick_114\">\n     <g id=\"line2d_227\">\n      <path clip-path=\"url(#pff55622139)\" d=\"M 223.971875 245.836875 \nL 223.971875 28.396875 \n\" style=\"fill:none;stroke:#b0b0b0;stroke-linecap:square;stroke-width:0.8;\"/>\n     </g>\n     <g id=\"line2d_228\">\n      <g>\n       <use style=\"stroke:#000000;stroke-width:0.8;\" x=\"223.971875\" xlink:href=\"#m3e725a0727\" y=\"245.836875\"/>\n      </g>\n     </g>\n     <g id=\"text_114\">\n      <!-- 3 -->\n      <g transform=\"translate(226.73125 259.199375)rotate(-90)scale(0.1 -0.1)\">\n       <use xlink:href=\"#DejaVuSans-51\"/>\n      </g>\n     </g>\n    </g>\n    <g id=\"xtick_115\">\n     <g id=\"line2d_229\">\n      <path clip-path=\"url(#pff55622139)\" d=\"M 223.971875 245.836875 \nL 223.971875 28.396875 \n\" style=\"fill:none;stroke:#b0b0b0;stroke-linecap:square;stroke-width:0.8;\"/>\n     </g>\n     <g id=\"line2d_230\">\n      <g>\n       <use style=\"stroke:#000000;stroke-width:0.8;\" x=\"223.971875\" xlink:href=\"#m3e725a0727\" y=\"245.836875\"/>\n      </g>\n     </g>\n     <g id=\"text_115\">\n      <!-- 3 -->\n      <g transform=\"translate(226.73125 259.199375)rotate(-90)scale(0.1 -0.1)\">\n       <use xlink:href=\"#DejaVuSans-51\"/>\n      </g>\n     </g>\n    </g>\n    <g id=\"xtick_116\">\n     <g id=\"line2d_231\">\n      <path clip-path=\"url(#pff55622139)\" d=\"M 223.971875 245.836875 \nL 223.971875 28.396875 \n\" style=\"fill:none;stroke:#b0b0b0;stroke-linecap:square;stroke-width:0.8;\"/>\n     </g>\n     <g id=\"line2d_232\">\n      <g>\n       <use style=\"stroke:#000000;stroke-width:0.8;\" x=\"223.971875\" xlink:href=\"#m3e725a0727\" y=\"245.836875\"/>\n      </g>\n     </g>\n     <g id=\"text_116\">\n      <!-- 3 -->\n      <g transform=\"translate(226.73125 259.199375)rotate(-90)scale(0.1 -0.1)\">\n       <use xlink:href=\"#DejaVuSans-51\"/>\n      </g>\n     </g>\n    </g>\n    <g id=\"xtick_117\">\n     <g id=\"line2d_233\">\n      <path clip-path=\"url(#pff55622139)\" d=\"M 223.971875 245.836875 \nL 223.971875 28.396875 \n\" style=\"fill:none;stroke:#b0b0b0;stroke-linecap:square;stroke-width:0.8;\"/>\n     </g>\n     <g id=\"line2d_234\">\n      <g>\n       <use style=\"stroke:#000000;stroke-width:0.8;\" x=\"223.971875\" xlink:href=\"#m3e725a0727\" y=\"245.836875\"/>\n      </g>\n     </g>\n     <g id=\"text_117\">\n      <!-- 3 -->\n      <g transform=\"translate(226.73125 259.199375)rotate(-90)scale(0.1 -0.1)\">\n       <use xlink:href=\"#DejaVuSans-51\"/>\n      </g>\n     </g>\n    </g>\n    <g id=\"xtick_118\">\n     <g id=\"line2d_235\">\n      <path clip-path=\"url(#pff55622139)\" d=\"M 223.971875 245.836875 \nL 223.971875 28.396875 \n\" style=\"fill:none;stroke:#b0b0b0;stroke-linecap:square;stroke-width:0.8;\"/>\n     </g>\n     <g id=\"line2d_236\">\n      <g>\n       <use style=\"stroke:#000000;stroke-width:0.8;\" x=\"223.971875\" xlink:href=\"#m3e725a0727\" y=\"245.836875\"/>\n      </g>\n     </g>\n     <g id=\"text_118\">\n      <!-- 3 -->\n      <g transform=\"translate(226.73125 259.199375)rotate(-90)scale(0.1 -0.1)\">\n       <use xlink:href=\"#DejaVuSans-51\"/>\n      </g>\n     </g>\n    </g>\n    <g id=\"xtick_119\">\n     <g id=\"line2d_237\">\n      <path clip-path=\"url(#pff55622139)\" d=\"M 223.971875 245.836875 \nL 223.971875 28.396875 \n\" style=\"fill:none;stroke:#b0b0b0;stroke-linecap:square;stroke-width:0.8;\"/>\n     </g>\n     <g id=\"line2d_238\">\n      <g>\n       <use style=\"stroke:#000000;stroke-width:0.8;\" x=\"223.971875\" xlink:href=\"#m3e725a0727\" y=\"245.836875\"/>\n      </g>\n     </g>\n     <g id=\"text_119\">\n      <!-- 3 -->\n      <g transform=\"translate(226.73125 259.199375)rotate(-90)scale(0.1 -0.1)\">\n       <use xlink:href=\"#DejaVuSans-51\"/>\n      </g>\n     </g>\n    </g>\n    <g id=\"xtick_120\">\n     <g id=\"line2d_239\">\n      <path clip-path=\"url(#pff55622139)\" d=\"M 223.971875 245.836875 \nL 223.971875 28.396875 \n\" style=\"fill:none;stroke:#b0b0b0;stroke-linecap:square;stroke-width:0.8;\"/>\n     </g>\n     <g id=\"line2d_240\">\n      <g>\n       <use style=\"stroke:#000000;stroke-width:0.8;\" x=\"223.971875\" xlink:href=\"#m3e725a0727\" y=\"245.836875\"/>\n      </g>\n     </g>\n     <g id=\"text_120\">\n      <!-- 3 -->\n      <g transform=\"translate(226.73125 259.199375)rotate(-90)scale(0.1 -0.1)\">\n       <use xlink:href=\"#DejaVuSans-51\"/>\n      </g>\n     </g>\n    </g>\n    <g id=\"xtick_121\">\n     <g id=\"line2d_241\">\n      <path clip-path=\"url(#pff55622139)\" d=\"M 223.971875 245.836875 \nL 223.971875 28.396875 \n\" style=\"fill:none;stroke:#b0b0b0;stroke-linecap:square;stroke-width:0.8;\"/>\n     </g>\n     <g id=\"line2d_242\">\n      <g>\n       <use style=\"stroke:#000000;stroke-width:0.8;\" x=\"223.971875\" xlink:href=\"#m3e725a0727\" y=\"245.836875\"/>\n      </g>\n     </g>\n     <g id=\"text_121\">\n      <!-- 3 -->\n      <g transform=\"translate(226.73125 259.199375)rotate(-90)scale(0.1 -0.1)\">\n       <use xlink:href=\"#DejaVuSans-51\"/>\n      </g>\n     </g>\n    </g>\n    <g id=\"xtick_122\">\n     <g id=\"line2d_243\">\n      <path clip-path=\"url(#pff55622139)\" d=\"M 223.971875 245.836875 \nL 223.971875 28.396875 \n\" style=\"fill:none;stroke:#b0b0b0;stroke-linecap:square;stroke-width:0.8;\"/>\n     </g>\n     <g id=\"line2d_244\">\n      <g>\n       <use style=\"stroke:#000000;stroke-width:0.8;\" x=\"223.971875\" xlink:href=\"#m3e725a0727\" y=\"245.836875\"/>\n      </g>\n     </g>\n     <g id=\"text_122\">\n      <!-- 3 -->\n      <g transform=\"translate(226.73125 259.199375)rotate(-90)scale(0.1 -0.1)\">\n       <use xlink:href=\"#DejaVuSans-51\"/>\n      </g>\n     </g>\n    </g>\n    <g id=\"xtick_123\">\n     <g id=\"line2d_245\">\n      <path clip-path=\"url(#pff55622139)\" d=\"M 223.971875 245.836875 \nL 223.971875 28.396875 \n\" style=\"fill:none;stroke:#b0b0b0;stroke-linecap:square;stroke-width:0.8;\"/>\n     </g>\n     <g id=\"line2d_246\">\n      <g>\n       <use style=\"stroke:#000000;stroke-width:0.8;\" x=\"223.971875\" xlink:href=\"#m3e725a0727\" y=\"245.836875\"/>\n      </g>\n     </g>\n     <g id=\"text_123\">\n      <!-- 3 -->\n      <g transform=\"translate(226.73125 259.199375)rotate(-90)scale(0.1 -0.1)\">\n       <use xlink:href=\"#DejaVuSans-51\"/>\n      </g>\n     </g>\n    </g>\n    <g id=\"xtick_124\">\n     <g id=\"line2d_247\">\n      <path clip-path=\"url(#pff55622139)\" d=\"M 223.971875 245.836875 \nL 223.971875 28.396875 \n\" style=\"fill:none;stroke:#b0b0b0;stroke-linecap:square;stroke-width:0.8;\"/>\n     </g>\n     <g id=\"line2d_248\">\n      <g>\n       <use style=\"stroke:#000000;stroke-width:0.8;\" x=\"223.971875\" xlink:href=\"#m3e725a0727\" y=\"245.836875\"/>\n      </g>\n     </g>\n     <g id=\"text_124\">\n      <!-- 3 -->\n      <g transform=\"translate(226.73125 259.199375)rotate(-90)scale(0.1 -0.1)\">\n       <use xlink:href=\"#DejaVuSans-51\"/>\n      </g>\n     </g>\n    </g>\n    <g id=\"xtick_125\">\n     <g id=\"line2d_249\">\n      <path clip-path=\"url(#pff55622139)\" d=\"M 223.971875 245.836875 \nL 223.971875 28.396875 \n\" style=\"fill:none;stroke:#b0b0b0;stroke-linecap:square;stroke-width:0.8;\"/>\n     </g>\n     <g id=\"line2d_250\">\n      <g>\n       <use style=\"stroke:#000000;stroke-width:0.8;\" x=\"223.971875\" xlink:href=\"#m3e725a0727\" y=\"245.836875\"/>\n      </g>\n     </g>\n     <g id=\"text_125\">\n      <!-- 3 -->\n      <g transform=\"translate(226.73125 259.199375)rotate(-90)scale(0.1 -0.1)\">\n       <use xlink:href=\"#DejaVuSans-51\"/>\n      </g>\n     </g>\n    </g>\n    <g id=\"xtick_126\">\n     <g id=\"line2d_251\">\n      <path clip-path=\"url(#pff55622139)\" d=\"M 223.971875 245.836875 \nL 223.971875 28.396875 \n\" style=\"fill:none;stroke:#b0b0b0;stroke-linecap:square;stroke-width:0.8;\"/>\n     </g>\n     <g id=\"line2d_252\">\n      <g>\n       <use style=\"stroke:#000000;stroke-width:0.8;\" x=\"223.971875\" xlink:href=\"#m3e725a0727\" y=\"245.836875\"/>\n      </g>\n     </g>\n     <g id=\"text_126\">\n      <!-- 3 -->\n      <g transform=\"translate(226.73125 259.199375)rotate(-90)scale(0.1 -0.1)\">\n       <use xlink:href=\"#DejaVuSans-51\"/>\n      </g>\n     </g>\n    </g>\n    <g id=\"xtick_127\">\n     <g id=\"line2d_253\">\n      <path clip-path=\"url(#pff55622139)\" d=\"M 223.971875 245.836875 \nL 223.971875 28.396875 \n\" style=\"fill:none;stroke:#b0b0b0;stroke-linecap:square;stroke-width:0.8;\"/>\n     </g>\n     <g id=\"line2d_254\">\n      <g>\n       <use style=\"stroke:#000000;stroke-width:0.8;\" x=\"223.971875\" xlink:href=\"#m3e725a0727\" y=\"245.836875\"/>\n      </g>\n     </g>\n     <g id=\"text_127\">\n      <!-- 3 -->\n      <g transform=\"translate(226.73125 259.199375)rotate(-90)scale(0.1 -0.1)\">\n       <use xlink:href=\"#DejaVuSans-51\"/>\n      </g>\n     </g>\n    </g>\n    <g id=\"xtick_128\">\n     <g id=\"line2d_255\">\n      <path clip-path=\"url(#pff55622139)\" d=\"M 223.971875 245.836875 \nL 223.971875 28.396875 \n\" style=\"fill:none;stroke:#b0b0b0;stroke-linecap:square;stroke-width:0.8;\"/>\n     </g>\n     <g id=\"line2d_256\">\n      <g>\n       <use style=\"stroke:#000000;stroke-width:0.8;\" x=\"223.971875\" xlink:href=\"#m3e725a0727\" y=\"245.836875\"/>\n      </g>\n     </g>\n     <g id=\"text_128\">\n      <!-- 3 -->\n      <g transform=\"translate(226.73125 259.199375)rotate(-90)scale(0.1 -0.1)\">\n       <use xlink:href=\"#DejaVuSans-51\"/>\n      </g>\n     </g>\n    </g>\n    <g id=\"xtick_129\">\n     <g id=\"line2d_257\">\n      <path clip-path=\"url(#pff55622139)\" d=\"M 223.971875 245.836875 \nL 223.971875 28.396875 \n\" style=\"fill:none;stroke:#b0b0b0;stroke-linecap:square;stroke-width:0.8;\"/>\n     </g>\n     <g id=\"line2d_258\">\n      <g>\n       <use style=\"stroke:#000000;stroke-width:0.8;\" x=\"223.971875\" xlink:href=\"#m3e725a0727\" y=\"245.836875\"/>\n      </g>\n     </g>\n     <g id=\"text_129\">\n      <!-- 3 -->\n      <g transform=\"translate(226.73125 259.199375)rotate(-90)scale(0.1 -0.1)\">\n       <use xlink:href=\"#DejaVuSans-51\"/>\n      </g>\n     </g>\n    </g>\n    <g id=\"xtick_130\">\n     <g id=\"line2d_259\">\n      <path clip-path=\"url(#pff55622139)\" d=\"M 223.971875 245.836875 \nL 223.971875 28.396875 \n\" style=\"fill:none;stroke:#b0b0b0;stroke-linecap:square;stroke-width:0.8;\"/>\n     </g>\n     <g id=\"line2d_260\">\n      <g>\n       <use style=\"stroke:#000000;stroke-width:0.8;\" x=\"223.971875\" xlink:href=\"#m3e725a0727\" y=\"245.836875\"/>\n      </g>\n     </g>\n     <g id=\"text_130\">\n      <!-- 3 -->\n      <g transform=\"translate(226.73125 259.199375)rotate(-90)scale(0.1 -0.1)\">\n       <use xlink:href=\"#DejaVuSans-51\"/>\n      </g>\n     </g>\n    </g>\n    <g id=\"xtick_131\">\n     <g id=\"line2d_261\">\n      <path clip-path=\"url(#pff55622139)\" d=\"M 223.971875 245.836875 \nL 223.971875 28.396875 \n\" style=\"fill:none;stroke:#b0b0b0;stroke-linecap:square;stroke-width:0.8;\"/>\n     </g>\n     <g id=\"line2d_262\">\n      <g>\n       <use style=\"stroke:#000000;stroke-width:0.8;\" x=\"223.971875\" xlink:href=\"#m3e725a0727\" y=\"245.836875\"/>\n      </g>\n     </g>\n     <g id=\"text_131\">\n      <!-- 3 -->\n      <g transform=\"translate(226.73125 259.199375)rotate(-90)scale(0.1 -0.1)\">\n       <use xlink:href=\"#DejaVuSans-51\"/>\n      </g>\n     </g>\n    </g>\n    <g id=\"xtick_132\">\n     <g id=\"line2d_263\">\n      <path clip-path=\"url(#pff55622139)\" d=\"M 223.971875 245.836875 \nL 223.971875 28.396875 \n\" style=\"fill:none;stroke:#b0b0b0;stroke-linecap:square;stroke-width:0.8;\"/>\n     </g>\n     <g id=\"line2d_264\">\n      <g>\n       <use style=\"stroke:#000000;stroke-width:0.8;\" x=\"223.971875\" xlink:href=\"#m3e725a0727\" y=\"245.836875\"/>\n      </g>\n     </g>\n     <g id=\"text_132\">\n      <!-- 3 -->\n      <g transform=\"translate(226.73125 259.199375)rotate(-90)scale(0.1 -0.1)\">\n       <use xlink:href=\"#DejaVuSans-51\"/>\n      </g>\n     </g>\n    </g>\n    <g id=\"xtick_133\">\n     <g id=\"line2d_265\">\n      <path clip-path=\"url(#pff55622139)\" d=\"M 223.971875 245.836875 \nL 223.971875 28.396875 \n\" style=\"fill:none;stroke:#b0b0b0;stroke-linecap:square;stroke-width:0.8;\"/>\n     </g>\n     <g id=\"line2d_266\">\n      <g>\n       <use style=\"stroke:#000000;stroke-width:0.8;\" x=\"223.971875\" xlink:href=\"#m3e725a0727\" y=\"245.836875\"/>\n      </g>\n     </g>\n     <g id=\"text_133\">\n      <!-- 3 -->\n      <g transform=\"translate(226.73125 259.199375)rotate(-90)scale(0.1 -0.1)\">\n       <use xlink:href=\"#DejaVuSans-51\"/>\n      </g>\n     </g>\n    </g>\n    <g id=\"xtick_134\">\n     <g id=\"line2d_267\">\n      <path clip-path=\"url(#pff55622139)\" d=\"M 223.971875 245.836875 \nL 223.971875 28.396875 \n\" style=\"fill:none;stroke:#b0b0b0;stroke-linecap:square;stroke-width:0.8;\"/>\n     </g>\n     <g id=\"line2d_268\">\n      <g>\n       <use style=\"stroke:#000000;stroke-width:0.8;\" x=\"223.971875\" xlink:href=\"#m3e725a0727\" y=\"245.836875\"/>\n      </g>\n     </g>\n     <g id=\"text_134\">\n      <!-- 3 -->\n      <g transform=\"translate(226.73125 259.199375)rotate(-90)scale(0.1 -0.1)\">\n       <use xlink:href=\"#DejaVuSans-51\"/>\n      </g>\n     </g>\n    </g>\n    <g id=\"xtick_135\">\n     <g id=\"line2d_269\">\n      <path clip-path=\"url(#pff55622139)\" d=\"M 223.971875 245.836875 \nL 223.971875 28.396875 \n\" style=\"fill:none;stroke:#b0b0b0;stroke-linecap:square;stroke-width:0.8;\"/>\n     </g>\n     <g id=\"line2d_270\">\n      <g>\n       <use style=\"stroke:#000000;stroke-width:0.8;\" x=\"223.971875\" xlink:href=\"#m3e725a0727\" y=\"245.836875\"/>\n      </g>\n     </g>\n     <g id=\"text_135\">\n      <!-- 3 -->\n      <g transform=\"translate(226.73125 259.199375)rotate(-90)scale(0.1 -0.1)\">\n       <use xlink:href=\"#DejaVuSans-51\"/>\n      </g>\n     </g>\n    </g>\n    <g id=\"xtick_136\">\n     <g id=\"line2d_271\">\n      <path clip-path=\"url(#pff55622139)\" d=\"M 223.971875 245.836875 \nL 223.971875 28.396875 \n\" style=\"fill:none;stroke:#b0b0b0;stroke-linecap:square;stroke-width:0.8;\"/>\n     </g>\n     <g id=\"line2d_272\">\n      <g>\n       <use style=\"stroke:#000000;stroke-width:0.8;\" x=\"223.971875\" xlink:href=\"#m3e725a0727\" y=\"245.836875\"/>\n      </g>\n     </g>\n     <g id=\"text_136\">\n      <!-- 3 -->\n      <g transform=\"translate(226.73125 259.199375)rotate(-90)scale(0.1 -0.1)\">\n       <use xlink:href=\"#DejaVuSans-51\"/>\n      </g>\n     </g>\n    </g>\n    <g id=\"xtick_137\">\n     <g id=\"line2d_273\">\n      <path clip-path=\"url(#pff55622139)\" d=\"M 223.971875 245.836875 \nL 223.971875 28.396875 \n\" style=\"fill:none;stroke:#b0b0b0;stroke-linecap:square;stroke-width:0.8;\"/>\n     </g>\n     <g id=\"line2d_274\">\n      <g>\n       <use style=\"stroke:#000000;stroke-width:0.8;\" x=\"223.971875\" xlink:href=\"#m3e725a0727\" y=\"245.836875\"/>\n      </g>\n     </g>\n     <g id=\"text_137\">\n      <!-- 3 -->\n      <g transform=\"translate(226.73125 259.199375)rotate(-90)scale(0.1 -0.1)\">\n       <use xlink:href=\"#DejaVuSans-51\"/>\n      </g>\n     </g>\n    </g>\n    <g id=\"xtick_138\">\n     <g id=\"line2d_275\">\n      <path clip-path=\"url(#pff55622139)\" d=\"M 223.971875 245.836875 \nL 223.971875 28.396875 \n\" style=\"fill:none;stroke:#b0b0b0;stroke-linecap:square;stroke-width:0.8;\"/>\n     </g>\n     <g id=\"line2d_276\">\n      <g>\n       <use style=\"stroke:#000000;stroke-width:0.8;\" x=\"223.971875\" xlink:href=\"#m3e725a0727\" y=\"245.836875\"/>\n      </g>\n     </g>\n     <g id=\"text_138\">\n      <!-- 3 -->\n      <g transform=\"translate(226.73125 259.199375)rotate(-90)scale(0.1 -0.1)\">\n       <use xlink:href=\"#DejaVuSans-51\"/>\n      </g>\n     </g>\n    </g>\n    <g id=\"xtick_139\">\n     <g id=\"line2d_277\">\n      <path clip-path=\"url(#pff55622139)\" d=\"M 223.971875 245.836875 \nL 223.971875 28.396875 \n\" style=\"fill:none;stroke:#b0b0b0;stroke-linecap:square;stroke-width:0.8;\"/>\n     </g>\n     <g id=\"line2d_278\">\n      <g>\n       <use style=\"stroke:#000000;stroke-width:0.8;\" x=\"223.971875\" xlink:href=\"#m3e725a0727\" y=\"245.836875\"/>\n      </g>\n     </g>\n     <g id=\"text_139\">\n      <!-- 3 -->\n      <g transform=\"translate(226.73125 259.199375)rotate(-90)scale(0.1 -0.1)\">\n       <use xlink:href=\"#DejaVuSans-51\"/>\n      </g>\n     </g>\n    </g>\n    <g id=\"xtick_140\">\n     <g id=\"line2d_279\">\n      <path clip-path=\"url(#pff55622139)\" d=\"M 223.971875 245.836875 \nL 223.971875 28.396875 \n\" style=\"fill:none;stroke:#b0b0b0;stroke-linecap:square;stroke-width:0.8;\"/>\n     </g>\n     <g id=\"line2d_280\">\n      <g>\n       <use style=\"stroke:#000000;stroke-width:0.8;\" x=\"223.971875\" xlink:href=\"#m3e725a0727\" y=\"245.836875\"/>\n      </g>\n     </g>\n     <g id=\"text_140\">\n      <!-- 3 -->\n      <g transform=\"translate(226.73125 259.199375)rotate(-90)scale(0.1 -0.1)\">\n       <use xlink:href=\"#DejaVuSans-51\"/>\n      </g>\n     </g>\n    </g>\n    <g id=\"xtick_141\">\n     <g id=\"line2d_281\">\n      <path clip-path=\"url(#pff55622139)\" d=\"M 223.971875 245.836875 \nL 223.971875 28.396875 \n\" style=\"fill:none;stroke:#b0b0b0;stroke-linecap:square;stroke-width:0.8;\"/>\n     </g>\n     <g id=\"line2d_282\">\n      <g>\n       <use style=\"stroke:#000000;stroke-width:0.8;\" x=\"223.971875\" xlink:href=\"#m3e725a0727\" y=\"245.836875\"/>\n      </g>\n     </g>\n     <g id=\"text_141\">\n      <!-- 3 -->\n      <g transform=\"translate(226.73125 259.199375)rotate(-90)scale(0.1 -0.1)\">\n       <use xlink:href=\"#DejaVuSans-51\"/>\n      </g>\n     </g>\n    </g>\n    <g id=\"xtick_142\">\n     <g id=\"line2d_283\">\n      <path clip-path=\"url(#pff55622139)\" d=\"M 223.971875 245.836875 \nL 223.971875 28.396875 \n\" style=\"fill:none;stroke:#b0b0b0;stroke-linecap:square;stroke-width:0.8;\"/>\n     </g>\n     <g id=\"line2d_284\">\n      <g>\n       <use style=\"stroke:#000000;stroke-width:0.8;\" x=\"223.971875\" xlink:href=\"#m3e725a0727\" y=\"245.836875\"/>\n      </g>\n     </g>\n     <g id=\"text_142\">\n      <!-- 3 -->\n      <g transform=\"translate(226.73125 259.199375)rotate(-90)scale(0.1 -0.1)\">\n       <use xlink:href=\"#DejaVuSans-51\"/>\n      </g>\n     </g>\n    </g>\n    <g id=\"xtick_143\">\n     <g id=\"line2d_285\">\n      <path clip-path=\"url(#pff55622139)\" d=\"M 223.971875 245.836875 \nL 223.971875 28.396875 \n\" style=\"fill:none;stroke:#b0b0b0;stroke-linecap:square;stroke-width:0.8;\"/>\n     </g>\n     <g id=\"line2d_286\">\n      <g>\n       <use style=\"stroke:#000000;stroke-width:0.8;\" x=\"223.971875\" xlink:href=\"#m3e725a0727\" y=\"245.836875\"/>\n      </g>\n     </g>\n     <g id=\"text_143\">\n      <!-- 3 -->\n      <g transform=\"translate(226.73125 259.199375)rotate(-90)scale(0.1 -0.1)\">\n       <use xlink:href=\"#DejaVuSans-51\"/>\n      </g>\n     </g>\n    </g>\n    <g id=\"xtick_144\">\n     <g id=\"line2d_287\">\n      <path clip-path=\"url(#pff55622139)\" d=\"M 223.971875 245.836875 \nL 223.971875 28.396875 \n\" style=\"fill:none;stroke:#b0b0b0;stroke-linecap:square;stroke-width:0.8;\"/>\n     </g>\n     <g id=\"line2d_288\">\n      <g>\n       <use style=\"stroke:#000000;stroke-width:0.8;\" x=\"223.971875\" xlink:href=\"#m3e725a0727\" y=\"245.836875\"/>\n      </g>\n     </g>\n     <g id=\"text_144\">\n      <!-- 3 -->\n      <g transform=\"translate(226.73125 259.199375)rotate(-90)scale(0.1 -0.1)\">\n       <use xlink:href=\"#DejaVuSans-51\"/>\n      </g>\n     </g>\n    </g>\n    <g id=\"xtick_145\">\n     <g id=\"line2d_289\">\n      <path clip-path=\"url(#pff55622139)\" d=\"M 223.971875 245.836875 \nL 223.971875 28.396875 \n\" style=\"fill:none;stroke:#b0b0b0;stroke-linecap:square;stroke-width:0.8;\"/>\n     </g>\n     <g id=\"line2d_290\">\n      <g>\n       <use style=\"stroke:#000000;stroke-width:0.8;\" x=\"223.971875\" xlink:href=\"#m3e725a0727\" y=\"245.836875\"/>\n      </g>\n     </g>\n     <g id=\"text_145\">\n      <!-- 3 -->\n      <g transform=\"translate(226.73125 259.199375)rotate(-90)scale(0.1 -0.1)\">\n       <use xlink:href=\"#DejaVuSans-51\"/>\n      </g>\n     </g>\n    </g>\n    <g id=\"xtick_146\">\n     <g id=\"line2d_291\">\n      <path clip-path=\"url(#pff55622139)\" d=\"M 223.971875 245.836875 \nL 223.971875 28.396875 \n\" style=\"fill:none;stroke:#b0b0b0;stroke-linecap:square;stroke-width:0.8;\"/>\n     </g>\n     <g id=\"line2d_292\">\n      <g>\n       <use style=\"stroke:#000000;stroke-width:0.8;\" x=\"223.971875\" xlink:href=\"#m3e725a0727\" y=\"245.836875\"/>\n      </g>\n     </g>\n     <g id=\"text_146\">\n      <!-- 3 -->\n      <g transform=\"translate(226.73125 259.199375)rotate(-90)scale(0.1 -0.1)\">\n       <use xlink:href=\"#DejaVuSans-51\"/>\n      </g>\n     </g>\n    </g>\n    <g id=\"xtick_147\">\n     <g id=\"line2d_293\">\n      <path clip-path=\"url(#pff55622139)\" d=\"M 223.971875 245.836875 \nL 223.971875 28.396875 \n\" style=\"fill:none;stroke:#b0b0b0;stroke-linecap:square;stroke-width:0.8;\"/>\n     </g>\n     <g id=\"line2d_294\">\n      <g>\n       <use style=\"stroke:#000000;stroke-width:0.8;\" x=\"223.971875\" xlink:href=\"#m3e725a0727\" y=\"245.836875\"/>\n      </g>\n     </g>\n     <g id=\"text_147\">\n      <!-- 3 -->\n      <g transform=\"translate(226.73125 259.199375)rotate(-90)scale(0.1 -0.1)\">\n       <use xlink:href=\"#DejaVuSans-51\"/>\n      </g>\n     </g>\n    </g>\n    <g id=\"xtick_148\">\n     <g id=\"line2d_295\">\n      <path clip-path=\"url(#pff55622139)\" d=\"M 223.971875 245.836875 \nL 223.971875 28.396875 \n\" style=\"fill:none;stroke:#b0b0b0;stroke-linecap:square;stroke-width:0.8;\"/>\n     </g>\n     <g id=\"line2d_296\">\n      <g>\n       <use style=\"stroke:#000000;stroke-width:0.8;\" x=\"223.971875\" xlink:href=\"#m3e725a0727\" y=\"245.836875\"/>\n      </g>\n     </g>\n     <g id=\"text_148\">\n      <!-- 3 -->\n      <g transform=\"translate(226.73125 259.199375)rotate(-90)scale(0.1 -0.1)\">\n       <use xlink:href=\"#DejaVuSans-51\"/>\n      </g>\n     </g>\n    </g>\n    <g id=\"xtick_149\">\n     <g id=\"line2d_297\">\n      <path clip-path=\"url(#pff55622139)\" d=\"M 223.971875 245.836875 \nL 223.971875 28.396875 \n\" style=\"fill:none;stroke:#b0b0b0;stroke-linecap:square;stroke-width:0.8;\"/>\n     </g>\n     <g id=\"line2d_298\">\n      <g>\n       <use style=\"stroke:#000000;stroke-width:0.8;\" x=\"223.971875\" xlink:href=\"#m3e725a0727\" y=\"245.836875\"/>\n      </g>\n     </g>\n     <g id=\"text_149\">\n      <!-- 3 -->\n      <g transform=\"translate(226.73125 259.199375)rotate(-90)scale(0.1 -0.1)\">\n       <use xlink:href=\"#DejaVuSans-51\"/>\n      </g>\n     </g>\n    </g>\n    <g id=\"xtick_150\">\n     <g id=\"line2d_299\">\n      <path clip-path=\"url(#pff55622139)\" d=\"M 223.971875 245.836875 \nL 223.971875 28.396875 \n\" style=\"fill:none;stroke:#b0b0b0;stroke-linecap:square;stroke-width:0.8;\"/>\n     </g>\n     <g id=\"line2d_300\">\n      <g>\n       <use style=\"stroke:#000000;stroke-width:0.8;\" x=\"223.971875\" xlink:href=\"#m3e725a0727\" y=\"245.836875\"/>\n      </g>\n     </g>\n     <g id=\"text_150\">\n      <!-- 3 -->\n      <g transform=\"translate(226.73125 259.199375)rotate(-90)scale(0.1 -0.1)\">\n       <use xlink:href=\"#DejaVuSans-51\"/>\n      </g>\n     </g>\n    </g>\n    <g id=\"xtick_151\">\n     <g id=\"line2d_301\">\n      <path clip-path=\"url(#pff55622139)\" d=\"M 223.971875 245.836875 \nL 223.971875 28.396875 \n\" style=\"fill:none;stroke:#b0b0b0;stroke-linecap:square;stroke-width:0.8;\"/>\n     </g>\n     <g id=\"line2d_302\">\n      <g>\n       <use style=\"stroke:#000000;stroke-width:0.8;\" x=\"223.971875\" xlink:href=\"#m3e725a0727\" y=\"245.836875\"/>\n      </g>\n     </g>\n     <g id=\"text_151\">\n      <!-- 3 -->\n      <g transform=\"translate(226.73125 259.199375)rotate(-90)scale(0.1 -0.1)\">\n       <use xlink:href=\"#DejaVuSans-51\"/>\n      </g>\n     </g>\n    </g>\n    <g id=\"xtick_152\">\n     <g id=\"line2d_303\">\n      <path clip-path=\"url(#pff55622139)\" d=\"M 223.971875 245.836875 \nL 223.971875 28.396875 \n\" style=\"fill:none;stroke:#b0b0b0;stroke-linecap:square;stroke-width:0.8;\"/>\n     </g>\n     <g id=\"line2d_304\">\n      <g>\n       <use style=\"stroke:#000000;stroke-width:0.8;\" x=\"223.971875\" xlink:href=\"#m3e725a0727\" y=\"245.836875\"/>\n      </g>\n     </g>\n     <g id=\"text_152\">\n      <!-- 3 -->\n      <g transform=\"translate(226.73125 259.199375)rotate(-90)scale(0.1 -0.1)\">\n       <use xlink:href=\"#DejaVuSans-51\"/>\n      </g>\n     </g>\n    </g>\n    <g id=\"xtick_153\">\n     <g id=\"line2d_305\">\n      <path clip-path=\"url(#pff55622139)\" d=\"M 223.971875 245.836875 \nL 223.971875 28.396875 \n\" style=\"fill:none;stroke:#b0b0b0;stroke-linecap:square;stroke-width:0.8;\"/>\n     </g>\n     <g id=\"line2d_306\">\n      <g>\n       <use style=\"stroke:#000000;stroke-width:0.8;\" x=\"223.971875\" xlink:href=\"#m3e725a0727\" y=\"245.836875\"/>\n      </g>\n     </g>\n     <g id=\"text_153\">\n      <!-- 3 -->\n      <g transform=\"translate(226.73125 259.199375)rotate(-90)scale(0.1 -0.1)\">\n       <use xlink:href=\"#DejaVuSans-51\"/>\n      </g>\n     </g>\n    </g>\n    <g id=\"xtick_154\">\n     <g id=\"line2d_307\">\n      <path clip-path=\"url(#pff55622139)\" d=\"M 223.971875 245.836875 \nL 223.971875 28.396875 \n\" style=\"fill:none;stroke:#b0b0b0;stroke-linecap:square;stroke-width:0.8;\"/>\n     </g>\n     <g id=\"line2d_308\">\n      <g>\n       <use style=\"stroke:#000000;stroke-width:0.8;\" x=\"223.971875\" xlink:href=\"#m3e725a0727\" y=\"245.836875\"/>\n      </g>\n     </g>\n     <g id=\"text_154\">\n      <!-- 3 -->\n      <g transform=\"translate(226.73125 259.199375)rotate(-90)scale(0.1 -0.1)\">\n       <use xlink:href=\"#DejaVuSans-51\"/>\n      </g>\n     </g>\n    </g>\n    <g id=\"xtick_155\">\n     <g id=\"line2d_309\">\n      <path clip-path=\"url(#pff55622139)\" d=\"M 223.971875 245.836875 \nL 223.971875 28.396875 \n\" style=\"fill:none;stroke:#b0b0b0;stroke-linecap:square;stroke-width:0.8;\"/>\n     </g>\n     <g id=\"line2d_310\">\n      <g>\n       <use style=\"stroke:#000000;stroke-width:0.8;\" x=\"223.971875\" xlink:href=\"#m3e725a0727\" y=\"245.836875\"/>\n      </g>\n     </g>\n     <g id=\"text_155\">\n      <!-- 3 -->\n      <g transform=\"translate(226.73125 259.199375)rotate(-90)scale(0.1 -0.1)\">\n       <use xlink:href=\"#DejaVuSans-51\"/>\n      </g>\n     </g>\n    </g>\n    <g id=\"xtick_156\">\n     <g id=\"line2d_311\">\n      <path clip-path=\"url(#pff55622139)\" d=\"M 223.971875 245.836875 \nL 223.971875 28.396875 \n\" style=\"fill:none;stroke:#b0b0b0;stroke-linecap:square;stroke-width:0.8;\"/>\n     </g>\n     <g id=\"line2d_312\">\n      <g>\n       <use style=\"stroke:#000000;stroke-width:0.8;\" x=\"223.971875\" xlink:href=\"#m3e725a0727\" y=\"245.836875\"/>\n      </g>\n     </g>\n     <g id=\"text_156\">\n      <!-- 3 -->\n      <g transform=\"translate(226.73125 259.199375)rotate(-90)scale(0.1 -0.1)\">\n       <use xlink:href=\"#DejaVuSans-51\"/>\n      </g>\n     </g>\n    </g>\n    <g id=\"xtick_157\">\n     <g id=\"line2d_313\">\n      <path clip-path=\"url(#pff55622139)\" d=\"M 223.971875 245.836875 \nL 223.971875 28.396875 \n\" style=\"fill:none;stroke:#b0b0b0;stroke-linecap:square;stroke-width:0.8;\"/>\n     </g>\n     <g id=\"line2d_314\">\n      <g>\n       <use style=\"stroke:#000000;stroke-width:0.8;\" x=\"223.971875\" xlink:href=\"#m3e725a0727\" y=\"245.836875\"/>\n      </g>\n     </g>\n     <g id=\"text_157\">\n      <!-- 3 -->\n      <g transform=\"translate(226.73125 259.199375)rotate(-90)scale(0.1 -0.1)\">\n       <use xlink:href=\"#DejaVuSans-51\"/>\n      </g>\n     </g>\n    </g>\n    <g id=\"xtick_158\">\n     <g id=\"line2d_315\">\n      <path clip-path=\"url(#pff55622139)\" d=\"M 223.971875 245.836875 \nL 223.971875 28.396875 \n\" style=\"fill:none;stroke:#b0b0b0;stroke-linecap:square;stroke-width:0.8;\"/>\n     </g>\n     <g id=\"line2d_316\">\n      <g>\n       <use style=\"stroke:#000000;stroke-width:0.8;\" x=\"223.971875\" xlink:href=\"#m3e725a0727\" y=\"245.836875\"/>\n      </g>\n     </g>\n     <g id=\"text_158\">\n      <!-- 3 -->\n      <g transform=\"translate(226.73125 259.199375)rotate(-90)scale(0.1 -0.1)\">\n       <use xlink:href=\"#DejaVuSans-51\"/>\n      </g>\n     </g>\n    </g>\n    <g id=\"xtick_159\">\n     <g id=\"line2d_317\">\n      <path clip-path=\"url(#pff55622139)\" d=\"M 223.971875 245.836875 \nL 223.971875 28.396875 \n\" style=\"fill:none;stroke:#b0b0b0;stroke-linecap:square;stroke-width:0.8;\"/>\n     </g>\n     <g id=\"line2d_318\">\n      <g>\n       <use style=\"stroke:#000000;stroke-width:0.8;\" x=\"223.971875\" xlink:href=\"#m3e725a0727\" y=\"245.836875\"/>\n      </g>\n     </g>\n     <g id=\"text_159\">\n      <!-- 3 -->\n      <g transform=\"translate(226.73125 259.199375)rotate(-90)scale(0.1 -0.1)\">\n       <use xlink:href=\"#DejaVuSans-51\"/>\n      </g>\n     </g>\n    </g>\n    <g id=\"xtick_160\">\n     <g id=\"line2d_319\">\n      <path clip-path=\"url(#pff55622139)\" d=\"M 223.971875 245.836875 \nL 223.971875 28.396875 \n\" style=\"fill:none;stroke:#b0b0b0;stroke-linecap:square;stroke-width:0.8;\"/>\n     </g>\n     <g id=\"line2d_320\">\n      <g>\n       <use style=\"stroke:#000000;stroke-width:0.8;\" x=\"223.971875\" xlink:href=\"#m3e725a0727\" y=\"245.836875\"/>\n      </g>\n     </g>\n     <g id=\"text_160\">\n      <!-- 3 -->\n      <g transform=\"translate(226.73125 259.199375)rotate(-90)scale(0.1 -0.1)\">\n       <use xlink:href=\"#DejaVuSans-51\"/>\n      </g>\n     </g>\n    </g>\n    <g id=\"xtick_161\">\n     <g id=\"line2d_321\">\n      <path clip-path=\"url(#pff55622139)\" d=\"M 274.699148 245.836875 \nL 274.699148 28.396875 \n\" style=\"fill:none;stroke:#b0b0b0;stroke-linecap:square;stroke-width:0.8;\"/>\n     </g>\n     <g id=\"line2d_322\">\n      <g>\n       <use style=\"stroke:#000000;stroke-width:0.8;\" x=\"274.699148\" xlink:href=\"#m3e725a0727\" y=\"245.836875\"/>\n      </g>\n     </g>\n     <g id=\"text_161\">\n      <!-- 4 -->\n      <g transform=\"translate(277.458523 259.199375)rotate(-90)scale(0.1 -0.1)\">\n       <defs>\n        <path d=\"M 37.796875 64.3125 \nL 12.890625 25.390625 \nL 37.796875 25.390625 \nz\nM 35.203125 72.90625 \nL 47.609375 72.90625 \nL 47.609375 25.390625 \nL 58.015625 25.390625 \nL 58.015625 17.1875 \nL 47.609375 17.1875 \nL 47.609375 0 \nL 37.796875 0 \nL 37.796875 17.1875 \nL 4.890625 17.1875 \nL 4.890625 26.703125 \nz\n\" id=\"DejaVuSans-52\"/>\n       </defs>\n       <use xlink:href=\"#DejaVuSans-52\"/>\n      </g>\n     </g>\n    </g>\n    <g id=\"xtick_162\">\n     <g id=\"line2d_323\">\n      <path clip-path=\"url(#pff55622139)\" d=\"M 274.699148 245.836875 \nL 274.699148 28.396875 \n\" style=\"fill:none;stroke:#b0b0b0;stroke-linecap:square;stroke-width:0.8;\"/>\n     </g>\n     <g id=\"line2d_324\">\n      <g>\n       <use style=\"stroke:#000000;stroke-width:0.8;\" x=\"274.699148\" xlink:href=\"#m3e725a0727\" y=\"245.836875\"/>\n      </g>\n     </g>\n     <g id=\"text_162\">\n      <!-- 4 -->\n      <g transform=\"translate(277.458523 259.199375)rotate(-90)scale(0.1 -0.1)\">\n       <use xlink:href=\"#DejaVuSans-52\"/>\n      </g>\n     </g>\n    </g>\n    <g id=\"xtick_163\">\n     <g id=\"line2d_325\">\n      <path clip-path=\"url(#pff55622139)\" d=\"M 274.699148 245.836875 \nL 274.699148 28.396875 \n\" style=\"fill:none;stroke:#b0b0b0;stroke-linecap:square;stroke-width:0.8;\"/>\n     </g>\n     <g id=\"line2d_326\">\n      <g>\n       <use style=\"stroke:#000000;stroke-width:0.8;\" x=\"274.699148\" xlink:href=\"#m3e725a0727\" y=\"245.836875\"/>\n      </g>\n     </g>\n     <g id=\"text_163\">\n      <!-- 4 -->\n      <g transform=\"translate(277.458523 259.199375)rotate(-90)scale(0.1 -0.1)\">\n       <use xlink:href=\"#DejaVuSans-52\"/>\n      </g>\n     </g>\n    </g>\n    <g id=\"xtick_164\">\n     <g id=\"line2d_327\">\n      <path clip-path=\"url(#pff55622139)\" d=\"M 274.699148 245.836875 \nL 274.699148 28.396875 \n\" style=\"fill:none;stroke:#b0b0b0;stroke-linecap:square;stroke-width:0.8;\"/>\n     </g>\n     <g id=\"line2d_328\">\n      <g>\n       <use style=\"stroke:#000000;stroke-width:0.8;\" x=\"274.699148\" xlink:href=\"#m3e725a0727\" y=\"245.836875\"/>\n      </g>\n     </g>\n     <g id=\"text_164\">\n      <!-- 4 -->\n      <g transform=\"translate(277.458523 259.199375)rotate(-90)scale(0.1 -0.1)\">\n       <use xlink:href=\"#DejaVuSans-52\"/>\n      </g>\n     </g>\n    </g>\n    <g id=\"xtick_165\">\n     <g id=\"line2d_329\">\n      <path clip-path=\"url(#pff55622139)\" d=\"M 274.699148 245.836875 \nL 274.699148 28.396875 \n\" style=\"fill:none;stroke:#b0b0b0;stroke-linecap:square;stroke-width:0.8;\"/>\n     </g>\n     <g id=\"line2d_330\">\n      <g>\n       <use style=\"stroke:#000000;stroke-width:0.8;\" x=\"274.699148\" xlink:href=\"#m3e725a0727\" y=\"245.836875\"/>\n      </g>\n     </g>\n     <g id=\"text_165\">\n      <!-- 4 -->\n      <g transform=\"translate(277.458523 259.199375)rotate(-90)scale(0.1 -0.1)\">\n       <use xlink:href=\"#DejaVuSans-52\"/>\n      </g>\n     </g>\n    </g>\n    <g id=\"xtick_166\">\n     <g id=\"line2d_331\">\n      <path clip-path=\"url(#pff55622139)\" d=\"M 274.699148 245.836875 \nL 274.699148 28.396875 \n\" style=\"fill:none;stroke:#b0b0b0;stroke-linecap:square;stroke-width:0.8;\"/>\n     </g>\n     <g id=\"line2d_332\">\n      <g>\n       <use style=\"stroke:#000000;stroke-width:0.8;\" x=\"274.699148\" xlink:href=\"#m3e725a0727\" y=\"245.836875\"/>\n      </g>\n     </g>\n     <g id=\"text_166\">\n      <!-- 4 -->\n      <g transform=\"translate(277.458523 259.199375)rotate(-90)scale(0.1 -0.1)\">\n       <use xlink:href=\"#DejaVuSans-52\"/>\n      </g>\n     </g>\n    </g>\n    <g id=\"xtick_167\">\n     <g id=\"line2d_333\">\n      <path clip-path=\"url(#pff55622139)\" d=\"M 274.699148 245.836875 \nL 274.699148 28.396875 \n\" style=\"fill:none;stroke:#b0b0b0;stroke-linecap:square;stroke-width:0.8;\"/>\n     </g>\n     <g id=\"line2d_334\">\n      <g>\n       <use style=\"stroke:#000000;stroke-width:0.8;\" x=\"274.699148\" xlink:href=\"#m3e725a0727\" y=\"245.836875\"/>\n      </g>\n     </g>\n     <g id=\"text_167\">\n      <!-- 4 -->\n      <g transform=\"translate(277.458523 259.199375)rotate(-90)scale(0.1 -0.1)\">\n       <use xlink:href=\"#DejaVuSans-52\"/>\n      </g>\n     </g>\n    </g>\n    <g id=\"xtick_168\">\n     <g id=\"line2d_335\">\n      <path clip-path=\"url(#pff55622139)\" d=\"M 274.699148 245.836875 \nL 274.699148 28.396875 \n\" style=\"fill:none;stroke:#b0b0b0;stroke-linecap:square;stroke-width:0.8;\"/>\n     </g>\n     <g id=\"line2d_336\">\n      <g>\n       <use style=\"stroke:#000000;stroke-width:0.8;\" x=\"274.699148\" xlink:href=\"#m3e725a0727\" y=\"245.836875\"/>\n      </g>\n     </g>\n     <g id=\"text_168\">\n      <!-- 4 -->\n      <g transform=\"translate(277.458523 259.199375)rotate(-90)scale(0.1 -0.1)\">\n       <use xlink:href=\"#DejaVuSans-52\"/>\n      </g>\n     </g>\n    </g>\n    <g id=\"xtick_169\">\n     <g id=\"line2d_337\">\n      <path clip-path=\"url(#pff55622139)\" d=\"M 274.699148 245.836875 \nL 274.699148 28.396875 \n\" style=\"fill:none;stroke:#b0b0b0;stroke-linecap:square;stroke-width:0.8;\"/>\n     </g>\n     <g id=\"line2d_338\">\n      <g>\n       <use style=\"stroke:#000000;stroke-width:0.8;\" x=\"274.699148\" xlink:href=\"#m3e725a0727\" y=\"245.836875\"/>\n      </g>\n     </g>\n     <g id=\"text_169\">\n      <!-- 4 -->\n      <g transform=\"translate(277.458523 259.199375)rotate(-90)scale(0.1 -0.1)\">\n       <use xlink:href=\"#DejaVuSans-52\"/>\n      </g>\n     </g>\n    </g>\n    <g id=\"xtick_170\">\n     <g id=\"line2d_339\">\n      <path clip-path=\"url(#pff55622139)\" d=\"M 274.699148 245.836875 \nL 274.699148 28.396875 \n\" style=\"fill:none;stroke:#b0b0b0;stroke-linecap:square;stroke-width:0.8;\"/>\n     </g>\n     <g id=\"line2d_340\">\n      <g>\n       <use style=\"stroke:#000000;stroke-width:0.8;\" x=\"274.699148\" xlink:href=\"#m3e725a0727\" y=\"245.836875\"/>\n      </g>\n     </g>\n     <g id=\"text_170\">\n      <!-- 4 -->\n      <g transform=\"translate(277.458523 259.199375)rotate(-90)scale(0.1 -0.1)\">\n       <use xlink:href=\"#DejaVuSans-52\"/>\n      </g>\n     </g>\n    </g>\n    <g id=\"xtick_171\">\n     <g id=\"line2d_341\">\n      <path clip-path=\"url(#pff55622139)\" d=\"M 274.699148 245.836875 \nL 274.699148 28.396875 \n\" style=\"fill:none;stroke:#b0b0b0;stroke-linecap:square;stroke-width:0.8;\"/>\n     </g>\n     <g id=\"line2d_342\">\n      <g>\n       <use style=\"stroke:#000000;stroke-width:0.8;\" x=\"274.699148\" xlink:href=\"#m3e725a0727\" y=\"245.836875\"/>\n      </g>\n     </g>\n     <g id=\"text_171\">\n      <!-- 4 -->\n      <g transform=\"translate(277.458523 259.199375)rotate(-90)scale(0.1 -0.1)\">\n       <use xlink:href=\"#DejaVuSans-52\"/>\n      </g>\n     </g>\n    </g>\n    <g id=\"xtick_172\">\n     <g id=\"line2d_343\">\n      <path clip-path=\"url(#pff55622139)\" d=\"M 274.699148 245.836875 \nL 274.699148 28.396875 \n\" style=\"fill:none;stroke:#b0b0b0;stroke-linecap:square;stroke-width:0.8;\"/>\n     </g>\n     <g id=\"line2d_344\">\n      <g>\n       <use style=\"stroke:#000000;stroke-width:0.8;\" x=\"274.699148\" xlink:href=\"#m3e725a0727\" y=\"245.836875\"/>\n      </g>\n     </g>\n     <g id=\"text_172\">\n      <!-- 4 -->\n      <g transform=\"translate(277.458523 259.199375)rotate(-90)scale(0.1 -0.1)\">\n       <use xlink:href=\"#DejaVuSans-52\"/>\n      </g>\n     </g>\n    </g>\n    <g id=\"xtick_173\">\n     <g id=\"line2d_345\">\n      <path clip-path=\"url(#pff55622139)\" d=\"M 274.699148 245.836875 \nL 274.699148 28.396875 \n\" style=\"fill:none;stroke:#b0b0b0;stroke-linecap:square;stroke-width:0.8;\"/>\n     </g>\n     <g id=\"line2d_346\">\n      <g>\n       <use style=\"stroke:#000000;stroke-width:0.8;\" x=\"274.699148\" xlink:href=\"#m3e725a0727\" y=\"245.836875\"/>\n      </g>\n     </g>\n     <g id=\"text_173\">\n      <!-- 4 -->\n      <g transform=\"translate(277.458523 259.199375)rotate(-90)scale(0.1 -0.1)\">\n       <use xlink:href=\"#DejaVuSans-52\"/>\n      </g>\n     </g>\n    </g>\n    <g id=\"xtick_174\">\n     <g id=\"line2d_347\">\n      <path clip-path=\"url(#pff55622139)\" d=\"M 274.699148 245.836875 \nL 274.699148 28.396875 \n\" style=\"fill:none;stroke:#b0b0b0;stroke-linecap:square;stroke-width:0.8;\"/>\n     </g>\n     <g id=\"line2d_348\">\n      <g>\n       <use style=\"stroke:#000000;stroke-width:0.8;\" x=\"274.699148\" xlink:href=\"#m3e725a0727\" y=\"245.836875\"/>\n      </g>\n     </g>\n     <g id=\"text_174\">\n      <!-- 4 -->\n      <g transform=\"translate(277.458523 259.199375)rotate(-90)scale(0.1 -0.1)\">\n       <use xlink:href=\"#DejaVuSans-52\"/>\n      </g>\n     </g>\n    </g>\n    <g id=\"xtick_175\">\n     <g id=\"line2d_349\">\n      <path clip-path=\"url(#pff55622139)\" d=\"M 274.699148 245.836875 \nL 274.699148 28.396875 \n\" style=\"fill:none;stroke:#b0b0b0;stroke-linecap:square;stroke-width:0.8;\"/>\n     </g>\n     <g id=\"line2d_350\">\n      <g>\n       <use style=\"stroke:#000000;stroke-width:0.8;\" x=\"274.699148\" xlink:href=\"#m3e725a0727\" y=\"245.836875\"/>\n      </g>\n     </g>\n     <g id=\"text_175\">\n      <!-- 4 -->\n      <g transform=\"translate(277.458523 259.199375)rotate(-90)scale(0.1 -0.1)\">\n       <use xlink:href=\"#DejaVuSans-52\"/>\n      </g>\n     </g>\n    </g>\n    <g id=\"xtick_176\">\n     <g id=\"line2d_351\">\n      <path clip-path=\"url(#pff55622139)\" d=\"M 274.699148 245.836875 \nL 274.699148 28.396875 \n\" style=\"fill:none;stroke:#b0b0b0;stroke-linecap:square;stroke-width:0.8;\"/>\n     </g>\n     <g id=\"line2d_352\">\n      <g>\n       <use style=\"stroke:#000000;stroke-width:0.8;\" x=\"274.699148\" xlink:href=\"#m3e725a0727\" y=\"245.836875\"/>\n      </g>\n     </g>\n     <g id=\"text_176\">\n      <!-- 4 -->\n      <g transform=\"translate(277.458523 259.199375)rotate(-90)scale(0.1 -0.1)\">\n       <use xlink:href=\"#DejaVuSans-52\"/>\n      </g>\n     </g>\n    </g>\n    <g id=\"xtick_177\">\n     <g id=\"line2d_353\">\n      <path clip-path=\"url(#pff55622139)\" d=\"M 274.699148 245.836875 \nL 274.699148 28.396875 \n\" style=\"fill:none;stroke:#b0b0b0;stroke-linecap:square;stroke-width:0.8;\"/>\n     </g>\n     <g id=\"line2d_354\">\n      <g>\n       <use style=\"stroke:#000000;stroke-width:0.8;\" x=\"274.699148\" xlink:href=\"#m3e725a0727\" y=\"245.836875\"/>\n      </g>\n     </g>\n     <g id=\"text_177\">\n      <!-- 4 -->\n      <g transform=\"translate(277.458523 259.199375)rotate(-90)scale(0.1 -0.1)\">\n       <use xlink:href=\"#DejaVuSans-52\"/>\n      </g>\n     </g>\n    </g>\n    <g id=\"xtick_178\">\n     <g id=\"line2d_355\">\n      <path clip-path=\"url(#pff55622139)\" d=\"M 274.699148 245.836875 \nL 274.699148 28.396875 \n\" style=\"fill:none;stroke:#b0b0b0;stroke-linecap:square;stroke-width:0.8;\"/>\n     </g>\n     <g id=\"line2d_356\">\n      <g>\n       <use style=\"stroke:#000000;stroke-width:0.8;\" x=\"274.699148\" xlink:href=\"#m3e725a0727\" y=\"245.836875\"/>\n      </g>\n     </g>\n     <g id=\"text_178\">\n      <!-- 4 -->\n      <g transform=\"translate(277.458523 259.199375)rotate(-90)scale(0.1 -0.1)\">\n       <use xlink:href=\"#DejaVuSans-52\"/>\n      </g>\n     </g>\n    </g>\n    <g id=\"xtick_179\">\n     <g id=\"line2d_357\">\n      <path clip-path=\"url(#pff55622139)\" d=\"M 274.699148 245.836875 \nL 274.699148 28.396875 \n\" style=\"fill:none;stroke:#b0b0b0;stroke-linecap:square;stroke-width:0.8;\"/>\n     </g>\n     <g id=\"line2d_358\">\n      <g>\n       <use style=\"stroke:#000000;stroke-width:0.8;\" x=\"274.699148\" xlink:href=\"#m3e725a0727\" y=\"245.836875\"/>\n      </g>\n     </g>\n     <g id=\"text_179\">\n      <!-- 4 -->\n      <g transform=\"translate(277.458523 259.199375)rotate(-90)scale(0.1 -0.1)\">\n       <use xlink:href=\"#DejaVuSans-52\"/>\n      </g>\n     </g>\n    </g>\n    <g id=\"xtick_180\">\n     <g id=\"line2d_359\">\n      <path clip-path=\"url(#pff55622139)\" d=\"M 274.699148 245.836875 \nL 274.699148 28.396875 \n\" style=\"fill:none;stroke:#b0b0b0;stroke-linecap:square;stroke-width:0.8;\"/>\n     </g>\n     <g id=\"line2d_360\">\n      <g>\n       <use style=\"stroke:#000000;stroke-width:0.8;\" x=\"274.699148\" xlink:href=\"#m3e725a0727\" y=\"245.836875\"/>\n      </g>\n     </g>\n     <g id=\"text_180\">\n      <!-- 4 -->\n      <g transform=\"translate(277.458523 259.199375)rotate(-90)scale(0.1 -0.1)\">\n       <use xlink:href=\"#DejaVuSans-52\"/>\n      </g>\n     </g>\n    </g>\n    <g id=\"xtick_181\">\n     <g id=\"line2d_361\">\n      <path clip-path=\"url(#pff55622139)\" d=\"M 274.699148 245.836875 \nL 274.699148 28.396875 \n\" style=\"fill:none;stroke:#b0b0b0;stroke-linecap:square;stroke-width:0.8;\"/>\n     </g>\n     <g id=\"line2d_362\">\n      <g>\n       <use style=\"stroke:#000000;stroke-width:0.8;\" x=\"274.699148\" xlink:href=\"#m3e725a0727\" y=\"245.836875\"/>\n      </g>\n     </g>\n     <g id=\"text_181\">\n      <!-- 4 -->\n      <g transform=\"translate(277.458523 259.199375)rotate(-90)scale(0.1 -0.1)\">\n       <use xlink:href=\"#DejaVuSans-52\"/>\n      </g>\n     </g>\n    </g>\n    <g id=\"xtick_182\">\n     <g id=\"line2d_363\">\n      <path clip-path=\"url(#pff55622139)\" d=\"M 274.699148 245.836875 \nL 274.699148 28.396875 \n\" style=\"fill:none;stroke:#b0b0b0;stroke-linecap:square;stroke-width:0.8;\"/>\n     </g>\n     <g id=\"line2d_364\">\n      <g>\n       <use style=\"stroke:#000000;stroke-width:0.8;\" x=\"274.699148\" xlink:href=\"#m3e725a0727\" y=\"245.836875\"/>\n      </g>\n     </g>\n     <g id=\"text_182\">\n      <!-- 4 -->\n      <g transform=\"translate(277.458523 259.199375)rotate(-90)scale(0.1 -0.1)\">\n       <use xlink:href=\"#DejaVuSans-52\"/>\n      </g>\n     </g>\n    </g>\n    <g id=\"xtick_183\">\n     <g id=\"line2d_365\">\n      <path clip-path=\"url(#pff55622139)\" d=\"M 274.699148 245.836875 \nL 274.699148 28.396875 \n\" style=\"fill:none;stroke:#b0b0b0;stroke-linecap:square;stroke-width:0.8;\"/>\n     </g>\n     <g id=\"line2d_366\">\n      <g>\n       <use style=\"stroke:#000000;stroke-width:0.8;\" x=\"274.699148\" xlink:href=\"#m3e725a0727\" y=\"245.836875\"/>\n      </g>\n     </g>\n     <g id=\"text_183\">\n      <!-- 4 -->\n      <g transform=\"translate(277.458523 259.199375)rotate(-90)scale(0.1 -0.1)\">\n       <use xlink:href=\"#DejaVuSans-52\"/>\n      </g>\n     </g>\n    </g>\n    <g id=\"xtick_184\">\n     <g id=\"line2d_367\">\n      <path clip-path=\"url(#pff55622139)\" d=\"M 274.699148 245.836875 \nL 274.699148 28.396875 \n\" style=\"fill:none;stroke:#b0b0b0;stroke-linecap:square;stroke-width:0.8;\"/>\n     </g>\n     <g id=\"line2d_368\">\n      <g>\n       <use style=\"stroke:#000000;stroke-width:0.8;\" x=\"274.699148\" xlink:href=\"#m3e725a0727\" y=\"245.836875\"/>\n      </g>\n     </g>\n     <g id=\"text_184\">\n      <!-- 4 -->\n      <g transform=\"translate(277.458523 259.199375)rotate(-90)scale(0.1 -0.1)\">\n       <use xlink:href=\"#DejaVuSans-52\"/>\n      </g>\n     </g>\n    </g>\n    <g id=\"xtick_185\">\n     <g id=\"line2d_369\">\n      <path clip-path=\"url(#pff55622139)\" d=\"M 274.699148 245.836875 \nL 274.699148 28.396875 \n\" style=\"fill:none;stroke:#b0b0b0;stroke-linecap:square;stroke-width:0.8;\"/>\n     </g>\n     <g id=\"line2d_370\">\n      <g>\n       <use style=\"stroke:#000000;stroke-width:0.8;\" x=\"274.699148\" xlink:href=\"#m3e725a0727\" y=\"245.836875\"/>\n      </g>\n     </g>\n     <g id=\"text_185\">\n      <!-- 4 -->\n      <g transform=\"translate(277.458523 259.199375)rotate(-90)scale(0.1 -0.1)\">\n       <use xlink:href=\"#DejaVuSans-52\"/>\n      </g>\n     </g>\n    </g>\n    <g id=\"xtick_186\">\n     <g id=\"line2d_371\">\n      <path clip-path=\"url(#pff55622139)\" d=\"M 274.699148 245.836875 \nL 274.699148 28.396875 \n\" style=\"fill:none;stroke:#b0b0b0;stroke-linecap:square;stroke-width:0.8;\"/>\n     </g>\n     <g id=\"line2d_372\">\n      <g>\n       <use style=\"stroke:#000000;stroke-width:0.8;\" x=\"274.699148\" xlink:href=\"#m3e725a0727\" y=\"245.836875\"/>\n      </g>\n     </g>\n     <g id=\"text_186\">\n      <!-- 4 -->\n      <g transform=\"translate(277.458523 259.199375)rotate(-90)scale(0.1 -0.1)\">\n       <use xlink:href=\"#DejaVuSans-52\"/>\n      </g>\n     </g>\n    </g>\n    <g id=\"xtick_187\">\n     <g id=\"line2d_373\">\n      <path clip-path=\"url(#pff55622139)\" d=\"M 274.699148 245.836875 \nL 274.699148 28.396875 \n\" style=\"fill:none;stroke:#b0b0b0;stroke-linecap:square;stroke-width:0.8;\"/>\n     </g>\n     <g id=\"line2d_374\">\n      <g>\n       <use style=\"stroke:#000000;stroke-width:0.8;\" x=\"274.699148\" xlink:href=\"#m3e725a0727\" y=\"245.836875\"/>\n      </g>\n     </g>\n     <g id=\"text_187\">\n      <!-- 4 -->\n      <g transform=\"translate(277.458523 259.199375)rotate(-90)scale(0.1 -0.1)\">\n       <use xlink:href=\"#DejaVuSans-52\"/>\n      </g>\n     </g>\n    </g>\n    <g id=\"xtick_188\">\n     <g id=\"line2d_375\">\n      <path clip-path=\"url(#pff55622139)\" d=\"M 274.699148 245.836875 \nL 274.699148 28.396875 \n\" style=\"fill:none;stroke:#b0b0b0;stroke-linecap:square;stroke-width:0.8;\"/>\n     </g>\n     <g id=\"line2d_376\">\n      <g>\n       <use style=\"stroke:#000000;stroke-width:0.8;\" x=\"274.699148\" xlink:href=\"#m3e725a0727\" y=\"245.836875\"/>\n      </g>\n     </g>\n     <g id=\"text_188\">\n      <!-- 4 -->\n      <g transform=\"translate(277.458523 259.199375)rotate(-90)scale(0.1 -0.1)\">\n       <use xlink:href=\"#DejaVuSans-52\"/>\n      </g>\n     </g>\n    </g>\n    <g id=\"xtick_189\">\n     <g id=\"line2d_377\">\n      <path clip-path=\"url(#pff55622139)\" d=\"M 274.699148 245.836875 \nL 274.699148 28.396875 \n\" style=\"fill:none;stroke:#b0b0b0;stroke-linecap:square;stroke-width:0.8;\"/>\n     </g>\n     <g id=\"line2d_378\">\n      <g>\n       <use style=\"stroke:#000000;stroke-width:0.8;\" x=\"274.699148\" xlink:href=\"#m3e725a0727\" y=\"245.836875\"/>\n      </g>\n     </g>\n     <g id=\"text_189\">\n      <!-- 4 -->\n      <g transform=\"translate(277.458523 259.199375)rotate(-90)scale(0.1 -0.1)\">\n       <use xlink:href=\"#DejaVuSans-52\"/>\n      </g>\n     </g>\n    </g>\n    <g id=\"xtick_190\">\n     <g id=\"line2d_379\">\n      <path clip-path=\"url(#pff55622139)\" d=\"M 274.699148 245.836875 \nL 274.699148 28.396875 \n\" style=\"fill:none;stroke:#b0b0b0;stroke-linecap:square;stroke-width:0.8;\"/>\n     </g>\n     <g id=\"line2d_380\">\n      <g>\n       <use style=\"stroke:#000000;stroke-width:0.8;\" x=\"274.699148\" xlink:href=\"#m3e725a0727\" y=\"245.836875\"/>\n      </g>\n     </g>\n     <g id=\"text_190\">\n      <!-- 4 -->\n      <g transform=\"translate(277.458523 259.199375)rotate(-90)scale(0.1 -0.1)\">\n       <use xlink:href=\"#DejaVuSans-52\"/>\n      </g>\n     </g>\n    </g>\n    <g id=\"xtick_191\">\n     <g id=\"line2d_381\">\n      <path clip-path=\"url(#pff55622139)\" d=\"M 274.699148 245.836875 \nL 274.699148 28.396875 \n\" style=\"fill:none;stroke:#b0b0b0;stroke-linecap:square;stroke-width:0.8;\"/>\n     </g>\n     <g id=\"line2d_382\">\n      <g>\n       <use style=\"stroke:#000000;stroke-width:0.8;\" x=\"274.699148\" xlink:href=\"#m3e725a0727\" y=\"245.836875\"/>\n      </g>\n     </g>\n     <g id=\"text_191\">\n      <!-- 4 -->\n      <g transform=\"translate(277.458523 259.199375)rotate(-90)scale(0.1 -0.1)\">\n       <use xlink:href=\"#DejaVuSans-52\"/>\n      </g>\n     </g>\n    </g>\n    <g id=\"xtick_192\">\n     <g id=\"line2d_383\">\n      <path clip-path=\"url(#pff55622139)\" d=\"M 274.699148 245.836875 \nL 274.699148 28.396875 \n\" style=\"fill:none;stroke:#b0b0b0;stroke-linecap:square;stroke-width:0.8;\"/>\n     </g>\n     <g id=\"line2d_384\">\n      <g>\n       <use style=\"stroke:#000000;stroke-width:0.8;\" x=\"274.699148\" xlink:href=\"#m3e725a0727\" y=\"245.836875\"/>\n      </g>\n     </g>\n     <g id=\"text_192\">\n      <!-- 4 -->\n      <g transform=\"translate(277.458523 259.199375)rotate(-90)scale(0.1 -0.1)\">\n       <use xlink:href=\"#DejaVuSans-52\"/>\n      </g>\n     </g>\n    </g>\n    <g id=\"xtick_193\">\n     <g id=\"line2d_385\">\n      <path clip-path=\"url(#pff55622139)\" d=\"M 325.42642 245.836875 \nL 325.42642 28.396875 \n\" style=\"fill:none;stroke:#b0b0b0;stroke-linecap:square;stroke-width:0.8;\"/>\n     </g>\n     <g id=\"line2d_386\">\n      <g>\n       <use style=\"stroke:#000000;stroke-width:0.8;\" x=\"325.42642\" xlink:href=\"#m3e725a0727\" y=\"245.836875\"/>\n      </g>\n     </g>\n     <g id=\"text_193\">\n      <!-- 5 -->\n      <g transform=\"translate(328.185795 259.199375)rotate(-90)scale(0.1 -0.1)\">\n       <defs>\n        <path d=\"M 10.796875 72.90625 \nL 49.515625 72.90625 \nL 49.515625 64.59375 \nL 19.828125 64.59375 \nL 19.828125 46.734375 \nQ 21.96875 47.46875 24.109375 47.828125 \nQ 26.265625 48.1875 28.421875 48.1875 \nQ 40.625 48.1875 47.75 41.5 \nQ 54.890625 34.8125 54.890625 23.390625 \nQ 54.890625 11.625 47.5625 5.09375 \nQ 40.234375 -1.421875 26.90625 -1.421875 \nQ 22.3125 -1.421875 17.546875 -0.640625 \nQ 12.796875 0.140625 7.71875 1.703125 \nL 7.71875 11.625 \nQ 12.109375 9.234375 16.796875 8.0625 \nQ 21.484375 6.890625 26.703125 6.890625 \nQ 35.15625 6.890625 40.078125 11.328125 \nQ 45.015625 15.765625 45.015625 23.390625 \nQ 45.015625 31 40.078125 35.4375 \nQ 35.15625 39.890625 26.703125 39.890625 \nQ 22.75 39.890625 18.8125 39.015625 \nQ 14.890625 38.140625 10.796875 36.28125 \nz\n\" id=\"DejaVuSans-53\"/>\n       </defs>\n       <use xlink:href=\"#DejaVuSans-53\"/>\n      </g>\n     </g>\n    </g>\n    <g id=\"xtick_194\">\n     <g id=\"line2d_387\">\n      <path clip-path=\"url(#pff55622139)\" d=\"M 325.42642 245.836875 \nL 325.42642 28.396875 \n\" style=\"fill:none;stroke:#b0b0b0;stroke-linecap:square;stroke-width:0.8;\"/>\n     </g>\n     <g id=\"line2d_388\">\n      <g>\n       <use style=\"stroke:#000000;stroke-width:0.8;\" x=\"325.42642\" xlink:href=\"#m3e725a0727\" y=\"245.836875\"/>\n      </g>\n     </g>\n     <g id=\"text_194\">\n      <!-- 5 -->\n      <g transform=\"translate(328.185795 259.199375)rotate(-90)scale(0.1 -0.1)\">\n       <use xlink:href=\"#DejaVuSans-53\"/>\n      </g>\n     </g>\n    </g>\n    <g id=\"xtick_195\">\n     <g id=\"line2d_389\">\n      <path clip-path=\"url(#pff55622139)\" d=\"M 325.42642 245.836875 \nL 325.42642 28.396875 \n\" style=\"fill:none;stroke:#b0b0b0;stroke-linecap:square;stroke-width:0.8;\"/>\n     </g>\n     <g id=\"line2d_390\">\n      <g>\n       <use style=\"stroke:#000000;stroke-width:0.8;\" x=\"325.42642\" xlink:href=\"#m3e725a0727\" y=\"245.836875\"/>\n      </g>\n     </g>\n     <g id=\"text_195\">\n      <!-- 5 -->\n      <g transform=\"translate(328.185795 259.199375)rotate(-90)scale(0.1 -0.1)\">\n       <use xlink:href=\"#DejaVuSans-53\"/>\n      </g>\n     </g>\n    </g>\n    <g id=\"xtick_196\">\n     <g id=\"line2d_391\">\n      <path clip-path=\"url(#pff55622139)\" d=\"M 325.42642 245.836875 \nL 325.42642 28.396875 \n\" style=\"fill:none;stroke:#b0b0b0;stroke-linecap:square;stroke-width:0.8;\"/>\n     </g>\n     <g id=\"line2d_392\">\n      <g>\n       <use style=\"stroke:#000000;stroke-width:0.8;\" x=\"325.42642\" xlink:href=\"#m3e725a0727\" y=\"245.836875\"/>\n      </g>\n     </g>\n     <g id=\"text_196\">\n      <!-- 5 -->\n      <g transform=\"translate(328.185795 259.199375)rotate(-90)scale(0.1 -0.1)\">\n       <use xlink:href=\"#DejaVuSans-53\"/>\n      </g>\n     </g>\n    </g>\n    <g id=\"xtick_197\">\n     <g id=\"line2d_393\">\n      <path clip-path=\"url(#pff55622139)\" d=\"M 325.42642 245.836875 \nL 325.42642 28.396875 \n\" style=\"fill:none;stroke:#b0b0b0;stroke-linecap:square;stroke-width:0.8;\"/>\n     </g>\n     <g id=\"line2d_394\">\n      <g>\n       <use style=\"stroke:#000000;stroke-width:0.8;\" x=\"325.42642\" xlink:href=\"#m3e725a0727\" y=\"245.836875\"/>\n      </g>\n     </g>\n     <g id=\"text_197\">\n      <!-- 5 -->\n      <g transform=\"translate(328.185795 259.199375)rotate(-90)scale(0.1 -0.1)\">\n       <use xlink:href=\"#DejaVuSans-53\"/>\n      </g>\n     </g>\n    </g>\n    <g id=\"xtick_198\">\n     <g id=\"line2d_395\">\n      <path clip-path=\"url(#pff55622139)\" d=\"M 325.42642 245.836875 \nL 325.42642 28.396875 \n\" style=\"fill:none;stroke:#b0b0b0;stroke-linecap:square;stroke-width:0.8;\"/>\n     </g>\n     <g id=\"line2d_396\">\n      <g>\n       <use style=\"stroke:#000000;stroke-width:0.8;\" x=\"325.42642\" xlink:href=\"#m3e725a0727\" y=\"245.836875\"/>\n      </g>\n     </g>\n     <g id=\"text_198\">\n      <!-- 5 -->\n      <g transform=\"translate(328.185795 259.199375)rotate(-90)scale(0.1 -0.1)\">\n       <use xlink:href=\"#DejaVuSans-53\"/>\n      </g>\n     </g>\n    </g>\n    <g id=\"xtick_199\">\n     <g id=\"line2d_397\">\n      <path clip-path=\"url(#pff55622139)\" d=\"M 325.42642 245.836875 \nL 325.42642 28.396875 \n\" style=\"fill:none;stroke:#b0b0b0;stroke-linecap:square;stroke-width:0.8;\"/>\n     </g>\n     <g id=\"line2d_398\">\n      <g>\n       <use style=\"stroke:#000000;stroke-width:0.8;\" x=\"325.42642\" xlink:href=\"#m3e725a0727\" y=\"245.836875\"/>\n      </g>\n     </g>\n     <g id=\"text_199\">\n      <!-- 5 -->\n      <g transform=\"translate(328.185795 259.199375)rotate(-90)scale(0.1 -0.1)\">\n       <use xlink:href=\"#DejaVuSans-53\"/>\n      </g>\n     </g>\n    </g>\n    <g id=\"xtick_200\">\n     <g id=\"line2d_399\">\n      <path clip-path=\"url(#pff55622139)\" d=\"M 325.42642 245.836875 \nL 325.42642 28.396875 \n\" style=\"fill:none;stroke:#b0b0b0;stroke-linecap:square;stroke-width:0.8;\"/>\n     </g>\n     <g id=\"line2d_400\">\n      <g>\n       <use style=\"stroke:#000000;stroke-width:0.8;\" x=\"325.42642\" xlink:href=\"#m3e725a0727\" y=\"245.836875\"/>\n      </g>\n     </g>\n     <g id=\"text_200\">\n      <!-- 5 -->\n      <g transform=\"translate(328.185795 259.199375)rotate(-90)scale(0.1 -0.1)\">\n       <use xlink:href=\"#DejaVuSans-53\"/>\n      </g>\n     </g>\n    </g>\n    <g id=\"xtick_201\">\n     <g id=\"line2d_401\">\n      <path clip-path=\"url(#pff55622139)\" d=\"M 325.42642 245.836875 \nL 325.42642 28.396875 \n\" style=\"fill:none;stroke:#b0b0b0;stroke-linecap:square;stroke-width:0.8;\"/>\n     </g>\n     <g id=\"line2d_402\">\n      <g>\n       <use style=\"stroke:#000000;stroke-width:0.8;\" x=\"325.42642\" xlink:href=\"#m3e725a0727\" y=\"245.836875\"/>\n      </g>\n     </g>\n     <g id=\"text_201\">\n      <!-- 5 -->\n      <g transform=\"translate(328.185795 259.199375)rotate(-90)scale(0.1 -0.1)\">\n       <use xlink:href=\"#DejaVuSans-53\"/>\n      </g>\n     </g>\n    </g>\n    <g id=\"xtick_202\">\n     <g id=\"line2d_403\">\n      <path clip-path=\"url(#pff55622139)\" d=\"M 325.42642 245.836875 \nL 325.42642 28.396875 \n\" style=\"fill:none;stroke:#b0b0b0;stroke-linecap:square;stroke-width:0.8;\"/>\n     </g>\n     <g id=\"line2d_404\">\n      <g>\n       <use style=\"stroke:#000000;stroke-width:0.8;\" x=\"325.42642\" xlink:href=\"#m3e725a0727\" y=\"245.836875\"/>\n      </g>\n     </g>\n     <g id=\"text_202\">\n      <!-- 5 -->\n      <g transform=\"translate(328.185795 259.199375)rotate(-90)scale(0.1 -0.1)\">\n       <use xlink:href=\"#DejaVuSans-53\"/>\n      </g>\n     </g>\n    </g>\n    <g id=\"xtick_203\">\n     <g id=\"line2d_405\">\n      <path clip-path=\"url(#pff55622139)\" d=\"M 325.42642 245.836875 \nL 325.42642 28.396875 \n\" style=\"fill:none;stroke:#b0b0b0;stroke-linecap:square;stroke-width:0.8;\"/>\n     </g>\n     <g id=\"line2d_406\">\n      <g>\n       <use style=\"stroke:#000000;stroke-width:0.8;\" x=\"325.42642\" xlink:href=\"#m3e725a0727\" y=\"245.836875\"/>\n      </g>\n     </g>\n     <g id=\"text_203\">\n      <!-- 5 -->\n      <g transform=\"translate(328.185795 259.199375)rotate(-90)scale(0.1 -0.1)\">\n       <use xlink:href=\"#DejaVuSans-53\"/>\n      </g>\n     </g>\n    </g>\n    <g id=\"xtick_204\">\n     <g id=\"line2d_407\">\n      <path clip-path=\"url(#pff55622139)\" d=\"M 325.42642 245.836875 \nL 325.42642 28.396875 \n\" style=\"fill:none;stroke:#b0b0b0;stroke-linecap:square;stroke-width:0.8;\"/>\n     </g>\n     <g id=\"line2d_408\">\n      <g>\n       <use style=\"stroke:#000000;stroke-width:0.8;\" x=\"325.42642\" xlink:href=\"#m3e725a0727\" y=\"245.836875\"/>\n      </g>\n     </g>\n     <g id=\"text_204\">\n      <!-- 5 -->\n      <g transform=\"translate(328.185795 259.199375)rotate(-90)scale(0.1 -0.1)\">\n       <use xlink:href=\"#DejaVuSans-53\"/>\n      </g>\n     </g>\n    </g>\n    <g id=\"xtick_205\">\n     <g id=\"line2d_409\">\n      <path clip-path=\"url(#pff55622139)\" d=\"M 325.42642 245.836875 \nL 325.42642 28.396875 \n\" style=\"fill:none;stroke:#b0b0b0;stroke-linecap:square;stroke-width:0.8;\"/>\n     </g>\n     <g id=\"line2d_410\">\n      <g>\n       <use style=\"stroke:#000000;stroke-width:0.8;\" x=\"325.42642\" xlink:href=\"#m3e725a0727\" y=\"245.836875\"/>\n      </g>\n     </g>\n     <g id=\"text_205\">\n      <!-- 5 -->\n      <g transform=\"translate(328.185795 259.199375)rotate(-90)scale(0.1 -0.1)\">\n       <use xlink:href=\"#DejaVuSans-53\"/>\n      </g>\n     </g>\n    </g>\n    <g id=\"xtick_206\">\n     <g id=\"line2d_411\">\n      <path clip-path=\"url(#pff55622139)\" d=\"M 325.42642 245.836875 \nL 325.42642 28.396875 \n\" style=\"fill:none;stroke:#b0b0b0;stroke-linecap:square;stroke-width:0.8;\"/>\n     </g>\n     <g id=\"line2d_412\">\n      <g>\n       <use style=\"stroke:#000000;stroke-width:0.8;\" x=\"325.42642\" xlink:href=\"#m3e725a0727\" y=\"245.836875\"/>\n      </g>\n     </g>\n     <g id=\"text_206\">\n      <!-- 5 -->\n      <g transform=\"translate(328.185795 259.199375)rotate(-90)scale(0.1 -0.1)\">\n       <use xlink:href=\"#DejaVuSans-53\"/>\n      </g>\n     </g>\n    </g>\n    <g id=\"xtick_207\">\n     <g id=\"line2d_413\">\n      <path clip-path=\"url(#pff55622139)\" d=\"M 325.42642 245.836875 \nL 325.42642 28.396875 \n\" style=\"fill:none;stroke:#b0b0b0;stroke-linecap:square;stroke-width:0.8;\"/>\n     </g>\n     <g id=\"line2d_414\">\n      <g>\n       <use style=\"stroke:#000000;stroke-width:0.8;\" x=\"325.42642\" xlink:href=\"#m3e725a0727\" y=\"245.836875\"/>\n      </g>\n     </g>\n     <g id=\"text_207\">\n      <!-- 5 -->\n      <g transform=\"translate(328.185795 259.199375)rotate(-90)scale(0.1 -0.1)\">\n       <use xlink:href=\"#DejaVuSans-53\"/>\n      </g>\n     </g>\n    </g>\n    <g id=\"xtick_208\">\n     <g id=\"line2d_415\">\n      <path clip-path=\"url(#pff55622139)\" d=\"M 325.42642 245.836875 \nL 325.42642 28.396875 \n\" style=\"fill:none;stroke:#b0b0b0;stroke-linecap:square;stroke-width:0.8;\"/>\n     </g>\n     <g id=\"line2d_416\">\n      <g>\n       <use style=\"stroke:#000000;stroke-width:0.8;\" x=\"325.42642\" xlink:href=\"#m3e725a0727\" y=\"245.836875\"/>\n      </g>\n     </g>\n     <g id=\"text_208\">\n      <!-- 5 -->\n      <g transform=\"translate(328.185795 259.199375)rotate(-90)scale(0.1 -0.1)\">\n       <use xlink:href=\"#DejaVuSans-53\"/>\n      </g>\n     </g>\n    </g>\n    <g id=\"xtick_209\">\n     <g id=\"line2d_417\">\n      <path clip-path=\"url(#pff55622139)\" d=\"M 325.42642 245.836875 \nL 325.42642 28.396875 \n\" style=\"fill:none;stroke:#b0b0b0;stroke-linecap:square;stroke-width:0.8;\"/>\n     </g>\n     <g id=\"line2d_418\">\n      <g>\n       <use style=\"stroke:#000000;stroke-width:0.8;\" x=\"325.42642\" xlink:href=\"#m3e725a0727\" y=\"245.836875\"/>\n      </g>\n     </g>\n     <g id=\"text_209\">\n      <!-- 5 -->\n      <g transform=\"translate(328.185795 259.199375)rotate(-90)scale(0.1 -0.1)\">\n       <use xlink:href=\"#DejaVuSans-53\"/>\n      </g>\n     </g>\n    </g>\n    <g id=\"xtick_210\">\n     <g id=\"line2d_419\">\n      <path clip-path=\"url(#pff55622139)\" d=\"M 325.42642 245.836875 \nL 325.42642 28.396875 \n\" style=\"fill:none;stroke:#b0b0b0;stroke-linecap:square;stroke-width:0.8;\"/>\n     </g>\n     <g id=\"line2d_420\">\n      <g>\n       <use style=\"stroke:#000000;stroke-width:0.8;\" x=\"325.42642\" xlink:href=\"#m3e725a0727\" y=\"245.836875\"/>\n      </g>\n     </g>\n     <g id=\"text_210\">\n      <!-- 5 -->\n      <g transform=\"translate(328.185795 259.199375)rotate(-90)scale(0.1 -0.1)\">\n       <use xlink:href=\"#DejaVuSans-53\"/>\n      </g>\n     </g>\n    </g>\n    <g id=\"xtick_211\">\n     <g id=\"line2d_421\">\n      <path clip-path=\"url(#pff55622139)\" d=\"M 325.42642 245.836875 \nL 325.42642 28.396875 \n\" style=\"fill:none;stroke:#b0b0b0;stroke-linecap:square;stroke-width:0.8;\"/>\n     </g>\n     <g id=\"line2d_422\">\n      <g>\n       <use style=\"stroke:#000000;stroke-width:0.8;\" x=\"325.42642\" xlink:href=\"#m3e725a0727\" y=\"245.836875\"/>\n      </g>\n     </g>\n     <g id=\"text_211\">\n      <!-- 5 -->\n      <g transform=\"translate(328.185795 259.199375)rotate(-90)scale(0.1 -0.1)\">\n       <use xlink:href=\"#DejaVuSans-53\"/>\n      </g>\n     </g>\n    </g>\n    <g id=\"xtick_212\">\n     <g id=\"line2d_423\">\n      <path clip-path=\"url(#pff55622139)\" d=\"M 325.42642 245.836875 \nL 325.42642 28.396875 \n\" style=\"fill:none;stroke:#b0b0b0;stroke-linecap:square;stroke-width:0.8;\"/>\n     </g>\n     <g id=\"line2d_424\">\n      <g>\n       <use style=\"stroke:#000000;stroke-width:0.8;\" x=\"325.42642\" xlink:href=\"#m3e725a0727\" y=\"245.836875\"/>\n      </g>\n     </g>\n     <g id=\"text_212\">\n      <!-- 5 -->\n      <g transform=\"translate(328.185795 259.199375)rotate(-90)scale(0.1 -0.1)\">\n       <use xlink:href=\"#DejaVuSans-53\"/>\n      </g>\n     </g>\n    </g>\n    <g id=\"xtick_213\">\n     <g id=\"line2d_425\">\n      <path clip-path=\"url(#pff55622139)\" d=\"M 325.42642 245.836875 \nL 325.42642 28.396875 \n\" style=\"fill:none;stroke:#b0b0b0;stroke-linecap:square;stroke-width:0.8;\"/>\n     </g>\n     <g id=\"line2d_426\">\n      <g>\n       <use style=\"stroke:#000000;stroke-width:0.8;\" x=\"325.42642\" xlink:href=\"#m3e725a0727\" y=\"245.836875\"/>\n      </g>\n     </g>\n     <g id=\"text_213\">\n      <!-- 5 -->\n      <g transform=\"translate(328.185795 259.199375)rotate(-90)scale(0.1 -0.1)\">\n       <use xlink:href=\"#DejaVuSans-53\"/>\n      </g>\n     </g>\n    </g>\n    <g id=\"xtick_214\">\n     <g id=\"line2d_427\">\n      <path clip-path=\"url(#pff55622139)\" d=\"M 325.42642 245.836875 \nL 325.42642 28.396875 \n\" style=\"fill:none;stroke:#b0b0b0;stroke-linecap:square;stroke-width:0.8;\"/>\n     </g>\n     <g id=\"line2d_428\">\n      <g>\n       <use style=\"stroke:#000000;stroke-width:0.8;\" x=\"325.42642\" xlink:href=\"#m3e725a0727\" y=\"245.836875\"/>\n      </g>\n     </g>\n     <g id=\"text_214\">\n      <!-- 5 -->\n      <g transform=\"translate(328.185795 259.199375)rotate(-90)scale(0.1 -0.1)\">\n       <use xlink:href=\"#DejaVuSans-53\"/>\n      </g>\n     </g>\n    </g>\n    <g id=\"xtick_215\">\n     <g id=\"line2d_429\">\n      <path clip-path=\"url(#pff55622139)\" d=\"M 325.42642 245.836875 \nL 325.42642 28.396875 \n\" style=\"fill:none;stroke:#b0b0b0;stroke-linecap:square;stroke-width:0.8;\"/>\n     </g>\n     <g id=\"line2d_430\">\n      <g>\n       <use style=\"stroke:#000000;stroke-width:0.8;\" x=\"325.42642\" xlink:href=\"#m3e725a0727\" y=\"245.836875\"/>\n      </g>\n     </g>\n     <g id=\"text_215\">\n      <!-- 5 -->\n      <g transform=\"translate(328.185795 259.199375)rotate(-90)scale(0.1 -0.1)\">\n       <use xlink:href=\"#DejaVuSans-53\"/>\n      </g>\n     </g>\n    </g>\n    <g id=\"xtick_216\">\n     <g id=\"line2d_431\">\n      <path clip-path=\"url(#pff55622139)\" d=\"M 325.42642 245.836875 \nL 325.42642 28.396875 \n\" style=\"fill:none;stroke:#b0b0b0;stroke-linecap:square;stroke-width:0.8;\"/>\n     </g>\n     <g id=\"line2d_432\">\n      <g>\n       <use style=\"stroke:#000000;stroke-width:0.8;\" x=\"325.42642\" xlink:href=\"#m3e725a0727\" y=\"245.836875\"/>\n      </g>\n     </g>\n     <g id=\"text_216\">\n      <!-- 5 -->\n      <g transform=\"translate(328.185795 259.199375)rotate(-90)scale(0.1 -0.1)\">\n       <use xlink:href=\"#DejaVuSans-53\"/>\n      </g>\n     </g>\n    </g>\n    <g id=\"xtick_217\">\n     <g id=\"line2d_433\">\n      <path clip-path=\"url(#pff55622139)\" d=\"M 325.42642 245.836875 \nL 325.42642 28.396875 \n\" style=\"fill:none;stroke:#b0b0b0;stroke-linecap:square;stroke-width:0.8;\"/>\n     </g>\n     <g id=\"line2d_434\">\n      <g>\n       <use style=\"stroke:#000000;stroke-width:0.8;\" x=\"325.42642\" xlink:href=\"#m3e725a0727\" y=\"245.836875\"/>\n      </g>\n     </g>\n     <g id=\"text_217\">\n      <!-- 5 -->\n      <g transform=\"translate(328.185795 259.199375)rotate(-90)scale(0.1 -0.1)\">\n       <use xlink:href=\"#DejaVuSans-53\"/>\n      </g>\n     </g>\n    </g>\n    <g id=\"xtick_218\">\n     <g id=\"line2d_435\">\n      <path clip-path=\"url(#pff55622139)\" d=\"M 325.42642 245.836875 \nL 325.42642 28.396875 \n\" style=\"fill:none;stroke:#b0b0b0;stroke-linecap:square;stroke-width:0.8;\"/>\n     </g>\n     <g id=\"line2d_436\">\n      <g>\n       <use style=\"stroke:#000000;stroke-width:0.8;\" x=\"325.42642\" xlink:href=\"#m3e725a0727\" y=\"245.836875\"/>\n      </g>\n     </g>\n     <g id=\"text_218\">\n      <!-- 5 -->\n      <g transform=\"translate(328.185795 259.199375)rotate(-90)scale(0.1 -0.1)\">\n       <use xlink:href=\"#DejaVuSans-53\"/>\n      </g>\n     </g>\n    </g>\n    <g id=\"xtick_219\">\n     <g id=\"line2d_437\">\n      <path clip-path=\"url(#pff55622139)\" d=\"M 325.42642 245.836875 \nL 325.42642 28.396875 \n\" style=\"fill:none;stroke:#b0b0b0;stroke-linecap:square;stroke-width:0.8;\"/>\n     </g>\n     <g id=\"line2d_438\">\n      <g>\n       <use style=\"stroke:#000000;stroke-width:0.8;\" x=\"325.42642\" xlink:href=\"#m3e725a0727\" y=\"245.836875\"/>\n      </g>\n     </g>\n     <g id=\"text_219\">\n      <!-- 5 -->\n      <g transform=\"translate(328.185795 259.199375)rotate(-90)scale(0.1 -0.1)\">\n       <use xlink:href=\"#DejaVuSans-53\"/>\n      </g>\n     </g>\n    </g>\n    <g id=\"xtick_220\">\n     <g id=\"line2d_439\">\n      <path clip-path=\"url(#pff55622139)\" d=\"M 325.42642 245.836875 \nL 325.42642 28.396875 \n\" style=\"fill:none;stroke:#b0b0b0;stroke-linecap:square;stroke-width:0.8;\"/>\n     </g>\n     <g id=\"line2d_440\">\n      <g>\n       <use style=\"stroke:#000000;stroke-width:0.8;\" x=\"325.42642\" xlink:href=\"#m3e725a0727\" y=\"245.836875\"/>\n      </g>\n     </g>\n     <g id=\"text_220\">\n      <!-- 5 -->\n      <g transform=\"translate(328.185795 259.199375)rotate(-90)scale(0.1 -0.1)\">\n       <use xlink:href=\"#DejaVuSans-53\"/>\n      </g>\n     </g>\n    </g>\n    <g id=\"xtick_221\">\n     <g id=\"line2d_441\">\n      <path clip-path=\"url(#pff55622139)\" d=\"M 325.42642 245.836875 \nL 325.42642 28.396875 \n\" style=\"fill:none;stroke:#b0b0b0;stroke-linecap:square;stroke-width:0.8;\"/>\n     </g>\n     <g id=\"line2d_442\">\n      <g>\n       <use style=\"stroke:#000000;stroke-width:0.8;\" x=\"325.42642\" xlink:href=\"#m3e725a0727\" y=\"245.836875\"/>\n      </g>\n     </g>\n     <g id=\"text_221\">\n      <!-- 5 -->\n      <g transform=\"translate(328.185795 259.199375)rotate(-90)scale(0.1 -0.1)\">\n       <use xlink:href=\"#DejaVuSans-53\"/>\n      </g>\n     </g>\n    </g>\n    <g id=\"xtick_222\">\n     <g id=\"line2d_443\">\n      <path clip-path=\"url(#pff55622139)\" d=\"M 325.42642 245.836875 \nL 325.42642 28.396875 \n\" style=\"fill:none;stroke:#b0b0b0;stroke-linecap:square;stroke-width:0.8;\"/>\n     </g>\n     <g id=\"line2d_444\">\n      <g>\n       <use style=\"stroke:#000000;stroke-width:0.8;\" x=\"325.42642\" xlink:href=\"#m3e725a0727\" y=\"245.836875\"/>\n      </g>\n     </g>\n     <g id=\"text_222\">\n      <!-- 5 -->\n      <g transform=\"translate(328.185795 259.199375)rotate(-90)scale(0.1 -0.1)\">\n       <use xlink:href=\"#DejaVuSans-53\"/>\n      </g>\n     </g>\n    </g>\n    <g id=\"xtick_223\">\n     <g id=\"line2d_445\">\n      <path clip-path=\"url(#pff55622139)\" d=\"M 325.42642 245.836875 \nL 325.42642 28.396875 \n\" style=\"fill:none;stroke:#b0b0b0;stroke-linecap:square;stroke-width:0.8;\"/>\n     </g>\n     <g id=\"line2d_446\">\n      <g>\n       <use style=\"stroke:#000000;stroke-width:0.8;\" x=\"325.42642\" xlink:href=\"#m3e725a0727\" y=\"245.836875\"/>\n      </g>\n     </g>\n     <g id=\"text_223\">\n      <!-- 5 -->\n      <g transform=\"translate(328.185795 259.199375)rotate(-90)scale(0.1 -0.1)\">\n       <use xlink:href=\"#DejaVuSans-53\"/>\n      </g>\n     </g>\n    </g>\n    <g id=\"xtick_224\">\n     <g id=\"line2d_447\">\n      <path clip-path=\"url(#pff55622139)\" d=\"M 325.42642 245.836875 \nL 325.42642 28.396875 \n\" style=\"fill:none;stroke:#b0b0b0;stroke-linecap:square;stroke-width:0.8;\"/>\n     </g>\n     <g id=\"line2d_448\">\n      <g>\n       <use style=\"stroke:#000000;stroke-width:0.8;\" x=\"325.42642\" xlink:href=\"#m3e725a0727\" y=\"245.836875\"/>\n      </g>\n     </g>\n     <g id=\"text_224\">\n      <!-- 5 -->\n      <g transform=\"translate(328.185795 259.199375)rotate(-90)scale(0.1 -0.1)\">\n       <use xlink:href=\"#DejaVuSans-53\"/>\n      </g>\n     </g>\n    </g>\n    <g id=\"xtick_225\">\n     <g id=\"line2d_449\">\n      <path clip-path=\"url(#pff55622139)\" d=\"M 376.153693 245.836875 \nL 376.153693 28.396875 \n\" style=\"fill:none;stroke:#b0b0b0;stroke-linecap:square;stroke-width:0.8;\"/>\n     </g>\n     <g id=\"line2d_450\">\n      <g>\n       <use style=\"stroke:#000000;stroke-width:0.8;\" x=\"376.153693\" xlink:href=\"#m3e725a0727\" y=\"245.836875\"/>\n      </g>\n     </g>\n     <g id=\"text_225\">\n      <!-- 6 -->\n      <g transform=\"translate(378.913068 259.199375)rotate(-90)scale(0.1 -0.1)\">\n       <defs>\n        <path d=\"M 33.015625 40.375 \nQ 26.375 40.375 22.484375 35.828125 \nQ 18.609375 31.296875 18.609375 23.390625 \nQ 18.609375 15.53125 22.484375 10.953125 \nQ 26.375 6.390625 33.015625 6.390625 \nQ 39.65625 6.390625 43.53125 10.953125 \nQ 47.40625 15.53125 47.40625 23.390625 \nQ 47.40625 31.296875 43.53125 35.828125 \nQ 39.65625 40.375 33.015625 40.375 \nz\nM 52.59375 71.296875 \nL 52.59375 62.3125 \nQ 48.875 64.0625 45.09375 64.984375 \nQ 41.3125 65.921875 37.59375 65.921875 \nQ 27.828125 65.921875 22.671875 59.328125 \nQ 17.53125 52.734375 16.796875 39.40625 \nQ 19.671875 43.65625 24.015625 45.921875 \nQ 28.375 48.1875 33.59375 48.1875 \nQ 44.578125 48.1875 50.953125 41.515625 \nQ 57.328125 34.859375 57.328125 23.390625 \nQ 57.328125 12.15625 50.6875 5.359375 \nQ 44.046875 -1.421875 33.015625 -1.421875 \nQ 20.359375 -1.421875 13.671875 8.265625 \nQ 6.984375 17.96875 6.984375 36.375 \nQ 6.984375 53.65625 15.1875 63.9375 \nQ 23.390625 74.21875 37.203125 74.21875 \nQ 40.921875 74.21875 44.703125 73.484375 \nQ 48.484375 72.75 52.59375 71.296875 \nz\n\" id=\"DejaVuSans-54\"/>\n       </defs>\n       <use xlink:href=\"#DejaVuSans-54\"/>\n      </g>\n     </g>\n    </g>\n    <g id=\"xtick_226\">\n     <g id=\"line2d_451\">\n      <path clip-path=\"url(#pff55622139)\" d=\"M 376.153693 245.836875 \nL 376.153693 28.396875 \n\" style=\"fill:none;stroke:#b0b0b0;stroke-linecap:square;stroke-width:0.8;\"/>\n     </g>\n     <g id=\"line2d_452\">\n      <g>\n       <use style=\"stroke:#000000;stroke-width:0.8;\" x=\"376.153693\" xlink:href=\"#m3e725a0727\" y=\"245.836875\"/>\n      </g>\n     </g>\n     <g id=\"text_226\">\n      <!-- 6 -->\n      <g transform=\"translate(378.913068 259.199375)rotate(-90)scale(0.1 -0.1)\">\n       <use xlink:href=\"#DejaVuSans-54\"/>\n      </g>\n     </g>\n    </g>\n    <g id=\"xtick_227\">\n     <g id=\"line2d_453\">\n      <path clip-path=\"url(#pff55622139)\" d=\"M 376.153693 245.836875 \nL 376.153693 28.396875 \n\" style=\"fill:none;stroke:#b0b0b0;stroke-linecap:square;stroke-width:0.8;\"/>\n     </g>\n     <g id=\"line2d_454\">\n      <g>\n       <use style=\"stroke:#000000;stroke-width:0.8;\" x=\"376.153693\" xlink:href=\"#m3e725a0727\" y=\"245.836875\"/>\n      </g>\n     </g>\n     <g id=\"text_227\">\n      <!-- 6 -->\n      <g transform=\"translate(378.913068 259.199375)rotate(-90)scale(0.1 -0.1)\">\n       <use xlink:href=\"#DejaVuSans-54\"/>\n      </g>\n     </g>\n    </g>\n    <g id=\"xtick_228\">\n     <g id=\"line2d_455\">\n      <path clip-path=\"url(#pff55622139)\" d=\"M 376.153693 245.836875 \nL 376.153693 28.396875 \n\" style=\"fill:none;stroke:#b0b0b0;stroke-linecap:square;stroke-width:0.8;\"/>\n     </g>\n     <g id=\"line2d_456\">\n      <g>\n       <use style=\"stroke:#000000;stroke-width:0.8;\" x=\"376.153693\" xlink:href=\"#m3e725a0727\" y=\"245.836875\"/>\n      </g>\n     </g>\n     <g id=\"text_228\">\n      <!-- 6 -->\n      <g transform=\"translate(378.913068 259.199375)rotate(-90)scale(0.1 -0.1)\">\n       <use xlink:href=\"#DejaVuSans-54\"/>\n      </g>\n     </g>\n    </g>\n    <g id=\"xtick_229\">\n     <g id=\"line2d_457\">\n      <path clip-path=\"url(#pff55622139)\" d=\"M 376.153693 245.836875 \nL 376.153693 28.396875 \n\" style=\"fill:none;stroke:#b0b0b0;stroke-linecap:square;stroke-width:0.8;\"/>\n     </g>\n     <g id=\"line2d_458\">\n      <g>\n       <use style=\"stroke:#000000;stroke-width:0.8;\" x=\"376.153693\" xlink:href=\"#m3e725a0727\" y=\"245.836875\"/>\n      </g>\n     </g>\n     <g id=\"text_229\">\n      <!-- 6 -->\n      <g transform=\"translate(378.913068 259.199375)rotate(-90)scale(0.1 -0.1)\">\n       <use xlink:href=\"#DejaVuSans-54\"/>\n      </g>\n     </g>\n    </g>\n    <g id=\"xtick_230\">\n     <g id=\"line2d_459\">\n      <path clip-path=\"url(#pff55622139)\" d=\"M 376.153693 245.836875 \nL 376.153693 28.396875 \n\" style=\"fill:none;stroke:#b0b0b0;stroke-linecap:square;stroke-width:0.8;\"/>\n     </g>\n     <g id=\"line2d_460\">\n      <g>\n       <use style=\"stroke:#000000;stroke-width:0.8;\" x=\"376.153693\" xlink:href=\"#m3e725a0727\" y=\"245.836875\"/>\n      </g>\n     </g>\n     <g id=\"text_230\">\n      <!-- 6 -->\n      <g transform=\"translate(378.913068 259.199375)rotate(-90)scale(0.1 -0.1)\">\n       <use xlink:href=\"#DejaVuSans-54\"/>\n      </g>\n     </g>\n    </g>\n    <g id=\"xtick_231\">\n     <g id=\"line2d_461\">\n      <path clip-path=\"url(#pff55622139)\" d=\"M 376.153693 245.836875 \nL 376.153693 28.396875 \n\" style=\"fill:none;stroke:#b0b0b0;stroke-linecap:square;stroke-width:0.8;\"/>\n     </g>\n     <g id=\"line2d_462\">\n      <g>\n       <use style=\"stroke:#000000;stroke-width:0.8;\" x=\"376.153693\" xlink:href=\"#m3e725a0727\" y=\"245.836875\"/>\n      </g>\n     </g>\n     <g id=\"text_231\">\n      <!-- 6 -->\n      <g transform=\"translate(378.913068 259.199375)rotate(-90)scale(0.1 -0.1)\">\n       <use xlink:href=\"#DejaVuSans-54\"/>\n      </g>\n     </g>\n    </g>\n    <g id=\"xtick_232\">\n     <g id=\"line2d_463\">\n      <path clip-path=\"url(#pff55622139)\" d=\"M 376.153693 245.836875 \nL 376.153693 28.396875 \n\" style=\"fill:none;stroke:#b0b0b0;stroke-linecap:square;stroke-width:0.8;\"/>\n     </g>\n     <g id=\"line2d_464\">\n      <g>\n       <use style=\"stroke:#000000;stroke-width:0.8;\" x=\"376.153693\" xlink:href=\"#m3e725a0727\" y=\"245.836875\"/>\n      </g>\n     </g>\n     <g id=\"text_232\">\n      <!-- 6 -->\n      <g transform=\"translate(378.913068 259.199375)rotate(-90)scale(0.1 -0.1)\">\n       <use xlink:href=\"#DejaVuSans-54\"/>\n      </g>\n     </g>\n    </g>\n    <g id=\"xtick_233\">\n     <g id=\"line2d_465\">\n      <path clip-path=\"url(#pff55622139)\" d=\"M 376.153693 245.836875 \nL 376.153693 28.396875 \n\" style=\"fill:none;stroke:#b0b0b0;stroke-linecap:square;stroke-width:0.8;\"/>\n     </g>\n     <g id=\"line2d_466\">\n      <g>\n       <use style=\"stroke:#000000;stroke-width:0.8;\" x=\"376.153693\" xlink:href=\"#m3e725a0727\" y=\"245.836875\"/>\n      </g>\n     </g>\n     <g id=\"text_233\">\n      <!-- 6 -->\n      <g transform=\"translate(378.913068 259.199375)rotate(-90)scale(0.1 -0.1)\">\n       <use xlink:href=\"#DejaVuSans-54\"/>\n      </g>\n     </g>\n    </g>\n    <g id=\"xtick_234\">\n     <g id=\"line2d_467\">\n      <path clip-path=\"url(#pff55622139)\" d=\"M 376.153693 245.836875 \nL 376.153693 28.396875 \n\" style=\"fill:none;stroke:#b0b0b0;stroke-linecap:square;stroke-width:0.8;\"/>\n     </g>\n     <g id=\"line2d_468\">\n      <g>\n       <use style=\"stroke:#000000;stroke-width:0.8;\" x=\"376.153693\" xlink:href=\"#m3e725a0727\" y=\"245.836875\"/>\n      </g>\n     </g>\n     <g id=\"text_234\">\n      <!-- 6 -->\n      <g transform=\"translate(378.913068 259.199375)rotate(-90)scale(0.1 -0.1)\">\n       <use xlink:href=\"#DejaVuSans-54\"/>\n      </g>\n     </g>\n    </g>\n    <g id=\"xtick_235\">\n     <g id=\"line2d_469\">\n      <path clip-path=\"url(#pff55622139)\" d=\"M 376.153693 245.836875 \nL 376.153693 28.396875 \n\" style=\"fill:none;stroke:#b0b0b0;stroke-linecap:square;stroke-width:0.8;\"/>\n     </g>\n     <g id=\"line2d_470\">\n      <g>\n       <use style=\"stroke:#000000;stroke-width:0.8;\" x=\"376.153693\" xlink:href=\"#m3e725a0727\" y=\"245.836875\"/>\n      </g>\n     </g>\n     <g id=\"text_235\">\n      <!-- 6 -->\n      <g transform=\"translate(378.913068 259.199375)rotate(-90)scale(0.1 -0.1)\">\n       <use xlink:href=\"#DejaVuSans-54\"/>\n      </g>\n     </g>\n    </g>\n    <g id=\"xtick_236\">\n     <g id=\"line2d_471\">\n      <path clip-path=\"url(#pff55622139)\" d=\"M 376.153693 245.836875 \nL 376.153693 28.396875 \n\" style=\"fill:none;stroke:#b0b0b0;stroke-linecap:square;stroke-width:0.8;\"/>\n     </g>\n     <g id=\"line2d_472\">\n      <g>\n       <use style=\"stroke:#000000;stroke-width:0.8;\" x=\"376.153693\" xlink:href=\"#m3e725a0727\" y=\"245.836875\"/>\n      </g>\n     </g>\n     <g id=\"text_236\">\n      <!-- 6 -->\n      <g transform=\"translate(378.913068 259.199375)rotate(-90)scale(0.1 -0.1)\">\n       <use xlink:href=\"#DejaVuSans-54\"/>\n      </g>\n     </g>\n    </g>\n    <g id=\"xtick_237\">\n     <g id=\"line2d_473\">\n      <path clip-path=\"url(#pff55622139)\" d=\"M 376.153693 245.836875 \nL 376.153693 28.396875 \n\" style=\"fill:none;stroke:#b0b0b0;stroke-linecap:square;stroke-width:0.8;\"/>\n     </g>\n     <g id=\"line2d_474\">\n      <g>\n       <use style=\"stroke:#000000;stroke-width:0.8;\" x=\"376.153693\" xlink:href=\"#m3e725a0727\" y=\"245.836875\"/>\n      </g>\n     </g>\n     <g id=\"text_237\">\n      <!-- 6 -->\n      <g transform=\"translate(378.913068 259.199375)rotate(-90)scale(0.1 -0.1)\">\n       <use xlink:href=\"#DejaVuSans-54\"/>\n      </g>\n     </g>\n    </g>\n    <g id=\"xtick_238\">\n     <g id=\"line2d_475\">\n      <path clip-path=\"url(#pff55622139)\" d=\"M 376.153693 245.836875 \nL 376.153693 28.396875 \n\" style=\"fill:none;stroke:#b0b0b0;stroke-linecap:square;stroke-width:0.8;\"/>\n     </g>\n     <g id=\"line2d_476\">\n      <g>\n       <use style=\"stroke:#000000;stroke-width:0.8;\" x=\"376.153693\" xlink:href=\"#m3e725a0727\" y=\"245.836875\"/>\n      </g>\n     </g>\n     <g id=\"text_238\">\n      <!-- 6 -->\n      <g transform=\"translate(378.913068 259.199375)rotate(-90)scale(0.1 -0.1)\">\n       <use xlink:href=\"#DejaVuSans-54\"/>\n      </g>\n     </g>\n    </g>\n    <g id=\"xtick_239\">\n     <g id=\"line2d_477\">\n      <path clip-path=\"url(#pff55622139)\" d=\"M 376.153693 245.836875 \nL 376.153693 28.396875 \n\" style=\"fill:none;stroke:#b0b0b0;stroke-linecap:square;stroke-width:0.8;\"/>\n     </g>\n     <g id=\"line2d_478\">\n      <g>\n       <use style=\"stroke:#000000;stroke-width:0.8;\" x=\"376.153693\" xlink:href=\"#m3e725a0727\" y=\"245.836875\"/>\n      </g>\n     </g>\n     <g id=\"text_239\">\n      <!-- 6 -->\n      <g transform=\"translate(378.913068 259.199375)rotate(-90)scale(0.1 -0.1)\">\n       <use xlink:href=\"#DejaVuSans-54\"/>\n      </g>\n     </g>\n    </g>\n    <g id=\"xtick_240\">\n     <g id=\"line2d_479\">\n      <path clip-path=\"url(#pff55622139)\" d=\"M 376.153693 245.836875 \nL 376.153693 28.396875 \n\" style=\"fill:none;stroke:#b0b0b0;stroke-linecap:square;stroke-width:0.8;\"/>\n     </g>\n     <g id=\"line2d_480\">\n      <g>\n       <use style=\"stroke:#000000;stroke-width:0.8;\" x=\"376.153693\" xlink:href=\"#m3e725a0727\" y=\"245.836875\"/>\n      </g>\n     </g>\n     <g id=\"text_240\">\n      <!-- 6 -->\n      <g transform=\"translate(378.913068 259.199375)rotate(-90)scale(0.1 -0.1)\">\n       <use xlink:href=\"#DejaVuSans-54\"/>\n      </g>\n     </g>\n    </g>\n    <g id=\"xtick_241\">\n     <g id=\"line2d_481\">\n      <path clip-path=\"url(#pff55622139)\" d=\"M 376.153693 245.836875 \nL 376.153693 28.396875 \n\" style=\"fill:none;stroke:#b0b0b0;stroke-linecap:square;stroke-width:0.8;\"/>\n     </g>\n     <g id=\"line2d_482\">\n      <g>\n       <use style=\"stroke:#000000;stroke-width:0.8;\" x=\"376.153693\" xlink:href=\"#m3e725a0727\" y=\"245.836875\"/>\n      </g>\n     </g>\n     <g id=\"text_241\">\n      <!-- 6 -->\n      <g transform=\"translate(378.913068 259.199375)rotate(-90)scale(0.1 -0.1)\">\n       <use xlink:href=\"#DejaVuSans-54\"/>\n      </g>\n     </g>\n    </g>\n    <g id=\"xtick_242\">\n     <g id=\"line2d_483\">\n      <path clip-path=\"url(#pff55622139)\" d=\"M 376.153693 245.836875 \nL 376.153693 28.396875 \n\" style=\"fill:none;stroke:#b0b0b0;stroke-linecap:square;stroke-width:0.8;\"/>\n     </g>\n     <g id=\"line2d_484\">\n      <g>\n       <use style=\"stroke:#000000;stroke-width:0.8;\" x=\"376.153693\" xlink:href=\"#m3e725a0727\" y=\"245.836875\"/>\n      </g>\n     </g>\n     <g id=\"text_242\">\n      <!-- 6 -->\n      <g transform=\"translate(378.913068 259.199375)rotate(-90)scale(0.1 -0.1)\">\n       <use xlink:href=\"#DejaVuSans-54\"/>\n      </g>\n     </g>\n    </g>\n    <g id=\"xtick_243\">\n     <g id=\"line2d_485\">\n      <path clip-path=\"url(#pff55622139)\" d=\"M 376.153693 245.836875 \nL 376.153693 28.396875 \n\" style=\"fill:none;stroke:#b0b0b0;stroke-linecap:square;stroke-width:0.8;\"/>\n     </g>\n     <g id=\"line2d_486\">\n      <g>\n       <use style=\"stroke:#000000;stroke-width:0.8;\" x=\"376.153693\" xlink:href=\"#m3e725a0727\" y=\"245.836875\"/>\n      </g>\n     </g>\n     <g id=\"text_243\">\n      <!-- 6 -->\n      <g transform=\"translate(378.913068 259.199375)rotate(-90)scale(0.1 -0.1)\">\n       <use xlink:href=\"#DejaVuSans-54\"/>\n      </g>\n     </g>\n    </g>\n    <g id=\"xtick_244\">\n     <g id=\"line2d_487\">\n      <path clip-path=\"url(#pff55622139)\" d=\"M 376.153693 245.836875 \nL 376.153693 28.396875 \n\" style=\"fill:none;stroke:#b0b0b0;stroke-linecap:square;stroke-width:0.8;\"/>\n     </g>\n     <g id=\"line2d_488\">\n      <g>\n       <use style=\"stroke:#000000;stroke-width:0.8;\" x=\"376.153693\" xlink:href=\"#m3e725a0727\" y=\"245.836875\"/>\n      </g>\n     </g>\n     <g id=\"text_244\">\n      <!-- 6 -->\n      <g transform=\"translate(378.913068 259.199375)rotate(-90)scale(0.1 -0.1)\">\n       <use xlink:href=\"#DejaVuSans-54\"/>\n      </g>\n     </g>\n    </g>\n    <g id=\"xtick_245\">\n     <g id=\"line2d_489\">\n      <path clip-path=\"url(#pff55622139)\" d=\"M 376.153693 245.836875 \nL 376.153693 28.396875 \n\" style=\"fill:none;stroke:#b0b0b0;stroke-linecap:square;stroke-width:0.8;\"/>\n     </g>\n     <g id=\"line2d_490\">\n      <g>\n       <use style=\"stroke:#000000;stroke-width:0.8;\" x=\"376.153693\" xlink:href=\"#m3e725a0727\" y=\"245.836875\"/>\n      </g>\n     </g>\n     <g id=\"text_245\">\n      <!-- 6 -->\n      <g transform=\"translate(378.913068 259.199375)rotate(-90)scale(0.1 -0.1)\">\n       <use xlink:href=\"#DejaVuSans-54\"/>\n      </g>\n     </g>\n    </g>\n    <g id=\"xtick_246\">\n     <g id=\"line2d_491\">\n      <path clip-path=\"url(#pff55622139)\" d=\"M 376.153693 245.836875 \nL 376.153693 28.396875 \n\" style=\"fill:none;stroke:#b0b0b0;stroke-linecap:square;stroke-width:0.8;\"/>\n     </g>\n     <g id=\"line2d_492\">\n      <g>\n       <use style=\"stroke:#000000;stroke-width:0.8;\" x=\"376.153693\" xlink:href=\"#m3e725a0727\" y=\"245.836875\"/>\n      </g>\n     </g>\n     <g id=\"text_246\">\n      <!-- 6 -->\n      <g transform=\"translate(378.913068 259.199375)rotate(-90)scale(0.1 -0.1)\">\n       <use xlink:href=\"#DejaVuSans-54\"/>\n      </g>\n     </g>\n    </g>\n    <g id=\"xtick_247\">\n     <g id=\"line2d_493\">\n      <path clip-path=\"url(#pff55622139)\" d=\"M 376.153693 245.836875 \nL 376.153693 28.396875 \n\" style=\"fill:none;stroke:#b0b0b0;stroke-linecap:square;stroke-width:0.8;\"/>\n     </g>\n     <g id=\"line2d_494\">\n      <g>\n       <use style=\"stroke:#000000;stroke-width:0.8;\" x=\"376.153693\" xlink:href=\"#m3e725a0727\" y=\"245.836875\"/>\n      </g>\n     </g>\n     <g id=\"text_247\">\n      <!-- 6 -->\n      <g transform=\"translate(378.913068 259.199375)rotate(-90)scale(0.1 -0.1)\">\n       <use xlink:href=\"#DejaVuSans-54\"/>\n      </g>\n     </g>\n    </g>\n    <g id=\"xtick_248\">\n     <g id=\"line2d_495\">\n      <path clip-path=\"url(#pff55622139)\" d=\"M 376.153693 245.836875 \nL 376.153693 28.396875 \n\" style=\"fill:none;stroke:#b0b0b0;stroke-linecap:square;stroke-width:0.8;\"/>\n     </g>\n     <g id=\"line2d_496\">\n      <g>\n       <use style=\"stroke:#000000;stroke-width:0.8;\" x=\"376.153693\" xlink:href=\"#m3e725a0727\" y=\"245.836875\"/>\n      </g>\n     </g>\n     <g id=\"text_248\">\n      <!-- 6 -->\n      <g transform=\"translate(378.913068 259.199375)rotate(-90)scale(0.1 -0.1)\">\n       <use xlink:href=\"#DejaVuSans-54\"/>\n      </g>\n     </g>\n    </g>\n    <g id=\"xtick_249\">\n     <g id=\"line2d_497\">\n      <path clip-path=\"url(#pff55622139)\" d=\"M 376.153693 245.836875 \nL 376.153693 28.396875 \n\" style=\"fill:none;stroke:#b0b0b0;stroke-linecap:square;stroke-width:0.8;\"/>\n     </g>\n     <g id=\"line2d_498\">\n      <g>\n       <use style=\"stroke:#000000;stroke-width:0.8;\" x=\"376.153693\" xlink:href=\"#m3e725a0727\" y=\"245.836875\"/>\n      </g>\n     </g>\n     <g id=\"text_249\">\n      <!-- 6 -->\n      <g transform=\"translate(378.913068 259.199375)rotate(-90)scale(0.1 -0.1)\">\n       <use xlink:href=\"#DejaVuSans-54\"/>\n      </g>\n     </g>\n    </g>\n    <g id=\"xtick_250\">\n     <g id=\"line2d_499\">\n      <path clip-path=\"url(#pff55622139)\" d=\"M 376.153693 245.836875 \nL 376.153693 28.396875 \n\" style=\"fill:none;stroke:#b0b0b0;stroke-linecap:square;stroke-width:0.8;\"/>\n     </g>\n     <g id=\"line2d_500\">\n      <g>\n       <use style=\"stroke:#000000;stroke-width:0.8;\" x=\"376.153693\" xlink:href=\"#m3e725a0727\" y=\"245.836875\"/>\n      </g>\n     </g>\n     <g id=\"text_250\">\n      <!-- 6 -->\n      <g transform=\"translate(378.913068 259.199375)rotate(-90)scale(0.1 -0.1)\">\n       <use xlink:href=\"#DejaVuSans-54\"/>\n      </g>\n     </g>\n    </g>\n    <g id=\"xtick_251\">\n     <g id=\"line2d_501\">\n      <path clip-path=\"url(#pff55622139)\" d=\"M 376.153693 245.836875 \nL 376.153693 28.396875 \n\" style=\"fill:none;stroke:#b0b0b0;stroke-linecap:square;stroke-width:0.8;\"/>\n     </g>\n     <g id=\"line2d_502\">\n      <g>\n       <use style=\"stroke:#000000;stroke-width:0.8;\" x=\"376.153693\" xlink:href=\"#m3e725a0727\" y=\"245.836875\"/>\n      </g>\n     </g>\n     <g id=\"text_251\">\n      <!-- 6 -->\n      <g transform=\"translate(378.913068 259.199375)rotate(-90)scale(0.1 -0.1)\">\n       <use xlink:href=\"#DejaVuSans-54\"/>\n      </g>\n     </g>\n    </g>\n    <g id=\"xtick_252\">\n     <g id=\"line2d_503\">\n      <path clip-path=\"url(#pff55622139)\" d=\"M 376.153693 245.836875 \nL 376.153693 28.396875 \n\" style=\"fill:none;stroke:#b0b0b0;stroke-linecap:square;stroke-width:0.8;\"/>\n     </g>\n     <g id=\"line2d_504\">\n      <g>\n       <use style=\"stroke:#000000;stroke-width:0.8;\" x=\"376.153693\" xlink:href=\"#m3e725a0727\" y=\"245.836875\"/>\n      </g>\n     </g>\n     <g id=\"text_252\">\n      <!-- 6 -->\n      <g transform=\"translate(378.913068 259.199375)rotate(-90)scale(0.1 -0.1)\">\n       <use xlink:href=\"#DejaVuSans-54\"/>\n      </g>\n     </g>\n    </g>\n    <g id=\"xtick_253\">\n     <g id=\"line2d_505\">\n      <path clip-path=\"url(#pff55622139)\" d=\"M 376.153693 245.836875 \nL 376.153693 28.396875 \n\" style=\"fill:none;stroke:#b0b0b0;stroke-linecap:square;stroke-width:0.8;\"/>\n     </g>\n     <g id=\"line2d_506\">\n      <g>\n       <use style=\"stroke:#000000;stroke-width:0.8;\" x=\"376.153693\" xlink:href=\"#m3e725a0727\" y=\"245.836875\"/>\n      </g>\n     </g>\n     <g id=\"text_253\">\n      <!-- 6 -->\n      <g transform=\"translate(378.913068 259.199375)rotate(-90)scale(0.1 -0.1)\">\n       <use xlink:href=\"#DejaVuSans-54\"/>\n      </g>\n     </g>\n    </g>\n    <g id=\"xtick_254\">\n     <g id=\"line2d_507\">\n      <path clip-path=\"url(#pff55622139)\" d=\"M 376.153693 245.836875 \nL 376.153693 28.396875 \n\" style=\"fill:none;stroke:#b0b0b0;stroke-linecap:square;stroke-width:0.8;\"/>\n     </g>\n     <g id=\"line2d_508\">\n      <g>\n       <use style=\"stroke:#000000;stroke-width:0.8;\" x=\"376.153693\" xlink:href=\"#m3e725a0727\" y=\"245.836875\"/>\n      </g>\n     </g>\n     <g id=\"text_254\">\n      <!-- 6 -->\n      <g transform=\"translate(378.913068 259.199375)rotate(-90)scale(0.1 -0.1)\">\n       <use xlink:href=\"#DejaVuSans-54\"/>\n      </g>\n     </g>\n    </g>\n    <g id=\"xtick_255\">\n     <g id=\"line2d_509\">\n      <path clip-path=\"url(#pff55622139)\" d=\"M 376.153693 245.836875 \nL 376.153693 28.396875 \n\" style=\"fill:none;stroke:#b0b0b0;stroke-linecap:square;stroke-width:0.8;\"/>\n     </g>\n     <g id=\"line2d_510\">\n      <g>\n       <use style=\"stroke:#000000;stroke-width:0.8;\" x=\"376.153693\" xlink:href=\"#m3e725a0727\" y=\"245.836875\"/>\n      </g>\n     </g>\n     <g id=\"text_255\">\n      <!-- 6 -->\n      <g transform=\"translate(378.913068 259.199375)rotate(-90)scale(0.1 -0.1)\">\n       <use xlink:href=\"#DejaVuSans-54\"/>\n      </g>\n     </g>\n    </g>\n    <g id=\"xtick_256\">\n     <g id=\"line2d_511\">\n      <path clip-path=\"url(#pff55622139)\" d=\"M 376.153693 245.836875 \nL 376.153693 28.396875 \n\" style=\"fill:none;stroke:#b0b0b0;stroke-linecap:square;stroke-width:0.8;\"/>\n     </g>\n     <g id=\"line2d_512\">\n      <g>\n       <use style=\"stroke:#000000;stroke-width:0.8;\" x=\"376.153693\" xlink:href=\"#m3e725a0727\" y=\"245.836875\"/>\n      </g>\n     </g>\n     <g id=\"text_256\">\n      <!-- 6 -->\n      <g transform=\"translate(378.913068 259.199375)rotate(-90)scale(0.1 -0.1)\">\n       <use xlink:href=\"#DejaVuSans-54\"/>\n      </g>\n     </g>\n    </g>\n    <g id=\"text_257\">\n     <!-- Expected Loss (L) ($ '000) -->\n     <g transform=\"translate(125.959766 274.597031)scale(0.15 -0.15)\">\n      <defs>\n       <path d=\"M 9.8125 72.90625 \nL 55.90625 72.90625 \nL 55.90625 64.59375 \nL 19.671875 64.59375 \nL 19.671875 43.015625 \nL 54.390625 43.015625 \nL 54.390625 34.71875 \nL 19.671875 34.71875 \nL 19.671875 8.296875 \nL 56.78125 8.296875 \nL 56.78125 0 \nL 9.8125 0 \nz\n\" id=\"DejaVuSans-69\"/>\n       <path d=\"M 54.890625 54.6875 \nL 35.109375 28.078125 \nL 55.90625 0 \nL 45.3125 0 \nL 29.390625 21.484375 \nL 13.484375 0 \nL 2.875 0 \nL 24.125 28.609375 \nL 4.6875 54.6875 \nL 15.28125 54.6875 \nL 29.78125 35.203125 \nL 44.28125 54.6875 \nz\n\" id=\"DejaVuSans-120\"/>\n       <path d=\"M 18.109375 8.203125 \nL 18.109375 -20.796875 \nL 9.078125 -20.796875 \nL 9.078125 54.6875 \nL 18.109375 54.6875 \nL 18.109375 46.390625 \nQ 20.953125 51.265625 25.265625 53.625 \nQ 29.59375 56 35.59375 56 \nQ 45.5625 56 51.78125 48.09375 \nQ 58.015625 40.1875 58.015625 27.296875 \nQ 58.015625 14.40625 51.78125 6.484375 \nQ 45.5625 -1.421875 35.59375 -1.421875 \nQ 29.59375 -1.421875 25.265625 0.953125 \nQ 20.953125 3.328125 18.109375 8.203125 \nz\nM 48.6875 27.296875 \nQ 48.6875 37.203125 44.609375 42.84375 \nQ 40.53125 48.484375 33.40625 48.484375 \nQ 26.265625 48.484375 22.1875 42.84375 \nQ 18.109375 37.203125 18.109375 27.296875 \nQ 18.109375 17.390625 22.1875 11.75 \nQ 26.265625 6.109375 33.40625 6.109375 \nQ 40.53125 6.109375 44.609375 11.75 \nQ 48.6875 17.390625 48.6875 27.296875 \nz\n\" id=\"DejaVuSans-112\"/>\n       <path d=\"M 56.203125 29.59375 \nL 56.203125 25.203125 \nL 14.890625 25.203125 \nQ 15.484375 15.921875 20.484375 11.0625 \nQ 25.484375 6.203125 34.421875 6.203125 \nQ 39.59375 6.203125 44.453125 7.46875 \nQ 49.3125 8.734375 54.109375 11.28125 \nL 54.109375 2.78125 \nQ 49.265625 0.734375 44.1875 -0.34375 \nQ 39.109375 -1.421875 33.890625 -1.421875 \nQ 20.796875 -1.421875 13.15625 6.1875 \nQ 5.515625 13.8125 5.515625 26.8125 \nQ 5.515625 40.234375 12.765625 48.109375 \nQ 20.015625 56 32.328125 56 \nQ 43.359375 56 49.78125 48.890625 \nQ 56.203125 41.796875 56.203125 29.59375 \nz\nM 47.21875 32.234375 \nQ 47.125 39.59375 43.09375 43.984375 \nQ 39.0625 48.390625 32.421875 48.390625 \nQ 24.90625 48.390625 20.390625 44.140625 \nQ 15.875 39.890625 15.1875 32.171875 \nz\n\" id=\"DejaVuSans-101\"/>\n       <path d=\"M 48.78125 52.59375 \nL 48.78125 44.1875 \nQ 44.96875 46.296875 41.140625 47.34375 \nQ 37.3125 48.390625 33.40625 48.390625 \nQ 24.65625 48.390625 19.8125 42.84375 \nQ 14.984375 37.3125 14.984375 27.296875 \nQ 14.984375 17.28125 19.8125 11.734375 \nQ 24.65625 6.203125 33.40625 6.203125 \nQ 37.3125 6.203125 41.140625 7.25 \nQ 44.96875 8.296875 48.78125 10.40625 \nL 48.78125 2.09375 \nQ 45.015625 0.34375 40.984375 -0.53125 \nQ 36.96875 -1.421875 32.421875 -1.421875 \nQ 20.0625 -1.421875 12.78125 6.34375 \nQ 5.515625 14.109375 5.515625 27.296875 \nQ 5.515625 40.671875 12.859375 48.328125 \nQ 20.21875 56 33.015625 56 \nQ 37.15625 56 41.109375 55.140625 \nQ 45.0625 54.296875 48.78125 52.59375 \nz\n\" id=\"DejaVuSans-99\"/>\n       <path d=\"M 18.3125 70.21875 \nL 18.3125 54.6875 \nL 36.8125 54.6875 \nL 36.8125 47.703125 \nL 18.3125 47.703125 \nL 18.3125 18.015625 \nQ 18.3125 11.328125 20.140625 9.421875 \nQ 21.96875 7.515625 27.59375 7.515625 \nL 36.8125 7.515625 \nL 36.8125 0 \nL 27.59375 0 \nQ 17.1875 0 13.234375 3.875 \nQ 9.28125 7.765625 9.28125 18.015625 \nL 9.28125 47.703125 \nL 2.6875 47.703125 \nL 2.6875 54.6875 \nL 9.28125 54.6875 \nL 9.28125 70.21875 \nz\n\" id=\"DejaVuSans-116\"/>\n       <path d=\"M 45.40625 46.390625 \nL 45.40625 75.984375 \nL 54.390625 75.984375 \nL 54.390625 0 \nL 45.40625 0 \nL 45.40625 8.203125 \nQ 42.578125 3.328125 38.25 0.953125 \nQ 33.9375 -1.421875 27.875 -1.421875 \nQ 17.96875 -1.421875 11.734375 6.484375 \nQ 5.515625 14.40625 5.515625 27.296875 \nQ 5.515625 40.1875 11.734375 48.09375 \nQ 17.96875 56 27.875 56 \nQ 33.9375 56 38.25 53.625 \nQ 42.578125 51.265625 45.40625 46.390625 \nz\nM 14.796875 27.296875 \nQ 14.796875 17.390625 18.875 11.75 \nQ 22.953125 6.109375 30.078125 6.109375 \nQ 37.203125 6.109375 41.296875 11.75 \nQ 45.40625 17.390625 45.40625 27.296875 \nQ 45.40625 37.203125 41.296875 42.84375 \nQ 37.203125 48.484375 30.078125 48.484375 \nQ 22.953125 48.484375 18.875 42.84375 \nQ 14.796875 37.203125 14.796875 27.296875 \nz\n\" id=\"DejaVuSans-100\"/>\n       <path id=\"DejaVuSans-32\"/>\n       <path d=\"M 9.8125 72.90625 \nL 19.671875 72.90625 \nL 19.671875 8.296875 \nL 55.171875 8.296875 \nL 55.171875 0 \nL 9.8125 0 \nz\n\" id=\"DejaVuSans-76\"/>\n       <path d=\"M 30.609375 48.390625 \nQ 23.390625 48.390625 19.1875 42.75 \nQ 14.984375 37.109375 14.984375 27.296875 \nQ 14.984375 17.484375 19.15625 11.84375 \nQ 23.34375 6.203125 30.609375 6.203125 \nQ 37.796875 6.203125 41.984375 11.859375 \nQ 46.1875 17.53125 46.1875 27.296875 \nQ 46.1875 37.015625 41.984375 42.703125 \nQ 37.796875 48.390625 30.609375 48.390625 \nz\nM 30.609375 56 \nQ 42.328125 56 49.015625 48.375 \nQ 55.71875 40.765625 55.71875 27.296875 \nQ 55.71875 13.875 49.015625 6.21875 \nQ 42.328125 -1.421875 30.609375 -1.421875 \nQ 18.84375 -1.421875 12.171875 6.21875 \nQ 5.515625 13.875 5.515625 27.296875 \nQ 5.515625 40.765625 12.171875 48.375 \nQ 18.84375 56 30.609375 56 \nz\n\" id=\"DejaVuSans-111\"/>\n       <path d=\"M 44.28125 53.078125 \nL 44.28125 44.578125 \nQ 40.484375 46.53125 36.375 47.5 \nQ 32.28125 48.484375 27.875 48.484375 \nQ 21.1875 48.484375 17.84375 46.4375 \nQ 14.5 44.390625 14.5 40.28125 \nQ 14.5 37.15625 16.890625 35.375 \nQ 19.28125 33.59375 26.515625 31.984375 \nL 29.59375 31.296875 \nQ 39.15625 29.25 43.1875 25.515625 \nQ 47.21875 21.78125 47.21875 15.09375 \nQ 47.21875 7.46875 41.1875 3.015625 \nQ 35.15625 -1.421875 24.609375 -1.421875 \nQ 20.21875 -1.421875 15.453125 -0.5625 \nQ 10.6875 0.296875 5.421875 2 \nL 5.421875 11.28125 \nQ 10.40625 8.6875 15.234375 7.390625 \nQ 20.0625 6.109375 24.8125 6.109375 \nQ 31.15625 6.109375 34.5625 8.28125 \nQ 37.984375 10.453125 37.984375 14.40625 \nQ 37.984375 18.0625 35.515625 20.015625 \nQ 33.0625 21.96875 24.703125 23.78125 \nL 21.578125 24.515625 \nQ 13.234375 26.265625 9.515625 29.90625 \nQ 5.8125 33.546875 5.8125 39.890625 \nQ 5.8125 47.609375 11.28125 51.796875 \nQ 16.75 56 26.8125 56 \nQ 31.78125 56 36.171875 55.265625 \nQ 40.578125 54.546875 44.28125 53.078125 \nz\n\" id=\"DejaVuSans-115\"/>\n       <path d=\"M 31 75.875 \nQ 24.46875 64.65625 21.28125 53.65625 \nQ 18.109375 42.671875 18.109375 31.390625 \nQ 18.109375 20.125 21.3125 9.0625 \nQ 24.515625 -2 31 -13.1875 \nL 23.1875 -13.1875 \nQ 15.875 -1.703125 12.234375 9.375 \nQ 8.59375 20.453125 8.59375 31.390625 \nQ 8.59375 42.28125 12.203125 53.3125 \nQ 15.828125 64.359375 23.1875 75.875 \nz\n\" id=\"DejaVuSans-40\"/>\n       <path d=\"M 8.015625 75.875 \nL 15.828125 75.875 \nQ 23.140625 64.359375 26.78125 53.3125 \nQ 30.421875 42.28125 30.421875 31.390625 \nQ 30.421875 20.453125 26.78125 9.375 \nQ 23.140625 -1.703125 15.828125 -13.1875 \nL 8.015625 -13.1875 \nQ 14.5 -2 17.703125 9.0625 \nQ 20.90625 20.125 20.90625 31.390625 \nQ 20.90625 42.671875 17.703125 53.65625 \nQ 14.5 64.65625 8.015625 75.875 \nz\n\" id=\"DejaVuSans-41\"/>\n       <path d=\"M 33.796875 -14.703125 \nL 28.90625 -14.703125 \nL 28.859375 0 \nQ 23.734375 0.09375 18.609375 1.1875 \nQ 13.484375 2.296875 8.296875 4.5 \nL 8.296875 13.28125 \nQ 13.28125 10.15625 18.375 8.5625 \nQ 23.484375 6.984375 28.90625 6.9375 \nL 28.90625 29.203125 \nQ 18.109375 30.953125 13.203125 35.15625 \nQ 8.296875 39.359375 8.296875 46.6875 \nQ 8.296875 54.640625 13.625 59.21875 \nQ 18.953125 63.8125 28.90625 64.5 \nL 28.90625 75.984375 \nL 33.796875 75.984375 \nL 33.796875 64.65625 \nQ 38.328125 64.453125 42.578125 63.6875 \nQ 46.828125 62.9375 50.875 61.625 \nL 50.875 53.078125 \nQ 46.828125 55.125 42.546875 56.25 \nQ 38.28125 57.375 33.796875 57.5625 \nL 33.796875 36.71875 \nQ 44.875 35.015625 50.09375 30.609375 \nQ 55.328125 26.21875 55.328125 18.609375 \nQ 55.328125 10.359375 49.78125 5.59375 \nQ 44.234375 0.828125 33.796875 0.09375 \nz\nM 28.90625 37.59375 \nL 28.90625 57.625 \nQ 23.25 56.984375 20.265625 54.390625 \nQ 17.28125 51.8125 17.28125 47.515625 \nQ 17.28125 43.3125 20.03125 40.96875 \nQ 22.796875 38.625 28.90625 37.59375 \nz\nM 33.796875 28.21875 \nL 33.796875 7.078125 \nQ 39.984375 7.90625 43.140625 10.59375 \nQ 46.296875 13.28125 46.296875 17.671875 \nQ 46.296875 21.96875 43.28125 24.5 \nQ 40.28125 27.046875 33.796875 28.21875 \nz\n\" id=\"DejaVuSans-36\"/>\n       <path d=\"M 17.921875 72.90625 \nL 17.921875 45.796875 \nL 9.625 45.796875 \nL 9.625 72.90625 \nz\n\" id=\"DejaVuSans-39\"/>\n      </defs>\n      <use xlink:href=\"#DejaVuSans-69\"/>\n      <use x=\"63.183594\" xlink:href=\"#DejaVuSans-120\"/>\n      <use x=\"122.363281\" xlink:href=\"#DejaVuSans-112\"/>\n      <use x=\"185.839844\" xlink:href=\"#DejaVuSans-101\"/>\n      <use x=\"247.363281\" xlink:href=\"#DejaVuSans-99\"/>\n      <use x=\"302.34375\" xlink:href=\"#DejaVuSans-116\"/>\n      <use x=\"341.552734\" xlink:href=\"#DejaVuSans-101\"/>\n      <use x=\"403.076172\" xlink:href=\"#DejaVuSans-100\"/>\n      <use x=\"466.552734\" xlink:href=\"#DejaVuSans-32\"/>\n      <use x=\"498.339844\" xlink:href=\"#DejaVuSans-76\"/>\n      <use x=\"552.302734\" xlink:href=\"#DejaVuSans-111\"/>\n      <use x=\"613.484375\" xlink:href=\"#DejaVuSans-115\"/>\n      <use x=\"665.583984\" xlink:href=\"#DejaVuSans-115\"/>\n      <use x=\"717.683594\" xlink:href=\"#DejaVuSans-32\"/>\n      <use x=\"749.470703\" xlink:href=\"#DejaVuSans-40\"/>\n      <use x=\"788.484375\" xlink:href=\"#DejaVuSans-76\"/>\n      <use x=\"844.197266\" xlink:href=\"#DejaVuSans-41\"/>\n      <use x=\"883.210938\" xlink:href=\"#DejaVuSans-32\"/>\n      <use x=\"914.998047\" xlink:href=\"#DejaVuSans-40\"/>\n      <use x=\"954.011719\" xlink:href=\"#DejaVuSans-36\"/>\n      <use x=\"1017.634766\" xlink:href=\"#DejaVuSans-32\"/>\n      <use x=\"1049.421875\" xlink:href=\"#DejaVuSans-39\"/>\n      <use x=\"1076.912109\" xlink:href=\"#DejaVuSans-48\"/>\n      <use x=\"1140.535156\" xlink:href=\"#DejaVuSans-48\"/>\n      <use x=\"1204.158203\" xlink:href=\"#DejaVuSans-48\"/>\n      <use x=\"1267.78125\" xlink:href=\"#DejaVuSans-41\"/>\n     </g>\n    </g>\n   </g>\n   <g id=\"matplotlib.axis_2\">\n    <g id=\"ytick_1\">\n     <g id=\"line2d_513\">\n      <path clip-path=\"url(#pff55622139)\" d=\"M 56.571875 237.853349 \nL 391.371875 237.853349 \n\" style=\"fill:none;stroke:#b0b0b0;stroke-linecap:square;stroke-width:0.8;\"/>\n     </g>\n     <g id=\"line2d_514\">\n      <defs>\n       <path d=\"M 0 0 \nL -3.5 0 \n\" id=\"m711a75f98e\" style=\"stroke:#000000;stroke-width:0.8;\"/>\n      </defs>\n      <g>\n       <use style=\"stroke:#000000;stroke-width:0.8;\" x=\"56.571875\" xlink:href=\"#m711a75f98e\" y=\"237.853349\"/>\n      </g>\n     </g>\n     <g id=\"text_258\">\n      <!-- 0.0 -->\n      <g transform=\"translate(25.717188 243.552177)scale(0.15 -0.15)\">\n       <defs>\n        <path d=\"M 10.6875 12.40625 \nL 21 12.40625 \nL 21 0 \nL 10.6875 0 \nz\n\" id=\"DejaVuSans-46\"/>\n       </defs>\n       <use xlink:href=\"#DejaVuSans-48\"/>\n       <use x=\"63.623047\" xlink:href=\"#DejaVuSans-46\"/>\n       <use x=\"95.410156\" xlink:href=\"#DejaVuSans-48\"/>\n      </g>\n     </g>\n    </g>\n    <g id=\"ytick_2\">\n     <g id=\"line2d_515\">\n      <path clip-path=\"url(#pff55622139)\" d=\"M 56.571875 197.938782 \nL 391.371875 197.938782 \n\" style=\"fill:none;stroke:#b0b0b0;stroke-linecap:square;stroke-width:0.8;\"/>\n     </g>\n     <g id=\"line2d_516\">\n      <g>\n       <use style=\"stroke:#000000;stroke-width:0.8;\" x=\"56.571875\" xlink:href=\"#m711a75f98e\" y=\"197.938782\"/>\n      </g>\n     </g>\n     <g id=\"text_259\">\n      <!-- 0.2 -->\n      <g transform=\"translate(25.717188 203.63761)scale(0.15 -0.15)\">\n       <use xlink:href=\"#DejaVuSans-48\"/>\n       <use x=\"63.623047\" xlink:href=\"#DejaVuSans-46\"/>\n       <use x=\"95.410156\" xlink:href=\"#DejaVuSans-50\"/>\n      </g>\n     </g>\n    </g>\n    <g id=\"ytick_3\">\n     <g id=\"line2d_517\">\n      <path clip-path=\"url(#pff55622139)\" d=\"M 56.571875 158.024214 \nL 391.371875 158.024214 \n\" style=\"fill:none;stroke:#b0b0b0;stroke-linecap:square;stroke-width:0.8;\"/>\n     </g>\n     <g id=\"line2d_518\">\n      <g>\n       <use style=\"stroke:#000000;stroke-width:0.8;\" x=\"56.571875\" xlink:href=\"#m711a75f98e\" y=\"158.024214\"/>\n      </g>\n     </g>\n     <g id=\"text_260\">\n      <!-- 0.4 -->\n      <g transform=\"translate(25.717188 163.723042)scale(0.15 -0.15)\">\n       <use xlink:href=\"#DejaVuSans-48\"/>\n       <use x=\"63.623047\" xlink:href=\"#DejaVuSans-46\"/>\n       <use x=\"95.410156\" xlink:href=\"#DejaVuSans-52\"/>\n      </g>\n     </g>\n    </g>\n    <g id=\"ytick_4\">\n     <g id=\"line2d_519\">\n      <path clip-path=\"url(#pff55622139)\" d=\"M 56.571875 118.109647 \nL 391.371875 118.109647 \n\" style=\"fill:none;stroke:#b0b0b0;stroke-linecap:square;stroke-width:0.8;\"/>\n     </g>\n     <g id=\"line2d_520\">\n      <g>\n       <use style=\"stroke:#000000;stroke-width:0.8;\" x=\"56.571875\" xlink:href=\"#m711a75f98e\" y=\"118.109647\"/>\n      </g>\n     </g>\n     <g id=\"text_261\">\n      <!-- 0.6 -->\n      <g transform=\"translate(25.717188 123.808475)scale(0.15 -0.15)\">\n       <use xlink:href=\"#DejaVuSans-48\"/>\n       <use x=\"63.623047\" xlink:href=\"#DejaVuSans-46\"/>\n       <use x=\"95.410156\" xlink:href=\"#DejaVuSans-54\"/>\n      </g>\n     </g>\n    </g>\n    <g id=\"ytick_5\">\n     <g id=\"line2d_521\">\n      <path clip-path=\"url(#pff55622139)\" d=\"M 56.571875 78.195079 \nL 391.371875 78.195079 \n\" style=\"fill:none;stroke:#b0b0b0;stroke-linecap:square;stroke-width:0.8;\"/>\n     </g>\n     <g id=\"line2d_522\">\n      <g>\n       <use style=\"stroke:#000000;stroke-width:0.8;\" x=\"56.571875\" xlink:href=\"#m711a75f98e\" y=\"78.195079\"/>\n      </g>\n     </g>\n     <g id=\"text_262\">\n      <!-- 0.8 -->\n      <g transform=\"translate(25.717188 83.893907)scale(0.15 -0.15)\">\n       <defs>\n        <path d=\"M 31.78125 34.625 \nQ 24.75 34.625 20.71875 30.859375 \nQ 16.703125 27.09375 16.703125 20.515625 \nQ 16.703125 13.921875 20.71875 10.15625 \nQ 24.75 6.390625 31.78125 6.390625 \nQ 38.8125 6.390625 42.859375 10.171875 \nQ 46.921875 13.96875 46.921875 20.515625 \nQ 46.921875 27.09375 42.890625 30.859375 \nQ 38.875 34.625 31.78125 34.625 \nz\nM 21.921875 38.8125 \nQ 15.578125 40.375 12.03125 44.71875 \nQ 8.5 49.078125 8.5 55.328125 \nQ 8.5 64.0625 14.71875 69.140625 \nQ 20.953125 74.21875 31.78125 74.21875 \nQ 42.671875 74.21875 48.875 69.140625 \nQ 55.078125 64.0625 55.078125 55.328125 \nQ 55.078125 49.078125 51.53125 44.71875 \nQ 48 40.375 41.703125 38.8125 \nQ 48.828125 37.15625 52.796875 32.3125 \nQ 56.78125 27.484375 56.78125 20.515625 \nQ 56.78125 9.90625 50.3125 4.234375 \nQ 43.84375 -1.421875 31.78125 -1.421875 \nQ 19.734375 -1.421875 13.25 4.234375 \nQ 6.78125 9.90625 6.78125 20.515625 \nQ 6.78125 27.484375 10.78125 32.3125 \nQ 14.796875 37.15625 21.921875 38.8125 \nz\nM 18.3125 54.390625 \nQ 18.3125 48.734375 21.84375 45.5625 \nQ 25.390625 42.390625 31.78125 42.390625 \nQ 38.140625 42.390625 41.71875 45.5625 \nQ 45.3125 48.734375 45.3125 54.390625 \nQ 45.3125 60.0625 41.71875 63.234375 \nQ 38.140625 66.40625 31.78125 66.40625 \nQ 25.390625 66.40625 21.84375 63.234375 \nQ 18.3125 60.0625 18.3125 54.390625 \nz\n\" id=\"DejaVuSans-56\"/>\n       </defs>\n       <use xlink:href=\"#DejaVuSans-48\"/>\n       <use x=\"63.623047\" xlink:href=\"#DejaVuSans-46\"/>\n       <use x=\"95.410156\" xlink:href=\"#DejaVuSans-56\"/>\n      </g>\n     </g>\n    </g>\n    <g id=\"ytick_6\">\n     <g id=\"line2d_523\">\n      <path clip-path=\"url(#pff55622139)\" d=\"M 56.571875 38.280511 \nL 391.371875 38.280511 \n\" style=\"fill:none;stroke:#b0b0b0;stroke-linecap:square;stroke-width:0.8;\"/>\n     </g>\n     <g id=\"line2d_524\">\n      <g>\n       <use style=\"stroke:#000000;stroke-width:0.8;\" x=\"56.571875\" xlink:href=\"#m711a75f98e\" y=\"38.280511\"/>\n      </g>\n     </g>\n     <g id=\"text_263\">\n      <!-- 1.0 -->\n      <g transform=\"translate(25.717188 43.979339)scale(0.15 -0.15)\">\n       <use xlink:href=\"#DejaVuSans-49\"/>\n       <use x=\"63.623047\" xlink:href=\"#DejaVuSans-46\"/>\n       <use x=\"95.410156\" xlink:href=\"#DejaVuSans-48\"/>\n      </g>\n     </g>\n    </g>\n    <g id=\"text_264\">\n     <!-- Probability (%) -->\n     <g transform=\"translate(18.597656 192.122344)rotate(-90)scale(0.15 -0.15)\">\n      <defs>\n       <path d=\"M 19.671875 64.796875 \nL 19.671875 37.40625 \nL 32.078125 37.40625 \nQ 38.96875 37.40625 42.71875 40.96875 \nQ 46.484375 44.53125 46.484375 51.125 \nQ 46.484375 57.671875 42.71875 61.234375 \nQ 38.96875 64.796875 32.078125 64.796875 \nz\nM 9.8125 72.90625 \nL 32.078125 72.90625 \nQ 44.34375 72.90625 50.609375 67.359375 \nQ 56.890625 61.8125 56.890625 51.125 \nQ 56.890625 40.328125 50.609375 34.8125 \nQ 44.34375 29.296875 32.078125 29.296875 \nL 19.671875 29.296875 \nL 19.671875 0 \nL 9.8125 0 \nz\n\" id=\"DejaVuSans-80\"/>\n       <path d=\"M 41.109375 46.296875 \nQ 39.59375 47.171875 37.8125 47.578125 \nQ 36.03125 48 33.890625 48 \nQ 26.265625 48 22.1875 43.046875 \nQ 18.109375 38.09375 18.109375 28.8125 \nL 18.109375 0 \nL 9.078125 0 \nL 9.078125 54.6875 \nL 18.109375 54.6875 \nL 18.109375 46.1875 \nQ 20.953125 51.171875 25.484375 53.578125 \nQ 30.03125 56 36.53125 56 \nQ 37.453125 56 38.578125 55.875 \nQ 39.703125 55.765625 41.0625 55.515625 \nz\n\" id=\"DejaVuSans-114\"/>\n       <path d=\"M 48.6875 27.296875 \nQ 48.6875 37.203125 44.609375 42.84375 \nQ 40.53125 48.484375 33.40625 48.484375 \nQ 26.265625 48.484375 22.1875 42.84375 \nQ 18.109375 37.203125 18.109375 27.296875 \nQ 18.109375 17.390625 22.1875 11.75 \nQ 26.265625 6.109375 33.40625 6.109375 \nQ 40.53125 6.109375 44.609375 11.75 \nQ 48.6875 17.390625 48.6875 27.296875 \nz\nM 18.109375 46.390625 \nQ 20.953125 51.265625 25.265625 53.625 \nQ 29.59375 56 35.59375 56 \nQ 45.5625 56 51.78125 48.09375 \nQ 58.015625 40.1875 58.015625 27.296875 \nQ 58.015625 14.40625 51.78125 6.484375 \nQ 45.5625 -1.421875 35.59375 -1.421875 \nQ 29.59375 -1.421875 25.265625 0.953125 \nQ 20.953125 3.328125 18.109375 8.203125 \nL 18.109375 0 \nL 9.078125 0 \nL 9.078125 75.984375 \nL 18.109375 75.984375 \nz\n\" id=\"DejaVuSans-98\"/>\n       <path d=\"M 34.28125 27.484375 \nQ 23.390625 27.484375 19.1875 25 \nQ 14.984375 22.515625 14.984375 16.5 \nQ 14.984375 11.71875 18.140625 8.90625 \nQ 21.296875 6.109375 26.703125 6.109375 \nQ 34.1875 6.109375 38.703125 11.40625 \nQ 43.21875 16.703125 43.21875 25.484375 \nL 43.21875 27.484375 \nz\nM 52.203125 31.203125 \nL 52.203125 0 \nL 43.21875 0 \nL 43.21875 8.296875 \nQ 40.140625 3.328125 35.546875 0.953125 \nQ 30.953125 -1.421875 24.3125 -1.421875 \nQ 15.921875 -1.421875 10.953125 3.296875 \nQ 6 8.015625 6 15.921875 \nQ 6 25.140625 12.171875 29.828125 \nQ 18.359375 34.515625 30.609375 34.515625 \nL 43.21875 34.515625 \nL 43.21875 35.40625 \nQ 43.21875 41.609375 39.140625 45 \nQ 35.0625 48.390625 27.6875 48.390625 \nQ 23 48.390625 18.546875 47.265625 \nQ 14.109375 46.140625 10.015625 43.890625 \nL 10.015625 52.203125 \nQ 14.9375 54.109375 19.578125 55.046875 \nQ 24.21875 56 28.609375 56 \nQ 40.484375 56 46.34375 49.84375 \nQ 52.203125 43.703125 52.203125 31.203125 \nz\n\" id=\"DejaVuSans-97\"/>\n       <path d=\"M 9.421875 54.6875 \nL 18.40625 54.6875 \nL 18.40625 0 \nL 9.421875 0 \nz\nM 9.421875 75.984375 \nL 18.40625 75.984375 \nL 18.40625 64.59375 \nL 9.421875 64.59375 \nz\n\" id=\"DejaVuSans-105\"/>\n       <path d=\"M 9.421875 75.984375 \nL 18.40625 75.984375 \nL 18.40625 0 \nL 9.421875 0 \nz\n\" id=\"DejaVuSans-108\"/>\n       <path d=\"M 32.171875 -5.078125 \nQ 28.375 -14.84375 24.75 -17.8125 \nQ 21.140625 -20.796875 15.09375 -20.796875 \nL 7.90625 -20.796875 \nL 7.90625 -13.28125 \nL 13.1875 -13.28125 \nQ 16.890625 -13.28125 18.9375 -11.515625 \nQ 21 -9.765625 23.484375 -3.21875 \nL 25.09375 0.875 \nL 2.984375 54.6875 \nL 12.5 54.6875 \nL 29.59375 11.921875 \nL 46.6875 54.6875 \nL 56.203125 54.6875 \nz\n\" id=\"DejaVuSans-121\"/>\n       <path d=\"M 72.703125 32.078125 \nQ 68.453125 32.078125 66.03125 28.46875 \nQ 63.625 24.859375 63.625 18.40625 \nQ 63.625 12.0625 66.03125 8.421875 \nQ 68.453125 4.78125 72.703125 4.78125 \nQ 76.859375 4.78125 79.265625 8.421875 \nQ 81.6875 12.0625 81.6875 18.40625 \nQ 81.6875 24.8125 79.265625 28.4375 \nQ 76.859375 32.078125 72.703125 32.078125 \nz\nM 72.703125 38.28125 \nQ 80.421875 38.28125 84.953125 32.90625 \nQ 89.5 27.546875 89.5 18.40625 \nQ 89.5 9.28125 84.9375 3.921875 \nQ 80.375 -1.421875 72.703125 -1.421875 \nQ 64.890625 -1.421875 60.34375 3.921875 \nQ 55.8125 9.28125 55.8125 18.40625 \nQ 55.8125 27.59375 60.375 32.9375 \nQ 64.9375 38.28125 72.703125 38.28125 \nz\nM 22.3125 68.015625 \nQ 18.109375 68.015625 15.6875 64.375 \nQ 13.28125 60.75 13.28125 54.390625 \nQ 13.28125 47.953125 15.671875 44.328125 \nQ 18.0625 40.71875 22.3125 40.71875 \nQ 26.5625 40.71875 28.96875 44.328125 \nQ 31.390625 47.953125 31.390625 54.390625 \nQ 31.390625 60.6875 28.953125 64.34375 \nQ 26.515625 68.015625 22.3125 68.015625 \nz\nM 66.40625 74.21875 \nL 74.21875 74.21875 \nL 28.609375 -1.421875 \nL 20.796875 -1.421875 \nz\nM 22.3125 74.21875 \nQ 30.03125 74.21875 34.609375 68.875 \nQ 39.203125 63.53125 39.203125 54.390625 \nQ 39.203125 45.171875 34.640625 39.84375 \nQ 30.078125 34.515625 22.3125 34.515625 \nQ 14.546875 34.515625 10.03125 39.859375 \nQ 5.515625 45.21875 5.515625 54.390625 \nQ 5.515625 63.484375 10.046875 68.84375 \nQ 14.59375 74.21875 22.3125 74.21875 \nz\n\" id=\"DejaVuSans-37\"/>\n      </defs>\n      <use xlink:href=\"#DejaVuSans-80\"/>\n      <use x=\"58.552734\" xlink:href=\"#DejaVuSans-114\"/>\n      <use x=\"97.416016\" xlink:href=\"#DejaVuSans-111\"/>\n      <use x=\"158.597656\" xlink:href=\"#DejaVuSans-98\"/>\n      <use x=\"222.074219\" xlink:href=\"#DejaVuSans-97\"/>\n      <use x=\"283.353516\" xlink:href=\"#DejaVuSans-98\"/>\n      <use x=\"346.830078\" xlink:href=\"#DejaVuSans-105\"/>\n      <use x=\"374.613281\" xlink:href=\"#DejaVuSans-108\"/>\n      <use x=\"402.396484\" xlink:href=\"#DejaVuSans-105\"/>\n      <use x=\"430.179688\" xlink:href=\"#DejaVuSans-116\"/>\n      <use x=\"469.388672\" xlink:href=\"#DejaVuSans-121\"/>\n      <use x=\"528.568359\" xlink:href=\"#DejaVuSans-32\"/>\n      <use x=\"560.355469\" xlink:href=\"#DejaVuSans-40\"/>\n      <use x=\"599.369141\" xlink:href=\"#DejaVuSans-37\"/>\n      <use x=\"694.388672\" xlink:href=\"#DejaVuSans-41\"/>\n     </g>\n    </g>\n   </g>\n   <g id=\"line2d_525\">\n    <path clip-path=\"url(#pff55622139)\" d=\"M 71.790057 132.41097 \nL 122.51733 116.210545 \nL 173.244602 83.383617 \nL 223.971875 53.364713 \nL 274.699148 48.788585 \nL 325.42642 40.180622 \nL 376.153693 38.280511 \n\" style=\"fill:none;stroke:#1f77b4;stroke-linecap:square;stroke-width:1.5;\"/>\n   </g>\n   <g id=\"line2d_526\">\n    <path clip-path=\"url(#pff55622139)\" d=\"M 71.790057 132.41097 \nL 122.51733 221.652924 \nL 173.244602 205.026422 \nL 223.971875 207.834445 \nL 274.699148 233.277222 \nL 325.42642 229.245386 \nL 376.153693 235.953239 \n\" style=\"fill:none;stroke:#ff7f0e;stroke-linecap:square;stroke-width:1.5;\"/>\n   </g>\n   <g id=\"line2d_527\">\n    <path clip-path=\"url(#pff55622139)\" d=\"M 133.97653 245.836875 \nL 133.97653 28.396875 \n\" style=\"fill:none;stroke:#008000;stroke-dasharray:5.55,2.4;stroke-dashoffset:0;stroke-width:1.5;\"/>\n   </g>\n   <g id=\"line2d_528\">\n    <path clip-path=\"url(#pff55622139)\" d=\"M 325.42642 245.836875 \nL 325.42642 28.396875 \n\" style=\"fill:none;stroke:#ffa500;stroke-dasharray:5.55,2.4;stroke-dashoffset:0;stroke-width:1.5;\"/>\n   </g>\n   <g id=\"line2d_529\">\n    <path clip-path=\"url(#pff55622139)\" d=\"M 376.153693 245.836875 \nL 376.153693 28.396875 \n\" style=\"fill:none;stroke:#ff0000;stroke-dasharray:5.55,2.4;stroke-dashoffset:0;stroke-width:1.5;\"/>\n   </g>\n   <g id=\"patch_3\">\n    <path d=\"M 56.571875 245.836875 \nL 56.571875 28.396875 \n\" style=\"fill:none;stroke:#000000;stroke-linecap:square;stroke-linejoin:miter;stroke-width:0.8;\"/>\n   </g>\n   <g id=\"patch_4\">\n    <path d=\"M 391.371875 245.836875 \nL 391.371875 28.396875 \n\" style=\"fill:none;stroke:#000000;stroke-linecap:square;stroke-linejoin:miter;stroke-width:0.8;\"/>\n   </g>\n   <g id=\"patch_5\">\n    <path d=\"M 56.571875 245.836875 \nL 391.371875 245.836875 \n\" style=\"fill:none;stroke:#000000;stroke-linecap:square;stroke-linejoin:miter;stroke-width:0.8;\"/>\n   </g>\n   <g id=\"patch_6\">\n    <path d=\"M 56.571875 28.396875 \nL 391.371875 28.396875 \n\" style=\"fill:none;stroke:#000000;stroke-linecap:square;stroke-linejoin:miter;stroke-width:0.8;\"/>\n   </g>\n   <g id=\"text_265\">\n    <!-- Expected Loss Probabilities -->\n    <g transform=\"translate(87.942187 22.396875)scale(0.2 -0.2)\">\n     <use xlink:href=\"#DejaVuSans-69\"/>\n     <use x=\"63.183594\" xlink:href=\"#DejaVuSans-120\"/>\n     <use x=\"122.363281\" xlink:href=\"#DejaVuSans-112\"/>\n     <use x=\"185.839844\" xlink:href=\"#DejaVuSans-101\"/>\n     <use x=\"247.363281\" xlink:href=\"#DejaVuSans-99\"/>\n     <use x=\"302.34375\" xlink:href=\"#DejaVuSans-116\"/>\n     <use x=\"341.552734\" xlink:href=\"#DejaVuSans-101\"/>\n     <use x=\"403.076172\" xlink:href=\"#DejaVuSans-100\"/>\n     <use x=\"466.552734\" xlink:href=\"#DejaVuSans-32\"/>\n     <use x=\"498.339844\" xlink:href=\"#DejaVuSans-76\"/>\n     <use x=\"552.302734\" xlink:href=\"#DejaVuSans-111\"/>\n     <use x=\"613.484375\" xlink:href=\"#DejaVuSans-115\"/>\n     <use x=\"665.583984\" xlink:href=\"#DejaVuSans-115\"/>\n     <use x=\"717.683594\" xlink:href=\"#DejaVuSans-32\"/>\n     <use x=\"749.470703\" xlink:href=\"#DejaVuSans-80\"/>\n     <use x=\"808.023438\" xlink:href=\"#DejaVuSans-114\"/>\n     <use x=\"846.886719\" xlink:href=\"#DejaVuSans-111\"/>\n     <use x=\"908.068359\" xlink:href=\"#DejaVuSans-98\"/>\n     <use x=\"971.544922\" xlink:href=\"#DejaVuSans-97\"/>\n     <use x=\"1032.824219\" xlink:href=\"#DejaVuSans-98\"/>\n     <use x=\"1096.300781\" xlink:href=\"#DejaVuSans-105\"/>\n     <use x=\"1124.083984\" xlink:href=\"#DejaVuSans-108\"/>\n     <use x=\"1151.867188\" xlink:href=\"#DejaVuSans-105\"/>\n     <use x=\"1179.650391\" xlink:href=\"#DejaVuSans-116\"/>\n     <use x=\"1218.859375\" xlink:href=\"#DejaVuSans-105\"/>\n     <use x=\"1246.642578\" xlink:href=\"#DejaVuSans-101\"/>\n     <use x=\"1308.166016\" xlink:href=\"#DejaVuSans-115\"/>\n    </g>\n   </g>\n   <g id=\"legend_1\">\n    <g id=\"patch_7\">\n     <path d=\"M 188.221875 175.312188 \nL 259.721875 175.312188 \nQ 261.721875 175.312188 261.721875 173.312188 \nL 261.721875 100.921563 \nQ 261.721875 98.921563 259.721875 98.921563 \nL 188.221875 98.921563 \nQ 186.221875 98.921563 186.221875 100.921563 \nL 186.221875 173.312188 \nQ 186.221875 175.312188 188.221875 175.312188 \nz\n\" style=\"fill:#ffffff;opacity:0.8;stroke:#cccccc;stroke-linejoin:miter;\"/>\n    </g>\n    <g id=\"line2d_530\">\n     <path d=\"M 190.221875 107.02 \nL 210.221875 107.02 \n\" style=\"fill:none;stroke:#1f77b4;stroke-linecap:square;stroke-width:1.5;\"/>\n    </g>\n    <g id=\"line2d_531\"/>\n    <g id=\"text_266\">\n     <!-- CDF -->\n     <g transform=\"translate(218.221875 110.52)scale(0.1 -0.1)\">\n      <defs>\n       <path d=\"M 64.40625 67.28125 \nL 64.40625 56.890625 \nQ 59.421875 61.53125 53.78125 63.8125 \nQ 48.140625 66.109375 41.796875 66.109375 \nQ 29.296875 66.109375 22.65625 58.46875 \nQ 16.015625 50.828125 16.015625 36.375 \nQ 16.015625 21.96875 22.65625 14.328125 \nQ 29.296875 6.6875 41.796875 6.6875 \nQ 48.140625 6.6875 53.78125 8.984375 \nQ 59.421875 11.28125 64.40625 15.921875 \nL 64.40625 5.609375 \nQ 59.234375 2.09375 53.4375 0.328125 \nQ 47.65625 -1.421875 41.21875 -1.421875 \nQ 24.65625 -1.421875 15.125 8.703125 \nQ 5.609375 18.84375 5.609375 36.375 \nQ 5.609375 53.953125 15.125 64.078125 \nQ 24.65625 74.21875 41.21875 74.21875 \nQ 47.75 74.21875 53.53125 72.484375 \nQ 59.328125 70.75 64.40625 67.28125 \nz\n\" id=\"DejaVuSans-67\"/>\n       <path d=\"M 19.671875 64.796875 \nL 19.671875 8.109375 \nL 31.59375 8.109375 \nQ 46.6875 8.109375 53.6875 14.9375 \nQ 60.6875 21.78125 60.6875 36.53125 \nQ 60.6875 51.171875 53.6875 57.984375 \nQ 46.6875 64.796875 31.59375 64.796875 \nz\nM 9.8125 72.90625 \nL 30.078125 72.90625 \nQ 51.265625 72.90625 61.171875 64.09375 \nQ 71.09375 55.28125 71.09375 36.53125 \nQ 71.09375 17.671875 61.125 8.828125 \nQ 51.171875 0 30.078125 0 \nL 9.8125 0 \nz\n\" id=\"DejaVuSans-68\"/>\n       <path d=\"M 9.8125 72.90625 \nL 51.703125 72.90625 \nL 51.703125 64.59375 \nL 19.671875 64.59375 \nL 19.671875 43.109375 \nL 48.578125 43.109375 \nL 48.578125 34.8125 \nL 19.671875 34.8125 \nL 19.671875 0 \nL 9.8125 0 \nz\n\" id=\"DejaVuSans-70\"/>\n      </defs>\n      <use xlink:href=\"#DejaVuSans-67\"/>\n      <use x=\"69.824219\" xlink:href=\"#DejaVuSans-68\"/>\n      <use x=\"146.826172\" xlink:href=\"#DejaVuSans-70\"/>\n     </g>\n    </g>\n    <g id=\"line2d_532\">\n     <path d=\"M 190.221875 121.698125 \nL 210.221875 121.698125 \n\" style=\"fill:none;stroke:#ff7f0e;stroke-linecap:square;stroke-width:1.5;\"/>\n    </g>\n    <g id=\"line2d_533\"/>\n    <g id=\"text_267\">\n     <!-- PDF -->\n     <g transform=\"translate(218.221875 125.198125)scale(0.1 -0.1)\">\n      <use xlink:href=\"#DejaVuSans-80\"/>\n      <use x=\"60.302734\" xlink:href=\"#DejaVuSans-68\"/>\n      <use x=\"137.304688\" xlink:href=\"#DejaVuSans-70\"/>\n     </g>\n    </g>\n    <g id=\"line2d_534\">\n     <path d=\"M 190.221875 136.37625 \nL 210.221875 136.37625 \n\" style=\"fill:none;stroke:#008000;stroke-dasharray:5.55,2.4;stroke-dashoffset:0;stroke-width:1.5;\"/>\n    </g>\n    <g id=\"line2d_535\"/>\n    <g id=\"text_268\">\n     <!-- E[L] -->\n     <g transform=\"translate(218.221875 139.87625)scale(0.1 -0.1)\">\n      <defs>\n       <path d=\"M 8.59375 75.984375 \nL 29.296875 75.984375 \nL 29.296875 69 \nL 17.578125 69 \nL 17.578125 -6.203125 \nL 29.296875 -6.203125 \nL 29.296875 -13.1875 \nL 8.59375 -13.1875 \nz\n\" id=\"DejaVuSans-91\"/>\n       <path d=\"M 30.421875 75.984375 \nL 30.421875 -13.1875 \nL 9.71875 -13.1875 \nL 9.71875 -6.203125 \nL 21.390625 -6.203125 \nL 21.390625 69 \nL 9.71875 69 \nL 9.71875 75.984375 \nz\n\" id=\"DejaVuSans-93\"/>\n      </defs>\n      <use xlink:href=\"#DejaVuSans-69\"/>\n      <use x=\"63.183594\" xlink:href=\"#DejaVuSans-91\"/>\n      <use x=\"102.197266\" xlink:href=\"#DejaVuSans-76\"/>\n      <use x=\"157.910156\" xlink:href=\"#DejaVuSans-93\"/>\n     </g>\n    </g>\n    <g id=\"line2d_536\">\n     <path d=\"M 190.221875 151.054375 \nL 210.221875 151.054375 \n\" style=\"fill:none;stroke:#ffa500;stroke-dasharray:5.55,2.4;stroke-dashoffset:0;stroke-width:1.5;\"/>\n    </g>\n    <g id=\"line2d_537\"/>\n    <g id=\"text_269\">\n     <!-- VaR(L) -->\n     <g transform=\"translate(218.221875 154.554375)scale(0.1 -0.1)\">\n      <defs>\n       <path d=\"M 28.609375 0 \nL 0.78125 72.90625 \nL 11.078125 72.90625 \nL 34.1875 11.53125 \nL 57.328125 72.90625 \nL 67.578125 72.90625 \nL 39.796875 0 \nz\n\" id=\"DejaVuSans-86\"/>\n       <path d=\"M 44.390625 34.1875 \nQ 47.5625 33.109375 50.5625 29.59375 \nQ 53.5625 26.078125 56.59375 19.921875 \nL 66.609375 0 \nL 56 0 \nL 46.6875 18.703125 \nQ 43.0625 26.03125 39.671875 28.421875 \nQ 36.28125 30.8125 30.421875 30.8125 \nL 19.671875 30.8125 \nL 19.671875 0 \nL 9.8125 0 \nL 9.8125 72.90625 \nL 32.078125 72.90625 \nQ 44.578125 72.90625 50.734375 67.671875 \nQ 56.890625 62.453125 56.890625 51.90625 \nQ 56.890625 45.015625 53.6875 40.46875 \nQ 50.484375 35.9375 44.390625 34.1875 \nz\nM 19.671875 64.796875 \nL 19.671875 38.921875 \nL 32.078125 38.921875 \nQ 39.203125 38.921875 42.84375 42.21875 \nQ 46.484375 45.515625 46.484375 51.90625 \nQ 46.484375 58.296875 42.84375 61.546875 \nQ 39.203125 64.796875 32.078125 64.796875 \nz\n\" id=\"DejaVuSans-82\"/>\n      </defs>\n      <use xlink:href=\"#DejaVuSans-86\"/>\n      <use x=\"60.658203\" xlink:href=\"#DejaVuSans-97\"/>\n      <use x=\"121.9375\" xlink:href=\"#DejaVuSans-82\"/>\n      <use x=\"191.419922\" xlink:href=\"#DejaVuSans-40\"/>\n      <use x=\"230.433594\" xlink:href=\"#DejaVuSans-76\"/>\n      <use x=\"286.146484\" xlink:href=\"#DejaVuSans-41\"/>\n     </g>\n    </g>\n    <g id=\"line2d_538\">\n     <path d=\"M 190.221875 165.7325 \nL 210.221875 165.7325 \n\" style=\"fill:none;stroke:#ff0000;stroke-dasharray:5.55,2.4;stroke-dashoffset:0;stroke-width:1.5;\"/>\n    </g>\n    <g id=\"line2d_539\"/>\n    <g id=\"text_270\">\n     <!-- CVaR(L) -->\n     <g transform=\"translate(218.221875 169.2325)scale(0.1 -0.1)\">\n      <use xlink:href=\"#DejaVuSans-67\"/>\n      <use x=\"69.824219\" xlink:href=\"#DejaVuSans-86\"/>\n      <use x=\"130.482422\" xlink:href=\"#DejaVuSans-97\"/>\n      <use x=\"191.761719\" xlink:href=\"#DejaVuSans-82\"/>\n      <use x=\"261.244141\" xlink:href=\"#DejaVuSans-40\"/>\n      <use x=\"300.257812\" xlink:href=\"#DejaVuSans-76\"/>\n      <use x=\"355.970703\" xlink:href=\"#DejaVuSans-41\"/>\n     </g>\n    </g>\n   </g>\n  </g>\n </g>\n <defs>\n  <clipPath id=\"pff55622139\">\n   <rect height=\"217.44\" width=\"334.8\" x=\"56.571875\" y=\"28.396875\"/>\n  </clipPath>\n </defs>\n</svg>\n",
      "image/png": "[encoded data removed]"
     },
     "metadata": {
      "needs_background": "light"
     }
    }
   ],
   "source": [
    "plt.plot(np.unique(values), cdf, label=\"CDF\")\n",
    "plt.plot(np.unique(values), pdf, label=\"PDF\")\n",
    "plt.xlabel('Expected Loss (L) ($ \\'000)', size=15)\n",
    "plt.ylabel('Probability (%)', size=15)\n",
    "plt.title('Expected Loss Probabilities', size=20)\n",
    "plt.xticks(values, size=10, rotation=90)\n",
    "plt.yticks(size=15)\n",
    "plt.axvline(expected_loss, color='green', linestyle='--', label='E[L]')\n",
    "plt.axvline(exact_var, color='orange', linestyle='--', label='VaR(L)')\n",
    "plt.axvline(exact_cvar, color='red', linestyle='--', label='CVaR(L)')\n",
    "plt.legend()\n",
    "plt.grid()\n",
    "plt.show()\n"
   ]
  },
  {
   "cell_type": "code",
   "execution_count": 1029,
   "metadata": {},
   "outputs": [
    {
     "output_type": "display_data",
     "data": {
      "text/plain": "<Figure size 432x288 with 1 Axes>",
      "image/svg+xml": "<?xml version=\"1.0\" encoding=\"utf-8\" standalone=\"no\"?>\n<!DOCTYPE svg PUBLIC \"-//W3C//DTD SVG 1.1//EN\"\n  \"http://www.w3.org/Graphics/SVG/1.1/DTD/svg11.dtd\">\n<!-- Created with matplotlib (https://matplotlib.org/) -->\n<svg height=\"293.07125pt\" version=\"1.1\" viewBox=\"0 0 408.115625 293.07125\" width=\"408.115625pt\" xmlns=\"http://www.w3.org/2000/svg\" xmlns:xlink=\"http://www.w3.org/1999/xlink\">\n <metadata>\n  <rdf:RDF xmlns:cc=\"http://creativecommons.org/ns#\" xmlns:dc=\"http://purl.org/dc/elements/1.1/\" xmlns:rdf=\"http://www.w3.org/1999/02/22-rdf-syntax-ns#\">\n   <cc:Work>\n    <dc:type rdf:resource=\"http://purl.org/dc/dcmitype/StillImage\"/>\n    <dc:date>2021-02-21T10:18:13.806375</dc:date>\n    <dc:format>image/svg+xml</dc:format>\n    <dc:creator>\n     <cc:Agent>\n      <dc:title>Matplotlib v3.3.1, https://matplotlib.org/</dc:title>\n     </cc:Agent>\n    </dc:creator>\n   </cc:Work>\n  </rdf:RDF>\n </metadata>\n <defs>\n  <style type=\"text/css\">*{stroke-linecap:butt;stroke-linejoin:round;}</style>\n </defs>\n <g id=\"figure_1\">\n  <g id=\"patch_1\">\n   <path d=\"M 0 293.07125 \nL 408.115625 293.07125 \nL 408.115625 0 \nL 0 0 \nz\n\" style=\"fill:none;\"/>\n  </g>\n  <g id=\"axes_1\">\n   <g id=\"patch_2\">\n    <path d=\"M 66.115625 245.836875 \nL 400.915625 245.836875 \nL 400.915625 28.396875 \nL 66.115625 28.396875 \nz\n\" style=\"fill:#ffffff;\"/>\n   </g>\n   <g id=\"matplotlib.axis_1\">\n    <g id=\"xtick_1\">\n     <g id=\"line2d_1\">\n      <path clip-path=\"url(#pb6720a5446)\" d=\"M 81.333807 245.836875 \nL 81.333807 28.396875 \n\" style=\"fill:none;stroke:#b0b0b0;stroke-linecap:square;stroke-width:0.8;\"/>\n     </g>\n     <g id=\"line2d_2\">\n      <defs>\n       <path d=\"M 0 0 \nL 0 3.5 \n\" id=\"m41a6585704\" style=\"stroke:#000000;stroke-width:0.8;\"/>\n      </defs>\n      <g>\n       <use style=\"stroke:#000000;stroke-width:0.8;\" x=\"81.333807\" xlink:href=\"#m41a6585704\" y=\"245.836875\"/>\n      </g>\n     </g>\n     <g id=\"text_1\">\n      <!-- −2.0 -->\n      <g transform=\"translate(63.121697 264.234531)scale(0.15 -0.15)\">\n       <defs>\n        <path d=\"M 10.59375 35.5 \nL 73.1875 35.5 \nL 73.1875 27.203125 \nL 10.59375 27.203125 \nz\n\" id=\"DejaVuSans-8722\"/>\n        <path d=\"M 19.1875 8.296875 \nL 53.609375 8.296875 \nL 53.609375 0 \nL 7.328125 0 \nL 7.328125 8.296875 \nQ 12.9375 14.109375 22.625 23.890625 \nQ 32.328125 33.6875 34.8125 36.53125 \nQ 39.546875 41.84375 41.421875 45.53125 \nQ 43.3125 49.21875 43.3125 52.78125 \nQ 43.3125 58.59375 39.234375 62.25 \nQ 35.15625 65.921875 28.609375 65.921875 \nQ 23.96875 65.921875 18.8125 64.3125 \nQ 13.671875 62.703125 7.8125 59.421875 \nL 7.8125 69.390625 \nQ 13.765625 71.78125 18.9375 73 \nQ 24.125 74.21875 28.421875 74.21875 \nQ 39.75 74.21875 46.484375 68.546875 \nQ 53.21875 62.890625 53.21875 53.421875 \nQ 53.21875 48.921875 51.53125 44.890625 \nQ 49.859375 40.875 45.40625 35.40625 \nQ 44.1875 33.984375 37.640625 27.21875 \nQ 31.109375 20.453125 19.1875 8.296875 \nz\n\" id=\"DejaVuSans-50\"/>\n        <path d=\"M 10.6875 12.40625 \nL 21 12.40625 \nL 21 0 \nL 10.6875 0 \nz\n\" id=\"DejaVuSans-46\"/>\n        <path d=\"M 31.78125 66.40625 \nQ 24.171875 66.40625 20.328125 58.90625 \nQ 16.5 51.421875 16.5 36.375 \nQ 16.5 21.390625 20.328125 13.890625 \nQ 24.171875 6.390625 31.78125 6.390625 \nQ 39.453125 6.390625 43.28125 13.890625 \nQ 47.125 21.390625 47.125 36.375 \nQ 47.125 51.421875 43.28125 58.90625 \nQ 39.453125 66.40625 31.78125 66.40625 \nz\nM 31.78125 74.21875 \nQ 44.046875 74.21875 50.515625 64.515625 \nQ 56.984375 54.828125 56.984375 36.375 \nQ 56.984375 17.96875 50.515625 8.265625 \nQ 44.046875 -1.421875 31.78125 -1.421875 \nQ 19.53125 -1.421875 13.0625 8.265625 \nQ 6.59375 17.96875 6.59375 36.375 \nQ 6.59375 54.828125 13.0625 64.515625 \nQ 19.53125 74.21875 31.78125 74.21875 \nz\n\" id=\"DejaVuSans-48\"/>\n       </defs>\n       <use xlink:href=\"#DejaVuSans-8722\"/>\n       <use x=\"83.789062\" xlink:href=\"#DejaVuSans-50\"/>\n       <use x=\"147.412109\" xlink:href=\"#DejaVuSans-46\"/>\n       <use x=\"179.199219\" xlink:href=\"#DejaVuSans-48\"/>\n      </g>\n     </g>\n    </g>\n    <g id=\"xtick_2\">\n     <g id=\"line2d_3\">\n      <path clip-path=\"url(#pb6720a5446)\" d=\"M 119.379261 245.836875 \nL 119.379261 28.396875 \n\" style=\"fill:none;stroke:#b0b0b0;stroke-linecap:square;stroke-width:0.8;\"/>\n     </g>\n     <g id=\"line2d_4\">\n      <g>\n       <use style=\"stroke:#000000;stroke-width:0.8;\" x=\"119.379261\" xlink:href=\"#m41a6585704\" y=\"245.836875\"/>\n      </g>\n     </g>\n     <g id=\"text_2\">\n      <!-- −1.5 -->\n      <g transform=\"translate(101.167152 264.234531)scale(0.15 -0.15)\">\n       <defs>\n        <path d=\"M 12.40625 8.296875 \nL 28.515625 8.296875 \nL 28.515625 63.921875 \nL 10.984375 60.40625 \nL 10.984375 69.390625 \nL 28.421875 72.90625 \nL 38.28125 72.90625 \nL 38.28125 8.296875 \nL 54.390625 8.296875 \nL 54.390625 0 \nL 12.40625 0 \nz\n\" id=\"DejaVuSans-49\"/>\n        <path d=\"M 10.796875 72.90625 \nL 49.515625 72.90625 \nL 49.515625 64.59375 \nL 19.828125 64.59375 \nL 19.828125 46.734375 \nQ 21.96875 47.46875 24.109375 47.828125 \nQ 26.265625 48.1875 28.421875 48.1875 \nQ 40.625 48.1875 47.75 41.5 \nQ 54.890625 34.8125 54.890625 23.390625 \nQ 54.890625 11.625 47.5625 5.09375 \nQ 40.234375 -1.421875 26.90625 -1.421875 \nQ 22.3125 -1.421875 17.546875 -0.640625 \nQ 12.796875 0.140625 7.71875 1.703125 \nL 7.71875 11.625 \nQ 12.109375 9.234375 16.796875 8.0625 \nQ 21.484375 6.890625 26.703125 6.890625 \nQ 35.15625 6.890625 40.078125 11.328125 \nQ 45.015625 15.765625 45.015625 23.390625 \nQ 45.015625 31 40.078125 35.4375 \nQ 35.15625 39.890625 26.703125 39.890625 \nQ 22.75 39.890625 18.8125 39.015625 \nQ 14.890625 38.140625 10.796875 36.28125 \nz\n\" id=\"DejaVuSans-53\"/>\n       </defs>\n       <use xlink:href=\"#DejaVuSans-8722\"/>\n       <use x=\"83.789062\" xlink:href=\"#DejaVuSans-49\"/>\n       <use x=\"147.412109\" xlink:href=\"#DejaVuSans-46\"/>\n       <use x=\"179.199219\" xlink:href=\"#DejaVuSans-53\"/>\n      </g>\n     </g>\n    </g>\n    <g id=\"xtick_3\">\n     <g id=\"line2d_5\">\n      <path clip-path=\"url(#pb6720a5446)\" d=\"M 157.424716 245.836875 \nL 157.424716 28.396875 \n\" style=\"fill:none;stroke:#b0b0b0;stroke-linecap:square;stroke-width:0.8;\"/>\n     </g>\n     <g id=\"line2d_6\">\n      <g>\n       <use style=\"stroke:#000000;stroke-width:0.8;\" x=\"157.424716\" xlink:href=\"#m41a6585704\" y=\"245.836875\"/>\n      </g>\n     </g>\n     <g id=\"text_3\">\n      <!-- −1.0 -->\n      <g transform=\"translate(139.212607 264.234531)scale(0.15 -0.15)\">\n       <use xlink:href=\"#DejaVuSans-8722\"/>\n       <use x=\"83.789062\" xlink:href=\"#DejaVuSans-49\"/>\n       <use x=\"147.412109\" xlink:href=\"#DejaVuSans-46\"/>\n       <use x=\"179.199219\" xlink:href=\"#DejaVuSans-48\"/>\n      </g>\n     </g>\n    </g>\n    <g id=\"xtick_4\">\n     <g id=\"line2d_7\">\n      <path clip-path=\"url(#pb6720a5446)\" d=\"M 195.47017 245.836875 \nL 195.47017 28.396875 \n\" style=\"fill:none;stroke:#b0b0b0;stroke-linecap:square;stroke-width:0.8;\"/>\n     </g>\n     <g id=\"line2d_8\">\n      <g>\n       <use style=\"stroke:#000000;stroke-width:0.8;\" x=\"195.47017\" xlink:href=\"#m41a6585704\" y=\"245.836875\"/>\n      </g>\n     </g>\n     <g id=\"text_4\">\n      <!-- −0.5 -->\n      <g transform=\"translate(177.258061 264.234531)scale(0.15 -0.15)\">\n       <use xlink:href=\"#DejaVuSans-8722\"/>\n       <use x=\"83.789062\" xlink:href=\"#DejaVuSans-48\"/>\n       <use x=\"147.412109\" xlink:href=\"#DejaVuSans-46\"/>\n       <use x=\"179.199219\" xlink:href=\"#DejaVuSans-53\"/>\n      </g>\n     </g>\n    </g>\n    <g id=\"xtick_5\">\n     <g id=\"line2d_9\">\n      <path clip-path=\"url(#pb6720a5446)\" d=\"M 233.515625 245.836875 \nL 233.515625 28.396875 \n\" style=\"fill:none;stroke:#b0b0b0;stroke-linecap:square;stroke-width:0.8;\"/>\n     </g>\n     <g id=\"line2d_10\">\n      <g>\n       <use style=\"stroke:#000000;stroke-width:0.8;\" x=\"233.515625\" xlink:href=\"#m41a6585704\" y=\"245.836875\"/>\n      </g>\n     </g>\n     <g id=\"text_5\">\n      <!-- 0.0 -->\n      <g transform=\"translate(221.588281 264.234531)scale(0.15 -0.15)\">\n       <use xlink:href=\"#DejaVuSans-48\"/>\n       <use x=\"63.623047\" xlink:href=\"#DejaVuSans-46\"/>\n       <use x=\"95.410156\" xlink:href=\"#DejaVuSans-48\"/>\n      </g>\n     </g>\n    </g>\n    <g id=\"xtick_6\">\n     <g id=\"line2d_11\">\n      <path clip-path=\"url(#pb6720a5446)\" d=\"M 271.56108 245.836875 \nL 271.56108 28.396875 \n\" style=\"fill:none;stroke:#b0b0b0;stroke-linecap:square;stroke-width:0.8;\"/>\n     </g>\n     <g id=\"line2d_12\">\n      <g>\n       <use style=\"stroke:#000000;stroke-width:0.8;\" x=\"271.56108\" xlink:href=\"#m41a6585704\" y=\"245.836875\"/>\n      </g>\n     </g>\n     <g id=\"text_6\">\n      <!-- 0.5 -->\n      <g transform=\"translate(259.633736 264.234531)scale(0.15 -0.15)\">\n       <use xlink:href=\"#DejaVuSans-48\"/>\n       <use x=\"63.623047\" xlink:href=\"#DejaVuSans-46\"/>\n       <use x=\"95.410156\" xlink:href=\"#DejaVuSans-53\"/>\n      </g>\n     </g>\n    </g>\n    <g id=\"xtick_7\">\n     <g id=\"line2d_13\">\n      <path clip-path=\"url(#pb6720a5446)\" d=\"M 309.606534 245.836875 \nL 309.606534 28.396875 \n\" style=\"fill:none;stroke:#b0b0b0;stroke-linecap:square;stroke-width:0.8;\"/>\n     </g>\n     <g id=\"line2d_14\">\n      <g>\n       <use style=\"stroke:#000000;stroke-width:0.8;\" x=\"309.606534\" xlink:href=\"#m41a6585704\" y=\"245.836875\"/>\n      </g>\n     </g>\n     <g id=\"text_7\">\n      <!-- 1.0 -->\n      <g transform=\"translate(297.67919 264.234531)scale(0.15 -0.15)\">\n       <use xlink:href=\"#DejaVuSans-49\"/>\n       <use x=\"63.623047\" xlink:href=\"#DejaVuSans-46\"/>\n       <use x=\"95.410156\" xlink:href=\"#DejaVuSans-48\"/>\n      </g>\n     </g>\n    </g>\n    <g id=\"xtick_8\">\n     <g id=\"line2d_15\">\n      <path clip-path=\"url(#pb6720a5446)\" d=\"M 347.651989 245.836875 \nL 347.651989 28.396875 \n\" style=\"fill:none;stroke:#b0b0b0;stroke-linecap:square;stroke-width:0.8;\"/>\n     </g>\n     <g id=\"line2d_16\">\n      <g>\n       <use style=\"stroke:#000000;stroke-width:0.8;\" x=\"347.651989\" xlink:href=\"#m41a6585704\" y=\"245.836875\"/>\n      </g>\n     </g>\n     <g id=\"text_8\">\n      <!-- 1.5 -->\n      <g transform=\"translate(335.724645 264.234531)scale(0.15 -0.15)\">\n       <use xlink:href=\"#DejaVuSans-49\"/>\n       <use x=\"63.623047\" xlink:href=\"#DejaVuSans-46\"/>\n       <use x=\"95.410156\" xlink:href=\"#DejaVuSans-53\"/>\n      </g>\n     </g>\n    </g>\n    <g id=\"xtick_9\">\n     <g id=\"line2d_17\">\n      <path clip-path=\"url(#pb6720a5446)\" d=\"M 385.697443 245.836875 \nL 385.697443 28.396875 \n\" style=\"fill:none;stroke:#b0b0b0;stroke-linecap:square;stroke-width:0.8;\"/>\n     </g>\n     <g id=\"line2d_18\">\n      <g>\n       <use style=\"stroke:#000000;stroke-width:0.8;\" x=\"385.697443\" xlink:href=\"#m41a6585704\" y=\"245.836875\"/>\n      </g>\n     </g>\n     <g id=\"text_9\">\n      <!-- 2.0 -->\n      <g transform=\"translate(373.770099 264.234531)scale(0.15 -0.15)\">\n       <use xlink:href=\"#DejaVuSans-50\"/>\n       <use x=\"63.623047\" xlink:href=\"#DejaVuSans-46\"/>\n       <use x=\"95.410156\" xlink:href=\"#DejaVuSans-48\"/>\n      </g>\n     </g>\n    </g>\n    <g id=\"text_10\">\n     <!-- Z value -->\n     <g transform=\"translate(205.507813 282.751719)scale(0.15 -0.15)\">\n      <defs>\n       <path d=\"M 5.609375 72.90625 \nL 62.890625 72.90625 \nL 62.890625 65.375 \nL 16.796875 8.296875 \nL 64.015625 8.296875 \nL 64.015625 0 \nL 4.5 0 \nL 4.5 7.515625 \nL 50.59375 64.59375 \nL 5.609375 64.59375 \nz\n\" id=\"DejaVuSans-90\"/>\n       <path id=\"DejaVuSans-32\"/>\n       <path d=\"M 2.984375 54.6875 \nL 12.5 54.6875 \nL 29.59375 8.796875 \nL 46.6875 54.6875 \nL 56.203125 54.6875 \nL 35.6875 0 \nL 23.484375 0 \nz\n\" id=\"DejaVuSans-118\"/>\n       <path d=\"M 34.28125 27.484375 \nQ 23.390625 27.484375 19.1875 25 \nQ 14.984375 22.515625 14.984375 16.5 \nQ 14.984375 11.71875 18.140625 8.90625 \nQ 21.296875 6.109375 26.703125 6.109375 \nQ 34.1875 6.109375 38.703125 11.40625 \nQ 43.21875 16.703125 43.21875 25.484375 \nL 43.21875 27.484375 \nz\nM 52.203125 31.203125 \nL 52.203125 0 \nL 43.21875 0 \nL 43.21875 8.296875 \nQ 40.140625 3.328125 35.546875 0.953125 \nQ 30.953125 -1.421875 24.3125 -1.421875 \nQ 15.921875 -1.421875 10.953125 3.296875 \nQ 6 8.015625 6 15.921875 \nQ 6 25.140625 12.171875 29.828125 \nQ 18.359375 34.515625 30.609375 34.515625 \nL 43.21875 34.515625 \nL 43.21875 35.40625 \nQ 43.21875 41.609375 39.140625 45 \nQ 35.0625 48.390625 27.6875 48.390625 \nQ 23 48.390625 18.546875 47.265625 \nQ 14.109375 46.140625 10.015625 43.890625 \nL 10.015625 52.203125 \nQ 14.9375 54.109375 19.578125 55.046875 \nQ 24.21875 56 28.609375 56 \nQ 40.484375 56 46.34375 49.84375 \nQ 52.203125 43.703125 52.203125 31.203125 \nz\n\" id=\"DejaVuSans-97\"/>\n       <path d=\"M 9.421875 75.984375 \nL 18.40625 75.984375 \nL 18.40625 0 \nL 9.421875 0 \nz\n\" id=\"DejaVuSans-108\"/>\n       <path d=\"M 8.5 21.578125 \nL 8.5 54.6875 \nL 17.484375 54.6875 \nL 17.484375 21.921875 \nQ 17.484375 14.15625 20.5 10.265625 \nQ 23.53125 6.390625 29.59375 6.390625 \nQ 36.859375 6.390625 41.078125 11.03125 \nQ 45.3125 15.671875 45.3125 23.6875 \nL 45.3125 54.6875 \nL 54.296875 54.6875 \nL 54.296875 0 \nL 45.3125 0 \nL 45.3125 8.40625 \nQ 42.046875 3.421875 37.71875 1 \nQ 33.40625 -1.421875 27.6875 -1.421875 \nQ 18.265625 -1.421875 13.375 4.4375 \nQ 8.5 10.296875 8.5 21.578125 \nz\nM 31.109375 56 \nz\n\" id=\"DejaVuSans-117\"/>\n       <path d=\"M 56.203125 29.59375 \nL 56.203125 25.203125 \nL 14.890625 25.203125 \nQ 15.484375 15.921875 20.484375 11.0625 \nQ 25.484375 6.203125 34.421875 6.203125 \nQ 39.59375 6.203125 44.453125 7.46875 \nQ 49.3125 8.734375 54.109375 11.28125 \nL 54.109375 2.78125 \nQ 49.265625 0.734375 44.1875 -0.34375 \nQ 39.109375 -1.421875 33.890625 -1.421875 \nQ 20.796875 -1.421875 13.15625 6.1875 \nQ 5.515625 13.8125 5.515625 26.8125 \nQ 5.515625 40.234375 12.765625 48.109375 \nQ 20.015625 56 32.328125 56 \nQ 43.359375 56 49.78125 48.890625 \nQ 56.203125 41.796875 56.203125 29.59375 \nz\nM 47.21875 32.234375 \nQ 47.125 39.59375 43.09375 43.984375 \nQ 39.0625 48.390625 32.421875 48.390625 \nQ 24.90625 48.390625 20.390625 44.140625 \nQ 15.875 39.890625 15.1875 32.171875 \nz\n\" id=\"DejaVuSans-101\"/>\n      </defs>\n      <use xlink:href=\"#DejaVuSans-90\"/>\n      <use x=\"68.505859\" xlink:href=\"#DejaVuSans-32\"/>\n      <use x=\"100.292969\" xlink:href=\"#DejaVuSans-118\"/>\n      <use x=\"159.472656\" xlink:href=\"#DejaVuSans-97\"/>\n      <use x=\"220.751953\" xlink:href=\"#DejaVuSans-108\"/>\n      <use x=\"248.535156\" xlink:href=\"#DejaVuSans-117\"/>\n      <use x=\"311.914062\" xlink:href=\"#DejaVuSans-101\"/>\n     </g>\n    </g>\n   </g>\n   <g id=\"matplotlib.axis_2\">\n    <g id=\"ytick_1\">\n     <g id=\"line2d_19\">\n      <path clip-path=\"url(#pb6720a5446)\" d=\"M 66.115625 224.177808 \nL 400.915625 224.177808 \n\" style=\"fill:none;stroke:#b0b0b0;stroke-linecap:square;stroke-width:0.8;\"/>\n     </g>\n     <g id=\"line2d_20\">\n      <defs>\n       <path d=\"M 0 0 \nL -3.5 0 \n\" id=\"me248a71d6b\" style=\"stroke:#000000;stroke-width:0.8;\"/>\n      </defs>\n      <g>\n       <use style=\"stroke:#000000;stroke-width:0.8;\" x=\"66.115625\" xlink:href=\"#me248a71d6b\" y=\"224.177808\"/>\n      </g>\n     </g>\n     <g id=\"text_11\">\n      <!-- 0.01 -->\n      <g transform=\"translate(25.717187 229.876636)scale(0.15 -0.15)\">\n       <use xlink:href=\"#DejaVuSans-48\"/>\n       <use x=\"63.623047\" xlink:href=\"#DejaVuSans-46\"/>\n       <use x=\"95.410156\" xlink:href=\"#DejaVuSans-48\"/>\n       <use x=\"159.033203\" xlink:href=\"#DejaVuSans-49\"/>\n      </g>\n     </g>\n    </g>\n    <g id=\"ytick_2\">\n     <g id=\"line2d_21\">\n      <path clip-path=\"url(#pb6720a5446)\" d=\"M 66.115625 181.388539 \nL 400.915625 181.388539 \n\" style=\"fill:none;stroke:#b0b0b0;stroke-linecap:square;stroke-width:0.8;\"/>\n     </g>\n     <g id=\"line2d_22\">\n      <g>\n       <use style=\"stroke:#000000;stroke-width:0.8;\" x=\"66.115625\" xlink:href=\"#me248a71d6b\" y=\"181.388539\"/>\n      </g>\n     </g>\n     <g id=\"text_12\">\n      <!-- 0.02 -->\n      <g transform=\"translate(25.717187 187.087367)scale(0.15 -0.15)\">\n       <use xlink:href=\"#DejaVuSans-48\"/>\n       <use x=\"63.623047\" xlink:href=\"#DejaVuSans-46\"/>\n       <use x=\"95.410156\" xlink:href=\"#DejaVuSans-48\"/>\n       <use x=\"159.033203\" xlink:href=\"#DejaVuSans-50\"/>\n      </g>\n     </g>\n    </g>\n    <g id=\"ytick_3\">\n     <g id=\"line2d_23\">\n      <path clip-path=\"url(#pb6720a5446)\" d=\"M 66.115625 138.599269 \nL 400.915625 138.599269 \n\" style=\"fill:none;stroke:#b0b0b0;stroke-linecap:square;stroke-width:0.8;\"/>\n     </g>\n     <g id=\"line2d_24\">\n      <g>\n       <use style=\"stroke:#000000;stroke-width:0.8;\" x=\"66.115625\" xlink:href=\"#me248a71d6b\" y=\"138.599269\"/>\n      </g>\n     </g>\n     <g id=\"text_13\">\n      <!-- 0.03 -->\n      <g transform=\"translate(25.717187 144.298098)scale(0.15 -0.15)\">\n       <defs>\n        <path d=\"M 40.578125 39.3125 \nQ 47.65625 37.796875 51.625 33 \nQ 55.609375 28.21875 55.609375 21.1875 \nQ 55.609375 10.40625 48.1875 4.484375 \nQ 40.765625 -1.421875 27.09375 -1.421875 \nQ 22.515625 -1.421875 17.65625 -0.515625 \nQ 12.796875 0.390625 7.625 2.203125 \nL 7.625 11.71875 \nQ 11.71875 9.328125 16.59375 8.109375 \nQ 21.484375 6.890625 26.8125 6.890625 \nQ 36.078125 6.890625 40.9375 10.546875 \nQ 45.796875 14.203125 45.796875 21.1875 \nQ 45.796875 27.640625 41.28125 31.265625 \nQ 36.765625 34.90625 28.71875 34.90625 \nL 20.21875 34.90625 \nL 20.21875 43.015625 \nL 29.109375 43.015625 \nQ 36.375 43.015625 40.234375 45.921875 \nQ 44.09375 48.828125 44.09375 54.296875 \nQ 44.09375 59.90625 40.109375 62.90625 \nQ 36.140625 65.921875 28.71875 65.921875 \nQ 24.65625 65.921875 20.015625 65.03125 \nQ 15.375 64.15625 9.8125 62.3125 \nL 9.8125 71.09375 \nQ 15.4375 72.65625 20.34375 73.4375 \nQ 25.25 74.21875 29.59375 74.21875 \nQ 40.828125 74.21875 47.359375 69.109375 \nQ 53.90625 64.015625 53.90625 55.328125 \nQ 53.90625 49.265625 50.4375 45.09375 \nQ 46.96875 40.921875 40.578125 39.3125 \nz\n\" id=\"DejaVuSans-51\"/>\n       </defs>\n       <use xlink:href=\"#DejaVuSans-48\"/>\n       <use x=\"63.623047\" xlink:href=\"#DejaVuSans-46\"/>\n       <use x=\"95.410156\" xlink:href=\"#DejaVuSans-48\"/>\n       <use x=\"159.033203\" xlink:href=\"#DejaVuSans-51\"/>\n      </g>\n     </g>\n    </g>\n    <g id=\"ytick_4\">\n     <g id=\"line2d_25\">\n      <path clip-path=\"url(#pb6720a5446)\" d=\"M 66.115625 95.81 \nL 400.915625 95.81 \n\" style=\"fill:none;stroke:#b0b0b0;stroke-linecap:square;stroke-width:0.8;\"/>\n     </g>\n     <g id=\"line2d_26\">\n      <g>\n       <use style=\"stroke:#000000;stroke-width:0.8;\" x=\"66.115625\" xlink:href=\"#me248a71d6b\" y=\"95.81\"/>\n      </g>\n     </g>\n     <g id=\"text_14\">\n      <!-- 0.04 -->\n      <g transform=\"translate(25.717187 101.508828)scale(0.15 -0.15)\">\n       <defs>\n        <path d=\"M 37.796875 64.3125 \nL 12.890625 25.390625 \nL 37.796875 25.390625 \nz\nM 35.203125 72.90625 \nL 47.609375 72.90625 \nL 47.609375 25.390625 \nL 58.015625 25.390625 \nL 58.015625 17.1875 \nL 47.609375 17.1875 \nL 47.609375 0 \nL 37.796875 0 \nL 37.796875 17.1875 \nL 4.890625 17.1875 \nL 4.890625 26.703125 \nz\n\" id=\"DejaVuSans-52\"/>\n       </defs>\n       <use xlink:href=\"#DejaVuSans-48\"/>\n       <use x=\"63.623047\" xlink:href=\"#DejaVuSans-46\"/>\n       <use x=\"95.410156\" xlink:href=\"#DejaVuSans-48\"/>\n       <use x=\"159.033203\" xlink:href=\"#DejaVuSans-52\"/>\n      </g>\n     </g>\n    </g>\n    <g id=\"ytick_5\">\n     <g id=\"line2d_27\">\n      <path clip-path=\"url(#pb6720a5446)\" d=\"M 66.115625 53.020731 \nL 400.915625 53.020731 \n\" style=\"fill:none;stroke:#b0b0b0;stroke-linecap:square;stroke-width:0.8;\"/>\n     </g>\n     <g id=\"line2d_28\">\n      <g>\n       <use style=\"stroke:#000000;stroke-width:0.8;\" x=\"66.115625\" xlink:href=\"#me248a71d6b\" y=\"53.020731\"/>\n      </g>\n     </g>\n     <g id=\"text_15\">\n      <!-- 0.05 -->\n      <g transform=\"translate(25.717187 58.719559)scale(0.15 -0.15)\">\n       <use xlink:href=\"#DejaVuSans-48\"/>\n       <use x=\"63.623047\" xlink:href=\"#DejaVuSans-46\"/>\n       <use x=\"95.410156\" xlink:href=\"#DejaVuSans-48\"/>\n       <use x=\"159.033203\" xlink:href=\"#DejaVuSans-53\"/>\n      </g>\n     </g>\n    </g>\n    <g id=\"text_16\">\n     <!-- probability (%) -->\n     <g transform=\"translate(18.597656 192.492656)rotate(-90)scale(0.15 -0.15)\">\n      <defs>\n       <path d=\"M 18.109375 8.203125 \nL 18.109375 -20.796875 \nL 9.078125 -20.796875 \nL 9.078125 54.6875 \nL 18.109375 54.6875 \nL 18.109375 46.390625 \nQ 20.953125 51.265625 25.265625 53.625 \nQ 29.59375 56 35.59375 56 \nQ 45.5625 56 51.78125 48.09375 \nQ 58.015625 40.1875 58.015625 27.296875 \nQ 58.015625 14.40625 51.78125 6.484375 \nQ 45.5625 -1.421875 35.59375 -1.421875 \nQ 29.59375 -1.421875 25.265625 0.953125 \nQ 20.953125 3.328125 18.109375 8.203125 \nz\nM 48.6875 27.296875 \nQ 48.6875 37.203125 44.609375 42.84375 \nQ 40.53125 48.484375 33.40625 48.484375 \nQ 26.265625 48.484375 22.1875 42.84375 \nQ 18.109375 37.203125 18.109375 27.296875 \nQ 18.109375 17.390625 22.1875 11.75 \nQ 26.265625 6.109375 33.40625 6.109375 \nQ 40.53125 6.109375 44.609375 11.75 \nQ 48.6875 17.390625 48.6875 27.296875 \nz\n\" id=\"DejaVuSans-112\"/>\n       <path d=\"M 41.109375 46.296875 \nQ 39.59375 47.171875 37.8125 47.578125 \nQ 36.03125 48 33.890625 48 \nQ 26.265625 48 22.1875 43.046875 \nQ 18.109375 38.09375 18.109375 28.8125 \nL 18.109375 0 \nL 9.078125 0 \nL 9.078125 54.6875 \nL 18.109375 54.6875 \nL 18.109375 46.1875 \nQ 20.953125 51.171875 25.484375 53.578125 \nQ 30.03125 56 36.53125 56 \nQ 37.453125 56 38.578125 55.875 \nQ 39.703125 55.765625 41.0625 55.515625 \nz\n\" id=\"DejaVuSans-114\"/>\n       <path d=\"M 30.609375 48.390625 \nQ 23.390625 48.390625 19.1875 42.75 \nQ 14.984375 37.109375 14.984375 27.296875 \nQ 14.984375 17.484375 19.15625 11.84375 \nQ 23.34375 6.203125 30.609375 6.203125 \nQ 37.796875 6.203125 41.984375 11.859375 \nQ 46.1875 17.53125 46.1875 27.296875 \nQ 46.1875 37.015625 41.984375 42.703125 \nQ 37.796875 48.390625 30.609375 48.390625 \nz\nM 30.609375 56 \nQ 42.328125 56 49.015625 48.375 \nQ 55.71875 40.765625 55.71875 27.296875 \nQ 55.71875 13.875 49.015625 6.21875 \nQ 42.328125 -1.421875 30.609375 -1.421875 \nQ 18.84375 -1.421875 12.171875 6.21875 \nQ 5.515625 13.875 5.515625 27.296875 \nQ 5.515625 40.765625 12.171875 48.375 \nQ 18.84375 56 30.609375 56 \nz\n\" id=\"DejaVuSans-111\"/>\n       <path d=\"M 48.6875 27.296875 \nQ 48.6875 37.203125 44.609375 42.84375 \nQ 40.53125 48.484375 33.40625 48.484375 \nQ 26.265625 48.484375 22.1875 42.84375 \nQ 18.109375 37.203125 18.109375 27.296875 \nQ 18.109375 17.390625 22.1875 11.75 \nQ 26.265625 6.109375 33.40625 6.109375 \nQ 40.53125 6.109375 44.609375 11.75 \nQ 48.6875 17.390625 48.6875 27.296875 \nz\nM 18.109375 46.390625 \nQ 20.953125 51.265625 25.265625 53.625 \nQ 29.59375 56 35.59375 56 \nQ 45.5625 56 51.78125 48.09375 \nQ 58.015625 40.1875 58.015625 27.296875 \nQ 58.015625 14.40625 51.78125 6.484375 \nQ 45.5625 -1.421875 35.59375 -1.421875 \nQ 29.59375 -1.421875 25.265625 0.953125 \nQ 20.953125 3.328125 18.109375 8.203125 \nL 18.109375 0 \nL 9.078125 0 \nL 9.078125 75.984375 \nL 18.109375 75.984375 \nz\n\" id=\"DejaVuSans-98\"/>\n       <path d=\"M 9.421875 54.6875 \nL 18.40625 54.6875 \nL 18.40625 0 \nL 9.421875 0 \nz\nM 9.421875 75.984375 \nL 18.40625 75.984375 \nL 18.40625 64.59375 \nL 9.421875 64.59375 \nz\n\" id=\"DejaVuSans-105\"/>\n       <path d=\"M 18.3125 70.21875 \nL 18.3125 54.6875 \nL 36.8125 54.6875 \nL 36.8125 47.703125 \nL 18.3125 47.703125 \nL 18.3125 18.015625 \nQ 18.3125 11.328125 20.140625 9.421875 \nQ 21.96875 7.515625 27.59375 7.515625 \nL 36.8125 7.515625 \nL 36.8125 0 \nL 27.59375 0 \nQ 17.1875 0 13.234375 3.875 \nQ 9.28125 7.765625 9.28125 18.015625 \nL 9.28125 47.703125 \nL 2.6875 47.703125 \nL 2.6875 54.6875 \nL 9.28125 54.6875 \nL 9.28125 70.21875 \nz\n\" id=\"DejaVuSans-116\"/>\n       <path d=\"M 32.171875 -5.078125 \nQ 28.375 -14.84375 24.75 -17.8125 \nQ 21.140625 -20.796875 15.09375 -20.796875 \nL 7.90625 -20.796875 \nL 7.90625 -13.28125 \nL 13.1875 -13.28125 \nQ 16.890625 -13.28125 18.9375 -11.515625 \nQ 21 -9.765625 23.484375 -3.21875 \nL 25.09375 0.875 \nL 2.984375 54.6875 \nL 12.5 54.6875 \nL 29.59375 11.921875 \nL 46.6875 54.6875 \nL 56.203125 54.6875 \nz\n\" id=\"DejaVuSans-121\"/>\n       <path d=\"M 31 75.875 \nQ 24.46875 64.65625 21.28125 53.65625 \nQ 18.109375 42.671875 18.109375 31.390625 \nQ 18.109375 20.125 21.3125 9.0625 \nQ 24.515625 -2 31 -13.1875 \nL 23.1875 -13.1875 \nQ 15.875 -1.703125 12.234375 9.375 \nQ 8.59375 20.453125 8.59375 31.390625 \nQ 8.59375 42.28125 12.203125 53.3125 \nQ 15.828125 64.359375 23.1875 75.875 \nz\n\" id=\"DejaVuSans-40\"/>\n       <path d=\"M 72.703125 32.078125 \nQ 68.453125 32.078125 66.03125 28.46875 \nQ 63.625 24.859375 63.625 18.40625 \nQ 63.625 12.0625 66.03125 8.421875 \nQ 68.453125 4.78125 72.703125 4.78125 \nQ 76.859375 4.78125 79.265625 8.421875 \nQ 81.6875 12.0625 81.6875 18.40625 \nQ 81.6875 24.8125 79.265625 28.4375 \nQ 76.859375 32.078125 72.703125 32.078125 \nz\nM 72.703125 38.28125 \nQ 80.421875 38.28125 84.953125 32.90625 \nQ 89.5 27.546875 89.5 18.40625 \nQ 89.5 9.28125 84.9375 3.921875 \nQ 80.375 -1.421875 72.703125 -1.421875 \nQ 64.890625 -1.421875 60.34375 3.921875 \nQ 55.8125 9.28125 55.8125 18.40625 \nQ 55.8125 27.59375 60.375 32.9375 \nQ 64.9375 38.28125 72.703125 38.28125 \nz\nM 22.3125 68.015625 \nQ 18.109375 68.015625 15.6875 64.375 \nQ 13.28125 60.75 13.28125 54.390625 \nQ 13.28125 47.953125 15.671875 44.328125 \nQ 18.0625 40.71875 22.3125 40.71875 \nQ 26.5625 40.71875 28.96875 44.328125 \nQ 31.390625 47.953125 31.390625 54.390625 \nQ 31.390625 60.6875 28.953125 64.34375 \nQ 26.515625 68.015625 22.3125 68.015625 \nz\nM 66.40625 74.21875 \nL 74.21875 74.21875 \nL 28.609375 -1.421875 \nL 20.796875 -1.421875 \nz\nM 22.3125 74.21875 \nQ 30.03125 74.21875 34.609375 68.875 \nQ 39.203125 63.53125 39.203125 54.390625 \nQ 39.203125 45.171875 34.640625 39.84375 \nQ 30.078125 34.515625 22.3125 34.515625 \nQ 14.546875 34.515625 10.03125 39.859375 \nQ 5.515625 45.21875 5.515625 54.390625 \nQ 5.515625 63.484375 10.046875 68.84375 \nQ 14.59375 74.21875 22.3125 74.21875 \nz\n\" id=\"DejaVuSans-37\"/>\n       <path d=\"M 8.015625 75.875 \nL 15.828125 75.875 \nQ 23.140625 64.359375 26.78125 53.3125 \nQ 30.421875 42.28125 30.421875 31.390625 \nQ 30.421875 20.453125 26.78125 9.375 \nQ 23.140625 -1.703125 15.828125 -13.1875 \nL 8.015625 -13.1875 \nQ 14.5 -2 17.703125 9.0625 \nQ 20.90625 20.125 20.90625 31.390625 \nQ 20.90625 42.671875 17.703125 53.65625 \nQ 14.5 64.65625 8.015625 75.875 \nz\n\" id=\"DejaVuSans-41\"/>\n      </defs>\n      <use xlink:href=\"#DejaVuSans-112\"/>\n      <use x=\"63.476562\" xlink:href=\"#DejaVuSans-114\"/>\n      <use x=\"102.339844\" xlink:href=\"#DejaVuSans-111\"/>\n      <use x=\"163.521484\" xlink:href=\"#DejaVuSans-98\"/>\n      <use x=\"226.998047\" xlink:href=\"#DejaVuSans-97\"/>\n      <use x=\"288.277344\" xlink:href=\"#DejaVuSans-98\"/>\n      <use x=\"351.753906\" xlink:href=\"#DejaVuSans-105\"/>\n      <use x=\"379.537109\" xlink:href=\"#DejaVuSans-108\"/>\n      <use x=\"407.320312\" xlink:href=\"#DejaVuSans-105\"/>\n      <use x=\"435.103516\" xlink:href=\"#DejaVuSans-116\"/>\n      <use x=\"474.3125\" xlink:href=\"#DejaVuSans-121\"/>\n      <use x=\"533.492188\" xlink:href=\"#DejaVuSans-32\"/>\n      <use x=\"565.279297\" xlink:href=\"#DejaVuSans-40\"/>\n      <use x=\"604.292969\" xlink:href=\"#DejaVuSans-37\"/>\n      <use x=\"699.3125\" xlink:href=\"#DejaVuSans-41\"/>\n     </g>\n    </g>\n   </g>\n   <g id=\"line2d_29\">\n    <path clip-path=\"url(#pb6720a5446)\" d=\"M 81.333807 235.953239 \nL 91.151989 227.154878 \nL 100.97017 216.704345 \nL 110.788352 204.558351 \nL 120.606534 190.756749 \nL 130.424716 175.43957 \nL 140.242898 158.858854 \nL 150.06108 141.382845 \nL 159.879261 123.490572 \nL 169.697443 105.755675 \nL 179.515625 88.819462 \nL 189.333807 73.354503 \nL 199.151989 60.021382 \nL 208.97017 49.422368 \nL 218.788352 42.056467 \nL 228.606534 38.280511 \nL 238.424716 38.280511 \nL 248.242898 42.056467 \nL 258.06108 49.422368 \nL 267.879261 60.021382 \nL 277.697443 73.354503 \nL 287.515625 88.819462 \nL 297.333807 105.755675 \nL 307.151989 123.490572 \nL 316.97017 141.382845 \nL 326.788352 158.858854 \nL 336.606534 175.43957 \nL 346.424716 190.756749 \nL 356.242898 204.558351 \nL 366.06108 216.704345 \nL 375.879261 227.154878 \nL 385.697443 235.953239 \n\" style=\"fill:none;stroke:#1f77b4;stroke-linecap:square;stroke-width:3;\"/>\n    <defs>\n     <path d=\"M 0 4 \nC 1.060812 4 2.078319 3.578535 2.828427 2.828427 \nC 3.578535 2.078319 4 1.060812 4 0 \nC 4 -1.060812 3.578535 -2.078319 2.828427 -2.828427 \nC 2.078319 -3.578535 1.060812 -4 0 -4 \nC -1.060812 -4 -2.078319 -3.578535 -2.828427 -2.828427 \nC -3.578535 -2.078319 -4 -1.060812 -4 0 \nC -4 1.060812 -3.578535 2.078319 -2.828427 2.828427 \nC -2.078319 3.578535 -1.060812 4 0 4 \nz\n\" id=\"mb524607ef0\" style=\"stroke:#1f77b4;\"/>\n    </defs>\n    <g clip-path=\"url(#pb6720a5446)\">\n     <use style=\"fill:#1f77b4;stroke:#1f77b4;\" x=\"81.333807\" xlink:href=\"#mb524607ef0\" y=\"235.953239\"/>\n     <use style=\"fill:#1f77b4;stroke:#1f77b4;\" x=\"91.151989\" xlink:href=\"#mb524607ef0\" y=\"227.154878\"/>\n     <use style=\"fill:#1f77b4;stroke:#1f77b4;\" x=\"100.97017\" xlink:href=\"#mb524607ef0\" y=\"216.704345\"/>\n     <use style=\"fill:#1f77b4;stroke:#1f77b4;\" x=\"110.788352\" xlink:href=\"#mb524607ef0\" y=\"204.558351\"/>\n     <use style=\"fill:#1f77b4;stroke:#1f77b4;\" x=\"120.606534\" xlink:href=\"#mb524607ef0\" y=\"190.756749\"/>\n     <use style=\"fill:#1f77b4;stroke:#1f77b4;\" x=\"130.424716\" xlink:href=\"#mb524607ef0\" y=\"175.43957\"/>\n     <use style=\"fill:#1f77b4;stroke:#1f77b4;\" x=\"140.242898\" xlink:href=\"#mb524607ef0\" y=\"158.858854\"/>\n     <use style=\"fill:#1f77b4;stroke:#1f77b4;\" x=\"150.06108\" xlink:href=\"#mb524607ef0\" y=\"141.382845\"/>\n     <use style=\"fill:#1f77b4;stroke:#1f77b4;\" x=\"159.879261\" xlink:href=\"#mb524607ef0\" y=\"123.490572\"/>\n     <use style=\"fill:#1f77b4;stroke:#1f77b4;\" x=\"169.697443\" xlink:href=\"#mb524607ef0\" y=\"105.755675\"/>\n     <use style=\"fill:#1f77b4;stroke:#1f77b4;\" x=\"179.515625\" xlink:href=\"#mb524607ef0\" y=\"88.819462\"/>\n     <use style=\"fill:#1f77b4;stroke:#1f77b4;\" x=\"189.333807\" xlink:href=\"#mb524607ef0\" y=\"73.354503\"/>\n     <use style=\"fill:#1f77b4;stroke:#1f77b4;\" x=\"199.151989\" xlink:href=\"#mb524607ef0\" y=\"60.021382\"/>\n     <use style=\"fill:#1f77b4;stroke:#1f77b4;\" x=\"208.97017\" xlink:href=\"#mb524607ef0\" y=\"49.422368\"/>\n     <use style=\"fill:#1f77b4;stroke:#1f77b4;\" x=\"218.788352\" xlink:href=\"#mb524607ef0\" y=\"42.056467\"/>\n     <use style=\"fill:#1f77b4;stroke:#1f77b4;\" x=\"228.606534\" xlink:href=\"#mb524607ef0\" y=\"38.280511\"/>\n     <use style=\"fill:#1f77b4;stroke:#1f77b4;\" x=\"238.424716\" xlink:href=\"#mb524607ef0\" y=\"38.280511\"/>\n     <use style=\"fill:#1f77b4;stroke:#1f77b4;\" x=\"248.242898\" xlink:href=\"#mb524607ef0\" y=\"42.056467\"/>\n     <use style=\"fill:#1f77b4;stroke:#1f77b4;\" x=\"258.06108\" xlink:href=\"#mb524607ef0\" y=\"49.422368\"/>\n     <use style=\"fill:#1f77b4;stroke:#1f77b4;\" x=\"267.879261\" xlink:href=\"#mb524607ef0\" y=\"60.021382\"/>\n     <use style=\"fill:#1f77b4;stroke:#1f77b4;\" x=\"277.697443\" xlink:href=\"#mb524607ef0\" y=\"73.354503\"/>\n     <use style=\"fill:#1f77b4;stroke:#1f77b4;\" x=\"287.515625\" xlink:href=\"#mb524607ef0\" y=\"88.819462\"/>\n     <use style=\"fill:#1f77b4;stroke:#1f77b4;\" x=\"297.333807\" xlink:href=\"#mb524607ef0\" y=\"105.755675\"/>\n     <use style=\"fill:#1f77b4;stroke:#1f77b4;\" x=\"307.151989\" xlink:href=\"#mb524607ef0\" y=\"123.490572\"/>\n     <use style=\"fill:#1f77b4;stroke:#1f77b4;\" x=\"316.97017\" xlink:href=\"#mb524607ef0\" y=\"141.382845\"/>\n     <use style=\"fill:#1f77b4;stroke:#1f77b4;\" x=\"326.788352\" xlink:href=\"#mb524607ef0\" y=\"158.858854\"/>\n     <use style=\"fill:#1f77b4;stroke:#1f77b4;\" x=\"336.606534\" xlink:href=\"#mb524607ef0\" y=\"175.43957\"/>\n     <use style=\"fill:#1f77b4;stroke:#1f77b4;\" x=\"346.424716\" xlink:href=\"#mb524607ef0\" y=\"190.756749\"/>\n     <use style=\"fill:#1f77b4;stroke:#1f77b4;\" x=\"356.242898\" xlink:href=\"#mb524607ef0\" y=\"204.558351\"/>\n     <use style=\"fill:#1f77b4;stroke:#1f77b4;\" x=\"366.06108\" xlink:href=\"#mb524607ef0\" y=\"216.704345\"/>\n     <use style=\"fill:#1f77b4;stroke:#1f77b4;\" x=\"375.879261\" xlink:href=\"#mb524607ef0\" y=\"227.154878\"/>\n     <use style=\"fill:#1f77b4;stroke:#1f77b4;\" x=\"385.697443\" xlink:href=\"#mb524607ef0\" y=\"235.953239\"/>\n    </g>\n   </g>\n   <g id=\"patch_3\">\n    <path d=\"M 66.115625 245.836875 \nL 66.115625 28.396875 \n\" style=\"fill:none;stroke:#000000;stroke-linecap:square;stroke-linejoin:miter;stroke-width:0.8;\"/>\n   </g>\n   <g id=\"patch_4\">\n    <path d=\"M 400.915625 245.836875 \nL 400.915625 28.396875 \n\" style=\"fill:none;stroke:#000000;stroke-linecap:square;stroke-linejoin:miter;stroke-width:0.8;\"/>\n   </g>\n   <g id=\"patch_5\">\n    <path d=\"M 66.115625 245.836875 \nL 400.915625 245.836875 \n\" style=\"fill:none;stroke:#000000;stroke-linecap:square;stroke-linejoin:miter;stroke-width:0.8;\"/>\n   </g>\n   <g id=\"patch_6\">\n    <path d=\"M 66.115625 28.396875 \nL 400.915625 28.396875 \n\" style=\"fill:none;stroke:#000000;stroke-linecap:square;stroke-linejoin:miter;stroke-width:0.8;\"/>\n   </g>\n   <g id=\"text_17\">\n    <!-- Z Distribution -->\n    <g transform=\"translate(165.15 22.396875)scale(0.2 -0.2)\">\n     <defs>\n      <path d=\"M 19.671875 64.796875 \nL 19.671875 8.109375 \nL 31.59375 8.109375 \nQ 46.6875 8.109375 53.6875 14.9375 \nQ 60.6875 21.78125 60.6875 36.53125 \nQ 60.6875 51.171875 53.6875 57.984375 \nQ 46.6875 64.796875 31.59375 64.796875 \nz\nM 9.8125 72.90625 \nL 30.078125 72.90625 \nQ 51.265625 72.90625 61.171875 64.09375 \nQ 71.09375 55.28125 71.09375 36.53125 \nQ 71.09375 17.671875 61.125 8.828125 \nQ 51.171875 0 30.078125 0 \nL 9.8125 0 \nz\n\" id=\"DejaVuSans-68\"/>\n      <path d=\"M 44.28125 53.078125 \nL 44.28125 44.578125 \nQ 40.484375 46.53125 36.375 47.5 \nQ 32.28125 48.484375 27.875 48.484375 \nQ 21.1875 48.484375 17.84375 46.4375 \nQ 14.5 44.390625 14.5 40.28125 \nQ 14.5 37.15625 16.890625 35.375 \nQ 19.28125 33.59375 26.515625 31.984375 \nL 29.59375 31.296875 \nQ 39.15625 29.25 43.1875 25.515625 \nQ 47.21875 21.78125 47.21875 15.09375 \nQ 47.21875 7.46875 41.1875 3.015625 \nQ 35.15625 -1.421875 24.609375 -1.421875 \nQ 20.21875 -1.421875 15.453125 -0.5625 \nQ 10.6875 0.296875 5.421875 2 \nL 5.421875 11.28125 \nQ 10.40625 8.6875 15.234375 7.390625 \nQ 20.0625 6.109375 24.8125 6.109375 \nQ 31.15625 6.109375 34.5625 8.28125 \nQ 37.984375 10.453125 37.984375 14.40625 \nQ 37.984375 18.0625 35.515625 20.015625 \nQ 33.0625 21.96875 24.703125 23.78125 \nL 21.578125 24.515625 \nQ 13.234375 26.265625 9.515625 29.90625 \nQ 5.8125 33.546875 5.8125 39.890625 \nQ 5.8125 47.609375 11.28125 51.796875 \nQ 16.75 56 26.8125 56 \nQ 31.78125 56 36.171875 55.265625 \nQ 40.578125 54.546875 44.28125 53.078125 \nz\n\" id=\"DejaVuSans-115\"/>\n      <path d=\"M 54.890625 33.015625 \nL 54.890625 0 \nL 45.90625 0 \nL 45.90625 32.71875 \nQ 45.90625 40.484375 42.875 44.328125 \nQ 39.84375 48.1875 33.796875 48.1875 \nQ 26.515625 48.1875 22.3125 43.546875 \nQ 18.109375 38.921875 18.109375 30.90625 \nL 18.109375 0 \nL 9.078125 0 \nL 9.078125 54.6875 \nL 18.109375 54.6875 \nL 18.109375 46.1875 \nQ 21.34375 51.125 25.703125 53.5625 \nQ 30.078125 56 35.796875 56 \nQ 45.21875 56 50.046875 50.171875 \nQ 54.890625 44.34375 54.890625 33.015625 \nz\n\" id=\"DejaVuSans-110\"/>\n     </defs>\n     <use xlink:href=\"#DejaVuSans-90\"/>\n     <use x=\"68.505859\" xlink:href=\"#DejaVuSans-32\"/>\n     <use x=\"100.292969\" xlink:href=\"#DejaVuSans-68\"/>\n     <use x=\"177.294922\" xlink:href=\"#DejaVuSans-105\"/>\n     <use x=\"205.078125\" xlink:href=\"#DejaVuSans-115\"/>\n     <use x=\"257.177734\" xlink:href=\"#DejaVuSans-116\"/>\n     <use x=\"296.386719\" xlink:href=\"#DejaVuSans-114\"/>\n     <use x=\"337.5\" xlink:href=\"#DejaVuSans-105\"/>\n     <use x=\"365.283203\" xlink:href=\"#DejaVuSans-98\"/>\n     <use x=\"428.759766\" xlink:href=\"#DejaVuSans-117\"/>\n     <use x=\"492.138672\" xlink:href=\"#DejaVuSans-116\"/>\n     <use x=\"531.347656\" xlink:href=\"#DejaVuSans-105\"/>\n     <use x=\"559.130859\" xlink:href=\"#DejaVuSans-111\"/>\n     <use x=\"620.3125\" xlink:href=\"#DejaVuSans-110\"/>\n    </g>\n   </g>\n  </g>\n </g>\n <defs>\n  <clipPath id=\"pb6720a5446\">\n   <rect height=\"217.44\" width=\"334.8\" x=\"66.115625\" y=\"28.396875\"/>\n  </clipPath>\n </defs>\n</svg>\n",
      "image/png": "[encoded data removed]"
     },
     "metadata": {
      "needs_background": "light"
     }
    }
   ],
   "source": [
    "# plot results for Z\n",
    "plt.plot(z_values, p_z, 'o-', linewidth=3, markersize=8)\n",
    "plt.grid()\n",
    "plt.xlabel('Z value', size=15)\n",
    "plt.ylabel('probability (%)', size=15)\n",
    "plt.title('Z Distribution', size=20)\n",
    "plt.xticks(size=15)\n",
    "plt.yticks(size=15)\n",
    "plt.show()"
   ]
  },
  {
   "cell_type": "code",
   "execution_count": 1030,
   "metadata": {
    "tags": []
   },
   "outputs": [
    {
     "output_type": "stream",
     "name": "stdout",
     "text": [
      "LGD:  [1, 2, 3]  Total Assets value: $      600,000\nAssets:  3\nAssets default Probabilities:  [0.15, 0.25, 0.2]\nExpected Loss E[L]:                $      122,590\nValue at Risk VaR[L](0.05):        $      500,000\nP[L <= VaR[L]](0.05):              0.9473\nConditional Value at Risk CVaR[L]: $      600,000\n"
     ]
    }
   ],
   "source": [
    "\n",
    "print('LGD: ', loss_given_default, ' Total Assets value: $ {0:12,.0f}'.format(sum(loss_given_default)*lgd_factor))\n",
    "print('Assets: ', K)\n",
    "print('Assets default Probabilities: ', probability_default)\n",
    "print('Expected Loss E[L]:                $ {0:12,.0f}'.format(expected_loss*lgd_factor))\n",
    "print('Value at Risk VaR[L](%.2f):        $ {0:12,.0f}'.format((exact_var*lgd_factor)) % (alpha))\n",
    "print('P[L <= VaR[L]](%.2f):              %.4f' % (alpha, p_l_less_than_var))\n",
    "print('Conditional Value at Risk CVaR[L]: $ {0:12,.0f}'.format(exact_cvar*lgd_factor))\n"
   ]
  },
  {
   "source": [
    "# Part 2 - Expected Loss with Quantum and QAE\n",
    "_Bring it on_"
   ],
   "cell_type": "markdown",
   "metadata": {}
  },
  {
   "source": [
    "# Enter QAE\n",
    "\n",
    "![QAE Circuit](QAE.png)\n",
    "\n",
    "A |0⟩n |0⟩ = √1−a|ψ0⟩n |0⟩+√a|ψ1⟩n |1⟩, (1)\n",
    "where a ∈ [0, 1] is the unknown, and |ψ0 ⟩n and |ψ1 ⟩n are two normalized states, not necessarily orthogonal. QAE allows to estimate a with high probability such that the estimation error scales as O(1/M), where M corresponds to the number of applications of A. To this extent, an operator Q = −Sψ0A†S0A is defined where Sψ0 = I−2|ψ0⟩⟨ψ0|⊗|0⟩⟨0| and S0 = I−2|0⟩n+1 ⟨0|n+1\n",
    "\n",
    "The probability of measuring |1⟩ in the last qubit is given by\n",
    "P[|1⟩] = sin2((2k + 1)θa).\n",
    "\n"
   ],
   "cell_type": "markdown",
   "metadata": {}
  },
  {
   "source": [
    "### QAE\n",
    "Quantum Amplitude Estimation (QAE) is a fundamental quantum algorithm with the potential to achieve a quadratic speedup for many applications that are classically solved through Monte Carlo (MC) simulation.\n",
    "While the estimation error of classical MC simulation scales as O(1/√M), where M denotes the number of (classical) samples, QAE achieves a scaling of O(1/M) for M (quantum) samples, which implies the aforementioned quadratic speedup.\n",
    "\n",
    "The canonical version of QAE is a combination of Quantum Phase Estimation (QPE) and Grover’s Algorithm. Since other QPE-based algorithms are believed to achieve exponential speedup, most prominently Shor’s Algorithm for factoring [9], it has been speculated as to whether QAE can be simplified such that it uses only Grover iterations without a QPE-dependency. Removing the QPE-dependency would help to reduce the resource requirements of QAE in terms of qubits and circuit depth and lower the bar for practial applications of QAE.\n",
    "\n",
    "\n",
    "### Expected Loss\n",
    "\n",
    "To estimate the expected loss, we first apply a weighted sum operator to sum up individual losses to total loss:\n",
    "\n",
    "$$ \\mathcal{S}: |x_1, ..., x_K \\rangle_K |0\\rangle_{n_S} \\mapsto |x_1, ..., x_K \\rangle_K |\\lambda_1x_1 + ... + \\lambda_K x_K\\rangle_{n_S}. $$\n",
    "\n",
    "The required number of qubits to represent the result is given by\n",
    "\n",
    "$$ n_s = \\lfloor \\log_2( \\lambda_1 + ... + \\lambda_K ) \\rfloor + 1. $$\n",
    "\n",
    "Once we have the total loss distribution in a quantum register, we can use the techniques described in [Woerner2019] to map a total loss $L \\in \\{0, ..., 2^{n_s}-1\\}$ to the amplitude of an objective qubit by an operator\n",
    "\n",
    "$$ | L \\rangle_{n_s}|0\\rangle \\mapsto | L \\rangle_{n_s} \\left( \\sqrt{1 - L/(2^{n_s}-1)}|0\\rangle + \\sqrt{L/(2^{n_s}-1)}|1\\rangle \\right),$$\n",
    "\n",
    "which allows to run amplitude estimation to evaluate the expected loss.\n",
    "\n",
    "\n",
    "Weighted Adder operator:\n",
    "\n",
    "$$|q_0 \\ldots q_{n-1}\\rangle |0\\rangle_s \\mapsto |q_0 \\ldots q_{n-1}\\rangle |\\sum_{j=0}^{n-1} \\lambda_j q_j\\rangle_s$$\n",
    "\n",
    "\n",
    "\n",
    "                   ┌────────┐\n",
    "          state_0: ┤0       ├ | state_0 * weights[0]\n",
    "                   │        │ |\n",
    "          state_1: ┤1       ├ | + state_1 * weights[1]\n",
    "                   │        │ |\n",
    "          state_2: ┤2       ├ | + state_2 * weights[2]\n",
    "                   │        │ |\n",
    "          state_3: ┤3       ├ | + state_3 * weights[3]\n",
    "                   │        │\n",
    "            sum_0: ┤4       ├ |\n",
    "                   │  Adder │ |\n",
    "            sum_1: ┤5       ├ | = sum_0 * 2^0 + sum_1 * 2^1 + sum_2 * 2^2\n",
    "                   │        │ |\n",
    "            sum_2: ┤6       ├ |\n",
    "                   │        │\n",
    "          carry_0: ┤7       ├\n",
    "                   │        │\n",
    "          carry_1: ┤8       ├\n",
    "                   │        │\n",
    "        control_0: ┤9       ├\n",
    "                   └────────┘"
   ],
   "cell_type": "markdown",
   "metadata": {}
  },
  {
   "cell_type": "code",
   "execution_count": 1031,
   "metadata": {},
   "outputs": [],
   "source": [
    "# add Z qubits with weight/loss 0\n",
    "\n",
    "# WeightedAdder(num_state_qubits=None, weights=None, name='adder')\n",
    "# We need as many state qubits as our definition of Z + number of assets: |x1,...xk>|0>ns\n",
    "# We only add weights to the lgd elements of the sum and add 0 to the Z (not really adding them)\n",
    "\n",
    "weighted_adder = WeightedAdder(n_z + K, [0]*n_z + loss_given_default)\n",
    "\n"
   ]
  },
  {
   "cell_type": "code",
   "execution_count": 1032,
   "metadata": {},
   "outputs": [
    {
     "output_type": "stream",
     "name": "stdout",
     "text": [
      "14\n"
     ]
    }
   ],
   "source": [
    "#weighted_adder.draw()\n",
    "print(weighted_adder.num_qubits)"
   ]
  },
  {
   "cell_type": "code",
   "execution_count": 1033,
   "metadata": {},
   "outputs": [
    {
     "output_type": "execute_result",
     "data": {
      "text/plain": [
       "                ┌───┐┌────────┐         \n",
       "       state_0: ┤ X ├┤0       ├─────────\n",
       "                ├───┤│        │         \n",
       "       state_1: ┤ X ├┤1       ├─────────\n",
       "                ├───┤│        │         \n",
       "       state_2: ┤ X ├┤2       ├─────────\n",
       "                └───┘│        │         \n",
       "       state_3: ─────┤3 adder ├─────────\n",
       "                     │        │┌─┐      \n",
       "         sum_0: ─────┤4       ├┤M├──────\n",
       "                     │        │└╥┘┌─┐   \n",
       "         sum_1: ─────┤5       ├─╫─┤M├───\n",
       "                     │        │ ║ └╥┘┌─┐\n",
       "       carry_0: ─────┤6       ├─╫──╫─┤M├\n",
       "                     └────────┘ ║  ║ └╥┘\n",
       "  sum_result: 2/════════════════╩══╩══╬═\n",
       "                                0  1  ║ \n",
       "                                      ║ \n",
       "carry_result: 1/══════════════════════╩═\n",
       "                                      0 "
      ],
      "text/html": "<pre style=\"word-wrap: normal;white-space: pre;background: #fff0;line-height: 1.1;font-family: &quot;Courier New&quot;,Courier,monospace\">                ┌───┐┌────────┐         \n       state_0: ┤ X ├┤0       ├─────────\n                ├───┤│        │         \n       state_1: ┤ X ├┤1       ├─────────\n                ├───┤│        │         \n       state_2: ┤ X ├┤2       ├─────────\n                └───┘│        │         \n       state_3: ─────┤3 adder ├─────────\n                     │        │┌─┐      \n         sum_0: ─────┤4       ├┤M├──────\n                     │        │└╥┘┌─┐   \n         sum_1: ─────┤5       ├─╫─┤M├───\n                     │        │ ║ └╥┘┌─┐\n       carry_0: ─────┤6       ├─╫──╫─┤M├\n                     └────────┘ ║  ║ └╥┘\n  sum_result: 2/════════════════╩══╩══╬═\n                                0  1  ║ \n                                      ║ \ncarry_result: 1/══════════════════════╩═\n                                      0 </pre>"
     },
     "metadata": {},
     "execution_count": 1033
    }
   ],
   "source": [
    "# Test Aggregator - Just to make sure we understand what it odes and why\n",
    "# Lets do a quick test to validate the WeightedAdder Qiskit function\n",
    "\n",
    "test_adder = WeightedAdder(4, [0,0,1,1])    # Adds only the last two state qubits\n",
    "\n",
    "\n",
    "state_registry = QuantumRegister(test_adder.num_state_qubits, 'state')\n",
    "sum_registry = QuantumRegister(test_adder.num_sum_qubits, 'sum')\n",
    "carry_registry = QuantumRegister(test_adder.num_carry_qubits, 'carry')\n",
    "sum_result = ClassicalRegister(test_adder.num_sum_qubits, 'sum_result')\n",
    "carry_result = ClassicalRegister(test_adder.num_carry_qubits, 'carry_result')\n",
    "\n",
    "if test_adder.num_control_qubits > 0:\n",
    "    control_registry = QuantumRegister(test_adder.num_control_qubits, 'control')\n",
    "    test_adder_circuit = QuantumCircuit(state_registry, sum_registry, carry_registry, control_registry, sum_result, carry_result)\n",
    "else:\n",
    "    test_adder_circuit = QuantumCircuit(state_registry, sum_registry, carry_registry, sum_result, carry_result)\n",
    "\n",
    "test_adder_circuit.x(state_registry[0])\n",
    "test_adder_circuit.x(state_registry[1])\n",
    "test_adder_circuit.x(state_registry[2])\n",
    "#test_adder_circuit.x(state_registry[3])\n",
    "\n",
    "test_adder_circuit.append(test_adder, range(test_adder.num_qubits))\n",
    "test_adder_circuit.measure(sum_registry, sum_result)\n",
    "test_adder_circuit.measure(carry_registry, carry_result)\n",
    "test_adder_circuit.draw()\n",
    "\n"
   ]
  },
  {
   "cell_type": "code",
   "execution_count": null,
   "metadata": {},
   "outputs": [],
   "source": []
  },
  {
   "cell_type": "code",
   "execution_count": 1034,
   "metadata": {},
   "outputs": [
    {
     "output_type": "display_data",
     "data": {
      "application/vnd.plotly.v1+json": {
       "config": {
        "displayModeBar": false,
        "editable": false,
        "plotlyServerURL": "https://plot.ly"
       },
       "data": [
        {
         "hoverinfo": "text",
         "hovertext": [
          "<b>0 01</b><br>P = 1.0"
         ],
         "marker": {
          "color": "#1b9e77"
         },
         "name": "",
         "text": [
          1
         ],
         "textposition": "auto",
         "type": "bar",
         "width": 0.5,
         "x": [
          0
         ],
         "y": [
          1
         ]
        }
       ],
       "layout": {
        "font": {
         "color": "black"
        },
        "margin": {
         "b": 10,
         "l": 50,
         "r": 10,
         "t": 40
        },
        "paper_bgcolor": "white",
        "showlegend": false,
        "template": {
         "data": {
          "bar": [
           {
            "error_x": {
             "color": "#2a3f5f"
            },
            "error_y": {
             "color": "#2a3f5f"
            },
            "marker": {
             "line": {
              "color": "#E5ECF6",
              "width": 0.5
             }
            },
            "type": "bar"
           }
          ],
          "barpolar": [
           {
            "marker": {
             "line": {
              "color": "#E5ECF6",
              "width": 0.5
             }
            },
            "type": "barpolar"
           }
          ],
          "carpet": [
           {
            "aaxis": {
             "endlinecolor": "#2a3f5f",
             "gridcolor": "white",
             "linecolor": "white",
             "minorgridcolor": "white",
             "startlinecolor": "#2a3f5f"
            },
            "baxis": {
             "endlinecolor": "#2a3f5f",
             "gridcolor": "white",
             "linecolor": "white",
             "minorgridcolor": "white",
             "startlinecolor": "#2a3f5f"
            },
            "type": "carpet"
           }
          ],
          "choropleth": [
           {
            "colorbar": {
             "outlinewidth": 0,
             "ticks": ""
            },
            "type": "choropleth"
           }
          ],
          "contour": [
           {
            "colorbar": {
             "outlinewidth": 0,
             "ticks": ""
            },
            "colorscale": [
             [
              0,
              "#0d0887"
             ],
             [
              0.1111111111111111,
              "#46039f"
             ],
             [
              0.2222222222222222,
              "#7201a8"
             ],
             [
              0.3333333333333333,
              "#9c179e"
             ],
             [
              0.4444444444444444,
              "#bd3786"
             ],
             [
              0.5555555555555556,
              "#d8576b"
             ],
             [
              0.6666666666666666,
              "#ed7953"
             ],
             [
              0.7777777777777778,
              "#fb9f3a"
             ],
             [
              0.8888888888888888,
              "#fdca26"
             ],
             [
              1,
              "#f0f921"
             ]
            ],
            "type": "contour"
           }
          ],
          "contourcarpet": [
           {
            "colorbar": {
             "outlinewidth": 0,
             "ticks": ""
            },
            "type": "contourcarpet"
           }
          ],
          "heatmap": [
           {
            "colorbar": {
             "outlinewidth": 0,
             "ticks": ""
            },
            "colorscale": [
             [
              0,
              "#0d0887"
             ],
             [
              0.1111111111111111,
              "#46039f"
             ],
             [
              0.2222222222222222,
              "#7201a8"
             ],
             [
              0.3333333333333333,
              "#9c179e"
             ],
             [
              0.4444444444444444,
              "#bd3786"
             ],
             [
              0.5555555555555556,
              "#d8576b"
             ],
             [
              0.6666666666666666,
              "#ed7953"
             ],
             [
              0.7777777777777778,
              "#fb9f3a"
             ],
             [
              0.8888888888888888,
              "#fdca26"
             ],
             [
              1,
              "#f0f921"
             ]
            ],
            "type": "heatmap"
           }
          ],
          "heatmapgl": [
           {
            "colorbar": {
             "outlinewidth": 0,
             "ticks": ""
            },
            "colorscale": [
             [
              0,
              "#0d0887"
             ],
             [
              0.1111111111111111,
              "#46039f"
             ],
             [
              0.2222222222222222,
              "#7201a8"
             ],
             [
              0.3333333333333333,
              "#9c179e"
             ],
             [
              0.4444444444444444,
              "#bd3786"
             ],
             [
              0.5555555555555556,
              "#d8576b"
             ],
             [
              0.6666666666666666,
              "#ed7953"
             ],
             [
              0.7777777777777778,
              "#fb9f3a"
             ],
             [
              0.8888888888888888,
              "#fdca26"
             ],
             [
              1,
              "#f0f921"
             ]
            ],
            "type": "heatmapgl"
           }
          ],
          "histogram": [
           {
            "marker": {
             "colorbar": {
              "outlinewidth": 0,
              "ticks": ""
             }
            },
            "type": "histogram"
           }
          ],
          "histogram2d": [
           {
            "colorbar": {
             "outlinewidth": 0,
             "ticks": ""
            },
            "colorscale": [
             [
              0,
              "#0d0887"
             ],
             [
              0.1111111111111111,
              "#46039f"
             ],
             [
              0.2222222222222222,
              "#7201a8"
             ],
             [
              0.3333333333333333,
              "#9c179e"
             ],
             [
              0.4444444444444444,
              "#bd3786"
             ],
             [
              0.5555555555555556,
              "#d8576b"
             ],
             [
              0.6666666666666666,
              "#ed7953"
             ],
             [
              0.7777777777777778,
              "#fb9f3a"
             ],
             [
              0.8888888888888888,
              "#fdca26"
             ],
             [
              1,
              "#f0f921"
             ]
            ],
            "type": "histogram2d"
           }
          ],
          "histogram2dcontour": [
           {
            "colorbar": {
             "outlinewidth": 0,
             "ticks": ""
            },
            "colorscale": [
             [
              0,
              "#0d0887"
             ],
             [
              0.1111111111111111,
              "#46039f"
             ],
             [
              0.2222222222222222,
              "#7201a8"
             ],
             [
              0.3333333333333333,
              "#9c179e"
             ],
             [
              0.4444444444444444,
              "#bd3786"
             ],
             [
              0.5555555555555556,
              "#d8576b"
             ],
             [
              0.6666666666666666,
              "#ed7953"
             ],
             [
              0.7777777777777778,
              "#fb9f3a"
             ],
             [
              0.8888888888888888,
              "#fdca26"
             ],
             [
              1,
              "#f0f921"
             ]
            ],
            "type": "histogram2dcontour"
           }
          ],
          "mesh3d": [
           {
            "colorbar": {
             "outlinewidth": 0,
             "ticks": ""
            },
            "type": "mesh3d"
           }
          ],
          "parcoords": [
           {
            "line": {
             "colorbar": {
              "outlinewidth": 0,
              "ticks": ""
             }
            },
            "type": "parcoords"
           }
          ],
          "pie": [
           {
            "automargin": true,
            "type": "pie"
           }
          ],
          "scatter": [
           {
            "marker": {
             "colorbar": {
              "outlinewidth": 0,
              "ticks": ""
             }
            },
            "type": "scatter"
           }
          ],
          "scatter3d": [
           {
            "line": {
             "colorbar": {
              "outlinewidth": 0,
              "ticks": ""
             }
            },
            "marker": {
             "colorbar": {
              "outlinewidth": 0,
              "ticks": ""
             }
            },
            "type": "scatter3d"
           }
          ],
          "scattercarpet": [
           {
            "marker": {
             "colorbar": {
              "outlinewidth": 0,
              "ticks": ""
             }
            },
            "type": "scattercarpet"
           }
          ],
          "scattergeo": [
           {
            "marker": {
             "colorbar": {
              "outlinewidth": 0,
              "ticks": ""
             }
            },
            "type": "scattergeo"
           }
          ],
          "scattergl": [
           {
            "marker": {
             "colorbar": {
              "outlinewidth": 0,
              "ticks": ""
             }
            },
            "type": "scattergl"
           }
          ],
          "scattermapbox": [
           {
            "marker": {
             "colorbar": {
              "outlinewidth": 0,
              "ticks": ""
             }
            },
            "type": "scattermapbox"
           }
          ],
          "scatterpolar": [
           {
            "marker": {
             "colorbar": {
              "outlinewidth": 0,
              "ticks": ""
             }
            },
            "type": "scatterpolar"
           }
          ],
          "scatterpolargl": [
           {
            "marker": {
             "colorbar": {
              "outlinewidth": 0,
              "ticks": ""
             }
            },
            "type": "scatterpolargl"
           }
          ],
          "scatterternary": [
           {
            "marker": {
             "colorbar": {
              "outlinewidth": 0,
              "ticks": ""
             }
            },
            "type": "scatterternary"
           }
          ],
          "surface": [
           {
            "colorbar": {
             "outlinewidth": 0,
             "ticks": ""
            },
            "colorscale": [
             [
              0,
              "#0d0887"
             ],
             [
              0.1111111111111111,
              "#46039f"
             ],
             [
              0.2222222222222222,
              "#7201a8"
             ],
             [
              0.3333333333333333,
              "#9c179e"
             ],
             [
              0.4444444444444444,
              "#bd3786"
             ],
             [
              0.5555555555555556,
              "#d8576b"
             ],
             [
              0.6666666666666666,
              "#ed7953"
             ],
             [
              0.7777777777777778,
              "#fb9f3a"
             ],
             [
              0.8888888888888888,
              "#fdca26"
             ],
             [
              1,
              "#f0f921"
             ]
            ],
            "type": "surface"
           }
          ],
          "table": [
           {
            "cells": {
             "fill": {
              "color": "#EBF0F8"
             },
             "line": {
              "color": "white"
             }
            },
            "header": {
             "fill": {
              "color": "#C8D4E3"
             },
             "line": {
              "color": "white"
             }
            },
            "type": "table"
           }
          ]
         },
         "layout": {
          "annotationdefaults": {
           "arrowcolor": "#2a3f5f",
           "arrowhead": 0,
           "arrowwidth": 1
          },
          "coloraxis": {
           "colorbar": {
            "outlinewidth": 0,
            "ticks": ""
           }
          },
          "colorscale": {
           "diverging": [
            [
             0,
             "#8e0152"
            ],
            [
             0.1,
             "#c51b7d"
            ],
            [
             0.2,
             "#de77ae"
            ],
            [
             0.3,
             "#f1b6da"
            ],
            [
             0.4,
             "#fde0ef"
            ],
            [
             0.5,
             "#f7f7f7"
            ],
            [
             0.6,
             "#e6f5d0"
            ],
            [
             0.7,
             "#b8e186"
            ],
            [
             0.8,
             "#7fbc41"
            ],
            [
             0.9,
             "#4d9221"
            ],
            [
             1,
             "#276419"
            ]
           ],
           "sequential": [
            [
             0,
             "#0d0887"
            ],
            [
             0.1111111111111111,
             "#46039f"
            ],
            [
             0.2222222222222222,
             "#7201a8"
            ],
            [
             0.3333333333333333,
             "#9c179e"
            ],
            [
             0.4444444444444444,
             "#bd3786"
            ],
            [
             0.5555555555555556,
             "#d8576b"
            ],
            [
             0.6666666666666666,
             "#ed7953"
            ],
            [
             0.7777777777777778,
             "#fb9f3a"
            ],
            [
             0.8888888888888888,
             "#fdca26"
            ],
            [
             1,
             "#f0f921"
            ]
           ],
           "sequentialminus": [
            [
             0,
             "#0d0887"
            ],
            [
             0.1111111111111111,
             "#46039f"
            ],
            [
             0.2222222222222222,
             "#7201a8"
            ],
            [
             0.3333333333333333,
             "#9c179e"
            ],
            [
             0.4444444444444444,
             "#bd3786"
            ],
            [
             0.5555555555555556,
             "#d8576b"
            ],
            [
             0.6666666666666666,
             "#ed7953"
            ],
            [
             0.7777777777777778,
             "#fb9f3a"
            ],
            [
             0.8888888888888888,
             "#fdca26"
            ],
            [
             1,
             "#f0f921"
            ]
           ]
          },
          "colorway": [
           "#636efa",
           "#EF553B",
           "#00cc96",
           "#ab63fa",
           "#FFA15A",
           "#19d3f3",
           "#FF6692",
           "#B6E880",
           "#FF97FF",
           "#FECB52"
          ],
          "font": {
           "color": "#2a3f5f"
          },
          "geo": {
           "bgcolor": "white",
           "lakecolor": "white",
           "landcolor": "#E5ECF6",
           "showlakes": true,
           "showland": true,
           "subunitcolor": "white"
          },
          "hoverlabel": {
           "align": "left"
          },
          "hovermode": "closest",
          "mapbox": {
           "style": "light"
          },
          "paper_bgcolor": "white",
          "plot_bgcolor": "#E5ECF6",
          "polar": {
           "angularaxis": {
            "gridcolor": "white",
            "linecolor": "white",
            "ticks": ""
           },
           "bgcolor": "#E5ECF6",
           "radialaxis": {
            "gridcolor": "white",
            "linecolor": "white",
            "ticks": ""
           }
          },
          "scene": {
           "xaxis": {
            "backgroundcolor": "#E5ECF6",
            "gridcolor": "white",
            "gridwidth": 2,
            "linecolor": "white",
            "showbackground": true,
            "ticks": "",
            "zerolinecolor": "white"
           },
           "yaxis": {
            "backgroundcolor": "#E5ECF6",
            "gridcolor": "white",
            "gridwidth": 2,
            "linecolor": "white",
            "showbackground": true,
            "ticks": "",
            "zerolinecolor": "white"
           },
           "zaxis": {
            "backgroundcolor": "#E5ECF6",
            "gridcolor": "white",
            "gridwidth": 2,
            "linecolor": "white",
            "showbackground": true,
            "ticks": "",
            "zerolinecolor": "white"
           }
          },
          "shapedefaults": {
           "line": {
            "color": "#2a3f5f"
           }
          },
          "ternary": {
           "aaxis": {
            "gridcolor": "white",
            "linecolor": "white",
            "ticks": ""
           },
           "baxis": {
            "gridcolor": "white",
            "linecolor": "white",
            "ticks": ""
           },
           "bgcolor": "#E5ECF6",
           "caxis": {
            "gridcolor": "white",
            "linecolor": "white",
            "ticks": ""
           }
          },
          "title": {
           "x": 0.05
          },
          "xaxis": {
           "automargin": true,
           "gridcolor": "white",
           "linecolor": "white",
           "ticks": "",
           "title": {
            "standoff": 15
           },
           "zerolinecolor": "white",
           "zerolinewidth": 2
          },
          "yaxis": {
           "automargin": true,
           "gridcolor": "white",
           "linecolor": "white",
           "ticks": "",
           "title": {
            "standoff": 15
           },
           "zerolinecolor": "white",
           "zerolinewidth": 2
          }
         }
        },
        "title": {
         "font": {
          "size": 20
         },
         "x": 0.5
        },
        "xaxis": {
         "linewidth": 1,
         "showline": true,
         "tickangle": -70,
         "tickfont": {
          "size": 14
         },
         "ticktext": [
          "0 01"
         ],
         "tickvals": [
          0
         ]
        },
        "yaxis": {
         "linewidth": 1,
         "showline": true,
         "tickfont": {
          "size": 14
         },
         "title": {
          "font": {
           "size": 18
          },
          "text": "Probability"
         }
        }
       }
      }
     },
     "metadata": {}
    }
   ],
   "source": [
    "job = execute(test_adder_circuit, backend=Aer.get_backend('statevector_simulator'))\n",
    "probability_distribution(job.result().get_counts())"
   ]
  },
  {
   "source": [
    "### Linear Amplitude Function \n",
    "\n",
    "CLASSLinearAmplitudeFunction(num_state_qubits, slope, offset, domain, image, rescaling_factor=1, breakpoints=None, name='F')\n",
    "\n",
    "A circuit implementing a (piecewise) linear function on qubit amplitudes.\n",
    "\n",
    "An amplitude function 𝐹 of a function 𝑓 is a mapping\n",
    "$$F|x\\rangle|0\\rangle = \\sqrt{1 - \\hat{f}(x)} |x\\rangle|0\\rangle + \\sqrt{\\hat{f}(x)} |x\\rangle|1\\rangle.$$\n",
    "\n",
    "for a function $ \\hat{f}: \\{0, ..., 2^n - 1\\} \\rightarrow [0, 1] $, where |𝑥⟩ is a $n$ qubit state.\n",
    "\n",
    "This circuit implements F for piecewise linear functions $\\hat{f}$. In this case, the mapping F can be approximately implemented using a Taylor expansion and linearly controlled Pauli-Y rotations. This approximation uses a rescaling_factor to determine the accuracy of the Taylor expansion.\n",
    "\n",
    "In general, the function of interest f is defined from some interval $[a,b]$, 'domain' to $ [c,d]$, the 'image', instead of $ \\{1, ..., N\\} $ to $[0, 1]$. Usng an affine transformation we can rescale $f$ to $ \\hat{f} $ :\n",
    "\n",
    "$$\\hat{f(x)} = \\frac{f(\\phi(x)) - c}{d - c}$$\n",
    "\n",
    "with\n",
    "\n",
    "$\\phi(x) = a + \\frac{b - a}{2^n - 1} x$\n",
    "\n",
    "If $ f $ is a piecewise linear function on 'm' intervals $ [p_{i-1}, p_i], i \\in \\{1, ..., m\\} $ with slopes $ \\alpha_i $ and offsets $ \\beta_i $ it can be written as\n",
    "\n",
    "$$f(x) = \\sum_{i=1}^m 1_{[p_{i-1}, p_i}(x) (\\alpha_i x + \\beta_i)$$\n",
    "\n",
    "where $ 1_[a, b] $ is an indication function that is 1 if the argument is in the interval $ [a, b] $ and otherwise 0. The breakpoints $ p_i $ can be specified by the 'breakpoints' argument."
   ],
   "cell_type": "markdown",
   "metadata": {}
  },
  {
   "cell_type": "code",
   "execution_count": 1035,
   "metadata": {},
   "outputs": [],
   "source": [
    "\n",
    "# define linear objective function\n",
    "breakpoints = [0]\n",
    "slopes = [1]\n",
    "offsets = [0]\n",
    "f_min = 0\n",
    "f_max = sum(loss_given_default)\n",
    "c_approx = 0.25\n",
    "\n",
    "objective = LinearAmplitudeFunction(\n",
    "    weighted_adder.num_sum_qubits,\n",
    "    slope=slopes, \n",
    "    offset=offsets, \n",
    "    # max value that can be reached by the qubit register (will not always be reached)\n",
    "    domain=(0, 2**weighted_adder.num_sum_qubits-1),  \n",
    "    image=(f_min, f_max),\n",
    "    rescaling_factor=c_approx,\n",
    "    breakpoints=breakpoints,\n",
    "    name=\"F\"\n",
    ")"
   ]
  },
  {
   "cell_type": "code",
   "execution_count": 1036,
   "metadata": {},
   "outputs": [
    {
     "output_type": "execute_result",
     "data": {
      "text/plain": [
       "                                                         \n",
       "q15130_0: ─────────────────■─────────────────────────────\n",
       "                           │                             \n",
       "q15130_1: ─────────────────┼───────────■─────────────────\n",
       "                           │           │                 \n",
       "q15130_2: ─────────────────┼───────────┼───────────■─────\n",
       "          ┌──────────┐┌────┴─────┐┌────┴─────┐┌────┴────┐\n",
       "q15131_0: ┤ RY(3π/8) ├┤ RY(π/24) ├┤ RY(π/12) ├┤ RY(π/6) ├\n",
       "          └──────────┘└──────────┘└──────────┘└─────────┘"
      ],
      "text/html": "<pre style=\"word-wrap: normal;white-space: pre;background: #fff0;line-height: 1.1;font-family: &quot;Courier New&quot;,Courier,monospace\">                                                         \nq15130_0: ─────────────────■─────────────────────────────\n                           │                             \nq15130_1: ─────────────────┼───────────■─────────────────\n                           │           │                 \nq15130_2: ─────────────────┼───────────┼───────────■─────\n          ┌──────────┐┌────┴─────┐┌────┴─────┐┌────┴────┐\nq15131_0: ┤ RY(3π/8) ├┤ RY(π/24) ├┤ RY(π/12) ├┤ RY(π/6) ├\n          └──────────┘└──────────┘└──────────┘└─────────┘</pre>"
     },
     "metadata": {},
     "execution_count": 1036
    }
   ],
   "source": [
    "objective.decompose().draw()"
   ]
  },
  {
   "cell_type": "code",
   "execution_count": 1037,
   "metadata": {},
   "outputs": [
    {
     "output_type": "display_data",
     "data": {
      "application/vnd.plotly.v1+json": {
       "config": {
        "displayModeBar": false,
        "editable": false,
        "plotlyServerURL": "https://plot.ly"
       },
       "data": [
        {
         "hoverinfo": "text",
         "hovertext": [
          "<b>0000</b><br>P = 0.691",
          "<b>1000</b><br>P = 0.309"
         ],
         "marker": {
          "color": "#1b9e77"
         },
         "name": "",
         "text": [
          0.691,
          0.309
         ],
         "textposition": "auto",
         "type": "bar",
         "width": 0.5,
         "x": [
          0,
          1
         ],
         "y": [
          0.6913417161825447,
          0.3086582838174553
         ]
        }
       ],
       "layout": {
        "font": {
         "color": "black"
        },
        "margin": {
         "b": 10,
         "l": 50,
         "r": 10,
         "t": 40
        },
        "paper_bgcolor": "white",
        "showlegend": false,
        "template": {
         "data": {
          "bar": [
           {
            "error_x": {
             "color": "#2a3f5f"
            },
            "error_y": {
             "color": "#2a3f5f"
            },
            "marker": {
             "line": {
              "color": "#E5ECF6",
              "width": 0.5
             }
            },
            "type": "bar"
           }
          ],
          "barpolar": [
           {
            "marker": {
             "line": {
              "color": "#E5ECF6",
              "width": 0.5
             }
            },
            "type": "barpolar"
           }
          ],
          "carpet": [
           {
            "aaxis": {
             "endlinecolor": "#2a3f5f",
             "gridcolor": "white",
             "linecolor": "white",
             "minorgridcolor": "white",
             "startlinecolor": "#2a3f5f"
            },
            "baxis": {
             "endlinecolor": "#2a3f5f",
             "gridcolor": "white",
             "linecolor": "white",
             "minorgridcolor": "white",
             "startlinecolor": "#2a3f5f"
            },
            "type": "carpet"
           }
          ],
          "choropleth": [
           {
            "colorbar": {
             "outlinewidth": 0,
             "ticks": ""
            },
            "type": "choropleth"
           }
          ],
          "contour": [
           {
            "colorbar": {
             "outlinewidth": 0,
             "ticks": ""
            },
            "colorscale": [
             [
              0,
              "#0d0887"
             ],
             [
              0.1111111111111111,
              "#46039f"
             ],
             [
              0.2222222222222222,
              "#7201a8"
             ],
             [
              0.3333333333333333,
              "#9c179e"
             ],
             [
              0.4444444444444444,
              "#bd3786"
             ],
             [
              0.5555555555555556,
              "#d8576b"
             ],
             [
              0.6666666666666666,
              "#ed7953"
             ],
             [
              0.7777777777777778,
              "#fb9f3a"
             ],
             [
              0.8888888888888888,
              "#fdca26"
             ],
             [
              1,
              "#f0f921"
             ]
            ],
            "type": "contour"
           }
          ],
          "contourcarpet": [
           {
            "colorbar": {
             "outlinewidth": 0,
             "ticks": ""
            },
            "type": "contourcarpet"
           }
          ],
          "heatmap": [
           {
            "colorbar": {
             "outlinewidth": 0,
             "ticks": ""
            },
            "colorscale": [
             [
              0,
              "#0d0887"
             ],
             [
              0.1111111111111111,
              "#46039f"
             ],
             [
              0.2222222222222222,
              "#7201a8"
             ],
             [
              0.3333333333333333,
              "#9c179e"
             ],
             [
              0.4444444444444444,
              "#bd3786"
             ],
             [
              0.5555555555555556,
              "#d8576b"
             ],
             [
              0.6666666666666666,
              "#ed7953"
             ],
             [
              0.7777777777777778,
              "#fb9f3a"
             ],
             [
              0.8888888888888888,
              "#fdca26"
             ],
             [
              1,
              "#f0f921"
             ]
            ],
            "type": "heatmap"
           }
          ],
          "heatmapgl": [
           {
            "colorbar": {
             "outlinewidth": 0,
             "ticks": ""
            },
            "colorscale": [
             [
              0,
              "#0d0887"
             ],
             [
              0.1111111111111111,
              "#46039f"
             ],
             [
              0.2222222222222222,
              "#7201a8"
             ],
             [
              0.3333333333333333,
              "#9c179e"
             ],
             [
              0.4444444444444444,
              "#bd3786"
             ],
             [
              0.5555555555555556,
              "#d8576b"
             ],
             [
              0.6666666666666666,
              "#ed7953"
             ],
             [
              0.7777777777777778,
              "#fb9f3a"
             ],
             [
              0.8888888888888888,
              "#fdca26"
             ],
             [
              1,
              "#f0f921"
             ]
            ],
            "type": "heatmapgl"
           }
          ],
          "histogram": [
           {
            "marker": {
             "colorbar": {
              "outlinewidth": 0,
              "ticks": ""
             }
            },
            "type": "histogram"
           }
          ],
          "histogram2d": [
           {
            "colorbar": {
             "outlinewidth": 0,
             "ticks": ""
            },
            "colorscale": [
             [
              0,
              "#0d0887"
             ],
             [
              0.1111111111111111,
              "#46039f"
             ],
             [
              0.2222222222222222,
              "#7201a8"
             ],
             [
              0.3333333333333333,
              "#9c179e"
             ],
             [
              0.4444444444444444,
              "#bd3786"
             ],
             [
              0.5555555555555556,
              "#d8576b"
             ],
             [
              0.6666666666666666,
              "#ed7953"
             ],
             [
              0.7777777777777778,
              "#fb9f3a"
             ],
             [
              0.8888888888888888,
              "#fdca26"
             ],
             [
              1,
              "#f0f921"
             ]
            ],
            "type": "histogram2d"
           }
          ],
          "histogram2dcontour": [
           {
            "colorbar": {
             "outlinewidth": 0,
             "ticks": ""
            },
            "colorscale": [
             [
              0,
              "#0d0887"
             ],
             [
              0.1111111111111111,
              "#46039f"
             ],
             [
              0.2222222222222222,
              "#7201a8"
             ],
             [
              0.3333333333333333,
              "#9c179e"
             ],
             [
              0.4444444444444444,
              "#bd3786"
             ],
             [
              0.5555555555555556,
              "#d8576b"
             ],
             [
              0.6666666666666666,
              "#ed7953"
             ],
             [
              0.7777777777777778,
              "#fb9f3a"
             ],
             [
              0.8888888888888888,
              "#fdca26"
             ],
             [
              1,
              "#f0f921"
             ]
            ],
            "type": "histogram2dcontour"
           }
          ],
          "mesh3d": [
           {
            "colorbar": {
             "outlinewidth": 0,
             "ticks": ""
            },
            "type": "mesh3d"
           }
          ],
          "parcoords": [
           {
            "line": {
             "colorbar": {
              "outlinewidth": 0,
              "ticks": ""
             }
            },
            "type": "parcoords"
           }
          ],
          "pie": [
           {
            "automargin": true,
            "type": "pie"
           }
          ],
          "scatter": [
           {
            "marker": {
             "colorbar": {
              "outlinewidth": 0,
              "ticks": ""
             }
            },
            "type": "scatter"
           }
          ],
          "scatter3d": [
           {
            "line": {
             "colorbar": {
              "outlinewidth": 0,
              "ticks": ""
             }
            },
            "marker": {
             "colorbar": {
              "outlinewidth": 0,
              "ticks": ""
             }
            },
            "type": "scatter3d"
           }
          ],
          "scattercarpet": [
           {
            "marker": {
             "colorbar": {
              "outlinewidth": 0,
              "ticks": ""
             }
            },
            "type": "scattercarpet"
           }
          ],
          "scattergeo": [
           {
            "marker": {
             "colorbar": {
              "outlinewidth": 0,
              "ticks": ""
             }
            },
            "type": "scattergeo"
           }
          ],
          "scattergl": [
           {
            "marker": {
             "colorbar": {
              "outlinewidth": 0,
              "ticks": ""
             }
            },
            "type": "scattergl"
           }
          ],
          "scattermapbox": [
           {
            "marker": {
             "colorbar": {
              "outlinewidth": 0,
              "ticks": ""
             }
            },
            "type": "scattermapbox"
           }
          ],
          "scatterpolar": [
           {
            "marker": {
             "colorbar": {
              "outlinewidth": 0,
              "ticks": ""
             }
            },
            "type": "scatterpolar"
           }
          ],
          "scatterpolargl": [
           {
            "marker": {
             "colorbar": {
              "outlinewidth": 0,
              "ticks": ""
             }
            },
            "type": "scatterpolargl"
           }
          ],
          "scatterternary": [
           {
            "marker": {
             "colorbar": {
              "outlinewidth": 0,
              "ticks": ""
             }
            },
            "type": "scatterternary"
           }
          ],
          "surface": [
           {
            "colorbar": {
             "outlinewidth": 0,
             "ticks": ""
            },
            "colorscale": [
             [
              0,
              "#0d0887"
             ],
             [
              0.1111111111111111,
              "#46039f"
             ],
             [
              0.2222222222222222,
              "#7201a8"
             ],
             [
              0.3333333333333333,
              "#9c179e"
             ],
             [
              0.4444444444444444,
              "#bd3786"
             ],
             [
              0.5555555555555556,
              "#d8576b"
             ],
             [
              0.6666666666666666,
              "#ed7953"
             ],
             [
              0.7777777777777778,
              "#fb9f3a"
             ],
             [
              0.8888888888888888,
              "#fdca26"
             ],
             [
              1,
              "#f0f921"
             ]
            ],
            "type": "surface"
           }
          ],
          "table": [
           {
            "cells": {
             "fill": {
              "color": "#EBF0F8"
             },
             "line": {
              "color": "white"
             }
            },
            "header": {
             "fill": {
              "color": "#C8D4E3"
             },
             "line": {
              "color": "white"
             }
            },
            "type": "table"
           }
          ]
         },
         "layout": {
          "annotationdefaults": {
           "arrowcolor": "#2a3f5f",
           "arrowhead": 0,
           "arrowwidth": 1
          },
          "coloraxis": {
           "colorbar": {
            "outlinewidth": 0,
            "ticks": ""
           }
          },
          "colorscale": {
           "diverging": [
            [
             0,
             "#8e0152"
            ],
            [
             0.1,
             "#c51b7d"
            ],
            [
             0.2,
             "#de77ae"
            ],
            [
             0.3,
             "#f1b6da"
            ],
            [
             0.4,
             "#fde0ef"
            ],
            [
             0.5,
             "#f7f7f7"
            ],
            [
             0.6,
             "#e6f5d0"
            ],
            [
             0.7,
             "#b8e186"
            ],
            [
             0.8,
             "#7fbc41"
            ],
            [
             0.9,
             "#4d9221"
            ],
            [
             1,
             "#276419"
            ]
           ],
           "sequential": [
            [
             0,
             "#0d0887"
            ],
            [
             0.1111111111111111,
             "#46039f"
            ],
            [
             0.2222222222222222,
             "#7201a8"
            ],
            [
             0.3333333333333333,
             "#9c179e"
            ],
            [
             0.4444444444444444,
             "#bd3786"
            ],
            [
             0.5555555555555556,
             "#d8576b"
            ],
            [
             0.6666666666666666,
             "#ed7953"
            ],
            [
             0.7777777777777778,
             "#fb9f3a"
            ],
            [
             0.8888888888888888,
             "#fdca26"
            ],
            [
             1,
             "#f0f921"
            ]
           ],
           "sequentialminus": [
            [
             0,
             "#0d0887"
            ],
            [
             0.1111111111111111,
             "#46039f"
            ],
            [
             0.2222222222222222,
             "#7201a8"
            ],
            [
             0.3333333333333333,
             "#9c179e"
            ],
            [
             0.4444444444444444,
             "#bd3786"
            ],
            [
             0.5555555555555556,
             "#d8576b"
            ],
            [
             0.6666666666666666,
             "#ed7953"
            ],
            [
             0.7777777777777778,
             "#fb9f3a"
            ],
            [
             0.8888888888888888,
             "#fdca26"
            ],
            [
             1,
             "#f0f921"
            ]
           ]
          },
          "colorway": [
           "#636efa",
           "#EF553B",
           "#00cc96",
           "#ab63fa",
           "#FFA15A",
           "#19d3f3",
           "#FF6692",
           "#B6E880",
           "#FF97FF",
           "#FECB52"
          ],
          "font": {
           "color": "#2a3f5f"
          },
          "geo": {
           "bgcolor": "white",
           "lakecolor": "white",
           "landcolor": "#E5ECF6",
           "showlakes": true,
           "showland": true,
           "subunitcolor": "white"
          },
          "hoverlabel": {
           "align": "left"
          },
          "hovermode": "closest",
          "mapbox": {
           "style": "light"
          },
          "paper_bgcolor": "white",
          "plot_bgcolor": "#E5ECF6",
          "polar": {
           "angularaxis": {
            "gridcolor": "white",
            "linecolor": "white",
            "ticks": ""
           },
           "bgcolor": "#E5ECF6",
           "radialaxis": {
            "gridcolor": "white",
            "linecolor": "white",
            "ticks": ""
           }
          },
          "scene": {
           "xaxis": {
            "backgroundcolor": "#E5ECF6",
            "gridcolor": "white",
            "gridwidth": 2,
            "linecolor": "white",
            "showbackground": true,
            "ticks": "",
            "zerolinecolor": "white"
           },
           "yaxis": {
            "backgroundcolor": "#E5ECF6",
            "gridcolor": "white",
            "gridwidth": 2,
            "linecolor": "white",
            "showbackground": true,
            "ticks": "",
            "zerolinecolor": "white"
           },
           "zaxis": {
            "backgroundcolor": "#E5ECF6",
            "gridcolor": "white",
            "gridwidth": 2,
            "linecolor": "white",
            "showbackground": true,
            "ticks": "",
            "zerolinecolor": "white"
           }
          },
          "shapedefaults": {
           "line": {
            "color": "#2a3f5f"
           }
          },
          "ternary": {
           "aaxis": {
            "gridcolor": "white",
            "linecolor": "white",
            "ticks": ""
           },
           "baxis": {
            "gridcolor": "white",
            "linecolor": "white",
            "ticks": ""
           },
           "bgcolor": "#E5ECF6",
           "caxis": {
            "gridcolor": "white",
            "linecolor": "white",
            "ticks": ""
           }
          },
          "title": {
           "x": 0.05
          },
          "xaxis": {
           "automargin": true,
           "gridcolor": "white",
           "linecolor": "white",
           "ticks": "",
           "title": {
            "standoff": 15
           },
           "zerolinecolor": "white",
           "zerolinewidth": 2
          },
          "yaxis": {
           "automargin": true,
           "gridcolor": "white",
           "linecolor": "white",
           "ticks": "",
           "title": {
            "standoff": 15
           },
           "zerolinecolor": "white",
           "zerolinewidth": 2
          }
         }
        },
        "title": {
         "font": {
          "size": 20
         },
         "x": 0.5
        },
        "xaxis": {
         "linewidth": 1,
         "showline": true,
         "tickangle": -70,
         "tickfont": {
          "size": 14
         },
         "ticktext": [
          "0000",
          "1000"
         ],
         "tickvals": [
          0,
          1
         ]
        },
        "yaxis": {
         "linewidth": 1,
         "showline": true,
         "tickfont": {
          "size": 14
         },
         "title": {
          "font": {
           "size": 18
          },
          "text": "Probability"
         }
        }
       }
      }
     },
     "metadata": {}
    }
   ],
   "source": [
    "job = execute(objective, backend=Aer.get_backend('statevector_simulator'))\n",
    "probability_distribution(job.result().get_counts())"
   ]
  },
  {
   "source": [
    "## Put everything together for the state preparation"
   ],
   "cell_type": "markdown",
   "metadata": {}
  },
  {
   "cell_type": "code",
   "execution_count": 1038,
   "metadata": {},
   "outputs": [
    {
     "output_type": "execute_result",
     "data": {
      "text/plain": [
       "             ┌───────┐┌─────────┐      ┌────────────┐\n",
       "    state_0: ┤0      ├┤0        ├──────┤0           ├\n",
       "             │       ││         │      │            │\n",
       "    state_1: ┤1      ├┤1        ├──────┤1           ├\n",
       "             │       ││         │      │            │\n",
       "    state_2: ┤2      ├┤2        ├──────┤2           ├\n",
       "             │       ││         │      │            │\n",
       "    state_3: ┤3      ├┤3        ├──────┤3           ├\n",
       "             │  P(X) ││         │      │            │\n",
       "    state_4: ┤4      ├┤4        ├──────┤4           ├\n",
       "             │       ││         │      │            │\n",
       "    state_5: ┤5      ├┤5        ├──────┤5           ├\n",
       "             │       ││         │      │            │\n",
       "    state_6: ┤6      ├┤6        ├──────┤6           ├\n",
       "             │       ││         │      │            │\n",
       "    state_7: ┤7      ├┤7  adder ├──────┤7  adder_dg ├\n",
       "             └───────┘│         │┌────┐│            │\n",
       "objective_0: ─────────┤         ├┤3   ├┤            ├\n",
       "                      │         ││    ││            │\n",
       "      sum_0: ─────────┤8        ├┤0   ├┤8           ├\n",
       "                      │         ││  F ││            │\n",
       "      sum_1: ─────────┤9        ├┤1   ├┤9           ├\n",
       "                      │         ││    ││            │\n",
       "      sum_2: ─────────┤10       ├┤2   ├┤10          ├\n",
       "                      │         │└────┘│            │\n",
       "    carry_0: ─────────┤11       ├──────┤11          ├\n",
       "                      │         │      │            │\n",
       "    carry_1: ─────────┤12       ├──────┤12          ├\n",
       "                      │         │      │            │\n",
       "  control_0: ─────────┤13       ├──────┤13          ├\n",
       "                      └─────────┘      └────────────┘"
      ],
      "text/html": "<pre style=\"word-wrap: normal;white-space: pre;background: #fff0;line-height: 1.1;font-family: &quot;Courier New&quot;,Courier,monospace\">             ┌───────┐┌─────────┐      ┌────────────┐\n    state_0: ┤0      ├┤0        ├──────┤0           ├\n             │       ││         │      │            │\n    state_1: ┤1      ├┤1        ├──────┤1           ├\n             │       ││         │      │            │\n    state_2: ┤2      ├┤2        ├──────┤2           ├\n             │       ││         │      │            │\n    state_3: ┤3      ├┤3        ├──────┤3           ├\n             │  P(X) ││         │      │            │\n    state_4: ┤4      ├┤4        ├──────┤4           ├\n             │       ││         │      │            │\n    state_5: ┤5      ├┤5        ├──────┤5           ├\n             │       ││         │      │            │\n    state_6: ┤6      ├┤6        ├──────┤6           ├\n             │       ││         │      │            │\n    state_7: ┤7      ├┤7  adder ├──────┤7  adder_dg ├\n             └───────┘│         │┌────┐│            │\nobjective_0: ─────────┤         ├┤3   ├┤            ├\n                      │         ││    ││            │\n      sum_0: ─────────┤8        ├┤0   ├┤8           ├\n                      │         ││  F ││            │\n      sum_1: ─────────┤9        ├┤1   ├┤9           ├\n                      │         ││    ││            │\n      sum_2: ─────────┤10       ├┤2   ├┤10          ├\n                      │         │└────┘│            │\n    carry_0: ─────────┤11       ├──────┤11          ├\n                      │         │      │            │\n    carry_1: ─────────┤12       ├──────┤12          ├\n                      │         │      │            │\n  control_0: ─────────┤13       ├──────┤13          ├\n                      └─────────┘      └────────────┘</pre>"
     },
     "metadata": {},
     "execution_count": 1038
    }
   ],
   "source": [
    "# define the registers for convenience and readability\n",
    "qr_state = QuantumRegister(uncertainty_model.num_qubits, 'state')\n",
    "qr_sum = QuantumRegister(weighted_adder.num_sum_qubits, 'sum')\n",
    "qr_carry = QuantumRegister(weighted_adder.num_carry_qubits, 'carry')\n",
    "qr_obj = QuantumRegister(1, 'objective')\n",
    "qr_control = QuantumRegister(1, 'control')\n",
    "\n",
    "\n",
    "# define the circuit\n",
    "if weighted_adder.num_control_qubits > 0:\n",
    "    state_preparation = QuantumCircuit(qr_state, qr_obj, qr_sum, qr_carry, qr_control, name='A')\n",
    "    state_preparation.append(uncertainty_model.to_gate(), qr_state)\n",
    "    state_preparation.append(weighted_adder.to_gate(), qr_state[:] + qr_sum[:] + qr_carry[:] + qr_control[:])\n",
    "    state_preparation.append(objective.to_gate(), qr_sum[:] + qr_obj[:])\n",
    "    state_preparation.append(weighted_adder.to_gate().inverse(), qr_state[:] + qr_sum[:] + qr_carry[:] + qr_control[:])\n",
    "else: \n",
    "    state_preparation = QuantumCircuit(qr_state, qr_obj, qr_sum, qr_carry, name='A')\n",
    "    state_preparation.append(uncertainty_model.to_gate(), qr_state)\n",
    "    state_preparation.append(weighted_adder.to_gate(), qr_state[:] + qr_sum[:] + qr_carry[:])\n",
    "    state_preparation.append(objective.to_gate(), qr_sum[:] + qr_obj[:])\n",
    "    state_preparation.append(weighted_adder.to_gate().inverse(), qr_state[:] + qr_sum[:] + qr_carry[:])\n",
    "\n",
    "\n",
    "# draw the circuit\n",
    "state_preparation.draw()"
   ]
  },
  {
   "cell_type": "code",
   "execution_count": 1039,
   "metadata": {},
   "outputs": [
    {
     "output_type": "stream",
     "name": "stdout",
     "text": [
      "Required Qubits:  15\n",
      "No Optimization\n",
      "gates =  OrderedDict([('cx', 82), ('u3', 36), ('x', 36), ('ry', 35), ('h', 24), ('ccx', 20), ('mcu1', 12)])\n",
      "depth =  145\n",
      "High Optimization\n",
      "gates =  OrderedDict([('cx', 264), ('cu1', 84), ('t', 64), ('tdg', 60), ('h', 48), ('u3', 36), ('ry', 35), ('x', 32), ('u1', 8)])\n",
      "depth =  439\n"
     ]
    }
   ],
   "source": [
    "from qiskit import transpile\n",
    "print(\"Required Qubits: \", state_preparation.decompose().num_qubits)\n",
    "\n",
    "backend = Aer.get_backend('qasm_simulator')\n",
    "optimized_0 = transpile(state_preparation, backend=backend, seed_transpiler=11, optimization_level=0)\n",
    "print(\"No Optimization\")\n",
    "print('gates = ', optimized_0.count_ops())\n",
    "print('depth = ', optimized_0.depth())\n",
    "\n",
    "optimized_3 = transpile(state_preparation, backend=backend, seed_transpiler=11, optimization_level=3)\n",
    "print(\"High Optimization\")\n",
    "print('gates = ', optimized_3.count_ops())\n",
    "print('depth = ', optimized_3.depth())"
   ]
  },
  {
   "cell_type": "code",
   "execution_count": 1040,
   "metadata": {},
   "outputs": [],
   "source": [
    "job = execute(state_preparation, backend=Aer.get_backend('statevector_simulator'))"
   ]
  },
  {
   "cell_type": "code",
   "execution_count": 1041,
   "metadata": {},
   "outputs": [
    {
     "output_type": "display_data",
     "data": {
      "application/vnd.plotly.v1+json": {
       "config": {
        "displayModeBar": false,
        "editable": false,
        "plotlyServerURL": "https://plot.ly"
       },
       "data": [
        {
         "hoverinfo": "text",
         "hovertext": [
          "<b>000000000000000</b><br>P = 0.001",
          "<b>000000000000001</b><br>P = 0.002",
          "<b>000000000000010</b><br>P = 0.002",
          "<b>000000000000011</b><br>P = 0.003",
          "<b>000000000000100</b><br>P = 0.004",
          "<b>000000000000101</b><br>P = 0.005",
          "<b>000000000000110</b><br>P = 0.006",
          "<b>000000000000111</b><br>P = 0.008",
          "<b>000000000001000</b><br>P = 0.009",
          "<b>000000000001001</b><br>P = 0.011",
          "<b>000000000001010</b><br>P = 0.012",
          "<b>000000000001011</b><br>P = 0.014",
          "<b>000000000001100</b><br>P = 0.015",
          "<b>000000000001101</b><br>P = 0.017",
          "<b>000000000001110</b><br>P = 0.018",
          "<b>000000000001111</b><br>P = 0.019",
          "<b>000000000010000</b><br>P = 0.02",
          "<b>000000000010001</b><br>P = 0.02",
          "<b>000000000010010</b><br>P = 0.02",
          "<b>000000000010011</b><br>P = 0.02",
          "<b>000000000010100</b><br>P = 0.019",
          "<b>000000000010101</b><br>P = 0.018",
          "<b>000000000010110</b><br>P = 0.017",
          "<b>000000000010111</b><br>P = 0.015",
          "<b>000000000011000</b><br>P = 0.014",
          "<b>000000000011001</b><br>P = 0.012",
          "<b>000000000011010</b><br>P = 0.011",
          "<b>000000000011011</b><br>P = 0.009",
          "<b>000000000011100</b><br>P = 0.008",
          "<b>000000000011101</b><br>P = 0.006",
          "<b>000000000011110</b><br>P = 0.005",
          "<b>000000000011111</b><br>P = 0.004",
          "<b>000000000100000</b><br>P = 0.001",
          "<b>000000000100001</b><br>P = 0.001",
          "<b>000000000100010</b><br>P = 0.001",
          "<b>000000000100011</b><br>P = 0.001",
          "<b>000000000100100</b><br>P = 0.001",
          "<b>000000000100101</b><br>P = 0.002",
          "<b>000000000100110</b><br>P = 0.002",
          "<b>000000000100111</b><br>P = 0.002",
          "<b>000000000101000</b><br>P = 0.002",
          "<b>000000000101001</b><br>P = 0.002",
          "<b>000000000101010</b><br>P = 0.003",
          "<b>000000000101011</b><br>P = 0.003",
          "<b>000000000101100</b><br>P = 0.003",
          "<b>000000000101101</b><br>P = 0.003",
          "<b>000000000101110</b><br>P = 0.003",
          "<b>000000000101111</b><br>P = 0.003",
          "<b>000000000110000</b><br>P = 0.003",
          "<b>000000000110001</b><br>P = 0.003",
          "<b>000000000110010</b><br>P = 0.002",
          "<b>000000000110011</b><br>P = 0.002",
          "<b>000000000110100</b><br>P = 0.002",
          "<b>000000000110101</b><br>P = 0.002",
          "<b>000000000110110</b><br>P = 0.001",
          "<b>000000000110111</b><br>P = 0.001",
          "<b>000000000111000</b><br>P = 0.001",
          "<b>000000000111001</b><br>P = 0.001",
          "<b>000000000111010</b><br>P = 0.001",
          "<b>000000000111011</b><br>P = 0.0",
          "<b>000000000111100</b><br>P = 0.0",
          "<b>000000000111101</b><br>P = 0.0",
          "<b>000000000111110</b><br>P = 0.0",
          "<b>000000000111111</b><br>P = 0.0",
          "<b>000000001000000</b><br>P = 0.001",
          "<b>000000001000001</b><br>P = 0.001",
          "<b>000000001000010</b><br>P = 0.001",
          "<b>000000001000011</b><br>P = 0.001",
          "<b>000000001000100</b><br>P = 0.002",
          "<b>000000001000101</b><br>P = 0.002",
          "<b>000000001000110</b><br>P = 0.003",
          "<b>000000001000111</b><br>P = 0.003",
          "<b>000000001001000</b><br>P = 0.003",
          "<b>000000001001001</b><br>P = 0.004",
          "<b>000000001001010</b><br>P = 0.004",
          "<b>000000001001011</b><br>P = 0.005",
          "<b>000000001001100</b><br>P = 0.005",
          "<b>000000001001101</b><br>P = 0.005",
          "<b>000000001001110</b><br>P = 0.005",
          "<b>000000001001111</b><br>P = 0.005",
          "<b>000000001010000</b><br>P = 0.005",
          "<b>000000001010001</b><br>P = 0.005",
          "<b>000000001010010</b><br>P = 0.005",
          "<b>000000001010011</b><br>P = 0.004",
          "<b>000000001010100</b><br>P = 0.004",
          "<b>000000001010101</b><br>P = 0.004",
          "<b>000000001010110</b><br>P = 0.003",
          "<b>000000001010111</b><br>P = 0.003",
          "<b>000000001011000</b><br>P = 0.002",
          "<b>000000001011001</b><br>P = 0.002",
          "<b>000000001011010</b><br>P = 0.002",
          "<b>000000001011011</b><br>P = 0.001",
          "<b>000000001011100</b><br>P = 0.001",
          "<b>000000001011101</b><br>P = 0.001",
          "<b>000000001011110</b><br>P = 0.001",
          "<b>000000001011111</b><br>P = 0.0",
          "<b>000000001100000</b><br>P = 0.0",
          "<b>000000001100001</b><br>P = 0.0",
          "<b>000000001100010</b><br>P = 0.0",
          "<b>000000001100011</b><br>P = 0.0",
          "<b>000000001100100</b><br>P = 0.001",
          "<b>000000001100101</b><br>P = 0.001",
          "<b>000000001100110</b><br>P = 0.001",
          "<b>000000001100111</b><br>P = 0.001",
          "<b>000000001101000</b><br>P = 0.001",
          "<b>000000001101001</b><br>P = 0.001",
          "<b>000000001101010</b><br>P = 0.001",
          "<b>000000001101011</b><br>P = 0.001",
          "<b>000000001101100</b><br>P = 0.001",
          "<b>000000001101101</b><br>P = 0.001",
          "<b>000000001101110</b><br>P = 0.001",
          "<b>000000001101111</b><br>P = 0.001",
          "<b>000000001110000</b><br>P = 0.001",
          "<b>000000001110001</b><br>P = 0.001",
          "<b>000000001110010</b><br>P = 0.001",
          "<b>000000001110011</b><br>P = 0.0",
          "<b>000000001110100</b><br>P = 0.0",
          "<b>000000001110101</b><br>P = 0.0",
          "<b>000000001110110</b><br>P = 0.0",
          "<b>000000001110111</b><br>P = 0.0",
          "<b>000000001111000</b><br>P = 0.0",
          "<b>000000001111001</b><br>P = 0.0",
          "<b>000000001111010</b><br>P = 0.0",
          "<b>000000001111011</b><br>P = 0.0",
          "<b>000000001111100</b><br>P = 0.0",
          "<b>000000001111101</b><br>P = 0.0",
          "<b>000000001111110</b><br>P = 0.0",
          "<b>000000001111111</b><br>P = 0.0",
          "<b>000000010000000</b><br>P = 0.001",
          "<b>000000010000001</b><br>P = 0.001",
          "<b>000000010000010</b><br>P = 0.001",
          "<b>000000010000011</b><br>P = 0.001",
          "<b>000000010000100</b><br>P = 0.001",
          "<b>000000010000101</b><br>P = 0.002",
          "<b>000000010000110</b><br>P = 0.002",
          "<b>000000010000111</b><br>P = 0.002",
          "<b>000000010001000</b><br>P = 0.002",
          "<b>000000010001001</b><br>P = 0.003",
          "<b>000000010001010</b><br>P = 0.003",
          "<b>000000010001011</b><br>P = 0.003",
          "<b>000000010001100</b><br>P = 0.003",
          "<b>000000010001101</b><br>P = 0.003",
          "<b>000000010001110</b><br>P = 0.003",
          "<b>000000010001111</b><br>P = 0.003",
          "<b>000000010010000</b><br>P = 0.003",
          "<b>000000010010001</b><br>P = 0.003",
          "<b>000000010010010</b><br>P = 0.003",
          "<b>000000010010011</b><br>P = 0.003",
          "<b>000000010010100</b><br>P = 0.002",
          "<b>000000010010101</b><br>P = 0.002",
          "<b>000000010010110</b><br>P = 0.002",
          "<b>000000010010111</b><br>P = 0.002",
          "<b>000000010011000</b><br>P = 0.001",
          "<b>000000010011001</b><br>P = 0.001",
          "<b>000000010011010</b><br>P = 0.001",
          "<b>000000010011011</b><br>P = 0.001",
          "<b>000000010011100</b><br>P = 0.001",
          "<b>000000010011101</b><br>P = 0.0",
          "<b>000000010011110</b><br>P = 0.0",
          "<b>000000010011111</b><br>P = 0.0",
          "<b>000000010100000</b><br>P = 0.0",
          "<b>000000010100001</b><br>P = 0.0",
          "<b>000000010100010</b><br>P = 0.0",
          "<b>000000010100011</b><br>P = 0.0",
          "<b>000000010100100</b><br>P = 0.0",
          "<b>000000010100101</b><br>P = 0.0",
          "<b>000000010100110</b><br>P = 0.001",
          "<b>000000010100111</b><br>P = 0.001",
          "<b>000000010101000</b><br>P = 0.001",
          "<b>000000010101001</b><br>P = 0.001",
          "<b>000000010101010</b><br>P = 0.001",
          "<b>000000010101011</b><br>P = 0.001",
          "<b>000000010101100</b><br>P = 0.001",
          "<b>000000010101101</b><br>P = 0.001",
          "<b>000000010101110</b><br>P = 0.001",
          "<b>000000010101111</b><br>P = 0.0",
          "<b>000000010110000</b><br>P = 0.0",
          "<b>000000010110001</b><br>P = 0.0",
          "<b>000000010110010</b><br>P = 0.0",
          "<b>000000010110011</b><br>P = 0.0",
          "<b>000000010110100</b><br>P = 0.0",
          "<b>000000010110101</b><br>P = 0.0",
          "<b>000000010110110</b><br>P = 0.0",
          "<b>000000010110111</b><br>P = 0.0",
          "<b>000000010111000</b><br>P = 0.0",
          "<b>000000010111001</b><br>P = 0.0",
          "<b>000000010111010</b><br>P = 0.0",
          "<b>000000010111011</b><br>P = 0.0",
          "<b>000000010111100</b><br>P = 0.0",
          "<b>000000010111101</b><br>P = 0.0",
          "<b>000000010111110</b><br>P = 0.0",
          "<b>000000010111111</b><br>P = 0.0",
          "<b>000000011000000</b><br>P = 0.0",
          "<b>000000011000001</b><br>P = 0.0",
          "<b>000000011000010</b><br>P = 0.0",
          "<b>000000011000011</b><br>P = 0.0",
          "<b>000000011000100</b><br>P = 0.001",
          "<b>000000011000101</b><br>P = 0.001",
          "<b>000000011000110</b><br>P = 0.001",
          "<b>000000011000111</b><br>P = 0.001",
          "<b>000000011001000</b><br>P = 0.001",
          "<b>000000011001001</b><br>P = 0.001",
          "<b>000000011001010</b><br>P = 0.001",
          "<b>000000011001011</b><br>P = 0.001",
          "<b>000000011001100</b><br>P = 0.001",
          "<b>000000011001101</b><br>P = 0.001",
          "<b>000000011001110</b><br>P = 0.001",
          "<b>000000011001111</b><br>P = 0.001",
          "<b>000000011010000</b><br>P = 0.001",
          "<b>000000011010001</b><br>P = 0.001",
          "<b>000000011010010</b><br>P = 0.001",
          "<b>000000011010011</b><br>P = 0.001",
          "<b>000000011010100</b><br>P = 0.0",
          "<b>000000011010101</b><br>P = 0.0",
          "<b>000000011010110</b><br>P = 0.0",
          "<b>000000011010111</b><br>P = 0.0",
          "<b>000000011011000</b><br>P = 0.0",
          "<b>000000011011001</b><br>P = 0.0",
          "<b>000000011011010</b><br>P = 0.0",
          "<b>000000011011011</b><br>P = 0.0",
          "<b>000000011011100</b><br>P = 0.0",
          "<b>000000011011101</b><br>P = 0.0",
          "<b>000000011011110</b><br>P = 0.0",
          "<b>000000011011111</b><br>P = 0.0",
          "<b>000000011100000</b><br>P = 0.0",
          "<b>000000011100001</b><br>P = 0.0",
          "<b>000000011100010</b><br>P = 0.0",
          "<b>000000011100011</b><br>P = 0.0",
          "<b>000000011100100</b><br>P = 0.0",
          "<b>000000011100101</b><br>P = 0.0",
          "<b>000000011100110</b><br>P = 0.0",
          "<b>000000011100111</b><br>P = 0.0",
          "<b>000000011101000</b><br>P = 0.0",
          "<b>000000011101001</b><br>P = 0.0",
          "<b>000000011101010</b><br>P = 0.0",
          "<b>000000011101011</b><br>P = 0.0",
          "<b>000000011101100</b><br>P = 0.0",
          "<b>000000011101101</b><br>P = 0.0",
          "<b>000000011101110</b><br>P = 0.0",
          "<b>000000011101111</b><br>P = 0.0",
          "<b>000000011110000</b><br>P = 0.0",
          "<b>000000011110001</b><br>P = 0.0",
          "<b>000000011110010</b><br>P = 0.0",
          "<b>000000011110011</b><br>P = 0.0",
          "<b>000000011110100</b><br>P = 0.0",
          "<b>000000011110101</b><br>P = 0.0",
          "<b>000000011110110</b><br>P = 0.0",
          "<b>000000011110111</b><br>P = 0.0",
          "<b>000000011111000</b><br>P = 0.0",
          "<b>000000011111001</b><br>P = 0.0",
          "<b>000000011111010</b><br>P = 0.0",
          "<b>000000011111011</b><br>P = 0.0",
          "<b>000000011111100</b><br>P = 0.0",
          "<b>000000011111101</b><br>P = 0.0",
          "<b>000000011111110</b><br>P = 0.0",
          "<b>000000011111111</b><br>P = 0.0",
          "<b>000000100000000</b><br>P = 0.001",
          "<b>000000100000001</b><br>P = 0.001",
          "<b>000000100000010</b><br>P = 0.001",
          "<b>000000100000011</b><br>P = 0.001",
          "<b>000000100000100</b><br>P = 0.002",
          "<b>000000100000101</b><br>P = 0.002",
          "<b>000000100000110</b><br>P = 0.003",
          "<b>000000100000111</b><br>P = 0.003",
          "<b>000000100001000</b><br>P = 0.004",
          "<b>000000100001001</b><br>P = 0.005",
          "<b>000000100001010</b><br>P = 0.005",
          "<b>000000100001011</b><br>P = 0.006",
          "<b>000000100001100</b><br>P = 0.007",
          "<b>000000100001101</b><br>P = 0.008",
          "<b>000000100001110</b><br>P = 0.008",
          "<b>000000100001111</b><br>P = 0.009",
          "<b>000000100010000</b><br>P = 0.009",
          "<b>000000100010001</b><br>P = 0.009",
          "<b>000000100010010</b><br>P = 0.009",
          "<b>000000100010011</b><br>P = 0.009",
          "<b>000000100010100</b><br>P = 0.009",
          "<b>000000100010101</b><br>P = 0.008",
          "<b>000000100010110</b><br>P = 0.008",
          "<b>000000100010111</b><br>P = 0.007",
          "<b>000000100011000</b><br>P = 0.006",
          "<b>000000100011001</b><br>P = 0.005",
          "<b>000000100011010</b><br>P = 0.005",
          "<b>000000100011011</b><br>P = 0.004",
          "<b>000000100011100</b><br>P = 0.003",
          "<b>000000100011101</b><br>P = 0.003",
          "<b>000000100011110</b><br>P = 0.002",
          "<b>000000100011111</b><br>P = 0.002",
          "<b>000000100100000</b><br>P = 0.0",
          "<b>000000100100001</b><br>P = 0.0",
          "<b>000000100100010</b><br>P = 0.001",
          "<b>000000100100011</b><br>P = 0.001",
          "<b>000000100100100</b><br>P = 0.001",
          "<b>000000100100101</b><br>P = 0.001",
          "<b>000000100100110</b><br>P = 0.001",
          "<b>000000100100111</b><br>P = 0.001",
          "<b>000000100101000</b><br>P = 0.001",
          "<b>000000100101001</b><br>P = 0.001",
          "<b>000000100101010</b><br>P = 0.002",
          "<b>000000100101011</b><br>P = 0.002",
          "<b>000000100101100</b><br>P = 0.002",
          "<b>000000100101101</b><br>P = 0.002",
          "<b>000000100101110</b><br>P = 0.002",
          "<b>000000100101111</b><br>P = 0.002",
          "<b>000000100110000</b><br>P = 0.002",
          "<b>000000100110001</b><br>P = 0.002",
          "<b>000000100110010</b><br>P = 0.001",
          "<b>000000100110011</b><br>P = 0.001",
          "<b>000000100110100</b><br>P = 0.001",
          "<b>000000100110101</b><br>P = 0.001",
          "<b>000000100110110</b><br>P = 0.001",
          "<b>000000100110111</b><br>P = 0.001",
          "<b>000000100111000</b><br>P = 0.001",
          "<b>000000100111001</b><br>P = 0.0",
          "<b>000000100111010</b><br>P = 0.0",
          "<b>000000100111011</b><br>P = 0.0",
          "<b>000000100111100</b><br>P = 0.0",
          "<b>000000100111101</b><br>P = 0.0",
          "<b>000000100111110</b><br>P = 0.0",
          "<b>000000100111111</b><br>P = 0.0",
          "<b>000000101000000</b><br>P = 0.001",
          "<b>000000101000001</b><br>P = 0.001",
          "<b>000000101000010</b><br>P = 0.001",
          "<b>000000101000011</b><br>P = 0.001",
          "<b>000000101000100</b><br>P = 0.001",
          "<b>000000101000101</b><br>P = 0.002",
          "<b>000000101000110</b><br>P = 0.002",
          "<b>000000101000111</b><br>P = 0.002",
          "<b>000000101001000</b><br>P = 0.003",
          "<b>000000101001001</b><br>P = 0.003",
          "<b>000000101001010</b><br>P = 0.003",
          "<b>000000101001011</b><br>P = 0.004",
          "<b>000000101001100</b><br>P = 0.004",
          "<b>000000101001101</b><br>P = 0.004",
          "<b>000000101001110</b><br>P = 0.004",
          "<b>000000101001111</b><br>P = 0.004",
          "<b>000000101010000</b><br>P = 0.004",
          "<b>000000101010001</b><br>P = 0.004",
          "<b>000000101010010</b><br>P = 0.004",
          "<b>000000101010011</b><br>P = 0.003",
          "<b>000000101010100</b><br>P = 0.003",
          "<b>000000101010101</b><br>P = 0.003",
          "<b>000000101010110</b><br>P = 0.002",
          "<b>000000101010111</b><br>P = 0.002",
          "<b>000000101011000</b><br>P = 0.002",
          "<b>000000101011001</b><br>P = 0.001",
          "<b>000000101011010</b><br>P = 0.001",
          "<b>000000101011011</b><br>P = 0.001",
          "<b>000000101011100</b><br>P = 0.001",
          "<b>000000101011101</b><br>P = 0.001",
          "<b>000000101011110</b><br>P = 0.0",
          "<b>000000101011111</b><br>P = 0.0",
          "<b>000000101100000</b><br>P = 0.0",
          "<b>000000101100001</b><br>P = 0.0",
          "<b>000000101100010</b><br>P = 0.0",
          "<b>000000101100011</b><br>P = 0.0",
          "<b>000000101100100</b><br>P = 0.001",
          "<b>000000101100101</b><br>P = 0.001",
          "<b>000000101100110</b><br>P = 0.001",
          "<b>000000101100111</b><br>P = 0.001",
          "<b>000000101101000</b><br>P = 0.001",
          "<b>000000101101001</b><br>P = 0.001",
          "<b>000000101101010</b><br>P = 0.001",
          "<b>000000101101011</b><br>P = 0.001",
          "<b>000000101101100</b><br>P = 0.001",
          "<b>000000101101101</b><br>P = 0.001",
          "<b>000000101101110</b><br>P = 0.001",
          "<b>000000101101111</b><br>P = 0.001",
          "<b>000000101110000</b><br>P = 0.001",
          "<b>000000101110001</b><br>P = 0.001",
          "<b>000000101110010</b><br>P = 0.001",
          "<b>000000101110011</b><br>P = 0.0",
          "<b>000000101110100</b><br>P = 0.0",
          "<b>000000101110101</b><br>P = 0.0",
          "<b>000000101110110</b><br>P = 0.0",
          "<b>000000101110111</b><br>P = 0.0",
          "<b>000000101111000</b><br>P = 0.0",
          "<b>000000101111001</b><br>P = 0.0",
          "<b>000000101111010</b><br>P = 0.0",
          "<b>000000101111011</b><br>P = 0.0",
          "<b>000000101111100</b><br>P = 0.0",
          "<b>000000101111101</b><br>P = 0.0",
          "<b>000000101111110</b><br>P = 0.0",
          "<b>000000101111111</b><br>P = 0.0",
          "<b>000000110000000</b><br>P = 0.001",
          "<b>000000110000001</b><br>P = 0.001",
          "<b>000000110000010</b><br>P = 0.001",
          "<b>000000110000011</b><br>P = 0.001",
          "<b>000000110000100</b><br>P = 0.001",
          "<b>000000110000101</b><br>P = 0.002",
          "<b>000000110000110</b><br>P = 0.002",
          "<b>000000110000111</b><br>P = 0.002",
          "<b>000000110001000</b><br>P = 0.002",
          "<b>000000110001001</b><br>P = 0.003",
          "<b>000000110001010</b><br>P = 0.003",
          "<b>000000110001011</b><br>P = 0.003",
          "<b>000000110001100</b><br>P = 0.003",
          "<b>000000110001101</b><br>P = 0.003",
          "<b>000000110001110</b><br>P = 0.003",
          "<b>000000110001111</b><br>P = 0.003",
          "<b>000000110010000</b><br>P = 0.003",
          "<b>000000110010001</b><br>P = 0.003",
          "<b>000000110010010</b><br>P = 0.003",
          "<b>000000110010011</b><br>P = 0.003",
          "<b>000000110010100</b><br>P = 0.002",
          "<b>000000110010101</b><br>P = 0.002",
          "<b>000000110010110</b><br>P = 0.002",
          "<b>000000110010111</b><br>P = 0.002",
          "<b>000000110011000</b><br>P = 0.001",
          "<b>000000110011001</b><br>P = 0.001",
          "<b>000000110011010</b><br>P = 0.001",
          "<b>000000110011011</b><br>P = 0.001",
          "<b>000000110011100</b><br>P = 0.001",
          "<b>000000110011101</b><br>P = 0.0",
          "<b>000000110011110</b><br>P = 0.0",
          "<b>000000110011111</b><br>P = 0.0",
          "<b>000000110100000</b><br>P = 0.0",
          "<b>000000110100001</b><br>P = 0.0",
          "<b>000000110100010</b><br>P = 0.0",
          "<b>000000110100011</b><br>P = 0.0",
          "<b>000000110100100</b><br>P = 0.001",
          "<b>000000110100101</b><br>P = 0.001",
          "<b>000000110100110</b><br>P = 0.001",
          "<b>000000110100111</b><br>P = 0.001",
          "<b>000000110101000</b><br>P = 0.001",
          "<b>000000110101001</b><br>P = 0.001",
          "<b>000000110101010</b><br>P = 0.001",
          "<b>000000110101011</b><br>P = 0.001",
          "<b>000000110101100</b><br>P = 0.001",
          "<b>000000110101101</b><br>P = 0.001",
          "<b>000000110101110</b><br>P = 0.001",
          "<b>000000110101111</b><br>P = 0.001",
          "<b>000000110110000</b><br>P = 0.001",
          "<b>000000110110001</b><br>P = 0.0",
          "<b>000000110110010</b><br>P = 0.0",
          "<b>000000110110011</b><br>P = 0.0",
          "<b>000000110110100</b><br>P = 0.0",
          "<b>000000110110101</b><br>P = 0.0",
          "<b>000000110110110</b><br>P = 0.0",
          "<b>000000110110111</b><br>P = 0.0",
          "<b>000000110111000</b><br>P = 0.0",
          "<b>000000110111001</b><br>P = 0.0",
          "<b>000000110111010</b><br>P = 0.0",
          "<b>000000110111011</b><br>P = 0.0",
          "<b>000000110111100</b><br>P = 0.0",
          "<b>000000110111101</b><br>P = 0.0",
          "<b>000000110111110</b><br>P = 0.0",
          "<b>000000110111111</b><br>P = 0.0",
          "<b>000000111000000</b><br>P = 0.0",
          "<b>000000111000001</b><br>P = 0.001",
          "<b>000000111000010</b><br>P = 0.001",
          "<b>000000111000011</b><br>P = 0.001",
          "<b>000000111000100</b><br>P = 0.001",
          "<b>000000111000101</b><br>P = 0.001",
          "<b>000000111000110</b><br>P = 0.001",
          "<b>000000111000111</b><br>P = 0.001",
          "<b>000000111001000</b><br>P = 0.001",
          "<b>000000111001001</b><br>P = 0.001",
          "<b>000000111001010</b><br>P = 0.002",
          "<b>000000111001011</b><br>P = 0.002",
          "<b>000000111001100</b><br>P = 0.002",
          "<b>000000111001101</b><br>P = 0.002",
          "<b>000000111001110</b><br>P = 0.001",
          "<b>000000111001111</b><br>P = 0.001",
          "<b>000000111010000</b><br>P = 0.001",
          "<b>000000111010001</b><br>P = 0.001",
          "<b>000000111010010</b><br>P = 0.001",
          "<b>000000111010011</b><br>P = 0.001",
          "<b>000000111010100</b><br>P = 0.001",
          "<b>000000111010101</b><br>P = 0.001",
          "<b>000000111010110</b><br>P = 0.001",
          "<b>000000111010111</b><br>P = 0.0",
          "<b>000000111011000</b><br>P = 0.0",
          "<b>000000111011001</b><br>P = 0.0",
          "<b>000000111011010</b><br>P = 0.0",
          "<b>000000111011011</b><br>P = 0.0",
          "<b>000000111011100</b><br>P = 0.0",
          "<b>000000111011101</b><br>P = 0.0",
          "<b>000000111011110</b><br>P = 0.0",
          "<b>000000111011111</b><br>P = 0.0",
          "<b>000000111100000</b><br>P = 0.0",
          "<b>000000111100001</b><br>P = 0.0",
          "<b>000000111100010</b><br>P = 0.0",
          "<b>000000111100011</b><br>P = 0.0",
          "<b>000000111100100</b><br>P = 0.0",
          "<b>000000111100101</b><br>P = 0.0",
          "<b>000000111100110</b><br>P = 0.0",
          "<b>000000111100111</b><br>P = 0.0",
          "<b>000000111101000</b><br>P = 0.0",
          "<b>000000111101001</b><br>P = 0.0",
          "<b>000000111101010</b><br>P = 0.0",
          "<b>000000111101011</b><br>P = 0.0",
          "<b>000000111101100</b><br>P = 0.0",
          "<b>000000111101101</b><br>P = 0.0",
          "<b>000000111101110</b><br>P = 0.0",
          "<b>000000111101111</b><br>P = 0.0",
          "<b>000000111110000</b><br>P = 0.0",
          "<b>000000111110001</b><br>P = 0.0",
          "<b>000000111110010</b><br>P = 0.0",
          "<b>000000111110011</b><br>P = 0.0",
          "<b>000000111110100</b><br>P = 0.0",
          "<b>000000111110101</b><br>P = 0.0",
          "<b>000000111110110</b><br>P = 0.0",
          "<b>000000111110111</b><br>P = 0.0",
          "<b>000000111111000</b><br>P = 0.0",
          "<b>000000111111001</b><br>P = 0.0",
          "<b>000000111111010</b><br>P = 0.0",
          "<b>000000111111011</b><br>P = 0.0",
          "<b>000000111111100</b><br>P = 0.0",
          "<b>000000111111101</b><br>P = 0.0",
          "<b>000000111111110</b><br>P = 0.0",
          "<b>000000111111111</b><br>P = 0.0"
         ],
         "marker": {
          "color": "#1b9e77"
         },
         "name": "",
         "text": [
          0.001,
          0.002,
          0.002,
          0.003,
          0.004,
          0.005,
          0.006,
          0.008,
          0.009,
          0.011,
          0.012,
          0.014,
          0.015,
          0.017,
          0.018,
          0.019,
          0.02,
          0.02,
          0.02,
          0.02,
          0.019,
          0.018,
          0.017,
          0.015,
          0.014,
          0.012,
          0.011,
          0.009,
          0.008,
          0.006,
          0.005,
          0.004,
          0.001,
          0.001,
          0.001,
          0.001,
          0.001,
          0.002,
          0.002,
          0.002,
          0.002,
          0.002,
          0.003,
          0.003,
          0.003,
          0.003,
          0.003,
          0.003,
          0.003,
          0.003,
          0.002,
          0.002,
          0.002,
          0.002,
          0.001,
          0.001,
          0.001,
          0.001,
          0.001,
          0,
          0,
          0,
          0,
          0,
          0.001,
          0.001,
          0.001,
          0.001,
          0.002,
          0.002,
          0.003,
          0.003,
          0.003,
          0.004,
          0.004,
          0.005,
          0.005,
          0.005,
          0.005,
          0.005,
          0.005,
          0.005,
          0.005,
          0.004,
          0.004,
          0.004,
          0.003,
          0.003,
          0.002,
          0.002,
          0.002,
          0.001,
          0.001,
          0.001,
          0.001,
          0,
          0,
          0,
          0,
          0,
          0.001,
          0.001,
          0.001,
          0.001,
          0.001,
          0.001,
          0.001,
          0.001,
          0.001,
          0.001,
          0.001,
          0.001,
          0.001,
          0.001,
          0.001,
          0,
          0,
          0,
          0,
          0,
          0,
          0,
          0,
          0,
          0,
          0,
          0,
          0,
          0.001,
          0.001,
          0.001,
          0.001,
          0.001,
          0.002,
          0.002,
          0.002,
          0.002,
          0.003,
          0.003,
          0.003,
          0.003,
          0.003,
          0.003,
          0.003,
          0.003,
          0.003,
          0.003,
          0.003,
          0.002,
          0.002,
          0.002,
          0.002,
          0.001,
          0.001,
          0.001,
          0.001,
          0.001,
          0,
          0,
          0,
          0,
          0,
          0,
          0,
          0,
          0,
          0.001,
          0.001,
          0.001,
          0.001,
          0.001,
          0.001,
          0.001,
          0.001,
          0.001,
          0,
          0,
          0,
          0,
          0,
          0,
          0,
          0,
          0,
          0,
          0,
          0,
          0,
          0,
          0,
          0,
          0,
          0,
          0,
          0,
          0,
          0.001,
          0.001,
          0.001,
          0.001,
          0.001,
          0.001,
          0.001,
          0.001,
          0.001,
          0.001,
          0.001,
          0.001,
          0.001,
          0.001,
          0.001,
          0.001,
          0,
          0,
          0,
          0,
          0,
          0,
          0,
          0,
          0,
          0,
          0,
          0,
          0,
          0,
          0,
          0,
          0,
          0,
          0,
          0,
          0,
          0,
          0,
          0,
          0,
          0,
          0,
          0,
          0,
          0,
          0,
          0,
          0,
          0,
          0,
          0,
          0,
          0,
          0,
          0,
          0,
          0,
          0,
          0,
          0.001,
          0.001,
          0.001,
          0.001,
          0.002,
          0.002,
          0.003,
          0.003,
          0.004,
          0.005,
          0.005,
          0.006,
          0.007,
          0.008,
          0.008,
          0.009,
          0.009,
          0.009,
          0.009,
          0.009,
          0.009,
          0.008,
          0.008,
          0.007,
          0.006,
          0.005,
          0.005,
          0.004,
          0.003,
          0.003,
          0.002,
          0.002,
          0,
          0,
          0.001,
          0.001,
          0.001,
          0.001,
          0.001,
          0.001,
          0.001,
          0.001,
          0.002,
          0.002,
          0.002,
          0.002,
          0.002,
          0.002,
          0.002,
          0.002,
          0.001,
          0.001,
          0.001,
          0.001,
          0.001,
          0.001,
          0.001,
          0,
          0,
          0,
          0,
          0,
          0,
          0,
          0.001,
          0.001,
          0.001,
          0.001,
          0.001,
          0.002,
          0.002,
          0.002,
          0.003,
          0.003,
          0.003,
          0.004,
          0.004,
          0.004,
          0.004,
          0.004,
          0.004,
          0.004,
          0.004,
          0.003,
          0.003,
          0.003,
          0.002,
          0.002,
          0.002,
          0.001,
          0.001,
          0.001,
          0.001,
          0.001,
          0,
          0,
          0,
          0,
          0,
          0,
          0.001,
          0.001,
          0.001,
          0.001,
          0.001,
          0.001,
          0.001,
          0.001,
          0.001,
          0.001,
          0.001,
          0.001,
          0.001,
          0.001,
          0.001,
          0,
          0,
          0,
          0,
          0,
          0,
          0,
          0,
          0,
          0,
          0,
          0,
          0,
          0.001,
          0.001,
          0.001,
          0.001,
          0.001,
          0.002,
          0.002,
          0.002,
          0.002,
          0.003,
          0.003,
          0.003,
          0.003,
          0.003,
          0.003,
          0.003,
          0.003,
          0.003,
          0.003,
          0.003,
          0.002,
          0.002,
          0.002,
          0.002,
          0.001,
          0.001,
          0.001,
          0.001,
          0.001,
          0,
          0,
          0,
          0,
          0,
          0,
          0,
          0.001,
          0.001,
          0.001,
          0.001,
          0.001,
          0.001,
          0.001,
          0.001,
          0.001,
          0.001,
          0.001,
          0.001,
          0.001,
          0,
          0,
          0,
          0,
          0,
          0,
          0,
          0,
          0,
          0,
          0,
          0,
          0,
          0,
          0,
          0,
          0.001,
          0.001,
          0.001,
          0.001,
          0.001,
          0.001,
          0.001,
          0.001,
          0.001,
          0.002,
          0.002,
          0.002,
          0.002,
          0.001,
          0.001,
          0.001,
          0.001,
          0.001,
          0.001,
          0.001,
          0.001,
          0.001,
          0,
          0,
          0,
          0,
          0,
          0,
          0,
          0,
          0,
          0,
          0,
          0,
          0,
          0,
          0,
          0,
          0,
          0,
          0,
          0,
          0,
          0,
          0,
          0,
          0,
          0,
          0,
          0,
          0,
          0,
          0,
          0,
          0,
          0,
          0,
          0,
          0,
          0,
          0,
          0,
          0
         ],
         "textposition": "auto",
         "type": "bar",
         "width": 0.5,
         "x": [
          0,
          1,
          2,
          3,
          4,
          5,
          6,
          7,
          8,
          9,
          10,
          11,
          12,
          13,
          14,
          15,
          16,
          17,
          18,
          19,
          20,
          21,
          22,
          23,
          24,
          25,
          26,
          27,
          28,
          29,
          30,
          31,
          32,
          33,
          34,
          35,
          36,
          37,
          38,
          39,
          40,
          41,
          42,
          43,
          44,
          45,
          46,
          47,
          48,
          49,
          50,
          51,
          52,
          53,
          54,
          55,
          56,
          57,
          58,
          59,
          60,
          61,
          62,
          63,
          64,
          65,
          66,
          67,
          68,
          69,
          70,
          71,
          72,
          73,
          74,
          75,
          76,
          77,
          78,
          79,
          80,
          81,
          82,
          83,
          84,
          85,
          86,
          87,
          88,
          89,
          90,
          91,
          92,
          93,
          94,
          95,
          96,
          97,
          98,
          99,
          100,
          101,
          102,
          103,
          104,
          105,
          106,
          107,
          108,
          109,
          110,
          111,
          112,
          113,
          114,
          115,
          116,
          117,
          118,
          119,
          120,
          121,
          122,
          123,
          124,
          125,
          126,
          127,
          128,
          129,
          130,
          131,
          132,
          133,
          134,
          135,
          136,
          137,
          138,
          139,
          140,
          141,
          142,
          143,
          144,
          145,
          146,
          147,
          148,
          149,
          150,
          151,
          152,
          153,
          154,
          155,
          156,
          157,
          158,
          159,
          160,
          161,
          162,
          163,
          164,
          165,
          166,
          167,
          168,
          169,
          170,
          171,
          172,
          173,
          174,
          175,
          176,
          177,
          178,
          179,
          180,
          181,
          182,
          183,
          184,
          185,
          186,
          187,
          188,
          189,
          190,
          191,
          192,
          193,
          194,
          195,
          196,
          197,
          198,
          199,
          200,
          201,
          202,
          203,
          204,
          205,
          206,
          207,
          208,
          209,
          210,
          211,
          212,
          213,
          214,
          215,
          216,
          217,
          218,
          219,
          220,
          221,
          222,
          223,
          224,
          225,
          226,
          227,
          228,
          229,
          230,
          231,
          232,
          233,
          234,
          235,
          236,
          237,
          238,
          239,
          240,
          241,
          242,
          243,
          244,
          245,
          246,
          247,
          248,
          249,
          250,
          251,
          252,
          253,
          254,
          255,
          256,
          257,
          258,
          259,
          260,
          261,
          262,
          263,
          264,
          265,
          266,
          267,
          268,
          269,
          270,
          271,
          272,
          273,
          274,
          275,
          276,
          277,
          278,
          279,
          280,
          281,
          282,
          283,
          284,
          285,
          286,
          287,
          288,
          289,
          290,
          291,
          292,
          293,
          294,
          295,
          296,
          297,
          298,
          299,
          300,
          301,
          302,
          303,
          304,
          305,
          306,
          307,
          308,
          309,
          310,
          311,
          312,
          313,
          314,
          315,
          316,
          317,
          318,
          319,
          320,
          321,
          322,
          323,
          324,
          325,
          326,
          327,
          328,
          329,
          330,
          331,
          332,
          333,
          334,
          335,
          336,
          337,
          338,
          339,
          340,
          341,
          342,
          343,
          344,
          345,
          346,
          347,
          348,
          349,
          350,
          351,
          352,
          353,
          354,
          355,
          356,
          357,
          358,
          359,
          360,
          361,
          362,
          363,
          364,
          365,
          366,
          367,
          368,
          369,
          370,
          371,
          372,
          373,
          374,
          375,
          376,
          377,
          378,
          379,
          380,
          381,
          382,
          383,
          384,
          385,
          386,
          387,
          388,
          389,
          390,
          391,
          392,
          393,
          394,
          395,
          396,
          397,
          398,
          399,
          400,
          401,
          402,
          403,
          404,
          405,
          406,
          407,
          408,
          409,
          410,
          411,
          412,
          413,
          414,
          415,
          416,
          417,
          418,
          419,
          420,
          421,
          422,
          423,
          424,
          425,
          426,
          427,
          428,
          429,
          430,
          431,
          432,
          433,
          434,
          435,
          436,
          437,
          438,
          439,
          440,
          441,
          442,
          443,
          444,
          445,
          446,
          447,
          448,
          449,
          450,
          451,
          452,
          453,
          454,
          455,
          456,
          457,
          458,
          459,
          460,
          461,
          462,
          463,
          464,
          465,
          466,
          467,
          468,
          469,
          470,
          471,
          472,
          473,
          474,
          475,
          476,
          477,
          478,
          479,
          480,
          481,
          482,
          483,
          484,
          485,
          486,
          487,
          488,
          489,
          490,
          491,
          492,
          493,
          494,
          495,
          496,
          497,
          498,
          499,
          500,
          501,
          502,
          503,
          504,
          505,
          506,
          507,
          508,
          509,
          510,
          511
         ],
         "y": [
          0.001325396887928007,
          0.0017954594494130093,
          0.0023887703893640125,
          0.0031214241174900167,
          0.004006089925077021,
          0.005049957059678026,
          0.006252632318481033,
          0.00760422672547604,
          0.009083904474867047,
          0.010659170652029055,
          0.012286135695517064,
          0.013910911600292073,
          0.015472172839096082,
          0.01690476758687009,
          0.018144112756644095,
          0.0191309741575931,
          0.019816144792244104,
          0.020164508557498104,
          0.020158022452428103,
          0.019797264773810105,
          0.019101364426309102,
          0.018106322335174094,
          0.016861929740156087,
          0.01542765004276108,
          0.013867937078365073,
          0.012247499659922063,
          0.010626988740838056,
          0.009059490063671048,
          0.00758807111765104,
          0.006244480650728033,
          0.005048955740800026,
          0.004010975058447021,
          0.0005464420687220029,
          0.0006974105181310037,
          0.0008735508811450046,
          0.0010738057758040056,
          0.0012953331144140068,
          0.001533322579869008,
          0.0017809740475470094,
          0.0020296755511450106,
          0.002269397816117012,
          0.002489295040574013,
          0.002678471125321014,
          0.0028268418366760146,
          0.002926001741077015,
          0.002969994839853016,
          0.0029558925971430155,
          0.0028841029152930154,
          0.002758366165932014,
          0.0025854347058000137,
          0.0023744738329130126,
          0.0021362579566210115,
          0.0018822599873160098,
          0.0016237409267780085,
          0.0013709395704180072,
          0.0011324412504040058,
          0.0009147741199500048,
          0.0007222473625580038,
          0.0005570137279230029,
          0.00041931371390400215,
          0.0003078434641740016,
          0.00022018383627900114,
          0.00015323296638500078,
          0.00010359646144400054,
          0.0007226886502530038,
          0.0009366227845640049,
          0.0011919360075970064,
          0.0014894168278860077,
          0.0018274870797550095,
          0.0022017400568370114,
          0.0026046515862720135,
          0.0030255375407470158,
          0.0034508132086560183,
          0.0038645795316660197,
          0.004249521375735023,
          0.004588058966309024,
          0.004863652277797025,
          0.005062126877271026,
          0.005172874858344027,
          0.005189790050496027,
          0.005111823225135027,
          0.004943087336045026,
          0.004692498373306024,
          0.004372995440052023,
          0.0040004349288690205,
          0.0035922902007670186,
          0.0031663047570830165,
          0.0027392420188350145,
          0.002325850734238012,
          0.0019381270612910102,
          0.0015849096960830083,
          0.0012718005504610067,
          0.0010013668606810053,
          0.000773555569132004,
          0.000586239134912003,
          0.0004358129018780023,
          0.0002894864497270015,
          0.00035347315468300185,
          0.0004234923449360022,
          0.0004978150658320026,
          0.000574108418452003,
          0.0006495172882380034,
          0.0007208139170610038,
          0.0007846083663980041,
          0.0008376032451940043,
          0.0008768676206050046,
          0.0009000994680060046,
          0.0009058446752430048,
          0.0008936441473510046,
          0.0008640887326640046,
          0.0008187733743160043,
          0.000760155221751004,
          0.0006913331826000036,
          0.0006157764019400033,
          0.0005370347884490028,
          0.0004584651745680024,
          0.000383002188850002,
          0.0003129945164430016,
          0.0002501166340910013,
          0.00019535527036700103,
          0.00014906053378500078,
          0.00011104515114900059,
          0.00008071217045100042,
          0.0000571917186630003,
          0.000039470314351000206,
          0.00002650082856700014,
          0.00001728638883600009,
          0.000010936386966000057,
          0.0005378897992610028,
          0.0006922126076450035,
          0.0008745393534850045,
          0.0010846927998950056,
          0.001320731355872007,
          0.0015786802313140082,
          0.0018524060815940098,
          0.0021336818902300114,
          0.0024124721821530124,
          0.002677443934478014,
          0.002916678578259015,
          0.0031185296068090163,
          0.003272543728268017,
          0.0033703463247740178,
          0.0034063881356270176,
          0.0033784613838090177,
          0.0032879191611020174,
          0.0031395682408030165,
          0.002941246953791015,
          0.0027031396460490144,
          0.0024369110921530126,
          0.002154763145814011,
          0.0018685193832160098,
          0.0015888318820530083,
          0.001324580525584007,
          0.0010825041282710056,
          0.0008670698344060045,
          0.0006805578888750036,
          0.0005233169927830027,
          0.00039413317897500204,
          0.0002906526744430015,
          0.00020980510520000108,
          0.0002117909734380011,
          0.00025678423371700135,
          0.0003054281869530016,
          0.00035636551334900185,
          0.00040784131745700213,
          0.00045777911422200236,
          0.0005039028979160026,
          0.0005438976623520028,
          0.000575594116638003,
          0.0005971580649000031,
          0.0006072621196810032,
          0.0006052178784230032,
          0.0005910506350080031,
          0.0005655056887620029,
          0.0005299842983280029,
          0.0004864168216770026,
          0.00043708896213400227,
          0.000384442875920002,
          0.0003308772531320017,
          0.0002785691005660015,
          0.0002293352760660012,
          0.00018454487403300098,
          0.00014508569749500076,
          0.00011138066477200058,
          0.00008344423364600044,
          0.00006096548705300032,
          0.000043403596106000225,
          0.000030082667534000157,
          0.000020275862619000103,
          0.000013272357285000069,
          0.000008424437773000045,
          0.0000051751979920000275,
          0.0002658673321930014,
          0.0003273369294180017,
          0.00039557084188500207,
          0.0004691768918400024,
          0.0005461532117450028,
          0.0006239343715250033,
          0.0006995025895230037,
          0.000769561870787004,
          0.0008307638478120043,
          0.0008799654105660045,
          0.0009144914812460048,
          0.0009323729244180049,
          0.0009325305101940049,
          0.0009148812632060047,
          0.0008803527986950046,
          0.0008308029789540043,
          0.000768854521776004,
          0.0006976650235220037,
          0.0006206604590840032,
          0.0005412634445250028,
          0.00046264607997400245,
          0.000387531569074002,
          0.0003180602728880017,
          0.00025572604017700133,
          0.00020137925252800104,
          0.0001552854455370008,
          0.00011722352071000062,
          0.00008660574660600044,
          0.00006260269663400033,
          0.00004425930306000023,
          0.00003059242812400016,
          0.000020664864174000108,
          0.00010027814548900053,
          0.00011631909961900061,
          0.00013233697597100067,
          0.00014765654545000076,
          0.00016155425540700084,
          0.00017331170405600089,
          0.00018227502316100095,
          0.00018791361203500097,
          0.000189871070431001,
          0.00018800166503200096,
          0.00018238724412400094,
          0.0001733319841050009,
          0.00016133532095800084,
          0.00014704638743100076,
          0.00013120572898800068,
          0.0001145815912460006,
          0.00009790842373600051,
          0.00008183442188400043,
          0.00006688314359400035,
          0.00005343186515500028,
          0.00004170683579900022,
          0.00003179338082700016,
          0.000023657214055000122,
          0.00001717251843200009,
          0.000012152338749000062,
          0.000008377461037000045,
          0.0000056209998650000295,
          0.000003667120316000019,
          0.0000023234574390000124,
          0.0000014276995300000075,
          8.493911450000045e-7,
          4.882819280000026e-7,
          0.000591740262780003,
          0.0008016056594700043,
          0.0010664968590160056,
          0.0013935994149040073,
          0.0017885696930320092,
          0.0022546174242150116,
          0.002791567058069015,
          0.0033950035357400176,
          0.004055624447280021,
          0.004758922025622025,
          0.005485301219007028,
          0.006210703043629032,
          0.006907747939489037,
          0.007547348047371039,
          0.008100669428398042,
          0.008541266226266045,
          0.008847169352409047,
          0.009002700776900047,
          0.008999804972968047,
          0.008838740128551046,
          0.008528046585922044,
          0.008083797415090042,
          0.007528222547000039,
          0.006887870171974036,
          0.0061915165228740325,
          0.005468051670541029,
          0.0047445540029130255,
          0.004044724323529021,
          0.003387790659577018,
          0.002787927642538015,
          0.0022541703726930117,
          0.0017907507228280093,
          0.00032174001169400166,
          0.00041062883167800214,
          0.0005143386404560027,
          0.0006322468613590033,
          0.000762680099564004,
          0.0009028060850640047,
          0.0010486209676790054,
          0.0011950541016860063,
          0.001336200343437007,
          0.0014656737855790077,
          0.0015770589061660082,
          0.0016644182021260086,
          0.0017228026322930088,
          0.001748705360002009,
          0.001740402090554009,
          0.001698132993059009,
          0.0016241003635720085,
          0.001522279926988008,
          0.0013980681256010074,
          0.0012578088315040065,
          0.0011082571877130058,
          0.000956043567419005,
          0.0008071964782090042,
          0.0006667708838730034,
          0.0005386105003560029,
          0.0004252525348540022,
          0.00032796450638300175,
          0.0002468880178470013,
          0.00018125537075600094,
          0.00012964219651800067,
          0.00009022214653400047,
          0.000060996633723000315,
          0.0005558109638670029,
          0.0007203450787360038,
          0.0009167033424680047,
          0.001145492187289006,
          0.0014054978653640074,
          0.001693331232955009,
          0.0020032055411370103,
          0.002326903758832012,
          0.002653978051208014,
          0.0029722006477950155,
          0.003268254691691017,
          0.0035286197942240183,
          0.0037405752248780193,
          0.0038932196013990203,
          0.003978394513285021,
          0.003991403779794021,
          0.00393144045210302,
          0.00380166775244702,
          0.0036089428592790186,
          0.0033632170778810175,
          0.0030766853650240162,
          0.0027627862680280144,
          0.0024351660958220125,
          0.0021067173895990107,
          0.0017887832304480094,
          0.0014905897161330078,
          0.0012189345792460063,
          0.0009781261813800052,
          0.000770138952403004,
          0.0005949320863610031,
          0.00045086931767700233,
          0.00033517834958900173,
          0.0002894864497270015,
          0.00035347315468300185,
          0.0004234923449360022,
          0.0004978150658320026,
          0.000574108418452003,
          0.0006495172882380034,
          0.0007208139170610038,
          0.0007846083663980041,
          0.0008376032451940043,
          0.0008768676206050046,
          0.0009000994680060046,
          0.0009058446752430048,
          0.0008936441473510046,
          0.0008640887326640046,
          0.0008187733743160043,
          0.000760155221751004,
          0.0006913331826000036,
          0.0006157764019400033,
          0.0005370347884490028,
          0.0004584651745680024,
          0.000383002188850002,
          0.0003129945164430016,
          0.0002501166340910013,
          0.00019535527036700103,
          0.00014906053378500078,
          0.00011104515114900059,
          0.00008071217045100042,
          0.0000571917186630003,
          0.000039470314351000206,
          0.00002650082856700014,
          0.00001728638883600009,
          0.000010936386966000057,
          0.0005378897992610028,
          0.0006922126076450035,
          0.0008745393534850045,
          0.0010846927998950056,
          0.001320731355872007,
          0.0015786802313140082,
          0.0018524060815940098,
          0.0021336818902300114,
          0.0024124721821530124,
          0.002677443934478014,
          0.002916678578259015,
          0.0031185296068090163,
          0.003272543728268017,
          0.0033703463247740178,
          0.0034063881356270176,
          0.0033784613838090177,
          0.0032879191611020174,
          0.0031395682408030165,
          0.002941246953791015,
          0.0027031396460490144,
          0.0024369110921530126,
          0.002154763145814011,
          0.0018685193832160098,
          0.0015888318820530083,
          0.001324580525584007,
          0.0010825041282710056,
          0.0008670698344060045,
          0.0006805578888750036,
          0.0005233169927830027,
          0.00039413317897500204,
          0.0002906526744430015,
          0.00020980510520000108,
          0.0002753794773400015,
          0.00033388159524600175,
          0.00039713049674800204,
          0.00046336133790400244,
          0.0005302923302920029,
          0.0005952235412360031,
          0.0006551956129470035,
          0.0007071984776010037,
          0.0007484115324970039,
          0.000776449879484004,
          0.0007895875938990041,
          0.0007869295859570041,
          0.000768508743824004,
          0.0007352941368380038,
          0.0006891077400650035,
          0.0006324594856350033,
          0.0005683213405640029,
          0.0004998686984600026,
          0.0004302204364620022,
          0.0003622071898140019,
          0.0002981913130370016,
          0.00023995295990200124,
          0.00018864648902200098,
          0.00014482179647600077,
          0.00010849768087600057,
          0.00007926987485800042,
          0.00005643517009500029,
          0.000039114741899000206,
          0.00002636352418600014,
          0.00001725727377700009,
          0.000010953806167000057,
          0.0000067290087730000345,
          0.00045154811254000235,
          0.000555947853482003,
          0.0006718360828920035,
          0.0007968483311220041,
          0.0009275846336110049,
          0.0010596878732240056,
          0.0011880326605420062,
          0.0013070210896950066,
          0.0014109663054590073,
          0.0014945300611590078,
          0.001553169014354008,
          0.0015835387925710082,
          0.0015838064356820082,
          0.001553831018622008,
          0.0014951879997510077,
          0.0014110327656490073,
          0.0013058197307010068,
          0.0011849117451130063,
          0.0010541274722110055,
          0.0009192798707030048,
          0.0007857564239410041,
          0.0006581822111120034,
          0.0005401924136830028,
          0.0004343241789680023,
          0.0003420217919740018,
          0.00026373623739000136,
          0.00019909200233600102,
          0.00014709088586700077,
          0.00010632419286600056,
          0.00007516983976300039,
          0.00005195806895000027,
          0.00003509713035000018,
          0.00022460587916300117,
          0.00026053487034600136,
          0.0002964121712550016,
          0.00033072538431300175,
          0.0003618538754520019,
          0.000388188547655002,
          0.0004082648480080021,
          0.0004208943218110022,
          0.0004252786935170022,
          0.0004210915454490022,
          0.0004085162037540021,
          0.000388233971492002,
          0.0003613634997660019,
          0.00032935873480400174,
          0.0002938783716720015,
          0.00025664314903700136,
          0.00021929810811200114,
          0.00018329509569200094,
          0.0001498067918480008,
          0.00011967823088400063,
          0.00009341617234800048,
          0.00007121173030700036,
          0.00005298810957600028,
          0.0000384635015040002,
          0.000027219158424000143,
          0.0000187640785750001,
          0.000012590077432000066,
          0.000008213721729000043,
          0.000005204146909000027,
          0.0000031978025370000164,
          0.0000019024907580000099,
          0.0000010936679290000057
         ]
        }
       ],
       "layout": {
        "font": {
         "color": "black"
        },
        "margin": {
         "b": 10,
         "l": 50,
         "r": 10,
         "t": 40
        },
        "paper_bgcolor": "white",
        "showlegend": false,
        "template": {
         "data": {
          "bar": [
           {
            "error_x": {
             "color": "#2a3f5f"
            },
            "error_y": {
             "color": "#2a3f5f"
            },
            "marker": {
             "line": {
              "color": "#E5ECF6",
              "width": 0.5
             }
            },
            "type": "bar"
           }
          ],
          "barpolar": [
           {
            "marker": {
             "line": {
              "color": "#E5ECF6",
              "width": 0.5
             }
            },
            "type": "barpolar"
           }
          ],
          "carpet": [
           {
            "aaxis": {
             "endlinecolor": "#2a3f5f",
             "gridcolor": "white",
             "linecolor": "white",
             "minorgridcolor": "white",
             "startlinecolor": "#2a3f5f"
            },
            "baxis": {
             "endlinecolor": "#2a3f5f",
             "gridcolor": "white",
             "linecolor": "white",
             "minorgridcolor": "white",
             "startlinecolor": "#2a3f5f"
            },
            "type": "carpet"
           }
          ],
          "choropleth": [
           {
            "colorbar": {
             "outlinewidth": 0,
             "ticks": ""
            },
            "type": "choropleth"
           }
          ],
          "contour": [
           {
            "colorbar": {
             "outlinewidth": 0,
             "ticks": ""
            },
            "colorscale": [
             [
              0,
              "#0d0887"
             ],
             [
              0.1111111111111111,
              "#46039f"
             ],
             [
              0.2222222222222222,
              "#7201a8"
             ],
             [
              0.3333333333333333,
              "#9c179e"
             ],
             [
              0.4444444444444444,
              "#bd3786"
             ],
             [
              0.5555555555555556,
              "#d8576b"
             ],
             [
              0.6666666666666666,
              "#ed7953"
             ],
             [
              0.7777777777777778,
              "#fb9f3a"
             ],
             [
              0.8888888888888888,
              "#fdca26"
             ],
             [
              1,
              "#f0f921"
             ]
            ],
            "type": "contour"
           }
          ],
          "contourcarpet": [
           {
            "colorbar": {
             "outlinewidth": 0,
             "ticks": ""
            },
            "type": "contourcarpet"
           }
          ],
          "heatmap": [
           {
            "colorbar": {
             "outlinewidth": 0,
             "ticks": ""
            },
            "colorscale": [
             [
              0,
              "#0d0887"
             ],
             [
              0.1111111111111111,
              "#46039f"
             ],
             [
              0.2222222222222222,
              "#7201a8"
             ],
             [
              0.3333333333333333,
              "#9c179e"
             ],
             [
              0.4444444444444444,
              "#bd3786"
             ],
             [
              0.5555555555555556,
              "#d8576b"
             ],
             [
              0.6666666666666666,
              "#ed7953"
             ],
             [
              0.7777777777777778,
              "#fb9f3a"
             ],
             [
              0.8888888888888888,
              "#fdca26"
             ],
             [
              1,
              "#f0f921"
             ]
            ],
            "type": "heatmap"
           }
          ],
          "heatmapgl": [
           {
            "colorbar": {
             "outlinewidth": 0,
             "ticks": ""
            },
            "colorscale": [
             [
              0,
              "#0d0887"
             ],
             [
              0.1111111111111111,
              "#46039f"
             ],
             [
              0.2222222222222222,
              "#7201a8"
             ],
             [
              0.3333333333333333,
              "#9c179e"
             ],
             [
              0.4444444444444444,
              "#bd3786"
             ],
             [
              0.5555555555555556,
              "#d8576b"
             ],
             [
              0.6666666666666666,
              "#ed7953"
             ],
             [
              0.7777777777777778,
              "#fb9f3a"
             ],
             [
              0.8888888888888888,
              "#fdca26"
             ],
             [
              1,
              "#f0f921"
             ]
            ],
            "type": "heatmapgl"
           }
          ],
          "histogram": [
           {
            "marker": {
             "colorbar": {
              "outlinewidth": 0,
              "ticks": ""
             }
            },
            "type": "histogram"
           }
          ],
          "histogram2d": [
           {
            "colorbar": {
             "outlinewidth": 0,
             "ticks": ""
            },
            "colorscale": [
             [
              0,
              "#0d0887"
             ],
             [
              0.1111111111111111,
              "#46039f"
             ],
             [
              0.2222222222222222,
              "#7201a8"
             ],
             [
              0.3333333333333333,
              "#9c179e"
             ],
             [
              0.4444444444444444,
              "#bd3786"
             ],
             [
              0.5555555555555556,
              "#d8576b"
             ],
             [
              0.6666666666666666,
              "#ed7953"
             ],
             [
              0.7777777777777778,
              "#fb9f3a"
             ],
             [
              0.8888888888888888,
              "#fdca26"
             ],
             [
              1,
              "#f0f921"
             ]
            ],
            "type": "histogram2d"
           }
          ],
          "histogram2dcontour": [
           {
            "colorbar": {
             "outlinewidth": 0,
             "ticks": ""
            },
            "colorscale": [
             [
              0,
              "#0d0887"
             ],
             [
              0.1111111111111111,
              "#46039f"
             ],
             [
              0.2222222222222222,
              "#7201a8"
             ],
             [
              0.3333333333333333,
              "#9c179e"
             ],
             [
              0.4444444444444444,
              "#bd3786"
             ],
             [
              0.5555555555555556,
              "#d8576b"
             ],
             [
              0.6666666666666666,
              "#ed7953"
             ],
             [
              0.7777777777777778,
              "#fb9f3a"
             ],
             [
              0.8888888888888888,
              "#fdca26"
             ],
             [
              1,
              "#f0f921"
             ]
            ],
            "type": "histogram2dcontour"
           }
          ],
          "mesh3d": [
           {
            "colorbar": {
             "outlinewidth": 0,
             "ticks": ""
            },
            "type": "mesh3d"
           }
          ],
          "parcoords": [
           {
            "line": {
             "colorbar": {
              "outlinewidth": 0,
              "ticks": ""
             }
            },
            "type": "parcoords"
           }
          ],
          "pie": [
           {
            "automargin": true,
            "type": "pie"
           }
          ],
          "scatter": [
           {
            "marker": {
             "colorbar": {
              "outlinewidth": 0,
              "ticks": ""
             }
            },
            "type": "scatter"
           }
          ],
          "scatter3d": [
           {
            "line": {
             "colorbar": {
              "outlinewidth": 0,
              "ticks": ""
             }
            },
            "marker": {
             "colorbar": {
              "outlinewidth": 0,
              "ticks": ""
             }
            },
            "type": "scatter3d"
           }
          ],
          "scattercarpet": [
           {
            "marker": {
             "colorbar": {
              "outlinewidth": 0,
              "ticks": ""
             }
            },
            "type": "scattercarpet"
           }
          ],
          "scattergeo": [
           {
            "marker": {
             "colorbar": {
              "outlinewidth": 0,
              "ticks": ""
             }
            },
            "type": "scattergeo"
           }
          ],
          "scattergl": [
           {
            "marker": {
             "colorbar": {
              "outlinewidth": 0,
              "ticks": ""
             }
            },
            "type": "scattergl"
           }
          ],
          "scattermapbox": [
           {
            "marker": {
             "colorbar": {
              "outlinewidth": 0,
              "ticks": ""
             }
            },
            "type": "scattermapbox"
           }
          ],
          "scatterpolar": [
           {
            "marker": {
             "colorbar": {
              "outlinewidth": 0,
              "ticks": ""
             }
            },
            "type": "scatterpolar"
           }
          ],
          "scatterpolargl": [
           {
            "marker": {
             "colorbar": {
              "outlinewidth": 0,
              "ticks": ""
             }
            },
            "type": "scatterpolargl"
           }
          ],
          "scatterternary": [
           {
            "marker": {
             "colorbar": {
              "outlinewidth": 0,
              "ticks": ""
             }
            },
            "type": "scatterternary"
           }
          ],
          "surface": [
           {
            "colorbar": {
             "outlinewidth": 0,
             "ticks": ""
            },
            "colorscale": [
             [
              0,
              "#0d0887"
             ],
             [
              0.1111111111111111,
              "#46039f"
             ],
             [
              0.2222222222222222,
              "#7201a8"
             ],
             [
              0.3333333333333333,
              "#9c179e"
             ],
             [
              0.4444444444444444,
              "#bd3786"
             ],
             [
              0.5555555555555556,
              "#d8576b"
             ],
             [
              0.6666666666666666,
              "#ed7953"
             ],
             [
              0.7777777777777778,
              "#fb9f3a"
             ],
             [
              0.8888888888888888,
              "#fdca26"
             ],
             [
              1,
              "#f0f921"
             ]
            ],
            "type": "surface"
           }
          ],
          "table": [
           {
            "cells": {
             "fill": {
              "color": "#EBF0F8"
             },
             "line": {
              "color": "white"
             }
            },
            "header": {
             "fill": {
              "color": "#C8D4E3"
             },
             "line": {
              "color": "white"
             }
            },
            "type": "table"
           }
          ]
         },
         "layout": {
          "annotationdefaults": {
           "arrowcolor": "#2a3f5f",
           "arrowhead": 0,
           "arrowwidth": 1
          },
          "coloraxis": {
           "colorbar": {
            "outlinewidth": 0,
            "ticks": ""
           }
          },
          "colorscale": {
           "diverging": [
            [
             0,
             "#8e0152"
            ],
            [
             0.1,
             "#c51b7d"
            ],
            [
             0.2,
             "#de77ae"
            ],
            [
             0.3,
             "#f1b6da"
            ],
            [
             0.4,
             "#fde0ef"
            ],
            [
             0.5,
             "#f7f7f7"
            ],
            [
             0.6,
             "#e6f5d0"
            ],
            [
             0.7,
             "#b8e186"
            ],
            [
             0.8,
             "#7fbc41"
            ],
            [
             0.9,
             "#4d9221"
            ],
            [
             1,
             "#276419"
            ]
           ],
           "sequential": [
            [
             0,
             "#0d0887"
            ],
            [
             0.1111111111111111,
             "#46039f"
            ],
            [
             0.2222222222222222,
             "#7201a8"
            ],
            [
             0.3333333333333333,
             "#9c179e"
            ],
            [
             0.4444444444444444,
             "#bd3786"
            ],
            [
             0.5555555555555556,
             "#d8576b"
            ],
            [
             0.6666666666666666,
             "#ed7953"
            ],
            [
             0.7777777777777778,
             "#fb9f3a"
            ],
            [
             0.8888888888888888,
             "#fdca26"
            ],
            [
             1,
             "#f0f921"
            ]
           ],
           "sequentialminus": [
            [
             0,
             "#0d0887"
            ],
            [
             0.1111111111111111,
             "#46039f"
            ],
            [
             0.2222222222222222,
             "#7201a8"
            ],
            [
             0.3333333333333333,
             "#9c179e"
            ],
            [
             0.4444444444444444,
             "#bd3786"
            ],
            [
             0.5555555555555556,
             "#d8576b"
            ],
            [
             0.6666666666666666,
             "#ed7953"
            ],
            [
             0.7777777777777778,
             "#fb9f3a"
            ],
            [
             0.8888888888888888,
             "#fdca26"
            ],
            [
             1,
             "#f0f921"
            ]
           ]
          },
          "colorway": [
           "#636efa",
           "#EF553B",
           "#00cc96",
           "#ab63fa",
           "#FFA15A",
           "#19d3f3",
           "#FF6692",
           "#B6E880",
           "#FF97FF",
           "#FECB52"
          ],
          "font": {
           "color": "#2a3f5f"
          },
          "geo": {
           "bgcolor": "white",
           "lakecolor": "white",
           "landcolor": "#E5ECF6",
           "showlakes": true,
           "showland": true,
           "subunitcolor": "white"
          },
          "hoverlabel": {
           "align": "left"
          },
          "hovermode": "closest",
          "mapbox": {
           "style": "light"
          },
          "paper_bgcolor": "white",
          "plot_bgcolor": "#E5ECF6",
          "polar": {
           "angularaxis": {
            "gridcolor": "white",
            "linecolor": "white",
            "ticks": ""
           },
           "bgcolor": "#E5ECF6",
           "radialaxis": {
            "gridcolor": "white",
            "linecolor": "white",
            "ticks": ""
           }
          },
          "scene": {
           "xaxis": {
            "backgroundcolor": "#E5ECF6",
            "gridcolor": "white",
            "gridwidth": 2,
            "linecolor": "white",
            "showbackground": true,
            "ticks": "",
            "zerolinecolor": "white"
           },
           "yaxis": {
            "backgroundcolor": "#E5ECF6",
            "gridcolor": "white",
            "gridwidth": 2,
            "linecolor": "white",
            "showbackground": true,
            "ticks": "",
            "zerolinecolor": "white"
           },
           "zaxis": {
            "backgroundcolor": "#E5ECF6",
            "gridcolor": "white",
            "gridwidth": 2,
            "linecolor": "white",
            "showbackground": true,
            "ticks": "",
            "zerolinecolor": "white"
           }
          },
          "shapedefaults": {
           "line": {
            "color": "#2a3f5f"
           }
          },
          "ternary": {
           "aaxis": {
            "gridcolor": "white",
            "linecolor": "white",
            "ticks": ""
           },
           "baxis": {
            "gridcolor": "white",
            "linecolor": "white",
            "ticks": ""
           },
           "bgcolor": "#E5ECF6",
           "caxis": {
            "gridcolor": "white",
            "linecolor": "white",
            "ticks": ""
           }
          },
          "title": {
           "x": 0.05
          },
          "xaxis": {
           "automargin": true,
           "gridcolor": "white",
           "linecolor": "white",
           "ticks": "",
           "title": {
            "standoff": 15
           },
           "zerolinecolor": "white",
           "zerolinewidth": 2
          },
          "yaxis": {
           "automargin": true,
           "gridcolor": "white",
           "linecolor": "white",
           "ticks": "",
           "title": {
            "standoff": 15
           },
           "zerolinecolor": "white",
           "zerolinewidth": 2
          }
         }
        },
        "title": {
         "font": {
          "size": 20
         },
         "x": 0.5
        },
        "xaxis": {
         "linewidth": 1,
         "showline": true,
         "tickangle": -70,
         "tickfont": {
          "size": 14
         },
         "ticktext": [
          "000000000000000",
          "000000000000001",
          "000000000000010",
          "000000000000011",
          "000000000000100",
          "000000000000101",
          "000000000000110",
          "000000000000111",
          "000000000001000",
          "000000000001001",
          "000000000001010",
          "000000000001011",
          "000000000001100",
          "000000000001101",
          "000000000001110",
          "000000000001111",
          "000000000010000",
          "000000000010001",
          "000000000010010",
          "000000000010011",
          "000000000010100",
          "000000000010101",
          "000000000010110",
          "000000000010111",
          "000000000011000",
          "000000000011001",
          "000000000011010",
          "000000000011011",
          "000000000011100",
          "000000000011101",
          "000000000011110",
          "000000000011111",
          "000000000100000",
          "000000000100001",
          "000000000100010",
          "000000000100011",
          "000000000100100",
          "000000000100101",
          "000000000100110",
          "000000000100111",
          "000000000101000",
          "000000000101001",
          "000000000101010",
          "000000000101011",
          "000000000101100",
          "000000000101101",
          "000000000101110",
          "000000000101111",
          "000000000110000",
          "000000000110001",
          "000000000110010",
          "000000000110011",
          "000000000110100",
          "000000000110101",
          "000000000110110",
          "000000000110111",
          "000000000111000",
          "000000000111001",
          "000000000111010",
          "000000000111011",
          "000000000111100",
          "000000000111101",
          "000000000111110",
          "000000000111111",
          "000000001000000",
          "000000001000001",
          "000000001000010",
          "000000001000011",
          "000000001000100",
          "000000001000101",
          "000000001000110",
          "000000001000111",
          "000000001001000",
          "000000001001001",
          "000000001001010",
          "000000001001011",
          "000000001001100",
          "000000001001101",
          "000000001001110",
          "000000001001111",
          "000000001010000",
          "000000001010001",
          "000000001010010",
          "000000001010011",
          "000000001010100",
          "000000001010101",
          "000000001010110",
          "000000001010111",
          "000000001011000",
          "000000001011001",
          "000000001011010",
          "000000001011011",
          "000000001011100",
          "000000001011101",
          "000000001011110",
          "000000001011111",
          "000000001100000",
          "000000001100001",
          "000000001100010",
          "000000001100011",
          "000000001100100",
          "000000001100101",
          "000000001100110",
          "000000001100111",
          "000000001101000",
          "000000001101001",
          "000000001101010",
          "000000001101011",
          "000000001101100",
          "000000001101101",
          "000000001101110",
          "000000001101111",
          "000000001110000",
          "000000001110001",
          "000000001110010",
          "000000001110011",
          "000000001110100",
          "000000001110101",
          "000000001110110",
          "000000001110111",
          "000000001111000",
          "000000001111001",
          "000000001111010",
          "000000001111011",
          "000000001111100",
          "000000001111101",
          "000000001111110",
          "000000001111111",
          "000000010000000",
          "000000010000001",
          "000000010000010",
          "000000010000011",
          "000000010000100",
          "000000010000101",
          "000000010000110",
          "000000010000111",
          "000000010001000",
          "000000010001001",
          "000000010001010",
          "000000010001011",
          "000000010001100",
          "000000010001101",
          "000000010001110",
          "000000010001111",
          "000000010010000",
          "000000010010001",
          "000000010010010",
          "000000010010011",
          "000000010010100",
          "000000010010101",
          "000000010010110",
          "000000010010111",
          "000000010011000",
          "000000010011001",
          "000000010011010",
          "000000010011011",
          "000000010011100",
          "000000010011101",
          "000000010011110",
          "000000010011111",
          "000000010100000",
          "000000010100001",
          "000000010100010",
          "000000010100011",
          "000000010100100",
          "000000010100101",
          "000000010100110",
          "000000010100111",
          "000000010101000",
          "000000010101001",
          "000000010101010",
          "000000010101011",
          "000000010101100",
          "000000010101101",
          "000000010101110",
          "000000010101111",
          "000000010110000",
          "000000010110001",
          "000000010110010",
          "000000010110011",
          "000000010110100",
          "000000010110101",
          "000000010110110",
          "000000010110111",
          "000000010111000",
          "000000010111001",
          "000000010111010",
          "000000010111011",
          "000000010111100",
          "000000010111101",
          "000000010111110",
          "000000010111111",
          "000000011000000",
          "000000011000001",
          "000000011000010",
          "000000011000011",
          "000000011000100",
          "000000011000101",
          "000000011000110",
          "000000011000111",
          "000000011001000",
          "000000011001001",
          "000000011001010",
          "000000011001011",
          "000000011001100",
          "000000011001101",
          "000000011001110",
          "000000011001111",
          "000000011010000",
          "000000011010001",
          "000000011010010",
          "000000011010011",
          "000000011010100",
          "000000011010101",
          "000000011010110",
          "000000011010111",
          "000000011011000",
          "000000011011001",
          "000000011011010",
          "000000011011011",
          "000000011011100",
          "000000011011101",
          "000000011011110",
          "000000011011111",
          "000000011100000",
          "000000011100001",
          "000000011100010",
          "000000011100011",
          "000000011100100",
          "000000011100101",
          "000000011100110",
          "000000011100111",
          "000000011101000",
          "000000011101001",
          "000000011101010",
          "000000011101011",
          "000000011101100",
          "000000011101101",
          "000000011101110",
          "000000011101111",
          "000000011110000",
          "000000011110001",
          "000000011110010",
          "000000011110011",
          "000000011110100",
          "000000011110101",
          "000000011110110",
          "000000011110111",
          "000000011111000",
          "000000011111001",
          "000000011111010",
          "000000011111011",
          "000000011111100",
          "000000011111101",
          "000000011111110",
          "000000011111111",
          "000000100000000",
          "000000100000001",
          "000000100000010",
          "000000100000011",
          "000000100000100",
          "000000100000101",
          "000000100000110",
          "000000100000111",
          "000000100001000",
          "000000100001001",
          "000000100001010",
          "000000100001011",
          "000000100001100",
          "000000100001101",
          "000000100001110",
          "000000100001111",
          "000000100010000",
          "000000100010001",
          "000000100010010",
          "000000100010011",
          "000000100010100",
          "000000100010101",
          "000000100010110",
          "000000100010111",
          "000000100011000",
          "000000100011001",
          "000000100011010",
          "000000100011011",
          "000000100011100",
          "000000100011101",
          "000000100011110",
          "000000100011111",
          "000000100100000",
          "000000100100001",
          "000000100100010",
          "000000100100011",
          "000000100100100",
          "000000100100101",
          "000000100100110",
          "000000100100111",
          "000000100101000",
          "000000100101001",
          "000000100101010",
          "000000100101011",
          "000000100101100",
          "000000100101101",
          "000000100101110",
          "000000100101111",
          "000000100110000",
          "000000100110001",
          "000000100110010",
          "000000100110011",
          "000000100110100",
          "000000100110101",
          "000000100110110",
          "000000100110111",
          "000000100111000",
          "000000100111001",
          "000000100111010",
          "000000100111011",
          "000000100111100",
          "000000100111101",
          "000000100111110",
          "000000100111111",
          "000000101000000",
          "000000101000001",
          "000000101000010",
          "000000101000011",
          "000000101000100",
          "000000101000101",
          "000000101000110",
          "000000101000111",
          "000000101001000",
          "000000101001001",
          "000000101001010",
          "000000101001011",
          "000000101001100",
          "000000101001101",
          "000000101001110",
          "000000101001111",
          "000000101010000",
          "000000101010001",
          "000000101010010",
          "000000101010011",
          "000000101010100",
          "000000101010101",
          "000000101010110",
          "000000101010111",
          "000000101011000",
          "000000101011001",
          "000000101011010",
          "000000101011011",
          "000000101011100",
          "000000101011101",
          "000000101011110",
          "000000101011111",
          "000000101100000",
          "000000101100001",
          "000000101100010",
          "000000101100011",
          "000000101100100",
          "000000101100101",
          "000000101100110",
          "000000101100111",
          "000000101101000",
          "000000101101001",
          "000000101101010",
          "000000101101011",
          "000000101101100",
          "000000101101101",
          "000000101101110",
          "000000101101111",
          "000000101110000",
          "000000101110001",
          "000000101110010",
          "000000101110011",
          "000000101110100",
          "000000101110101",
          "000000101110110",
          "000000101110111",
          "000000101111000",
          "000000101111001",
          "000000101111010",
          "000000101111011",
          "000000101111100",
          "000000101111101",
          "000000101111110",
          "000000101111111",
          "000000110000000",
          "000000110000001",
          "000000110000010",
          "000000110000011",
          "000000110000100",
          "000000110000101",
          "000000110000110",
          "000000110000111",
          "000000110001000",
          "000000110001001",
          "000000110001010",
          "000000110001011",
          "000000110001100",
          "000000110001101",
          "000000110001110",
          "000000110001111",
          "000000110010000",
          "000000110010001",
          "000000110010010",
          "000000110010011",
          "000000110010100",
          "000000110010101",
          "000000110010110",
          "000000110010111",
          "000000110011000",
          "000000110011001",
          "000000110011010",
          "000000110011011",
          "000000110011100",
          "000000110011101",
          "000000110011110",
          "000000110011111",
          "000000110100000",
          "000000110100001",
          "000000110100010",
          "000000110100011",
          "000000110100100",
          "000000110100101",
          "000000110100110",
          "000000110100111",
          "000000110101000",
          "000000110101001",
          "000000110101010",
          "000000110101011",
          "000000110101100",
          "000000110101101",
          "000000110101110",
          "000000110101111",
          "000000110110000",
          "000000110110001",
          "000000110110010",
          "000000110110011",
          "000000110110100",
          "000000110110101",
          "000000110110110",
          "000000110110111",
          "000000110111000",
          "000000110111001",
          "000000110111010",
          "000000110111011",
          "000000110111100",
          "000000110111101",
          "000000110111110",
          "000000110111111",
          "000000111000000",
          "000000111000001",
          "000000111000010",
          "000000111000011",
          "000000111000100",
          "000000111000101",
          "000000111000110",
          "000000111000111",
          "000000111001000",
          "000000111001001",
          "000000111001010",
          "000000111001011",
          "000000111001100",
          "000000111001101",
          "000000111001110",
          "000000111001111",
          "000000111010000",
          "000000111010001",
          "000000111010010",
          "000000111010011",
          "000000111010100",
          "000000111010101",
          "000000111010110",
          "000000111010111",
          "000000111011000",
          "000000111011001",
          "000000111011010",
          "000000111011011",
          "000000111011100",
          "000000111011101",
          "000000111011110",
          "000000111011111",
          "000000111100000",
          "000000111100001",
          "000000111100010",
          "000000111100011",
          "000000111100100",
          "000000111100101",
          "000000111100110",
          "000000111100111",
          "000000111101000",
          "000000111101001",
          "000000111101010",
          "000000111101011",
          "000000111101100",
          "000000111101101",
          "000000111101110",
          "000000111101111",
          "000000111110000",
          "000000111110001",
          "000000111110010",
          "000000111110011",
          "000000111110100",
          "000000111110101",
          "000000111110110",
          "000000111110111",
          "000000111111000",
          "000000111111001",
          "000000111111010",
          "000000111111011",
          "000000111111100",
          "000000111111101",
          "000000111111110",
          "000000111111111"
         ],
         "tickvals": [
          0,
          1,
          2,
          3,
          4,
          5,
          6,
          7,
          8,
          9,
          10,
          11,
          12,
          13,
          14,
          15,
          16,
          17,
          18,
          19,
          20,
          21,
          22,
          23,
          24,
          25,
          26,
          27,
          28,
          29,
          30,
          31,
          32,
          33,
          34,
          35,
          36,
          37,
          38,
          39,
          40,
          41,
          42,
          43,
          44,
          45,
          46,
          47,
          48,
          49,
          50,
          51,
          52,
          53,
          54,
          55,
          56,
          57,
          58,
          59,
          60,
          61,
          62,
          63,
          64,
          65,
          66,
          67,
          68,
          69,
          70,
          71,
          72,
          73,
          74,
          75,
          76,
          77,
          78,
          79,
          80,
          81,
          82,
          83,
          84,
          85,
          86,
          87,
          88,
          89,
          90,
          91,
          92,
          93,
          94,
          95,
          96,
          97,
          98,
          99,
          100,
          101,
          102,
          103,
          104,
          105,
          106,
          107,
          108,
          109,
          110,
          111,
          112,
          113,
          114,
          115,
          116,
          117,
          118,
          119,
          120,
          121,
          122,
          123,
          124,
          125,
          126,
          127,
          128,
          129,
          130,
          131,
          132,
          133,
          134,
          135,
          136,
          137,
          138,
          139,
          140,
          141,
          142,
          143,
          144,
          145,
          146,
          147,
          148,
          149,
          150,
          151,
          152,
          153,
          154,
          155,
          156,
          157,
          158,
          159,
          160,
          161,
          162,
          163,
          164,
          165,
          166,
          167,
          168,
          169,
          170,
          171,
          172,
          173,
          174,
          175,
          176,
          177,
          178,
          179,
          180,
          181,
          182,
          183,
          184,
          185,
          186,
          187,
          188,
          189,
          190,
          191,
          192,
          193,
          194,
          195,
          196,
          197,
          198,
          199,
          200,
          201,
          202,
          203,
          204,
          205,
          206,
          207,
          208,
          209,
          210,
          211,
          212,
          213,
          214,
          215,
          216,
          217,
          218,
          219,
          220,
          221,
          222,
          223,
          224,
          225,
          226,
          227,
          228,
          229,
          230,
          231,
          232,
          233,
          234,
          235,
          236,
          237,
          238,
          239,
          240,
          241,
          242,
          243,
          244,
          245,
          246,
          247,
          248,
          249,
          250,
          251,
          252,
          253,
          254,
          255,
          256,
          257,
          258,
          259,
          260,
          261,
          262,
          263,
          264,
          265,
          266,
          267,
          268,
          269,
          270,
          271,
          272,
          273,
          274,
          275,
          276,
          277,
          278,
          279,
          280,
          281,
          282,
          283,
          284,
          285,
          286,
          287,
          288,
          289,
          290,
          291,
          292,
          293,
          294,
          295,
          296,
          297,
          298,
          299,
          300,
          301,
          302,
          303,
          304,
          305,
          306,
          307,
          308,
          309,
          310,
          311,
          312,
          313,
          314,
          315,
          316,
          317,
          318,
          319,
          320,
          321,
          322,
          323,
          324,
          325,
          326,
          327,
          328,
          329,
          330,
          331,
          332,
          333,
          334,
          335,
          336,
          337,
          338,
          339,
          340,
          341,
          342,
          343,
          344,
          345,
          346,
          347,
          348,
          349,
          350,
          351,
          352,
          353,
          354,
          355,
          356,
          357,
          358,
          359,
          360,
          361,
          362,
          363,
          364,
          365,
          366,
          367,
          368,
          369,
          370,
          371,
          372,
          373,
          374,
          375,
          376,
          377,
          378,
          379,
          380,
          381,
          382,
          383,
          384,
          385,
          386,
          387,
          388,
          389,
          390,
          391,
          392,
          393,
          394,
          395,
          396,
          397,
          398,
          399,
          400,
          401,
          402,
          403,
          404,
          405,
          406,
          407,
          408,
          409,
          410,
          411,
          412,
          413,
          414,
          415,
          416,
          417,
          418,
          419,
          420,
          421,
          422,
          423,
          424,
          425,
          426,
          427,
          428,
          429,
          430,
          431,
          432,
          433,
          434,
          435,
          436,
          437,
          438,
          439,
          440,
          441,
          442,
          443,
          444,
          445,
          446,
          447,
          448,
          449,
          450,
          451,
          452,
          453,
          454,
          455,
          456,
          457,
          458,
          459,
          460,
          461,
          462,
          463,
          464,
          465,
          466,
          467,
          468,
          469,
          470,
          471,
          472,
          473,
          474,
          475,
          476,
          477,
          478,
          479,
          480,
          481,
          482,
          483,
          484,
          485,
          486,
          487,
          488,
          489,
          490,
          491,
          492,
          493,
          494,
          495,
          496,
          497,
          498,
          499,
          500,
          501,
          502,
          503,
          504,
          505,
          506,
          507,
          508,
          509,
          510,
          511
         ]
        },
        "yaxis": {
         "linewidth": 1,
         "showline": true,
         "tickfont": {
          "size": 14
         },
         "title": {
          "font": {
           "size": 18
          },
          "text": "Probability"
         }
        }
       }
      }
     },
     "metadata": {}
    }
   ],
   "source": [
    "probability_distribution(job.result().get_counts())"
   ]
  },
  {
   "source": [
    "## Test clasically\n",
    "\n",
    "\n",
    "We evaluate going throughn the samples the probability of finding |1>\n",
    "In principle the QAE or IQAE should approximate such value. _(This might take a while to run... you are going through all samples my friend)_"
   ],
   "cell_type": "markdown",
   "metadata": {}
  },
  {
   "cell_type": "code",
   "execution_count": 1042,
   "metadata": {},
   "outputs": [],
   "source": [
    "# evaluate resulting statevector\n",
    "value = 0\n",
    "for i, a in enumerate(job.result().get_statevector()):\n",
    "    b = ('{0:0%sb}' % (len(qr_state) + 1)).format(i)[-(len(qr_state) + 1):]\n",
    "    am = np.round(np.real(a), decimals=4)\n",
    "    if np.abs(am) > 1e-6 and b[0] == '1':\n",
    "        value += am**2"
   ]
  },
  {
   "cell_type": "code",
   "execution_count": 1043,
   "metadata": {},
   "outputs": [
    {
     "output_type": "stream",
     "name": "stdout",
     "text": [
      "Exact Expected Loss:   $      122,590\nExact Operator Value (probability):  0.3866\nMapped Operator value: $      126,706\n"
     ]
    }
   ],
   "source": [
    "\n",
    "print('Exact Expected Loss:   $ {0:12,.0f}'.format(expected_loss*lgd_factor))\n",
    "print('Exact Operator Value (probability):  %.4f' % value)\n",
    "print('Mapped Operator value: $ {0:12,.0f}'.format(objective.post_processing(value)*lgd_factor))"
   ]
  },
  {
   "cell_type": "code",
   "execution_count": 1044,
   "metadata": {},
   "outputs": [
    {
     "output_type": "execute_result",
     "data": {
      "text/plain": [
       "15"
      ]
     },
     "metadata": {},
     "execution_count": 1044
    }
   ],
   "source": [
    "state_preparation.num_qubits"
   ]
  },
  {
   "cell_type": "code",
   "execution_count": 1045,
   "metadata": {},
   "outputs": [],
   "source": [
    "\n",
    "# Where do we want to run it?\n",
    "#backend = provider.get_backend('ibmq_qasm_simulator')\n",
    "backend = Aer.get_backend('qasm_simulator')\n",
    "\n",
    "# set target precision and confidence level\n",
    "epsilon_iae = 0.01\n",
    "alpha_iae = 0.05\n",
    "\n",
    "# construct amplitude estimation \n",
    "iae = IterativeAmplitudeEstimation(state_preparation=state_preparation,\n",
    "                                  epsilon=epsilon_iae, alpha=alpha_iae,\n",
    "                                  objective_qubits=[len(qr_state)],\n",
    "                                  post_processing=objective.post_processing)\n",
    "result = iae.run(quantum_instance=backend, shots=100)\n"
   ]
  },
  {
   "cell_type": "code",
   "execution_count": 1046,
   "metadata": {},
   "outputs": [
    {
     "output_type": "stream",
     "name": "stdout",
     "text": [
      "Exact value:   $   122,590\nEstimated value: $   127,652\nConfidence interval: \t[124033, 131271]\n"
     ]
    }
   ],
   "source": [
    "conf_int = np.array(result['confidence_interval'])\n",
    "print('Exact value:   $ {0:9,.0f}'.format(expected_loss*lgd_factor))\n",
    "print('Estimated value: $ {0:9,.0f}'.format(result['estimation']*lgd_factor))\n",
    "print('Confidence interval: \\t[%.0f, %.0f]' % (tuple(conf_int*lgd_factor)))"
   ]
  },
  {
   "cell_type": "code",
   "execution_count": 1047,
   "metadata": {},
   "outputs": [],
   "source": [
    "# Try with \"standard\" QAE and see what happens\n",
    "\n",
    "# AmplitudeEstimation(num_eval_qubits, state_preparation=None, grover_operator=None, objective_qubits=None, post_processing=None, phase_estimation_circuit=None, iqft=None, quantum_instance=None, a_factory=None, q_factory=None, i_objective=None)\n",
    "\n",
    "# evaluation_qubits = 7\n",
    "# ae = AmplitudeEstimation(evaluation_qubits, state_preparation=state_preparation)\n",
    "# ia_real_result = ae.run(quantum_instance=backend, shots=1000)"
   ]
  },
  {
   "cell_type": "code",
   "execution_count": 1048,
   "metadata": {},
   "outputs": [],
   "source": [
    "#conf_int = np.array(ia_real_result['confidence_interval'])\n",
    "#print('Exact value:   $ {0:9,.0f}'.format(expected_loss*lgd_factor))\n",
    "#print('Estimated value: $ {0:9,.0f}'.format(ia_real_result['estimation']*lgd_factor))\n",
    "#print('Confidence interval: \\t[%.0f, %.0f]' % (tuple(conf_int*lgd_factor)))"
   ]
  },
  {
   "source": [
    "## Great, now what?\n",
    "\n",
    "The expected loss is fine, but this is very easy to calculate even with an excel spreadsheet. However estimating the Cumulative Distribution Function is another story. Classically we would need a very expensive Montecarlo that grows exponentially with the size of the problem.\n",
    "\n",
    "![CDF Calculation using the Unitary, the weighted adder and the comparator](CDF_calculation_quantum_risk.png)\n",
    "\n",
    "The CDF(𝑥) equals the probability of measuring |1⟩ in the objective qubit and QAE can be directly used to estimate it."
   ],
   "cell_type": "markdown",
   "metadata": {}
  },
  {
   "cell_type": "code",
   "execution_count": 1049,
   "metadata": {},
   "outputs": [
    {
     "output_type": "execute_result",
     "data": {
      "text/plain": [
       "                                                   \n",
       "  state_0: ──■──────────────────────────────────■──\n",
       "             │                                  │  \n",
       "  state_1: ──┼─────────■───────────────────■────┼──\n",
       "             │  ┌───┐  │            ┌───┐  │    │  \n",
       "  state_2: ──┼──┤ X ├──┼─────────■──┤ X ├──┼────┼──\n",
       "             │  ├───┤  │       ┌─┴─┐├───┤  │    │  \n",
       "compare_0: ──┼──┤ X ├──┼───────┤ X ├┤ X ├──┼────┼──\n",
       "           ┌─┴─┐└───┘  │       └─┬─┘└───┘  │  ┌─┴─┐\n",
       "   a203_0: ┤ X ├───────■─────────┼─────────■──┤ X ├\n",
       "           └───┘     ┌─┴─┐┌───┐  │  ┌───┐┌─┴─┐└───┘\n",
       "   a203_1: ──────────┤ X ├┤ X ├──■──┤ X ├┤ X ├─────\n",
       "                     └───┘└───┘     └───┘└───┘     "
      ],
      "text/html": "<pre style=\"word-wrap: normal;white-space: pre;background: #fff0;line-height: 1.1;font-family: &quot;Courier New&quot;,Courier,monospace\">                                                   \n  state_0: ──■──────────────────────────────────■──\n             │                                  │  \n  state_1: ──┼─────────■───────────────────■────┼──\n             │  ┌───┐  │            ┌───┐  │    │  \n  state_2: ──┼──┤ X ├──┼─────────■──┤ X ├──┼────┼──\n             │  ├───┤  │       ┌─┴─┐├───┤  │    │  \ncompare_0: ──┼──┤ X ├──┼───────┤ X ├┤ X ├──┼────┼──\n           ┌─┴─┐└───┘  │       └─┬─┘└───┘  │  ┌─┴─┐\n   a203_0: ┤ X ├───────■─────────┼─────────■──┤ X ├\n           └───┘     ┌─┴─┐┌───┐  │  ┌───┐┌─┴─┐└───┘\n   a203_1: ──────────┤ X ├┤ X ├──■──┤ X ├┤ X ├─────\n                     └───┘└───┘     └───┘└───┘     </pre>"
     },
     "metadata": {},
     "execution_count": 1049
    }
   ],
   "source": [
    "# We use an IntegerComparator\n",
    "# IntegerComparator(num_state_qubits=None, value=None, geq=True, name='cmp')\n",
    "# Operator compares basis states |𝑖⟩𝑛 against a classically given integer 𝐿 of fixed value and flips a target qubit if 𝑖≥𝐿 (or < depending on the parameter geq):\n",
    "\n",
    "# So basically we compare the sum from before with value that has L on the objective_qubit.\n",
    "\n",
    "comparator_value = 2\n",
    "\n",
    "comparator = IntegerComparator(weighted_adder.num_sum_qubits, comparator_value + 1, geq=False)\n",
    "comparator.draw()"
   ]
  },
  {
   "source": [
    "def build_cdf_state_preparation(comparator_value, uncertainty_model, weighted_adder):\n",
    "    cdf_qr_state = QuantumRegister(uncertainty_model.num_qubits, 'state')\n",
    "    cdf_qr_sum = QuantumRegister(weighted_adder.num_sum_qubits, 'sum')\n",
    "    cdf_qr_carry = QuantumRegister(weighted_adder.num_carry_qubits, 'carry')\n",
    "    cdf_qr_obj = QuantumRegister(1, 'objective')\n",
    "    cdf_qr_compare = QuantumRegister(1, 'compare')\n",
    "    \n",
    "    comparator = IntegerComparator(weighted_adder.num_sum_qubits, comparator_value + 1, geq=False)\n",
    "\n",
    "    if weighted_adder.num_control_qubits > 0:\n",
    "        cdf_qr_control = QuantumRegister(weighted_adder.num_control_qubits, 'control')\n",
    "        cdf_state_preparation = QuantumCircuit(cdf_qr_state, cdf_qr_obj, cdf_qr_sum, cdf_qr_carry, cdf_qr_control, name='A')\n",
    "        cdf_state_preparation.append(uncertainty_model, cdf_qr_state)\n",
    "        cdf_state_preparation.append(weighted_adder, cdf_qr_state[:] + cdf_qr_sum[:] + cdf_qr_carry[:] + cdf_qr_control[:])\n",
    "        cdf_state_preparation.append(comparator, cdf_qr_sum[:] + cdf_qr_obj[:] + cdf_qr_carry[:])\n",
    "        cdf_state_preparation.append(weighted_adder.inverse(), cdf_qr_state[:] + cdf_qr_sum[:] + cdf_qr_carry[:] + cdf_qr_control[:])\n",
    "    else:\n",
    "        cdf_state_preparation = QuantumCircuit(cdf_qr_state, cdf_qr_obj, cdf_qr_sum, cdf_qr_carry, name='A')\n",
    "        cdf_state_preparation.append(uncertainty_model, cdf_qr_state)\n",
    "        cdf_state_preparation.append(weighted_adder, cdf_qr_state[:] + cdf_qr_sum[:] + cdf_qr_carry[:])\n",
    "        cdf_state_preparation.append(comparator, cdf_qr_sum[:] + cdf_qr_obj[:] + cdf_qr_carry[:])\n",
    "        cdf_state_preparation.append(weighted_adder.inverse(), cdf_qr_state[:] + cdf_qr_sum[:] + cdf_qr_carry[:])\n",
    "    \n",
    "    return cdf_state_preparation\n",
    "\n",
    "weighted_adder = WeightedAdder(n_z + K, [0]*n_z + loss_given_default)\n",
    "comparator_value = 2\n",
    "cdf_state_preparation = build_cdf_state_preparation(comparator_value, uncertainty_model, weighted_adder)\n",
    "cdf_state_preparation.draw()\n"
   ],
   "cell_type": "code",
   "metadata": {},
   "execution_count": 1050,
   "outputs": [
    {
     "output_type": "execute_result",
     "data": {
      "text/plain": [
       "             ┌───────┐┌─────────┐        ┌────────────┐\n",
       "    state_0: ┤0      ├┤0        ├────────┤0           ├\n",
       "             │       ││         │        │            │\n",
       "    state_1: ┤1      ├┤1        ├────────┤1           ├\n",
       "             │       ││         │        │            │\n",
       "    state_2: ┤2      ├┤2        ├────────┤2           ├\n",
       "             │       ││         │        │            │\n",
       "    state_3: ┤3      ├┤3        ├────────┤3           ├\n",
       "             │  P(X) ││         │        │            │\n",
       "    state_4: ┤4      ├┤4        ├────────┤4           ├\n",
       "             │       ││         │        │            │\n",
       "    state_5: ┤5      ├┤5        ├────────┤5           ├\n",
       "             │       ││         │        │            │\n",
       "    state_6: ┤6      ├┤6        ├────────┤6           ├\n",
       "             │       ││         │        │            │\n",
       "    state_7: ┤7      ├┤7  adder ├────────┤7  adder_dg ├\n",
       "             └───────┘│         │┌──────┐│            │\n",
       "objective_0: ─────────┤         ├┤3     ├┤            ├\n",
       "                      │         ││      ││            │\n",
       "      sum_0: ─────────┤8        ├┤0     ├┤8           ├\n",
       "                      │         ││      ││            │\n",
       "      sum_1: ─────────┤9        ├┤1     ├┤9           ├\n",
       "                      │         ││  cmp ││            │\n",
       "      sum_2: ─────────┤10       ├┤2     ├┤10          ├\n",
       "                      │         ││      ││            │\n",
       "    carry_0: ─────────┤11       ├┤4     ├┤11          ├\n",
       "                      │         ││      ││            │\n",
       "    carry_1: ─────────┤12       ├┤5     ├┤12          ├\n",
       "                      │         │└──────┘│            │\n",
       "  control_0: ─────────┤13       ├────────┤13          ├\n",
       "                      └─────────┘        └────────────┘"
      ],
      "text/html": "<pre style=\"word-wrap: normal;white-space: pre;background: #fff0;line-height: 1.1;font-family: &quot;Courier New&quot;,Courier,monospace\">             ┌───────┐┌─────────┐        ┌────────────┐\n    state_0: ┤0      ├┤0        ├────────┤0           ├\n             │       ││         │        │            │\n    state_1: ┤1      ├┤1        ├────────┤1           ├\n             │       ││         │        │            │\n    state_2: ┤2      ├┤2        ├────────┤2           ├\n             │       ││         │        │            │\n    state_3: ┤3      ├┤3        ├────────┤3           ├\n             │  P(X) ││         │        │            │\n    state_4: ┤4      ├┤4        ├────────┤4           ├\n             │       ││         │        │            │\n    state_5: ┤5      ├┤5        ├────────┤5           ├\n             │       ││         │        │            │\n    state_6: ┤6      ├┤6        ├────────┤6           ├\n             │       ││         │        │            │\n    state_7: ┤7      ├┤7  adder ├────────┤7  adder_dg ├\n             └───────┘│         │┌──────┐│            │\nobjective_0: ─────────┤         ├┤3     ├┤            ├\n                      │         ││      ││            │\n      sum_0: ─────────┤8        ├┤0     ├┤8           ├\n                      │         ││      ││            │\n      sum_1: ─────────┤9        ├┤1     ├┤9           ├\n                      │         ││  cmp ││            │\n      sum_2: ─────────┤10       ├┤2     ├┤10          ├\n                      │         ││      ││            │\n    carry_0: ─────────┤11       ├┤4     ├┤11          ├\n                      │         ││      ││            │\n    carry_1: ─────────┤12       ├┤5     ├┤12          ├\n                      │         │└──────┘│            │\n  control_0: ─────────┤13       ├────────┤13          ├\n                      └─────────┘        └────────────┘</pre>"
     },
     "metadata": {},
     "execution_count": 1050
    }
   ]
  },
  {
   "cell_type": "code",
   "execution_count": 1051,
   "metadata": {},
   "outputs": [
    {
     "output_type": "stream",
     "name": "stdout",
     "text": [
      "Comparator value to test:  2\n",
      "Operator CDF(2) = 0.5000\n",
      "Exact    CDF(2) = 0.7740\n"
     ]
    }
   ],
   "source": [
    "# Test for a given comparator value\n",
    "print(\"Comparator value to test: \", comparator_value)\n",
    "\n",
    "cdf_state_preparation = build_cdf_state_preparation(2, uncertainty_model, weighted_adder)\n",
    "job = execute(cdf_state_preparation, backend=Aer.get_backend('statevector_simulator'))\n",
    "# evaluate resulting statevector\n",
    "var_prob = 0\n",
    "for i, a in enumerate(job.result().get_statevector()):\n",
    "    b = ('{0:0%sb}' % (len(cdf_qr_state) + 1)).format(i)[-(len(cdf_qr_state) + 1):]\n",
    "    prob = np.abs(a)**2\n",
    "    if prob > 1e-6 and b[0] == '1':\n",
    "        var_prob += prob\n",
    "print('Operator CDF(%s)' % comparator_value + ' = %.4f' % var_prob)\n",
    "print('Exact    CDF(%s)' % comparator_value + ' = %.4f' % cdf[comparator_value])"
   ]
  },
  {
   "cell_type": "code",
   "execution_count": 1052,
   "metadata": {},
   "outputs": [
    {
     "output_type": "stream",
     "name": "stdout",
     "text": [
      "Test for a single test comparison value:  2\nExact value:    \t0.7740\nEstimated value:\t0.7757\nConfidence interval: \t[0.7702, 0.7812]\n"
     ]
    }
   ],
   "source": [
    "# set target precision and confidence level\n",
    "epsilon_iae = 0.01\n",
    "alpha_iae = 0.05\n",
    "\n",
    "# construct amplitude estimation\n",
    "iae_cdf = IterativeAmplitudeEstimation(state_preparation=cdf_state_preparation,\n",
    "                                      epsilon=epsilon_iae, alpha=alpha_iae,\n",
    "                                      objective_qubits=[len(qr_state)])\n",
    "iae_result_cdf = iae_cdf.run(quantum_instance=Aer.get_backend('qasm_simulator'), shots=100)\n",
    "\n",
    "# print results\n",
    "cdf_conf_int = np.array(iae_result_cdf['confidence_interval'])\n",
    "print(\"Test for a single test comparison value: \", comparator_value)\n",
    "print('Exact value:    \\t%.4f' % cdf[comparator_value])\n",
    "print('Estimated value:\\t%.4f' % iae_result_cdf['estimation'])\n",
    "print('Confidence interval: \\t[%.4f, %.4f]' % tuple(cdf_conf_int))"
   ]
  },
  {
   "source": [
    "Once we have the CDF properly estimated, we can go ahead and get the VaR and CVaR"
   ],
   "cell_type": "markdown",
   "metadata": {}
  },
  {
   "cell_type": "code",
   "execution_count": 1053,
   "metadata": {},
   "outputs": [
    {
     "output_type": "stream",
     "name": "stdout",
     "text": [
      "--------------------------------------------------------------------\n",
      "start bisection search for target value 0.950\n",
      "--------------------------------------------------------------------\n",
      "low_level    low_value    level    value    high_level    high_value\n",
      "--------------------------------------------------------------------\n",
      "-1           0.000         2       0.774     6            1.000\n",
      " 2           0.774         4       0.947     6            1.000\n",
      " 4           0.947         5       0.990     6            1.000\n",
      "--------------------------------------------------------------------\n",
      "finished bisection search\n",
      "--------------------------------------------------------------------\n",
      "VaR:  5\n"
     ]
    }
   ],
   "source": [
    "\n",
    "\"\"\"\n",
    "Determines the smallest level such that the objective value is still larger than the target\n",
    ":param target: target value\n",
    ":param low_level: lowest level to be considered\n",
    ":param high_level: highest level to be considered\n",
    ":param low_value: value of lowest level (will be evaluated if set to None)\n",
    ":param high_value: value of highest level (will be evaluated if set to None)\n",
    ":return: dictionary with level, value, num_eval\n",
    "\"\"\"\n",
    "\n",
    "target_value = 1 - alpha\n",
    "low_level = min(losses) - 1\n",
    "high_level = max(losses)\n",
    "low_value = 0\n",
    "high_value = 1\n",
    "\n",
    "# check whether low and high values are given and evaluated them otherwise\n",
    "print('--------------------------------------------------------------------')\n",
    "print('start bisection search for target value %.3f' % target_value)\n",
    "print('--------------------------------------------------------------------')\n",
    "num_eval = 0\n",
    "\n",
    "# check if low_value already satisfies the condition\n",
    "if low_value > target_value:\n",
    "    level = low_level\n",
    "    value = low_value\n",
    "    print(\"Low value found\")\n",
    "elif low_value == target_value:\n",
    "    level = low_level\n",
    "    value = low_value\n",
    "    print(\"Convergence found\")\n",
    "\n",
    "# check if high_value is above target\n",
    "if high_value < target_value:\n",
    "    level = high_level\n",
    "    value = high_value\n",
    "    print(\"Low value found\")\n",
    "elif high_value == target_value:\n",
    "    level = high_level\n",
    "    value = high_value\n",
    "    print(\"Convergende found\")\n",
    "\n",
    "# perform bisection search until\n",
    "print('low_level    low_value    level    value    high_level    high_value')\n",
    "print('--------------------------------------------------------------------')\n",
    "while high_level - low_level > 1:\n",
    "\n",
    "    level = int(np.round((high_level + low_level) / 2.0))\n",
    "    num_eval += 1\n",
    "\n",
    "    cdf_state_pareparation = build_cdf_state_preparation(level, uncertainty_model, weighted_adder)\n",
    "    iae_var = IterativeAmplitudeEstimation(state_preparation=cdf_state_pareparation, epsilon=0.01, alpha=0.05, objective_qubits = [uncertainty_model.num_qubits])\n",
    "    value = iae_var.run(quantum_instance=backend, shots=100)['estimation']\n",
    "\n",
    "    print('%2d           %.3f        %2d       %.3f    %2d            %.3f' % (low_level, low_value, level, value, high_level, high_value))\n",
    "\n",
    "    if value >= target_value:\n",
    "        high_level = level\n",
    "        high_value = value\n",
    "    else:\n",
    "        low_level = level\n",
    "        low_value = value\n",
    "\n",
    "\n",
    "# return high value after bisection search\n",
    "print('--------------------------------------------------------------------')\n",
    "print('finished bisection search')\n",
    "print('--------------------------------------------------------------------')\n",
    "print('VaR: ', level)\n",
    "var = level\n",
    "estimated_probability = value\n"
   ]
  },
  {
   "cell_type": "code",
   "execution_count": 1054,
   "metadata": {},
   "outputs": [
    {
     "output_type": "stream",
     "name": "stdout",
     "text": [
      "Estimated Value at Risk: $   500,000\nExact Value at Risk: $   500,000\nEstimated Probability:    0.990\nExact Probability:        0.990\n"
     ]
    }
   ],
   "source": [
    "print('Estimated Value at Risk: $ {0:9,.0f}'.format(var * lgd_factor))\n",
    "print('Exact Value at Risk: $ {0:9,.0f}'.format(exact_var * lgd_factor))\n",
    "\n",
    "print('Estimated Probability:    %.3f' % estimated_probability)\n",
    "print('Exact Probability:        %.3f' % cdf[exact_var])"
   ]
  },
  {
   "source": [
    "# Lastly, get CVaR\n",
    "\n",
    "Expected value of the loss conditional to it being larger than or equal to the VaR. To do so, we evaluate a piecewise linear objective function 𝑓(𝐿), dependent on the total loss 𝐿\n",
    "\n",
    "$$ \\begin{split} f(L) = \\begin{cases} 0 & \\text{if}\\quad L \\leq VaR \\\\L & \\text{if}\\quad L > VaR. \\end{cases}\\end{split} $$\n",
    "\n",
    "To normalize, we have to divide the resulting expected value by the VaR-probabilit\n"
   ],
   "cell_type": "markdown",
   "metadata": {}
  },
  {
   "cell_type": "code",
   "execution_count": 1055,
   "metadata": {},
   "outputs": [
    {
     "output_type": "execute_result",
     "data": {
      "text/plain": [
       "5"
      ]
     },
     "metadata": {},
     "execution_count": 1055
    }
   ],
   "source": [
    "var"
   ]
  },
  {
   "cell_type": "code",
   "execution_count": 1056,
   "metadata": {},
   "outputs": [
    {
     "output_type": "execute_result",
     "data": {
      "text/plain": [
       "          ┌─────────┐┌──────┐┌─────────┐┌─────────┐\n",
       "q15904_0: ┤0        ├┤0     ├┤0        ├┤0        ├\n",
       "          │         ││      ││         ││         │\n",
       "q15904_1: ┤1        ├┤1     ├┤1        ├┤1        ├\n",
       "          │  LinRot ││      ││  LinRot ││         │\n",
       "q15904_2: ┤2        ├┤2     ├┤2        ├┤2        ├\n",
       "          │         ││      ││         ││         │\n",
       "q15905_0: ┤3        ├┤  cmp ├┤3        ├┤  cmp_dg ├\n",
       "          └─────────┘│      │└────┬────┘│         │\n",
       "  a209_0: ───────────┤3     ├─────■─────┤3        ├\n",
       "                     │      │           │         │\n",
       "  a209_1: ───────────┤4     ├───────────┤4        ├\n",
       "                     │      │           │         │\n",
       "  a209_2: ───────────┤5     ├───────────┤5        ├\n",
       "                     └──────┘           └─────────┘"
      ],
      "text/html": "<pre style=\"word-wrap: normal;white-space: pre;background: #fff0;line-height: 1.1;font-family: &quot;Courier New&quot;,Courier,monospace\">          ┌─────────┐┌──────┐┌─────────┐┌─────────┐\nq15904_0: ┤0        ├┤0     ├┤0        ├┤0        ├\n          │         ││      ││         ││         │\nq15904_1: ┤1        ├┤1     ├┤1        ├┤1        ├\n          │  LinRot ││      ││  LinRot ││         │\nq15904_2: ┤2        ├┤2     ├┤2        ├┤2        ├\n          │         ││      ││         ││         │\nq15905_0: ┤3        ├┤  cmp ├┤3        ├┤  cmp_dg ├\n          └─────────┘│      │└────┬────┘│         │\n  a209_0: ───────────┤3     ├─────■─────┤3        ├\n                     │      │           │         │\n  a209_1: ───────────┤4     ├───────────┤4        ├\n                     │      │           │         │\n  a209_2: ───────────┤5     ├───────────┤5        ├\n                     └──────┘           └─────────┘</pre>"
     },
     "metadata": {},
     "execution_count": 1056
    }
   ],
   "source": [
    "breakpoints = [0, var]\n",
    "slopes = [0, 1]\n",
    "offsets = [0, 0]  # subtract VaR and add it later to the estimate\n",
    "f_min = 0\n",
    "f_max = sum(loss_given_default) - var\n",
    "c_approx = 0.25\n",
    "\n",
    "cvar_objective = LinearAmplitudeFunction(\n",
    "    weighted_adder.num_sum_qubits,\n",
    "    slopes,\n",
    "    offsets,\n",
    "    domain=(0, 2**weighted_adder.num_sum_qubits - 1),\n",
    "    image=(f_min, f_max),\n",
    "    rescaling_factor=c_approx,\n",
    "    breakpoints=breakpoints\n",
    ")\n",
    "\n",
    "cvar_objective.draw()"
   ]
  },
  {
   "cell_type": "code",
   "execution_count": 1057,
   "metadata": {},
   "outputs": [
    {
     "output_type": "execute_result",
     "data": {
      "text/plain": [
       "             ┌───────┐┌─────────┐      ┌────────────┐\n",
       "    state_0: ┤0      ├┤0        ├──────┤0           ├\n",
       "             │       ││         │      │            │\n",
       "    state_1: ┤1      ├┤1        ├──────┤1           ├\n",
       "             │       ││         │      │            │\n",
       "    state_2: ┤2      ├┤2        ├──────┤2           ├\n",
       "             │       ││         │      │            │\n",
       "    state_3: ┤3      ├┤3        ├──────┤3           ├\n",
       "             │  P(X) ││         │      │            │\n",
       "    state_4: ┤4      ├┤4        ├──────┤4           ├\n",
       "             │       ││         │      │            │\n",
       "    state_5: ┤5      ├┤5        ├──────┤5           ├\n",
       "             │       ││         │      │            │\n",
       "    state_6: ┤6      ├┤6        ├──────┤6           ├\n",
       "             │       ││         │      │            │\n",
       "    state_7: ┤7      ├┤7  adder ├──────┤7  adder_dg ├\n",
       "             └───────┘│         │┌────┐│            │\n",
       "objective_0: ─────────┤         ├┤3   ├┤            ├\n",
       "                      │         ││    ││            │\n",
       "      sum_0: ─────────┤8        ├┤0   ├┤8           ├\n",
       "                      │         ││    ││            │\n",
       "      sum_1: ─────────┤9        ├┤1   ├┤9           ├\n",
       "                      │         ││    ││            │\n",
       "      sum_2: ─────────┤10       ├┤2   ├┤10          ├\n",
       "                      │         ││  F ││            │\n",
       "    carry_0: ─────────┤11       ├┤4   ├┤11          ├\n",
       "                      │         ││    ││            │\n",
       "    carry_1: ─────────┤12       ├┤5   ├┤12          ├\n",
       "                      │         ││    ││            │\n",
       "  control_0: ─────────┤13       ├┤    ├┤13          ├\n",
       "                      └─────────┘│    │└────────────┘\n",
       "     work_0: ────────────────────┤6   ├──────────────\n",
       "                                 └────┘              "
      ],
      "text/html": "<pre style=\"word-wrap: normal;white-space: pre;background: #fff0;line-height: 1.1;font-family: &quot;Courier New&quot;,Courier,monospace\">             ┌───────┐┌─────────┐      ┌────────────┐\n    state_0: ┤0      ├┤0        ├──────┤0           ├\n             │       ││         │      │            │\n    state_1: ┤1      ├┤1        ├──────┤1           ├\n             │       ││         │      │            │\n    state_2: ┤2      ├┤2        ├──────┤2           ├\n             │       ││         │      │            │\n    state_3: ┤3      ├┤3        ├──────┤3           ├\n             │  P(X) ││         │      │            │\n    state_4: ┤4      ├┤4        ├──────┤4           ├\n             │       ││         │      │            │\n    state_5: ┤5      ├┤5        ├──────┤5           ├\n             │       ││         │      │            │\n    state_6: ┤6      ├┤6        ├──────┤6           ├\n             │       ││         │      │            │\n    state_7: ┤7      ├┤7  adder ├──────┤7  adder_dg ├\n             └───────┘│         │┌────┐│            │\nobjective_0: ─────────┤         ├┤3   ├┤            ├\n                      │         ││    ││            │\n      sum_0: ─────────┤8        ├┤0   ├┤8           ├\n                      │         ││    ││            │\n      sum_1: ─────────┤9        ├┤1   ├┤9           ├\n                      │         ││    ││            │\n      sum_2: ─────────┤10       ├┤2   ├┤10          ├\n                      │         ││  F ││            │\n    carry_0: ─────────┤11       ├┤4   ├┤11          ├\n                      │         ││    ││            │\n    carry_1: ─────────┤12       ├┤5   ├┤12          ├\n                      │         ││    ││            │\n  control_0: ─────────┤13       ├┤    ├┤13          ├\n                      └─────────┘│    │└────────────┘\n     work_0: ────────────────────┤6   ├──────────────\n                                 └────┘              </pre>"
     },
     "metadata": {},
     "execution_count": 1057
    }
   ],
   "source": [
    "# define the registers for convenience and readability\n",
    "cvar_qr_state = QuantumRegister(uncertainty_model.num_qubits, 'state')\n",
    "cvar_qr_sum = QuantumRegister(weighted_adder.num_sum_qubits, 'sum')\n",
    "cvar_qr_carry = QuantumRegister(weighted_adder.num_carry_qubits, 'carry')\n",
    "cvar_qr_obj = QuantumRegister(1, 'objective')\n",
    "cvar_qr_work = QuantumRegister(cvar_objective.num_ancillas - len(cvar_qr_carry), 'work')\n",
    "\n",
    "if weighted_adder.num_control_qubits > 0:\n",
    "    cvar_qr_control = QuantumRegister(weighted_adder.num_control_qubits, 'control')\n",
    "    cvar_state_preparation = QuantumCircuit(cvar_qr_state, cvar_qr_obj, cvar_qr_sum, qr_carry, cvar_qr_control, cvar_qr_work, name='A')\n",
    "    cvar_state_preparation.append(uncertainty_model, cvar_qr_state)\n",
    "    cvar_state_preparation.append(weighted_adder, cvar_qr_state[:] + cvar_qr_sum[:] + cvar_qr_carry[:] + cvar_qr_control[:])\n",
    "    cvar_state_preparation.append(cvar_objective, cvar_qr_sum[:] + cvar_qr_obj[:] + cvar_qr_carry[:] + cvar_qr_work[:])\n",
    "    cvar_state_preparation.append(weighted_adder.inverse(), cvar_qr_state[:] + cvar_qr_sum[:] + cvar_qr_carry[:] + cvar_qr_control[:])\n",
    "else:\n",
    "    cvar_state_preparation = QuantumCircuit(cvar_qr_state, cvar_qr_obj, cvar_qr_sum, qr_carry, cvar_qr_work, name='A')\n",
    "    cvar_state_preparation.append(uncertainty_model, cvar_qr_state)\n",
    "    cvar_state_preparation.append(weighted_adder, cvar_qr_state[:] + cvar_qr_sum[:] + cvar_qr_carry[:])\n",
    "    cvar_state_preparation.append(cvar_objective, cvar_qr_sum[:] + cvar_qr_obj[:] + cvar_qr_carry[:] + cvar_qr_work[:])\n",
    "    cvar_state_preparation.append(weighted_adder.inverse(), cvar_qr_state[:] + cvar_qr_sum[:] + cvar_qr_carry[:])\n",
    "\n",
    "cvar_state_preparation.draw()\n"
   ]
  },
  {
   "cell_type": "code",
   "execution_count": 1058,
   "metadata": {},
   "outputs": [
    {
     "output_type": "stream",
     "name": "stdout",
     "text": [
      "Estimated CVaR: $   717,400\nExact CVaR: $   600,000\n"
     ]
    }
   ],
   "source": [
    "job = execute(cvar_state_preparation, backend=Aer.get_backend('statevector_simulator'))\n",
    "value = 0\n",
    "for i, a in enumerate(job.result().get_statevector()):\n",
    "    b = ('{0:0%sb}' % (len(cvar_qr_state) + 1)).format(i)[-(len(cvar_qr_state) + 1):]\n",
    "    am = np.round(np.real(a), decimals=4)\n",
    "    if np.abs(am) > 1e-6 and b[0] == '1':\n",
    "        value += am**2\n",
    "\n",
    "# normalize and add VaR to estimate\n",
    "value = cvar_objective.post_processing(value)\n",
    "d = (1.0 - estimated_probability)\n",
    "v = value / d if d != 0 else 0\n",
    "normalized_cvar = v + var\n",
    "print('Estimated CVaR: $ {0:9,.0f}'.format(normalized_cvar * lgd_factor))\n",
    "print('Exact CVaR: $ {0:9,.0f}'.format(exact_cvar * lgd_factor))"
   ]
  },
  {
   "cell_type": "code",
   "execution_count": 1059,
   "metadata": {},
   "outputs": [],
   "source": [
    "# set target precision and confidence level\n",
    "epsilon_iae = 0.01\n",
    "alpha_iae = 0.05\n",
    "\n",
    "# construct amplitude estimation\n",
    "ae_cvar = IterativeAmplitudeEstimation(state_preparation=cvar_state_preparation,\n",
    "                                       epsilon=epsilon_iae, alpha=alpha_iae,\n",
    "                                       objective_qubits=[len(cvar_qr_state)],\n",
    "                                       post_processing=cvar_objective.post_processing)\n",
    "result_cvar = ae_cvar.run(quantum_instance=Aer.get_backend('qasm_simulator'), shots=100)"
   ]
  },
  {
   "cell_type": "code",
   "execution_count": 1062,
   "metadata": {},
   "outputs": [
    {
     "output_type": "stream",
     "name": "stdout",
     "text": [
      "Estimated CVaR: $   704,327\nExact CVaR: $   600,000\nError:  0.1481232712991506\n"
     ]
    }
   ],
   "source": [
    "# print results\n",
    "d = (1.0 - estimated_probability)\n",
    "v = result_cvar['estimation'] / d if d != 0 else 0\n",
    "print('Estimated CVaR: $ {0:9,.0f}'.format((v + var) * lgd_factor))\n",
    "print('Exact CVaR: $ {0:9,.0f}'.format(exact_cvar * lgd_factor))\n",
    "print('Error: ', 1-(exact_cvar) / )"
   ]
  },
  {
   "cell_type": "code",
   "execution_count": null,
   "metadata": {},
   "outputs": [],
   "source": []
  }
 ]
}